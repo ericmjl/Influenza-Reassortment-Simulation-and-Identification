{
 "metadata": {
  "name": "",
  "signature": "sha256:2fa7d463c4a0744c87b8caa4adf9a523c47339e74d7d62f3dea4eed130c19d29"
 },
 "nbformat": 3,
 "nbformat_minor": 0,
 "worksheets": [
  {
   "cells": [
    {
     "cell_type": "code",
     "collapsed": false,
     "input": [
      "from pathogen import Pathogen\n",
      "from segment import Segment\n",
      "from sequence import Sequence\n",
      "from simulator import Simulator"
     ],
     "language": "python",
     "metadata": {},
     "outputs": [],
     "prompt_number": 165
    },
    {
     "cell_type": "code",
     "collapsed": false,
     "input": [
      "# Initialize sequences\n",
      "sequence_PB2 = Sequence(length=1000) #this is representative of segment 1, PB2\n",
      "sequence_H1 = Sequence(length=1000) #this is representative of segment 4, H1\n",
      "sequence_H2 = Sequence(length=1000) #this is representative of segment 4, H2"
     ],
     "language": "python",
     "metadata": {},
     "outputs": [],
     "prompt_number": 166
    },
    {
     "cell_type": "code",
     "collapsed": false,
     "input": [
      "# Initialize segments\n",
      "segment_PB2 = Segment(segment_number=1, substitution_rate=1E-3, sequence=sequence_PB2)\n",
      "segment_H1 = Segment(segment_number=4, substitution_rate=1E-2, sequence=sequence_H1)\n",
      "segment_H2 = Segment(segment_number=4, substitution_rate=1E-2, sequence=sequence_H2)"
     ],
     "language": "python",
     "metadata": {},
     "outputs": [],
     "prompt_number": 167
    },
    {
     "cell_type": "code",
     "collapsed": false,
     "input": [
      "# Add segments to seed viruses\n",
      "virus_H1 = Pathogen(segments=[segment_PB2, segment_H1], creation_time=0, progeny_size=(1.2, 0.5))\n",
      "virus_H2 = Pathogen(segments=[segment_PB2, segment_H2], creation_time=0, progeny_size=(1.2, 0.5))"
     ],
     "language": "python",
     "metadata": {},
     "outputs": [],
     "prompt_number": 168
    },
    {
     "cell_type": "code",
     "collapsed": false,
     "input": [
      "# Subclass the Simulator class for a specific implementation of the increment_timestep() function.\n",
      "from random import random, choice, sample\n",
      "class ViralSimulator(Simulator):\n",
      "    \n",
      "    def increment_timestep(self):\n",
      "        cointoss = random()\n",
      "        threshold = 0.8\n",
      "        \n",
      "        if cointoss <= threshold:\n",
      "            chosen_virus = choice(self.pathogens)\n",
      "            new_virus = chosen_virus.replicate(current_time=self.current_time)\n",
      "            \n",
      "        if cointoss > threshold:\n",
      "            [virus1, virus2] = sample(self.pathogens, 2)\n",
      "            new_virus = virus1.reassort_with(virus2, current_time=self.current_time)\n",
      "        \n",
      "        self.pathogens.append(new_virus)"
     ],
     "language": "python",
     "metadata": {},
     "outputs": [],
     "prompt_number": 169
    },
    {
     "cell_type": "code",
     "collapsed": false,
     "input": [
      "s = ViralSimulator()"
     ],
     "language": "python",
     "metadata": {},
     "outputs": [],
     "prompt_number": 170
    },
    {
     "cell_type": "code",
     "collapsed": false,
     "input": [
      "s.add_pathogens([virus_H1, virus_H2])"
     ],
     "language": "python",
     "metadata": {},
     "outputs": [],
     "prompt_number": 171
    },
    {
     "cell_type": "code",
     "collapsed": false,
     "input": [
      "s.run(timesteps=10)"
     ],
     "language": "python",
     "metadata": {},
     "outputs": [
      {
       "output_type": "stream",
       "stream": "stdout",
       "text": [
        "{69284: [1, 4]}\n",
        "{831c3: [1, 4]}\n",
        "{831c3: [1, 4]}\n",
        "{69284: [1, 4]}\n",
        "{69284: [1, 4]}\n",
        "{69284: [1, 4]}\n",
        "{69284: [1, 4]}\n"
       ]
      }
     ],
     "prompt_number": 172
    },
    {
     "cell_type": "code",
     "collapsed": false,
     "input": [
      "s.write_transmission_graph(outfile_name=\"outfile_test\", folder_name='Network Pickles')"
     ],
     "language": "python",
     "metadata": {},
     "outputs": [],
     "prompt_number": 173
    },
    {
     "cell_type": "code",
     "collapsed": false,
     "input": [
      "s.write_sequences(outfile_name=\"outfile_test\", folder_name='FASTA Files')"
     ],
     "language": "python",
     "metadata": {},
     "outputs": [],
     "prompt_number": 174
    },
    {
     "cell_type": "markdown",
     "metadata": {},
     "source": [
      "# Prototype code for Reconstructor class"
     ]
    },
    {
     "cell_type": "code",
     "collapsed": false,
     "input": [
      "from Bio import SeqIO"
     ],
     "language": "python",
     "metadata": {},
     "outputs": [],
     "prompt_number": 175
    },
    {
     "cell_type": "code",
     "collapsed": false,
     "input": [
      "# Initialize a dictionary that contains all of the sequences, split by segment.\n",
      "sequences_dictionary = dict()\n",
      "sequences_dictionary[1] = []\n",
      "sequences_dictionary[4] = []\n",
      "sequences_dictionary"
     ],
     "language": "python",
     "metadata": {},
     "outputs": [
      {
       "metadata": {},
       "output_type": "pyout",
       "prompt_number": 176,
       "text": [
        "{1: [], 4: []}"
       ]
      }
     ],
     "prompt_number": 176
    },
    {
     "cell_type": "code",
     "collapsed": false,
     "input": [
      "# Read in the sequences\n",
      "sequences = [record for record in SeqIO.parse('FASTA Files/outfile_test.fasta', 'fasta')]\n",
      "sequences"
     ],
     "language": "python",
     "metadata": {},
     "outputs": [
      {
       "metadata": {},
       "output_type": "pyout",
       "prompt_number": 177,
       "text": [
        "[SeqRecord(seq=Seq('GTCGAGCTCTCAAGGAATGTCCAGTCTTGTCCCCCGTACTGCCGCCAGGAAAGT...TTA', SingleLetterAlphabet()), id='692849d26ec3c7ca449fa1c1e1e7f5613aed256b81506b596912279aed4f65da0f8b44385cf41c85afdfc04a03335253b9024b95dcdc285483934f6fcb1befb6|1|0', name='692849d26ec3c7ca449fa1c1e1e7f5613aed256b81506b596912279aed4f65da0f8b44385cf41c85afdfc04a03335253b9024b95dcdc285483934f6fcb1befb6|1|0', description='692849d26ec3c7ca449fa1c1e1e7f5613aed256b81506b596912279aed4f65da0f8b44385cf41c85afdfc04a03335253b9024b95dcdc285483934f6fcb1befb6|1|0 <unknown description>', dbxrefs=[]),\n",
        " SeqRecord(seq=Seq('ATCGTCAAAGGAGGGAGTCAGGCTAGGGAGTGCTGCCGACTGAGACGCGACCAC...TCG', SingleLetterAlphabet()), id='692849d26ec3c7ca449fa1c1e1e7f5613aed256b81506b596912279aed4f65da0f8b44385cf41c85afdfc04a03335253b9024b95dcdc285483934f6fcb1befb6|4|0', name='692849d26ec3c7ca449fa1c1e1e7f5613aed256b81506b596912279aed4f65da0f8b44385cf41c85afdfc04a03335253b9024b95dcdc285483934f6fcb1befb6|4|0', description='692849d26ec3c7ca449fa1c1e1e7f5613aed256b81506b596912279aed4f65da0f8b44385cf41c85afdfc04a03335253b9024b95dcdc285483934f6fcb1befb6|4|0 <unknown description>', dbxrefs=[]),\n",
        " SeqRecord(seq=Seq('GTCGAGCTCTCAAGGAATGTCCAGTCTTGTCCCCCGTACTGCCGCCAGGAAAGT...TTA', SingleLetterAlphabet()), id='d180981e8305a258cef637ad704326622ebffe03b74658bebb86a1532f55f4bc3382eb4a8f3ef8b6c779704799439cab6656a80c4a27d40b70100f20e5afbfa2|1|0', name='d180981e8305a258cef637ad704326622ebffe03b74658bebb86a1532f55f4bc3382eb4a8f3ef8b6c779704799439cab6656a80c4a27d40b70100f20e5afbfa2|1|0', description='d180981e8305a258cef637ad704326622ebffe03b74658bebb86a1532f55f4bc3382eb4a8f3ef8b6c779704799439cab6656a80c4a27d40b70100f20e5afbfa2|1|0 <unknown description>', dbxrefs=[]),\n",
        " SeqRecord(seq=Seq('GCTGTAAATTCTAACGTCCGGCGGCATTAACTGTATTGTGCGAGAATATTGGCA...GGC', SingleLetterAlphabet()), id='d180981e8305a258cef637ad704326622ebffe03b74658bebb86a1532f55f4bc3382eb4a8f3ef8b6c779704799439cab6656a80c4a27d40b70100f20e5afbfa2|4|0', name='d180981e8305a258cef637ad704326622ebffe03b74658bebb86a1532f55f4bc3382eb4a8f3ef8b6c779704799439cab6656a80c4a27d40b70100f20e5afbfa2|4|0', description='d180981e8305a258cef637ad704326622ebffe03b74658bebb86a1532f55f4bc3382eb4a8f3ef8b6c779704799439cab6656a80c4a27d40b70100f20e5afbfa2|4|0 <unknown description>', dbxrefs=[]),\n",
        " SeqRecord(seq=Seq('GTCGAGCTCTCAAGGAATGTCCAGTCTTGTCCCCCGTACTGCCGCCAGGAAAGT...TTA', SingleLetterAlphabet()), id='831c35cac2b3cb1cbffd0a48532371662ee14d1c610c7447e5052d82872d1d1ad6c5f9b2fe2047e11ae71f4fbebade9e31adbd939bed31a47c96d24ccc9a346b|1|1', name='831c35cac2b3cb1cbffd0a48532371662ee14d1c610c7447e5052d82872d1d1ad6c5f9b2fe2047e11ae71f4fbebade9e31adbd939bed31a47c96d24ccc9a346b|1|1', description='831c35cac2b3cb1cbffd0a48532371662ee14d1c610c7447e5052d82872d1d1ad6c5f9b2fe2047e11ae71f4fbebade9e31adbd939bed31a47c96d24ccc9a346b|1|1 <unknown description>', dbxrefs=[]),\n",
        " SeqRecord(seq=Seq('ATCGTCAAAGGAGGGAGTCAGGCTAGGGAGTGCTGCCGACTGAGACGCGACCAC...TCG', SingleLetterAlphabet()), id='831c35cac2b3cb1cbffd0a48532371662ee14d1c610c7447e5052d82872d1d1ad6c5f9b2fe2047e11ae71f4fbebade9e31adbd939bed31a47c96d24ccc9a346b|4|1', name='831c35cac2b3cb1cbffd0a48532371662ee14d1c610c7447e5052d82872d1d1ad6c5f9b2fe2047e11ae71f4fbebade9e31adbd939bed31a47c96d24ccc9a346b|4|1', description='831c35cac2b3cb1cbffd0a48532371662ee14d1c610c7447e5052d82872d1d1ad6c5f9b2fe2047e11ae71f4fbebade9e31adbd939bed31a47c96d24ccc9a346b|4|1 <unknown description>', dbxrefs=[]),\n",
        " SeqRecord(seq=Seq('GTCGAGCTCTCAAGGAATGTCCAGTCTTGTCCCCCGTACTGCCGCCAGGAAAGT...TTA', SingleLetterAlphabet()), id='0975e343562fdb3323e5b96fa3b0478010bf87a6c645fbd873d20fc66201f6618510f349271d129bc5a5e68c5a081cb2ea84db421cccb3817ec041ef77c8b45a|1|2', name='0975e343562fdb3323e5b96fa3b0478010bf87a6c645fbd873d20fc66201f6618510f349271d129bc5a5e68c5a081cb2ea84db421cccb3817ec041ef77c8b45a|1|2', description='0975e343562fdb3323e5b96fa3b0478010bf87a6c645fbd873d20fc66201f6618510f349271d129bc5a5e68c5a081cb2ea84db421cccb3817ec041ef77c8b45a|1|2 <unknown description>', dbxrefs=[]),\n",
        " SeqRecord(seq=Seq('ATCGTCAAAGGAGGGAGTCAGGCTAGGGAGTGCTGCCGACTGAGACGCGACCAC...TCG', SingleLetterAlphabet()), id='0975e343562fdb3323e5b96fa3b0478010bf87a6c645fbd873d20fc66201f6618510f349271d129bc5a5e68c5a081cb2ea84db421cccb3817ec041ef77c8b45a|4|2', name='0975e343562fdb3323e5b96fa3b0478010bf87a6c645fbd873d20fc66201f6618510f349271d129bc5a5e68c5a081cb2ea84db421cccb3817ec041ef77c8b45a|4|2', description='0975e343562fdb3323e5b96fa3b0478010bf87a6c645fbd873d20fc66201f6618510f349271d129bc5a5e68c5a081cb2ea84db421cccb3817ec041ef77c8b45a|4|2 <unknown description>', dbxrefs=[]),\n",
        " SeqRecord(seq=Seq('GTCGAGCTCTCAAGGAATGTCCAGTCTTGTCCCCCGTACTGCCGCCAGGAAAGT...TTA', SingleLetterAlphabet()), id='3781d2faed9f94caf4d94674b4c38a0e52ff288ffc6b89b545f1e4e028b47013eb3ae5c795073268604e765a1a3fd68df45124aa0596b88ed19676b728411844|1|3', name='3781d2faed9f94caf4d94674b4c38a0e52ff288ffc6b89b545f1e4e028b47013eb3ae5c795073268604e765a1a3fd68df45124aa0596b88ed19676b728411844|1|3', description='3781d2faed9f94caf4d94674b4c38a0e52ff288ffc6b89b545f1e4e028b47013eb3ae5c795073268604e765a1a3fd68df45124aa0596b88ed19676b728411844|1|3 <unknown description>', dbxrefs=[]),\n",
        " SeqRecord(seq=Seq('ATCGTCAAAGGAGGGAGTCAGGCTAGGGAGTGCTGCCGACTGAGACGCGACCAC...TCG', SingleLetterAlphabet()), id='3781d2faed9f94caf4d94674b4c38a0e52ff288ffc6b89b545f1e4e028b47013eb3ae5c795073268604e765a1a3fd68df45124aa0596b88ed19676b728411844|4|3', name='3781d2faed9f94caf4d94674b4c38a0e52ff288ffc6b89b545f1e4e028b47013eb3ae5c795073268604e765a1a3fd68df45124aa0596b88ed19676b728411844|4|3', description='3781d2faed9f94caf4d94674b4c38a0e52ff288ffc6b89b545f1e4e028b47013eb3ae5c795073268604e765a1a3fd68df45124aa0596b88ed19676b728411844|4|3 <unknown description>', dbxrefs=[]),\n",
        " SeqRecord(seq=Seq('GTCGAGCTCTCAAGGAATGTCCAGTCTTGTCCCCCGTACTGCCGCCAGGAAAGT...TTA', SingleLetterAlphabet()), id='c5efe5adf8befeaa935ec65e8580a1b4ff48d6d2f38e95ac11f433264638e78ef78c52fb1f8e731c2218e7d54c5ade6c458af73b7185a2c63ab1cf5bd8772e2d|1|4', name='c5efe5adf8befeaa935ec65e8580a1b4ff48d6d2f38e95ac11f433264638e78ef78c52fb1f8e731c2218e7d54c5ade6c458af73b7185a2c63ab1cf5bd8772e2d|1|4', description='c5efe5adf8befeaa935ec65e8580a1b4ff48d6d2f38e95ac11f433264638e78ef78c52fb1f8e731c2218e7d54c5ade6c458af73b7185a2c63ab1cf5bd8772e2d|1|4 <unknown description>', dbxrefs=[]),\n",
        " SeqRecord(seq=Seq('ATCGTCAAAGGAGGGAGTCAGGCTAGGGAGTGCTGCCGACTGAGACGCGACCAC...TCG', SingleLetterAlphabet()), id='c5efe5adf8befeaa935ec65e8580a1b4ff48d6d2f38e95ac11f433264638e78ef78c52fb1f8e731c2218e7d54c5ade6c458af73b7185a2c63ab1cf5bd8772e2d|4|4', name='c5efe5adf8befeaa935ec65e8580a1b4ff48d6d2f38e95ac11f433264638e78ef78c52fb1f8e731c2218e7d54c5ade6c458af73b7185a2c63ab1cf5bd8772e2d|4|4', description='c5efe5adf8befeaa935ec65e8580a1b4ff48d6d2f38e95ac11f433264638e78ef78c52fb1f8e731c2218e7d54c5ade6c458af73b7185a2c63ab1cf5bd8772e2d|4|4 <unknown description>', dbxrefs=[]),\n",
        " SeqRecord(seq=Seq('GTCGAGCTCTCAAGGAATGTCCAGTCTTGTCCCCCGTACTGCCGCCAGGAAAGT...TTA', SingleLetterAlphabet()), id='263874d2aa536cfb8ea4814c43bb7f234bd84dfb086e2d786628ca97fed4797daf211034e91e976efa3970fdfd06f4b4805ec1581538084d68d6f37abdde6048|1|5', name='263874d2aa536cfb8ea4814c43bb7f234bd84dfb086e2d786628ca97fed4797daf211034e91e976efa3970fdfd06f4b4805ec1581538084d68d6f37abdde6048|1|5', description='263874d2aa536cfb8ea4814c43bb7f234bd84dfb086e2d786628ca97fed4797daf211034e91e976efa3970fdfd06f4b4805ec1581538084d68d6f37abdde6048|1|5 <unknown description>', dbxrefs=[]),\n",
        " SeqRecord(seq=Seq('GCTGTAAATTCTAACGTCCGGCGGCATTAACTGTATTGTGCGAGAATATTGGCA...GGC', SingleLetterAlphabet()), id='263874d2aa536cfb8ea4814c43bb7f234bd84dfb086e2d786628ca97fed4797daf211034e91e976efa3970fdfd06f4b4805ec1581538084d68d6f37abdde6048|4|5', name='263874d2aa536cfb8ea4814c43bb7f234bd84dfb086e2d786628ca97fed4797daf211034e91e976efa3970fdfd06f4b4805ec1581538084d68d6f37abdde6048|4|5', description='263874d2aa536cfb8ea4814c43bb7f234bd84dfb086e2d786628ca97fed4797daf211034e91e976efa3970fdfd06f4b4805ec1581538084d68d6f37abdde6048|4|5 <unknown description>', dbxrefs=[]),\n",
        " SeqRecord(seq=Seq('GTCGAGCTCTCAAGGAATGTCCAGTCTTGTCCCCCGTACTGCCGCCAGGAAAGT...TTA', SingleLetterAlphabet()), id='707717e2ff3cfd92d31f5d86c4403fefa13060f9aa773909554442e795458af46e40533c6bf64f19a1b9d2da36493d3a40f900ade173d570aabeb3bca3f689dd|1|6', name='707717e2ff3cfd92d31f5d86c4403fefa13060f9aa773909554442e795458af46e40533c6bf64f19a1b9d2da36493d3a40f900ade173d570aabeb3bca3f689dd|1|6', description='707717e2ff3cfd92d31f5d86c4403fefa13060f9aa773909554442e795458af46e40533c6bf64f19a1b9d2da36493d3a40f900ade173d570aabeb3bca3f689dd|1|6 <unknown description>', dbxrefs=[]),\n",
        " SeqRecord(seq=Seq('ATCGTCAAAGGAGGGAGTCAGGCTAGGGAGTGCTGCCGACTGAGACGCGACCAC...TCG', SingleLetterAlphabet()), id='707717e2ff3cfd92d31f5d86c4403fefa13060f9aa773909554442e795458af46e40533c6bf64f19a1b9d2da36493d3a40f900ade173d570aabeb3bca3f689dd|4|6', name='707717e2ff3cfd92d31f5d86c4403fefa13060f9aa773909554442e795458af46e40533c6bf64f19a1b9d2da36493d3a40f900ade173d570aabeb3bca3f689dd|4|6', description='707717e2ff3cfd92d31f5d86c4403fefa13060f9aa773909554442e795458af46e40533c6bf64f19a1b9d2da36493d3a40f900ade173d570aabeb3bca3f689dd|4|6 <unknown description>', dbxrefs=[]),\n",
        " SeqRecord(seq=Seq('GTCGAGCTCTCAAGGAATGTCCAGTCTTGTCCCCCGTACTGCCGCCAGGAAAGT...TTA', SingleLetterAlphabet()), id='64d2e48e858c44819b4b649ae4865fd2929797817882b50f5e1df1dd1b7d249e5d6e29a01df7d3ebc44b137193dde97e72352b6ebe0f250e959a11b6e22980ae|1|7', name='64d2e48e858c44819b4b649ae4865fd2929797817882b50f5e1df1dd1b7d249e5d6e29a01df7d3ebc44b137193dde97e72352b6ebe0f250e959a11b6e22980ae|1|7', description='64d2e48e858c44819b4b649ae4865fd2929797817882b50f5e1df1dd1b7d249e5d6e29a01df7d3ebc44b137193dde97e72352b6ebe0f250e959a11b6e22980ae|1|7 <unknown description>', dbxrefs=[]),\n",
        " SeqRecord(seq=Seq('ATCGTCAAAGGAGGGAGTCAGGCTAGGGAGTGCTGCCGACTGAGACGCGACCAC...TCG', SingleLetterAlphabet()), id='64d2e48e858c44819b4b649ae4865fd2929797817882b50f5e1df1dd1b7d249e5d6e29a01df7d3ebc44b137193dde97e72352b6ebe0f250e959a11b6e22980ae|4|7', name='64d2e48e858c44819b4b649ae4865fd2929797817882b50f5e1df1dd1b7d249e5d6e29a01df7d3ebc44b137193dde97e72352b6ebe0f250e959a11b6e22980ae|4|7', description='64d2e48e858c44819b4b649ae4865fd2929797817882b50f5e1df1dd1b7d249e5d6e29a01df7d3ebc44b137193dde97e72352b6ebe0f250e959a11b6e22980ae|4|7 <unknown description>', dbxrefs=[]),\n",
        " SeqRecord(seq=Seq('GTCGAGCTCTCAAGGAATGTCCAGTCTTGTCCCCCGTACTGCCGCCAGGAAAGT...TTA', SingleLetterAlphabet()), id='4d4b404a687674a24ace1c89bde100f311b77a2e5546c08f79ac9bf0716fd5964812e8eb7edc52cfb88c0ffa0f99d40541abcd9bde7a503bf6b71f330fd07136|1|8', name='4d4b404a687674a24ace1c89bde100f311b77a2e5546c08f79ac9bf0716fd5964812e8eb7edc52cfb88c0ffa0f99d40541abcd9bde7a503bf6b71f330fd07136|1|8', description='4d4b404a687674a24ace1c89bde100f311b77a2e5546c08f79ac9bf0716fd5964812e8eb7edc52cfb88c0ffa0f99d40541abcd9bde7a503bf6b71f330fd07136|1|8 <unknown description>', dbxrefs=[]),\n",
        " SeqRecord(seq=Seq('ATCGTCAAAGGAGGGAGTCAGGCTAGGGAGTGCTGCCGACTGAGACGCGACCAC...TCG', SingleLetterAlphabet()), id='4d4b404a687674a24ace1c89bde100f311b77a2e5546c08f79ac9bf0716fd5964812e8eb7edc52cfb88c0ffa0f99d40541abcd9bde7a503bf6b71f330fd07136|4|8', name='4d4b404a687674a24ace1c89bde100f311b77a2e5546c08f79ac9bf0716fd5964812e8eb7edc52cfb88c0ffa0f99d40541abcd9bde7a503bf6b71f330fd07136|4|8', description='4d4b404a687674a24ace1c89bde100f311b77a2e5546c08f79ac9bf0716fd5964812e8eb7edc52cfb88c0ffa0f99d40541abcd9bde7a503bf6b71f330fd07136|4|8 <unknown description>', dbxrefs=[]),\n",
        " SeqRecord(seq=Seq('GTCGAGCTCTCAAGGAATGTCCAGTCTTGTCCCCCGTACTGCCGCCAGGAAAGT...TTA', SingleLetterAlphabet()), id='9e8a897a5effd7f8bbc49a5d555a371bf8654b7c740fdca204070f73ef9ad811e289c7381a1a09d37533d95721d28c719ace0553c091e02b38dac65c236b35ac|1|9', name='9e8a897a5effd7f8bbc49a5d555a371bf8654b7c740fdca204070f73ef9ad811e289c7381a1a09d37533d95721d28c719ace0553c091e02b38dac65c236b35ac|1|9', description='9e8a897a5effd7f8bbc49a5d555a371bf8654b7c740fdca204070f73ef9ad811e289c7381a1a09d37533d95721d28c719ace0553c091e02b38dac65c236b35ac|1|9 <unknown description>', dbxrefs=[]),\n",
        " SeqRecord(seq=Seq('ATCGTCAAAGGAGGGAGTCAGGCTAGGGAGTGCTGCCGACTGATACGCGACCAC...TCG', SingleLetterAlphabet()), id='9e8a897a5effd7f8bbc49a5d555a371bf8654b7c740fdca204070f73ef9ad811e289c7381a1a09d37533d95721d28c719ace0553c091e02b38dac65c236b35ac|4|9', name='9e8a897a5effd7f8bbc49a5d555a371bf8654b7c740fdca204070f73ef9ad811e289c7381a1a09d37533d95721d28c719ace0553c091e02b38dac65c236b35ac|4|9', description='9e8a897a5effd7f8bbc49a5d555a371bf8654b7c740fdca204070f73ef9ad811e289c7381a1a09d37533d95721d28c719ace0553c091e02b38dac65c236b35ac|4|9 <unknown description>', dbxrefs=[])]"
       ]
      }
     ],
     "prompt_number": 177
    },
    {
     "cell_type": "code",
     "collapsed": false,
     "input": [
      "# Append the sequences to the dictionary.\n",
      "# This can be written into a function.\n",
      "split_char = '|' # The character that will be used to split the SeqRecord.id string\n",
      "pos_segment_num = 1 # The position of the segment number after splitting by the split_char\n",
      "\n",
      "for sequence in sequences:\n",
      "    segment_number = int(sequence.id.split(split_char)[pos_segment_num])\n",
      "    sequences_dictionary[segment_number].append(sequence)\n",
      "\n",
      "# sequences_dictionary"
     ],
     "language": "python",
     "metadata": {},
     "outputs": [],
     "prompt_number": 178
    },
    {
     "cell_type": "code",
     "collapsed": false,
     "input": [
      "# Create a NetworkX graph using one segment's sequences, and add nodes.\n",
      "import networkx as nx\n",
      "\n",
      "G = nx.DiGraph()\n",
      "\n",
      "splitchar = '|'\n",
      "pos_id = 0\n",
      "pos_segment_num = 1\n",
      "pos_creation_time = 2\n",
      "\n",
      "segment_number = 4\n",
      "\n",
      "for sequence in sequences_dictionary[segment_number]:\n",
      "    [isolate_id, segment_num, creation_time] = sequence.id.split(splitchar)\n",
      "    G.add_node(isolate_id[0:5], sequence=sequence.seq, id=isolate_id, segment_num=int(segment_num), creation_time=int(creation_time))\n",
      "\n",
      "# at this point, we would return G, and append it to the dictionary of Graphs available.\n",
      "# G.nodes(data=True)"
     ],
     "language": "python",
     "metadata": {},
     "outputs": [],
     "prompt_number": 179
    },
    {
     "cell_type": "code",
     "collapsed": false,
     "input": [
      "# Add edges to the graph, based on the Levenshtein distance between two sequences.\n",
      "import Levenshtein\n",
      "for node1 in G.nodes(data=True):\n",
      "    for node2 in G.nodes(data=True):\n",
      "        if node1[1]['creation_time'] < node2[1]['creation_time']:\n",
      "            weight = Levenshtein.distance(str(node1[1]['sequence']), str(node2[1]['sequence']))\n",
      "            G.add_edge(node1[0], node2[0], weight=weight)"
     ],
     "language": "python",
     "metadata": {},
     "outputs": [],
     "prompt_number": 180
    },
    {
     "cell_type": "code",
     "collapsed": false,
     "input": [
      "# Prune graph by distance.\n",
      "for node in G.nodes(data=True):\n",
      "    in_edges = G.in_edges(node[0], data=True)\n",
      "#     print in_edges\n",
      "    if len(in_edges) != 0:\n",
      "        min_weight = min([edge[2]['weight'] for edge in in_edges])\n",
      "        print min_weight\n",
      "        print node\n",
      "        for edge in in_edges:\n",
      "            if edge[2]['weight'] != min_weight:\n",
      "                G.remove_edge(edge[0], edge[1])"
     ],
     "language": "python",
     "metadata": {},
     "outputs": [
      {
       "output_type": "stream",
       "stream": "stdout",
       "text": [
        "8\n",
        "('64d2e', {'segment_num': 4, 'creation_time': 7, 'id': '64d2e48e858c44819b4b649ae4865fd2929797817882b50f5e1df1dd1b7d249e5d6e29a01df7d3ebc44b137193dde97e72352b6ebe0f250e959a11b6e22980ae', 'sequence': Seq('ATCGTCAAAGGAGGGAGTCAGGCTAGGGAGTGCTGCCGACTGAGACGCGACCAC...TCG', SingleLetterAlphabet())})\n",
        "11\n",
        "('26387', {'segment_num': 4, 'creation_time': 5, 'id': '263874d2aa536cfb8ea4814c43bb7f234bd84dfb086e2d786628ca97fed4797daf211034e91e976efa3970fdfd06f4b4805ec1581538084d68d6f37abdde6048', 'sequence': Seq('GCTGTAAATTCTAACGTCCGGCGGCATTAACTGTATTGTGCGAGAATATTGGCA...GGC', SingleLetterAlphabet())})\n",
        "8\n",
        "('0975e', {'segment_num': 4, 'creation_time': 2, 'id': '0975e343562fdb3323e5b96fa3b0478010bf87a6c645fbd873d20fc66201f6618510f349271d129bc5a5e68c5a081cb2ea84db421cccb3817ec041ef77c8b45a', 'sequence': Seq('ATCGTCAAAGGAGGGAGTCAGGCTAGGGAGTGCTGCCGACTGAGACGCGACCAC...TCG', SingleLetterAlphabet())})\n",
        "8\n",
        "('3781d', {'segment_num': 4, 'creation_time': 3, 'id': '3781d2faed9f94caf4d94674b4c38a0e52ff288ffc6b89b545f1e4e028b47013eb3ae5c795073268604e765a1a3fd68df45124aa0596b88ed19676b728411844', 'sequence': Seq('ATCGTCAAAGGAGGGAGTCAGGCTAGGGAGTGCTGCCGACTGAGACGCGACCAC...TCG', SingleLetterAlphabet())})\n",
        "6\n",
        "('4d4b4', {'segment_num': 4, 'creation_time': 8, 'id': '4d4b404a687674a24ace1c89bde100f311b77a2e5546c08f79ac9bf0716fd5964812e8eb7edc52cfb88c0ffa0f99d40541abcd9bde7a503bf6b71f330fd07136', 'sequence': Seq('ATCGTCAAAGGAGGGAGTCAGGCTAGGGAGTGCTGCCGACTGAGACGCGACCAC...TCG', SingleLetterAlphabet())})\n",
        "7\n",
        "('70771', {'segment_num': 4, 'creation_time': 6, 'id': '707717e2ff3cfd92d31f5d86c4403fefa13060f9aa773909554442e795458af46e40533c6bf64f19a1b9d2da36493d3a40f900ade173d570aabeb3bca3f689dd', 'sequence': Seq('ATCGTCAAAGGAGGGAGTCAGGCTAGGGAGTGCTGCCGACTGAGACGCGACCAC...TCG', SingleLetterAlphabet())})\n",
        "8\n",
        "('831c3', {'segment_num': 4, 'creation_time': 1, 'id': '831c35cac2b3cb1cbffd0a48532371662ee14d1c610c7447e5052d82872d1d1ad6c5f9b2fe2047e11ae71f4fbebade9e31adbd939bed31a47c96d24ccc9a346b', 'sequence': Seq('ATCGTCAAAGGAGGGAGTCAGGCTAGGGAGTGCTGCCGACTGAGACGCGACCAC...TCG', SingleLetterAlphabet())})\n",
        "8\n",
        "('9e8a8', {'segment_num': 4, 'creation_time': 9, 'id': '9e8a897a5effd7f8bbc49a5d555a371bf8654b7c740fdca204070f73ef9ad811e289c7381a1a09d37533d95721d28c719ace0553c091e02b38dac65c236b35ac', 'sequence': Seq('ATCGTCAAAGGAGGGAGTCAGGCTAGGGAGTGCTGCCGACTGATACGCGACCAC...TCG', SingleLetterAlphabet())})\n",
        "12\n",
        "('c5efe', {'segment_num': 4, 'creation_time': 4, 'id': 'c5efe5adf8befeaa935ec65e8580a1b4ff48d6d2f38e95ac11f433264638e78ef78c52fb1f8e731c2218e7d54c5ade6c458af73b7185a2c63ab1cf5bd8772e2d', 'sequence': Seq('ATCGTCAAAGGAGGGAGTCAGGCTAGGGAGTGCTGCCGACTGAGACGCGACCAC...TCG', SingleLetterAlphabet())})\n"
       ]
      }
     ],
     "prompt_number": 181
    },
    {
     "cell_type": "code",
     "collapsed": false,
     "input": [
      "nx.draw_circular(G)"
     ],
     "language": "python",
     "metadata": {},
     "outputs": [
      {
       "metadata": {},
       "output_type": "display_data",
       "png": "[encoded data removed]",
       "text": [
        "<matplotlib.figure.Figure at 0x1066d48d0>"
       ]
      }
     ],
     "prompt_number": 182
    },
    {
     "cell_type": "markdown",
     "metadata": {},
     "source": [
      "# Test Reconstructor Class"
     ]
    },
    {
     "cell_type": "code",
     "collapsed": false,
     "input": [
      "from reconstructor import Reconstructor\n",
      "import networkx as nx"
     ],
     "language": "python",
     "metadata": {},
     "outputs": [],
     "prompt_number": 183
    },
    {
     "cell_type": "code",
     "collapsed": false,
     "input": [
      "r = Reconstructor(segments=[1, 4])\n",
      "print r.sequences\n",
      "print r.graphs"
     ],
     "language": "python",
     "metadata": {},
     "outputs": [
      {
       "output_type": "stream",
       "stream": "stdout",
       "text": [
        "{1: [], 4: []}\n",
        "{1: <networkx.classes.digraph.DiGraph object at 0x106397d90>, 4: <networkx.classes.digraph.DiGraph object at 0x1063975d0>}\n"
       ]
      }
     ],
     "prompt_number": 184
    },
    {
     "cell_type": "code",
     "collapsed": false,
     "input": [
      "fasta_file = 'FASTA Files/outfile_test.fasta'\n",
      "r.read_fasta_file(fasta_file)"
     ],
     "language": "python",
     "metadata": {},
     "outputs": [],
     "prompt_number": 185
    },
    {
     "cell_type": "code",
     "collapsed": false,
     "input": [
      "r.add_nodes_with_data()\n",
      "r.add_edges_with_weight()\n",
      "r.prune_graphs_by_weight()\n",
      "r.compose_segment_graphs()\n",
      "r.condense_composed_segment_graphs()\n",
      "r.prune_condensed_graph()"
     ],
     "language": "python",
     "metadata": {},
     "outputs": [],
     "prompt_number": 186
    },
    {
     "cell_type": "code",
     "collapsed": false,
     "input": [
      "r.condensed_graph.edges(data=True)"
     ],
     "language": "python",
     "metadata": {},
     "outputs": [
      {
       "metadata": {},
       "output_type": "pyout",
       "prompt_number": 187,
       "text": [
        "[('69284', '64d2e', {'segments': [1, 4], 'weight': 8}),\n",
        " ('69284', '4d4b4', {'segments': [1, 4], 'weight': 6}),\n",
        " ('69284', '9e8a8', {'segments': [4], 'weight': 8}),\n",
        " ('69284', '70771', {'segments': [1, 4], 'weight': 8}),\n",
        " ('69284', 'c5efe', {'segments': [1, 4], 'weight': 12}),\n",
        " ('69284', '831c3', {'segments': [1, 4], 'weight': 9}),\n",
        " ('d1809', '26387', {'segments': [1, 4], 'weight': 14}),\n",
        " ('3781d', '9e8a8', {'segments': [1], 'weight': 2}),\n",
        " ('831c3', '0975e', {'segments': [1, 4], 'weight': 9}),\n",
        " ('831c3', '3781d', {'segments': [1, 4], 'weight': 9})]"
       ]
      }
     ],
     "prompt_number": 187
    },
    {
     "cell_type": "code",
     "collapsed": false,
     "input": [
      "r.condensed_graph.nodes(data=True)"
     ],
     "language": "python",
     "metadata": {},
     "outputs": [
      {
       "metadata": {},
       "output_type": "pyout",
       "prompt_number": 188,
       "text": [
        "[('64d2e',\n",
        "  {'creation_time': '7',\n",
        "   'id': '64d2e48e858c44819b4b649ae4865fd2929797817882b50f5e1df1dd1b7d249e5d6e29a01df7d3ebc44b137193dde97e72352b6ebe0f250e959a11b6e22980ae',\n",
        "   'segment_number': '4',\n",
        "   'sequence_1': 'GTCGAGCTCTCAAGGAATGTCCAGTCTTGTCCCCCGTACTGCCGCCAGGAAAGTGGAGACGAGGCGGCAGCGCTACGCCTCACACATAAGTAGGCGCACGGCAGCAATGACAGTACACATACGTTACCCCGGAATGAGGTGGGCCGAGGTGAGTCTTAATAGGTAATTTATGAGAATCAAGTCAGTTTTCAGTTGCCTAGCCCTGAGCTCATAGTGTAGGGGCTTGTTCCAGTTGGTCTGGAGCGATGCCGGATACTAACAAGGTTGTTGCGCGCTCTTATTACCGTTTGGGAGAGCTCAGGGTTTGGCTAACCTTCGATCAACTGATGCACTGCGCGCTCTCCATACCTGCGGAGCGCTCGCGAAGAATGAGCGAGCGCTCTACAATTGTCATGTATAATCGTCACTTAATAGTCTACATGGGGCAATACCCCCCTCAAGCGGGAGCGGCGCGCGATACGCAACTGAGATTATAAGACGATCACGTCAAGGAACGGCCTTAATCGCCCAGTCCGATGTCTTCGGTCCTTCCACCCCCCCTCCCTCGCTGTTGCATAAGCGACAATGCTGAAGGCTGTTCTCGGATCCTTTCCGAGCCTGGTAGGCTGGGATTCGAACATGCCGACGAATAATCGCAAACCTATGCCAGTGTCGCGGGGCATTGGTGACTCTTGTGTGCGAAAACGGGCGATGTGACTCTAACGAGAGCCCTAAAGTCCAAAAGTTCAGGTGCTTTCGAGTAAGTTACATAAGTGTAGTGATTTCTAAGCCTAGCAGTCCTTCTGCGGAATCATGACTACAGCTGACAAAAACATGGCACTATTTCGCTACATCGAAGTGCAGTGCAACGATATCGCAATGGAAATCGCAATGGCCTAACCACCTCACTGTTTAGGTGCCGGAGTCTAAGGTTTTATTACTGCTCTTTTGCAATACGGCACGAATGCCGCCGACGGTGCGTCACAATCACAGTCTGTCCGTGGCGGCTGATCATCTGTTA',\n",
        "   'sequence_4': 'ATCGTCAAAGGAGGGAGTCAGGCTAGGGAGTGCTGCCGACTGAGACGCGACCACGCCACCTGAAACCAGGCGCCCTCGATATTTATCTTGACGGTGAGCCACGTTCTATACGAGATATTGGAACTCTTTGACGTTCAAGTCAATTCCTTCGCCCCGTTAAATGATAAGACCGAATAGTACTAGCGTCTGATAGATGCTAACCCAGTCTGATGCTCCCCACCGATTCCATTGATTAGGGAAAACCATAATGTGCCACGTTCCCTCGATGTCTACATTCGTACAGGTCAGCGCGGTATACCACAATAGCGTCAACCAAACCCGCGATTCGTCGGAACCGACATCGCGGAACACCCGTAATTCTTCAACGGTAGCATTCCGATTGCGCGGTTAGAAGGTGCCCCTAAGACTTGAACGTCGTCGGGGTTTGCCCGATTTTCATCGTTGGATAATTCGATAGAAACGTAGAAAAACCTGTCGGGCTGTCAGTCTTAATATTGTTTGATTTCCATCCGGACTGTCGTTCCTGGGAGTCGGCGTAGAGGCATGGTGGGCGCTTCGTGTTCATTGCGAGGGCGGACTAATTGTTGGATCGCTGCGGAGCGCTAAACGATAGGCGTAAAGAGGTACGGACCCAAGCGATTTTCCCCCGAGTCGTAACCCGTCTCACAAACTCCGCGGATTTCTTGCTTGGACGCTCCCGTCGCAAAGCCAGGCTATGTGGACGAGGAAATGCTTCCGGCGTCTCCGTATCCTCGAGTTTGAGTGAATTCAGTTCGCAGGTAACACGACGAATCGAGAAGAAGCATATCCGAGTTTCACAAACTACAAAAACATCCGCCAAGAGAACTCCCGGTATCTCTACGTGATAACTGAGAAGAATGAATCCGGGCATGCTTTCTTTTGCCATGCTTGCCCACACTACGCTCAACATTACCGTAGGTAGTTAGCGCCGGAACATATGTAGAGGTTCGTGGTCCTGTGCGGAATACTATCTTAGTCG'}),\n",
        " ('69284',\n",
        "  {'creation_time': '0',\n",
        "   'id': '692849d26ec3c7ca449fa1c1e1e7f5613aed256b81506b596912279aed4f65da0f8b44385cf41c85afdfc04a03335253b9024b95dcdc285483934f6fcb1befb6',\n",
        "   'segment_number': '4',\n",
        "   'sequence_1': 'GTCGAGCTCTCAAGGAATGTCCAGTCTTGTCCCCCGTACTGCCGCCAGGAAAGTGGAGACGAGGCGGCAGCGCTACGCCTCACACATAAGTAGGCGCACGGCAGCAATGACAGTACACATACGTTACCCCGGAATGAGGTGGGCCGAGGTGAGTCTTAATAGGTAATTTATGAGAATCAAGTCAGTTTTCAGTTGCCTAGCCCTGAGCTCATAGTGTAGGGGCTTGTTCCAGTTGGTCTGGAGCGATGCCGGATACTAACAAGGTTGTTGCGCGCTCTTATTACCGTTTGGGAGAGCTCAGGGTTTGGCTAACCTTCGATCAACTGATGCACTGCGCGCTCTCCATACCTGCGGAGCGCTCGCGAAGAATGAGCGAGCGCTCTACAATTGTCATGTATAATCGTCACTTAATAGTCTACATGGGGCAATACCCCCCTCAAGCGGGAGCGGCGCGCGATACGCAACTGAGATTATAAGACGATCACGTCAAGGAACGGCCTTAATCGCCCAGTCCGATGTCTTCGGTCCTTCCACCCCCCCTCCCTCGCTGTTGCATAAGCGACAATGCTGAAGGCTGTTCTCGGATCCTTTCCGAGCCTGGTAGGCTGGGATTCGAACATGCCGACGAATAATCGCAAACCTATGCCAGTGTCGCGGGGCATTGGTGACTCTTGTGTGCGAAAACGGGCGATGTGACTCTAACGAGAGCCCTAAAGTCCAAAAGTTCAGGTGCTTTCGAGTAAGTTACATAAGTGTAGTGATTTCTAAGCCTAGCAGTCCTTCTGCGGAATCATGACTACAGCTGACAAAAACATGGCACTATTTCGCTACATCGAAGTGCAGTGCAACGATATCGCAATGGAAATCGCAATGGCCTAACCACCTCACTGTTTAGGTGCCGGAGTCTAAGGTTTTATTACTGCTCTTTTGCAATACGGCACGAATGCCGCCGACGGTGCGTCACAATCACAGTCTGTCCGTGGCGGCTGATCATCTGTTA',\n",
        "   'sequence_4': 'ATCGTCAAAGGAGGGAGTCAGGCTAGGGAGTGCTGCCGACTGAGACGCGACCACGCCACCTGAAACCAGGCGCCCTCGATATTTATCTTGACGGTGAGCCACGTTCTATACGAGATAGTGGAACTCTTTGACGTTCAAGTCAATTCCTTCGCCCCGTTAAATGATAAGACCGAATAGTACTAGCGTCTGATAGATGCTAACCCAGTCTGATGCTCCCCACCGATTCCATTGATTAGGGAAAACCATAATGTGCCACGTTCCCTCGATGTCTACATTCGTACAGGTCAGCGCGGTATACCACAAAAGCGTCAACCAAATCCGGGATTCGTCGGAACCGACATCGCGGAACACCCGTAATTCTTCAACGGTAGCATTCCGATTGCGCGGTTAGAAGGTGCCCCTAAGACTTGAACGTCGTCGGGGTTTGCCCGATTTTCATCGTTGGATAATTCGATAGAAACGTAGAAAAACCTGTCGGGCTGTCAGTCTTAATATTGTTTGATTTCCATCCGGACTGTCGTTCCTGGGAGTCGGCGTAGAGGCATGGTGGGCGCTTCGTGTTCATTGCGAGGGCGGACTAATTGTTGGATCGCTGCGGAGCGCTAAACGATAGGCGTAAAGAGGTACGGACCCAAGCGATTTTCCCCCGAGTCGTAACCCGTCTCACAAACTCCGCGGATTTCTTGCTTGGACGCTCCCGTCGCAAAGCCAGGCTATGTGGACGAGGAAATGCTTCCGGCGTCTCCGTATCCTCGAGTTTGAGTGAATTCAGTTCGCAGGTAACACGACGAATCGAGAAGAAGCATATCCGAGTTTCACAAACTACAAAAACATCCGCCAAGAGAGCTCCCGGTATCTCTACGTGATAACTGAGAAAAATGAATCCGGGCATGCTTTCTTTTTCCATGCTTGCCCACACTACGCCCAACATTACCGTAGGTAGTTAGCGCCGGAACATATGTAGAGGTTCGTGGTCCTGTGCGGAATACTATCTTAGTCG'}),\n",
        " ('d1809',\n",
        "  {'creation_time': '0',\n",
        "   'id': 'd180981e8305a258cef637ad704326622ebffe03b74658bebb86a1532f55f4bc3382eb4a8f3ef8b6c779704799439cab6656a80c4a27d40b70100f20e5afbfa2',\n",
        "   'segment_number': '4',\n",
        "   'sequence_1': 'GTCGAGCTCTCAAGGAATGTCCAGTCTTGTCCCCCGTACTGCCGCCAGGAAAGTGGAGACGAGGCGGCAGCGCTACGCCTCACACATAAGTAGGCGCACGGCAGCAATGACAGTACACATACGTTACCCCGGAATGAGGTGGGCCGAGGTGAGTCTTAATAGGTAATTTATGAGAATCAAGTCAGTTTTCAGTTGCCTAGCCCTGAGCTCATAGTGTAGGGGCTTGTTCCAGTTGGTCTGGAGCGATGCCGGATACTAACAAGGTTGTTGCGCGCTCTTATTACCGTTTGGGAGAGCTCAGGGTTTGGCTAACCTTCGATCAACTGATGCACTGCGCGCTCTCCATACCTGCGGAGCGCTCGCGAAGAATGAGCGAGCGCTCTACAATTGTCATGTATAATCGTCACTTAATAGTCTACATGGGGCAATACCCCCCTCAAGCGGGAGCGGCGCGCGATACGCAACTGAGATTATAAGACGATCACGTCAAGGAACGGCCTTAATCGCCCAGTCCGATGTCTTCGGTCCTTCCACCCCCCCTCCCTCGCTGTTGCATAAGCGACAATGCTGAAGGCTGTTCTCGGATCCTTTCCGAGCCTGGTAGGCTGGGATTCGAACATGCCGACGAATAATCGCAAACCTATGCCAGTGTCGCGGGGCATTGGTGACTCTTGTGTGCGAAAACGGGCGATGTGACTCTAACGAGAGCCCTAAAGTCCAAAAGTTCAGGTGCTTTCGAGTAAGTTACATAAGTGTAGTGATTTCTAAGCCTAGCAGTCCTTCTGCGGAATCATGACTACAGCTGACAAAAACATGGCACTATTTCGCTACATCGAAGTGCAGTGCAACGATATCGCAATGGAAATCGCAATGGCCTAACCACCTCACTGTTTAGGTGCCGGAGTCTAAGGTTTTATTACTGCTCTTTTGCAATACGGCACGAATGCCGCCGACGGTGCGTCACAATCACAGTCTGTCCGTGGCGGCTGATCATCTGTTA',\n",
        "   'sequence_4': 'GCTGTAAATTCTAACGTCCGGCGGCATTAACTGTATTGTGCGAGAATATTGGCAAGTTGTGGCAGCAACCGTGGATAGTGTCAAGCCCCATTGGGGAGGTAGTCGTCCTTATGACGTGATCATGGCTCCTACAAGGTAGTACATAGGCGTCAACAAATCCGTCCTGTTTCCGTGCACGGACAATTGCTCATGCTCTGCTCCGAACTAATATCCAAGCAAGTGATCCACTTATGACTCAGCTTTGCCAGCACGGCAAAATGTCAGATGCCCCTCATTGTGGGATGGTCAGCGGTGGGTCTTCTACCCACACGCAGAAGCGGACAAAGGCCATCCTCTCAGCTCGCTCTCTTGGCTATCCTTGTTGCAGTTTTCCGAGAAGTCCGCCCCTCTGCTACAACCGACCCCCAAGGAATCCGGATATCACAGAGCCCCCAAGCTAAACCTTATGCCAAATGGCTCATCCTACGATTGGCGCCCCCTCGGGTCCCTAGGACTTAGGGAGGGACCGGTTGCAGAGTGCGAACAGAACGTTGCCTTATTCAATGGTAGACGAGTATTCCATGCGAACTCACCGATAAAGCGCGTAATTAAACTGATCTATCGCGACAAGCTCTAGCTAAATAATACGATGCTGTCCGAATCCAGGCGCGGGGAGATGACTTGTGTATCCGTTGTTGCAGTCGAGGGAGCAGCATTGATATAGCCTGCTAACTAGTGCTATATGTACCCTGATAACAATTGAGGCCCTACTACGTCAGACTGTACACTTGATCAGGATGCGCTGACTCGCCAGCTAACCCCGCGCCCGGTGAGGGTACCCAGTCGAGACCTGGCCCTTCCCCTGCACAAACCAAGGTCTTTGCTGTCTAAACGACACTTTACCAACAATACCTAATTCAGTGCGGCAGGGAGCTCTGGAGGGGACACCTATAATCCTCACTCTCTTAAATGCTGTTTGGCACAAGTTTCCTACAGTTCACGGGCGGTATTTTCTGGAGGC'}),\n",
        " ('26387',\n",
        "  {'creation_time': '5',\n",
        "   'id': '263874d2aa536cfb8ea4814c43bb7f234bd84dfb086e2d786628ca97fed4797daf211034e91e976efa3970fdfd06f4b4805ec1581538084d68d6f37abdde6048',\n",
        "   'segment_number': '4',\n",
        "   'sequence_1': 'GTCGAGCTCTCAAGGAATGTCCAGTCTTGTCCCCCGTACTGCCGCCAGGAAAGTGGAGACGAGGCGGCAGCGCTACGCCTCACACATAAGTAGGCGCACGGCAGCAATGACAGTACACATACGTTACCCCGGAATGAGGTGGGCCGAGGTGAGTCTTAATAGGTAATTTATGAGAATCAAGTCAGTTTTCAGTTGCCTAGCCCTGAGCTCATAGTGTAGGGGCTTGTTCCAGTTGGTCTGCAGCGATGCCGGATACTAACAAGGTTGTTGCGCGCTCTTATTACCGTTTGGGAGAGCTCAGGGTTTGGCTAACCTTCGATCAACTGATGCACTGCGCGCTCTCCATACCTGCGGAGCGCTCGCGAAGAATGAGCGAGCGCTCTACAATTGTCATGTATAATCGTCACTTAATAGTCTACATGGGGCAATACCCCCCTCAAGCGGGAGCGGCGCGCGATACGCAACTGAGATTATAAAACGATCACGTCAAGGAACGGCCTTAATCGCCCAGTCCGATGTCTTCGGTCCTTCCACCCCCCCTCCCTCGCTGTTGCATAAGCGACAATGCTGAAGGCTGTTCTCGGATCCTTTCCGAGCCTGGTAGGCTGGGATTCGAACATGCCGACGAATAATCGCAAACCTATGCCAGTGTCGCGGGGCATTGGTGACTCTTGTGTGCGAAAACGGGCGATGTGACTCTAACGAGAGCCCTAAAGTCCAAAAGTTCAGGTGCTTTCGAGTAAGTTACATAAGTGTAGTGATTTCTAATCCTAGCAGTCCTTCTGCGGAATCATGACTACAGCTGACAAAAACATGGCACTATTTCGCTACATCGAAGTGCAGTGCAACGATATCGCAATGGAAATCGCAATGGCCTAACCACCTCACTGTTTAGGTGCCGGAGTCTAAGGTTTTATTACTGCTCTTTTGCAATACGGCACGAATGCCGCCGACGGTGCGTCACAATCACAGTCTGTCCGTGGCGGCTGATCATCTGTTA',\n",
        "   'sequence_4': 'GCTGTAAATTCTAACGTCCGGCGGCATTAACTGTATTGTGCGAGAATATTGGCAGGTTGTGGCAGCAACCGTGCATAGTGTCAAGCCCCATTGGGGAGGTAGTCGTCCTTATGACGTGATCATGGCTCCTACAAGGTAGTACATAGGCGTCAACAAATCCGTCCTGTTTCCGTGCACGGAGAATTGCTCATGCTCTGCTCCGAACTAATATCCAAGCAAGTGATCCACTTGTGACTCAGCTTTGCCAGCACGGCAAAATGTCAGATGCCCCTCATTGTGGGATGGTCAGCGGTGGGTCTTCTACCCACACGCAGAAGCGGACAAAGGCCATCCTCTCAGCTCGCTCTCTTGGCTATCCTTGTTGCAGTTTTCCGAGAAGTCCGCCCCTCTGCTACAACCGACCCCCATGGAATCCGGATATCACAGAGCCCCCAAGCTAAACCTTATGCCAAATGGCTCATCCTACGATTGGCGCCCCCTCGGGTCCCTAGGACTTAGGGAGGGACCGGTTGCAGAGTGCGAACAGAACGTTGCCTTATTCAATGGTAGACGAGTATTCCATGCGAACTCACCGATAAAGCGCGTAATTAAAGTGATCTATCGCGACAAGCTCTAGCTAAATAATACGATGCTGTCCGAATCCAGGCGCGAGGAGATGACTTTTGTATCCGTTGTTGCAGTCGAGGGAGCAGCATTGATATAGCCTGCTCACTAGTGCTATATGTACCCTGATAACAATTGAGGCCCTACTACGTCAGACTGTACACTTGATCAGGATGCGCTGACTCGCCAGCTAACCCCGCGCCCGGTGAGGGTACCCAGTCGAGACCTGGCCCTTCCCCTGCACAAATCAAGGTCTTTGCTGTCTAAACGACACTTTACCAACAATACCTAATTCAGTGCGGCAGGGAGCTCTGGAGGGGACACCTATAATCCTCACTCTCTTAAATGCTGTTTGGCACAAGATTCCTACAGTTCACGGGCGGTATTTTCTGGAGGC'}),\n",
        " ('0975e',\n",
        "  {'creation_time': '2',\n",
        "   'id': '0975e343562fdb3323e5b96fa3b0478010bf87a6c645fbd873d20fc66201f6618510f349271d129bc5a5e68c5a081cb2ea84db421cccb3817ec041ef77c8b45a',\n",
        "   'segment_number': '4',\n",
        "   'sequence_1': 'GTCGAGCTCTCAAGGAATGTCCAGTCTTGTCCCCCGTACTGCCGCCAGGAAAGTGGAGACGAGGCGGCAGCGCTACGCCTCACACATAAGTAGGCGCACGGCAGCAATGACAGTACACATACGTTACCCCGGAATGAGGTGGGCCGAGGTGAGTCTTAATAGGTAATTTATGAGAATCAAGTCAGTTTTCAGTTGCCTAGCCCTGACCTCATAGTGTAGGGGCTTGTTCCAGTTGGTCTGGAGCGATGCCGGATACTAACAAGGTTGTTGCGCGCTCTTATTACCGTTTGGGAGAGCTCAGGGTTTGGCTAACCTTCGATCAACTGATGCACTGCGCGCTCTCCATACCTGCGGAGCGCTCGCGAAGAATGAGCGAGCGCTCTACAATTGTCATGTATAATCGTCACTTAATAGTCTACATGGGGCAATACCCCCCTCAAGCGGGAGCGGCGCGCGATACGCAACTGAGATTATAAGACGATCACGTCAAGGAACGGCCTTAATCGCCCAGTCCGATGTCTTCGGTCCTTCCACCCCCCCTCCCTCGCTGTTGCATAAGCGACAATGCTGAAGGCTGTTCTCGGATCCTTTCCGAGCCTGGTAGGCTGGGATTCGAACATGCCGACGAATAATCGCAAACCTATGCCAGTGTCGCGGGGCATTGGTGACTCTTGTGTGCGAAAACGGGCGATGTGACTCTAACGAGAGCCCTAAAGTCCAAAAGTTCAGGTGCTTTCGAGTAAGTTACATAAGTGTAGTGATTTCTAAGCCTAGCAGTCCTTCTGCGGAATCATGACTACAGCTGACAAAAACATGGCACTATTTCGCTACATCGAAGTGCAGTGCAACGATATCGCAATGGAAATCGCAATGGCCTAACCACCTCACTGTTTAGGTGCCGGAGTTTAAGGTTTTATTACTGCTCTTTTGCAATACGGCACGAATGCCGCCGACGGTGCGTCACAATCACAGTCTGTCCGTGGCGGCTGATCATCTGTTA',\n",
        "   'sequence_4': 'ATCGTCAAAGGAGGGAGTCAGGCTAGGGAGTGCTGCCGACTGAGACGCGACCACGCCACCTGAAAGCAGGCGCCCTCGATATTTATCCTGACGGTGAGCCACGTTCTATACGAGATAGTGGAACTCTTTGACGTTCAAGTCAATTCCTTCGCCCCGTTAAATGATAAGACCGAATAGTACTAGCGTCTGATAGATGCTAACCCGGTCTGATGCTCCCCACCGATTCCATTGATTAGGGAAAACCATAATGTGCCACGTTCCCTCGATATCTACATTCGTACAGGTCAGCGCGGTATACCACAAAAGCGTCAACCAAATCCGGGGTTCGTCGGAACCGACTTCGCGGAACACCCGTAATTCTTCAACGGTAGCATTCCGATTGCGCGGTTAGAAGGTGCCCCTAAGACTTGAACGTCGTCGGGGTTTGCCCGATTTTCATCGTTGGATAATTCGATAGAAACGTAGAAAAACCTGTCGCGCTGTCAGTCTAAATATTGTTTGATTTCCATCCGGACTGTCGTTCCTGGGAGTCGGCGTAGAGGCATGGTGGGCGCTTCGTGTTCATTGCGAGGGCGGACGAATTGTTGGATCGCTGCGGAGCGCTAAACGAAAGGCGTAAAGAGGTACGGACCCAAGCGATTTTCCCCCGAGTCGTAACCCGTCTCACAAACACCGCGGATTTCTTGCTTGGACGCTCCCGTCGCAAAGCCAGGCTATGTGGACGAGGAAATGCTTCCGGCGTCTCCGTATCCTCCAGTTTGAGTGAATTCAGTTCGAAGGTAACACGACGAATCGAGAAGAAGCATATCCGAGTTTCACAAACTACAAAAACATCCGCCAAGAGAGCTCCCGGTATCTCTTCGTGATAACTGAGAAAAATGAATCCGGGCATGCTTTCTTTTTCCATGCTTGCCCACACTACGCCCAACATTACCGTAGGTAGTTAGCGCCGGAACATGTGTAGAGGTTCGTGGCCCTGTGCGGAATACTATCTTAGTCG'}),\n",
        " ('3781d',\n",
        "  {'creation_time': '3',\n",
        "   'id': '3781d2faed9f94caf4d94674b4c38a0e52ff288ffc6b89b545f1e4e028b47013eb3ae5c795073268604e765a1a3fd68df45124aa0596b88ed19676b728411844',\n",
        "   'segment_number': '4',\n",
        "   'sequence_1': 'GTCGAGCTCTCAAGGAATGTCCAGTCTTGTCCCCCGTACTGCCGCCAGGAAAGTGGAGACGAGGCGGCAGCGCTACGCCTCACACATAAGTAGGCGCACGGCAGCAATGACAGTACACATACGTTACCCCGGAATGAGGTGGGCCGAGGTGAGTCTTAATAGGTAATTTATGAGAATCAAGTCAGTTTTCAGTTGCCTAGCCCTGAGCTCATAGTGTAGGGGCTTGTTCCAGTTGGTCTGGAGCGATGCCGGATACTAACAAGGTTGTTGCGCGCTCTTATTACCGTTTGGGAGAGCTCAGGGTTTGGCTAACCTTCGATCAACTGATGCACTGCGCGCTCTCCATACCTGCGGAGCGCTCGCGAAGAATGAGCGAGCGCTCTACAATTGTCATGTATAATCGTCACTTAATAGTCTACATGGGGCAATACCCCCCTCAAGCGGGAGCGGCGCGCGATACGCAACTGAGATTATAAGACGATCACGTCAAGGAACGGCCTTAATCGCCCAGTCCGATGTCTTCGGTCCTTCCACCCCCCCTCCCTCGCTGTTGCATAAGCGACAATGCTGAAGGCTGTTCTCGGATCCTTTCCGAGCCTGGTAGGCTGGGATTCGAACATGCCGACGAAGAATCGCAAACCTATGCCAGTGTCGCGGGGCATTGGTGACTCTTGTGTGCGAAAACGGGCGATGTGACTCTAACGAGAGCCCTAAAGTCCAAAAGTTCAGGTGCTTTCGAGTAAGTTACATAAGTGTAGTGATTTCTAAGCCTAGCAGTCCTTCTGCGGAATCATGACTACAGCTGACAAAAACATGGCACTATTTCGCTACATCGAAGTGCAGTGCAACGATATCGCAATGGAAATCGCAATGGCCTAACCACCTCACTGTTTAGGTGCCGGAGTTTAAGGTTTTATTACTGCTCTTTTGCAATACGGCACGAATGCCGCCGACGGTGCGTCACAATCACAGTCTGTCCGTGGCGGCTGATCATCTGTTA',\n",
        "   'sequence_4': 'ATCGTCAAAGGAGGGAGTCAGGCTAGGGAGTGCTGCCGACTGAGACGCGACCACGCCACCTGAAAGCAGGCGCCCTCGATATTTATCTTGACGGTGAGCCACGTTCTATACGAGATAGTGGAACTCTTTGACGTTCAAGTCAATTCCTTCGCCCCGTTAAATGATAAGACCGAATAGTACTAGCGTCTGATAGATGCTAACCCAGTCTGATGCTCCCCACCGATTCCATTGATTAGGGAAAACCATAATGTGCCACGTTCCCTCGAAGTCTACATTCGTACAGGTCAGCGCGGTATACCACAAAAGCGTCAACCAAATCCGGGGTTCGTCGGAACCGACATCGCGGAACACCCGTAATTCTTCAACGGTAGCATTCGGATTGCGCGGTTAGAAGGTGCCCCTAAGACTTGAACGTCGTCGGGGTTTGCCCGATTTTCATCGTTGGATAATTCGATAGAAACGTAGAAAAACCTGTCGGGCTGTCAGTCTAAATATTGTTTGATTTCCATCCGGACTGTCGTTCCTGGGAGTCGGCGTTGAGGCATGGTGGGCGCTTCGTGTTCATTGCGAGGGCGGACGAATTGTTGGATCGCTGCGGAGCGCTAAACGAAAGGCGTAAAGAGGTACGGACCCAAGCGATTTTCCCCCGAGTCGTAACCCGTCTCACAAACACCGCGGTTTTCTTGCTTGGACGCTCCCGTCGCAAAGCCAGGCTATGTGGACGAGGAAATGCATCCGACGTCTCCGTATCCTCGAGTTTGAGTGAATTCAGTTCGAAGGTAACACGACGAATCGAGAAGAAGCATATCCGAGTTTCACAAACTACAAAAACATCCGCCAAGAGAGCTCCCGGTATCTCTACGCGATAACTGAGAAAAATGAATCCGGGCATGCTTTCTTTTTCCATGCTTGCCCACACTACGCCCAACATTACCGTAGGTAGTTAGCGCCGGAACATGTGTAGAGGTTCGTGGTCCTGTGCGGAATACTATCTGAGTCG'}),\n",
        " ('4d4b4',\n",
        "  {'creation_time': '8',\n",
        "   'id': '4d4b404a687674a24ace1c89bde100f311b77a2e5546c08f79ac9bf0716fd5964812e8eb7edc52cfb88c0ffa0f99d40541abcd9bde7a503bf6b71f330fd07136',\n",
        "   'segment_number': '4',\n",
        "   'sequence_1': 'GTCGAGCTCTCAAGGAATGTCCAGTCTTGTCCCCCGTACTGCCGCCAGGAAAGTGGAGACGAGGCGGCAGCGCTACGCCTCACACATAAGTAGGCGCACGGCAGCAATGACAGTACACATACGTTACCCCGGAATGAGGTGGGCCGAGGTGAGTCTTAATAGGTAATTTATGAGAATCAAGTCAGTTTTCAGTTGCCTAGCCCTGAGCTCATAGTGTAGGGGCTTGTTCCAGTTGGTCTGGAGCGATGCCGGATACTAACAAGGTTGTTGCGCGCTCTTATTACCGTTTGGGAGAGCTCAGGGTTTGGCTAACCTTCGATCAACTGATGCACTGCGCGCTCTCCATACCTGCGGAGCGCTCGCGAAGAATGAGCGAGCGCTCTACAATTGTCATGTATAATCGTCACTTAATAGTCTACATGGGGCAATACCCCCCTCAAGCGGGAGCGGCGCGCGATACGCAACTGAGATTATAAGACGATCACGTCAAGGAACGGCCTTAATCGCCCAGTCCGATGTCTTCGGTCCTTCCACCCCCCCTCCCTCGCTGTTGCATAAGCGACAATGCTGAAGGCTGTTCTCGGATCCTTTCCGAGCCTGGTAGGCTGGGATTCGAACATGCCGACGAATAATCGCAAACCTATGCCAGTGTCGCGGGGCATTGGTGACTCTTGTGTGCGAAAACGGGCGATGTGACTCTAACGAGAGCCCTAAAGTCCAAAAGTTCAGGTGCTTTCGAGTAAGTTACATAAGTGTAGTGATTTCTAAGCCTAGCAGTCCTTCTGCGGAATCATGACTACAGCTGACAAAAACATGGCACTATTTCGCTACATCGAAGTGCAGTGCAACGATATCGCAATGGAAATCGCAATGGCCTAACCACCTCACTGTTTAGGTGCCGGAGTCTAAGGTTTTATTACTGCTCTTTTGCAATACGGCACGAATGCCGCCGACGGTGCGTCACAATCACAGTCTGTCCGTGGCGGCTGATCATCTGTTA',\n",
        "   'sequence_4': 'ATCGTCAAAGGAGGGAGTCAGGCTAGGGAGTGCTGCCGACTGAGACGCGACCACGCCACCTGAAACCAGGCGCCCTCGATATTTATCTTGACGGTGAGCCACGTTCTATACGAGATAGTGGAACTCTTTGACGTTCAAGTCAATTCCTTCGCCCCGTTAGATGATAAGACCGAATAGTACTAGCGTCTGATAGTTGCTAACCCAGTCTGATGCTCCCCACCGATTCCATTGATTAGGGAAAACCATAATGTGCCACGTTCCCTCGATGTCTACATTCGTACAGGTCAGCGCGGTATACCACAAAAGCGTCAACCAAATCCGGGATTCGTCGGAACCGACATCGCGGAACACCCGTAATTCTTCAACGGTAGCATTCCGATTGCGCGGTTAGAAGGTGCCCCTAAGACTTGAACGTCGTCGGGGTTTGCCCGATTTTCATCGGTGGATAATTCGATAGAAACGTAGAAAAACCTGTCGGGCTGTCAGTCTTAATATTGTTTGATTTCCATCCGGACTGTCGTTCCTGGGAGTCGGCGTAGAGGCATGGTCGGCGCTTCGTGTTCATTGCGAGGGCGGACTAATTGTTGGATCGCTGCGGAGCGCTAAACGATAGGCGTAAAGAGGTACGGACCCAAGCGATTTTCCCCCGAGTCGTAACCCGTCTCACAAACACCGCGGATTTCTTGCTTGGAGGCTCCCGTCGCAAAGCCAGGCTATGTGGACGAGGAAATGCTTCCGGCGTCTCCGTATCCTCGAGTTTGAGTGAATTCAGTTCGCAGGTAACACGACGAATCGAGAAGAAGCATATCCGAGTTTCACAAACTACAAAAACATCCGCCAAGAGAGCTCCCGGTATCTCTACGTGATAACTGAGAAAAATGAATCCGGGCATGCTTTCTTTTTCCATGCTTGCCCACACTACGCCCAACATTACCGTAGGTAGTTAGCGCCGGAACATATGTAGAGGTTCGTGGTCCTGTGCGGAATACTATCTTAGTCG'}),\n",
        " ('70771',\n",
        "  {'creation_time': '6',\n",
        "   'id': '707717e2ff3cfd92d31f5d86c4403fefa13060f9aa773909554442e795458af46e40533c6bf64f19a1b9d2da36493d3a40f900ade173d570aabeb3bca3f689dd',\n",
        "   'segment_number': '4',\n",
        "   'sequence_1': 'GTCGAGCTCTCAAGGAATGTCCAGTCTTGTCCCCCGTACTGCCGCCAGGAAAGTGGAGACGAGGCGGCAGCGCTACGCCTCACACATAAGTAGGCGCACGGCAGCAATGACAGTACACATACGTTACCCCGGAATGAGGTGGGCCGAGGTGAGTCTTAATAGGTAATTTATGAGAATCAAGTCAGTTTTCAGTTGCCTAGCCCTGAGCTCATAGTGTAGGGGCTTGTTCCAGTTGGTCTGGAGCGATGCCGGATACTAACAAGGTTGTTGCGCGCTCTTATTACCGTTTGGGAGAGCTCAGGGTTTGGCTAACCTTCGATCAACTGATGCACTGCGCGCTCTCCATACCTGCGGAGCGCTCGCGAAGAATGAGCGAGCGCTCTACAATTGTCATGTATAATCGTCACTTAATAGTCTACATGGGGCAATACCCCCCTCAAGCGGGAGCGGCGCGCGATACGCAACTGAGATTATAAGACGATCACGTCAAGGAACGGCCTTAATCGCCCAGTCCGATGTCTTCGGTCCTTCCACCCCCCCTCCCTCGCTGTTGCATAAGCGACAATGCTGAAGGCTGTTCTCGGATCCTTTCCGAGCCTGGTAGGCTGGGATTCGAACATGCCGACGAATAATCGCAAACCTATGCCAGTGTCGCGGGGCATTGGTGACGCTTGTGTGCGAAAACGGGCGATGTGACTCTAACGAGAGCCCTAAAGTCCAAAAGTTCAGGTGCTTTCGAGTAAGTTACATAAGTGTAGTGATTTCTAAGCCTAGCAGTCCTTCTGCGGAATCATGACTACAGCTGACAAAAACATGGCACTATTTCGCTACATCGAAGTGCAGTGCAACGATATCGCAATGGAAATCGCAATGGCCTAACCACCTCACTGTTTAGGTGCCGGAGTCTAAGGTTTTATTACTGCTCTTTTGCAATACGGCACGAATGCCGCCGACGGTGCGTCACAATCACAGTCTGTCCGTGGCGGCTGATCATCTGTTA',\n",
        "   'sequence_4': 'ATCGTCAAAGGAGGGAGTCAGGCTAGGGAGTGCTGCCGACTGAGACGCGACCACGCCACCTGAAACCAGGCGCCCTCGATATTTATCTTGACGGTGAGCCACGTTCTATACGAGATAGTGGAACTCTTTGACGTTCAAGTCAATTCCTTCGCCCCGTTAAATGATAAGACCGAATAGTACTAGCGTCTGATAGATGCTAACCCAGTCGGATGCTCCCCACCGATTCCATTGATTAGGGAAAACCATAATGTGCCACGTTCCCTCGATGTCTACATTCGTACAGGTCAGCGCAGTATACCACAAAAGCGTCAACCAAATCCGGGATTCGTCGGAACCGACATCGCGGAACACCCGTAATTCTTCAACGGTAGCATTCCGATTGCGCGGTTAGAAGGTGCCCCTAAGACTTGAACGTCGTCGGGTTTTGCCCGATTTTCATCGTTGGATAATTCGATAGAAACGTAGAAAAACCTGTCGGGCTGTCTGTCTTAATATTGTTTGATTTCCATCCGGACTGTCGTTCCTGGGAGTCGGCGTAGAGGCATGGTGGGCGCTTCGTGTTCATTGCGAGGGCGGACTAATTGTTGGATCGCTGCGGAGCGCTAAACGATAGGCGTAAAGAGGTACGGACCCAAGCGATTTTCCCCCGAGTCGTAACCCGTCTCACAAACTCCGCGGATTTCTTGCTTGGACGCTCCCGTCGCCAAGCCAGGCTATGTGGACGAGGAAATGCTTCCGGCGTCTCCGTATCCTCGAGTTTGAGTGAATTCAGTTCGCAGGTAACACGACGAATCGAGAAGAAACATATCCGAGTTTCACAAACTACTAAAACATCCGCCAAGAGAGCTCCCGGTATCTCTACGTGATAACTGAGAAAAATGAATCCGGGCATGCTTTCTTTTTCCATGCTTGCCCACACTACGCCCAACATTACCGTAGGTAGTTAGCGCCGGAACATATGTAGAGGTTCGTGGTCCTGTGCGGAATACTATCTTAGTCG'}),\n",
        " ('831c3',\n",
        "  {'creation_time': '1',\n",
        "   'id': '831c35cac2b3cb1cbffd0a48532371662ee14d1c610c7447e5052d82872d1d1ad6c5f9b2fe2047e11ae71f4fbebade9e31adbd939bed31a47c96d24ccc9a346b',\n",
        "   'segment_number': '4',\n",
        "   'sequence_1': 'GTCGAGCTCTCAAGGAATGTCCAGTCTTGTCCCCCGTACTGCCGCCAGGAAAGTGGAGACGAGGCGGCAGCGCTACGCCTCACACATAAGTAGGCGCACGGCAGCAATGACAGTACACATACGTTACCCCGGAATGAGGTGGGCCGAGGTGAGTCTTAATAGGTAATTTATGAGAATCAAGTCAGTTTTCAGTTGCCTAGCCCTGAGCTCATAGTGTAGGGGCTTGTTCCAGTTGGTCTGGAGCGATGCCGGATACTAACAAGGTTGTTGCGCGCTCTTATTACCGTTTGGGAGAGCTCAGGGTTTGGCTAACCTTCGATCAACTGATGCACTGCGCGCTCTCCATACCTGCGGAGCGCTCGCGAAGAATGAGCGAGCGCTCTACAATTGTCATGTATAATCGTCACTTAATAGTCTACATGGGGCAATACCCCCCTCAAGCGGGAGCGGCGCGCGATACGCAACTGAGATTATAAGACGATCACGTCAAGGAACGGCCTTAATCGCCCAGTCCGATGTCTTCGGTCCTTCCACCCCCCCTCCCTCGCTGTTGCATAAGCGACAATGCTGAAGGCTGTTCTCGGATCCTTTCCGAGCCTGGTAGGCTGGGATTCGAACATGCCGACGAATAATCGCAAACCTATGCCAGTGTCGCGGGGCATTGGTGACTCTTGTGTGCGAAAACGGGCGATGTGACTCTAACGAGAGCCCTAAAGTCCAAAAGTTCAGGTGCTTTCGAGTAAGTTACATAAGTGTAGTGATTTCTAAGCCTAGCAGTCCTTCTGCGGAATCATGACTACAGCTGACAAAAACATGGCACTATTTCGCTACATCGAAGTGCAGTGCAACGATATCGCAATGGAAATCGCAATGGCCTAACCACCTCACTGTTTAGGTGCCGGAGTTTAAGGTTTTATTACTGCTCTTTTGCAATACGGCACGAATGCCGCCGACGGTGCGTCACAATCACAGTCTGTCCGTGGCGGCTGATCATCTGTTA',\n",
        "   'sequence_4': 'ATCGTCAAAGGAGGGAGTCAGGCTAGGGAGTGCTGCCGACTGAGACGCGACCACGCCACCTGAAAGCAGGCGCCCTCGATATTTATCTTGACGGTGAGCCACGTTCTATACGAGATAGTGGAACTCTTTGACGTTCAAGTCAATTCCTTCGCCCCGTTAAATGATAAGACCGAATAGTACTAGCGTCTGATAGATGCTAACCCAGTCTGATGCTCCCCACCGATTCCATTGATTAGGGAAAACCATAATGTGCCACGTTCCCTCGATGTCTACATTCGTACAGGTCAGCGCGGTATACCACAAAAGCGTCAACCAAATCCGGGGTTCGTCGGAACCGACATCGCGGAACACCCGTAATTCTTCAACGGTAGCATTCCGATTGCGCGGTTAGAAGGTGCCCCTAAGACTTGAACGTCGTCGGGGTTTGCCCGATTTTCATCGTTGGATAATTCGATAGAAACGTAGAAAAACCTGTCGGGCTGTCAGTCTAAATATTGTTTGATTTCCATCCGGACTGTCGTTCCTGGGAGTCGGCGTAGAGGCATGGTGGGCGCTTCGTGTTCATTGCGAGGGCGGACGAATTGTTGGATCGCTGCGGAGCGCTAAACGAAAGGCGTAAAGAGGTACGGACCCAAGCGATTTTCCCCCGAGTCGTAACCCGTCTCACAAACACCGCGGATTTCTTGCTTGGACGCTCCCGTCGCAAAGCCAGGCTATGTGGACGAGGAAATGCTTCCGGCGTCTCCGTATCCTCGAGTTTGAGTGAATTCAGTTCGAAGGTAACACGACGAATCGAGAAGAAGCATATCCGAGTTTCACAAACTACAAAAACATCCGCCAAGAGAGCTCCCGGTATCTCTACGTGATAACTGAGAAAAATGAATCCGGGCATGCTTTCTTTTTCCATGCTTGCCCACACTACGCCCAACATTACCGTAGGTAGTTAGCGCCGGAACATGTGTAGAGGTTCGTGGTCCTGTGCGGAATACTATCTTAGTCG'}),\n",
        " ('9e8a8',\n",
        "  {'creation_time': '9',\n",
        "   'id': '9e8a897a5effd7f8bbc49a5d555a371bf8654b7c740fdca204070f73ef9ad811e289c7381a1a09d37533d95721d28c719ace0553c091e02b38dac65c236b35ac',\n",
        "   'segment_number': '4',\n",
        "   'sequence_1': 'GTCGAGCTCTCAAGGAATGTCCAGTCTTGTCCCCCGTACTGCCGCCAGGAAAGTGGAGACGAGGCGGCAGCGCTACGCCTCACACATAAGTAGGCGCACGGCAGCAATGACAGTACACATACGTTACCCCGGAATGAGGTGGGCCGAGGTGAGTCTTAATAGGTAATTTATGAGAATCAAGTCAGTTTTCAGTTGCCTAGCCCTGAGCTCATAGTGTAGGGGCTTGTTCCAGTTGGTCTGGAGCGATGCCGGATACTAACAAGGTTGTTGCGCGCTCTTATTACCGTTTGGGAGAGCTCAGGGTTTGGCTAACCTTCGATCAACTGATGCACTGCGCGCTCTCCATACCTGCGGAGCGCTCGCGAAGAATGAGCGAGCGCTCTACAATTGTCATGTATAATCGTCACTTAATAGTCTACATGGGGCAATACCCCCCTCAAGCGGGAGCGGCGCGCGATACGCAACTGAGATTATAAGACGATCACGTCAAGGAACGGCCTTAATCGCCCAGTCCGATGTCTTCGGTCCTTCCACCCCCCCTCCCTCGCTGTTGCATAAGCGACAATGCTGAAGGCTGTTCTCGGATTCTTTCCGAGCCTGGTAGGCTGGGATTCGAACATGCCGACGAAGAATCGCAAACCTATGCCAGTGTCGCGGGGCATTGGTGACTCTTGTGTGCGAAAACGGGCGATGTGACTCTACCGAGAGCCCTAAAGTCCAAAAGTTCAGGTGCTTTCGAGTAAGTTACATAAGTGTAGTGATTTCTAAGCCTAGCAGTCCTTCTGCGGAATCATGACTACAGCTGACAAAAACATGGCACTATTTCGCTACATCGAAGTGCAGTGCAACGATATCGCAATGGAAATCGCAATGGCCTAACCACCTCACTGTTTAGGTGCCGGAGTTTAAGGTTTTATTACTGCTCTTTTGCAATACGGCACGAATGCCGCCGACGGTGCGTCACAATCACAGTCTGTCCGTGGCGGCTGATCATCTGTTA',\n",
        "   'sequence_4': 'ATCGTCAAAGGAGGGAGTCAGGCTAGGGAGTGCTGCCGACTGATACGCGACCACGCCACCTGAAACCAGGCGCCCTCGATATTTATCTTGACGGTGAGCCACGTTCTATACGAGATAGTGGAACTCTTTGACGTTCAAGTCAATTCCTTCGCCCCGTTAAATGATAAGACCGAATAGTACTAGCGTCTGATAGATGCTAACCCAGTCTGATGCTCCCCACCGATTCCATTGATTAGGGAAAACCATAATGTGCCACGTTCCCTCGATGTCTACATTCGTACAGGTCAGCGCGGTATACCACAAAAGCGTCAACCAAATCCGGGATTCGTCGGAACCGACATCGCGGAACACCCGTAATTCTTCAACGGTAGCATTCCGATTGCGCGGTTAGAAGGTGCCCCTAAGACTTGAACGTCGTCGGGGTTTGCCCGATTTTCATCGTTGGATAATTCGATAGAAACGTAGAAAAACCTGTCGGGCTGTCAGTCTTAATATCGTTTGATTTCCATCCGGACTGTCGTTCCTGGGAGTCGGCGTAGAGGCATGGTGGGCGCTTCGTGTTCATTGCGAGGGCGGACTAATTGTTGGATCGCTGCGGAGCGCTAAACGATAGGCGTAAAGAGGTACGAACCCAAGCGATTTTCCCCCGAGTCGTAACCCGTCTCCCAAAGTCCGCGGATTTCTTGCTTGGACGCTCCCGTCGCAATGCCAGGCTATGTGGACGAGGAAATGCTTCCGGCGTCTCCGTATCCTCGAGTTTGAGTGAATGCAGTTCGCAGGTAACACGACGAATCGAGAAGAAGCATATCCGAGTTTCACAAACTACAAAAACATCCCCCAAGAGAGCTCCCGGTATCTCTACGTGATAACTGAGAAAAATGAATCCGGGCATGCTTTCTTTTTCCATGCTTGCCCACACTACGCCCAACATTACCGTAGGTAGTTAGCGCCGGAACATATGTAGAGGTTCGTGGTCCTGTGCGGAATACTATCTTAGTCG'}),\n",
        " ('c5efe',\n",
        "  {'creation_time': '4',\n",
        "   'id': 'c5efe5adf8befeaa935ec65e8580a1b4ff48d6d2f38e95ac11f433264638e78ef78c52fb1f8e731c2218e7d54c5ade6c458af73b7185a2c63ab1cf5bd8772e2d',\n",
        "   'segment_number': '4',\n",
        "   'sequence_1': 'GTCGAGCTCTCAAGGAATGTCCAGTCTTGTCCCCCGTACTGCCGCCAGGAAAGTGGAGACGAGGCGGCAGCGCTACGCCTCACACATAAGTAGGCGCACGGCAGCAATGACAGTACACATACGTTACCCCGGAATGAGGTGGGCCGAGGTGAGTCTTAATAGGTAATTTATGAGAATCAAGTCAGTTTTCAGTTGCCTAGCCCTGAGCTCATAGTGTAGGGGCTTGTTCCAGTTGGTCTGGAGCGATGCCGGATACTAACAAGGTTGTTGCGCGCTCTTATTACCGTTTGGGAGAGCTCAGGGTTTGGCTAACCTTCGATCAACTGATGCACTGCGCGCTCTCCATACCTGCGGAGCGCTCGCGAAGAATGAGCGAGCGCTCTACAATTGTCATGTATAATCGTCACTTAATAGTCTACATGGGGCAATACCCCCCTCAAGCGGGAGCGGCGCGCGATACGCAACTGAGATTATAAGACGATCACGTCAAGGAACGGCCTTAATCGCCCAGTCCGATGTCTTCGGTCCTTCCACCCCCCCTCCCTCGCTGTTGCATAAGCGACAATGCTGAAGGCTGTTCTCGGATCCTTTCCGAGCCTGGTAGGCTGGGATTCGAACATGCCGACGAATAATCGCAAACCTATGCCAGTGTCGCGGGGCATTGGTGACTCTTGTGTGCGAAAACGGGCGATGTGACTCTAACGAGAGCCCTAAAGTCCAAAAGTTCAGGTGCTTTCGAGTAAGTTACATAAGTGTAGTGATTTCTAAGCCTAGCAGTCCTTCTGCGGAATCATGACTACAGCTGACAAAAACATGGCACTATTTCGCTACATCGAAGTGCAGTGCAACGATATCGCAATGGAAATCGCAATGGCCTAACCACCTCACTGTTTAGGTGCCGGAGTCTAAGGTTTTATTACTGCTCTTTTGCAATACGGCACGAATGCCGCCGACGGTGCGTCACAATCACAGTCTGTCCGTGGCGGCTGATCATCTGTTA',\n",
        "   'sequence_4': 'ATCGTCAAAGGAGGGAGTCAGGCTAGGGAGTGCTGCCGACTGAGACGCGACCACGCCACCTGAAACCAGGCGCCCTCGATATTTATCTTGACGGTGAGCCACGTTCTATACGAGATAGAGGAACTCTTTGACTTTCAAGTCAATTCCTTCGCCCCGTTAAAAGATAAGACCGAATAGTACTAGCGTCTGATAGATGCTAACCCAGTCTGATGCTCCCCACCGATTCCATTGATTAGGGAAAACCATAATGTGCCACGTTCCCTCGATGTCTACATTCGTACAGGTCGGCGCGGTATACCACAAAAGCGTCAACCAAATCCGGGATTCGTCGGAACCGACATCGCGGAACACCCGTAATTCTTCAACGGTAGCATTCCGATTGCGCGGTTAGAAGGTGCCCCTAAGACTTGAACATCGTCGGGGTTTGCCCGATTTTCCTCGTTGGATAATTCGATAGAAACGTAGAAAAACCTGTCGGGCTGTCAGTCTTAATATTGTTTGATTTCCATCCGGACTGTCGTTCCTGGGAGTCGGCGTAGAGGCATGGTGGGCGCTTCGTGTTCATTGCGAGGGCGGACTAATTGTTGGATCGCTGCGGAGCGCTAAACGATAGGCCTAAAGAGGTACGGACCCAAGCGATTTTCCCCCGAGTCGTAACCCGTCTCACAAACTCCGCGGATTTCTTGCTTGGACGATCCCGTCGCAAAGCCAGGCTATGTGGACGAGGAAATGCTTCCGGCGTCTCCGTATCCTCGAGTTTGAGTGAATTCAGTTCGCAGGTAACACGACGAACCGAGAAGAAGCATATCCGAGTTTCACAAACTACAAAAACATCCGCCAAGAGAGATCCCGGTATCTCTACGTGATAACTGAGAAAAATGAATCCGGGCATGCTTTCTTTTTCCATGCTTGCCCACACTACGCCCAACATTACCGTAGGTAGTTAGCGCCGGAACAGATGTAGAGGTGCGTGGTCCTGTGCGGAATACTATCTTAGTCG'})]"
       ]
      }
     ],
     "prompt_number": 188
    },
    {
     "cell_type": "code",
     "collapsed": false,
     "input": [
      "# This code is used for drawing.\n",
      "from random import randint\n",
      "\n",
      "randints = []\n",
      "for node in r.condensed_graph.nodes(data=True):\n",
      "    randints.append(randint(1, 20))\n",
      "print randints\n",
      "\n",
      "reconstruction_positions = dict()\n",
      "for i, node in enumerate(sorted(r.condensed_graph.nodes(data=True))):\n",
      "    reconstruction_positions[node[0]] = (int(node[1]['creation_time']), randints[i])\n",
      "    \n",
      "print len(reconstruction_positions)\n",
      "nx.draw(r.condensed_graph, pos=reconstruction_positions)"
     ],
     "language": "python",
     "metadata": {},
     "outputs": [
      {
       "output_type": "stream",
       "stream": "stdout",
       "text": [
        "[19, 5, 5, 7, 5, 8, 10, 14, 12, 8, 1]\n",
        "11\n"
       ]
      },
      {
       "metadata": {},
       "output_type": "display_data",
       "png": "[encoded data removed]",
       "text": [
        "<matplotlib.figure.Figure at 0x10639b6d0>"
       ]
      }
     ],
     "prompt_number": 189
    },
    {
     "cell_type": "code",
     "collapsed": false,
     "input": [
      "simulation_positions = dict()\n",
      "\n",
      "print randints\n",
      "for i, pathogen in enumerate(s.pathogens):\n",
      "    simulation_positions[pathogen] = reconstruction_positions[str(pathogen)]\n",
      "    \n",
      "print len(simulation_positions)\n",
      "nx.draw(s.transmission_graph, pos=simulation_positions)"
     ],
     "language": "python",
     "metadata": {},
     "outputs": [
      {
       "output_type": "stream",
       "stream": "stdout",
       "text": [
        "[19, 5, 5, 7, 5, 8, 10, 14, 12, 8, 1]\n",
        "11\n"
       ]
      },
      {
       "metadata": {},
       "output_type": "display_data",
       "png": "[encoded data removed]",
       "text": [
        "<matplotlib.figure.Figure at 0x1066d78d0>"
       ]
      }
     ],
     "prompt_number": 190
    },
    {
     "cell_type": "code",
     "collapsed": false,
     "input": [
      "s.pathogens[0].parent"
     ],
     "language": "python",
     "metadata": {},
     "outputs": [
      {
       "metadata": {},
       "output_type": "pyout",
       "prompt_number": 191,
       "text": [
        "{}"
       ]
      }
     ],
     "prompt_number": 191
    },
    {
     "cell_type": "code",
     "collapsed": false,
     "input": [
      "r.condensed_graph.edges(data=True)"
     ],
     "language": "python",
     "metadata": {},
     "outputs": [
      {
       "metadata": {},
       "output_type": "pyout",
       "prompt_number": 192,
       "text": [
        "[('69284', '64d2e', {'segments': [1, 4], 'weight': 8}),\n",
        " ('69284', '4d4b4', {'segments': [1, 4], 'weight': 6}),\n",
        " ('69284', '9e8a8', {'segments': [4], 'weight': 8}),\n",
        " ('69284', '70771', {'segments': [1, 4], 'weight': 8}),\n",
        " ('69284', 'c5efe', {'segments': [1, 4], 'weight': 12}),\n",
        " ('69284', '831c3', {'segments': [1, 4], 'weight': 9}),\n",
        " ('d1809', '26387', {'segments': [1, 4], 'weight': 14}),\n",
        " ('3781d', '9e8a8', {'segments': [1], 'weight': 2}),\n",
        " ('831c3', '0975e', {'segments': [1, 4], 'weight': 9}),\n",
        " ('831c3', '3781d', {'segments': [1, 4], 'weight': 9})]"
       ]
      }
     ],
     "prompt_number": 192
    },
    {
     "cell_type": "code",
     "collapsed": false,
     "input": [
      "for virus in s.identify_reassortants():\n",
      "    print virus"
     ],
     "language": "python",
     "metadata": {},
     "outputs": [
      {
       "output_type": "stream",
       "stream": "stdout",
       "text": [
        "26387\n",
        "9e8a8\n"
       ]
      }
     ],
     "prompt_number": 193
    },
    {
     "cell_type": "code",
     "collapsed": false,
     "input": [
      "for virus in r.identify_reassortants():\n",
      "    print virus[0]"
     ],
     "language": "python",
     "metadata": {},
     "outputs": [
      {
       "output_type": "stream",
       "stream": "stdout",
       "text": [
        "9e8a8\n"
       ]
      }
     ],
     "prompt_number": 194
    },
    {
     "cell_type": "code",
     "collapsed": false,
     "input": [
      "s.transmission_graph.edges(data=True)"
     ],
     "language": "python",
     "metadata": {},
     "outputs": [
      {
       "metadata": {},
       "output_type": "pyout",
       "prompt_number": 195,
       "text": [
        "[(3781d, 9e8a8, {'segments': [1], 'weight': 2}),\n",
        " (69284, 9e8a8, {'segments': [4], 'weight': 8}),\n",
        " (69284, c5efe, {'segments': [1, 4], 'weight': 12}),\n",
        " (69284, 70771, {'segments': [1, 4], 'weight': 8}),\n",
        " (69284, 4d4b4, {'segments': [1, 4], 'weight': 6}),\n",
        " (69284, 831c3, {'segments': [1, 4], 'weight': 9}),\n",
        " (69284, 64d2e, {'segments': [1, 4], 'weight': 8}),\n",
        " (831c3, 0975e, {'segments': [1, 4], 'weight': 9}),\n",
        " (831c3, 3781d, {'segments': [1, 4], 'weight': 9}),\n",
        " (d1809, 26387, {'segments': [1, 4], 'weight': 14})]"
       ]
      }
     ],
     "prompt_number": 195
    },
    {
     "cell_type": "markdown",
     "metadata": {},
     "source": [
      "# Test Relabeled Graph"
     ]
    },
    {
     "cell_type": "code",
     "collapsed": false,
     "input": [
      "for pathogen in s.pathogens:\n",
      "    print (str(pathogen), str(pathogen.parent))"
     ],
     "language": "python",
     "metadata": {},
     "outputs": [
      {
       "output_type": "stream",
       "stream": "stdout",
       "text": [
        "('69284', '{}')\n",
        "('d1809', '{}')\n",
        "('831c3', '{69284: [1, 4]}')\n",
        "('0975e', '{831c3: [1, 4]}')\n",
        "('3781d', '{831c3: [1, 4]}')\n",
        "('c5efe', '{69284: [1, 4]}')\n",
        "('26387', '{d1809: [1, 4], 3781d: []}')\n",
        "('70771', '{69284: [1, 4]}')\n",
        "('64d2e', '{69284: [1, 4]}')\n",
        "('4d4b4', '{69284: [1, 4]}')\n",
        "('9e8a8', '{3781d: [1], 69284: [4]}')\n"
       ]
      }
     ],
     "prompt_number": 206
    },
    {
     "cell_type": "code",
     "collapsed": false,
     "input": [
      "s.relabel_transmission_graph()\n",
      "s.relabeled_transmission_graph.edges(data=True)"
     ],
     "language": "python",
     "metadata": {},
     "outputs": [
      {
       "metadata": {},
       "output_type": "pyout",
       "prompt_number": 207,
       "text": [
        "[('69284', '64d2e', {'segments': [1, 4], 'weight': 8}),\n",
        " ('69284', '4d4b4', {'segments': [1, 4], 'weight': 6}),\n",
        " ('69284', '9e8a8', {'segments': [4], 'weight': 8}),\n",
        " ('69284', '70771', {'segments': [1, 4], 'weight': 8}),\n",
        " ('69284', 'c5efe', {'segments': [1, 4], 'weight': 12}),\n",
        " ('69284', '831c3', {'segments': [1, 4], 'weight': 9}),\n",
        " ('d1809', '26387', {'segments': [1, 4], 'weight': 14}),\n",
        " ('3781d', '9e8a8', {'segments': [1], 'weight': 2}),\n",
        " ('831c3', '0975e', {'segments': [1, 4], 'weight': 9}),\n",
        " ('831c3', '3781d', {'segments': [1, 4], 'weight': 9})]"
       ]
      }
     ],
     "prompt_number": 207
    },
    {
     "cell_type": "code",
     "collapsed": false,
     "input": [
      "r.condensed_graph.edges(data=True)"
     ],
     "language": "python",
     "metadata": {},
     "outputs": [
      {
       "metadata": {},
       "output_type": "pyout",
       "prompt_number": 208,
       "text": [
        "[('69284', '64d2e', {'segments': [1, 4], 'weight': 8}),\n",
        " ('69284', '4d4b4', {'segments': [1, 4], 'weight': 6}),\n",
        " ('69284', '9e8a8', {'segments': [4], 'weight': 8}),\n",
        " ('69284', '70771', {'segments': [1, 4], 'weight': 8}),\n",
        " ('69284', 'c5efe', {'segments': [1, 4], 'weight': 12}),\n",
        " ('69284', '831c3', {'segments': [1, 4], 'weight': 9}),\n",
        " ('d1809', '26387', {'segments': [1, 4], 'weight': 14}),\n",
        " ('3781d', '9e8a8', {'segments': [1], 'weight': 2}),\n",
        " ('831c3', '0975e', {'segments': [1, 4], 'weight': 9}),\n",
        " ('831c3', '3781d', {'segments': [1, 4], 'weight': 9})]"
       ]
      }
     ],
     "prompt_number": 208
    },
    {
     "cell_type": "markdown",
     "metadata": {},
     "source": [
      "# Experiment with Accuracy Metrics"
     ]
    },
    {
     "cell_type": "code",
     "collapsed": false,
     "input": [
      "matching_edges = 0\n",
      "total_edges = len(s.relabeled_transmission_graph.edges())\n",
      "for edge in r.condensed_graph.edges(data=True):\n",
      "    if edge in s.relabeled_transmission_graph.edges(data=True):\n",
      "        matching_edges += 1\n",
      "        \n",
      "\n",
      "int(float(matching_edges) / total_edges * 100)"
     ],
     "language": "python",
     "metadata": {},
     "outputs": [
      {
       "metadata": {},
       "output_type": "pyout",
       "prompt_number": 199,
       "text": [
        "100"
       ]
      }
     ],
     "prompt_number": 199
    },
    {
     "cell_type": "code",
     "collapsed": false,
     "input": [
      "# This has been implemented in the prototype functions below.\n",
      "# float(len(r.identify_reassortants()))/float(len(s.identify_reassortants()))"
     ],
     "language": "python",
     "metadata": {},
     "outputs": [],
     "prompt_number": 200
    },
    {
     "cell_type": "code",
     "collapsed": false,
     "input": [
      "# Prototype for the functions.\n",
      "def reassortant_accuracy(simulation, reconstruction):\n",
      "    num_simulation_reassortants = float(len(simulation.identify_reassortants()))\n",
      "    num_reconstruction_reassortants = float(len(reconstruction.identify_reassortants()))\n",
      "    \n",
      "    if num_simulation_reassortants == 0:\n",
      "        return 'No reassortants present in simulation.'\n",
      "    else:\n",
      "        return num_reconstruction_reassortants / num_simulation_reassortants\n",
      "    \n",
      "def transmission_edge_accuracy(simulation, reconstruction):\n",
      "    matching_edges = 0\n",
      "    total_edges = len(simulation.relabeled_transmission_graph.edges())\n",
      "    \n",
      "    for edge in reconstruction.condensed_graph.edges(data=True):\n",
      "        if edge in simulation.relabeled_transmission_graph.edges(data=True):\n",
      "            matching_edges += 1\n",
      "            \n",
      "    return float(matching_edges) / total_edges\n",
      "\n",
      "def transmission_path_accuracy(simulation, reconstruction):\n",
      "    \"\"\"\n",
      "    The accuracy of transmission paths is the number of accurate paths found \n",
      "    divided by the number of paths being considered.\n",
      "    \"\"\"\n",
      "    num_paths = 0\n",
      "    accurate_paths = 0\n",
      "    \n",
      "    for edge in reconstruction.condensed_graph.edges():\n",
      "        if simulation.path_exists(edge[0], edge[1]):\n",
      "            num_paths += 1\n",
      "            accurate_paths += 1\n",
      "        else:\n",
      "            num_paths += 1\n",
      "    \n",
      "    return float(accurate_paths)/num_paths"
     ],
     "language": "python",
     "metadata": {},
     "outputs": [],
     "prompt_number": 201
    },
    {
     "cell_type": "code",
     "collapsed": false,
     "input": [
      "s.paths()\n",
      "print reassortant_accuracy(s, r)\n",
      "print transmission_edge_accuracy(s, r)\n",
      "print transmission_path_accuracy(s, r)"
     ],
     "language": "python",
     "metadata": {},
     "outputs": [
      {
       "output_type": "stream",
       "stream": "stdout",
       "text": [
        "0.5\n",
        "1.0\n",
        "1.0\n"
       ]
      }
     ],
     "prompt_number": 202
    },
    {
     "cell_type": "markdown",
     "metadata": {},
     "source": [
      "# Test path_exists(node1, node2) function"
     ]
    },
    {
     "cell_type": "code",
     "collapsed": false,
     "input": [
      "# 1 July 2014 - API Change so the following path_exist(node1, node2) code does not stand. \n",
      "# Segment number has to be specified in order for it to stand.\n",
      "# s.path_exists('b90bb', '3d39c')"
     ],
     "language": "python",
     "metadata": {},
     "outputs": [],
     "prompt_number": 203
    },
    {
     "cell_type": "code",
     "collapsed": false,
     "input": [
      "s.relabeled_transmission_graph.nodes()"
     ],
     "language": "python",
     "metadata": {},
     "outputs": [
      {
       "metadata": {},
       "output_type": "pyout",
       "prompt_number": 204,
       "text": [
        "['69284',\n",
        " 'd1809',\n",
        " '0975e',\n",
        " '3781d',\n",
        " '64d2e',\n",
        " '26387',\n",
        " '4d4b4',\n",
        " '9e8a8',\n",
        " '70771',\n",
        " 'c5efe',\n",
        " '831c3']"
       ]
      }
     ],
     "prompt_number": 204
    },
    {
     "cell_type": "code",
     "collapsed": false,
     "input": [
      "# s.path_exists('2851c', '09001')"
     ],
     "language": "python",
     "metadata": {},
     "outputs": [],
     "prompt_number": 205
    },
    {
     "cell_type": "code",
     "collapsed": false,
     "input": [],
     "language": "python",
     "metadata": {},
     "outputs": [],
     "prompt_number": 205
    }
   ],
   "metadata": {}
  }
 ]
}