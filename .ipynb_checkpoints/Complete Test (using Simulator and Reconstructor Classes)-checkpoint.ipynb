{
 "metadata": {
  "name": "",
  "signature": "sha256:45e392e7a83cbdfed9d6c70fa112499efe65e9a97cd9d4bf59159b29f58e73a4"
 },
 "nbformat": 3,
 "nbformat_minor": 0,
 "worksheets": [
  {
   "cells": [
    {
     "cell_type": "code",
     "collapsed": false,
     "input": [
      "from pathogen import Pathogen\n",
      "from segment import Segment\n",
      "from sequence import Sequence\n",
      "from simulator import Simulator"
     ],
     "language": "python",
     "metadata": {},
     "outputs": [],
     "prompt_number": 1
    },
    {
     "cell_type": "code",
     "collapsed": false,
     "input": [
      "# Initialize sequences\n",
      "sequence_PB2 = Sequence(length=1000) #this is representative of segment 1, PB2\n",
      "sequence_H1 = Sequence(length=1000) #this is representative of segment 4, H1\n",
      "sequence_H2 = Sequence(length=1000) #this is representative of segment 4, H2"
     ],
     "language": "python",
     "metadata": {},
     "outputs": [],
     "prompt_number": 2
    },
    {
     "cell_type": "code",
     "collapsed": false,
     "input": [
      "# Initialize segments\n",
      "segment_PB2 = Segment(segment_number=1, substitution_rate=1E-3, sequence=sequence_PB2)\n",
      "segment_H1 = Segment(segment_number=4, substitution_rate=1E-2, sequence=sequence_H1)\n",
      "segment_H2 = Segment(segment_number=4, substitution_rate=1E-2, sequence=sequence_H2)"
     ],
     "language": "python",
     "metadata": {},
     "outputs": [],
     "prompt_number": 3
    },
    {
     "cell_type": "code",
     "collapsed": false,
     "input": [
      "# Add segments to seed viruses\n",
      "virus_H1 = Pathogen(segments=[segment_PB2, segment_H1], creation_time=0, progeny_size=(1.2, 0.5))\n",
      "virus_H2 = Pathogen(segments=[segment_PB2, segment_H2], creation_time=0, progeny_size=(1.2, 0.5))"
     ],
     "language": "python",
     "metadata": {},
     "outputs": [],
     "prompt_number": 4
    },
    {
     "cell_type": "code",
     "collapsed": false,
     "input": [
      "# Subclass the Simulator class for a specific implementation of the increment_timestep() function.\n",
      "from random import random, choice, sample\n",
      "class ViralSimulator(Simulator):\n",
      "    \n",
      "    def increment_timestep(self):\n",
      "        cointoss = random()\n",
      "        threshold = 0.8\n",
      "        \n",
      "        if cointoss <= threshold:\n",
      "            chosen_virus = choice(self.pathogens)\n",
      "            new_virus = chosen_virus.replicate(current_time=self.current_time)\n",
      "            \n",
      "        if cointoss > threshold:\n",
      "            [virus1, virus2] = sample(self.pathogens, 2)\n",
      "            new_virus = virus1.reassort_with(virus2, current_time=self.current_time)\n",
      "        \n",
      "        self.pathogens.append(new_virus)"
     ],
     "language": "python",
     "metadata": {},
     "outputs": [],
     "prompt_number": 5
    },
    {
     "cell_type": "code",
     "collapsed": false,
     "input": [
      "s = ViralSimulator()"
     ],
     "language": "python",
     "metadata": {},
     "outputs": [],
     "prompt_number": 6
    },
    {
     "cell_type": "code",
     "collapsed": false,
     "input": [
      "s.add_pathogens([virus_H1, virus_H2])"
     ],
     "language": "python",
     "metadata": {},
     "outputs": [],
     "prompt_number": 7
    },
    {
     "cell_type": "code",
     "collapsed": false,
     "input": [
      "s.run(timesteps=10)"
     ],
     "language": "python",
     "metadata": {},
     "outputs": [
      {
       "output_type": "stream",
       "stream": "stdout",
       "text": [
        "{bf226: [1, 4]}\n",
        "{f6519: [1, 4]}\n",
        "{f6519: [4]}\n",
        "{8bcc5: [1, 4]}\n",
        "{d9aa8: [1, 4]}\n",
        "{36a87: [1, 4]}\n",
        "{8bcc5: [4], be78f: [1]}\n",
        "{e3020: [1, 4]}\n",
        "{8d8cb: [1, 4]}\n"
       ]
      }
     ],
     "prompt_number": 8
    },
    {
     "cell_type": "code",
     "collapsed": false,
     "input": [
      "s.write_transmission_graph(outfile_name=\"outfile_test\", folder_name='Network Pickles')"
     ],
     "language": "python",
     "metadata": {},
     "outputs": [],
     "prompt_number": 9
    },
    {
     "cell_type": "code",
     "collapsed": false,
     "input": [
      "s.write_sequences(outfile_name=\"outfile_test\", folder_name='FASTA Files')"
     ],
     "language": "python",
     "metadata": {},
     "outputs": [],
     "prompt_number": 10
    },
    {
     "cell_type": "markdown",
     "metadata": {},
     "source": [
      "# Prototype code for Reconstructor class"
     ]
    },
    {
     "cell_type": "code",
     "collapsed": false,
     "input": [
      "from Bio import SeqIO"
     ],
     "language": "python",
     "metadata": {},
     "outputs": [],
     "prompt_number": 11
    },
    {
     "cell_type": "code",
     "collapsed": false,
     "input": [
      "# Initialize a dictionary that contains all of the sequences, split by segment.\n",
      "sequences_dictionary = dict()\n",
      "sequences_dictionary[1] = []\n",
      "sequences_dictionary[4] = []\n",
      "sequences_dictionary"
     ],
     "language": "python",
     "metadata": {},
     "outputs": [
      {
       "metadata": {},
       "output_type": "pyout",
       "prompt_number": 12,
       "text": [
        "{1: [], 4: []}"
       ]
      }
     ],
     "prompt_number": 12
    },
    {
     "cell_type": "code",
     "collapsed": false,
     "input": [
      "# Read in the sequences\n",
      "sequences = [record for record in SeqIO.parse('FASTA Files/outfile_test.fasta', 'fasta')]\n",
      "sequences"
     ],
     "language": "python",
     "metadata": {},
     "outputs": [
      {
       "metadata": {},
       "output_type": "pyout",
       "prompt_number": 13,
       "text": [
        "[SeqRecord(seq=Seq('TAGAAAAATATGCGGAATGTTAAATGAAGCTGAACCGCCTCCCCAAACAGTTAT...ATA', SingleLetterAlphabet()), id='f65192c243f3dab4b5984802950730e709b1887f9a3d3302f4d0d631eee7508fc1c9cb2cc9f2f3aa462ad59abaf0425d9610bb0e185cef170c79e4b04d6b1930|1|0', name='f65192c243f3dab4b5984802950730e709b1887f9a3d3302f4d0d631eee7508fc1c9cb2cc9f2f3aa462ad59abaf0425d9610bb0e185cef170c79e4b04d6b1930|1|0', description='f65192c243f3dab4b5984802950730e709b1887f9a3d3302f4d0d631eee7508fc1c9cb2cc9f2f3aa462ad59abaf0425d9610bb0e185cef170c79e4b04d6b1930|1|0 <unknown description>', dbxrefs=[]),\n",
        " SeqRecord(seq=Seq('CCCAATTCTCCAGTCAGCCGTTGGAACAGGGGTTGACGAATTTCGCCGTACATT...CGG', SingleLetterAlphabet()), id='f65192c243f3dab4b5984802950730e709b1887f9a3d3302f4d0d631eee7508fc1c9cb2cc9f2f3aa462ad59abaf0425d9610bb0e185cef170c79e4b04d6b1930|4|0', name='f65192c243f3dab4b5984802950730e709b1887f9a3d3302f4d0d631eee7508fc1c9cb2cc9f2f3aa462ad59abaf0425d9610bb0e185cef170c79e4b04d6b1930|4|0', description='f65192c243f3dab4b5984802950730e709b1887f9a3d3302f4d0d631eee7508fc1c9cb2cc9f2f3aa462ad59abaf0425d9610bb0e185cef170c79e4b04d6b1930|4|0 <unknown description>', dbxrefs=[]),\n",
        " SeqRecord(seq=Seq('TAGAAAAATATGCGGAATGTTAAATGAAGCTGAACCGCCTCCCCAAACAGTTAT...ATA', SingleLetterAlphabet()), id='bf22616a5e559aaa6a6af31c7a1b40e83309c2078094aedcf0c2aa824d643e84a3f54593fc00848c6e108a1d4c8b518b62e39ee05e611778384b86c54dfcdeb2|1|0', name='bf22616a5e559aaa6a6af31c7a1b40e83309c2078094aedcf0c2aa824d643e84a3f54593fc00848c6e108a1d4c8b518b62e39ee05e611778384b86c54dfcdeb2|1|0', description='bf22616a5e559aaa6a6af31c7a1b40e83309c2078094aedcf0c2aa824d643e84a3f54593fc00848c6e108a1d4c8b518b62e39ee05e611778384b86c54dfcdeb2|1|0 <unknown description>', dbxrefs=[]),\n",
        " SeqRecord(seq=Seq('GTCGCATCAAGATTATTTAAAAGGCAATGTCGCGGAATCCAGCATCATCGTGCT...AGG', SingleLetterAlphabet()), id='bf22616a5e559aaa6a6af31c7a1b40e83309c2078094aedcf0c2aa824d643e84a3f54593fc00848c6e108a1d4c8b518b62e39ee05e611778384b86c54dfcdeb2|4|0', name='bf22616a5e559aaa6a6af31c7a1b40e83309c2078094aedcf0c2aa824d643e84a3f54593fc00848c6e108a1d4c8b518b62e39ee05e611778384b86c54dfcdeb2|4|0', description='bf22616a5e559aaa6a6af31c7a1b40e83309c2078094aedcf0c2aa824d643e84a3f54593fc00848c6e108a1d4c8b518b62e39ee05e611778384b86c54dfcdeb2|4|0 <unknown description>', dbxrefs=[]),\n",
        " SeqRecord(seq=Seq('TAGAAAAATATGCGGAATGTTAAATGAAGCTGAACCGCCTCCCCAAACAGTTAT...ATA', SingleLetterAlphabet()), id='8bcc5ead4d8e7df1c509ba54599cf10f25d93f29e7f61d907cce621ba1c303c71f7a6ac66f1d1dc542ae09fda6c7c2ed6c727b54cc7e465cc270745108ea915e|1|1', name='8bcc5ead4d8e7df1c509ba54599cf10f25d93f29e7f61d907cce621ba1c303c71f7a6ac66f1d1dc542ae09fda6c7c2ed6c727b54cc7e465cc270745108ea915e|1|1', description='8bcc5ead4d8e7df1c509ba54599cf10f25d93f29e7f61d907cce621ba1c303c71f7a6ac66f1d1dc542ae09fda6c7c2ed6c727b54cc7e465cc270745108ea915e|1|1 <unknown description>', dbxrefs=[]),\n",
        " SeqRecord(seq=Seq('GTCGCATCAAGATTATTTAAAAGGCAATGTCGCGGAATCCAGCATCATCGTGCT...AGG', SingleLetterAlphabet()), id='8bcc5ead4d8e7df1c509ba54599cf10f25d93f29e7f61d907cce621ba1c303c71f7a6ac66f1d1dc542ae09fda6c7c2ed6c727b54cc7e465cc270745108ea915e|4|1', name='8bcc5ead4d8e7df1c509ba54599cf10f25d93f29e7f61d907cce621ba1c303c71f7a6ac66f1d1dc542ae09fda6c7c2ed6c727b54cc7e465cc270745108ea915e|4|1', description='8bcc5ead4d8e7df1c509ba54599cf10f25d93f29e7f61d907cce621ba1c303c71f7a6ac66f1d1dc542ae09fda6c7c2ed6c727b54cc7e465cc270745108ea915e|4|1 <unknown description>', dbxrefs=[]),\n",
        " SeqRecord(seq=Seq('TAGAAAAATATGCGGAATGTTAAATGAAGCTGAACCGCCTCCCCAAACAGTTAT...ATA', SingleLetterAlphabet()), id='e3020681a998b0831b80f481e05f0fc223a9a17ff70df20b38786b3fa1b8a3a8b9bb75319e3db9dcea313b488c1e576356805290be13465e202dd47eb08a47da|1|2', name='e3020681a998b0831b80f481e05f0fc223a9a17ff70df20b38786b3fa1b8a3a8b9bb75319e3db9dcea313b488c1e576356805290be13465e202dd47eb08a47da|1|2', description='e3020681a998b0831b80f481e05f0fc223a9a17ff70df20b38786b3fa1b8a3a8b9bb75319e3db9dcea313b488c1e576356805290be13465e202dd47eb08a47da|1|2 <unknown description>', dbxrefs=[]),\n",
        " SeqRecord(seq=Seq('CCCAATTCTCCAGTCAGCCGTTGGAACAGGGGTTGACGAATTTCGCCGTACATT...CGG', SingleLetterAlphabet()), id='e3020681a998b0831b80f481e05f0fc223a9a17ff70df20b38786b3fa1b8a3a8b9bb75319e3db9dcea313b488c1e576356805290be13465e202dd47eb08a47da|4|2', name='e3020681a998b0831b80f481e05f0fc223a9a17ff70df20b38786b3fa1b8a3a8b9bb75319e3db9dcea313b488c1e576356805290be13465e202dd47eb08a47da|4|2', description='e3020681a998b0831b80f481e05f0fc223a9a17ff70df20b38786b3fa1b8a3a8b9bb75319e3db9dcea313b488c1e576356805290be13465e202dd47eb08a47da|4|2 <unknown description>', dbxrefs=[]),\n",
        " SeqRecord(seq=Seq('TAGAAAAATATGCGGAATGTTAAATGAAGCTGAACCGCCTCCCCAAACAGTTAT...ATA', SingleLetterAlphabet()), id='36a87934fc067d08141439260c0033d8567f29832341c0fe0fc059b0e7eafdb7e95311096782155b70628dd57dccfcae31efed484f7245f5c3053c92ff29a1b2|1|3', name='36a87934fc067d08141439260c0033d8567f29832341c0fe0fc059b0e7eafdb7e95311096782155b70628dd57dccfcae31efed484f7245f5c3053c92ff29a1b2|1|3', description='36a87934fc067d08141439260c0033d8567f29832341c0fe0fc059b0e7eafdb7e95311096782155b70628dd57dccfcae31efed484f7245f5c3053c92ff29a1b2|1|3 <unknown description>', dbxrefs=[]),\n",
        " SeqRecord(seq=Seq('CCCAATTCTCCAGTCAGCCGTTGGAACAGGGGTTGACGAATTTCGCCGTACATT...CGG', SingleLetterAlphabet()), id='36a87934fc067d08141439260c0033d8567f29832341c0fe0fc059b0e7eafdb7e95311096782155b70628dd57dccfcae31efed484f7245f5c3053c92ff29a1b2|4|3', name='36a87934fc067d08141439260c0033d8567f29832341c0fe0fc059b0e7eafdb7e95311096782155b70628dd57dccfcae31efed484f7245f5c3053c92ff29a1b2|4|3', description='36a87934fc067d08141439260c0033d8567f29832341c0fe0fc059b0e7eafdb7e95311096782155b70628dd57dccfcae31efed484f7245f5c3053c92ff29a1b2|4|3 <unknown description>', dbxrefs=[]),\n",
        " SeqRecord(seq=Seq('TAGAAAAATATGCGGAATGTTAAATGAAGCTGAACCGCCTCCCTAAACAGTTAT...ATA', SingleLetterAlphabet()), id='d9aa82cec9f738ec06548d455a2df31eed0235d9db83a07638312d77304656db600c38cfbd4899ce7f0ebcf39ae1469f7046d9910ddf0559dc178ef3812a3f45|1|4', name='d9aa82cec9f738ec06548d455a2df31eed0235d9db83a07638312d77304656db600c38cfbd4899ce7f0ebcf39ae1469f7046d9910ddf0559dc178ef3812a3f45|1|4', description='d9aa82cec9f738ec06548d455a2df31eed0235d9db83a07638312d77304656db600c38cfbd4899ce7f0ebcf39ae1469f7046d9910ddf0559dc178ef3812a3f45|1|4 <unknown description>', dbxrefs=[]),\n",
        " SeqRecord(seq=Seq('GTCGCATCAAGATTATTTAAAAGGCAATGTCGCGGAATCCAGCATCATCGTGCT...AGG', SingleLetterAlphabet()), id='d9aa82cec9f738ec06548d455a2df31eed0235d9db83a07638312d77304656db600c38cfbd4899ce7f0ebcf39ae1469f7046d9910ddf0559dc178ef3812a3f45|4|4', name='d9aa82cec9f738ec06548d455a2df31eed0235d9db83a07638312d77304656db600c38cfbd4899ce7f0ebcf39ae1469f7046d9910ddf0559dc178ef3812a3f45|4|4', description='d9aa82cec9f738ec06548d455a2df31eed0235d9db83a07638312d77304656db600c38cfbd4899ce7f0ebcf39ae1469f7046d9910ddf0559dc178ef3812a3f45|4|4 <unknown description>', dbxrefs=[]),\n",
        " SeqRecord(seq=Seq('TAGAAAAATATGCGGAATGTTAAATGAAGCTGAACCGCCTCCCTAAACAGTTAT...ATA', SingleLetterAlphabet()), id='3c79209ce5829d9bbe5113148e52056d417329eeb34371bbe4b74defdf40392fab4fe6d0a4c6d43a65272f25a1beeed625aa2d115852f2e8b6d69d853cb988dc|1|5', name='3c79209ce5829d9bbe5113148e52056d417329eeb34371bbe4b74defdf40392fab4fe6d0a4c6d43a65272f25a1beeed625aa2d115852f2e8b6d69d853cb988dc|1|5', description='3c79209ce5829d9bbe5113148e52056d417329eeb34371bbe4b74defdf40392fab4fe6d0a4c6d43a65272f25a1beeed625aa2d115852f2e8b6d69d853cb988dc|1|5 <unknown description>', dbxrefs=[]),\n",
        " SeqRecord(seq=Seq('GTCGCATCAAGATTATTTAAAAGGCAATGTCGCGGAATCCAGCATCATCGTGCT...AGG', SingleLetterAlphabet()), id='3c79209ce5829d9bbe5113148e52056d417329eeb34371bbe4b74defdf40392fab4fe6d0a4c6d43a65272f25a1beeed625aa2d115852f2e8b6d69d853cb988dc|4|5', name='3c79209ce5829d9bbe5113148e52056d417329eeb34371bbe4b74defdf40392fab4fe6d0a4c6d43a65272f25a1beeed625aa2d115852f2e8b6d69d853cb988dc|4|5', description='3c79209ce5829d9bbe5113148e52056d417329eeb34371bbe4b74defdf40392fab4fe6d0a4c6d43a65272f25a1beeed625aa2d115852f2e8b6d69d853cb988dc|4|5 <unknown description>', dbxrefs=[]),\n",
        " SeqRecord(seq=Seq('TAGAAAAATATGCGGAATGTTAAATGAAGCTGAACCGCCTCCCCAAACAGTTAT...ATA', SingleLetterAlphabet()), id='be78f551726f3698abd1afd19a2ef5179c41177cb3d445766813c641406b95dd9e54759a4c5387e21961b7c5a7fe695c362169a63d288a3d5d8d7f5701b0c101|1|6', name='be78f551726f3698abd1afd19a2ef5179c41177cb3d445766813c641406b95dd9e54759a4c5387e21961b7c5a7fe695c362169a63d288a3d5d8d7f5701b0c101|1|6', description='be78f551726f3698abd1afd19a2ef5179c41177cb3d445766813c641406b95dd9e54759a4c5387e21961b7c5a7fe695c362169a63d288a3d5d8d7f5701b0c101|1|6 <unknown description>', dbxrefs=[]),\n",
        " SeqRecord(seq=Seq('CCCAATTCTCCAGTCAGCCGTTGGAACAGGGGTTGACGAATTTCGCCGTACATT...CGG', SingleLetterAlphabet()), id='be78f551726f3698abd1afd19a2ef5179c41177cb3d445766813c641406b95dd9e54759a4c5387e21961b7c5a7fe695c362169a63d288a3d5d8d7f5701b0c101|4|6', name='be78f551726f3698abd1afd19a2ef5179c41177cb3d445766813c641406b95dd9e54759a4c5387e21961b7c5a7fe695c362169a63d288a3d5d8d7f5701b0c101|4|6', description='be78f551726f3698abd1afd19a2ef5179c41177cb3d445766813c641406b95dd9e54759a4c5387e21961b7c5a7fe695c362169a63d288a3d5d8d7f5701b0c101|4|6 <unknown description>', dbxrefs=[]),\n",
        " SeqRecord(seq=Seq('TAGAAAAATATGCGGAATGTTAAATGAAGCTGAACCGCCTCCCCAAACAGTTAT...ATA', SingleLetterAlphabet()), id='c019c5d9e73bcbdd00c7aa9324bacc58a5cb81898ffa7edeca9e42d2b041cf58b6332ed41f87c65974af0a20017899cb59a8b08ad0ec3a36e70829166d599022|1|7', name='c019c5d9e73bcbdd00c7aa9324bacc58a5cb81898ffa7edeca9e42d2b041cf58b6332ed41f87c65974af0a20017899cb59a8b08ad0ec3a36e70829166d599022|1|7', description='c019c5d9e73bcbdd00c7aa9324bacc58a5cb81898ffa7edeca9e42d2b041cf58b6332ed41f87c65974af0a20017899cb59a8b08ad0ec3a36e70829166d599022|1|7 <unknown description>', dbxrefs=[]),\n",
        " SeqRecord(seq=Seq('GTCGCATCAAGATTATTTAAAAGGCAATGTCGCGGAATCCAGCATCATCGTGCT...AGG', SingleLetterAlphabet()), id='c019c5d9e73bcbdd00c7aa9324bacc58a5cb81898ffa7edeca9e42d2b041cf58b6332ed41f87c65974af0a20017899cb59a8b08ad0ec3a36e70829166d599022|4|7', name='c019c5d9e73bcbdd00c7aa9324bacc58a5cb81898ffa7edeca9e42d2b041cf58b6332ed41f87c65974af0a20017899cb59a8b08ad0ec3a36e70829166d599022|4|7', description='c019c5d9e73bcbdd00c7aa9324bacc58a5cb81898ffa7edeca9e42d2b041cf58b6332ed41f87c65974af0a20017899cb59a8b08ad0ec3a36e70829166d599022|4|7 <unknown description>', dbxrefs=[]),\n",
        " SeqRecord(seq=Seq('TAGAAAAATATGCGGAATGTTAAATGAAGCTGAACCGCCTCCCCAAACAGTTAT...ATA', SingleLetterAlphabet()), id='8d8cb49e17e232b3a27125314b5240c492deb557bb332b17619df02c568578953098647f68355cd937392bcc67f0df77ebfc2f05d2aa5d351ff1c4038dfa9110|1|8', name='8d8cb49e17e232b3a27125314b5240c492deb557bb332b17619df02c568578953098647f68355cd937392bcc67f0df77ebfc2f05d2aa5d351ff1c4038dfa9110|1|8', description='8d8cb49e17e232b3a27125314b5240c492deb557bb332b17619df02c568578953098647f68355cd937392bcc67f0df77ebfc2f05d2aa5d351ff1c4038dfa9110|1|8 <unknown description>', dbxrefs=[]),\n",
        " SeqRecord(seq=Seq('CCCAATTCTCCAGTCAGCCGTTGGAACAGGGGTTGACGAATTTCGCCGTACATT...CCG', SingleLetterAlphabet()), id='8d8cb49e17e232b3a27125314b5240c492deb557bb332b17619df02c568578953098647f68355cd937392bcc67f0df77ebfc2f05d2aa5d351ff1c4038dfa9110|4|8', name='8d8cb49e17e232b3a27125314b5240c492deb557bb332b17619df02c568578953098647f68355cd937392bcc67f0df77ebfc2f05d2aa5d351ff1c4038dfa9110|4|8', description='8d8cb49e17e232b3a27125314b5240c492deb557bb332b17619df02c568578953098647f68355cd937392bcc67f0df77ebfc2f05d2aa5d351ff1c4038dfa9110|4|8 <unknown description>', dbxrefs=[]),\n",
        " SeqRecord(seq=Seq('TAGAAAAATATGCGGAATGTTAAATGAAGCTGAACCGCCTCCCCAAACAGTTAT...ATA', SingleLetterAlphabet()), id='2f901f7dee52af2358c2ee6bdc70f0994cf33f912ff663272dc13477658e771c599ca887d9b9259c69157c5bfa4e052cddc283a5a2df57a86bd14e2aa0408a4b|1|9', name='2f901f7dee52af2358c2ee6bdc70f0994cf33f912ff663272dc13477658e771c599ca887d9b9259c69157c5bfa4e052cddc283a5a2df57a86bd14e2aa0408a4b|1|9', description='2f901f7dee52af2358c2ee6bdc70f0994cf33f912ff663272dc13477658e771c599ca887d9b9259c69157c5bfa4e052cddc283a5a2df57a86bd14e2aa0408a4b|1|9 <unknown description>', dbxrefs=[]),\n",
        " SeqRecord(seq=Seq('CCCAATTCTCCAGTCAGCCGTTGGAACAGGGGTTGACGAATTTCGCCGTACATT...CCG', SingleLetterAlphabet()), id='2f901f7dee52af2358c2ee6bdc70f0994cf33f912ff663272dc13477658e771c599ca887d9b9259c69157c5bfa4e052cddc283a5a2df57a86bd14e2aa0408a4b|4|9', name='2f901f7dee52af2358c2ee6bdc70f0994cf33f912ff663272dc13477658e771c599ca887d9b9259c69157c5bfa4e052cddc283a5a2df57a86bd14e2aa0408a4b|4|9', description='2f901f7dee52af2358c2ee6bdc70f0994cf33f912ff663272dc13477658e771c599ca887d9b9259c69157c5bfa4e052cddc283a5a2df57a86bd14e2aa0408a4b|4|9 <unknown description>', dbxrefs=[])]"
       ]
      }
     ],
     "prompt_number": 13
    },
    {
     "cell_type": "code",
     "collapsed": false,
     "input": [
      "# Append the sequences to the dictionary.\n",
      "# This can be written into a function.\n",
      "split_char = '|' # The character that will be used to split the SeqRecord.id string\n",
      "pos_segment_num = 1 # The position of the segment number after splitting by the split_char\n",
      "\n",
      "for sequence in sequences:\n",
      "    segment_number = int(sequence.id.split(split_char)[pos_segment_num])\n",
      "    sequences_dictionary[segment_number].append(sequence)\n",
      "\n",
      "# sequences_dictionary"
     ],
     "language": "python",
     "metadata": {},
     "outputs": [],
     "prompt_number": 14
    },
    {
     "cell_type": "code",
     "collapsed": false,
     "input": [
      "# Create a NetworkX graph using one segment's sequences, and add nodes.\n",
      "import networkx as nx\n",
      "\n",
      "G = nx.DiGraph()\n",
      "\n",
      "splitchar = '|'\n",
      "pos_id = 0\n",
      "pos_segment_num = 1\n",
      "pos_creation_time = 2\n",
      "\n",
      "segment_number = 4\n",
      "\n",
      "for sequence in sequences_dictionary[segment_number]:\n",
      "    [isolate_id, segment_num, creation_time] = sequence.id.split(splitchar)\n",
      "    G.add_node(isolate_id[0:5], sequence=sequence.seq, id=isolate_id, segment_num=int(segment_num), creation_time=int(creation_time))\n",
      "\n",
      "# at this point, we would return G, and append it to the dictionary of Graphs available.\n",
      "# G.nodes(data=True)"
     ],
     "language": "python",
     "metadata": {},
     "outputs": [],
     "prompt_number": 15
    },
    {
     "cell_type": "code",
     "collapsed": false,
     "input": [
      "# Add edges to the graph, based on the Levenshtein distance between two sequences.\n",
      "import Levenshtein\n",
      "for node1 in G.nodes(data=True):\n",
      "    for node2 in G.nodes(data=True):\n",
      "        if node1[1]['creation_time'] < node2[1]['creation_time']:\n",
      "            weight = Levenshtein.distance(str(node1[1]['sequence']), str(node2[1]['sequence']))\n",
      "            G.add_edge(node1[0], node2[0], weight=weight)"
     ],
     "language": "python",
     "metadata": {},
     "outputs": [],
     "prompt_number": 16
    },
    {
     "cell_type": "code",
     "collapsed": false,
     "input": [
      "# Prune graph by distance.\n",
      "for node in G.nodes(data=True):\n",
      "    in_edges = G.in_edges(node[0], data=True)\n",
      "#     print in_edges\n",
      "    if len(in_edges) != 0:\n",
      "        min_weight = min([edge[2]['weight'] for edge in in_edges])\n",
      "        print min_weight\n",
      "        print node\n",
      "        for edge in in_edges:\n",
      "            if edge[2]['weight'] != min_weight:\n",
      "                G.remove_edge(edge[0], edge[1])"
     ],
     "language": "python",
     "metadata": {},
     "outputs": [
      {
       "output_type": "stream",
       "stream": "stdout",
       "text": [
        "6\n",
        "('3c792', {'segment_num': 4, 'creation_time': 5, 'id': '3c79209ce5829d9bbe5113148e52056d417329eeb34371bbe4b74defdf40392fab4fe6d0a4c6d43a65272f25a1beeed625aa2d115852f2e8b6d69d853cb988dc', 'sequence': Seq('GTCGCATCAAGATTATTTAAAAGGCAATGTCGCGGAATCCAGCATCATCGTGCT...AGG', SingleLetterAlphabet())})\n",
        "14\n",
        "('8d8cb', {'segment_num': 4, 'creation_time': 8, 'id': '8d8cb49e17e232b3a27125314b5240c492deb557bb332b17619df02c568578953098647f68355cd937392bcc67f0df77ebfc2f05d2aa5d351ff1c4038dfa9110', 'sequence': Seq('CCCAATTCTCCAGTCAGCCGTTGGAACAGGGGTTGACGAATTTCGCCGTACATT...CCG', SingleLetterAlphabet())})\n",
        "13\n",
        "('c019c', {'segment_num': 4, 'creation_time': 7, 'id': 'c019c5d9e73bcbdd00c7aa9324bacc58a5cb81898ffa7edeca9e42d2b041cf58b6332ed41f87c65974af0a20017899cb59a8b08ad0ec3a36e70829166d599022', 'sequence': Seq('GTCGCATCAAGATTATTTAAAAGGCAATGTCGCGGAATCCAGCATCATCGTGCT...AGG', SingleLetterAlphabet())})\n",
        "10\n",
        "('be78f', {'segment_num': 4, 'creation_time': 6, 'id': 'be78f551726f3698abd1afd19a2ef5179c41177cb3d445766813c641406b95dd9e54759a4c5387e21961b7c5a7fe695c362169a63d288a3d5d8d7f5701b0c101', 'sequence': Seq('CCCAATTCTCCAGTCAGCCGTTGGAACAGGGGTTGACGAATTTCGCCGTACATT...CGG', SingleLetterAlphabet())})\n",
        "6\n",
        "('36a87', {'segment_num': 4, 'creation_time': 3, 'id': '36a87934fc067d08141439260c0033d8567f29832341c0fe0fc059b0e7eafdb7e95311096782155b70628dd57dccfcae31efed484f7245f5c3053c92ff29a1b2', 'sequence': Seq('CCCAATTCTCCAGTCAGCCGTTGGAACAGGGGTTGACGAATTTCGCCGTACATT...CGG', SingleLetterAlphabet())})\n",
        "10\n",
        "('8bcc5', {'segment_num': 4, 'creation_time': 1, 'id': '8bcc5ead4d8e7df1c509ba54599cf10f25d93f29e7f61d907cce621ba1c303c71f7a6ac66f1d1dc542ae09fda6c7c2ed6c727b54cc7e465cc270745108ea915e', 'sequence': Seq('GTCGCATCAAGATTATTTAAAAGGCAATGTCGCGGAATCCAGCATCATCGTGCT...AGG', SingleLetterAlphabet())})\n",
        "13\n",
        "('d9aa8', {'segment_num': 4, 'creation_time': 4, 'id': 'd9aa82cec9f738ec06548d455a2df31eed0235d9db83a07638312d77304656db600c38cfbd4899ce7f0ebcf39ae1469f7046d9910ddf0559dc178ef3812a3f45', 'sequence': Seq('GTCGCATCAAGATTATTTAAAAGGCAATGTCGCGGAATCCAGCATCATCGTGCT...AGG', SingleLetterAlphabet())})\n",
        "8\n",
        "('e3020', {'segment_num': 4, 'creation_time': 2, 'id': 'e3020681a998b0831b80f481e05f0fc223a9a17ff70df20b38786b3fa1b8a3a8b9bb75319e3db9dcea313b488c1e576356805290be13465e202dd47eb08a47da', 'sequence': Seq('CCCAATTCTCCAGTCAGCCGTTGGAACAGGGGTTGACGAATTTCGCCGTACATT...CGG', SingleLetterAlphabet())})\n",
        "13\n",
        "('2f901', {'segment_num': 4, 'creation_time': 9, 'id': '2f901f7dee52af2358c2ee6bdc70f0994cf33f912ff663272dc13477658e771c599ca887d9b9259c69157c5bfa4e052cddc283a5a2df57a86bd14e2aa0408a4b', 'sequence': Seq('CCCAATTCTCCAGTCAGCCGTTGGAACAGGGGTTGACGAATTTCGCCGTACATT...CCG', SingleLetterAlphabet())})\n"
       ]
      }
     ],
     "prompt_number": 17
    },
    {
     "cell_type": "code",
     "collapsed": false,
     "input": [
      "nx.draw_circular(G)"
     ],
     "language": "python",
     "metadata": {},
     "outputs": [
      {
       "metadata": {},
       "output_type": "display_data",
       "png": "[encoded data removed]",
       "text": [
        "<matplotlib.figure.Figure at 0x106326650>"
       ]
      }
     ],
     "prompt_number": 18
    },
    {
     "cell_type": "markdown",
     "metadata": {},
     "source": [
      "# Test Reconstructor Class"
     ]
    },
    {
     "cell_type": "code",
     "collapsed": false,
     "input": [
      "from reconstructor import Reconstructor\n",
      "import networkx as nx"
     ],
     "language": "python",
     "metadata": {},
     "outputs": [],
     "prompt_number": 19
    },
    {
     "cell_type": "code",
     "collapsed": false,
     "input": [
      "r = Reconstructor(segments=[1, 4])\n",
      "print r.sequences\n",
      "print r.graphs"
     ],
     "language": "python",
     "metadata": {},
     "outputs": [
      {
       "output_type": "stream",
       "stream": "stdout",
       "text": [
        "{1: [], 4: []}\n",
        "{1: <networkx.classes.digraph.DiGraph object at 0x106393190>, 4: <networkx.classes.digraph.DiGraph object at 0x1063930d0>}\n"
       ]
      }
     ],
     "prompt_number": 20
    },
    {
     "cell_type": "code",
     "collapsed": false,
     "input": [
      "fasta_file = 'FASTA Files/outfile_test.fasta'\n",
      "r.read_fasta_file(fasta_file)"
     ],
     "language": "python",
     "metadata": {},
     "outputs": [],
     "prompt_number": 21
    },
    {
     "cell_type": "code",
     "collapsed": false,
     "input": [
      "r.add_nodes_with_data()\n",
      "r.add_edges_with_weight()\n",
      "r.prune_graphs_by_weight()\n",
      "r.compose_segment_graphs()\n",
      "r.condense_composed_segment_graphs()\n",
      "r.prune_condensed_graph()"
     ],
     "language": "python",
     "metadata": {},
     "outputs": [],
     "prompt_number": 22
    },
    {
     "cell_type": "code",
     "collapsed": false,
     "input": [
      "r.condensed_graph.edges(data=True)"
     ],
     "language": "python",
     "metadata": {},
     "outputs": [
      {
       "metadata": {},
       "output_type": "pyout",
       "prompt_number": 23,
       "text": [
        "[('8d8cb', '2f901', {'segments': [1, 4], 'weight': 14}),\n",
        " ('be78f', 'c019c', {'segments': [1], 'weight': 1}),\n",
        " ('36a87', 'be78f', {'segments': [1, 4], 'weight': 12}),\n",
        " ('8bcc5', 'c019c', {'segments': [4], 'weight': 13}),\n",
        " ('8bcc5', 'd9aa8', {'segments': [1, 4], 'weight': 15}),\n",
        " ('d9aa8', '3c792', {'segments': [1, 4], 'weight': 7}),\n",
        " ('e3020', '8d8cb', {'segments': [1, 4], 'weight': 15}),\n",
        " ('f6519', '36a87', {'segments': [1, 4], 'weight': 7}),\n",
        " ('f6519', 'e3020', {'segments': [1, 4], 'weight': 8}),\n",
        " ('bf226', '8bcc5', {'segments': [1, 4], 'weight': 10})]"
       ]
      }
     ],
     "prompt_number": 23
    },
    {
     "cell_type": "code",
     "collapsed": false,
     "input": [
      "r.condensed_graph.nodes(data=True)"
     ],
     "language": "python",
     "metadata": {},
     "outputs": [
      {
       "metadata": {},
       "output_type": "pyout",
       "prompt_number": 24,
       "text": [
        "[('3c792',\n",
        "  {'creation_time': '5',\n",
        "   'id': '3c79209ce5829d9bbe5113148e52056d417329eeb34371bbe4b74defdf40392fab4fe6d0a4c6d43a65272f25a1beeed625aa2d115852f2e8b6d69d853cb988dc',\n",
        "   'segment_number': '4',\n",
        "   'sequence_1': 'TAGAAAAATATGCGGAATGTTAAATGAAGCTGAACCGCCTCCCTAAACAGTTATGATCCCTATCCAGTTGATAGTATCCTGAGCTGGTGGTGCATAATCTTCTCTTACAGCAGACATGTAGATTCTCTAGCCGGACGTTTTCGAAGGTTACCACCAGACTATGGACTAAAGACTGAATCAATATTAGTGTCGTCGGGTGCACACCTAGGAGCGGGTAGCGGCTACGATAACTTTACAGCGTTGGAAAACCGCGCCGTATACAGATGAGACCCATTTTAGGATCGACCTGCTGCTTAGACCTGCCCAACAGCCGCCGCAACCCTCTGATGGTATTGGGTACCGCCCTTTGTGCCCTTTCATTATTCGGGCTTGTTACCGTGTACTACGAATGCCTCATGATATGGGTACGGGGGGCAGCGGTATGAGCGTGACCTCGCGAGCCTTTATGGATGACCTTCTGGATAGGATTGAGTTGCTACTTAGCGATCTTGCGCCGCAACTATAACTAGAAGAACCGTACAGAAGTCCACATTATAAAGCGAACATGACAGGAGCCGCCTCATGCCGGTGACCCAGAACGTATAGTCCTGTCAGTGGGGACTCGCCATTCAAGTCGCGGAATTACTCACCCGGGGCTTCCAATTGTGTACGCACCTATATCCTCGGTAAGTTGGAGCTGCGCACTCTTATCATGCCAGCCTTATCCATCCAGTAGATGGATGCCGGTCCAATATTGTTAAAAGATATCATCAGGGCAGTGAGCTACAGGGCTGCTTCGTCTAGCGGGACCCGTGAGGCCCGAGTACTCTCTTAGCGTAGATCTCTGTTAAGGATGACTAAGATATTCGAGAGTTCAACCTGCGGCCAACGGTACACCCTTTTCAACAGAGGGCGCCATTAACGGTATTTTTCGCTCAATTCGGCACACGCCGGTATCGCAACTCACGCAGCTACGTGGGGATCAATCGTATCAGTGTATCTTACGCGAGTCTTAAAGATA',\n",
        "   'sequence_4': 'GTCGCATCAAGATTATTTAAAAGGCAATGTCGCGGAATCCAGCATCATCGTGCTTTGGCATCCTAGGTCGTCCCTCCCGTGCGCATAAAAGACTGTTATAATGCCCTAAGCTCGTGCAATATCTTATTTATCGTCGACGGACGGTCCCATGATACATTCGTGCTGAGAGCCTAGCCAAAGCAGCCTGTAATATCTGTTTAGTTCGCCCAACCCTCCCCTCTGCTCGATACTCTCGTTTCTTGCACATATGTAGATGCATATTTAACCCCATCTTCGATCTGACTCTACGACGGGCCACCGGTAACAAGAAAATCCGAACAGTTCTCCGTCAAATGCCAGGTGCCCTCCATCGGACGTCACTCATTACCAGCACGACCTTAGGCGGCGGATACTGCGGTTTAGGTCTCGGCAAGAGCACCAACAGAATCTTGCGTTCTTCTGCCCTGTCTTCCGTAGTCGAGCAGTGGTATAATTACCGGAGCGTCCTTGTTCTACGAGATGACGTGCACGATGTTAGATTGAACTACCTAATTGGGCGTCACGTAAACCGACTCTTCCGCTACACGGACAAGTATAATTCACTTATTGGGGCTGTGTGCACAAATAGTACGCGCAATTGGTGTCCGTCGTTCATTGGGCTGCACCCAATTACATTCAGTGGTGGGACAAACGGAGACCTCCACTGGTGCAGGCGGAAATGAGCGCACTTTGAAATACGGCCTGTGTCACTACTCTATCATGTCTGTGGCGGGATCTTATGGGCTGGTCTACTAGGACTGTTTATGAATGGAGCCGACCCGACCTATCGTAGTCCAGGAGAAACAACGTCCCGTTGGGCCGGGGTAAGTATAGACAGTGGCAAGATATTTCGGGGAATCTAAATATGTCCCTGTATCACTTAGTCAACGTAACTAGCTTTGATTTGGCTTAATAGGTGACACCAGACGCACAGTGCTACCGCGGTATGAGGAAAACCTTAACGCACGCACCCACGAATAGG'}),\n",
        " ('8d8cb',\n",
        "  {'creation_time': '8',\n",
        "   'id': '8d8cb49e17e232b3a27125314b5240c492deb557bb332b17619df02c568578953098647f68355cd937392bcc67f0df77ebfc2f05d2aa5d351ff1c4038dfa9110',\n",
        "   'segment_number': '4',\n",
        "   'sequence_1': 'TAGAAAAATATGCGGAATGTTAAATGAAGCTGAACCGCCTCCCCAAACAGTTATGATCCCTATCCAGTTGATAGTATCCTGAGCTGGTGGTGCATAATCTTCTCTTACAGCAGACATGTAGATTCTCTAGCCGGACGTTTTCGAAGGTTACCACCAGACTATGGACTAAAGACTGAATCAATATTAGTGTCGTCGGGTGCACACCTAGGAGCGGGTAGCGGCTACGATAACTTTACAGCGTTGGAAAACCGCGCCGTATACAGATGAGACCCATTTTAGGATCGACCTGCTGCTTAGACCTGCCCAACAGCCGCCGCAACCCTCTGATGGTATTGGGTACCGCCCTTTGTGCCCTTTCATTATTCGGGCTTGTTACCGTGTACTACGAATGCCTCATGATATGGGTACGGGGGGCAGCGGTATGAGCGTGACCTCGCGAGCCTTTATGGATGACCTTCTGGATAGGATTGAGTTGCTACTTAGCGATCTTGCGCCGCAACTATAACTAGAAGAACCGTACAGAAGTCCACATTATAAAGCGAACATGACAGGAGCCGCCTCATGCCGGTGACCCAGAACGTATAGTCCTGTCAGTGGGGACTAGCCATTCAAGTCGCGGAATTACTCACCCGGGGCTTCCAATTGTGTACGCACCTATATCCTCGGTAAGTTGGAGCTGCGCACTCTTATCATGCCAGCCTTATCCATCCAGTAGATGGATGCCGGTCCAATATTGTTAAAAGATATCATCAGGGCAGTGAGCTACAGGGCTGCTTCGTCTAGCGGGACCCGTGAGGCCCGAGTACTCTCTTAGCGTAGATCTCTGTTAAGGATGACTAAGATATTCGAGAGTTCAACCTGCGGGCAACGGTACACCCTTTTCAACAGAGGGCGCCATTAACGGTATTTTTCGCGCAATTCGGCACACGCCGGTATCGCAACTCACGCAGCTACGTGGGGATCAATCGTATCAGTGTATCTTACGCGAGTCTTAAAGATA',\n",
        "   'sequence_4': 'CCCAATTCTCCAGTCAGCCGTTGGAACAGGGGTTGACGAATTTCGCCGTACATTAATGATCAGACAAGGTACTACGCGTAATAGAGGGTCGAATGTGTCATAGTCTGGCTCCGGTCTTGGGACTGCGCCGCAGAGTGAAAGCTCATCCGGACTCCAGAACTGATCGTCAATACGACGCTCGATATGGTCGGAGAGGGTGCCGGCTCGGCGCCGCAACAAACCTGCCATACAATCTCGTCAGACCACAAATCTCTGCCCCTGATAACGTTCACTGGGCTCTCCTTGGGGCTGTATCTATATCCCGCCCGGGGAGAGCCCTGCATTAACCCGAGGGCTACCATTCAACTGGCGTTGCTCATTGTAAGTTATCCGGCTCTTGATTGGCCCTGCTGCACGTAATAGGTATAGCGACGATCTCATGGTAGGCTCTAGCTCCGAAATTGAGCCGCGTATACAATGATCTATACGTACGGTGCACATATTCATGGAGAGACTAGGGTTGGATGCGCATGATTCTTCCACGAGCACGGACATTGCGATAATTCCTCTAGTCGGTTGTTTAATGAGGTACCGCCCACCGTGTTTTTTTTTATTATCTTTTCCACAATCGCCAATTAGTGTGTGTCTCAATCAATGAACGTGACCTCGTATTATTAAATCCACATCCACTTATGTGTTAACATGTTGTACTGCCAGCCATAGCACTCCTAACTAGGCACCAAATTTGTGCTCTAAGCCCCCAAAAGTTAGACTCATATCTGTCGGCCAATCGTATATCCCTGGGAGTTAAAAACTTGTGCTCAAGTGACAGGCACGCATCCGATATCTCGCCGTAAAACCGGTCACAAGATCTCCACGGAATTTGCTACCCACACATTATAGTAAGTAGTACCTGACTATTACAATCCGCCGCCCACATACTTGATTTCCTTGTATGCGCAGTAGCAGTTTCAAGCCCTGGTTGTAAGAGAGAGTGGCCTTCCGGACTCAGAACTCCCCG'}),\n",
        " ('c019c',\n",
        "  {'creation_time': '7',\n",
        "   'id': 'c019c5d9e73bcbdd00c7aa9324bacc58a5cb81898ffa7edeca9e42d2b041cf58b6332ed41f87c65974af0a20017899cb59a8b08ad0ec3a36e70829166d599022',\n",
        "   'segment_number': '4',\n",
        "   'sequence_1': 'TAGAAAAATATGCGGAATGTTAAATGAAGCTGAACCGCCTCCCCAAACAGTTATGATCCCTATCCAGTTGATAGTATCCTGAGCTGGTGGTGCATAATCTTCTCTTACAGCAGACATGTAGATTCTCTAGCCGGACGTTTTCGAAGGTTACCACCAGACTATGGACTAAAGACTGAATCAATATTAGTGTCGTCGGGTGCACACCTAGGAGCGGGTAGCGGCTACGATAACTTTACAGCGTTGGAAAACCGCGCCGTATACAGATGAGACCCATTTTAGGATCGACCTGCTGCTTAGACCTGCCCAACAGCCGCCGCAACCCTCTGATGGTATTGGGTACCGCCCTTTGTGCCCTTTCATTATTCGGGCTTGTTACCGTGTACTACGAATGCCTCATGATATGGGTACGGGGGGCAGCGGTATGAGCGTGACCTCGCGAGCCTTTATGGATGACCTTCTGGATAGGATTGAGTTGCTACTTAGCGATCTTGCGCCGCAACTATAACTAGAAGAACCGTACAGCAGTCCACATTATAAAGCGAACATGACAGGAGCCGCCTCATGCCGGTGACCCAGAACGTATAGTCCTGTCAGTGGGGACTAGCCATTCAAGTCGCGGAATTACTCACCCGGGGCTTCCAATTGTGTACGCACCTATATCCTCGGTAAGTTGGAGCTGCGCACTCTTATCATGCCAGCCTTATCCATCCAGTAGATGAATGCCGGTCCAATATCGTTAAAAGAGATCATCAGGGCAGTGAGCTACAGGGCTGCTTCGTCTAGCGGGACCCGTGAGGCCCGAGTACTCTCTTAGCGTAGATCTCTGTTAAGGATGACTAAGATATTCGAGAGTTCAACCTGCGGGCAACGGTACACCCTTTTCAACAGAGGGCGCCATTAACGGTATTTTTCGCTCAATTCGGCACACGCCGGTATCGCAACTCACGCAGCTACGTGGGGATCAATCGTATCAGTGTATCTTACGCGAGTCTTAAAGATA',\n",
        "   'sequence_4': 'GTCGCATCAAGATTATTTAAAAGGCAATGTCGCGGAATCCAGCATCATCGTGCTTTGGCATCCTAGCTCGTCCCTCCCGTACGCATGAAAGACTGTTATAATGCCCTAAGCTCGTGCAATATCTTGTTTATCGTCGACGGACGGTCCCATGATACATTCGTGCTGAGATCCTATCCAAAGCAGCTTGTAATATCTGTTTAGTTCGCCCAACCCTCCCCTCTGCTCGATACTCTCTTTTCCTGCACATATGTAGATGCATATTTAACCCCATCTTCGATCTGACTCTACGACGGGCCACCGGTAACAAGAAAATCCGAACAGTTCTCCGTCAAATGCCAGGTGCCCCCCATCGGACGTCACTTATTACCGGCACGACCTTAGGCGGCGGATACTGCGGTTTAGGTCTCGGCAAGAGCACCAACAGAATCTTGCGTTCTTCTGCCCTGTCTTCCGTAGTCGAGCAGTGGTATTATTACCGGAGCGTCCTTGTTCTACGAGATGACGTGAACGATGTTAGATTGAACTACCTAATTTGGCGTCACGTAAACCGACTCTTCCGCTACACGGACAAGTATACTTCACTTATTGGCGCTGTGTGCACAAATAGTACGCGCAATTGGTGTCCGCCGTTCATTGGGCTACACCCAATTACATTCAGTGGTGGGACAAACGGAGAGCTCCACTGGTGCAGGCGGAAATGACCGCTCTTAAAAATACGGCCTGTGTCACTACTCTATCATGTCTGTGGCGGGATCTTATGGGCTGCTATACTGGGACTGTTTATGACTGAAGCCGACCCGACCTATCGTAGTCCAGGAGAAACAACGTCCCGTTGGGCCGGGGTAAGTATAGACAGTGGCAAGATATTTCGGAGAATCTAAAGATGTCCCTGTATCACTTAGTCAACGTAACTAGCTTTGATTTGGCTTAATAGGTGACACCATACGCACAGTGCTACCGCGGTATGAGGAAAACCTTAACGCACGCACCCACGAATAGG'}),\n",
        " ('be78f',\n",
        "  {'creation_time': '6',\n",
        "   'id': 'be78f551726f3698abd1afd19a2ef5179c41177cb3d445766813c641406b95dd9e54759a4c5387e21961b7c5a7fe695c362169a63d288a3d5d8d7f5701b0c101',\n",
        "   'segment_number': '4',\n",
        "   'sequence_1': 'TAGAAAAATATGCGGAATGTTAAATGAAGCTGAACCGCCTCCCCAAACAGTTATGATCCCTATCCAGTTGATAGTATCCTGAGCTGGTGGTGCATAATCTTCTCTTACAGCAGACATGTAGATTCTCTAGCCGGACGTTTTCGAAGGTTACCACCAGACTATGGACTAAAGACTGAATCAATATTAGTGTCGTCGGGTGCACACCTAGGAGCGGGTAGCGGCTACGATAACTTTACAGCGTTGGAAAACCGCGCCGTATACAGATGAGACCCATTTTAGGATCGACCTGCTGCTTAGACCTGCCCAACAGCCGCCGCAACCCTCTGATGGTATTGGGTACCGCCCTTTGTGCCCTTTCATTATTCGGGCTTGTTACCGTGTACTACGAATGCCTCATGATATGGGTACGGGGGGCAGCGGTATGAGCGTGACCTCGCGAGCCTTTATGGATGACCTTCTGGATAGGATTGAGTTGCTACTTAGCGATCTTGCGCCGCAACTATAACTAGAAGAACCGTACAGAAGTCCACATTATAAAGCGAACATGACAGGAGCCGCCTCATGCCGGTGACCCAGAACGTATAGTCCTGTCAGTGGGGACTAGCCATTCAAGTCGCGGAATTACTCACCCGGGGCTTCCAATTGTGTACGCACCTATATCCTCGGTAAGTTGGAGCTGCGCACTCTTATCATGCCAGCCTTATCCATCCAGTAGATGAATGCCGGTCCAATATCGTTAAAAGAGATCATCAGGGCAGTGAGCTACAGGGCTGCTTCGTCTAGCGGGACCCGTGAGGCCCGAGTACTCTCTTAGCGTAGATCTCTGTTAAGGATGACTAAGATATTCGAGAGTTCAACCTGCGGGCAACGGTACACCCTTTTCAACAGAGGGCGCCATTAACGGTATTTTTCGCTCAATTCGGCACACGCCGGTATCGCAACTCACGCAGCTACGTGGGGATCAATCGTATCAGTGTATCTTACGCGAGTCTTAAAGATA',\n",
        "   'sequence_4': 'CCCAATTCTCCAGTCAGCCGTTGGAACAGGGGTTGACGAATTTCGCCGTACATTAATGATCAGACAAGGTACTACGCGTAATAGAGGGTCGAATGTGTCATAGTCTGGCTCCGGTCTTGGGACTGTGCAGCAGAGTGAAAGCTCATCCGGACTCCAGAACTGATCTTCATTACGACGCTCGATATTGTCGAAGACGGTGCCGGATCGGCGCCGCAACAAACCTGCCATACAATCTCGTCAGACCACAAATCTCTGCCCCTGATAACGTTCACTCAGTTCTCCTTGGGGCTGTATCTATACCCCGCCCGGGGAGAGCCCTGCATTAACCCGAGGCCTACCATTCAACTGGTGTTGCTCATTGTAAGTTAGCCGGCTCTTGATTGGCCCTGCTGCACGTAAGAGGTATAGCGACGATCTCATGGTAGGCTCTAGCTCCGAAATTGAGCCGCGTATACAATGATCTATACGTACGGTGCCCATATTCATGGAGAGACTAAGGTTGGATGCGCATGATGCTTCCACGAGCACGGGCATTGCGATAACTCCTCTAGTCGGTTGTTTAATGAGGTACCGCCCACCGTGCTTTTTTTTATTATCTTTTCCACATTCGCCAATTAGTGTGTGTCTCAATCAATCAACGTGACCTCGTATTATTAAATCCACATCCACTTATGTGTTAACATGTTGTACTGTCAGCCATAGCACTCCTAACTAGCCACCAAATTTGTGCTCTAAGCCCCCAAAAGTTAGACTCATATCTGTCGGGCAATCGTATATCCCTGGGAGTAAAAAACTTGTGCTCAAGTGACAGGCACGCATCCGATATCTCGCCGTAAAACCGGTCACAAAATCTCCACGGAATTTCCTACCCACACATTATAGTAAGTAGTACCTGACTATTACAGTCAGCCGCCAACACACTTGATTTACTTGTATGCGCTGTAGCAGTTTCAAGCCCTGGTTGCAAGAGAGAGTGGCCTTCCGGACTCAGAACTCCCGG'}),\n",
        " ('36a87',\n",
        "  {'creation_time': '3',\n",
        "   'id': '36a87934fc067d08141439260c0033d8567f29832341c0fe0fc059b0e7eafdb7e95311096782155b70628dd57dccfcae31efed484f7245f5c3053c92ff29a1b2',\n",
        "   'segment_number': '4',\n",
        "   'sequence_1': 'TAGAAAAATATGCGGAATGTTAAATGAAGCTGAACCGCCTCCCCAAACAGTTATGATCCCTATCCAGTTGATAGTATCCTGAGCTGGTGGTGCATAATCTTCTCTTACAGCAGACATGTAGATTCTCTAGCCGGACGTTTTCGAAGGTTACCACCAGACTATGGACTAAAGACTGAATCAATATTAGTGTCGTCGGGTGCACACCTAGGAGCGGGTAGCGGCTACGATAACTTTACAGCGTTGGAAAACCGCGCCGTATACAGATGAGACCCATTTTAGGATCGACCTGCTGCTTAGACCTGCCCAACAGCCGCCGCAACCCTCTGATGGTATTGGGTACCGCCCTTTGTGCCCTTTCATTATTCGGGCTTGTTACCGTGTACTACGAATGCCTCATGATATGGGTACGGGGGGCAGCGGTATGAGCGTGACCTCGCGAGCCTTTATGGATGACCTTCTGGATAGGATTGAGTTGCTACTTAGCGATCTTGCGCCGCAACTATAACTAGAAGAACCGTACAGAAGTCCACATTATAAAGCGAACATGACAGGAGCCGCCTCATGCCGGTGACCCAGAACGTATAGTCCTGTCAGTGGGGACTAGCCATTCAAGTCGCGGAATTACTCACCCGGGGCTTCCAATTGTGTACGCACCTATATCCTCGGTAAGTTGGAGCTGCGCACTCTTATCATGCCAGCCTTATCCATCCAGTAGATGGATGCCGGTCCAATATCGTTAAAAGATATCATCAGGGCAGTGAGCTACAGGGCTGCTTCGTCTAGCGGGACCCGTGAGGCCCGAGTACTCTCTTAGCGTAGATCTCTGTTAAGGATGACTAAGATATTCGAGAGTTCAACCTGCGGGCAACGGTACACCCTTTTCAACAGAGGGCGCCATTAACGGTATTTTTCGCTCAATTCGGCACACGCCGGTATCGCAACTCACGCAGCTACGTGGGGATCAATCGTATCAGTGTATCTTACGCGAGTCTTAAAGATA',\n",
        "   'sequence_4': 'CCCAATTCTCCAGTCAGCCGTTGGAACAGGGGTTGACGAATTTCGCCGTACATTAATGATCAGACAAGGTACTACGCGTAATAGAGGGTCGAATGTGTCATAGTCTGGCTCCGGTCTTGGGACTGTGCCGCAGAGTGAAAGCTCATCCGGACTCCAGAACTGATCTTCAATACGACGCTCGATATTGTCGAAGACGGTGCCGGATCGGCGCCGCAACAAACCTGCCATACAATCTCGTCAGACCACAAATCTCTGCCCCTGATAACGTTCACTCAGTTCTCCTTGGGGCTGTATCTATATCCCGCCCGGGGAGAGCCCTGCATTAACCCGAGGCCTACCATTCAACTGGTGTTGCTCATTGTAAGTTATCCGGCTCTTGATTGGCCCTGCTGCACGTAAGAGGTATAGCGACGATCTCATGGTAGGCTCTAGCTCCGAAATTGAGCCGCGTATACAATGATCTATACGTACGGTGCACATATTCATGGAGAGACTAAGGTTGGATGCGCATGATGCTTCCACGAGCACGGGCATTGCGATAATTCCTCTAGTCGGTTGTTTAATGAGGTACCGCCCACCGTGCTTTTTTTTATTATCTTTTCCACATTCGCCAATTAGTGTGTGTCTCAATCAATCAACGTGACCTCGTATTATTAAATCCACATCCACTTATGTGTTAACATGTTGTACTGCCAGCCATAGCACTCCTAACTAGCCACCAAATTTGTGCTCTAAGCCCCCAAAAGTTAGACTCATATCTGTCGGGCAATCGTATATCCCTGGGAGTAAAAAACTTGTGCTCAAGTGACAGGCACGCATCCGATATCTCGCCGTAAAACCGGTCACAAAATCTCCACGGAATTTCCTACCCACACATTATAGTAAGTAGTACCTGACTATTACAATCCGCCGCCAACATACTTGATTTACTTGTATGCGCTGTAGCAGTTTCAAGCCCTGGTTGCAAGAGAGAGTGGCCTTCCGGACTCAGAACTCCCGG'}),\n",
        " ('8bcc5',\n",
        "  {'creation_time': '1',\n",
        "   'id': '8bcc5ead4d8e7df1c509ba54599cf10f25d93f29e7f61d907cce621ba1c303c71f7a6ac66f1d1dc542ae09fda6c7c2ed6c727b54cc7e465cc270745108ea915e',\n",
        "   'segment_number': '4',\n",
        "   'sequence_1': 'TAGAAAAATATGCGGAATGTTAAATGAAGCTGAACCGCCTCCCCAAACAGTTATGATCCCTATCCAGTTGATAGTATCCTGAGCTGGTGGTGCATAATCTTCTCTTACAGCAGACATGTAGATTCTCTAGCCGGACGTTTTCGAAGGTTACCACCAGACTATGGACTAAAGACTGAATCAATATTAGTGTCGTCGGGTGCACACCTAGGAGCGGGTAGCGGCTACGATAACTTTACAGCGTTGGAAAACCGCGCCGTATACAGATGAGACCCATTTTAGGATCGACCTGCTGCTTAGACCTGCCCAACAGCCGCCGCAACCCTCTGATGGTATTGGGTACCGCCCTTTGTGCCCTTTCATTATTCGGGCTTGTTACCGTGTACTACGAATGCCTCATGATATGGGTACGGGGGGCAGCGGTATGAGCGTGACCTCGCGAGCCTTTATGGATGACCTTCTGGATAGGATTGAGTTGCTACTTAGCGATCTTGCGCCGCAACTATAACTAGAAGAACCGTACAGAAGTCCACATTATAAAGCGAACATGACAGGAGCCGCCTCATGCCGGTGACCCAGAACGTATAGTCCTGTCAGTGGGGACTAGCCATTCAAGTCGCGGAATTACTCACCCGGGGCTTCCAATTGTGTACGCACCTATATCCTCGGTAAGTTGGAGCTGCGCACTCTTATCATGCCAGCCTTATCCATCCAGTAGATGGATGCCGGTCCAATATTGTTAAAAGATATCATCAGGGCAGTGAGCTACAGGGCTGCTTCGTCTAGCGGGACCCGTGAGGCCCGAGTACTCTCTTAGCGTAGATCTCTGTTAAGGATGACTAAGATATTCGAGAGTTCAACCTGCGGGCAACGGTACACCCTTTTCAACAGAGGGCGCCATTAACGGTATTTTTCGCTCAATTCGGCACACGCCGGTATCGCAACTCACGCAGCTACGTGGGGATCAATCGTATCAGTGTATCTTACGCGAGTCTTAAAGATA',\n",
        "   'sequence_4': 'GTCGCATCAAGATTATTTAAAAGGCAATGTCGCGGAATCCAGCATCATCGTGCTTTGGCATCCTAGCTCGTCCCTCCCGTACGCATAAAAGACTGTTATAATGCCCTAAGCTCGTGCAATATCTTGTTTATCGTCGACGGACGGTCCCATGATACATTCGTGCTGAGAGCCTATCCAAAGCAGCCTGTAATATCTGTTTAGTTCGCCCAACCCTCCCCTCTGCTCGATACTCTCTTTTCCTGCACATATGTAGATGCATATTTAACCCCATCTTCGATCTGACTCTACGACGGGCCACCGGTAACAAGAAAATCCGAACAGTTCTCCGTCAAATGCCAGGTGCCCTCCATCGGACGTCACTTATTACCGGCACGACCTTAGGCGGCGGATACTGCGGTTTAGGTCTCGGCAAGAGCACCAACAGAATCTTGCGTTCTTCTGCCCTGTCTTCCGTAGTCGAGCAGTGGTATTATTACCGGAGCGTCCTTGTTCTACGAGATGACGTGAACGATGTTAGATTGAACTACCTAATTTGGCGTCACGTAAACCGACTCTTCCGCTACACGGACAAGTATACTTCACTTATTGGGGCTGTGTGCACAAATAGTACGCGCAATTGGTGTCCGTCGTTCATTGGGCTGCACCCAATTACATTCAGTGGTGGGACAAACGGAGACCTCCACTGGTGCAGGCGGAAATGAGCGCTCTTTAAAATACGGCCTGTGTCACTACTCTATCATGTCTGTGGCGGGATCTTATGGGCTGCTCTACTGGGACTGTTTATGAATGAAGCCGACCCGACCTATCGTAGTCCAGGAGAAACAACGTCCCGTTGGGCCGGGGTAAGTATAGACAGTGGCAAGATATTTCGGAGAATCTAAATATGTCCCTGTATCACTTAGTCAACGTAACTAGCTTTGATTTGGCTTAATAGGTGACACCATACGCACAGTGCTACCGCGGTATGAGGAAAACCTTAACGCACGCACCCACGAATAGG'}),\n",
        " ('d9aa8',\n",
        "  {'creation_time': '4',\n",
        "   'id': 'd9aa82cec9f738ec06548d455a2df31eed0235d9db83a07638312d77304656db600c38cfbd4899ce7f0ebcf39ae1469f7046d9910ddf0559dc178ef3812a3f45',\n",
        "   'segment_number': '4',\n",
        "   'sequence_1': 'TAGAAAAATATGCGGAATGTTAAATGAAGCTGAACCGCCTCCCTAAACAGTTATGATCCCTATCCAGTTGATAGTATCCTGAGCTGGTGGTGCATAATCTTCTCTTACAGCAGACATGTAGATTCTCTAGCCGGACGTTTTCGAAGGTTACCACCAGACTATGGACTAAAGACTGAATCAATATTAGTGTCGTCGGGTGCACACCTAGGAGCGGGTAGCGGCTACGATAACTTTACAGCGTTGGAAAACCGCGCCGTATACAGATGAGACCCATTTTAGGATCGACCTGCTGCTTAGACCTGCCCAACAGCCGCCGCAACCCTCTGATGGTATTGGGTACCGCCCTTTGTGCCCTTTCATTATTCGGGCTTGTTACCGTGTACTACGAATGCCTCATGATATGGGTACGGGGGGCAGCGGTATGAGCGTGACCTCGCGAGCCTTTATGGATGACCTTCTGGATAGGATTGAGTTGCTACTTAGCGATCTTGCGCCGCAACTATAACTAGAAGAACCGTACAGAAGTCCACATTATAAAGCGAACATGACAGGAGCCGCCTCATGCCGGTGACCCAGAACGTATAGTCCTGTCAGTGGGGACTAGCCATTCAAGTCGCGGAATTACTCACCCGGGGCTTCCAATTGTGTACGCACCTATATCCTCGGTAAGTTGGAGCTGCGCACTCTTATCATGCCAGCCTTATCCATCCAGTAGATGGATGCCGGTCCAATATTGTTAAAAGATATCATCAGGGCAGTGAGCTACAGGGCTGCTTCGTCTAGCGGGACCCGTGAGGCCCGAGTACTCTCTTAGCGTAGATCTCTGTTAAGGATGACTAAGATATTCGAGAGTTCAACCTGCGGCCAACGGTACACCCTTTTCAACAGAGGGCGCCATTAACGGTATTTTTCGCTCAATTCGGCACACGCCGGTATCGCAACTCACGCAGCTACGTGGGGATCAATCGTATCAGTGTATCTTACGCGAGTCTTAAAGATA',\n",
        "   'sequence_4': 'GTCGCATCAAGATTATTTAAAAGGCAATGTCGCGGAATCCAGCATCATCGTGCTTTGGCATCCTAGGTCGTCCCTCCCGTGCGCATAAAAGACTGTTATAATGCCCTAAGCTCGTGCAATATCTTGTTTATCGTCGACGGACGGTCCCATGATACATTCGTGCTGAGAGCCTATCCAAAGCAGCCTGTAATATCTGTTTAGTTCGCCCAACCCTCCCCTCTGCTCGATACTCTCTTTTCCTGCACATATGTAGATGCATATTTAACCCCATCTTCGATCTGACTCTACGACGGGCCACCGGTAACAAGAAAATCCGAACAGTTCTCCGTCAAATGCCAGGTGCCCTCCATCGGACGTCACTCATTACCAGCACGACCTTAGGCGGCGGATACTGCGGTTTAGGTCTCGGCAAGAGCACCAACAGAATCTTGCGTTCTTCTGCCCTGTCTTCCGTAGTCGAGCAGTGGTATAATTACCGGAGCGTCCTTGTTCTACGAGATGACGTGCACGATGTTAGATTGAACTACCTAATTTGGCGTCACGTAAACCGACTCTTCCGCTACACGGACAAGTATAATTCACTTATTGGGGCTGTGTGCACAAATAGTACGCGCAATTGGTGTCCGTCGTTCATTGGGCTGCACCCAATTACATTCAGTGGTGGGACAAACGGAGACCTCCACTGGTGCAGGCGGAAATGAGCGCACTTTAAAATACGGCCTGTGTCACTACTCTATCATGTCTGTGGCGGGATCTTATGGGCTGGTCTACTAGGACTGTTTATGAATGGAGCCGACCCGACCTATCGTAGTCCAGGAGAAACAACGTCCCGTTGGGCCGGGGTAAGTATAGACAGTGGCAAGATATTTCGGGGAATCTAAATATGTCCCTGTATCACTTAGTCAACGTAACTAGCTTTGATTTGGCTTAATAGGTGACACCAGACGCACAGTGCTACCGCGGTATGAGGAAAACCTTAACGCACGCACCCACGAATAGG'}),\n",
        " ('e3020',\n",
        "  {'creation_time': '2',\n",
        "   'id': 'e3020681a998b0831b80f481e05f0fc223a9a17ff70df20b38786b3fa1b8a3a8b9bb75319e3db9dcea313b488c1e576356805290be13465e202dd47eb08a47da',\n",
        "   'segment_number': '4',\n",
        "   'sequence_1': 'TAGAAAAATATGCGGAATGTTAAATGAAGCTGAACCGCCTCCCCAAACAGTTATGATCCCTATCCAGTTGATAGTATCCTGAGCTGGTGGTGCATAATCTTCTCTTACAGCAGACATGTAGATTCTCTAGCCGGACGTTTTCGAAGGTTACCACCAGACTATGGACTAAAGACTGAATCAATATTAGTGTCGTCGGGTGCACACCTAGGAGCGGGTAGCGGCTACGATAACTTTACAGCGTTGGAAAACCGCGCCGTATACAGATGAGACCCATTTTAGGATCGACCTGCTGCTTAGACCTGCCCAACAGCCGCCGCAACCCTCTGATGGTATTGGGTACCGCCCTTTGTGCCCTTTCATTATTCGGGCTTGTTACCGTGTACTACGAATGCCTCATGATATGGGTACGGGGGGCAGCGGTATGAGCGTGACCTCGCGAGCCTTTATGGATGACCTTCTGGATAGGATTGAGTTGCTACTTAGCGATCTTGCGCCGCAACTATAACTAGAAGAACCGTACAGAAGTCCACATTATAAAGCGAACATGACAGGAGCCGCCTCATGCCGGTGACCCAGAACGTATAGTCCTGTCAGTGGGGACTAGCCATTCAAGTCGCGGAATTACTCACCCGGGGCTTCCAATTGTGTACGCACCTATATCCTCGGTAAGTTGGAGCTGCGCACTCTTATCATGCCAGCCTTATCCATCCAGTAGATGGATGCCGGTCCAATATTGTTAAAAGATATCATCAGGGCAGTGAGCTACAGGGCTGCTTCGTCTAGCGGGACCCGTGAGGCCCGAGTACTCTCTTAGCGTAGATCTCTGTTAAGGATGACTAAGATATTCGAGAGTTCAACCTGCGGGCAACGGTACACCCTTTTCAACAGAGGGCGCCATTAACGGTATTTTTCGCTCAATTCGGCACACGCCGGTATCGCAACTCACGCAGCTACGTGGGGATCAATCGTATCAGTGTATCTTACGCGAGTCTTAAAGATA',\n",
        "   'sequence_4': 'CCCAATTCTCCAGTCAGCCGTTGGAACAGGGGTTGACGAATTTCGCCGTACATTAATGATCAGACAAGGTACTACGCGTAATAGAGGGTCGAATGTGTCATAGTCTGGCTCCGGTCTTGGGACTGTGCCGCAGAGTGAAAGCTCATCCGGACTCCAGAACTGATCTTCAATACGACGCTCGATATTGTCGGAGAGGGTGCCGGCTCGGCGCCGCAACAAACCTGCCATACAATCTCGTCAGACCACAAATCTCTGCCCCTGATAACGTTCACTCGGTTCTCCTTGGGGCTGTATCTATATCCCGCCCGGGGAGAGCCCTGCATTAACCCGAGGCCTACCATTCAACTGGCGTTGCTCATTGTAAGTTATCCGGCTCTTGATTGGCCCTGCTGCACGTAAGAGGTATAGCGACGATCTCATGGTAGGCTCTAGCTCCGAAATTGAGCCGCGTATACAATGATCTATACGTACGGTGCACATATTCATGGAGAGACTAGGGTTGGATGCGCATGATGCTTCCACGAGCACGGGCATTGCGATAATTCCTCTAGTCGGTTGTTTAATGAGGTACCGCCCACCGTGCTTTTTTTTATTATCTTTTCCACATTCGCCAATTAGTGTGTGTCTCAATCAATGAACGTGACCTCGTATTATTAAATCCACATCCACTTATGTGTTAACATGTTGTACTGCCAGCCATAGCACTCCTAACTAGGCACCAAATTTGTGCTCTAAGCCCCCAAAAGTTAGACTCATATCTGTCGGCCAATCGTATATCCCTGGGAGTAAAAAACTTGTGCTCAAGTGACAGGCACGCATCCGATATCTCGCCGTAAAACCGGTCACAAGATCTCCACGGAATTTGCTACCCACACATTATAGTAAGTAGTACCTGACTATTACAATCCGCCGCCAACATACTTGATTTCCTTGTATGCGCAGTAGCAGTTTCAAGCCCTGGTTGTAAGAGAGAGTGGCCTTCCGGACTCAGAACTCCCGG'}),\n",
        " ('f6519',\n",
        "  {'creation_time': '0',\n",
        "   'id': 'f65192c243f3dab4b5984802950730e709b1887f9a3d3302f4d0d631eee7508fc1c9cb2cc9f2f3aa462ad59abaf0425d9610bb0e185cef170c79e4b04d6b1930',\n",
        "   'segment_number': '4',\n",
        "   'sequence_1': 'TAGAAAAATATGCGGAATGTTAAATGAAGCTGAACCGCCTCCCCAAACAGTTATGATCCCTATCCAGTTGATAGTATCCTGAGCTGGTGGTGCATAATCTTCTCTTACAGCAGACATGTAGATTCTCTAGCCGGACGTTTTCGAAGGTTACCACCAGACTATGGACTAAAGACTGAATCAATATTAGTGTCGTCGGGTGCACACCTAGGAGCGGGTAGCGGCTACGATAACTTTACAGCGTTGGAAAACCGCGCCGTATACAGATGAGACCCATTTTAGGATCGACCTGCTGCTTAGACCTGCCCAACAGCCGCCGCAACCCTCTGATGGTATTGGGTACCGCCCTTTGTGCCCTTTCATTATTCGGGCTTGTTACCGTGTACTACGAATGCCTCATGATATGGGTACGGGGGGCAGCGGTATGAGCGTGACCTCGCGAGCCTTTATGGATGACCTTCTGGATAGGATTGAGTTGCTACTTAGCGATCTTGCGCCGCAACTATAACTAGAAGAACCGTACAGAAGTCCACATTATAAAGCGAACATGACAGGAGCCGCCTCATGCCGGTGACCCAGAACGTATAGTCCTGTCAGTGGGGACTAGCCATTCAAGTCGCGGAATTACTCACCCGGGGCTTCCAATTGTGTACGCACCTATATCCTCGGTAAGTTGGAGCTGCGCACTCTTATCATGCCAGCCTTATCCATCCAGTAGATGGATGCCGGTCCAATATTGTTAAAAGATATCATCAGGGCAGTGAGCTACAGGGCTGCTTCGTCTAGCGGGACCCGTGAGGCCCGAGTACTCTCTTAGCGTAGATCTCTGTTAAGGATGACTAAGATATTCGAGAGTTCAACCTGCGGGCAACGGTACACCCTTTTCAACAGAGGGCGCCATTAACGGTATTTTTCGCTCAATTCGGCACACGCCGGTATCGCAACTCACGCAGCTACGTGGGGATCAATCGTATCAGTGTATCTTACGCGAGTCTTAAAGATA',\n",
        "   'sequence_4': 'CCCAATTCTCCAGTCAGCCGTTGGAACAGGGGTTGACGAATTTCGCCGTACATTAATGATCAGACAAGGTACTACGCGTAATAGAGGGTCGAATGTGTCATAGTCTGGCTCCGGTCTTGGGACTGTGCCGCAGAGTGAAAGCTCATCCGGACTCCAGAACTGATCTTCAATACGACGCTCGATATTGTCGGAGACGGTGCCGGATCGGCGCCGCAACAAACCTGCCATACAATCTCGTCAGACCACAAATCTCTGCCCCTGATAACGTTCACTCGGTTCTCCTTGGGGCTGTATCTATATCCCGCCCGGGGAGAGCCCTGCATTAACCCGAGGCCTACCATTCAACTGGTGTTGCTCATTGTAAGTTATCCGGCTCTTGATTGGCCCTGCTGCACGTAAGAGGTATAGCGACGATCTCATGGTAGGCTCTAGCTCCGAAATTGAGCCGCGTATACAATGATCTATACGTACGGTGCACATATTCATGGAGAGACTAAGGTTGGATGCGCATGATGCTTCCACGAGCACGGGCATTGCGATAATTCCTCTAGTCGGTTGTTTAATGAGGTACCGCCCACCGTGCTTTTTTTTATTATCTTTTCCACATTCGCCAATTAGTGTGTGTCTCAATCAATGAACGTGACCTCGTATTATTAAATCCACATCCACTTATGTGTTAACATGTTGTACTGCCAGCCATAGCACTCCTAACTAGCCACCAAATTTGTGCTCTAAGCCCCCAAAAGTTAGACTCATATCTGTCGGCCAATCGTATATCCCTGGGAGTAAAAAACTTGTGCTCAAGTGACAGGCACGCATCCGATATCTCGCCGTAAAACCGGTCACAAAATCTCCACGGAATTTCCTACCCACACATTATAGTAAGTAGTACCTGACTATTACAATCCGCCGCCAACATACTTGATTTACTTGTATGCGCAGTAGCAGTTTCAAGCCCTGGTTGTAAGAGAGAGTGGCCTTCCGGACTCAGAACTCCCGG'}),\n",
        " ('2f901',\n",
        "  {'creation_time': '9',\n",
        "   'id': '2f901f7dee52af2358c2ee6bdc70f0994cf33f912ff663272dc13477658e771c599ca887d9b9259c69157c5bfa4e052cddc283a5a2df57a86bd14e2aa0408a4b',\n",
        "   'segment_number': '4',\n",
        "   'sequence_1': 'TAGAAAAATATGCGGAATGTTAAATGAAGCTGAACCGCCTCCCCAAACAGTTATGATCCCTATCCAGTTGATAGTATCCTGAGCTGGTGGTGCATAATCTTCTCTTACAGCAGACATGTAGATTCTCTAGCCGGACGTTTTCGAAGGTTACCACCAGACTATGGACTAAAGACTGAATCAATATTAGTGTCGTCGGGTGCACACCTAGGAGCGGGTAGCGGCTACGATAACTTTACAGCGTTGGAAAACCGCGCCGTATACAGATGAGACCCATTTTAGGATCGACCTGCTGCTTAGACCTGCCCAACAGCCGCCGCAACCCTCTGATGGTATTGGGTACCGCCCTTTGTGCCCTTTCATTATTCGGGCTTGTTACCGTGTACTACGAATGCCTCATGATATGGGTACGGGGGGCAGCGGTATGAGCGTGACCTCGCGAGCCTTTATGGATGACCTTCTGGATAGGATTGAGTTGCTACTTAGCGATCTTGCGCCGCAACTATAACTAGAAGAACCGTACAGAAGTCCACATTATAAAGCGAACATGACAGGAGCCGCCTCATGCCGGTGACCCAGAACGTATAGTCCTGTCAGTGGGGACTAGCCATTCAAGTCGCGGAATTACTCACCCGGGGCTTCCAATTGTGTACGCACCTATATCCTCGGTAAGTTGGAGCTGCGCACTCTTATCATGCCAGCCTTATCCATCCAGTAGATGGATGCCGGTCCAATATTGTTAAAAGATATCATCAGGGCAGTGAGCTACAGGGCTGCTTCGTCTAGCGGGACCCGTGAGGCCCGAGTACTCTCTTAGCGTAGATCTCTGTTAAGGATGACTAAGATATTCGAGAGTTCAACCTGCGGGCAACGGTACACCCTTTTCAACAGAGGGCGCCATTAACGGTATTTTTCGCGCAATTCGGCACACGCCGGTATCGCAACTCACGCAGCTACGTGGGGATCAATCGTATCAGTGTATCTTACGCGATTCTTAAAGATA',\n",
        "   'sequence_4': 'CCCAATTCTCCAGTCAGCCGTTGGAACAGGGGTTGACGAATTTCGCCGTACATTAATGATCAGACAAGGTACTACGCGTAATAGAGGATCGAATGTGTCATAATCTGGCTCCGGTCTTGGGACTGCGCCGCAGAGTGAAAGCTCATCCGGACTCCAGAACTGATCGTCAATACGACGCTCGATATGGTCGGAGAGGGTGCCGGCTCGGCGCCGCAACAAACCTGCCGTACAATCTCGTCAGACCACAAATCTCTGCCCCTGATAACGTTCACTGGGCTCTCCTTGGGGCTGTATCTATATCCCGCCCGGGGAGAGCCCTGCATTAACCCGAGGGCTACCATTCAACTGGCGTTGCTCATTGTAAGTTATCCGGCTCTTGATTGGCCCTGCTGCACGTAATAGGTATAGCGACGATCTCATGGTAGGCTCTAGCTCCGAAATTGAGCCGCGTATACAATGATCTATACGCACGGTGCACATATTCATGGGGAGACTAGGGTTGGATGCGCATGATTCTTCCACGAGCACCTACATTGCGATAATTCCTCTAGTCGGTTGTTTAATGACGTACCGCCCACCGTGTTTTTTTTTATTATCTTTTCCACAATCGCCAATTAGTGTGTGTCTCAATCAATGAACGTGACCTCGTATTATTAAATCCACATCCACTTATGTGTAAACATGTTGTACTGCCAGCCATAGCACTCCTAACCAGGCACCAAATTTGTGCTCTAAGCCCCCAAAAGTTCGACTCATATCTGTCGGCCAAACGTACATCCCTGGGAGTTAAAAACTTGTGCTCAAGTGACAGGCACGCATCCGATATCTCGCCGTAAAACCGGTCACAAGATCTCCACGGAATTTGCTACCCACACATTATAGTAAGTAGTACCTGACTATTACAATCCGCCGCCCACATACTTGATTTCCTTGTATGCGCAGTAGCAGTTTCAAGCCCTGGTTGTAAGAGAGAGTGGCCTTCCGGACTCAGAACTCCCCG'}),\n",
        " ('bf226',\n",
        "  {'creation_time': '0',\n",
        "   'id': 'bf22616a5e559aaa6a6af31c7a1b40e83309c2078094aedcf0c2aa824d643e84a3f54593fc00848c6e108a1d4c8b518b62e39ee05e611778384b86c54dfcdeb2',\n",
        "   'segment_number': '4',\n",
        "   'sequence_1': 'TAGAAAAATATGCGGAATGTTAAATGAAGCTGAACCGCCTCCCCAAACAGTTATGATCCCTATCCAGTTGATAGTATCCTGAGCTGGTGGTGCATAATCTTCTCTTACAGCAGACATGTAGATTCTCTAGCCGGACGTTTTCGAAGGTTACCACCAGACTATGGACTAAAGACTGAATCAATATTAGTGTCGTCGGGTGCACACCTAGGAGCGGGTAGCGGCTACGATAACTTTACAGCGTTGGAAAACCGCGCCGTATACAGATGAGACCCATTTTAGGATCGACCTGCTGCTTAGACCTGCCCAACAGCCGCCGCAACCCTCTGATGGTATTGGGTACCGCCCTTTGTGCCCTTTCATTATTCGGGCTTGTTACCGTGTACTACGAATGCCTCATGATATGGGTACGGGGGGCAGCGGTATGAGCGTGACCTCGCGAGCCTTTATGGATGACCTTCTGGATAGGATTGAGTTGCTACTTAGCGATCTTGCGCCGCAACTATAACTAGAAGAACCGTACAGAAGTCCACATTATAAAGCGAACATGACAGGAGCCGCCTCATGCCGGTGACCCAGAACGTATAGTCCTGTCAGTGGGGACTAGCCATTCAAGTCGCGGAATTACTCACCCGGGGCTTCCAATTGTGTACGCACCTATATCCTCGGTAAGTTGGAGCTGCGCACTCTTATCATGCCAGCCTTATCCATCCAGTAGATGGATGCCGGTCCAATATTGTTAAAAGATATCATCAGGGCAGTGAGCTACAGGGCTGCTTCGTCTAGCGGGACCCGTGAGGCCCGAGTACTCTCTTAGCGTAGATCTCTGTTAAGGATGACTAAGATATTCGAGAGTTCAACCTGCGGGCAACGGTACACCCTTTTCAACAGAGGGCGCCATTAACGGTATTTTTCGCTCAATTCGGCACACGCCGGTATCGCAACTCACGCAGCTACGTGGGGATCAATCGTATCAGTGTATCTTACGCGAGTCTTAAAGATA',\n",
        "   'sequence_4': 'GTCGCATCAAGATTATTTAAAAGGCAATGTCGCGGAATCCAGCATCATCGTGCTTTGGCATCCTAGCTCGTCCCTCCCGTACGCATAAAAGACTGTTATAATGCCCTAAGCTCGTGCAATATCTTGTTTATCGTCGACGGACGGTCCCATGATACATTCGTGCTGTGAGCCTATCCAAAGCAGCCTGTAATTTGTGTTTAGTTCGCCCAACCCTCCCCTCTGCTCGATACTCTCTTTTCCTGCACATATGTAGATGCATATTTAACCCCATCTTCGATCTGACTCTACGACGGGCCACCGGTAACAACAAAATCCGAACAGTTCTCCGGCAAATGCCAGGTGCCCTCCATCGGACGTCACTTATTTCCGGCACGACCTTAGGCGGCGGATACTGCGGTTTAGGTCTCGGCAAGAGCACCAACAGAATCTTGCGTTCTTCTGCCCTGTCTTCCGTAGTCGAGCAGTGGTATTATTACCGGAGCGTCCTTGTTCTACGAGATGACGTGAACGATGTTAGATTGAACTACCTAATTTGGCGTCACGTAAACCGACTCTTCCGCTACACGGACAAGTAGACTTCACTTATTGGGGCTGTGTGCACAAATAGTACGCGTAATTGGTGTCCGTCGTTCATTGGGCTGCACCCAATTACATTCAGTGGTGGGACAAACGGAGACCTCCACTGGTGCAGGCGGAAATGAGCGCTCTTTAAAATACGGCCTGTGTCACTACTCTATCATGTCTGTGGCGGGATCTTATGGGCTGCTCTACTGGGACTGTTTATGAAGGAAGCCGACCCGACCTATCGTAGTCCAGGAGAAACAACGTCCCGTTGGGCCGGGGTAAGTATAGACAGTGGCAAGATATTTCGGAGAATCTAAATATGTCCCTGTATCACTTAGTCAACGTAACTAGCTATGATTTGGCTTAATAGGTGACACCATACGCACAGTGCTACCGCGGTATGAGGAAAACCTTAACGCACGCACCCACGAATAGG'})]"
       ]
      }
     ],
     "prompt_number": 24
    },
    {
     "cell_type": "code",
     "collapsed": false,
     "input": [
      "# This code is used for drawing.\n",
      "from random import randint\n",
      "\n",
      "randints = []\n",
      "for node in r.condensed_graph.nodes(data=True):\n",
      "    randints.append(randint(1, 20))\n",
      "print randints\n",
      "\n",
      "reconstruction_positions = dict()\n",
      "for i, node in enumerate(sorted(r.condensed_graph.nodes(data=True))):\n",
      "    reconstruction_positions[node[0]] = (int(node[1]['creation_time']), randints[i])\n",
      "    \n",
      "print len(reconstruction_positions)\n",
      "nx.draw(r.condensed_graph, pos=reconstruction_positions)"
     ],
     "language": "python",
     "metadata": {},
     "outputs": [
      {
       "output_type": "stream",
       "stream": "stdout",
       "text": [
        "[10, 19, 8, 10, 9, 4, 4, 2, 5, 8, 12]\n",
        "11\n"
       ]
      },
      {
       "metadata": {},
       "output_type": "display_data",
       "png": "[encoded data removed]",
       "text": [
        "<matplotlib.figure.Figure at 0x10639fe90>"
       ]
      }
     ],
     "prompt_number": 25
    },
    {
     "cell_type": "code",
     "collapsed": false,
     "input": [
      "simulation_positions = dict()\n",
      "\n",
      "print randints\n",
      "for i, pathogen in enumerate(s.pathogens):\n",
      "    simulation_positions[pathogen] = reconstruction_positions[str(pathogen)]\n",
      "    \n",
      "print len(simulation_positions)\n",
      "nx.draw(s.transmission_graph, pos=simulation_positions)"
     ],
     "language": "python",
     "metadata": {},
     "outputs": [
      {
       "output_type": "stream",
       "stream": "stdout",
       "text": [
        "[10, 19, 8, 10, 9, 4, 4, 2, 5, 8, 12]\n",
        "11\n"
       ]
      },
      {
       "metadata": {},
       "output_type": "display_data",
       "png": "[encoded data removed]",
       "text": [
        "<matplotlib.figure.Figure at 0x1063af390>"
       ]
      }
     ],
     "prompt_number": 26
    },
    {
     "cell_type": "code",
     "collapsed": false,
     "input": [
      "s.pathogens[0].parent"
     ],
     "language": "python",
     "metadata": {},
     "outputs": [
      {
       "metadata": {},
       "output_type": "pyout",
       "prompt_number": 27,
       "text": [
        "{}"
       ]
      }
     ],
     "prompt_number": 27
    },
    {
     "cell_type": "code",
     "collapsed": false,
     "input": [
      "r.condensed_graph.edges(data=True)"
     ],
     "language": "python",
     "metadata": {},
     "outputs": [
      {
       "metadata": {},
       "output_type": "pyout",
       "prompt_number": 28,
       "text": [
        "[('8d8cb', '2f901', {'segments': [1, 4], 'weight': 14}),\n",
        " ('be78f', 'c019c', {'segments': [1], 'weight': 1}),\n",
        " ('36a87', 'be78f', {'segments': [1, 4], 'weight': 12}),\n",
        " ('8bcc5', 'c019c', {'segments': [4], 'weight': 13}),\n",
        " ('8bcc5', 'd9aa8', {'segments': [1, 4], 'weight': 15}),\n",
        " ('d9aa8', '3c792', {'segments': [1, 4], 'weight': 7}),\n",
        " ('e3020', '8d8cb', {'segments': [1, 4], 'weight': 15}),\n",
        " ('f6519', '36a87', {'segments': [1, 4], 'weight': 7}),\n",
        " ('f6519', 'e3020', {'segments': [1, 4], 'weight': 8}),\n",
        " ('bf226', '8bcc5', {'segments': [1, 4], 'weight': 10})]"
       ]
      }
     ],
     "prompt_number": 28
    },
    {
     "cell_type": "code",
     "collapsed": false,
     "input": [
      "for virus in s.identify_reassortants():\n",
      "    print virus"
     ],
     "language": "python",
     "metadata": {},
     "outputs": [
      {
       "output_type": "stream",
       "stream": "stdout",
       "text": [
        "c019c\n"
       ]
      }
     ],
     "prompt_number": 29
    },
    {
     "cell_type": "code",
     "collapsed": false,
     "input": [
      "for virus in r.identify_reassortants():\n",
      "    print virus[0]"
     ],
     "language": "python",
     "metadata": {},
     "outputs": [
      {
       "output_type": "stream",
       "stream": "stdout",
       "text": [
        "c019c\n"
       ]
      }
     ],
     "prompt_number": 30
    },
    {
     "cell_type": "code",
     "collapsed": false,
     "input": [
      "s.transmission_graph.edges(data=True)"
     ],
     "language": "python",
     "metadata": {},
     "outputs": [
      {
       "metadata": {},
       "output_type": "pyout",
       "prompt_number": 31,
       "text": [
        "[(f6519, e3020, {'segments': [1, 4], 'weight': 8}),\n",
        " (f6519, 36a87, {'segments': [4], 'weight': 6}),\n",
        " (e3020, 8d8cb, {'segments': [1, 4], 'weight': 15}),\n",
        " (d9aa8, 3c792, {'segments': [1, 4], 'weight': 7}),\n",
        " (8d8cb, 2f901, {'segments': [1, 4], 'weight': 14}),\n",
        " (bf226, 8bcc5, {'segments': [1, 4], 'weight': 10}),\n",
        " (36a87, be78f, {'segments': [1, 4], 'weight': 12}),\n",
        " (8bcc5, d9aa8, {'segments': [1, 4], 'weight': 15}),\n",
        " (8bcc5, c019c, {'segments': [4], 'weight': 13}),\n",
        " (be78f, c019c, {'segments': [1], 'weight': 1})]"
       ]
      }
     ],
     "prompt_number": 31
    },
    {
     "cell_type": "markdown",
     "metadata": {},
     "source": [
      "# Test Relabeled Graph"
     ]
    },
    {
     "cell_type": "code",
     "collapsed": false,
     "input": [
      "s.relabel_transmission_graph()\n",
      "s.relabeled_transmission_graph.edges(data=True)"
     ],
     "language": "python",
     "metadata": {},
     "outputs": [
      {
       "metadata": {},
       "output_type": "pyout",
       "prompt_number": 32,
       "text": [
        "[('8d8cb', '2f901', {'segments': [1, 4], 'weight': 14}),\n",
        " ('be78f', 'c019c', {'segments': [1], 'weight': 1}),\n",
        " ('36a87', 'be78f', {'segments': [1, 4], 'weight': 12}),\n",
        " ('8bcc5', 'c019c', {'segments': [4], 'weight': 13}),\n",
        " ('8bcc5', 'd9aa8', {'segments': [1, 4], 'weight': 15}),\n",
        " ('d9aa8', '3c792', {'segments': [1, 4], 'weight': 7}),\n",
        " ('e3020', '8d8cb', {'segments': [1, 4], 'weight': 15}),\n",
        " ('f6519', '36a87', {'segments': [4], 'weight': 6}),\n",
        " ('f6519', 'e3020', {'segments': [1, 4], 'weight': 8}),\n",
        " ('bf226', '8bcc5', {'segments': [1, 4], 'weight': 10})]"
       ]
      }
     ],
     "prompt_number": 32
    },
    {
     "cell_type": "code",
     "collapsed": false,
     "input": [
      "r.condensed_graph.edges(data=True)"
     ],
     "language": "python",
     "metadata": {},
     "outputs": [
      {
       "metadata": {},
       "output_type": "pyout",
       "prompt_number": 33,
       "text": [
        "[('8d8cb', '2f901', {'segments': [1, 4], 'weight': 14}),\n",
        " ('be78f', 'c019c', {'segments': [1], 'weight': 1}),\n",
        " ('36a87', 'be78f', {'segments': [1, 4], 'weight': 12}),\n",
        " ('8bcc5', 'c019c', {'segments': [4], 'weight': 13}),\n",
        " ('8bcc5', 'd9aa8', {'segments': [1, 4], 'weight': 15}),\n",
        " ('d9aa8', '3c792', {'segments': [1, 4], 'weight': 7}),\n",
        " ('e3020', '8d8cb', {'segments': [1, 4], 'weight': 15}),\n",
        " ('f6519', '36a87', {'segments': [1, 4], 'weight': 7}),\n",
        " ('f6519', 'e3020', {'segments': [1, 4], 'weight': 8}),\n",
        " ('bf226', '8bcc5', {'segments': [1, 4], 'weight': 10})]"
       ]
      }
     ],
     "prompt_number": 33
    },
    {
     "cell_type": "markdown",
     "metadata": {},
     "source": [
      "# Experiment with Accuracy Metrics"
     ]
    },
    {
     "cell_type": "code",
     "collapsed": false,
     "input": [
      "matching_edges = 0\n",
      "total_edges = len(s.relabeled_transmission_graph.edges())\n",
      "for edge in r.condensed_graph.edges(data=True):\n",
      "    if edge in s.relabeled_transmission_graph.edges(data=True):\n",
      "        matching_edges += 1\n",
      "        \n",
      "\n",
      "int(float(matching_edges) / total_edges * 100)"
     ],
     "language": "python",
     "metadata": {},
     "outputs": [
      {
       "metadata": {},
       "output_type": "pyout",
       "prompt_number": 34,
       "text": [
        "90"
       ]
      }
     ],
     "prompt_number": 34
    },
    {
     "cell_type": "code",
     "collapsed": false,
     "input": [
      "# This has been implemented in the prototype functions below.\n",
      "# float(len(r.identify_reassortants()))/float(len(s.identify_reassortants()))"
     ],
     "language": "python",
     "metadata": {},
     "outputs": [],
     "prompt_number": 35
    },
    {
     "cell_type": "code",
     "collapsed": false,
     "input": [
      "# Prototype for the functions.\n",
      "def reassortant_accuracy(simulation, reconstruction):\n",
      "    num_simulation_reassortants = float(len(simulation.identify_reassortants()))\n",
      "    num_reconstruction_reassortants = float(len(reconstruction.identify_reassortants()))\n",
      "    \n",
      "    if num_simulation_reassortants == 0:\n",
      "        return 'No reassortants present in simulation.'\n",
      "    else:\n",
      "        return num_reconstruction_reassortants / num_simulation_reassortants\n",
      "    \n",
      "def transmission_edge_accuracy(simulation, reconstruction):\n",
      "    matching_edges = 0\n",
      "    total_edges = len(simulation.relabeled_transmission_graph.edges())\n",
      "    \n",
      "    for edge in reconstruction.condensed_graph.edges(data=True):\n",
      "        if edge in simulation.relabeled_transmission_graph.edges(data=True):\n",
      "            matching_edges += 1\n",
      "            \n",
      "    return float(matching_edges) / total_edges\n",
      "\n",
      "def transmission_path_accuracy(simulation, reconstruction):\n",
      "    \"\"\"\n",
      "    The accuracy of transmission paths is the number of accurate paths found \n",
      "    divided by the number of paths being considered.\n",
      "    \"\"\"\n",
      "    num_paths = 0\n",
      "    accurate_paths = 0\n",
      "    \n",
      "    for edge in reconstruction.condensed_graph.edges():\n",
      "        if simulation.path_exists(edge[0], edge[1]):\n",
      "            num_paths += 1\n",
      "            accurate_paths += 1\n",
      "        else:\n",
      "            num_paths += 1\n",
      "    \n",
      "    return float(accurate_paths)/num_paths"
     ],
     "language": "python",
     "metadata": {},
     "outputs": [],
     "prompt_number": 36
    },
    {
     "cell_type": "code",
     "collapsed": false,
     "input": [
      "s.paths()\n",
      "print reassortant_accuracy(s, r)\n",
      "print transmission_edge_accuracy(s, r)\n",
      "print transmission_path_accuracy(s, r)"
     ],
     "language": "python",
     "metadata": {},
     "outputs": [
      {
       "output_type": "stream",
       "stream": "stdout",
       "text": [
        "1.0\n",
        "0.9\n",
        "1.0\n"
       ]
      }
     ],
     "prompt_number": 37
    },
    {
     "cell_type": "markdown",
     "metadata": {},
     "source": [
      "# Test path_exists(node1, node2) function"
     ]
    },
    {
     "cell_type": "code",
     "collapsed": false,
     "input": [
      "s.path_exists('b90bb', '3d39c')"
     ],
     "language": "python",
     "metadata": {},
     "outputs": [
      {
       "metadata": {},
       "output_type": "pyout",
       "prompt_number": 38,
       "text": [
        "False"
       ]
      }
     ],
     "prompt_number": 38
    },
    {
     "cell_type": "code",
     "collapsed": false,
     "input": [
      "s.relabeled_transmission_graph.nodes()"
     ],
     "language": "python",
     "metadata": {},
     "outputs": [
      {
       "metadata": {},
       "output_type": "pyout",
       "prompt_number": 39,
       "text": [
        "['8d8cb',\n",
        " '36a87',\n",
        " 'd9aa8',\n",
        " '8bcc5',\n",
        " '2f901',\n",
        " 'bf226',\n",
        " '3c792',\n",
        " 'c019c',\n",
        " 'be78f',\n",
        " 'e3020',\n",
        " 'f6519']"
       ]
      }
     ],
     "prompt_number": 39
    },
    {
     "cell_type": "code",
     "collapsed": false,
     "input": [
      "s.path_exists('2851c', '09001')"
     ],
     "language": "python",
     "metadata": {},
     "outputs": [
      {
       "metadata": {},
       "output_type": "pyout",
       "prompt_number": 40,
       "text": [
        "False"
       ]
      }
     ],
     "prompt_number": 40
    },
    {
     "cell_type": "code",
     "collapsed": false,
     "input": [],
     "language": "python",
     "metadata": {},
     "outputs": [],
     "prompt_number": 40
    }
   ],
   "metadata": {}
  }
 ]
}