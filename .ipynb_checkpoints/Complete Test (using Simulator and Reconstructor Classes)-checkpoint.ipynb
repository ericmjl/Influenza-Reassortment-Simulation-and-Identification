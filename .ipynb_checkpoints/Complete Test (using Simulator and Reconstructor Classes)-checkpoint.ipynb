{
 "metadata": {
  "name": "",
  "signature": "sha256:26e22a38ee4b7ae004f68a6fb4c4935ac0114a57b2cc0e6491bf9c09d39e940c"
 },
 "nbformat": 3,
 "nbformat_minor": 0,
 "worksheets": [
  {
   "cells": [
    {
     "cell_type": "code",
     "collapsed": false,
     "input": [
      "from pathogen import Pathogen\n",
      "from segment import Segment\n",
      "from sequence import Sequence\n",
      "from simulator import Simulator"
     ],
     "language": "python",
     "metadata": {},
     "outputs": [],
     "prompt_number": 44
    },
    {
     "cell_type": "code",
     "collapsed": false,
     "input": [
      "# Initialize sequences\n",
      "sequence_PB2 = Sequence(length=1000) #this is representative of segment 1, PB2\n",
      "sequence_H1 = Sequence(length=1000) #this is representative of segment 4, H1\n",
      "sequence_H2 = Sequence(length=1000) #this is representative of segment 4, H2"
     ],
     "language": "python",
     "metadata": {},
     "outputs": [],
     "prompt_number": 45
    },
    {
     "cell_type": "code",
     "collapsed": false,
     "input": [
      "# Initialize segments\n",
      "segment_PB2 = Segment(segment_number=1, substitution_rate=1E-3, sequence=sequence_PB2)\n",
      "segment_H1 = Segment(segment_number=4, substitution_rate=1E-2, sequence=sequence_H1)\n",
      "segment_H2 = Segment(segment_number=4, substitution_rate=1E-2, sequence=sequence_H2)"
     ],
     "language": "python",
     "metadata": {},
     "outputs": [],
     "prompt_number": 46
    },
    {
     "cell_type": "code",
     "collapsed": false,
     "input": [
      "# Add segments to seed viruses\n",
      "virus_H1 = Pathogen(segments=[segment_PB2, segment_H1], creation_time=0, progeny_size=(1.2, 0.5))\n",
      "virus_H2 = Pathogen(segments=[segment_PB2, segment_H2], creation_time=0, progeny_size=(1.2, 0.5))"
     ],
     "language": "python",
     "metadata": {},
     "outputs": [],
     "prompt_number": 47
    },
    {
     "cell_type": "code",
     "collapsed": false,
     "input": [
      "# Subclass the Simulator class for a specific implementation of the increment_timestep() function.\n",
      "from random import random, choice, sample\n",
      "class ViralSimulator(Simulator):\n",
      "    \n",
      "    def increment_timestep(self):\n",
      "        cointoss = random()\n",
      "        threshold = 0.8\n",
      "        \n",
      "        if cointoss <= threshold:\n",
      "            chosen_virus = choice(self.pathogens)\n",
      "            new_virus = chosen_virus.replicate(current_time=self.current_time)\n",
      "            \n",
      "        if cointoss > threshold:\n",
      "            [virus1, virus2] = sample(self.pathogens, 2)\n",
      "            new_virus = virus1.reassort_with(virus2, current_time=self.current_time)\n",
      "        \n",
      "        self.pathogens.append(new_virus)"
     ],
     "language": "python",
     "metadata": {},
     "outputs": [],
     "prompt_number": 48
    },
    {
     "cell_type": "code",
     "collapsed": false,
     "input": [
      "s = ViralSimulator()"
     ],
     "language": "python",
     "metadata": {},
     "outputs": [],
     "prompt_number": 49
    },
    {
     "cell_type": "code",
     "collapsed": false,
     "input": [
      "s.add_pathogens([virus_H1, virus_H2])"
     ],
     "language": "python",
     "metadata": {},
     "outputs": [],
     "prompt_number": 50
    },
    {
     "cell_type": "code",
     "collapsed": false,
     "input": [
      "s.run(timesteps=10)"
     ],
     "language": "python",
     "metadata": {},
     "outputs": [
      {
       "output_type": "stream",
       "stream": "stdout",
       "text": [
        "{4bae7: [1, 4]}\n",
        "{4bae7: [1, 4]}\n",
        "{a2e6b: [1, 4]}\n",
        "{63869: [1, 4]}\n",
        "{a2e6b: [1, 4]}\n",
        "{a2e6b: [1, 4]}\n",
        "{d6b71: [1, 4]}\n"
       ]
      }
     ],
     "prompt_number": 51
    },
    {
     "cell_type": "code",
     "collapsed": false,
     "input": [
      "s.write_transmission_graph(outfile_name=\"outfile_test\", folder_name='Network Pickles')"
     ],
     "language": "python",
     "metadata": {},
     "outputs": [],
     "prompt_number": 52
    },
    {
     "cell_type": "code",
     "collapsed": false,
     "input": [
      "s.write_sequences(outfile_name=\"outfile_test\", folder_name='FASTA Files')"
     ],
     "language": "python",
     "metadata": {},
     "outputs": [],
     "prompt_number": 53
    },
    {
     "cell_type": "code",
     "collapsed": false,
     "input": [
      "s.transmission_graph."
     ],
     "language": "python",
     "metadata": {},
     "outputs": []
    },
    {
     "cell_type": "markdown",
     "metadata": {},
     "source": [
      "# Prototype code for Reconstructor class"
     ]
    },
    {
     "cell_type": "code",
     "collapsed": false,
     "input": [
      "from Bio import SeqIO"
     ],
     "language": "python",
     "metadata": {},
     "outputs": [],
     "prompt_number": 54
    },
    {
     "cell_type": "code",
     "collapsed": false,
     "input": [
      "# Initialize a dictionary that contains all of the sequences, split by segment.\n",
      "sequences_dictionary = dict()\n",
      "sequences_dictionary[1] = []\n",
      "sequences_dictionary[4] = []\n",
      "sequences_dictionary"
     ],
     "language": "python",
     "metadata": {},
     "outputs": [
      {
       "metadata": {},
       "output_type": "pyout",
       "prompt_number": 55,
       "text": [
        "{1: [], 4: []}"
       ]
      }
     ],
     "prompt_number": 55
    },
    {
     "cell_type": "code",
     "collapsed": false,
     "input": [
      "# Read in the sequences\n",
      "sequences = [record for record in SeqIO.parse('FASTA Files/outfile_test.fasta', 'fasta')]\n",
      "sequences"
     ],
     "language": "python",
     "metadata": {},
     "outputs": [
      {
       "metadata": {},
       "output_type": "pyout",
       "prompt_number": 56,
       "text": [
        "[SeqRecord(seq=Seq('AACGCAAATTGATAAGGGGATCCTTGTCTGCAAATAGCATCTGAACCTGTCATG...GAA', SingleLetterAlphabet()), id='bc6ddeadf88bb0279af9a89a80d16f4626a393ce470e72f92e8da2e5a9a60f20aace6484bd3e7dbd81d74d558c13ad7c2479367e7631f16c66741554069666ec|1|0', name='bc6ddeadf88bb0279af9a89a80d16f4626a393ce470e72f92e8da2e5a9a60f20aace6484bd3e7dbd81d74d558c13ad7c2479367e7631f16c66741554069666ec|1|0', description='bc6ddeadf88bb0279af9a89a80d16f4626a393ce470e72f92e8da2e5a9a60f20aace6484bd3e7dbd81d74d558c13ad7c2479367e7631f16c66741554069666ec|1|0 <unknown description>', dbxrefs=[]),\n",
        " SeqRecord(seq=Seq('GATAAATCGGGTAAGATCCATTCGCGTCCAGAACCAATGAAGAGCTTGGATTAC...GTG', SingleLetterAlphabet()), id='bc6ddeadf88bb0279af9a89a80d16f4626a393ce470e72f92e8da2e5a9a60f20aace6484bd3e7dbd81d74d558c13ad7c2479367e7631f16c66741554069666ec|4|0', name='bc6ddeadf88bb0279af9a89a80d16f4626a393ce470e72f92e8da2e5a9a60f20aace6484bd3e7dbd81d74d558c13ad7c2479367e7631f16c66741554069666ec|4|0', description='bc6ddeadf88bb0279af9a89a80d16f4626a393ce470e72f92e8da2e5a9a60f20aace6484bd3e7dbd81d74d558c13ad7c2479367e7631f16c66741554069666ec|4|0 <unknown description>', dbxrefs=[]),\n",
        " SeqRecord(seq=Seq('AACGCAAATTGATAAGGGGATCCTTGTCTGCAAATAGCATCTGAACCTGTCATG...GAA', SingleLetterAlphabet()), id='4bae7413e338b964b07e07e79e21225b09dbfd7d18671e37b1525d268028a31bc48cce7c02a7a65969d0cd6f8959760da764fda00f7438bf29e2a904b16ffbe4|1|0', name='4bae7413e338b964b07e07e79e21225b09dbfd7d18671e37b1525d268028a31bc48cce7c02a7a65969d0cd6f8959760da764fda00f7438bf29e2a904b16ffbe4|1|0', description='4bae7413e338b964b07e07e79e21225b09dbfd7d18671e37b1525d268028a31bc48cce7c02a7a65969d0cd6f8959760da764fda00f7438bf29e2a904b16ffbe4|1|0 <unknown description>', dbxrefs=[]),\n",
        " SeqRecord(seq=Seq('GCCCGTCGCGCTTTGCTCGGGTCCGGTCTACCTGCGGTGTATGCGCTCCAACGA...GTG', SingleLetterAlphabet()), id='4bae7413e338b964b07e07e79e21225b09dbfd7d18671e37b1525d268028a31bc48cce7c02a7a65969d0cd6f8959760da764fda00f7438bf29e2a904b16ffbe4|4|0', name='4bae7413e338b964b07e07e79e21225b09dbfd7d18671e37b1525d268028a31bc48cce7c02a7a65969d0cd6f8959760da764fda00f7438bf29e2a904b16ffbe4|4|0', description='4bae7413e338b964b07e07e79e21225b09dbfd7d18671e37b1525d268028a31bc48cce7c02a7a65969d0cd6f8959760da764fda00f7438bf29e2a904b16ffbe4|4|0 <unknown description>', dbxrefs=[]),\n",
        " SeqRecord(seq=Seq('AACGCAAATTGATAAGGGGATCCTTCTCTGCAAATAGCATCTGAACCTGTCATG...GAA', SingleLetterAlphabet()), id='3eb951b0dc4e812f0ceed7780dfbdd3f709ce721d7e3d6e538abde35b46b8b71e17b379694d1244bfb572a08d12775eb9c88770f978e4ac94a99e1b4307b06c7|1|1', name='3eb951b0dc4e812f0ceed7780dfbdd3f709ce721d7e3d6e538abde35b46b8b71e17b379694d1244bfb572a08d12775eb9c88770f978e4ac94a99e1b4307b06c7|1|1', description='3eb951b0dc4e812f0ceed7780dfbdd3f709ce721d7e3d6e538abde35b46b8b71e17b379694d1244bfb572a08d12775eb9c88770f978e4ac94a99e1b4307b06c7|1|1 <unknown description>', dbxrefs=[]),\n",
        " SeqRecord(seq=Seq('GCCCGTCGCGCTTTGCTCGGGTCCGGTCTACCTGCGGTGTATGCGCTCCAACGA...GTG', SingleLetterAlphabet()), id='3eb951b0dc4e812f0ceed7780dfbdd3f709ce721d7e3d6e538abde35b46b8b71e17b379694d1244bfb572a08d12775eb9c88770f978e4ac94a99e1b4307b06c7|4|1', name='3eb951b0dc4e812f0ceed7780dfbdd3f709ce721d7e3d6e538abde35b46b8b71e17b379694d1244bfb572a08d12775eb9c88770f978e4ac94a99e1b4307b06c7|4|1', description='3eb951b0dc4e812f0ceed7780dfbdd3f709ce721d7e3d6e538abde35b46b8b71e17b379694d1244bfb572a08d12775eb9c88770f978e4ac94a99e1b4307b06c7|4|1 <unknown description>', dbxrefs=[]),\n",
        " SeqRecord(seq=Seq('AACGCAAATTGATAAGGGGATCCTTGTCTGCAAATAGCATCTGAACCTGTCATG...GAA', SingleLetterAlphabet()), id='39943ec55ec09a698da0a2c8a8656d1eab0db7a5b4e6163ddc8e434029f57e4f091acf4c696c0a7fb0ebddfb763c9cbfc757fba06847993b37a3c83facf18086|1|2', name='39943ec55ec09a698da0a2c8a8656d1eab0db7a5b4e6163ddc8e434029f57e4f091acf4c696c0a7fb0ebddfb763c9cbfc757fba06847993b37a3c83facf18086|1|2', description='39943ec55ec09a698da0a2c8a8656d1eab0db7a5b4e6163ddc8e434029f57e4f091acf4c696c0a7fb0ebddfb763c9cbfc757fba06847993b37a3c83facf18086|1|2 <unknown description>', dbxrefs=[]),\n",
        " SeqRecord(seq=Seq('GATAAATCGGGTAAGATCCATTCGCGTCCAGAACCAATGAAGAGCTTTGATTAC...GTG', SingleLetterAlphabet()), id='39943ec55ec09a698da0a2c8a8656d1eab0db7a5b4e6163ddc8e434029f57e4f091acf4c696c0a7fb0ebddfb763c9cbfc757fba06847993b37a3c83facf18086|4|2', name='39943ec55ec09a698da0a2c8a8656d1eab0db7a5b4e6163ddc8e434029f57e4f091acf4c696c0a7fb0ebddfb763c9cbfc757fba06847993b37a3c83facf18086|4|2', description='39943ec55ec09a698da0a2c8a8656d1eab0db7a5b4e6163ddc8e434029f57e4f091acf4c696c0a7fb0ebddfb763c9cbfc757fba06847993b37a3c83facf18086|4|2 <unknown description>', dbxrefs=[]),\n",
        " SeqRecord(seq=Seq('AACGCAAATTGATAAGGGGATCCTTGTCTGCAAATAGCATCTGAACCTGTCATG...GAA', SingleLetterAlphabet()), id='a2e6ba830bd4d5ca801ef2be9660801a85ed609c877dde6c80deabf24abdc5f675ac561fa3e2af927415096348ad82e874e8a4fdd592076df0fb5200bbc4009a|1|3', name='a2e6ba830bd4d5ca801ef2be9660801a85ed609c877dde6c80deabf24abdc5f675ac561fa3e2af927415096348ad82e874e8a4fdd592076df0fb5200bbc4009a|1|3', description='a2e6ba830bd4d5ca801ef2be9660801a85ed609c877dde6c80deabf24abdc5f675ac561fa3e2af927415096348ad82e874e8a4fdd592076df0fb5200bbc4009a|1|3 <unknown description>', dbxrefs=[]),\n",
        " SeqRecord(seq=Seq('TCCCGTCGCGCTTTGCTCGGGTACGGTCTACCGGCGGTGTATGCGCTCCAACGA...GTG', SingleLetterAlphabet()), id='a2e6ba830bd4d5ca801ef2be9660801a85ed609c877dde6c80deabf24abdc5f675ac561fa3e2af927415096348ad82e874e8a4fdd592076df0fb5200bbc4009a|4|3', name='a2e6ba830bd4d5ca801ef2be9660801a85ed609c877dde6c80deabf24abdc5f675ac561fa3e2af927415096348ad82e874e8a4fdd592076df0fb5200bbc4009a|4|3', description='a2e6ba830bd4d5ca801ef2be9660801a85ed609c877dde6c80deabf24abdc5f675ac561fa3e2af927415096348ad82e874e8a4fdd592076df0fb5200bbc4009a|4|3 <unknown description>', dbxrefs=[]),\n",
        " SeqRecord(seq=Seq('AACGCAAATTGATAAGGGGATCCTTGTCTGCAAATAGCATCTGAACCTGTCATG...GAA', SingleLetterAlphabet()), id='d6b71fd8c84b74e0801da3fea7a4330dc1eca20a2d78b7f9f7a6f1368b12417b2c319cf2772ea3fa3f3929c1556fc989d1a992a87617ba8d7e258665ce3a720f|1|4', name='d6b71fd8c84b74e0801da3fea7a4330dc1eca20a2d78b7f9f7a6f1368b12417b2c319cf2772ea3fa3f3929c1556fc989d1a992a87617ba8d7e258665ce3a720f|1|4', description='d6b71fd8c84b74e0801da3fea7a4330dc1eca20a2d78b7f9f7a6f1368b12417b2c319cf2772ea3fa3f3929c1556fc989d1a992a87617ba8d7e258665ce3a720f|1|4 <unknown description>', dbxrefs=[]),\n",
        " SeqRecord(seq=Seq('GATAAATCGGGTAAGATCCATTCGCGTCCAGAACCAATGAAGAGCTTTGATTAC...GTG', SingleLetterAlphabet()), id='d6b71fd8c84b74e0801da3fea7a4330dc1eca20a2d78b7f9f7a6f1368b12417b2c319cf2772ea3fa3f3929c1556fc989d1a992a87617ba8d7e258665ce3a720f|4|4', name='d6b71fd8c84b74e0801da3fea7a4330dc1eca20a2d78b7f9f7a6f1368b12417b2c319cf2772ea3fa3f3929c1556fc989d1a992a87617ba8d7e258665ce3a720f|4|4', description='d6b71fd8c84b74e0801da3fea7a4330dc1eca20a2d78b7f9f7a6f1368b12417b2c319cf2772ea3fa3f3929c1556fc989d1a992a87617ba8d7e258665ce3a720f|4|4 <unknown description>', dbxrefs=[]),\n",
        " SeqRecord(seq=Seq('AACGCAAATTGATAAGGGGATCCTTGTCTGCAAATAGCATCTGAACCTGTCATG...GAA', SingleLetterAlphabet()), id='6386983f1719a0374669d6d05fafbdda084359acabe45db290dd59daeca59e3869ce1d23a7da643aacc2e133149ed84e023d8c46d1d81d07b966c527af65afa4|1|5', name='6386983f1719a0374669d6d05fafbdda084359acabe45db290dd59daeca59e3869ce1d23a7da643aacc2e133149ed84e023d8c46d1d81d07b966c527af65afa4|1|5', description='6386983f1719a0374669d6d05fafbdda084359acabe45db290dd59daeca59e3869ce1d23a7da643aacc2e133149ed84e023d8c46d1d81d07b966c527af65afa4|1|5 <unknown description>', dbxrefs=[]),\n",
        " SeqRecord(seq=Seq('TCCCGTCGCGCTTTGCTCGGGTACGGTCTAGCGGCGGTGTATGCGCTCCAACGA...GTG', SingleLetterAlphabet()), id='6386983f1719a0374669d6d05fafbdda084359acabe45db290dd59daeca59e3869ce1d23a7da643aacc2e133149ed84e023d8c46d1d81d07b966c527af65afa4|4|5', name='6386983f1719a0374669d6d05fafbdda084359acabe45db290dd59daeca59e3869ce1d23a7da643aacc2e133149ed84e023d8c46d1d81d07b966c527af65afa4|4|5', description='6386983f1719a0374669d6d05fafbdda084359acabe45db290dd59daeca59e3869ce1d23a7da643aacc2e133149ed84e023d8c46d1d81d07b966c527af65afa4|4|5 <unknown description>', dbxrefs=[]),\n",
        " SeqRecord(seq=Seq('AACGCAAATTGATAAGGGGATCCTTGTCTGCAAATAGCATCTGAACCTGTCATG...GAA', SingleLetterAlphabet()), id='e5a7afa240b91f3c2607f70ef7c7bae7cfff1b65059a7ae21c9f9ee09df3e04303b540cf8bca25fb7bb7670e2d8695526889cceb54b63a6a2d9e670dc0fc5cc4|1|6', name='e5a7afa240b91f3c2607f70ef7c7bae7cfff1b65059a7ae21c9f9ee09df3e04303b540cf8bca25fb7bb7670e2d8695526889cceb54b63a6a2d9e670dc0fc5cc4|1|6', description='e5a7afa240b91f3c2607f70ef7c7bae7cfff1b65059a7ae21c9f9ee09df3e04303b540cf8bca25fb7bb7670e2d8695526889cceb54b63a6a2d9e670dc0fc5cc4|1|6 <unknown description>', dbxrefs=[]),\n",
        " SeqRecord(seq=Seq('TCCCGTCGCGCTTTGCTCGGGTACGGTCTAGCGGCGGTGTATGCGCTCCAACGA...GTG', SingleLetterAlphabet()), id='e5a7afa240b91f3c2607f70ef7c7bae7cfff1b65059a7ae21c9f9ee09df3e04303b540cf8bca25fb7bb7670e2d8695526889cceb54b63a6a2d9e670dc0fc5cc4|4|6', name='e5a7afa240b91f3c2607f70ef7c7bae7cfff1b65059a7ae21c9f9ee09df3e04303b540cf8bca25fb7bb7670e2d8695526889cceb54b63a6a2d9e670dc0fc5cc4|4|6', description='e5a7afa240b91f3c2607f70ef7c7bae7cfff1b65059a7ae21c9f9ee09df3e04303b540cf8bca25fb7bb7670e2d8695526889cceb54b63a6a2d9e670dc0fc5cc4|4|6 <unknown description>', dbxrefs=[]),\n",
        " SeqRecord(seq=Seq('AACGCAAATTGATAAGGGGATCCTTGTCTGCAAATAGCATCTGAACCTGTCATG...GAA', SingleLetterAlphabet()), id='f8773728db935c1741a255d1a705b84c181ea4a9659bfb4d11393b54cc91ea31e9a45a2a53c80e6069c5127c436088d5e613d2b601ab43230e1d4b03c3d70624|1|7', name='f8773728db935c1741a255d1a705b84c181ea4a9659bfb4d11393b54cc91ea31e9a45a2a53c80e6069c5127c436088d5e613d2b601ab43230e1d4b03c3d70624|1|7', description='f8773728db935c1741a255d1a705b84c181ea4a9659bfb4d11393b54cc91ea31e9a45a2a53c80e6069c5127c436088d5e613d2b601ab43230e1d4b03c3d70624|1|7 <unknown description>', dbxrefs=[]),\n",
        " SeqRecord(seq=Seq('TCCCGTCGCGCTTTGCTCGGGTACGGTCTACCGGCGGTGTATGCGCTCCAACGA...GTG', SingleLetterAlphabet()), id='f8773728db935c1741a255d1a705b84c181ea4a9659bfb4d11393b54cc91ea31e9a45a2a53c80e6069c5127c436088d5e613d2b601ab43230e1d4b03c3d70624|4|7', name='f8773728db935c1741a255d1a705b84c181ea4a9659bfb4d11393b54cc91ea31e9a45a2a53c80e6069c5127c436088d5e613d2b601ab43230e1d4b03c3d70624|4|7', description='f8773728db935c1741a255d1a705b84c181ea4a9659bfb4d11393b54cc91ea31e9a45a2a53c80e6069c5127c436088d5e613d2b601ab43230e1d4b03c3d70624|4|7 <unknown description>', dbxrefs=[]),\n",
        " SeqRecord(seq=Seq('AACGCAAATTGATAAGGGGATCCTTGTCTGCAAATAGCATCTGAACCTGTCATG...GAA', SingleLetterAlphabet()), id='2740ba4dfe3a7777360b7bd37bc5bee3a6aecd4953d7a65e70ef1b682d3b25eaac3bb51d436c3696bf3324eee09f80754bc8d8d687d736177e30ed897b8fe443|1|8', name='2740ba4dfe3a7777360b7bd37bc5bee3a6aecd4953d7a65e70ef1b682d3b25eaac3bb51d436c3696bf3324eee09f80754bc8d8d687d736177e30ed897b8fe443|1|8', description='2740ba4dfe3a7777360b7bd37bc5bee3a6aecd4953d7a65e70ef1b682d3b25eaac3bb51d436c3696bf3324eee09f80754bc8d8d687d736177e30ed897b8fe443|1|8 <unknown description>', dbxrefs=[]),\n",
        " SeqRecord(seq=Seq('TCCCGTCGCGCTTTGCTCGGGTACGGTCTACCGGCGGTGTATGCGCTCCAACGA...GTG', SingleLetterAlphabet()), id='2740ba4dfe3a7777360b7bd37bc5bee3a6aecd4953d7a65e70ef1b682d3b25eaac3bb51d436c3696bf3324eee09f80754bc8d8d687d736177e30ed897b8fe443|4|8', name='2740ba4dfe3a7777360b7bd37bc5bee3a6aecd4953d7a65e70ef1b682d3b25eaac3bb51d436c3696bf3324eee09f80754bc8d8d687d736177e30ed897b8fe443|4|8', description='2740ba4dfe3a7777360b7bd37bc5bee3a6aecd4953d7a65e70ef1b682d3b25eaac3bb51d436c3696bf3324eee09f80754bc8d8d687d736177e30ed897b8fe443|4|8 <unknown description>', dbxrefs=[]),\n",
        " SeqRecord(seq=Seq('AACGCAAATTGATAAGGGGATCCTTGTCTGCAAATAGCATCTGAACCTGTCATG...GAA', SingleLetterAlphabet()), id='4993c818ea3b61fed685de1ea4e7ccc58590466cc4aecacb37feb718f16bfa8478f25130a65c60c3ebb71a9dc8ff5ded57bc2044b9f408924821c0e12c4e7f61|1|9', name='4993c818ea3b61fed685de1ea4e7ccc58590466cc4aecacb37feb718f16bfa8478f25130a65c60c3ebb71a9dc8ff5ded57bc2044b9f408924821c0e12c4e7f61|1|9', description='4993c818ea3b61fed685de1ea4e7ccc58590466cc4aecacb37feb718f16bfa8478f25130a65c60c3ebb71a9dc8ff5ded57bc2044b9f408924821c0e12c4e7f61|1|9 <unknown description>', dbxrefs=[]),\n",
        " SeqRecord(seq=Seq('GATAAATCGGGTAAGATCCATTCGCGTCCAGAACCAATGAAGAGCTTTGATTTC...GTG', SingleLetterAlphabet()), id='4993c818ea3b61fed685de1ea4e7ccc58590466cc4aecacb37feb718f16bfa8478f25130a65c60c3ebb71a9dc8ff5ded57bc2044b9f408924821c0e12c4e7f61|4|9', name='4993c818ea3b61fed685de1ea4e7ccc58590466cc4aecacb37feb718f16bfa8478f25130a65c60c3ebb71a9dc8ff5ded57bc2044b9f408924821c0e12c4e7f61|4|9', description='4993c818ea3b61fed685de1ea4e7ccc58590466cc4aecacb37feb718f16bfa8478f25130a65c60c3ebb71a9dc8ff5ded57bc2044b9f408924821c0e12c4e7f61|4|9 <unknown description>', dbxrefs=[])]"
       ]
      }
     ],
     "prompt_number": 56
    },
    {
     "cell_type": "code",
     "collapsed": false,
     "input": [
      "# Append the sequences to the dictionary.\n",
      "# This can be written into a function.\n",
      "split_char = '|' # The character that will be used to split the SeqRecord.id string\n",
      "pos_segment_num = 1 # The position of the segment number after splitting by the split_char\n",
      "\n",
      "for sequence in sequences:\n",
      "    segment_number = int(sequence.id.split(split_char)[pos_segment_num])\n",
      "    sequences_dictionary[segment_number].append(sequence)\n",
      "\n",
      "# sequences_dictionary"
     ],
     "language": "python",
     "metadata": {},
     "outputs": [],
     "prompt_number": 57
    },
    {
     "cell_type": "code",
     "collapsed": false,
     "input": [
      "# Create a NetworkX graph using one segment's sequences, and add nodes.\n",
      "import networkx as nx\n",
      "\n",
      "G = nx.DiGraph()\n",
      "\n",
      "splitchar = '|'\n",
      "pos_id = 0\n",
      "pos_segment_num = 1\n",
      "pos_creation_time = 2\n",
      "\n",
      "segment_number = 4\n",
      "\n",
      "for sequence in sequences_dictionary[segment_number]:\n",
      "    [isolate_id, segment_num, creation_time] = sequence.id.split(splitchar)\n",
      "    G.add_node(isolate_id[0:5], sequence=sequence.seq, id=isolate_id, segment_num=int(segment_num), creation_time=int(creation_time))\n",
      "\n",
      "# at this point, we would return G, and append it to the dictionary of Graphs available.\n",
      "# G.nodes(data=True)"
     ],
     "language": "python",
     "metadata": {},
     "outputs": [],
     "prompt_number": 58
    },
    {
     "cell_type": "code",
     "collapsed": false,
     "input": [
      "# Add edges to the graph, based on the Levenshtein distance between two sequences.\n",
      "import Levenshtein\n",
      "for node1 in G.nodes(data=True):\n",
      "    for node2 in G.nodes(data=True):\n",
      "        if node1[1]['creation_time'] < node2[1]['creation_time']:\n",
      "            weight = Levenshtein.distance(str(node1[1]['sequence']), str(node2[1]['sequence']))\n",
      "            G.add_edge(node1[0], node2[0], weight=weight)"
     ],
     "language": "python",
     "metadata": {},
     "outputs": [],
     "prompt_number": 59
    },
    {
     "cell_type": "code",
     "collapsed": false,
     "input": [
      "# Prune graph by distance.\n",
      "for node in G.nodes(data=True):\n",
      "    in_edges = G.in_edges(node[0], data=True)\n",
      "#     print in_edges\n",
      "    if len(in_edges) != 0:\n",
      "        min_weight = min([edge[2]['weight'] for edge in in_edges])\n",
      "        print min_weight\n",
      "        print node\n",
      "        for edge in in_edges:\n",
      "            if edge[2]['weight'] != min_weight:\n",
      "                G.remove_edge(edge[0], edge[1])"
     ],
     "language": "python",
     "metadata": {},
     "outputs": [
      {
       "output_type": "stream",
       "stream": "stdout",
       "text": [
        "8\n",
        "('3eb95', {'segment_num': 4, 'creation_time': 1, 'id': '3eb951b0dc4e812f0ceed7780dfbdd3f709ce721d7e3d6e538abde35b46b8b71e17b379694d1244bfb572a08d12775eb9c88770f978e4ac94a99e1b4307b06c7', 'sequence': Seq('GCCCGTCGCGCTTTGCTCGGGTCCGGTCTACCTGCGGTGTATGCGCTCCAACGA...GTG', SingleLetterAlphabet())})\n",
        "15\n",
        "('e5a7a', {'segment_num': 4, 'creation_time': 6, 'id': 'e5a7afa240b91f3c2607f70ef7c7bae7cfff1b65059a7ae21c9f9ee09df3e04303b540cf8bca25fb7bb7670e2d8695526889cceb54b63a6a2d9e670dc0fc5cc4', 'sequence': Seq('TCCCGTCGCGCTTTGCTCGGGTACGGTCTAGCGGCGGTGTATGCGCTCCAACGA...GTG', SingleLetterAlphabet())})\n",
        "6\n",
        "('39943', {'segment_num': 4, 'creation_time': 2, 'id': '39943ec55ec09a698da0a2c8a8656d1eab0db7a5b4e6163ddc8e434029f57e4f091acf4c696c0a7fb0ebddfb763c9cbfc757fba06847993b37a3c83facf18086', 'sequence': Seq('GATAAATCGGGTAAGATCCATTCGCGTCCAGAACCAATGAAGAGCTTTGATTAC...GTG', SingleLetterAlphabet())})\n",
        "12\n",
        "('d6b71', {'segment_num': 4, 'creation_time': 4, 'id': 'd6b71fd8c84b74e0801da3fea7a4330dc1eca20a2d78b7f9f7a6f1368b12417b2c319cf2772ea3fa3f3929c1556fc989d1a992a87617ba8d7e258665ce3a720f', 'sequence': Seq('GATAAATCGGGTAAGATCCATTCGCGTCCAGAACCAATGAAGAGCTTTGATTAC...GTG', SingleLetterAlphabet())})\n",
        "7\n",
        "('f8773', {'segment_num': 4, 'creation_time': 7, 'id': 'f8773728db935c1741a255d1a705b84c181ea4a9659bfb4d11393b54cc91ea31e9a45a2a53c80e6069c5127c436088d5e613d2b601ab43230e1d4b03c3d70624', 'sequence': Seq('TCCCGTCGCGCTTTGCTCGGGTACGGTCTACCGGCGGTGTATGCGCTCCAACGA...GTG', SingleLetterAlphabet())})\n",
        "12\n",
        "('4993c', {'segment_num': 4, 'creation_time': 9, 'id': '4993c818ea3b61fed685de1ea4e7ccc58590466cc4aecacb37feb718f16bfa8478f25130a65c60c3ebb71a9dc8ff5ded57bc2044b9f408924821c0e12c4e7f61', 'sequence': Seq('GATAAATCGGGTAAGATCCATTCGCGTCCAGAACCAATGAAGAGCTTTGATTTC...GTG', SingleLetterAlphabet())})\n",
        "7\n",
        "('2740b', {'segment_num': 4, 'creation_time': 8, 'id': '2740ba4dfe3a7777360b7bd37bc5bee3a6aecd4953d7a65e70ef1b682d3b25eaac3bb51d436c3696bf3324eee09f80754bc8d8d687d736177e30ed897b8fe443', 'sequence': Seq('TCCCGTCGCGCTTTGCTCGGGTACGGTCTACCGGCGGTGTATGCGCTCCAACGA...GTG', SingleLetterAlphabet())})\n",
        "9\n",
        "('63869', {'segment_num': 4, 'creation_time': 5, 'id': '6386983f1719a0374669d6d05fafbdda084359acabe45db290dd59daeca59e3869ce1d23a7da643aacc2e133149ed84e023d8c46d1d81d07b966c527af65afa4', 'sequence': Seq('TCCCGTCGCGCTTTGCTCGGGTACGGTCTAGCGGCGGTGTATGCGCTCCAACGA...GTG', SingleLetterAlphabet())})\n",
        "15\n",
        "('a2e6b', {'segment_num': 4, 'creation_time': 3, 'id': 'a2e6ba830bd4d5ca801ef2be9660801a85ed609c877dde6c80deabf24abdc5f675ac561fa3e2af927415096348ad82e874e8a4fdd592076df0fb5200bbc4009a', 'sequence': Seq('TCCCGTCGCGCTTTGCTCGGGTACGGTCTACCGGCGGTGTATGCGCTCCAACGA...GTG', SingleLetterAlphabet())})\n"
       ]
      }
     ],
     "prompt_number": 60
    },
    {
     "cell_type": "code",
     "collapsed": false,
     "input": [
      "nx.draw_circular(G)"
     ],
     "language": "python",
     "metadata": {},
     "outputs": [
      {
       "metadata": {},
       "output_type": "display_data",
       "png": "[encoded data removed]",
       "text": [
        "<matplotlib.figure.Figure at 0x106602310>"
       ]
      }
     ],
     "prompt_number": 61
    },
    {
     "cell_type": "markdown",
     "metadata": {},
     "source": [
      "# Test Reconstructor Class"
     ]
    },
    {
     "cell_type": "code",
     "collapsed": false,
     "input": [
      "from reconstructor import Reconstructor\n",
      "import networkx as nx"
     ],
     "language": "python",
     "metadata": {},
     "outputs": [],
     "prompt_number": 62
    },
    {
     "cell_type": "code",
     "collapsed": false,
     "input": [
      "r = Reconstructor(segments=[1, 4])\n",
      "print r.sequences\n",
      "print r.graphs"
     ],
     "language": "python",
     "metadata": {},
     "outputs": [
      {
       "output_type": "stream",
       "stream": "stdout",
       "text": [
        "{1: [], 4: []}\n",
        "{1: <networkx.classes.digraph.DiGraph object at 0x1063b8310>, 4: <networkx.classes.digraph.DiGraph object at 0x1063b8dd0>}\n"
       ]
      }
     ],
     "prompt_number": 63
    },
    {
     "cell_type": "code",
     "collapsed": false,
     "input": [
      "fasta_file = 'FASTA Files/outfile_test.fasta'\n",
      "r.read_fasta_file(fasta_file)"
     ],
     "language": "python",
     "metadata": {},
     "outputs": [],
     "prompt_number": 64
    },
    {
     "cell_type": "code",
     "collapsed": false,
     "input": [
      "r.add_nodes_with_data()\n",
      "r.add_edges_with_weight()\n",
      "r.prune_graphs_by_weight()\n",
      "r.compose_segment_graphs()\n",
      "r.condense_composed_segment_graphs()\n",
      "r.prune_condensed_graph()"
     ],
     "language": "python",
     "metadata": {},
     "outputs": [],
     "prompt_number": 65
    },
    {
     "cell_type": "code",
     "collapsed": false,
     "input": [
      "r.condensed_graph.edges(data=True)"
     ],
     "language": "python",
     "metadata": {},
     "outputs": [
      {
       "metadata": {},
       "output_type": "pyout",
       "prompt_number": 66,
       "text": [
        "[('39943', 'd6b71', {'segments': [1, 4], 'weight': 12}),\n",
        " ('bc6dd', '39943', {'segments': [1, 4], 'weight': 6}),\n",
        " ('d6b71', '4993c', {'segments': [1, 4], 'weight': 12}),\n",
        " ('4bae7', '3eb95', {'segments': [1, 4], 'weight': 10}),\n",
        " ('4bae7', 'a2e6b', {'segments': [1, 4], 'weight': 16}),\n",
        " ('63869', 'e5a7a', {'segments': [1, 4], 'weight': 17}),\n",
        " ('a2e6b', '2740b', {'segments': [1, 4], 'weight': 7}),\n",
        " ('a2e6b', '63869', {'segments': [1, 4], 'weight': 9}),\n",
        " ('a2e6b', 'f8773', {'segments': [1, 4], 'weight': 7})]"
       ]
      }
     ],
     "prompt_number": 66
    },
    {
     "cell_type": "code",
     "collapsed": false,
     "input": [
      "r.condensed_graph.nodes(data=True)"
     ],
     "language": "python",
     "metadata": {},
     "outputs": [
      {
       "metadata": {},
       "output_type": "pyout",
       "prompt_number": 67,
       "text": [
        "[('3eb95',\n",
        "  {'creation_time': '1',\n",
        "   'id': '3eb951b0dc4e812f0ceed7780dfbdd3f709ce721d7e3d6e538abde35b46b8b71e17b379694d1244bfb572a08d12775eb9c88770f978e4ac94a99e1b4307b06c7',\n",
        "   'segment_number': '4',\n",
        "   'sequence_1': 'AACGCAAATTGATAAGGGGATCCTTCTCTGCAAATAGCATCTGAACCTGTCATGCGAATCTGTGCCGTCCGGGATGTATCTCCCCTTCTTCCAGCGGTCGCTGGAGGCAGCCACGATTACGCCCAAAGTCGCTGTTGAGTGACCGGGGACGGTTCCCGATTCGCGCACACTCACTGCCTCCTGACACAGCCATCATGGATGAGAGACCCCCCTCGGGAGGGCCGACATCGGTTAGGAAGGGGGCTCTGGATGCAGAACCGGCCTCAAGGTTTTCATGTCACCGCAAGATTGCTTGGACTCCGCACTCACAGCTGCTGATTGCGTCCGACAGTCGTTTACTGCAAAGGTTAACCAGGTATTAGAGCCAGGCGCTCAAGGCGATTCGCTAGATCTAAAATATCGCTCATCCGTTGCGGGGTCCGAGCTGAGTGGTTTCTCTCGCACTCATAACCGTTGGTGACCGTACGTGGGGCCATGATCAATCTGTCAGGTTTGCAATTTAGCGGCGGAGAGTTCGAGATGATAAAATCATCTTCGCCATGAGGCTAAGGGTGCCAAACATGGGCCGACCTACGTACCAACTGGGCGGCGGAGCAGTAGGTCCCTCATGGTAGTGGTAAGCCCCACTCAATTGTAACTTACGGTTGTTCTAAATCATGAGATCTTCCATGGGACCCCATCTGTAGCAGAACCAACATTTGCGGGGCAGTACAGAACAACCAGCGGCTGAATGCTCGTCTGATGTATCGGGCCGTCCAGCTCCACGGAGCACTATTATCGTGTGAATCTTTGTCGACCAGCATGACAATTCTTGCGTGTTGCTGTAAGGGGAAAAGTCCGCAGATTGGCATATCAAGAAAAGAACCGGGGGCCTCGCGGGGCAGCTTCTGAGTGTACTACTCAAGTCAGCGGTAAGTTCCATTTGCTTGAGTGAGATCCCCTTGCCGTAGATAGACCCCTGGACATGAGACAGAGATAGGACTAATGACCACAATCTGAA',\n",
        "   'sequence_4': 'GCCCGTCGCGCTTTGCTCGGGTCCGGTCTACCTGCGGTGTATGCGCTCCAACGAGCTAATAAAAAATATGGGAGGCTCAGCACCTACCACCTCCGAGTCTCACTGTCCTTACACAGTATCCACTTTACTTGCCGCGGCAGCATCCGAACAACGCCAAGTAAGGTCCTGGTAAGCAGCGTCCAGCGTATGGCGTAGTTCGGGTCCAGGTCTTGCCGTCTTTAAAGATTCCCGTGGAGCCAGCATTTGCGCCGAAATCTGTAAAAGAGAGGAGAGGAGCTCGATGCAATAAAACTATTAGGTACTGGTACCTGATAAACCCAATCTTTGAATTCGACAAGCCCACAGGTTTGCATTATATGATACAGTTCTAATGCCACGGGCGCGCGATTCAATTTAAGATGCCGTATGTTGTCGTGTTAATGGGATATTAGCTCGATGGAGTGGATCGGGGCTCAGAGTTGAGCGTGCAGGCATTGAGGCCTCCTTCTGATCGGACCTGCTTCTCGGTGAGTTATAAAAATTCTTTGAAAGGACATCTGCGATGAGATCCTAAGCCCGCCTAGCTCGTGATTGGCTTAATTGCGCTCTACCGTCGATATACATGCTCTGGGTGTAATTTACAGTTCATTCCACTGCGCATCTAAACTATTGCGTCGCATTACCCTTCCCATACCGGAACTTATAAAGGAAGCCGTCCAGAGTCGTATATTCTTTACTTCTGTTGCTCGTACGAGTGTTCGTGCGCTCCGGCTCCGTTTCTCGAACTTGCCAGAGCGTCAAGCTCTATGGTATACCGGGAGCAGTAATTGAGACCAAAGTCATCTTTGTTTTACAGCAGATAATAGAAGGTGTAGACGTATTAGCTGGCTCATCGCCCAGACAGGGACTATGAGTATATGACCAGTCTGGAATATGCTCGAATGTTGGACCTCATAATGAAGATTGCTGTCATGCCCAAGCTGGTCCCCAGCTTTGCCCTCGCAGGCTCGGGTTCCGTGTG'}),\n",
        " ('e5a7a',\n",
        "  {'creation_time': '6',\n",
        "   'id': 'e5a7afa240b91f3c2607f70ef7c7bae7cfff1b65059a7ae21c9f9ee09df3e04303b540cf8bca25fb7bb7670e2d8695526889cceb54b63a6a2d9e670dc0fc5cc4',\n",
        "   'segment_number': '4',\n",
        "   'sequence_1': 'AACGCAAATTGATAAGGGGATCCTTGTCTGCAAATAGCATCTGAACCTGTCATGCGAATCTGTGCCGTCCGGGATGTATCTCCCCTTCTTCCAGCGGTCGCTGGAGGCAGCCACGATTACGCCCAAAGTCGCTGTTGAGTGACCGGGGACGGTTCCCGATTCGCGCACACTCACTGCCTCCTGACACAGCCATCATGGATGAGAGACCCCCCTCGGGAGGGCCGACATCGGTTAGGAAGGGGGCTCTGGATGCAGAACAGGCCTCAAGGTTTTCATGTCACCGCAAGATTGCTTGGACTCCGCACTCACAGCTGCTGATTGCGTCCGACAGTCGTTTACTGCAAAGGTTAACCAGGTATTAGAGCCAGGCGCTCAAGGCGATTCGCTAGATCTAAAATATCGCTCATCCGTTGCGGGGTCCGAGCTGAGTGGTTTCTCTCGCACTCATAACCGTTGGTGACCGTACGTGGGGCCATGATCAATCTGTCAGGTCTGCAATTTAGCGGCGGAGAGTTCGAGATGATAAAATCATCTTCGCCATGAGGCTAAGGGTGCCAAACATGGGCCGACCTACGTACCAACTGGGCGGCGGAGCAGTAGGTCCCTCATGGTAGTGGTAAGCCCCACTCAATTGTAACTTACGGTTGTTCTAAATCATGAGATCTTCCATGGGACCCCATCTGTAGCAGAACCAACATTTGCGGGGCAGTACTGAACAACCAGCGGCTGAATGCTCGTCTGATGTATCGGGCCGTCCAGCTCCACGGAGCACTATTATCGTGTGAATCTTTGTCGACCAGCATGACAATTCTTGCGTGTTGCTGTAAGGGGAACAGTCCGCAGATTGGCATATCAAGAAAAGAACCGGGGGCCTCGCGGGGCAGCTTCTGAGTGTACTACTCAAGTCAGCGGTAAGTTCCATTTGCTTGAGTGAGATCCCCTTGCCGTAGATAGACCCCTGGACATGAGACAGAGATAGGACTAATGACCACAATCTGAA',\n",
        "   'sequence_4': 'TCCCGTCGCGCTTTGCTCGGGTACGGTCTAGCGGCGGTGTATGCGCTCCAACGAGCTAATAAAAAATATGGGAGGCTCAGCACCTACCACCTCCGAGTCTCAATGTCCTTACACAGTATCCACTTTACTTGCCGCGGCAGCATGCGAACAACGCCAAGTAAGGTCCTGGTAAGCTGCGTCCAGCGTATGGCGTACTTCGGGTCCAGATCTTGCCGTCTTTAAAGATTCCCGTGGAGCCAGCATTTGCGCCGAAATCTGTAAAAGAGAGGAGAGGATCTCGATGCTATAAAACTATTAGGTACTGGTACCTGATAAACCCAGTCTTTGCATTCGACAAGCCCACAGGTTCGCATTATATGATAAAGTACTAATGCCCCGGGTGCGCGATTCAATTTAAGATGCCGTATGTTGTCGTGTTACTGGGATATTTGCTCGATGGAGTGGATCGGGGCTCAGAGTTGAGCGTGTAGGCATTGACGCCTCCTTCTGATCGGACCTGCTTCTCGGTGAGTTATAAGAATTCTTTGAAAGCACATCTGCAATGAGTTCCTAAGCCCGCTTAGCTCCTGATTGGCTCAATTGCGTTCTACCGTCGATATACATGCTCTGGGTGTCATTTACAGTTCATTCCACTGCGCATTTAAACTATTGCGTCGCATTACCCTTCGCATACCGGAACTTATAAAGGAAGCCGTCCACAGTCGTATATTCTTTACTTCTGTTGCTCGTACGAGTGTTCGTGCGCTCCGGCTCCGTTTCTCGATCTTACCAGAGTGTCAAGCTCTATGGTATACCGGGAGCAGTAATTGGGAACAAAGTCATCTTTGTTTAACAGCAGATACTAGAAGGTGTCGACGTATTAGCTGTCTCCTCGCCCAGACAGGGACTATGAGAATATGACCAGTCTGGAATAGGCTCGAATGTTGGACCTCATAATGAAGATTGCTGTCATGCCCAAGCTGGTCCCCAGCTTTGCCCTCGCAGGCTCGGGTTCCGTGTG'}),\n",
        " ('39943',\n",
        "  {'creation_time': '2',\n",
        "   'id': '39943ec55ec09a698da0a2c8a8656d1eab0db7a5b4e6163ddc8e434029f57e4f091acf4c696c0a7fb0ebddfb763c9cbfc757fba06847993b37a3c83facf18086',\n",
        "   'segment_number': '4',\n",
        "   'sequence_1': 'AACGCAAATTGATAAGGGGATCCTTGTCTGCAAATAGCATCTGAACCTGTCATGCGAATCTGTGCCGTCCGGGATGTATCTCCCCTTCTTCCAGCGGTCGCTGGAGGCAGCCACGATTACGCCCAAAGTCGCTGTTGAGTGACCGGGGACGGTTCCCGATTCGCGCACACTCACTGCCTCCTGACACAGCCATCATGGATGAGAGACCCCCCTCGGGAGGGCCGACATCGGTTAGGAAGGGGGCTCTGGATGCAGAACAGGCCTCAAGGTTTTCATGTCACCGCAAGATTGCTTGGACTCCGCACTCACAGCTGCTGATTGCGTCCGACAGTCGTTTACTGCAAAGGTTAACCAGGTATTAGAGCCAGGCGCTCAAGGCGATTCGCTAGATCTAAAATATCGCTCATCCGTTGCGGGGTCCGAGCTGAGTGGTTTCTCTCGCACTCATAACCGTTGGTGACCGTACGTGGGGCCATGATCAATCTGTCAGGTTTGCAATTTAGCGGCGGAGAGTTCGAGATGATAAAATCATCTTCGCCATGAGGCTAAGGGTGCCAAACATGGGCCGACCTACGTACCAACTGGGCGGCGGAGCAGTAGGTCCCTCATGGTAGTGGTAAGCCCCACTCAATTGTAACTTACGGTTGTTCTAAATCATGAGATCTTCCATGGGACCCCATCTGTAGCAGAACCAACATTTGCGGGGCAGTACAGAACAACCAGCGGCTGAATGCTCGTCTGATGTATCGGGCCGTCCAGCTCCACGGAGCACTATTATCGTGTGAATCTTTGTCGACCAGCATGACAATTCTTGCGTGTTGCTGTAAGGGGAAAAGTCCGCAGATTGGCATATCAAGAAAAGAACCGGGGGCCTCGCGGGGCAGCTTCTGAGTGTACTACTCAAGTCAGCGGTAAGTTCCATTTGCTTGAGTGAGATCCCCTTGCCGTAGATAGACCCCTGGACATGAGACAGAGATAGGACTAATGACCACAATCTGAA',\n",
        "   'sequence_4': 'GATAAATCGGGTAAGATCCATTCGCGTCCAGAACCAATGAAGAGCTTTGATTACGGGGAACAGAGCGACAATCCTTTGGACGCTTGTATGTGGCCCTTTCAAGAGGAGTCCCTGAAAGTAATGATGTCGATGATAGCTTGCTAGATGTGATCTGGGGTACGGCTAGCCCGAGTAACCGCGGTTGGATAATTAGAGCACCATCTAAGAACGAATAGGAGTGGTGCGTCGCTCATCGTTCCGGTCCCGCTACTCGGAGGACGCCACGTGCTAATTCTTTGATTCTACTATGTCTAGCTCCCTGCAGTTTCATCCTTCCCTAGCCAGCAGGACCTCATTAGGCTTAGAGCGAATAATTTCTTTACAAGGTAGTTTCAAAGTGATGCCCCACTGCACCCACCTGACTACTCCCTAAGACCGCATATATGCGCAATCGTATCGGTCATAACTTCCTAAATAATTGATGGCTAGTTCCAGCTGCAAGTCTTTAGCCTCTCAACTCATAGCCTAGCACGTAAGTTGCACGTTCCGGTTAATTAACAGCCGAGACCCCTACTTTGTTTGTATTAATAGCTCTAAATCATCAAATCGTCACCCACTGCTGTGACGACCTCTCTAGGCAAAATTGAGTGTCTACCAGAATTTGAAACGAAACTCACCTGTAGAAGACTTACACTTGGCCAGCGGTTCTCACTATGCTACCTGCCTGACCCGGTTTACCTAGTTCCAGAAAACTTCTAAGGCAGCCTGATATTACTCAAATGCCTGATGAACTGATATGTATGGAAGAGTCAGGTTCGATCAAGCGATACGATTCGGAAAACTCTGATACTCCCAAGGCAAAATGCGCTTTCCGGTGCAGCGAGCGGAGGGGGACTCATATTTATACACGTTATGGTAATGGCCGCCAGGGTTAGAATTGGGTCCATTATAATGATTGAGACGAGGCAAGCCACGATTCGGAGGCGTTGGTGGATGATGACAAAGCGTGGTTCCGTGAGTG'}),\n",
        " ('bc6dd',\n",
        "  {'creation_time': '0',\n",
        "   'id': 'bc6ddeadf88bb0279af9a89a80d16f4626a393ce470e72f92e8da2e5a9a60f20aace6484bd3e7dbd81d74d558c13ad7c2479367e7631f16c66741554069666ec',\n",
        "   'segment_number': '4',\n",
        "   'sequence_1': 'AACGCAAATTGATAAGGGGATCCTTGTCTGCAAATAGCATCTGAACCTGTCATGCGAATCTGTGCCGTCCGGGATGTATCTCCCCTTCTTCCAGCGGTCGCTGGAGGCAGCCACGATTACGCCCAAAGTCGCTGTTGAGTGACCGGGGACGGTTCCCGATTCGCGCACACTCACTGCCTCCTGACACAGCCATCATGGATGAGAGACCCCCCTCGGGAGGGCCGACATCGGTTAGGAAGGGGGCTCTGGATGCAGAACAGGCCTCAAGGTTTTCATGTCACCGCAAGATTGCTTGGACTCCGCACTCACAGCTGCTGATTGCGTCCGACAGTCGTTTACTGCAAAGGTTAACCAGGTATTAGAGCCAGGCGCTCAAGGCGATTCGCTAGATCTAAAATATCGCTCATCCGTTGCGGGGTCCGAGCTGAGTGGTTTCTCTCGCACTCATAACCGTTGGTGACCGTACGTGGGGCCATGATCAATCTGTCAGGTTTGCAATTTAGCGGCGGAGAGTTCGAGATGATAAAATCATCTTCGCCATGAGGCTAAGGGTGCCAAACATGGGCCGACCTACGTACCAACTGGGCGGCGGAGCAGTAGGTCCCTCATGGTAGTGGTAAGCCCCACTCAATTGTAACTTACGGTTGTTCTAAATCATGAGATCTTCCATGGGACCCCATCTGTAGCAGAACCAACATTTGCGGGGCAGTACAGAACAACCAGCGGCTGAATGCTCGTCTGATGTATCGGGCCGTCCAGCTCCACGGAGCACTATTATCGTGTGAATCTTTGTCGACCAGCATGACAATTCTTGCGTGTTGCTGTAAGGGGAAAAGTCCGCAGATTGGCATATCAAGAAAAGAACCGGGGGCCTCGCGGGGCAGCTTCTGAGTGTACTACTCAAGTCAGCGGTAAGTTCCATTTGCTTGAGTGAGATCCCCTTGCCGTAGATAGACCCCTGGACATGAGACAGAGATAGGACTAATGACCACAATCTGAA',\n",
        "   'sequence_4': 'GATAAATCGGGTAAGATCCATTCGCGTCCAGAACCAATGAAGAGCTTGGATTACGGGGAACAGAGCGACAATCCTTTGGACGCTTGTATGTGGCCCTTTCAAGAGGAGTCCCTGAAAGTAATGATGTCGATGATAGCTTGCTAGATGTGATCTGGGGTACGGCTAGCCCGAGTAACCGCGGTTGGATAATTAGAGCACCATCTAAGAACGAATAGGAGTGGTGCGTCGCTCATCGTTCCGGTCCCGCTCCTCGGAGGACGCCACGTGCTAATTCTTTGATTCTACTATGTCTAGCTCCCTGCAGTTTCATCCTTCCCTAGCCAGCAGGACCTCATTAGGCTTAGAGCGAATAATTTCTTTACAAGGTAGTTTCAAAGTGATGCCCCACTGCACCCACCTGACTACTCCCTAAGACCGGATATATGCGCAATAGTATCGGTCATAACTTCCTAAATAATTGATGGCTAGTTCCAGCTGCAAGTCTTTAGCCTCTCAACTCATAGCCTATCACGTAAGTTGCACGTTCCGGTTAATTAACAGCCGAGACCCCTACTTTGTTTGTATTAATAGCTCTAAATCATCAAATCGTCACCCACTGCTGTGACGACCTCTCAAGGCAAAATTGAGTGTCTACCAGAATTTGAAACGAAACTCACCTGTAGAAGACTTACACTTGGCCAGCGGTTCTCACTATGCTACCTGCCTGACCCGGTTTACCTAGTTCCAGAAAACTTCTAAGGCAGCCTGATATTACTCAAATGCCTGATGAACTGATATGTATGGAAGAGTCAGGTTCGATCAAGCGATACGATTCGGAAAACTCTGATACTCCCAAGGCAAAATGCGCTTTCCGGTGCAGCGAGCGGAGGGGGACTCATATTTATACACGTTATGGTAATGGCCGCCAGGGTTAGAATTGGGTCCATTATAATGATTGAGACGAGGCAAGCCACGATTCGGAGGCGTTGGTGGATGATGACAAAGCGTGGTTCCGTGAGTG'}),\n",
        " ('d6b71',\n",
        "  {'creation_time': '4',\n",
        "   'id': 'd6b71fd8c84b74e0801da3fea7a4330dc1eca20a2d78b7f9f7a6f1368b12417b2c319cf2772ea3fa3f3929c1556fc989d1a992a87617ba8d7e258665ce3a720f',\n",
        "   'segment_number': '4',\n",
        "   'sequence_1': 'AACGCAAATTGATAAGGGGATCCTTGTCTGCAAATAGCATCTGAACCTGTCATGCGAATCTGTGCCGTCCGGGATGTATCTCCCCTTCTTCCAGCGGTCGCTGGAGGCAGCCACGATTACGCCCAAAGTCGCTGTTGAGTGACCGGGGACGGTTCCCGATTCGCGCACACTCACTGCCTCCTGACACAGCCATCATGGATGAGAGACCCCCCTCGGGAGGGCCGACATCGGTTAGGAAGGGGGCTCTGGATGCAGAACAGGCCTCAAGGTTTTCATGTCACCGCAAGATTGCTTGGACTCCGCACTCACAGCTGCTGATTGCGTCCGACAGTCGTTTACTGCAAAGGTTAACCAGGTATTAGAGCCAGGCGCTCAAGGCGATTCGCTAGATCTAAAATATCGCTCATCCGTTGCGGGGTCCGAGCTGAGTGGTTTCTCTCGCACTCATAACCGTTGGTGACCGTACGTGGGGCCATGATCAATCTGTCAGGTTTGCAATTTAGCGGCGGAGAGTTCGAGATGATAAAATCATCTTCGCCATGAGGCTAAGGGTGCCAAACATGGGCCGACCTACGTACCAACTGGGCGGCGGAGCAGTAGGTCCCTCATGGTAGTGGTAAGCCCCACTCAATTGTAACTTACGGTTGTTCTAAATCATGAGATCTTCCATGGGACCCCATCTGTAGCAGAACCAACATTTGCGGGGCAGTACAGAACAACCAGCGGCTGAATGCTCGTCTGATGTATCGGGCCGTCCAGCTCCACGGAGCACTATTATCGTGTGAATCTTTGTCGACCAGCATGACAATTCTTGCGTGTTGCTGTAAGGGGAAAAGTCCGCAGATTGGCATATCAAGAAAAGAACCGGGGGCCTCGCGGGGCAGCTTCTGAGTGTACTACTCAAGTCAGCGGTAAGTTCCATTTGCTTGAGTGAGATCCCCTTGCCGTAGATAGACCCCTGGACATGAGACAGAGATAGGACTAATGACCACAATCTGAA',\n",
        "   'sequence_4': 'GATAAATCGGGTAAGATCCATTCGCGTCCAGAACCAATGAAGAGCTTTGATTACGGGGAACAGAGCGACAATCCTTTGGACGCTTGTATGTGGCCCTTTCAAGAGGAGTCCCTGAAAGTAATGATGTCGATGATAGCTTGCTAGATGTGATCTGGGGTACGGCTAGCCCGAGTAACCGCGGTTGGATAATTAGAGCACCCTCTAAGAACGAATAGGAGTGGTGCGTCGCTCATCGTTCCGGTCCCGCTACTCGGAGGACGCCACGTGCTAATTCTTTGATTCTACTATGTCTAGCTCCCTGCAGTTTCATCCCTCCCTAGCCAGCAGGACCTCATTAGGCTTAGAGCGAATAATTTCTTTACAAGGTCTTTTCAAAGTGATGCCCCACTGCACCCACCTGACTACTCCCTAAGACCGCATATATGCGCAATCGTATCGGTCTTAACTTCCTAAATAATTGATGGCTAGTTCCAGCTGCAAGTCTTTAGCCTATCAACTCATAGCCTAGCACGTAAGTTGCACGTTCCGGTTAATTAAAAGCCGAGACCCCTACTTTGTTTGTATTAATAGCTCTAAATCATCAAATCGTCACCCACTGCTGTGACGACCTCGCTAGGCAAAATTGAGTGTCTACCAGACTTTGAAACGAAACTCACCTGTAGAAGACTTACACTTGGCCAGCGGTTCTCACTATGCTACCTGCCTGACCCGGTTTACCTAGTTCCAGAAAACTTCTAAGGCAGCCTGATATTAGTCAAATGCCTGATGAACTGATATGTATGGAAGAGTCAGGTTCGATCAAGCGATACGATTCGGAAAACTCTGATACTCCCAAGGCAAAATGCGCTTTCCGGTGCAGCGAGCGGAGGGGGACTCATATTTATACACGTTATGGTAATGGCCGCCAAGGTTAGAATTGGGTCCATTATAATGATTGAGACCAGGCAAGCCACGATTCGGAGGCGTTGGTGGATGATGACAAAGCGTGGTTCCGTGAGTG'}),\n",
        " ('4bae7',\n",
        "  {'creation_time': '0',\n",
        "   'id': '4bae7413e338b964b07e07e79e21225b09dbfd7d18671e37b1525d268028a31bc48cce7c02a7a65969d0cd6f8959760da764fda00f7438bf29e2a904b16ffbe4',\n",
        "   'segment_number': '4',\n",
        "   'sequence_1': 'AACGCAAATTGATAAGGGGATCCTTGTCTGCAAATAGCATCTGAACCTGTCATGCGAATCTGTGCCGTCCGGGATGTATCTCCCCTTCTTCCAGCGGTCGCTGGAGGCAGCCACGATTACGCCCAAAGTCGCTGTTGAGTGACCGGGGACGGTTCCCGATTCGCGCACACTCACTGCCTCCTGACACAGCCATCATGGATGAGAGACCCCCCTCGGGAGGGCCGACATCGGTTAGGAAGGGGGCTCTGGATGCAGAACAGGCCTCAAGGTTTTCATGTCACCGCAAGATTGCTTGGACTCCGCACTCACAGCTGCTGATTGCGTCCGACAGTCGTTTACTGCAAAGGTTAACCAGGTATTAGAGCCAGGCGCTCAAGGCGATTCGCTAGATCTAAAATATCGCTCATCCGTTGCGGGGTCCGAGCTGAGTGGTTTCTCTCGCACTCATAACCGTTGGTGACCGTACGTGGGGCCATGATCAATCTGTCAGGTTTGCAATTTAGCGGCGGAGAGTTCGAGATGATAAAATCATCTTCGCCATGAGGCTAAGGGTGCCAAACATGGGCCGACCTACGTACCAACTGGGCGGCGGAGCAGTAGGTCCCTCATGGTAGTGGTAAGCCCCACTCAATTGTAACTTACGGTTGTTCTAAATCATGAGATCTTCCATGGGACCCCATCTGTAGCAGAACCAACATTTGCGGGGCAGTACAGAACAACCAGCGGCTGAATGCTCGTCTGATGTATCGGGCCGTCCAGCTCCACGGAGCACTATTATCGTGTGAATCTTTGTCGACCAGCATGACAATTCTTGCGTGTTGCTGTAAGGGGAAAAGTCCGCAGATTGGCATATCAAGAAAAGAACCGGGGGCCTCGCGGGGCAGCTTCTGAGTGTACTACTCAAGTCAGCGGTAAGTTCCATTTGCTTGAGTGAGATCCCCTTGCCGTAGATAGACCCCTGGACATGAGACAGAGATAGGACTAATGACCACAATCTGAA',\n",
        "   'sequence_4': 'GCCCGTCGCGCTTTGCTCGGGTCCGGTCTACCTGCGGTGTATGCGCTCCAACGAGCTAATAAAAAATATGGGAGGCTCAGCACCTACCACCTCCGAGTCTCAATGTCCTTACACAGTATCCACTTTACTTGCCGCGGCAGCATCCGAACAACGCCAAGTAAGGTCCTGGTAAGCAGCGTCCAGCGTATGGCGTAGTTCGGGTCCAGGTCTTGCCGTCTTTAAAGATTCCCGTGGAGCCAGCATTTGCGCCGAAATCTGTAAAAGAGAGGAGAGGAGCTCGATGCAATAAAACTATTAGGTACTGGTACCTGATAAACCCAATCTTTGCATTCGACAAGCCCACAGGTTTGCATTATATGATACAGTACTAATGCCACGGGCGCGCGATTCAATTTAAGATGCCGTATGTTGTCGTGTTAATGGGATATTAGCTCGATGGAGTGGATCGGGGCTCAGAGTTGAGCGTGCAGGCATTGAGGCCTCCTTCTGATCGGACCTGCTTCTCGGTGAGTTATAAAAATTCTTTGAAAGGACATCTGCGATGAGATCCTAAGCCCGCCTAGCTCGTGATTGGCTTAATTGCGTTCTACCGTCGATATACATGCTCTGGGTGTAATTTACAGTTCATTCCACTGCGCATCTAAACTATTGCGTCGCATTACCCTTCCCATACCGGAACTTATAAAGGAAGCCGTCCAGAGTCGTATATTCTTTACTTCTGTTGCTCGTACGAGTGTTCGTGCGCTCCGGCTCCGTTTCTCGAACTTGCCAGAGTGTCAAGCTCTATGGTATACCGGGAGCAGTAATTGAGAACAAAGTCATCTTTGTTTAACAGCAGATAATAGAAGGTGTAGACGTATTAGCTGGCTCATCGCCCAGACAGGGACTATGAGAATATGACCAGTCTGGAATATGCTCGAATGTTGGACCTCATAATGAAGATTGCTGTCATGCCCAAGCTGGTCCCCAGCTTTGCCCTCGCAGGCTCGGGTTCCGTGTG'}),\n",
        " ('f8773',\n",
        "  {'creation_time': '7',\n",
        "   'id': 'f8773728db935c1741a255d1a705b84c181ea4a9659bfb4d11393b54cc91ea31e9a45a2a53c80e6069c5127c436088d5e613d2b601ab43230e1d4b03c3d70624',\n",
        "   'segment_number': '4',\n",
        "   'sequence_1': 'AACGCAAATTGATAAGGGGATCCTTGTCTGCAAATAGCATCTGAACCTGTCATGCGAATCTGTGCCGTCCGGGATGTATCTCCCCTTCTTCCAGCGGTCGCTGGAGGCAGCCACGATTACGCCCAAAGTCGCTGTTGAGTGACCGGGGACGGTTCCCGATTCGCGCACACTCACTGCCTCCTGACACAGCCATCATGGATGAGAGACCCCCCTCGGGAGGGCCGACATCGGTTAGGAAGGGGGCTCTGGATGCAGAACAGGCCTCAAGGTTTTCATGTCACCGCAAGATTGCTTGGACTCCGCACTCACAGCTGCTGATTGCGTCCGACAGTCGTTTACTGCAAAGGTTAACCAGGTATTAGAGCCAGGCGCTCAAGGCGATTCGCTAGATCTAAAATATCGCTCATCCGTTGCGGGGTCCGAGCTGAGTGGTTTCTCTCGCACTCATAACCGTTGGTGACCGTACGTGGGGCCATGATCAATCTGTCAGGTTTGCAATTTAGCGGCGGAGAGTTCGAGATGATAAAATCATCTTCGCCATGAGGCTAAGGGTGCCAAACATGGGCCGACCTACGTACCAACTGGGCGGCGGAGCAGTAGGTCCCTCATGGTAGTGGTAAGCCCCACTCAATTGTAACTTACGGTTGTTCTAAATCATGAGATCTTCCATGGGACCCCATCTGTAGCAGAACCAACATTTGCGGGGCAGTACTGAACAACCAGCGGCTGAATGCTCGTCTGATGTATCGGGCCGTCCAGCTCCACGGAGCACTATTATCGTGTGAATCTTTGTCGACCAGCATGACAATTCTTGCGTGTTGCTGTAAGGGGAAAAGTCCGCAGATTGGCATATCAAGAAAAGAACCGGGGGCCTCGCGGGGCAGCTTCTGAGTGTACTACTCAAGTCAGCGGTAAGTTCCATTTGCTTGAGTGAGATCCCCTTGCCGTAGATAGACCCCTGGACATGAGACAGAGATAGGACTAATGACCACAATCTGAA',\n",
        "   'sequence_4': 'TCCCGTCGCGCTTTGCTCGGGTACGGTCTACCGGCGGTGTATGCGCTCCAACGAGCTAATAAAAAATATGGGAGGCTCAGCACCTACCACCTCCGAGTCTCAATGTCCTTACACAGTATCCACTTTACTTGCCGCGGCAGCATGCGAACAACGCCAAGTAAGGTCCTGGTAAGCAGCGTCCAGCGTATGGCGTAGTTCGGGTCCAGGTCTTGCCGTCTTTAAAGATTCCCGTGGAGCCAGCATTTGCGCCGAAATCTGTAAAAGAGAGGAGATGAGCTCGATGCAATAAAACTGTTAGGTACTGGTACCTGATAAACCCAGTCTTTGCATTCGACAAGCCCACAGGTTCGCATTATATGATACAGTACTAATGCCAAGGGCGCGCGATTCAATTTAAGATGCCGTATGTTGTCGTGTTAATGGGATATTAGCTCGATGGAGTGGATCGGGGCTCAGAGTTGAGCGTGTAGGCATTGAGGCCTCCTTCTGATCGGATCTGCTTCTGGGTGAGTTATAAGAATTCTTTGAAAGCACATCTGCAATGAGTTCCTAAGCCCGCCTAGCTCGTGATTGGCTTAATTGCGTTCTACCGTCGATATACATGCTCTGGGTGTAATTTACAGTTCATTCCACTGCGCATCTAAACTATTGCGTCGCATTACCCTTCCCATACCGGAACTTATAAAGGAAGCCGTCCAGAGTCGTATATTCTTTACTTCTGTTGCTCGTACGAGTGTTCGTGCGCTCCGGCTCCGTTTCTCGAACTTACCAGAGTGTCAAGCTCTATGGTATACCGGGAGCAGTAATTGGGAACAAAGTCATCTTTGTTTAACAGCAGATAATAGAAGGTGTCGACGTATTAGCTGTCTCATCGCCCAGACAGGGACTATGAGAATATGACCAGTCTGGAATATGCTCGAATGTTGGACCTCAGAATGAAGATTGGTGTCATGCCCAAGCTGGTCCCCAGCTTTGCCCTCGCAGGCTCGGGTTCCGTGTG'}),\n",
        " ('4993c',\n",
        "  {'creation_time': '9',\n",
        "   'id': '4993c818ea3b61fed685de1ea4e7ccc58590466cc4aecacb37feb718f16bfa8478f25130a65c60c3ebb71a9dc8ff5ded57bc2044b9f408924821c0e12c4e7f61',\n",
        "   'segment_number': '4',\n",
        "   'sequence_1': 'AACGCAAATTGATAAGGGGATCCTTGTCTGCAAATAGCATCTGAACCTGTCATGCGAATCTGTGCCGTCCGGGATGTATCTCCCCTTCTTCCAGCGGTCGCTGGAGGCAGCCACGATTACGCCCAAAGTCGCTGTTGAGTGACCGGGGACGGTTCCCGATTCGCGCACACTCACTGCCTCCTGACACAGCCATCATGGATGAGAGACCCCCCTCGGGAGGGCCGACATCGGTTAGGAAGGGGGCTCTGGATGCAGAACAGGCCTCAAGGTTTTCATGTCACCGCAAGATTGCTTGGACTCCGCACTCACAGCTGCTGATTGCGTCCGACAGTCGTTTACTGCAAAGGTTAACCAGGTATTAGAGCCAGGCGCTCAAGGCGATTCGCTAGATCTAAAATATCGCTCATCCGTTGCGGGGTCCGAGCTGAGTGGTTTCTCTCGCACTCATAACCGTTGGTGACCGTACGTGGGGCCATGATCAATCTGTCAGGTTTGCAATTTAGCGGCGGAGAGTTCGAGATGATAAAATCATCTTCGCCATGAGGCTAAGGGTGCCAAACATGGGCCGACCTACGTACCAACTGGGCGGCGGAGCAGTAGGTCCCTCATGGTAGTGGTAAGCCCCACTCAATTGTAACTTACGGTTGTTCTAAATCATGAGATCTTCCATGGGACCCCATCTGTAGCAGAACCAACATTTGCGGGGCAGTACAGAACAACCAGCGGCTGAATGCTCGTCTGATGTATCGGGCCGTCCAGCTCCACGGAGCACTATTATCGTGTGAATCTTTGTCGACCAGCATGACAATTCTTGCGTGTTGCTGTAAGGGGAAAAGTCCGCAGATTGGCATATCAAGAAAAGAACCGGGGGCCTCGCGGGGCAGCTTCTGAGTGTACTACTCAAGTCAGCGGTAAGTTCCATTTGCTTGAGTGAGATCCCCTTGCCGTAGATAGACCCCTGGACATGAGACAGAGATAGGACTAATGACCACAATCTGAA',\n",
        "   'sequence_4': 'GATAAATCGGGTAAGATCCATTCGCGTCCAGAACCAATGAAGAGCTTTGATTTCGGGGAACAGAGCGACAATCCTTTGGACGCTTGTATGTGGCCCTTTCAAGGGGAGTCCCTGAAAGTAATGATGTCGATGATCGCTTGCTAGATGTGATCTGGGGTACGGCTTGCCCGAGTAACCGCGGTTGGATAATTAGAGCACCCTCTAAGAACGAATAGGAGTGGTGCGTCGCTCATCGTTCCGGTCCCGCTACTCGGAGGACGCCACGTGCTAATTCTTTAATTCTACTATGTCTAGCTCCCTGCAGTTTCATCCCTCCCTAGCCAGCAGGACCTCAATAGGCTTAGAGCGAATAATTTCTTTACAAGGTCTTTTCAAAGTGATGCCCCACTGCACCCACCTGACTACTCCCTCAGACCGCATATATGCGCAATCGTATCGGTCTTAACTTCCTAAATAATTGATGGCTAGTTCCAGCTGCAAGTCTTTAGCCTATCAACTCATAGCCTAGCACGTAAGTTGCACGTTCCGCTTAATTAAAAGCCGAGACCCCTACTTTGTTTGTATTAATAGCTCTAAATCATCAAATCGTCACCCACTGCTGTGACGACCTCGCTAGGCAAAATTGAGTGTCTACCAGACTTTGAAACGAAACTCACCTATAGAAGACCTACACTTGGCCAGCGGTTCTCACTATGGTACCTGCCTGACCCGGTTTACCTAGTTCCAGAAAACTTCTAAGGCAGCCTGATATTAGTCAAATGCCTGATGAACTGATATGTATGGAAGAGTCAGGTTCGATCAAGCGATACGATTCGGAAAACTCTGATACTCCCAAGGCAAAATGCGCTTTCCGGTGCAGCGAGCGGAGGGGGACTCATATTTATACACGTTATGGTAATGGCCGCCAAGGTTAGAATTGGGTCCATTATAATGATTGAGACCAGGCAAGCCACGATTCGGAGGCGTTGGTGGATGATGACAAAGCGTGGTTTCGTGAGTG'}),\n",
        " ('2740b',\n",
        "  {'creation_time': '8',\n",
        "   'id': '2740ba4dfe3a7777360b7bd37bc5bee3a6aecd4953d7a65e70ef1b682d3b25eaac3bb51d436c3696bf3324eee09f80754bc8d8d687d736177e30ed897b8fe443',\n",
        "   'segment_number': '4',\n",
        "   'sequence_1': 'AACGCAAATTGATAAGGGGATCCTTGTCTGCAAATAGCATCTGAACCTGTCATGCGAATCTGTGCCGTCCGGGATGTATCTCCCCTTCTTCCAGCGGTCGCTGGAGGCAGCCACGATTACGCCCAAAGTCGCTGTTGAGTGACCGGGGACGGTTCCCGATTCGCGCACACTCACTGCCTCCTGACACAGCCATCATGGATGAGAGACCCCCCTCGGGAGGGCCGACATCGGTTAGGAAGGGGGCTCTGGATGCAGAACAGGCCTCAAGGTTTTCATGTCACCGCAAGATTGCTTGGACTCCGCACTCACAGCTGCTGATTGCGTCCGACAGTCGTTTACTGCAAAGGTTAACCAGGTATTAGAGCCAGGCGCTCAAGGCGATTCGCTAGATCTAAAATATCGCTCATCCGTTGCGGGGTCCGAGCTGAGTGGTTTCTCTCGCACTCATAACCGTTGGTGACCGTACGTGGGGCCATGATCAATCTGTCAGGTTTGCAATTTAGCGGCGGAGAGTTCGAGATGATAAAATCATCTTCGCCATGAGGCTAAGGGTGCCAAACATGGGCCGACCTACGTACCAACTGGGCGGCGGAGCAGTAGGTCCCTCATGGTAGTGGTAAGCCCCACTCAATTGTAACTTACGGTTGTTCTAAATCATGAGATCTTCCATGGGACCCCATCTGTAGCAGAACCAACATTTGCGGGGCAGTACTGAACAACCAGCGGCTGAATGCTCGTCTGATGTATCGGGCCGTCCAGCTCCACGGAGCACTATTATCGTGTGAATCTTTGTCGACCAGCATGACAATTCTTGCGTGTTGCTGTAAGGGGAAAAGTCCGCAGATTGGCATATCAAGAAAAGAACCGGGGGCCTCGCGGGGCAGCTTCTGAGTGTACTACTCAAGTCAGCGGTAAGTTCCATTTGCTTGAGTGAGATCCCCTTGCCGTAGATAGACCCCTGGACATGAGACAGAGATAGGACTAATGACCACAATCTGAA',\n",
        "   'sequence_4': 'TCCCGTCGCGCTTTGCTCGGGTACGGTCTACCGGCGGTGTATGCGCTCCAACGAGCTAATAAAAAATATGGGAGGCTCAGCACCTACCACCTCCGAGTCTCAATGTCCTTACACAGTATCCACTTTACTTGCCGCGGCAGCAGGCGAACAACGCCAAGTAAGGTCCTGGTAAGCAGCGTCCAGCGTATGGCGTAGTTCGGGTCCAGGTCTTGCCGTCTTTAAAGATTCCCGTGGAGCCAGCATTTGCGCCGAAATCTGTAAAAGAGAGGAGAGGAGCTCGATGCAATAAAACTATTAGGTACTGGTACCTGATAAACGCAGTCTTTGCATTCGACAAGCCCACAGGTTCGCATTATATGATACAGTACTAATGCCACGGGCGCGCGATTCAATTTAAGATGCCGTATGTTGTCGTGTTAATGGGATATTAGCTCGATGCAGTGGATCGGGGCTCAGAGTTGAGCGTGAAGGCATTGAGGCCTCCTTCTGATCGGACCTGCTTCTCGGTGAGTTATAAGAATTCTTTGAAAGCACATCTGCAATGAGTTCCTAAGCCCGCCTAGCTCGTGATTGGCTTAATTGCGTTCTACCGTCGATATACATGCTCTGGGTGTAATTTACAGTTCATTCCACTGCGCATCTAAACTATTGCGTCGCATTACCCTACCCATACCGGAACTTATAAAGGAAGCCGTCCAGAGTCGTATATTCTTTACTTCTGTTGCTCGTACGAGTGTTCGTGCGCTCCGGCTCCGTTTCCCGAACTTACCAGAGTGTCAAGCTCTATGGTATACCGGGAGCAGTAATTGGGAACAAAGTCATCTTTGTTTAACAGCAGATAATAGAAGGTGTCGACGTATTAGCTGTCTCATCGCCCAGACAGGGACTATGAGAATATGACCAGTCTGGAATATGCTCGAATGTTGGACCTAATAATGAAGATTGCTGTCATGCCCAAGCTGGTCCCCAGCTTTGCCCTCGCAGGCTCGGGTTCCGTGTG'}),\n",
        " ('63869',\n",
        "  {'creation_time': '5',\n",
        "   'id': '6386983f1719a0374669d6d05fafbdda084359acabe45db290dd59daeca59e3869ce1d23a7da643aacc2e133149ed84e023d8c46d1d81d07b966c527af65afa4',\n",
        "   'segment_number': '4',\n",
        "   'sequence_1': 'AACGCAAATTGATAAGGGGATCCTTGTCTGCAAATAGCATCTGAACCTGTCATGCGAATCTGTGCCGTCCGGGATGTATCTCCCCTTCTTCCAGCGGTCGCTGGAGGCAGCCACGATTACGCCCAAAGTCGCTGTTGAGTGACCGGGGACGGTTCCCGATTCGCGCACACTCACTGCCTCCTGACACAGCCATCATGGATGAGAGACCCCCCTCGGGAGGGCCGACATCGGTTAGGAAGGGGGCTCTGGATGCAGAACAGGCCTCAAGGTTTTCATGTCACCGCAAGATTGCTTGGACTCCGCACTCACAGCTGCTGATTGCGTCCGACAGTCGTTTACTGCAAAGGTTAACCAGGTATTAGAGCCAGGCGCTCAAGGCGATTCGCTAGATCTAAAATATCGCTCATCCGTTGCGGGGTCCGAGCTGAGTGGTTTCTCTCGCACTCATAACCGTTGGTGACCGTACGTGGGGCCATGATCAATCTGTCAGGTTTGCAATTTAGCGGCGGAGAGTTCGAGATGATAAAATCATCTTCGCCATGAGGCTAAGGGTGCCAAACATGGGCCGACCTACGTACCAACTGGGCGGCGGAGCAGTAGGTCCCTCATGGTAGTGGTAAGCCCCACTCAATTGTAACTTACGGTTGTTCTAAATCATGAGATCTTCCATGGGACCCCATCTGTAGCAGAACCAACATTTGCGGGGCAGTACTGAACAACCAGCGGCTGAATGCTCGTCTGATGTATCGGGCCGTCCAGCTCCACGGAGCACTATTATCGTGTGAATCTTTGTCGACCAGCATGACAATTCTTGCGTGTTGCTGTAAGGGGAAAAGTCCGCAGATTGGCATATCAAGAAAAGAACCGGGGGCCTCGCGGGGCAGCTTCTGAGTGTACTACTCAAGTCAGCGGTAAGTTCCATTTGCTTGAGTGAGATCCCCTTGCCGTAGATAGACCCCTGGACATGAGACAGAGATAGGACTAATGACCACAATCTGAA',\n",
        "   'sequence_4': 'TCCCGTCGCGCTTTGCTCGGGTACGGTCTAGCGGCGGTGTATGCGCTCCAACGAGCTAATAAAAAATATGGGAGGCTCAGCACCTACCACCTCCGAGTCTCAATGTCCTTACACAGTATCCACTTTACTTGCCGCGGCAGCATGCGAACAACGCCAAGTAAGGTCCTGGTAAGCAGCGTCCAGCGTATGGCGTAGTTCGGGTCCAGATCTTGCCGTCTTTAAAGATTCCCGTGGAGCCAGCATTTGCGCCGAAATCTGTAAAAGAGAGGAGAGGATCTCGATGCTATAAAACTATTAGGTACTGGTACCTGATAAACCCAGTCTTTGCATTCGACAAGCCCACAGGTTCGCATTATATGATACAGTACTAATGCCCCGGGTGCGCGATTCAATTTAAGATGCCGTATGTTGTCGTGTTAATGGGATATTAGCTCGATGGAGTGGATCGGGGCTCAGAGTTGAGCGTGTAGGCATTGAGGCCTCCTTCTGATCGGACCTGCTTCTCGGTGAGTTATAAGAATTCTTTGAAAGCACATCTGCAATGAGTTCCTAAGCCCGCCTAGCTCGTGATTGGCTTAATTGCGTTCTACCGTCGATATACATGCTCTGGGTGTAATTTACAGTTCATTCCACTGCGCATCTAAACTATTGCGTCGCATTACCCTTCCCATACCGGAACTTATAAAGGAAGCCGTCCAGAGTCGTATATTCTTTACTTCTGTTGCTCGTACGAGTGTTCGTGCGCTCCGGCTCCGTTTCTCGAGCTTACCAGAGTGTCAAGCTCTATGGTATACCGGGAGCAGTAATTGGGAACAAAGTCATCTTTGTTTAACAGCAGATACTAGAAGGTGTCGACGTATTAGCTGTCTCATCGCCCAGACAGGGACTATGAGAATATGACCAGTCTGGAATAGGCTCGAATGTTGGACCTCATAATGAAGATTGCTGTCATGCCCAAGCTGGTCCCCAGCTTTGCCCTCGCAGGCTCGGGTTCCGTGTG'}),\n",
        " ('a2e6b',\n",
        "  {'creation_time': '3',\n",
        "   'id': 'a2e6ba830bd4d5ca801ef2be9660801a85ed609c877dde6c80deabf24abdc5f675ac561fa3e2af927415096348ad82e874e8a4fdd592076df0fb5200bbc4009a',\n",
        "   'segment_number': '4',\n",
        "   'sequence_1': 'AACGCAAATTGATAAGGGGATCCTTGTCTGCAAATAGCATCTGAACCTGTCATGCGAATCTGTGCCGTCCGGGATGTATCTCCCCTTCTTCCAGCGGTCGCTGGAGGCAGCCACGATTACGCCCAAAGTCGCTGTTGAGTGACCGGGGACGGTTCCCGATTCGCGCACACTCACTGCCTCCTGACACAGCCATCATGGATGAGAGACCCCCCTCGGGAGGGCCGACATCGGTTAGGAAGGGGGCTCTGGATGCAGAACAGGCCTCAAGGTTTTCATGTCACCGCAAGATTGCTTGGACTCCGCACTCACAGCTGCTGATTGCGTCCGACAGTCGTTTACTGCAAAGGTTAACCAGGTATTAGAGCCAGGCGCTCAAGGCGATTCGCTAGATCTAAAATATCGCTCATCCGTTGCGGGGTCCGAGCTGAGTGGTTTCTCTCGCACTCATAACCGTTGGTGACCGTACGTGGGGCCATGATCAATCTGTCAGGTTTGCAATTTAGCGGCGGAGAGTTCGAGATGATAAAATCATCTTCGCCATGAGGCTAAGGGTGCCAAACATGGGCCGACCTACGTACCAACTGGGCGGCGGAGCAGTAGGTCCCTCATGGTAGTGGTAAGCCCCACTCAATTGTAACTTACGGTTGTTCTAAATCATGAGATCTTCCATGGGACCCCATCTGTAGCAGAACCAACATTTGCGGGGCAGTACTGAACAACCAGCGGCTGAATGCTCGTCTGATGTATCGGGCCGTCCAGCTCCACGGAGCACTATTATCGTGTGAATCTTTGTCGACCAGCATGACAATTCTTGCGTGTTGCTGTAAGGGGAAAAGTCCGCAGATTGGCATATCAAGAAAAGAACCGGGGGCCTCGCGGGGCAGCTTCTGAGTGTACTACTCAAGTCAGCGGTAAGTTCCATTTGCTTGAGTGAGATCCCCTTGCCGTAGATAGACCCCTGGACATGAGACAGAGATAGGACTAATGACCACAATCTGAA',\n",
        "   'sequence_4': 'TCCCGTCGCGCTTTGCTCGGGTACGGTCTACCGGCGGTGTATGCGCTCCAACGAGCTAATAAAAAATATGGGAGGCTCAGCACCTACCACCTCCGAGTCTCAATGTCCTTACACAGTATCCACTTTACTTGCCGCGGCAGCATGCGAACAACGCCAAGTAAGGTCCTGGTAAGCAGCGTCCAGCGTATGGCGTAGTTCGGGTCCAGGTCTTGCCGTCTTTAAAGATTCCCGTGGAGCCAGCATTTGCGCCGAAATCTGTAAAAGAGAGGAGAGGAGCTCGATGCAATAAAACTATTAGGTACTGGTACCTGATAAACCCAGTCTTTGCATTCGACAAGCCCACAGGTTCGCATTATATGATACAGTACTAATGCCACGGGCGCGCGATTCAATTTAAGATGCCGTATGTTGTCGTGTTAATGGGATATTAGCTCGATGGAGTGGATCGGGGCTCAGAGTTGAGCGTGTAGGCATTGAGGCCTCCTTCTGATCGGACCTGCTTCTCGGTGAGTTATAAGAATTCTTTGAAAGCACATCTGCAATGAGTTCCTAAGCCCGCCTAGCTCGTGATTGGCTTAATTGCGTTCTACCGTCGATATACATGCTCTGGGTGTAATTTACAGTTCATTCCACTGCGCATCTAAACTATTGCGTCGCATTACCCTTCCCATACCGGAACTTATAAAGGAAGCCGTCCAGAGTCGTATATTCTTTACTTCTGTTGCTCGTACGAGTGTTCGTGCGCTCCGGCTCCGTTTCTCGAACTTACCAGAGTGTCAAGCTCTATGGTATACCGGGAGCAGTAATTGGGAACAAAGTCATCTTTGTTTAACAGCAGATAATAGAAGGTGTCGACGTATTAGCTGTCTCATCGCCCAGACAGGGACTATGAGAATATGACCAGTCTGGAATATGCTCGAATGTTGGACCTCATAATGAAGATTGCTGTCATGCCCAAGCTGGTCCCCAGCTTTGCCCTCGCAGGCTCGGGTTCCGTGTG'})]"
       ]
      }
     ],
     "prompt_number": 67
    },
    {
     "cell_type": "code",
     "collapsed": false,
     "input": [
      "# This code is used for drawing.\n",
      "from random import randint\n",
      "\n",
      "randints = []\n",
      "for node in r.condensed_graph.nodes(data=True):\n",
      "    randints.append(randint(1, 20))\n",
      "print randints\n",
      "\n",
      "reconstruction_positions = dict()\n",
      "for i, node in enumerate(sorted(r.condensed_graph.nodes(data=True))):\n",
      "    reconstruction_positions[node[0]] = (int(node[1]['creation_time']), randints[i])\n",
      "    \n",
      "print len(reconstruction_positions)\n",
      "nx.draw(r.condensed_graph, pos=reconstruction_positions)"
     ],
     "language": "python",
     "metadata": {},
     "outputs": [
      {
       "output_type": "stream",
       "stream": "stdout",
       "text": [
        "[16, 3, 19, 3, 12, 10, 14, 18, 20, 15, 3]\n",
        "11\n"
       ]
      },
      {
       "metadata": {},
       "output_type": "display_data",
       "png": "[encoded data removed]",
       "text": [
        "<matplotlib.figure.Figure at 0x1063a7650>"
       ]
      }
     ],
     "prompt_number": 68
    },
    {
     "cell_type": "code",
     "collapsed": false,
     "input": [
      "simulation_positions = dict()\n",
      "\n",
      "print randints\n",
      "for i, pathogen in enumerate(s.pathogens):\n",
      "    simulation_positions[pathogen] = reconstruction_positions[str(pathogen)]\n",
      "    \n",
      "print len(simulation_positions)\n",
      "nx.draw(s.transmission_graph, pos=simulation_positions)"
     ],
     "language": "python",
     "metadata": {},
     "outputs": [
      {
       "output_type": "stream",
       "stream": "stdout",
       "text": [
        "[16, 3, 19, 3, 12, 10, 14, 18, 20, 15, 3]\n",
        "11\n"
       ]
      },
      {
       "metadata": {},
       "output_type": "display_data",
       "png": "[encoded data removed]",
       "text": [
        "<matplotlib.figure.Figure at 0x1059c8710>"
       ]
      }
     ],
     "prompt_number": 69
    },
    {
     "cell_type": "code",
     "collapsed": false,
     "input": [
      "s.pathogens[0].parent"
     ],
     "language": "python",
     "metadata": {},
     "outputs": [
      {
       "metadata": {},
       "output_type": "pyout",
       "prompt_number": 70,
       "text": [
        "{}"
       ]
      }
     ],
     "prompt_number": 70
    },
    {
     "cell_type": "code",
     "collapsed": false,
     "input": [
      "r.condensed_graph.edges(data=True)"
     ],
     "language": "python",
     "metadata": {},
     "outputs": [
      {
       "metadata": {},
       "output_type": "pyout",
       "prompt_number": 71,
       "text": [
        "[('39943', 'd6b71', {'segments': [1, 4], 'weight': 12}),\n",
        " ('bc6dd', '39943', {'segments': [1, 4], 'weight': 6}),\n",
        " ('d6b71', '4993c', {'segments': [1, 4], 'weight': 12}),\n",
        " ('4bae7', '3eb95', {'segments': [1, 4], 'weight': 10}),\n",
        " ('4bae7', 'a2e6b', {'segments': [1, 4], 'weight': 16}),\n",
        " ('63869', 'e5a7a', {'segments': [1, 4], 'weight': 17}),\n",
        " ('a2e6b', '2740b', {'segments': [1, 4], 'weight': 7}),\n",
        " ('a2e6b', '63869', {'segments': [1, 4], 'weight': 9}),\n",
        " ('a2e6b', 'f8773', {'segments': [1, 4], 'weight': 7})]"
       ]
      }
     ],
     "prompt_number": 71
    },
    {
     "cell_type": "code",
     "collapsed": false,
     "input": [
      "for virus in s.identify_reassortants():\n",
      "    print virus"
     ],
     "language": "python",
     "metadata": {},
     "outputs": [
      {
       "output_type": "stream",
       "stream": "stdout",
       "text": [
        "39943\n"
       ]
      }
     ],
     "prompt_number": 72
    },
    {
     "cell_type": "code",
     "collapsed": false,
     "input": [
      "for virus in r.identify_reassortants():\n",
      "    print virus[0]"
     ],
     "language": "python",
     "metadata": {},
     "outputs": [],
     "prompt_number": 73
    },
    {
     "cell_type": "code",
     "collapsed": false,
     "input": [
      "s.transmission_graph.edges(data=True)"
     ],
     "language": "python",
     "metadata": {},
     "outputs": [
      {
       "metadata": {},
       "output_type": "pyout",
       "prompt_number": 74,
       "text": [
        "[(bc6dd, 39943, {'segments': [4], 'weight': 6}),\n",
        " (63869, e5a7a, {'segments': [1, 4], 'weight': 17}),\n",
        " (d6b71, 4993c, {'segments': [1, 4], 'weight': 12}),\n",
        " (4bae7, 3eb95, {'segments': [1, 4], 'weight': 10}),\n",
        " (4bae7, 39943, {'segments': [1], 'weight': 0}),\n",
        " (4bae7, a2e6b, {'segments': [1, 4], 'weight': 16}),\n",
        " (39943, d6b71, {'segments': [1, 4], 'weight': 12}),\n",
        " (a2e6b, 2740b, {'segments': [1, 4], 'weight': 7}),\n",
        " (a2e6b, 63869, {'segments': [1, 4], 'weight': 9}),\n",
        " (a2e6b, f8773, {'segments': [1, 4], 'weight': 7})]"
       ]
      }
     ],
     "prompt_number": 74
    },
    {
     "cell_type": "markdown",
     "metadata": {},
     "source": [
      "# Test Relabeled Graph"
     ]
    },
    {
     "cell_type": "code",
     "collapsed": false,
     "input": [
      "for pathogen in s.pathogens:\n",
      "    print (str(pathogen), str(pathogen.parent))"
     ],
     "language": "python",
     "metadata": {},
     "outputs": [
      {
       "output_type": "stream",
       "stream": "stdout",
       "text": [
        "('bc6dd', '{}')\n",
        "('4bae7', '{}')\n",
        "('3eb95', '{4bae7: [1, 4]}')\n",
        "('39943', '{bc6dd: [4], 4bae7: [1]}')\n",
        "('a2e6b', '{4bae7: [1, 4]}')\n",
        "('d6b71', '{39943: [1, 4]}')\n",
        "('63869', '{a2e6b: [1, 4]}')\n",
        "('e5a7a', '{63869: [1, 4]}')\n",
        "('f8773', '{a2e6b: [1, 4]}')\n",
        "('2740b', '{a2e6b: [1, 4]}')\n",
        "('4993c', '{d6b71: [1, 4]}')\n"
       ]
      }
     ],
     "prompt_number": 75
    },
    {
     "cell_type": "code",
     "collapsed": false,
     "input": [
      "s.relabel_transmission_graph()\n",
      "s.relabeled_transmission_graph.edges(data=True)"
     ],
     "language": "python",
     "metadata": {},
     "outputs": [
      {
       "metadata": {},
       "output_type": "pyout",
       "prompt_number": 76,
       "text": [
        "[('39943', 'd6b71', {'segments': [1, 4], 'weight': 12}),\n",
        " ('bc6dd', '39943', {'segments': [4], 'weight': 6}),\n",
        " ('d6b71', '4993c', {'segments': [1, 4], 'weight': 12}),\n",
        " ('4bae7', '3eb95', {'segments': [1, 4], 'weight': 10}),\n",
        " ('4bae7', '39943', {'segments': [1], 'weight': 0}),\n",
        " ('4bae7', 'a2e6b', {'segments': [1, 4], 'weight': 16}),\n",
        " ('63869', 'e5a7a', {'segments': [1, 4], 'weight': 17}),\n",
        " ('a2e6b', '2740b', {'segments': [1, 4], 'weight': 7}),\n",
        " ('a2e6b', '63869', {'segments': [1, 4], 'weight': 9}),\n",
        " ('a2e6b', 'f8773', {'segments': [1, 4], 'weight': 7})]"
       ]
      }
     ],
     "prompt_number": 76
    },
    {
     "cell_type": "code",
     "collapsed": false,
     "input": [
      "r.condensed_graph.edges(data=True)"
     ],
     "language": "python",
     "metadata": {},
     "outputs": [
      {
       "metadata": {},
       "output_type": "pyout",
       "prompt_number": 77,
       "text": [
        "[('39943', 'd6b71', {'segments': [1, 4], 'weight': 12}),\n",
        " ('bc6dd', '39943', {'segments': [1, 4], 'weight': 6}),\n",
        " ('d6b71', '4993c', {'segments': [1, 4], 'weight': 12}),\n",
        " ('4bae7', '3eb95', {'segments': [1, 4], 'weight': 10}),\n",
        " ('4bae7', 'a2e6b', {'segments': [1, 4], 'weight': 16}),\n",
        " ('63869', 'e5a7a', {'segments': [1, 4], 'weight': 17}),\n",
        " ('a2e6b', '2740b', {'segments': [1, 4], 'weight': 7}),\n",
        " ('a2e6b', '63869', {'segments': [1, 4], 'weight': 9}),\n",
        " ('a2e6b', 'f8773', {'segments': [1, 4], 'weight': 7})]"
       ]
      }
     ],
     "prompt_number": 77
    },
    {
     "cell_type": "markdown",
     "metadata": {},
     "source": [
      "# Experiment with Accuracy Metrics"
     ]
    },
    {
     "cell_type": "code",
     "collapsed": false,
     "input": [
      "matching_edges = 0\n",
      "total_edges = len(s.relabeled_transmission_graph.edges())\n",
      "for edge in r.condensed_graph.edges(data=True):\n",
      "    if edge in s.relabeled_transmission_graph.edges(data=True):\n",
      "        matching_edges += 1\n",
      "        \n",
      "\n",
      "int(float(matching_edges) / total_edges * 100)"
     ],
     "language": "python",
     "metadata": {},
     "outputs": [
      {
       "metadata": {},
       "output_type": "pyout",
       "prompt_number": 78,
       "text": [
        "80"
       ]
      }
     ],
     "prompt_number": 78
    },
    {
     "cell_type": "code",
     "collapsed": false,
     "input": [
      "# This has been implemented in the prototype functions below.\n",
      "# float(len(r.identify_reassortants()))/float(len(s.identify_reassortants()))"
     ],
     "language": "python",
     "metadata": {},
     "outputs": [],
     "prompt_number": 79
    },
    {
     "cell_type": "code",
     "collapsed": false,
     "input": [
      "# Prototype for the functions.\n",
      "def reassortant_accuracy(simulation, reconstruction):\n",
      "    num_simulation_reassortants = float(len(simulation.identify_reassortants()))\n",
      "    num_reconstruction_reassortants = float(len(reconstruction.identify_reassortants()))\n",
      "    \n",
      "    if num_simulation_reassortants == 0:\n",
      "        return 'No reassortants present in simulation.'\n",
      "    else:\n",
      "        return num_reconstruction_reassortants / num_simulation_reassortants\n",
      "    \n",
      "def transmission_edge_accuracy(simulation, reconstruction):\n",
      "    matching_edges = 0\n",
      "    total_edges = len(simulation.relabeled_transmission_graph.edges())\n",
      "    \n",
      "    for edge in reconstruction.condensed_graph.edges(data=True):\n",
      "        if edge in simulation.relabeled_transmission_graph.edges(data=True):\n",
      "            matching_edges += 1\n",
      "            \n",
      "    return float(matching_edges) / total_edges\n",
      "\n",
      "def transmission_path_accuracy(simulation, reconstruction):\n",
      "    \"\"\"\n",
      "    The accuracy of transmission paths is the number of accurate paths found \n",
      "    divided by the number of paths being considered.\n",
      "    \"\"\"\n",
      "    num_paths = 0\n",
      "    accurate_paths = 0\n",
      "    \n",
      "    for edge in reconstruction.condensed_graph.edges():\n",
      "        if simulation.transmission_path_exists(edge[0], edge[1]):\n",
      "            num_paths += 1\n",
      "            accurate_paths += 1\n",
      "        else:\n",
      "            num_paths += 1\n",
      "    \n",
      "    return float(accurate_paths)/num_paths"
     ],
     "language": "python",
     "metadata": {},
     "outputs": [],
     "prompt_number": 80
    },
    {
     "cell_type": "code",
     "collapsed": false,
     "input": [
      "print s.identify_full_transmission_paths()\n",
      "print reassortant_accuracy(s, r)\n",
      "print transmission_edge_accuracy(s, r)\n",
      "print transmission_path_accuracy(s, r)"
     ],
     "language": "python",
     "metadata": {},
     "outputs": [
      {
       "output_type": "stream",
       "stream": "stdout",
       "text": [
        "[set(['bc6dd']), set(['39943', 'd6b71', '4993c']), set(['3eb95', 'f8773', '2740b', '63869', 'e5a7a', 'a2e6b', '4bae7'])]\n",
        "0.0\n",
        "0.8\n",
        "0.888888888889\n"
       ]
      }
     ],
     "prompt_number": 81
    },
    {
     "cell_type": "markdown",
     "metadata": {},
     "source": [
      "# Test path_exists(node1, node2) function"
     ]
    },
    {
     "cell_type": "code",
     "collapsed": false,
     "input": [
      "# 1 July 2014 - API Change so the following path_exist(node1, node2) code does not stand. \n",
      "# Segment number has to be specified in order for it to stand.\n",
      "# s.path_exists('b90bb', '3d39c')"
     ],
     "language": "python",
     "metadata": {},
     "outputs": [],
     "prompt_number": 82
    },
    {
     "cell_type": "code",
     "collapsed": false,
     "input": [
      "s.relabeled_transmission_graph.nodes()"
     ],
     "language": "python",
     "metadata": {},
     "outputs": [
      {
       "metadata": {},
       "output_type": "pyout",
       "prompt_number": 83,
       "text": [
        "['3eb95',\n",
        " 'e5a7a',\n",
        " '39943',\n",
        " 'bc6dd',\n",
        " 'f8773',\n",
        " 'd6b71',\n",
        " '4bae7',\n",
        " '4993c',\n",
        " '2740b',\n",
        " '63869',\n",
        " 'a2e6b']"
       ]
      }
     ],
     "prompt_number": 83
    },
    {
     "cell_type": "code",
     "collapsed": false,
     "input": [
      "# s.path_exists('2851c', '09001')"
     ],
     "language": "python",
     "metadata": {},
     "outputs": [],
     "prompt_number": 84
    },
    {
     "cell_type": "code",
     "collapsed": false,
     "input": [],
     "language": "python",
     "metadata": {},
     "outputs": [],
     "prompt_number": 84
    }
   ],
   "metadata": {}
  }
 ]
}