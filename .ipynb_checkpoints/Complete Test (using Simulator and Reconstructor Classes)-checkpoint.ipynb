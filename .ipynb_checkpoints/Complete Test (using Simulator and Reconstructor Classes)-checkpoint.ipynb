{
 "metadata": {
  "name": "",
  "signature": "sha256:e00ac1d3559ab629ef4b00abb838d1cef2a2bdf402428c39a37f7bef40d11b59"
 },
 "nbformat": 3,
 "nbformat_minor": 0,
 "worksheets": [
  {
   "cells": [
    {
     "cell_type": "code",
     "collapsed": false,
     "input": [
      "from pathogen import Pathogen\n",
      "from segment import Segment\n",
      "from sequence import Sequence\n",
      "from simulator import Simulator"
     ],
     "language": "python",
     "metadata": {},
     "outputs": [],
     "prompt_number": 1
    },
    {
     "cell_type": "code",
     "collapsed": false,
     "input": [
      "# Initialize sequences\n",
      "sequence_PB2 = Sequence(length=1000) #this is representative of segment 1, PB2\n",
      "sequence_H1 = Sequence(length=1000) #this is representative of segment 4, H1\n",
      "sequence_H2 = Sequence(length=1000) #this is representative of segment 4, H2"
     ],
     "language": "python",
     "metadata": {},
     "outputs": [],
     "prompt_number": 2
    },
    {
     "cell_type": "code",
     "collapsed": false,
     "input": [
      "# Initialize segments\n",
      "segment_PB2 = Segment(segment_number=1, substitution_rate=1E-3, sequence=sequence_PB2)\n",
      "segment_H1 = Segment(segment_number=4, substitution_rate=1E-2, sequence=sequence_H1)\n",
      "segment_H2 = Segment(segment_number=4, substitution_rate=1E-2, sequence=sequence_H2)"
     ],
     "language": "python",
     "metadata": {},
     "outputs": [],
     "prompt_number": 3
    },
    {
     "cell_type": "code",
     "collapsed": false,
     "input": [
      "# Add segments to seed viruses\n",
      "virus_H1 = Pathogen(segments=[segment_PB2, segment_H1], creation_time=0, progeny_size=(1.2, 0.5))\n",
      "virus_H2 = Pathogen(segments=[segment_PB2, segment_H2], creation_time=0, progeny_size=(1.2, 0.5))"
     ],
     "language": "python",
     "metadata": {},
     "outputs": [],
     "prompt_number": 4
    },
    {
     "cell_type": "code",
     "collapsed": false,
     "input": [
      "# Subclass the Simulator class for a specific implementation of the increment_timestep() function.\n",
      "from random import random, choice, sample\n",
      "class ViralSimulator(Simulator):\n",
      "    \n",
      "    def increment_timestep(self):\n",
      "        cointoss = random()\n",
      "        threshold = 0.7\n",
      "        \n",
      "        if cointoss <= threshold:\n",
      "            chosen_virus = choice(self.pathogens)\n",
      "            new_virus = chosen_virus.replicate(current_time=self.current_time)\n",
      "            \n",
      "        if cointoss > threshold:\n",
      "            [virus1, virus2] = sample(self.pathogens, 2)\n",
      "            new_virus = virus1.reassort_with(virus2, current_time=self.current_time)\n",
      "        \n",
      "        self.pathogens.append(new_virus)"
     ],
     "language": "python",
     "metadata": {},
     "outputs": [],
     "prompt_number": 5
    },
    {
     "cell_type": "code",
     "collapsed": false,
     "input": [
      "s = ViralSimulator()"
     ],
     "language": "python",
     "metadata": {},
     "outputs": [],
     "prompt_number": 6
    },
    {
     "cell_type": "code",
     "collapsed": false,
     "input": [
      "s.add_pathogens([virus_H1, virus_H2])"
     ],
     "language": "python",
     "metadata": {},
     "outputs": [],
     "prompt_number": 7
    },
    {
     "cell_type": "code",
     "collapsed": false,
     "input": [
      "s.run(timesteps=11)"
     ],
     "language": "python",
     "metadata": {},
     "outputs": [],
     "prompt_number": 8
    },
    {
     "cell_type": "code",
     "collapsed": false,
     "input": [
      "s.write_transmission_graph(outfile_name=\"outfile_test\", folder_name='Network Pickles')"
     ],
     "language": "python",
     "metadata": {},
     "outputs": [],
     "prompt_number": 9
    },
    {
     "cell_type": "code",
     "collapsed": false,
     "input": [
      "s.write_sequences(outfile_name=\"outfile_test\", folder_name='FASTA Files')"
     ],
     "language": "python",
     "metadata": {},
     "outputs": [],
     "prompt_number": 10
    },
    {
     "cell_type": "markdown",
     "metadata": {},
     "source": [
      "# Prototype code for Reconstructor class"
     ]
    },
    {
     "cell_type": "code",
     "collapsed": false,
     "input": [
      "from Bio import SeqIO"
     ],
     "language": "python",
     "metadata": {},
     "outputs": [],
     "prompt_number": 11
    },
    {
     "cell_type": "code",
     "collapsed": false,
     "input": [
      "# Initialize a dictionary that contains all of the sequences, split by segment.\n",
      "sequences_dictionary = dict()\n",
      "sequences_dictionary[1] = []\n",
      "sequences_dictionary[4] = []\n",
      "sequences_dictionary"
     ],
     "language": "python",
     "metadata": {},
     "outputs": [
      {
       "metadata": {},
       "output_type": "pyout",
       "prompt_number": 12,
       "text": [
        "{1: [], 4: []}"
       ]
      }
     ],
     "prompt_number": 12
    },
    {
     "cell_type": "code",
     "collapsed": false,
     "input": [
      "# Read in the sequences\n",
      "sequences = [record for record in SeqIO.parse('FASTA Files/outfile_test.fasta', 'fasta')]\n",
      "sequences"
     ],
     "language": "python",
     "metadata": {},
     "outputs": [
      {
       "metadata": {},
       "output_type": "pyout",
       "prompt_number": 13,
       "text": [
        "[SeqRecord(seq=Seq('GATAGCATTCCGTGTTTCAATACTGTAGCATGCCCTAACGAAACCTACATCTAT...AAA', SingleLetterAlphabet()), id='807f809119022660aa8eac3055968435d3d82705f9df2c0448df5b54c60ca9dc0c09fb53880d9b0de80d890ed2c6d769645fc873807f39deecb16c813e42e02c|1|0', name='807f809119022660aa8eac3055968435d3d82705f9df2c0448df5b54c60ca9dc0c09fb53880d9b0de80d890ed2c6d769645fc873807f39deecb16c813e42e02c|1|0', description='807f809119022660aa8eac3055968435d3d82705f9df2c0448df5b54c60ca9dc0c09fb53880d9b0de80d890ed2c6d769645fc873807f39deecb16c813e42e02c|1|0 <unknown description>', dbxrefs=[]),\n",
        " SeqRecord(seq=Seq('CCGAGACCCGCTCTCAGGATTTAACTCGGGCTTGCCAACCTGTTCTGCCGGCAT...GAG', SingleLetterAlphabet()), id='807f809119022660aa8eac3055968435d3d82705f9df2c0448df5b54c60ca9dc0c09fb53880d9b0de80d890ed2c6d769645fc873807f39deecb16c813e42e02c|4|0', name='807f809119022660aa8eac3055968435d3d82705f9df2c0448df5b54c60ca9dc0c09fb53880d9b0de80d890ed2c6d769645fc873807f39deecb16c813e42e02c|4|0', description='807f809119022660aa8eac3055968435d3d82705f9df2c0448df5b54c60ca9dc0c09fb53880d9b0de80d890ed2c6d769645fc873807f39deecb16c813e42e02c|4|0 <unknown description>', dbxrefs=[]),\n",
        " SeqRecord(seq=Seq('GATAGCATTCCGTGTTTCAATACTGTAGCATGCCCTAACGAAACCTACATCTAT...AAA', SingleLetterAlphabet()), id='debd6a49e353e93fc079755eec90aad9fae178821de9dbcf06c23082ce6ac68b68ae6822ae514985e70f31f0a88f713bdf23be34b3ace649f1bb997a5dc82363|1|0', name='debd6a49e353e93fc079755eec90aad9fae178821de9dbcf06c23082ce6ac68b68ae6822ae514985e70f31f0a88f713bdf23be34b3ace649f1bb997a5dc82363|1|0', description='debd6a49e353e93fc079755eec90aad9fae178821de9dbcf06c23082ce6ac68b68ae6822ae514985e70f31f0a88f713bdf23be34b3ace649f1bb997a5dc82363|1|0 <unknown description>', dbxrefs=[]),\n",
        " SeqRecord(seq=Seq('AATATCTATCTTCGTGACTGTAACGGAAGTATTTCCCATAGGATCATCATAGCG...GAT', SingleLetterAlphabet()), id='debd6a49e353e93fc079755eec90aad9fae178821de9dbcf06c23082ce6ac68b68ae6822ae514985e70f31f0a88f713bdf23be34b3ace649f1bb997a5dc82363|4|0', name='debd6a49e353e93fc079755eec90aad9fae178821de9dbcf06c23082ce6ac68b68ae6822ae514985e70f31f0a88f713bdf23be34b3ace649f1bb997a5dc82363|4|0', description='debd6a49e353e93fc079755eec90aad9fae178821de9dbcf06c23082ce6ac68b68ae6822ae514985e70f31f0a88f713bdf23be34b3ace649f1bb997a5dc82363|4|0 <unknown description>', dbxrefs=[]),\n",
        " SeqRecord(seq=Seq('GATAGCATTCCGTGTTTCAATACTGTAGCATGCCCTAACGAAACCTACATCTAT...AAA', SingleLetterAlphabet()), id='6cb437af0f7bc49874f17e46de85820cf77ae6049ef02115d7145e545eaa0858f54dcf58f0f1002d8f7c320d78ffba835ec99ee09192d2e4cb46d831e43fdc6d|1|1', name='6cb437af0f7bc49874f17e46de85820cf77ae6049ef02115d7145e545eaa0858f54dcf58f0f1002d8f7c320d78ffba835ec99ee09192d2e4cb46d831e43fdc6d|1|1', description='6cb437af0f7bc49874f17e46de85820cf77ae6049ef02115d7145e545eaa0858f54dcf58f0f1002d8f7c320d78ffba835ec99ee09192d2e4cb46d831e43fdc6d|1|1 <unknown description>', dbxrefs=[]),\n",
        " SeqRecord(seq=Seq('AATATCTATCTTCGTGACTGTAACGGAAGTATTTCCCATAGGATCATCATAGCG...GAC', SingleLetterAlphabet()), id='6cb437af0f7bc49874f17e46de85820cf77ae6049ef02115d7145e545eaa0858f54dcf58f0f1002d8f7c320d78ffba835ec99ee09192d2e4cb46d831e43fdc6d|4|1', name='6cb437af0f7bc49874f17e46de85820cf77ae6049ef02115d7145e545eaa0858f54dcf58f0f1002d8f7c320d78ffba835ec99ee09192d2e4cb46d831e43fdc6d|4|1', description='6cb437af0f7bc49874f17e46de85820cf77ae6049ef02115d7145e545eaa0858f54dcf58f0f1002d8f7c320d78ffba835ec99ee09192d2e4cb46d831e43fdc6d|4|1 <unknown description>', dbxrefs=[]),\n",
        " SeqRecord(seq=Seq('GATAGCATTCCGTGTTTCAATACTGTAGCATGCCCTAACGAAACCTACATCTAT...AAA', SingleLetterAlphabet()), id='640ef8700832dc1d2191f6d80ea25b21b884996b5bb42ac43cef5fb156fc3dcc410f0a8223ea5627100ec63266e33fc7d6a22b262c6207b2e038fd8ea178179c|1|2', name='640ef8700832dc1d2191f6d80ea25b21b884996b5bb42ac43cef5fb156fc3dcc410f0a8223ea5627100ec63266e33fc7d6a22b262c6207b2e038fd8ea178179c|1|2', description='640ef8700832dc1d2191f6d80ea25b21b884996b5bb42ac43cef5fb156fc3dcc410f0a8223ea5627100ec63266e33fc7d6a22b262c6207b2e038fd8ea178179c|1|2 <unknown description>', dbxrefs=[]),\n",
        " SeqRecord(seq=Seq('AATATCTATCTTCGTGACTGTAACGGAAGTATTTCCCATAGGATCATCATAGCG...GAC', SingleLetterAlphabet()), id='640ef8700832dc1d2191f6d80ea25b21b884996b5bb42ac43cef5fb156fc3dcc410f0a8223ea5627100ec63266e33fc7d6a22b262c6207b2e038fd8ea178179c|4|2', name='640ef8700832dc1d2191f6d80ea25b21b884996b5bb42ac43cef5fb156fc3dcc410f0a8223ea5627100ec63266e33fc7d6a22b262c6207b2e038fd8ea178179c|4|2', description='640ef8700832dc1d2191f6d80ea25b21b884996b5bb42ac43cef5fb156fc3dcc410f0a8223ea5627100ec63266e33fc7d6a22b262c6207b2e038fd8ea178179c|4|2 <unknown description>', dbxrefs=[]),\n",
        " SeqRecord(seq=Seq('GATAGCATTCCGTGTTTCAATACTGTAGCATGCCCTAACGAAACCTACATCTAT...AAA', SingleLetterAlphabet()), id='38e5c2b0485c89a244f81daf7a0236b6cfa5ab47c6de469d37badc6358a09cefbc7f27705dddce489dfe6a1a03ab768e1c75b8328c4afcc2a5aaad5fab651df0|1|3', name='38e5c2b0485c89a244f81daf7a0236b6cfa5ab47c6de469d37badc6358a09cefbc7f27705dddce489dfe6a1a03ab768e1c75b8328c4afcc2a5aaad5fab651df0|1|3', description='38e5c2b0485c89a244f81daf7a0236b6cfa5ab47c6de469d37badc6358a09cefbc7f27705dddce489dfe6a1a03ab768e1c75b8328c4afcc2a5aaad5fab651df0|1|3 <unknown description>', dbxrefs=[]),\n",
        " SeqRecord(seq=Seq('CCGAGACCCGCTCTCAGGATTTAACTCGGGCTTGCCAACCTGTTCTGCCGGCAT...GAG', SingleLetterAlphabet()), id='38e5c2b0485c89a244f81daf7a0236b6cfa5ab47c6de469d37badc6358a09cefbc7f27705dddce489dfe6a1a03ab768e1c75b8328c4afcc2a5aaad5fab651df0|4|3', name='38e5c2b0485c89a244f81daf7a0236b6cfa5ab47c6de469d37badc6358a09cefbc7f27705dddce489dfe6a1a03ab768e1c75b8328c4afcc2a5aaad5fab651df0|4|3', description='38e5c2b0485c89a244f81daf7a0236b6cfa5ab47c6de469d37badc6358a09cefbc7f27705dddce489dfe6a1a03ab768e1c75b8328c4afcc2a5aaad5fab651df0|4|3 <unknown description>', dbxrefs=[]),\n",
        " SeqRecord(seq=Seq('GATAGCATTCCGTGTTTCAATACTGTAGCATGCCCTAACGAAACCTACATCTAT...AAA', SingleLetterAlphabet()), id='1911d1ba3222fabd2179811fb4ec11b1c98c23f90d7b4a18a389a9c64e467a33f6d7ba4f20abc8acde1ebdda459fd431cc40296e91b2f32b3408988325854e39|1|4', name='1911d1ba3222fabd2179811fb4ec11b1c98c23f90d7b4a18a389a9c64e467a33f6d7ba4f20abc8acde1ebdda459fd431cc40296e91b2f32b3408988325854e39|1|4', description='1911d1ba3222fabd2179811fb4ec11b1c98c23f90d7b4a18a389a9c64e467a33f6d7ba4f20abc8acde1ebdda459fd431cc40296e91b2f32b3408988325854e39|1|4 <unknown description>', dbxrefs=[]),\n",
        " SeqRecord(seq=Seq('AATATCTATCTTCGTGACTGTAACGGAAGTATTTCCCATAGGATCATCATAGCG...GAC', SingleLetterAlphabet()), id='1911d1ba3222fabd2179811fb4ec11b1c98c23f90d7b4a18a389a9c64e467a33f6d7ba4f20abc8acde1ebdda459fd431cc40296e91b2f32b3408988325854e39|4|4', name='1911d1ba3222fabd2179811fb4ec11b1c98c23f90d7b4a18a389a9c64e467a33f6d7ba4f20abc8acde1ebdda459fd431cc40296e91b2f32b3408988325854e39|4|4', description='1911d1ba3222fabd2179811fb4ec11b1c98c23f90d7b4a18a389a9c64e467a33f6d7ba4f20abc8acde1ebdda459fd431cc40296e91b2f32b3408988325854e39|4|4 <unknown description>', dbxrefs=[]),\n",
        " SeqRecord(seq=Seq('GATAGCATTCCGTGTTTCAATACTGTAGCATGCCCTAACGAAACCTACATCTAT...AAA', SingleLetterAlphabet()), id='dcb995a754b1348d5e1a03b1ef1810d4d0f191759753ee18434d403b92cc38706115e52ba6f80c30a9573f6051407c4b9dcb5adba2d7c75fd7ffc5622ae2cd5c|1|5', name='dcb995a754b1348d5e1a03b1ef1810d4d0f191759753ee18434d403b92cc38706115e52ba6f80c30a9573f6051407c4b9dcb5adba2d7c75fd7ffc5622ae2cd5c|1|5', description='dcb995a754b1348d5e1a03b1ef1810d4d0f191759753ee18434d403b92cc38706115e52ba6f80c30a9573f6051407c4b9dcb5adba2d7c75fd7ffc5622ae2cd5c|1|5 <unknown description>', dbxrefs=[]),\n",
        " SeqRecord(seq=Seq('CCGAGACCCGCTCTCAGGATTTAACTCGGGCTTGCCAACCTGTTCTGCCGGCAT...GAG', SingleLetterAlphabet()), id='dcb995a754b1348d5e1a03b1ef1810d4d0f191759753ee18434d403b92cc38706115e52ba6f80c30a9573f6051407c4b9dcb5adba2d7c75fd7ffc5622ae2cd5c|4|5', name='dcb995a754b1348d5e1a03b1ef1810d4d0f191759753ee18434d403b92cc38706115e52ba6f80c30a9573f6051407c4b9dcb5adba2d7c75fd7ffc5622ae2cd5c|4|5', description='dcb995a754b1348d5e1a03b1ef1810d4d0f191759753ee18434d403b92cc38706115e52ba6f80c30a9573f6051407c4b9dcb5adba2d7c75fd7ffc5622ae2cd5c|4|5 <unknown description>', dbxrefs=[]),\n",
        " SeqRecord(seq=Seq('GATAGCATTCCGTGTTTCAATACTGTAGCATGCCCTAACGAAACCTACATCTAT...AAA', SingleLetterAlphabet()), id='b3476c5d3995e0d9e4033c10b13e40ae28d0c37a9133513a8fab318501636df0260d146aed12bd6a0028ff284193da0fda5b32871e4157e8025ea6bb4ce623e5|1|6', name='b3476c5d3995e0d9e4033c10b13e40ae28d0c37a9133513a8fab318501636df0260d146aed12bd6a0028ff284193da0fda5b32871e4157e8025ea6bb4ce623e5|1|6', description='b3476c5d3995e0d9e4033c10b13e40ae28d0c37a9133513a8fab318501636df0260d146aed12bd6a0028ff284193da0fda5b32871e4157e8025ea6bb4ce623e5|1|6 <unknown description>', dbxrefs=[]),\n",
        " SeqRecord(seq=Seq('CCGAGAACCGCTCTCAGGATTTAACTCGGGCTTGCCAACCTGTTCTGCCGGCAT...GAG', SingleLetterAlphabet()), id='b3476c5d3995e0d9e4033c10b13e40ae28d0c37a9133513a8fab318501636df0260d146aed12bd6a0028ff284193da0fda5b32871e4157e8025ea6bb4ce623e5|4|6', name='b3476c5d3995e0d9e4033c10b13e40ae28d0c37a9133513a8fab318501636df0260d146aed12bd6a0028ff284193da0fda5b32871e4157e8025ea6bb4ce623e5|4|6', description='b3476c5d3995e0d9e4033c10b13e40ae28d0c37a9133513a8fab318501636df0260d146aed12bd6a0028ff284193da0fda5b32871e4157e8025ea6bb4ce623e5|4|6 <unknown description>', dbxrefs=[]),\n",
        " SeqRecord(seq=Seq('GATAGCATTCCGTGTTTCAATACTGTAGCATGCCCTAACGAAACCTACATCTAT...AAA', SingleLetterAlphabet()), id='69255c20c43e38f5d530504dd8488c4a9f8a873d9961ddf5561b9a47d12fc7a718230d7b00448eea41d60d3b083a638e7705f51a28a17de2c0743f369b670f0e|1|7', name='69255c20c43e38f5d530504dd8488c4a9f8a873d9961ddf5561b9a47d12fc7a718230d7b00448eea41d60d3b083a638e7705f51a28a17de2c0743f369b670f0e|1|7', description='69255c20c43e38f5d530504dd8488c4a9f8a873d9961ddf5561b9a47d12fc7a718230d7b00448eea41d60d3b083a638e7705f51a28a17de2c0743f369b670f0e|1|7 <unknown description>', dbxrefs=[]),\n",
        " SeqRecord(seq=Seq('CCGAGAACCGCTCTCAGGATTTAACTCGGGCTTGCCAACCTGTTCTGCCGGCAT...GAG', SingleLetterAlphabet()), id='69255c20c43e38f5d530504dd8488c4a9f8a873d9961ddf5561b9a47d12fc7a718230d7b00448eea41d60d3b083a638e7705f51a28a17de2c0743f369b670f0e|4|7', name='69255c20c43e38f5d530504dd8488c4a9f8a873d9961ddf5561b9a47d12fc7a718230d7b00448eea41d60d3b083a638e7705f51a28a17de2c0743f369b670f0e|4|7', description='69255c20c43e38f5d530504dd8488c4a9f8a873d9961ddf5561b9a47d12fc7a718230d7b00448eea41d60d3b083a638e7705f51a28a17de2c0743f369b670f0e|4|7 <unknown description>', dbxrefs=[]),\n",
        " SeqRecord(seq=Seq('GATAGCATTCCGTGTTTCAATACTGTAGCATGCCCTAACGAAACCTACATCTAT...AAA', SingleLetterAlphabet()), id='295411de72afbc7b2f25bae78c226b5f047b5f1e5b4abe6170e2e54464e2093c5ca5ecfffd415e372f05190f0db97d310427c0ccd46d54ba06447cbdb918f078|1|8', name='295411de72afbc7b2f25bae78c226b5f047b5f1e5b4abe6170e2e54464e2093c5ca5ecfffd415e372f05190f0db97d310427c0ccd46d54ba06447cbdb918f078|1|8', description='295411de72afbc7b2f25bae78c226b5f047b5f1e5b4abe6170e2e54464e2093c5ca5ecfffd415e372f05190f0db97d310427c0ccd46d54ba06447cbdb918f078|1|8 <unknown description>', dbxrefs=[]),\n",
        " SeqRecord(seq=Seq('GCGAGAACCGCTCTCAGGATTTAACTCGGGCTTGCCAAGCTGTTCTGCCGGCAT...GAG', SingleLetterAlphabet()), id='295411de72afbc7b2f25bae78c226b5f047b5f1e5b4abe6170e2e54464e2093c5ca5ecfffd415e372f05190f0db97d310427c0ccd46d54ba06447cbdb918f078|4|8', name='295411de72afbc7b2f25bae78c226b5f047b5f1e5b4abe6170e2e54464e2093c5ca5ecfffd415e372f05190f0db97d310427c0ccd46d54ba06447cbdb918f078|4|8', description='295411de72afbc7b2f25bae78c226b5f047b5f1e5b4abe6170e2e54464e2093c5ca5ecfffd415e372f05190f0db97d310427c0ccd46d54ba06447cbdb918f078|4|8 <unknown description>', dbxrefs=[]),\n",
        " SeqRecord(seq=Seq('GATAGCATTCCGTGTTTCAATACTGTAGCATGCCCTAACGAAACCTACATCTAT...AAA', SingleLetterAlphabet()), id='2adc1a2c883fd8fdb22b62dfece7ff6b8360800b36f0c8ce3b09d50b6482fb38c34e1ddabbc18aca43b5268d7f158c1daaacbe026d180fbc4f62f5e9596bb759|1|9', name='2adc1a2c883fd8fdb22b62dfece7ff6b8360800b36f0c8ce3b09d50b6482fb38c34e1ddabbc18aca43b5268d7f158c1daaacbe026d180fbc4f62f5e9596bb759|1|9', description='2adc1a2c883fd8fdb22b62dfece7ff6b8360800b36f0c8ce3b09d50b6482fb38c34e1ddabbc18aca43b5268d7f158c1daaacbe026d180fbc4f62f5e9596bb759|1|9 <unknown description>', dbxrefs=[]),\n",
        " SeqRecord(seq=Seq('CCGAGAACCGCTCTCAGGATTTAACTCGGGCTTGCCAACCTGTTCTGCAGGCAT...GAG', SingleLetterAlphabet()), id='2adc1a2c883fd8fdb22b62dfece7ff6b8360800b36f0c8ce3b09d50b6482fb38c34e1ddabbc18aca43b5268d7f158c1daaacbe026d180fbc4f62f5e9596bb759|4|9', name='2adc1a2c883fd8fdb22b62dfece7ff6b8360800b36f0c8ce3b09d50b6482fb38c34e1ddabbc18aca43b5268d7f158c1daaacbe026d180fbc4f62f5e9596bb759|4|9', description='2adc1a2c883fd8fdb22b62dfece7ff6b8360800b36f0c8ce3b09d50b6482fb38c34e1ddabbc18aca43b5268d7f158c1daaacbe026d180fbc4f62f5e9596bb759|4|9 <unknown description>', dbxrefs=[]),\n",
        " SeqRecord(seq=Seq('GATAGCATTCCGTGTTTCAATACTGTAGCATGCCCTAACGAAACCTACATCTAT...AAA', SingleLetterAlphabet()), id='bd0382292bdbdede9ac6837982db3b654df2bf9f41270eaaf1eb94817afa8ecedb1acf08739905724a5717106375eafdef48fc87f6d23299d5e2f15fe49201eb|1|10', name='bd0382292bdbdede9ac6837982db3b654df2bf9f41270eaaf1eb94817afa8ecedb1acf08739905724a5717106375eafdef48fc87f6d23299d5e2f15fe49201eb|1|10', description='bd0382292bdbdede9ac6837982db3b654df2bf9f41270eaaf1eb94817afa8ecedb1acf08739905724a5717106375eafdef48fc87f6d23299d5e2f15fe49201eb|1|10 <unknown description>', dbxrefs=[]),\n",
        " SeqRecord(seq=Seq('CCGAGAACCGCTCTCAGGATTTAACTCGGGCTTGCCAACCTGTTCTGCCGGCAT...GAG', SingleLetterAlphabet()), id='bd0382292bdbdede9ac6837982db3b654df2bf9f41270eaaf1eb94817afa8ecedb1acf08739905724a5717106375eafdef48fc87f6d23299d5e2f15fe49201eb|4|10', name='bd0382292bdbdede9ac6837982db3b654df2bf9f41270eaaf1eb94817afa8ecedb1acf08739905724a5717106375eafdef48fc87f6d23299d5e2f15fe49201eb|4|10', description='bd0382292bdbdede9ac6837982db3b654df2bf9f41270eaaf1eb94817afa8ecedb1acf08739905724a5717106375eafdef48fc87f6d23299d5e2f15fe49201eb|4|10 <unknown description>', dbxrefs=[])]"
       ]
      }
     ],
     "prompt_number": 13
    },
    {
     "cell_type": "code",
     "collapsed": false,
     "input": [
      "# Append the sequences to the dictionary.\n",
      "# This can be written into a function.\n",
      "split_char = '|' # The character that will be used to split the SeqRecord.id string\n",
      "pos_segment_num = 1 # The position of the segment number after splitting by the split_char\n",
      "\n",
      "for sequence in sequences:\n",
      "    segment_number = int(sequence.id.split(split_char)[pos_segment_num])\n",
      "    sequences_dictionary[segment_number].append(sequence)\n",
      "\n",
      "# sequences_dictionary"
     ],
     "language": "python",
     "metadata": {},
     "outputs": [],
     "prompt_number": 14
    },
    {
     "cell_type": "code",
     "collapsed": false,
     "input": [
      "# Create a NetworkX graph using one segment's sequences, and add nodes.\n",
      "import networkx as nx\n",
      "\n",
      "G = nx.DiGraph()\n",
      "\n",
      "splitchar = '|'\n",
      "pos_id = 0\n",
      "pos_segment_num = 1\n",
      "pos_creation_time = 2\n",
      "\n",
      "segment_number = 4\n",
      "\n",
      "for sequence in sequences_dictionary[segment_number]:\n",
      "    [isolate_id, segment_num, creation_time] = sequence.id.split(splitchar)\n",
      "    G.add_node(isolate_id[0:5], sequence=sequence.seq, id=isolate_id, segment_num=int(segment_num), creation_time=int(creation_time))\n",
      "\n",
      "# at this point, we would return G, and append it to the dictionary of Graphs available.\n",
      "# G.nodes(data=True)"
     ],
     "language": "python",
     "metadata": {},
     "outputs": [],
     "prompt_number": 15
    },
    {
     "cell_type": "code",
     "collapsed": false,
     "input": [
      "# Add edges to the graph, based on the Levenshtein distance between two sequences.\n",
      "import Levenshtein\n",
      "for node1 in G.nodes(data=True):\n",
      "    for node2 in G.nodes(data=True):\n",
      "        if node1[1]['creation_time'] < node2[1]['creation_time']:\n",
      "            weight = Levenshtein.distance(str(node1[1]['sequence']), str(node2[1]['sequence']))\n",
      "            G.add_edge(node1[0], node2[0], weight=weight)"
     ],
     "language": "python",
     "metadata": {},
     "outputs": [],
     "prompt_number": 16
    },
    {
     "cell_type": "code",
     "collapsed": false,
     "input": [
      "# Prune graph by distance.\n",
      "for node in G.nodes(data=True):\n",
      "    in_edges = G.in_edges(node[0], data=True)\n",
      "#     print in_edges\n",
      "    if len(in_edges) != 0:\n",
      "        min_weight = min([edge[2]['weight'] for edge in in_edges])\n",
      "        print min_weight\n",
      "        print node\n",
      "        for edge in in_edges:\n",
      "            if edge[2]['weight'] != min_weight:\n",
      "                G.remove_edge(edge[0], edge[1])"
     ],
     "language": "python",
     "metadata": {},
     "outputs": [
      {
       "output_type": "stream",
       "stream": "stdout",
       "text": [
        "8\n",
        "('dcb99', {'segment_num': 4, 'creation_time': 5, 'id': 'dcb995a754b1348d5e1a03b1ef1810d4d0f191759753ee18434d403b92cc38706115e52ba6f80c30a9573f6051407c4b9dcb5adba2d7c75fd7ffc5622ae2cd5c', 'sequence': Seq('CCGAGACCCGCTCTCAGGATTTAACTCGGGCTTGCCAACCTGTTCTGCCGGCAT...GAG', SingleLetterAlphabet())})\n",
        "14\n",
        "('29541', {'segment_num': 4, 'creation_time': 8, 'id': '295411de72afbc7b2f25bae78c226b5f047b5f1e5b4abe6170e2e54464e2093c5ca5ecfffd415e372f05190f0db97d310427c0ccd46d54ba06447cbdb918f078', 'sequence': Seq('GCGAGAACCGCTCTCAGGATTTAACTCGGGCTTGCCAAGCTGTTCTGCCGGCAT...GAG', SingleLetterAlphabet())})\n",
        "5\n",
        "('69255', {'segment_num': 4, 'creation_time': 7, 'id': '69255c20c43e38f5d530504dd8488c4a9f8a873d9961ddf5561b9a47d12fc7a718230d7b00448eea41d60d3b083a638e7705f51a28a17de2c0743f369b670f0e', 'sequence': Seq('CCGAGAACCGCTCTCAGGATTTAACTCGGGCTTGCCAACCTGTTCTGCCGGCAT...GAG', SingleLetterAlphabet())})\n",
        "9\n",
        "('38e5c', {'segment_num': 4, 'creation_time': 3, 'id': '38e5c2b0485c89a244f81daf7a0236b6cfa5ab47c6de469d37badc6358a09cefbc7f27705dddce489dfe6a1a03ab768e1c75b8328c4afcc2a5aaad5fab651df0', 'sequence': Seq('CCGAGACCCGCTCTCAGGATTTAACTCGGGCTTGCCAACCTGTTCTGCCGGCAT...GAG', SingleLetterAlphabet())})\n",
        "13\n",
        "('bd038', {'segment_num': 4, 'creation_time': 10, 'id': 'bd0382292bdbdede9ac6837982db3b654df2bf9f41270eaaf1eb94817afa8ecedb1acf08739905724a5717106375eafdef48fc87f6d23299d5e2f15fe49201eb', 'sequence': Seq('CCGAGAACCGCTCTCAGGATTTAACTCGGGCTTGCCAACCTGTTCTGCCGGCAT...GAG', SingleLetterAlphabet())})\n",
        "8\n",
        "('b3476', {'segment_num': 4, 'creation_time': 6, 'id': 'b3476c5d3995e0d9e4033c10b13e40ae28d0c37a9133513a8fab318501636df0260d146aed12bd6a0028ff284193da0fda5b32871e4157e8025ea6bb4ce623e5', 'sequence': Seq('CCGAGAACCGCTCTCAGGATTTAACTCGGGCTTGCCAACCTGTTCTGCCGGCAT...GAG', SingleLetterAlphabet())})\n",
        "8\n",
        "('6cb43', {'segment_num': 4, 'creation_time': 1, 'id': '6cb437af0f7bc49874f17e46de85820cf77ae6049ef02115d7145e545eaa0858f54dcf58f0f1002d8f7c320d78ffba835ec99ee09192d2e4cb46d831e43fdc6d', 'sequence': Seq('AATATCTATCTTCGTGACTGTAACGGAAGTATTTCCCATAGGATCATCATAGCG...GAC', SingleLetterAlphabet())})\n",
        "8\n",
        "('2adc1', {'segment_num': 4, 'creation_time': 9, 'id': '2adc1a2c883fd8fdb22b62dfece7ff6b8360800b36f0c8ce3b09d50b6482fb38c34e1ddabbc18aca43b5268d7f158c1daaacbe026d180fbc4f62f5e9596bb759', 'sequence': Seq('CCGAGAACCGCTCTCAGGATTTAACTCGGGCTTGCCAACCTGTTCTGCAGGCAT...GAG', SingleLetterAlphabet())})\n",
        "7\n",
        "('1911d', {'segment_num': 4, 'creation_time': 4, 'id': '1911d1ba3222fabd2179811fb4ec11b1c98c23f90d7b4a18a389a9c64e467a33f6d7ba4f20abc8acde1ebdda459fd431cc40296e91b2f32b3408988325854e39', 'sequence': Seq('AATATCTATCTTCGTGACTGTAACGGAAGTATTTCCCATAGGATCATCATAGCG...GAC', SingleLetterAlphabet())})\n",
        "5\n",
        "('640ef', {'segment_num': 4, 'creation_time': 2, 'id': '640ef8700832dc1d2191f6d80ea25b21b884996b5bb42ac43cef5fb156fc3dcc410f0a8223ea5627100ec63266e33fc7d6a22b262c6207b2e038fd8ea178179c', 'sequence': Seq('AATATCTATCTTCGTGACTGTAACGGAAGTATTTCCCATAGGATCATCATAGCG...GAC', SingleLetterAlphabet())})\n"
       ]
      }
     ],
     "prompt_number": 17
    },
    {
     "cell_type": "code",
     "collapsed": false,
     "input": [
      "nx.draw_circular(G)"
     ],
     "language": "python",
     "metadata": {},
     "outputs": [
      {
       "metadata": {},
       "output_type": "display_data",
       "png": "[encoded data removed]",
       "text": [
        "<matplotlib.figure.Figure at 0x106460110>"
       ]
      }
     ],
     "prompt_number": 18
    },
    {
     "cell_type": "markdown",
     "metadata": {},
     "source": [
      "# Test Reconstructor Class"
     ]
    },
    {
     "cell_type": "code",
     "collapsed": false,
     "input": [
      "from reconstructor import Reconstructor\n",
      "import networkx as nx"
     ],
     "language": "python",
     "metadata": {},
     "outputs": [],
     "prompt_number": 19
    },
    {
     "cell_type": "code",
     "collapsed": false,
     "input": [
      "r = Reconstructor(segments=[1, 4])\n",
      "print r.sequences\n",
      "print r.graphs"
     ],
     "language": "python",
     "metadata": {},
     "outputs": [
      {
       "output_type": "stream",
       "stream": "stdout",
       "text": [
        "{1: [], 4: []}\n",
        "{1: <networkx.classes.digraph.DiGraph object at 0x1064cbd50>, 4: <networkx.classes.digraph.DiGraph object at 0x1064cbe90>}\n"
       ]
      }
     ],
     "prompt_number": 20
    },
    {
     "cell_type": "code",
     "collapsed": false,
     "input": [
      "fasta_file = 'FASTA Files/outfile_test.fasta'\n",
      "r.read_fasta_file(fasta_file)"
     ],
     "language": "python",
     "metadata": {},
     "outputs": [],
     "prompt_number": 21
    },
    {
     "cell_type": "code",
     "collapsed": false,
     "input": [
      "r.add_nodes_with_data()\n",
      "r.add_edges_with_weight()\n",
      "r.prune_graphs_by_weight()\n",
      "r.compose_segment_graphs()\n",
      "r.condense_composed_segment_graphs()\n",
      "r.prune_condensed_graph()"
     ],
     "language": "python",
     "metadata": {},
     "outputs": [],
     "prompt_number": 22
    },
    {
     "cell_type": "code",
     "collapsed": false,
     "input": [
      "r.condensed_graph.edges(data=True)"
     ],
     "language": "python",
     "metadata": {},
     "outputs": [
      {
       "metadata": {},
       "output_type": "pyout",
       "prompt_number": 23,
       "text": [
        "[('69255', '29541', {'segments': [1, 4], 'weight': 16}),\n",
        " ('69255', 'bd038', {'segments': [1, 4], 'weight': 14}),\n",
        " ('807f8', 'b3476', {'segments': [1, 4], 'weight': 10}),\n",
        " ('807f8', '38e5c', {'segments': [1, 4], 'weight': 9}),\n",
        " ('b3476', '69255', {'segments': [1, 4], 'weight': 6}),\n",
        " ('b3476', '2adc1', {'segments': [1, 4], 'weight': 8}),\n",
        " ('38e5c', 'dcb99', {'segments': [1, 4], 'weight': 8}),\n",
        " ('640ef', '1911d', {'segments': [1, 4], 'weight': 10}),\n",
        " ('debd6', '6cb43', {'segments': [1, 4], 'weight': 8}),\n",
        " ('6cb43', '640ef', {'segments': [1, 4], 'weight': 9})]"
       ]
      }
     ],
     "prompt_number": 23
    },
    {
     "cell_type": "code",
     "collapsed": false,
     "input": [
      "r.condensed_graph.nodes(data=True)"
     ],
     "language": "python",
     "metadata": {},
     "outputs": [
      {
       "metadata": {},
       "output_type": "pyout",
       "prompt_number": 24,
       "text": [
        "[('dcb99',\n",
        "  {'creation_time': '5',\n",
        "   'id': 'dcb995a754b1348d5e1a03b1ef1810d4d0f191759753ee18434d403b92cc38706115e52ba6f80c30a9573f6051407c4b9dcb5adba2d7c75fd7ffc5622ae2cd5c',\n",
        "   'segment_number': '4',\n",
        "   'sequence_1': 'GATAGCATTCCGTGTTTCAATACTGTAGCATGCCCTAACGAAACCTACATCTATTGGCGGGATACGCCTGTTTTTATTTGGAGTGTAATTAGATCGCAAATGTTAAAGGTCCAATATCCCCATGAGGGCACACAATAGTGCACATCTAGAACACAGCGAGCGAGTACGGTTGGAGGTAGAGATGGTCTGAACTTCGGCCGAGACTCTCGGGGCCCGCCCACCATACGGATATTAATGTGTTCTCACGTCGGGGTTTAGGCCCGCGTAAAAGGAATGTCTGACCAGTACTCGTATTGCAGACAGACGGGAGCTGGACTGCGGAAAGCGTAGGACTTCTTAGCGAGTTAAGGCGCACAACGACAGTCGGCCTCACGGGCTACCACCACTTGGGACAACATTTTATAATTTCATTTCGCTCCTAAGGGCTACGACATCTTTCATGAACTTCCACCACCTAACACAACAGCGGCGGGCAAAAGGTAATAACGGGTTTTATAAATTTCAGGTGTAAGAAGTTCTCATTGGCCGGTCATCTCGGCAGCATCACAGTATTTGGCACACCATTTATAACAGTAGCACGATACCTGAGCCCCTCCCACCGCGATTGGGAACCCGCACCTCTAATTTATAACGACAATTTGCTCCATTGGAAACGTAACCTGACTGCTGTAGTGGTCCCAGTAAAAACCAAACAGAGGCCTTCTGGCTAACGTGTCCTTTAACCAGCCAGTCAGGACCCAAAAGATAGCTGTGTCACCCTGGGCGGCGACCCGTGTTGCTCCTTTAATGGGCGCTTCCGATAATCCAAGGCCCTTCCGAGGGCGGCTTTCGTTTACGTCCAGCGCCGCGTGCACCTTGTAAATCCTTGCATTTATATCACTAGCCTTCAACATGCGGTACAATCTTCAATATACATGACTCTGGCAGGCACCGCACACAACTCTATGAGCTCCCTCAGCTATGCCAAGGCGAGAGGGGTTATTGTCCTCAAGCCCGGAAA',\n",
        "   'sequence_4': 'CCGAGACCCGCTCTCAGGATTTAACTCGGGCTTGCCAACCTGTTCTGCCGGCATTGCTGCGGAAGGACCTGGCCCTTCGCCACTAAGACCGTAGCAATGGGCGAACCTCGGTAGACGTTGCGGGGACTATTTAGTTGTATTCGTAACACTTCAGTTGCAAGAATTCCAACGATCCTATACTAAGTAAGAGGGCGTTGAGGCCCATGGTTACTCCCTATTACGAGTCGCAAGCAACGGCGGAACGTTCCAGCCTGACATGAATGTCCGGCTTCTGTGTATGTCCACTCTGTGTTACCCAGACACCTCGTCCCGCCCAAAGCCATGAGAAGTTGTTAGGCTAGTTATCGACCGTTTAAGTTCTATCATGGTAGACGTTCGTACAGGTAATCCTGGCACCGAAAAGAATAGAGACAAGGGGTGAGTCAAGGTTGACGGCTGCAATGCCTGATGGATGGGCCTGCATCAGGGAGTTGGCGGACCGTAGCGGCGACATTGGGGGTTCGCTTGATGCCATTCAAAACATGGACATGGTAAGCAAGGCGCTAGAATTTCGAGCCCTGGTATAGCCTGAGGCCAGTCTCAGCAGTCTTTGTTCTCGTTTTTGCCCGACTCCGCGTCAGGGACACCCGCTACTCAACGAAGCCGTAGGCAGTTCCGCGAAATTCTGCTTATTGGTTGACTCTCACCACAGTGCCCGGATAGCGCGCGACAGTCGACGTAGAGAGGCTGCTCCGCCTCGGTCTCTGCTTCTGCAAGTGCGGCTTAGAACCACGCGTTCTAAACCCTGTTGACCTAGATGGGCGGTACAACCGCTGCGTCTCGATATACGGTCTGACAGGTCGGACCTTCTCTATCGAAACGCGCTCTCTGCTGTTTGAGTCACTCAATGACTCAAGGCGCTGACAACTACACAGTGCCTGCTTTTTCAAGTCCTTACCCATGGCGAGTCAAGATGTCGGATTCAGAAATAAATACCCTCTAGCTGACCATGAACCGCGAG'}),\n",
        " ('29541',\n",
        "  {'creation_time': '8',\n",
        "   'id': '295411de72afbc7b2f25bae78c226b5f047b5f1e5b4abe6170e2e54464e2093c5ca5ecfffd415e372f05190f0db97d310427c0ccd46d54ba06447cbdb918f078',\n",
        "   'segment_number': '4',\n",
        "   'sequence_1': 'GATAGCATTCCGTGTTTCAATACTGTAGCATGCCCTAACGAAACCTACATCTATTGGCGGGATACGCCTGTTTTTATTTGGAGTGTAATTAGATCGCAAATGTTAAAGGTCCAATATCCCCATGAGGGCACACAATAGTGCACATCTAGAACACAGCGAGCGAGTACGGTTGGAGGTAGAGATGGTCTGAACTTCGGCCGAGACTCTCGGGGCCCGCCCACCATACGGATATTAATGTGTTCTCACGTCGGGGTTTAGGCCCGCGTAAAAGGAATGTCTGACCAGTACACGTATTGCAGACAGACGGGAGCTGGACTGCGGAAAGCGTAGGACTTCTTAGCTAGTTAAGGCGCACAACGACAGTCGGCCTCACGGGCTACCACCACTTGGGACAACATTTTATAATTTCATTTCGCTCCTAAGGGCTACGACATCTTTCATGAACTTCCACCACCTAACACAACAGCGGCGGGCAAAAGGTAATAACGGGTTTTATAAATTTCAGGTGTAAGAAGTTCTCATTGGCCGGTCATCTCGGCAGCATCACAGTATTTGGCACACCATTTATAACAGTAGCACGATACCTGAGCCCCTCCCACCGCGATTGGGAACCCGCATCTCTAATTTATAACGACAATTTGCTCCATTGGAAACGTAACCTGACTGCTGTAGTGGTCCCAATAAAAACCAAACAGAGGCCTTCTGGCTAACGTGTCCTTTAACCAGCCAGTCAGGACCCAAAAGATAGCTGTGTCACCCTGGGCGGCGACCCGTGTTGCTCCTTTAATGGGCGCTTCCGATAATCCAAGGCCCTTCCGAGGGCGGCTATCGTTTACGTCCAGCGCCGCGTGCACCTTGTAAATCCTTGCATTTATATCACTAGCCTTCAACATGCGGTACAATCTTCAATATACATGACTCTGGCAGGCACCGCACACAACTCTATGAGCTCCCTCAGCTATGCCAAGGCGAGAGGGGTTATTGTCCTCAAGCCCGGAAA',\n",
        "   'sequence_4': 'GCGAGAACCGCTCTCAGGATTTAACTCGGGCTTGCCAAGCTGTTCTGCCGGCATTGCTGCCGAAGGACCTGGCCCTTCGCCACTAAGACCGTAGCAATTGGCGAAGCTCGGTAGACGTTGCGGGGCCTATTTAGTTGTATTCGTAACACTTCAGTTGCAAGAATTCCAAAGATCCTATACTAAGTAGGAGGGCGTTGAGGCCCATGGTTACTCCCTATTACGAGTCGCCAGCAACGTCTGAACGTTCCAGTCTGACATGGATGTCCGGCTTCTGTGTATGTCCACTCTGTATTACCCAGACACGTCGTCCCGCGCAAAGCCATGAGAAGTTGTTAGGATAGTTATCGAGCGCTTAAGTTCTATCATGGTAGACGTTAGTACAGGTAATCCTGGCACCGAAAAGAATAGAGACAAGGGGTGAGTCAAGGTTGAAGGCTGCAATGCCTGATGGATGGGCCTGTATCAGGGAGTTGGTGGACCGTAGCGGCGACATTGGGTGTGCGCTTGATGCCATTCAAAACATGGACATCGTAAGCAAGGCCCTAGAATTTCGAGCGCTGGTATGGCCTGAGGCCAGTCTCAGCAGTCTTTGTTCTCGTTTTAGCCCGACTCCGCGTCAGGGACACACGCTTCTCATCGAAGCCGTAGGCAGTTCCGTGAAATTCTGCTTATTGGTTGACTCTCACCACAGTGCCCGGATAGCGCGCGACAGTCGACGTAGAGAGGCTGCTCCGCCTCGGTCTCTGCTTCTGCAAGTGCGGCTTAGAACCACGCGTTCTAAACCCTGTTGACCTAGAGGGGCGGTACAACCGCTGCGTCTCGATATATGGTCTGACAGGTCGGACCTTCTCTATCGAAACGCGCTCTCTGCTGGCTGAGTCACTCAATGACTCAAAGCGCTGACAACTACACAGTGCATGCTTTTTCAAGTCCTTACCCATGGCGAGTCAAGATGTCGGATTCAGAAATAAATACCGTCTAGCTGACCATGAACCGGGAG'}),\n",
        " ('69255',\n",
        "  {'creation_time': '7',\n",
        "   'id': '69255c20c43e38f5d530504dd8488c4a9f8a873d9961ddf5561b9a47d12fc7a718230d7b00448eea41d60d3b083a638e7705f51a28a17de2c0743f369b670f0e',\n",
        "   'segment_number': '4',\n",
        "   'sequence_1': 'GATAGCATTCCGTGTTTCAATACTGTAGCATGCCCTAACGAAACCTACATCTATTGGCGGGATACGCCTGTTTTTATTTGGAGTGTAATTAGATCGCAAATGTTAAAGGTCCAATATCCCCATGAGGGCACACAATAGTGCACATCTAGAACACAGCGAGCGAGTACGGTTGGAGGTAGAGATGGTCTGAACTTCGGCCGAGACTCTCGGGGCCCGCCCACCATACGGATATTAATGTGTTCTCACGTCGGGGTTTAGGCCCGCGTAAAAGGAATGTCTGACCAGTACTCGTATTGCAGACAGACGGGAGCTGGACTGCGGAAAGCGTAGGACTTCTTAGCTAGTTAAGGCGCACAACGACAGTCGGCCTCACGGGCTACCACCACTTGGGACAACATTTTATAATTTCATTTCGCTCCTAAGGGCTACGACATCTTTCATGAACTTCCACCACCTAACACAACAGCGGCGGGCAAAAGGTAATAACGGGTTTTATAAATTTCAGGTGTAAGAAGTTCTCATTGGCCGGTCATCTCGGCAGCATCACAGTATTTGGCACACCATTTATAACAGTAGCACGATACCTGAGCCCCTCCCACCGCGATTGGGAACCCGCATCTCTAATTTATAACGACAATTTGCTCCATTGGAAACGTAACCTGACTGCTGTAGTGGTCCCAGTAAAAACCAAACAGAGGCCTTCTGGCTAACGTGTCCTTTAACCAGCCAGTCAGGACCCAAAAGATAGCTGTGTCACCCTGGGCGGCGACCCGTGTTGCTCCTTTAATGGGCGCTTCCGATAATCCAAGGCCCTTCCGAGGGCGGCTATCGTTTACGTCCAGCGCCGCGTGCACCTTGTAAATCCTTGCATTTATATCACTAGCCTTCAACATGCGGTACAATCTTCAATATACATGACTCTGGCAGGCACCGCACACAACTCTATGAGCTCCCTCAGCTATGCCAAGGCGAGAGGGGTTATTGTCCTCAAGCCCGGAAA',\n",
        "   'sequence_4': 'CCGAGAACCGCTCTCAGGATTTAACTCGGGCTTGCCAACCTGTTCTGCCGGCATTGCTGCCGAAGGACCTGGCCCTTCGCCACTAAGACCGTAGCAATGGGCGAAGCTCGGTAGACGTTGCGGGGCCTATTTAGTTGTATTCGTAACACTTCAGTTGCAAGAATTCCAACGATCCTATACTAAGTAGGAGGGCGTTGAGGCCCATGGTTACTCCCTATTACGAGTCGCCAGCAACGGCTGAACGTTCCAGTCTGACATGGATGTCCGGCTTCTGTGTATGTCCACTCTGTTTTACCCAGACACCTCGTCCCGCGCAAAGCCATGAGAAGTTGTTAGGATAGTTATCGAGCGTTTAAGTTCTATCATGGTAGACGTTAGTACAGGTAATCCTGGCACCGAAAAGAATAGAGACAAGGGGTGAGTCAAGGTTGAAGGCTGCAATGCCTGATGGATGGGCCTGTATCAGGGAGTTGGTGGACCGTAGCGGCGACATTGGGTGTGCGCTTGATGCCATTCAAAACATGGACATCGTAAGCAAGGCGCTAGAATTTCGAGCCCTGGTATAGCCTGAGGCCAGTCTCAGCAGTCTTTGTTCTCGTTTTAGCCCGACTCCGCGTCAGGGACACACGCTACTCAACGAAGCCGTAGGCAGTTCCGCGAAATTCTGCTTATTGGTTGACTCTCACCACAGTGCCCGGATAGCGCGCGACAGTCGACGTAGAGAGGCTGCTCCGCCTCGGTCTCTGCTTCTGCAAGTGCGGCTTAGAACCACGCGTTCTAAACCCTGTTGACCTAGAGGGGCGGTACAACCGCTGCGTCTCGATATATGGTCTGACAGGTCGGACCTTCTCTATCGAAACGCGCTCTCTGCTGGCTGAGTCACTCAATGACTCAAAGCGCTGACAACTACACAGTGCATGCTTTTTCAAGTCCTTACCCATGGCGAGTCAAGATGTCGGATTCAGAAATAAATACCGTCTAGCTGACCATGAACCGGGAG'}),\n",
        " ('807f8',\n",
        "  {'creation_time': '0',\n",
        "   'id': '807f809119022660aa8eac3055968435d3d82705f9df2c0448df5b54c60ca9dc0c09fb53880d9b0de80d890ed2c6d769645fc873807f39deecb16c813e42e02c',\n",
        "   'segment_number': '4',\n",
        "   'sequence_1': 'GATAGCATTCCGTGTTTCAATACTGTAGCATGCCCTAACGAAACCTACATCTATTGGCGGGATACGCCTGTTTTTATTTGGAGTGTAATTAGATCGCAAATGTTAAAGGTCCAATATCCCCATGAGGGCACACAATAGTGCACATCTAGAACACAGCGAGCGAGTACGGTTGGAGGTAGAGATGGTCTGAACTTCGGCCGAGACTCTCGGGGCCCGCCCACCATACGGATATTAATGTGTTCTCACGTCGGGGTTTAGGCCCGCGTAAAAGGAATGTCTGACCAGTACTCGTATTGCAGACAGACGGGAGCTGGACTGCGGAAAGCGTAGGACTTCTTAGCGAGTTAAGGCGCACAACGACAGTCGGCCTCACGGGCTACCACCACTTGGGACAACATTTTATAATTTCATTTCGCTCCTAAGGGCTACGACATCTTTCATGAACTTCCACCACCTAACACAACAGCGGCGGGCAAAAGGTAATAACGGGTTTTATAAATTTCAGGTGTAAGAAGTTCTCATTGGCCGGTCATCTCGGCAGCATCACAGTATTTGGCACACCATTTATAACAGTAGCACGATACCTGAGCCCCTCCCACCGCGATTGGGAACCCGCACCTCTAATTTATAACGACAATTTGCTCCATTGGAAACGTAACCTGACTGCTGTAGTGGTCCCAGTAAAAACCAAACAGAGGCCTTCTGGCTAACGTGTCCTTTAACCAGCCAGTCAGGACCCAAAAGATAGCTGTGTCACCCTGGGCGGCGACCCGTGTTGCTCCTTTAATGGGCGCTTCCGATAATCCAAGGCCCTTCCGAGGGCGGCTTTCGTTTACGTCCAGCGCCGCGTGCACCTTGTAAATCCTTGCATTTATATCACTAGCCTTCAACATGCGGTACAATCTTCAATATACATGACTCTGGCAGGCACCGCACACAACTCTATGAGCTCCCTCAGCTATGCCAAGGCGAGAGGGGTTATTGTCCTCAAGCCCGGAAA',\n",
        "   'sequence_4': 'CCGAGACCCGCTCTCAGGATTTAACTCGGGCTTGCCAACCTGTTCTGCCGGCATTGCTGCCGAAGGACCTGGCCCTTCGCCACTAAGACCGTAGCAATGGGCGAACCTCGGTAGACGTTGCGGGGCCTATTTAGTTGTATTCGTAACACTTCAGTTGCAAGAATTCCAACGATCCTATACTAAGTAAGAGGGCGTTGAGGCCCATGGTTACTCCCTATTACGAGTCGCCAGCAACGGCTGAACGTTCCAGTCTGACATGAATGTCCGGCTTCTGTGTATGTCCACTCTGTGTTACCCAGACACCTCGTCCCGCCCAAAGCCATGAGAAGTTGTTAGGATAGTTATCGACCGTTTAAGTTCTATCATGGTAGACGTTAGTACAGGTAATCCTGGCACCGAAAAGAATAGAGACAAGGGGTGAGTCAAGGTTGACGGCTGCAATGCCTGATGGATGGGCCTGTATCAGGGAGTTGGCGGACCGTAGCGGCGACATTGGGTGTTCGCTTGATGCCATTCAAAACATGGACATCGTAAGCAAGGCGCTAGAATTTCGAGCCCTGGTATAGCCTGAGGCCAGTCTCAGCAGTCTTTGTTCTCGTTTTAGCCCGACTCCGCGTCAGGGACACCCGCTACTCAACGAAGCCGTAGGCAGTTCCGCGAAATTCTGCTTATTGGTTGACTCTCACCACAGTGCCCGGATAGCGCGCGACAGTCGACGTAGAGAGGCTGCTCCGCCTCGGTCTCTGCTTCTGCAAGTGCGGCTTAGAACCACGCGTTCTAAACCCTGTTGACCTAGAGGGGCGGTACAACCGCTGCGTCTCGATATATGGTCTGACAGGTCGGACCTTCTCTATCGAAACGCGCTCTCTGCTGGCTGAGTCACTCAATGACTCAAAGCGCTGACAACTACACAGTGCCTGCTTTTTCAAGTCCTTACCCATGGCGAGTCAAGATGTCGGATTCAGAAATAAATACCCTCTAGCTGACCATGAACCGGGAG'}),\n",
        " ('bd038',\n",
        "  {'creation_time': '10',\n",
        "   'id': 'bd0382292bdbdede9ac6837982db3b654df2bf9f41270eaaf1eb94817afa8ecedb1acf08739905724a5717106375eafdef48fc87f6d23299d5e2f15fe49201eb',\n",
        "   'segment_number': '4',\n",
        "   'sequence_1': 'GATAGCATTCCGTGTTTCAATACTGTAGCATGCCCTAACGAAACCTACATCTATTGGCGGGATACGCCTGTTTTTATTTGGAGTGTAATTAGATCGCAAATGTTAAAGGTCCAATATCCCCATGAGGGCACACAATAGTGCACATCTAGAACACAGCGAGCGAGTACGGTTGGAGGTTGAGATGGTCTGAACTTCGGCCGAGACTCTCGGGGCCCGCCCACCATACGGATATTAATGTGTTCTCACGTCGGGGTTTAGGCCCGCGTAAAAGGAATGTCTGACCAGTACTCGTATTGCAGACAGACGGGAGCTGGACTGCGGAAAGCGTAGGACTTCTTAGCTAGTTAAGGCGCACAACGACAGTCGGCCTCACGGGCTACCACCACTTGGGACAACATTTTATAATTTCATTTCGCTCCTAAGGGCTACGACATCTTTCATGAACTTCCACCACCTAACACAACAGCGGCGGGCAAAAGGTAATAACGGGTTTTATAAATTTCAGGTGTAAGAAGTTCTCATTGGCCGGTCATCTCGGCAGCATCACAGTATTTGGCACACCATTTATAACAGTAGCACGATACCTGAGCCCCTCCCACCGCGATTGGGAACCCGCATCTCTAATTTATAACGACAATTTGCTCCATTGGAAACGTAACCTGACTGCTGTAGTGGTCCCAGTAAAAACCAAACAGAGGCCTTCTGGCTAACGTGTCCTTTAACCAGCCAGTCAGGACCCAAAAGATAGCTGTGTCACCCTGGGCGGCGACCCGTGTTGCTCCTTTAATGGGCGCTTCCGATAATCCAAGGCCCTTCCGAGGGCGGCTATCGTTTACGTCCAGCGCCGCGTGCACCTTGTAAATCCTTGCATTTATATCACTAGCCTTCAACATGCGGTACAATCTTCAATATACATGACTCTGGCAGGCACCGCACACAACTCTATGAGCTCCCTCAGCTATGCCAAGGCGAGAGGGGTTATTGTCCTCAAGCCCGGAAA',\n",
        "   'sequence_4': 'CCGAGAACCGCTCTCAGGATTTAACTCGGGCTTGCCAACCTGTTCTGCCGGCATTGCTGCCGAAGGACCTGGCCCTTCGCCACTAAGACCGTAGCAACGGGCGAAGCTCGGTAGACGTTGCGGGGCCTATTTAGTTGTATTCGTAACACTTCAGTTGCAAGAATTCCAACGATCCTATACTAAGTAGGAGGGCGTTGAGGCCCATGGTTACTCCCTATTACGAGTCGCCAGCAACGGCTGAACGTTCCAGTCTGACATGGATGTCCGGCTTCTGTGTATGTCCACTCTGTTTTACCCAGACACCTCGTCCCGCGCAAAGCCATGAGAAGTTGTTAGGATAGTTATCGAGCGTTTAAGTTCTATCATGTTAGACGTTAGTACAGGTAATCCTGGCACCGAAAAGAATAGAGACAAGGGGTGAGTCAAGGTTGAAGGCTGCAATGCCTGATGGATGGGCCTGTATCAGGGCGTTGGTGGACCGTAGCGGCGACATTGGGTGTGCGCTTGATGCCATTCAAAACGTGGACATCGTAAGCAAGGCGCTAGAATGTCGAGCCCTGGTATAGCCTGAGGCCAGTCTCAGCAGTCTTTGTTCTCGTTTTAGCCCGACTCCGCGTCAGGGGCACACGCTACTCAACGAAGCCGTAGGCCGTTCCGCGAAATTCTGCTTATTGGTTGACTCTCACCACAGTGCCCGGATAGCGCGCGACAGTCGACGTAGAGAGGCTGCTCCGCCTCGGTCTCCGCTTCTGCAAGTGCGGCTTAGAACCACGCGTTCTAAACCCTGTTGACCTAGAGGGGCGGTACAACCGCTGCGTCTAGATATATGGTCCGACAGGTCGGACCTTCTCTATCGAAACGCGCTCTCTGCTGGCTGAGTCACTCAATGACTCAAAGCGCTGACAACTACACATTGCAAGCTTTTTCAAGTCCTTACCCATGGCGAGTCAAGGTGTCGGATTCAGAAATAAATACCGTCTAGCTGACCATGAACCGGGAG'}),\n",
        " ('b3476',\n",
        "  {'creation_time': '6',\n",
        "   'id': 'b3476c5d3995e0d9e4033c10b13e40ae28d0c37a9133513a8fab318501636df0260d146aed12bd6a0028ff284193da0fda5b32871e4157e8025ea6bb4ce623e5',\n",
        "   'segment_number': '4',\n",
        "   'sequence_1': 'GATAGCATTCCGTGTTTCAATACTGTAGCATGCCCTAACGAAACCTACATCTATTGGCGGGATACGCCTGTTTTTATTTGGAGTGTAATTAGATCGCAAATGTTAAAGGTCCAATATCCCCATGAGGGCACACAATAGTGCACATCTAGAACACAGCGAGCGAGTACGGTTGGAGGTAGAGATGGTCTGAACTTCGGCCGAGACTCTCGGGGCCCGCCCACCATACGGATATTAATGTGTTCTCACGTCGGGGTTTAGGCCCGCGTAAAAGGAATGTCTGACCAGTACTCGTATTGCAGACAGACGGGAGCTGGACTGCGGAAAGCGTAGGACTTCTTAGCGAGTTAAGGCGCACAACGACAGTCGGCCTCACGGGCTACCACCACTTGGGACAACATTTTATAATTTCATTTCGCTCCTAAGGGCTACGACATCTTTCATGAACTTCCACCACCTAACACAACAGCGGCGGGCAAAAGGTAATAACGGGTTTTATAAATTTCAGGTGTAAGAAGTTCTCATTGGCCGGTCATCTCGGCAGCATCACAGTATTTGGCACACCATTTATAACAGTAGCACGATACCTGAGCCCCTCCCACCGCGATTGGGAACCCGCATCTCTAATTTATAACGACAATTTGCTCCATTGGAAACGTAACCTGACTGCTGTAGTGGTCCCAGTAAAAACCAAACAGAGGCCTTCTGGCTAACGTGTCCTTTAACCAGCCAGTCAGGACCCAAAAGATAGCTGTGTCACCCTGGGCGGCGACCCGTGTTGCTCCTTTAATGGGCGCTTCCGATAATCCAAGGCCCTTCCGAGGGCGGCTATCGTTTACGTCCAGCGCCGCGTGCACCTTGTAAATCCTTGCATTTATATCACTAGCCTTCAACATGCGGTACAATCTTCAATATACATGACTCTGGCAGGCACCGCACACAACTCTATGAGCTCCCTCAGCTATGCCAAGGCGAGAGGGGTTATTGTCCTCAAGCCCGGAAA',\n",
        "   'sequence_4': 'CCGAGAACCGCTCTCAGGATTTAACTCGGGCTTGCCAACCTGTTCTGCCGGCATTGCTGCCGAAGGACCTGGCCCTTCGCCACTAAGACCGTAGCAATGGGCGAAGCTCGGTAGACGTTGCGGGGCCTATTTAGTTGTATTCGTAACACTTCAGTTGCAAGAATTCCAACGATCCTATACTAAGTAGGAGGGCGTTGAGGCCCATGGTTACTCCCTATTACGAGTCGCCAGCAACGGCTGAACGTTCCAGTCTGACATGGATGTCCGGCTTCTGTGTATGTCCACTCTGTGTTACCCAGACACCTCGTCCCGCGCAAAGCCATGAGAAGTTGTTAGGATAGTTATCGACCGTTTAAGTTCTATCATGGTAGACGTTAGTACAGGTAATCCTGGCACCGAAAAGAATAGAGACAAGGGGTGAGTCAAGGTTGAAGGCTGCAATGCCTGATGGATGGGCCTGTATCAGGGAGTTGGTGGACCGTAGCGGCGACATTGGGTGTTCGCTTGATGCCATTCAAAACATGGACATCGTAAGCAAGGCGCTAGAATTTCGAGCCCTGGTATAGCCTGAGGCCAGTCTCAGCAGTCTTTGTTCTCGTTTTAGCCCGACTCCGCGTCAGGGACACCCGCTACTCAACGAAGCCGTAGGCAGTTCCGCGAAATTCTGCTTATTGGTTGACTCTCACCACAGTGCCCGGATAGCGCGCGACAGTCGACGTAGAGAGGCTGCTCCGCCTCGGTCTCTGCTTCTGCAAGTGCGGCTTAGAACCACGCGTTCTAAACCCTGTTGACCTAGAGGGGCGGTACAACCGCTGCGTCTCGATATATGGTCTGACAGGTCGGACCTTCTCTATCGAAACGCGCTCTCTGCTGGCTGAGTCACTCAATGACTCAAAGCGCTGACAACTACACAGTGCCTGCTTTTTCAAGTCCTTACCCATGGCGAGTCAAGATGTCGGATTCAGAAATAAATACCGTCTAGCTGACCATGAACCGGGAG'}),\n",
        " ('38e5c',\n",
        "  {'creation_time': '3',\n",
        "   'id': '38e5c2b0485c89a244f81daf7a0236b6cfa5ab47c6de469d37badc6358a09cefbc7f27705dddce489dfe6a1a03ab768e1c75b8328c4afcc2a5aaad5fab651df0',\n",
        "   'segment_number': '4',\n",
        "   'sequence_1': 'GATAGCATTCCGTGTTTCAATACTGTAGCATGCCCTAACGAAACCTACATCTATTGGCGGGATACGCCTGTTTTTATTTGGAGTGTAATTAGATCGCAAATGTTAAAGGTCCAATATCCCCATGAGGGCACACAATAGTGCACATCTAGAACACAGCGAGCGAGTACGGTTGGAGGTAGAGATGGTCTGAACTTCGGCCGAGACTCTCGGGGCCCGCCCACCATACGGATATTAATGTGTTCTCACGTCGGGGTTTAGGCCCGCGTAAAAGGAATGTCTGACCAGTACTCGTATTGCAGACAGACGGGAGCTGGACTGCGGAAAGCGTAGGACTTCTTAGCGAGTTAAGGCGCACAACGACAGTCGGCCTCACGGGCTACCACCACTTGGGACAACATTTTATAATTTCATTTCGCTCCTAAGGGCTACGACATCTTTCATGAACTTCCACCACCTAACACAACAGCGGCGGGCAAAAGGTAATAACGGGTTTTATAAATTTCAGGTGTAAGAAGTTCTCATTGGCCGGTCATCTCGGCAGCATCACAGTATTTGGCACACCATTTATAACAGTAGCACGATACCTGAGCCCCTCCCACCGCGATTGGGAACCCGCACCTCTAATTTATAACGACAATTTGCTCCATTGGAAACGTAACCTGACTGCTGTAGTGGTCCCAGTAAAAACCAAACAGAGGCCTTCTGGCTAACGTGTCCTTTAACCAGCCAGTCAGGACCCAAAAGATAGCTGTGTCACCCTGGGCGGCGACCCGTGTTGCTCCTTTAATGGGCGCTTCCGATAATCCAAGGCCCTTCCGAGGGCGGCTTTCGTTTACGTCCAGCGCCGCGTGCACCTTGTAAATCCTTGCATTTATATCACTAGCCTTCAACATGCGGTACAATCTTCAATATACATGACTCTGGCAGGCACCGCACACAACTCTATGAGCTCCCTCAGCTATGCCAAGGCGAGAGGGGTTATTGTCCTCAAGCCCGGAAA',\n",
        "   'sequence_4': 'CCGAGACCCGCTCTCAGGATTTAACTCGGGCTTGCCAACCTGTTCTGCCGGCATTGCTGCGGAAGGACCTGGCCCTTCGCCACTAAGACCGTAGCAATGGGCGAACCTCGGTAGACGTTGCGGGGCCTATTTAGTTGTATTCGTAACACTTCAGTTGCAAGAATTCCAACGATCCTATACTAAGTAAGAGGGCGTTGAGGCCCATGGTTACTCCCTATTACGAGTCGCAAGCAACGGCTGAACGTTCCAGTCTGACATGAATGTCCGGCTTCTGTGTATGTCCACTCTGTGTTACCCAGACACCTCGTCCCGCCCAAAGCCATGAGAAGTTGTTAGGATAGTTATCGACCGTTTAAGTTCTATCATGGTAGACGTTAGTACAGGTAATCCTGGCACCGAAAAGAATAGAGACAAGGGGTGAGTCAAGGTTGACGGCTGCAATGCCTGATGGATGGGCCTGCATCAGGGAGTTGGCGGACCGTAGCGGCGACATTGGGGGTTCGCTTGATGCCATTCAAAACATGGACATGGTAAGCAAGGCGCTAGAATTTCGAGCCCTGGTATAGCCTGAGGCCAGTCTCAGCAGTCTTTGTTCTCGTTTTTGCCCGACTCCGCGTCAGGGACACCCGCTACTCAACGAAGCCGTAGGCAGTTCCGCGAAATTCTGCTTATTGGTTGACTCTCACCACAGTGCCCGGATAGCGCGCGACAGTCGACGTAGAGAGGCTGCTCCGCCTCGGTCTCTGCTTCTGCAAGTGCGGCTTAGAACCACGCGTTCTAAACCCTGTTGACCTAGAGGGGCGGTACAACCGCTGCGTCTCGATATACGGTCTGACAGGTCGGACCTTCTCTATCGAAACGCGCTCTCTGCTGTCTGAGTCACTCAATGACTCAAGGCGCTGACAACTACACAGTGCCTGCTTTTTCAAGTCCTTACCCATGGCGAGTCAAGATGTCGGATTCAGAAATAAATACCCTCTAGCTGACCATGAACCGGGAG'}),\n",
        " ('2adc1',\n",
        "  {'creation_time': '9',\n",
        "   'id': '2adc1a2c883fd8fdb22b62dfece7ff6b8360800b36f0c8ce3b09d50b6482fb38c34e1ddabbc18aca43b5268d7f158c1daaacbe026d180fbc4f62f5e9596bb759',\n",
        "   'segment_number': '4',\n",
        "   'sequence_1': 'GATAGCATTCCGTGTTTCAATACTGTAGCATGCCCTAACGAAACCTACATCTATTGGCGGGATACGCCTGTTTTTATTTGGAGTGTAATTAGATCGCAAATGTTAAAGGTCCAATATCCCCATGAGGGCACACAATAGTGCACATCTAGAACACAGCGAGCGAGTACGGTTGGAGGTAGAGATGGTCTGAACTTCGGCCGAGACTCTCGGGGCCCGCCCACCATACGGATATTAATGTGTTCTCACGTCGGGGTTTAGGCCCGCGTAAAAGGAATGTCTGACCAGTACTCGTATTGCAGACAGACGGGAGCTGGACTGCGGAAAGCGTAGGACTTCTTAGCGAGTTAAGGCGCACAACGACAGTCGGCCTCACGGGCTACCACCACTTGGGACAACATTTTATAATTTCATTTCGCTCCTAAGGGCTACGACATCTTTCATGAACTTCCACCACCTAACACAACAGCGGCGGGCAAAAGGTAATAACGGGTTTTATAAATTTCAGGTGTAAGAAGTTCTCATTGGCCGGTCATCTCGGCAGCATCACAGTATTTGGCACACCATTTATAACAGTAGCACGATACCTGAGCCCCTCCCACCGCGATTGGGAACCCGCATCTCTAATTTATAACGACAATTTGCTCCATTGGAAACGTAACCTGACTGCTGTAGTGGTCCCAGTAAAAACCAAACAGAGGCCTTCTGGCTAACGTGTCCTTTAACCAGCCAGTCAGGACCCAAAAGATAGCTGTGTCACCCTGGGCGGCGACCCGTGTTGCTCCTTTAATGGGCGCTTCCGATAATCCAAGGCCCTTCCGAGGGCGGCTATCGTTTACGTCCAGCGCCGCGTGCACCTTGTAAATCCTTGCATTTATATCACTAGCCTTCAACATGCGGTACAATCTTCAATATACATGACTCTGGCAGGCACCGCACACAACTCTATGAGCTCCCTCAGCTATGCCAAGGCGAGAGGGGTTATTGTCCTCAAGCCCGGAAA',\n",
        "   'sequence_4': 'CCGAGAACCGCTCTCAGGATTTAACTCGGGCTTGCCAACCTGTTCTGCAGGCATTGCTGCCGAAGGACCTGGCCCTTCGCCACTAAGACCGTAGCAATGGGCGAAGCTCGGTAGACGTTGCGGGGCCTATTTAGTTGTATTCGTAACACTTCAGTTGCAACAATTCCAACGATCCTATACTAAGTAGGAGGGCGTTGAGGCCCATGGTTACTCCCTATTACGAGTCGCCAGCAACGGCTGAACGTTCCAGTCTGACATGGATGTCCGGCTTCTGTGTATGTCCACTCTGTGTTACCCAAACACCTCGTCCCGCGCAAAGCCATGAGAAGTTGTTAGGATAGTTATCGACCGTTTAAGTTCTATCATGGTAGACGTTAGTACAGGTAATCCTGGCACCGAAAAGAATAGAGACAAGGGGTGAGTCAAGGTTGAAGGCTGCAATGCCTGATGGATGGGCCTGTATCAGGGAGTTGGTGGACCGTAGCGGCGACATTGGGTGTTCGCTTGATGCCATTCAAAACATGGACATCGTAAGCAAGGCGCTAAAATTTCGAGCCCTGGTATAGCCTGAGGCCAGTCTCAGCAGTCTTTGTTCTCGTTTTAGCCCGACTCCGCGTCAGGGACACCCGCTACTCAAGGAAGCCGTAGGCAGTTCCGCGAAATTCTGCTTATTGGTGGACTCTCACCACAGTGCCCGGATAGCGCGCGACAGTCGACGTAGAGAGGCTGCTCCGCCACGGTCTCTGCTTCTGCAAGTGCGGCTTAGAACCACGCGTTCTAAACCCTGTTGACCTAGAGGGGCGGTACAACCGCTGCGTCTCGATATATGGTCTGACAGGTCGGACCTTCTCTATCGAAACGCGCTCTCTGCTGGCTGAGTCACTCAATGACTCAAAGCGCTGACAACTAAACAGTGCCTGCTTTTTCAAGTCCTTACCCATGGCGAGTCAAGATGTCGGATTCAGAAATAAATACCGTCTAGCTGACCATGAACCGGGAG'}),\n",
        " ('1911d',\n",
        "  {'creation_time': '4',\n",
        "   'id': '1911d1ba3222fabd2179811fb4ec11b1c98c23f90d7b4a18a389a9c64e467a33f6d7ba4f20abc8acde1ebdda459fd431cc40296e91b2f32b3408988325854e39',\n",
        "   'segment_number': '4',\n",
        "   'sequence_1': 'GATAGCATTCCGTGTTTCAATACTGTAGCATGCCCTAACGAAACCTACATCTATTGGCGGGATACGCCTGTTTTTATTTGGAGTGTAATTAGATCGCAAATGTTAAAGGTCCAATATCCCCATGAGGGCACACAATAGTGCACATCTAGAACACAGCGAGCGAGTACGGTTGGAGGTAGAGATGGTCTGAACTTCGGCCGAGACTCTCGGGGCCCGCCCACCATACGGATATTAATGTGTTCTCACGTCGGGGTTTAGGCCCGCGTAAAAGGAATGTCTGACCAGTACTCGTATTGCAGACAGACGGGAGCTGGACTGCGGAAAGCATAGGACTTCTTAGCGAGTTAAGGCGCACAACGACAGTCGGCCTCACGGGCTACCACCACTTGGGACAACATTTTATAATTTCATTTCGCTCCTAAGGGCTACGACATCTTTCATGAACTTCCACCACCTAACACAACAGCGGCGGGCAAAAGGTAATAACGGGTTTTATAAATTTCAGGTGTAAGAAGTCCTCATTGGCCGGTCATCTCGGCAGCATCACAGTATTTGGCACACCATTTATAACAGTAGCACGATACTTGAGCCCCTCCCACCGCGATTGGGAACCCGCACCTCTAATTTATAACGACAATTTGCTCCATTGGAAACGTAACCTGACTGCTGTAGTGGTCCCAGTAAAAACCAAACAGAGGCCTTCTGGCTAACGTGTCCATTAACCAGCCAGTCAGGACCCAAAAGATAGCTGTGTCACCCTGGGCGGCGACCCGTGTTGCTCCTTTAATGGGCGCTTCCGATAATCCTAGGCCCTTCCGAGGGCGGCTTTCGTTTACGTCCAGCGCCGCGTGCACCTTGTAAATCCTTGCATTTATATCACTAGCCTTCAACATGCGGTACAATCTTCAATCTACATGACTCTGGCAGGCACCGCACACAACTCTATGAGCTCCCTCAGCTATGCCAAGGCGAGAGGGTTTATTGTCCTCAAGCCCGGAAA',\n",
        "   'sequence_4': 'AATATCTATCTTCGTGACTGTAACGGAAGTATTTCCCATAGGATCATCATAGCGCAGCGAAATTTCTTTGCGAGCAATGACTGGCTAGCTCAGATTGAATTTTGAGTATTGCCACCGGACGTACTATTCCTCCTCCGGTCCTAGTGGATGACATAGTGGGTCTTAACATCACAGCGGACTCAAGGAGTACCACGTATCTTAACTCTTTTCAGTGGTGAAAGCGGCGATAAGTCAATGTCGGTATTGCTGGAGTGTATGCGCATCCGTCGGGAGCATACCGACTAGAAGACTATTCCAAGAAAGTCCATACGGCGTATCTCATCCAAAATAGGCGTACTGCTGAGCATGCCCTATTTCGGTTGCTCGCCTGTGATTCCGAGGACGGACACCCACTGCACCTATCTCAGTTCATAATATATCCTAGCTCGGCGTTGAGGCATTCAAGGGCTGTCCCAGATGAGATAACGGGAATACCCAGAACCCTATCTTTTTAAGTTTTGTTTGAACGCACGGACGTGGAAATACGCGTTCTGCGTGCGGATCCGGGTGTATTTCAGCGGGATCTCATACCGGTGCCTCCCTTCGTACTTGCGCTACCCCATGTACTTTGCTCCCGACATCTCTAAAATCGACTGTAGTCCGACAGGTAGCATGTCGCTTACGTCGCAGTCTGACTGGTTTTATAGATGAACGGGTGGCGAGAATTCCGGCTAGCGGTGTCAGTACATGCTAATGATGAGGTGTGCCGATGTCGGAAGGTCGTAGTCGGTGATAGGCTCCGATTGCCGCACAAACTCTCGTCAGACGCTGAATTTGATGACCTCGAGGGTGTCGCCTCGTTCCTTGCTCATGCCCATGCACCAATGTATTAGGAATCTCATTTTGTTGCTGGAATGGCGGTGGGAGTGATGAAGAAGCGCTGGTCCACAGTTAATGATTAACCCAACACGAATCTAACCAGGTCGCTTCATCCTACGTCTTTTAGACCTGTTCTGGCGAC'}),\n",
        " ('640ef',\n",
        "  {'creation_time': '2',\n",
        "   'id': '640ef8700832dc1d2191f6d80ea25b21b884996b5bb42ac43cef5fb156fc3dcc410f0a8223ea5627100ec63266e33fc7d6a22b262c6207b2e038fd8ea178179c',\n",
        "   'segment_number': '4',\n",
        "   'sequence_1': 'GATAGCATTCCGTGTTTCAATACTGTAGCATGCCCTAACGAAACCTACATCTATTGGCGGGATACGCCTGTTTTTATTTGGAGTGTAATTAGATCGCAAATGTTAAAGGTCCAATATCCCCATGAGGGCACACAATAGTGCACATCTAGAACACAGCGAGCGAGTACGGTTGGAGGTAGAGATGGTCTGAACTTCGGCCGAGACTCTCGGGGCCCGCCCACCATACGGATATTAATGTGTTCTCACGTCGGGGTTTAGGCCCGCGTAAAAGGAATGTCTGACCAGTACTCGTATTGCAGACAGACGGGAGCTGGACTGCGGAAAGCGTAGGACTTCTTAGCGAGTTAAGGCGCACAACGACAGTCGGCCTCACGGGCTACCACCACTTGGGACAACATTTTATAATTTCATTTCGCTCCTAAGGGCTACGACATCTTTCATGAACTTCCACCACCTAACACAACAGCGGCGGGCAAAAGGTAATAACGGGTTTTATAAATTTCAGGTGTAAGAAGTCCTCATTGGCCGGTCATCTCGGCAGCATCACAGTATTTGGCACACCATTTATAACAGTAGCACGATACTTGAGCCCCTCCCACCGCGATTGGGAACCCGCACCTCTAATTTATAACGACAATTTGCTCCATTGGAAACGTAACCTGACTGCTGTAGTGGTCCCAGTAAAAACCAAACAGAGGCCTTCTGGCTAACGTGTCCATTAACCAGCCAGTCAGGACCCAAAAGATAGCTGTGTCACCCTGGGCGGCGACCCGTGTTGCTCCTTTAATGGGCGCTTCCGATAATCCAAGGCCCTTCCGAGGGCGGCTTTCGTTTACGTCCAGCGCCGCGTGCACCTTGTAAATCCTTGCATTTATATCACTAGCCTTCAACATGCGGTACAATCTTCAATCTACATGACTCTGGCAGGCACCGCACACAACTCTATGAGCTCCCTCAGCTATGCCAAGGCGAGAGGGGTTATTGTCCTCAAGCCCGGAAA',\n",
        "   'sequence_4': 'AATATCTATCTTCGTGACTGTAACGGAAGTATTTCCCATAGGATCATCATAGCGCAGCGAAATTTCTTTGCGAGCAATGACTGGCTAGCTCAGATTGAATTTTGAGTATTGCCACCGGACGGACTATTCCTCCTCCGGTCCTAGTGGATGACATAGTGGGTCTTAACATCACAGCGGACTCAAGGAGTACCACGTATCTTAACTCTTTTCAGTGGTGAAAGCGGCGATAAGTCAATGTCGGTATTGCTGGAGTGTATGCGCATCCGTCGGGAGCATACCGACTAGAAGTCTATTCCAAGAAAGTCCATACGGCGTATCTCATCCAAAATAGGGGTACTGCTGAGCATGCCCTATTTCGGTTGCTCGCCTGTGATTCCGAGGACGGACACCCACTGCACCTATCTCAGTTCATAATAGATCCTAGCTCGGCGTTGAGGCATTCAAGGGCTGTCCCAGATGAGATAACGGGAATACCCAGAACCCTATCTTTTTAAGTTTTGTTTGAACGCACGGACGTGGAAATACGCGTTCTGCGTGCGGATCCGGGTGTATTTCAGCGGGATCTCATACCGGTGCCTCCCTTCGTACTTGCGCTACCCCATGTACTTTGCTCCCGACATCTCTAAAATCGACTGTAGTCCGACAGGTAGCATGTCGCTTACGTCGCAGTCTGACTGGTTTTATAGATGAACGGGTGGCGAGAATTCCGGCTTGCGGTGTCAGTACATGCTAATGATGAGGTGTGCCGATGTCGGAAGGTCGTAGTCGGTGATAGGCTCCGATTGCCGCACAAACGCTCGTCAGACGCTGAATTTGATGACCTCGAGGGTGTCGCCTCGTTCCTTGCTCATGCCCATGCACCAATGTATTAGGAATCTCATTTTGTTGCTGGAATGTCGGTGGGAGTGATGAAGAAGCGCTGGTCCACAGTTAATGATTAACCCAACACGAATCTAACCAGGTCGCTTCATCCTACGTCTTTTAGACCTGTTCTGGCGAC'}),\n",
        " ('debd6',\n",
        "  {'creation_time': '0',\n",
        "   'id': 'debd6a49e353e93fc079755eec90aad9fae178821de9dbcf06c23082ce6ac68b68ae6822ae514985e70f31f0a88f713bdf23be34b3ace649f1bb997a5dc82363',\n",
        "   'segment_number': '4',\n",
        "   'sequence_1': 'GATAGCATTCCGTGTTTCAATACTGTAGCATGCCCTAACGAAACCTACATCTATTGGCGGGATACGCCTGTTTTTATTTGGAGTGTAATTAGATCGCAAATGTTAAAGGTCCAATATCCCCATGAGGGCACACAATAGTGCACATCTAGAACACAGCGAGCGAGTACGGTTGGAGGTAGAGATGGTCTGAACTTCGGCCGAGACTCTCGGGGCCCGCCCACCATACGGATATTAATGTGTTCTCACGTCGGGGTTTAGGCCCGCGTAAAAGGAATGTCTGACCAGTACTCGTATTGCAGACAGACGGGAGCTGGACTGCGGAAAGCGTAGGACTTCTTAGCGAGTTAAGGCGCACAACGACAGTCGGCCTCACGGGCTACCACCACTTGGGACAACATTTTATAATTTCATTTCGCTCCTAAGGGCTACGACATCTTTCATGAACTTCCACCACCTAACACAACAGCGGCGGGCAAAAGGTAATAACGGGTTTTATAAATTTCAGGTGTAAGAAGTTCTCATTGGCCGGTCATCTCGGCAGCATCACAGTATTTGGCACACCATTTATAACAGTAGCACGATACCTGAGCCCCTCCCACCGCGATTGGGAACCCGCACCTCTAATTTATAACGACAATTTGCTCCATTGGAAACGTAACCTGACTGCTGTAGTGGTCCCAGTAAAAACCAAACAGAGGCCTTCTGGCTAACGTGTCCTTTAACCAGCCAGTCAGGACCCAAAAGATAGCTGTGTCACCCTGGGCGGCGACCCGTGTTGCTCCTTTAATGGGCGCTTCCGATAATCCAAGGCCCTTCCGAGGGCGGCTTTCGTTTACGTCCAGCGCCGCGTGCACCTTGTAAATCCTTGCATTTATATCACTAGCCTTCAACATGCGGTACAATCTTCAATATACATGACTCTGGCAGGCACCGCACACAACTCTATGAGCTCCCTCAGCTATGCCAAGGCGAGAGGGGTTATTGTCCTCAAGCCCGGAAA',\n",
        "   'sequence_4': 'AATATCTATCTTCGTGACTGTAACGGAAGTATTTCCCATAGGATCATCATAGCGCAGCGAAATTTCTTTGCGAGCAATGACTGGCTAGCTAAGATTGAATTTTGAGTATTGCGACCGGACGGACTATTCCTCCTCCGGTCCTAGTGGATGACGTAGCGGGTCTTAACATCACAGCGGACTCAAGGAGTACAACGTATCTTAACTCTTTTCAGTGGTGAAAGCGGCGATAAGTCAATGTCGGTATTGCTGGAGTGTATGCGCATCGGTCGGGAGCATACCGACTAGAAGTCTATGCCAAGAAAGTCCATACGGCGTATCTCATCCAAAATAGGGGTACTGCTGAGCATGCCCTATTTCGGTTGCTCGCCTGTGATTCCGAGGACGGACACCCACTGCACCTATCTCATTTCATAATAGATCCTAGCTCGGCGTTGAGGCATTCAAGGGCTGTCCCAGATGAGATAACGGGAATACCCAGAACCCTATCTTTTTAAGTTTTGTTTGAACGCACGGACGTGGAAATACGCGTTCTGCGTGCGGATCCGGGTGTATTTCAGCGGGATCTCATACCGGTGCCTCCCTTCGTACTTGCGCTACCCCATGTACTTTGCTCCCGACATCTCTAAAATCGACTGTAGTCCGACAGGTAGCATGTCGCTTACGTCGCAGTCTGACTGGTTTTATAGATGAACGGGTGGCGAGAATTCCGGCTTGCGGTGTCAGTACATGCTAATGATGAGGTGTGCCGATGTCGGAAGGTCGTAGTCGGTGATAGGCACCGATTGCCGCACAAACGCTCGTCAGACGCTGAATTTTATGACCTCGAGGGTGTCGCCTCGTGCCTTGCTCATGCCCATGCACCAATGTATTAGGAATCTCATTTTGTTGCTGGAATGTCGGTGGGAGTGATGAAGAAGCGCTGGTCCACAGTTAATGTTTAACCCAACACGAATCTAACCAGGTCGCTTCATCCTACGTCTTTTAGACCTGTTCTGGCGAT'}),\n",
        " ('6cb43',\n",
        "  {'creation_time': '1',\n",
        "   'id': '6cb437af0f7bc49874f17e46de85820cf77ae6049ef02115d7145e545eaa0858f54dcf58f0f1002d8f7c320d78ffba835ec99ee09192d2e4cb46d831e43fdc6d',\n",
        "   'segment_number': '4',\n",
        "   'sequence_1': 'GATAGCATTCCGTGTTTCAATACTGTAGCATGCCCTAACGAAACCTACATCTATTGGCGGGATACGCCTGTTTTTATTTGGAGTGTAATTAGATCGCAAATGTTAAAGGTCCAATATCCCCATGAGGGCACACAATAGTGCACATCTAGAACACAGCGAGCGAGTACGGTTGGAGGTAGAGATGGTCTGAACTTCGGCCGAGACTCTCGGGGCCCGCCCACCATACGGATATTAATGTGTTCTCACGTCGGGGTTTAGGCCCGCGTAAAAGGAATGTCTGACCAGTACTCGTATTGCAGACAGACGGGAGCTGGACTGCGGAAAGCGTAGGACTTCTTAGCGAGTTAAGGCGCACAACGACAGTCGGCCTCACGGGCTACCACCACTTGGGACAACATTTTATAATTTCATTTCGCTCCTAAGGGCTACGACATCTTTCATGAACTTCCACCACCTAACACAACAGCGGCGGGCAAAAGGTAATAACGGGTTTTATAAATTTCAGGTGTAAGAAGTTCTCATTGGCCGGTCATCTCGGCAGCATCACAGTATTTGGCACACCATTTATAACAGTAGCACGATACCTGAGCCCCTCCCACCGCGATTGGGAACCCGCACCTCTAATTTATAACGACAATTTGCTCCATTGGAAACGTAACCTGACTGCTGTAGTGGTCCCAGTAAAAACCAAACAGAGGCCTTCTGGCTAACGTGTCCTTTAACCAGCCAGTCAGGACCCAAAAGATAGCTGTGTCACCCTGGGCGGCGACCCGTGTTGCTCCTTTAATGGGCGCTTCCGATAATCCAAGGCCCTTCCGAGGGCGGCTTTCGTTTACGTCCAGCGCCGCGTGCACCTTGTAAATCCTTGCATTTATATCACTAGCCTTCAACATGCGGTACAATCTTCAATATACATGACTCTGGCAGGCACCGCACACAACTCTATGAGCTCCCTCAGCTATGCCAAGGCGAGAGGGGTTATTGTCCTCAAGCCCGGAAA',\n",
        "   'sequence_4': 'AATATCTATCTTCGTGACTGTAACGGAAGTATTTCCCATAGGATCATCATAGCGCAGCGAAATTTCTTTGCGAGCAATGACTGGCTAGCTAAGATTGAATTTTGAGTATTGCCACCGGACGGACTATTCCTCCTCCGGTCCTAGTGGATGACATAGCGGGTCTTAACATCACAGCGGACTCAAGGAGTACAACGTATCTTAACTCTTTTCAGTGGTGAAAGCGGCGATAAGTCAATGTCGGTATTGCTGGAGTGTATGCGCATCCGTCGGGAGCATACCGACTAGAAGTCTATGCCAAGAAAGTCCATACGGCGTATCTCATCCAAAATAGGGGTACTGCTGAGCATGCCCTATTTCGGTTGCTCGCCTGTGATTCCGAGGACGGACACCCACTGCACCTATCTCAGTTCATAATAGATCCTAGCTCGGCGTTGAGGCATTCAAGGGCTGTCCCAGATGAGATAACGGGAATACCCAGAACCCTATCTTTTTAAGTTTTGTTTGAACGCACGGACGTGGAAATACGCGTTCTGCGTGCGGATCCGGGTGTATTTCAGCGGGATCTCATACCGGTGCCTCCCTTCGTACTTGCGCTACCCCATGTACTTTGCTCCCGACATCTCTAAAATCGACTGTAGTCCGACAGGTAGCATGTCGCTTACGTCGCAGTCTGACTGGTTTTATAGATGAACGGGTGGCGAGAATTCCGGCTTGCGGTGTCAGTACATGCTAATGATGAGGTGTGCCGATGTCGGAAGGTCGTAGTCGGTGATAGGCTCCGATTGCCGCACAAACGCTCGTCAGACGCTGAATTTGATGACCTCGAGGGTGTCGCCTCGTGCCTTGCTCATGCCCATGCACCAATGTATTAGGAATCTCATTTTGTTGCTGGAATGTCGGTGGGAGTGATGAAGAAGCGCTGGTCCACAGTTAATGATTAACCCAACACGAATCTAACCAGGTCGCTTCATCCTACGTCTTTTAGACCTGTTCTGGCGAC'})]"
       ]
      }
     ],
     "prompt_number": 24
    },
    {
     "cell_type": "code",
     "collapsed": false,
     "input": [
      "# This code is used for drawing.\n",
      "from random import randint\n",
      "\n",
      "randints = []\n",
      "for node in r.condensed_graph.nodes(data=True):\n",
      "    randints.append(randint(1, 20))\n",
      "print randints\n",
      "\n",
      "reconstruction_positions = dict()\n",
      "for i, node in enumerate(sorted(r.condensed_graph.nodes(data=True))):\n",
      "    reconstruction_positions[node[0]] = (int(node[1]['creation_time']), randints[i])\n",
      "    \n",
      "print len(reconstruction_positions)\n",
      "nx.draw(r.condensed_graph, pos=reconstruction_positions)"
     ],
     "language": "python",
     "metadata": {},
     "outputs": [
      {
       "output_type": "stream",
       "stream": "stdout",
       "text": [
        "[13, 13, 7, 6, 17, 16, 8, 3, 8, 10, 17, 1]\n",
        "12\n"
       ]
      },
      {
       "metadata": {},
       "output_type": "display_data",
       "png": "[encoded data removed]",
       "text": [
        "<matplotlib.figure.Figure at 0x1064ef3d0>"
       ]
      }
     ],
     "prompt_number": 25
    },
    {
     "cell_type": "code",
     "collapsed": false,
     "input": [
      "simulation_positions = dict()\n",
      "\n",
      "print randints\n",
      "for i, pathogen in enumerate(s.pathogens):\n",
      "    simulation_positions[pathogen] = reconstruction_positions[str(pathogen)]\n",
      "    \n",
      "print len(simulation_positions)\n",
      "nx.draw(s.transmission_graph, pos=simulation_positions)"
     ],
     "language": "python",
     "metadata": {},
     "outputs": [
      {
       "output_type": "stream",
       "stream": "stdout",
       "text": [
        "[13, 13, 7, 6, 17, 16, 8, 3, 8, 10, 17, 1]\n",
        "12\n"
       ]
      },
      {
       "metadata": {},
       "output_type": "display_data",
       "png": "[encoded data removed]",
       "text": [
        "<matplotlib.figure.Figure at 0x1064e7f90>"
       ]
      }
     ],
     "prompt_number": 26
    },
    {
     "cell_type": "code",
     "collapsed": false,
     "input": [
      "r.condensed_graph.edges(data=True)"
     ],
     "language": "python",
     "metadata": {},
     "outputs": [
      {
       "metadata": {},
       "output_type": "pyout",
       "prompt_number": 27,
       "text": [
        "[('69255', '29541', {'segments': [1, 4], 'weight': 16}),\n",
        " ('69255', 'bd038', {'segments': [1, 4], 'weight': 14}),\n",
        " ('807f8', 'b3476', {'segments': [1, 4], 'weight': 10}),\n",
        " ('807f8', '38e5c', {'segments': [1, 4], 'weight': 9}),\n",
        " ('b3476', '69255', {'segments': [1, 4], 'weight': 6}),\n",
        " ('b3476', '2adc1', {'segments': [1, 4], 'weight': 8}),\n",
        " ('38e5c', 'dcb99', {'segments': [1, 4], 'weight': 8}),\n",
        " ('640ef', '1911d', {'segments': [1, 4], 'weight': 10}),\n",
        " ('debd6', '6cb43', {'segments': [1, 4], 'weight': 8}),\n",
        " ('6cb43', '640ef', {'segments': [1, 4], 'weight': 9})]"
       ]
      }
     ],
     "prompt_number": 27
    },
    {
     "cell_type": "code",
     "collapsed": false,
     "input": [
      "for virus in s.identify_reassortants():\n",
      "    print virus"
     ],
     "language": "python",
     "metadata": {},
     "outputs": [],
     "prompt_number": 28
    },
    {
     "cell_type": "code",
     "collapsed": false,
     "input": [
      "for virus in r.identify_reassortants():\n",
      "    print virus[0]"
     ],
     "language": "python",
     "metadata": {},
     "outputs": [],
     "prompt_number": 29
    },
    {
     "cell_type": "code",
     "collapsed": false,
     "input": [
      "s.transmission_graph.edges(data=True)"
     ],
     "language": "python",
     "metadata": {},
     "outputs": [
      {
       "metadata": {},
       "output_type": "pyout",
       "prompt_number": 30,
       "text": [
        "[(640ef, 1911d, {'weight': 1.0}),\n",
        " (debd6, 6cb43, {'weight': 1.0}),\n",
        " (69255, 29541, {'weight': 1.0}),\n",
        " (69255, bd038, {'weight': 1.0}),\n",
        " (b3476, 69255, {'weight': 1.0}),\n",
        " (b3476, 2adc1, {'weight': 1.0}),\n",
        " (38e5c, dcb99, {'weight': 1.0}),\n",
        " (6cb43, 640ef, {'weight': 1.0}),\n",
        " (807f8, 38e5c, {'weight': 1.0}),\n",
        " (807f8, b3476, {'weight': 1.0})]"
       ]
      }
     ],
     "prompt_number": 30
    },
    {
     "cell_type": "markdown",
     "metadata": {},
     "source": [
      "# Test Relabeled Graph"
     ]
    },
    {
     "cell_type": "code",
     "collapsed": false,
     "input": [
      "s.relabel_transmission_graph()\n",
      "s.relabeled_transmission_graph.edges()"
     ],
     "language": "python",
     "metadata": {},
     "outputs": [
      {
       "metadata": {},
       "output_type": "pyout",
       "prompt_number": 31,
       "text": [
        "[('69255', '29541'),\n",
        " ('69255', 'bd038'),\n",
        " ('38e5c', 'dcb99'),\n",
        " ('807f8', 'b3476'),\n",
        " ('807f8', '38e5c'),\n",
        " ('b3476', '2adc1'),\n",
        " ('b3476', '69255'),\n",
        " ('6cb43', '640ef'),\n",
        " ('640ef', '1911d'),\n",
        " ('debd6', '6cb43')]"
       ]
      }
     ],
     "prompt_number": 31
    },
    {
     "cell_type": "code",
     "collapsed": false,
     "input": [
      "r.condensed_graph.edges()"
     ],
     "language": "python",
     "metadata": {},
     "outputs": [
      {
       "metadata": {},
       "output_type": "pyout",
       "prompt_number": 32,
       "text": [
        "[('69255', '29541'),\n",
        " ('69255', 'bd038'),\n",
        " ('807f8', 'b3476'),\n",
        " ('807f8', '38e5c'),\n",
        " ('b3476', '69255'),\n",
        " ('b3476', '2adc1'),\n",
        " ('38e5c', 'dcb99'),\n",
        " ('640ef', '1911d'),\n",
        " ('debd6', '6cb43'),\n",
        " ('6cb43', '640ef')]"
       ]
      }
     ],
     "prompt_number": 32
    },
    {
     "cell_type": "code",
     "collapsed": false,
     "input": [
      "float(len(r.condensed_graph.edges()))/float(len(s.relabeled_transmission_graph.edges()))"
     ],
     "language": "python",
     "metadata": {},
     "outputs": [
      {
       "metadata": {},
       "output_type": "pyout",
       "prompt_number": 33,
       "text": [
        "1.0"
       ]
      }
     ],
     "prompt_number": 33
    },
    {
     "cell_type": "code",
     "collapsed": false,
     "input": [
      "float(len(r.identify_reassortants()))/float(len(s.identify_reassortants()))"
     ],
     "language": "python",
     "metadata": {},
     "outputs": [
      {
       "ename": "ZeroDivisionError",
       "evalue": "float division by zero",
       "output_type": "pyerr",
       "traceback": [
        "\u001b[0;31m---------------------------------------------------------------------------\u001b[0m\n\u001b[0;31mZeroDivisionError\u001b[0m                         Traceback (most recent call last)",
        "\u001b[0;32m<ipython-input-34-4e57c43b88ac>\u001b[0m in \u001b[0;36m<module>\u001b[0;34m()\u001b[0m\n\u001b[0;32m----> 1\u001b[0;31m \u001b[0mfloat\u001b[0m\u001b[0;34m(\u001b[0m\u001b[0mlen\u001b[0m\u001b[0;34m(\u001b[0m\u001b[0mr\u001b[0m\u001b[0;34m.\u001b[0m\u001b[0midentify_reassortants\u001b[0m\u001b[0;34m(\u001b[0m\u001b[0;34m)\u001b[0m\u001b[0;34m)\u001b[0m\u001b[0;34m)\u001b[0m\u001b[0;34m/\u001b[0m\u001b[0mfloat\u001b[0m\u001b[0;34m(\u001b[0m\u001b[0mlen\u001b[0m\u001b[0;34m(\u001b[0m\u001b[0ms\u001b[0m\u001b[0;34m.\u001b[0m\u001b[0midentify_reassortants\u001b[0m\u001b[0;34m(\u001b[0m\u001b[0;34m)\u001b[0m\u001b[0;34m)\u001b[0m\u001b[0;34m)\u001b[0m\u001b[0;34m\u001b[0m\u001b[0m\n\u001b[0m",
        "\u001b[0;31mZeroDivisionError\u001b[0m: float division by zero"
       ]
      }
     ],
     "prompt_number": 34
    },
    {
     "cell_type": "code",
     "collapsed": false,
     "input": [
      " "
     ],
     "language": "python",
     "metadata": {},
     "outputs": []
    }
   ],
   "metadata": {}
  }
 ]
}