{
 "metadata": {
  "name": "",
  "signature": "sha256:17270cc033270ef55d17c44f2844f2a16fd97f27814e2c2281eb94e61df8cd4c"
 },
 "nbformat": 3,
 "nbformat_minor": 0,
 "worksheets": [
  {
   "cells": [
    {
     "cell_type": "code",
     "collapsed": false,
     "input": [
      "from pathogen import Pathogen\n",
      "from segment import Segment\n",
      "from sequence import Sequence\n",
      "from simulator import Simulator"
     ],
     "language": "python",
     "metadata": {},
     "outputs": [],
     "prompt_number": 1
    },
    {
     "cell_type": "code",
     "collapsed": false,
     "input": [
      "# Initialize sequences\n",
      "sequence_PB2 = Sequence(length=1000) #this is representative of segment 1, PB2\n",
      "sequence_H1 = Sequence(length=1000) #this is representative of segment 4, H1\n",
      "sequence_H2 = Sequence(length=1000) #this is representative of segment 4, H2"
     ],
     "language": "python",
     "metadata": {},
     "outputs": [],
     "prompt_number": 2
    },
    {
     "cell_type": "code",
     "collapsed": false,
     "input": [
      "# Initialize segments\n",
      "segment_PB2 = Segment(segment_number=1, substitution_rate=1E-3, sequence=sequence_PB2)\n",
      "segment_H1 = Segment(segment_number=4, substitution_rate=1E-2, sequence=sequence_H1)\n",
      "segment_H2 = Segment(segment_number=4, substitution_rate=1E-2, sequence=sequence_H2)"
     ],
     "language": "python",
     "metadata": {},
     "outputs": [],
     "prompt_number": 3
    },
    {
     "cell_type": "code",
     "collapsed": false,
     "input": [
      "# Add segments to seed viruses\n",
      "virus_H1 = Pathogen(segments=[segment_PB2, segment_H1], creation_time=0, progeny_size=(1.2, 0.5))\n",
      "virus_H2 = Pathogen(segments=[segment_PB2, segment_H2], creation_time=0, progeny_size=(1.2, 0.5))"
     ],
     "language": "python",
     "metadata": {},
     "outputs": [],
     "prompt_number": 4
    },
    {
     "cell_type": "code",
     "collapsed": false,
     "input": [
      "# Subclass the Simulator class for a specific implementation of the increment_timestep() function.\n",
      "from random import random, choice, sample\n",
      "class ViralSimulator(Simulator):\n",
      "    \n",
      "    def increment_timestep(self):\n",
      "        cointoss = random()\n",
      "        threshold = 0.8\n",
      "        \n",
      "        if cointoss <= threshold:\n",
      "            chosen_virus = choice(self.pathogens)\n",
      "            new_virus = chosen_virus.replicate(current_time=self.current_time)\n",
      "            \n",
      "        if cointoss > threshold:\n",
      "            [virus1, virus2] = sample(self.pathogens, 2)\n",
      "            new_virus = virus1.reassort_with(virus2, current_time=self.current_time)\n",
      "        \n",
      "        self.pathogens.append(new_virus)"
     ],
     "language": "python",
     "metadata": {},
     "outputs": [],
     "prompt_number": 5
    },
    {
     "cell_type": "code",
     "collapsed": false,
     "input": [
      "s = ViralSimulator()"
     ],
     "language": "python",
     "metadata": {},
     "outputs": [],
     "prompt_number": 6
    },
    {
     "cell_type": "code",
     "collapsed": false,
     "input": [
      "s.add_pathogens([virus_H1, virus_H2])"
     ],
     "language": "python",
     "metadata": {},
     "outputs": [],
     "prompt_number": 7
    },
    {
     "cell_type": "code",
     "collapsed": false,
     "input": [
      "s.run(timesteps=10)"
     ],
     "language": "python",
     "metadata": {},
     "outputs": [
      {
       "output_type": "stream",
       "stream": "stdout",
       "text": [
        "{85773: [1, 4]}\n",
        "{fef02: [1, 4]}\n",
        "{0670f: [1, 4]}\n",
        "{fef02: [1, 4]}\n",
        "{1eab5: [1, 4]}\n",
        "{180d4: [1, 4]}\n",
        "{dec4f: [1, 4]}\n",
        "{1eab5: [1, 4]}\n"
       ]
      }
     ],
     "prompt_number": 8
    },
    {
     "cell_type": "code",
     "collapsed": false,
     "input": [
      "s.write_transmission_graph(outfile_name=\"outfile_test\", folder_name='Network Pickles')"
     ],
     "language": "python",
     "metadata": {},
     "outputs": [],
     "prompt_number": 9
    },
    {
     "cell_type": "code",
     "collapsed": false,
     "input": [
      "s.write_sequences(outfile_name=\"outfile_test\", folder_name='FASTA Files')"
     ],
     "language": "python",
     "metadata": {},
     "outputs": [],
     "prompt_number": 10
    },
    {
     "cell_type": "code",
     "collapsed": false,
     "input": [
      "s.transmission_graph().nodes(data=True)"
     ],
     "language": "python",
     "metadata": {},
     "outputs": [
      {
       "metadata": {},
       "output_type": "pyout",
       "prompt_number": 11,
       "text": [
        "[(1eab5, {'creation_time': 3}),\n",
        " (e02ca, {'creation_time': 6}),\n",
        " (0670f, {'creation_time': 2}),\n",
        " (85773, {'creation_time': 0}),\n",
        " (dec4f, {'creation_time': 4}),\n",
        " (ec974, {'creation_time': 8}),\n",
        " (79f72, {'creation_time': 5}),\n",
        " (cd044, {'creation_time': 7}),\n",
        " (fef02, {'creation_time': 0}),\n",
        " (180d4, {'creation_time': 1}),\n",
        " (60bce, {'creation_time': 9})]"
       ]
      }
     ],
     "prompt_number": 11
    },
    {
     "cell_type": "markdown",
     "metadata": {},
     "source": [
      "# Prototype code for Reconstructor class"
     ]
    },
    {
     "cell_type": "code",
     "collapsed": false,
     "input": [
      "from Bio import SeqIO"
     ],
     "language": "python",
     "metadata": {},
     "outputs": [],
     "prompt_number": 12
    },
    {
     "cell_type": "code",
     "collapsed": false,
     "input": [
      "# Initialize a dictionary that contains all of the sequences, split by segment.\n",
      "sequences_dictionary = dict()\n",
      "sequences_dictionary[1] = []\n",
      "sequences_dictionary[4] = []\n",
      "sequences_dictionary"
     ],
     "language": "python",
     "metadata": {},
     "outputs": [
      {
       "metadata": {},
       "output_type": "pyout",
       "prompt_number": 13,
       "text": [
        "{1: [], 4: []}"
       ]
      }
     ],
     "prompt_number": 13
    },
    {
     "cell_type": "code",
     "collapsed": false,
     "input": [
      "# Read in the sequences\n",
      "sequences = [record for record in SeqIO.parse('FASTA Files/outfile_test.fasta', 'fasta')]\n",
      "sequences"
     ],
     "language": "python",
     "metadata": {},
     "outputs": [
      {
       "metadata": {},
       "output_type": "pyout",
       "prompt_number": 14,
       "text": [
        "[SeqRecord(seq=Seq('GTGCTTTCATTCTAGAGCTCCATATGATGTATGATGTAAAACGACGGGCTTCAA...AAT', SingleLetterAlphabet()), id='85773fcc99ef29d5e301ddecf8cb0f29ee5c5b6297f8511285cc07b4862c2f0180a586eedbdf518ab73395a9eaf17a462272af61ae01828fc1eea12bb3f2e4ad|1|0', name='85773fcc99ef29d5e301ddecf8cb0f29ee5c5b6297f8511285cc07b4862c2f0180a586eedbdf518ab73395a9eaf17a462272af61ae01828fc1eea12bb3f2e4ad|1|0', description='85773fcc99ef29d5e301ddecf8cb0f29ee5c5b6297f8511285cc07b4862c2f0180a586eedbdf518ab73395a9eaf17a462272af61ae01828fc1eea12bb3f2e4ad|1|0 <unknown description>', dbxrefs=[]),\n",
        " SeqRecord(seq=Seq('TTGTATCATATTCAGGGGCGTCCAGATCCCGACCGTACTTGGGAGTTCCGGGTT...TTT', SingleLetterAlphabet()), id='85773fcc99ef29d5e301ddecf8cb0f29ee5c5b6297f8511285cc07b4862c2f0180a586eedbdf518ab73395a9eaf17a462272af61ae01828fc1eea12bb3f2e4ad|4|0', name='85773fcc99ef29d5e301ddecf8cb0f29ee5c5b6297f8511285cc07b4862c2f0180a586eedbdf518ab73395a9eaf17a462272af61ae01828fc1eea12bb3f2e4ad|4|0', description='85773fcc99ef29d5e301ddecf8cb0f29ee5c5b6297f8511285cc07b4862c2f0180a586eedbdf518ab73395a9eaf17a462272af61ae01828fc1eea12bb3f2e4ad|4|0 <unknown description>', dbxrefs=[]),\n",
        " SeqRecord(seq=Seq('GTGCTTTCATTCTAGAGCTCCATATGATGTATGATGTAAAACGACGGGCTTCAA...AAT', SingleLetterAlphabet()), id='fef021671ed191a355cfd8d47ab435073da74cb5936026f559e987570e79a54e504e5940700d8d92df61203d7042d670862a0f337c149ff429a5cead45a84632|1|0', name='fef021671ed191a355cfd8d47ab435073da74cb5936026f559e987570e79a54e504e5940700d8d92df61203d7042d670862a0f337c149ff429a5cead45a84632|1|0', description='fef021671ed191a355cfd8d47ab435073da74cb5936026f559e987570e79a54e504e5940700d8d92df61203d7042d670862a0f337c149ff429a5cead45a84632|1|0 <unknown description>', dbxrefs=[]),\n",
        " SeqRecord(seq=Seq('TAATGGAGACAAATGAGAGGTAGTTTTCTAACCACAGGTTGTTAGTAGTATGCC...GGA', SingleLetterAlphabet()), id='fef021671ed191a355cfd8d47ab435073da74cb5936026f559e987570e79a54e504e5940700d8d92df61203d7042d670862a0f337c149ff429a5cead45a84632|4|0', name='fef021671ed191a355cfd8d47ab435073da74cb5936026f559e987570e79a54e504e5940700d8d92df61203d7042d670862a0f337c149ff429a5cead45a84632|4|0', description='fef021671ed191a355cfd8d47ab435073da74cb5936026f559e987570e79a54e504e5940700d8d92df61203d7042d670862a0f337c149ff429a5cead45a84632|4|0 <unknown description>', dbxrefs=[]),\n",
        " SeqRecord(seq=Seq('GTGCTTTCATTCTAGAGCTCCATATGATGTATGATGTAAAACGACGGGCTTCAA...AAT', SingleLetterAlphabet()), id='180d4f3e21587380c1ba093cd69ffb1c763bc8d37e4b72afd0f262bb29c6b18b9ec9358724b7448421c7fe4c2a241f56ec25f9eab8700e7d8ed0acf3a1ff7340|1|1', name='180d4f3e21587380c1ba093cd69ffb1c763bc8d37e4b72afd0f262bb29c6b18b9ec9358724b7448421c7fe4c2a241f56ec25f9eab8700e7d8ed0acf3a1ff7340|1|1', description='180d4f3e21587380c1ba093cd69ffb1c763bc8d37e4b72afd0f262bb29c6b18b9ec9358724b7448421c7fe4c2a241f56ec25f9eab8700e7d8ed0acf3a1ff7340|1|1 <unknown description>', dbxrefs=[]),\n",
        " SeqRecord(seq=Seq('CTGTATCATATTCAGGGGCGTCCAGATCCCGACCGTACTTGGGAGTTCCGGGTT...TTT', SingleLetterAlphabet()), id='180d4f3e21587380c1ba093cd69ffb1c763bc8d37e4b72afd0f262bb29c6b18b9ec9358724b7448421c7fe4c2a241f56ec25f9eab8700e7d8ed0acf3a1ff7340|4|1', name='180d4f3e21587380c1ba093cd69ffb1c763bc8d37e4b72afd0f262bb29c6b18b9ec9358724b7448421c7fe4c2a241f56ec25f9eab8700e7d8ed0acf3a1ff7340|4|1', description='180d4f3e21587380c1ba093cd69ffb1c763bc8d37e4b72afd0f262bb29c6b18b9ec9358724b7448421c7fe4c2a241f56ec25f9eab8700e7d8ed0acf3a1ff7340|4|1 <unknown description>', dbxrefs=[]),\n",
        " SeqRecord(seq=Seq('GTGCTTTCATTCTAGAGCTCCATATGATGTATGATGTAAAACGACGGGCTTCAA...AAT', SingleLetterAlphabet()), id='0670f599976f6072e166750d1ff165cf75acd1f76f8e9f0c83e2342495c13e74b3ac7209ec931dde1a7822af26e7c508d492d72636970f72dd70e37c1a75932d|1|2', name='0670f599976f6072e166750d1ff165cf75acd1f76f8e9f0c83e2342495c13e74b3ac7209ec931dde1a7822af26e7c508d492d72636970f72dd70e37c1a75932d|1|2', description='0670f599976f6072e166750d1ff165cf75acd1f76f8e9f0c83e2342495c13e74b3ac7209ec931dde1a7822af26e7c508d492d72636970f72dd70e37c1a75932d|1|2 <unknown description>', dbxrefs=[]),\n",
        " SeqRecord(seq=Seq('TAATGGAGACAAATGAGAGGTAGTTTTCTAACCACAGGTTGTTAGTAGTATGCC...GGA', SingleLetterAlphabet()), id='0670f599976f6072e166750d1ff165cf75acd1f76f8e9f0c83e2342495c13e74b3ac7209ec931dde1a7822af26e7c508d492d72636970f72dd70e37c1a75932d|4|2', name='0670f599976f6072e166750d1ff165cf75acd1f76f8e9f0c83e2342495c13e74b3ac7209ec931dde1a7822af26e7c508d492d72636970f72dd70e37c1a75932d|4|2', description='0670f599976f6072e166750d1ff165cf75acd1f76f8e9f0c83e2342495c13e74b3ac7209ec931dde1a7822af26e7c508d492d72636970f72dd70e37c1a75932d|4|2 <unknown description>', dbxrefs=[]),\n",
        " SeqRecord(seq=Seq('GTGCTTTCATTCTAGAGCTCCATATGATGTATGATGTAAAACGACGGGCTTCAA...AAT', SingleLetterAlphabet()), id='1eab568159d2b30b360eeadca29fb490ec114a43cb80da4ddcf9294a9984d8ee41fb2ef4a6aa45eac28554b3f5c3394d79cae26f4473769bd8fcd05ed6ceac22|1|3', name='1eab568159d2b30b360eeadca29fb490ec114a43cb80da4ddcf9294a9984d8ee41fb2ef4a6aa45eac28554b3f5c3394d79cae26f4473769bd8fcd05ed6ceac22|1|3', description='1eab568159d2b30b360eeadca29fb490ec114a43cb80da4ddcf9294a9984d8ee41fb2ef4a6aa45eac28554b3f5c3394d79cae26f4473769bd8fcd05ed6ceac22|1|3 <unknown description>', dbxrefs=[]),\n",
        " SeqRecord(seq=Seq('TAATGGAGACAAATGAGAGGTAGTTTTCTAACCACAGGTTGTTGGTAGTATGCC...GGA', SingleLetterAlphabet()), id='1eab568159d2b30b360eeadca29fb490ec114a43cb80da4ddcf9294a9984d8ee41fb2ef4a6aa45eac28554b3f5c3394d79cae26f4473769bd8fcd05ed6ceac22|4|3', name='1eab568159d2b30b360eeadca29fb490ec114a43cb80da4ddcf9294a9984d8ee41fb2ef4a6aa45eac28554b3f5c3394d79cae26f4473769bd8fcd05ed6ceac22|4|3', description='1eab568159d2b30b360eeadca29fb490ec114a43cb80da4ddcf9294a9984d8ee41fb2ef4a6aa45eac28554b3f5c3394d79cae26f4473769bd8fcd05ed6ceac22|4|3 <unknown description>', dbxrefs=[]),\n",
        " SeqRecord(seq=Seq('GTGCTTTCATTCTAGAGCTCCATATGATGTATGATGTAAAACGACGGGCTTCAA...AAT', SingleLetterAlphabet()), id='dec4f2543f7bf694cd7d482c22eaec71e87b1572b650cff38487540e89f05fb4c9971f92d8292cce1c04f0fa0cdcc3be0aceff5d229d6a6c1377476ea63ffec1|1|4', name='dec4f2543f7bf694cd7d482c22eaec71e87b1572b650cff38487540e89f05fb4c9971f92d8292cce1c04f0fa0cdcc3be0aceff5d229d6a6c1377476ea63ffec1|1|4', description='dec4f2543f7bf694cd7d482c22eaec71e87b1572b650cff38487540e89f05fb4c9971f92d8292cce1c04f0fa0cdcc3be0aceff5d229d6a6c1377476ea63ffec1|1|4 <unknown description>', dbxrefs=[]),\n",
        " SeqRecord(seq=Seq('CAATGGAGACAAATGAGAGGTAGTTTTCTAACCACAGGTTGTTAGTAGTATGCC...GGA', SingleLetterAlphabet()), id='dec4f2543f7bf694cd7d482c22eaec71e87b1572b650cff38487540e89f05fb4c9971f92d8292cce1c04f0fa0cdcc3be0aceff5d229d6a6c1377476ea63ffec1|4|4', name='dec4f2543f7bf694cd7d482c22eaec71e87b1572b650cff38487540e89f05fb4c9971f92d8292cce1c04f0fa0cdcc3be0aceff5d229d6a6c1377476ea63ffec1|4|4', description='dec4f2543f7bf694cd7d482c22eaec71e87b1572b650cff38487540e89f05fb4c9971f92d8292cce1c04f0fa0cdcc3be0aceff5d229d6a6c1377476ea63ffec1|4|4 <unknown description>', dbxrefs=[]),\n",
        " SeqRecord(seq=Seq('GTGCTTTCATTCTAGAGCTCCATATGATGTATGATGTAAAACGACGGGCTTCAA...AAT', SingleLetterAlphabet()), id='79f7260a97a7d82cd8630dbc017fa15286f726af8101998fbc8206a788b7afd7bc3df3a97f26f5a6c310765a8cd071b366d2ac3184fbede4bf640b76b94382df|1|5', name='79f7260a97a7d82cd8630dbc017fa15286f726af8101998fbc8206a788b7afd7bc3df3a97f26f5a6c310765a8cd071b366d2ac3184fbede4bf640b76b94382df|1|5', description='79f7260a97a7d82cd8630dbc017fa15286f726af8101998fbc8206a788b7afd7bc3df3a97f26f5a6c310765a8cd071b366d2ac3184fbede4bf640b76b94382df|1|5 <unknown description>', dbxrefs=[]),\n",
        " SeqRecord(seq=Seq('CAATGGAGACAAATGAGAGGTAGTTTTCTAAGCACAGGTTGTTAGTAGTATGGA...GGA', SingleLetterAlphabet()), id='79f7260a97a7d82cd8630dbc017fa15286f726af8101998fbc8206a788b7afd7bc3df3a97f26f5a6c310765a8cd071b366d2ac3184fbede4bf640b76b94382df|4|5', name='79f7260a97a7d82cd8630dbc017fa15286f726af8101998fbc8206a788b7afd7bc3df3a97f26f5a6c310765a8cd071b366d2ac3184fbede4bf640b76b94382df|4|5', description='79f7260a97a7d82cd8630dbc017fa15286f726af8101998fbc8206a788b7afd7bc3df3a97f26f5a6c310765a8cd071b366d2ac3184fbede4bf640b76b94382df|4|5 <unknown description>', dbxrefs=[]),\n",
        " SeqRecord(seq=Seq('GTGCTTTCATTCTAGAGCTCCATATGATGTATGATGTAAAACGACGGGCTTCAA...AAT', SingleLetterAlphabet()), id='e02ca47b337ef70ebc33acb0c04af9eec8682afd89dbfac73249bd9fdcdceb6f0b29ced5d6f2c5915ad1c71e9712da05ca69cd0725a05ba41b7117d011a96698|1|6', name='e02ca47b337ef70ebc33acb0c04af9eec8682afd89dbfac73249bd9fdcdceb6f0b29ced5d6f2c5915ad1c71e9712da05ca69cd0725a05ba41b7117d011a96698|1|6', description='e02ca47b337ef70ebc33acb0c04af9eec8682afd89dbfac73249bd9fdcdceb6f0b29ced5d6f2c5915ad1c71e9712da05ca69cd0725a05ba41b7117d011a96698|1|6 <unknown description>', dbxrefs=[]),\n",
        " SeqRecord(seq=Seq('TAATGGAGACAAATGAGAGGTAGTTGTCTAACCACAGGTTGTTGGTAGTATGCC...GGA', SingleLetterAlphabet()), id='e02ca47b337ef70ebc33acb0c04af9eec8682afd89dbfac73249bd9fdcdceb6f0b29ced5d6f2c5915ad1c71e9712da05ca69cd0725a05ba41b7117d011a96698|4|6', name='e02ca47b337ef70ebc33acb0c04af9eec8682afd89dbfac73249bd9fdcdceb6f0b29ced5d6f2c5915ad1c71e9712da05ca69cd0725a05ba41b7117d011a96698|4|6', description='e02ca47b337ef70ebc33acb0c04af9eec8682afd89dbfac73249bd9fdcdceb6f0b29ced5d6f2c5915ad1c71e9712da05ca69cd0725a05ba41b7117d011a96698|4|6 <unknown description>', dbxrefs=[]),\n",
        " SeqRecord(seq=Seq('GTGCTTTCATTCTAGAGCTCCATATGATGTATGATGTAAAACGACGGGCTTCAA...AAT', SingleLetterAlphabet()), id='cd0448bbe5eb351d9bcfbf85be65da8284781afacb3f31535b23a036e0a974161970d9d31fdf41beedac28ca3ef2e6457efcb2cd626b9f2d06284bb605beacc9|1|7', name='cd0448bbe5eb351d9bcfbf85be65da8284781afacb3f31535b23a036e0a974161970d9d31fdf41beedac28ca3ef2e6457efcb2cd626b9f2d06284bb605beacc9|1|7', description='cd0448bbe5eb351d9bcfbf85be65da8284781afacb3f31535b23a036e0a974161970d9d31fdf41beedac28ca3ef2e6457efcb2cd626b9f2d06284bb605beacc9|1|7 <unknown description>', dbxrefs=[]),\n",
        " SeqRecord(seq=Seq('CTGTATCATATTCAGGGGCGTCCAGATCCCGACCGTACTTGGGAGTACCGGGTT...TTT', SingleLetterAlphabet()), id='cd0448bbe5eb351d9bcfbf85be65da8284781afacb3f31535b23a036e0a974161970d9d31fdf41beedac28ca3ef2e6457efcb2cd626b9f2d06284bb605beacc9|4|7', name='cd0448bbe5eb351d9bcfbf85be65da8284781afacb3f31535b23a036e0a974161970d9d31fdf41beedac28ca3ef2e6457efcb2cd626b9f2d06284bb605beacc9|4|7', description='cd0448bbe5eb351d9bcfbf85be65da8284781afacb3f31535b23a036e0a974161970d9d31fdf41beedac28ca3ef2e6457efcb2cd626b9f2d06284bb605beacc9|4|7 <unknown description>', dbxrefs=[]),\n",
        " SeqRecord(seq=Seq('GTGCTTTCATTCTAGAGCTCCATATGATGTATGATGTAAAACGACGGGCTTCAA...AAT', SingleLetterAlphabet()), id='ec9742cbc3d3e77335b0e07641e4712e8d0fe20e9e640139706a86788c38209d20d73f864011498654de0552d5e4c480d44b0acef25ed28db6a9332042af6fba|1|8', name='ec9742cbc3d3e77335b0e07641e4712e8d0fe20e9e640139706a86788c38209d20d73f864011498654de0552d5e4c480d44b0acef25ed28db6a9332042af6fba|1|8', description='ec9742cbc3d3e77335b0e07641e4712e8d0fe20e9e640139706a86788c38209d20d73f864011498654de0552d5e4c480d44b0acef25ed28db6a9332042af6fba|1|8 <unknown description>', dbxrefs=[]),\n",
        " SeqRecord(seq=Seq('CAATGGAGACAAATGAGAGGTAGTTTTCTAACCACAGGTTGTTAGTAGTATGCC...GGA', SingleLetterAlphabet()), id='ec9742cbc3d3e77335b0e07641e4712e8d0fe20e9e640139706a86788c38209d20d73f864011498654de0552d5e4c480d44b0acef25ed28db6a9332042af6fba|4|8', name='ec9742cbc3d3e77335b0e07641e4712e8d0fe20e9e640139706a86788c38209d20d73f864011498654de0552d5e4c480d44b0acef25ed28db6a9332042af6fba|4|8', description='ec9742cbc3d3e77335b0e07641e4712e8d0fe20e9e640139706a86788c38209d20d73f864011498654de0552d5e4c480d44b0acef25ed28db6a9332042af6fba|4|8 <unknown description>', dbxrefs=[]),\n",
        " SeqRecord(seq=Seq('GTGCTTTCATTCTAGAGCTCCATATGATGTATGATGTAAAACGACGGGCTTCAA...AAT', SingleLetterAlphabet()), id='60bce5bf543f356ae94358fe0f19de5a1d42bee4303cc001a0e48a37b08a60df993a6bcdd271254d88f77621c1e6c88be18b8358952a76ecc26e5d3cefe5cb8a|1|9', name='60bce5bf543f356ae94358fe0f19de5a1d42bee4303cc001a0e48a37b08a60df993a6bcdd271254d88f77621c1e6c88be18b8358952a76ecc26e5d3cefe5cb8a|1|9', description='60bce5bf543f356ae94358fe0f19de5a1d42bee4303cc001a0e48a37b08a60df993a6bcdd271254d88f77621c1e6c88be18b8358952a76ecc26e5d3cefe5cb8a|1|9 <unknown description>', dbxrefs=[]),\n",
        " SeqRecord(seq=Seq('TAATGGAGACAAATGAGAGGTAGCTTTCTAACCACAGGTTGTTGGTAGTATGCC...GGA', SingleLetterAlphabet()), id='60bce5bf543f356ae94358fe0f19de5a1d42bee4303cc001a0e48a37b08a60df993a6bcdd271254d88f77621c1e6c88be18b8358952a76ecc26e5d3cefe5cb8a|4|9', name='60bce5bf543f356ae94358fe0f19de5a1d42bee4303cc001a0e48a37b08a60df993a6bcdd271254d88f77621c1e6c88be18b8358952a76ecc26e5d3cefe5cb8a|4|9', description='60bce5bf543f356ae94358fe0f19de5a1d42bee4303cc001a0e48a37b08a60df993a6bcdd271254d88f77621c1e6c88be18b8358952a76ecc26e5d3cefe5cb8a|4|9 <unknown description>', dbxrefs=[])]"
       ]
      }
     ],
     "prompt_number": 14
    },
    {
     "cell_type": "code",
     "collapsed": false,
     "input": [
      "# Append the sequences to the dictionary.\n",
      "# This can be written into a function.\n",
      "split_char = '|' # The character that will be used to split the SeqRecord.id string\n",
      "pos_segment_num = 1 # The position of the segment number after splitting by the split_char\n",
      "\n",
      "for sequence in sequences:\n",
      "    segment_number = int(sequence.id.split(split_char)[pos_segment_num])\n",
      "    sequences_dictionary[segment_number].append(sequence)\n",
      "\n",
      "# sequences_dictionary"
     ],
     "language": "python",
     "metadata": {},
     "outputs": [],
     "prompt_number": 15
    },
    {
     "cell_type": "code",
     "collapsed": false,
     "input": [
      "# Create a NetworkX graph using one segment's sequences, and add nodes.\n",
      "import networkx as nx\n",
      "\n",
      "G = nx.DiGraph()\n",
      "\n",
      "splitchar = '|'\n",
      "pos_id = 0\n",
      "pos_segment_num = 1\n",
      "pos_creation_time = 2\n",
      "\n",
      "segment_number = 4\n",
      "\n",
      "for sequence in sequences_dictionary[segment_number]:\n",
      "    [isolate_id, segment_num, creation_time] = sequence.id.split(splitchar)\n",
      "    G.add_node(isolate_id[0:5], sequence=sequence.seq, id=isolate_id, segment_num=int(segment_num), creation_time=int(creation_time))\n",
      "\n",
      "# at this point, we would return G, and append it to the dictionary of Graphs available.\n",
      "# G.nodes(data=True)"
     ],
     "language": "python",
     "metadata": {},
     "outputs": [],
     "prompt_number": 16
    },
    {
     "cell_type": "code",
     "collapsed": false,
     "input": [
      "# Add edges to the graph, based on the Levenshtein distance between two sequences.\n",
      "import Levenshtein\n",
      "for node1 in G.nodes(data=True):\n",
      "    for node2 in G.nodes(data=True):\n",
      "        if node1[1]['creation_time'] < node2[1]['creation_time']:\n",
      "            weight = Levenshtein.distance(str(node1[1]['sequence']), str(node2[1]['sequence']))\n",
      "            G.add_edge(node1[0], node2[0], weight=weight)"
     ],
     "language": "python",
     "metadata": {},
     "outputs": [],
     "prompt_number": 17
    },
    {
     "cell_type": "code",
     "collapsed": false,
     "input": [
      "# Prune graph by distance.\n",
      "for node in G.nodes(data=True):\n",
      "    in_edges = G.in_edges(node[0], data=True)\n",
      "#     print in_edges\n",
      "    if len(in_edges) != 0:\n",
      "        min_weight = min([edge[2]['weight'] for edge in in_edges])\n",
      "        print min_weight\n",
      "        print node\n",
      "        for edge in in_edges:\n",
      "            if edge[2]['weight'] != min_weight:\n",
      "                G.remove_edge(edge[0], edge[1])"
     ],
     "language": "python",
     "metadata": {},
     "outputs": [
      {
       "output_type": "stream",
       "stream": "stdout",
       "text": [
        "8\n",
        "('cd044', {'segment_num': 4, 'creation_time': 7, 'id': 'cd0448bbe5eb351d9bcfbf85be65da8284781afacb3f31535b23a036e0a974161970d9d31fdf41beedac28ca3ef2e6457efcb2cd626b9f2d06284bb605beacc9', 'sequence': Seq('CTGTATCATATTCAGGGGCGTCCAGATCCCGACCGTACTTGGGAGTACCGGGTT...TTT', SingleLetterAlphabet())})\n",
        "10\n",
        "('ec974', {'segment_num': 4, 'creation_time': 8, 'id': 'ec9742cbc3d3e77335b0e07641e4712e8d0fe20e9e640139706a86788c38209d20d73f864011498654de0552d5e4c480d44b0acef25ed28db6a9332042af6fba', 'sequence': Seq('CAATGGAGACAAATGAGAGGTAGTTTTCTAACCACAGGTTGTTAGTAGTATGCC...GGA', SingleLetterAlphabet())})\n",
        "9\n",
        "('e02ca', {'segment_num': 4, 'creation_time': 6, 'id': 'e02ca47b337ef70ebc33acb0c04af9eec8682afd89dbfac73249bd9fdcdceb6f0b29ced5d6f2c5915ad1c71e9712da05ca69cd0725a05ba41b7117d011a96698', 'sequence': Seq('TAATGGAGACAAATGAGAGGTAGTTGTCTAACCACAGGTTGTTGGTAGTATGCC...GGA', SingleLetterAlphabet())})\n",
        "8\n",
        "('1eab5', {'segment_num': 4, 'creation_time': 3, 'id': '1eab568159d2b30b360eeadca29fb490ec114a43cb80da4ddcf9294a9984d8ee41fb2ef4a6aa45eac28554b3f5c3394d79cae26f4473769bd8fcd05ed6ceac22', 'sequence': Seq('TAATGGAGACAAATGAGAGGTAGTTTTCTAACCACAGGTTGTTGGTAGTATGCC...GGA', SingleLetterAlphabet())})\n",
        "11\n",
        "('180d4', {'segment_num': 4, 'creation_time': 1, 'id': '180d4f3e21587380c1ba093cd69ffb1c763bc8d37e4b72afd0f262bb29c6b18b9ec9358724b7448421c7fe4c2a241f56ec25f9eab8700e7d8ed0acf3a1ff7340', 'sequence': Seq('CTGTATCATATTCAGGGGCGTCCAGATCCCGACCGTACTTGGGAGTTCCGGGTT...TTT', SingleLetterAlphabet())})\n",
        "6\n",
        "('dec4f', {'segment_num': 4, 'creation_time': 4, 'id': 'dec4f2543f7bf694cd7d482c22eaec71e87b1572b650cff38487540e89f05fb4c9971f92d8292cce1c04f0fa0cdcc3be0aceff5d229d6a6c1377476ea63ffec1', 'sequence': Seq('CAATGGAGACAAATGAGAGGTAGTTTTCTAACCACAGGTTGTTAGTAGTATGCC...GGA', SingleLetterAlphabet())})\n",
        "13\n",
        "('79f72', {'segment_num': 4, 'creation_time': 5, 'id': '79f7260a97a7d82cd8630dbc017fa15286f726af8101998fbc8206a788b7afd7bc3df3a97f26f5a6c310765a8cd071b366d2ac3184fbede4bf640b76b94382df', 'sequence': Seq('CAATGGAGACAAATGAGAGGTAGTTTTCTAAGCACAGGTTGTTAGTAGTATGGA...GGA', SingleLetterAlphabet())})\n",
        "12\n",
        "('60bce', {'segment_num': 4, 'creation_time': 9, 'id': '60bce5bf543f356ae94358fe0f19de5a1d42bee4303cc001a0e48a37b08a60df993a6bcdd271254d88f77621c1e6c88be18b8358952a76ecc26e5d3cefe5cb8a', 'sequence': Seq('TAATGGAGACAAATGAGAGGTAGCTTTCTAACCACAGGTTGTTGGTAGTATGCC...GGA', SingleLetterAlphabet())})\n",
        "14\n",
        "('0670f', {'segment_num': 4, 'creation_time': 2, 'id': '0670f599976f6072e166750d1ff165cf75acd1f76f8e9f0c83e2342495c13e74b3ac7209ec931dde1a7822af26e7c508d492d72636970f72dd70e37c1a75932d', 'sequence': Seq('TAATGGAGACAAATGAGAGGTAGTTTTCTAACCACAGGTTGTTAGTAGTATGCC...GGA', SingleLetterAlphabet())})\n"
       ]
      }
     ],
     "prompt_number": 18
    },
    {
     "cell_type": "code",
     "collapsed": false,
     "input": [
      "nx.draw_circular(G)"
     ],
     "language": "python",
     "metadata": {},
     "outputs": [
      {
       "metadata": {},
       "output_type": "display_data",
       "png": "[encoded data removed]",
       "text": [
        "<matplotlib.figure.Figure at 0x106363790>"
       ]
      }
     ],
     "prompt_number": 19
    },
    {
     "cell_type": "markdown",
     "metadata": {},
     "source": [
      "# Test Reconstructor Class"
     ]
    },
    {
     "cell_type": "code",
     "collapsed": false,
     "input": [
      "from reconstructor import Reconstructor\n",
      "import networkx as nx"
     ],
     "language": "python",
     "metadata": {},
     "outputs": [],
     "prompt_number": 20
    },
    {
     "cell_type": "code",
     "collapsed": false,
     "input": [
      "r = Reconstructor(segments=[1, 4])\n",
      "print r.sequences\n",
      "print r.graphs"
     ],
     "language": "python",
     "metadata": {},
     "outputs": [
      {
       "output_type": "stream",
       "stream": "stdout",
       "text": [
        "{1: [], 4: []}\n",
        "{1: <networkx.classes.digraph.DiGraph object at 0x10650d0d0>, 4: <networkx.classes.digraph.DiGraph object at 0x10650d050>}\n"
       ]
      }
     ],
     "prompt_number": 21
    },
    {
     "cell_type": "code",
     "collapsed": false,
     "input": [
      "fasta_file = 'FASTA Files/outfile_test.fasta'\n",
      "r.read_fasta_file(fasta_file)"
     ],
     "language": "python",
     "metadata": {},
     "outputs": [],
     "prompt_number": 22
    },
    {
     "cell_type": "code",
     "collapsed": false,
     "input": [
      "r.add_nodes_with_data()\n",
      "r.add_edges_with_weight()\n",
      "r.prune_graphs_by_weight()\n",
      "r.prune_condensed_graph()"
     ],
     "language": "python",
     "metadata": {},
     "outputs": [],
     "prompt_number": 23
    },
    {
     "cell_type": "code",
     "collapsed": false,
     "input": [
      "r.condensed_graph().edges(data=True)"
     ],
     "language": "python",
     "metadata": {},
     "outputs": [
      {
       "metadata": {},
       "output_type": "pyout",
       "prompt_number": 24,
       "text": [
        "[('1eab5', '60bce', {'segments': [1, 4], 'weight': 13}),\n",
        " ('1eab5', 'e02ca', {'segments': [1, 4], 'weight': 11}),\n",
        " ('85773', 'cd044', {'segments': [1], 'weight': 2}),\n",
        " ('85773', '180d4', {'segments': [1, 4], 'weight': 11}),\n",
        " ('85773', '0670f', {'segments': [1], 'weight': 1}),\n",
        " ('85773', 'dec4f', {'segments': [1], 'weight': 1}),\n",
        " ('180d4', 'cd044', {'segments': [1, 4], 'weight': 10}),\n",
        " ('180d4', '0670f', {'segments': [1], 'weight': 1}),\n",
        " ('180d4', 'dec4f', {'segments': [1], 'weight': 1}),\n",
        " ('dec4f', 'ec974', {'segments': [1, 4], 'weight': 10}),\n",
        " ('dec4f', '79f72', {'segments': [1, 4], 'weight': 13}),\n",
        " ('79f72', 'ec974', {'segments': [1], 'weight': 0}),\n",
        " ('fef02', 'cd044', {'segments': [1], 'weight': 2}),\n",
        " ('fef02', '180d4', {'segments': [1], 'weight': 0}),\n",
        " ('fef02', '0670f', {'segments': [1, 4], 'weight': 15}),\n",
        " ('fef02', 'dec4f', {'segments': [1, 4], 'weight': 7}),\n",
        " ('0670f', '1eab5', {'segments': [1, 4], 'weight': 9})]"
       ]
      }
     ],
     "prompt_number": 24
    },
    {
     "cell_type": "code",
     "collapsed": false,
     "input": [
      "r.condensed_graph().nodes(data=True)"
     ],
     "language": "python",
     "metadata": {},
     "outputs": [
      {
       "metadata": {},
       "output_type": "pyout",
       "prompt_number": 25,
       "text": [
        "[('cd044',\n",
        "  {'creation_time': '7',\n",
        "   'id': 'cd0448bbe5eb351d9bcfbf85be65da8284781afacb3f31535b23a036e0a974161970d9d31fdf41beedac28ca3ef2e6457efcb2cd626b9f2d06284bb605beacc9',\n",
        "   'segment_number': '4',\n",
        "   'sequence_1': 'GTGCTTTCATTCTAGAGCTCCATATGATGTATGATGTAAAACGACGGGCTTCAAGGAGTCATAAAACACAAAGCGCGCGGCCGCTAGATGGAACCCTACATTCACAAGATGAAAGGCTTATCAGCATAGTCCACTACATTTAATTCAATACCCCGTCACAATAGCTGAGTAAACATCTTCAAGGTCAGTACAATCCTTGGGCAGTCGGGACTAGCGAAATAGATCAGGGGCACTGCGGCATACTTGTCTATACGCACGGAAACTCATCGTCAATACCTTGAGTTATACCAATGAATATATCTTTTCTACGAGCTTGGCGCCTTCTCGCGCGTCGTACCGAACACATGAGTTCAACCCATTTCGGAGGAAACCTATTCCTACGCTCCTCGCAAGAAATCGCAGTTCGGTCACAAACTTTAAATATCCGCTCGACTTGTTTACGCAAAATCAGGGTATTTTATAAGGTAGTTAGCAGAGCGCCCCATGGTTCTGAACGGGCTGCTCGAGTAACACAGGGGTGGCATGTTCACAAAACTGGGAGATGGTCGCGCTATAAACGATCACTTTTAAGGAAACTGTCATAGTGACCACCATGATAGATTTGTTGACCTACGTACGTCCTATGGAAGCACCGGTAGGACCATTGTCACAGCGGAGGAGCTTGAGCAAGCTTTCTTGATAAGGGGTTACGATAATCACCTTAAACCAGGGCTTACTCGGATGCGTTTCTGTGATCCGAAATGGTACAGTTGCTATAGCAGATAATTACACCGACGCCAGTGTTGACTGGATTAAGGGTTCTTTACAGACGGTGCCGGACGCCCTCGCAGGTAAACCCGACTAGTGCGGTGACCACGGCATCGAGGAATGGGCCCCTAAAGTCTTTATGACTGCTTACAATAGAGTCTCTGTCCTGAGGCGTCATTAACTCGTCGATGAGAAAGAAGCTACTTCTTGTGCAAGTGGCTTAACCTATCACTATCCTGGCTGTTAATCTAAT',\n",
        "   'sequence_4': 'CTGTATCATATTCAGGGGCGTCCAGATCCCGACCGTACTTGGGAGTACCGGGTTCCGACATCGGGTAACTACATCGCAGCTTCTTAATGCGAACCATCAGTATTCCGAGCGGTTTCACCGAGGGAGTGTTGGATTGAGGAGAGGACTTGCGCAACGGCGCGGGTGACCTTCAAGTACCTGAATGGAGTGTAAAGCATGAGGTAAAGAACTGGCTAACGAGGCGAAGCAGAGCAGTAGGACATCTGTTTGGACTCCATATATTTAGTCCTACGCTTATCATCAAACGGCTAAGACTGGCGCAAGCCACAGGGGCTTGGACAAATTGTTGTCAGATCATCCACACATAGGACAACTGAGCATGTGCCACGGAACTGGGAAGCACTTCCAAAGCAAGCTAGCTCCTTGCTGTGCAGGTATACCGCCCGTGTTGATACACAGCAGGTGAAAAAATACATGTCAATTCATCCGTGTGATCTCCACCTTAAAAATGGTAATAACAAAGTTAGCCGAAACTGTGTAAGACTACGGGCGCAGAAAGATCGACGGCATCTTTGAGCACGAAGGAATGTGTCGTGTCGTCTCGGGCTCATTGCTTGTTAGCAGGGAGCTATTAAGGTGAAATATGAACCGCCATACGACGTGCGGAAACAGGAGGGTAGTCTCATTGTTCTAACCCAAGATATCTGTACCCTAGGTCCGACCAAATGCCGGGGCCATACATATACCGGTGCGTATGGCCTCGCCGACAGATGCCTCGAAGTCAAAGGTACAAAGATGGTCTTACATGTAGTTTATCATGTATGACACGAGTGTAGTATTCATAGGCTAACATCATCACACCTACTCTTAGTATGCAACTGTATTGGCATGAACTACAGTATAGTCAATATGTATTCTGCAGGTTTATTGGCTCATTGTAACAAATTGCTATGAAAGCAGCACCATTCACGAAGCTTCTACAGGTTACGGGTGCGTCCCGGTAAGTACGCGCTTCCAGTTT'}),\n",
        " ('ec974',\n",
        "  {'creation_time': '8',\n",
        "   'id': 'ec9742cbc3d3e77335b0e07641e4712e8d0fe20e9e640139706a86788c38209d20d73f864011498654de0552d5e4c480d44b0acef25ed28db6a9332042af6fba',\n",
        "   'segment_number': '4',\n",
        "   'sequence_1': 'GTGCTTTCATTCTAGAGCTCCATATGATGTATGATGTAAAACGACGGGCTTCAAGGAGTCATAAAACACAAAGCGCGCGGCCGCTAGATGGAACCCTACATTCACAAGATGAAAGGCTTATCAGCATAGTCCACTACATTTAATTCAATACCCCGTCACAATAGCTGAGTAAACATCTTCAAGGTCAGTACAATCCTTGGGCAGTCGGGACTAGCGAAATAGATCAGGGGCACTGCGGCATACTTGTCTATACGCACGGAAACTCATCGTCAATACCTTGAGTTATACCAATGAATATATCTTTTCTACGAGCTTGGCGCCTTCTCGCGCGTCGTACCGAACACATGAGTTCAACCCATTTCGGAGGAAACCTATTCCTACGCTCCTCGCAAGAAATCGCAGTTCGGTCACAAACTTTAAATATCCGCTCGACTTGTTTACGCAAAATCAGGGTATTTTATAAGGTAGTTAGCAGAGCGCCCCACGGTTCTGAACGGGCTGCTCGAGTAACACAGGGGTGGCATGTTCACAAAACTGGGAGATGGTCGCGCTATAAACGATCACTTTTAAGGAAACTGTCATAGTGACCACCATGATAGATTTGTTGACCTACGTACGTCCTATGGAAGCACCGGTAGGACCATTGTCACAGCGGAGGAGCTTGAGCAAGCTTTCTTGATAAGGGGTTACGATAATCACCTTAAACCAGGGCTTACTCGGATGCGTTTCTGTGATCCGAAATGGTACAGTTGCTATAGCAGATAATTACACCGACGCCAGTGTTGACTGGATTAAGGGTTCTTTACAGACGGTGCCGGACGCCCTCGCAGGTAAAACCGACTAGTGCGGTGACCACGGCATCGAGGAATGGGCCCCTAAAGTCTTTATGACTGCTTACAATAGAGTCTCTGTCCTGAGGCGTCATTAACTCGTCGATGAGAAAGAAGCTACTTCTTGTGCAAGTGGCTTAACCTATCACTATCGTGGCTGTTAATCTAAT',\n",
        "   'sequence_4': 'CAATGGAGACAAATGAGAGGTAGTTTTCTAACCACAGGTTGTTAGTAGTATGCCGGTCTGATTCAGCTATCGTTGCGTAGGCTTGATGGAGCCGCCCAGCATGTTCGGAACTGGCTGTTCACGCACCAACCAGACCAAATAGCTGAGAGGCACGCACGGGAGAGATCCAATTTCGTTTACAACCAGCGTTCCAACCGGTGGTGGTTAAATTTTGATCTCCTGTGGTTGCTGCTCACTACCTGGTATGTGATTCCCTGAGGCTCTTAGTAGGGGCTGCCCCGTATCCCGGCTTTAGCTCCGCCCGCCTAAAGGGGAGCGGGCAAGAGAGAGCACACTTGCGACTTTCAGGGAGGTAGTACGGGCCGACTCGTACATATGTCCACAGGATCATGTCAAGTCATCAAAGGGTCCCACAGCCAATACTTCTTTATGATTCAAGAGGCGCTAGTCTGCCAGAATAGAGGATTTCGGACATCTAGCCGATCGTCAAAAGGTCCCTAGGTGTTTGCGCATAACATCCCCCAGTCTGTTACGATCGTAAGTTATTGCGCCACCGTCAGCGGATTACTTAGATGCGCCCACTCGGCCTTCAGTGAGTTAAAGAAGCGGCGGCGGCAATATTGAGAACCGGCCGAGCCACTATGGAGTCCCTGTGCACGTTGAACTCCAGCTGGAATACCTCAGTCTCGACGCCTTATTATCAAGGGGGGCTTGTGGATGACGTGGAGCTATAAACGTTTGTAGTAGCGCTGCGTGCTCGGTACTTACTGGCCCTCTCAGTGTGTGTTGGGAAACCAGAGACTTGTGGCGCACGAGACAGCGTGATTGTGCTGTACGGTAGATGAGCTTATGTCTCGTTAATGCGTTTACAGTATAGTAGAGCTTTTGCAGTTTCGTCAAAGGAATGCTGCGGCGCCAAACTGACTGCGCTCGTAAACTCGCAATAGTTACTTGAACCCGAGGATGTGTAATGAGGTTATGTTTAGCACCACGAACTGGA'}),\n",
        " ('e02ca',\n",
        "  {'creation_time': '6',\n",
        "   'id': 'e02ca47b337ef70ebc33acb0c04af9eec8682afd89dbfac73249bd9fdcdceb6f0b29ced5d6f2c5915ad1c71e9712da05ca69cd0725a05ba41b7117d011a96698',\n",
        "   'segment_number': '4',\n",
        "   'sequence_1': 'GTGCTTTCATTCTAGAGCTCCATATGATGTATGATGTAAAACGACGGGCTTCAAGGAGTCATAAAACACAAAGCGCGCGGCCGCTAGATGGAACCCTACATTCACAAGATGAAAGGCTTATCAGCATAGTCCACTACATTTAATTCAATACCCCGTCACAATAGCTGAGTAAACATCTTGAAGGTCAGTACAATCCTTGGGCAGTCGGGACTAGCGAAATAGATCAGGGGCACTGCGGCATACTTGTCTATACGCACGGAAACTCATCGTCAATACCTTGAGTTATACCAATGAATATATCTTTTCTTCGAGCTTGGCGCCTTCTCGCGCGTCGTACCGAACACATGAGTTCAACCCATTTCGGAGGAAACCTATTCCTACGCTCCTCGCAAGAAATCGCAGTTCGGTCACAAACTTTAAATATCCGCTCGACTTGTTTACGCAAAATCAGGGTATTTTATAAGGTAGTTAGCAGAGCGCCCCACGGTTCTGAACGGGCTGCTCGAGTAACACAGGGGTGGCATGTTCACATAACTGGGAGATGGTCGCGCTATAAACGATCACTTTTAAGGAAACTGTCATAGTGACCACCATGATAGATTTGTTGACCTACGTACGTCCTATGGAAGCACCGGTAGGACCATTGTCACAGCGGAGGAGCTTGAGCAAGCTTTCTTGATAAGGGGTTACGATAATCACCTTAAACCAGGGCTTACTCGGATGCGTTTCTGTGATCCGAAATGGTACAGTTGCTATAGCAGATAATTACACCGACGCCAGTGTTGACTGGATTAAGGGTTCTTTACAGACGGTGCCGGACGCCCTCGCAGGTAAAACCGACTAGTGCGGTGACCACGGCATCGAGGAATGGGCCCCTAAAGTCTTTATGACTGCTTACAATAGAGTCTCTGTCCTGAGGCGTCATTAACTCGTCGATGAGAAAGAAGCTACTTCTTGTGCAAGTGGCTTAACGTATCACTATCCTGGCTGTTAATCTAAT',\n",
        "   'sequence_4': 'TAATGGAGACAAATGAGAGGTAGTTGTCTAACCACAGGTTGTTGGTAGTATGCCGGTCTGAATCAGCTATCGTTGCGTAGGCTTGATGGAGCCGCCCAGCATGTTCGGAACTGGCTGTTCATGCACCAACCAGACCAAATAGCTGAGAGGCACGCACGGGAGAGATCCAATTTCGTCTACAACCAGCGTTCCAATCGGTGGTGGTTAAATTTTGATCTCCTGTGGTTCCTGCTCACTACCTGGTATGTGATTCCCTGAGGCTCTTAGTAGGGGCTGCCCCGTCTCCCGGCTTTAGCTCCGCCCGCCTAAAGGGGGGCGGGCAAGAGAGAGCACACTTGCGACTTTTAGGGACGGAGTACGGGCCGACTCGTTCATATGTCCCCAGGGTCAAGTCAAGTCATCAAAGGGTCCCACAGCCAATACCTCTTTATGATTCAAGAGTCGCTAGTCTGCCAGAATAAAGGATTTCGGACGTCTAGCCGATCGTCAAAAGGTCCCTAGGTGTTTGCGCATAACATCCCCCAGTTTGTTACGATCGTAAGTTATTGCGCTGCCGTCAGCGGATTACTTAGATGCGCCCACTCGGCCTTCAGTGAGGTAAAGAAGCGGCGGCGGCATTAGTGAGAACCCGCGGAGCCACTATGGAGTCCCTGAGCACGTTGAACTCCAGCTGGAATACCTCAGTCTCGACGCCTTATTATCAAGGGGGGCTTGTGGTTGACGTGGAGCTATAAACGTTTGTAGGAGCCCTGCGTGCTCGGTTCTTACTGGCCCTCTCAGTGTGTGTTGGGAAACCAGGGACTTGTGGCGCACGAGACAGCGTGATTGTGCTGTACGGTAGATGAGCTTATGTCTCGTTAATGCGTCTACAGTATAGTCGAGCTTTTGCAGTTTCGTCAAAGGAATGCTGCGGCGCCAAACTGACTGCGCTAGTCAACTCGCAATAGTTACTTCACCCCGAGGATGTGTATTGAGGTTATATTTAGCACCACGATGTGGA'}),\n",
        " ('1eab5',\n",
        "  {'creation_time': '3',\n",
        "   'id': '1eab568159d2b30b360eeadca29fb490ec114a43cb80da4ddcf9294a9984d8ee41fb2ef4a6aa45eac28554b3f5c3394d79cae26f4473769bd8fcd05ed6ceac22',\n",
        "   'segment_number': '4',\n",
        "   'sequence_1': 'GTGCTTTCATTCTAGAGCTCCATATGATGTATGATGTAAAACGACGGGCTTCAAGGAGTCATAAAACACAAAGCGCGCGGCCGCTAGATGGAACCCTACATTCACAAGATGAAAGGCTTATCAGCATAGTCCACTACATTTAATTCAATACCCCGTCACAATAGCTGAGTAAACATCTTGAAGGTCAGTACAATCCTTGGGCAGTCGGGACTAGCGAAATAGATCAGGGGCACTGCGGCATACTTGTCTATACGCACGGAAACTCATCGTCAATACCTTGAGTTATACCAATGAATATATCTTTTCTTCGAGCTTGGCGCCTTCTCGCGCGTCGTACCGAACACATGAGTTCAACCCATTTCGGAGGAAACCTATTCCTACGCTCCTCGCAAGAAATCGCAGTTCGGTCACAAACTTTAAATATCCGCTCGACTTGTTTACGCAAAATCAGGGTATTTTATAAGGTAGTTAGCAGAGCGCCCCACGGTTCTGAACGGGCTGCTCGAGTAACACAGGGGTGGCATGTTCACAAAACTGGGAGATGGTCGCGCTATAAACGATCACTTTTAAGGAAACTGTCATAGTGACCACCATGATAGATTTGTTGACCTACGTACGTCCTATGGAAGCACCGGTAGGACCATTGTCACAGCGGAGGAGCTTGAGCAAGCTTTCTTGATAAGGGGTTACGATAATCACCTTAAACCAGGGCTTACTCGGATGCGTTTCTGTGATCCGAAATGGTACAGTTGCTATAGCAGATAATTACACCGACGCCAGTGTTGACTGGATTAAGGGTTCTTTACAGACGGTGCCGGACGCCCTCGCAGGTAAAACCGACTAGTGCGGTGACCACGGCATCGAGGAATGGGCCCCTAAAGTCTTTATGACTGCTTACAATAGAGTCTCTGTCCTGAGGCGTCATTAACTCGTCGATGAGAAAGAAGCTACTTCTTGTGCAAGTGGCTTAACCTATCACTATCCTGGCTGTTAATCTAAT',\n",
        "   'sequence_4': 'TAATGGAGACAAATGAGAGGTAGTTTTCTAACCACAGGTTGTTGGTAGTATGCCGGTCTGAATCAGCTATCGTTGCGTAGGCTTGATGGAGCCGCCCAGCATGTTCGGAACTGGCTGTTCACGCACCAACCAGACCAAATAGCTGAGAGGCACGCACGGGAGAGATCCAATTTCGTCTACAACCAGCGTTCCAACCGGTGGTGGTTAAATTTTGATCTCCTGTGGTTGCTGCTCACTACCTGGTATGTGATTCCCTGAGGCTCTTAGTAGGGGCTGCCCCGTCTCCCGGCTTTAGCTCCGCCCGCCTAAAGGGGGGCGGGCAAGAGAGAGCACACTTGCGACTTTTAGGGACGGAGTACGGGCCGACTCGTTCATATGTCCCCAGGGTCAAGTCAAGTCATCAAAGGGTCCCACAGCCAATACCTCTTTATGATTCAAGAGTCGCTAGTCTGCCAGAATAGAGGATTTCGGACATCTAGCCGATCGTCAAAAGGTCCCTAGGTGTTTGCGCATAACATCCCCCAGTTTGTTACGATCGTAAGTTATTGCGCTGCCGTCAGCGGATTACTTAGATGCGCCCACTCGGCCTTCAGTGAGGTAAAGAAGCGGCGGCGGCAATAGTGAGAACCCGCGGAGCCACTATGGAGTCCCTGAGCACGTTGAACTCCAGCTGGAATACCTCAGTCTCGACGCCTTATTATCAAGGGGGGCTTGTGGATGACGTGGAGCTATAAACGTTTGTAGGAGCCCTGCGTGCTCGGTTCTTACTGGCCCTCTCAGTGTGTGTTGGGAAACCAGGGACTTGTGGCGCACGAGACAGCGTGATTGTGCTGTACGGTAGATGAGCTTATGTCTCGTTAATGCGTCTACAGTATAGTCGAGCTTTTGCAGTTTCGTCAAAGGAATGCTGCGGCGCCAAACTGACTGCGCTAGTCAACTCGCAATAGTTACTTCACCCCGAGGATGTGTATTGAGGTTATATTTAGCACCACGATCTGGA'}),\n",
        " ('85773',\n",
        "  {'creation_time': '0',\n",
        "   'id': '85773fcc99ef29d5e301ddecf8cb0f29ee5c5b6297f8511285cc07b4862c2f0180a586eedbdf518ab73395a9eaf17a462272af61ae01828fc1eea12bb3f2e4ad',\n",
        "   'segment_number': '4',\n",
        "   'sequence_1': 'GTGCTTTCATTCTAGAGCTCCATATGATGTATGATGTAAAACGACGGGCTTCAAGGAGTCATAAAACACAAAGCGCGCGGCCGCTAGATGGAACCCTACATTCACAAGATGAAAGGCTTATCAGCATAGTCCACTACATTTAATTCAATACCCCGTCACAATAGCTGAGTAAACATCTTCAAGGTCAGTACAATCCTTGGGCAGTCGGGACTAGCGAAATAGATCAGGGGCACTGCGGCATACTTGTCTATACGCACGGAAACTCATCGTCAATACCTTGAGTTATACCAATGAATATATCTTTTCTACGAGCTTGGCGCCTTCTCGCGCGTCGTACCGAACACATGAGTTCAACCCATTTCGGAGGAAACCTATTCCTACGCTCCTCGCAAGAAATCGCAGTTCGGTCACAAACTTTAAATATCCGCTCGACTTGTTTACGCAAAATCAGGGTATTTTATAAGGTAGTTAGCAGAGCGCCCCACGGTTCTGAACGGGCTGCTCGAGTAACACAGGGGTGGCATGTTCACAAAACTGGGAGATGGTCGCGCTATAAACGATCACTTTTAAGGAAACTGTCATAGTGACCACCATGATAGATTTGTTGACCTACGTACGTCCTATGGAAGCACCGGTAGGACCATTGTCACAGCGGAGGAGCTTGAGCAAGCTTTCTTGATAAGGGGTTACGATAATCACCTTAAACCAGGGCTTACTCGGATGCGTTTCTGTGATCCGAAATGGTACAGTTGCTATAGCAGATAATTACACCGACGCCAGTGTTGACTGGATTAAGGGTTCTTTACAGACGGTGCCGGACGCCCTCGCAGGTAAAACCGACTAGTGCGGTGACCACGGCATCGAGGAATGGGCCCCTAAAGTCTTTATGACTGCTTACAATAGAGTCTCTGTCCTGAGGCGTCATTAACTCGTCGATGAGAAAGAAGCTACTTCTTGTGCAAGTGGCTTAACCTATCACTATCCTGGCTGTTAATCTAAT',\n",
        "   'sequence_4': 'TTGTATCATATTCAGGGGCGTCCAGATCCCGACCGTACTTGGGAGTTCCGGGTTCCGACATCGGGTAACTACATCGCAGCTTATTAATGCGAACCATCAGTATTCCGAGCGGTTTCACCGAGGGAGTGTTGGATTGAGGGGAGGACTTGCGCAACGGCGCGGGTGACCTTCGAGTACCTGAATGGAGTGTAAAGCATGAGGTAAAGAACTGGCTAACGAGGGGAAGCAGAGCAGTAGGACATCTGTTTGGACTGCGGATATTTAGTCCTACACTTATCATCAAACGGCTAAGACTGGCGCAAGCCACAGGGGCTTGGACAAATTGTTGTCAGATCATCCACACATAGGACAACTGAGCATGTGCCACGGAACTGGGAAGCACTTCTAATGCAAGCTAGCTCCTTGCTGTGCAGGTATACCGCCCGTGTTGATACACAGCAGGTGAAAAAATACATGTCAATTCATCCGTGTGATCTCCACCTTAAAAATGGTAATAACAAAGTTAGCCGTAACTGTGTAAGACTACGGGCGCAGAAATATCGACGGCATCTTTGAGCACGAAGGAATGTGTCGTGACGTCTCGGGCTCATTGCTTGTTAGCACGGAGCTATTAAGGTGAAATATGAACCGCCATACGACGTGCGGAAACAGGAGGGTAGTCTCATTGTGCTAACCCAAGATATCGGTACCCTAGGTCCGACCAAATGCCGGGGCCATAGATATACCGGTGCGTATGGCCTCGCCGACAGATGCCTCGAAGTCAAAGGTACAAAGATGGTCTTACATGTAGTTTATCATGTATGACACGAGTGTAGTATTCATAGGCTAACATCATCACACCTACTCTTAGTATGCAACTGTATTGGCATGAACTACAGTATAGTCAATATGTATTCTGCAGGTTTATTGGCTCATTGTAACAAATTGCTATGAAAGCAGCACCATTCACGAAGCTTCTACAGGTTACGGGTGCGTCCCGGTAAGTACGCGCTTCCAGTTT'}),\n",
        " ('180d4',\n",
        "  {'creation_time': '1',\n",
        "   'id': '180d4f3e21587380c1ba093cd69ffb1c763bc8d37e4b72afd0f262bb29c6b18b9ec9358724b7448421c7fe4c2a241f56ec25f9eab8700e7d8ed0acf3a1ff7340',\n",
        "   'segment_number': '4',\n",
        "   'sequence_1': 'GTGCTTTCATTCTAGAGCTCCATATGATGTATGATGTAAAACGACGGGCTTCAAGGAGTCATAAAACACAAAGCGCGCGGCCGCTAGATGGAACCCTACATTCACAAGATGAAAGGCTTATCAGCATAGTCCACTACATTTAATTCAATACCCCGTCACAATAGCTGAGTAAACATCTTCAAGGTCAGTACAATCCTTGGGCAGTCGGGACTAGCGAAATAGATCAGGGGCACTGCGGCATACTTGTCTATACGCACGGAAACTCATCGTCAATACCTTGAGTTATACCAATGAATATATCTTTTCTACGAGCTTGGCGCCTTCTCGCGCGTCGTACCGAACACATGAGTTCAACCCATTTCGGAGGAAACCTATTCCTACGCTCCTCGCAAGAAATCGCAGTTCGGTCACAAACTTTAAATATCCGCTCGACTTGTTTACGCAAAATCAGGGTATTTTATAAGGTAGTTAGCAGAGCGCCCCACGGTTCTGAACGGGCTGCTCGAGTAACACAGGGGTGGCATGTTCACAAAACTGGGAGATGGTCGCGCTATAAACGATCACTTTTAAGGAAACTGTCATAGTGACCACCATGATAGATTTGTTGACCTACGTACGTCCTATGGAAGCACCGGTAGGACCATTGTCACAGCGGAGGAGCTTGAGCAAGCTTTCTTGATAAGGGGTTACGATAATCACCTTAAACCAGGGCTTACTCGGATGCGTTTCTGTGATCCGAAATGGTACAGTTGCTATAGCAGATAATTACACCGACGCCAGTGTTGACTGGATTAAGGGTTCTTTACAGACGGTGCCGGACGCCCTCGCAGGTAAAACCGACTAGTGCGGTGACCACGGCATCGAGGAATGGGCCCCTAAAGTCTTTATGACTGCTTACAATAGAGTCTCTGTCCTGAGGCGTCATTAACTCGTCGATGAGAAAGAAGCTACTTCTTGTGCAAGTGGCTTAACCTATCACTATCCTGGCTGTTAATCTAAT',\n",
        "   'sequence_4': 'CTGTATCATATTCAGGGGCGTCCAGATCCCGACCGTACTTGGGAGTTCCGGGTTCCGACATCGGGTAACTACATCGCAGCTTATTAATGCGAACCATCAGTATTCCGAGCGGTTTCACCGAGGGAGTGTTGGATTGAGGAGAGGACTTGCGCAACGGCGCGGGTGACCTTCAAGTACCTGAATGGAGTGTAAAGCATGAGGTAAAGAACTGGCTAACGAGGCGAAGCAGAGCAGTAGGACATCTGTTTGGACTGCGGATATTTAGTCCTACGCTTATCATCAAACGGCTAAGACTGGCGCAAGCCACAGGGGCTTGGACAAATTGTTGTCAGATCATCCACACATAGGACAACTGAGCATGTGCCACGGAACTGGGAAGCACTTCCAATGCAAGCTAGCTCCTTGCTGTGCAGGTATACCGCCCGTGTTGATACACAGCAGGTGAAAAAATACATGTCAATTCATCCGTGTGATCTCCACCTTAAAAATGGTAATAACAAAGTTAGCCGAAACTGTGTAAGACTACGGGCGCAGAAAGATCGACGGCATCTTTGAGCACGAAGGAATGTGTCGTGTCGTCTCGGGCTCATTGCTTGTTAGCAGGGAGCTATTAAGGTGAAATATGAACCGCCATACGACGTGCGGAAACAGGAGGGTAGTCTCATTGTTCTAACCCAAGATATCGGTACCCTAGGTCCGACCAAATGCCGGGGCCATAGATATACCGGTGCGTATGGCCTCGCCGACAGATGCCTCGAAGTCAAAGGTACAAAGATGGTCTTACATGTAGTTTATCATGTATGACACGAGTGTAGTATTCATAGGCTAACATCATCACACCTACTCTTAGTATGCAACTGTATTGGCATGAACTACAGTATAGTCAATATGTATTCTGCAGGTTTATTGGCTCATTGTAACAAATTGCTATGAAAGCAGCACCATTCACGAAGCTTCTACAGGTTACGGGTGCGTCCCGGTAAGTACGCGCTTCCAGTTT'}),\n",
        " ('dec4f',\n",
        "  {'creation_time': '4',\n",
        "   'id': 'dec4f2543f7bf694cd7d482c22eaec71e87b1572b650cff38487540e89f05fb4c9971f92d8292cce1c04f0fa0cdcc3be0aceff5d229d6a6c1377476ea63ffec1',\n",
        "   'segment_number': '4',\n",
        "   'sequence_1': 'GTGCTTTCATTCTAGAGCTCCATATGATGTATGATGTAAAACGACGGGCTTCAAGGAGTCATAAAACACAAAGCGCGCGGCCGCTAGATGGAACCCTACATTCACAAGATGAAAGGCTTATCAGCATAGTCCACTACATTTAATTCAATACCCCGTCACAATAGCTGAGTAAACATCTTCAAGGTCAGTACAATCCTTGGGCAGTCGGGACTAGCGAAATAGATCAGGGGCACTGCGGCATACTTGTCTATACGCACGGAAACTCATCGTCAATACCTTGAGTTATACCAATGAATATATCTTTTCTACGAGCTTGGCGCCTTCTCGCGCGTCGTACCGAACACATGAGTTCAACCCATTTCGGAGGAAACCTATTCCTACGCTCCTCGCAAGAAATCGCAGTTCGGTCACAAACTTTAAATATCCGCTCGACTTGTTTACGCAAAATCAGGGTATTTTATAAGGTAGTTAGCAGAGCGCCCCACGGTTCTGAACGGGCTGCTCGAGTAACACAGGGGTGGCATGTTCACAAAACTGGGAGATGGTCGCGCTATAAACGATCACTTTTAAGGAAACTGTCATAGTGACCACCATGATAGATTTGTTGACCTACGTACGTCCTATGGAAGCACCGGTAGGACCATTGTCACAGCGGAGGAGCTTGAGCAAGCTTTCTTGATAAGGGGTTACGATAATCACCTTAAACCAGGGCTTACTCGGATGCGTTTCTGTGATCCGAAATGGTACAGTTGCTATAGCAGATAATTACACCGACGCCAGTGTTGACTGGATTAAGGGTTCTTTACAGACGGTGCCGGACGCCCTCGCAGGTAAAACCGACTAGTGCGGTGACCACGGCATCGAGGAATGGGCCCCTAAAGTCTTTATGACTGCTTACAATAGAGTCTCTGTCCTGAGGCGTCATTAACTCGTCGATGAGAAAGAAGCTACTTCTTGTGCAAGTGGCTTAACCTATCACTATCGTGGCTGTTAATCTAAT',\n",
        "   'sequence_4': 'CAATGGAGACAAATGAGAGGTAGTTTTCTAACCACAGGTTGTTAGTAGTATGCCGGTCTGATTCAGCTATCGTTGCGTAGGCTTGATGGAGCCGCCCAGCATGTTCGGAACTGGCTGTTCACGCACCAACCAGACCAAATAGCTGAGAGGCACGCACGGGAGAGATCCAATTTCGTTTACAACCAGCGTTCCAACCGGTGGTGGTTAAATTTTGATCTCCTGTGGTTGCTGCTCACTACCTGGTATGTGATTCCCTGAGGCTCTTAGTAGGGGCTGCCCCGTCTCCCGGCTTTAGCTCCGCCCGCCTAAAGGGGAGCGGGCAAGAGAGAGCACACTTGCGACTTTTAGGGACGTAGTACGGGCCGACTCGTTCATATGTCCACAGGATCATGTCAAGTCATCAAAGGGTCCCACAGCCAATACTTCTTTATGATTCAAGAGTCGCTAGTCTGCCAGAATAGAGGATTTCGGACATCTAGCCGATCGTCAAAAGGTCCCTAGGTGTTTGCGCATAACATCCCCCAGTCTGTTACGATCGTAAGTTATTGCGCCGCCGTCAGCGGATTACTTAGATGCGCCCACTCGGCCTTCAGTGAGTTAATGAAGCGGCGGCGGCAATATTGAGAACCCGCCGAGCCACTATGGAGTCCCTGTGCACGTTGAACTCCAGCTGGAATACCTCAGTCTCGACGCCTTATTATCAAGGGGGGCTTGTGGATGACGTGGAGCTATAAACGTTTGTAGTAGCGCTGCGTGCTCGGTACTTACTGGCCCTCTCAGTGTGTGTTGGGAAACCAGAGACTTGTGGCGCACGAGACAGCGTGATTGTGCTGTACGGTAGATGAGCTTATGTCTCGTTAATGCGTTTACAGTATAGTCGAGCTTTTGCAGTTTCGTCAAAGGAATGCTGCGGCGCCAAACTGACTGCGCTCGTAAACTCGCAATAGTTACTTGAACCCGAGGATGTGTAATGAGGTTATGTTTAGCACCACGATCTGGA'}),\n",
        " ('79f72',\n",
        "  {'creation_time': '5',\n",
        "   'id': '79f7260a97a7d82cd8630dbc017fa15286f726af8101998fbc8206a788b7afd7bc3df3a97f26f5a6c310765a8cd071b366d2ac3184fbede4bf640b76b94382df',\n",
        "   'segment_number': '4',\n",
        "   'sequence_1': 'GTGCTTTCATTCTAGAGCTCCATATGATGTATGATGTAAAACGACGGGCTTCAAGGAGTCATAAAACACAAAGCGCGCGGCCGCTAGATGGAACCCTACATTCACAAGATGAAAGGCTTATCAGCATAGTCCACTACATTTAATTCAATACCCCGTCACAATAGCTGAGTAAACATCTTCAAGGTCAGTACAATCCTTGGGCAGTCGGGACTAGCGAAATAGATCAGGGGCACTGCGGCATACTTGTCTATACGCACGGAAACTCATCGTCAATACCTTGAGTTATACCAATGAATATATCTTTTCTACGAGCTTGGCGCCTTCTCGCGCGTCGTACCGAACACATGAGTTCAACCCATTTCGGAGGAAACCTATTCCTACGCTCCTCGCAAGAAATCGCAGTTCGGTCACAAACTTTAAATATCCGCTCGACTTGTTTACGCAAAATCAGGGTATTTTATAAGGTAGTTAGCAGAGCGCCCCACGGTTCTGAACGGGCTGCTCGAGTAACACAGGGGTGGCATGTTCACAAAACTGGGAGATGGTCGCGCTATAAACGATCACTTTTAAGGAAACTGTCATAGTGACCACCATGATAGATTTGTTGACCTACGTACGTCCTATGGAAGCACCGGTAGGACCATTGTCACAGCGGAGGAGCTTGAGCAAGCTTTCTTGATAAGGGGTTACGATAATCACCTTAAACCAGGGCTTACTCGGATGCGTTTCTGTGATCCGAAATGGTACAGTTGCTATAGCAGATAATTACACCGACGCCAGTGTTGACTGGATTAAGGGTTCTTTACAGACGGTGCCGGACGCCCTCGCAGGTAAAACCGACTAGTGCGGTGACCACGGCATCGAGGAATGGGCCCCTAAAGTCTTTATGACTGCTTACAATAGAGTCTCTGTCCTGAGGCGTCATTAACTCGTCGATGAGAAAGAAGCTACTTCTTGTGCAAGTGGCTTAACCTATCACTATCGTGGCTGTTAATCTAAT',\n",
        "   'sequence_4': 'CAATGGAGACAAATGAGAGGTAGTTTTCTAAGCACAGGTTGTTAGTAGTATGGAGGTCTGATTCAGCTATCGTTGCGTAGGCTTGATGGAGCCGCCCAGCATGTTCGGAACTGGCTGTTCACGCGCCAACCAGACCAAATAGCTGAGAGGCACGCACGGGAGAGATCCAATTTCGTTTACAACCAGCGTTCCAACCGGTGGTGGTTAAATTTTGATCTCCTGTGGTTGCTGCTCACTACCTGGTATGTGATTCCCTGAGGCTCTTAGTAGGGGCTGCCCCGTCTCCCGGCTTTAGCTCCGCCCGCCTAAAGGGGAGCGGGCAAGAGAGAGCACACTTGCGACTTTTAGGGACGTAGTACGGGCCGACTCGTTCATATTTCCACAGGATCATGTCAAGTCATCAAAGGGTCCCACAGCCAATACTTCTTTATGATTCAAGAGTCGCTAGTCTCCCAGAATAGAGGATTTCGGACATCTAGCCGATCGTCAAAAGGTCCCTAGGTGTTTGCGCATAACATCCCCCAGTCTGTTACGATCGTAAGTTATTGCGCCGCCGTCAGCGGATTACTTAGATGCGCTCACTCCGCCTTCAGTGAGTTAATGAAGCGGCGGCGGCAATATTGCGAACCCGCCGAGCCACTATGGAGTCCCTGTGCACGTTGAACTCCAGCTGGAATACCTCAGTCTCGACGCCTTATTATCAAGGGGGGCTTGTGGATGACGTGGAGCAATAAACGTTTGTAGTAGCGCTGCGTGCTCGGTACTTACTGGCCCTCTCAGTTTGTGTTGGGAAACCAGAGACTTGTGGCGCACGAGACAGCGTGATTGTGCTGTGCGGTAGATGAGCTTATGTCTCGTTAATGCGTTTACAGTATAGTCGAGCTTTTGCAGTTTCGTCAAAGGAATGCTGCGGCGCCAAACTGACTGCGCTCGTAAACTCGCAATAGTTACTTTAACCCGAGGATGTGTAATGAGGTTATGTTTAGCACCACGATCTGGA'}),\n",
        " ('fef02',\n",
        "  {'creation_time': '0',\n",
        "   'id': 'fef021671ed191a355cfd8d47ab435073da74cb5936026f559e987570e79a54e504e5940700d8d92df61203d7042d670862a0f337c149ff429a5cead45a84632',\n",
        "   'segment_number': '4',\n",
        "   'sequence_1': 'GTGCTTTCATTCTAGAGCTCCATATGATGTATGATGTAAAACGACGGGCTTCAAGGAGTCATAAAACACAAAGCGCGCGGCCGCTAGATGGAACCCTACATTCACAAGATGAAAGGCTTATCAGCATAGTCCACTACATTTAATTCAATACCCCGTCACAATAGCTGAGTAAACATCTTCAAGGTCAGTACAATCCTTGGGCAGTCGGGACTAGCGAAATAGATCAGGGGCACTGCGGCATACTTGTCTATACGCACGGAAACTCATCGTCAATACCTTGAGTTATACCAATGAATATATCTTTTCTACGAGCTTGGCGCCTTCTCGCGCGTCGTACCGAACACATGAGTTCAACCCATTTCGGAGGAAACCTATTCCTACGCTCCTCGCAAGAAATCGCAGTTCGGTCACAAACTTTAAATATCCGCTCGACTTGTTTACGCAAAATCAGGGTATTTTATAAGGTAGTTAGCAGAGCGCCCCACGGTTCTGAACGGGCTGCTCGAGTAACACAGGGGTGGCATGTTCACAAAACTGGGAGATGGTCGCGCTATAAACGATCACTTTTAAGGAAACTGTCATAGTGACCACCATGATAGATTTGTTGACCTACGTACGTCCTATGGAAGCACCGGTAGGACCATTGTCACAGCGGAGGAGCTTGAGCAAGCTTTCTTGATAAGGGGTTACGATAATCACCTTAAACCAGGGCTTACTCGGATGCGTTTCTGTGATCCGAAATGGTACAGTTGCTATAGCAGATAATTACACCGACGCCAGTGTTGACTGGATTAAGGGTTCTTTACAGACGGTGCCGGACGCCCTCGCAGGTAAAACCGACTAGTGCGGTGACCACGGCATCGAGGAATGGGCCCCTAAAGTCTTTATGACTGCTTACAATAGAGTCTCTGTCCTGAGGCGTCATTAACTCGTCGATGAGAAAGAAGCTACTTCTTGTGCAAGTGGCTTAACCTATCACTATCCTGGCTGTTAATCTAAT',\n",
        "   'sequence_4': 'TAATGGAGACAAATGAGAGGTAGTTTTCTAACCACAGGTTGTTAGTAGTATGCCGGTCTGATTCAGCTATCGTTGCGTAGGCTTGATGGAGCCGCCCAGCATGTTCGGAACTGGCTGTTCACGCACCAACCAGACCAAATAGCTGAGAGGCACGCACGGGAGAGATCCAATTTCGTTTACAACCAGCGTTCCAACCGGTGGTGGTTAAATTTTGATCTCCTGTGGTTGCTGCTCACTACCTGGTATGTGATTCCCTGAGGCTCTTAGTAGGGGCTGCCCCGTCTCCCGGCTTTAGCTCCGCCCGCCTAAAGGGGAGCGGGCAAGAGAGAGCACACTTGCGACTTTTAGGGACGTAGTACGGGCCGACTCGTTCATATGTCCACAGGATCATGTCAAGTCATCAAAGGGTCCCACAGCCAATACTTCTTTATGATTCAAGAGTCGCTAGTCTGCCAGAATAGAGGATTTCGGACATCTAGCCGATCGTCAAAAGGTCCCTAGGTGTTTGCGCATAACATCCCCCAGTCTGTTACGATCGTAAGTTATTGCGCTGCCGTCAGCGGATTACTTAGATGCGCCCACTCGGCCTTCAGTGAGTTAATGAAGCGGCGGCGGCAATAGTGAGAACCCGCCGAGCCACTATGGAGTCCCTGTGCACGTTGAACTCCAGCTGGAATACCTCAGTCTCGACGCCTTATTATCAAGGGGGGCTTGTGGATGACGTGGAGCTATAAACGTTTGTAGGAGCCCTGCGTGCTCGGTACTTACTGGCCCTCTCAGTGTGTGTTGGGAAACCAGAGACTTGTGGCGCACGAGACAGCGTGATTGTGCTGTACGGTAGATGAGCTTATGTCTCGTTAATGCGTCTACAGTATAGTCGAGCTTTTGCAGTTTCGTCAAAGGAATGCTGCGGCGCCAAACTGACTGCGCTCGTAAACTCGCAATAGTTACTTGAACCCGAGGATGTGTAATGAGGTTATGTTTAGCACCACGATCTGGA'}),\n",
        " ('60bce',\n",
        "  {'creation_time': '9',\n",
        "   'id': '60bce5bf543f356ae94358fe0f19de5a1d42bee4303cc001a0e48a37b08a60df993a6bcdd271254d88f77621c1e6c88be18b8358952a76ecc26e5d3cefe5cb8a',\n",
        "   'segment_number': '4',\n",
        "   'sequence_1': 'GTGCTTTCATTCTAGAGCTCCATATGATGTATGATGTAAAACGACGGGCTTCAAGGAGTCATAAAACACAAAGCGCGCGGCCGCTAGATGGAACCCTACATTCACAAGATGAAAGGCTTATCAGCATAGTCCACTACATTTAATTCAATACCCCGTCACAATAGCTGAGTAAACATCTTGAAGGTCAGTACAATCCTTGGGCAGTCGGGACTAGCGAAATAGATCAGGGGCACTGCGGCATACTTGTCTATACGCACGGAAACTCATCGTCAATACCTTGAGTTATACCAATGAATATATCTTTTCTTCGAGCTTGGCGCCTTCTCGCGCGTCGTACCGAACACATGAGTTCAACCCATTTCGGAGGAAACCTATTCCTACGCTCCTCGCAAGAAATCGCAGTTCGGTCACAAACTTTAAATATCCGCTCGACTTGTTTACGCAAAATCAGGGTATTTTATAAGGTAGTTAGCAGAGCGCCCCACGGTTCTGAACGGGCTGCTCGAGTAACACAGGGGTGGCATGTTCACAAAACTGGGAGATGGTCGCGCTATAAACGATCACTTTTAAGGAAACTGTCATAGTGACCACCATGATAGATTTGTTGACCTACGTACGTCCTATGGAAGCATCGGTAGGACCATTGTCACAGCGGAGGAGCTTGAGCAAGCTTTCTTGATAAGGGGTTACGATAATCACCTTAAACCAGGGCTTACTCGGATGCGTTTCTGTGATCCGAAATGGTACAGTTGCTATAGCAGATAATTACACCGACGCCAGTGTTGACTGGATTAAGGGTTCTTTACAGACGGTGCCGGACGCCCTCGCAGGTAAAACCGACTAGTGCGGTGACCACGGCATCGAGGAATGGGCCCCTAAAGTCTTTATGACTGCTTACAATAGAGTCTCTGTCCTGAGGCGTCATTAACTCGTCGATGAGAAAGAAGCTACTTCTTGTGCAAGTGGCTTAACCTATCACTATCCTGGCTGTTAATCTAAT',\n",
        "   'sequence_4': 'TAATGGAGACAAATGAGAGGTAGCTTTCTAACCACAGGTTGTTGGTAGTATGCCGGTCTGAATCAGCTATCGTTGCGTAGGCTTGATGGAGCCGCCCAGCATGTTCGGAACTGGCTGTTCACGCACCAACCAGACCAAATAGCTGAGAGGCACGCACGGGAGAGATCCAATTTCGTCTACAACCAGCGTTCCAACCGGTAGTGGTTAAATTTTGATCTCCTGTGGTAGCTGCTCACTACCTGGTATGTGATTCCCTGAGGCTCTTAGTTGGGGCTGCCCCGTCTCCCGGCTTTACCTCCGCCCGCCTAAAGGGGGGCGGGCAAGAGAGAGCACACTTGCGACTTTTAGGGACGGAGTACGGGCCGACGCGTTCATATGTCCCCAGGGTCAAGTCAAGTCATCAAAGGGTCACACAGCCAATACCTCTTTATGATTCAAGAGTCGCTAGTCTGCCAGAATAGAGGATTTCGGACATCTAGCCGATCGTCAAAAGGTGCCTAGGTGTTTGCGCATAACATCCCCCAGTTTGTTACGATCGTAAGTTATTGCGCTGCCGTCAGCGGATTACTTAGATGCGCCCACTCGGCCTTCAGTGAGGTAAAGAAGCGGCGGCGGCAACAGTGAGAACCCGCGGAGCCACTATGGAGTCCCTGAGCACGTTGAACTCCAGCTGGAATACCTCAGTCTCGACGCCTTATTATCAAGGGGGGCTTGTGGATGACGTGGAGCTATAAACTTTTGTAGGAGCCCTGCGTGCTCGGTTCTTACTGGCCCTCTCAGTGTGTGTTGGGAAACCAGGGACTTGTGGCGCACGAGACAGCGTGATTGTGCTGTACGGTAGATGAGCTTATGTCTCGTTAATGCGTCTACAGTATAGTCGAACTTTTGCAGTTTCGTCAAAGGAATGCTGCGGCGCCAAACTGACTGCGCTAGTCAACTCGCAATAGTTACTTCACCCCGAGGATTTGTATTGAGGTTATATTTAGCACCACGATCTGGA'}),\n",
        " ('0670f',\n",
        "  {'creation_time': '2',\n",
        "   'id': '0670f599976f6072e166750d1ff165cf75acd1f76f8e9f0c83e2342495c13e74b3ac7209ec931dde1a7822af26e7c508d492d72636970f72dd70e37c1a75932d',\n",
        "   'segment_number': '4',\n",
        "   'sequence_1': 'GTGCTTTCATTCTAGAGCTCCATATGATGTATGATGTAAAACGACGGGCTTCAAGGAGTCATAAAACACAAAGCGCGCGGCCGCTAGATGGAACCCTACATTCACAAGATGAAAGGCTTATCAGCATAGTCCACTACATTTAATTCAATACCCCGTCACAATAGCTGAGTAAACATCTTGAAGGTCAGTACAATCCTTGGGCAGTCGGGACTAGCGAAATAGATCAGGGGCACTGCGGCATACTTGTCTATACGCACGGAAACTCATCGTCAATACCTTGAGTTATACCAATGAATATATCTTTTCTACGAGCTTGGCGCCTTCTCGCGCGTCGTACCGAACACATGAGTTCAACCCATTTCGGAGGAAACCTATTCCTACGCTCCTCGCAAGAAATCGCAGTTCGGTCACAAACTTTAAATATCCGCTCGACTTGTTTACGCAAAATCAGGGTATTTTATAAGGTAGTTAGCAGAGCGCCCCACGGTTCTGAACGGGCTGCTCGAGTAACACAGGGGTGGCATGTTCACAAAACTGGGAGATGGTCGCGCTATAAACGATCACTTTTAAGGAAACTGTCATAGTGACCACCATGATAGATTTGTTGACCTACGTACGTCCTATGGAAGCACCGGTAGGACCATTGTCACAGCGGAGGAGCTTGAGCAAGCTTTCTTGATAAGGGGTTACGATAATCACCTTAAACCAGGGCTTACTCGGATGCGTTTCTGTGATCCGAAATGGTACAGTTGCTATAGCAGATAATTACACCGACGCCAGTGTTGACTGGATTAAGGGTTCTTTACAGACGGTGCCGGACGCCCTCGCAGGTAAAACCGACTAGTGCGGTGACCACGGCATCGAGGAATGGGCCCCTAAAGTCTTTATGACTGCTTACAATAGAGTCTCTGTCCTGAGGCGTCATTAACTCGTCGATGAGAAAGAAGCTACTTCTTGTGCAAGTGGCTTAACCTATCACTATCCTGGCTGTTAATCTAAT',\n",
        "   'sequence_4': 'TAATGGAGACAAATGAGAGGTAGTTTTCTAACCACAGGTTGTTAGTAGTATGCCGGTCTGATTCAGCTATCGTTGCGTAGGCTTGATGGAGCCGCCCAGCATGTTCGGAACTGGCTGTTCACGCACCAACCAGACCAAATAGCTGAGAGGCACGCACGGGAGAGATCCAATTTCGTTTACAACCAGCGTTCCAACCGGTGGTGGTTAAATTTTGATCTCCTGTGGTTGCTGCTCACTACCTGGTATGTGATTCCCTGAGGCTCTTAGTAGGGGCTGCCCCGTCTCCCGGCTTTAGCTCCGCCCGCCTAAAGGGGAGCGGGCAAGAGAGAGCACACTTGCGACTTTTAGGGACGGAGTACGGGCCGACTCGTTCATATGTCCCCAGGGTCAAGTCAAGTCATCAAAGGGTCCCACAGCCAATACCTCTTTATGATTCAAGAGTCGCTAGTCTGCCAGAATAGAGGATTTCGGACATCTAGCCGATCGTCAAAAGGTCCCTAGGTGTTTGCGCATAACATCCCCCAGTTTGTTACGATCGTAAGTTATTGCGCTGCCGTCAGCGGATTACTTAGATGCGCCCACTCGGCCTTCAGTGAGGTAAAGAAGCGGCGGCGGCAATAGTGAGAACCCGCGGAGCCACTATGGAGTCCCTGAGCACGTTGAACTCCAGCTGGAATACCTCAGTCTCGACGCCTTATTATCAAGGGGGGCTTGTGGATGACGTGGAGCTATAAACGTTTGTAGGAGCCCTGCGTGCTCGGTACTTACTGGCCCTCTCAGTGTGTGTTGGGAAACCAGAGACTTGTGGCGCACGAGACAGCGTGATTGTGCTGTACGGTAGATGAGCTTATGTCTCGTTAATGCGTCTACAGTATAGTCGAGCTTTTGCAGTTTCGTCAAAGGAATGCTGCGGCGCCAAACTGACTGCGCTAGTCAACTCGCAATAGTTACTTGAACCCGAGGATGTGTATTGAGGTTATATTTAGCACCACGATCTGGA'})]"
       ]
      }
     ],
     "prompt_number": 25
    },
    {
     "cell_type": "code",
     "collapsed": false,
     "input": [
      "# This code is used for drawing.\n",
      "from random import randint\n",
      "\n",
      "randints = []\n",
      "for node in r.condensed_graph().nodes(data=True):\n",
      "    randints.append(randint(1, 20))\n",
      "print randints\n",
      "\n",
      "reconstruction_positions = dict()\n",
      "for i, node in enumerate(sorted(r.condensed_graph().nodes(data=True))):\n",
      "    reconstruction_positions[node[0]] = (int(node[1]['creation_time']), randints[i])\n",
      "    \n",
      "print len(reconstruction_positions)\n",
      "nx.draw(r.condensed_graph(), pos=reconstruction_positions)"
     ],
     "language": "python",
     "metadata": {},
     "outputs": [
      {
       "output_type": "stream",
       "stream": "stdout",
       "text": [
        "[17, 15, 10, 5, 7, 18, 17, 3, 14, 8, 18]\n",
        "11\n"
       ]
      },
      {
       "metadata": {},
       "output_type": "display_data",
       "png": "[encoded data removed]",
       "text": [
        "<matplotlib.figure.Figure at 0x106519cd0>"
       ]
      }
     ],
     "prompt_number": 26
    },
    {
     "cell_type": "code",
     "collapsed": false,
     "input": [
      "simulation_positions = dict()\n",
      "\n",
      "print randints\n",
      "for i, pathogen in enumerate(s.pathogens):\n",
      "    simulation_positions[pathogen] = reconstruction_positions[str(pathogen)]\n",
      "    \n",
      "print len(simulation_positions)\n",
      "nx.draw(s.transmission_graph(), pos=simulation_positions)"
     ],
     "language": "python",
     "metadata": {},
     "outputs": [
      {
       "output_type": "stream",
       "stream": "stdout",
       "text": [
        "[17, 15, 10, 5, 7, 18, 17, 3, 14, 8, 18]\n",
        "11\n"
       ]
      },
      {
       "metadata": {},
       "output_type": "display_data",
       "png": "[encoded data removed]",
       "text": [
        "<matplotlib.figure.Figure at 0x106529610>"
       ]
      }
     ],
     "prompt_number": 27
    },
    {
     "cell_type": "code",
     "collapsed": false,
     "input": [
      "s.pathogens[0].parent"
     ],
     "language": "python",
     "metadata": {},
     "outputs": [
      {
       "metadata": {},
       "output_type": "pyout",
       "prompt_number": 28,
       "text": [
        "{}"
       ]
      }
     ],
     "prompt_number": 28
    },
    {
     "cell_type": "code",
     "collapsed": false,
     "input": [
      "r.condensed_graph().edges(data=True)"
     ],
     "language": "python",
     "metadata": {},
     "outputs": [
      {
       "metadata": {},
       "output_type": "pyout",
       "prompt_number": 29,
       "text": [
        "[('1eab5', '60bce', {'segments': [1, 4], 'weight': 13}),\n",
        " ('1eab5', 'e02ca', {'segments': [1, 4], 'weight': 11}),\n",
        " ('85773', 'cd044', {'segments': [1], 'weight': 2}),\n",
        " ('85773', '180d4', {'segments': [1, 4], 'weight': 11}),\n",
        " ('85773', '0670f', {'segments': [1], 'weight': 1}),\n",
        " ('85773', 'dec4f', {'segments': [1], 'weight': 1}),\n",
        " ('180d4', 'cd044', {'segments': [1, 4], 'weight': 10}),\n",
        " ('180d4', '0670f', {'segments': [1], 'weight': 1}),\n",
        " ('180d4', 'dec4f', {'segments': [1], 'weight': 1}),\n",
        " ('dec4f', 'ec974', {'segments': [1, 4], 'weight': 10}),\n",
        " ('dec4f', '79f72', {'segments': [1, 4], 'weight': 13}),\n",
        " ('79f72', 'ec974', {'segments': [1], 'weight': 0}),\n",
        " ('fef02', 'cd044', {'segments': [1], 'weight': 2}),\n",
        " ('fef02', '180d4', {'segments': [1], 'weight': 0}),\n",
        " ('fef02', '0670f', {'segments': [1, 4], 'weight': 15}),\n",
        " ('fef02', 'dec4f', {'segments': [1, 4], 'weight': 7}),\n",
        " ('0670f', '1eab5', {'segments': [1, 4], 'weight': 9})]"
       ]
      }
     ],
     "prompt_number": 29
    },
    {
     "cell_type": "code",
     "collapsed": false,
     "input": [
      "for virus in s.reassortants():\n",
      "    print virus"
     ],
     "language": "python",
     "metadata": {},
     "outputs": [],
     "prompt_number": 30
    },
    {
     "cell_type": "code",
     "collapsed": false,
     "input": [
      "for virus in r.reassortants():\n",
      "    print virus[0]"
     ],
     "language": "python",
     "metadata": {},
     "outputs": [],
     "prompt_number": 31
    },
    {
     "cell_type": "code",
     "collapsed": false,
     "input": [
      "s.transmission_graph().edges(data=True)"
     ],
     "language": "python",
     "metadata": {},
     "outputs": [
      {
       "metadata": {},
       "output_type": "pyout",
       "prompt_number": 32,
       "text": [
        "[(1eab5, e02ca, {'segments': [1, 4], 'weight': 11}),\n",
        " (1eab5, 60bce, {'segments': [1, 4], 'weight': 13}),\n",
        " (0670f, 1eab5, {'segments': [1, 4], 'weight': 9}),\n",
        " (85773, 180d4, {'segments': [1, 4], 'weight': 11}),\n",
        " (dec4f, 79f72, {'segments': [1, 4], 'weight': 13}),\n",
        " (dec4f, ec974, {'segments': [1, 4], 'weight': 10}),\n",
        " (fef02, 0670f, {'segments': [1, 4], 'weight': 15}),\n",
        " (fef02, dec4f, {'segments': [1, 4], 'weight': 7}),\n",
        " (180d4, cd044, {'segments': [1, 4], 'weight': 10})]"
       ]
      }
     ],
     "prompt_number": 32
    },
    {
     "cell_type": "markdown",
     "metadata": {},
     "source": [
      "# Test Relabeled Graph"
     ]
    },
    {
     "cell_type": "code",
     "collapsed": false,
     "input": [
      "for pathogen in s.pathogens:\n",
      "    print (str(pathogen), str(pathogen.parent))"
     ],
     "language": "python",
     "metadata": {},
     "outputs": [
      {
       "output_type": "stream",
       "stream": "stdout",
       "text": [
        "('85773', '{}')\n",
        "('fef02', '{}')\n",
        "('180d4', '{85773: [1, 4]}')\n",
        "('0670f', '{fef02: [1, 4]}')\n",
        "('1eab5', '{0670f: [1, 4]}')\n",
        "('dec4f', '{fef02: [1, 4]}')\n",
        "('79f72', '{dec4f: [1, 4]}')\n",
        "('e02ca', '{1eab5: [1, 4]}')\n",
        "('cd044', '{180d4: [1, 4]}')\n",
        "('ec974', '{dec4f: [1, 4]}')\n",
        "('60bce', '{1eab5: [1, 4]}')\n"
       ]
      }
     ],
     "prompt_number": 33
    },
    {
     "cell_type": "code",
     "collapsed": false,
     "input": [
      "s.relabeled_transmission_graph().edges(data=True)"
     ],
     "language": "python",
     "metadata": {},
     "outputs": [
      {
       "metadata": {},
       "output_type": "pyout",
       "prompt_number": 34,
       "text": [
        "[('1eab5', '60bce', {'segments': [1, 4], 'weight': 13}),\n",
        " ('1eab5', 'e02ca', {'segments': [1, 4], 'weight': 11}),\n",
        " ('85773', '180d4', {'segments': [1, 4], 'weight': 11}),\n",
        " ('180d4', 'cd044', {'segments': [1, 4], 'weight': 10}),\n",
        " ('dec4f', 'ec974', {'segments': [1, 4], 'weight': 10}),\n",
        " ('dec4f', '79f72', {'segments': [1, 4], 'weight': 13}),\n",
        " ('fef02', '0670f', {'segments': [1, 4], 'weight': 15}),\n",
        " ('fef02', 'dec4f', {'segments': [1, 4], 'weight': 7}),\n",
        " ('0670f', '1eab5', {'segments': [1, 4], 'weight': 9})]"
       ]
      }
     ],
     "prompt_number": 34
    },
    {
     "cell_type": "code",
     "collapsed": false,
     "input": [
      "r.condensed_graph().edges(data=True)"
     ],
     "language": "python",
     "metadata": {},
     "outputs": [
      {
       "metadata": {},
       "output_type": "pyout",
       "prompt_number": 35,
       "text": [
        "[('1eab5', '60bce', {'segments': [1, 4], 'weight': 13}),\n",
        " ('1eab5', 'e02ca', {'segments': [1, 4], 'weight': 11}),\n",
        " ('85773', 'cd044', {'segments': [1], 'weight': 2}),\n",
        " ('85773', '180d4', {'segments': [1, 4], 'weight': 11}),\n",
        " ('85773', '0670f', {'segments': [1], 'weight': 1}),\n",
        " ('85773', 'dec4f', {'segments': [1], 'weight': 1}),\n",
        " ('180d4', 'cd044', {'segments': [1, 4], 'weight': 10}),\n",
        " ('180d4', '0670f', {'segments': [1], 'weight': 1}),\n",
        " ('180d4', 'dec4f', {'segments': [1], 'weight': 1}),\n",
        " ('dec4f', 'ec974', {'segments': [1, 4], 'weight': 10}),\n",
        " ('dec4f', '79f72', {'segments': [1, 4], 'weight': 13}),\n",
        " ('79f72', 'ec974', {'segments': [1], 'weight': 0}),\n",
        " ('fef02', 'cd044', {'segments': [1], 'weight': 2}),\n",
        " ('fef02', '180d4', {'segments': [1], 'weight': 0}),\n",
        " ('fef02', '0670f', {'segments': [1, 4], 'weight': 15}),\n",
        " ('fef02', 'dec4f', {'segments': [1, 4], 'weight': 7}),\n",
        " ('0670f', '1eab5', {'segments': [1, 4], 'weight': 9})]"
       ]
      }
     ],
     "prompt_number": 35
    },
    {
     "cell_type": "markdown",
     "metadata": {},
     "source": [
      "# Experiment with Accuracy Metrics"
     ]
    },
    {
     "cell_type": "code",
     "collapsed": false,
     "input": [
      "matching_edges = 0\n",
      "total_edges = len(s.relabeled_transmission_graph().edges())\n",
      "for edge in r.condensed_graph().edges(data=True):\n",
      "    if edge in s.relabeled_transmission_graph().edges(data=True):\n",
      "        matching_edges += 1\n",
      "        \n",
      "\n",
      "int(float(matching_edges) / total_edges * 100)"
     ],
     "language": "python",
     "metadata": {},
     "outputs": [
      {
       "metadata": {},
       "output_type": "pyout",
       "prompt_number": 36,
       "text": [
        "100"
       ]
      }
     ],
     "prompt_number": 36
    },
    {
     "cell_type": "code",
     "collapsed": false,
     "input": [
      "# This has been implemented in the prototype functions below.\n",
      "# float(len(r.identify_reassortants()))/float(len(s.identify_reassortants()))"
     ],
     "language": "python",
     "metadata": {},
     "outputs": [],
     "prompt_number": 37
    },
    {
     "cell_type": "code",
     "collapsed": false,
     "input": [
      "# Prototype for the functions.\n",
      "def reassortant_accuracy(simulation, reconstruction):\n",
      "    num_simulation_reassortants = float(len(simulation.reassortants()))\n",
      "    num_reconstruction_reassortants = float(len(reconstruction.reassortants()))\n",
      "    \n",
      "    if num_simulation_reassortants == 0:\n",
      "        return 'No reassortants present in simulation.'\n",
      "    else:\n",
      "        return num_reconstruction_reassortants / num_simulation_reassortants\n",
      "    \n",
      "def transmission_edge_accuracy(simulation, reconstruction):\n",
      "    matching_edges = 0\n",
      "    total_edges = len(simulation.relabeled_transmission_graph().edges())\n",
      "    \n",
      "    for edge in reconstruction.condensed_graph().edges(data=True):\n",
      "        if edge in simulation.relabeled_transmission_graph().edges(data=True):\n",
      "            matching_edges += 1\n",
      "            \n",
      "    return float(matching_edges) / total_edges\n",
      "\n",
      "def transmission_path_accuracy(simulation, reconstruction):\n",
      "    \"\"\"\n",
      "    The accuracy of transmission paths is the number of accurate paths found \n",
      "    divided by the number of paths being considered.\n",
      "    \"\"\"\n",
      "    num_paths = 0\n",
      "    accurate_paths = 0\n",
      "    \n",
      "    for edge in reconstruction.condensed_graph().edges():\n",
      "        if simulation.full_transmission_path_exists(edge[0], edge[1]):\n",
      "            num_paths += 1\n",
      "            accurate_paths += 1\n",
      "        else:\n",
      "            num_paths += 1\n",
      "    \n",
      "    return float(accurate_paths)/num_paths"
     ],
     "language": "python",
     "metadata": {},
     "outputs": [],
     "prompt_number": 46
    },
    {
     "cell_type": "code",
     "collapsed": false,
     "input": [
      "print s.full_transmission_paths()\n",
      "print reassortant_accuracy(s, r)\n",
      "print transmission_edge_accuracy(s, r)\n",
      "print transmission_path_accuracy(s, r)"
     ],
     "language": "python",
     "metadata": {},
     "outputs": [
      {
       "output_type": "stream",
       "stream": "stdout",
       "text": [
        "[set(['cd044', '85773', '180d4']), set(['1eab5', 'e02ca', 'ec974', '79f72', 'dec4f', 'fef02', '60bce', '0670f'])]\n",
        "No reassortants present in simulation.\n",
        "1.0"
       ]
      },
      {
       "output_type": "stream",
       "stream": "stdout",
       "text": [
        "\n",
        "0.647058823529"
       ]
      },
      {
       "output_type": "stream",
       "stream": "stdout",
       "text": [
        "\n"
       ]
      }
     ],
     "prompt_number": 47
    },
    {
     "cell_type": "markdown",
     "metadata": {},
     "source": [
      "# Test path_exists(node1, node2) function"
     ]
    },
    {
     "cell_type": "code",
     "collapsed": false,
     "input": [
      "# 1 July 2014 - API Change so the following path_exist(node1, node2) code does not stand. \n",
      "# Segment number has to be specified in order for it to stand.\n",
      "# s.path_exists('b90bb', '3d39c')"
     ],
     "language": "python",
     "metadata": {},
     "outputs": [],
     "prompt_number": 48
    },
    {
     "cell_type": "code",
     "collapsed": false,
     "input": [
      "s.relabeled_transmission_graph().nodes()"
     ],
     "language": "python",
     "metadata": {},
     "outputs": [
      {
       "metadata": {},
       "output_type": "pyout",
       "prompt_number": 49,
       "text": [
        "['ec974',\n",
        " '180d4',\n",
        " '0670f',\n",
        " 'cd044',\n",
        " 'e02ca',\n",
        " '1eab5',\n",
        " '85773',\n",
        " 'dec4f',\n",
        " '79f72',\n",
        " 'fef02',\n",
        " '60bce']"
       ]
      }
     ],
     "prompt_number": 49
    },
    {
     "cell_type": "code",
     "collapsed": false,
     "input": [
      "# s.path_exists('2851c', '09001')"
     ],
     "language": "python",
     "metadata": {},
     "outputs": [],
     "prompt_number": 50
    },
    {
     "cell_type": "code",
     "collapsed": false,
     "input": [],
     "language": "python",
     "metadata": {},
     "outputs": [],
     "prompt_number": 50
    },
    {
     "cell_type": "code",
     "collapsed": false,
     "input": [],
     "language": "python",
     "metadata": {},
     "outputs": []
    }
   ],
   "metadata": {}
  }
 ]
}