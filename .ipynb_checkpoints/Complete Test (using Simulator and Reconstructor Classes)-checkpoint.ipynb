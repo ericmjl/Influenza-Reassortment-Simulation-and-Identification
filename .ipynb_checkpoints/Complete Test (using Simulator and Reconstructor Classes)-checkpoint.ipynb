{
 "metadata": {
  "name": "",
  "signature": "sha256:b6164c10b217c99b8407ac41658fa0acfa21123b7884d158ab3f88341d5ce215"
 },
 "nbformat": 3,
 "nbformat_minor": 0,
 "worksheets": [
  {
   "cells": [
    {
     "cell_type": "code",
     "collapsed": false,
     "input": [
      "from pathogen import Pathogen\n",
      "from segment import Segment\n",
      "from sequence import Sequence\n",
      "from simulator import Simulator"
     ],
     "language": "python",
     "metadata": {},
     "outputs": [],
     "prompt_number": 1
    },
    {
     "cell_type": "code",
     "collapsed": false,
     "input": [
      "# Initialize sequences\n",
      "sequence_PB2 = Sequence(length=1000) #this is representative of segment 1, PB2\n",
      "sequence_H1 = Sequence(length=1000) #this is representative of segment 4, H1\n",
      "sequence_H2 = Sequence(length=1000) #this is representative of segment 4, H2"
     ],
     "language": "python",
     "metadata": {},
     "outputs": [],
     "prompt_number": 2
    },
    {
     "cell_type": "code",
     "collapsed": false,
     "input": [
      "# Initialize segments\n",
      "segment_PB2 = Segment(segment_number=1, substitution_rate=1E-3, sequence=sequence_PB2)\n",
      "segment_H1 = Segment(segment_number=4, substitution_rate=1E-2, sequence=sequence_H1)\n",
      "segment_H2 = Segment(segment_number=4, substitution_rate=1E-2, sequence=sequence_H2)"
     ],
     "language": "python",
     "metadata": {},
     "outputs": [],
     "prompt_number": 3
    },
    {
     "cell_type": "code",
     "collapsed": false,
     "input": [
      "# Add segments to seed viruses\n",
      "virus_H1 = Pathogen(segments=[segment_PB2, segment_H1], creation_time=0, progeny_size=(1.2, 0.5))\n",
      "virus_H2 = Pathogen(segments=[segment_PB2, segment_H2], creation_time=0, progeny_size=(1.2, 0.5))"
     ],
     "language": "python",
     "metadata": {},
     "outputs": [],
     "prompt_number": 4
    },
    {
     "cell_type": "code",
     "collapsed": false,
     "input": [
      "# Subclass the Simulator class for a specific implementation of the increment_timestep() function.\n",
      "from random import random, choice, sample\n",
      "class ViralSimulator(Simulator):\n",
      "    \n",
      "    def increment_timestep(self):\n",
      "        cointoss = random()\n",
      "        threshold = 0.8\n",
      "        \n",
      "        if cointoss <= threshold:\n",
      "            chosen_virus = choice(self.pathogens)\n",
      "            new_virus = chosen_virus.replicate(current_time=self.current_time)\n",
      "            \n",
      "        if cointoss > threshold:\n",
      "            [virus1, virus2] = sample(self.pathogens, 2)\n",
      "            new_virus = virus1.reassort_with(virus2, current_time=self.current_time)\n",
      "        \n",
      "        self.pathogens.append(new_virus)"
     ],
     "language": "python",
     "metadata": {},
     "outputs": [],
     "prompt_number": 5
    },
    {
     "cell_type": "code",
     "collapsed": false,
     "input": [
      "s = ViralSimulator()"
     ],
     "language": "python",
     "metadata": {},
     "outputs": [],
     "prompt_number": 6
    },
    {
     "cell_type": "code",
     "collapsed": false,
     "input": [
      "s.add_pathogens([virus_H1, virus_H2])"
     ],
     "language": "python",
     "metadata": {},
     "outputs": [],
     "prompt_number": 7
    },
    {
     "cell_type": "code",
     "collapsed": false,
     "input": [
      "s.run(timesteps=10)"
     ],
     "language": "python",
     "metadata": {},
     "outputs": [
      {
       "output_type": "stream",
       "stream": "stdout",
       "text": [
        "{57da6: [1, 4]}\n",
        "{e43ef: [1, 4]}\n",
        "{b7473: [1, 4]}\n",
        "{57da6: [1, 4]}\n",
        "{f9c75: [1, 4]}\n",
        "{156fd: [1, 4]}\n",
        "{1ba14: [1, 4]}\n"
       ]
      }
     ],
     "prompt_number": 8
    },
    {
     "cell_type": "code",
     "collapsed": false,
     "input": [
      "s.write_transmission_graph(outfile_name=\"outfile_test\", folder_name='Network Pickles')"
     ],
     "language": "python",
     "metadata": {},
     "outputs": [],
     "prompt_number": 9
    },
    {
     "cell_type": "code",
     "collapsed": false,
     "input": [
      "s.write_sequences(outfile_name=\"outfile_test\", folder_name='FASTA Files')"
     ],
     "language": "python",
     "metadata": {},
     "outputs": [],
     "prompt_number": 10
    },
    {
     "cell_type": "code",
     "collapsed": false,
     "input": [
      "s.transmission_graph().nodes(data=True)"
     ],
     "language": "python",
     "metadata": {},
     "outputs": [
      {
       "metadata": {},
       "output_type": "pyout",
       "prompt_number": 11,
       "text": [
        "[(156fd, {'creation_time': 7}),\n",
        " (e43ef, {'creation_time': 0}),\n",
        " (1ba14, {'creation_time': 8}),\n",
        " (57da6, {'creation_time': 0}),\n",
        " (3785a, {'creation_time': 6}),\n",
        " (f9c75, {'creation_time': 3}),\n",
        " (6ab7b, {'creation_time': 2}),\n",
        " (6ceec, {'creation_time': 4}),\n",
        " (8ce0d, {'creation_time': 9}),\n",
        " (b7473, {'creation_time': 1}),\n",
        " (d8dcc, {'creation_time': 5})]"
       ]
      }
     ],
     "prompt_number": 11
    },
    {
     "cell_type": "markdown",
     "metadata": {},
     "source": [
      "# Prototype code for Reconstructor class"
     ]
    },
    {
     "cell_type": "code",
     "collapsed": false,
     "input": [
      "from Bio import SeqIO"
     ],
     "language": "python",
     "metadata": {},
     "outputs": [],
     "prompt_number": 12
    },
    {
     "cell_type": "code",
     "collapsed": false,
     "input": [
      "# Initialize a dictionary that contains all of the sequences, split by segment.\n",
      "sequences_dictionary = dict()\n",
      "sequences_dictionary[1] = []\n",
      "sequences_dictionary[4] = []\n",
      "sequences_dictionary"
     ],
     "language": "python",
     "metadata": {},
     "outputs": [
      {
       "metadata": {},
       "output_type": "pyout",
       "prompt_number": 13,
       "text": [
        "{1: [], 4: []}"
       ]
      }
     ],
     "prompt_number": 13
    },
    {
     "cell_type": "code",
     "collapsed": false,
     "input": [
      "# Read in the sequences\n",
      "sequences = [record for record in SeqIO.parse('FASTA Files/outfile_test.fasta', 'fasta')]\n",
      "sequences"
     ],
     "language": "python",
     "metadata": {},
     "outputs": [
      {
       "metadata": {},
       "output_type": "pyout",
       "prompt_number": 14,
       "text": [
        "[SeqRecord(seq=Seq('AGTGAAATGTAGTCGGGAAAGGAATGTACAGCAGATGGCGTCCAAACTTAATGC...TTC', SingleLetterAlphabet()), id='57da6d5d91dbaad464fe5a75ddd153e54a4f555de0e396a301f30bd37fa0e866c8591265b52bd0a22494fec419a4d40e40f0c6dc1ac97e93f3040c619c292879|1|0', name='57da6d5d91dbaad464fe5a75ddd153e54a4f555de0e396a301f30bd37fa0e866c8591265b52bd0a22494fec419a4d40e40f0c6dc1ac97e93f3040c619c292879|1|0', description='57da6d5d91dbaad464fe5a75ddd153e54a4f555de0e396a301f30bd37fa0e866c8591265b52bd0a22494fec419a4d40e40f0c6dc1ac97e93f3040c619c292879|1|0 <unknown description>', dbxrefs=[]),\n",
        " SeqRecord(seq=Seq('CGGATTGTCTTGCGCGTCATGTCCGTGTTCACTCAAGGGTCCGGTTCCTACCTG...TCT', SingleLetterAlphabet()), id='57da6d5d91dbaad464fe5a75ddd153e54a4f555de0e396a301f30bd37fa0e866c8591265b52bd0a22494fec419a4d40e40f0c6dc1ac97e93f3040c619c292879|4|0', name='57da6d5d91dbaad464fe5a75ddd153e54a4f555de0e396a301f30bd37fa0e866c8591265b52bd0a22494fec419a4d40e40f0c6dc1ac97e93f3040c619c292879|4|0', description='57da6d5d91dbaad464fe5a75ddd153e54a4f555de0e396a301f30bd37fa0e866c8591265b52bd0a22494fec419a4d40e40f0c6dc1ac97e93f3040c619c292879|4|0 <unknown description>', dbxrefs=[]),\n",
        " SeqRecord(seq=Seq('AGTGAAATGTAGTCGGGAAAGGAATGTACAGCAGATGGCGTCCAAACTTAATGC...TTC', SingleLetterAlphabet()), id='e43ef324dd74a845fb8694fee8fbe69b9b4412a4345b177d723241ef23721a4f54244812e00ddbfc553cb77ce164a55da7aaba7a395131a13469cbbce3ccf506|1|0', name='e43ef324dd74a845fb8694fee8fbe69b9b4412a4345b177d723241ef23721a4f54244812e00ddbfc553cb77ce164a55da7aaba7a395131a13469cbbce3ccf506|1|0', description='e43ef324dd74a845fb8694fee8fbe69b9b4412a4345b177d723241ef23721a4f54244812e00ddbfc553cb77ce164a55da7aaba7a395131a13469cbbce3ccf506|1|0 <unknown description>', dbxrefs=[]),\n",
        " SeqRecord(seq=Seq('ACTCAACAGCGTTGGCACACAGGTTATATGTGCTTACCGTATCAGCTGTAAGTG...GTA', SingleLetterAlphabet()), id='e43ef324dd74a845fb8694fee8fbe69b9b4412a4345b177d723241ef23721a4f54244812e00ddbfc553cb77ce164a55da7aaba7a395131a13469cbbce3ccf506|4|0', name='e43ef324dd74a845fb8694fee8fbe69b9b4412a4345b177d723241ef23721a4f54244812e00ddbfc553cb77ce164a55da7aaba7a395131a13469cbbce3ccf506|4|0', description='e43ef324dd74a845fb8694fee8fbe69b9b4412a4345b177d723241ef23721a4f54244812e00ddbfc553cb77ce164a55da7aaba7a395131a13469cbbce3ccf506|4|0 <unknown description>', dbxrefs=[]),\n",
        " SeqRecord(seq=Seq('AGTGAAATGTAGTCGGGAAAGGAATGTACAGCAGATGGCGTCCAAACTTAATGC...TTC', SingleLetterAlphabet()), id='b7473ed9d9d879fd6376b035ca009f1f3193854d41ff5b48edce2eb3affccc44d6bc2e253a245e5f8ebaceb6ae1e5e63c65d41dee0244144fb94b2ebd55f005a|1|1', name='b7473ed9d9d879fd6376b035ca009f1f3193854d41ff5b48edce2eb3affccc44d6bc2e253a245e5f8ebaceb6ae1e5e63c65d41dee0244144fb94b2ebd55f005a|1|1', description='b7473ed9d9d879fd6376b035ca009f1f3193854d41ff5b48edce2eb3affccc44d6bc2e253a245e5f8ebaceb6ae1e5e63c65d41dee0244144fb94b2ebd55f005a|1|1 <unknown description>', dbxrefs=[]),\n",
        " SeqRecord(seq=Seq('CGGATTGTCTTGCGCGTCATGTCCGTGTTCACTCAAGGGTCCGGTGCCTACCTG...TCT', SingleLetterAlphabet()), id='b7473ed9d9d879fd6376b035ca009f1f3193854d41ff5b48edce2eb3affccc44d6bc2e253a245e5f8ebaceb6ae1e5e63c65d41dee0244144fb94b2ebd55f005a|4|1', name='b7473ed9d9d879fd6376b035ca009f1f3193854d41ff5b48edce2eb3affccc44d6bc2e253a245e5f8ebaceb6ae1e5e63c65d41dee0244144fb94b2ebd55f005a|4|1', description='b7473ed9d9d879fd6376b035ca009f1f3193854d41ff5b48edce2eb3affccc44d6bc2e253a245e5f8ebaceb6ae1e5e63c65d41dee0244144fb94b2ebd55f005a|4|1 <unknown description>', dbxrefs=[]),\n",
        " SeqRecord(seq=Seq('AGTGAAATGTAGTCGGGAAAGGAATGTACAGCAGATGGCGTCCAAACTTAATGC...TTC', SingleLetterAlphabet()), id='6ab7b38bd1fc53371bedd3711784e0b3084561b9eefbb79729c4ec81b9c0822373c1288c18303005886d9a94debce6a7e62b1e4da400cb061045fac98f98b960|1|2', name='6ab7b38bd1fc53371bedd3711784e0b3084561b9eefbb79729c4ec81b9c0822373c1288c18303005886d9a94debce6a7e62b1e4da400cb061045fac98f98b960|1|2', description='6ab7b38bd1fc53371bedd3711784e0b3084561b9eefbb79729c4ec81b9c0822373c1288c18303005886d9a94debce6a7e62b1e4da400cb061045fac98f98b960|1|2 <unknown description>', dbxrefs=[]),\n",
        " SeqRecord(seq=Seq('CGGATTGTCTTGCGCGTCATTTCCGTGTTCACTCAAGGGTCCGGTTCCTACCTG...TCT', SingleLetterAlphabet()), id='6ab7b38bd1fc53371bedd3711784e0b3084561b9eefbb79729c4ec81b9c0822373c1288c18303005886d9a94debce6a7e62b1e4da400cb061045fac98f98b960|4|2', name='6ab7b38bd1fc53371bedd3711784e0b3084561b9eefbb79729c4ec81b9c0822373c1288c18303005886d9a94debce6a7e62b1e4da400cb061045fac98f98b960|4|2', description='6ab7b38bd1fc53371bedd3711784e0b3084561b9eefbb79729c4ec81b9c0822373c1288c18303005886d9a94debce6a7e62b1e4da400cb061045fac98f98b960|4|2 <unknown description>', dbxrefs=[]),\n",
        " SeqRecord(seq=Seq('AGTGAAATTTAGTCGGGAAAGGAATGTACTGCAGATGGCGTCCAAACTTAATGC...TTC', SingleLetterAlphabet()), id='f9c759e29d6d3a54cf44b358beba6f2e548727ccc8808f88be46e8480622a26f62fd2ff52630d1d502737e47e6a143c6ae90e98dae387a0979e5f204f05be8e5|1|3', name='f9c759e29d6d3a54cf44b358beba6f2e548727ccc8808f88be46e8480622a26f62fd2ff52630d1d502737e47e6a143c6ae90e98dae387a0979e5f204f05be8e5|1|3', description='f9c759e29d6d3a54cf44b358beba6f2e548727ccc8808f88be46e8480622a26f62fd2ff52630d1d502737e47e6a143c6ae90e98dae387a0979e5f204f05be8e5|1|3 <unknown description>', dbxrefs=[]),\n",
        " SeqRecord(seq=Seq('ACTCAACAGCGTTGGCACACAGGTTATATGTGCTTACCGTATCAGCTGTAAGTG...GTA', SingleLetterAlphabet()), id='f9c759e29d6d3a54cf44b358beba6f2e548727ccc8808f88be46e8480622a26f62fd2ff52630d1d502737e47e6a143c6ae90e98dae387a0979e5f204f05be8e5|4|3', name='f9c759e29d6d3a54cf44b358beba6f2e548727ccc8808f88be46e8480622a26f62fd2ff52630d1d502737e47e6a143c6ae90e98dae387a0979e5f204f05be8e5|4|3', description='f9c759e29d6d3a54cf44b358beba6f2e548727ccc8808f88be46e8480622a26f62fd2ff52630d1d502737e47e6a143c6ae90e98dae387a0979e5f204f05be8e5|4|3 <unknown description>', dbxrefs=[]),\n",
        " SeqRecord(seq=Seq('AGTGAAATGTAGTCGGGAAAGGAATGTACAGCAGATGGCGTCCAAACTTAATGC...TTC', SingleLetterAlphabet()), id='6ceecadc8d9c82c0abdcd9621d8f90ab3876f99827ec966bd4588e9f575ec8db3f1dd737f507400ca521552e5a064140e4a48aca357247e4635ccea13577e65f|1|4', name='6ceecadc8d9c82c0abdcd9621d8f90ab3876f99827ec966bd4588e9f575ec8db3f1dd737f507400ca521552e5a064140e4a48aca357247e4635ccea13577e65f|1|4', description='6ceecadc8d9c82c0abdcd9621d8f90ab3876f99827ec966bd4588e9f575ec8db3f1dd737f507400ca521552e5a064140e4a48aca357247e4635ccea13577e65f|1|4 <unknown description>', dbxrefs=[]),\n",
        " SeqRecord(seq=Seq('CGGATTGTCTTGCGCGTCATGTCCGTGTTCACTCAAGGGTCCGGTGCCTACCTG...TCT', SingleLetterAlphabet()), id='6ceecadc8d9c82c0abdcd9621d8f90ab3876f99827ec966bd4588e9f575ec8db3f1dd737f507400ca521552e5a064140e4a48aca357247e4635ccea13577e65f|4|4', name='6ceecadc8d9c82c0abdcd9621d8f90ab3876f99827ec966bd4588e9f575ec8db3f1dd737f507400ca521552e5a064140e4a48aca357247e4635ccea13577e65f|4|4', description='6ceecadc8d9c82c0abdcd9621d8f90ab3876f99827ec966bd4588e9f575ec8db3f1dd737f507400ca521552e5a064140e4a48aca357247e4635ccea13577e65f|4|4 <unknown description>', dbxrefs=[]),\n",
        " SeqRecord(seq=Seq('AGTGAAATGTAGTCGGGAAAGGAATGTACAGCAGATGGCGTCCAAACTTTATGC...TTC', SingleLetterAlphabet()), id='d8dcce9261d19fde4cf1067140134b4dfdacf13013ca0f4a1c5b48dc10550ae57a53c54464331d55f7ddb44bd8b5e1582c86b015ed0ed18beba020328bf5cdd5|1|5', name='d8dcce9261d19fde4cf1067140134b4dfdacf13013ca0f4a1c5b48dc10550ae57a53c54464331d55f7ddb44bd8b5e1582c86b015ed0ed18beba020328bf5cdd5|1|5', description='d8dcce9261d19fde4cf1067140134b4dfdacf13013ca0f4a1c5b48dc10550ae57a53c54464331d55f7ddb44bd8b5e1582c86b015ed0ed18beba020328bf5cdd5|1|5 <unknown description>', dbxrefs=[]),\n",
        " SeqRecord(seq=Seq('CGGATTGTCTTGCGCGTCATGTCCGTGTTCACTCAAGGGTCCGGTTCCTACCTG...TCT', SingleLetterAlphabet()), id='d8dcce9261d19fde4cf1067140134b4dfdacf13013ca0f4a1c5b48dc10550ae57a53c54464331d55f7ddb44bd8b5e1582c86b015ed0ed18beba020328bf5cdd5|4|5', name='d8dcce9261d19fde4cf1067140134b4dfdacf13013ca0f4a1c5b48dc10550ae57a53c54464331d55f7ddb44bd8b5e1582c86b015ed0ed18beba020328bf5cdd5|4|5', description='d8dcce9261d19fde4cf1067140134b4dfdacf13013ca0f4a1c5b48dc10550ae57a53c54464331d55f7ddb44bd8b5e1582c86b015ed0ed18beba020328bf5cdd5|4|5 <unknown description>', dbxrefs=[]),\n",
        " SeqRecord(seq=Seq('AGTGAAATTTAGTCGGGAAAGGAATGTACTGCAGATGGCGTCCAAACTTAATGC...TTC', SingleLetterAlphabet()), id='3785a1b1039b4b9333d368886137582d42d3e7722f45cb44e63813b71148e91e0c94b41e8742183ec6287bfc40701bff737c6033a95834b31dc4f5f3841d99d9|1|6', name='3785a1b1039b4b9333d368886137582d42d3e7722f45cb44e63813b71148e91e0c94b41e8742183ec6287bfc40701bff737c6033a95834b31dc4f5f3841d99d9|1|6', description='3785a1b1039b4b9333d368886137582d42d3e7722f45cb44e63813b71148e91e0c94b41e8742183ec6287bfc40701bff737c6033a95834b31dc4f5f3841d99d9|1|6 <unknown description>', dbxrefs=[]),\n",
        " SeqRecord(seq=Seq('ACTCAACAGCGTTGGCACACAGGTTATATGTCCTTACCGTATCAGCTGTAAGTG...GTA', SingleLetterAlphabet()), id='3785a1b1039b4b9333d368886137582d42d3e7722f45cb44e63813b71148e91e0c94b41e8742183ec6287bfc40701bff737c6033a95834b31dc4f5f3841d99d9|4|6', name='3785a1b1039b4b9333d368886137582d42d3e7722f45cb44e63813b71148e91e0c94b41e8742183ec6287bfc40701bff737c6033a95834b31dc4f5f3841d99d9|4|6', description='3785a1b1039b4b9333d368886137582d42d3e7722f45cb44e63813b71148e91e0c94b41e8742183ec6287bfc40701bff737c6033a95834b31dc4f5f3841d99d9|4|6 <unknown description>', dbxrefs=[]),\n",
        " SeqRecord(seq=Seq('AGTGAAATGTAGTCGGGAAAGGAATGTACAGCAGATGGCGTCCAAACTTAATGC...TTC', SingleLetterAlphabet()), id='156fdb54b6659ca5d41cec2ec46c1660630949f2bee0a7d20966f647964f5722831baf5df1b4b66d0d56c2c27d1ce96bca3d3969bcbfb7d4644bfed03cb86fa9|1|7', name='156fdb54b6659ca5d41cec2ec46c1660630949f2bee0a7d20966f647964f5722831baf5df1b4b66d0d56c2c27d1ce96bca3d3969bcbfb7d4644bfed03cb86fa9|1|7', description='156fdb54b6659ca5d41cec2ec46c1660630949f2bee0a7d20966f647964f5722831baf5df1b4b66d0d56c2c27d1ce96bca3d3969bcbfb7d4644bfed03cb86fa9|1|7 <unknown description>', dbxrefs=[]),\n",
        " SeqRecord(seq=Seq('CGGATTGTCTTGCGCGTCATTTCCGTGTTCACTCAAGGGTCCGGTTCCTACCTG...TCT', SingleLetterAlphabet()), id='156fdb54b6659ca5d41cec2ec46c1660630949f2bee0a7d20966f647964f5722831baf5df1b4b66d0d56c2c27d1ce96bca3d3969bcbfb7d4644bfed03cb86fa9|4|7', name='156fdb54b6659ca5d41cec2ec46c1660630949f2bee0a7d20966f647964f5722831baf5df1b4b66d0d56c2c27d1ce96bca3d3969bcbfb7d4644bfed03cb86fa9|4|7', description='156fdb54b6659ca5d41cec2ec46c1660630949f2bee0a7d20966f647964f5722831baf5df1b4b66d0d56c2c27d1ce96bca3d3969bcbfb7d4644bfed03cb86fa9|4|7 <unknown description>', dbxrefs=[]),\n",
        " SeqRecord(seq=Seq('AGTGAAATGTAGTCGGGAAAGGAATGTACAGCAGATGGCGTCCAAACTTAATGC...TTC', SingleLetterAlphabet()), id='1ba145eb1a9f1e275a728b81c31ffedd3302b2def09be9fe0e368346d5cb0e2c077b33039ffce7157a840ee563cdd8abd2b2c431352bddbf824aefee5ee5c3c5|1|8', name='1ba145eb1a9f1e275a728b81c31ffedd3302b2def09be9fe0e368346d5cb0e2c077b33039ffce7157a840ee563cdd8abd2b2c431352bddbf824aefee5ee5c3c5|1|8', description='1ba145eb1a9f1e275a728b81c31ffedd3302b2def09be9fe0e368346d5cb0e2c077b33039ffce7157a840ee563cdd8abd2b2c431352bddbf824aefee5ee5c3c5|1|8 <unknown description>', dbxrefs=[]),\n",
        " SeqRecord(seq=Seq('CGGATTGTCTTGCGCGTCATTTCCGTGTTCACTCAAGGGTCCGGTTCCTACCTG...CCT', SingleLetterAlphabet()), id='1ba145eb1a9f1e275a728b81c31ffedd3302b2def09be9fe0e368346d5cb0e2c077b33039ffce7157a840ee563cdd8abd2b2c431352bddbf824aefee5ee5c3c5|4|8', name='1ba145eb1a9f1e275a728b81c31ffedd3302b2def09be9fe0e368346d5cb0e2c077b33039ffce7157a840ee563cdd8abd2b2c431352bddbf824aefee5ee5c3c5|4|8', description='1ba145eb1a9f1e275a728b81c31ffedd3302b2def09be9fe0e368346d5cb0e2c077b33039ffce7157a840ee563cdd8abd2b2c431352bddbf824aefee5ee5c3c5|4|8 <unknown description>', dbxrefs=[]),\n",
        " SeqRecord(seq=Seq('AGTGAAATGTAGTCGGGAAAGGAATGTACAGCAGATGGCGTCCAAACTTAATGC...TTC', SingleLetterAlphabet()), id='8ce0dfb0257239f9f06bfd77b20f5f851093f4dbbd4e7cf61191b4fc2be75f9337b1eb83bfe5c39eb7765afff26319cd39a8bc552fec97f68afe01660eb51c83|1|9', name='8ce0dfb0257239f9f06bfd77b20f5f851093f4dbbd4e7cf61191b4fc2be75f9337b1eb83bfe5c39eb7765afff26319cd39a8bc552fec97f68afe01660eb51c83|1|9', description='8ce0dfb0257239f9f06bfd77b20f5f851093f4dbbd4e7cf61191b4fc2be75f9337b1eb83bfe5c39eb7765afff26319cd39a8bc552fec97f68afe01660eb51c83|1|9 <unknown description>', dbxrefs=[]),\n",
        " SeqRecord(seq=Seq('CGGATCGTCTTGCGCGTCATTTCCGTGTTCATTCAAGGGTCCGGTTCCTACCTG...CCT', SingleLetterAlphabet()), id='8ce0dfb0257239f9f06bfd77b20f5f851093f4dbbd4e7cf61191b4fc2be75f9337b1eb83bfe5c39eb7765afff26319cd39a8bc552fec97f68afe01660eb51c83|4|9', name='8ce0dfb0257239f9f06bfd77b20f5f851093f4dbbd4e7cf61191b4fc2be75f9337b1eb83bfe5c39eb7765afff26319cd39a8bc552fec97f68afe01660eb51c83|4|9', description='8ce0dfb0257239f9f06bfd77b20f5f851093f4dbbd4e7cf61191b4fc2be75f9337b1eb83bfe5c39eb7765afff26319cd39a8bc552fec97f68afe01660eb51c83|4|9 <unknown description>', dbxrefs=[])]"
       ]
      }
     ],
     "prompt_number": 14
    },
    {
     "cell_type": "code",
     "collapsed": false,
     "input": [
      "# Append the sequences to the dictionary.\n",
      "# This can be written into a function.\n",
      "split_char = '|' # The character that will be used to split the SeqRecord.id string\n",
      "pos_segment_num = 1 # The position of the segment number after splitting by the split_char\n",
      "\n",
      "for sequence in sequences:\n",
      "    segment_number = int(sequence.id.split(split_char)[pos_segment_num])\n",
      "    sequences_dictionary[segment_number].append(sequence)\n",
      "\n",
      "# sequences_dictionary"
     ],
     "language": "python",
     "metadata": {},
     "outputs": [],
     "prompt_number": 15
    },
    {
     "cell_type": "code",
     "collapsed": false,
     "input": [
      "# Create a NetworkX graph using one segment's sequences, and add nodes.\n",
      "import networkx as nx\n",
      "\n",
      "G = nx.DiGraph()\n",
      "\n",
      "splitchar = '|'\n",
      "pos_id = 0\n",
      "pos_segment_num = 1\n",
      "pos_creation_time = 2\n",
      "\n",
      "segment_number = 4\n",
      "\n",
      "for sequence in sequences_dictionary[segment_number]:\n",
      "    [isolate_id, segment_num, creation_time] = sequence.id.split(splitchar)\n",
      "    G.add_node(isolate_id[0:5], sequence=sequence.seq, id=isolate_id, segment_num=int(segment_num), creation_time=int(creation_time))\n",
      "\n",
      "# at this point, we would return G, and append it to the dictionary of Graphs available.\n",
      "# G.nodes(data=True)"
     ],
     "language": "python",
     "metadata": {},
     "outputs": [],
     "prompt_number": 16
    },
    {
     "cell_type": "code",
     "collapsed": false,
     "input": [
      "# Add edges to the graph, based on the Levenshtein distance between two sequences.\n",
      "import Levenshtein\n",
      "for node1 in G.nodes(data=True):\n",
      "    for node2 in G.nodes(data=True):\n",
      "        if node1[1]['creation_time'] < node2[1]['creation_time']:\n",
      "            weight = Levenshtein.distance(str(node1[1]['sequence']), str(node2[1]['sequence']))\n",
      "            G.add_edge(node1[0], node2[0], weight=weight)"
     ],
     "language": "python",
     "metadata": {},
     "outputs": [],
     "prompt_number": 17
    },
    {
     "cell_type": "code",
     "collapsed": false,
     "input": [
      "# Prune graph by distance.\n",
      "for node in G.nodes(data=True):\n",
      "    in_edges = G.in_edges(node[0], data=True)\n",
      "#     print in_edges\n",
      "    if len(in_edges) != 0:\n",
      "        min_weight = min([edge[2]['weight'] for edge in in_edges])\n",
      "        print min_weight\n",
      "        print node\n",
      "        for edge in in_edges:\n",
      "            if edge[2]['weight'] != min_weight:\n",
      "                G.remove_edge(edge[0], edge[1])"
     ],
     "language": "python",
     "metadata": {},
     "outputs": [
      {
       "output_type": "stream",
       "stream": "stdout",
       "text": [
        "13\n",
        "('6ceec', {'segment_num': 4, 'creation_time': 4, 'id': '6ceecadc8d9c82c0abdcd9621d8f90ab3876f99827ec966bd4588e9f575ec8db3f1dd737f507400ca521552e5a064140e4a48aca357247e4635ccea13577e65f', 'sequence': Seq('CGGATTGTCTTGCGCGTCATGTCCGTGTTCACTCAAGGGTCCGGTGCCTACCTG...TCT', SingleLetterAlphabet())})\n",
        "6\n",
        "('1ba14', {'segment_num': 4, 'creation_time': 8, 'id': '1ba145eb1a9f1e275a728b81c31ffedd3302b2def09be9fe0e368346d5cb0e2c077b33039ffce7157a840ee563cdd8abd2b2c431352bddbf824aefee5ee5c3c5', 'sequence': Seq('CGGATTGTCTTGCGCGTCATTTCCGTGTTCACTCAAGGGTCCGGTTCCTACCTG...CCT', SingleLetterAlphabet())})\n",
        "15\n",
        "('6ab7b', {'segment_num': 4, 'creation_time': 2, 'id': '6ab7b38bd1fc53371bedd3711784e0b3084561b9eefbb79729c4ec81b9c0822373c1288c18303005886d9a94debce6a7e62b1e4da400cb061045fac98f98b960', 'sequence': Seq('CGGATTGTCTTGCGCGTCATTTCCGTGTTCACTCAAGGGTCCGGTTCCTACCTG...TCT', SingleLetterAlphabet())})\n",
        "14\n",
        "('d8dcc', {'segment_num': 4, 'creation_time': 5, 'id': 'd8dcce9261d19fde4cf1067140134b4dfdacf13013ca0f4a1c5b48dc10550ae57a53c54464331d55f7ddb44bd8b5e1582c86b015ed0ed18beba020328bf5cdd5', 'sequence': Seq('CGGATTGTCTTGCGCGTCATGTCCGTGTTCACTCAAGGGTCCGGTTCCTACCTG...TCT', SingleLetterAlphabet())})\n",
        "14\n",
        "('3785a', {'segment_num': 4, 'creation_time': 6, 'id': '3785a1b1039b4b9333d368886137582d42d3e7722f45cb44e63813b71148e91e0c94b41e8742183ec6287bfc40701bff737c6033a95834b31dc4f5f3841d99d9', 'sequence': Seq('ACTCAACAGCGTTGGCACACAGGTTATATGTCCTTACCGTATCAGCTGTAAGTG...GTA', SingleLetterAlphabet())})\n",
        "8\n",
        "('b7473', {'segment_num': 4, 'creation_time': 1, 'id': 'b7473ed9d9d879fd6376b035ca009f1f3193854d41ff5b48edce2eb3affccc44d6bc2e253a245e5f8ebaceb6ae1e5e63c65d41dee0244144fb94b2ebd55f005a', 'sequence': Seq('CGGATTGTCTTGCGCGTCATGTCCGTGTTCACTCAAGGGTCCGGTGCCTACCTG...TCT', SingleLetterAlphabet())})\n",
        "11\n",
        "('f9c75', {'segment_num': 4, 'creation_time': 3, 'id': 'f9c759e29d6d3a54cf44b358beba6f2e548727ccc8808f88be46e8480622a26f62fd2ff52630d1d502737e47e6a143c6ae90e98dae387a0979e5f204f05be8e5', 'sequence': Seq('ACTCAACAGCGTTGGCACACAGGTTATATGTGCTTACCGTATCAGCTGTAAGTG...GTA', SingleLetterAlphabet())})\n",
        "11\n",
        "('8ce0d', {'segment_num': 4, 'creation_time': 9, 'id': '8ce0dfb0257239f9f06bfd77b20f5f851093f4dbbd4e7cf61191b4fc2be75f9337b1eb83bfe5c39eb7765afff26319cd39a8bc552fec97f68afe01660eb51c83', 'sequence': Seq('CGGATCGTCTTGCGCGTCATTTCCGTGTTCATTCAAGGGTCCGGTTCCTACCTG...CCT', SingleLetterAlphabet())})\n",
        "9\n",
        "('156fd', {'segment_num': 4, 'creation_time': 7, 'id': '156fdb54b6659ca5d41cec2ec46c1660630949f2bee0a7d20966f647964f5722831baf5df1b4b66d0d56c2c27d1ce96bca3d3969bcbfb7d4644bfed03cb86fa9', 'sequence': Seq('CGGATTGTCTTGCGCGTCATTTCCGTGTTCACTCAAGGGTCCGGTTCCTACCTG...TCT', SingleLetterAlphabet())})\n"
       ]
      }
     ],
     "prompt_number": 18
    },
    {
     "cell_type": "code",
     "collapsed": false,
     "input": [
      "nx.draw_circular(G)"
     ],
     "language": "python",
     "metadata": {},
     "outputs": [
      {
       "metadata": {},
       "output_type": "display_data",
       "png": "[encoded data removed]",
       "text": [
        "<matplotlib.figure.Figure at 0x106361890>"
       ]
      }
     ],
     "prompt_number": 19
    },
    {
     "cell_type": "markdown",
     "metadata": {},
     "source": [
      "# Test Reconstructor Class"
     ]
    },
    {
     "cell_type": "code",
     "collapsed": false,
     "input": [
      "from reconstructor import Reconstructor\n",
      "import networkx as nx"
     ],
     "language": "python",
     "metadata": {},
     "outputs": [],
     "prompt_number": 20
    },
    {
     "cell_type": "code",
     "collapsed": false,
     "input": [
      "r = Reconstructor(segments=[1, 4])\n",
      "print r.sequences\n",
      "print r.graphs"
     ],
     "language": "python",
     "metadata": {},
     "outputs": [
      {
       "output_type": "stream",
       "stream": "stdout",
       "text": [
        "{1: [], 4: []}\n",
        "{1: <networkx.classes.digraph.DiGraph object at 0x1063d4190>, 4: <networkx.classes.digraph.DiGraph object at 0x1063d4110>}\n"
       ]
      }
     ],
     "prompt_number": 21
    },
    {
     "cell_type": "code",
     "collapsed": false,
     "input": [
      "fasta_file = 'FASTA Files/outfile_test.fasta'\n",
      "r.read_fasta_file(fasta_file)"
     ],
     "language": "python",
     "metadata": {},
     "outputs": [],
     "prompt_number": 22
    },
    {
     "cell_type": "code",
     "collapsed": false,
     "input": [
      "r.add_nodes_with_data()\n",
      "r.add_edges_with_weight()\n",
      "r.prune_graphs_by_weight()\n",
      "r.pruned_condensed_graph()"
     ],
     "language": "python",
     "metadata": {},
     "outputs": [
      {
       "metadata": {},
       "output_type": "pyout",
       "prompt_number": 23,
       "text": [
        "<networkx.classes.digraph.DiGraph at 0x1063e0bd0>"
       ]
      }
     ],
     "prompt_number": 23
    },
    {
     "cell_type": "code",
     "collapsed": false,
     "input": [
      "r.condensed_graph().edges(data=True)"
     ],
     "language": "python",
     "metadata": {},
     "outputs": [
      {
       "metadata": {},
       "output_type": "pyout",
       "prompt_number": 24,
       "text": [
        "[('1ba14', '8ce0d', {'segments': [1, 4], 'weight': 12}),\n",
        " ('6ab7b', '1ba14', {'segments': [1], 'weight': 1}),\n",
        " ('6ab7b', '156fd', {'segments': [1, 4], 'weight': 9}),\n",
        " ('e43ef', 'b7473', {'segments': [1], 'weight': 1}),\n",
        " ('e43ef', 'f9c75', {'segments': [1, 4], 'weight': 14}),\n",
        " ('e43ef', '6ab7b', {'segments': [1], 'weight': 1}),\n",
        " ('e43ef', 'd8dcc', {'segments': [1], 'weight': 1}),\n",
        " ('57da6', 'b7473', {'segments': [1, 4], 'weight': 9}),\n",
        " ('57da6', 'f9c75', {'segments': [1], 'weight': 3}),\n",
        " ('57da6', '6ab7b', {'segments': [1, 4], 'weight': 16}),\n",
        " ('57da6', 'd8dcc', {'segments': [1, 4], 'weight': 15}),\n",
        " ('b7473', '6ceec', {'segments': [1, 4], 'weight': 15}),\n",
        " ('f9c75', '3785a', {'segments': [1, 4], 'weight': 14}),\n",
        " ('156fd', '1ba14', {'segments': [1, 4], 'weight': 7})]"
       ]
      }
     ],
     "prompt_number": 24
    },
    {
     "cell_type": "code",
     "collapsed": false,
     "input": [
      "r.condensed_graph().nodes(data=True)"
     ],
     "language": "python",
     "metadata": {},
     "outputs": [
      {
       "metadata": {},
       "output_type": "pyout",
       "prompt_number": 25,
       "text": [
        "[('6ceec',\n",
        "  {'creation_time': '4',\n",
        "   'id': '6ceecadc8d9c82c0abdcd9621d8f90ab3876f99827ec966bd4588e9f575ec8db3f1dd737f507400ca521552e5a064140e4a48aca357247e4635ccea13577e65f',\n",
        "   'segment_number': '4',\n",
        "   'sequence_1': 'AGTGAAATGTAGTCGGGAAAGGAATGTACAGCAGATGGCGTCCAAACTTAATGCTCCAGCATCTTTGCCCTACTAGTTTCGCATAAATTAAAGGTGGCTACAGTCAAGAGTTGGACGTGAACCGTCCATACCTCCTCTGACTATCACTAGATTTCGATGACATTTAAATATCTATAAAGAATGGAGGCTTCCTCATCTGCGCTTCACAACAAGCCGGCGAGTCTTGTGAGGCAGACGCGGAGATCAGATAATTAATTGAGCCGTTTGACGGCTTCATATGAGGCGTAACCTTGGTGCGATGGGCTGGGGCCCGCTAGAAGATTCTTGTTGCGGCCATAGGGTACAGCGCCCGTTAGTTACTCACATCTTTCAGCACAAAGGTTCACTGCTGCTTGCTAGTCCTTCCGGATTGCCGTGAAAAAGGGGGTTCACGCGGTACATGAACGAGTGATCTGAGCCGGCCTAACCCGATGATTGAGAGCTTATTGCTATTGGGTAGGCTTCTACCCATTCATTCTCGAATGGTAATTAAGGCCAAGTGCATGCCGTCCTCAACTAAACCGTTCTTCAAACGTGCGTGCGCTCGTGCGAAGCCCCGGATGAGCTTAGTATATTTATCAGACATTTGCTTGCTCCTTTTTATCTAGGGACCCCTGGCCTGGAGCAGTCAATAGGGTCCTTAAGTCAGGGACGACCGGCGTATTAGGTAGGGTACTTATAAATTATTACCTCCAGCTCAAATGTTCATTGGCTGTTGCCGTTCGGCGATAGGCTCCGTCCGCACAATCAACAGAAGTCGTCTGAGACTGCTTGCCGATAACCTTCGAAGTTGCCTCACCCAGCAGAGTGCCTAGAGCATGACCCTCACTGGACTCCTATTTCTGTAATTGAGTCATGGTGTTAAGGGACGGGACGGGGTCGCGTGTTTATAAAACATATACACAATCGAGACTGCGAGTCGGTCCATATATGCGCAGGTTTTCTTGCAGCACTTGGCTTC',\n",
        "   'sequence_4': 'CGGATTGTCTTGCGCGTCATGTCCGTGTTCACTCAAGGGTCCGGTGCCTACCTGTCAAGGCACGATTGCACTAGTTACACATCGTTACTCAGCCACGGAACCAGCCAGGTACGGTTCCAAGGCCGTTCTGAAGCCTTCTTTGATGAAGCCAACGACGGCATTGTAAAGTGGAGCTCCGATGCTTCTGGGACCATCCTAGTAAAAAGTGCGGAGGTTGTACTAGTCTTAAAGCGATGGCATGAGGGGCCGTCATACAGTCTAATGCAATCAACGGGTCTCTTTTAGAGGTCCGTGATCTTATATCGTTGGACAGGCTCGCTAAACCTAACCGTGGTCTTACTTTCGATCCATTGTCATATCGGTGGGATTAAACAATTTTTTATTAGAGCAACGACGAATACTCTCGCGTCCTCGCTCAAGAGTGAGGCCTGCGTCCCTAGGCGCCCCACTGACTCTTTTGCATGGATATAGATAACACCCACACGGACTCTCATACTTCCGAGCCGTATAGCTCAAGCGGGTCTATTGGTTCCATGATTAAGGGTGAAAGATATGAACCCTTGAATGGAGTGTTATTGGCGGAATCACCCGCAGAGCATCCTATGATGACAATGCAGCGGGTGAGATTCACGGCATATTCCTTTCCTAGCGCGAGTGCCCACTATTGTAAAGGCTAGGGCGCACTCCTTTAACTAGCTAGAAGCCAAAAGTAGACGCAAAAGGCGGGATAAAGACGTCTCTAGTCTTTAAGTCCGGATACAGACGATGACCGATACGAGGTACCCTGTGGTAGTATAGAAAATTTAGTGGCGCGAGTCTAGTACCGTGATCGATTATCCATCCTCAGGGCTCAACCAGGGTGCCCAGAACCACCAGCCAAAGTCTTGCTTGTGTAATCGCACTCGTTCTCAGTGGTTACGACAATAGTCAGAACGACAATAGCGAACTCTCGCAGCTCGCGTTATAAGCTGGGCACTTCCTCAGCTCAAGCGTATTGTCT'}),\n",
        " ('1ba14',\n",
        "  {'creation_time': '8',\n",
        "   'id': '1ba145eb1a9f1e275a728b81c31ffedd3302b2def09be9fe0e368346d5cb0e2c077b33039ffce7157a840ee563cdd8abd2b2c431352bddbf824aefee5ee5c3c5',\n",
        "   'segment_number': '4',\n",
        "   'sequence_1': 'AGTGAAATGTAGTCGGGAAAGGAATGTACAGCAGATGGCGTCCAAACTTAATGCTCCAGCATCTTTGCCCTACTAGTTTCGCATAAATTAAAGGTGGCTACAGTCAAGAGTTGGACGTGAACCGTCCATACCTCCTCTGACTATCACTAGATTTCGATGACATTTAAATATCTATAAAGAATGGAGGCTTCCTCATCTGCGCTTCACAACAAGCCGGCGAGTCTTGTGAGGCAGACGCGGAGATCAGATAATTAATTGAGCCGTTTAACGGCTTCATATGAGGCGTAACCTTGGTGCGATGGGCTGGGGCCCGCTAGAAGATTCTTGCTGCGGCCATAGGGTACAGCGCCCGTTAGTTACTCACATCTTTCAGCACAAAGGTTCACTGCTGCTTGCTAGTCCTTCCGGATTGCCGTGAAAAAGGGGGTTCACGCGGTACATGAACGAGTGATCTGAGCCGGCCTAACCCGATGATTGAGAGCTTATTGCTATTGGGTAGGCTTCTACCCATTCATTCTCGAATGGTAATTAAGGCCAAGTGCATGCCGTCCTCAACTAAACCGTTCTTCAAACGTGCGTGCGCTCGTGCGAAGCCCCGGATGAGCTTAGTATATTTATCAGACATTTGCTTGCTCCTTTTAATCTAGGGACCCCTGGCCTGGAGCAGTCAATAGGGTCCTTAAGTCAGGGACGACCGGAGTATTAGGTAGGGTACTTATAAATTATTACCTCCAGCTCAAATGTTCATTGGCTGTTGCCGTTCGGCGATAGGCTCCGTCCGCACAATCAACAGAAGTCGTCTGAGACTGCTTGCCGATAACCTTCGAAGTTGCCTCACCCAGGAGAGTGCCTAGAGCATGACCCTCACTGGACTCCTATTTCTGTAATTGAGTCATGGTGTTAAGGGACGGGACGGGGTCGCGTGTTTATAAAACATATACACAATCGAGACTGCGAGTCGGTCCATATATGCGCAGGTTTTCTTGCAGCACTTGGCTTC',\n",
        "   'sequence_4': 'CGGATTGTCTTGCGCGTCATTTCCGTGTTCACTCAAGGGTCCGGTTCCTACCTGTCAAGGCACGATTGCACTAGTTACTCATCGTTACTCAGCCACGATACCAGCCAGGTACGGTTCCAAGGCAGTTCTGAAGCCTTCTTTGATGAAGCCAACGTAGGTATTGTAAAGTGGAGCTCCTACGCTTCTGGGGCCATCCTATTAAAAAGTGCGGAGGTTGTACTAGTCTTAAAGCGATGGCATGAGGGGGTGTCATACAGTCGAAAGCAATCAACAGGTCTCTTTTAGCGGCCCGTGATCTTATATCGTTGGAGAGGCTCGCGAAACCTAACCGTGGTCTGACTTTCGATCCATTATCATATCGGTGGGATTAAACAATTTTTTATTAGAGCAACGACGAATACACTCGCGTCCTCGCTCAAGAGTGAGGACTGCGTCCCTAGGCGCCCCACTAACTCTTTTGCATGGATATAGATAACACCCACACGGACTCTCATACTTGCGAGCCGTGTAGCTCAGGTGGGTCTATTGGTTCCATGATTAAGGGTGAAAGATATGAACCCTTGAATGGAGTGTTATTGGCGGAATGCCCCGCAGGGCATCCTATGATGACAATGCAGCGGGTGAGATTCACGGCATATTCTTTTCCTAGCGCGAGTGCCCACTATTGTAGAGGCTAGGGCGCACTCCTTTAACTATCTAGAAGCCAAAAGTAGCCGCAAAAGGCGGGATAAAGAGGTCTCTAGTCTTTAAGTCAGGATACAGACGATGACCGATACGAGGTACCCGGTGGTAGTATAGAAAATTTAGTGGCGCGAGTCTAGTACCGTGATCGATTATCCAACCTCAGGGCTCAACCAGGGTGCCCAGAACCACCAGCCAAAGTGTTGCTTGTGTAATCGCACTCGTTCTCAGTGGTCACGACAATAGTCAGAACTACAATAGCGAGCTCTCGCAGTTCGCGTTATAAGCTGGGCACTTCCTCAGCTCAAGCCTTTTGCCT'}),\n",
        " ('6ab7b',\n",
        "  {'creation_time': '2',\n",
        "   'id': '6ab7b38bd1fc53371bedd3711784e0b3084561b9eefbb79729c4ec81b9c0822373c1288c18303005886d9a94debce6a7e62b1e4da400cb061045fac98f98b960',\n",
        "   'segment_number': '4',\n",
        "   'sequence_1': 'AGTGAAATGTAGTCGGGAAAGGAATGTACAGCAGATGGCGTCCAAACTTAATGCTCCAGCATCTTTGCCCTACTAGTTTCGCATAAATTAAAGGTGGCTACAGTCAAGAGTTGGACGTGAACCGTCCATACCTCCTCTGACTATCACTAGATTTCGATGACATTTAAATATCTATAAAGAATGGAGGCTTCCTCATCTGCGCTTCACAACAAGCCGGCGAGTCTTGTGAGGCAGACGCGGAGATCAGATAATTAATTGAGCCGTTTAACGGCTTCATATGAGGCGTAACCTTGGTGCGATGGGCTGGGGCCCGCTAGAAGATTCTTGCTGCGGCCATAGGGTACAGCGCCCGTTAGTTACTCACATCTTTCAGCACAAAGGTTCACTGCTGCTTGCTAGTCCTTCCGGATTGCCGTGAAAAAGGGGGTTCACGCGGTACATGAACGAGTGATCTGAGCCGGCCTAACCCGATGATTGAGAGCTTATTGCTATTGGGTAGGCTTCTACCCATTCATTCTCGAATGGTAATTAAGGCCAAGTGCATGCCGTCCTCAACTAAACCGTTCTTCAAACGTGCGTGCGCTCGTGCGAAGCCCCGGATGAGCTTAGTATATTTATCAGACATTTGCTTGCTCCTTTTTATCTAGGGACCCCTGGCCTGGAGCAGTCAATAGGGTCCTTAAGTCAGGGACGACCGGAGTATTAGGTAGGGTACTTATAAATTATTACCTCCAGCTCAAATGTTCATTGGCTGTTGCCGTTCGGCGATAGGCTCCGTCCGCACAATCAACAGAAGTCGTCTGAGACTGCTTGCCGATAACCTTCGAAGTTGCCTCACCCAGGAGAGTGCCTAGAGCATGACCCTCACTGGACTCCTATTTCTGTAATTGAGTCATGGTGTTAAGGGACGGGACGGGGTCGCGTGTTTATAAAACATATACACAATCGAGACTGCGAGTCGGTCCATATATGCGCAGGTTTTCTTGCAGCACTTGGCTTC',\n",
        "   'sequence_4': 'CGGATTGTCTTGCGCGTCATTTCCGTGTTCACTCAAGGGTCCGGTTCCTACCTGTCAAGGCACGATTGCACTAGTTACTCATCGTTACTCAGCCACGATACCAGCCAGGTACGGTTCCAAGGCAGTTCTGAAGCCTTCTTTGATGAAGCCAACGACGGCATTGTAAAGTGGAGCTCCTACGCTTCTGGGACCATCCTATTAAAAAGTGCGGAGGTTGTACTAGTCTTAAAGCGATGGCATGAGGGGGTGTCATACAGTCGAAAGCAATCAACAGGTCTCTTTTAGCGGCCCGTGATCTTATATCGTTGGAGAGGCTCGCTAAACCTAACCGTGGTCTTACTTTCGATCCATTATCATATCGGTGGGATTAAACAATTTTTTATTAGAGCAACGACGAATACACTCGCGTCCTCGCTCAAGAGTGAGGCCTGCGTCCCTAGGCGCCCCACTGACTCTTTTGCATGGATATAGATAACACCCACACGGACTCTCATACTTGCGAGCCGTATAGCTCAGGTGGGTCTATTGGTTCCATGATTAAGGGTGAAAGATATGAACCCTTGAATGGAGTGTTATTGGCGGAATCCCCCGCAGGGCATCCTATGATGACAATGCAGCGGGTGAGATTCACGGCATATTCTTTTCCTAGCGCGAGTGCCCACTATTGTAGAGGCTAGGGCGCACTCCTTTAACTATCTAGAAGCCAAAAGTAGCCGCAAAAGGCGGGATAAAGATGTCTCTAGTCTTTAAGTCCGGATACAGACGATGACCGATACGAGGTACCCGGTGGTAGTATAGAAAATTTAGTGGCGCGAGTCTAGTACCGTGATCGATTATCCATCCTCAGGGCTCAACCAGGGTGCCCAGAACCACCAGCCAAAGTGTTGCTTGTGTAATCGCACTCGTTCTCAGTGGTCACGACAATAGTCAGAACTACAATAGCGAGCTCTCGCAGTTCGCGTTATAAGCTGGGCACTTCCTCAGCTCAAGCGTTTTGTCT'}),\n",
        " ('d8dcc',\n",
        "  {'creation_time': '5',\n",
        "   'id': 'd8dcce9261d19fde4cf1067140134b4dfdacf13013ca0f4a1c5b48dc10550ae57a53c54464331d55f7ddb44bd8b5e1582c86b015ed0ed18beba020328bf5cdd5',\n",
        "   'segment_number': '4',\n",
        "   'sequence_1': 'AGTGAAATGTAGTCGGGAAAGGAATGTACAGCAGATGGCGTCCAAACTTTATGCTCCAGCATCTTTGCCCTACTAGTTTCGCATAAATTAAAGGTGGCTACAGTCAAGAGTTGGACGTGAACCGTCCATACCTCCTCTGACTATCACTAGATTTCGATGACATTTAAATATCTATAAAGAATGGAGGCTTCCTCATCTGCGCTTCACAACAAGCCGGCGAGTCTTGTGAGGCAGACGCGGAGATCAGATAATTAATTGAGCCGTTTAACGGCTTCATATGAGGCGTAACCTTGGTGCGATGGGCTGGGGCCCGCTAGAAGATTCTTGTTGCGGCCATAGGGTACAGCGCCCGTTAGTTACTCACATCTTTCAGCACAAAGGTTCACTGCTGCTTGCTAGTCCTTCCGGATTGCCGTGAAAAAGGGGGTTCACGCGGTACATGAACGAGTGATCTGAGCCGGCCTAACCCGATGATTGAGAGCTTATTGCTATTGGGTAGGCTTCTACCCATTCATTCTCGAATGGTAATTAAGGCCAAGTGCATGCCGTCCTCAACTAAACCGTTCTTCAAACGTGCGTGCGCTCGTGCGAAGCCCCGGATGAGCTTAGTATATTTATCAGACATTTGCTTGCTCCTTTTTATCTAGGGACCCCTGGCCTGGAGCAGTCAATAGGGTCCTTAAGTCAGGGACGACCGGAGTATTAGGTAGGGTACTTATAAATTATTACCTCCAGCTCAAATGTTCATTGGCTGTTGCCGTTCGGCGATAGGCTCCGTCCGCACAATCAACAGAAGTCGTCTGAGACTGCTTGCCGATAACCTTCGAAGTTGCCTCACCCAGGAGAGTGCCTAGAGCATGACCCTCACTGGACTCCTATTTCTGTAATTGAGTCATGGTGTTAAGGGACGGGACGGGGTCGCGTGTTTATAAAACATATACACAATCGAGACTGCGAGTCGGTCCATATATGCGCAGGTTTTCTTGCAGCACTTGGCTTC',\n",
        "   'sequence_4': 'CGGATTGTCTTGCGCGTCATGTCCGTGTTCACTCAAGGGTCCGGTTCCTACCTGTCAAGGCACGATTGCACTAGTTACACATCGTTACTCAGCCACGATACCAGCCAGGTACGGTTCCAAGGCAGTTCTGAAGCCTTCTTTGATGAAGCCAACGACGGCATTGTAAAGTGGAGCTCCTATGCTTCTGGGACCTTCCTAGTAAAAAGTGCGGGGGTTGTACTAGTCTTAAAGCGATGTCATGAGGGGCCGTCATACAGTCGAAAGCAATCAACAGGTCTCTTTTAGCGGTCCGTAATCTTATATCGTTGGAGAGGCTCGCTAAACCTAACCGTGGTCTTACTTTCGATCCATTGTCATATCGGTGGGATTAAACAATTTTTTATTAGAGCAACGAGGAATACTCTAGCGTCCTCGCTCAAGAGTGAGACCTGCGTCCCTAGGCGCCCCACTGACTCTTTTGCATGGATGTAGATAAGACCCACACGGACTCTCATACTTGCGAGCCGTATAGCTCAGGTGGGTCTCTTGGTTCCATGATTAAGGGTGAAAGATATGAACCCTTGAATTGAGTGTTATAGGCCGAATCCCCCGCAGAGCATCCTATGATGACAATGCAGCGGGTGAGATTCACGGCATATTCTTTTCCTAGCGCGAGTGCCCACTATTGTAGAGGCTAGGGCGCACTCCTTTAACTAGCTAGAAGCCAAAAGTAGACGCAAAAGGCGGGATAAAGACGTCTCTAGTCTTTAAGTCCGGATACAGACGATGACCGATACGAGGTACCCGGTGGTAGTATAGAAAATTTAGTGGCGCGAGTCTAGTACCGTGATCGATTATCCATCCTCAGGGCTCAACCAGGGTGCCCAGAACCACCAGCCAAAGTGTTGCTTGTGTAATCGCACTCGTTCTCAGTGGTCACGAAAATAGTCAGAACTACAATAGCGAGCTCTCGCAGCTCGCGTTATAAGCTGGGCACTTCCTCAGCTCAAGCGTATTGTCT'}),\n",
        " ('e43ef',\n",
        "  {'creation_time': '0',\n",
        "   'id': 'e43ef324dd74a845fb8694fee8fbe69b9b4412a4345b177d723241ef23721a4f54244812e00ddbfc553cb77ce164a55da7aaba7a395131a13469cbbce3ccf506',\n",
        "   'segment_number': '4',\n",
        "   'sequence_1': 'AGTGAAATGTAGTCGGGAAAGGAATGTACAGCAGATGGCGTCCAAACTTAATGCTCCAGCATCTTTGCCCTACTAGTTTCGCATAAATTAAAGGTGGCTACAGTCAAGAGTTGGACGTGAACCGTCCATACCTCCTCTGACTATCACTAGATTTCGATGACATTTAAATATCTATAAAGAATGGAGGCTTCCTCATCTGCGCTTCACAACAAGCCGGCGAGTCTTGTGAGGCAGACGCGGAGATCAGATAATTAATTGAGCCGTTTAACGGCTTCATATGAGGCGTAACCTTGGTGCGATGGGCTGGGGCCCGCTAGAAGATTCTTGTTGCGGCCATAGGGTACAGCGCCCGTTAGTTACTCACATCTTTCAGCACAAAGGTTCACTGCTGCTTGCTAGTCCTTCCGGATTGCCGTGAAAAAGGGGGTTCACGCGGTACATGAACGAGTGATCTGAGCCGGCCTAACCCGATGATTGAGAGCTTATTGCTATTGGGTAGGCTTCTACCCATTCATTCTCGAATGGTAATTAAGGCCAAGTGCATGCCGTCCTCAACTAAACCGTTCTTCAAACGTGCGTGCGCTCGTGCGAAGCCCCGGATGAGCTTAGTATATTTATCAGACATTTGCTTGCTCCTTTTTATCTAGGGACCCCTGGCCTGGAGCAGTCAATAGGGTCCTTAAGTCAGGGACGACCGGAGTATTAGGTAGGGTACTTATAAATTATTACCTCCAGCTCAAATGTTCATTGGCTGTTGCCGTTCGGCGATAGGCTCCGTCCGCACAATCAACAGAAGTCGTCTGAGACTGCTTGCCGATAACCTTCGAAGTTGCCTCACCCAGGAGAGTGCCTAGAGCATGACCCTCACTGGACTCCTATTTCTGTAATTGAGTCATGGTGTTAAGGGACGGGACGGGGTCGCGTGTTTATAAAACATATACACAATCGAGACTGCGAGTCGGTCCATATATGCGCAGGTTTTCTTGCAGCACTTGGCTTC',\n",
        "   'sequence_4': 'ACTCAACAGCGTTGGCACACAGGTTATATGTGCTTACCGTATCAGCTGTAAGTGCAAACTCCCACGTAGCTGGTTCTGTTGAGCTAGAACGTGTCGGGTTCCTCGCCTCTTGGTTGAAGGTTGGTTAGTCGGGAAATTATCAGGAGGTCAGAGTTATTCATCCCTTAGATTGGCGACTGAGTCTGGATTATCTGGTGGCTGGCCGTATAGGTTCGCTGCAACCTGCCTGCGTGTGAGACAAAGTCCTTAAATGCGCTGGCATCCTCACCCGACCACTTAAGGTATAGTTGCTCGTTCCGTCGGGCAAGGGCGCACTGTCAGCAGTCAGCAATTCTCTAGGGCACTATCCCCGATTCCTTCTCCGCTTGGATTCTTCTTCTATAACCTCTGCCCTCTTTCTTTCGTTTTCAATAGCTTAATTAGCTTAATGATGATTTTCAGCCAAACTGTCACCTAATGTGAATACTACTCCGGTATATCTCTTTGTTCTTTTAAGCTGGGAGTATTCGGCCCGTACCCACAAGCTACATCTTGACGGAGCATTTGGCTAATCCGTATCAGTGGGCTCTGACAGGACGCCCACCTTTGTCTGCATGACACTTATAGACCCAATCGAGTGGCTGGAAGGTCGGCGACTATCCACTCTATTCAAGGCGCACTGTAGCCGGTATCACGAAACACCAAAACTACAAACTCCTCTTAAGAAGAGGTCTGTATAAGACGCTATTCGTCAGGGTCGTCTAACAGCGCTGCGAAAATGGGAAAATACTTGAGGCTAGTTTTACATTTGACGTAACTATAGATCCGCTCAGGTGATGTACTACACGATATTCATTCGACAGAACATACACTCGGGCGAACAGTCACCCTAATAAGCATGCTCGCTCGGAGTTAATATACTCTCGTTACGTAAGAAAGCTTTGCATGCCCAAGACGTTAGCCCTAGATCAGTGCGTTCAAATCGGCGTGACTAAAGCTACGAACTCAAATACAATCCGTA'}),\n",
        " ('57da6',\n",
        "  {'creation_time': '0',\n",
        "   'id': '57da6d5d91dbaad464fe5a75ddd153e54a4f555de0e396a301f30bd37fa0e866c8591265b52bd0a22494fec419a4d40e40f0c6dc1ac97e93f3040c619c292879',\n",
        "   'segment_number': '4',\n",
        "   'sequence_1': 'AGTGAAATGTAGTCGGGAAAGGAATGTACAGCAGATGGCGTCCAAACTTAATGCTCCAGCATCTTTGCCCTACTAGTTTCGCATAAATTAAAGGTGGCTACAGTCAAGAGTTGGACGTGAACCGTCCATACCTCCTCTGACTATCACTAGATTTCGATGACATTTAAATATCTATAAAGAATGGAGGCTTCCTCATCTGCGCTTCACAACAAGCCGGCGAGTCTTGTGAGGCAGACGCGGAGATCAGATAATTAATTGAGCCGTTTAACGGCTTCATATGAGGCGTAACCTTGGTGCGATGGGCTGGGGCCCGCTAGAAGATTCTTGTTGCGGCCATAGGGTACAGCGCCCGTTAGTTACTCACATCTTTCAGCACAAAGGTTCACTGCTGCTTGCTAGTCCTTCCGGATTGCCGTGAAAAAGGGGGTTCACGCGGTACATGAACGAGTGATCTGAGCCGGCCTAACCCGATGATTGAGAGCTTATTGCTATTGGGTAGGCTTCTACCCATTCATTCTCGAATGGTAATTAAGGCCAAGTGCATGCCGTCCTCAACTAAACCGTTCTTCAAACGTGCGTGCGCTCGTGCGAAGCCCCGGATGAGCTTAGTATATTTATCAGACATTTGCTTGCTCCTTTTTATCTAGGGACCCCTGGCCTGGAGCAGTCAATAGGGTCCTTAAGTCAGGGACGACCGGAGTATTAGGTAGGGTACTTATAAATTATTACCTCCAGCTCAAATGTTCATTGGCTGTTGCCGTTCGGCGATAGGCTCCGTCCGCACAATCAACAGAAGTCGTCTGAGACTGCTTGCCGATAACCTTCGAAGTTGCCTCACCCAGGAGAGTGCCTAGAGCATGACCCTCACTGGACTCCTATTTCTGTAATTGAGTCATGGTGTTAAGGGACGGGACGGGGTCGCGTGTTTATAAAACATATACACAATCGAGACTGCGAGTCGGTCCATATATGCGCAGGTTTTCTTGCAGCACTTGGCTTC',\n",
        "   'sequence_4': 'CGGATTGTCTTGCGCGTCATGTCCGTGTTCACTCAAGGGTCCGGTTCCTACCTGTCAAGGCACGATTGCACTAGTTACACATCGTTACTCAGCCACGATACCAGCCAGGTACGGTTCCAAGGCAGTTCTGAAGCCTTCTTTGATGAAGCCAACGACGGCATTGTAAAGTGGAGCTCCTATGCTTCTGGGACCATCCTAGTAAAAAGTGCGGAGGTTGTACTAGTCTTAAAGCGATGGCATGAGGGGCCGTCATACAGTCGAAAGCAATCAACAGGTCTCTTTTAGCGGTCCGTGATCTTATATCGTTGGAGAGGCTCGCTAAACCTAACCGTGGTCTTACTTTCGATCCATTGTCATATCGGTGGGATTAAACAATTTTTTATTAGAGCAACGACGAATACTCTCGCGTCCTCGCTCAAGAGTGAGGCCTGCGTCCCTAGGCGCCCCACTGACTCTTTTGCATGGATATAGATAACACCCACACGGACTCTCATACTTGCGAGCCGTATAGCTCAGGTGGGTCTATTGGTTCCATGATTAAGGGTGAAAGATATGAACCCTTGAATGGAGTGTTATTGGCGGAATCCCCCGCAGAGCATCCTATGATGACAATGCAGCGGGTGAGATTCACGGCATATTCTTTTCCTAGCGCGAGTGCCCACTATTGTAGAGGCTAGGGCGCACTCCTTTAACTAGCTAGAAGCCAAAAGTAGACGCAAAAGGCGGGATAAAGACGTCTCTAGTCTTTAAGTCCGGATACAGACGATGACCGATACGAGGTACCCGGTGGTAGTATAGAAAATTTAGTGGCGCGAGTCTAGTACCGTGATCGATTATCCATCCTCAGGGCTCAACCAGGGTGCCCAGAACCACCAGCCAAAGTGTTGCTTGTGTAATCGCACTCGTTCTCAGTGGTCACGACAATAGTCAGAACTACAATAGCGAGCTCTCGCAGCTCGCGTTATAAGCTGGGCACTTCCTCAGCTCAAGCGTATTGTCT'}),\n",
        " ('3785a',\n",
        "  {'creation_time': '6',\n",
        "   'id': '3785a1b1039b4b9333d368886137582d42d3e7722f45cb44e63813b71148e91e0c94b41e8742183ec6287bfc40701bff737c6033a95834b31dc4f5f3841d99d9',\n",
        "   'segment_number': '4',\n",
        "   'sequence_1': 'AGTGAAATTTAGTCGGGAAAGGAATGTACTGCAGATGGCGTCCAAACTTAATGCTCCAGCATCTTTGCCCTACTAGTTTCGCATAAATTAAAGGTGGCTACAGTCAAGAGTTGGACGTGAACCGTCCATACCTACTCTGACTATCACTAGATTTCGATGACATTTAAATATCTATAAAGAATGGAGGCTTCCTCATCTGCGCTTCACAACAAGCCGGCGAGTCTTGTGAGGCAGACGCGGAGATCAGATAATTAATTGAGCCGTTTAACGGCTTCATATGAGGCGTAACCTTGGTGCGATGGGCTGGGGCCCGCTAGAAGATTCTTGTTGCGGCCATAGGGTACAGCGCCCGTTAGTTACTCACATCTTTCAGCACAAAGGTTCACTGCTGCTTGCTAGTCCTTCCGGATTGCCGTGAAAAAGGGGGTTCACGCGGTACATGAACGAGTGATCTGAGCCGGCCTAACCCGATGATTGAGAGCTTATTGCTATTGGGTAGGCTTCTACCCATTCATTCTCGAATGGTAATTAAGGCCAAGTGCATGCCGTCCTCAACTAAACCGTTCTTCAAACGTGCGTGCGCTCGTGCGAAGCCCCGGATGAGCTTAGTATATTTATCAGACATTTGCTTGCTCCTTTTTATCTAGGGACCCCTGGCCTGGAGCAGTCAATAGGGTCCTTAAGTCAGGGACGACCGGAGTATTAGGTAGGGTACTTATAAATTATTACCTCCAGCTCAAATGTTCATTGGCTGTTGCCGTTCGGCGATAGGCTCCGTCCGCACAATCAACAGAAGTCGTCTGAGACTGCTTGCCGATAACCTTCGAAGTTGCCTCACCCAGGAGAGTGCCTAGAGCATGACCCTCACTGGACTCCTATTTCTGTAATTGAGTCATGGTGTTAAGGGACGGGACGGGGTCGCGTGTTTATAAAACATATACACAATCGAGACTGCGAGTCGGTCCATATATGCGCAGGTTTTCTTGCAGCACTTGGCTTC',\n",
        "   'sequence_4': 'ACTCAACAGCGTTGGCACACAGGTTATATGTCCTTACCGTATCAGCTGTAAGTGCAAACTCCCACGTAGCTGGTCCTGTTGAGCTAGAACGTGTCGGGTTCCACGCCTCTTGGTTGAAGGTTGCTTAGTCGGGAAATTATCAGGAGGTCAGAGTTATTCATCCCTAAGATTTGCGACTGAGTCTGGATTATCTGGTGGCTGGCCGTATAGGTTCGCTGCAACCTGCCTGCGTGTGAGACAAAGTCCTTAAATGCGCTGGCATCCTCAGCCGACCACTTAAGGTATAGTTGCTCGTTCCATCGGGCAAGGGCGCACTGTCAGCAGTCAGCGATTCTCTAGGGCACTATCCCCGATTCCTTCTCCGCTTGGATTCTCCTTCTATAACCTCTGCCCTCTTTCTTTCGTTTTCAATAGCTTAATTAGCTTAATGATGATTTTCAGTCAAACTGTCACCTAATGTGAATACTACTCCGGTATATCTCTTTGTTCTTTTAAGCTGGGAGTATTCGGCCCGTACCCACAAGCTACATCTTGACGGAGCATTTGGCTAATCCGTTTCAGTGGGCTCTGACAGATCGCCCACCTTAGTCTGCATGACACTTATAGACCCAATCGAGTGGCTGGAAGGTCGACGACTATCCACTCTATTCAAGGTGCACTGTAGCGGGTAACACGAAACAGCAAAACTACAAACTCCTCTTAAGAAGAGGTCTGTATAAGACGCTATTCGTCAGGGTCGTTTAACAGCGCTGCGAAAATGGGAAAATACTTGAGGCTAGTTTTACATTTGACGTAACTATAGATCCGCTCAGGTGATGTACTACACGATATTCATTCGACAGAACATACACTCGGGCGAACAGTCACCCTAATAAGCATGCTCGCTCGGAGTTAATATACTCTCGTTACGTAAAAAAGCTTTGTATGCCCAAGACGTTAGCCCTAGATCCGTGCGTTCAAATCGGCGTGACAAAAGCTACGAACTCAAATACAATCCGTA'}),\n",
        " ('b7473',\n",
        "  {'creation_time': '1',\n",
        "   'id': 'b7473ed9d9d879fd6376b035ca009f1f3193854d41ff5b48edce2eb3affccc44d6bc2e253a245e5f8ebaceb6ae1e5e63c65d41dee0244144fb94b2ebd55f005a',\n",
        "   'segment_number': '4',\n",
        "   'sequence_1': 'AGTGAAATGTAGTCGGGAAAGGAATGTACAGCAGATGGCGTCCAAACTTAATGCTCCAGCATCTTTGCCCTACTAGTTTCGCATAAATTAAAGGTGGCTACAGTCAAGAGTTGGACGTGAACCGTCCATACCTCCTCTGACTATCACTAGATTTCGATGACATTTAAATATCTATAAAGAATGGAGGCTTCCTCATCTGCGCTTCACAACAAGCCGGCGAGTCTTGTGAGGCAGACGCGGAGATCAGATAATTAATTGAGCCGTTTAACGGCTTCATATGAGGCGTAACCTTGGTGCGATGGGCTGGGGCCCGCTAGAAGATTCTTGTTGCGGCCATAGGGTACAGCGCCCGTTAGTTACTCACATCTTTCAGCACAAAGGTTCACTGCTGCTTGCTAGTCCTTCCGGATTGCCGTGAAAAAGGGGGTTCACGCGGTACATGAACGAGTGATCTGAGCCGGCCTAACCCGATGATTGAGAGCTTATTGCTATTGGGTAGGCTTCTACCCATTCATTCTCGAATGGTAATTAAGGCCAAGTGCATGCCGTCCTCAACTAAACCGTTCTTCAAACGTGCGTGCGCTCGTGCGAAGCCCCGGATGAGCTTAGTATATTTATCAGACATTTGCTTGCTCCTTTTTATCTAGGGACCCCTGGCCTGGAGCAGTCAATAGGGTCCTTAAGTCAGGGACGACCGGCGTATTAGGTAGGGTACTTATAAATTATTACCTCCAGCTCAAATGTTCATTGGCTGTTGCCGTTCGGCGATAGGCTCCGTCCGCACAATCAACAGAAGTCGTCTGAGACTGCTTGCCGATAACCTTCGAAGTTGCCTCACCCAGGAGAGTGCCTAGAGCATGACCCTCACTGGACTCCTATTTCTGTAATTGAGTCATGGTGTTAAGGGACGGGACGGGGTCGCGTGTTTATAAAACATATACACAATCGAGACTGCGAGTCGGTCCATATATGCGCAGGTTTTCTTGCAGCACTTGGCTTC',\n",
        "   'sequence_4': 'CGGATTGTCTTGCGCGTCATGTCCGTGTTCACTCAAGGGTCCGGTGCCTACCTGTCAAGGCACGATTGCACTAGTTACACATCGTTACTCAGCCACGGTACCAGCCAGGTACGGTTCCAAGGCAGTTCTGAAGCCTTCTTTGATGAAGCCAACGACGGCATTGTAAAGTGGAGCTCCGATGCTTCTGGGACCATCCTAGTAAAAAGTGCGGAGGTTGTACTAGTCTTAAAGCGATGGCATGAGGGGCCGTCATACAGTCGAAAGCAATCAACAGGTCTCTTTTAGAGGTCCGTGATCTTATATCGTTGGACAGGCTCGCTAAACCTAACCGTGGTCTTACTTTCGATCCATTGTCATATCGGTGGGATTAAACAATTTTTTATTAGAGCAACGACGAATACTCTCGCGTCCTCGCTCAAGAGTGAGGCCTGCGTCCCTAGGCGCCCCACTGACTCTTTTGCATGGATATAGATAACACCCACACGGACTCTCATACTTGCGAGCCGTATAGCTCAGGCGGGTCTATTGGTTCCATGATTAAGGGTGAAAGATATGAACCCTTGAATGGAGTGTTATTGGCGGAATCACCCGCAGAGCATCCTATGATGACAATGCAGCGGGTGAGATTCACGGCATATTCTTTTCCTAGCGCGAGTGCCCACTATTGTAGAGGCTAGGGCGCACTCCTTTAACTAGCTAGAAGCCAAAAGTAGACGCAAAAGGCGGGATAAAGACGTCTCTAGTCTTTAAGTCCGGATACAGACGATGACCGATACGAGGTACCCGGTGGTAGTATAGAAAATTTAGTGGCGCGAGTCTAGTACCGTGATCGATTATCCATCCTCAGGGCTCAACCAGGGTGCCCAGAACCACCAGCCAAAGTGTTGCTTGTGTAATCGCACTCGTTCTCAGTGGTCACGACAATAGTCAGAACTACAATAGCGAACTCTCGCAGCTCGCGTTATAAGCTGGGCACTTCCTCAGCTCAAGCGTATTGTCT'}),\n",
        " ('f9c75',\n",
        "  {'creation_time': '3',\n",
        "   'id': 'f9c759e29d6d3a54cf44b358beba6f2e548727ccc8808f88be46e8480622a26f62fd2ff52630d1d502737e47e6a143c6ae90e98dae387a0979e5f204f05be8e5',\n",
        "   'segment_number': '4',\n",
        "   'sequence_1': 'AGTGAAATTTAGTCGGGAAAGGAATGTACTGCAGATGGCGTCCAAACTTAATGCTCCAGCATCTTTGCCCTACTAGTTTCGCATAAATTAAAGGTGGCTACAGTCAAGAGTTGGACGTGAACCGTCCATACCTACTCTGACTATCACTAGATTTCGATGACATTTAAATATCTATAAAGAATGGAGGCTTCCTCATCTGCGCTTCACAACAAGCCGGCGAGTCTTGTGAGGCAGACGCGGAGATCAGATAATTAATTGAGCCGTTTAACGGCTTCATATGAGGCGTAACCTTGGTGCGATGGGCTGGGGCCCGCTAGAAGATTCTTGTTGCGGCCATAGGGTACAGCGCCCGTTAGTTACTCACATCTTTCAGCACAAAGGTTCACTGCTGCTTGCTAGTCCTTCCGGATTGCCGTGAAAAAGGGGGTTCACGCGGTACATGAACGAGTGATCTGAGCCGGCCTAACCCGATGATTGAGAGCTTATTGCTATTGGGTAGGCTTCTACCCATTCATTCTCGAATGGTAATTAAGGCCAAGTGCATGCCGTCCTCAACTAAACCGTTCTTCAAACGTGCGTGCGCTCGTGCGAAGCCCCGGATGAGCTTAGTATATTTATCAGACATTTGCTTGCTCCTTTTTATCTAGGGACCCCTGGCCTGGAGCAGTCAATAGGGTCCTTAAGTCAGGGACGACCGGAGTATTAGGTAGGGTACTTATAAATTATTACCTCCAGCTCAAATGTTCATTGGCTGTTGCCGTTCGGCGATAGGCTCCGTCCGCACAATCAACAGAAGTCGTCTGAGACTGCTTGCCGATAACCTTCGAAGTTGCCTCACCCAGGAGAGTGCCTAGAGCATGACCCTCACTGGACTCCTATTTCTGTAATTGAGTCATGGTGTTAAGGGACGGGACGGGGTCGCGTGTTTATAAAACATATACACAATCGAGACTGCGAGTCGGTCCATATATGCGCAGGTTTTCTTGCAGCACTTGGCTTC',\n",
        "   'sequence_4': 'ACTCAACAGCGTTGGCACACAGGTTATATGTGCTTACCGTATCAGCTGTAAGTGCAAACTCCCACGTAGCTGGTCCTGTTGAGCTAGAACGTGTCGGGTTCCACGCCTCTTGGTTGAAGGTTGGTTAGTCGGGAAATTATCAGGAGGTCAGAGTTATTCATCCCTTAGATTGGCGACTGAGTCTGGATTATCTGGTGGCTGGCCGTATAGGTTCGCTGCAACCTGCCTGCGTGTGAGACAAAGTCCTTAAATGCGCTGGCATCCTCACCCGACCACTTAAGGTATAGTTGCTCGTTCCGTCGGGCAAGGGCGCACTGTCAGCAGTCAGCGATTCTCTAGGGCACTATCCCCGATTCCTTCTCCGCTTGGATTCTTCTTCTATAACCTCTGCCCTCTTTCTTTCGTTTTCAATAGCTTAATTAGCTTAATGATGATTTTCAGCCAAACTGTCACCTAATGTGAATACTACTCCGGTATATCTCTTTGTTCTTTTAAGCTGGGAGTATTCGGCCCGTACCCACAAGCTACATCTTGACGGAGCATTTGGCTAATCCGTTTCAGTGGGCTCTGACAGGTCGCCCACCTTTGTCTGCATGACACTTATAGACCCAATCGAGTGGCTGGAAGGTCGACGACTATCCACTCTATTCAAGGCGCACTGTAGCGGGTATCACGAAACAGCAAAACTACAAACTCCTCTTAAGAAGAGGTCTGTATAAGACGCTATTCGTCAGGGTCGTTTAACAGCGCTGCGAAAATGGGAAAATACTTGAGGCTAGTTTTACATTTGACGTAACTATAGATCCGCTCAGGTGATGTACTACACGATATTCATTCGACAGAACATACACTCGGGCGAACAGTCACCCTAATAAGCATGCTCGCTCGGAGTTAATATACTCTCGTTACGTAAAAAAGCTTTGCATGCCCAAGACGTTAGCCCTAGATCCGTGCGTTCAAATCGGCGTGACTAAAGCTACGAACTCAAATACAATCCGTA'}),\n",
        " ('8ce0d',\n",
        "  {'creation_time': '9',\n",
        "   'id': '8ce0dfb0257239f9f06bfd77b20f5f851093f4dbbd4e7cf61191b4fc2be75f9337b1eb83bfe5c39eb7765afff26319cd39a8bc552fec97f68afe01660eb51c83',\n",
        "   'segment_number': '4',\n",
        "   'sequence_1': 'AGTGAAATGTAGTCGGGAAAGGAATGTACAGCAGATGGCGTCCAAACTTAATGCTCCAGCATCTTTGCCCTACTAGTTTCGCATAAATTAAAGGTGGCTACAGTCAAGAGTTGGACGTGAACCGTCCATACCTCCTCTGACTATCACTAGATTTCGATGACATTTAAATATCTATAAAGAATGGAGGCTTCCTCATCTGCGCTTCACAACAAGCCGGCGAGTCTTGTGAGGCAGACGCGGAGATCAGATAATTAATTGAGCCGTTTAACGGCTTCATATGAGGCGTAACCTTGGTGCGATGGGCTGGGGCCCGCTAGAAGATTCTTGCTGCGGCCATAGGGTACAGCGCCCGTTAGTTACTCACATCTTTCAGCACAAAGGTTCACTGCTGCTTGCTAGTCCTTCCGGATTGCCGTGAAAAAGGGGGTTCACGCGGTACATGAACGAGTGATCTGAGCCGGCCTAACCCGATGATTGAGAGCTTATTGCTATTGGGTAGGCTTCTACCCATTCATTCTCGAATGGTAATTAAGGCCAAGTGCATGCCGTCCTCAACTAAACCGTTCTTCAAACGTGCGTGCGCTCGTGCGAAGCCCCGGATGAGCTTAGTATATTTATCAGACATTTGCTTGCTCCTTTTAATCTAGGGACCCCTGGCCTGGAGCAGTCAATAGGGTCCTTAAGTCAGGGACGACCGGAGTATTAGGTAGGGTACTTATAAATTATTACCTCCAGCTCAAATGTTCATTGGCTGTTGCCGTTCGGCGATAGGCTCCGTCCGCACAATCAACAGAAGTCGTCTGAGACTGCTTGCCGATAACCTTCGAAGTTGCCTCACCCAGGAGAGTGCCTAGAGCATGACCCTCACTGGACTCCTATTTCTGTAATTGAGTCATGGTGTTAAGGAACGGGACGGGGTCGCGTGTTTATAAAACATATACACAATCGAGACTGCGAGTCGGTCCATATATGCGCAGGTTTTCTTGCAGCACTTGGCTTC',\n",
        "   'sequence_4': 'CGGATCGTCTTGCGCGTCATTTCCGTGTTCATTCAAGGGTCCGGTTCCTACCTGTCAAGGCACGATTGCACTAGTTACTCATCGTTACTCAGCCACGATACCAGCCAGGTACGGTTCCAAGGCAGTTCTGAAGCCTTCTTTGATGAAGCCAACGTAGGTATTGTAAAGTGGAGCTCCTACGCTTCTGGGGCCATCCTATTAAAAAGTGCGGAGGTTGTACTAGTCTTAAAGCCATGGCATGAGGGGGTGTCATACAGTCGAAAGCAATCAACAGGTCTCTTTTAGCGGCCCGTGATCTTACATCGTTGGAGAGGCTCGCGAAACCTAACCGTGGTCTGACTTTCGATCCATTATCATATCGGTGGGATTAAACAATTTTTTATTAGAGCAACGACGAATACACTCGCGTCCTCGCTCAAGAGTGAGGACTGCGTCCCTGGGCGCCCCAGTAACTCTTTTGCATGGATATAGATAACACCCACACGGACTCTCATACTTGCGAGCCGCGTAGCTCAGGTGGGTCTATTGGTTCCATGATTAAGGGTGAAAGATATGAACCCTTGAATGGAGTGTTATTGGCGGAATGCCCCGCAGGGCATCCTATGATGATAATGCAGCGGGTGAGATTCACGGCATATTCTTTTCCTAGCGCGAGTGCCCACTATTGTAGAGGCTAGGGCGCACTCCTTTAACTATCTAGAAGCCAAAAGTAGCCGCAAAAGGCGGGATAGAGAGGTCTCTAGTCTTTAAGTCAGGATACAGACGATGACCGATACGAGGTACCCGGTGGTAGTATAGAAAATTTAGTGGCGCGAGTCTAGTACCGTGATCGATTATCCAACGTCAGGGCTCAACCAGGGTGCCCAGAACCACCAGCCAAACTGTTGCTTGTGTAATCGCACTCGTTCTCAGTGGTCACGACAATAGTCAGAACTACAATAGCGAGCTCTCGCAGTTCGCGTTATAAGCTGGGCACTTCCTCAGCTCAAGCCTTTTGCCT'}),\n",
        " ('156fd',\n",
        "  {'creation_time': '7',\n",
        "   'id': '156fdb54b6659ca5d41cec2ec46c1660630949f2bee0a7d20966f647964f5722831baf5df1b4b66d0d56c2c27d1ce96bca3d3969bcbfb7d4644bfed03cb86fa9',\n",
        "   'segment_number': '4',\n",
        "   'sequence_1': 'AGTGAAATGTAGTCGGGAAAGGAATGTACAGCAGATGGCGTCCAAACTTAATGCTCCAGCATCTTTGCCCTACTAGTTTCGCATAAATTAAAGGTGGCTACAGTCAAGAGTTGGACGTGAACCGTCCATACCTCCTCTGACTATCACTAGATTTCGATGACATTTAAATATCTATAAAGAATGGAGGCTTCCTCATCTGCGCTTCACAACAAGCCGGCGAGTCTTGTGAGGCAGACGCGGAGATCAGATAATTAATTGAGCCGTTTAACGGCTTCATATGAGGCGTAACCTTGGTGCGATGGGCTGGGGCCCGCTAGAAGATTCTTGCTGCGGCCATAGGGTACAGCGCCCGTTAGTTACTCACATCTTTCAGCACAAAGGTTCACTGCTGCTTGCTAGTCCTTCCGGATTGCCGTGAAAAAGGGGGTTCACGCGGTACATGAACGAGTGATCTGAGCCGGCCTAACCCGATGATTGAGAGCTTATTGCTATTGGGTAGGCTTCTACCCATTCATTCTCGAATGGTAATTAAGGCCAAGTGCATGCCGTCCTCAACTAAACCGTTCTTCAAACGTGCGTGCGCTCGTGCGAAGCCCCGGATGAGCTTAGTATATTTATCAGACATTTGCTTGCTCCTTTTTATCTAGGGACCCCTGGCCTGGAGCAGTCAATAGGGTCCTTAAGTCAGGGACGACCGGAGTATTAGGTAGGGTACTTATAAATTATTACCTCCAGCTCAAATGTTCATTGGCTGTTGCCGTTCGGCGATAGGCTCCGTCCGCACAATCAACAGAAGTCGTCTGAGACTGCTTGCCGATAACCTTCGAAGTTGCCTCACCCAGGAGAGTGCCTAGAGCATGACCCTCACTGGACTCCTATTTCTGTAATTGAGTCATGGTGTTAAGGGACGGGACGGGGTCGCGTGTTTATAAAACATATACACAATCGAGACTGCGAGTCGGTCCATATATGCGCAGGTTTTCTTGCAGCACTTGGCTTC',\n",
        "   'sequence_4': 'CGGATTGTCTTGCGCGTCATTTCCGTGTTCACTCAAGGGTCCGGTTCCTACCTGTCAAGGCACGATTGCACTAGTTACTCATCGTTACTCAGCCACGATACCAGCCAGGTACGGTTCCAAGGCAGTTCTGAAGCCTTCTTTGATGAAGCCAACGTAGGTATTGTAAAGTGGAGCTCCTACGCTTCTGGGGCCATCCTATTAAAAAGTGCGGAGGTTGTACTAGTCTTAAAGCGATGGCATGAGGGGGTGTCATACAGTCGAAAGCAATCAACAGGTCTCTTTTAGCGGCCCGTGATCTTATATCGTTGGAGAGGCTCGCGAAACCTAACCGTGGTCTGACTTTCGATCCATTATCATATCGGTGGGATTAAACAATTTTTTATTAGAGCAACGACGAATACACTCGCGTCCTCGCTCAAGAGTGAGGCCTGCGTCCCTAGGCGCCCCACTAACTCTTTTGCATGGATATAGATAACACCCACACGGACTCTCATACTTGCGAGCCGTATAGCTCAGGTGGGTCTATTGGTTCCATGATTAAGGGTGAAAGATATGAACCCTTGAATGGAGTGTTATTGGCGGAATCCCCCGCAGGGCATCCTATGATGACAATGCAGCGGGTGAGATTCACGGCATATTCTTTTCCTAGCGCGAGTGCCCACTATTGTAGAGGCTAGGGCGCACTCCTTTAACTATCTAGAAGCCAAAAGTAGCCGCAAAAGGCGGGATAAAGATGTCTCTAGTCTTTAAGTCAGGATACAGACGATGACCGATACGAGGTACCCGGTGGTAGTATAGAAAATTTAGTGGCGCGAGTCTAGTACCGTGATCGATTATCCAACCTCAGGGCTCAACCAGGGTGCCCAGAACCACCAGCCAAAGTGTTGCTTGTGTAATCGCACTCGTTCTCAGTGGTCACGACAATAGTCAGAACTACAATAGCGAGCTCTCGCAGTTCGCGTTATAAGCTGGGCACTTCCTCAGCTCAAGCGTTTTGTCT'})]"
       ]
      }
     ],
     "prompt_number": 25
    },
    {
     "cell_type": "code",
     "collapsed": false,
     "input": [
      "# This code is used for drawing.\n",
      "from random import randint\n",
      "\n",
      "randints = []\n",
      "for node in r.condensed_graph().nodes(data=True):\n",
      "    randints.append(randint(1, 20))\n",
      "print randints\n",
      "\n",
      "reconstruction_positions = dict()\n",
      "for i, node in enumerate(sorted(r.condensed_graph().nodes(data=True))):\n",
      "    reconstruction_positions[node[0]] = (int(node[1]['creation_time']), randints[i])\n",
      "    \n",
      "print len(reconstruction_positions)\n",
      "nx.draw(r.condensed_graph(), pos=reconstruction_positions)"
     ],
     "language": "python",
     "metadata": {},
     "outputs": [
      {
       "output_type": "stream",
       "stream": "stdout",
       "text": [
        "[15, 1, 1, 20, 17, 5, 3, 1, 3, 8, 11]\n",
        "11\n"
       ]
      },
      {
       "metadata": {},
       "output_type": "display_data",
       "png": "[encoded data removed]",
       "text": [
        "<matplotlib.figure.Figure at 0x1063e0e50>"
       ]
      }
     ],
     "prompt_number": 26
    },
    {
     "cell_type": "code",
     "collapsed": false,
     "input": [
      "simulation_positions = dict()\n",
      "\n",
      "print randints\n",
      "for i, pathogen in enumerate(s.pathogens):\n",
      "    simulation_positions[pathogen] = reconstruction_positions[str(pathogen)]\n",
      "    \n",
      "print len(simulation_positions)\n",
      "nx.draw(s.transmission_graph(), pos=simulation_positions)"
     ],
     "language": "python",
     "metadata": {},
     "outputs": [
      {
       "output_type": "stream",
       "stream": "stdout",
       "text": [
        "[15, 1, 1, 20, 17, 5, 3, 1, 3, 8, 11]\n",
        "11\n"
       ]
      },
      {
       "metadata": {},
       "output_type": "display_data",
       "png": "[encoded data removed]",
       "text": [
        "<matplotlib.figure.Figure at 0x1063f1a90>"
       ]
      }
     ],
     "prompt_number": 27
    },
    {
     "cell_type": "code",
     "collapsed": false,
     "input": [
      "s.pathogens[0].parent"
     ],
     "language": "python",
     "metadata": {},
     "outputs": [
      {
       "metadata": {},
       "output_type": "pyout",
       "prompt_number": 28,
       "text": [
        "{}"
       ]
      }
     ],
     "prompt_number": 28
    },
    {
     "cell_type": "code",
     "collapsed": false,
     "input": [
      "r.condensed_graph().edges(data=True)"
     ],
     "language": "python",
     "metadata": {},
     "outputs": [
      {
       "metadata": {},
       "output_type": "pyout",
       "prompt_number": 29,
       "text": [
        "[('1ba14', '8ce0d', {'segments': [1, 4], 'weight': 12}),\n",
        " ('6ab7b', '1ba14', {'segments': [1], 'weight': 1}),\n",
        " ('6ab7b', '156fd', {'segments': [1, 4], 'weight': 9}),\n",
        " ('e43ef', 'b7473', {'segments': [1], 'weight': 1}),\n",
        " ('e43ef', 'f9c75', {'segments': [1, 4], 'weight': 14}),\n",
        " ('e43ef', '6ab7b', {'segments': [1], 'weight': 1}),\n",
        " ('e43ef', 'd8dcc', {'segments': [1], 'weight': 1}),\n",
        " ('57da6', 'b7473', {'segments': [1, 4], 'weight': 9}),\n",
        " ('57da6', 'f9c75', {'segments': [1], 'weight': 3}),\n",
        " ('57da6', '6ab7b', {'segments': [1, 4], 'weight': 16}),\n",
        " ('57da6', 'd8dcc', {'segments': [1, 4], 'weight': 15}),\n",
        " ('b7473', '6ceec', {'segments': [1, 4], 'weight': 15}),\n",
        " ('f9c75', '3785a', {'segments': [1, 4], 'weight': 14}),\n",
        " ('156fd', '1ba14', {'segments': [1, 4], 'weight': 7})]"
       ]
      }
     ],
     "prompt_number": 29
    },
    {
     "cell_type": "code",
     "collapsed": false,
     "input": [
      "for virus in s.reassortants():\n",
      "    print virus"
     ],
     "language": "python",
     "metadata": {},
     "outputs": [
      {
       "output_type": "stream",
       "stream": "stdout",
       "text": [
        "b7473\n"
       ]
      }
     ],
     "prompt_number": 30
    },
    {
     "cell_type": "code",
     "collapsed": false,
     "input": [
      "for virus in r.reassortants():\n",
      "    print virus[0]"
     ],
     "language": "python",
     "metadata": {},
     "outputs": [],
     "prompt_number": 31
    },
    {
     "cell_type": "code",
     "collapsed": false,
     "input": [
      "s.transmission_graph().edges(data=True)"
     ],
     "language": "python",
     "metadata": {},
     "outputs": [
      {
       "metadata": {},
       "output_type": "pyout",
       "prompt_number": 32,
       "text": [
        "[(156fd, 1ba14, {'segments': [1, 4], 'weight': 7}),\n",
        " (e43ef, b7473, {'segments': [1], 'weight': 1}),\n",
        " (e43ef, f9c75, {'segments': [1, 4], 'weight': 14}),\n",
        " (1ba14, 8ce0d, {'segments': [1, 4], 'weight': 12}),\n",
        " (57da6, b7473, {'segments': [4], 'weight': 8}),\n",
        " (57da6, 6ab7b, {'segments': [1, 4], 'weight': 16}),\n",
        " (57da6, d8dcc, {'segments': [1, 4], 'weight': 15}),\n",
        " (f9c75, 3785a, {'segments': [1, 4], 'weight': 14}),\n",
        " (6ab7b, 156fd, {'segments': [1, 4], 'weight': 9}),\n",
        " (b7473, 6ceec, {'segments': [1, 4], 'weight': 15})]"
       ]
      }
     ],
     "prompt_number": 32
    },
    {
     "cell_type": "markdown",
     "metadata": {},
     "source": [
      "# Test Relabeled Graph"
     ]
    },
    {
     "cell_type": "code",
     "collapsed": false,
     "input": [
      "for pathogen in s.pathogens:\n",
      "    print (str(pathogen), str(pathogen.parent))"
     ],
     "language": "python",
     "metadata": {},
     "outputs": [
      {
       "output_type": "stream",
       "stream": "stdout",
       "text": [
        "('57da6', '{}')\n",
        "('e43ef', '{}')\n",
        "('b7473', '{57da6: [4], e43ef: [1]}')\n",
        "('6ab7b', '{57da6: [1, 4]}')\n",
        "('f9c75', '{e43ef: [1, 4]}')\n",
        "('6ceec', '{b7473: [1, 4]}')\n",
        "('d8dcc', '{57da6: [1, 4]}')\n",
        "('3785a', '{f9c75: [1, 4]}')\n",
        "('156fd', '{6ab7b: [1, 4]}')\n",
        "('1ba14', '{156fd: [1, 4]}')\n",
        "('8ce0d', '{1ba14: [1, 4]}')\n"
       ]
      }
     ],
     "prompt_number": 33
    },
    {
     "cell_type": "code",
     "collapsed": false,
     "input": [
      "s.relabeled_transmission_graph().edges(data=True)"
     ],
     "language": "python",
     "metadata": {},
     "outputs": [
      {
       "metadata": {},
       "output_type": "pyout",
       "prompt_number": 34,
       "text": [
        "[('f9c75', '3785a', {'segments': [1, 4], 'weight': 14}),\n",
        " ('1ba14', '8ce0d', {'segments': [1, 4], 'weight': 12}),\n",
        " ('6ab7b', '156fd', {'segments': [1, 4], 'weight': 9}),\n",
        " ('e43ef', 'b7473', {'segments': [1], 'weight': 1}),\n",
        " ('e43ef', 'f9c75', {'segments': [1, 4], 'weight': 14}),\n",
        " ('57da6', 'b7473', {'segments': [4], 'weight': 8}),\n",
        " ('57da6', '6ab7b', {'segments': [1, 4], 'weight': 16}),\n",
        " ('57da6', 'd8dcc', {'segments': [1, 4], 'weight': 15}),\n",
        " ('b7473', '6ceec', {'segments': [1, 4], 'weight': 15}),\n",
        " ('156fd', '1ba14', {'segments': [1, 4], 'weight': 7})]"
       ]
      }
     ],
     "prompt_number": 34
    },
    {
     "cell_type": "code",
     "collapsed": false,
     "input": [
      "r.condensed_graph().edges(data=True)"
     ],
     "language": "python",
     "metadata": {},
     "outputs": [
      {
       "metadata": {},
       "output_type": "pyout",
       "prompt_number": 35,
       "text": [
        "[('1ba14', '8ce0d', {'segments': [1, 4], 'weight': 12}),\n",
        " ('6ab7b', '1ba14', {'segments': [1], 'weight': 1}),\n",
        " ('6ab7b', '156fd', {'segments': [1, 4], 'weight': 9}),\n",
        " ('e43ef', 'b7473', {'segments': [1], 'weight': 1}),\n",
        " ('e43ef', 'f9c75', {'segments': [1, 4], 'weight': 14}),\n",
        " ('e43ef', '6ab7b', {'segments': [1], 'weight': 1}),\n",
        " ('e43ef', 'd8dcc', {'segments': [1], 'weight': 1}),\n",
        " ('57da6', 'b7473', {'segments': [1, 4], 'weight': 9}),\n",
        " ('57da6', 'f9c75', {'segments': [1], 'weight': 3}),\n",
        " ('57da6', '6ab7b', {'segments': [1, 4], 'weight': 16}),\n",
        " ('57da6', 'd8dcc', {'segments': [1, 4], 'weight': 15}),\n",
        " ('b7473', '6ceec', {'segments': [1, 4], 'weight': 15}),\n",
        " ('f9c75', '3785a', {'segments': [1, 4], 'weight': 14}),\n",
        " ('156fd', '1ba14', {'segments': [1, 4], 'weight': 7})]"
       ]
      }
     ],
     "prompt_number": 35
    },
    {
     "cell_type": "markdown",
     "metadata": {},
     "source": [
      "# Experiment with Accuracy Metrics"
     ]
    },
    {
     "cell_type": "code",
     "collapsed": false,
     "input": [
      "matching_edges = 0\n",
      "total_edges = len(s.relabeled_transmission_graph().edges())\n",
      "for edge in r.condensed_graph().edges(data=True):\n",
      "    if edge in s.relabeled_transmission_graph().edges(data=True):\n",
      "        matching_edges += 1\n",
      "        \n",
      "\n",
      "int(float(matching_edges) / total_edges * 100)"
     ],
     "language": "python",
     "metadata": {},
     "outputs": [
      {
       "metadata": {},
       "output_type": "pyout",
       "prompt_number": 36,
       "text": [
        "90"
       ]
      }
     ],
     "prompt_number": 36
    },
    {
     "cell_type": "code",
     "collapsed": false,
     "input": [
      "# This has been implemented in the prototype functions below.\n",
      "# float(len(r.identify_reassortants()))/float(len(s.identify_reassortants()))"
     ],
     "language": "python",
     "metadata": {},
     "outputs": [],
     "prompt_number": 37
    },
    {
     "cell_type": "code",
     "collapsed": false,
     "input": [
      "# Prototype for the accuracy functions.\n",
      "def reassortant_accuracy(simulation, reconstruction):\n",
      "    num_simulation_reassortants = float(len(simulation.reassortants()))\n",
      "    num_reconstruction_reassortants = float(len(reconstruction.reassortants()))\n",
      "    \n",
      "    if num_simulation_reassortants == 0:\n",
      "        return 'No reassortants present in simulation.'\n",
      "    else:\n",
      "        return num_reconstruction_reassortants / num_simulation_reassortants\n",
      "    \n",
      "def transmission_edge_accuracy(simulation, reconstruction):\n",
      "    matching_edges = 0\n",
      "    total_edges = len(simulation.relabeled_transmission_graph().edges())\n",
      "    \n",
      "    reconstructed = reconstruction.condensed_graph()\n",
      "    simulated = simulation.relabeled_transmission_graph()\n",
      "    \n",
      "    for edge in reconstructed.edges(data=True):\n",
      "        if edge in simulated.edges(data=True):\n",
      "            matching_edges += 1\n",
      "            \n",
      "    return float(matching_edges) / total_edges\n",
      "\n",
      "def transmission_path_accuracy(simulation, reconstruction):\n",
      "    \"\"\"\n",
      "    The accuracy of transmission paths is the number of accurate paths found \n",
      "    divided by the number of paths being considered.\n",
      "    \"\"\"\n",
      "    reconstructed = reconstruction.full_transmission_graph()\n",
      "    simulated = simulation.full_transmission_graph()\n",
      "\n",
      "    num_paths = len(simulated.edges())\n",
      "    accurate_paths = 0\n",
      "    \n",
      "    for edge in reconstructed.edges():\n",
      "        if simulation.full_transmission_path_exists(edge[0], edge[1]):\n",
      "            accurate_paths += 1\n",
      "    \n",
      "    return float(accurate_paths)/num_paths"
     ],
     "language": "python",
     "metadata": {},
     "outputs": [],
     "prompt_number": 38
    },
    {
     "cell_type": "code",
     "collapsed": false,
     "input": [
      "print s.full_transmission_paths()\n",
      "print reassortant_accuracy(s, r)\n",
      "print transmission_edge_accuracy(s, r)\n",
      "print transmission_path_accuracy(s, r)"
     ],
     "language": "python",
     "metadata": {},
     "outputs": [
      {
       "output_type": "stream",
       "stream": "stdout",
       "text": [
        "[set(['e43ef', 'f9c75', '3785a']), set(['b7473', '6ceec']), set(['1ba14', '6ab7b', 'd8dcc', '8ce0d', '57da6', '156fd'])]\n",
        "0.0\n",
        "0.9"
       ]
      },
      {
       "output_type": "stream",
       "stream": "stdout",
       "text": [
        "\n",
        "1.0"
       ]
      },
      {
       "output_type": "stream",
       "stream": "stdout",
       "text": [
        "\n"
       ]
      }
     ],
     "prompt_number": 39
    },
    {
     "cell_type": "markdown",
     "metadata": {},
     "source": [
      "# Test path_exists(node1, node2) function"
     ]
    },
    {
     "cell_type": "code",
     "collapsed": false,
     "input": [
      "# 1 July 2014 - API Change so the following path_exist(node1, node2) code does not stand. \n",
      "# Segment number has to be specified in order for it to stand.\n",
      "# s.path_exists('b90bb', '3d39c')"
     ],
     "language": "python",
     "metadata": {},
     "outputs": [],
     "prompt_number": 40
    },
    {
     "cell_type": "code",
     "collapsed": false,
     "input": [
      "s.relabeled_transmission_graph().nodes()"
     ],
     "language": "python",
     "metadata": {},
     "outputs": [
      {
       "metadata": {},
       "output_type": "pyout",
       "prompt_number": 41,
       "text": [
        "['1ba14',\n",
        " '6ab7b',\n",
        " '3785a',\n",
        " 'b7473',\n",
        " '6ceec',\n",
        " '8ce0d',\n",
        " '156fd',\n",
        " 'f9c75',\n",
        " 'd8dcc',\n",
        " 'e43ef',\n",
        " '57da6']"
       ]
      }
     ],
     "prompt_number": 41
    },
    {
     "cell_type": "code",
     "collapsed": false,
     "input": [
      "# s.path_exists('2851c', '09001')"
     ],
     "language": "python",
     "metadata": {},
     "outputs": [],
     "prompt_number": 42
    },
    {
     "cell_type": "code",
     "collapsed": false,
     "input": [],
     "language": "python",
     "metadata": {},
     "outputs": [],
     "prompt_number": 42
    },
    {
     "cell_type": "code",
     "collapsed": false,
     "input": [],
     "language": "python",
     "metadata": {},
     "outputs": [],
     "prompt_number": 42
    }
   ],
   "metadata": {}
  }
 ]
}