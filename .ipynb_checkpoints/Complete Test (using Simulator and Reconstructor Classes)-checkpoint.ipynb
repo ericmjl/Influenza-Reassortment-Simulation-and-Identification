{
 "metadata": {
  "name": "",
  "signature": "sha256:b718384be2e3ff80d52957f632c9e6375a5c3dd22cd57c52d51c440c9b57c272"
 },
 "nbformat": 3,
 "nbformat_minor": 0,
 "worksheets": [
  {
   "cells": [
    {
     "cell_type": "code",
     "collapsed": false,
     "input": [
      "from pathogen import Pathogen\n",
      "from segment import Segment\n",
      "from sequence import Sequence\n",
      "from simulator import Simulator"
     ],
     "language": "python",
     "metadata": {},
     "outputs": [],
     "prompt_number": 1
    },
    {
     "cell_type": "code",
     "collapsed": false,
     "input": [
      "# Initialize sequences\n",
      "sequence_PB2 = Sequence(length=1000) #this is representative of segment 1, PB2\n",
      "sequence_H1 = Sequence(length=1000) #this is representative of segment 4, H1\n",
      "sequence_H2 = Sequence(length=1000) #this is representative of segment 4, H2"
     ],
     "language": "python",
     "metadata": {},
     "outputs": [],
     "prompt_number": 2
    },
    {
     "cell_type": "code",
     "collapsed": false,
     "input": [
      "# Initialize segments\n",
      "segment_PB2 = Segment(segment_number=1, substitution_rate=1E-3, sequence=sequence_PB2)\n",
      "segment_H1 = Segment(segment_number=4, substitution_rate=1E-2, sequence=sequence_H1)\n",
      "segment_H2 = Segment(segment_number=4, substitution_rate=1E-2, sequence=sequence_H2)"
     ],
     "language": "python",
     "metadata": {},
     "outputs": [],
     "prompt_number": 3
    },
    {
     "cell_type": "code",
     "collapsed": false,
     "input": [
      "# Add segments to seed viruses\n",
      "virus_H1 = Pathogen(segments=[segment_PB2, segment_H1], creation_time=0, progeny_size=(1.2, 0.5))\n",
      "virus_H2 = Pathogen(segments=[segment_PB2, segment_H2], creation_time=0, progeny_size=(1.2, 0.5))"
     ],
     "language": "python",
     "metadata": {},
     "outputs": [],
     "prompt_number": 4
    },
    {
     "cell_type": "code",
     "collapsed": false,
     "input": [
      "# Subclass the Simulator class for a specific implementation of the increment_timestep() function.\n",
      "from random import random, choice, sample\n",
      "class ViralSimulator(Simulator):\n",
      "    \n",
      "    def increment_timestep(self):\n",
      "        cointoss = random()\n",
      "        threshold = 0.8\n",
      "        \n",
      "        if cointoss <= threshold:\n",
      "            chosen_virus = choice(self.pathogens)\n",
      "            new_virus = chosen_virus.replicate(current_time=self.current_time)\n",
      "            \n",
      "        if cointoss > threshold:\n",
      "            [virus1, virus2] = sample(self.pathogens, 2)\n",
      "            new_virus = virus1.reassort_with(virus2, current_time=self.current_time)\n",
      "        \n",
      "        self.pathogens.append(new_virus)"
     ],
     "language": "python",
     "metadata": {},
     "outputs": [],
     "prompt_number": 5
    },
    {
     "cell_type": "code",
     "collapsed": false,
     "input": [
      "s = ViralSimulator()"
     ],
     "language": "python",
     "metadata": {},
     "outputs": [],
     "prompt_number": 6
    },
    {
     "cell_type": "code",
     "collapsed": false,
     "input": [
      "s.add_pathogens([virus_H1, virus_H2])"
     ],
     "language": "python",
     "metadata": {},
     "outputs": [],
     "prompt_number": 7
    },
    {
     "cell_type": "code",
     "collapsed": false,
     "input": [
      "s.run(timesteps=10)"
     ],
     "language": "python",
     "metadata": {},
     "outputs": [
      {
       "output_type": "stream",
       "stream": "stdout",
       "text": [
        "{3d872: [1, 4]}\n",
        "{a9fa3: [1, 4]}\n",
        "{72400: [1, 4]}\n",
        "{a9fa3: [1, 4]}\n",
        "{925a1: [1, 4]}\n",
        "{925a1: [1, 4]}\n",
        "{72400: [1, 4]}\n",
        "{e1670: [1, 4]}\n"
       ]
      }
     ],
     "prompt_number": 8
    },
    {
     "cell_type": "code",
     "collapsed": false,
     "input": [
      "s.write_transmission_graph(outfile_name=\"outfile_test\", folder_name='Network Pickles')"
     ],
     "language": "python",
     "metadata": {},
     "outputs": [],
     "prompt_number": 9
    },
    {
     "cell_type": "code",
     "collapsed": false,
     "input": [
      "s.write_sequences(outfile_name=\"outfile_test\", folder_name='FASTA Files')"
     ],
     "language": "python",
     "metadata": {},
     "outputs": [],
     "prompt_number": 10
    },
    {
     "cell_type": "markdown",
     "metadata": {},
     "source": [
      "# Prototype code for Reconstructor class"
     ]
    },
    {
     "cell_type": "code",
     "collapsed": false,
     "input": [
      "from Bio import SeqIO"
     ],
     "language": "python",
     "metadata": {},
     "outputs": [],
     "prompt_number": 11
    },
    {
     "cell_type": "code",
     "collapsed": false,
     "input": [
      "# Initialize a dictionary that contains all of the sequences, split by segment.\n",
      "sequences_dictionary = dict()\n",
      "sequences_dictionary[1] = []\n",
      "sequences_dictionary[4] = []\n",
      "sequences_dictionary"
     ],
     "language": "python",
     "metadata": {},
     "outputs": [
      {
       "metadata": {},
       "output_type": "pyout",
       "prompt_number": 12,
       "text": [
        "{1: [], 4: []}"
       ]
      }
     ],
     "prompt_number": 12
    },
    {
     "cell_type": "code",
     "collapsed": false,
     "input": [
      "# Read in the sequences\n",
      "sequences = [record for record in SeqIO.parse('FASTA Files/outfile_test.fasta', 'fasta')]\n",
      "sequences"
     ],
     "language": "python",
     "metadata": {},
     "outputs": [
      {
       "metadata": {},
       "output_type": "pyout",
       "prompt_number": 13,
       "text": [
        "[SeqRecord(seq=Seq('CGCCTTACCCTAATTGGAAGGACTTGGGTCGATAAACGGGCGCGACGGATATCA...GCC', SingleLetterAlphabet()), id='3d872e2e13b244aeabc32fcaf17707ea2db3e7f3eb99576844598adcfd8ac2814c83d8cd2a8a52c32f19b32905553ea99e70fda8827feb224136e5a413f5e41b|1|0', name='3d872e2e13b244aeabc32fcaf17707ea2db3e7f3eb99576844598adcfd8ac2814c83d8cd2a8a52c32f19b32905553ea99e70fda8827feb224136e5a413f5e41b|1|0', description='3d872e2e13b244aeabc32fcaf17707ea2db3e7f3eb99576844598adcfd8ac2814c83d8cd2a8a52c32f19b32905553ea99e70fda8827feb224136e5a413f5e41b|1|0 <unknown description>', dbxrefs=[]),\n",
        " SeqRecord(seq=Seq('CTGCGGAGCTTACGGATTTTTTTCGGAAGAAGCAAAGATCACTAGGGGGTCCTT...TAA', SingleLetterAlphabet()), id='3d872e2e13b244aeabc32fcaf17707ea2db3e7f3eb99576844598adcfd8ac2814c83d8cd2a8a52c32f19b32905553ea99e70fda8827feb224136e5a413f5e41b|4|0', name='3d872e2e13b244aeabc32fcaf17707ea2db3e7f3eb99576844598adcfd8ac2814c83d8cd2a8a52c32f19b32905553ea99e70fda8827feb224136e5a413f5e41b|4|0', description='3d872e2e13b244aeabc32fcaf17707ea2db3e7f3eb99576844598adcfd8ac2814c83d8cd2a8a52c32f19b32905553ea99e70fda8827feb224136e5a413f5e41b|4|0 <unknown description>', dbxrefs=[]),\n",
        " SeqRecord(seq=Seq('CGCCTTACCCTAATTGGAAGGACTTGGGTCGATAAACGGGCGCGACGGATATCA...GCC', SingleLetterAlphabet()), id='925a117b1f9ed9447f1331142917cbe60f7668dcc731be5d792be8b1ede7c85df7070d3fdfd42781f2a54f1fa2fa13dc0a5b87dad26c1d8c022530a5b2b5061d|1|0', name='925a117b1f9ed9447f1331142917cbe60f7668dcc731be5d792be8b1ede7c85df7070d3fdfd42781f2a54f1fa2fa13dc0a5b87dad26c1d8c022530a5b2b5061d|1|0', description='925a117b1f9ed9447f1331142917cbe60f7668dcc731be5d792be8b1ede7c85df7070d3fdfd42781f2a54f1fa2fa13dc0a5b87dad26c1d8c022530a5b2b5061d|1|0 <unknown description>', dbxrefs=[]),\n",
        " SeqRecord(seq=Seq('TTAAACAGTCACCAGATGGCAGCACGTCGACAGCTAAGACCGTCGCAATTGGGG...TCA', SingleLetterAlphabet()), id='925a117b1f9ed9447f1331142917cbe60f7668dcc731be5d792be8b1ede7c85df7070d3fdfd42781f2a54f1fa2fa13dc0a5b87dad26c1d8c022530a5b2b5061d|4|0', name='925a117b1f9ed9447f1331142917cbe60f7668dcc731be5d792be8b1ede7c85df7070d3fdfd42781f2a54f1fa2fa13dc0a5b87dad26c1d8c022530a5b2b5061d|4|0', description='925a117b1f9ed9447f1331142917cbe60f7668dcc731be5d792be8b1ede7c85df7070d3fdfd42781f2a54f1fa2fa13dc0a5b87dad26c1d8c022530a5b2b5061d|4|0 <unknown description>', dbxrefs=[]),\n",
        " SeqRecord(seq=Seq('CGCCTTACCCTAATTGGAAGGACTTGGGTCGATAAACGGGCGCGACGGATATCA...GCC', SingleLetterAlphabet()), id='a9fa347f87e61b2b20be7670072ce64870336d63e53cd3a1d50cd2a799db435b3d966c24929c282f41a6bcf4190ef9512b10c49cda12123cda1ef9e17ccee2a6|1|1', name='a9fa347f87e61b2b20be7670072ce64870336d63e53cd3a1d50cd2a799db435b3d966c24929c282f41a6bcf4190ef9512b10c49cda12123cda1ef9e17ccee2a6|1|1', description='a9fa347f87e61b2b20be7670072ce64870336d63e53cd3a1d50cd2a799db435b3d966c24929c282f41a6bcf4190ef9512b10c49cda12123cda1ef9e17ccee2a6|1|1 <unknown description>', dbxrefs=[]),\n",
        " SeqRecord(seq=Seq('TTAAACAGTCACCAGATGGCAGCACGTCGACAGCTAAGACCGTCGCAATTGCGG...TCA', SingleLetterAlphabet()), id='a9fa347f87e61b2b20be7670072ce64870336d63e53cd3a1d50cd2a799db435b3d966c24929c282f41a6bcf4190ef9512b10c49cda12123cda1ef9e17ccee2a6|4|1', name='a9fa347f87e61b2b20be7670072ce64870336d63e53cd3a1d50cd2a799db435b3d966c24929c282f41a6bcf4190ef9512b10c49cda12123cda1ef9e17ccee2a6|4|1', description='a9fa347f87e61b2b20be7670072ce64870336d63e53cd3a1d50cd2a799db435b3d966c24929c282f41a6bcf4190ef9512b10c49cda12123cda1ef9e17ccee2a6|4|1 <unknown description>', dbxrefs=[]),\n",
        " SeqRecord(seq=Seq('CGCCTTACCCTAATTGGAAGGACTTGGGTCGATAAACGGGCGCGACGGATATCA...GCC', SingleLetterAlphabet()), id='4e776c74432469ca72a7a98b0e320cfebc4c92c62038657738756ec1b546167367447bb9001b2ad0eefb6c80b483329e07902b9be1db7c1511dd2a89196fe185|1|2', name='4e776c74432469ca72a7a98b0e320cfebc4c92c62038657738756ec1b546167367447bb9001b2ad0eefb6c80b483329e07902b9be1db7c1511dd2a89196fe185|1|2', description='4e776c74432469ca72a7a98b0e320cfebc4c92c62038657738756ec1b546167367447bb9001b2ad0eefb6c80b483329e07902b9be1db7c1511dd2a89196fe185|1|2 <unknown description>', dbxrefs=[]),\n",
        " SeqRecord(seq=Seq('CTGCGGAGCTTACGGATTTTTTTCGGAAGAAGCAAAGATCACTAGGGGGTCCTT...TAA', SingleLetterAlphabet()), id='4e776c74432469ca72a7a98b0e320cfebc4c92c62038657738756ec1b546167367447bb9001b2ad0eefb6c80b483329e07902b9be1db7c1511dd2a89196fe185|4|2', name='4e776c74432469ca72a7a98b0e320cfebc4c92c62038657738756ec1b546167367447bb9001b2ad0eefb6c80b483329e07902b9be1db7c1511dd2a89196fe185|4|2', description='4e776c74432469ca72a7a98b0e320cfebc4c92c62038657738756ec1b546167367447bb9001b2ad0eefb6c80b483329e07902b9be1db7c1511dd2a89196fe185|4|2 <unknown description>', dbxrefs=[]),\n",
        " SeqRecord(seq=Seq('CGCCTTACCCTAATTGGAAGGACTTGGGTCGATAAACGGGCGCGACGGATATCA...GCC', SingleLetterAlphabet()), id='7240001868a5641daa0bd48977c5381c23ba3217cff646d0828a5ea4b47ef23a47e743cafb9f0c2442e7eaa01cdc8af3f818c4de2eae6e9cc65b229ecd5297c5|1|3', name='7240001868a5641daa0bd48977c5381c23ba3217cff646d0828a5ea4b47ef23a47e743cafb9f0c2442e7eaa01cdc8af3f818c4de2eae6e9cc65b229ecd5297c5|1|3', description='7240001868a5641daa0bd48977c5381c23ba3217cff646d0828a5ea4b47ef23a47e743cafb9f0c2442e7eaa01cdc8af3f818c4de2eae6e9cc65b229ecd5297c5|1|3 <unknown description>', dbxrefs=[]),\n",
        " SeqRecord(seq=Seq('TTAAACAGTCACCAGATGGCAGCACGTCTACTGCTAAGACCGTCGCAATTGCGG...TCA', SingleLetterAlphabet()), id='7240001868a5641daa0bd48977c5381c23ba3217cff646d0828a5ea4b47ef23a47e743cafb9f0c2442e7eaa01cdc8af3f818c4de2eae6e9cc65b229ecd5297c5|4|3', name='7240001868a5641daa0bd48977c5381c23ba3217cff646d0828a5ea4b47ef23a47e743cafb9f0c2442e7eaa01cdc8af3f818c4de2eae6e9cc65b229ecd5297c5|4|3', description='7240001868a5641daa0bd48977c5381c23ba3217cff646d0828a5ea4b47ef23a47e743cafb9f0c2442e7eaa01cdc8af3f818c4de2eae6e9cc65b229ecd5297c5|4|3 <unknown description>', dbxrefs=[]),\n",
        " SeqRecord(seq=Seq('CGCCTTACCCTAATTGGAAGGACTTGGGTCGATAAACGGGCGCGACGGATATCA...GCC', SingleLetterAlphabet()), id='5d42b88acc98c3f1d31680a17d416853e50b857f2f3a880aa02e3fa27c98ae84d2c054089f7a46b097d5d3cfa81c640e316dc28171bc4ffaaf6632ca4be67a2c|1|4', name='5d42b88acc98c3f1d31680a17d416853e50b857f2f3a880aa02e3fa27c98ae84d2c054089f7a46b097d5d3cfa81c640e316dc28171bc4ffaaf6632ca4be67a2c|1|4', description='5d42b88acc98c3f1d31680a17d416853e50b857f2f3a880aa02e3fa27c98ae84d2c054089f7a46b097d5d3cfa81c640e316dc28171bc4ffaaf6632ca4be67a2c|1|4 <unknown description>', dbxrefs=[]),\n",
        " SeqRecord(seq=Seq('TTAAACAGTCACCAGATGGCAGCACGTCTACTGCTAAGACCGTCGCAATTGCGG...TCA', SingleLetterAlphabet()), id='5d42b88acc98c3f1d31680a17d416853e50b857f2f3a880aa02e3fa27c98ae84d2c054089f7a46b097d5d3cfa81c640e316dc28171bc4ffaaf6632ca4be67a2c|4|4', name='5d42b88acc98c3f1d31680a17d416853e50b857f2f3a880aa02e3fa27c98ae84d2c054089f7a46b097d5d3cfa81c640e316dc28171bc4ffaaf6632ca4be67a2c|4|4', description='5d42b88acc98c3f1d31680a17d416853e50b857f2f3a880aa02e3fa27c98ae84d2c054089f7a46b097d5d3cfa81c640e316dc28171bc4ffaaf6632ca4be67a2c|4|4 <unknown description>', dbxrefs=[]),\n",
        " SeqRecord(seq=Seq('CGCCTTACCCTAATTGGAAGGACTTGGGTCGATAAACGGGCGCGACGGATATCA...GCC', SingleLetterAlphabet()), id='f0070a8024b5c560b2ba877cbe21b0ad108191d9f2ada878f43b533b8334aedcfab8a0a20926520bdb4df9602d3358f8ea7ce91a4778b625257dd12ba53c9f7b|1|5', name='f0070a8024b5c560b2ba877cbe21b0ad108191d9f2ada878f43b533b8334aedcfab8a0a20926520bdb4df9602d3358f8ea7ce91a4778b625257dd12ba53c9f7b|1|5', description='f0070a8024b5c560b2ba877cbe21b0ad108191d9f2ada878f43b533b8334aedcfab8a0a20926520bdb4df9602d3358f8ea7ce91a4778b625257dd12ba53c9f7b|1|5 <unknown description>', dbxrefs=[]),\n",
        " SeqRecord(seq=Seq('TTAAACAGTCACCAGATGGCAGCACGTCGACAGCTAAGACCGTCGCAATTGCGG...TCA', SingleLetterAlphabet()), id='f0070a8024b5c560b2ba877cbe21b0ad108191d9f2ada878f43b533b8334aedcfab8a0a20926520bdb4df9602d3358f8ea7ce91a4778b625257dd12ba53c9f7b|4|5', name='f0070a8024b5c560b2ba877cbe21b0ad108191d9f2ada878f43b533b8334aedcfab8a0a20926520bdb4df9602d3358f8ea7ce91a4778b625257dd12ba53c9f7b|4|5', description='f0070a8024b5c560b2ba877cbe21b0ad108191d9f2ada878f43b533b8334aedcfab8a0a20926520bdb4df9602d3358f8ea7ce91a4778b625257dd12ba53c9f7b|4|5 <unknown description>', dbxrefs=[]),\n",
        " SeqRecord(seq=Seq('CGCCTTACCCTAATTGGAAGGACTTGGGTCGATAAACGGGCGCGACGGATATCA...GCC', SingleLetterAlphabet()), id='e16702dab70d06a88810134b3ee5a8f30f6b9088cd0fbbe7ca9d657b78304d960d257b0f9b1e095cbc63729f4d101dc740504ec0917c5c9f6b8524ed9004ed6d|1|6', name='e16702dab70d06a88810134b3ee5a8f30f6b9088cd0fbbe7ca9d657b78304d960d257b0f9b1e095cbc63729f4d101dc740504ec0917c5c9f6b8524ed9004ed6d|1|6', description='e16702dab70d06a88810134b3ee5a8f30f6b9088cd0fbbe7ca9d657b78304d960d257b0f9b1e095cbc63729f4d101dc740504ec0917c5c9f6b8524ed9004ed6d|1|6 <unknown description>', dbxrefs=[]),\n",
        " SeqRecord(seq=Seq('TTAAACAGTCACCAGATGGCACCACGTCGACAGCTAAGACCGTCGCAATTGGGG...TCA', SingleLetterAlphabet()), id='e16702dab70d06a88810134b3ee5a8f30f6b9088cd0fbbe7ca9d657b78304d960d257b0f9b1e095cbc63729f4d101dc740504ec0917c5c9f6b8524ed9004ed6d|4|6', name='e16702dab70d06a88810134b3ee5a8f30f6b9088cd0fbbe7ca9d657b78304d960d257b0f9b1e095cbc63729f4d101dc740504ec0917c5c9f6b8524ed9004ed6d|4|6', description='e16702dab70d06a88810134b3ee5a8f30f6b9088cd0fbbe7ca9d657b78304d960d257b0f9b1e095cbc63729f4d101dc740504ec0917c5c9f6b8524ed9004ed6d|4|6 <unknown description>', dbxrefs=[]),\n",
        " SeqRecord(seq=Seq('CGCCTTACCCTAATTGGAAGGACTTGGGTCGATAAACGGGCGCGACGGATATCA...GCC', SingleLetterAlphabet()), id='206bd81ba10f3149c313bfb0773064a3bc301289b7e893728f952b7416f3f62554364160401b93c79d582b8abfcd8b2264e9b06c124e8f400b6df3e805c9ca8c|1|7', name='206bd81ba10f3149c313bfb0773064a3bc301289b7e893728f952b7416f3f62554364160401b93c79d582b8abfcd8b2264e9b06c124e8f400b6df3e805c9ca8c|1|7', description='206bd81ba10f3149c313bfb0773064a3bc301289b7e893728f952b7416f3f62554364160401b93c79d582b8abfcd8b2264e9b06c124e8f400b6df3e805c9ca8c|1|7 <unknown description>', dbxrefs=[]),\n",
        " SeqRecord(seq=Seq('TTAAACAGTCACCAGATGGCAGCACGGCGACAGCTAAGACCGTCGCAATTGGGG...TCA', SingleLetterAlphabet()), id='206bd81ba10f3149c313bfb0773064a3bc301289b7e893728f952b7416f3f62554364160401b93c79d582b8abfcd8b2264e9b06c124e8f400b6df3e805c9ca8c|4|7', name='206bd81ba10f3149c313bfb0773064a3bc301289b7e893728f952b7416f3f62554364160401b93c79d582b8abfcd8b2264e9b06c124e8f400b6df3e805c9ca8c|4|7', description='206bd81ba10f3149c313bfb0773064a3bc301289b7e893728f952b7416f3f62554364160401b93c79d582b8abfcd8b2264e9b06c124e8f400b6df3e805c9ca8c|4|7 <unknown description>', dbxrefs=[]),\n",
        " SeqRecord(seq=Seq('CGCCTTACCCTAATTGGAAGGACTTGGGTCGATAAACGGGCGCGACGGATATCA...GCC', SingleLetterAlphabet()), id='fe8435e71c2cc45b60301701a32434f31f02af90f4f58eb4bb81ec3fb7dea349037fe560f5514fc4ed7054af5b3acb9617627938b7695691d145a7845d9fc7ab|1|8', name='fe8435e71c2cc45b60301701a32434f31f02af90f4f58eb4bb81ec3fb7dea349037fe560f5514fc4ed7054af5b3acb9617627938b7695691d145a7845d9fc7ab|1|8', description='fe8435e71c2cc45b60301701a32434f31f02af90f4f58eb4bb81ec3fb7dea349037fe560f5514fc4ed7054af5b3acb9617627938b7695691d145a7845d9fc7ab|1|8 <unknown description>', dbxrefs=[]),\n",
        " SeqRecord(seq=Seq('TTAAACAGTCACCAGATGGCAGCACGTCTACTGCTAAGACCGTCGCAATTGCGG...TCA', SingleLetterAlphabet()), id='fe8435e71c2cc45b60301701a32434f31f02af90f4f58eb4bb81ec3fb7dea349037fe560f5514fc4ed7054af5b3acb9617627938b7695691d145a7845d9fc7ab|4|8', name='fe8435e71c2cc45b60301701a32434f31f02af90f4f58eb4bb81ec3fb7dea349037fe560f5514fc4ed7054af5b3acb9617627938b7695691d145a7845d9fc7ab|4|8', description='fe8435e71c2cc45b60301701a32434f31f02af90f4f58eb4bb81ec3fb7dea349037fe560f5514fc4ed7054af5b3acb9617627938b7695691d145a7845d9fc7ab|4|8 <unknown description>', dbxrefs=[]),\n",
        " SeqRecord(seq=Seq('CGCCTTACCCTAATTGGAAGGACTTGGGTCGATAAACGGGCGCGACGGATATCA...GCC', SingleLetterAlphabet()), id='77e18c64ebc033ccf924916ed316f09461bcd6eee91abfcfc5df85d0f77edf28f13e5ed72c623534d0b1c303a9b196ca40ee4d3984c4b25d58de85356eb68fd6|1|9', name='77e18c64ebc033ccf924916ed316f09461bcd6eee91abfcfc5df85d0f77edf28f13e5ed72c623534d0b1c303a9b196ca40ee4d3984c4b25d58de85356eb68fd6|1|9', description='77e18c64ebc033ccf924916ed316f09461bcd6eee91abfcfc5df85d0f77edf28f13e5ed72c623534d0b1c303a9b196ca40ee4d3984c4b25d58de85356eb68fd6|1|9 <unknown description>', dbxrefs=[]),\n",
        " SeqRecord(seq=Seq('TTAAACAGTCACCAGATGGCACCACGTCGACAGCTAAGACCGTCGCAATTGGGG...TCA', SingleLetterAlphabet()), id='77e18c64ebc033ccf924916ed316f09461bcd6eee91abfcfc5df85d0f77edf28f13e5ed72c623534d0b1c303a9b196ca40ee4d3984c4b25d58de85356eb68fd6|4|9', name='77e18c64ebc033ccf924916ed316f09461bcd6eee91abfcfc5df85d0f77edf28f13e5ed72c623534d0b1c303a9b196ca40ee4d3984c4b25d58de85356eb68fd6|4|9', description='77e18c64ebc033ccf924916ed316f09461bcd6eee91abfcfc5df85d0f77edf28f13e5ed72c623534d0b1c303a9b196ca40ee4d3984c4b25d58de85356eb68fd6|4|9 <unknown description>', dbxrefs=[])]"
       ]
      }
     ],
     "prompt_number": 13
    },
    {
     "cell_type": "code",
     "collapsed": false,
     "input": [
      "# Append the sequences to the dictionary.\n",
      "# This can be written into a function.\n",
      "split_char = '|' # The character that will be used to split the SeqRecord.id string\n",
      "pos_segment_num = 1 # The position of the segment number after splitting by the split_char\n",
      "\n",
      "for sequence in sequences:\n",
      "    segment_number = int(sequence.id.split(split_char)[pos_segment_num])\n",
      "    sequences_dictionary[segment_number].append(sequence)\n",
      "\n",
      "# sequences_dictionary"
     ],
     "language": "python",
     "metadata": {},
     "outputs": [],
     "prompt_number": 14
    },
    {
     "cell_type": "code",
     "collapsed": false,
     "input": [
      "# Create a NetworkX graph using one segment's sequences, and add nodes.\n",
      "import networkx as nx\n",
      "\n",
      "G = nx.DiGraph()\n",
      "\n",
      "splitchar = '|'\n",
      "pos_id = 0\n",
      "pos_segment_num = 1\n",
      "pos_creation_time = 2\n",
      "\n",
      "segment_number = 4\n",
      "\n",
      "for sequence in sequences_dictionary[segment_number]:\n",
      "    [isolate_id, segment_num, creation_time] = sequence.id.split(splitchar)\n",
      "    G.add_node(isolate_id[0:5], sequence=sequence.seq, id=isolate_id, segment_num=int(segment_num), creation_time=int(creation_time))\n",
      "\n",
      "# at this point, we would return G, and append it to the dictionary of Graphs available.\n",
      "# G.nodes(data=True)"
     ],
     "language": "python",
     "metadata": {},
     "outputs": [],
     "prompt_number": 15
    },
    {
     "cell_type": "code",
     "collapsed": false,
     "input": [
      "# Add edges to the graph, based on the Levenshtein distance between two sequences.\n",
      "import Levenshtein\n",
      "for node1 in G.nodes(data=True):\n",
      "    for node2 in G.nodes(data=True):\n",
      "        if node1[1]['creation_time'] < node2[1]['creation_time']:\n",
      "            weight = Levenshtein.distance(str(node1[1]['sequence']), str(node2[1]['sequence']))\n",
      "            G.add_edge(node1[0], node2[0], weight=weight)"
     ],
     "language": "python",
     "metadata": {},
     "outputs": [],
     "prompt_number": 16
    },
    {
     "cell_type": "code",
     "collapsed": false,
     "input": [
      "# Prune graph by distance.\n",
      "for node in G.nodes(data=True):\n",
      "    in_edges = G.in_edges(node[0], data=True)\n",
      "#     print in_edges\n",
      "    if len(in_edges) != 0:\n",
      "        min_weight = min([edge[2]['weight'] for edge in in_edges])\n",
      "        print min_weight\n",
      "        print node\n",
      "        for edge in in_edges:\n",
      "            if edge[2]['weight'] != min_weight:\n",
      "                G.remove_edge(edge[0], edge[1])"
     ],
     "language": "python",
     "metadata": {},
     "outputs": [
      {
       "output_type": "stream",
       "stream": "stdout",
       "text": [
        "6\n",
        "('f0070', {'segment_num': 4, 'creation_time': 5, 'id': 'f0070a8024b5c560b2ba877cbe21b0ad108191d9f2ada878f43b533b8334aedcfab8a0a20926520bdb4df9602d3358f8ea7ce91a4778b625257dd12ba53c9f7b', 'sequence': Seq('TTAAACAGTCACCAGATGGCAGCACGTCGACAGCTAAGACCGTCGCAATTGCGG...TCA', SingleLetterAlphabet())})\n",
        "12\n",
        "('206bd', {'segment_num': 4, 'creation_time': 7, 'id': '206bd81ba10f3149c313bfb0773064a3bc301289b7e893728f952b7416f3f62554364160401b93c79d582b8abfcd8b2264e9b06c124e8f400b6df3e805c9ca8c', 'sequence': Seq('TTAAACAGTCACCAGATGGCAGCACGGCGACAGCTAAGACCGTCGCAATTGGGG...TCA', SingleLetterAlphabet())})\n",
        "10\n",
        "('e1670', {'segment_num': 4, 'creation_time': 6, 'id': 'e16702dab70d06a88810134b3ee5a8f30f6b9088cd0fbbe7ca9d657b78304d960d257b0f9b1e095cbc63729f4d101dc740504ec0917c5c9f6b8524ed9004ed6d', 'sequence': Seq('TTAAACAGTCACCAGATGGCACCACGTCGACAGCTAAGACCGTCGCAATTGGGG...TCA', SingleLetterAlphabet())})\n",
        "12\n",
        "('5d42b', {'segment_num': 4, 'creation_time': 4, 'id': '5d42b88acc98c3f1d31680a17d416853e50b857f2f3a880aa02e3fa27c98ae84d2c054089f7a46b097d5d3cfa81c640e316dc28171bc4ffaaf6632ca4be67a2c', 'sequence': Seq('TTAAACAGTCACCAGATGGCAGCACGTCTACTGCTAAGACCGTCGCAATTGCGG...TCA', SingleLetterAlphabet())})\n",
        "7\n",
        "('77e18', {'segment_num': 4, 'creation_time': 9, 'id': '77e18c64ebc033ccf924916ed316f09461bcd6eee91abfcfc5df85d0f77edf28f13e5ed72c623534d0b1c303a9b196ca40ee4d3984c4b25d58de85356eb68fd6', 'sequence': Seq('TTAAACAGTCACCAGATGGCACCACGTCGACAGCTAAGACCGTCGCAATTGGGG...TCA', SingleLetterAlphabet())})\n",
        "7\n",
        "('4e776', {'segment_num': 4, 'creation_time': 2, 'id': '4e776c74432469ca72a7a98b0e320cfebc4c92c62038657738756ec1b546167367447bb9001b2ad0eefb6c80b483329e07902b9be1db7c1511dd2a89196fe185', 'sequence': Seq('CTGCGGAGCTTACGGATTTTTTTCGGAAGAAGCAAAGATCACTAGGGGGTCCTT...TAA', SingleLetterAlphabet())})\n",
        "10\n",
        "('72400', {'segment_num': 4, 'creation_time': 3, 'id': '7240001868a5641daa0bd48977c5381c23ba3217cff646d0828a5ea4b47ef23a47e743cafb9f0c2442e7eaa01cdc8af3f818c4de2eae6e9cc65b229ecd5297c5', 'sequence': Seq('TTAAACAGTCACCAGATGGCAGCACGTCTACTGCTAAGACCGTCGCAATTGCGG...TCA', SingleLetterAlphabet())})\n",
        "9\n",
        "('a9fa3', {'segment_num': 4, 'creation_time': 1, 'id': 'a9fa347f87e61b2b20be7670072ce64870336d63e53cd3a1d50cd2a799db435b3d966c24929c282f41a6bcf4190ef9512b10c49cda12123cda1ef9e17ccee2a6', 'sequence': Seq('TTAAACAGTCACCAGATGGCAGCACGTCGACAGCTAAGACCGTCGCAATTGCGG...TCA', SingleLetterAlphabet())})\n",
        "8\n",
        "('fe843', {'segment_num': 4, 'creation_time': 8, 'id': 'fe8435e71c2cc45b60301701a32434f31f02af90f4f58eb4bb81ec3fb7dea349037fe560f5514fc4ed7054af5b3acb9617627938b7695691d145a7845d9fc7ab', 'sequence': Seq('TTAAACAGTCACCAGATGGCAGCACGTCTACTGCTAAGACCGTCGCAATTGCGG...TCA', SingleLetterAlphabet())})\n"
       ]
      }
     ],
     "prompt_number": 17
    },
    {
     "cell_type": "code",
     "collapsed": false,
     "input": [
      "nx.draw_circular(G)"
     ],
     "language": "python",
     "metadata": {},
     "outputs": [
      {
       "metadata": {},
       "output_type": "display_data",
       "png": "[encoded data removed]",
       "text": [
        "<matplotlib.figure.Figure at 0x106461390>"
       ]
      }
     ],
     "prompt_number": 18
    },
    {
     "cell_type": "markdown",
     "metadata": {},
     "source": [
      "# Test Reconstructor Class"
     ]
    },
    {
     "cell_type": "code",
     "collapsed": false,
     "input": [
      "from reconstructor import Reconstructor\n",
      "import networkx as nx"
     ],
     "language": "python",
     "metadata": {},
     "outputs": [],
     "prompt_number": 19
    },
    {
     "cell_type": "code",
     "collapsed": false,
     "input": [
      "r = Reconstructor(segments=[1, 4])\n",
      "print r.sequences\n",
      "print r.graphs"
     ],
     "language": "python",
     "metadata": {},
     "outputs": [
      {
       "output_type": "stream",
       "stream": "stdout",
       "text": [
        "{1: [], 4: []}\n",
        "{1: <networkx.classes.digraph.DiGraph object at 0x1064cc210>, 4: <networkx.classes.digraph.DiGraph object at 0x1064cc150>}\n"
       ]
      }
     ],
     "prompt_number": 20
    },
    {
     "cell_type": "code",
     "collapsed": false,
     "input": [
      "fasta_file = 'FASTA Files/outfile_test.fasta'\n",
      "r.read_fasta_file(fasta_file)"
     ],
     "language": "python",
     "metadata": {},
     "outputs": [],
     "prompt_number": 21
    },
    {
     "cell_type": "code",
     "collapsed": false,
     "input": [
      "r.add_nodes_with_data()\n",
      "r.add_edges_with_weight()\n",
      "r.prune_graphs_by_weight()\n",
      "r.compose_segment_graphs()\n",
      "r.condense_composed_segment_graphs()\n",
      "r.prune_condensed_graph()"
     ],
     "language": "python",
     "metadata": {},
     "outputs": [],
     "prompt_number": 22
    },
    {
     "cell_type": "code",
     "collapsed": false,
     "input": [
      "r.condensed_graph.edges(data=True)"
     ],
     "language": "python",
     "metadata": {},
     "outputs": [
      {
       "metadata": {},
       "output_type": "pyout",
       "prompt_number": 23,
       "text": [
        "[('925a1', '206bd', {'segments': [1, 4], 'weight': 12}),\n",
        " ('925a1', 'e1670', {'segments': [1, 4], 'weight': 11}),\n",
        " ('925a1', 'a9fa3', {'segments': [1, 4], 'weight': 9}),\n",
        " ('e1670', '77e18', {'segments': [1, 4], 'weight': 7}),\n",
        " ('3d872', '4e776', {'segments': [1, 4], 'weight': 10}),\n",
        " ('72400', '5d42b', {'segments': [1, 4], 'weight': 12}),\n",
        " ('72400', 'fe843', {'segments': [1, 4], 'weight': 11}),\n",
        " ('a9fa3', 'f0070', {'segments': [1, 4], 'weight': 6}),\n",
        " ('a9fa3', '72400', {'segments': [1, 4], 'weight': 12})]"
       ]
      }
     ],
     "prompt_number": 23
    },
    {
     "cell_type": "code",
     "collapsed": false,
     "input": [
      "r.condensed_graph.nodes(data=True)"
     ],
     "language": "python",
     "metadata": {},
     "outputs": [
      {
       "metadata": {},
       "output_type": "pyout",
       "prompt_number": 24,
       "text": [
        "[('925a1',\n",
        "  {'creation_time': '0',\n",
        "   'id': '925a117b1f9ed9447f1331142917cbe60f7668dcc731be5d792be8b1ede7c85df7070d3fdfd42781f2a54f1fa2fa13dc0a5b87dad26c1d8c022530a5b2b5061d',\n",
        "   'segment_number': '4',\n",
        "   'sequence_1': 'CGCCTTACCCTAATTGGAAGGACTTGGGTCGATAAACGGGCGCGACGGATATCACGAAACCACAAGGCACATGGGGGACACGGATTAATGCGGCTTCTGTACCACGGGGTTCGTGCCAATAAGTATAACGCTGTCGAGTGTTGAGAATTCGAATGTATGATTTCTGATGCCGTATCTTGCGACGTAGACTGCTATGAGGAAACCGATGCTTAAGTAATCGGCTCGAAAGCAGCCTGGTTGCATGCACGTATCCTTCTCCCCCACGTGAGACTCACGGACCGTTCGTAAAAGTATGGATTATCTGCGCGACACGATCTTTATCAAATCTCCGCAAACTCGTACTGTTACTGACTGCGCTGGAGCACATGTTCACAGGTTCAAATGTGGGTAAGTAGAAAAGCCACTCTTCAGTCGGCAGCAGTGGAATCCTCTCTTTCATCTTACACTTTCTTTCTACCACGAGCTGTGTGAAAGCAACTGCTCTTCGATAGTTTGGTGGGTGTGAGCGAAATGACGGTCTTTTTCCGGGAAACGTGTTAAAGTAGGACATCCTCATACCTCAGCGACATAAATTTTCGCTTTATCGCTGTCGTTCAAGCGGTTGAGAACGCTTCTTGCCTGAGCTGCATCGTTCTCCAAAGGGCGTTTCTTGCAGTCTCAGCTTGGCAGTTGGTCGCGGGAGGAGAGTTGTTTAAGGTTCAACAATGTTATAGAAGACGTTAGCAGGATGCAGACCGATCTAGACTAATCCGGCGCCGAGCGCTGTAGTTGAAGATCCCCGAACTGTGCGTCTGAACCCGTATGGTCAAACTTGACTTGTATGGAGTATTGCGTCCGACACAAGCATCTACCGGCTCTACCACTTAGGCCTGTATGCCCGTAGTAAGCTACCCCCGGCATACGAAGAACACGGAGCATCCGGATCTGTTATTGGTACGGTCCGACAGAGGGAACCCTACTGCGATAATTATTGGAACAAACCCACCTTCGAAGTCCTGCC',\n",
        "   'sequence_4': 'TTAAACAGTCACCAGATGGCAGCACGTCGACAGCTAAGACCGTCGCAATTGGGGCCTTGCGGCGAGTGACTCTAGACGTCCGGGTACCCCGTTAATCGCAACTACGGCCTTTGGGAAGCAAGCGCTCAACCACTTAGTCGATCTTGGCGTGTAATCCCCTGGTCTCGACCAATATCATGCGTCTTAATTTATCTGCATTTCGGCGCCGAGTGGACCGTGGGATCGAGTGGAATCCATCACGGGATCAGTTCGTGCCGTGTGGACCTTAAAGCATCTATACCACACTCACTTCGAGTCCGCGCTACCCAGCCCGCATGAAGCAGCCATCATACGACTCACCTACACGCAAAGGACTGATTCCTGTCAGACACTCCTGGGACCCTTTAAATTACCTACAACACGTCATCAACCTACACCATCTGTTGGACGTCCGCTTGCGCTCGACCTCGATGTCACCTGATGTGGCGAAATTCTGTGAGACGGGGAGCAAGCCCCAGGCACGTGACACTGCCAAACGCAGTGGGCGCTAGAGCTAACTGGACTATGGCGCCTCAAAGTAAAAGTTTTTCCTCTACCCGAGGCCTCGCTAAAAGCCTTTTATATCGCTTGACTAACAAAAAAGGCAGCATCTTTACTGAATTACGTGGACTGCCCGCACTCCACAGAGGTTCCCCCCGCTCGAATAAACTCCTCTGCGTAGTCGCGACATGCAAGGTTGCCCTTACTTAGTTTTAGGTGGATAATAATGGGAGAGTGGTACCCCTTTCTTGAGGACTTGGGCGCTACAGAGCGAATATCCGACGCAACCACGCTGGCCGCACTTACTACGGGGTCCTTCCCGGGAAGGAGGCGATGCTATGCAGCATTACAGCAACCTGAAATTTTCTAGGCGAGCACCGCCCCCCAGCCTGAATCTACGCTCTACCAATGCGTGATAGACGCCCTTGGCTGATCGCAGGACGTCCGAAAATACGTCCGAATTGTTGTTTGCCTTGAGTCA'}),\n",
        " ('f0070',\n",
        "  {'creation_time': '5',\n",
        "   'id': 'f0070a8024b5c560b2ba877cbe21b0ad108191d9f2ada878f43b533b8334aedcfab8a0a20926520bdb4df9602d3358f8ea7ce91a4778b625257dd12ba53c9f7b',\n",
        "   'segment_number': '4',\n",
        "   'sequence_1': 'CGCCTTACCCTAATTGGAAGGACTTGGGTCGATAAACGGGCGCGACGGATATCACGAAACCACAAGGCACATGGGGGACACGGATTAATGCGGCTTCTGTACCACGGGGTTCGTGCCAATAAGTATAACGCTGTCGAGTGTTGAGAATTCGAATGTATGATTTCTGATGCCGTATCTTGCGACGTAGACTGCTATGAGGAAACCGATGCTTAAGTAATCGGCTCGAAAGCAGCCTGGTTGCATGCACGTATCCTTCTCCCCCACGTGAGACTCACGGACCGTTCGTAAAAGTATGGATTATCTGCGCGACACGATCTTTATCAAATCTCCGCAAACTCGTACTGTTACTGACTGCGCTGGAGCACATGTTCACAGGTTCAAATGTGGGTAAGTAGAAAAGCCACTCTTCAGTCGGCAGCAGTGGAATCCTCTCTTTCATCTTACACTTTCTTTCTACCACGAGCTGTGTGAAAGCAACTGCTCTTCGATAGTTTGGTGGGTGTGAGCGAAATGACGGTCTTTTTCCGGGAAACGTGTTAAAGTAGGACATCCTCATACCTCAGCGACATAAATTTTCGCTTTATCGCTGTCGTTCAAGCGGTTGAGAACGCTTCTTGCCTGAGCTGCATCGTTCTCCAAAGGGCGTTTCTTGCAGTCTCAGCTTGGCAGTTGGTCGCGGGAGGAGAGTTGTTTAAGGTTCAACAATGTTATAGAAGACGTTAGCAGGATGCAGACCGATCTAGACTAATCCGGCGCCGAGCGCTGTAGTTGAAGATCCCCGAACTGTGCGTCTGAACCCGTATGGTCAAACTTGACTTGTATGGAGTATTGCGTCCGACACAAGCATCTACCGGCTCTACCACTTAGGCCTGTATGCCCGTAGTAAGCTACCCCCGGCATACGAAGAACACGGAGCATCCGGATCTGTTATTGGTACGGTCCGACAGAGGGAACCCTACTGCGATAATTATTGGAACAAACCCACCTTCGAAGTCCTGCC',\n",
        "   'sequence_4': 'TTAAACAGTCACCAGATGGCAGCACGTCGACAGCTAAGACCGTCGCAATTGCGGCCTTGCGGCGAGTGACTCTAGAGGTCCGGGTACCCGGTTAATCGCAACCACGGCCTTTGGGAAGCAAGCGCTCAACCACTTAGTCGATCTTGGCGTGTAATCCCCTGGTTTCGACCAATATCATGCGTCTTAATTTATCTGCATTTCGGCGCCGAGTGGACCGTGGGATCGAGTGGAATCCATCACGGGATCAGTTCGTGCCGTGTTGACCTTAAAGCATCTATACCACACTCACTTCGAGTCCGCGCTACCCAGCCCGCATGAAGCAGCCATCATACGACTCACCTACACGCAAAGGACTGATTCCTGTCAGACACTCCTGGGACCCTTTAAATTACCTACAACACGTCATCAACCTACACCATCTGTTGGACGTCCGCTAGCGCTCGACCTCGATGTCACCTGATGTGGCGAAATTCTGTGAGACGGGGAGCAAGCCCCAGGCACGTGACACTGCCAAACGCAGTGGGCGCTAGAGCTAACTGGACTATGGCGCCTCAAAGTAAAAGTTTTTCCTGTACCCGAGGCCTCGCAAAAAGCCTTTTATATCGCTTGACTAACAAAAAAGGCAGCATCTTTACTGTATTACGTGGACTGCCCGCACTCCACAGAGGTCCCCCCCGCTCGAATAAACTCCTCTGCGTAGTCGCGACATGCAAGGTTGCCCTTACTTAGTTTTAGGTGGATAATAATGGGAGAGTGGTTCCCCTTTCTTGAGGACTTGGGCGCTACAGAGCGAATATCCAGTGCAACCACGCTGGCCGCACTTACTACGGGGTCCTTCCCGGGAAGGAGGCGATGCTATGCAGCATTACAGCAACCTGAAATTTTCTAGGCGAGCACCGCCCCCCAGCCTGAATCTACGCTCTACCAATGCGTGATAGACGCCCTTGGCTGATCGCAGGACGTCCGAAAATACGTCCGAATTGTTGTTTGCCTTGAGTCA'}),\n",
        " ('206bd',\n",
        "  {'creation_time': '7',\n",
        "   'id': '206bd81ba10f3149c313bfb0773064a3bc301289b7e893728f952b7416f3f62554364160401b93c79d582b8abfcd8b2264e9b06c124e8f400b6df3e805c9ca8c',\n",
        "   'segment_number': '4',\n",
        "   'sequence_1': 'CGCCTTACCCTAATTGGAAGGACTTGGGTCGATAAACGGGCGCGACGGATATCACGAAACCACAAGGCACATGGGGGACACGGATTAATGCGGCTTCTGTACCACGGGGTTCGTGCCAATAAGTATAACGCTGTCGAGTGTTGAGAATTCGAATGTATGATTTCTGATGCCGTATCTTGCGACGTAGACTGCTATGAGGAAACCGATGCTTAAGTAATCGGCTCGAAAGCAGCCTGGTTGCATGCACGTATCCTTCTCCCCCACGTGAGACTCACGGACCGTTCGTAAAAGTATGGATTATCTGCGCGACACGATCTTTATCAAATCTCCGCAAACTCGTACTGTTACTGACTGCGCTGGAGCACATGTTCACAGGTTCAAATGTGGGTAAGTAGAAAAGCCACTCTTCAGTCGGCAGCAGTGGAATCCTCTCTTTCATCTTACACTTTCTTTCTACCACGAGCTGTGTGAAAGCAACTGCTCTTCGATAGTTTGGTGGGTGTGAGCGAAATGACGGTCTTTTTCCGGGAAACGTGTTAAAGTAGGACATCCTCATACCTCAGCGACATAAATTTTCGCTTTATCGCTGTCGTTCAAGCGGTTGAGAACGCTTCTTGCCTGAGCTGCATCGTTCTCCAAAGGGCGTTTCTTGCAGTCTCAGCTTGGCAGTTGGTCGCGGGAGGAGAGTTGTTTAAGGTTCAACAATGTTATAGAAGACGTTAGCAGGATGCAGACCGATCTAGACTAATCCGGCGCCGAGCGCTGTAGTTGAAGATCCCCGAACTGTGCGTCTGAACCCGTATGGTCAAACTTGACTTGTATGGAGTATTGCGTCCGACACAAGCATCTACCGGCTCTACCACTTAGGCCTGTATGCCCGTAGTAAGCTACCCCCGGCATACGAAGAACACGGAGCATCCGGATCTGTTATTGGTACGGTCCGACAGAGGGAACCCTACTGCGATAATTATTGGAACAAACCCACCTTCGAAGTCCTGCC',\n",
        "   'sequence_4': 'TTAAACAGTCACCAGATGGCAGCACGGCGACAGCTAAGACCGTCGCAATTGGGGCCTTGCGGCGAGTGACTCTAGACGTCCGGGTACCCCGTTAATCGCAACTACGGCCTTTGGGAAGCAAGCGCTCAACCACTTAGTCGATCTTGGCGTGTCATCCCCTGGTCTAGACCAATATCATGCGTCTTAATTTATCTGCATTTCGGCGCCGAGTGGACCGTGGGATCGAGTGGAATCCATCACGGGATCAGTTCGTGCCGTGTGGACCTTAAAGCATCTATACCACACTCAGTTCGAGTCCGCGCTACCCAGCCCGCATGAAGCAGCCATCATACGACTCACCTACACGCAAAGGACTGATTCCTGTCAGACACTCCTGGGACCCTTTAAATTACCTACAACACGTCATCAACCTACACCATCTGTTGGACGTCCGCTTGCGCTCGACCTCGATGTCACCTGATGTGGCGAAATTCTGTGAGACGGGGAGCAAGCCCCAGGCACGTGACACTGCCAAACGCAGTGGGCGCTAGAGCTAACTGGACTATGGCGCCTCAAAGTAAAAGTTTTTCGTCTACCCGATGCCTCGCTAAAAGCCTTTTATATCGCTTGACTAACTAAAAAGGCAGCATCTTTACTGAATTACGTGGACTGCCCGCACTCCACAGAGGTTCCCCCCGCTCGCATAAACTCCTCTGCGTAGTCGCGACATGCAAGGTTGCCCTTACTTAGTTTTAGGTGGATAATAATGGGAGAGTGGTACCCCTCTCTTGAGGACTTGGGCGCTACAGAGCGAATATCCGACGCAACCACGCTGGCCGCACTTACTACGGGGTCCTTCCCGGGAAGGAGGCGATGCTGTGCAGCATTACAGCAACCTGAAATTTTCTAGGCGAGCACCGCCCCCCAGCCTGAATCTACGCTCTAGCAATGCGTGATAGAGGCCCTTGGCTGATCGCAGGACGTCCGAAAATACGTCCGAATTGTTGTTTGCCTTGAGTCA'}),\n",
        " ('e1670',\n",
        "  {'creation_time': '6',\n",
        "   'id': 'e16702dab70d06a88810134b3ee5a8f30f6b9088cd0fbbe7ca9d657b78304d960d257b0f9b1e095cbc63729f4d101dc740504ec0917c5c9f6b8524ed9004ed6d',\n",
        "   'segment_number': '4',\n",
        "   'sequence_1': 'CGCCTTACCCTAATTGGAAGGACTTGGGTCGATAAACGGGCGCGACGGATATCACGAAACCACAAGGCACATGGGGGACACGGATTAATGCGGCTTCTGTACCACGGGGTTCGTGCCAATAAGTATAACGCTGTCGAGTGTTGAGAATTCGAATGTATGATTTCTGATGCCGTATCTTGCGACGTAGACTGCTATGAGGAAACCGATGCTTAAGTAATCGGCTCGAAAGCAGCCTGGTTGCATGCACGTATCCTTCTCCCCCACGTGAGACTCACGGACCGTTCGTAAAAGTATGGATTATCTGCGCGACACGATCTTTATCAAATCTCCGCAAACTCGTACTGTTACTGACTGCGCTGGAGCACATGTTCACAGGTTCAAATGTGGGTAAGTAGAAAAGCCACTCTTCAGTCGGCAGCAGTGGAATCCTCTCTTTCATCTTACACTTTCTTTCTACCACGAGCTGTGTGAAAGCAACTGCTCTTCGATAGTTTGGTGGGTGTGAGCGAAATGACGGTCTTTTTCCGGGAAACGTGTTAAAGTAGGACATCCTCATACCTCAGCGACATAAATTTTCGCTTTATCGCTGTCGTTCAAGCGGTTGAGAACGCTTCTTGCCTGAGCTGCATCGTTCTCCAAAGGGCGTTTCTTGCAGTCTCAGCTTGGCAGTTGGTCGCGGGAGGAGAGTTGTTTAAGGTTCAACAATGTTATAGAAGACGTTAGCAGGATGCAGACCGATCTAGACTAATCCGGCGCTGAGCGCTGTAGTTGAAGATCCCCGAACTGTGCGTCTGAACCCGTATGGTCAAACTTGACTTGTATGGAGTATTGCGTCCGACACAAGCATCTACCGGCTCTACCACTTAGGCCTGTATGCCCGTAGTAAGCTACCCCCGGCATACGAAGAACACGGAGCATCCGGATCTGTTATTGGTACGGTCCGACAGAGGGAACCCTACTGCGATAATTATTGGAACAAACCCACCTTCGAAGTCCTGCC',\n",
        "   'sequence_4': 'TTAAACAGTCACCAGATGGCACCACGTCGACAGCTAAGACCGTCGCAATTGGGGCCTTGCGGCGAGTGACTCTAGACGTCCGGGTACCCCGTTAATCGCAACTACGGCCTTTGGGAAGCAAGCGCTCAACCACTTAGTCGATCTTGGCGTGTAATCCCCTGGTCTCGCCCAATATCATGCGTCTTAATTTATCTGCATTTCGGCGCCGAGTGGACCGTGGGATCGAGTGGAATCCATCACGGGATCAGTTCGTGCCGAGTGGACCTTAAAGCATCTATACCACACTCACTTCGAGTCCGCGCTACCCAGCCCGCATGAAGCAGCCATCATACGACTCACCTACACGCAAAGGATTGATTCCTGTCAGACACTCCTGGGACCCTTTAAATTACCTACAACACGTCATCAACCTACACCATCTGTTGGACGTCCGCTTGCGCTCGACCTCGATGTCACCTGATGTGGCGAAATTCTGTGAGACGGGGAGCAAGCCCCAGGCACGTGACACTGCCAAACGCAGTGGGCGCTAGAGCTAACTGGACTATGGCGCCTCAAAGTAAAAGTTTTTCCTCCACCCGAGGCCTCGCTAAAAGCCTTTTATATCGCTTGACTAACAAAAAAGGCAGCATCTTTACTGAATTACGTGGACTGCCCGCACTCCACAGAGGTTCCCCCCGCTCGAATAAACTCCTCTGCGTAGTCGCGACATGCAAGGTTGCCCTTACTTAGTTTTAGGTGGATAATAATGGGAGAGTGGTACTCCTTTCTTGAGGACTTGGGCGATACAGAGCGAATAGCCGACGCAACCACGCTGGCCGCACTTATTACGGGGTCCTTCCCGGGAAGGAGGCGATGCTATGCAGCATTACAGCAACCTGAGATTTTCTAGGCGAGCACCGCCCCCCAGCCTGAATCTACGCTCTACCAATGCGTGATAGACGCCCTTGGCTGATCGCAGGACGTCCGAAAATACGTCCGAATTGTTGTTTGCCTTGAGTCA'}),\n",
        " ('5d42b',\n",
        "  {'creation_time': '4',\n",
        "   'id': '5d42b88acc98c3f1d31680a17d416853e50b857f2f3a880aa02e3fa27c98ae84d2c054089f7a46b097d5d3cfa81c640e316dc28171bc4ffaaf6632ca4be67a2c',\n",
        "   'segment_number': '4',\n",
        "   'sequence_1': 'CGCCTTACCCTAATTGGAAGGACTTGGGTCGATAAACGGGCGCGACGGATATCACGAAACCACAAGGCACATGGGGGACACGGATTAATGCGGCTTCTGTACCGCGGGGTTCGTGCCAATAAGTATAACGCTGTCGAGTGTTGAGAATTCGAATGTATGATTTCTGATGCCGTATCTTGCGACGTAGACTGCTATGAGGAAACCGATGCTTAAGTAATCGGCTCGAAAGCAGCCTGGTTGCATGCACGTATCCTTCTCCCCCACGTGAGACTCACGGACCGTTCGTAAAAGTATGGATTATCTGCGCGACACGATCTTTATCAAATCTCCGCAAACTCGTACTGTTACTGACTGCGCTGGAGCACATGTTCACAGGTTCAAATGTGGGTAAGTAGAAAAGCCACTCTTCAGTCGGCAGCAGTGGAATCCTCTCTTTCATCTTACACTTTCTTTCTACCACGAGCTGTGTGAAAGCAACTGCTCTTCGATAGTTTGGTGGGTGTGAGCGAAATGACGGTCTTTTTCCGGGAAACGTGTTAAAGTAGGACATCCTCATACCTCAGCGACATAAATTTTCGCTTTATCGCTGTCGTTCAAGCGGTTGAGAACGCTTCTTGCCTGAGCTGCATCGTTCTCCAAAGGGCGTTTCTTGCAGTCTCAGCTTGGCAGTTGGTCGCGGGAGGAGAGTTGTTTAAGGTTCAACAATGTTATAGAAGACGTTAGCAGGATGCAGACCGATCTAGACTAATCCGGCGCCGAGCGCTGTAGGTGAAGATCCCCGAACTGTGCGTCTGAACCCGTATGGTCAAACTTGACTTGTATGGAGTATTGCGTCCGACACAAGCATCTACCGGCTCTACCACTTAGGCCTGTATGCCCGTAGTAAGCTACCCCCGGCATACGAAGAACACGGAGCATCCGGATCTGTTATTGGTACGGTCCGACAGAGGGAACCCTACTGCGATAATTATTGGAACAAACCCACCTTCGAAGTCCTGCC',\n",
        "   'sequence_4': 'TTAAACAGTCACCAGATGGCAGCACGTCTACTGCTAAGACCGTCGCAATTGCGGCCTTGCGGCGAGTGACTCTAGAGGTCCGGGTACCCCGTTAATCGCAACTACGGCCTATGGGAAGCAAGCGCTCAACCACTTAGTCGAACTTGGCGTGTAATCCCCTGGTCTCGACCAATATCATGCGTCTTAATTTATCTGCATTTCGGCGCCGAGTGGACCGTGGGATCCAGTGGAATCCATCACGGGATCAGTTCGTGCCGTGTGGACCTTAAAGCATCTATACCACACTCACTTCGAATCCGCGCTACCCAGCCCGCATGAACCCGCCATCATACGACTCACCTACACGCAAAGGACTGATTGCTGTCAGACACTCCAGGGACCCTTTAAATTACCTACAACACGTCATCAACCTACACCATCTGTTGGGCGTCCGCTAGCGCTCGACCTCGATGTCACCTGATGTGGCGAAATTCTGTGAGACGGGGAGCAAGCCCCAGGCACGAGACACTGCCAAACGCAGTGGGCGCTAGAGCTAACTGGACTATGGCGCCTCAAAGTAAAAGTCTTTCCTGTACCCGATGCCTCGCAAAAAGCCTTTTATATCGCTTGACTAACAAAATAGGCAGCATCTTTACTGTATTACGTGGACTGCCCGCACTCCACAGAGGTCCCCCCCGCTCGAATAAACTCCTCTGCGTAGTCGCGAAATGCAAGGTTGCCCTTACTTAGTTTTAGGGGGATAATAATGGGAGAGTGGTTCCCCTTTCTTGAGGACTTGGGCGCTACAGAGCGAATATCCAACCCAACCACGCTGGCCGCACTTAGTACGAGGTCCTTCCCGGGAAGGAGGCGATGCTATGCAGCATTACAGCAACCTGAAATTTTCTAGGCGCGCACCGCCCCCCAGCCTGAATCTACGCTCTACCAATGCGTGATAGACGCCCTTGGCCGATCGCAGGACGTCCGAAAATACGTCCGAATTGTTGTTTGCCTTGAGTCA'}),\n",
        " ('77e18',\n",
        "  {'creation_time': '9',\n",
        "   'id': '77e18c64ebc033ccf924916ed316f09461bcd6eee91abfcfc5df85d0f77edf28f13e5ed72c623534d0b1c303a9b196ca40ee4d3984c4b25d58de85356eb68fd6',\n",
        "   'segment_number': '4',\n",
        "   'sequence_1': 'CGCCTTACCCTAATTGGAAGGACTTGGGTCGATAAACGGGCGCGACGGATATCACGAAACCACAAGGCACATGGGGGACACGGATTAATGCGGCTTCTGTACCACGGGGTTCGTGCCAATAAGTATAACGCTGTCGAGTGTTGAGAATTCGAATGTATGATTTCTGATGCCGTATCTTGCGACGTAGACTGCTATGAGGAAACCGATGCTTAAGTAATCGGCTCGAAAGCAGCCTGGTTGCATGCACGTATCCTTCTCCCCCACGTGAGACTCACGGACCGTTCGTAAAAGTATGGATTATCTGCGCGACACGATCTTTATCAAATCTCCGCAAACTCGTACTGTTACTGACTGCGCTGGAGCACATGTTCACAGGTTCAAATGTGGGTAAGTAGAAAAGCCACTCTTCAGTCGGCAGCAGTGGAATCCTCTCTTTCATCTTACACTTTCTTTCTACCACGAGCTGTGTGAAAGCAACTGCTCTTCGATAGTTTGGTGGGTGTGAGCGAAATGACGGTCTTTTTCCGGGAAACGTGTTAAAGTAGGACATCCTCATACCTCAGCGACATAAATTTTCGCTTTATCGCTGTCGTTCAAGCGGTTGAGAACGCTTCTTGCCTGAGCTGCATCGTTCTCCAAAGGGCGTTTCTTGCAGTCTCAGCTTGGCAGTTGGTCGCGGGAGGAGAGTTGTTTAAGGTTCAACAATGTTATAGAAGACGTTAGCAGGATGCAGACCGATCTAGACTAATCCGGCGCTGAGCGCTGTAGTTGAAGATCCCCGAACTGTGCGTCTGAACCCGTATGGTCAAACTTGACTTGTATGGAGTATTGCGTCCGACACAAGCATCTACCGGCTCTACCACTTAGGCCTGTATGCCCGTAGTAAGCTACCCCCGGCATACGAAGAACACGGAGCATCCGGATCTGTTATTGGTACGGTCCGACAGAGGGAACCCTACTGCGATAATTATTGGAACAAACCCACCTTCGAAGTCCTGCC',\n",
        "   'sequence_4': 'TTAAACAGTCACCAGATGGCACCACGTCGACAGCTAAGACCGTCGCAATTGGGGCCTTGCGGCGAGTGACTCTAGACGTCCGGGTACCCCGTTAATCGCAACTACGGCCTTTGGGAAGCAAGCGCTCAACCACTTAGTCGATCTTGGCGTGTAATCCCCTGGTCTCGCCCAATATCATGCGTCTTAATTTATCTGCATTTCGGCGCCGAGTGGACCGTGGGATCGAGTGGAATCCATCACGGGTTCAGTTCGTGCCGAGTGGACCTTAAAGCATCTATACCACACTCACTTCGAGTCCGCGCTACCCAGCCCGCATGAAGCAGCCATCATACGACTCACCTTCACGCAAAGGATTGATTCCTGTCAAATACTCCTGGGACCCTTTAAATTACCTACAACACGTCATCAACCTACACCATCTGTTGGACGTCCGCTTGCGCTCGACCTCGATGTCACCTGATGTGGCGAAATTCTGTGAGACGGGGAGCAAGCCCCAGGCACGTGACACTGCCAAACGCAGTGGGCGCTAGAGCTAACTGGACTATGGCGCCTCAAAGTAAAAGTTTTTCCTCCACCCGAGGCCTCGCTAAAAGCCTTTTATATCGCTTGACTAACAAAAAAGGCAGCATCTTTACTGAATTACGTGGACTGCCCGCACTCCACAGAGGTTCCCCCCGCTCGAATAAACTCCTCTGCGTAGTCGCGACATGCAAGGTTGCCCTTACTTAGTTTTAGGTGGATAATAATGGGAGAGTGGTACTCCTTTCTTGAGGACTTGGGCGATACAGAGCGAATAGCCGACGCAACCACGCTGGCCGCACTTATTACGGGGTCCTTCCCGGGAAGGAGGCGATGCTATGCAGCATTACAGCAACCTGAGATTTTCTAGGCGAGCACCGCACCCCAGCCTGAATCTACGCTCTACCAATGCGTGATAGACGCCCTTGGCTGATCGCAGGACGTCCGAAAATACGTCCGAAATGTTCTTTGCCTTGAGTCA'}),\n",
        " ('3d872',\n",
        "  {'creation_time': '0',\n",
        "   'id': '3d872e2e13b244aeabc32fcaf17707ea2db3e7f3eb99576844598adcfd8ac2814c83d8cd2a8a52c32f19b32905553ea99e70fda8827feb224136e5a413f5e41b',\n",
        "   'segment_number': '4',\n",
        "   'sequence_1': 'CGCCTTACCCTAATTGGAAGGACTTGGGTCGATAAACGGGCGCGACGGATATCACGAAACCACAAGGCACATGGGGGACACGGATTAATGCGGCTTCTGTACCACGGGGTTCGTGCCAATAAGTATAACGCTGTCGAGTGTTGAGAATTCGAATGTATGATTTCTGATGCCGTATCTTGCGACGTAGACTGCTATGAGGAAACCGATGCTTAAGTAATCGGCTCGAAAGCAGCCTGGTTGCATGCACGTATCCTTCTCCCCCACGTGAGACTCACGGACCGTTCGTAAAAGTATGGATTATCTGCGCGACACGATCTTTATCAAATCTCCGCAAACTCGTACTGTTACTGACTGCGCTGGAGCACATGTTCACAGGTTCAAATGTGGGTAAGTAGAAAAGCCACTCTTCAGTCGGCAGCAGTGGAATCCTCTCTTTCATCTTACACTTTCTTTCTACCACGAGCTGTGTGAAAGCAACTGCTCTTCGATAGTTTGGTGGGTGTGAGCGAAATGACGGTCTTTTTCCGGGAAACGTGTTAAAGTAGGACATCCTCATACCTCAGCGACATAAATTTTCGCTTTATCGCTGTCGTTCAAGCGGTTGAGAACGCTTCTTGCCTGAGCTGCATCGTTCTCCAAAGGGCGTTTCTTGCAGTCTCAGCTTGGCAGTTGGTCGCGGGAGGAGAGTTGTTTAAGGTTCAACAATGTTATAGAAGACGTTAGCAGGATGCAGACCGATCTAGACTAATCCGGCGCCGAGCGCTGTAGTTGAAGATCCCCGAACTGTGCGTCTGAACCCGTATGGTCAAACTTGACTTGTATGGAGTATTGCGTCCGACACAAGCATCTACCGGCTCTACCACTTAGGCCTGTATGCCCGTAGTAAGCTACCCCCGGCATACGAAGAACACGGAGCATCCGGATCTGTTATTGGTACGGTCCGACAGAGGGAACCCTACTGCGATAATTATTGGAACAAACCCACCTTCGAAGTCCTGCC',\n",
        "   'sequence_4': 'CTGCGGAGCTTACGGATTTTTTTCGGAAGAAGCAAAGATCACTAGGGGGTCCTTGATTTGTGTGGTGTCACAACAGAGCGGCCATTTGCGGGAAACGACAAGCCGGGGCTGAAGAGTTCGAACGGCGATGTCCGCCATGAATATGAAAAAGCGCCTTCGACAGAACACGGCATGGCTCAACGCGGCTCGTTCTAAACAGGCCATCTTCCAGAGGACCGACCAAGCCTTAACGGAACCTAAACGGGAACGAGGTGAATAGGCGCGCGCAGCCCCTAAATGAGAAATGCCTCCTAGTAGTCTGGAACGCTGGGGGACGAAAGATACAGCCTTTACTTGCATCTTACATCCTTCAGCCGCTGAACCTTGTCAACTATCTCTACCAGAGACTTTCCCGCGTAAACCCTTTCTGATAAGAAATTCATAACATGCGACCCAGAGAGGTTAGTTTGTGGCCTTTGCCGGCAAGATGGTTGAGGTCCTCCCGAACAAATGATTATCCGCGGTGCAGCCAATGGGTAGAGTGTTTTGCTTGCGTGGCGACCAAGGTGTAGAAGGATTTCCTATATTAAGGGTTTAACATCAGGACAGTGACTTCAACACCGGGTCGGCGCTTTTCATCACTCCCCTTTGAGACCTTAAGCCTGAACTAGTTCGTCAGTCACTTCGGCATGAAGCTCCGATCACGGCCCGCGCCGGACTCCGTATTAATCACGAGGGTAGACGTCCTCTTGTAGCCACGACGAAGTCGTGTGAAAGGCGTGACTTCGTGGCAACCCGCCCCTCTGGGATCCCGGAGCCCCGTCATACAATAATGTGTAGGGAACTCAAGAACCCACTCTGTGGGTTTTTCGAGGCCTCTGGGTCCGTTCATCTAGGTCCTACCCTGAATACGCTTCCAAAGATCCGCGGTGAGATATGTCGTTTAATTTAACGAGGGACCTTAGCTACACATAGACACTTTAAACTGACTTGGGTTGAACAAGGGATGGGGCCCTCTTAA'}),\n",
        " ('4e776',\n",
        "  {'creation_time': '2',\n",
        "   'id': '4e776c74432469ca72a7a98b0e320cfebc4c92c62038657738756ec1b546167367447bb9001b2ad0eefb6c80b483329e07902b9be1db7c1511dd2a89196fe185',\n",
        "   'segment_number': '4',\n",
        "   'sequence_1': 'CGCCTTACCCTAATTGGAAGGACTTGGGTCGATAAACGGGCGCGACGGATATCACGAAACCACAAGGCACATGGGGGACACGGATTAATGCGGCTTCTGTACCACGGGGTTCGTGCCAATAAGTATAACGCTGTCGAGTGTTGAGAATTCGAATGTATGATTTCTGATGCCGTATCTTGCGACGTAGACTGCTATGAGGAAACCGATGCTTAAGTAATCGGCTCGAAAGCAGCCTGGTTGCATGCACGTATCCTTCTCCCCCACGTGAGACTCACGGACCGTTCGTAAAAGTATGGATTATCTGCGCGACACGATCTTTATCAAATCTCCGCAAACTCGTACTGTTACTGACTGCGCTGGAGCACATGTTCACAGGTTCAAATGTGGGTAAGTAGAAAAGCCACTCTTCAGTCGGCAGCAGTGGAATCCTCTCTTTCATCTTACACTTTCTTTCTACCACGAGCTGTGTGAAAGCAACTGCTCTTCGATAGTTTGGTGGGTGTGAGCGAAATGACGGTCTTTTTCCGGGAAACGTGTTAAAGTAGGACATCCTCATACCTCAGCGACATAAATTTTCGCTTTATCGCTGTCGTTCAAGCGGTTGAGAACGCTTCTTGCCTGAGCTGCATCGTTCTCCAAAGGGCGTTTCTTGCAGTCTCAGCTTGGCAGTTGGTCGCGGGAGGAGAGTTGTTTAAGGTTCAACAATGTTATAGAAGACGTTAGCAGGATGCAGACCGATCTAGACTAATCCGGCGCCGAGCGCTGTAGTTGAAGATCCCCGAACTGTGCGTCTGAACCCGTATGGCCAAACTTTACTTGTATGGAGTATTGCGTCCGACACAAGCATCTACCGGCTCTACCACTTAGGCCTGTATGCCCGTAGTAAGCTACCCCCGGCATACGAAGAACACGGAGCAGCCGGATCTGTTATTGGTACGGTCCGACAGAGGGAACCCTACTGCGATAATTATTGGAACAAACCCACCTTCGAAGTCCTGCC',\n",
        "   'sequence_4': 'CTGCGGAGCTTACGGATTTTTTTCGGAAGAAGCAAAGATCACTAGGGGGTCCTTCATTTGTGTGGTGTCACAACAGAGCGGCCATTTGCGGGAAACGACAAGCCGGGGCTGAAGAGTTCGAACGGCGATGTCCGCCATGAATATGAAAAAGCGCCTTCGACAGAACACGGCATGGCTCAACGCGGCTCGTTCTAAACAGGCCATCTTCCAGAGGACCGACCAAGCCTTAACGGAAACTAAACGGGAACGAGGTGAATAGTCGCGCGCAGCCCCTAAATGAGAAATGCCTCCTAGTAGTCTGGAACGCTGGGGGACGAAAGATACAGCCTTTACTTGCATCTTACATCCTTCGGCCGCTGAACCTTGTCAACTATCTCTACCAGAGACTTTCCCGCGTAAACCCTTTCTGATAGGAAATTCATAACATGCGACCCAGAGAGGTTAGTTTGTGGCCTTTGCCGGCAAGATGGTTGAGGTCCTCCCGAACAAATGATTATCCGCGGTGCAGCCAATGGGTAGAGTGTTTTGCTTGCGTGGCGACCAAGGTGTAGAAGGATTTCCTATATTAAGGGTTTAACATCAGGACAGTGACTTCAACACCGGGTCGGCGCTTTTCATCACTCCCCTTTGAGACCTTAAGCCTGAACTAGTTCGTCAGTCACTTCGGCATGAAGCTCCGATCACGGCCCGCGCCGGACTCCGTATTAATTACGAGGGTAGACGTCCTCTTGTAGCCACGACGAAGTCGTGTGAAAGGCGTGACTTCGTGGCAACCCGCCCCTCTGGGATCCCGGAGCCCCGTCATACAATAATGTGTAGGGAACTCAAGAACCCACTCTGTGGGTTTTTCGAGGCCTCTGGGTCCGTTCATCTAGGTCCTACCTTGAATACGCTTCCAAAGATCCGCGGTGAGATATGTCGTTTAATTTAACGAGGGACCTTAGCTACACATAGACACTTTAAACTGACTTGGGTTGAACAAGGGATGGGGCCCTCTTAA'}),\n",
        " ('72400',\n",
        "  {'creation_time': '3',\n",
        "   'id': '7240001868a5641daa0bd48977c5381c23ba3217cff646d0828a5ea4b47ef23a47e743cafb9f0c2442e7eaa01cdc8af3f818c4de2eae6e9cc65b229ecd5297c5',\n",
        "   'segment_number': '4',\n",
        "   'sequence_1': 'CGCCTTACCCTAATTGGAAGGACTTGGGTCGATAAACGGGCGCGACGGATATCACGAAACCACAAGGCACATGGGGGACACGGATTAATGCGGCTTCTGTACCGCGGGGTTCGTGCCAATAAGTATAACGCTGTCGAGTGTTGAGAATTCGAATGTATGATTTCTGATGCCGTATCTTGCGACGTAGACTGCTATGAGGAAACCGATGCTTAAGTAATCGGCTCGAAAGCAGCCTGGTTGCATGCACGTATCCTTCTCCCCCACGTGAGACTCACGGACCGTTCGTAAAAGTATGGATTATCTGCGCGACACGATCTTTATCAAATCTCCGCAAACTCGTACTGTTACTGACTGCGCTGGAGCACATGTTCACAGGTTCAAATGTGGGTAAGTAGAAAAGCCACTCTTCAGTCGGCAGCAGTGGAATCCTCTCTTTCATCTTACACTTTCTTTCTACCACGAGCTGTGTGAAAGCAACTGCTCTTCGATAGTTTGGTGGGTGTGAGCGAAATGACGGTCTTTTTCCGGGAAACGTGTTAAAGTAGGACATCCTCATACCTCAGCGACATAAATTTTCGCTTTATCGCTGTCGTTCAAGCGGTTGAGAACGCTTCTTGCCTGAGCTGCATCGTTCTCCAAAGGGCGTTTCTTGCAGTCTCAGCTTGGCAGTTGGTCGCGGGAGGAGAGTTGTTTAAGGTTCAACAATGTTATAGAAGACGTTAGCAGGATGCAGACCGATCTAGACTAATCCGGCGCCGAGCGCTGTAGGTGAAGATCCCCGAACTGTGCGTCTGAACCCGTATGGTCAAACTTGACTTGTATGGAGTATTGCGTCCGACACAAGCATCTACCGGCTCTACCACTTAGGCCTGTATGCCCGTAGTAAGCTACCCCCGGCATACGAAGAACACGGAGCATCCGGATCTGTTATTGGTACGGTCCGACAGAGGGAACCCTACTGCGATAATTATTGGAACAAACCCACCTTCGAAGTCCTGCC',\n",
        "   'sequence_4': 'TTAAACAGTCACCAGATGGCAGCACGTCTACTGCTAAGACCGTCGCAATTGCGGCCTTGCGGCGAGTGACTCTAGAGGTCCGGGTACCCCGTTAATCGCAACTACGGCCTATGGGAAGCAAGCGCTCAACCACTTAGTCGAACTTGGCGTGTAATCCCCTGGTCTCGACCAATATCATGCGTCTTAATTTATCTGCATTTCGGCGCCGAGTGGACCGTGGGATCGAGTGGAATCCATCACGGGATCAGTTCGTGCCGTGTGGACCTTAAAGCATCTATACCACACTCACTTCGAATCCGCGCTACCCAGCCCGCATGAAGCCGCCATCATACGACTCACCTACACGCAAAGGACTGATTCCTGTCAGACACTCCTGGGACCCTTTAAATTACCTACAACACGTCATCAACCTACACCATCTGTTGGACGTCCGCTAGCGCTCGACCTCGATGTCACCTGATGTGGCGAAATTCTGTGAGACGGGGAGCAAGCCCCAGGCACGAGACACTGCCAAACGCAGTGGGCGCTAGAGCTAACTGGACTATGGCGCCTCAAAGTAAAAGTCTTTCCTGTACCCGAGGCCTCGCAAAAAGCCTTTTATATCGCTTGACTAACAAAAAAGGCAGCATCTTTACTGTATTACGTGGACTGCCCGCACTCCACAGAGGTCCCCCCCGCTCGAATAAACTCCTCTGCGTAGTCGCGACATGCAAGGTTGCCCTTACTTAGTTTTAGGGGGATAATAATGGGAGAGTGGTTCCCCTTTCTTGAGGACTTGGGCGCTACAGAGCGAATATCCAACGCAACCACGCTGGCCGCACTTACTACGGGGTCCTTCCCGGGAAGGAGGCGATGCTATGCAGCATTACAGCAACCTGAAATTTTCTAGGCGCGCACCGCCCCCCAGCCTGAATCTACGCTCTACCAATGCGTGATAGACGCCCTTGGCTGATCGCAGGACGTCCGAAAATACGTCCGAATTGTTGTTTGCCTTGAGTCA'}),\n",
        " ('a9fa3',\n",
        "  {'creation_time': '1',\n",
        "   'id': 'a9fa347f87e61b2b20be7670072ce64870336d63e53cd3a1d50cd2a799db435b3d966c24929c282f41a6bcf4190ef9512b10c49cda12123cda1ef9e17ccee2a6',\n",
        "   'segment_number': '4',\n",
        "   'sequence_1': 'CGCCTTACCCTAATTGGAAGGACTTGGGTCGATAAACGGGCGCGACGGATATCACGAAACCACAAGGCACATGGGGGACACGGATTAATGCGGCTTCTGTACCACGGGGTTCGTGCCAATAAGTATAACGCTGTCGAGTGTTGAGAATTCGAATGTATGATTTCTGATGCCGTATCTTGCGACGTAGACTGCTATGAGGAAACCGATGCTTAAGTAATCGGCTCGAAAGCAGCCTGGTTGCATGCACGTATCCTTCTCCCCCACGTGAGACTCACGGACCGTTCGTAAAAGTATGGATTATCTGCGCGACACGATCTTTATCAAATCTCCGCAAACTCGTACTGTTACTGACTGCGCTGGAGCACATGTTCACAGGTTCAAATGTGGGTAAGTAGAAAAGCCACTCTTCAGTCGGCAGCAGTGGAATCCTCTCTTTCATCTTACACTTTCTTTCTACCACGAGCTGTGTGAAAGCAACTGCTCTTCGATAGTTTGGTGGGTGTGAGCGAAATGACGGTCTTTTTCCGGGAAACGTGTTAAAGTAGGACATCCTCATACCTCAGCGACATAAATTTTCGCTTTATCGCTGTCGTTCAAGCGGTTGAGAACGCTTCTTGCCTGAGCTGCATCGTTCTCCAAAGGGCGTTTCTTGCAGTCTCAGCTTGGCAGTTGGTCGCGGGAGGAGAGTTGTTTAAGGTTCAACAATGTTATAGAAGACGTTAGCAGGATGCAGACCGATCTAGACTAATCCGGCGCCGAGCGCTGTAGTTGAAGATCCCCGAACTGTGCGTCTGAACCCGTATGGTCAAACTTGACTTGTATGGAGTATTGCGTCCGACACAAGCATCTACCGGCTCTACCACTTAGGCCTGTATGCCCGTAGTAAGCTACCCCCGGCATACGAAGAACACGGAGCATCCGGATCTGTTATTGGTACGGTCCGACAGAGGGAACCCTACTGCGATAATTATTGGAACAAACCCACCTTCGAAGTCCTGCC',\n",
        "   'sequence_4': 'TTAAACAGTCACCAGATGGCAGCACGTCGACAGCTAAGACCGTCGCAATTGCGGCCTTGCGGCGAGTGACTCTAGAGGTCCGGGTACCCCGTTAATCGCAACTACGGCCTTTGGGAAGCAAGCGCTCAACCACTTAGTCGATCTTGGCGTGTAATCCCCTGGTCTCGACCAATATCATGCGTCTTAATTTATCTGCATTTCGGCGCCGAGTGGACCGTGGGATCGAGTGGAATCCATCACGGGATCAGTTCGTGCCGTGTGGACCTTAAAGCATCTATACCACACTCACTTCGAGTCCGCGCTACCCAGCCCGCATGAAGCAGCCATCATACGACTCACCTACACGCAAAGGACTGATTCCTGTCAGACACTCCTGGGACCCTTTAAATTACCTACAACACGTCATCAACCTACACCATCTGTTGGACGTCCGCTAGCGCTCGACCTCGATGTCACCTGATGTGGCGAAATTCTGTGAGACGGGGAGCAAGCCCCAGGCACGTGACACTGCCAAACGCAGTGGGCGCTAGAGCTAACTGGACTATGGCGCCTCAAAGTAAAAGTTTTTCCTGTACCCGAGGCCTCGCAAAAAGCCTTTTATATCGCTTGACTAACAAAAAAGGCAGCATCTTTACTGTATTACGTGGACTGCCCGCACTCCACAGAGGTCCCCCCCGCTCGAATAAACTCCTCTGCGTAGTCGCGACATGCAAGGTTGCCCTTACTTAGTTTTAGGTGGATAATAATGGGAGAGTGGTTCCCCTTTCTTGAGGACTTGGGCGCTACAGAGCGAATATCCAACGCAACCACGCTGGCCGCACTTACTACGGGGTCCTTCCCGGGAAGGAGGCGATGCTATGCAGCATTACAGCAACCTGAAATTTTCTAGGCGAGCACCGCCCCCCAGCCTGAATCTACGCTCTACCAATGCGTGATAGACGCCCTTGGCTGATCGCAGGACGTCCGAAAATACGTCCGAATTGTTGTTTGCCTTGAGTCA'}),\n",
        " ('fe843',\n",
        "  {'creation_time': '8',\n",
        "   'id': 'fe8435e71c2cc45b60301701a32434f31f02af90f4f58eb4bb81ec3fb7dea349037fe560f5514fc4ed7054af5b3acb9617627938b7695691d145a7845d9fc7ab',\n",
        "   'segment_number': '4',\n",
        "   'sequence_1': 'CGCCTTACCCTAATTGGAAGGACTTGGGTCGATAAACGGGCGCGACGGATATCACGAAACCACAAGGCACATGGGGGACACGGATTAATGCGGCTTCTGTACCGCGGGGTTCGTGCCAATAAGTATAACGCTGTCGAGTGTTTAGAATTCGAATGTATGATTTCTGATGCCGTATCTTGCGACGTAGACTGCTATGAGGAAACCGATGCTTAAGTAATCGGCTCGAAAGCAGCCTGGTTGCATGCACGTATCCTTCTCCCCCACGTGAGACTCACGGACCGTTCGTAAAAGTATGGATTATCTGCGCGACACGATCTTTATCAAATCTCCGCAAACTCGTACTGTTACTGACTGCGCTGGAGCACATCTTCACAGGTTCAAATGTGGGTAAGTAGAAAAGCCACTCTTCAGTCGGCAGCAGTGGAATCCTCTCTTTCATCTTACACTTTCTTTCTACCACGAGCTGTGTGAAAGCAACTGCTCTTCGATAGTTTGGTGGGTGTGAGCGAAATGACGGTCTTTTTCCGGGAAACGTGTTAAAGTAGGACATCCTCATACCTCAGCGACATAAATTTTCGCTTTATCGCTGTCGTTCAAGCGGTTGAGAACGCTTCTTGCCTGAGCTGCATCGTTCTCCAAAGGGCGTTTCTTGCAGTCTCAGCTTGGCAGTTGGTCGCGGGAGGAGAGTTGTTTAAGGTTCAACAATGTTATAGAAGACGTTAGCAGGATGCAGACCGATCTAGACTAATCCGGCGCCGAGCGCTGTAGGTGAAGATCCCCGAACTGTGCGTCTGAACCCGTATGGTCAAACTTGACTTGTATGGAGTATTGCGTCCGACACAAGCATCTACCGGCTCTACCACTTAGGCCTGTATGCCCGTAGTAAGCTACCCCCGGCATACGAAGAACACGGAGCATCCGGATCTGGTATTGGTACGGTCCGACAGAGGGAACCCTACTGCGATAATTATTGGAACAAACCCACCTTCGAAGTCCTGCC',\n",
        "   'sequence_4': 'TTAAACAGTCACCAGATGGCAGCACGTCTACTGCTAAGACCGTCGCAATTGCGGCCTTGCGGCGAGTGACTCTAGAGGTCCGGGTACCCCGTTAATCGCAACTACGGCCTACGGGAAGCAAGCGCTCAACCACTTAGTCGAACTTGGCGTGTAATCCCCTGGTCTCGACCAATATCATGCGTCTTAATTTATCTGCATTTCGGCGCCGAGTGGACCGTGGGATCGAGTGGAATCCATCACGGGATCAGTTCGTGCCGTGTGGACCTTAAAGCATCTATACCACACTCACTTCGAATCCGCGCTACCCAGCCCGCATGAAGCCGCCATCATACGACTCACCTACACGCAAAGGACTGATTCCTGTCAGACACTCCTGGGACCCTTTAAATTACCTACAACACGTCATCAACCTACACCACCTGTTGGACGTCCGCTAGCGCTCGACCTCGATGTCACCTGATGTGGCGAAATTCTGTGAGACGGGGAGCAAGCCCCAGGTACGAGACACTGCCAAACGCAGTGGGCGCTAGAGCTAACTGGACTATGGCGCCTCAAAGTAAAAGTCTTTCCTGTACCCGAGGCCTCGCAGAAAGCCTTTTATATCGCTTGACTAACAAAAAAGGCAGCATCTTTACTGTATTACGTGGACTGCCCGCACTCCACAGAGGTCCCCCCCGCTCGAATAAACTCCTCTGCGTAGTCGCGACATGCAAGGTTGCCCTTACTTAGTTTTAGGGGGATAATAATGGGAGAGTGGTTCCCCTTTCTTGAGGACTTGGGCGCTACAGAGCGAATATCCAACGCAACCATGCTGGCCGCACTTACTACGGAGTCCTTCCCGGGAAGGAGGCGATGCTATGCAGCATTACAGCAACCGGAAATTTTCTAGGCGCGCACCGCCCCCCAGCCTGAAGCTACGCTCTACCAATGCGTGATAGACGCCCTTGGCTGATCGCAGGACGTCCGAAAATACGTCCGAATTGTTGTTTGCCTTGAGTCA'})]"
       ]
      }
     ],
     "prompt_number": 24
    },
    {
     "cell_type": "code",
     "collapsed": false,
     "input": [
      "# This code is used for drawing.\n",
      "from random import randint\n",
      "\n",
      "randints = []\n",
      "for node in r.condensed_graph.nodes(data=True):\n",
      "    randints.append(randint(1, 20))\n",
      "print randints\n",
      "\n",
      "reconstruction_positions = dict()\n",
      "for i, node in enumerate(sorted(r.condensed_graph.nodes(data=True))):\n",
      "    reconstruction_positions[node[0]] = (int(node[1]['creation_time']), randints[i])\n",
      "    \n",
      "print len(reconstruction_positions)\n",
      "nx.draw(r.condensed_graph, pos=reconstruction_positions)"
     ],
     "language": "python",
     "metadata": {},
     "outputs": [
      {
       "output_type": "stream",
       "stream": "stdout",
       "text": [
        "[1, 9, 14, 8, 19, 6, 16, 13, 13, 5, 13]\n",
        "11\n"
       ]
      },
      {
       "metadata": {},
       "output_type": "display_data",
       "png": "[encoded data removed]",
       "text": [
        "<matplotlib.figure.Figure at 0x1064d8e50>"
       ]
      }
     ],
     "prompt_number": 25
    },
    {
     "cell_type": "code",
     "collapsed": false,
     "input": [
      "simulation_positions = dict()\n",
      "\n",
      "print randints\n",
      "for i, pathogen in enumerate(s.pathogens):\n",
      "    simulation_positions[pathogen] = reconstruction_positions[str(pathogen)]\n",
      "    \n",
      "print len(simulation_positions)\n",
      "nx.draw(s.transmission_graph, pos=simulation_positions)"
     ],
     "language": "python",
     "metadata": {},
     "outputs": [
      {
       "output_type": "stream",
       "stream": "stdout",
       "text": [
        "[1, 9, 14, 8, 19, 6, 16, 13, 13, 5, 13]\n",
        "11\n"
       ]
      },
      {
       "metadata": {},
       "output_type": "display_data",
       "png": "[encoded data removed]",
       "text": [
        "<matplotlib.figure.Figure at 0x1064e7910>"
       ]
      }
     ],
     "prompt_number": 26
    },
    {
     "cell_type": "code",
     "collapsed": false,
     "input": [
      "s.pathogens[0].parent"
     ],
     "language": "python",
     "metadata": {},
     "outputs": [
      {
       "metadata": {},
       "output_type": "pyout",
       "prompt_number": 27,
       "text": [
        "{}"
       ]
      }
     ],
     "prompt_number": 27
    },
    {
     "cell_type": "code",
     "collapsed": false,
     "input": [
      "r.condensed_graph.edges(data=True)"
     ],
     "language": "python",
     "metadata": {},
     "outputs": [
      {
       "metadata": {},
       "output_type": "pyout",
       "prompt_number": 28,
       "text": [
        "[('925a1', '206bd', {'segments': [1, 4], 'weight': 12}),\n",
        " ('925a1', 'e1670', {'segments': [1, 4], 'weight': 11}),\n",
        " ('925a1', 'a9fa3', {'segments': [1, 4], 'weight': 9}),\n",
        " ('e1670', '77e18', {'segments': [1, 4], 'weight': 7}),\n",
        " ('3d872', '4e776', {'segments': [1, 4], 'weight': 10}),\n",
        " ('72400', '5d42b', {'segments': [1, 4], 'weight': 12}),\n",
        " ('72400', 'fe843', {'segments': [1, 4], 'weight': 11}),\n",
        " ('a9fa3', 'f0070', {'segments': [1, 4], 'weight': 6}),\n",
        " ('a9fa3', '72400', {'segments': [1, 4], 'weight': 12})]"
       ]
      }
     ],
     "prompt_number": 28
    },
    {
     "cell_type": "code",
     "collapsed": false,
     "input": [
      "for virus in s.identify_reassortants():\n",
      "    print virus"
     ],
     "language": "python",
     "metadata": {},
     "outputs": [
      {
       "output_type": "stream",
       "stream": "stdout",
       "text": [
        "a9fa3\n"
       ]
      }
     ],
     "prompt_number": 29
    },
    {
     "cell_type": "code",
     "collapsed": false,
     "input": [
      "for virus in r.identify_reassortants():\n",
      "    print virus[0]"
     ],
     "language": "python",
     "metadata": {},
     "outputs": [],
     "prompt_number": 30
    },
    {
     "cell_type": "code",
     "collapsed": false,
     "input": [
      "s.transmission_graph.edges(data=True)"
     ],
     "language": "python",
     "metadata": {},
     "outputs": [
      {
       "metadata": {},
       "output_type": "pyout",
       "prompt_number": 31,
       "text": [
        "[(a9fa3, 72400, {'segments': [1, 4], 'weight': 12}),\n",
        " (a9fa3, f0070, {'segments': [1, 4], 'weight': 6}),\n",
        " (e1670, 77e18, {'segments': [1, 4], 'weight': 7}),\n",
        " (925a1, e1670, {'segments': [1, 4], 'weight': 11}),\n",
        " (925a1, a9fa3, {'segments': [1, 4], 'weight': 9}),\n",
        " (925a1, 206bd, {'segments': [1, 4], 'weight': 12}),\n",
        " (3d872, 4e776, {'segments': [1, 4], 'weight': 10}),\n",
        " (72400, 5d42b, {'segments': [1, 4], 'weight': 12}),\n",
        " (72400, fe843, {'segments': [1, 4], 'weight': 11})]"
       ]
      }
     ],
     "prompt_number": 31
    },
    {
     "cell_type": "markdown",
     "metadata": {},
     "source": [
      "# Test Relabeled Graph"
     ]
    },
    {
     "cell_type": "code",
     "collapsed": false,
     "input": [
      "for pathogen in s.pathogens:\n",
      "    print (str(pathogen), str(pathogen.parent))"
     ],
     "language": "python",
     "metadata": {},
     "outputs": [
      {
       "output_type": "stream",
       "stream": "stdout",
       "text": [
        "('3d872', '{}')\n",
        "('925a1', '{}')\n",
        "('a9fa3', '{3d872: [], 925a1: [1, 4]}')\n",
        "('4e776', '{3d872: [1, 4]}')\n",
        "('72400', '{a9fa3: [1, 4]}')\n",
        "('5d42b', '{72400: [1, 4]}')\n",
        "('f0070', '{a9fa3: [1, 4]}')\n",
        "('e1670', '{925a1: [1, 4]}')\n",
        "('206bd', '{925a1: [1, 4]}')\n",
        "('fe843', '{72400: [1, 4]}')\n",
        "('77e18', '{e1670: [1, 4]}')\n"
       ]
      }
     ],
     "prompt_number": 32
    },
    {
     "cell_type": "code",
     "collapsed": false,
     "input": [
      "s.relabel_transmission_graph()\n",
      "s.relabeled_transmission_graph.edges(data=True)"
     ],
     "language": "python",
     "metadata": {},
     "outputs": [
      {
       "metadata": {},
       "output_type": "pyout",
       "prompt_number": 33,
       "text": [
        "[('925a1', '206bd', {'segments': [1, 4], 'weight': 12}),\n",
        " ('925a1', 'e1670', {'segments': [1, 4], 'weight': 11}),\n",
        " ('925a1', 'a9fa3', {'segments': [1, 4], 'weight': 9}),\n",
        " ('e1670', '77e18', {'segments': [1, 4], 'weight': 7}),\n",
        " ('3d872', '4e776', {'segments': [1, 4], 'weight': 10}),\n",
        " ('72400', '5d42b', {'segments': [1, 4], 'weight': 12}),\n",
        " ('72400', 'fe843', {'segments': [1, 4], 'weight': 11}),\n",
        " ('a9fa3', 'f0070', {'segments': [1, 4], 'weight': 6}),\n",
        " ('a9fa3', '72400', {'segments': [1, 4], 'weight': 12})]"
       ]
      }
     ],
     "prompt_number": 33
    },
    {
     "cell_type": "code",
     "collapsed": false,
     "input": [
      "r.condensed_graph.edges(data=True)"
     ],
     "language": "python",
     "metadata": {},
     "outputs": [
      {
       "metadata": {},
       "output_type": "pyout",
       "prompt_number": 34,
       "text": [
        "[('925a1', '206bd', {'segments': [1, 4], 'weight': 12}),\n",
        " ('925a1', 'e1670', {'segments': [1, 4], 'weight': 11}),\n",
        " ('925a1', 'a9fa3', {'segments': [1, 4], 'weight': 9}),\n",
        " ('e1670', '77e18', {'segments': [1, 4], 'weight': 7}),\n",
        " ('3d872', '4e776', {'segments': [1, 4], 'weight': 10}),\n",
        " ('72400', '5d42b', {'segments': [1, 4], 'weight': 12}),\n",
        " ('72400', 'fe843', {'segments': [1, 4], 'weight': 11}),\n",
        " ('a9fa3', 'f0070', {'segments': [1, 4], 'weight': 6}),\n",
        " ('a9fa3', '72400', {'segments': [1, 4], 'weight': 12})]"
       ]
      }
     ],
     "prompt_number": 34
    },
    {
     "cell_type": "markdown",
     "metadata": {},
     "source": [
      "# Experiment with Accuracy Metrics"
     ]
    },
    {
     "cell_type": "code",
     "collapsed": false,
     "input": [
      "matching_edges = 0\n",
      "total_edges = len(s.relabeled_transmission_graph.edges())\n",
      "for edge in r.condensed_graph.edges(data=True):\n",
      "    if edge in s.relabeled_transmission_graph.edges(data=True):\n",
      "        matching_edges += 1\n",
      "        \n",
      "\n",
      "int(float(matching_edges) / total_edges * 100)"
     ],
     "language": "python",
     "metadata": {},
     "outputs": [
      {
       "metadata": {},
       "output_type": "pyout",
       "prompt_number": 35,
       "text": [
        "100"
       ]
      }
     ],
     "prompt_number": 35
    },
    {
     "cell_type": "code",
     "collapsed": false,
     "input": [
      "# This has been implemented in the prototype functions below.\n",
      "# float(len(r.identify_reassortants()))/float(len(s.identify_reassortants()))"
     ],
     "language": "python",
     "metadata": {},
     "outputs": [],
     "prompt_number": 36
    },
    {
     "cell_type": "code",
     "collapsed": false,
     "input": [
      "# Prototype for the functions.\n",
      "def reassortant_accuracy(simulation, reconstruction):\n",
      "    num_simulation_reassortants = float(len(simulation.identify_reassortants()))\n",
      "    num_reconstruction_reassortants = float(len(reconstruction.identify_reassortants()))\n",
      "    \n",
      "    if num_simulation_reassortants == 0:\n",
      "        return 'No reassortants present in simulation.'\n",
      "    else:\n",
      "        return num_reconstruction_reassortants / num_simulation_reassortants\n",
      "    \n",
      "def transmission_edge_accuracy(simulation, reconstruction):\n",
      "    matching_edges = 0\n",
      "    total_edges = len(simulation.relabeled_transmission_graph.edges())\n",
      "    \n",
      "    for edge in reconstruction.condensed_graph.edges(data=True):\n",
      "        if edge in simulation.relabeled_transmission_graph.edges(data=True):\n",
      "            matching_edges += 1\n",
      "            \n",
      "    return float(matching_edges) / total_edges\n",
      "\n",
      "def transmission_path_accuracy(simulation, reconstruction):\n",
      "    \"\"\"\n",
      "    The accuracy of transmission paths is the number of accurate paths found \n",
      "    divided by the number of paths being considered.\n",
      "    \"\"\"\n",
      "    num_paths = 0\n",
      "    accurate_paths = 0\n",
      "    \n",
      "    for edge in reconstruction.condensed_graph.edges():\n",
      "        if simulation.transmission_path_exists(edge[0], edge[1]):\n",
      "            num_paths += 1\n",
      "            accurate_paths += 1\n",
      "        else:\n",
      "            num_paths += 1\n",
      "    \n",
      "    return float(accurate_paths)/num_paths"
     ],
     "language": "python",
     "metadata": {},
     "outputs": [],
     "prompt_number": 37
    },
    {
     "cell_type": "code",
     "collapsed": false,
     "input": [
      "s.identify_full_transmission_paths()\n",
      "print reassortant_accuracy(s, r)\n",
      "print transmission_edge_accuracy(s, r)\n",
      "print transmission_path_accuracy(s, r)"
     ],
     "language": "python",
     "metadata": {},
     "outputs": [
      {
       "output_type": "stream",
       "stream": "stdout",
       "text": [
        "0.0\n",
        "1.0\n"
       ]
      },
      {
       "ename": "AttributeError",
       "evalue": "'ViralSimulator' object has no attribute 'path_exists'",
       "output_type": "pyerr",
       "traceback": [
        "\u001b[0;31m---------------------------------------------------------------------------\u001b[0m\n\u001b[0;31mAttributeError\u001b[0m                            Traceback (most recent call last)",
        "\u001b[0;32m<ipython-input-38-fdd817f3d440>\u001b[0m in \u001b[0;36m<module>\u001b[0;34m()\u001b[0m\n\u001b[1;32m      2\u001b[0m \u001b[0;32mprint\u001b[0m \u001b[0mreassortant_accuracy\u001b[0m\u001b[0;34m(\u001b[0m\u001b[0ms\u001b[0m\u001b[0;34m,\u001b[0m \u001b[0mr\u001b[0m\u001b[0;34m)\u001b[0m\u001b[0;34m\u001b[0m\u001b[0m\n\u001b[1;32m      3\u001b[0m \u001b[0;32mprint\u001b[0m \u001b[0mtransmission_edge_accuracy\u001b[0m\u001b[0;34m(\u001b[0m\u001b[0ms\u001b[0m\u001b[0;34m,\u001b[0m \u001b[0mr\u001b[0m\u001b[0;34m)\u001b[0m\u001b[0;34m\u001b[0m\u001b[0m\n\u001b[0;32m----> 4\u001b[0;31m \u001b[0;32mprint\u001b[0m \u001b[0mtransmission_path_accuracy\u001b[0m\u001b[0;34m(\u001b[0m\u001b[0ms\u001b[0m\u001b[0;34m,\u001b[0m \u001b[0mr\u001b[0m\u001b[0;34m)\u001b[0m\u001b[0;34m\u001b[0m\u001b[0m\n\u001b[0m",
        "\u001b[0;32m<ipython-input-37-da6565865a24>\u001b[0m in \u001b[0;36mtransmission_path_accuracy\u001b[0;34m(simulation, reconstruction)\u001b[0m\n\u001b[1;32m     28\u001b[0m \u001b[0;34m\u001b[0m\u001b[0m\n\u001b[1;32m     29\u001b[0m     \u001b[0;32mfor\u001b[0m \u001b[0medge\u001b[0m \u001b[0;32min\u001b[0m \u001b[0mreconstruction\u001b[0m\u001b[0;34m.\u001b[0m\u001b[0mcondensed_graph\u001b[0m\u001b[0;34m.\u001b[0m\u001b[0medges\u001b[0m\u001b[0;34m(\u001b[0m\u001b[0;34m)\u001b[0m\u001b[0;34m:\u001b[0m\u001b[0;34m\u001b[0m\u001b[0m\n\u001b[0;32m---> 30\u001b[0;31m         \u001b[0;32mif\u001b[0m \u001b[0msimulation\u001b[0m\u001b[0;34m.\u001b[0m\u001b[0mpath_exists\u001b[0m\u001b[0;34m(\u001b[0m\u001b[0medge\u001b[0m\u001b[0;34m[\u001b[0m\u001b[0;36m0\u001b[0m\u001b[0;34m]\u001b[0m\u001b[0;34m,\u001b[0m \u001b[0medge\u001b[0m\u001b[0;34m[\u001b[0m\u001b[0;36m1\u001b[0m\u001b[0;34m]\u001b[0m\u001b[0;34m)\u001b[0m\u001b[0;34m:\u001b[0m\u001b[0;34m\u001b[0m\u001b[0m\n\u001b[0m\u001b[1;32m     31\u001b[0m             \u001b[0mnum_paths\u001b[0m \u001b[0;34m+=\u001b[0m \u001b[0;36m1\u001b[0m\u001b[0;34m\u001b[0m\u001b[0m\n\u001b[1;32m     32\u001b[0m             \u001b[0maccurate_paths\u001b[0m \u001b[0;34m+=\u001b[0m \u001b[0;36m1\u001b[0m\u001b[0;34m\u001b[0m\u001b[0m\n",
        "\u001b[0;31mAttributeError\u001b[0m: 'ViralSimulator' object has no attribute 'path_exists'"
       ]
      }
     ],
     "prompt_number": 38
    },
    {
     "cell_type": "markdown",
     "metadata": {},
     "source": [
      "# Test path_exists(node1, node2) function"
     ]
    },
    {
     "cell_type": "code",
     "collapsed": false,
     "input": [
      "# 1 July 2014 - API Change so the following path_exist(node1, node2) code does not stand. \n",
      "# Segment number has to be specified in order for it to stand.\n",
      "# s.path_exists('b90bb', '3d39c')"
     ],
     "language": "python",
     "metadata": {},
     "outputs": []
    },
    {
     "cell_type": "code",
     "collapsed": false,
     "input": [
      "s.relabeled_transmission_graph.nodes()"
     ],
     "language": "python",
     "metadata": {},
     "outputs": []
    },
    {
     "cell_type": "code",
     "collapsed": false,
     "input": [
      "# s.path_exists('2851c', '09001')"
     ],
     "language": "python",
     "metadata": {},
     "outputs": []
    },
    {
     "cell_type": "code",
     "collapsed": false,
     "input": [],
     "language": "python",
     "metadata": {},
     "outputs": []
    }
   ],
   "metadata": {}
  }
 ]
}