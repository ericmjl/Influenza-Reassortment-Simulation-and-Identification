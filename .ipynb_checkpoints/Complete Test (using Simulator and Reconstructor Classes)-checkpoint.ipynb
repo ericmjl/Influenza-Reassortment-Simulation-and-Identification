{
 "metadata": {
  "name": "",
  "signature": "sha256:c03bfa5e1f688779d071d325ddd4170d25c76b4db67c776f04c3b61eb1fddddd"
 },
 "nbformat": 3,
 "nbformat_minor": 0,
 "worksheets": [
  {
   "cells": [
    {
     "cell_type": "code",
     "collapsed": false,
     "input": [
      "from pathogen import Pathogen\n",
      "from segment import Segment\n",
      "from sequence import Sequence\n",
      "from simulator import Simulator"
     ],
     "language": "python",
     "metadata": {},
     "outputs": [],
     "prompt_number": 43
    },
    {
     "cell_type": "code",
     "collapsed": false,
     "input": [
      "# Initialize sequences\n",
      "sequence_PB2 = Sequence(length=1000) #this is representative of segment 1, PB2\n",
      "sequence_H1 = Sequence(length=1000) #this is representative of segment 4, H1\n",
      "sequence_H2 = Sequence(length=1000) #this is representative of segment 4, H2"
     ],
     "language": "python",
     "metadata": {},
     "outputs": [],
     "prompt_number": 44
    },
    {
     "cell_type": "code",
     "collapsed": false,
     "input": [
      "# Initialize segments\n",
      "segment_PB2 = Segment(segment_number=1, substitution_rate=1E-3, sequence=sequence_PB2)\n",
      "segment_H1 = Segment(segment_number=4, substitution_rate=1E-2, sequence=sequence_H1)\n",
      "segment_H2 = Segment(segment_number=4, substitution_rate=1E-2, sequence=sequence_H2)"
     ],
     "language": "python",
     "metadata": {},
     "outputs": [],
     "prompt_number": 45
    },
    {
     "cell_type": "code",
     "collapsed": false,
     "input": [
      "# Add segments to seed viruses\n",
      "virus_H1 = Pathogen(segments=[segment_PB2, segment_H1], creation_time=0, progeny_size=(1.2, 0.5))\n",
      "virus_H2 = Pathogen(segments=[segment_PB2, segment_H2], creation_time=0, progeny_size=(1.2, 0.5))"
     ],
     "language": "python",
     "metadata": {},
     "outputs": [],
     "prompt_number": 46
    },
    {
     "cell_type": "code",
     "collapsed": false,
     "input": [
      "# Subclass the Simulator class for a specific implementation of the increment_timestep() function.\n",
      "from random import random, choice, sample\n",
      "class ViralSimulator(Simulator):\n",
      "    \n",
      "    def increment_timestep(self):\n",
      "        cointoss = random()\n",
      "        threshold = 0.8\n",
      "        \n",
      "        if cointoss <= threshold:\n",
      "            chosen_virus = choice(self.pathogens)\n",
      "            new_virus = chosen_virus.replicate(current_time=self.current_time)\n",
      "            \n",
      "        if cointoss > threshold:\n",
      "            [virus1, virus2] = sample(self.pathogens, 2)\n",
      "            new_virus = virus1.reassort_with(virus2, current_time=self.current_time)\n",
      "        \n",
      "        self.pathogens.append(new_virus)"
     ],
     "language": "python",
     "metadata": {},
     "outputs": [],
     "prompt_number": 47
    },
    {
     "cell_type": "code",
     "collapsed": false,
     "input": [
      "s = ViralSimulator()"
     ],
     "language": "python",
     "metadata": {},
     "outputs": [],
     "prompt_number": 48
    },
    {
     "cell_type": "code",
     "collapsed": false,
     "input": [
      "s.add_pathogens([virus_H1, virus_H2])"
     ],
     "language": "python",
     "metadata": {},
     "outputs": [],
     "prompt_number": 49
    },
    {
     "cell_type": "code",
     "collapsed": false,
     "input": [
      "s.run(timesteps=10)"
     ],
     "language": "python",
     "metadata": {},
     "outputs": [
      {
       "output_type": "stream",
       "stream": "stdout",
       "text": [
        "{3ce97: [1, 4]}\n",
        "{2be07: [1, 4]}\n",
        "{48a1b: [1, 4]}\n",
        "{48a1b: [1, 4]}\n",
        "{e95e5: [1, 4]}\n",
        "{e95e5: [1, 4]}\n"
       ]
      }
     ],
     "prompt_number": 50
    },
    {
     "cell_type": "code",
     "collapsed": false,
     "input": [
      "s.write_transmission_graph(outfile_name=\"outfile_test\", folder_name='Network Pickles')"
     ],
     "language": "python",
     "metadata": {},
     "outputs": [],
     "prompt_number": 51
    },
    {
     "cell_type": "code",
     "collapsed": false,
     "input": [
      "s.write_sequences(outfile_name=\"outfile_test\", folder_name='FASTA Files')"
     ],
     "language": "python",
     "metadata": {},
     "outputs": [],
     "prompt_number": 52
    },
    {
     "cell_type": "code",
     "collapsed": false,
     "input": [
      "s.transmission_graph().nodes(data=True)"
     ],
     "language": "python",
     "metadata": {},
     "outputs": [
      {
       "metadata": {},
       "output_type": "pyout",
       "prompt_number": 53,
       "text": [
        "[(e95e5, {'creation_time': 2}),\n",
        " (48a1b, {'creation_time': 1}),\n",
        " (bbaed, {'creation_time': 8}),\n",
        " (a8ec9, {'creation_time': 3}),\n",
        " (2be07, {'creation_time': 0}),\n",
        " (034ea, {'creation_time': 9}),\n",
        " (3ce97, {'creation_time': 0}),\n",
        " (03742, {'creation_time': 5}),\n",
        " (63424, {'creation_time': 6}),\n",
        " (f1685, {'creation_time': 4}),\n",
        " (cfc86, {'creation_time': 7})]"
       ]
      }
     ],
     "prompt_number": 53
    },
    {
     "cell_type": "markdown",
     "metadata": {},
     "source": [
      "# Prototype code for Reconstructor class"
     ]
    },
    {
     "cell_type": "code",
     "collapsed": false,
     "input": [
      "from Bio import SeqIO"
     ],
     "language": "python",
     "metadata": {},
     "outputs": [],
     "prompt_number": 54
    },
    {
     "cell_type": "code",
     "collapsed": false,
     "input": [
      "# Initialize a dictionary that contains all of the sequences, split by segment.\n",
      "sequences_dictionary = dict()\n",
      "sequences_dictionary[1] = []\n",
      "sequences_dictionary[4] = []\n",
      "sequences_dictionary"
     ],
     "language": "python",
     "metadata": {},
     "outputs": [
      {
       "metadata": {},
       "output_type": "pyout",
       "prompt_number": 55,
       "text": [
        "{1: [], 4: []}"
       ]
      }
     ],
     "prompt_number": 55
    },
    {
     "cell_type": "code",
     "collapsed": false,
     "input": [
      "# Read in the sequences\n",
      "sequences = [record for record in SeqIO.parse('FASTA Files/outfile_test.fasta', 'fasta')]\n",
      "sequences"
     ],
     "language": "python",
     "metadata": {},
     "outputs": [
      {
       "metadata": {},
       "output_type": "pyout",
       "prompt_number": 56,
       "text": [
        "[SeqRecord(seq=Seq('GTCATAAGTCACTCGAGCTTCGTTCCCCAACCCGTGAATATCAACCACAATAAG...ATG', SingleLetterAlphabet()), id='2be07c3f9d23f933cc3d15cecd3512305380d2dae9b6184e4695d6e31fbec408cf8bd68ef8acad30f271178b5292dedcbcdf304e9e3ba4d2f6855358cdb52be1|1|0', name='2be07c3f9d23f933cc3d15cecd3512305380d2dae9b6184e4695d6e31fbec408cf8bd68ef8acad30f271178b5292dedcbcdf304e9e3ba4d2f6855358cdb52be1|1|0', description='2be07c3f9d23f933cc3d15cecd3512305380d2dae9b6184e4695d6e31fbec408cf8bd68ef8acad30f271178b5292dedcbcdf304e9e3ba4d2f6855358cdb52be1|1|0 <unknown description>', dbxrefs=[]),\n",
        " SeqRecord(seq=Seq('GAACCTTTGGGAACCATAACAATCTTTTGCACATAAGAGTCCGAGAAGCCTTTC...AGG', SingleLetterAlphabet()), id='2be07c3f9d23f933cc3d15cecd3512305380d2dae9b6184e4695d6e31fbec408cf8bd68ef8acad30f271178b5292dedcbcdf304e9e3ba4d2f6855358cdb52be1|4|0', name='2be07c3f9d23f933cc3d15cecd3512305380d2dae9b6184e4695d6e31fbec408cf8bd68ef8acad30f271178b5292dedcbcdf304e9e3ba4d2f6855358cdb52be1|4|0', description='2be07c3f9d23f933cc3d15cecd3512305380d2dae9b6184e4695d6e31fbec408cf8bd68ef8acad30f271178b5292dedcbcdf304e9e3ba4d2f6855358cdb52be1|4|0 <unknown description>', dbxrefs=[]),\n",
        " SeqRecord(seq=Seq('GTCATAAGTCACTCGAGCTTCGTTCCCCAACCCGTGAATATCAACCACAATAAG...ATG', SingleLetterAlphabet()), id='3ce976a3c9729ee0ff0bc13471b0deac84ccb1b66628049d10f037cae21b05c194e43c6f02454822567cc3178e37716fbf2a3d4930b98fd39bf0833ee5e12d82|1|0', name='3ce976a3c9729ee0ff0bc13471b0deac84ccb1b66628049d10f037cae21b05c194e43c6f02454822567cc3178e37716fbf2a3d4930b98fd39bf0833ee5e12d82|1|0', description='3ce976a3c9729ee0ff0bc13471b0deac84ccb1b66628049d10f037cae21b05c194e43c6f02454822567cc3178e37716fbf2a3d4930b98fd39bf0833ee5e12d82|1|0 <unknown description>', dbxrefs=[]),\n",
        " SeqRecord(seq=Seq('GGCATATAAACAGGCAGTCGTCAGAATCCCCCTCTTATGAGTGAGGTCATTCGA...TGA', SingleLetterAlphabet()), id='3ce976a3c9729ee0ff0bc13471b0deac84ccb1b66628049d10f037cae21b05c194e43c6f02454822567cc3178e37716fbf2a3d4930b98fd39bf0833ee5e12d82|4|0', name='3ce976a3c9729ee0ff0bc13471b0deac84ccb1b66628049d10f037cae21b05c194e43c6f02454822567cc3178e37716fbf2a3d4930b98fd39bf0833ee5e12d82|4|0', description='3ce976a3c9729ee0ff0bc13471b0deac84ccb1b66628049d10f037cae21b05c194e43c6f02454822567cc3178e37716fbf2a3d4930b98fd39bf0833ee5e12d82|4|0 <unknown description>', dbxrefs=[]),\n",
        " SeqRecord(seq=Seq('GTCATAAGTCACTCGAGCTTCGTTCCCCAACCCGTGAATATCAACCACAATAAG...ATG', SingleLetterAlphabet()), id='48a1bc04be44499fb7a278300144ca048548cc344b98ed18e229b663d7e92c1e2475b364cbb99fc51c0cfde6e6d913b8d9590402dacc9f95f832d16ad552b0da|1|1', name='48a1bc04be44499fb7a278300144ca048548cc344b98ed18e229b663d7e92c1e2475b364cbb99fc51c0cfde6e6d913b8d9590402dacc9f95f832d16ad552b0da|1|1', description='48a1bc04be44499fb7a278300144ca048548cc344b98ed18e229b663d7e92c1e2475b364cbb99fc51c0cfde6e6d913b8d9590402dacc9f95f832d16ad552b0da|1|1 <unknown description>', dbxrefs=[]),\n",
        " SeqRecord(seq=Seq('GGACCTTTGGGAACCATAACAATCTTTTGCACATAAGAGTCCGAGAAGCCTTTC...AGG', SingleLetterAlphabet()), id='48a1bc04be44499fb7a278300144ca048548cc344b98ed18e229b663d7e92c1e2475b364cbb99fc51c0cfde6e6d913b8d9590402dacc9f95f832d16ad552b0da|4|1', name='48a1bc04be44499fb7a278300144ca048548cc344b98ed18e229b663d7e92c1e2475b364cbb99fc51c0cfde6e6d913b8d9590402dacc9f95f832d16ad552b0da|4|1', description='48a1bc04be44499fb7a278300144ca048548cc344b98ed18e229b663d7e92c1e2475b364cbb99fc51c0cfde6e6d913b8d9590402dacc9f95f832d16ad552b0da|4|1 <unknown description>', dbxrefs=[]),\n",
        " SeqRecord(seq=Seq('GTCATAAGTCACTCGAGCTTCGTTCCCCAACCCGTGAATATCAACCACAATAAG...ATG', SingleLetterAlphabet()), id='e95e5bd58be4176e9654604b880309ccce60a38f1771dd68fd167fd6ffaf70a0ca96fd9bb5ea8334644250e56c1fa5b4ea5f13286c4c4837ee19d42eba77137d|1|2', name='e95e5bd58be4176e9654604b880309ccce60a38f1771dd68fd167fd6ffaf70a0ca96fd9bb5ea8334644250e56c1fa5b4ea5f13286c4c4837ee19d42eba77137d|1|2', description='e95e5bd58be4176e9654604b880309ccce60a38f1771dd68fd167fd6ffaf70a0ca96fd9bb5ea8334644250e56c1fa5b4ea5f13286c4c4837ee19d42eba77137d|1|2 <unknown description>', dbxrefs=[]),\n",
        " SeqRecord(seq=Seq('GGCATATAAACAGGCAGTCGTCAGAATCCCCCTCTTATGAGTGAGGTCATTCGA...TGA', SingleLetterAlphabet()), id='e95e5bd58be4176e9654604b880309ccce60a38f1771dd68fd167fd6ffaf70a0ca96fd9bb5ea8334644250e56c1fa5b4ea5f13286c4c4837ee19d42eba77137d|4|2', name='e95e5bd58be4176e9654604b880309ccce60a38f1771dd68fd167fd6ffaf70a0ca96fd9bb5ea8334644250e56c1fa5b4ea5f13286c4c4837ee19d42eba77137d|4|2', description='e95e5bd58be4176e9654604b880309ccce60a38f1771dd68fd167fd6ffaf70a0ca96fd9bb5ea8334644250e56c1fa5b4ea5f13286c4c4837ee19d42eba77137d|4|2 <unknown description>', dbxrefs=[]),\n",
        " SeqRecord(seq=Seq('GTCATAAGTCACTCTAGCTTCGTTCCCCAACCCGTGAATATCAACCACAATAAG...ATG', SingleLetterAlphabet()), id='a8ec97aac46e73ece2d4e3f6e963dd41496ae0e538d1ec7cd8a99baec3a7ac60b38e437423f1e56ef14828d66aa06a8671f4fa5e558c1c1b4ea2610b79bda94b|1|3', name='a8ec97aac46e73ece2d4e3f6e963dd41496ae0e538d1ec7cd8a99baec3a7ac60b38e437423f1e56ef14828d66aa06a8671f4fa5e558c1c1b4ea2610b79bda94b|1|3', description='a8ec97aac46e73ece2d4e3f6e963dd41496ae0e538d1ec7cd8a99baec3a7ac60b38e437423f1e56ef14828d66aa06a8671f4fa5e558c1c1b4ea2610b79bda94b|1|3 <unknown description>', dbxrefs=[]),\n",
        " SeqRecord(seq=Seq('GAACCTTTGGGAACCATAACAATCTTTTGCACATAAGAGTCCGAGAAGCCTTTC...AGG', SingleLetterAlphabet()), id='a8ec97aac46e73ece2d4e3f6e963dd41496ae0e538d1ec7cd8a99baec3a7ac60b38e437423f1e56ef14828d66aa06a8671f4fa5e558c1c1b4ea2610b79bda94b|4|3', name='a8ec97aac46e73ece2d4e3f6e963dd41496ae0e538d1ec7cd8a99baec3a7ac60b38e437423f1e56ef14828d66aa06a8671f4fa5e558c1c1b4ea2610b79bda94b|4|3', description='a8ec97aac46e73ece2d4e3f6e963dd41496ae0e538d1ec7cd8a99baec3a7ac60b38e437423f1e56ef14828d66aa06a8671f4fa5e558c1c1b4ea2610b79bda94b|4|3 <unknown description>', dbxrefs=[]),\n",
        " SeqRecord(seq=Seq('GTCATAAGTCACTCGAGCTTCGTTCCCCAACCCGTGAATATCAACCACAATAAG...ATG', SingleLetterAlphabet()), id='f1685f7e88bb2a0bc0b7a17b1dfacd85d2628f57ddef052e53a173b5ac72ddbcf7db4326d569f7b4951960aca8395817ce22eff67bd36e1861d29a851ca129c9|1|4', name='f1685f7e88bb2a0bc0b7a17b1dfacd85d2628f57ddef052e53a173b5ac72ddbcf7db4326d569f7b4951960aca8395817ce22eff67bd36e1861d29a851ca129c9|1|4', description='f1685f7e88bb2a0bc0b7a17b1dfacd85d2628f57ddef052e53a173b5ac72ddbcf7db4326d569f7b4951960aca8395817ce22eff67bd36e1861d29a851ca129c9|1|4 <unknown description>', dbxrefs=[]),\n",
        " SeqRecord(seq=Seq('GGACCTTTGGGAACCATAACAATCTTTTGCACATAAGAGTCCGAGAAGTCTTTC...AGG', SingleLetterAlphabet()), id='f1685f7e88bb2a0bc0b7a17b1dfacd85d2628f57ddef052e53a173b5ac72ddbcf7db4326d569f7b4951960aca8395817ce22eff67bd36e1861d29a851ca129c9|4|4', name='f1685f7e88bb2a0bc0b7a17b1dfacd85d2628f57ddef052e53a173b5ac72ddbcf7db4326d569f7b4951960aca8395817ce22eff67bd36e1861d29a851ca129c9|4|4', description='f1685f7e88bb2a0bc0b7a17b1dfacd85d2628f57ddef052e53a173b5ac72ddbcf7db4326d569f7b4951960aca8395817ce22eff67bd36e1861d29a851ca129c9|4|4 <unknown description>', dbxrefs=[]),\n",
        " SeqRecord(seq=Seq('GTCATAAGTCACTCGAGCTTCGTTCCCCAACCCGTGAATATCAACCACAATAGG...ATG', SingleLetterAlphabet()), id='03742e61eb3c6055c89000e136562598802c5a311f7943e9a839291e8d9a10321c678f9a30d7595b3a580dd0dc4ff97ec1284ac3ae055411619fa3aadd2e09e3|1|5', name='03742e61eb3c6055c89000e136562598802c5a311f7943e9a839291e8d9a10321c678f9a30d7595b3a580dd0dc4ff97ec1284ac3ae055411619fa3aadd2e09e3|1|5', description='03742e61eb3c6055c89000e136562598802c5a311f7943e9a839291e8d9a10321c678f9a30d7595b3a580dd0dc4ff97ec1284ac3ae055411619fa3aadd2e09e3|1|5 <unknown description>', dbxrefs=[]),\n",
        " SeqRecord(seq=Seq('GGACCTTTGGGAACCATAACAATCTTTTACACATAAGAGTCCGAGAAGCCTTTC...AGG', SingleLetterAlphabet()), id='03742e61eb3c6055c89000e136562598802c5a311f7943e9a839291e8d9a10321c678f9a30d7595b3a580dd0dc4ff97ec1284ac3ae055411619fa3aadd2e09e3|4|5', name='03742e61eb3c6055c89000e136562598802c5a311f7943e9a839291e8d9a10321c678f9a30d7595b3a580dd0dc4ff97ec1284ac3ae055411619fa3aadd2e09e3|4|5', description='03742e61eb3c6055c89000e136562598802c5a311f7943e9a839291e8d9a10321c678f9a30d7595b3a580dd0dc4ff97ec1284ac3ae055411619fa3aadd2e09e3|4|5 <unknown description>', dbxrefs=[]),\n",
        " SeqRecord(seq=Seq('GTCATAAGTCACTCGAGCTTCGTTCCCCAACCCGTGAATATCAACCACAATAAG...ATG', SingleLetterAlphabet()), id='634246bd1d1843b59c5244a9ebeae3e650480482e7734abc205d6a2f7c622115c6dad76fcddbeadaabf27531da128ae17acf59055ab44a66191e4a145d8eb211|1|6', name='634246bd1d1843b59c5244a9ebeae3e650480482e7734abc205d6a2f7c622115c6dad76fcddbeadaabf27531da128ae17acf59055ab44a66191e4a145d8eb211|1|6', description='634246bd1d1843b59c5244a9ebeae3e650480482e7734abc205d6a2f7c622115c6dad76fcddbeadaabf27531da128ae17acf59055ab44a66191e4a145d8eb211|1|6 <unknown description>', dbxrefs=[]),\n",
        " SeqRecord(seq=Seq('GGCATATAAACAGGCAGTCGTCAGAATCCCCCTCTTATGAGTGAGGTCATTCGA...TGA', SingleLetterAlphabet()), id='634246bd1d1843b59c5244a9ebeae3e650480482e7734abc205d6a2f7c622115c6dad76fcddbeadaabf27531da128ae17acf59055ab44a66191e4a145d8eb211|4|6', name='634246bd1d1843b59c5244a9ebeae3e650480482e7734abc205d6a2f7c622115c6dad76fcddbeadaabf27531da128ae17acf59055ab44a66191e4a145d8eb211|4|6', description='634246bd1d1843b59c5244a9ebeae3e650480482e7734abc205d6a2f7c622115c6dad76fcddbeadaabf27531da128ae17acf59055ab44a66191e4a145d8eb211|4|6 <unknown description>', dbxrefs=[]),\n",
        " SeqRecord(seq=Seq('GTCATAAGTCACTCTAGCTTCGTTCCCCAACCCGTGAATATCAACCACAATAAG...ATG', SingleLetterAlphabet()), id='cfc861baf113c279dadbcd911199367aaa13859aeb6d68ba810b73cecd671dc7496e54fe03561973a1d3462d2927794730811b4ba7ba64af292190d7ef65ed79|1|7', name='cfc861baf113c279dadbcd911199367aaa13859aeb6d68ba810b73cecd671dc7496e54fe03561973a1d3462d2927794730811b4ba7ba64af292190d7ef65ed79|1|7', description='cfc861baf113c279dadbcd911199367aaa13859aeb6d68ba810b73cecd671dc7496e54fe03561973a1d3462d2927794730811b4ba7ba64af292190d7ef65ed79|1|7 <unknown description>', dbxrefs=[]),\n",
        " SeqRecord(seq=Seq('GGCATATAAACAGGCAGTCGTCAGAATCCCCCTATTATGAGTGAGGTCATTCGA...TGA', SingleLetterAlphabet()), id='cfc861baf113c279dadbcd911199367aaa13859aeb6d68ba810b73cecd671dc7496e54fe03561973a1d3462d2927794730811b4ba7ba64af292190d7ef65ed79|4|7', name='cfc861baf113c279dadbcd911199367aaa13859aeb6d68ba810b73cecd671dc7496e54fe03561973a1d3462d2927794730811b4ba7ba64af292190d7ef65ed79|4|7', description='cfc861baf113c279dadbcd911199367aaa13859aeb6d68ba810b73cecd671dc7496e54fe03561973a1d3462d2927794730811b4ba7ba64af292190d7ef65ed79|4|7 <unknown description>', dbxrefs=[]),\n",
        " SeqRecord(seq=Seq('GTCATAAGTCACTCGAGCTTCGTTCCCCAACCCGTGAATATCAACCACAATAAG...ATG', SingleLetterAlphabet()), id='bbaed76e164ab9327a3695dfa5ae4a2b7bcc12e8614d43aa5de2909da2c275800216ae190f58edaebeb3d7804d292b92b0fb1ff191ff17c257d1af7f50da4b91|1|8', name='bbaed76e164ab9327a3695dfa5ae4a2b7bcc12e8614d43aa5de2909da2c275800216ae190f58edaebeb3d7804d292b92b0fb1ff191ff17c257d1af7f50da4b91|1|8', description='bbaed76e164ab9327a3695dfa5ae4a2b7bcc12e8614d43aa5de2909da2c275800216ae190f58edaebeb3d7804d292b92b0fb1ff191ff17c257d1af7f50da4b91|1|8 <unknown description>', dbxrefs=[]),\n",
        " SeqRecord(seq=Seq('GGCATATAAACAGGCAGTCGTCAGAATCCCCCTATTATGATTGAGGTCATTCGA...TGA', SingleLetterAlphabet()), id='bbaed76e164ab9327a3695dfa5ae4a2b7bcc12e8614d43aa5de2909da2c275800216ae190f58edaebeb3d7804d292b92b0fb1ff191ff17c257d1af7f50da4b91|4|8', name='bbaed76e164ab9327a3695dfa5ae4a2b7bcc12e8614d43aa5de2909da2c275800216ae190f58edaebeb3d7804d292b92b0fb1ff191ff17c257d1af7f50da4b91|4|8', description='bbaed76e164ab9327a3695dfa5ae4a2b7bcc12e8614d43aa5de2909da2c275800216ae190f58edaebeb3d7804d292b92b0fb1ff191ff17c257d1af7f50da4b91|4|8 <unknown description>', dbxrefs=[]),\n",
        " SeqRecord(seq=Seq('GTCATAAGTCACTCGAGCTTCGTTCCCCAACCCGTGAATATCAACCACAATAAG...ATG', SingleLetterAlphabet()), id='034ea52d8a8b414e71e973119837740ac00a3e5c4fedf049eb01cc418742ae09c4e097fb2cb035b782f06df7351aa4e34ad22cb89ff04b5069cb09d16f778fe7|1|9', name='034ea52d8a8b414e71e973119837740ac00a3e5c4fedf049eb01cc418742ae09c4e097fb2cb035b782f06df7351aa4e34ad22cb89ff04b5069cb09d16f778fe7|1|9', description='034ea52d8a8b414e71e973119837740ac00a3e5c4fedf049eb01cc418742ae09c4e097fb2cb035b782f06df7351aa4e34ad22cb89ff04b5069cb09d16f778fe7|1|9 <unknown description>', dbxrefs=[]),\n",
        " SeqRecord(seq=Seq('GGCATATAAACAGGCAGTCGTCAGAATCCCTCTCTTATGAGTGAGGTCATTCGA...TGA', SingleLetterAlphabet()), id='034ea52d8a8b414e71e973119837740ac00a3e5c4fedf049eb01cc418742ae09c4e097fb2cb035b782f06df7351aa4e34ad22cb89ff04b5069cb09d16f778fe7|4|9', name='034ea52d8a8b414e71e973119837740ac00a3e5c4fedf049eb01cc418742ae09c4e097fb2cb035b782f06df7351aa4e34ad22cb89ff04b5069cb09d16f778fe7|4|9', description='034ea52d8a8b414e71e973119837740ac00a3e5c4fedf049eb01cc418742ae09c4e097fb2cb035b782f06df7351aa4e34ad22cb89ff04b5069cb09d16f778fe7|4|9 <unknown description>', dbxrefs=[])]"
       ]
      }
     ],
     "prompt_number": 56
    },
    {
     "cell_type": "code",
     "collapsed": false,
     "input": [
      "# Append the sequences to the dictionary.\n",
      "# This can be written into a function.\n",
      "split_char = '|' # The character that will be used to split the SeqRecord.id string\n",
      "pos_segment_num = 1 # The position of the segment number after splitting by the split_char\n",
      "\n",
      "for sequence in sequences:\n",
      "    segment_number = int(sequence.id.split(split_char)[pos_segment_num])\n",
      "    sequences_dictionary[segment_number].append(sequence)\n",
      "\n",
      "# sequences_dictionary"
     ],
     "language": "python",
     "metadata": {},
     "outputs": [],
     "prompt_number": 57
    },
    {
     "cell_type": "code",
     "collapsed": false,
     "input": [
      "# Create a NetworkX graph using one segment's sequences, and add nodes.\n",
      "import networkx as nx\n",
      "\n",
      "G = nx.DiGraph()\n",
      "\n",
      "splitchar = '|'\n",
      "pos_id = 0\n",
      "pos_segment_num = 1\n",
      "pos_creation_time = 2\n",
      "\n",
      "segment_number = 4\n",
      "\n",
      "for sequence in sequences_dictionary[segment_number]:\n",
      "    [isolate_id, segment_num, creation_time] = sequence.id.split(splitchar)\n",
      "    G.add_node(isolate_id[0:5], sequence=sequence.seq, id=isolate_id, segment_num=int(segment_num), creation_time=int(creation_time))\n",
      "\n",
      "# at this point, we would return G, and append it to the dictionary of Graphs available.\n",
      "# G.nodes(data=True)"
     ],
     "language": "python",
     "metadata": {},
     "outputs": [],
     "prompt_number": 58
    },
    {
     "cell_type": "code",
     "collapsed": false,
     "input": [
      "# Add edges to the graph, based on the Levenshtein distance between two sequences.\n",
      "import Levenshtein\n",
      "for node1 in G.nodes(data=True):\n",
      "    for node2 in G.nodes(data=True):\n",
      "        if node1[1]['creation_time'] < node2[1]['creation_time']:\n",
      "            weight = Levenshtein.distance(str(node1[1]['sequence']), str(node2[1]['sequence']))\n",
      "            G.add_edge(node1[0], node2[0], weight=weight)"
     ],
     "language": "python",
     "metadata": {},
     "outputs": [],
     "prompt_number": 59
    },
    {
     "cell_type": "code",
     "collapsed": false,
     "input": [
      "# Prune graph by distance.\n",
      "for node in G.nodes(data=True):\n",
      "    in_edges = G.in_edges(node[0], data=True)\n",
      "#     print in_edges\n",
      "    if len(in_edges) != 0:\n",
      "        min_weight = min([edge[2]['weight'] for edge in in_edges])\n",
      "        print min_weight\n",
      "        print node\n",
      "        for edge in in_edges:\n",
      "            if edge[2]['weight'] != min_weight:\n",
      "                G.remove_edge(edge[0], edge[1])"
     ],
     "language": "python",
     "metadata": {},
     "outputs": [
      {
       "output_type": "stream",
       "stream": "stdout",
       "text": [
        "9\n",
        "('a8ec9', {'segment_num': 4, 'creation_time': 3, 'id': 'a8ec97aac46e73ece2d4e3f6e963dd41496ae0e538d1ec7cd8a99baec3a7ac60b38e437423f1e56ef14828d66aa06a8671f4fa5e558c1c1b4ea2610b79bda94b', 'sequence': Seq('GAACCTTTGGGAACCATAACAATCTTTTGCACATAAGAGTCCGAGAAGCCTTTC...AGG', SingleLetterAlphabet())})\n",
        "12\n",
        "('63424', {'segment_num': 4, 'creation_time': 6, 'id': '634246bd1d1843b59c5244a9ebeae3e650480482e7734abc205d6a2f7c622115c6dad76fcddbeadaabf27531da128ae17acf59055ab44a66191e4a145d8eb211', 'sequence': Seq('GGCATATAAACAGGCAGTCGTCAGAATCCCCCTCTTATGAGTGAGGTCATTCGA...TGA', SingleLetterAlphabet())})\n",
        "14\n",
        "('48a1b', {'segment_num': 4, 'creation_time': 1, 'id': '48a1bc04be44499fb7a278300144ca048548cc344b98ed18e229b663d7e92c1e2475b364cbb99fc51c0cfde6e6d913b8d9590402dacc9f95f832d16ad552b0da', 'sequence': Seq('GGACCTTTGGGAACCATAACAATCTTTTGCACATAAGAGTCCGAGAAGCCTTTC...AGG', SingleLetterAlphabet())})\n",
        "9\n",
        "('bbaed', {'segment_num': 4, 'creation_time': 8, 'id': 'bbaed76e164ab9327a3695dfa5ae4a2b7bcc12e8614d43aa5de2909da2c275800216ae190f58edaebeb3d7804d292b92b0fb1ff191ff17c257d1af7f50da4b91', 'sequence': Seq('GGCATATAAACAGGCAGTCGTCAGAATCCCCCTATTATGATTGAGGTCATTCGA...TGA', SingleLetterAlphabet())})\n",
        "6\n",
        "('e95e5', {'segment_num': 4, 'creation_time': 2, 'id': 'e95e5bd58be4176e9654604b880309ccce60a38f1771dd68fd167fd6ffaf70a0ca96fd9bb5ea8334644250e56c1fa5b4ea5f13286c4c4837ee19d42eba77137d', 'sequence': Seq('GGCATATAAACAGGCAGTCGTCAGAATCCCCCTCTTATGAGTGAGGTCATTCGA...TGA', SingleLetterAlphabet())})\n",
        "9\n",
        "('034ea', {'segment_num': 4, 'creation_time': 9, 'id': '034ea52d8a8b414e71e973119837740ac00a3e5c4fedf049eb01cc418742ae09c4e097fb2cb035b782f06df7351aa4e34ad22cb89ff04b5069cb09d16f778fe7', 'sequence': Seq('GGCATATAAACAGGCAGTCGTCAGAATCCCTCTCTTATGAGTGAGGTCATTCGA...TGA', SingleLetterAlphabet())})\n",
        "8\n",
        "('cfc86', {'segment_num': 4, 'creation_time': 7, 'id': 'cfc861baf113c279dadbcd911199367aaa13859aeb6d68ba810b73cecd671dc7496e54fe03561973a1d3462d2927794730811b4ba7ba64af292190d7ef65ed79', 'sequence': Seq('GGCATATAAACAGGCAGTCGTCAGAATCCCCCTATTATGAGTGAGGTCATTCGA...TGA', SingleLetterAlphabet())})\n",
        "9\n",
        "('03742', {'segment_num': 4, 'creation_time': 5, 'id': '03742e61eb3c6055c89000e136562598802c5a311f7943e9a839291e8d9a10321c678f9a30d7595b3a580dd0dc4ff97ec1284ac3ae055411619fa3aadd2e09e3', 'sequence': Seq('GGACCTTTGGGAACCATAACAATCTTTTACACATAAGAGTCCGAGAAGCCTTTC...AGG', SingleLetterAlphabet())})\n",
        "9\n",
        "('f1685', {'segment_num': 4, 'creation_time': 4, 'id': 'f1685f7e88bb2a0bc0b7a17b1dfacd85d2628f57ddef052e53a173b5ac72ddbcf7db4326d569f7b4951960aca8395817ce22eff67bd36e1861d29a851ca129c9', 'sequence': Seq('GGACCTTTGGGAACCATAACAATCTTTTGCACATAAGAGTCCGAGAAGTCTTTC...AGG', SingleLetterAlphabet())})\n"
       ]
      }
     ],
     "prompt_number": 60
    },
    {
     "cell_type": "code",
     "collapsed": false,
     "input": [
      "nx.draw_circular(G)"
     ],
     "language": "python",
     "metadata": {},
     "outputs": [
      {
       "metadata": {},
       "output_type": "display_data",
       "png": "[encoded data removed]",
       "text": [
        "<matplotlib.figure.Figure at 0x10655c550>"
       ]
      }
     ],
     "prompt_number": 61
    },
    {
     "cell_type": "markdown",
     "metadata": {},
     "source": [
      "# Test Reconstructor Class"
     ]
    },
    {
     "cell_type": "code",
     "collapsed": false,
     "input": [
      "from reconstructor import Reconstructor\n",
      "import networkx as nx"
     ],
     "language": "python",
     "metadata": {},
     "outputs": [],
     "prompt_number": 62
    },
    {
     "cell_type": "code",
     "collapsed": false,
     "input": [
      "r = Reconstructor(segments=[1, 4])\n",
      "print r.sequences\n",
      "print r.graphs"
     ],
     "language": "python",
     "metadata": {},
     "outputs": [
      {
       "output_type": "stream",
       "stream": "stdout",
       "text": [
        "{1: [], 4: []}\n",
        "{1: <networkx.classes.digraph.DiGraph object at 0x1063ba850>, 4: <networkx.classes.digraph.DiGraph object at 0x1063ba1d0>}\n"
       ]
      }
     ],
     "prompt_number": 63
    },
    {
     "cell_type": "code",
     "collapsed": false,
     "input": [
      "fasta_file = 'FASTA Files/outfile_test.fasta'\n",
      "r.read_fasta_file(fasta_file)"
     ],
     "language": "python",
     "metadata": {},
     "outputs": [],
     "prompt_number": 64
    },
    {
     "cell_type": "code",
     "collapsed": false,
     "input": [
      "r.add_nodes_with_data()\n",
      "r.add_edges_with_weight()\n",
      "r.prune_graphs_by_weight()\n",
      "r.pruned_condensed_graph()"
     ],
     "language": "python",
     "metadata": {},
     "outputs": [
      {
       "metadata": {},
       "output_type": "pyout",
       "prompt_number": 65,
       "text": [
        "<networkx.classes.digraph.DiGraph at 0x106554a90>"
       ]
      }
     ],
     "prompt_number": 65
    },
    {
     "cell_type": "code",
     "collapsed": false,
     "input": [
      "r.condensed_graph().edges(data=True)"
     ],
     "language": "python",
     "metadata": {},
     "outputs": [
      {
       "metadata": {},
       "output_type": "pyout",
       "prompt_number": 66,
       "text": [
        "[('a8ec9', 'cfc86', {'segments': [1], 'weight': 1}),\n",
        " ('2be07', 'e95e5', {'segments': [1], 'weight': 1}),\n",
        " ('2be07', 'a8ec9', {'segments': [1, 4], 'weight': 12}),\n",
        " ('2be07', '48a1b', {'segments': [1, 4], 'weight': 14}),\n",
        " ('2be07', '03742', {'segments': [1], 'weight': 2}),\n",
        " ('2be07', 'f1685', {'segments': [1], 'weight': 1}),\n",
        " ('48a1b', 'e95e5', {'segments': [1], 'weight': 1}),\n",
        " ('48a1b', 'a8ec9', {'segments': [1], 'weight': 3}),\n",
        " ('48a1b', '03742', {'segments': [1, 4], 'weight': 11}),\n",
        " ('48a1b', 'f1685', {'segments': [1, 4], 'weight': 10}),\n",
        " ('e95e5', '034ea', {'segments': [1, 4], 'weight': 10}),\n",
        " ('e95e5', '63424', {'segments': [1, 4], 'weight': 14}),\n",
        " ('e95e5', 'cfc86', {'segments': [4], 'weight': 8}),\n",
        " ('cfc86', 'bbaed', {'segments': [4], 'weight': 9}),\n",
        " ('3ce97', 'e95e5', {'segments': [1, 4], 'weight': 7}),\n",
        " ('3ce97', 'a8ec9', {'segments': [1], 'weight': 3}),\n",
        " ('3ce97', '48a1b', {'segments': [1], 'weight': 0}),\n",
        " ('3ce97', '03742', {'segments': [1], 'weight': 2}),\n",
        " ('3ce97', 'f1685', {'segments': [1], 'weight': 1}),\n",
        " ('f1685', 'bbaed', {'segments': [1], 'weight': 2})]"
       ]
      }
     ],
     "prompt_number": 66
    },
    {
     "cell_type": "code",
     "collapsed": false,
     "input": [
      "r.condensed_graph().nodes(data=True)"
     ],
     "language": "python",
     "metadata": {},
     "outputs": [
      {
       "metadata": {},
       "output_type": "pyout",
       "prompt_number": 67,
       "text": [
        "[('a8ec9',\n",
        "  {'creation_time': '3',\n",
        "   'id': 'a8ec97aac46e73ece2d4e3f6e963dd41496ae0e538d1ec7cd8a99baec3a7ac60b38e437423f1e56ef14828d66aa06a8671f4fa5e558c1c1b4ea2610b79bda94b',\n",
        "   'segment_number': '4',\n",
        "   'sequence_1': 'GTCATAAGTCACTCTAGCTTCGTTCCCCAACCCGTGAATATCAACCACAATAAGGTTGAAGACCCCGCTTTCGCAGGTGTGTTGCCAGAGACATTTTAACGCAACGAGCCGGTATCAGTTTCTGAATGCGAGAGCAGTATATAGTGATAGTTTGGGGGTGTAAGGAACAGCTGCGACAGTGTTTCTAAAGTTTCCGGGAGTTCGTTGCGGAGCATGTCGTAGCTCGTCGGCGCACATGCACGGCTAATAGTTTAGCTGGCGTTAATGCCTGCGAACTAAGAGCTGGGATCTCTGGATGGGAGTTAGCCATGACTCGATGACGATTCGGTCACAATAAGCCAAAGGAACCCGAGATGTACGTTATAATTGACTAGCATCGATTCTCATACTCCTCACGATAGGTGTTAAGGAGTTCGATTCGGAAGAGTCATTGTGTCTCCATGAAGAGCCTTAGTCCCTGCCAACTCCTAACCGGTTAGGATGTGTAGATTCTACAACATGAAACTGCCCTTTGTTTCACTCAATTTCATTTTCTTGTACAGATGCCCCTCTAGCCCTTGAAGCCTCATGGATCCATGCTAACTAATGCGTAATTTTTTACCGACGCGTTTCCGTAGTACTCTGGGCTGGAAGATTGACGAAGCGGATGGTCCTTTACACGCCCCCTTTATGCTATTCCAGTCCGTCTTCGGCCCGTACTTTCTTGACATTACGAACACGGGATCGACTTGGTAATTCAATGCCTACCTCGACTTAGCAGACAATAGGTTACCCGCATCGCGAATAAAGAGCATGGACTATATGAAAGCAGGAGTTCCACTCGGCTATCGTAATTCTCCGGACCAGGCTAGCCAATAGTGACCATTTGGAGTTTTAAGGGGCCATCCCATAACATCCAGACTTCCTGATTGGAAAAACACTAACCTAGTGGGGATTCGATCTTATCGTAGGGTAGCCCTGTCTTGCTTGGTGAATGATATTGTGCGCCGCATATGGAATG',\n",
        "   'sequence_4': 'GAACCTTTGGGAACCATAACAATCTTTTGCACATAAGAGTCCGAGAAGCCTTTCGGGAGTCAGTTGGTGCAGGCTTTTGTCTGGGGTCCCCGAAAACTTACTGAAGGGCTTTTCCTTAGACAGCGGGTCTTAACACAACCGGAAATATTCATATCGGGTGGATTTTCGGCGCAAACTAGTCTTCGAGTTTTCCTTCAAAGGTAGCAAAGTCAATTTTTGGCTCGGTGTCAAGAGTTACTGCCTTCCAAGGTTCCCACCAACCGGGCCAATACGTTATGTCTTAGTCTTGATCGGAAAGTAGCTTAGGGGACAGACTAATCGCGGTTACTTCCATCCCACTCAAAGGGCTCTCCGTAATGCGGGTATGCCGTACACCACGCTAGGTTATTGCTTCCAGAACCTACGGAAGTGAACATGAAAGTCCCTAAGTCGGCTTCCCTTGAGTGCGACACTGCGATGAAGGGACCGTGGTCCTGAGTAAAACAGACGCAAAGGAGCCTCACGTCGAGCACGCCAAAAGTATCCGTATACTCCCAATGGGACCCGGGGGGCGCCAAGCAAGTATGAAGTACAGATTGGCAAACATCCCCCGCCATGGTTAGGCCCGCACATACGTTCTTTACGTCTAGTTCGCGATCATTAAACTCTCGCATCGTTCGGGAACAAACGTGCATCCCCCTCCCACTCCATCACTCGCGTGTGTCAGGTTAGAATCTAAGCTCTACAACGTATGTATTGTCAGACTATCTGACTAAAAGCAATACGAAGTGCTCAACCGAGCTTGCGGCCAGCATGACGCGGTCTGAAGCATGCCCCCAGCATCACACTTCTAATGTTCTTCACAACGAATCGTAGGCGTAACGTTCGACTTCGATTCATAAAATAACGCCTGCGGGATAGAGCCCAAGCCGGCCCTTCGCTCTAGTAGGAGATTGGACAAGTTGATCCCATACCTCTTGGTACTTGCCCATTCGCAAATCATGAGGTTGGCAAAGCAAGG'}),\n",
        " ('2be07',\n",
        "  {'creation_time': '0',\n",
        "   'id': '2be07c3f9d23f933cc3d15cecd3512305380d2dae9b6184e4695d6e31fbec408cf8bd68ef8acad30f271178b5292dedcbcdf304e9e3ba4d2f6855358cdb52be1',\n",
        "   'segment_number': '4',\n",
        "   'sequence_1': 'GTCATAAGTCACTCGAGCTTCGTTCCCCAACCCGTGAATATCAACCACAATAAGGTTGAAGACCCCGCTTTCGCAGGTGTGTTGCCAGAGACATTTTAACGCAACGAGCCTGTATCAGTTTCTGAATGCGAGAGCAGTATATAGTGATAGTTTGGGGGTGTAAGGAACAGCTGCGACAGTGTTTCTAAAGTTTCCGGGAGTTCGTTGCGGAGCATGTCGTAGCTCGTCGGCGCACATGCACGGCTAATAGTTTAGCTGGCGTTAATGCCTGCGAACTAAGAGCTGGGATCTCTGGATGGGAGTTAGCCCTGACTCGATGACGATTCGGTCACAATAAGCCAAAGGAACCCGAGATGTACGTTATAATTGACTAGCATCGATTCTCATACTCCTCACGATAGGTGTTAAGGAGTTCGATTCGGAAGAGTCATTGTGTCTCCATGAAGAGCCTTAGTCCCTGCCAACTCCTAACCGGTTAGGATGTGTAGATTCTACAACATGAAACTGCCCTTTGTTTCACTCAATTTCATTTTCTTGTACAGATGCCCCTCTAGCCCTTGAAGCCTCATGGATCCATGCTAACTAATGCGTAATTTTTTACCGACGCGTTTCCGTAGTACTCTGGGCTGGAAGATTGACGAAGCGGATGGTCCTTTACACGCCCCCTTTATGCTATTCCAGTCCGTCTTCGGCCCGTACTTTCTTGACATTACGAACACGGGATCGACTTGGTAATTCAATGCCTACCTCGACTTAGCAGACAATAGGTTACCCGCATCGCGAATAAAGAGCATGGACTATATGAAAGCAGGAGTTCCACTCGGCTATCGTAATTCTCCGGACCAGGCTAGCCAATAGTGACCATTTGGAGTTTTAAGGGGCCATCCCATAACATCCAGACTTCCTGATTGGAAAAACACTAACCTAGTGGGGATTCGATCTTATCGTAGGGTAGCCCTGTCTTGCTTGGTGAATGATATTGTGCGCCGCATATGGAATG',\n",
        "   'sequence_4': 'GAACCTTTGGGAACCATAACAATCTTTTGCACATAAGAGTCCGAGAAGCCTTTCGGGAGTCAGTTGGGGCAGGCTTTTGTCTGGGGTCCCCGAAAACTTACTGAAGGGCTTTTCCTTAGACAGCGGGTCTTAACACAACCGGAAATATTCATATCGGGTGGATTTCCGGCGCAAACTAGTCTTCGAGTTTTCCTTCAAAGGTAGCAAAGTCAATTTTTGGCTCGGTGTCAAGAGTTACTGCCTTCCAAGGTTCCCACCAACCGGGCCAATACGTTATGTCTTAGTCTTGATCGGAAAGTAGCTTAGGGGTCAGACTAATCGCGGTTACTTCCATCCCACTCAAAGGGCTCTCCGTAATGCGGGTATGCCGTACACCACGCTAGGTTATTGCTTCCAGAACCTACGGAAGTGAACATCAAAGTCCCTAAGTCGGCTTCCCTTGAGTGCGACACTGCGATGAAGGGACCGTGGTCCTGAGTAAAACAGACGCAAAGGAGCCTCACGTCGAGCACGCCAAAAGTATCCGTATACTCCCAATGGGACCCGGGGGGCGCCAAGCAAGTATGAAGTACAGATTGGCAAACATCCCCCGCCATGGTTAGGCCCGCACATACGTTCTTTACGTCTAGTTCGCGATCATTAAACTCTCGCATCGTTCGGGAACAAACGTGCCACCCCCTCCCGCTCCATCACTCGCGTGTGTCAGGTTAGAATCTAAGCTCTACAACGTATGTATTGTCAGACTATCTGACTAAAAGCAATACGAAGTGCTCAACCGAGCTTGCGGCCAGCATGACGCGGTCTGAAGCATGCCCCCAGCATCACACTTCTAATGTTCCTCACAACGAATCGTAGGCGTAACGTTCGACTTCGATTGATAAAATAACGCCTGCGGGATAGAGCCCAAGCCGGCCCTTCGCTCTAGTAGGAGATTGGACAAGTTGATCCCATACCTCTTGGTACTTGCCCATTCGCAAATCATGAGGTTGGCAAAGCAAGG'}),\n",
        " ('63424',\n",
        "  {'creation_time': '6',\n",
        "   'id': '634246bd1d1843b59c5244a9ebeae3e650480482e7734abc205d6a2f7c622115c6dad76fcddbeadaabf27531da128ae17acf59055ab44a66191e4a145d8eb211',\n",
        "   'segment_number': '4',\n",
        "   'sequence_1': 'GTCATAAGTCACTCGAGCTTCGTTCCCCAACCCGTGAATATCAACCACAATAAGGTTGAAGACCCCGCTTTCGCAGGTGTGTTGCCAGAGACATTTTAATGCAACGAGCCTGTATCAGTTTCTGAATGCGAGAGCAGTATATAGTGATAGTTTGGGGGTGTAAGGAACAGCTGCGACAGTGTTTCTAAAGTTTCCGGGAGTTCGTTGCGGAGCATGTCGTAGCTCGTCGGCGCACATGCACGGCTAATAGTTTAGCTGGCGTTAATGCCTGCGAACTAAGAGCTGGGATCTCTGGATGGGAGTTAGCCCTGACTCGATGACGATTCGGTCACAATAAGCCAAAGGAACCCGAGATGTACGTTATAATTGACTAGCATCGATTCTCATACTCCTCACGATTGGTGTTAAGGAGTTCGATTCGGAAGAGTCATTGTGTCTCCATGAAGAGCCTTAGTCCCTGCCAACTCCTAACCGGTTAGGATGTGTAGATTCTACAACATGAAACTGCCCTTTGTTTCACTCAATTTCATTTTCTTGTACAGATGCCCCTCTAGCCCTTGAAGCCTCATGGATCCATGCTAACTAATGCGTAATTTTTTACCGACGCGTTTCCGTAGTACTCTGGGCTGGAAGATTGACGAAGCGGATGGTCCTTTACACGCCCCCTTTAAGCTATTCCAGTCCGTCTTCGGCCCGTACTTTCTTGACATTACGAACACGGGATCGACTTGGTAATTCAATGCCTACCTCGACTTAGCAGACAATAGGTTACCCGCATCGCGAATAAAGAGCATGGACTATATGAAAGCAGGAGTTCCACTCGGCTATCGTAATTCTCCGGACCAGGCTAGCCAATAGTGACCATTTGGAGTTTTAAGGGGCCATCCCATAACATCCAGACTTCCTGATTGGAAAAACACTAACCTAGTGGGGATTCGATCTTATCGTAGGGTAGCCCTGTCTTGCTTGGTGAATGATATTGTGCGCCGCATATGGAATG',\n",
        "   'sequence_4': 'GGCATATAAACAGGCAGTCGTCAGAATCCCCCTCTTATGAGTGAGGTCATTCGACAACCGGGGCACTTCGGGTGCGAGTCTTATGCTAGCGACTAACTCTATAGGGTTGCTCAGTAGCGTCTATCCGCTGGTCCATCGACGGAAGGAGCCGAGTTTATGGTACCATAAGGGGCTCCAGCAAGGAATGAGCAGTCATTCTCGTTAAGTCTCCATAGGCGAGCCATACATGTGCATTATGAACGACACGATCGTATGCGTCCACTTGTTGTACGCCGCAATGGAGACGGCAATTCGTCCTCGTATAAACACTTCTATCACGACCGAATAAGGCATGTGCTCTATAACACCAATTTTAGTCTTTCTGATAATGTGACGAGCATCCATCTCAGACATGGACCGTCTCGTGAATTTAAACGCCCCTGATAGATAGAACGTAGCGTGGAAAAGATAAGTCTATAACTAGCCTAGTTGATCTCGAGACATGAGTGTCGCGCTAAATAGGTAACGGTTTCTCCTAACCACTGGACGCCACCTTGCCGCCCCCTTTTCTGCGGATTAAGTCCCAATCCCCGCCGGTAACTTTGTGCGCGTACACGAGGGATGTTCTTATAATAGTTTGAGGCGGGACCAAAAAAGTTGGCTTTGCTTAGGGCGGGATAGGTTGAAACATAGATCCCCACGCTGAGTGCTTTTTTAGCCCACGGGTAGTAAATGAATGTTATAAAAAGGGCGCGTGTTTTGAGATTTGCGGCGGCCCAGCAGGGATTGGTGTGATACGGAGCAAGGAGTTCTAGTCCTACTGACGTCCAAGTTTTCCCAAGGATCGCCGTATCGCGTCTGTAAAGGATCTGATTGACACCACCCCGACGAGGAAGGGTAAAGGCATATTCAGTCCACCAAAAGACGGATTGGGCTCCTAATGAATTCTGATCGTTATATGGTCAAGCGAGCCCAGCAGTTTTACTCACCCAGGAGCTCTGCCACTATTGCGGTCGCGTGA'}),\n",
        " ('48a1b',\n",
        "  {'creation_time': '1',\n",
        "   'id': '48a1bc04be44499fb7a278300144ca048548cc344b98ed18e229b663d7e92c1e2475b364cbb99fc51c0cfde6e6d913b8d9590402dacc9f95f832d16ad552b0da',\n",
        "   'segment_number': '4',\n",
        "   'sequence_1': 'GTCATAAGTCACTCGAGCTTCGTTCCCCAACCCGTGAATATCAACCACAATAAGGTTGAAGACCCCGCTTTCGCAGGTGTGTTGCCAGAGACATTTTAACGCAACGAGCCTGTATCAGTTTCTGAATGCGAGAGCAGTATATAGTGATAGTTTGGGGGTGTAAGGAACAGCTGCGACAGTGTTTCTAAAGTTTCCGGGAGTTCGTTGCGGAGCATGTCGTAGCTCGTCGGCGCACATGCACGGCTAATAGTTTAGCTGGCGTTAATGCCTGCGAACTAAGAGCTGGGATCTCTGGATGGGAGTTAGCCCTGACTCGATGACGATTCGGTCACAATAAGCCAAAGGAACCCGAGATGTACGTTATAATTGACTAGCATCGATTCTCATACTCCTCACGATAGGTGTTAAGGAGTTCGATTCGGAAGAGTCATTGTGTCTCCATGAAGAGCCTTAGTCCCTGCCAACTCCTAACCGGTTAGGATGTGTAGATTCTACAACATGAAACTGCCCTTTGTTTCACTCAATTTCATTTTCTTGTACAGATGCCCCTCTAGCCCTTGAAGCCTCATGGATCCATGCTAACTAATGCGTAATTTTTTACCGACGCGTTTCCGTAGTACTCTGGGCTGGAAGATTGACGAAGCGGATGGTCCTTTACACGCCCCCTTTATGCTATTCCAGTCCGTCTTCGGCCCGTACTTTCTTGACATTACGAACACGGGATCGACTTGGTAATTCAATGCCTACCTCGACTTAGCAGACAATAGGTTACCCGCATCGCGAATAAAGAGCATGGACTATATGAAAGCAGGAGTTCCACTCGGCTATCGTAATTCTCCGGACCAGGCTAGCCAATAGTGACCATTTGGAGTTTTAAGGGGCCATCCCATAACATCCAGACTTCCTGATTGGAAAAACACTAACCTAGTGGGGATTCGATCTTATCGTAGGGTAGCCCTGTCTTGCTTGGTGAATGATATTGTGCGCCGCATATGGAATG',\n",
        "   'sequence_4': 'GGACCTTTGGGAACCATAACAATCTTTTGCACATAAGAGTCCGAGAAGCCTTTCGGGAGTCAGTTGGGGCAGGCTTTTGTCTGGGGTCCCCGAAAACTTACTGTAGGGCTTTTCCTTAGACAGCGGGTCTTAACACAACCGGAAATATTCATATCGGGTGGATTTCCGGCGCAAACTAGTCTTCGAGTTTTCCTTCAAAGGTAGCAAAGTCAATTTTTGGCTCGGTGTCAAGAGTTACTGCCTTCCAAGGTTCCCACCAGCCGGGCCAATACGTTATGTCTTAGTCTTGATCGGAAAGTAGCTTAGGGGTTAGACTAATCGCGGTTACTTCCATCCCACTCAAAGGGCTCTCCGGAATGCGGGTATGCCGTACACCACGCTAGGTTATTGCTTCGAGAACCTACGGAAGTGAACATCAAAGTCCCTAAGTCGGCTTCCCTTGAGTGCGACACTGCGATGAAGGGACCGTGGTCCTGAGTAAACCAGACGCAAAGGAGCCTCACGTCGAGCACGCCAAAAGTATCCGTATACTGCCAATGGGACCCGGGGGGCGCCAAGCTAGTATGAAGTACAGATTGGCAAACATCCCCCGCCATGGTTAGGCCCGCACATACGTTCTTTACGTCTAGTTCGCGATCATTAAACTCTCGCATCGTTCGGGAACAAATGTGCCACCCCCTCCCGCTCCATCACTCGCGTGTGTCTGGTTAGAATCTAAGCTCTACAACGTATGTATTGTCAGACTATCTGGCTAAAAGCAATACGAAGTGCTCAACCGAGCTTGCGGCCAGCATGACGCGGTCTGAAGCATGCCCCCAGCATCACACTTCTAATGTTCCTCACAACGAATCGTAGGCGTAACGTTCGACTTCGATTGATAAAATAACGCATGCGGGATAGAGCCCAAGCCGGCCCTTCGCTCTAGTAGGAGATTGGACAAGTTGATCCAATACCTCTTGGTACTTGCCCATTCGCAAATCATGAGGTTGGCAAAGCAAGG'}),\n",
        " ('bbaed',\n",
        "  {'creation_time': '8',\n",
        "   'id': 'bbaed76e164ab9327a3695dfa5ae4a2b7bcc12e8614d43aa5de2909da2c275800216ae190f58edaebeb3d7804d292b92b0fb1ff191ff17c257d1af7f50da4b91',\n",
        "   'segment_number': '4',\n",
        "   'sequence_1': 'GTCATAAGTCACTCGAGCTTCGTTCCCCAACCCGTGAATATCAACCACAATAAGGTTGAAGACCCCGCTTTCGCAGGTGTGTTGCCAGAGACATTTTAACGCAACGAGCCTGTATCAGTTTCTGAATGCGAGAGCAGTATATAGTGATAGTTTGGGGGTGTAAGGAACAGCTGCGACAGTGTTTCTAAACTTTCCGGGAGTTCGTTGCGGAGCATGTCGTAGCTCGTCGGCGCACATGCACGGCTAATAGTTTAGCTGGCGTTAATGCCTGCGAACTAAGAGCTGGGATCTCTGGATGGGAGTTAGCCCTGACTCGATGACGATTCGGTCACAATAAGCCAAAGGAACCCGAGATGTACGTTATAATTGACTAGCATCGATTCTCATACTCCTCACGATAGGTGTTAAGGAGTTCGATTCGGAAGAGCCATTGTGTCTCCATGAAGAGCCTTAGTCCCTGCCAACTCCTAACCGGTTAGGATGTGTAGATTCTACAACATGAAACTGCCCTTTGTTTCACTCAATTTCATTTTCTTGTACAGATGCCCCTCTAGCCCTTGAAGCCTCATGGATCCATGCTAACTAATGCGTAATTTTTTACCGACGCGTTTCCGTAGTACTCTGGGCTGGAAGAATGACGAAGCGGATGGTCCTTTACACGCCCCCTTTATGCTATTCCAGTCCGTCTTCGGCCCGTACTTTCTTGACATTACGAACACGGGATCGACTTGGTAATTCAATGCCTACCTCGACTTAGCAGACAATAGGTTACCCGCATCGCGAATAAAGAGCATGGACTATATGAAAGCAGGAGTTCCACTCGGCTATCGTAATTCTCCGGACCAGGCTAGCCAATAGTGACCATTTGGAGTTTTAAGGGGCCATCCCATAACATCCAGACTTCCTGATTGGAAAAACACTAACCTAGTGGGGATTCGATCTTATCGTAGGGTAGCCCTGTCTTGCTTGGTGAATGATATTGTGCGCCGCATATGGAATG',\n",
        "   'sequence_4': 'GGCATATAAACAGGCAGTCGTCAGAATCCCCCTATTATGATTGAGGTCATTCGACAACCGAGGCACTTCGGGTGCGAGTCTTATGCTAGCGACTAATTCTATAGGGTTGCTCAGTAGCGTCTAACCGCTGGTCCATCGACGGAAGGAGCCGAGTTTATGGTACCATAAGGGGCTCCAGCAAGGAATGAGCAGTCATTCTCGTTAAGTCTTCATAGGCGAGCCATACATGTGCATTATGAACGACACGATCGTATGCGTCCACTTGTTGTACGCCGCAATGTAGACGGCAATTCGTCCTCGTATAAACACTTCTAGCACGACCGAATAAGGCATGTGCTCTATAACACCAATTTTAGCCTTTCTCATAATGTGACGAGCATCCATCTCAGACATGGACCGTCTCGTGAATTTAAACGCCCCTGATAGATAGAACGTAGCGTGGAAAAGATAAGTCTATAACTAGCCTAGTTGGTCTCGTGACATGAGTGTCGCGCTAAATAGGTAACGGTTTCTCCTAACCACTGGACGCCACCTTGCCGCCCCCTTTTCTGCTGATTAAGTCCCAATCCCCGCCGGTAACTTTGTGCGCGTACACGAGGGATGTTCTTATAATATTCTGAGGCGGGACCAAAAAAGTTGGCTTTGCTTAGGGCAGGATAGTTTAAAACATCGATCCCCACGCTGAGTGTTTTTTTAGCCCACGGGTAGTAAACGAATGTTATAAAAAGGGCTGGTGTTTTGAGATTTGCGGCGGCCCAGCAGGGATTGGTGTGATACGGAGCAAGGAGCTCTAGTCCTACTGAGGTCCAAGGTTTCCCAAGGATCGCTGTATCGCGTCTGTAAAGGATCTGATTGACACCACCCCGACGAGGAAGGGTAAAGGCATATTGAGTCCACCAAAAGACGGATTGGGCTCCTAATGAATTCTGATCGTTCTATGGTCAAGCGAGCCCAGCAGTTTTACTCACCCAGGAGCTCTGCCACTATTGCGGTCGCGTGA'}),\n",
        " ('e95e5',\n",
        "  {'creation_time': '2',\n",
        "   'id': 'e95e5bd58be4176e9654604b880309ccce60a38f1771dd68fd167fd6ffaf70a0ca96fd9bb5ea8334644250e56c1fa5b4ea5f13286c4c4837ee19d42eba77137d',\n",
        "   'segment_number': '4',\n",
        "   'sequence_1': 'GTCATAAGTCACTCGAGCTTCGTTCCCCAACCCGTGAATATCAACCACAATAAGGTTGAAGACCCCGCTTTCGCAGGTGTGTTGCCAGAGACATTTTAATGCAACGAGCCTGTATCAGTTTCTGAATGCGAGAGCAGTATATAGTGATAGTTTGGGGGTGTAAGGAACAGCTGCGACAGTGTTTCTAAAGTTTCCGGGAGTTCGTTGCGGAGCATGTCGTAGCTCGTCGGCGCACATGCACGGCTAATAGTTTAGCTGGCGTTAATGCCTGCGAACTAAGAGCTGGGATCTCTGGATGGGAGTTAGCCCTGACTCGATGACGATTCGGTCACAATAAGCCAAAGGAACCCGAGATGTACGTTATAATTGACTAGCATCGATTCTCATACTCCTCACGATAGGTGTTAAGGAGTTCGATTCGGAAGAGTCATTGTGTCTCCATGAAGAGCCTTAGTCCCTGCCAACTCCTAACCGGTTAGGATGTGTAGATTCTACAACATGAAACTGCCCTTTGTTTCACTCAATTTCATTTTCTTGTACAGATGCCCCTCTAGCCCTTGAAGCCTCATGGATCCATGCTAACTAATGCGTAATTTTTTACCGACGCGTTTCCGTAGTACTCTGGGCTGGAAGATTGACGAAGCGGATGGTCCTTTACACGCCCCCTTTATGCTATTCCAGTCCGTCTTCGGCCCGTACTTTCTTGACATTACGAACACGGGATCGACTTGGTAATTCAATGCCTACCTCGACTTAGCAGACAATAGGTTACCCGCATCGCGAATAAAGAGCATGGACTATATGAAAGCAGGAGTTCCACTCGGCTATCGTAATTCTCCGGACCAGGCTAGCCAATAGTGACCATTTGGAGTTTTAAGGGGCCATCCCATAACATCCAGACTTCCTGATTGGAAAAACACTAACCTAGTGGGGATTCGATCTTATCGTAGGGTAGCCCTGTCTTGCTTGGTGAATGATATTGTGCGCCGCATATGGAATG',\n",
        "   'sequence_4': 'GGCATATAAACAGGCAGTCGTCAGAATCCCCCTCTTATGAGTGAGGTCATTCGACAACCGGGGCACTTCGGGTGCGAGTCTTATGCTAGCGACTAACTCTATAGGGTTGCTCAGTAGCGTCTAACCGCTGGTCCATCGACGGAAGGAGCCGAGTTTATGGTACCATAAGGGGCTCCAGCAAGGAATGAGCAGTCATTCTCGTTAAGTCTCCATAGGCGAGCCATACATGTGCATTATGAACGACACGATCGTATGCGTCCACTTGTTGTACGCCGCAATGTAGACGGCAATTCGTCCTCGTATAAACACTTCTAGCACGACCGAATAAGGCATGTGCTCTATAACACCAATTTTAGTCTTTCTGATAATGTGACGAGCATCCATCTCAGACATGGACCGTCTCGTGAATTTAAACGCCCCTGATAGATAGAACGTAGCGTGGAAAAGATAAGTCTATAACTAGCCTAGTTGGTCTCGAGACATGAGTGTCGCGCTAAATAGGTAACGGTTTCTCCTAACCACTGGACGCCACCTTGCCGCCCCCTTTTCTGCGGATTAAGTCCCAATCCCCGCCGGTAACTTTGTGCGCGTACACGAGGGATGTTCTTATAATAGTTTGAGGCGGGACCAAAAAAGTTGGCTTTGCTTAGGGCGGGATAGTTTAAAACATAGATCCCCACGCTGAGTGCTTTTTTAGCCCACGGGTAGTAAACGAATGTTATAAAAAGGGCTGGTGTTTTGAGATTTGCGGCGGCCCAGCAGGGATTGGTGTGATACGGAGCAAGGAGTTCTAGTCCTACTGACGTCCAAGGTTTCCCAAGGATCGCCGTATCGCGTCTGTAAAGGATCTGATTGACACCACCCCGACGAGGAAGGGTAAAGGCATATTGAGTCCACCAAAAGACGGATTGGGCTCCTAATGAATTCTGATCGTTCTATGGTCAAGCGAGCCCAGCAGTTTTACTCACCCAGGAGCTCTGCCACTATTGCGGTCGCGTGA'}),\n",
        " ('034ea',\n",
        "  {'creation_time': '9',\n",
        "   'id': '034ea52d8a8b414e71e973119837740ac00a3e5c4fedf049eb01cc418742ae09c4e097fb2cb035b782f06df7351aa4e34ad22cb89ff04b5069cb09d16f778fe7',\n",
        "   'segment_number': '4',\n",
        "   'sequence_1': 'GTCATAAGTCACTCGAGCTTCGTTCCCCAACCCGTGAATATCAACCACAATAAGGTTGAAGACCCCGCTTTCGCAGGTGTGTTGCCAGAGACATTTTAATGCAACGAGCCTGTATCAGTTTCTGAATGCGAGAGCAGTATATAGTGATAGTTTGGGGGTGTAAGGAACAGCTGCGACAGTGTTTCTAAAGTTTCCGGGAGTTCGTTGCGGAGCATGTCGTAGCTCGTCGGCGCACATGCACGGCTAATAGTTTAGCTGGCGTTAATGCCTGCGAACTAAGAGCTGGGATCTCTGGATGGGAGTTAGCCCTGACTCGATGACGATTCGGTCACAATAAGCCAAAGGAACCCGAGATGTACGTTATAATTGACTAGCATCGATTCTCATACTCCTCACGATAGGTGTTAAGGAGTTCGAATCGGAAGAGTCATTGTGTCTCCATGAAGAGCCTTAGTCCCTGCCAACTCCTAACCGGTTAGGATGTGTAGATTCTACAACATGAAACTGCCCTTTGTTTCACTCAATTTCATTTTCTTGTACAGATGCCCCTCTAGCCCTTGAAGCCTCATGGATCCATGCTAACTAATGCGTAATTTTTTACCGACGCGTTTCCGTAGTACTCTGGGCTGGAAGATTGACGAAGCGGATGGTCCTTTACACGCCCCCTTTATGCTATTCCAGTCCGTCTTCGGCCCGTACTTTCTTGACATTACGAACACGGGATCGACTTGGTAATTCAATGCCTACCTCGACTTAGCAGACAATAGGTTACCCGCATCGCGAATAAAGAGCATGGACTATATGAAAGCAGGAGTTCCACTCGGCTATCGTAATTCTCCGGACCAGGCTAGCCAATAGTGACCATTTGGAGTTTTAAGGGGCCATCCCATAACATCCAGACTTCCTGATTGGAAAAACACTAACCTAGTGGGGATTCGATCTTATCGTAGGGTAGCCCTGTCTTGCTTGGTGAATGATATTGTGCGCCGCATATGGAATG',\n",
        "   'sequence_4': 'GGCATATAAACAGGCAGTCGTCAGAATCCCTCTCTTATGAGTGAGGTCATTCGACAAGCGGGGCACTTCGGGTGCGAGTCTTATGCTAGCGACTAACTCTATAGGGTTGCTCAGTAGCGTCTAACCGCTGGTCCATCGACGGAAGGAGCCGAGTTTATGGTACCATAAGGGGCTCCAGCAAGGAATGAGCAGTCATTCTCGTTAAGTCTCCATAGGCGAGCCATACATGTGCATTATGAACGACACGATCGTATGCGTCCACTTGTTGTACGCCGCAATGTAGACGGCAATTCGTCCTCGTATAAACACTTGTAGCACGACCGAATAAGGCATGTGCTCTATAACACCAATTTTAGTCTTTCTGATAATGTGACGAACATCCATCTCAGACATGGACCGTCTCGTGAATTTAAACGCCCCTGATAGATAGAACGTAGCGTGGAAAAGATAAGTCTATAACTAGCCTAGTTGGTCTCGAGACATGAGTGTCGCGCTAAATAGGTAACGGTTTCTCCTAACCACTGGACGCCACCTTGCCGCCCCCTTTTCTGCGGATTAAGTCCCAATCCCCGCCGGTAACTTTGTGCGCGTACACGAGGGATGTTCTTATAATAGTTTGAGGCGGGACCAAAAAAGTTGGCTTTGCTTAGGGCGGGATAGTTTCAAACATAGATCCCCACGCTGAGTGCTTTTTTAGCCCACGGGTAGTAAACGAATGTTATAAAAAGGGCTGGTGTTTTGAGATTTGCGGCGGCCCAGCAGCGATTGGTGTGATACGGAGCAAGGAGTTCTAGTCCTACTGACGTCCAAGGTTTCCCAAGGAACGCCGTATCGCGTCTGTAAATGATCTGATTGACACCACCCCGACGAGGAAGGGTAAAGGCATATTGGGTCCACCAAAAGACGGATTGGGCTCCTAATGAATTCTGATCGTTCTATGGTCAAGCGAGCCCAGCAGTTTTACTCACCCAGGAGCTCTGCCACTATTGCGGTCGCGTGA'}),\n",
        " ('cfc86',\n",
        "  {'creation_time': '7',\n",
        "   'id': 'cfc861baf113c279dadbcd911199367aaa13859aeb6d68ba810b73cecd671dc7496e54fe03561973a1d3462d2927794730811b4ba7ba64af292190d7ef65ed79',\n",
        "   'segment_number': '4',\n",
        "   'sequence_1': 'GTCATAAGTCACTCTAGCTTCGTTCCCCAACCCGTGAATATCAACCACAATAAGGTTGAAGACCCCGCTTTCGCAGGTGTGTTGCCAGAGACATTTTAACGCAACGAGCCGGTATCAGTTTCTGAATGCGAGAGCAGTATATAGTGATAGTTTGGGGGTGTAAGGAACAGCTGCGACAGTGTTTCTAAAGTTTCCGGGAGTTCGTTGCGGAGCATGTCGTAGCTCGTCGGCGCACATGCACGGCTAATAGTTTAGCTGGCGTTAATGCCTGCGAACTAAGAGCTGGGATCTCTGGATGGGAGTTAGCCATGACTCGATGACGATTCGGTCACAATAAGCCAAAGGAACCCGAGATGTACGTTATAATTGACTAGCATCGATTCTCATACTCCTCACGATAGGTGTTAAGGAGTTCGATTCGGAAGAGTCATTGTGTCTCCATGAAGAGCCTTAGTCCCTGCCAACTCCTAACCGTTTAGGATGTGTAGATTCTACAACATGAAACTGCCCTTTGTTTCACTCAATTTCATTTTCTTGTACAGATGCCCCTCTAGCCCTTGAAGCCTCATGGATCCATGCTAACTAATGCGTAATTTTTTACCGACGCGTTTCCGTAGTACTCTGGGCTGGAAGATTGACGAAGCGGATGGTCCTTTACACGCCCCCTTTATGCTATTCCAGTCCGTCTTCGGCCCGTACTTTCTTGACATTACGAACACGGGATCGACTTGGTAATTCAATGCCTACCTCGACTTAGCAGACAATAGGTTACCCGCATCGCGAATAAAGAGCATGGACTATATGAAAGCAGGAGTTCCACTCGGCTATCGTAATTCTCCGGACCAGGCTAGCCAATAGTGACCATTTGGAGTTTTAAGGGGCCATCCCATAACATCCAGACTTCCTGATTGGAAAAACACTAACCTAGTGGGGATTCGATCTTATCGTAGGGTAGCCCTGTCTTGCTTGGTGAATGATATTGTGCGCCGCATATGGAATG',\n",
        "   'sequence_4': 'GGCATATAAACAGGCAGTCGTCAGAATCCCCCTATTATGAGTGAGGTCATTCGACAACCGGGGCACTTCGGGTGCGAGTCTTATGCTAGCGACTAATTCTATAGGGTTGCTCAGTAGCGTCTAACCGCTGGTCCATCGACGGAAGGAGCCGAGTTTATGGTACCATAAGGGGCTCCAGCAAGGAATGAGCAGTCATTCTCGTTAAGTCTCCATAGGCGAGCCATACATGTGCATTATGAACGACACGATCGTATGCGTCCACTTGTTGTACGCCGCAATGTAGACGGCAATTCGTCCTCGTATAAACACTTCTAGCACGACCGAATAAGGCATGTGCTCTATAACACCAATTTTAGCCTTTCTGATAATGTGACGAGCATCCATCTCAGACATGGACCGTCTCGTGAATTTAAACGCCCCTGATAGATAGAACGTAGCGTGGAAAAGATAAGTCTATAACTAGCCTAGTTGGTCTCGTGACATGAGTGTCGCGCTAAATAGGTAACGGTTTCTCCTAACCACTGGACGCCACCTTGCCGCCCCCTTTTCTGCTGATTAAGTCCCAATCCCCGCCGGTAACTTTGTGCGCGTACACGAGGGATGTTCTTATAATAGTCTGAGGCGGGACCAAAAAAGTTGGCTTTGCTTAGGGCAGGATAGTTTAAAACATAGATCCCCACGCTGAGTGCTTTTTTAGCCCACGGGTAGTAAACGAATGTTATAAAAAGGGCTGGTGTTTTGAGATTTGCGGCGGCCCAGCAGGGATTGGTGTGATACGGAGCAAGGAGTTCTAGTCCTACTGAGGTCCAAGGTTTCCCAAGGATCGCCGTATCGCGTCTGTAAAGGATCTGATTGACACCACCCCGACGAGGAAGGGTAAAGGCATATTGAGTCCACCAAAAGACGGATTGGGCTCCTAATGAATTCTGATCGTTCTATGGTCAAGCGAGCCCAGCAGTTTTACTCACCCAGGAGCTCTGCCACTATTGCGGTCGCGTGA'}),\n",
        " ('3ce97',\n",
        "  {'creation_time': '0',\n",
        "   'id': '3ce976a3c9729ee0ff0bc13471b0deac84ccb1b66628049d10f037cae21b05c194e43c6f02454822567cc3178e37716fbf2a3d4930b98fd39bf0833ee5e12d82',\n",
        "   'segment_number': '4',\n",
        "   'sequence_1': 'GTCATAAGTCACTCGAGCTTCGTTCCCCAACCCGTGAATATCAACCACAATAAGGTTGAAGACCCCGCTTTCGCAGGTGTGTTGCCAGAGACATTTTAACGCAACGAGCCTGTATCAGTTTCTGAATGCGAGAGCAGTATATAGTGATAGTTTGGGGGTGTAAGGAACAGCTGCGACAGTGTTTCTAAAGTTTCCGGGAGTTCGTTGCGGAGCATGTCGTAGCTCGTCGGCGCACATGCACGGCTAATAGTTTAGCTGGCGTTAATGCCTGCGAACTAAGAGCTGGGATCTCTGGATGGGAGTTAGCCCTGACTCGATGACGATTCGGTCACAATAAGCCAAAGGAACCCGAGATGTACGTTATAATTGACTAGCATCGATTCTCATACTCCTCACGATAGGTGTTAAGGAGTTCGATTCGGAAGAGTCATTGTGTCTCCATGAAGAGCCTTAGTCCCTGCCAACTCCTAACCGGTTAGGATGTGTAGATTCTACAACATGAAACTGCCCTTTGTTTCACTCAATTTCATTTTCTTGTACAGATGCCCCTCTAGCCCTTGAAGCCTCATGGATCCATGCTAACTAATGCGTAATTTTTTACCGACGCGTTTCCGTAGTACTCTGGGCTGGAAGATTGACGAAGCGGATGGTCCTTTACACGCCCCCTTTATGCTATTCCAGTCCGTCTTCGGCCCGTACTTTCTTGACATTACGAACACGGGATCGACTTGGTAATTCAATGCCTACCTCGACTTAGCAGACAATAGGTTACCCGCATCGCGAATAAAGAGCATGGACTATATGAAAGCAGGAGTTCCACTCGGCTATCGTAATTCTCCGGACCAGGCTAGCCAATAGTGACCATTTGGAGTTTTAAGGGGCCATCCCATAACATCCAGACTTCCTGATTGGAAAAACACTAACCTAGTGGGGATTCGATCTTATCGTAGGGTAGCCCTGTCTTGCTTGGTGAATGATATTGTGCGCCGCATATGGAATG',\n",
        "   'sequence_4': 'GGCATATAAACAGGCAGTCGTCAGAATCCCCCTCTTATGAGTGAGGTCATTCGACAACCGGGGCACTTCGGGTGCGAGTCTTATGCTAGCGACTAACTCTATAGGGTTGCTCAGTAGCGTCTAACCGCTGGTCCATCGACGGAAGGAGCCGAGTTTATGGTACCATAAGGGGCTCCAGCAAGGAATGAGCAGTCATTCTCGTTAAGTCTCCATAGGCGAGCCATACATGTGCATTATGAACGACACGATCGTATGCGTCCACTTGTTGTACGCCGCAATGTCGACGGCAATTCGTCCTCGTATAAACACTTCTAGCACGACCGAATAAGGCATGTGCTCTATAACACCAATTTTAGCCTTTCTGATAATGTGACGAGCATCCATCTCAGACATGGACCGTCTCGTGAATTTAAACGCCCCTGATAGATAGAACGTAGCGTGGAAAAGATAAGTCTATAACTAGCCTAGTTGGTCTCGAGACATGAGTGTCGCGCTAAATAGGTAACGGTTTCTCCTAACCACTGGACGCCACCTTGCCGCCCCCTTTTCTGCGGATTAAGTCCCAATCCCCGCCGGTAACTTTGTGCGCGTACACGAGGGATGTTCTTATAATAGTTTGAGGCGGGACCAAAAAAGTTGGCTTTGCTTAGGGCGGGATAGTTTAAAACATAGATCCCCACGCTGAGTGCTTTTTTAGCCCACGGGTAGTAAACGAATGTTATAAAAAGGGCTGGTGTTTTGAGATTTGCGGCGGCCCAGCAGGCATTGGTGTGATACGGAGCAAGGAGTTCTAGGCCTACTGACGTCCAAGGTGTCCCAAGGATCGCCGTATCGCGTCTGTAAAGGATCTGATTGACACCACCCCGACGAGGAAGGGTAAAGGCATATTGAGTCCACCAAAAGACGGATTGGGCTCCTAATGAATTCTGATCGTTCTATGGTCGAGCGAGCCCAGCAGTTTTACTCACCCAGGAGCTCTGCCACTATTGCGGTCGCGTGA'}),\n",
        " ('03742',\n",
        "  {'creation_time': '5',\n",
        "   'id': '03742e61eb3c6055c89000e136562598802c5a311f7943e9a839291e8d9a10321c678f9a30d7595b3a580dd0dc4ff97ec1284ac3ae055411619fa3aadd2e09e3',\n",
        "   'segment_number': '4',\n",
        "   'sequence_1': 'GTCATAAGTCACTCGAGCTTCGTTCCCCAACCCGTGAATATCAACCACAATAGGGTTGAAGACCCCGCTTTCGCAGGTGTGTTGCCAGAGACATTTTAACGCAACGAGCCTGTATCAGTTTCTGAATGCGAGAGCAGTATATAGTGATAGTTTGGGGGTGTAAGGAACAGCTGCGACAGTGTTTCTAAAGTTTCCGGGAGTTCGTTGCGGAGCATGTCGTAGCTCGTCGGCGCACATGCACGGCTAATAGTTTAGCTGGCGTTAATGCCTGCGAACTAAGAGCTAGGATCTCTGGATGGGAGTTAGCCCTGACTCGATGACGATTCGGTCACAATAAGCCAAAGGAACCCGAGATGTACGTTATAATTGACTAGCATCGATTCTCATACTCCTCACGATAGGTGTTAAGGAGTTCGATTCGGAAGAGTCATTGTGTCTCCATGAAGAGCCTTAGTCCCTGCCAACTCCTAACCGGTTAGGATGTGTAGATTCTACAACATGAAACTGCCCTTTGTTTCACTCAATTTCATTTTCTTGTACAGATGCCCCTCTAGCCCTTGAAGCCTCATGGATCCATGCTAACTAATGCGTAATTTTTTACCGACGCGTTTCCGTAGTACTCTGGGCTGGAAGATTGACGAAGCGGATGGTCCTTTACACGCCCCCTTTATGCTATTCCAGTCCGTCTTCGGCCCGTACTTTCTTGACATTACGAACACGGGATCGACTTGGTAATTCAATGCCTACCTCGACTTAGCAGACAATAGGTTACCCGCATCGCGAATAAAGAGCATGGACTATATGAAAGCAGGAGTTCCACTCGGCTATCGTAATTCTCCGGACCAGGCTAGCCAATAGTGACCATTTGGAGTTTTAAGGGGCCATCCCATAACATCCAGACTTCCTGATTGGAAAAACACTAACCTAGTGGGGATTCGATCTTATCGTAGGGTAGCCCTGTCTTGCTTGGTGAATGATATTGTGCGCCGCATATGGAATG',\n",
        "   'sequence_4': 'GGACCTTTGGGAACCATAACAATCTTTTACACATAAGAGTCCGAGAAGCCTTTCGGGAGTCAGTTGGGGCAGGCTTTTGTCTGGGGTCACCGAAAACTTACTGTAGGGCTTTTCCTTAGACAGCGGGTCTTAACACAACCGGAAATATTCATATCGGGTGGATTTCCGGCGCAAACTAGTCTTCGAGTTTTCCTTCAAAGGTAGCAAAGTCAATTTTTGGCTCGGTGTCAAGAGTTACTGCCTTCCAAGGTTCCCACCAGCCGGGCGAATACGTTATGTCTTAGTCTTGATCGGAAAGTAGCTTAGGGGTTAGACTAATCGCGGTTACTTCCATCCCACTCAAAGGGCTCTCCGGAATGCGGGTATGCCGTACACCACGCTAGGTTATTGCTTCGAGAACCTACGGAAGTGAACATCAAAGTCCCTAAGTCGGCTTCCCCTGAGTGCGACACTGCGATGAAGGGACCGCGGTCCTGAGTAAACCAGACGCAAAGGAGCCTCACGTCGAGCACGCCAAAAGTATCCGTATACTGCCAATGGGACCCGGGGGGCGCCAAGCTAGTATGAAGTACAGATTGGCAAACATCCCCCGCCATGGTTAGGCCCGCACATAGGTTCTTTACGTCTAGTTCGCGATCATTAAACTCTCGCATCGTTCGGGAACAAATGTGCCACCCCCTACCGCTCCATCACTCGCGTGTGTCTGGTTAGAATCTAAGCTCTACAACGTATGTATTGTCAGACTATCTGGCTAAAAGCAATACGAAGTGCTCAACAGAGCTTGCGGCCAGCATGACGCGGTCTGAAGCATGCCCCCAGCATCACACTTCTAATGTTCCTCACAACGAATCGTAGGCGTAACGTTCGACTTCGATTGATAAAATAACGCATGCGGGATAGAGCCCAAGCCGGCCCTTCGCTCTAGTAGGAGATTGGACGAGTTGATCCAATACCTCTTGGTACTTGCCCATTCGCAAATCATGAGGTTGGCAAAGCAAGG'}),\n",
        " ('f1685',\n",
        "  {'creation_time': '4',\n",
        "   'id': 'f1685f7e88bb2a0bc0b7a17b1dfacd85d2628f57ddef052e53a173b5ac72ddbcf7db4326d569f7b4951960aca8395817ce22eff67bd36e1861d29a851ca129c9',\n",
        "   'segment_number': '4',\n",
        "   'sequence_1': 'GTCATAAGTCACTCGAGCTTCGTTCCCCAACCCGTGAATATCAACCACAATAAGGTTGAAGACCCCGCTTTCGCAGGTGTGTTGCCAGAGACATTTTAACGCAACGAGCCTGTATCAGTTTCTGAATGCGAGAGCAGTATATAGTGATAGTTTGGGGGTGTAAGGAACAGCTGCGACAGTGTTTCTAAACTTTCCGGGAGTTCGTTGCGGAGCATGTCGTAGCTCGTCGGCGCACATGCACGGCTAATAGTTTAGCTGGCGTTAATGCCTGCGAACTAAGAGCTGGGATCTCTGGATGGGAGTTAGCCCTGACTCGATGACGATTCGGTCACAATAAGCCAAAGGAACCCGAGATGTACGTTATAATTGACTAGCATCGATTCTCATACTCCTCACGATAGGTGTTAAGGAGTTCGATTCGGAAGAGTCATTGTGTCTCCATGAAGAGCCTTAGTCCCTGCCAACTCCTAACCGGTTAGGATGTGTAGATTCTACAACATGAAACTGCCCTTTGTTTCACTCAATTTCATTTTCTTGTACAGATGCCCCTCTAGCCCTTGAAGCCTCATGGATCCATGCTAACTAATGCGTAATTTTTTACCGACGCGTTTCCGTAGTACTCTGGGCTGGAAGATTGACGAAGCGGATGGTCCTTTACACGCCCCCTTTATGCTATTCCAGTCCGTCTTCGGCCCGTACTTTCTTGACATTACGAACACGGGATCGACTTGGTAATTCAATGCCTACCTCGACTTAGCAGACAATAGGTTACCCGCATCGCGAATAAAGAGCATGGACTATATGAAAGCAGGAGTTCCACTCGGCTATCGTAATTCTCCGGACCAGGCTAGCCAATAGTGACCATTTGGAGTTTTAAGGGGCCATCCCATAACATCCAGACTTCCTGATTGGAAAAACACTAACCTAGTGGGGATTCGATCTTATCGTAGGGTAGCCCTGTCTTGCTTGGTGAATGATATTGTGCGCCGCATATGGAATG',\n",
        "   'sequence_4': 'GGACCTTTGGGAACCATAACAATCTTTTGCACATAAGAGTCCGAGAAGTCTTTCGGGAGTCAGTTGGGGCAGGCTTTTGTCTGGGGTCCCCGAAAACTTACTGTAGGGCTTTTCCTTAGACAGCGGGTCTTAACACAACCGGAAATATTCATATCGGGTGGATTTCCGGCGCAAACTAGTCTTCGAGTTTTCCTTCAAAGGTAGCAAAGTCAATTTTTGGCTCGGTGTCAAGAGTTACTGCCTTCCAAGGTTCGCACCAGCCGGGCCAATACGTTATGTCTTAATCTTGATCGGAAAGTAGCTTAGGGGTTAGACTAATCGCGGTTACTTCCATCCCACTCAAAGGGCTCTCCGGAATGCGGGTATGCCGTACACCACGCTAGGTTATTGCTTCGAGAACCTTCGGAAGTGAACATCAAAGTCCCTAAGTCGGCTTCCCTTGAGTGCGACACTGCGATGAAGGGACCGTGGTCCTGAGTAAACCAGACGCAAAGGAGCCTCACGTCGAGCACGCCAAAAGTATCCGTATACTGCCAATGGGACCCGGGGGGCGCCAAGGTAGTATGAAGTACAGATTGGCAAACATCCCCCGCCATGGTTAGGCCCGCACATACGTTCTTTACGTCTAGTTCGCGATCATTAAACTCTCGCATCGTTCGGGAACAAATGTGCCACCCCCTCCCGCTCCATCACTCGCGTGTGTCTGGTTAGAATCTAAGCTCTACAACGTATGTAGTGTCAGACTATCTGGCTAAAAGCAATACGAATAGCTCAACCGAGCTTGCGGCCAGCATGACGCGGTCTGAAGCATGCCCCCAGCATCACACTTCTAATGTTCCTCACAACGAATCGTAGGCGTAACGTTCGACTTCGATTGATACAATAACGCATGCGGGATAGAGCCCAAGCCGGCCCTTCGCTCTAGTAGGAGATTGGACAAGTTGATCCAATACCTCTTGGTACTTGCCCATTCGCAAATCATGAGGTTGGCAAAGCAAGG'})]"
       ]
      }
     ],
     "prompt_number": 67
    },
    {
     "cell_type": "code",
     "collapsed": false,
     "input": [
      "# This code is used for drawing.\n",
      "from random import randint\n",
      "\n",
      "randints = []\n",
      "for node in r.condensed_graph().nodes(data=True):\n",
      "    randints.append(randint(1, 20))\n",
      "print randints\n",
      "\n",
      "reconstruction_positions = dict()\n",
      "for i, node in enumerate(sorted(r.condensed_graph().nodes(data=True))):\n",
      "    reconstruction_positions[node[0]] = (int(node[1]['creation_time']), randints[i])\n",
      "    \n",
      "print len(reconstruction_positions)\n",
      "nx.draw(r.pruned_condensed_graph(), pos=reconstruction_positions)"
     ],
     "language": "python",
     "metadata": {},
     "outputs": [
      {
       "output_type": "stream",
       "stream": "stdout",
       "text": [
        "[8, 14, 17, 11, 18, 13, 20, 9, 1, 11, 11]\n",
        "11\n"
       ]
      },
      {
       "metadata": {},
       "output_type": "display_data",
       "png": "[encoded data removed]",
       "text": [
        "<matplotlib.figure.Figure at 0x10637b890>"
       ]
      }
     ],
     "prompt_number": 68
    },
    {
     "cell_type": "code",
     "collapsed": false,
     "input": [
      "simulation_positions = dict()\n",
      "\n",
      "print randints\n",
      "for i, pathogen in enumerate(s.pathogens):\n",
      "    simulation_positions[pathogen] = reconstruction_positions[str(pathogen)]\n",
      "    \n",
      "print len(simulation_positions)\n",
      "nx.draw(s.transmission_graph(), pos=simulation_positions)"
     ],
     "language": "python",
     "metadata": {},
     "outputs": [
      {
       "output_type": "stream",
       "stream": "stdout",
       "text": [
        "[8, 14, 17, 11, 18, 13, 20, 9, 1, 11, 11]\n",
        "11\n"
       ]
      },
      {
       "metadata": {},
       "output_type": "display_data",
       "png": "[encoded data removed]",
       "text": [
        "<matplotlib.figure.Figure at 0x106550850>"
       ]
      }
     ],
     "prompt_number": 69
    },
    {
     "cell_type": "code",
     "collapsed": false,
     "input": [
      "s.pathogens[0].parent"
     ],
     "language": "python",
     "metadata": {},
     "outputs": [
      {
       "metadata": {},
       "output_type": "pyout",
       "prompt_number": 70,
       "text": [
        "{}"
       ]
      }
     ],
     "prompt_number": 70
    },
    {
     "cell_type": "code",
     "collapsed": false,
     "input": [
      "r.pruned_condensed_graph().edges(data=True)"
     ],
     "language": "python",
     "metadata": {},
     "outputs": [
      {
       "metadata": {},
       "output_type": "pyout",
       "prompt_number": 71,
       "text": [
        "[('a8ec9', 'cfc86', {'segments': [1], 'weight': 1}),\n",
        " ('2be07', 'a8ec9', {'segments': [1, 4], 'weight': 12}),\n",
        " ('2be07', '48a1b', {'segments': [1, 4], 'weight': 14}),\n",
        " ('48a1b', '03742', {'segments': [1, 4], 'weight': 11}),\n",
        " ('48a1b', 'f1685', {'segments': [1, 4], 'weight': 10}),\n",
        " ('e95e5', '034ea', {'segments': [1, 4], 'weight': 10}),\n",
        " ('e95e5', '63424', {'segments': [1, 4], 'weight': 14}),\n",
        " ('e95e5', 'cfc86', {'segments': [4], 'weight': 8}),\n",
        " ('cfc86', 'bbaed', {'segments': [4], 'weight': 9}),\n",
        " ('3ce97', 'e95e5', {'segments': [1, 4], 'weight': 7}),\n",
        " ('f1685', 'bbaed', {'segments': [1], 'weight': 2})]"
       ]
      }
     ],
     "prompt_number": 71
    },
    {
     "cell_type": "code",
     "collapsed": false,
     "input": [
      "for virus in s.reassortants():\n",
      "    print virus"
     ],
     "language": "python",
     "metadata": {},
     "outputs": [
      {
       "output_type": "stream",
       "stream": "stdout",
       "text": [
        "48a1b\n",
        "cfc86\n",
        "bbaed\n"
       ]
      }
     ],
     "prompt_number": 72
    },
    {
     "cell_type": "code",
     "collapsed": false,
     "input": [
      "for virus in r.reassortants():\n",
      "    print virus[0]"
     ],
     "language": "python",
     "metadata": {},
     "outputs": [
      {
       "output_type": "stream",
       "stream": "stdout",
       "text": [
        "bbaed\n",
        "cfc86\n"
       ]
      }
     ],
     "prompt_number": 73
    },
    {
     "cell_type": "code",
     "collapsed": false,
     "input": [
      "s.transmission_graph().edges(data=True)"
     ],
     "language": "python",
     "metadata": {},
     "outputs": [
      {
       "metadata": {},
       "output_type": "pyout",
       "prompt_number": 74,
       "text": [
        "[(e95e5, 63424, {'segments': [1, 4], 'weight': 14}),\n",
        " (e95e5, cfc86, {'segments': [4], 'weight': 8}),\n",
        " (e95e5, 034ea, {'segments': [1, 4], 'weight': 10}),\n",
        " (48a1b, 03742, {'segments': [1, 4], 'weight': 11}),\n",
        " (48a1b, f1685, {'segments': [1, 4], 'weight': 10}),\n",
        " (a8ec9, cfc86, {'segments': [1], 'weight': 1}),\n",
        " (2be07, a8ec9, {'segments': [1, 4], 'weight': 12}),\n",
        " (2be07, 48a1b, {'segments': [4], 'weight': 14}),\n",
        " (3ce97, e95e5, {'segments': [1, 4], 'weight': 7}),\n",
        " (3ce97, 48a1b, {'segments': [1], 'weight': 0}),\n",
        " (f1685, bbaed, {'segments': [1], 'weight': 2}),\n",
        " (cfc86, bbaed, {'segments': [4], 'weight': 9})]"
       ]
      }
     ],
     "prompt_number": 74
    },
    {
     "cell_type": "markdown",
     "metadata": {},
     "source": [
      "# Test Relabeled Graph"
     ]
    },
    {
     "cell_type": "code",
     "collapsed": false,
     "input": [
      "for pathogen in s.pathogens:\n",
      "    print (str(pathogen), str(pathogen.parent))"
     ],
     "language": "python",
     "metadata": {},
     "outputs": [
      {
       "output_type": "stream",
       "stream": "stdout",
       "text": [
        "('2be07', '{}')\n",
        "('3ce97', '{}')\n",
        "('48a1b', '{3ce97: [1], 2be07: [4]}')\n",
        "('e95e5', '{3ce97: [1, 4]}')\n",
        "('a8ec9', '{2be07: [1, 4]}')\n",
        "('f1685', '{48a1b: [1, 4]}')\n",
        "('03742', '{48a1b: [1, 4]}')\n",
        "('63424', '{e95e5: [1, 4]}')\n",
        "('cfc86', '{e95e5: [4], a8ec9: [1]}')\n",
        "('bbaed', '{cfc86: [4], f1685: [1]}')\n",
        "('034ea', '{e95e5: [1, 4]}')\n"
       ]
      }
     ],
     "prompt_number": 75
    },
    {
     "cell_type": "code",
     "collapsed": false,
     "input": [
      "s.relabeled_transmission_graph().edges(data=True)"
     ],
     "language": "python",
     "metadata": {},
     "outputs": [
      {
       "metadata": {},
       "output_type": "pyout",
       "prompt_number": 76,
       "text": [
        "[('a8ec9', 'cfc86', {'segments': [1], 'weight': 1}),\n",
        " ('2be07', 'a8ec9', {'segments': [1, 4], 'weight': 12}),\n",
        " ('2be07', '48a1b', {'segments': [4], 'weight': 14}),\n",
        " ('cfc86', 'bbaed', {'segments': [4], 'weight': 9}),\n",
        " ('e95e5', '034ea', {'segments': [1, 4], 'weight': 10}),\n",
        " ('e95e5', '63424', {'segments': [1, 4], 'weight': 14}),\n",
        " ('e95e5', 'cfc86', {'segments': [4], 'weight': 8}),\n",
        " ('3ce97', 'e95e5', {'segments': [1, 4], 'weight': 7}),\n",
        " ('3ce97', '48a1b', {'segments': [1], 'weight': 0}),\n",
        " ('f1685', 'bbaed', {'segments': [1], 'weight': 2}),\n",
        " ('48a1b', '03742', {'segments': [1, 4], 'weight': 11}),\n",
        " ('48a1b', 'f1685', {'segments': [1, 4], 'weight': 10})]"
       ]
      }
     ],
     "prompt_number": 76
    },
    {
     "cell_type": "code",
     "collapsed": false,
     "input": [
      "r.pruned_condensed_graph().edges(data=True)"
     ],
     "language": "python",
     "metadata": {},
     "outputs": [
      {
       "metadata": {},
       "output_type": "pyout",
       "prompt_number": 77,
       "text": [
        "[('a8ec9', 'cfc86', {'segments': [1], 'weight': 1}),\n",
        " ('2be07', 'a8ec9', {'segments': [1, 4], 'weight': 12}),\n",
        " ('2be07', '48a1b', {'segments': [1, 4], 'weight': 14}),\n",
        " ('48a1b', '03742', {'segments': [1, 4], 'weight': 11}),\n",
        " ('48a1b', 'f1685', {'segments': [1, 4], 'weight': 10}),\n",
        " ('e95e5', '034ea', {'segments': [1, 4], 'weight': 10}),\n",
        " ('e95e5', '63424', {'segments': [1, 4], 'weight': 14}),\n",
        " ('e95e5', 'cfc86', {'segments': [4], 'weight': 8}),\n",
        " ('cfc86', 'bbaed', {'segments': [4], 'weight': 9}),\n",
        " ('3ce97', 'e95e5', {'segments': [1, 4], 'weight': 7}),\n",
        " ('f1685', 'bbaed', {'segments': [1], 'weight': 2})]"
       ]
      }
     ],
     "prompt_number": 77
    },
    {
     "cell_type": "markdown",
     "metadata": {},
     "source": [
      "# Experiment with Accuracy Metrics"
     ]
    },
    {
     "cell_type": "code",
     "collapsed": false,
     "input": [
      "matching_edges = 0\n",
      "total_edges = len(s.relabeled_transmission_graph().edges())\n",
      "for edge in r.pruned_condensed_graph().edges(data=True):\n",
      "    if edge in s.relabeled_transmission_graph().edges(data=True):\n",
      "        matching_edges += 1\n",
      "        \n",
      "\n",
      "int(float(matching_edges) / total_edges * 100)"
     ],
     "language": "python",
     "metadata": {},
     "outputs": [
      {
       "metadata": {},
       "output_type": "pyout",
       "prompt_number": 78,
       "text": [
        "83"
       ]
      }
     ],
     "prompt_number": 78
    },
    {
     "cell_type": "code",
     "collapsed": false,
     "input": [
      "# This has been implemented in the prototype functions below.\n",
      "# float(len(r.identify_reassortants()))/float(len(s.identify_reassortants()))"
     ],
     "language": "python",
     "metadata": {},
     "outputs": [],
     "prompt_number": 79
    },
    {
     "cell_type": "code",
     "collapsed": false,
     "input": [
      "# Prototype for the accuracy functions.\n",
      "def reassortant_accuracy(simulation, reconstruction):\n",
      "    num_simulation_reassortants = float(len(simulation.reassortants()))\n",
      "    num_reconstruction_reassortants = float(len(reconstruction.reassortants()))\n",
      "    \n",
      "    if num_simulation_reassortants == 0:\n",
      "        return 'No reassortants present in simulation.'\n",
      "    else:\n",
      "        return num_reconstruction_reassortants / num_simulation_reassortants\n",
      "    \n",
      "def transmission_edge_accuracy(simulation, reconstruction):\n",
      "    matching_edges = 0\n",
      "    total_edges = len(simulation.relabeled_transmission_graph().edges())\n",
      "    \n",
      "    reconstructed = reconstruction.pruned_condensed_graph()\n",
      "    simulated = simulation.relabeled_transmission_graph()\n",
      "    \n",
      "    for edge in reconstructed.edges(data=True):\n",
      "        if edge in simulated.edges(data=True):\n",
      "            matching_edges += 1\n",
      "            \n",
      "    return float(matching_edges) / total_edges\n",
      "\n",
      "def transmission_path_accuracy(simulation, reconstruction):\n",
      "    \"\"\"\n",
      "    The accuracy of transmission paths is the number of accurate paths found \n",
      "    divided by the number of paths being considered.\n",
      "    \"\"\"\n",
      "    reconstructed = reconstruction.full_transmission_graph()\n",
      "    simulated = simulation.full_transmission_graph()\n",
      "\n",
      "    num_paths = len(simulated.edges())\n",
      "    accurate_paths = 0\n",
      "    \n",
      "    for edge in reconstructed.edges():\n",
      "        if simulation.full_transmission_path_exists(edge[0], edge[1]):\n",
      "            accurate_paths += 1\n",
      "    \n",
      "    return float(accurate_paths)/num_paths\n",
      "\n",
      "def segment_transmission_path_accuracy(simulation, reconstruction, segment):\n",
      "    \"\"\"\n",
      "    This method will return the transmission accuracy score for a given segment.\n",
      "    \"\"\"\n",
      "    \n",
      "    reconstructed = reconstruction.segment_transmission_graph(segment=segment)\n",
      "    simulated = simulation.segment_transmission_graph(segment=segment)\n",
      "    \n",
      "    accurate_paths = 0\n",
      "    num_paths = len(simulated.edges())\n",
      "    \n",
      "    for edge in reconstructed.edges():\n",
      "        if simulation.segment_transmission_path_exists(edge[0], edge[1], segment=segment):\n",
      "            accurate_paths += 1\n",
      "            \n",
      "    return float(accurate_paths)/num_paths\n",
      "    "
     ],
     "language": "python",
     "metadata": {},
     "outputs": [],
     "prompt_number": 80
    },
    {
     "cell_type": "code",
     "collapsed": false,
     "input": [
      "print s.full_transmission_paths()\n",
      "print s.segment_transmission_paths(1)\n",
      "print s.segment_transmission_paths(4)\n",
      "print s.reassortants()\n",
      "print r.reassortants()\n",
      "print reassortant_accuracy(s, r)\n",
      "print transmission_edge_accuracy(s, r)\n",
      "print transmission_path_accuracy(s, r)\n",
      "print segment_transmission_path_accuracy(s, r, 1)\n",
      "print segment_transmission_path_accuracy(s, r, 4)"
     ],
     "language": "python",
     "metadata": {},
     "outputs": [
      {
       "output_type": "stream",
       "stream": "stdout",
       "text": [
        "[set(['cfc86']), set(['bbaed']), set(['a8ec9', '2be07']), set(['e95e5', '3ce97', '63424', '034ea']), set(['f1685', '48a1b', '03742'])]\n",
        "[set(['a8ec9', '2be07', 'cfc86']), set(['e95e5', '034ea', '63424', '48a1b', 'bbaed', '3ce97', '03742', 'f1685'])]\n",
        "[set(['e95e5', '034ea', '63424', 'cfc86', 'bbaed', '3ce97']), set(['a8ec9', '2be07', '48a1b', 'f1685', '03742'])]"
       ]
      },
      {
       "output_type": "stream",
       "stream": "stdout",
       "text": [
        "\n",
        "[48a1b, cfc86, bbaed]\n",
        "[('bbaed', {'sequence_4': 'GGCATATAAACAGGCAGTCGTCAGAATCCCCCTATTATGATTGAGGTCATTCGACAACCGAGGCACTTCGGGTGCGAGTCTTATGCTAGCGACTAATTCTATAGGGTTGCTCAGTAGCGTCTAACCGCTGGTCCATCGACGGAAGGAGCCGAGTTTATGGTACCATAAGGGGCTCCAGCAAGGAATGAGCAGTCATTCTCGTTAAGTCTTCATAGGCGAGCCATACATGTGCATTATGAACGACACGATCGTATGCGTCCACTTGTTGTACGCCGCAATGTAGACGGCAATTCGTCCTCGTATAAACACTTCTAGCACGACCGAATAAGGCATGTGCTCTATAACACCAATTTTAGCCTTTCTCATAATGTGACGAGCATCCATCTCAGACATGGACCGTCTCGTGAATTTAAACGCCCCTGATAGATAGAACGTAGCGTGGAAAAGATAAGTCTATAACTAGCCTAGTTGGTCTCGTGACATGAGTGTCGCGCTAAATAGGTAACGGTTTCTCCTAACCACTGGACGCCACCTTGCCGCCCCCTTTTCTGCTGATTAAGTCCCAATCCCCGCCGGTAACTTTGTGCGCGTACACGAGGGATGTTCTTATAATATTCTGAGGCGGGACCAAAAAAGTTGGCTTTGCTTAGGGCAGGATAGTTTAAAACATCGATCCCCACGCTGAGTGTTTTTTTAGCCCACGGGTAGTAAACGAATGTTATAAAAAGGGCTGGTGTTTTGAGATTTGCGGCGGCCCAGCAGGGATTGGTGTGATACGGAGCAAGGAGCTCTAGTCCTACTGAGGTCCAAGGTTTCCCAAGGATCGCTGTATCGCGTCTGTAAAGGATCTGATTGACACCACCCCGACGAGGAAGGGTAAAGGCATATTGAGTCCACCAAAAGACGGATTGGGCTCCTAATGAATTCTGATCGTTCTATGGTCAAGCGAGCCCAGCAGTTTTACTCACCCAGGAGCTCTGCCACTATTGCGGTCGCGTGA', 'segment_number': '4', 'creation_time': '8', 'sequence_1': 'GTCATAAGTCACTCGAGCTTCGTTCCCCAACCCGTGAATATCAACCACAATAAGGTTGAAGACCCCGCTTTCGCAGGTGTGTTGCCAGAGACATTTTAACGCAACGAGCCTGTATCAGTTTCTGAATGCGAGAGCAGTATATAGTGATAGTTTGGGGGTGTAAGGAACAGCTGCGACAGTGTTTCTAAACTTTCCGGGAGTTCGTTGCGGAGCATGTCGTAGCTCGTCGGCGCACATGCACGGCTAATAGTTTAGCTGGCGTTAATGCCTGCGAACTAAGAGCTGGGATCTCTGGATGGGAGTTAGCCCTGACTCGATGACGATTCGGTCACAATAAGCCAAAGGAACCCGAGATGTACGTTATAATTGACTAGCATCGATTCTCATACTCCTCACGATAGGTGTTAAGGAGTTCGATTCGGAAGAGCCATTGTGTCTCCATGAAGAGCCTTAGTCCCTGCCAACTCCTAACCGGTTAGGATGTGTAGATTCTACAACATGAAACTGCCCTTTGTTTCACTCAATTTCATTTTCTTGTACAGATGCCCCTCTAGCCCTTGAAGCCTCATGGATCCATGCTAACTAATGCGTAATTTTTTACCGACGCGTTTCCGTAGTACTCTGGGCTGGAAGAATGACGAAGCGGATGGTCCTTTACACGCCCCCTTTATGCTATTCCAGTCCGTCTTCGGCCCGTACTTTCTTGACATTACGAACACGGGATCGACTTGGTAATTCAATGCCTACCTCGACTTAGCAGACAATAGGTTACCCGCATCGCGAATAAAGAGCATGGACTATATGAAAGCAGGAGTTCCACTCGGCTATCGTAATTCTCCGGACCAGGCTAGCCAATAGTGACCATTTGGAGTTTTAAGGGGCCATCCCATAACATCCAGACTTCCTGATTGGAAAAACACTAACCTAGTGGGGATTCGATCTTATCGTAGGGTAGCCCTGTCTTGCTTGGTGAATGATATTGTGCGCCGCATATGGAATG', 'id': 'bbaed76e164ab9327a3695dfa5ae4a2b7bcc12e8614d43aa5de2909da2c275800216ae190f58edaebeb3d7804d292b92b0fb1ff191ff17c257d1af7f50da4b91'}), ('cfc86', {'sequence_4': 'GGCATATAAACAGGCAGTCGTCAGAATCCCCCTATTATGAGTGAGGTCATTCGACAACCGGGGCACTTCGGGTGCGAGTCTTATGCTAGCGACTAATTCTATAGGGTTGCTCAGTAGCGTCTAACCGCTGGTCCATCGACGGAAGGAGCCGAGTTTATGGTACCATAAGGGGCTCCAGCAAGGAATGAGCAGTCATTCTCGTTAAGTCTCCATAGGCGAGCCATACATGTGCATTATGAACGACACGATCGTATGCGTCCACTTGTTGTACGCCGCAATGTAGACGGCAATTCGTCCTCGTATAAACACTTCTAGCACGACCGAATAAGGCATGTGCTCTATAACACCAATTTTAGCCTTTCTGATAATGTGACGAGCATCCATCTCAGACATGGACCGTCTCGTGAATTTAAACGCCCCTGATAGATAGAACGTAGCGTGGAAAAGATAAGTCTATAACTAGCCTAGTTGGTCTCGTGACATGAGTGTCGCGCTAAATAGGTAACGGTTTCTCCTAACCACTGGACGCCACCTTGCCGCCCCCTTTTCTGCTGATTAAGTCCCAATCCCCGCCGGTAACTTTGTGCGCGTACACGAGGGATGTTCTTATAATAGTCTGAGGCGGGACCAAAAAAGTTGGCTTTGCTTAGGGCAGGATAGTTTAAAACATAGATCCCCACGCTGAGTGCTTTTTTAGCCCACGGGTAGTAAACGAATGTTATAAAAAGGGCTGGTGTTTTGAGATTTGCGGCGGCCCAGCAGGGATTGGTGTGATACGGAGCAAGGAGTTCTAGTCCTACTGAGGTCCAAGGTTTCCCAAGGATCGCCGTATCGCGTCTGTAAAGGATCTGATTGACACCACCCCGACGAGGAAGGGTAAAGGCATATTGAGTCCACCAAAAGACGGATTGGGCTCCTAATGAATTCTGATCGTTCTATGGTCAAGCGAGCCCAGCAGTTTTACTCACCCAGGAGCTCTGCCACTATTGCGGTCGCGTGA', 'segment_number': '4', 'creation_time': '7', 'sequence_1': 'GTCATAAGTCACTCTAGCTTCGTTCCCCAACCCGTGAATATCAACCACAATAAGGTTGAAGACCCCGCTTTCGCAGGTGTGTTGCCAGAGACATTTTAACGCAACGAGCCGGTATCAGTTTCTGAATGCGAGAGCAGTATATAGTGATAGTTTGGGGGTGTAAGGAACAGCTGCGACAGTGTTTCTAAAGTTTCCGGGAGTTCGTTGCGGAGCATGTCGTAGCTCGTCGGCGCACATGCACGGCTAATAGTTTAGCTGGCGTTAATGCCTGCGAACTAAGAGCTGGGATCTCTGGATGGGAGTTAGCCATGACTCGATGACGATTCGGTCACAATAAGCCAAAGGAACCCGAGATGTACGTTATAATTGACTAGCATCGATTCTCATACTCCTCACGATAGGTGTTAAGGAGTTCGATTCGGAAGAGTCATTGTGTCTCCATGAAGAGCCTTAGTCCCTGCCAACTCCTAACCGTTTAGGATGTGTAGATTCTACAACATGAAACTGCCCTTTGTTTCACTCAATTTCATTTTCTTGTACAGATGCCCCTCTAGCCCTTGAAGCCTCATGGATCCATGCTAACTAATGCGTAATTTTTTACCGACGCGTTTCCGTAGTACTCTGGGCTGGAAGATTGACGAAGCGGATGGTCCTTTACACGCCCCCTTTATGCTATTCCAGTCCGTCTTCGGCCCGTACTTTCTTGACATTACGAACACGGGATCGACTTGGTAATTCAATGCCTACCTCGACTTAGCAGACAATAGGTTACCCGCATCGCGAATAAAGAGCATGGACTATATGAAAGCAGGAGTTCCACTCGGCTATCGTAATTCTCCGGACCAGGCTAGCCAATAGTGACCATTTGGAGTTTTAAGGGGCCATCCCATAACATCCAGACTTCCTGATTGGAAAAACACTAACCTAGTGGGGATTCGATCTTATCGTAGGGTAGCCCTGTCTTGCTTGGTGAATGATATTGTGCGCCGCATATGGAATG', 'id': 'cfc861baf113c279dadbcd911199367aaa13859aeb6d68ba810b73cecd671dc7496e54fe03561973a1d3462d2927794730811b4ba7ba64af292190d7ef65ed79'})]\n",
        "0.666666666667\n",
        "0.833333333333"
       ]
      },
      {
       "output_type": "stream",
       "stream": "stdout",
       "text": [
        "\n",
        "1.0"
       ]
      },
      {
       "output_type": "stream",
       "stream": "stdout",
       "text": [
        "\n",
        "0.888888888889"
       ]
      },
      {
       "output_type": "stream",
       "stream": "stdout",
       "text": [
        "\n",
        "1.0"
       ]
      },
      {
       "output_type": "stream",
       "stream": "stdout",
       "text": [
        "\n"
       ]
      }
     ],
     "prompt_number": 86
    },
    {
     "cell_type": "markdown",
     "metadata": {},
     "source": [
      "# Test path_exists(node1, node2) function"
     ]
    },
    {
     "cell_type": "code",
     "collapsed": false,
     "input": [
      "# 1 July 2014 - API Change so the following path_exist(node1, node2) code does not stand. \n",
      "# Segment number has to be specified in order for it to stand.\n",
      "# s.path_exists('b90bb', '3d39c')"
     ],
     "language": "python",
     "metadata": {},
     "outputs": [],
     "prompt_number": 82
    },
    {
     "cell_type": "code",
     "collapsed": false,
     "input": [
      "s.relabeled_transmission_graph().nodes()"
     ],
     "language": "python",
     "metadata": {},
     "outputs": [
      {
       "metadata": {},
       "output_type": "pyout",
       "prompt_number": 83,
       "text": [
        "['a8ec9',\n",
        " '63424',\n",
        " 'cfc86',\n",
        " 'bbaed',\n",
        " '2be07',\n",
        " '48a1b',\n",
        " 'e95e5',\n",
        " '034ea',\n",
        " '3ce97',\n",
        " '03742',\n",
        " 'f1685']"
       ]
      }
     ],
     "prompt_number": 83
    },
    {
     "cell_type": "code",
     "collapsed": false,
     "input": [
      "# s.path_exists('2851c', '09001')"
     ],
     "language": "python",
     "metadata": {},
     "outputs": [],
     "prompt_number": 84
    },
    {
     "cell_type": "code",
     "collapsed": false,
     "input": [],
     "language": "python",
     "metadata": {},
     "outputs": [],
     "prompt_number": 84
    },
    {
     "cell_type": "code",
     "collapsed": false,
     "input": [],
     "language": "python",
     "metadata": {},
     "outputs": [],
     "prompt_number": 84
    }
   ],
   "metadata": {}
  }
 ]
}