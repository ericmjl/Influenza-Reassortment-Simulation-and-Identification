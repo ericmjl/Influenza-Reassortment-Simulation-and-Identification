{
 "metadata": {
  "name": "",
  "signature": "sha256:4dba6277fba2d52a9c54d671e4c630dd110962c485c4f8f649707268bfc162e9"
 },
 "nbformat": 3,
 "nbformat_minor": 0,
 "worksheets": [
  {
   "cells": [
    {
     "cell_type": "code",
     "collapsed": false,
     "input": [
      "from pathogen import Pathogen\n",
      "from segment import Segment\n",
      "from sequence import Sequence\n",
      "from simulator import Simulator"
     ],
     "language": "python",
     "metadata": {},
     "outputs": [],
     "prompt_number": 43
    },
    {
     "cell_type": "code",
     "collapsed": false,
     "input": [
      "# Initialize sequences\n",
      "sequence_PB2 = Sequence(length=1000) #this is representative of segment 1, PB2\n",
      "sequence_H1 = Sequence(length=1000) #this is representative of segment 4, H1\n",
      "sequence_H2 = Sequence(length=1000) #this is representative of segment 4, H2"
     ],
     "language": "python",
     "metadata": {},
     "outputs": [],
     "prompt_number": 44
    },
    {
     "cell_type": "code",
     "collapsed": false,
     "input": [
      "# Initialize segments\n",
      "segment_PB2 = Segment(segment_number=1, substitution_rate=1E-3, sequence=sequence_PB2)\n",
      "segment_H1 = Segment(segment_number=4, substitution_rate=1E-2, sequence=sequence_H1)\n",
      "segment_H2 = Segment(segment_number=4, substitution_rate=1E-2, sequence=sequence_H2)"
     ],
     "language": "python",
     "metadata": {},
     "outputs": [],
     "prompt_number": 45
    },
    {
     "cell_type": "code",
     "collapsed": false,
     "input": [
      "# Add segments to seed viruses\n",
      "virus_H1 = Pathogen(segments=[segment_PB2, segment_H1], creation_time=0, progeny_size=(1.2, 0.5))\n",
      "virus_H2 = Pathogen(segments=[segment_PB2, segment_H2], creation_time=0, progeny_size=(1.2, 0.5))"
     ],
     "language": "python",
     "metadata": {},
     "outputs": [],
     "prompt_number": 46
    },
    {
     "cell_type": "code",
     "collapsed": false,
     "input": [
      "# Subclass the Simulator class for a specific implementation of the increment_timestep() function.\n",
      "from random import random, choice, sample\n",
      "class ViralSimulator(Simulator):\n",
      "    \n",
      "    def increment_timestep(self):\n",
      "        cointoss = random()\n",
      "        threshold = 0.8\n",
      "        \n",
      "        if cointoss <= threshold:\n",
      "            chosen_virus = choice(self.pathogens)\n",
      "            new_virus = chosen_virus.replicate(current_time=self.current_time)\n",
      "            \n",
      "        if cointoss > threshold:\n",
      "            [virus1, virus2] = sample(self.pathogens, 2)\n",
      "            new_virus = virus1.reassort_with(virus2, current_time=self.current_time)\n",
      "        \n",
      "        self.pathogens.append(new_virus)"
     ],
     "language": "python",
     "metadata": {},
     "outputs": [],
     "prompt_number": 47
    },
    {
     "cell_type": "code",
     "collapsed": false,
     "input": [
      "s = ViralSimulator()"
     ],
     "language": "python",
     "metadata": {},
     "outputs": [],
     "prompt_number": 48
    },
    {
     "cell_type": "code",
     "collapsed": false,
     "input": [
      "s.add_pathogens([virus_H1, virus_H2])"
     ],
     "language": "python",
     "metadata": {},
     "outputs": [],
     "prompt_number": 49
    },
    {
     "cell_type": "code",
     "collapsed": false,
     "input": [
      "s.run(timesteps=10)"
     ],
     "language": "python",
     "metadata": {},
     "outputs": [
      {
       "output_type": "stream",
       "stream": "stdout",
       "text": [
        "{bdc04: [1, 4]}\n",
        "{bdc04: [1, 4]}\n",
        "{bdc04: [1, 4]}\n",
        "{fc1d7: [1, 4]}\n",
        "{a9cf7: [1, 4]}\n",
        "{21b57: [1, 4]}\n",
        "{a9cf7: [1, 4]}\n"
       ]
      }
     ],
     "prompt_number": 50
    },
    {
     "cell_type": "code",
     "collapsed": false,
     "input": [
      "s.write_transmission_graph(outfile_name=\"outfile_test\", folder_name='Network Pickles')"
     ],
     "language": "python",
     "metadata": {},
     "outputs": [],
     "prompt_number": 51
    },
    {
     "cell_type": "code",
     "collapsed": false,
     "input": [
      "s.write_sequences(outfile_name=\"outfile_test\", folder_name='FASTA Files')"
     ],
     "language": "python",
     "metadata": {},
     "outputs": [],
     "prompt_number": 52
    },
    {
     "cell_type": "code",
     "collapsed": false,
     "input": [
      "s.transmission_graph.nodes(data=True)"
     ],
     "language": "python",
     "metadata": {},
     "outputs": [
      {
       "metadata": {},
       "output_type": "pyout",
       "prompt_number": 53,
       "text": [
        "[(41401, {'creation_time': 9}),\n",
        " (c5805, {'creation_time': 6}),\n",
        " (fc1d7, {'creation_time': 3}),\n",
        " (d1ad1, {'creation_time': 5}),\n",
        " (a9cf7, {'creation_time': 4}),\n",
        " (bdc04, {'creation_time': 0}),\n",
        " (1fe85, {'creation_time': 8}),\n",
        " (54d28, {'creation_time': 7}),\n",
        " (bd5f5, {'creation_time': 1}),\n",
        " (21b57, {'creation_time': 2}),\n",
        " (c1a6e, {'creation_time': 0})]"
       ]
      }
     ],
     "prompt_number": 53
    },
    {
     "cell_type": "markdown",
     "metadata": {},
     "source": [
      "# Prototype code for Reconstructor class"
     ]
    },
    {
     "cell_type": "code",
     "collapsed": false,
     "input": [
      "from Bio import SeqIO"
     ],
     "language": "python",
     "metadata": {},
     "outputs": [],
     "prompt_number": 54
    },
    {
     "cell_type": "code",
     "collapsed": false,
     "input": [
      "# Initialize a dictionary that contains all of the sequences, split by segment.\n",
      "sequences_dictionary = dict()\n",
      "sequences_dictionary[1] = []\n",
      "sequences_dictionary[4] = []\n",
      "sequences_dictionary"
     ],
     "language": "python",
     "metadata": {},
     "outputs": [
      {
       "metadata": {},
       "output_type": "pyout",
       "prompt_number": 55,
       "text": [
        "{1: [], 4: []}"
       ]
      }
     ],
     "prompt_number": 55
    },
    {
     "cell_type": "code",
     "collapsed": false,
     "input": [
      "# Read in the sequences\n",
      "sequences = [record for record in SeqIO.parse('FASTA Files/outfile_test.fasta', 'fasta')]\n",
      "sequences"
     ],
     "language": "python",
     "metadata": {},
     "outputs": [
      {
       "metadata": {},
       "output_type": "pyout",
       "prompt_number": 56,
       "text": [
        "[SeqRecord(seq=Seq('TACAGCAAAGATGACATATCGAAGCTGAAATATCCCCACGAATCACGCGGAAGT...GCA', SingleLetterAlphabet()), id='bdc049f69823f61bc44f71485953ed27d45069985b172b20fb7815b675cb3fede2bc01ed5956c9adff3a9213b599a2af8f5db519426bc68379c227a3dbd71a56|1|0', name='bdc049f69823f61bc44f71485953ed27d45069985b172b20fb7815b675cb3fede2bc01ed5956c9adff3a9213b599a2af8f5db519426bc68379c227a3dbd71a56|1|0', description='bdc049f69823f61bc44f71485953ed27d45069985b172b20fb7815b675cb3fede2bc01ed5956c9adff3a9213b599a2af8f5db519426bc68379c227a3dbd71a56|1|0 <unknown description>', dbxrefs=[]),\n",
        " SeqRecord(seq=Seq('TTATGCAGCTTTTCCGCGTCTTGACAACGCCTAGCTAGCTAAGGTATTACCGGC...TGC', SingleLetterAlphabet()), id='bdc049f69823f61bc44f71485953ed27d45069985b172b20fb7815b675cb3fede2bc01ed5956c9adff3a9213b599a2af8f5db519426bc68379c227a3dbd71a56|4|0', name='bdc049f69823f61bc44f71485953ed27d45069985b172b20fb7815b675cb3fede2bc01ed5956c9adff3a9213b599a2af8f5db519426bc68379c227a3dbd71a56|4|0', description='bdc049f69823f61bc44f71485953ed27d45069985b172b20fb7815b675cb3fede2bc01ed5956c9adff3a9213b599a2af8f5db519426bc68379c227a3dbd71a56|4|0 <unknown description>', dbxrefs=[]),\n",
        " SeqRecord(seq=Seq('TACAGCAAAGATGACATATCGAAGCTGAAATATCCCCACGAATCACGCGGAAGT...GCA', SingleLetterAlphabet()), id='c1a6e181cf56fc3f9e09e85c68d0b6e344d71c3e968ed65e075bc403f690a79373a63fe1ab68a00f0ffeba8384c30c5340dc3c376da15fff8480b27468065071|1|0', name='c1a6e181cf56fc3f9e09e85c68d0b6e344d71c3e968ed65e075bc403f690a79373a63fe1ab68a00f0ffeba8384c30c5340dc3c376da15fff8480b27468065071|1|0', description='c1a6e181cf56fc3f9e09e85c68d0b6e344d71c3e968ed65e075bc403f690a79373a63fe1ab68a00f0ffeba8384c30c5340dc3c376da15fff8480b27468065071|1|0 <unknown description>', dbxrefs=[]),\n",
        " SeqRecord(seq=Seq('GTTTTTCCTTGCGTCGAAAGTCTTGTGTAATGGAATTGTCGGCGCAGCCTTATC...GAT', SingleLetterAlphabet()), id='c1a6e181cf56fc3f9e09e85c68d0b6e344d71c3e968ed65e075bc403f690a79373a63fe1ab68a00f0ffeba8384c30c5340dc3c376da15fff8480b27468065071|4|0', name='c1a6e181cf56fc3f9e09e85c68d0b6e344d71c3e968ed65e075bc403f690a79373a63fe1ab68a00f0ffeba8384c30c5340dc3c376da15fff8480b27468065071|4|0', description='c1a6e181cf56fc3f9e09e85c68d0b6e344d71c3e968ed65e075bc403f690a79373a63fe1ab68a00f0ffeba8384c30c5340dc3c376da15fff8480b27468065071|4|0 <unknown description>', dbxrefs=[]),\n",
        " SeqRecord(seq=Seq('TACAGCAAAGATGACATATCGAAGCTGAAATATCCCCACGAATCACGCGGAAGT...GCA', SingleLetterAlphabet()), id='bd5f50eb15294a922ac7e39077f10724bfdca3d831fccf3e367da3b65d3ebac7fb460edbec1b38ec0db298bda0129a79043d320284af331d3cd912d8e56a8e8a|1|1', name='bd5f50eb15294a922ac7e39077f10724bfdca3d831fccf3e367da3b65d3ebac7fb460edbec1b38ec0db298bda0129a79043d320284af331d3cd912d8e56a8e8a|1|1', description='bd5f50eb15294a922ac7e39077f10724bfdca3d831fccf3e367da3b65d3ebac7fb460edbec1b38ec0db298bda0129a79043d320284af331d3cd912d8e56a8e8a|1|1 <unknown description>', dbxrefs=[]),\n",
        " SeqRecord(seq=Seq('TTATGCAGCTTTTCCGCGTCTTGACAACGCCTAGCTAGCTAAGGTATTACCGGC...TGC', SingleLetterAlphabet()), id='bd5f50eb15294a922ac7e39077f10724bfdca3d831fccf3e367da3b65d3ebac7fb460edbec1b38ec0db298bda0129a79043d320284af331d3cd912d8e56a8e8a|4|1', name='bd5f50eb15294a922ac7e39077f10724bfdca3d831fccf3e367da3b65d3ebac7fb460edbec1b38ec0db298bda0129a79043d320284af331d3cd912d8e56a8e8a|4|1', description='bd5f50eb15294a922ac7e39077f10724bfdca3d831fccf3e367da3b65d3ebac7fb460edbec1b38ec0db298bda0129a79043d320284af331d3cd912d8e56a8e8a|4|1 <unknown description>', dbxrefs=[]),\n",
        " SeqRecord(seq=Seq('TACAGCAAAGATGACATATCGAAGCTGAAATATCCCCACGAATCACGCGGAAGT...GCA', SingleLetterAlphabet()), id='21b579b7150007982e38bdc00911d90c5f44b87997f98217c8279e4ff429ff77f4c0490c5c34311b663434ade5f1b0ed21ee558a98f79e55446dbc7e0fa25003|1|2', name='21b579b7150007982e38bdc00911d90c5f44b87997f98217c8279e4ff429ff77f4c0490c5c34311b663434ade5f1b0ed21ee558a98f79e55446dbc7e0fa25003|1|2', description='21b579b7150007982e38bdc00911d90c5f44b87997f98217c8279e4ff429ff77f4c0490c5c34311b663434ade5f1b0ed21ee558a98f79e55446dbc7e0fa25003|1|2 <unknown description>', dbxrefs=[]),\n",
        " SeqRecord(seq=Seq('GTTTTTCCTTGCGTCGAAAGTCTTGTGTAATGGAATTGTCTGCGCAGCCTTATC...GAT', SingleLetterAlphabet()), id='21b579b7150007982e38bdc00911d90c5f44b87997f98217c8279e4ff429ff77f4c0490c5c34311b663434ade5f1b0ed21ee558a98f79e55446dbc7e0fa25003|4|2', name='21b579b7150007982e38bdc00911d90c5f44b87997f98217c8279e4ff429ff77f4c0490c5c34311b663434ade5f1b0ed21ee558a98f79e55446dbc7e0fa25003|4|2', description='21b579b7150007982e38bdc00911d90c5f44b87997f98217c8279e4ff429ff77f4c0490c5c34311b663434ade5f1b0ed21ee558a98f79e55446dbc7e0fa25003|4|2 <unknown description>', dbxrefs=[]),\n",
        " SeqRecord(seq=Seq('TACAGCAAAGATGACATATCGAAGCTGAAATATCCCCACGAATCACGCGGAAGT...GCA', SingleLetterAlphabet()), id='fc1d7c5196f0d7eb89f125f894ae46dcd0f2cd8bad003a16e63dc7eb6068833ccf9421ec95d52e8e9cdf7698ea4553caa71359d96a79185056bd4db2d4942eb8|1|3', name='fc1d7c5196f0d7eb89f125f894ae46dcd0f2cd8bad003a16e63dc7eb6068833ccf9421ec95d52e8e9cdf7698ea4553caa71359d96a79185056bd4db2d4942eb8|1|3', description='fc1d7c5196f0d7eb89f125f894ae46dcd0f2cd8bad003a16e63dc7eb6068833ccf9421ec95d52e8e9cdf7698ea4553caa71359d96a79185056bd4db2d4942eb8|1|3 <unknown description>', dbxrefs=[]),\n",
        " SeqRecord(seq=Seq('TTATGCAGCTTTTCCGCGTCTTGACAACGCCTAGCTAGCTAAGGTATTCCCGGC...TGC', SingleLetterAlphabet()), id='fc1d7c5196f0d7eb89f125f894ae46dcd0f2cd8bad003a16e63dc7eb6068833ccf9421ec95d52e8e9cdf7698ea4553caa71359d96a79185056bd4db2d4942eb8|4|3', name='fc1d7c5196f0d7eb89f125f894ae46dcd0f2cd8bad003a16e63dc7eb6068833ccf9421ec95d52e8e9cdf7698ea4553caa71359d96a79185056bd4db2d4942eb8|4|3', description='fc1d7c5196f0d7eb89f125f894ae46dcd0f2cd8bad003a16e63dc7eb6068833ccf9421ec95d52e8e9cdf7698ea4553caa71359d96a79185056bd4db2d4942eb8|4|3 <unknown description>', dbxrefs=[]),\n",
        " SeqRecord(seq=Seq('TACAGCAAAGATGACATATCGAAGCTGAAATATCCCCACGAATCACGCGGAAGT...GCA', SingleLetterAlphabet()), id='a9cf79da0b7c19252e88d98c65d620c993ad30bb6fbf92fd53bf5aae961b8624acff1aa6e1b4fb2b57e4337e5034d6f693a01913011fd1a40d2a6e578638380b|1|4', name='a9cf79da0b7c19252e88d98c65d620c993ad30bb6fbf92fd53bf5aae961b8624acff1aa6e1b4fb2b57e4337e5034d6f693a01913011fd1a40d2a6e578638380b|1|4', description='a9cf79da0b7c19252e88d98c65d620c993ad30bb6fbf92fd53bf5aae961b8624acff1aa6e1b4fb2b57e4337e5034d6f693a01913011fd1a40d2a6e578638380b|1|4 <unknown description>', dbxrefs=[]),\n",
        " SeqRecord(seq=Seq('TTATGCAGCATTTCCGCGTCTTGACAACGCCTAGCTAGCTAAGGTATTACCGGC...TGC', SingleLetterAlphabet()), id='a9cf79da0b7c19252e88d98c65d620c993ad30bb6fbf92fd53bf5aae961b8624acff1aa6e1b4fb2b57e4337e5034d6f693a01913011fd1a40d2a6e578638380b|4|4', name='a9cf79da0b7c19252e88d98c65d620c993ad30bb6fbf92fd53bf5aae961b8624acff1aa6e1b4fb2b57e4337e5034d6f693a01913011fd1a40d2a6e578638380b|4|4', description='a9cf79da0b7c19252e88d98c65d620c993ad30bb6fbf92fd53bf5aae961b8624acff1aa6e1b4fb2b57e4337e5034d6f693a01913011fd1a40d2a6e578638380b|4|4 <unknown description>', dbxrefs=[]),\n",
        " SeqRecord(seq=Seq('TACAGCAAAGATGACATATCGAAGCTGAAATATCCCCACGAATCACGCGGAAGT...GCA', SingleLetterAlphabet()), id='d1ad1323e833411c4ad7535370afb79837eec0c70576da87c226fed36de91a6b308630cacbe157c908c2cda3041c03b022c789c49d4aada5896ac9fb5a620bf6|1|5', name='d1ad1323e833411c4ad7535370afb79837eec0c70576da87c226fed36de91a6b308630cacbe157c908c2cda3041c03b022c789c49d4aada5896ac9fb5a620bf6|1|5', description='d1ad1323e833411c4ad7535370afb79837eec0c70576da87c226fed36de91a6b308630cacbe157c908c2cda3041c03b022c789c49d4aada5896ac9fb5a620bf6|1|5 <unknown description>', dbxrefs=[]),\n",
        " SeqRecord(seq=Seq('TTATGCAGCTTTTCCGCGTCTTGACAACGCCTAGCTAGCTAAGGTATTCCCGGC...TGC', SingleLetterAlphabet()), id='d1ad1323e833411c4ad7535370afb79837eec0c70576da87c226fed36de91a6b308630cacbe157c908c2cda3041c03b022c789c49d4aada5896ac9fb5a620bf6|4|5', name='d1ad1323e833411c4ad7535370afb79837eec0c70576da87c226fed36de91a6b308630cacbe157c908c2cda3041c03b022c789c49d4aada5896ac9fb5a620bf6|4|5', description='d1ad1323e833411c4ad7535370afb79837eec0c70576da87c226fed36de91a6b308630cacbe157c908c2cda3041c03b022c789c49d4aada5896ac9fb5a620bf6|4|5 <unknown description>', dbxrefs=[]),\n",
        " SeqRecord(seq=Seq('TACAGCAAAGATGACATATCGAAGCTGAAATATCCCCACGAATCACGCGGAAGT...GCA', SingleLetterAlphabet()), id='c5805d51c88066fe0488560b0f6b9d46244e008105f6389d9671e35814ab2ae8b36e9e22fbb5059d74034527e9f98ebd42dd449cedbe8336fb600d46b1d53c79|1|6', name='c5805d51c88066fe0488560b0f6b9d46244e008105f6389d9671e35814ab2ae8b36e9e22fbb5059d74034527e9f98ebd42dd449cedbe8336fb600d46b1d53c79|1|6', description='c5805d51c88066fe0488560b0f6b9d46244e008105f6389d9671e35814ab2ae8b36e9e22fbb5059d74034527e9f98ebd42dd449cedbe8336fb600d46b1d53c79|1|6 <unknown description>', dbxrefs=[]),\n",
        " SeqRecord(seq=Seq('TTATGCAGCATTTCCGCGTCTTGACAACGCCTAGCTAGCTAAGGTATTACCGGC...TGC', SingleLetterAlphabet()), id='c5805d51c88066fe0488560b0f6b9d46244e008105f6389d9671e35814ab2ae8b36e9e22fbb5059d74034527e9f98ebd42dd449cedbe8336fb600d46b1d53c79|4|6', name='c5805d51c88066fe0488560b0f6b9d46244e008105f6389d9671e35814ab2ae8b36e9e22fbb5059d74034527e9f98ebd42dd449cedbe8336fb600d46b1d53c79|4|6', description='c5805d51c88066fe0488560b0f6b9d46244e008105f6389d9671e35814ab2ae8b36e9e22fbb5059d74034527e9f98ebd42dd449cedbe8336fb600d46b1d53c79|4|6 <unknown description>', dbxrefs=[]),\n",
        " SeqRecord(seq=Seq('TACAGCAAAGATGACATATCGAAGCTGAAATATCCCCACGAATCACGCGGAAGT...GCA', SingleLetterAlphabet()), id='54d283c3b543065c4f564d9b41274789e5a04077a7ba5d1ac2fe1a93bc277fb3fdae8490e69288f9734f62e74518386b8e8adf37f7b0b572f2765ab6b76b60e7|1|7', name='54d283c3b543065c4f564d9b41274789e5a04077a7ba5d1ac2fe1a93bc277fb3fdae8490e69288f9734f62e74518386b8e8adf37f7b0b572f2765ab6b76b60e7|1|7', description='54d283c3b543065c4f564d9b41274789e5a04077a7ba5d1ac2fe1a93bc277fb3fdae8490e69288f9734f62e74518386b8e8adf37f7b0b572f2765ab6b76b60e7|1|7 <unknown description>', dbxrefs=[]),\n",
        " SeqRecord(seq=Seq('GTTTTTCCTTGCGTCGAAAGTCTTGTGTAATGGAATTGTCTGCGCAGCCTTATC...GAT', SingleLetterAlphabet()), id='54d283c3b543065c4f564d9b41274789e5a04077a7ba5d1ac2fe1a93bc277fb3fdae8490e69288f9734f62e74518386b8e8adf37f7b0b572f2765ab6b76b60e7|4|7', name='54d283c3b543065c4f564d9b41274789e5a04077a7ba5d1ac2fe1a93bc277fb3fdae8490e69288f9734f62e74518386b8e8adf37f7b0b572f2765ab6b76b60e7|4|7', description='54d283c3b543065c4f564d9b41274789e5a04077a7ba5d1ac2fe1a93bc277fb3fdae8490e69288f9734f62e74518386b8e8adf37f7b0b572f2765ab6b76b60e7|4|7 <unknown description>', dbxrefs=[]),\n",
        " SeqRecord(seq=Seq('TACAGCAAAGATGACATATCGAAGCTGAAATATCCCCACGAATCACGCGGAAGT...GCA', SingleLetterAlphabet()), id='1fe85407f7ddf29c093e1b04a86bd3bdc13a53aa51c65f35b25d386aaf26eb35b15eeb9c7743c578a0ebb24de4c3be9f640d286ff37c587a99eda8a94342fa5a|1|8', name='1fe85407f7ddf29c093e1b04a86bd3bdc13a53aa51c65f35b25d386aaf26eb35b15eeb9c7743c578a0ebb24de4c3be9f640d286ff37c587a99eda8a94342fa5a|1|8', description='1fe85407f7ddf29c093e1b04a86bd3bdc13a53aa51c65f35b25d386aaf26eb35b15eeb9c7743c578a0ebb24de4c3be9f640d286ff37c587a99eda8a94342fa5a|1|8 <unknown description>', dbxrefs=[]),\n",
        " SeqRecord(seq=Seq('TTATGCAGCTTTTCCGCGTCTTGACAACGCCTAGCTAGCTAAGGTATTCCCGGC...TGC', SingleLetterAlphabet()), id='1fe85407f7ddf29c093e1b04a86bd3bdc13a53aa51c65f35b25d386aaf26eb35b15eeb9c7743c578a0ebb24de4c3be9f640d286ff37c587a99eda8a94342fa5a|4|8', name='1fe85407f7ddf29c093e1b04a86bd3bdc13a53aa51c65f35b25d386aaf26eb35b15eeb9c7743c578a0ebb24de4c3be9f640d286ff37c587a99eda8a94342fa5a|4|8', description='1fe85407f7ddf29c093e1b04a86bd3bdc13a53aa51c65f35b25d386aaf26eb35b15eeb9c7743c578a0ebb24de4c3be9f640d286ff37c587a99eda8a94342fa5a|4|8 <unknown description>', dbxrefs=[]),\n",
        " SeqRecord(seq=Seq('TACAGCAAAGATGACATATCGAAGCTGAAATATCCCCACGAATCACGCGGAAGT...GCA', SingleLetterAlphabet()), id='4140157d4d8283edb2c41e995f92fe7931b98313374ce9bdca564b03069b07c0685f96f76d9522170a278fd2a75c96acbfc5bbe9d2c83737e4902f6b35d55126|1|9', name='4140157d4d8283edb2c41e995f92fe7931b98313374ce9bdca564b03069b07c0685f96f76d9522170a278fd2a75c96acbfc5bbe9d2c83737e4902f6b35d55126|1|9', description='4140157d4d8283edb2c41e995f92fe7931b98313374ce9bdca564b03069b07c0685f96f76d9522170a278fd2a75c96acbfc5bbe9d2c83737e4902f6b35d55126|1|9 <unknown description>', dbxrefs=[]),\n",
        " SeqRecord(seq=Seq('TTATGCAGCATTTCCGCGTCTTGACAACGCCTAGCTAGCTAAGGTATTACCGGC...TGC', SingleLetterAlphabet()), id='4140157d4d8283edb2c41e995f92fe7931b98313374ce9bdca564b03069b07c0685f96f76d9522170a278fd2a75c96acbfc5bbe9d2c83737e4902f6b35d55126|4|9', name='4140157d4d8283edb2c41e995f92fe7931b98313374ce9bdca564b03069b07c0685f96f76d9522170a278fd2a75c96acbfc5bbe9d2c83737e4902f6b35d55126|4|9', description='4140157d4d8283edb2c41e995f92fe7931b98313374ce9bdca564b03069b07c0685f96f76d9522170a278fd2a75c96acbfc5bbe9d2c83737e4902f6b35d55126|4|9 <unknown description>', dbxrefs=[])]"
       ]
      }
     ],
     "prompt_number": 56
    },
    {
     "cell_type": "code",
     "collapsed": false,
     "input": [
      "# Append the sequences to the dictionary.\n",
      "# This can be written into a function.\n",
      "split_char = '|' # The character that will be used to split the SeqRecord.id string\n",
      "pos_segment_num = 1 # The position of the segment number after splitting by the split_char\n",
      "\n",
      "for sequence in sequences:\n",
      "    segment_number = int(sequence.id.split(split_char)[pos_segment_num])\n",
      "    sequences_dictionary[segment_number].append(sequence)\n",
      "\n",
      "# sequences_dictionary"
     ],
     "language": "python",
     "metadata": {},
     "outputs": [],
     "prompt_number": 57
    },
    {
     "cell_type": "code",
     "collapsed": false,
     "input": [
      "# Create a NetworkX graph using one segment's sequences, and add nodes.\n",
      "import networkx as nx\n",
      "\n",
      "G = nx.DiGraph()\n",
      "\n",
      "splitchar = '|'\n",
      "pos_id = 0\n",
      "pos_segment_num = 1\n",
      "pos_creation_time = 2\n",
      "\n",
      "segment_number = 4\n",
      "\n",
      "for sequence in sequences_dictionary[segment_number]:\n",
      "    [isolate_id, segment_num, creation_time] = sequence.id.split(splitchar)\n",
      "    G.add_node(isolate_id[0:5], sequence=sequence.seq, id=isolate_id, segment_num=int(segment_num), creation_time=int(creation_time))\n",
      "\n",
      "# at this point, we would return G, and append it to the dictionary of Graphs available.\n",
      "# G.nodes(data=True)"
     ],
     "language": "python",
     "metadata": {},
     "outputs": [],
     "prompt_number": 58
    },
    {
     "cell_type": "code",
     "collapsed": false,
     "input": [
      "# Add edges to the graph, based on the Levenshtein distance between two sequences.\n",
      "import Levenshtein\n",
      "for node1 in G.nodes(data=True):\n",
      "    for node2 in G.nodes(data=True):\n",
      "        if node1[1]['creation_time'] < node2[1]['creation_time']:\n",
      "            weight = Levenshtein.distance(str(node1[1]['sequence']), str(node2[1]['sequence']))\n",
      "            G.add_edge(node1[0], node2[0], weight=weight)"
     ],
     "language": "python",
     "metadata": {},
     "outputs": [],
     "prompt_number": 59
    },
    {
     "cell_type": "code",
     "collapsed": false,
     "input": [
      "# Prune graph by distance.\n",
      "for node in G.nodes(data=True):\n",
      "    in_edges = G.in_edges(node[0], data=True)\n",
      "#     print in_edges\n",
      "    if len(in_edges) != 0:\n",
      "        min_weight = min([edge[2]['weight'] for edge in in_edges])\n",
      "        print min_weight\n",
      "        print node\n",
      "        for edge in in_edges:\n",
      "            if edge[2]['weight'] != min_weight:\n",
      "                G.remove_edge(edge[0], edge[1])"
     ],
     "language": "python",
     "metadata": {},
     "outputs": [
      {
       "output_type": "stream",
       "stream": "stdout",
       "text": [
        "14\n",
        "('21b57', {'segment_num': 4, 'creation_time': 2, 'id': '21b579b7150007982e38bdc00911d90c5f44b87997f98217c8279e4ff429ff77f4c0490c5c34311b663434ade5f1b0ed21ee558a98f79e55446dbc7e0fa25003', 'sequence': Seq('GTTTTTCCTTGCGTCGAAAGTCTTGTGTAATGGAATTGTCTGCGCAGCCTTATC...GAT', SingleLetterAlphabet())})\n",
        "8\n",
        "('d1ad1', {'segment_num': 4, 'creation_time': 5, 'id': 'd1ad1323e833411c4ad7535370afb79837eec0c70576da87c226fed36de91a6b308630cacbe157c908c2cda3041c03b022c789c49d4aada5896ac9fb5a620bf6', 'sequence': Seq('TTATGCAGCTTTTCCGCGTCTTGACAACGCCTAGCTAGCTAAGGTATTCCCGGC...TGC', SingleLetterAlphabet())})\n",
        "9\n",
        "('c5805', {'segment_num': 4, 'creation_time': 6, 'id': 'c5805d51c88066fe0488560b0f6b9d46244e008105f6389d9671e35814ab2ae8b36e9e22fbb5059d74034527e9f98ebd42dd449cedbe8336fb600d46b1d53c79', 'sequence': Seq('TTATGCAGCATTTCCGCGTCTTGACAACGCCTAGCTAGCTAAGGTATTACCGGC...TGC', SingleLetterAlphabet())})\n",
        "6\n",
        "('54d28', {'segment_num': 4, 'creation_time': 7, 'id': '54d283c3b543065c4f564d9b41274789e5a04077a7ba5d1ac2fe1a93bc277fb3fdae8490e69288f9734f62e74518386b8e8adf37f7b0b572f2765ab6b76b60e7', 'sequence': Seq('GTTTTTCCTTGCGTCGAAAGTCTTGTGTAATGGAATTGTCTGCGCAGCCTTATC...GAT', SingleLetterAlphabet())})\n",
        "15\n",
        "('bd5f5', {'segment_num': 4, 'creation_time': 1, 'id': 'bd5f50eb15294a922ac7e39077f10724bfdca3d831fccf3e367da3b65d3ebac7fb460edbec1b38ec0db298bda0129a79043d320284af331d3cd912d8e56a8e8a', 'sequence': Seq('TTATGCAGCTTTTCCGCGTCTTGACAACGCCTAGCTAGCTAAGGTATTACCGGC...TGC', SingleLetterAlphabet())})\n",
        "8\n",
        "('41401', {'segment_num': 4, 'creation_time': 9, 'id': '4140157d4d8283edb2c41e995f92fe7931b98313374ce9bdca564b03069b07c0685f96f76d9522170a278fd2a75c96acbfc5bbe9d2c83737e4902f6b35d55126', 'sequence': Seq('TTATGCAGCATTTCCGCGTCTTGACAACGCCTAGCTAGCTAAGGTATTACCGGC...TGC', SingleLetterAlphabet())})\n",
        "13\n",
        "('a9cf7', {'segment_num': 4, 'creation_time': 4, 'id': 'a9cf79da0b7c19252e88d98c65d620c993ad30bb6fbf92fd53bf5aae961b8624acff1aa6e1b4fb2b57e4337e5034d6f693a01913011fd1a40d2a6e578638380b', 'sequence': Seq('TTATGCAGCATTTCCGCGTCTTGACAACGCCTAGCTAGCTAAGGTATTACCGGC...TGC', SingleLetterAlphabet())})\n",
        "5\n",
        "('1fe85', {'segment_num': 4, 'creation_time': 8, 'id': '1fe85407f7ddf29c093e1b04a86bd3bdc13a53aa51c65f35b25d386aaf26eb35b15eeb9c7743c578a0ebb24de4c3be9f640d286ff37c587a99eda8a94342fa5a', 'sequence': Seq('TTATGCAGCTTTTCCGCGTCTTGACAACGCCTAGCTAGCTAAGGTATTCCCGGC...TGC', SingleLetterAlphabet())})\n",
        "18\n",
        "('fc1d7', {'segment_num': 4, 'creation_time': 3, 'id': 'fc1d7c5196f0d7eb89f125f894ae46dcd0f2cd8bad003a16e63dc7eb6068833ccf9421ec95d52e8e9cdf7698ea4553caa71359d96a79185056bd4db2d4942eb8', 'sequence': Seq('TTATGCAGCTTTTCCGCGTCTTGACAACGCCTAGCTAGCTAAGGTATTCCCGGC...TGC', SingleLetterAlphabet())})\n"
       ]
      }
     ],
     "prompt_number": 60
    },
    {
     "cell_type": "code",
     "collapsed": false,
     "input": [
      "nx.draw_circular(G)"
     ],
     "language": "python",
     "metadata": {},
     "outputs": [
      {
       "metadata": {},
       "output_type": "display_data",
       "png": "[encoded data removed]",
       "text": [
        "<matplotlib.figure.Figure at 0x1063927d0>"
       ]
      }
     ],
     "prompt_number": 61
    },
    {
     "cell_type": "markdown",
     "metadata": {},
     "source": [
      "# Test Reconstructor Class"
     ]
    },
    {
     "cell_type": "code",
     "collapsed": false,
     "input": [
      "from reconstructor import Reconstructor\n",
      "import networkx as nx"
     ],
     "language": "python",
     "metadata": {},
     "outputs": [],
     "prompt_number": 62
    },
    {
     "cell_type": "code",
     "collapsed": false,
     "input": [
      "r = Reconstructor(segments=[1, 4])\n",
      "print r.sequences\n",
      "print r.graphs"
     ],
     "language": "python",
     "metadata": {},
     "outputs": [
      {
       "output_type": "stream",
       "stream": "stdout",
       "text": [
        "{1: [], 4: []}\n",
        "{1: <networkx.classes.digraph.DiGraph object at 0x1063c10d0>, 4: <networkx.classes.digraph.DiGraph object at 0x1063c1690>}\n"
       ]
      }
     ],
     "prompt_number": 63
    },
    {
     "cell_type": "code",
     "collapsed": false,
     "input": [
      "fasta_file = 'FASTA Files/outfile_test.fasta'\n",
      "r.read_fasta_file(fasta_file)"
     ],
     "language": "python",
     "metadata": {},
     "outputs": [],
     "prompt_number": 64
    },
    {
     "cell_type": "code",
     "collapsed": false,
     "input": [
      "r.add_nodes_with_data()\n",
      "r.add_edges_with_weight()\n",
      "r.prune_graphs_by_weight()\n",
      "r.compose_segment_graphs()\n",
      "r.condense_composed_segment_graphs()\n",
      "r.prune_condensed_graph()"
     ],
     "language": "python",
     "metadata": {},
     "outputs": [],
     "prompt_number": 65
    },
    {
     "cell_type": "code",
     "collapsed": false,
     "input": [
      "r.condensed_graph.edges(data=True)"
     ],
     "language": "python",
     "metadata": {},
     "outputs": [
      {
       "metadata": {},
       "output_type": "pyout",
       "prompt_number": 66,
       "text": [
        "[('21b57', '54d28', {'segments': [1, 4], 'weight': 7}),\n",
        " ('d1ad1', '1fe85', {'segments': [1, 4], 'weight': 8}),\n",
        " ('c1a6e', '21b57', {'segments': [4], 'weight': 14}),\n",
        " ('bdc04', 'a9cf7', {'segments': [1, 4], 'weight': 13}),\n",
        " ('bdc04', 'fc1d7', {'segments': [1, 4], 'weight': 19}),\n",
        " ('bdc04', 'bd5f5', {'segments': [1, 4], 'weight': 16}),\n",
        " ('bd5f5', '21b57', {'segments': [1], 'weight': 0}),\n",
        " ('a9cf7', 'c5805', {'segments': [1, 4], 'weight': 10}),\n",
        " ('a9cf7', '41401', {'segments': [1, 4], 'weight': 10}),\n",
        " ('fc1d7', 'd1ad1', {'segments': [1, 4], 'weight': 8})]"
       ]
      }
     ],
     "prompt_number": 66
    },
    {
     "cell_type": "code",
     "collapsed": false,
     "input": [
      "r.condensed_graph.nodes(data=True)"
     ],
     "language": "python",
     "metadata": {},
     "outputs": [
      {
       "metadata": {},
       "output_type": "pyout",
       "prompt_number": 67,
       "text": [
        "[('21b57',\n",
        "  {'creation_time': '2',\n",
        "   'id': '21b579b7150007982e38bdc00911d90c5f44b87997f98217c8279e4ff429ff77f4c0490c5c34311b663434ade5f1b0ed21ee558a98f79e55446dbc7e0fa25003',\n",
        "   'segment_number': '4',\n",
        "   'sequence_1': 'TACAGCAAAGATGACATATCGAAGCTGAAATATCCCCACGAATCACGCGGAAGTCCACTTCCTACTGCGCTTACCTCCAGTCCCTTTTGGATCGACTGGAGCCATTTGCACCACTAGCATAGGAAGTTCAACGTCAGTTTAAATCTCCCAGGTCCTTAGAGTAGAAATGCATCCGCCAAGGGTATAAAGGTAGTCTTGGGCGTTCTGTTGAGTGATTGACTCACACTCGCGGGCAACAAGCTCCTTTCGCACCAAGATGTGAACTGAGCCAAAGCGTAAGCGTTCCGGGGATCTAAGATATTGTAGCCTTGTACCGCGATGGGTAACCCGGGGCGGGCGACATCTGCACACGTGCTCCCTGGCCTGCATTGATGGAAAAGCGCAGTAGTAAGAACTCGTCGCTTAATTGCGCTTTGGATATGCCTTGGAATCAGGTCAGTCTTTTTTTGCTTGATAGTAACCTCCAAGTCCCCGAGTAAATGCCAATATCGGAATTGCCTCCTATAAACGAGCGCATGTCAATGAAGAGCGCTCGCGAGCTACATGCTCTCATTTCCGTCTTGCGGTGATAACGTTCTTGCATCATTTGCCTAGACCAGGAATCTGCCGAGAGGGGGTTACCACCACTCAGGTACGGTTCACGCCACCTGTCTAAGGAAGGACGACCGTGCTCTTAACTATGCCCTCAATTATGGTCGAATGTTTTTACGGACTAGCGTTATTTGATTATGCGTAACCATACTTCCGCCCTCGCAACGGTGGCTGGACTCTGATCTCATTATTTGCCAGACTCCTTTCCCTTGATTATTACTGGCTGGACAAGAAAACATGTGTGAAGGTGTTCCAGCTTCCAAGAAATCGTGACGGTTAGTTGGTGTTGGTTTATTGCCATCGAGCCACTAGCTCTCGCACACCTGCACTCTAGTAGCGAGTTACTTTAGGTGACGTCGGACCGATCATAAAGGGCCGTGCAAGGAATACATTCCCGGAAAGCTTAGCA',\n",
        "   'sequence_4': 'GTTTTTCCTTGCGTCGAAAGTCTTGTGTAATGGAATTGTCTGCGCAGCCTTATCTCTTCCTGGGCCACTGTTCGTACCGGGACGACTTCAAACGAAGAAATCCAGTTAGTTGCGCTATAGTTTCCCGGGAGGGCCCTAATCTCCTTACGCGCCGCGGGGGCATAAAATACTGCCGCGACACTTGGCCATAGCGGTCTCTCCCTGCGCTAGGCATCAATACTTGTCTTGCTATTTTAGGATGGCGACGATAATGCACGTACCGAAAATCAGCATCCCAGGGAGTTTAAGCAGATGGGCGGAAACGAGTTCCATTACGGCGTGCTCTGCCCCTTTGTGTAACCATCATTTTCTGACGTAATGCTAAACGAGGACCCAATTCCCGCCACCCGGATATAGGCCGGGGTCCGCAAGGCCGCTAAGCATTTTTTTACTACCGTCATCCTATCCATCTTAACTCCTATTCCAAAAGTTTTGTCGCTAACACTCTTCTAAGCTGAATGACTTGTTTCTGCCATGCCTCTGCAGAATGAACCACTTCTTTAACACCGTGTGGTGCACAAGGGCAGCCAATTCGCTGTTATTGACAAAGTCCTAGGGCAACGCTATGCAAGTGTTAGTGAGGATAAGACTCGTCTTACGGGGCCGAAGTTCCTCGTTACCTGTTAGCGATATGTACCTGACATTACTTTCCCTTTACATCAGGCCCCGTGGAACAATACACAAACTCAACACAAAGGGATTCCCTATACTGTTGTAATTGCAGCCAAAAAACCCAACTGTGCGTCCTGCGCAACGACGAAGCCCGCGATCAACGTTTCCAGTATTTGAGCGGGCACTCTTACTGCTGGCATTGAACGAGAGACAAAAGCTTTACAAGCTACCTACGTCGTTGAGGTGCATAGGGTACTAGACCATGGGTGCTTCACCGCACGCACTATCAAAAGGTGGTGTACTTCCGGCACTCGTTGAGAACCCACGGCGAGCTTAGACCCTTGTTGAT'}),\n",
        " ('d1ad1',\n",
        "  {'creation_time': '5',\n",
        "   'id': 'd1ad1323e833411c4ad7535370afb79837eec0c70576da87c226fed36de91a6b308630cacbe157c908c2cda3041c03b022c789c49d4aada5896ac9fb5a620bf6',\n",
        "   'segment_number': '4',\n",
        "   'sequence_1': 'TACAGCAAAGATGACATATCGAAGCTGAAATATCCCCACGAATCACGCGGAAGTCCACTTCCTACTGCGCTTACCTCCAGTCCCTTTTGGATCGACTGGAGCCATTTGCACCACTAGCATAGGAAGTTCAACGTCAGTTTAAATCTCCCAGGTCCTTAGAGTAGAAATGCATCCGCCAAGGGTATAAAGGTAGTCTTGGGCGTTCTGTTGAGTAATTGACTCACACTCGCGGGCAACAAGCTCCTTTCGCACCAAGATGTGAACTGAGCCAAAGCGTAAGCGTTCCGGGGATCTAAGATATTGTAGCCTTGTACCGCGATGGGTAACCCGGGGCGGGCGACATCTGCACACGTGCTCCCTGGCCTGCATTGATGGAAAAGCGCAGTAGTAAGAACTCGTCGCTTAATTGCGCTTTGGATATGCCTTGGAATCAGGTCAGTCTTTTTTTGCTTGATAGTAACCTCCAAGTCCCCGAGTAAATGCCAATATCGGAATTGCCTCCTATAAACGAGCGCATGTCAATGAAGAGCGCTCGCGAGCTACATGCTCTCATTTCCGTCTTGCGGTGATAACGTTCTTGCATCATTTGCCTAGACCAGGAATCTGCCGAGAGGGGGTTACCACCACTCAGGTACGGTTCACGCCACCTGTCTAAGGAAGGACGACCGTGCTCTTAACTATGCCCTCAATTATGGTCGAATGTTTTTACGGACTAGCGTTATTTGATTATGCGTAACCATACTTCCGCCCTCGCAACGGTGGCTGGACTCTGATCTCATTATTTGCCAGACTCCTTTCCCTTGATTATTACTGGCTGGACAAGAAAACATGTGTGAAGGTGTTCCAGCTTCCAAGAAATCGTGACGGTTAGTTGGTGTTGGTTTATTGCCATCGAGCCACTAGCACTCGCACACCTGCACTCTAGTAGCGAGTTACTTTAGGTGACGTCGGACCGATCATAAAGGGCCGTGCAAGGAATACATTCCCGGAAAGCTTAGCA',\n",
        "   'sequence_4': 'TTATGCAGCTTTTCCGCGTCTTGACAACGCCTAGCTAGCTAAGGTATTCCCGGCGAGGCAGGGGATAGCCCCCCCCCGAATGTTTACAACCAGCTATTAGCGATGCTAAGTGACTGAAACAACGTCTTTAAGAACTGGTTTTCTAAAATCTATGGGCGCTTTATCTAGGCCCTGCACTGGTCGCTTCTAGCAAACTATTGTCGCACGCATCGTGTAGATTGATCTCAAACAAAGTGGAATGATGGAATTGGTGCAGTGCGGCAGAAGCAAGCCCTTCCGCCAGGAGGTCGTTTCGAACGGTTCTGCTACTGGTCTTTCGGGCAATTTCGACGTTGGGAAACATGCGGTGTCCCTGCACATCGCCGCGTTTTACTCCTCGTATGCCTTTCAACGGGAATGTATCATAGGATATCGGTCACACCTTGACGAAATGGTGTAGTGAATGCCCGTCTGCGACGTGTACAGCCTCGTATAGCTCGATCTCACTCTCGCTAGGCTTGCTTAGGGACAGACTCGCGTGTACAGTTGCCTACTCAAGCTGTAACTCGTGAGAATTACGTATCCTTATAAAAAGCTGGGTGATCCTCGTCCGCAGTGGTTTGTTAAACCATGGGAGAGTTTCCATGCCACTCAGGTCAAATTGCTCCATTGCATCCATACTAGAGGATCCTGAAGTTGTAAGGCTTTGTAATTGAGTTTGTATCTATATCATAAGGGGTCGAACTTAACGCATAGCGAAGCAGTAGTTCCTGTAACGAGGGCTAAGCAATGGCGGGGCGAGAGAAACGATCCAGAAAGGAACTGCCACGTCGACAGTCCCAGGTCTCCTGGGATGTCGACTGCCTCCTACCCCATGCGGATATAGTTCGGAACCGGTTCACTGTAACTACTAGCATTGGGGTCGGTCCGCACGAGAGTTATTGTACATCCTAGAATCATCCGAGACTTCTTCGGTGGTGTGCTACACAGTTAAGGGACACCTGCCGCGAGGAAAGAGTGC'}),\n",
        " ('c1a6e',\n",
        "  {'creation_time': '0',\n",
        "   'id': 'c1a6e181cf56fc3f9e09e85c68d0b6e344d71c3e968ed65e075bc403f690a79373a63fe1ab68a00f0ffeba8384c30c5340dc3c376da15fff8480b27468065071',\n",
        "   'segment_number': '4',\n",
        "   'sequence_1': 'TACAGCAAAGATGACATATCGAAGCTGAAATATCCCCACGAATCACGCGGAAGTCCACTTCCTACTGCGCTTACCTCCAGTCCCTTTTGGATCGACTGGAGCCATTTGCACCACTAGCATAGGAAGTTCAACGTCAGTTTAAATCTCCCAGGTCCTTAGAGTAGAAATGCATCCGCCAAGGGTATAAAGGTAGTCTTGGGCGTTCTGTTGAGTGATTGACTCACACTCGCGGGCAACAAGCTCCTTTCGCACCAAGATGTGAACTGAGCCAAAGCGTAAGCGTTCCGGGGATCTAAGATATTGTAGCCTTGTACCGCGATGGGTAACCCGGGGCGGGCGACATCTGCACACGTGCTCCCTGGCCTGCATTGATGGAAAAGCGCAGTAGTAAGAACTCGTCGCTTAATTGCGCTTTGGATATGCCTTGGAATCAGGTCAGTCTTTTTTTGCTTGATAGTAACCTCCAAGTCCCCGAGTAAATGCCAATATCGGAATTGCCTCCTATAAACGAGCGCATGTCAATGAAGAGCGCTCGCGAGCTACATGCTCTCATTTCCGTCTTGCGGTGATAACGTTCTTGCATCATTTGCCTAGACCAGGAATCTGCCGAGAGGGGGTTACCACCACTCAGGTACGGTTCACGCCACCTGTCTAAGGAAGGACGACCGTGCTCTTAACTATGCCCTCAATTATGGTCGAATGTTTTTACGGACTAGCGTTATTTGATTATGCGTAACCATACTTCCGCCCTCGCAACGGTGGCTGGACTCTGATCTCATTATTTGCCAGACTCCTTTCCCTTGATTATTACTGGCTGGACAAGAAAACATGTGTGAAGGTGTTCCAGCTTCCAAGAAATCGTGACGGTTAGTTGGTGTTGGTTTATTGCCATCGAGCCACTAGCACTCGCACACCTGCACTCTAGTAGCGAGTTACTTTAGGTGACGTCGGACCGATCATAAAGGGCCGTGCAAGGAATACATTCCCGGAAAGCTTAGCA',\n",
        "   'sequence_4': 'GTTTTTCCTTGCGTCGAAAGTCTTGTGTAATGGAATTGTCGGCGCAGCCTTATCTCTTCCTGGGCCACTGTTCGTACCGGGACGACTTCAAACGAAGAAATCCAGTTAGTTGCGCTATAGTTTCCCGGGAGGGCCCTAATCTCCTTACGCGCCGCGGGGGCATAAAATACTGCCGCGACACTTGGCCATAGCGGTCTCTCCCTGCGTTAGGCATCAATACTTGTCTTGCTATATTAGGATGGCGACGATAATGCACGTACCGAAAATCAGCATCCCAGGGAGTTTAAGCAGATGGGCGGAAACGAGTTCCATTACGGCGTGCTCTGCCCCTTTGTGTAACCATCATTTTCTGACGTAATGCTAAACGAGGACCCAATTCCCGCCACCCGGATATAGGCCGGGGTCCGCAAGGCCGCTAAGCATTTTTTTACTACCGTCATCCTATCCATCTTAACTCCTATTCCAAAAGTTTTGTCGCTAACACTCTTCTAAGCTGAATGACTTGTTTCTGCCATGCCTCTGCAGAATGAACTACTTCTTTAACACCGTGTTGTGCACAAGGGCAGCCAATTCGCTGTTATTGACAAAGTCCTAGGGCAACGCTATGCAAGTGTTAGTGAGGATAAGACTCGTCTTACGGGGCCGAAGTTCCTCGTTACCTGTTAGCGATATGTACCTGACATTACTTTCCCTTTAAATCAGGCCCCTTGGAACCATACCCAAACTCAACACAAAGGGATTCCCTATACTGTTGTAATTGCAGCCAAAAAACCCAACTGTGCGTCCTGCGCAACGACGAAGCCCGCGATCAACGTTTCCAGTATGTGAGCGGGCACTCTTACTGCTTGCATTGAACGAGAGACAAAAGCTTTACAAGCTAACTACGTCGTTGAGGTGCATAGGGTACTAGACCATCGGTGCTTCACCGCACGCACTATCAAAAGGTGATGTACTTCCGGCACTCGTTGAGAACCCACGGCGAGCTTAGACCCTTGTTGAT'}),\n",
        " ('c5805',\n",
        "  {'creation_time': '6',\n",
        "   'id': 'c5805d51c88066fe0488560b0f6b9d46244e008105f6389d9671e35814ab2ae8b36e9e22fbb5059d74034527e9f98ebd42dd449cedbe8336fb600d46b1d53c79',\n",
        "   'segment_number': '4',\n",
        "   'sequence_1': 'TACAGCAAAGATGACATATCGAAGCTGAAATATCCCCACGAATCACGCGGAAGTCCACTTCCTACTGCGCTTACCTCCAGTCCCTTTTGGATCGACTGGAGCCATTTGCACCACTAGCATAGGAAGTTCAACGTCAGTTTAAATCTCCCAGGTCCTTAGAGTAGAAATGCATCCGCCAAGGGTATAAAGGTAGTCTTGGGCGTTCTGTTGAGTGATTGACTCACACTCGCGGGCAACAAGCTCCTTTCGCACCAAGATGTGAACTGAGCCAAAGCGTAAGCGTTCCGGGGATCTAAGATATTGTAGCCTTGTACCGCGATGGGTAACCCGGGGCGGGCGACATCTGCACACGTGCTCCCTGGCCTGCATTGATGGAAAAGCGCAGTAGTAAGAACTCGTCGCTTAATTGCGCTTTGGATATGCCTTGGAATCAGGTCAGTCTTTTTTTGCTTGATAGTAACCTCCAAGTCCCCGAGTAAATGCCAATATCGGAATTGCCTCCTATAAACGAGCGCATGTCAATGAAGAGCGCTCGCGAGCTACATGCTCTCATTTCCGTCTTGCGGTGATAACGTTCTTGCATCATTTGCCTAGACCAGGAATCTGCCGAGAGGGGGTTACCACCACTCAGGTACGGTTCACGCCACCTGTCTAAGGAAGGACGACCGTGCTCTTAACTATGCCCTCAATTATGGTCGAATGTTTTTACGGACTAGCGTTATTTGATTATGCGTAACCATACTTCCGCCCTCGCAACGGTGGCTGGACTCTGATCTCATTACTTGCCAGACTCCTTTCCCTTGATTATTACTGGCTGGACAAGAAAACATGTGTGAAGGTGTTCCAGCTTCCAAGAAATCGTGACGGTTAGTTGGTGTTGGTTTATTGCCATCGAGCCACTAGCACTCGCACACCTGCACTCTAGTAGCGAGTTACTTTAGGTGACGTCGGACCGATCATAAAGGGCCGTGCAAGGAATACATTCCCGGAAAGCTTAGCA',\n",
        "   'sequence_4': 'TTATGCAGCATTTCCGCGTCTTGACAACGCCTAGCTAGCTAAGGTATTACCGGCGAGGCAGGGGATAGCCCCCCCCCGAATCTTTACAACCAGCTATTAGCGTTGCTAAGTGACTGAAACAACGACTTAAAGAACTAGTTTACTAAAATCTATGGGCGCTTTAGCTAGGCCCTGCACTGGTCGCTTCTAGCAAACTATTGTCGCATGCATCGTGTAGATTGATCTCAAACAAAGTGGAATGATGGAAAAGGTGCAGAGCGGCAGAAGCAAGCCCTTCCGCCAGGAGGTCGTGTCGAACGGTTCTGCTACTGGTCTTTCGGGCAATTTCGACGTTGGGAAACATGCGGTGTCCCTGCACATCGCCGCGTTTCACTCCTCGTATGCCTCTCAACGGGAAGGTATCTTAGGATATCGGTCACACCTTGGGGAAATGGTGTAGTGAACGCCCGTGTGCGACGTGTACAGCCACGTATAGCTCGATCACACTCTCGCTAGGCTTGCTAAGGGACAGACTCGCGTGTACAGTTGCCTACTCAAGCTGTAACTCGTGAAAATTACGTCTCCTTGTAAAAAGCTGGGTGATCCTCGTCCGCTGTGGTTTGTTAAACCTTGGGAGACGTTCCATGCCACTCAGGTCAAATTGCTCCATCGCATCCATACTAGAGGATCCTGAAGTTGTAAGGCTTTGTAATTGAGTTTGTATCTAAATCATAAGGGACCGAACATAACGCATAGCGAAGCAGTAGTTCCTGTAACGAGGGCTAAACAATGGCGGGGCGAGAGAAACGATCCAGAAAGGAACTGCCACGTCGACAGTCCCAGGGCTCCTGGGATGTCGACTGCCTCCTACCCCATGCGGTTATAGTTCGGAACCGGTTCACTGTAACTACTAGCATTGGGGTGGGTCCGCACGAGAGTTATTGTACATCCTACAATCATCCGAGACTTCTTGGGTGGTGTGCTACACAGGTCAGGGACACCTGCCGCGAGGTAAGAGTGC'}),\n",
        " ('54d28',\n",
        "  {'creation_time': '7',\n",
        "   'id': '54d283c3b543065c4f564d9b41274789e5a04077a7ba5d1ac2fe1a93bc277fb3fdae8490e69288f9734f62e74518386b8e8adf37f7b0b572f2765ab6b76b60e7',\n",
        "   'segment_number': '4',\n",
        "   'sequence_1': 'TACAGCAAAGATGACATATCGAAGCTGAAATATCCCCACGAATCACGCGGAAGTCCACTTCCTACTGCGCTTACCTCCAGTCCCTTTTGGATCGACTGGAGCCATTTGCACCACTAGCATAGGAAGTTCAACGTCAGTTTAAATCTCCCAGGTCCTTAGAGTAGAAATGCATCCGCCAAGGGTATAAAGGTAGTCTTGGGCGTTCTGTTGAGTGATTGACTCACACTCGCGGGCAACAAGCTCCTTTCGCACCAAGATGTGAACTGAGCCAAAGCGTAAGCGTTCCGGGGATCTAAGATATTGTAGCCTTGTACCGCGATGGGTAACCCGGGGCGGGCGACATCTGCACACGTGCTCCCTGGCCTGCATTGATGGAAAAGCGCAGTAGTAAGAACTCGTCGCTTAATTGCGCTTTGGATATGCCTTGGAATCAGGTCAGTCTTTTTTTGCTTGATAGTAACCTCCAAGTCCCCGAGTAAATGCCAATATCGGAATTGCCTCCTATAAACGAGCGCATGTCAATGAAGAGCGCTCGCGAGCTACATGCTCTCATTTCCGTCTTGCGGTGATAACGTTCTTGCATCATTTGCCTAGACCAGGAATCTGCCGAGAGGGGGTTACCACCACTCAGGTACGGTTCACGCCACCTGTCTAAGGAAGGACGACCGTGCTCTTAACTATGCCCTCAATTATGGTCGAATGTTTTTACGGACTAGCGTTATTTGATTATGCGTAACAATACTTCCGCCCTCGCAACGGTGGCTGGACTCTGATCTCATTATTTGCCAGACTCCTTTCCCTTGATTATTACTGGCTGGACAAGAAAACATGTGTGAAGGTGTTCCAGCTTCCAAGAAATCGTGACGGTTAGTTGGTGTTGGTTTATTGCCATCGAGCCACTAGCTCTCGCACACCTGCACTCTAGTAGCGAGTTACTTTAGGTGACGTCGGACCGATCATAAAGGGCCGTGCAAGGAATACATTCCCGGAAAGCTTAGCA',\n",
        "   'sequence_4': 'GTTTTTCCTTGCGTCGAAAGTCTTGTGTAATGGAATTGTCTGCGCAGCCTTATCTCTTCCTGGGCCACTGTTCGTACCGGGACGACTTCAAACGAAGAAATCCAGTTAGTTGCGCTATAGTTTCCCGGGAGGGCCCTAATCTCCTTACGCGCCGCGGGGGCATAAAATACTGCCGCGACACTTGGCCATAGCGGTCTCTCCCTGCGCTAGGCATCAATACTTGTCTTGCTATTTTAGGATGGCGACGATAATGCACGTACCGAAAATCAGCATCCCAGGGAGTTTAAGTAGATGGGCGGAAACGAGTTCCATTACGGCGTGCTCTGCCCCTTTGTGTAACCATCATTTTCTGACGTAATGCTAAACGAAGACCCAATTCCCGCCACCCGGATATAGGCCGGGGTCCGCAAGGCCGCTAAGCATTTTTTTACTACCGTCATCCTATCCATCTTAACTCCTATTCCAAAAGTTTTGTCGCTAACACTCTTCTAAGCTGAATGACTTGTTTCTGGCATGCCTCTGCAGAATGAACCACTTCTTTAACACCGTGTGGTGCACAAGGGCAGCCAATTCGCTGTTATTGACAAAGTCCTAGGGCAACGCTATGCAAGTGTTAGTGAGGATAAGACTCGTCTTACGGGGCCGAAGTTCCTCGTTACCTGTTAGCGATATGTACCTGACATTACTTTCCCTTTACATCAGGCCCCGTGGAACAATACACAAACTCAACACAAAGGGATTCCCTATACTGTTGTAATTGCAGCCAAAAAACCCAACTGTGCCTCCTGCGCAACGACGAAGCCCGCGATCAACGTTTCCAGTATTTCAGCGGGCACTCTTACTGCTGGCATTGAACGAGAGACAAAAGCTTTACAAGCTACCTACGTCGTTGAGGTGCATAGGGTACTAGACCATGGGTGCTTCACCGCACGCACTATCAAAAGGTGGTATACTTCCGGCACTCGTTGAGAACCCACGGCGAGCTTAGACCCTTGTTGAT'}),\n",
        " ('bdc04',\n",
        "  {'creation_time': '0',\n",
        "   'id': 'bdc049f69823f61bc44f71485953ed27d45069985b172b20fb7815b675cb3fede2bc01ed5956c9adff3a9213b599a2af8f5db519426bc68379c227a3dbd71a56',\n",
        "   'segment_number': '4',\n",
        "   'sequence_1': 'TACAGCAAAGATGACATATCGAAGCTGAAATATCCCCACGAATCACGCGGAAGTCCACTTCCTACTGCGCTTACCTCCAGTCCCTTTTGGATCGACTGGAGCCATTTGCACCACTAGCATAGGAAGTTCAACGTCAGTTTAAATCTCCCAGGTCCTTAGAGTAGAAATGCATCCGCCAAGGGTATAAAGGTAGTCTTGGGCGTTCTGTTGAGTGATTGACTCACACTCGCGGGCAACAAGCTCCTTTCGCACCAAGATGTGAACTGAGCCAAAGCGTAAGCGTTCCGGGGATCTAAGATATTGTAGCCTTGTACCGCGATGGGTAACCCGGGGCGGGCGACATCTGCACACGTGCTCCCTGGCCTGCATTGATGGAAAAGCGCAGTAGTAAGAACTCGTCGCTTAATTGCGCTTTGGATATGCCTTGGAATCAGGTCAGTCTTTTTTTGCTTGATAGTAACCTCCAAGTCCCCGAGTAAATGCCAATATCGGAATTGCCTCCTATAAACGAGCGCATGTCAATGAAGAGCGCTCGCGAGCTACATGCTCTCATTTCCGTCTTGCGGTGATAACGTTCTTGCATCATTTGCCTAGACCAGGAATCTGCCGAGAGGGGGTTACCACCACTCAGGTACGGTTCACGCCACCTGTCTAAGGAAGGACGACCGTGCTCTTAACTATGCCCTCAATTATGGTCGAATGTTTTTACGGACTAGCGTTATTTGATTATGCGTAACCATACTTCCGCCCTCGCAACGGTGGCTGGACTCTGATCTCATTATTTGCCAGACTCCTTTCCCTTGATTATTACTGGCTGGACAAGAAAACATGTGTGAAGGTGTTCCAGCTTCCAAGAAATCGTGACGGTTAGTTGGTGTTGGTTTATTGCCATCGAGCCACTAGCACTCGCACACCTGCACTCTAGTAGCGAGTTACTTTAGGTGACGTCGGACCGATCATAAAGGGCCGTGCAAGGAATACATTCCCGGAAAGCTTAGCA',\n",
        "   'sequence_4': 'TTATGCAGCTTTTCCGCGTCTTGACAACGCCTAGCTAGCTAAGGTATTACCGGCGAGGCAGGGGATAGCCCCCCCCCGAATGTTTACAACCAGCTATTAGCGTTGCTAAGTGACTGAAACAACGACTTTAAGAACTGGTTTTCTAAAATCTATGGGCGCTTTAGCTAGGCCCTGCACTGGTCGCTTCTAGCAAACTATTGTCGCACGCATCGTGTAGATTGATCTCAAACAAAGTGGAATGATGGAAAAGGTGCAGTGCGGCAGAAGCAAGCCCTCCCGCCAGGAGGTCGTGTCGAACGGTTCTGCTACTGGTCTTTCGGGCAATTTCGACGTTGGGAAACATGCGGTGTCCCTGCACATCGCCGCGTTTTACTCCTCGTATGCCTTTCAACGGGAAGGTATCTTAGGATATCGGTCACACCTTGACGAAATGGTGTAGTGAATGCCCGTCTGCGACGTGTACAGCCACGTATAGCTCGATCACACTCTCGCTAGGCTTGCTAAGGGACAGACTCGCGTGTACAGTTGCCTACTCAAGCTGTAACTCGTGAAAATTACGTCTCCTTATAAAAAGCTGGGTGATCCTCGTCCGCAGTGGTTTGTTAAACCATGGGAGACGTTCCATGCCACTCAGGTCAAATTGCTCCATTGCATCCATACTAGAGGATCCTGAAGTTGTAAGGCTTTGTAATTGAGTTTGTATCTATATCATAAGGGATCGAACTTAACGCATAGCGAAGCAGTAGTTCCTGTAACGAGGGCTAAACAATGGCGGGGCGAGAGAAACGATCCAGAAAGGAACTGCCACGTCGACAGTCCCAGGGCTCCTGGGATGTCGACTGCCTCCTACCCCATGCGGTTATAGTTCGGAACCGGTTCACTGTAACTACTAGCATTGGGGTGGGTCCGCACGAGAGTTATTGTACATCCTACAATCATCCGAGACTTCTTGGGTGGTGTGCTACACAGGTAAGGGACACCTGCCGCGAGGTAAGAGTGC'}),\n",
        " ('bd5f5',\n",
        "  {'creation_time': '1',\n",
        "   'id': 'bd5f50eb15294a922ac7e39077f10724bfdca3d831fccf3e367da3b65d3ebac7fb460edbec1b38ec0db298bda0129a79043d320284af331d3cd912d8e56a8e8a',\n",
        "   'segment_number': '4',\n",
        "   'sequence_1': 'TACAGCAAAGATGACATATCGAAGCTGAAATATCCCCACGAATCACGCGGAAGTCCACTTCCTACTGCGCTTACCTCCAGTCCCTTTTGGATCGACTGGAGCCATTTGCACCACTAGCATAGGAAGTTCAACGTCAGTTTAAATCTCCCAGGTCCTTAGAGTAGAAATGCATCCGCCAAGGGTATAAAGGTAGTCTTGGGCGTTCTGTTGAGTGATTGACTCACACTCGCGGGCAACAAGCTCCTTTCGCACCAAGATGTGAACTGAGCCAAAGCGTAAGCGTTCCGGGGATCTAAGATATTGTAGCCTTGTACCGCGATGGGTAACCCGGGGCGGGCGACATCTGCACACGTGCTCCCTGGCCTGCATTGATGGAAAAGCGCAGTAGTAAGAACTCGTCGCTTAATTGCGCTTTGGATATGCCTTGGAATCAGGTCAGTCTTTTTTTGCTTGATAGTAACCTCCAAGTCCCCGAGTAAATGCCAATATCGGAATTGCCTCCTATAAACGAGCGCATGTCAATGAAGAGCGCTCGCGAGCTACATGCTCTCATTTCCGTCTTGCGGTGATAACGTTCTTGCATCATTTGCCTAGACCAGGAATCTGCCGAGAGGGGGTTACCACCACTCAGGTACGGTTCACGCCACCTGTCTAAGGAAGGACGACCGTGCTCTTAACTATGCCCTCAATTATGGTCGAATGTTTTTACGGACTAGCGTTATTTGATTATGCGTAACCATACTTCCGCCCTCGCAACGGTGGCTGGACTCTGATCTCATTATTTGCCAGACTCCTTTCCCTTGATTATTACTGGCTGGACAAGAAAACATGTGTGAAGGTGTTCCAGCTTCCAAGAAATCGTGACGGTTAGTTGGTGTTGGTTTATTGCCATCGAGCCACTAGCTCTCGCACACCTGCACTCTAGTAGCGAGTTACTTTAGGTGACGTCGGACCGATCATAAAGGGCCGTGCAAGGAATACATTCCCGGAAAGCTTAGCA',\n",
        "   'sequence_4': 'TTATGCAGCTTTTCCGCGTCTTGACAACGCCTAGCTAGCTAAGGTATTACCGGCGAGGCAGGGCATAGCCCCCCCCCGAATGTTTACAACCAGCTATTAGCGTTGCTAAGTGACTGAAACAACGACTTTAAGAACTGGTTTTCTAAAATCTATGGGCGCTTTAGCTAGGCCCTACACTGGTCGCTTCTAGCAAACTATTGTCGCACGCATCGTGTAGATGGATCTCAAACAAAGTGGAATGATGGAAAAGGTGCAGTGCGGCAGAAGCAAGCCCTCCCGCCAGGAGGTCGTGTCGAACGGTTCTGCTACTGGTCTTTCGGGCAATTTCGACGTTGGGAAACATGCGGTGTCCCTGCACATCGCCGCGTTTTACTCCTCGTATGCCTTTCAACGGGAAGGTATCTTAGGATATCGGTCACACCTTGACGAAATGGTGTAGTGAATGCCCGTCTGCGACGTGTACAGCCACATATAGCTCGATCACACTCTCGCTAGGCTTGATAAGGGACAGACTCGCGTGTACAGTTGCCTACTCAAGCTGTAACTCGTGAAAATTACGTCTCCTTGTAAAAAGCTGGGTGATCCTCGTCCGCAGTGGTTTGTTAAACCATGGGCGACGTTCCATGCCAATCAGGTCAAATTGCTCCATTGCATCCATACTCGAGGATCCTGAAGTTGTAAGGCTTTGTAATTGAGTTTGTATCTATCTCATAAGGGATCGAACTTAACGCATACCGAAGCAGTAGTTCCAGTAACGAGGGCTAAACAATGGCGGGGCGAGAGAAACGATCCAGAAAGGAACTGCCACGTCGACAGTCCCAGGGCACCTGGGATGTCGACTGCCTCCTACCCCATGCGGTTATAGTTCGGAACCGGTTCACTGTAAGTACTAGCATTGGGGTGGGTCCGCACGGGAGTTATTGTACATCCTACAATCATCCGAGACTTCTTGGGTGGTGTGCTACACAGGTAAGGGACACCTGCCGCGAGGTAAGAGTGC'}),\n",
        " ('41401',\n",
        "  {'creation_time': '9',\n",
        "   'id': '4140157d4d8283edb2c41e995f92fe7931b98313374ce9bdca564b03069b07c0685f96f76d9522170a278fd2a75c96acbfc5bbe9d2c83737e4902f6b35d55126',\n",
        "   'segment_number': '4',\n",
        "   'sequence_1': 'TACAGCAAAGATGACATATCGAAGCTGAAATATCCCCACGAATCACGCGGAAGTCCACTTCCTACTGCGCTTACCTCCAGTCCCTTTTGGATCGACTGGAGCCATTTGCACCACTAGCATAGGAAGTTCAACGTCAGTTTAAATCTCCCAGGTCCTTAGAGTAGAAATGCATCCGCCAAGGGTATAAAGGTAGTCTTGGGCGTTCTGTTGAGTGATTGACTCACACTCGCGGGCAACAAGCTCCTTTCGCACCAAGATGTGAACTGAGCCAAAGCGTAAGCGTTCCGGGGATCTAAGATATTGTAGCCTTGTACCGCGATGGGTAACCCGGGGCGGGCGACATCTGCACACGTGCTCCCTGGCCTGCATTGATGGAAAAGCGCAGTAGTAAGAACTCGTCGCTTAATTGCGCTTTGAATATGCCTTGGAATCAGGTCAGTCTTTTTTTGCTTGATAGTAACCTCCAAGTCCCCGAGTAAATGCCAATATCGGAATTGCCTCCTATAAACGAGCGCATGTCAATGAAGAGCGCTCGCGAGCTACGTGCTCTCATTTCCGTCTTGCGGTGATAACGTTCTTGCATCATTTGCCTAGACCAGGAATCTGCCGAGAGGGGGTTACCACCACTCAGGTACGGTTCACGCCACCTGTCTAAGGAAGGACGACCGTGCTCTTAACTATGCCCTCAATTATGGTCGAATGTTTTTACGGACTAGCGTTATTTGATTATGCGTAACCATACTTCCGCCCTCGCAACGGTGGCTGGACTCTGATCTCATTATTTGCCAGACTCCTTTCCCTTGATTATTACTGGCTGGACAAGAAAACATGTGTGAAGGTGTTCCAGCTTCCAAGAAATCGTGACGGTTAGTTGGTGTTGGTTTATTGCCATCGAGCCACTAGCACTCGCACACCTGCACTCTAGTAGCGAGTTACTTTAGGTGACGTCGGACCGATCATAAAGGGCCGTGCAAGGAATACATTCCCGGAAAGCTTAGCA',\n",
        "   'sequence_4': 'TTATGCAGCATTTCCGCGTCTTGACAACGCCTAGCTAGCTAAGGTATTACCGGCGAGGCAGGGGATAGCCCCCCCCCGAATGTTTACAACCAGCTATTAGCGTTGCTGAGTGACTGAAACAACGACTTTAAGAACTGGTTTACTAAAATCTATGGGCGCTTTAGCTAGGCCCTGCACTGGTCGCTTCTAGCAAATTATTGTCGCACGCATCGTGTAGATTGATCTCAAACAAAGTGGAATGATGGAAGAGGTGCAGAGCGGCAGAAGCAAGCCCTCCCGCCAGGAGGTCGTGTCGAACGGTTCTGCTACTGGTCTTTCGGGCAATTTCGACGTTGGGAAACATGCGGTGTCCCTGCACATCGCCGCGTTTCACTCCTCGTATGCCTCTCAACGGGAAGGTATCTTAGGATATCGGTCACACCTTGAGGAAATGGTGTAGTGAATGCCCGTCTGCGACGTGTACAGCCACGTATAGCTCGATCACACTCTAGCTAGGCTTGCTAAGGGACAGACTCGCGTGTACAGTTGCCTACTCAAGCTGTAACTCGTGAAAATTACGTCTCCTTGTAAAAAGCTGGGTGATCCTCGTCCGCTGTGGTTTGTTAAACCTTGGGAGACGTTCCATGCCACTCAGGTCAAATTGCTCCATCGTATCCATACTAGAGGATCCTGAAGTTGTAAGGCTTTGTAATTGAGTTTGTATCTATATCATAAGGGTCCGAACATAACGCATAGCGAAGCAGTAGTTCCTGTAACGAGGGCTAAACAATGGCGGGGCGAGAGAAACAATCCAGAAAGGAACTGCCACGTCGACAGTCCCAGGGCTCCTGGGATGTCGACTGCCTCCTACCCCATGCGGTTATAGTTCGGAACCGGTTCACTGTAACTACTAGCATTGGGGTGGGTCCGCACGAGAGTTATTGTACATCCTATAATCATCCGAGACTTCTTGGGTGGTGTGCTACACAGGTCAGGGACACCTGCCGCGAGGTAAGAGTGC'}),\n",
        " ('a9cf7',\n",
        "  {'creation_time': '4',\n",
        "   'id': 'a9cf79da0b7c19252e88d98c65d620c993ad30bb6fbf92fd53bf5aae961b8624acff1aa6e1b4fb2b57e4337e5034d6f693a01913011fd1a40d2a6e578638380b',\n",
        "   'segment_number': '4',\n",
        "   'sequence_1': 'TACAGCAAAGATGACATATCGAAGCTGAAATATCCCCACGAATCACGCGGAAGTCCACTTCCTACTGCGCTTACCTCCAGTCCCTTTTGGATCGACTGGAGCCATTTGCACCACTAGCATAGGAAGTTCAACGTCAGTTTAAATCTCCCAGGTCCTTAGAGTAGAAATGCATCCGCCAAGGGTATAAAGGTAGTCTTGGGCGTTCTGTTGAGTGATTGACTCACACTCGCGGGCAACAAGCTCCTTTCGCACCAAGATGTGAACTGAGCCAAAGCGTAAGCGTTCCGGGGATCTAAGATATTGTAGCCTTGTACCGCGATGGGTAACCCGGGGCGGGCGACATCTGCACACGTGCTCCCTGGCCTGCATTGATGGAAAAGCGCAGTAGTAAGAACTCGTCGCTTAATTGCGCTTTGGATATGCCTTGGAATCAGGTCAGTCTTTTTTTGCTTGATAGTAACCTCCAAGTCCCCGAGTAAATGCCAATATCGGAATTGCCTCCTATAAACGAGCGCATGTCAATGAAGAGCGCTCGCGAGCTACATGCTCTCATTTCCGTCTTGCGGTGATAACGTTCTTGCATCATTTGCCTAGACCAGGAATCTGCCGAGAGGGGGTTACCACCACTCAGGTACGGTTCACGCCACCTGTCTAAGGAAGGACGACCGTGCTCTTAACTATGCCCTCAATTATGGTCGAATGTTTTTACGGACTAGCGTTATTTGATTATGCGTAACCATACTTCCGCCCTCGCAACGGTGGCTGGACTCTGATCTCATTATTTGCCAGACTCCTTTCCCTTGATTATTACTGGCTGGACAAGAAAACATGTGTGAAGGTGTTCCAGCTTCCAAGAAATCGTGACGGTTAGTTGGTGTTGGTTTATTGCCATCGAGCCACTAGCACTCGCACACCTGCACTCTAGTAGCGAGTTACTTTAGGTGACGTCGGACCGATCATAAAGGGCCGTGCAAGGAATACATTCCCGGAAAGCTTAGCA',\n",
        "   'sequence_4': 'TTATGCAGCATTTCCGCGTCTTGACAACGCCTAGCTAGCTAAGGTATTACCGGCGAGGCAGGGGATAGCCCCCCCCCGAATGTTTACAACCAGCTATTAGCGTTGCTAAGTGACTGAAACAACGACTTTAAGAACTGGTTTACTAAAATCTATGGGCGCTTTAGCTAGGCCCTGCACTGGTCGCTTCTAGCAAACTATTGTCGCACGCATCGTGTAGATTGATCTCAAACAAAGTGGAATGATGGAAAAGGTGCAGAGCGGCAGAAGCAAGCCCTCCCGCCAGGAGGTCGTGTCGAACGGTTCTGCTACTGGTCTTTCGGGCAATTTCGACGTTGGGAAACATGCGGTGTCCCTGCACATCGCCGCGTTTCACTCCTCGTATGCCTCTCAACGGGAAGGTATCTTAGGATATCGGTCACACCTTGAGGAAATGGTGTAGTGAATGCCCGTCTGCGACGTGTACAGCCACGTATAGCTCGATCACACTCTCGCTAGGCTTGCTAAGGGACAGACTCGCGTGTACAGTTGCCTACTCAAGCTGTAACTCGTGAAAATTACGTCTCCTTGTAAAAAGCTGGGTGATCCTCGTCCGCTGTGGTTTGTTAAACCTTGGGAGACGTTCCATGCCACTCAGGTCAAATTGCTCCATCGCATCCATACTAGAGGATCCTGAAGTTGTAAGGCTTTGTAATTGAGTTTGTATCTATATCATAAGGGACCGAACATAACGCATAGCGAAGCAGTAGTTCCTGTAACGAGGGCTAAACAATGGCGGGGCGAGAGAAACGATCCAGAAAGGAACTGCCACGTCGACAGTCCCAGGGCTCCTGGGATGTCGACTGCCTCCTACCCCATGCGGTTATAGTTCGGAACCGGTTCACTGTAACTACTAGCATTGGGGTGGGTCCGCACGAGAGTTATTGTACATCCTACAATCATCCGAGACTTCTTGGGTGGTGTGCTACACAGGTCAGGGACACCTGCCGCGAGGTAAGAGTGC'}),\n",
        " ('1fe85',\n",
        "  {'creation_time': '8',\n",
        "   'id': '1fe85407f7ddf29c093e1b04a86bd3bdc13a53aa51c65f35b25d386aaf26eb35b15eeb9c7743c578a0ebb24de4c3be9f640d286ff37c587a99eda8a94342fa5a',\n",
        "   'segment_number': '4',\n",
        "   'sequence_1': 'TACAGCAAAGATGACATATCGAAGCTGAAATATCCCCACGAATCACGCGGAAGTCCACTTCCTACTGCGCTTACCTCCAGTCCCTTTTGGATCGACTGGAGCCATTTGCACCACTAGCATAGGAAGTTCAACGTCAGTTTAAATCTCCCAGGTCCTTAGAGTAGAAATGCATCCGCCAAGGGTATAAAGGTAGTCTTGGGCGTTCTGTTGAGTAATTGACTCACGCTCGCGGGCAACAAGCTCCTTTCGCACCAAGATGTGAACTGAGCCAAAGCGTAAGCGTTCCGGGGATCTAAGATATTGTAGCCTTGTACCGCGATGGGTAACCCGGGGCGGGCGACATCTGCACACGTGCTCCCTGGCCTGCATTGATGGAAAAGCGCAGTAGTAAGAACTCGTCGCTTAATTGCGCTTTGGATATGCCTTGGAATCAGGTCAGTCTTTTTTTGCTTGATAGTAACCTCCAAGTCCCCGAGTAAATGCCAATATCGGAATTGCCTCCTATAAACGAGCGCATGTCAATGAAGAGCGCTCGCGAGCTACATGCTCTCATTTCCGTCTTGCGGTGATAACGTTCTTGCATCATTTGCCTAGACCAGGAATCTGCCGAGAGGGGGTTACCACCACTCAGGTACGGTTCACGCCACCTGTCTAAGGAAGGACGACCGTGCTCTTAACTATGCCCTCAATTATGGTCGAATGTTTTTACGGACTAGCGATATTTGATTATGCGTAACCATACTTCCGCCCTCGCAACGGTGGCTGGACTCTGATCTCATTATTTGCCAGACTCCTTTCCCTTGATTATTACTGGCTGGACAAGAAAACATGTGTGAAGGTGTTCCAGCTTACAAGAAATCGTGACGGTTAGTTGGTGTTGGTTTATTGCCATCGAGCCACTAGCACTCGCACACCTGCACTCTAGTAGCGAGTTACTTTAGGTGACGTCGGACCGATCATAAAGGGCCGTGCAAGGAATACATTCCCGGAAAGCTTAGCA',\n",
        "   'sequence_4': 'TTATGCAGCTTTTCCGCGTCTTGACAACGCCTAGCTAGCTAAGGTATTCCCGGCGAGGCAGGGGATAGCCCCCCCCCGAATGTTTACAACCAGCTATTAGCGATGCTAAGTGACTGAAACAACGTCTTTAAGAACTGGTTTTCTAAAATCTATGGGCGCTTTATCTAGGCCCTGCACTGGTCGCTTCTAGCAAACTATTGTCGCACGCATCGTGTAGATTGATCTCAAACAAAGTGGAATGATGGAATTGGTGCAGTGCGGCAGAAGCAAGCCCTTCCGCCAGGAGGTCGTTTCGAACGGTTCTGCTACTGGTCTTTCGGGCAATTTCGACGTTGGGAAACATGCGGTGTCCCTGCACATCGCCGCGTTTTACTCCTCGTATGCCTTTCAACGGGAATGTATCATAGGATATCGGTCACACCTTGACGAAATGGTGTAGTGAATGCCCGTCTGCGACGTGTACAGCCTCGTATAGCTCGATCTCACTCTCGCTAGGCTTGCTAAGGGACAGACTCGCTTGTACAGTTGCCTACTCAAGCTGTAACTCGTGAGAATTACGTATCCTTATAAAAAGCTGGGTGATCCTCGTCCGCAGTGGTTTGTTAAACCATGGGAGAGTTTCCATGCCACTCAGGTCAAATTGCTCCATTGCATCCATACTAGAGGATCCTGAAGTTGTAAGGCTTTCTAATTGAGTTTGTATCTATATCATAAGGGGTCGAACTTAACCCATAGCGAAGCAGTAGTTCCTGTAACGAGGGCTAAGCAATGGCGGGGCGAGAGAAACGATCCAGAAAGGAACTGCCACGTCGACAGTCCCAGGTCTCCTGGGATGTCGACTGCCTCCTACCCCATGCGGATATAGTTCGGAACCGGTTCACTGTAACTACTAACATTGGGGTCGGTCCGCACGAGAGTTATTGTACATCCTAGAATCATCCGAGACTTCTTCGGTGGTGTGCTACACAGTTAAGGGACACCTGCCGCGAGGAAAGAGTGC'}),\n",
        " ('fc1d7',\n",
        "  {'creation_time': '3',\n",
        "   'id': 'fc1d7c5196f0d7eb89f125f894ae46dcd0f2cd8bad003a16e63dc7eb6068833ccf9421ec95d52e8e9cdf7698ea4553caa71359d96a79185056bd4db2d4942eb8',\n",
        "   'segment_number': '4',\n",
        "   'sequence_1': 'TACAGCAAAGATGACATATCGAAGCTGAAATATCCCCACGAATCACGCGGAAGTCCACTTCCTACTGCGCTTACCTCCAGTCCCTTTTGGATCGACTGGAGCCATTTGCACCACTAGCATAGGAAGTTCAACGTCAGTTTAAATCTCCCAGGTCCTTAGAGTAGAAATGCATCCGCCAAGGGTATAAAGGTAGTCTTGGGCGTTCTGTTGAGTAATTGACTCACACTCGCGGGCAACAAGCTCCTTTCGCACCAAGATGTGAACTGAGCCAAAGCGTAAGCGTTCCGGGGATCTAAGATATTGTAGCCTTGTACCGCGATGGGTAACCCGGGGCGGGCGACATCTGCACACGTGCTCCCTGGCCTGCATTGATGGAAAAGCGCAGTAGTAAGAACTCGTCGCTTAATTGCGCTTTGGATATGCCTTGGAATCAGGTCAGTCTTTTTTTGCTTGATAGTAACCTCCAAGTCCCCGAGTAAATGCCAATATCGGAATTGCCTCCTATAAACGAGCGCATGTCAATGAAGAGCGCTCGCGAGCTACATGCTCTCATTTCCGTCTTGCGGTGATAACGTTCTTGCATCATTTGCCTAGACCAGGAATCTGCCGAGAGGGGGTTACCACCACTCAGGTACGGTTCACGCCACCTGTCTAAGGAAGGACGACCGTGCTCTTAACTATGCCCTCAATTATGGTCGAATGTTTTTACGGACTAGCGTTATTTGATTATGCGTAACCATACTTCCGCCCTCGCAACGGTGGCTGGACTCTGATCTCATTATTTGCCAGACTCCTTTCCCTTGATTATTACTGGCTGGACAAGAAAACATGTGTGAAGGTGTTCCAGCTTCCAAGAAATCGTGACGGTTAGTTGGTGTTGGTTTATTGCCATCGAGCCACTAGCACTCGCACACCTGCACTCTAGTAGCGAGTTACTTTAGGTGACGTCGGACCGATCATAAAGGGCCGTGCAAGGAATACATTCCCGGAAAGCTTAGCA',\n",
        "   'sequence_4': 'TTATGCAGCTTTTCCGCGTCTTGACAACGCCTAGCTAGCTAAGGTATTCCCGGCGAGGCAGGGGATAGCCCCCCCCCGAATGTTTACAACCAGCTATTAGCGATGCTAAGTGACTGAAACAACGTCTTTAAGAACTGGTTTTCTAAAATCTATGGGCGCTTTATCTAGGCCCTGCACTGGTCGCTTCTAGCAAACTATTGTCGCACGCATCGTGTAGATTGATCTCAAACAAAGTGGAATGATGGAAAAGGTGCAGTGCGGCAGAAGCAAGCCCTCCCGCCAGGAGGTCGTTTCGAACGGTTCTGCTACTGGTCTTTCGGGCAATTTCGACGTTGGGAAACATGCGGTGTCCCTGCACATCGCCGCGTTTTACTCCTCGTATGCCTTTCAACGGGAAGGTATCATAGGATATCGGTCACACCTTGACGAAATGGTGTAGTGAATGCCCGTCTGCGACGTGTACAGCCTCGTATAGCTCGATCTCACTCTCGCTAGGCTTGCTTAGGGACAGACTCGCGTGTACAGTTGCCTACTCAAGCTGTAACTCGTGAGAATTACGTCTCCTTATAAAAAGCTGGGTGATCCTCGTCCGCAGTGGTTTGTTAAACCATGGGAGAGTTTCCATGCCACTCAGGTCAAATTGCTCCATTGCATCCATACTAGAGGATCCTGAAGTTGTAAGGCTTTGTAATTGAGTTTGTATCTATATCATAAGGGGTCGAACTTAACGCATAGCGAAGCAGTAGTTCCTGTAACGAGGGCTAAACAATGGCGGGGCGAGAGAAACGATCCAGAAAGGAACTGCCACGTCGACAGTCCCAGGTCTCCTGGGATGTCGACTGCCTCCTACCCCATGCGGATATAGTTCGGAACCGGTTCACTGTAACTACTAGCATTGGGGTGGGTCCGCACGAGAGTTATTGTACATCCTACAATCATCCGAGACTTCTTCGGTGGTGTGCTACACAGTTAAGGGACACCTGCCGCGAGGAAAGAGTGC'})]"
       ]
      }
     ],
     "prompt_number": 67
    },
    {
     "cell_type": "code",
     "collapsed": false,
     "input": [
      "# This code is used for drawing.\n",
      "from random import randint\n",
      "\n",
      "randints = []\n",
      "for node in r.condensed_graph.nodes(data=True):\n",
      "    randints.append(randint(1, 20))\n",
      "print randints\n",
      "\n",
      "reconstruction_positions = dict()\n",
      "for i, node in enumerate(sorted(r.condensed_graph.nodes(data=True))):\n",
      "    reconstruction_positions[node[0]] = (int(node[1]['creation_time']), randints[i])\n",
      "    \n",
      "print len(reconstruction_positions)\n",
      "nx.draw(r.condensed_graph, pos=reconstruction_positions)"
     ],
     "language": "python",
     "metadata": {},
     "outputs": [
      {
       "output_type": "stream",
       "stream": "stdout",
       "text": [
        "[1, 11, 19, 5, 1, 17, 1, 15, 20, 4, 2]\n",
        "11\n"
       ]
      },
      {
       "metadata": {},
       "output_type": "display_data",
       "png": "[encoded data removed]",
       "text": [
        "<matplotlib.figure.Figure at 0x1063ade10>"
       ]
      }
     ],
     "prompt_number": 68
    },
    {
     "cell_type": "code",
     "collapsed": false,
     "input": [
      "simulation_positions = dict()\n",
      "\n",
      "print randints\n",
      "for i, pathogen in enumerate(s.pathogens):\n",
      "    simulation_positions[pathogen] = reconstruction_positions[str(pathogen)]\n",
      "    \n",
      "print len(simulation_positions)\n",
      "nx.draw(s.transmission_graph, pos=simulation_positions)"
     ],
     "language": "python",
     "metadata": {},
     "outputs": [
      {
       "output_type": "stream",
       "stream": "stdout",
       "text": [
        "[1, 11, 19, 5, 1, 17, 1, 15, 20, 4, 2]\n",
        "11\n"
       ]
      },
      {
       "metadata": {},
       "output_type": "display_data",
       "png": "[encoded data removed]",
       "text": [
        "<matplotlib.figure.Figure at 0x106376e50>"
       ]
      }
     ],
     "prompt_number": 69
    },
    {
     "cell_type": "code",
     "collapsed": false,
     "input": [
      "s.pathogens[0].parent"
     ],
     "language": "python",
     "metadata": {},
     "outputs": [
      {
       "metadata": {},
       "output_type": "pyout",
       "prompt_number": 70,
       "text": [
        "{}"
       ]
      }
     ],
     "prompt_number": 70
    },
    {
     "cell_type": "code",
     "collapsed": false,
     "input": [
      "r.condensed_graph.edges(data=True)"
     ],
     "language": "python",
     "metadata": {},
     "outputs": [
      {
       "metadata": {},
       "output_type": "pyout",
       "prompt_number": 71,
       "text": [
        "[('21b57', '54d28', {'segments': [1, 4], 'weight': 7}),\n",
        " ('d1ad1', '1fe85', {'segments': [1, 4], 'weight': 8}),\n",
        " ('c1a6e', '21b57', {'segments': [4], 'weight': 14}),\n",
        " ('bdc04', 'a9cf7', {'segments': [1, 4], 'weight': 13}),\n",
        " ('bdc04', 'fc1d7', {'segments': [1, 4], 'weight': 19}),\n",
        " ('bdc04', 'bd5f5', {'segments': [1, 4], 'weight': 16}),\n",
        " ('bd5f5', '21b57', {'segments': [1], 'weight': 0}),\n",
        " ('a9cf7', 'c5805', {'segments': [1, 4], 'weight': 10}),\n",
        " ('a9cf7', '41401', {'segments': [1, 4], 'weight': 10}),\n",
        " ('fc1d7', 'd1ad1', {'segments': [1, 4], 'weight': 8})]"
       ]
      }
     ],
     "prompt_number": 71
    },
    {
     "cell_type": "code",
     "collapsed": false,
     "input": [
      "for virus in s.identify_reassortants():\n",
      "    print virus"
     ],
     "language": "python",
     "metadata": {},
     "outputs": [
      {
       "output_type": "stream",
       "stream": "stdout",
       "text": [
        "21b57\n"
       ]
      }
     ],
     "prompt_number": 72
    },
    {
     "cell_type": "code",
     "collapsed": false,
     "input": [
      "for virus in r.identify_reassortants():\n",
      "    print virus[0]"
     ],
     "language": "python",
     "metadata": {},
     "outputs": [
      {
       "output_type": "stream",
       "stream": "stdout",
       "text": [
        "21b57\n"
       ]
      }
     ],
     "prompt_number": 73
    },
    {
     "cell_type": "code",
     "collapsed": false,
     "input": [
      "s.transmission_graph.edges(data=True)"
     ],
     "language": "python",
     "metadata": {},
     "outputs": [
      {
       "metadata": {},
       "output_type": "pyout",
       "prompt_number": 74,
       "text": [
        "[(fc1d7, d1ad1, {'segments': [1, 4], 'weight': 8}),\n",
        " (d1ad1, 1fe85, {'segments': [1, 4], 'weight': 8}),\n",
        " (a9cf7, c5805, {'segments': [1, 4], 'weight': 10}),\n",
        " (a9cf7, 41401, {'segments': [1, 4], 'weight': 10}),\n",
        " (bdc04, bd5f5, {'segments': [1, 4], 'weight': 16}),\n",
        " (bdc04, fc1d7, {'segments': [1, 4], 'weight': 19}),\n",
        " (bdc04, a9cf7, {'segments': [1, 4], 'weight': 13}),\n",
        " (bd5f5, 21b57, {'segments': [1], 'weight': 0}),\n",
        " (21b57, 54d28, {'segments': [1, 4], 'weight': 7}),\n",
        " (c1a6e, 21b57, {'segments': [4], 'weight': 14})]"
       ]
      }
     ],
     "prompt_number": 74
    },
    {
     "cell_type": "markdown",
     "metadata": {},
     "source": [
      "# Test Relabeled Graph"
     ]
    },
    {
     "cell_type": "code",
     "collapsed": false,
     "input": [
      "for pathogen in s.pathogens:\n",
      "    print (str(pathogen), str(pathogen.parent))"
     ],
     "language": "python",
     "metadata": {},
     "outputs": [
      {
       "output_type": "stream",
       "stream": "stdout",
       "text": [
        "('bdc04', '{}')\n",
        "('c1a6e', '{}')\n",
        "('bd5f5', '{bdc04: [1, 4]}')\n",
        "('21b57', '{bd5f5: [1], c1a6e: [4]}')\n",
        "('fc1d7', '{bdc04: [1, 4]}')\n",
        "('a9cf7', '{bdc04: [1, 4]}')\n",
        "('d1ad1', '{fc1d7: [1, 4]}')\n",
        "('c5805', '{a9cf7: [1, 4]}')\n",
        "('54d28', '{21b57: [1, 4]}')\n",
        "('1fe85', '{d1ad1: [1, 4]}')\n",
        "('41401', '{a9cf7: [1, 4]}')\n"
       ]
      }
     ],
     "prompt_number": 75
    },
    {
     "cell_type": "code",
     "collapsed": false,
     "input": [
      "s.relabel_transmission_graph()\n",
      "s.relabeled_transmission_graph.edges(data=True)"
     ],
     "language": "python",
     "metadata": {},
     "outputs": [
      {
       "metadata": {},
       "output_type": "pyout",
       "prompt_number": 76,
       "text": [
        "[('21b57', '54d28', {'segments': [1, 4], 'weight': 7}),\n",
        " ('d1ad1', '1fe85', {'segments': [1, 4], 'weight': 8}),\n",
        " ('c1a6e', '21b57', {'segments': [4], 'weight': 14}),\n",
        " ('bdc04', 'a9cf7', {'segments': [1, 4], 'weight': 13}),\n",
        " ('bdc04', 'fc1d7', {'segments': [1, 4], 'weight': 19}),\n",
        " ('bdc04', 'bd5f5', {'segments': [1, 4], 'weight': 16}),\n",
        " ('bd5f5', '21b57', {'segments': [1], 'weight': 0}),\n",
        " ('a9cf7', 'c5805', {'segments': [1, 4], 'weight': 10}),\n",
        " ('a9cf7', '41401', {'segments': [1, 4], 'weight': 10}),\n",
        " ('fc1d7', 'd1ad1', {'segments': [1, 4], 'weight': 8})]"
       ]
      }
     ],
     "prompt_number": 76
    },
    {
     "cell_type": "code",
     "collapsed": false,
     "input": [
      "r.condensed_graph.edges(data=True)"
     ],
     "language": "python",
     "metadata": {},
     "outputs": [
      {
       "metadata": {},
       "output_type": "pyout",
       "prompt_number": 77,
       "text": [
        "[('21b57', '54d28', {'segments': [1, 4], 'weight': 7}),\n",
        " ('d1ad1', '1fe85', {'segments': [1, 4], 'weight': 8}),\n",
        " ('c1a6e', '21b57', {'segments': [4], 'weight': 14}),\n",
        " ('bdc04', 'a9cf7', {'segments': [1, 4], 'weight': 13}),\n",
        " ('bdc04', 'fc1d7', {'segments': [1, 4], 'weight': 19}),\n",
        " ('bdc04', 'bd5f5', {'segments': [1, 4], 'weight': 16}),\n",
        " ('bd5f5', '21b57', {'segments': [1], 'weight': 0}),\n",
        " ('a9cf7', 'c5805', {'segments': [1, 4], 'weight': 10}),\n",
        " ('a9cf7', '41401', {'segments': [1, 4], 'weight': 10}),\n",
        " ('fc1d7', 'd1ad1', {'segments': [1, 4], 'weight': 8})]"
       ]
      }
     ],
     "prompt_number": 77
    },
    {
     "cell_type": "markdown",
     "metadata": {},
     "source": [
      "# Experiment with Accuracy Metrics"
     ]
    },
    {
     "cell_type": "code",
     "collapsed": false,
     "input": [
      "matching_edges = 0\n",
      "total_edges = len(s.relabeled_transmission_graph.edges())\n",
      "for edge in r.condensed_graph.edges(data=True):\n",
      "    if edge in s.relabeled_transmission_graph.edges(data=True):\n",
      "        matching_edges += 1\n",
      "        \n",
      "\n",
      "int(float(matching_edges) / total_edges * 100)"
     ],
     "language": "python",
     "metadata": {},
     "outputs": [
      {
       "metadata": {},
       "output_type": "pyout",
       "prompt_number": 78,
       "text": [
        "100"
       ]
      }
     ],
     "prompt_number": 78
    },
    {
     "cell_type": "code",
     "collapsed": false,
     "input": [
      "# This has been implemented in the prototype functions below.\n",
      "# float(len(r.identify_reassortants()))/float(len(s.identify_reassortants()))"
     ],
     "language": "python",
     "metadata": {},
     "outputs": [],
     "prompt_number": 79
    },
    {
     "cell_type": "code",
     "collapsed": false,
     "input": [
      "# Prototype for the functions.\n",
      "def reassortant_accuracy(simulation, reconstruction):\n",
      "    num_simulation_reassortants = float(len(simulation.identify_reassortants()))\n",
      "    num_reconstruction_reassortants = float(len(reconstruction.identify_reassortants()))\n",
      "    \n",
      "    if num_simulation_reassortants == 0:\n",
      "        return 'No reassortants present in simulation.'\n",
      "    else:\n",
      "        return num_reconstruction_reassortants / num_simulation_reassortants\n",
      "    \n",
      "def transmission_edge_accuracy(simulation, reconstruction):\n",
      "    matching_edges = 0\n",
      "    total_edges = len(simulation.relabeled_transmission_graph.edges())\n",
      "    \n",
      "    for edge in reconstruction.condensed_graph.edges(data=True):\n",
      "        if edge in simulation.relabeled_transmission_graph.edges(data=True):\n",
      "            matching_edges += 1\n",
      "            \n",
      "    return float(matching_edges) / total_edges\n",
      "\n",
      "def transmission_path_accuracy(simulation, reconstruction):\n",
      "    \"\"\"\n",
      "    The accuracy of transmission paths is the number of accurate paths found \n",
      "    divided by the number of paths being considered.\n",
      "    \"\"\"\n",
      "    num_paths = 0\n",
      "    accurate_paths = 0\n",
      "    \n",
      "    for edge in reconstruction.condensed_graph.edges():\n",
      "        if simulation.full_transmission_path_exists(edge[0], edge[1]):\n",
      "            num_paths += 1\n",
      "            accurate_paths += 1\n",
      "        else:\n",
      "            num_paths += 1\n",
      "    \n",
      "    return float(accurate_paths)/num_paths"
     ],
     "language": "python",
     "metadata": {},
     "outputs": [],
     "prompt_number": 80
    },
    {
     "cell_type": "code",
     "collapsed": false,
     "input": [
      "print s.identify_full_transmission_paths()\n",
      "print reassortant_accuracy(s, r)\n",
      "print transmission_edge_accuracy(s, r)\n",
      "print transmission_path_accuracy(s, r)"
     ],
     "language": "python",
     "metadata": {},
     "outputs": [
      {
       "output_type": "stream",
       "stream": "stdout",
       "text": [
        "[set(['c1a6e']), set(['21b57', '54d28']), set(['a9cf7', '1fe85', 'fc1d7', 'd1ad1', 'c5805', 'bdc04', 'bd5f5', '41401'])]\n",
        "1.0\n",
        "1.0\n",
        "0.8"
       ]
      },
      {
       "output_type": "stream",
       "stream": "stdout",
       "text": [
        "\n"
       ]
      }
     ],
     "prompt_number": 81
    },
    {
     "cell_type": "markdown",
     "metadata": {},
     "source": [
      "# Test path_exists(node1, node2) function"
     ]
    },
    {
     "cell_type": "code",
     "collapsed": false,
     "input": [
      "# 1 July 2014 - API Change so the following path_exist(node1, node2) code does not stand. \n",
      "# Segment number has to be specified in order for it to stand.\n",
      "# s.path_exists('b90bb', '3d39c')"
     ],
     "language": "python",
     "metadata": {},
     "outputs": [],
     "prompt_number": 82
    },
    {
     "cell_type": "code",
     "collapsed": false,
     "input": [
      "s.relabeled_transmission_graph.nodes()"
     ],
     "language": "python",
     "metadata": {},
     "outputs": [
      {
       "metadata": {},
       "output_type": "pyout",
       "prompt_number": 83,
       "text": [
        "['c1a6e',\n",
        " 'c5805',\n",
        " 'bd5f5',\n",
        " '41401',\n",
        " 'a9cf7',\n",
        " 'fc1d7',\n",
        " '21b57',\n",
        " 'd1ad1',\n",
        " '54d28',\n",
        " 'bdc04',\n",
        " '1fe85']"
       ]
      }
     ],
     "prompt_number": 83
    },
    {
     "cell_type": "code",
     "collapsed": false,
     "input": [
      "# s.path_exists('2851c', '09001')"
     ],
     "language": "python",
     "metadata": {},
     "outputs": [],
     "prompt_number": 84
    },
    {
     "cell_type": "code",
     "collapsed": false,
     "input": [],
     "language": "python",
     "metadata": {},
     "outputs": [],
     "prompt_number": 84
    }
   ],
   "metadata": {}
  }
 ]
}