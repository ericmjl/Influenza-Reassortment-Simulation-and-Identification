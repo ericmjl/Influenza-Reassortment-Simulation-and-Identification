{
 "metadata": {
  "name": "",
  "signature": "sha256:a8995fa667d5b520a110b48a2d56cf911a4283523a90ba5201b5ce33433e6b01"
 },
 "nbformat": 3,
 "nbformat_minor": 0,
 "worksheets": [
  {
   "cells": [
    {
     "cell_type": "code",
     "collapsed": false,
     "input": [
      "from pathogen import Pathogen\n",
      "from segment import Segment\n",
      "from sequence import Sequence\n",
      "from simulator import Simulator"
     ],
     "language": "python",
     "metadata": {},
     "outputs": [],
     "prompt_number": 283
    },
    {
     "cell_type": "code",
     "collapsed": false,
     "input": [
      "# Initialize sequences\n",
      "sequence_PB2 = Sequence(length=1000) #this is representative of segment 1, PB2\n",
      "sequence_H1 = Sequence(length=1000) #this is representative of segment 4, H1\n",
      "sequence_H2 = Sequence(length=1000) #this is representative of segment 4, H2"
     ],
     "language": "python",
     "metadata": {},
     "outputs": [],
     "prompt_number": 284
    },
    {
     "cell_type": "code",
     "collapsed": false,
     "input": [
      "# Initialize segments\n",
      "segment_PB2 = Segment(segment_number=1, substitution_rate=1E-3, sequence=sequence_PB2)\n",
      "segment_H1 = Segment(segment_number=4, substitution_rate=1E-2, sequence=sequence_H1)\n",
      "segment_H2 = Segment(segment_number=4, substitution_rate=1E-2, sequence=sequence_H2)"
     ],
     "language": "python",
     "metadata": {},
     "outputs": [],
     "prompt_number": 285
    },
    {
     "cell_type": "code",
     "collapsed": false,
     "input": [
      "# Add segments to seed viruses\n",
      "virus_H1 = Pathogen(segments=[segment_PB2, segment_H1], creation_time=0, progeny_size=(1.2, 0.5))\n",
      "virus_H2 = Pathogen(segments=[segment_PB2, segment_H2], creation_time=0, progeny_size=(1.2, 0.5))"
     ],
     "language": "python",
     "metadata": {},
     "outputs": [],
     "prompt_number": 286
    },
    {
     "cell_type": "code",
     "collapsed": false,
     "input": [
      "# Subclass the Simulator class for a specific implementation of the increment_timestep() function.\n",
      "from random import random, choice, sample\n",
      "class ViralSimulator(Simulator):\n",
      "    \n",
      "    def increment_timestep(self):\n",
      "        cointoss = random()\n",
      "        threshold = 0.8\n",
      "        \n",
      "        if cointoss <= threshold:\n",
      "            chosen_virus = choice(self.pathogens)\n",
      "            new_virus = chosen_virus.replicate(current_time=self.current_time)\n",
      "            \n",
      "        if cointoss > threshold:\n",
      "            [virus1, virus2] = sample(self.pathogens, 2)\n",
      "            new_virus = virus1.reassort_with(virus2, current_time=self.current_time)\n",
      "        \n",
      "        self.pathogens.append(new_virus)"
     ],
     "language": "python",
     "metadata": {},
     "outputs": [],
     "prompt_number": 287
    },
    {
     "cell_type": "code",
     "collapsed": false,
     "input": [
      "s = ViralSimulator()"
     ],
     "language": "python",
     "metadata": {},
     "outputs": [],
     "prompt_number": 288
    },
    {
     "cell_type": "code",
     "collapsed": false,
     "input": [
      "s.add_pathogens([virus_H1, virus_H2])"
     ],
     "language": "python",
     "metadata": {},
     "outputs": [],
     "prompt_number": 289
    },
    {
     "cell_type": "code",
     "collapsed": false,
     "input": [
      "s.run(timesteps=50)"
     ],
     "language": "python",
     "metadata": {},
     "outputs": [
      {
       "output_type": "stream",
       "stream": "stdout",
       "text": [
        "{87478: [1, 4]}\n",
        "{fdaa2: [1], 87478: [4]}\n",
        "{87478: [4]}\n",
        "{87478: [1, 4]}\n",
        "{b1ba0: [1, 4]}\n",
        "{b1ba0: [1, 4]}\n",
        "{87478: [1, 4]}\n",
        "{c7ea0: [1, 4]}\n",
        "{c7f16: [4]}\n"
       ]
      }
     ],
     "prompt_number": 290
    },
    {
     "cell_type": "code",
     "collapsed": false,
     "input": [
      "s.write_transmission_graph(outfile_name=\"outfile_test\", folder_name='Network Pickles')"
     ],
     "language": "python",
     "metadata": {},
     "outputs": [],
     "prompt_number": 291
    },
    {
     "cell_type": "code",
     "collapsed": false,
     "input": [
      "s.write_sequences(outfile_name=\"outfile_test\", folder_name='FASTA Files')"
     ],
     "language": "python",
     "metadata": {},
     "outputs": [],
     "prompt_number": 292
    },
    {
     "cell_type": "markdown",
     "metadata": {},
     "source": [
      "# Prototype code for Reconstructor class"
     ]
    },
    {
     "cell_type": "code",
     "collapsed": false,
     "input": [
      "from Bio import SeqIO"
     ],
     "language": "python",
     "metadata": {},
     "outputs": [],
     "prompt_number": 293
    },
    {
     "cell_type": "code",
     "collapsed": false,
     "input": [
      "# Initialize a dictionary that contains all of the sequences, split by segment.\n",
      "sequences_dictionary = dict()\n",
      "sequences_dictionary[1] = []\n",
      "sequences_dictionary[4] = []\n",
      "sequences_dictionary"
     ],
     "language": "python",
     "metadata": {},
     "outputs": [
      {
       "metadata": {},
       "output_type": "pyout",
       "prompt_number": 294,
       "text": [
        "{1: [], 4: []}"
       ]
      }
     ],
     "prompt_number": 294
    },
    {
     "cell_type": "code",
     "collapsed": false,
     "input": [
      "# Read in the sequences\n",
      "sequences = [record for record in SeqIO.parse('FASTA Files/outfile_test.fasta', 'fasta')]\n",
      "sequences"
     ],
     "language": "python",
     "metadata": {},
     "outputs": [
      {
       "metadata": {},
       "output_type": "pyout",
       "prompt_number": 295,
       "text": [
        "[SeqRecord(seq=Seq('GAGCGGCCCTTTCCAAAAGCCCGCCAAGTATCAGTCATCCCGAGTAGTGTTAGA...ACA', SingleLetterAlphabet()), id='874781e610b24655b48f62b22a743ee0d7e7b7b25ba939e7dd3cf6dd575561af2c12ca0302691a97a9e364f11afd34b787fccc1f203e99b3dd185b00bad3111f|1|0', name='874781e610b24655b48f62b22a743ee0d7e7b7b25ba939e7dd3cf6dd575561af2c12ca0302691a97a9e364f11afd34b787fccc1f203e99b3dd185b00bad3111f|1|0', description='874781e610b24655b48f62b22a743ee0d7e7b7b25ba939e7dd3cf6dd575561af2c12ca0302691a97a9e364f11afd34b787fccc1f203e99b3dd185b00bad3111f|1|0 <unknown description>', dbxrefs=[]),\n",
        " SeqRecord(seq=Seq('ACTCCAACGGGAAAAAGATACGGATTAACAGCGACATTCGTATTTATGCGTCAC...TGT', SingleLetterAlphabet()), id='874781e610b24655b48f62b22a743ee0d7e7b7b25ba939e7dd3cf6dd575561af2c12ca0302691a97a9e364f11afd34b787fccc1f203e99b3dd185b00bad3111f|4|0', name='874781e610b24655b48f62b22a743ee0d7e7b7b25ba939e7dd3cf6dd575561af2c12ca0302691a97a9e364f11afd34b787fccc1f203e99b3dd185b00bad3111f|4|0', description='874781e610b24655b48f62b22a743ee0d7e7b7b25ba939e7dd3cf6dd575561af2c12ca0302691a97a9e364f11afd34b787fccc1f203e99b3dd185b00bad3111f|4|0 <unknown description>', dbxrefs=[]),\n",
        " SeqRecord(seq=Seq('GAGCGGCCCTTTCCAAAAGCCCGCCAAGTATCAGTCATCCCGAGTAGTGTTAGA...ACA', SingleLetterAlphabet()), id='c7ea02ce402628f75565db41b537a2e95894ff8d07a7bef9ae86f8f30587cdf019e776a5c6a9fa081946fffe76fd132923fe2cfbf21215f5e8dfc2b9c601a907|1|0', name='c7ea02ce402628f75565db41b537a2e95894ff8d07a7bef9ae86f8f30587cdf019e776a5c6a9fa081946fffe76fd132923fe2cfbf21215f5e8dfc2b9c601a907|1|0', description='c7ea02ce402628f75565db41b537a2e95894ff8d07a7bef9ae86f8f30587cdf019e776a5c6a9fa081946fffe76fd132923fe2cfbf21215f5e8dfc2b9c601a907|1|0 <unknown description>', dbxrefs=[]),\n",
        " SeqRecord(seq=Seq('ATGAATCAAGCATAGGCGGATCTTCCGCCGCCGCATACCCCTATACGCTACATT...AAC', SingleLetterAlphabet()), id='c7ea02ce402628f75565db41b537a2e95894ff8d07a7bef9ae86f8f30587cdf019e776a5c6a9fa081946fffe76fd132923fe2cfbf21215f5e8dfc2b9c601a907|4|0', name='c7ea02ce402628f75565db41b537a2e95894ff8d07a7bef9ae86f8f30587cdf019e776a5c6a9fa081946fffe76fd132923fe2cfbf21215f5e8dfc2b9c601a907|4|0', description='c7ea02ce402628f75565db41b537a2e95894ff8d07a7bef9ae86f8f30587cdf019e776a5c6a9fa081946fffe76fd132923fe2cfbf21215f5e8dfc2b9c601a907|4|0 <unknown description>', dbxrefs=[]),\n",
        " SeqRecord(seq=Seq('GAGCGGCCCTTTCCAAAAGCCCGCCAAGTATCAGTCATCCCGAGTAGTGTTAGA...ACA', SingleLetterAlphabet()), id='fdaa2efbb00216bcbe3c656504fdc237e16f647110da6fc35266611cfe12985b936bb59b8f3a97b94f2129075a11535f9644d8a6ecac3964de5c68e07e1d372a|1|1', name='fdaa2efbb00216bcbe3c656504fdc237e16f647110da6fc35266611cfe12985b936bb59b8f3a97b94f2129075a11535f9644d8a6ecac3964de5c68e07e1d372a|1|1', description='fdaa2efbb00216bcbe3c656504fdc237e16f647110da6fc35266611cfe12985b936bb59b8f3a97b94f2129075a11535f9644d8a6ecac3964de5c68e07e1d372a|1|1 <unknown description>', dbxrefs=[]),\n",
        " SeqRecord(seq=Seq('ACTCCAACGGGAAAAAGATACGGATTAACAGCGACATTCATATTTATGCGTCAC...TGT', SingleLetterAlphabet()), id='fdaa2efbb00216bcbe3c656504fdc237e16f647110da6fc35266611cfe12985b936bb59b8f3a97b94f2129075a11535f9644d8a6ecac3964de5c68e07e1d372a|4|1', name='fdaa2efbb00216bcbe3c656504fdc237e16f647110da6fc35266611cfe12985b936bb59b8f3a97b94f2129075a11535f9644d8a6ecac3964de5c68e07e1d372a|4|1', description='fdaa2efbb00216bcbe3c656504fdc237e16f647110da6fc35266611cfe12985b936bb59b8f3a97b94f2129075a11535f9644d8a6ecac3964de5c68e07e1d372a|4|1 <unknown description>', dbxrefs=[]),\n",
        " SeqRecord(seq=Seq('GAGCGGCCCTTTCCAAAAGCCCGCCAAGTATCAGTCATCCCGAGTAGTGTTAGA...ACA', SingleLetterAlphabet()), id='70dc132b8d193051fb6224bc8ee9a86c5573532d38a737857f7d5faf299e0ec78b1f3c18fc45ae29e208b84d1f31f705b684325bf59cae59771c511e6ea77ae2|1|2', name='70dc132b8d193051fb6224bc8ee9a86c5573532d38a737857f7d5faf299e0ec78b1f3c18fc45ae29e208b84d1f31f705b684325bf59cae59771c511e6ea77ae2|1|2', description='70dc132b8d193051fb6224bc8ee9a86c5573532d38a737857f7d5faf299e0ec78b1f3c18fc45ae29e208b84d1f31f705b684325bf59cae59771c511e6ea77ae2|1|2 <unknown description>', dbxrefs=[]),\n",
        " SeqRecord(seq=Seq('ACTCCAACGGGAAAAACATACGGATTAACAGCGACATTCGTATTTATGCGTCAC...TGT', SingleLetterAlphabet()), id='70dc132b8d193051fb6224bc8ee9a86c5573532d38a737857f7d5faf299e0ec78b1f3c18fc45ae29e208b84d1f31f705b684325bf59cae59771c511e6ea77ae2|4|2', name='70dc132b8d193051fb6224bc8ee9a86c5573532d38a737857f7d5faf299e0ec78b1f3c18fc45ae29e208b84d1f31f705b684325bf59cae59771c511e6ea77ae2|4|2', description='70dc132b8d193051fb6224bc8ee9a86c5573532d38a737857f7d5faf299e0ec78b1f3c18fc45ae29e208b84d1f31f705b684325bf59cae59771c511e6ea77ae2|4|2 <unknown description>', dbxrefs=[]),\n",
        " SeqRecord(seq=Seq('GAGCGGCCCTTTCCAAAAGCCCGCCAAGTATCAGTCATCCCGAGTAGTGTTAGA...ACA', SingleLetterAlphabet()), id='b1ba0df026b3c88d356b88283ee02f9a79e1dc40883d7dd918ecb5a94f5e86eb9dc801c929817f8582836d2783aea3f81d3e8f8f1e4fd662e2496f6974f49b27|1|3', name='b1ba0df026b3c88d356b88283ee02f9a79e1dc40883d7dd918ecb5a94f5e86eb9dc801c929817f8582836d2783aea3f81d3e8f8f1e4fd662e2496f6974f49b27|1|3', description='b1ba0df026b3c88d356b88283ee02f9a79e1dc40883d7dd918ecb5a94f5e86eb9dc801c929817f8582836d2783aea3f81d3e8f8f1e4fd662e2496f6974f49b27|1|3 <unknown description>', dbxrefs=[]),\n",
        " SeqRecord(seq=Seq('ACTCCAACGGGAAAAAGATACGGATTAACAGCGACATTCGTATTTATGCGTCAC...TGT', SingleLetterAlphabet()), id='b1ba0df026b3c88d356b88283ee02f9a79e1dc40883d7dd918ecb5a94f5e86eb9dc801c929817f8582836d2783aea3f81d3e8f8f1e4fd662e2496f6974f49b27|4|3', name='b1ba0df026b3c88d356b88283ee02f9a79e1dc40883d7dd918ecb5a94f5e86eb9dc801c929817f8582836d2783aea3f81d3e8f8f1e4fd662e2496f6974f49b27|4|3', description='b1ba0df026b3c88d356b88283ee02f9a79e1dc40883d7dd918ecb5a94f5e86eb9dc801c929817f8582836d2783aea3f81d3e8f8f1e4fd662e2496f6974f49b27|4|3 <unknown description>', dbxrefs=[]),\n",
        " SeqRecord(seq=Seq('GAGCGGCCCTTTCCAAAAGCCCGCCAAGTATCAGTCATCCCGAGTAGTGTTAGA...ACA', SingleLetterAlphabet()), id='efcae67d58b7532eaccf0b4a4c3c7b83330962a8132fc622a05545c5d2aee7ec891edadcb7429774486c92ff3dc17713d28b335dade0781a9852ec3fe775e01d|1|4', name='efcae67d58b7532eaccf0b4a4c3c7b83330962a8132fc622a05545c5d2aee7ec891edadcb7429774486c92ff3dc17713d28b335dade0781a9852ec3fe775e01d|1|4', description='efcae67d58b7532eaccf0b4a4c3c7b83330962a8132fc622a05545c5d2aee7ec891edadcb7429774486c92ff3dc17713d28b335dade0781a9852ec3fe775e01d|1|4 <unknown description>', dbxrefs=[]),\n",
        " SeqRecord(seq=Seq('ACTCCAACGGGAAAAAGATACGGATTAACAGCGACATTCGTATTTATGCGTCAC...TGT', SingleLetterAlphabet()), id='efcae67d58b7532eaccf0b4a4c3c7b83330962a8132fc622a05545c5d2aee7ec891edadcb7429774486c92ff3dc17713d28b335dade0781a9852ec3fe775e01d|4|4', name='efcae67d58b7532eaccf0b4a4c3c7b83330962a8132fc622a05545c5d2aee7ec891edadcb7429774486c92ff3dc17713d28b335dade0781a9852ec3fe775e01d|4|4', description='efcae67d58b7532eaccf0b4a4c3c7b83330962a8132fc622a05545c5d2aee7ec891edadcb7429774486c92ff3dc17713d28b335dade0781a9852ec3fe775e01d|4|4 <unknown description>', dbxrefs=[]),\n",
        " SeqRecord(seq=Seq('GAGCGGCCCTTTCCAAAAGCCCGCCAAGTATCAGTCATCCCGAGTAGTGTTAGA...ACA', SingleLetterAlphabet()), id='a3eeb1597bd49708065899b64a9b01d0da91134e4881ca0f907540071943dd44c13bab9680e1c187e662664a0eca376cae4b8857f7d3f704afff2379adbf2524|1|5', name='a3eeb1597bd49708065899b64a9b01d0da91134e4881ca0f907540071943dd44c13bab9680e1c187e662664a0eca376cae4b8857f7d3f704afff2379adbf2524|1|5', description='a3eeb1597bd49708065899b64a9b01d0da91134e4881ca0f907540071943dd44c13bab9680e1c187e662664a0eca376cae4b8857f7d3f704afff2379adbf2524|1|5 <unknown description>', dbxrefs=[]),\n",
        " SeqRecord(seq=Seq('ACTCCAACGGGAAAAAGATCCGGATTAACAGCGACATTCGTATTTATGCGTCAC...TGT', SingleLetterAlphabet()), id='a3eeb1597bd49708065899b64a9b01d0da91134e4881ca0f907540071943dd44c13bab9680e1c187e662664a0eca376cae4b8857f7d3f704afff2379adbf2524|4|5', name='a3eeb1597bd49708065899b64a9b01d0da91134e4881ca0f907540071943dd44c13bab9680e1c187e662664a0eca376cae4b8857f7d3f704afff2379adbf2524|4|5', description='a3eeb1597bd49708065899b64a9b01d0da91134e4881ca0f907540071943dd44c13bab9680e1c187e662664a0eca376cae4b8857f7d3f704afff2379adbf2524|4|5 <unknown description>', dbxrefs=[]),\n",
        " SeqRecord(seq=Seq('GAGCGGCCCTTTCCAAAAGCCCGCCAAGTATCAGTCATCCCGAGTAGTGTTAGA...ACA', SingleLetterAlphabet()), id='06b00cec66207cd65e0f837ce09abed6b1459a0b5c51ea002ee486b88a419255d329ed03cb91b49fb861b1b4fa2b2275894660254a188ec1de0541cd17a33f23|1|6', name='06b00cec66207cd65e0f837ce09abed6b1459a0b5c51ea002ee486b88a419255d329ed03cb91b49fb861b1b4fa2b2275894660254a188ec1de0541cd17a33f23|1|6', description='06b00cec66207cd65e0f837ce09abed6b1459a0b5c51ea002ee486b88a419255d329ed03cb91b49fb861b1b4fa2b2275894660254a188ec1de0541cd17a33f23|1|6 <unknown description>', dbxrefs=[]),\n",
        " SeqRecord(seq=Seq('ACTCCAACGGGAAAAAGATACGGATTAACAGCGACATTCGTATTTATGCGTCAC...TGT', SingleLetterAlphabet()), id='06b00cec66207cd65e0f837ce09abed6b1459a0b5c51ea002ee486b88a419255d329ed03cb91b49fb861b1b4fa2b2275894660254a188ec1de0541cd17a33f23|4|6', name='06b00cec66207cd65e0f837ce09abed6b1459a0b5c51ea002ee486b88a419255d329ed03cb91b49fb861b1b4fa2b2275894660254a188ec1de0541cd17a33f23|4|6', description='06b00cec66207cd65e0f837ce09abed6b1459a0b5c51ea002ee486b88a419255d329ed03cb91b49fb861b1b4fa2b2275894660254a188ec1de0541cd17a33f23|4|6 <unknown description>', dbxrefs=[]),\n",
        " SeqRecord(seq=Seq('GAGCGGCCCTTTCCAAAAGCCCGCCAAGTATCAGTCATCCCGAGTAGTGTTAGA...ACA', SingleLetterAlphabet()), id='90f8f98ba8bc7550f447ae27f53532430242e0de5e6dbd802c1218aa23e77bc0aedac9366b8dd61a9303eedac8ec13205d87bfe397302d0b590216b81443739d|1|7', name='90f8f98ba8bc7550f447ae27f53532430242e0de5e6dbd802c1218aa23e77bc0aedac9366b8dd61a9303eedac8ec13205d87bfe397302d0b590216b81443739d|1|7', description='90f8f98ba8bc7550f447ae27f53532430242e0de5e6dbd802c1218aa23e77bc0aedac9366b8dd61a9303eedac8ec13205d87bfe397302d0b590216b81443739d|1|7 <unknown description>', dbxrefs=[]),\n",
        " SeqRecord(seq=Seq('ACTCCAACGGGAAAAAGATACCGATTAACAGCGACATTCGTATTTATGCGTCAC...TGT', SingleLetterAlphabet()), id='90f8f98ba8bc7550f447ae27f53532430242e0de5e6dbd802c1218aa23e77bc0aedac9366b8dd61a9303eedac8ec13205d87bfe397302d0b590216b81443739d|4|7', name='90f8f98ba8bc7550f447ae27f53532430242e0de5e6dbd802c1218aa23e77bc0aedac9366b8dd61a9303eedac8ec13205d87bfe397302d0b590216b81443739d|4|7', description='90f8f98ba8bc7550f447ae27f53532430242e0de5e6dbd802c1218aa23e77bc0aedac9366b8dd61a9303eedac8ec13205d87bfe397302d0b590216b81443739d|4|7 <unknown description>', dbxrefs=[]),\n",
        " SeqRecord(seq=Seq('GAGCGGCCCTTTCCAAAAGCCCGCCAAGTATCAGTCATCCCGAGTAGTGTTAGA...ACA', SingleLetterAlphabet()), id='c7f16344d70d0deb9a434461a6de13e1bd642ac9d7aeb1ad88cf35d18876c58cc23c684d8f20b1954066b422ffe2f1b45511d464663fe7d11ba968c85b85d474|1|8', name='c7f16344d70d0deb9a434461a6de13e1bd642ac9d7aeb1ad88cf35d18876c58cc23c684d8f20b1954066b422ffe2f1b45511d464663fe7d11ba968c85b85d474|1|8', description='c7f16344d70d0deb9a434461a6de13e1bd642ac9d7aeb1ad88cf35d18876c58cc23c684d8f20b1954066b422ffe2f1b45511d464663fe7d11ba968c85b85d474|1|8 <unknown description>', dbxrefs=[]),\n",
        " SeqRecord(seq=Seq('ATGAATCAAGCATAGGCGGATCTTCCGCCGCCGCATACCCCTATACGCTACATT...AAC', SingleLetterAlphabet()), id='c7f16344d70d0deb9a434461a6de13e1bd642ac9d7aeb1ad88cf35d18876c58cc23c684d8f20b1954066b422ffe2f1b45511d464663fe7d11ba968c85b85d474|4|8', name='c7f16344d70d0deb9a434461a6de13e1bd642ac9d7aeb1ad88cf35d18876c58cc23c684d8f20b1954066b422ffe2f1b45511d464663fe7d11ba968c85b85d474|4|8', description='c7f16344d70d0deb9a434461a6de13e1bd642ac9d7aeb1ad88cf35d18876c58cc23c684d8f20b1954066b422ffe2f1b45511d464663fe7d11ba968c85b85d474|4|8 <unknown description>', dbxrefs=[]),\n",
        " SeqRecord(seq=Seq('GAGCGGCCCTTTCCAAAAGCCCGCCAAGTATCAGTCATCCCGAGTAGTGTTAGA...ACA', SingleLetterAlphabet()), id='a4d3aedafe49f3ebe9a81bc069d0ac4f58f3ac0fae06751a2b93fb42637c693628b0d88bfa92b3c18587d80713e70055ab24f02d4fb8f84c3e511e7bf7724cf9|1|9', name='a4d3aedafe49f3ebe9a81bc069d0ac4f58f3ac0fae06751a2b93fb42637c693628b0d88bfa92b3c18587d80713e70055ab24f02d4fb8f84c3e511e7bf7724cf9|1|9', description='a4d3aedafe49f3ebe9a81bc069d0ac4f58f3ac0fae06751a2b93fb42637c693628b0d88bfa92b3c18587d80713e70055ab24f02d4fb8f84c3e511e7bf7724cf9|1|9 <unknown description>', dbxrefs=[]),\n",
        " SeqRecord(seq=Seq('ATGAATCAAGCATAGGCGGATCTTCCGCCACCGGATACCCCTATACGCTACATT...AAC', SingleLetterAlphabet()), id='a4d3aedafe49f3ebe9a81bc069d0ac4f58f3ac0fae06751a2b93fb42637c693628b0d88bfa92b3c18587d80713e70055ab24f02d4fb8f84c3e511e7bf7724cf9|4|9', name='a4d3aedafe49f3ebe9a81bc069d0ac4f58f3ac0fae06751a2b93fb42637c693628b0d88bfa92b3c18587d80713e70055ab24f02d4fb8f84c3e511e7bf7724cf9|4|9', description='a4d3aedafe49f3ebe9a81bc069d0ac4f58f3ac0fae06751a2b93fb42637c693628b0d88bfa92b3c18587d80713e70055ab24f02d4fb8f84c3e511e7bf7724cf9|4|9 <unknown description>', dbxrefs=[])]"
       ]
      }
     ],
     "prompt_number": 295
    },
    {
     "cell_type": "code",
     "collapsed": false,
     "input": [
      "# Append the sequences to the dictionary.\n",
      "# This can be written into a function.\n",
      "split_char = '|' # The character that will be used to split the SeqRecord.id string\n",
      "pos_segment_num = 1 # The position of the segment number after splitting by the split_char\n",
      "\n",
      "for sequence in sequences:\n",
      "    segment_number = int(sequence.id.split(split_char)[pos_segment_num])\n",
      "    sequences_dictionary[segment_number].append(sequence)\n",
      "\n",
      "# sequences_dictionary"
     ],
     "language": "python",
     "metadata": {},
     "outputs": [],
     "prompt_number": 296
    },
    {
     "cell_type": "code",
     "collapsed": false,
     "input": [
      "# Create a NetworkX graph using one segment's sequences, and add nodes.\n",
      "import networkx as nx\n",
      "\n",
      "G = nx.DiGraph()\n",
      "\n",
      "splitchar = '|'\n",
      "pos_id = 0\n",
      "pos_segment_num = 1\n",
      "pos_creation_time = 2\n",
      "\n",
      "segment_number = 4\n",
      "\n",
      "for sequence in sequences_dictionary[segment_number]:\n",
      "    [isolate_id, segment_num, creation_time] = sequence.id.split(splitchar)\n",
      "    G.add_node(isolate_id[0:5], sequence=sequence.seq, id=isolate_id, segment_num=int(segment_num), creation_time=int(creation_time))\n",
      "\n",
      "# at this point, we would return G, and append it to the dictionary of Graphs available.\n",
      "# G.nodes(data=True)"
     ],
     "language": "python",
     "metadata": {},
     "outputs": [],
     "prompt_number": 297
    },
    {
     "cell_type": "code",
     "collapsed": false,
     "input": [
      "# Add edges to the graph, based on the Levenshtein distance between two sequences.\n",
      "import Levenshtein\n",
      "for node1 in G.nodes(data=True):\n",
      "    for node2 in G.nodes(data=True):\n",
      "        if node1[1]['creation_time'] < node2[1]['creation_time']:\n",
      "            weight = Levenshtein.distance(str(node1[1]['sequence']), str(node2[1]['sequence']))\n",
      "            G.add_edge(node1[0], node2[0], weight=weight)"
     ],
     "language": "python",
     "metadata": {},
     "outputs": [],
     "prompt_number": 298
    },
    {
     "cell_type": "code",
     "collapsed": false,
     "input": [
      "# Prune graph by distance.\n",
      "for node in G.nodes(data=True):\n",
      "    in_edges = G.in_edges(node[0], data=True)\n",
      "#     print in_edges\n",
      "    if len(in_edges) != 0:\n",
      "        min_weight = min([edge[2]['weight'] for edge in in_edges])\n",
      "        print min_weight\n",
      "        print node\n",
      "        for edge in in_edges:\n",
      "            if edge[2]['weight'] != min_weight:\n",
      "                G.remove_edge(edge[0], edge[1])"
     ],
     "language": "python",
     "metadata": {},
     "outputs": [
      {
       "output_type": "stream",
       "stream": "stdout",
       "text": [
        "8\n",
        "('70dc1', {'segment_num': 4, 'creation_time': 2, 'id': '70dc132b8d193051fb6224bc8ee9a86c5573532d38a737857f7d5faf299e0ec78b1f3c18fc45ae29e208b84d1f31f705b684325bf59cae59771c511e6ea77ae2', 'sequence': Seq('ACTCCAACGGGAAAAACATACGGATTAACAGCGACATTCGTATTTATGCGTCAC...TGT', SingleLetterAlphabet())})\n",
        "6\n",
        "('a4d3a', {'segment_num': 4, 'creation_time': 9, 'id': 'a4d3aedafe49f3ebe9a81bc069d0ac4f58f3ac0fae06751a2b93fb42637c693628b0d88bfa92b3c18587d80713e70055ab24f02d4fb8f84c3e511e7bf7724cf9', 'sequence': Seq('ATGAATCAAGCATAGGCGGATCTTCCGCCACCGGATACCCCTATACGCTACATT...AAC', SingleLetterAlphabet())})\n",
        "12\n",
        "('b1ba0', {'segment_num': 4, 'creation_time': 3, 'id': 'b1ba0df026b3c88d356b88283ee02f9a79e1dc40883d7dd918ecb5a94f5e86eb9dc801c929817f8582836d2783aea3f81d3e8f8f1e4fd662e2496f6974f49b27', 'sequence': Seq('ACTCCAACGGGAAAAAGATACGGATTAACAGCGACATTCGTATTTATGCGTCAC...TGT', SingleLetterAlphabet())})\n",
        "7\n",
        "('fdaa2', {'segment_num': 4, 'creation_time': 1, 'id': 'fdaa2efbb00216bcbe3c656504fdc237e16f647110da6fc35266611cfe12985b936bb59b8f3a97b94f2129075a11535f9644d8a6ecac3964de5c68e07e1d372a', 'sequence': Seq('ACTCCAACGGGAAAAAGATACGGATTAACAGCGACATTCATATTTATGCGTCAC...TGT', SingleLetterAlphabet())})\n",
        "19\n",
        "('90f8f', {'segment_num': 4, 'creation_time': 7, 'id': '90f8f98ba8bc7550f447ae27f53532430242e0de5e6dbd802c1218aa23e77bc0aedac9366b8dd61a9303eedac8ec13205d87bfe397302d0b590216b81443739d', 'sequence': Seq('ACTCCAACGGGAAAAAGATACCGATTAACAGCGACATTCGTATTTATGCGTCAC...TGT', SingleLetterAlphabet())})\n",
        "9\n",
        "('06b00', {'segment_num': 4, 'creation_time': 6, 'id': '06b00cec66207cd65e0f837ce09abed6b1459a0b5c51ea002ee486b88a419255d329ed03cb91b49fb861b1b4fa2b2275894660254a188ec1de0541cd17a33f23', 'sequence': Seq('ACTCCAACGGGAAAAAGATACGGATTAACAGCGACATTCGTATTTATGCGTCAC...TGT', SingleLetterAlphabet())})\n",
        "7\n",
        "('a3eeb', {'segment_num': 4, 'creation_time': 5, 'id': 'a3eeb1597bd49708065899b64a9b01d0da91134e4881ca0f907540071943dd44c13bab9680e1c187e662664a0eca376cae4b8857f7d3f704afff2379adbf2524', 'sequence': Seq('ACTCCAACGGGAAAAAGATCCGGATTAACAGCGACATTCGTATTTATGCGTCAC...TGT', SingleLetterAlphabet())})\n",
        "7\n",
        "('efcae', {'segment_num': 4, 'creation_time': 4, 'id': 'efcae67d58b7532eaccf0b4a4c3c7b83330962a8132fc622a05545c5d2aee7ec891edadcb7429774486c92ff3dc17713d28b335dade0781a9852ec3fe775e01d', 'sequence': Seq('ACTCCAACGGGAAAAAGATACGGATTAACAGCGACATTCGTATTTATGCGTCAC...TGT', SingleLetterAlphabet())})\n",
        "13\n",
        "('c7f16', {'segment_num': 4, 'creation_time': 8, 'id': 'c7f16344d70d0deb9a434461a6de13e1bd642ac9d7aeb1ad88cf35d18876c58cc23c684d8f20b1954066b422ffe2f1b45511d464663fe7d11ba968c85b85d474', 'sequence': Seq('ATGAATCAAGCATAGGCGGATCTTCCGCCGCCGCATACCCCTATACGCTACATT...AAC', SingleLetterAlphabet())})\n"
       ]
      }
     ],
     "prompt_number": 299
    },
    {
     "cell_type": "code",
     "collapsed": false,
     "input": [
      "nx.draw_circular(G)"
     ],
     "language": "python",
     "metadata": {},
     "outputs": [
      {
       "metadata": {},
       "output_type": "display_data",
       "png": "[encoded data removed]",
       "text": [
        "<matplotlib.figure.Figure at 0x107123d10>"
       ]
      }
     ],
     "prompt_number": 300
    },
    {
     "cell_type": "markdown",
     "metadata": {},
     "source": [
      "# Test Reconstructor Class"
     ]
    },
    {
     "cell_type": "code",
     "collapsed": false,
     "input": [
      "from reconstructor import Reconstructor\n",
      "import networkx as nx"
     ],
     "language": "python",
     "metadata": {},
     "outputs": [],
     "prompt_number": 301
    },
    {
     "cell_type": "code",
     "collapsed": false,
     "input": [
      "r = Reconstructor(segments=[1, 4])\n",
      "print r.sequences\n",
      "print r.graphs"
     ],
     "language": "python",
     "metadata": {},
     "outputs": [
      {
       "output_type": "stream",
       "stream": "stdout",
       "text": [
        "{1: [], 4: []}\n",
        "{1: <networkx.classes.digraph.DiGraph object at 0x1063b26d0>, 4: <networkx.classes.digraph.DiGraph object at 0x1063b22d0>}\n"
       ]
      }
     ],
     "prompt_number": 302
    },
    {
     "cell_type": "code",
     "collapsed": false,
     "input": [
      "fasta_file = 'FASTA Files/outfile_test.fasta'\n",
      "r.read_fasta_file(fasta_file)"
     ],
     "language": "python",
     "metadata": {},
     "outputs": [],
     "prompt_number": 303
    },
    {
     "cell_type": "code",
     "collapsed": false,
     "input": [
      "r.add_nodes_with_data()\n",
      "r.add_edges_with_weight()\n",
      "r.prune_graphs_by_weight()\n",
      "r.compose_segment_graphs()\n",
      "r.condense_composed_segment_graphs()\n",
      "r.prune_condensed_graph()"
     ],
     "language": "python",
     "metadata": {},
     "outputs": [],
     "prompt_number": 304
    },
    {
     "cell_type": "code",
     "collapsed": false,
     "input": [
      "r.condensed_graph.edges(data=True)"
     ],
     "language": "python",
     "metadata": {},
     "outputs": [
      {
       "metadata": {},
       "output_type": "pyout",
       "prompt_number": 305,
       "text": [
        "[('c7ea0', 'c7f16', {'segments': [1, 4], 'weight': 13}),\n",
        " ('b1ba0', 'a3eeb', {'segments': [1, 4], 'weight': 8}),\n",
        " ('b1ba0', '06b00', {'segments': [1, 4], 'weight': 10}),\n",
        " ('fdaa2', '70dc1', {'segments': [1], 'weight': 0}),\n",
        " ('87478', '70dc1', {'segments': [4], 'weight': 8}),\n",
        " ('87478', 'fdaa2', {'segments': [1, 4], 'weight': 9}),\n",
        " ('87478', 'b1ba0', {'segments': [1, 4], 'weight': 12}),\n",
        " ('87478', '90f8f', {'segments': [1, 4], 'weight': 19}),\n",
        " ('87478', 'efcae', {'segments': [1, 4], 'weight': 7}),\n",
        " ('c7f16', 'a4d3a', {'segments': [1, 4], 'weight': 8})]"
       ]
      }
     ],
     "prompt_number": 305
    },
    {
     "cell_type": "code",
     "collapsed": false,
     "input": [
      "r.condensed_graph.nodes(data=True)"
     ],
     "language": "python",
     "metadata": {},
     "outputs": [
      {
       "metadata": {},
       "output_type": "pyout",
       "prompt_number": 306,
       "text": [
        "[('c7ea0',\n",
        "  {'creation_time': '0',\n",
        "   'id': 'c7ea02ce402628f75565db41b537a2e95894ff8d07a7bef9ae86f8f30587cdf019e776a5c6a9fa081946fffe76fd132923fe2cfbf21215f5e8dfc2b9c601a907',\n",
        "   'segment_number': '4',\n",
        "   'sequence_1': 'GAGCGGCCCTTTCCAAAAGCCCGCCAAGTATCAGTCATCCCGAGTAGTGTTAGATTATCCTAGCCACGTACAAGCGGACCCGAGGCACCTTAGATCGCAGGCCGTAGAATTTAAAACGCGCCTCGTTCATTAGGCGAACCCTAGTGGGCTCGGCACCCCCAGTTCCTATTGTCCCTAGGTTCTACCCATTCAGCGAGACATTAATAGAATCATCCCTATATGGTTCGGCAGCGCCGAGAGAGGAAGCGTCATGCCAGAGCGGGGTGTCAAATATATCCCCAAGTCGATCATACACGCTTCCCATAAGCCGTATCAATAGCCTCTCGCGCCTGCCTGACAATAGAGAGGGAGATGCGGTACAATCTTGATCCATCAGCTGTTTCCGTTACCCATAGGAACTGAGGAAATCTGTGCTTGTACGAGAGGCTCTGCAGACCAATAAGACACATACGTACGGAGGCCTCAATTTGGTAGAGCAAAGTTGCTGCTCGGGGAACTGTCGGTGGCATATCGGATACGGGGACCACGCTCTGCGGGAAACCGTTCTACTTTACTACAGGACGGTAAGGTTACGCCACCCGTTCGTACCATAATCATATCACCATTCACCTGACATTTACCCATACTGGCCTGTTCATCCAACTACCTGGGGCCCTCTTATGTGTCATTTGCGGCAATCTCAGTTAAAGGAATGAGTAGTTTGCCGAGTAATGAATCTGGTGGGCTTTTCTTTATTACGAACATCTTTTGCACGCACAACCGCGATCACAGTAGACTCCAGAGGTAACGAGGCACCTTTGGTCTAGTATTAGCAAATCGGCCCCGTTTGTGCCTCAAACAGGTTTCGGATCATACGGCTGATTGCATTGACCGCGCGCGACGTAATCAACCGCTATGAGGCGAAATGTCAGGCAGCTCGATTACGCTAACTATGTACAGTAAGACCCTCGCTGTGCCGATCCAGGCGGATCGGTCAGGGTTAATCATCGTTTTCAGAACA',\n",
        "   'sequence_4': 'ATGAATCAAGCATAGGCGGATCTTCCGCCGCCGCATACCCCTATACGCTACATTTCGAAGTCTGGTCCTGGCTACGGGCTGGATAAGGCAGTTTCCACAGCAACGGGTATATTCTAAAAAGGCGTTTTAGGCAAGGGTTGCGATATCCTGGGACCTGAATCATATGCTAAGTGTGATGAGCTTCGTTTAAGGAGCGGCAATTAGCCCGCATGCCTAACCCCCGCTCCCTATGTGTTTGCCATACTCATGCCTTCACGAAGGTTAATCCGCAACCACCATGTGTGGAGGTATGTTTATCTCACCAGTCGCAACCAAGTCAAACCGACGAAGAGTACGAACCAACTTAGTTCATTCTACCCCATCATCATTATATGGGTTTACGTACCCTGGACGTATTCTTCCCCCAGTTAATTAAGTCTCTATAGGAAACGGACGCAGCAGATCCTTATCTGTGGCCTCTTTGCATTCATAGTACATCTATACCCATTAGAGTCGGGACCCGTGGGTAGCCGACACATCCTACCACCAGTACTGTCCCGAATGATCTACTCGAAGGTGTTTCCTAGCGGGGGTTCTCCACGATGACGGCACATGAAGGGTAGAGAGGCGACGATCCTTCCTCCCGTGCCGTGACTGGCGTTTTATGGAAAGGTCCGTACTGAGTCGATATGAGAAATAGCCGGGTATAGTAAGTGTAGCTAAAATCTCCGGATAGGTAGCGCATCCCGCCGAACATGTATATTGTGTGGGGATTGCAACGGACGGCAAACCCGCAAGTAAAGGATGGACGACTACGGGACACACACAATGGTATTAAAGCTCTAAAACTCGGTCCGGGTTTCCTTACGGGATATCGGGCCAGTTGAGCCTCAGTATTTAACGCACGCAGAGCTGACAGCTCCGAATTGCATTTAAAGGAGGTTCACCTATACCAGCATACTAGAACTGCCTAACGGAACAAGTCACCAATCACGATTACAGTGTGAAGGAGCTAGCCAAC'}),\n",
        " ('70dc1',\n",
        "  {'creation_time': '2',\n",
        "   'id': '70dc132b8d193051fb6224bc8ee9a86c5573532d38a737857f7d5faf299e0ec78b1f3c18fc45ae29e208b84d1f31f705b684325bf59cae59771c511e6ea77ae2',\n",
        "   'segment_number': '4',\n",
        "   'sequence_1': 'GAGCGGCCCTTTCCAAAAGCCCGCCAAGTATCAGTCATCCCGAGTAGTGTTAGATTATCCTAGCCACGTACAAGCGGACCCGAGGCACCTTAGATCGCAGGCCGTAGAATTTAAAACGCGCCTCGTTCATTAGGCGAACCCTAGTGGGCTCGGCACCCCCAGTTCCTATTGTCCCTAGGTTCTACCCATTCAGCGAGACATTAATAGAATCATCCCTATATGGTTCGGCAGCGCCGAGAGAGGAAGCGTCATGCCAGAGCGGGGTGTCAAATATATCCCCAAGTCGATCATACACGCTTCCCATAAGCCGTATCAATAGCCTCTCGCGCCTGCCTGACAATAGAGAGGGAGATGCGGTACAATCTTGATCCATCAGCTGTTTCCGTTACCCATAGGAACTGAGGAAATCTGTGCTTGTACGAGAGGCTCTGCAGACCAATAAGACACATACGTACGGAGGCCTCAATTTGGTAGAGCAAAGTTGCTGCTCGGGGAACTGTCGGTGGCATATCGGATACGGGGACCACGCTCTGCGGGAAACCGTTCTACTTTACTACAGGACGGTAAGGTTACGCCACCCGTTCGTACCATAATCATATCACCATTCACCTGACATTTACCCATACTGGCCTGTTCATCCAACTACCTGGGGCCCTCTTATGTGTCATTTGCGGCAATCTCAGTTAAAGGAATGAGTAGTTTGCCGAGTAATGAATCTGGTGGGCTTTTCTTTATTACGAACATCTTTTGCACGCACAACCGCGATCACAGTAGACTCCAGAGGTAACGAGGCACCTTTGGTCTAGTATTAGCAAATCGGCCCCGTTTGTGCCTCAAACAGGTTTCGGATCATACGGCTGATTGCATTCACCGCGCGCGACGTAATCAACCGCTATGAGGCGAAATGTCAGGCAGCTCGATTACGCTAACTATGTACACTAAGACCCTCGCTGTGCCGATCCAGGCGGATCGGTCAGGGTTAATCATCGTTTTCAGAACA',\n",
        "   'sequence_4': 'ACTCCAACGGGAAAAACATACGGATTAACAGCGACATTCGTATTTATGCGTCACGATGCTCAGGGCTACACAGCATGGGCCGCCTAGTGTTTAGACATGACTGGCCGCATCACGGGGAACACCCCGTGAGTTACGATGAACTGGTGTTGGTTACCACAGTAACCGACCACAACAGGGCAGAGGGGGAGGAAACGAACCTACCCACTGTTTGTGCTCTGGGTTTGGAAAATCTCATCATACCTACAGGCCGAACGGTTCCAAGCGATCTTGCGTAAAATTGAGCCCGTGGTCCGGCCTCGCAAGTAAAAGCCCCCGAGATTGAAAGTCCGGCATTGCTAAAGAATCCTAACCGAACTGTTCTCCAAACACAATAGGTTCTTTTAAATGGAACCGTTTGGCGGATGCTCTGGGTGCCAGGAGTTTCGGAACGAGTCGCTCGTAGGAACGGTATTTATGGTTATGACCGTGCACTGGTCTATGGGTCTCATTATATCGCTAAGGTCGCACGTTGTATTAAATTCGTGACCTGGTGATATTGGTGAAAACATAAAGAGAGTAGAGATGAAAGCCTTTCCGCGTGGTAATAGAAGACACGGCTCACGGCTAGGCGTTTACGTCAATCTGCATGCTTGGGCCTATTACCCTCGTGGGCTTTATCGGTGACAACCCCCCATTTTCAATTTGACACGACCCATCGGACTTGGGCTCTTAAGCTAGCTACTCCGTGCGGGATGGCGGGAGTTAATCTTCAGACAATCCGGCCCGGAGTAACGTGGGTCGGCTCATTTCTAAATCCCTGTCAGAAGACGAGATGGTGGGATGGTTAAAACTTCCCGGGTCAAGCAGACCTTGCTGTCTAAGATTCGCCGCCTAGTTCGCCGATCGCGGAGAGGGCCCTTACACATTTTAAAACTCAGCCATAACCAGACGCATCTGTACATCTAAATCTTTTATATCTGCATTCAGAAGTCCTCAGTCAAGGTTAGAATCACAACTCTGT'}),\n",
        " ('b1ba0',\n",
        "  {'creation_time': '3',\n",
        "   'id': 'b1ba0df026b3c88d356b88283ee02f9a79e1dc40883d7dd918ecb5a94f5e86eb9dc801c929817f8582836d2783aea3f81d3e8f8f1e4fd662e2496f6974f49b27',\n",
        "   'segment_number': '4',\n",
        "   'sequence_1': 'GAGCGGCCCTTTCCAAAAGCCCGCCAAGTATCAGTCATCCCGAGTAGTGTTAGATTATCCTAGCCACGTACAAGCGGACCCGAGGCACCTTAGATCGCAGGCCGTAGAATTTAAAACGCGCCTCGTTCATTAGGCGAACCCTAGTGGGCTCGGCACCCCCAGTTCCTATTGTCCCTAGGTTCTACCCATTCAGCGAGACATTAATAGAATCATCCCTATATGGTTCGGCAGCGCCGAGAGAGGAAGCGTCATGCCAGAGCGGGGTGTCAAATATATCCCCAAGTCGATCATACACGCTTCCCATAAGCCGTATCAATAGCCTCTCGCGCCTGCCTGACAATAGAGAGGGAGATGCGGTACAATCTTGATCCATCAGCTGTTTCCGTTACCCATAGGAACTGAGGAAATCTGTGCTTGTACGAGAGGCTCTGCAGACCAATAAGACACATACGTACGGAGGCCTCAATTTGGTAGAGCAAAGTTGCTGCTCGGGGAACTGTCGGTGGCATATCGGATACGGGGACCACGCTCTGCGGGAAACCGTTCTACTTTACTACAGGACGGTAAGGTTACGCCACCCGTTCGTACCATAATCATATCACCATTCACCTGACATTTACCCATACTGGCCTGTTCATCCAACTACCTGGGGCCCTCTTATGTGTCATTTGCGGCAATCTCAGTTAAAGGAATGAGTAGTTTGCCGAGTAATGAATCTGGTGGGCTTTTCTTTATTACGAACATCTTTTGCACGCACAACCGCGATCACAGTAGACTCCAGAGGTAACGAGGCACCTTTGGTCTAGTATTAGCAAATCGGCCCCGTTTGTGCCTCAAACAGGTTTCGGATCATACGGCTGATTGCATTGACCGCGCGCGACGTAATCAACCGCTATGAGGCGAAATGTCAGGCAGCTCGATTACGCTAACTATGTACAGTAAGACCCTCGCTGTGCCGATCCAGGCGGATCGGTCAGGGTTAATCATCGTTTTCAGAACA',\n",
        "   'sequence_4': 'ACTCCAACGGGAAAAAGATACGGATTAACAGCGACATTCGTATTTATGCGTCACGATGCTCAGGGCTACACAGCATCGGCCGCCTAGTGTTCAGACATGACTGGCCGCATCACGGGGAACACCCCGTGAGTTACGATGAACTGGTGTTGGTTACCACAGTAACCGACCACAACAGGGCAGAGGGGGAGGAAACGAACCTACCCACTGTTTGTGCTCTGGGTTTGGAAAATCTCATCATACCTACAGGCCGAACGGTTCCAAGCGATCTCGCGTAAAATTGAGCCCGTGGTCCGGCCTCGCAAGTAAAATCCCCCGAGATTGAAAGTGCGGCCTTGCTAAAGAATCCTAACCCAACTGTTCTCCAAACACAATAGGTTCTTTTAAATGGAACCGTTTGGCAGATGCTCTTGGTGCCAGGAGTTTCGGAACGAGTCGCTCGTAGGAACGATATTTATGGTTATGACCTTGCACTGGTCTATGGGTCTCATTATATCGCTAAGGTCGCACGTGGTATTAAATTCATGACCTGGTGATATTGGTGAAAACATAAAGAGAGTAGAGATGAAAGCCTTTCCGCGTGGTACTAGAAGACACGGCTCACGGCTAGGCGTTTACGTCAATCTGCATGCTTGGGCCTATTACCCTCGTGGGCTTTATCGGTGACAACCCCCCATTTTCAATTTTACACTACCCATCGGACTTGGGCTCTTAAGCTAGCTACTCCGTGCGGGATGGCGGAAGTTAATCTTCAGACAATCCGGCCCGGAGTAACGTGGGTCGGCTCATTTCTAAATCCCTGTCAGAAGACGAGATGGTGTGATGGTTAAAACTTCCCTGGTCAAGCAGACCTTGCTGTCTAAGATTCGCCGCCTAGTTCGCCGATCGCGGAGAGGGCCCTTACACATTTTAAAACTCAGCCATAACCAGACGCATCTGTACATCTAAATCTTTTATATCTGCATTCAGAAGTCCTCAGTCAAGGTTAGAATCACAACTCTGT'}),\n",
        " ('fdaa2',\n",
        "  {'creation_time': '1',\n",
        "   'id': 'fdaa2efbb00216bcbe3c656504fdc237e16f647110da6fc35266611cfe12985b936bb59b8f3a97b94f2129075a11535f9644d8a6ecac3964de5c68e07e1d372a',\n",
        "   'segment_number': '4',\n",
        "   'sequence_1': 'GAGCGGCCCTTTCCAAAAGCCCGCCAAGTATCAGTCATCCCGAGTAGTGTTAGATTATCCTAGCCACGTACAAGCGGACCCGAGGCACCTTAGATCGCAGGCCGTAGAATTTAAAACGCGCCTCGTTCATTAGGCGAACCCTAGTGGGCTCGGCACCCCCAGTTCCTATTGTCCCTAGGTTCTACCCATTCAGCGAGACATTAATAGAATCATCCCTATATGGTTCGGCAGCGCCGAGAGAGGAAGCGTCATGCCAGAGCGGGGTGTCAAATATATCCCCAAGTCGATCATACACGCTTCCCATAAGCCGTATCAATAGCCTCTCGCGCCTGCCTGACAATAGAGAGGGAGATGCGGTACAATCTTGATCCATCAGCTGTTTCCGTTACCCATAGGAACTGAGGAAATCTGTGCTTGTACGAGAGGCTCTGCAGACCAATAAGACACATACGTACGGAGGCCTCAATTTGGTAGAGCAAAGTTGCTGCTCGGGGAACTGTCGGTGGCATATCGGATACGGGGACCACGCTCTGCGGGAAACCGTTCTACTTTACTACAGGACGGTAAGGTTACGCCACCCGTTCGTACCATAATCATATCACCATTCACCTGACATTTACCCATACTGGCCTGTTCATCCAACTACCTGGGGCCCTCTTATGTGTCATTTGCGGCAATCTCAGTTAAAGGAATGAGTAGTTTGCCGAGTAATGAATCTGGTGGGCTTTTCTTTATTACGAACATCTTTTGCACGCACAACCGCGATCACAGTAGACTCCAGAGGTAACGAGGCACCTTTGGTCTAGTATTAGCAAATCGGCCCCGTTTGTGCCTCAAACAGGTTTCGGATCATACGGCTGATTGCATTCACCGCGCGCGACGTAATCAACCGCTATGAGGCGAAATGTCAGGCAGCTCGATTACGCTAACTATGTACACTAAGACCCTCGCTGTGCCGATCCAGGCGGATCGGTCAGGGTTAATCATCGTTTTCAGAACA',\n",
        "   'sequence_4': 'ACTCCAACGGGAAAAAGATACGGATTAACAGCGACATTCATATTTATGCGTCACGATGCTCAGGGCTACACAGCATGGGCCGCCTAGTGTTCAGACATGACTGGCCGCATCACGGGGAACACCCCGTGAGTTACGATGAACTGGTGTTGGTTACCACAGTAACCGACCACAAAAGGGCAGAGGGGGAGGAAACGAACCTACCCACTGTTTGTGCTCTAGGTTTGGAAAATCTCATCATACCTACAGGCCGAACGGTTCCAAGCGATCTTGCGGAAAATTGAGCCCGTGGTCCGGCCTCGCAAGTAAAATCCCCCGAGATTGAAAGTCCGGCATTGCTAAAGAATCCTAACCGAACTGTTCTCCAAACACAATAGGTTCTTTTAAATGGAACCGTTTGGCGGATGCTCTTGGTGCCAGGAGTTTCGGAACGAGTCGCTCGTAGGAACGGTATTTATGGTTATGACCGTGCACTGGTCTATGGATCTCATTATATCGCTAAGGTCGCACGTTGTATTAAATTCGTGACCTGGTGATATTGGTGAAAACATAAAGAGAGTAGAGATGAAAGGCTTTCCGCGTGGTAATAGAAGACACGGCTCACGGCTAGGCGTTTACGTCAATCTGCATGCTTGGGCCTATTACCCTCGTGGGCTTTATCGGTGACAACCCCCCATTTTCAATTTTACACTACCCATCGGACTTGGGCTCTTAAGCTAGCTACTCCGTGCGGGATGGCGGGAGTTAATCTTCAGACAATCCGGCCCGGAGTAACGTGGGTCGGCTCATTTCTAAATCCCTGTCAGAAGACGAGATGGTGTGATGGTTAAAACTTCCCTGGTCAAGCAGACCTTGCTGTGTAAGATTCGCCGCCTAGTTCGCCGATCGCGGAGAGGGCCCTTACACATTTTAAAACTCAGCCATAACCAGACGCATCTGTACATCTAAATCTTTTATATCTGCATTCAGAAGTCCTCAGTCAAGGTTAGAATCACAACTCTGT'}),\n",
        " ('90f8f',\n",
        "  {'creation_time': '7',\n",
        "   'id': '90f8f98ba8bc7550f447ae27f53532430242e0de5e6dbd802c1218aa23e77bc0aedac9366b8dd61a9303eedac8ec13205d87bfe397302d0b590216b81443739d',\n",
        "   'segment_number': '4',\n",
        "   'sequence_1': 'GAGCGGCCCTTTCCAAAAGCCCGCCAAGTATCAGTCATCCCGAGTAGTGTTAGATTATCCTAGCCACGTACAAGCGGACCCGAGGCACCTTAGATCGCAGGCCGTAGAATTTAAAACGCGCCTCGTTCATTAGGCGAACCCTAGTGGGCTCGGCACCCCCAGTTCCTATTGTCCCTAGGTTCTACCCATTCAGCGAGACATTAATAGAATCATCCCTATATGGTTCGGCAGCGCCGAGAGAGGAAGCGTCATGCCAGAGCGGGGTGTCAAATATATCCCCAAGTCGATCATACACGCTTCCCATAAGCCGTATCAATAGCCTCTCGCGCCTGCCTGACAATAGAGAGGGAGATGCGGTACAATCTTGATCCATCAGCTGTTTCCGTTACCCATAGGAACTGAGGAAATCTGTGCTTGTACGAGAGGCTCTGCAGACCAATAAGACACATACGTACGGAGGCCTCAATTTGGTAGAGCAAAGTTGCTGCTCGGGGAACTGTCGGTGGCATATCGGATACGGGGACCACGCTCTGCGGGAAACCGTTCTACTTTACTACAGGACGGTAAGGTTACGCCACCCGTTCGTACCATAATCATATCACCATTCACCTGACATTTACCCATACTGGCCTGTTCATCCAACTACCTGGGGCCCTCTTATGTGTCATTTGCGGCAATCTCAGTTAAAGGAATGAGTAGTTTGCCGAGTAATGAATCTGGTGGGCTTTTCTTTATTACGAACATCTTTTGCACGCACAACCGCGATCACAGTAGACTCCAGAGGTAACGAGGCACCTTTGGTCTAGTATTAGCAAATCGGCCCCGTTTGTGCCTCAAACAGGTTTCGGATCATACGGCTGATTGCATTGACCGCGCGCGACGTAATCAACCGCTATGAGGCGAAATGTCAGGCAGCTCGATTACGCTAACTATGTACAGTAAGACCCTCGCTGTGCCGATCCAGGCGGATCGGTCAGGGTTAATCATCGTTTTCAGAACA',\n",
        "   'sequence_4': 'ACTCCAACGGGAAAAAGATACCGATTAACAGCGACATTCGTATTTATGCGTCACGATGCTCAGGGCTACACAGCATGGGCCGCCTAGAGTTCAGACATGACTGGCCGCGTCACGGGGAACACCCCGTGAGTTACGATGAACTGGTGTTGGTTACCACAGTAACCGACCACAACAGGGCAGAGGGGGCGGAAACGAACCTACCCACTGTTTGTGGTCTGGGTTTGGAAAATCTCATCATACCTACAGGCCGAACGGTTCCAAGCGATCTTGCGTAAAATTGAGCCCGTGGTCCGGCCTCGCAAGTAAAATCCCCCGAGATTGAAAGTCCGGCATTGCTAGAGAATCCTAACCGAACTGTTCTCCAAACACAATAGGTTCTTTAAAATGGAACCGTTTGGCGGATGCTCTTGGTGCCAGGAGTTTCGGAACGAGTCGCTCGTAGGAACGGTATTTATGGTTATGACCGTGCACTGGTCTATGGGTCTCATTATATCGCTAAGGTCGCACGTTGTATTAAATTCGTGACCTGGTGATATTGGTGAAAACATCAAGAGATTAGAGATGAAAGCCTTGCCGCGTGGTAATAGATGACACGGCTCACGGCTAGGCGTTTACGTCAATCTGCATGCTTGGGCCTATTCGCCTCGTGGGCTTTATCGGTGACAACCCCCCATTTTCAATTTTACACTACCCATCGGACTTGGGCACTTAAGCTAGCTACTCCGTGCGGGATGGCGGGCGTTAATCTTCAGACAATCCGGCCCGGAGTAGCGTGGGTCGGCTCATTTCTAAATCCCTGTCAGCAGTCGAGATGGTGTGATGGTTAAAACTTCCCTGGTCAAGCAGACCTTGCTGTCTAAGATTCGCCGCCTAGTTCGCCGATCGCGGAGAGGGCCCTTACACATTTTAAAGCTCAGCCATAACCAGACGCATCTGTACATCTAAATCTTTTATATCTGCATTCAGAAGTCCTCAGTCAAGGTTAGAATCACAACTCTGT'}),\n",
        " ('a4d3a',\n",
        "  {'creation_time': '9',\n",
        "   'id': 'a4d3aedafe49f3ebe9a81bc069d0ac4f58f3ac0fae06751a2b93fb42637c693628b0d88bfa92b3c18587d80713e70055ab24f02d4fb8f84c3e511e7bf7724cf9',\n",
        "   'segment_number': '4',\n",
        "   'sequence_1': 'GAGCGGCCCTTTCCAAAAGCCCGCCAAGTATCAGTCATCCCGAGTAGTGTTAGATTATCCTAGCCACGTACAAGCGGACCCGAGGCACCTTAGATCGCAGGCCGTAGAATTTAAAACGCGCCTCGTTCATTAGGCGAACCCTAGTGGGCTCGGCACCCCCAGTTCCTATTGTCCCTAGGTTCTACCCATTCAGCGAGACATTAATAGAATCATCCCTATATGGTTCGGCAGCGCCGAGAGAGGAAGCGTCATGCCAGAGCGGGGTGTCAAATATATCCCCAAGTCGATCATACACGCTTCCCATAAGCCGTATCAATAGCCTCTCGCGCCTGCCTGACAATAGAGAGGGAGATGCGGTACAATCTTGATCCATCAGCTGTTTCCGTTACCCATAGGAACTGAGGAAATCTGTGCTTGTACGAGAGGCTCTGCAGACCAATAAGACACATACGTACGGAGGCCTCAATTTGGTAGAGCAAAGTTGCTGCTCGGGGAACTGTCGGTGGCATATCGGATACGGGGACCACGCTCTGCGGGAAACCGTACTACTTTACTACAGGACGGTAAGGTTACGCCACCCGTTCGTACCATAATCATATCACCATTCACCTGACATTTACCCATACTGGCCTGTTCATCCAACTACCTGGGGCCCTCTTATGTGTCATTTGCGGCAATCTCAGTTAAAGGAATGAGTAGTTTGCCGAGTAATGAATCTGGTGGGCTTTTCTTTATTACGAACATCTTTTGCACGCACAACCGCGATCACAGTAGACTCCAGAGGTAACGAGGCACCTTTGGTCTAGTATTAGCAAATCGGCCCCGTTTGTGCCTCAATCAGGTTTCGGATCATACGGCTGATTGCATTGACCGCGCGCGACGTAATCAACCGCTATGAGGCGAAATGTCAGGCAGCTCGATTACGCTAACTATGTACAGTAAGACCCTCGCTGTGCCGATCCAGGCGGATCGGTCAGGGTTAATCATCGTTTTCAGAACA',\n",
        "   'sequence_4': 'ATGAATCAAGCATAGGCGGATCTTCCGCCACCGGATACCCCTATACGCTACATTTCGAAGTCTGGTCCTGGCTATGGGCTGGATAAGGCAGTTTCCACAGCAACGGGTATATTCTAAAAAGGCGTTTTAGGCAAGGGTTGAGATATCCTGGGACCTGAATCATATGCTAAGTGTGATGAGCTTCGTTTAAGGAGCGGCAATTAGCCCGCATGCCTAACCCCCGCTCCCTATGTGTTTGCCATACTCATGCCTTCACGGAGTTTAATCCGCAACCACCTTGTGTGGAGGTAGGTTTATCTCACCAGTAGCAACCAAGTCAAAACGACGAAGAGTACGAACCAACTTAGTTCATTCTAACCCATCATCATTATATGGGTTTACGTACCCTCGACGTATTCTTCCCCCAGTGAATTAAGTCTCTATAGGAAACGGACGCAGCAGATCCTTATCTGTGGCCTCTTTGCATTCATAGTACATCTATACCCATTAGAGTCGGGACCCGTGGGTAGCCGACACATCCTACCACCAGTACTGTCCCGAATGATCTACTCGAAGGTGTTTCCTAGCGGGGGTTCTCCACGATGACGGCACATGAAGGGTAGAGAGGCGACGATCCTTCCTCCCGTGCCGTGACTGGCGTTTTATGGCAAGGTCCGTACCGAGTCGATATAAGAAATAGCCGTGTATAGTAAGTGTAGCTAAAATCTCCGGATAGGTAGCGCATCCCGCCGAACATGTATATTTTGTGGGGATTGCAACGGACGGCAAACCCGCAAGTAAAGGATGGACGACTACGGGACACACTCAATGGTATTAAAGCTCTAAAACTCGGTCCGGGTTTCCTTACGGGATATCGGGCCAGTTGAGCCTCAGTATTTAACGCACGCAGAGCTGACAGCTCCGAATTGCATTTAAAGGAGGTTCACCTATACCAGCATACTAGAACTGCCTAACGGAACAAGTCACCAATCACGATTACAGTGTGAAGGAGCTAGCCAAC'}),\n",
        " ('06b00',\n",
        "  {'creation_time': '6',\n",
        "   'id': '06b00cec66207cd65e0f837ce09abed6b1459a0b5c51ea002ee486b88a419255d329ed03cb91b49fb861b1b4fa2b2275894660254a188ec1de0541cd17a33f23',\n",
        "   'segment_number': '4',\n",
        "   'sequence_1': 'GAGCGGCCCTTTCCAAAAGCCCGCCAAGTATCAGTCATCCCGAGTAGTGTTAGATTATCCTAGCCACGTACAAGCGGACCCGAGGCACCTTAGATCGCAGGCCGTAGAATTTAAAACGCGCCTCGTTCATTAGGCGAACCCTAGTGGGCTCGGCACCCCCAGTTCCTATTGTCCCTAGGTTCTACCCATTCAGCGAGACATTAATAGAATCATCCCTATATGGTTCGGCAGCGCCGAGAGAGGAAGCGTCATGCCAGAGCGGGGTGTCAAATATATCCCCAAGTCGATCATACACGCTTCCCATAAGCCGTATCAATAGCCTCTCGCGCCTGCCTGACAATAGAGAGGGAGATGCGGTACAATCTTGATCCATCAGCTGTTTCCGTTACCCATAGGAACTGAGGAAATCTGTGCTTGTACGAGAGGCTCTGCAGACCAATAAGACACATACGTACGGAGGCCTCAATTTGGTAGAGCAAAGTTGCTGCTCGGGGAACTGTCGGTGGCATATCGGATACGGGGACCACGCTCTGCGGGAAACCGTTCTACTTTACTACAGGACGGTAAGGTTACGCCACCCGTTCGTACCATAATCATATCACCATTCACCTGACATTTACCCATACTGGCCTGTTCATCCAACTACCTGGGGCCCTCTTATGTGTCATTTGCGGCAATCTCAGTTAAAGGAATGAGTAGTTTGCCGAGTAATGAATCTGGTGGGCTTTTCTTTATTACGAACATCTTTTGCACGCACAACCGAGATCACAGTAGACTCCAGAGGTAACGAGGCACCTTTGGTCTAGTATTAGCAAATCGGCCCCGTTTGTGCCTCAAACAGGTTTCGGATCATACGGCTGATTGCATTGACCGCGCGCGACGTAATCAACCGCTATGAGGCGAAATGTCAGGCAGCTCGATTACGCTAACTATGTACAGTAAGACCCTCGCTGTGCCGATCCAGGCGGATCGGTCAGGGTTAATCATCGTTTTCAGAACA',\n",
        "   'sequence_4': 'ACTCCAACGGGAAAAAGATACGGATTAACAGCGACATTCGTATTTATGCGTCACGATGCTCAGGGCTACACAGCATCGGCCGCCTAGTGTTCAGACATGACTGGCCGCATCACGGGGAACACCCCGTGAGTTACGATGAACTGGTGTTGGTTACCACAGGAACCGACCACAACAGGGCAGAGGGGGAGGAAACGAACCTACCCACTGTTTGTGCTCTGGGTTTGGAAAATCTCATCATACCTACAGGCCGAACGGTTCCAAGCGATCTCGCGTAAAATTGAGCCCGTGGTCCGGCCTCGCAAGTAAAATCCCCCGAGATTGAATGTGCGGCCTTGGTAAAGAATCCTAACCCAACTATTCTCCAAACACAATAGGTTCTTTTAAATGGAACCGTGTGGCAGATGCTCTTGGTGCCAGGAGTTTCGGAACGAGTCGCTCGTAGGAACGATATTTATGGTTATGACCTTGCACTGGTCTATGGGTCTCATTATATCGCTAAGGGCGCACGTGGTATTAAATTCATGACCTGGTGATATTGGTGAAAACATAAAGAGAGTAGAGATGAAAGCCTTTCCGCGTGGTACTAGAAGACACGGCTCACGGCTAGGCGTTTACGTCAATCTGCATGCTTGGGCCTATTACCCTCGTGGGCTTTATCGGTGACAACCCCCCATTTTCAATTTTACACTACCCATCGGACTTGGGCTCTTAAGCTAGCTACTCCGTGCGGGATGGCGGAAGTTAATCTTCAGACAATCCGGCCTGGAGTAACGTGGGTCGGCTCATTTCTAAATCCCTGTCAGAAGACGAGATGGTGTGATGGTTAAAACTTCCCTGGTCAAGCAGACCTTGCTGTCTAAGATTCGCCGCCTAGTTCGCCGATCGCGGAGAGGGCACTTACACATTTTAAAACTCAGCCATAACCAGACGCATCTGTACATGTAAATCTTTTATATCTGCATTCAGAAGTCCTCAGTCAAGGTTAGAATCACAACTCTGT'}),\n",
        " ('a3eeb',\n",
        "  {'creation_time': '5',\n",
        "   'id': 'a3eeb1597bd49708065899b64a9b01d0da91134e4881ca0f907540071943dd44c13bab9680e1c187e662664a0eca376cae4b8857f7d3f704afff2379adbf2524',\n",
        "   'segment_number': '4',\n",
        "   'sequence_1': 'GAGCGGCCCTTTCCAAAAGCCCGCCAAGTATCAGTCATCCCGAGTAGTGTTAGATTATCCTAGCCACGTACAAGCGGACCCGAGGCACCTTAGATCGCAGGCCGTAGAATTTAAAACGCGCCTCGTTCATTAGGCGAACCCTAGTGGGCTCGGCACCCCCAGTTCCTATTGTCCCTAGGTTCTACCCATTCAGCGAGACATTAATAGAATCATCCCTATATGGTTCGGCAGCGCCGAGAGAGGAAGCGTCATGCCAGAGCGGGGTGTCAAATATATCCCCAAGTCGATCATACACGCTTCCCATAAGCCGTATCAATAGCCTCTCGCGCCTGCCTGACAATAGAGAGGGAGATGCGGTACAATCTTGATCCATCAGCTGTTTCCGTTACCCATAGGAACTGAGGAAATCTGTGCTTGTACGAGAGGCTCTGCAGACCAATAAGACACATACGTACGGAGGCCTCAATTTGGTAGAGCAAAGTTGCTGCTCGGGGAACTGTCGGTGGCATATCGGATACGGGGACCATGCTCTGCGGGAAACCGTTCTACTTTACTACAGGACGGTAAGGTTACGCCACCCGTTCGTACCATAATCATATCACCATTCACCTGACATTTACCCATACTGGCCTGTTCATCCAACTACCTGGGGCCCTCTTATGTGTCATTTGCGGCAATCTCAGTTAAAGGAATGAGTAGTTTGCCGAGTAATGAATCTGGTGGGCTTTTCTTTATTACGAACATCTTTTGCACGCACAACCGCGATCACAGTAGACTCCAGAGGTAACGAGGCACCTTTGGTCTAGTATTAGCAAATCGGCCCCGTTTGTGCCTCAAACAGGTTTCGGATCATACGGCTGATTGCATTGACCGCGCGCGACGTAATCAACCGCTATGAGGCGAAATGTCAGGCAGCTCGATTACGCTAACTATGTACAGTAAGACCCTCGCTGTGCCGATCCAGGCGGATCGGTCAGGGTTAATCATCGTTTTCAGAACA',\n",
        "   'sequence_4': 'ACTCCAACGGGAAAAAGATCCGGATTAACAGCGACATTCGTATTTATGCGTCACGATGCTCAGGGCTACACAGCATCGGCCGCCTAGTGTTCAGACATGACTGGCCACATCACGGGGAACACCCCGTGAGTTACGATGAACTGGTGTTGGTTACCACAGTAACCGACCACAACAGGGCAGAGGGGGAGGAAACGAACCTACCCACTGTTTGTGCTCTGGGGTTGGAAAATCTGATCATACCTACAGGCCGAACGGTTCCAAGCGATCTCGCGTAAAATTGAGCCCGTGGTCCGGCCTCGCAAGTAAAATCCCCCGAGATTGGAAGTGCGGCCTTGCTAAAGAATCCTAACCCAACTGTTCTCCAAACACAATAGGTTCTTTTAAATGGAACCGTTTGGCAGATGCTCTTGGTGCCAGGAGTTTCGGAACGAGTCGCTCGTAGGAACGATATTTATGGTTATGACCTTGCACTGGTCTATGGGTCTCATTATATCGCTAAGGTCGCACGTGGTATTAAATTCATGACCTGGTGATATTGGTGAAAACATAAAGAGAGTAGAGATGAAAGCCTTTCCGCGTGGTACTAGAAGACACGGCTCACGGCTAGGCGTTTACGTCAATCTGCATGCTTGGGCCTATTACCCTCGTGGGCTTTATCGGTGACAACCCCCCATTTTCAATTTTACACTACCCATCGGACTTGGGCTCTTAAGCTAGCTACTCCGTGCGGGATGGCGGAAGTTAATCTTCAGACAATCCGGCCCGGAGTAACGTGGGTCGGCTCATTTCTAAATCCCTGTCAGAAGACGAGATGGTGTGATGGTTAAAACTTCCCTGGTCAAGCAGACCTTGCTGTCTAAGATTCGCCGCCTAGTTCGCCGATCGCGGAGAGGGCCCTTACACATTTTAAAACTCAGCCATAACCAGACGCATCTGTCCATCTAAATCTTTTATATCTGCATTCAGAAGTCCTCAGTCAAGGTTAGAATCACACCTCTGT'}),\n",
        " ('87478',\n",
        "  {'creation_time': '0',\n",
        "   'id': '874781e610b24655b48f62b22a743ee0d7e7b7b25ba939e7dd3cf6dd575561af2c12ca0302691a97a9e364f11afd34b787fccc1f203e99b3dd185b00bad3111f',\n",
        "   'segment_number': '4',\n",
        "   'sequence_1': 'GAGCGGCCCTTTCCAAAAGCCCGCCAAGTATCAGTCATCCCGAGTAGTGTTAGATTATCCTAGCCACGTACAAGCGGACCCGAGGCACCTTAGATCGCAGGCCGTAGAATTTAAAACGCGCCTCGTTCATTAGGCGAACCCTAGTGGGCTCGGCACCCCCAGTTCCTATTGTCCCTAGGTTCTACCCATTCAGCGAGACATTAATAGAATCATCCCTATATGGTTCGGCAGCGCCGAGAGAGGAAGCGTCATGCCAGAGCGGGGTGTCAAATATATCCCCAAGTCGATCATACACGCTTCCCATAAGCCGTATCAATAGCCTCTCGCGCCTGCCTGACAATAGAGAGGGAGATGCGGTACAATCTTGATCCATCAGCTGTTTCCGTTACCCATAGGAACTGAGGAAATCTGTGCTTGTACGAGAGGCTCTGCAGACCAATAAGACACATACGTACGGAGGCCTCAATTTGGTAGAGCAAAGTTGCTGCTCGGGGAACTGTCGGTGGCATATCGGATACGGGGACCACGCTCTGCGGGAAACCGTTCTACTTTACTACAGGACGGTAAGGTTACGCCACCCGTTCGTACCATAATCATATCACCATTCACCTGACATTTACCCATACTGGCCTGTTCATCCAACTACCTGGGGCCCTCTTATGTGTCATTTGCGGCAATCTCAGTTAAAGGAATGAGTAGTTTGCCGAGTAATGAATCTGGTGGGCTTTTCTTTATTACGAACATCTTTTGCACGCACAACCGCGATCACAGTAGACTCCAGAGGTAACGAGGCACCTTTGGTCTAGTATTAGCAAATCGGCCCCGTTTGTGCCTCAAACAGGTTTCGGATCATACGGCTGATTGCATTGACCGCGCGCGACGTAATCAACCGCTATGAGGCGAAATGTCAGGCAGCTCGATTACGCTAACTATGTACAGTAAGACCCTCGCTGTGCCGATCCAGGCGGATCGGTCAGGGTTAATCATCGTTTTCAGAACA',\n",
        "   'sequence_4': 'ACTCCAACGGGAAAAAGATACGGATTAACAGCGACATTCGTATTTATGCGTCACGATGCTCAGGGCTACACAGCATGGGCCGCCTAGTGTTCAGACATGACTGGCCGCATCACGGGGAACACCCCGTGAGTTACGATGAACTGGTGTTGGTTACCACAGTAACCGACCACAACAGGGCAGAGGGGGAGGAAACGAACCTACCCACTGTTTGTGCTCTGGGTTTGGAAAATCTCATCATACCTACAGGCCGAACGGTTCCAAGCGATCTTGCGTAAAATTGAGCCCGTGGTCCGGCCTCGCAAGTAAAATCCCCCGAGATTGAAAGTCCGGCATTGCTAAAGAATCCTAACCGAACTGTTCTCCAAACACAATAGGTTCTTTTAAATGGAACCGTTTGGCGGATGCTCTTGGTGCCAGGAGTTTCGGAACGAGTCGCTCGTAGGAACGGTATTTATGGTTATGACCGTGCACTGGTCTATGGGTCTCATTATATCGCTAAGGTCGCACGTTGTATTAAATTCGTGACCTGGTGATATTGGTGAAAACATAAAGAGAGTAGAGATGAAAGCCTTTCCGCGTGGTAATAGAAGACACGGCTCACGGCTAGGCGTTTACGTCAATCTGCATGCTTGGGCCTATTACCCTCGTGGGCTTTATCGGTGACAACCCCCCATTTTCAATTTTACACTACCCATCGGACTTGGGCTCTTAAGCTAGCTACTCCGTGCGGGATGGCGGGAGTTAATCTTCAGACAATCCGGCCCGGAGTAACGTGGGTCGGCTCATTTCTAAATCCCTGTCAGAAGACGAGATGGTGTGATGGTTAAAACTTCCCTGGTCAAGCAGACCTTGCTGTCTAAGATTCGCCGCCTAGTTCGCCGATCGCGGAGAGGGCCCTTACACATTTTAAAACTCAGCCATAACCAGACGCATCTGTACATCTAAATCTTTTATATCTGCATTCAGAAGTCCTCAGTCAAGGTTAGAATCACAACTCTGT'}),\n",
        " ('efcae',\n",
        "  {'creation_time': '4',\n",
        "   'id': 'efcae67d58b7532eaccf0b4a4c3c7b83330962a8132fc622a05545c5d2aee7ec891edadcb7429774486c92ff3dc17713d28b335dade0781a9852ec3fe775e01d',\n",
        "   'segment_number': '4',\n",
        "   'sequence_1': 'GAGCGGCCCTTTCCAAAAGCCCGCCAAGTATCAGTCATCCCGAGTAGTGTTAGATTATCCTAGCCACGTACAAGCGGACCCGAGGCACCTTAGATCGCAGGCCGTAGAATTTAAAACGCGCCTCGTTCATTAGGCGAACCCTAGTGGGCTCGGCACCCCCAGTTCCTATTGTCCCTAGGTTCTACCCATTCAGCGAGACATTAATAGAATCATCCCTATATGGTTCGGCAGCGCCGAGAGAGGAAGCGTCATGCCAGAGCGGGGTGTCAAATATATCCCCAAGTCGATCATACACGCTTCCCATAAGCCGTATCAATAGCCTCTCGCGCCTGCCTGACAATAGAGAGGGAGATGCGGTACAATCTTGATCCATCAGCTGTTTCCGTTACCCATAGGAACTGAGGAAATCTGTGCTTGTACGAGAGGCTCTGCAGACCAATAAGACACATACGTACGGAGGCCTCAATTTGGTAGAGCAAAGTTGCTGCTCGGGGAACTGTCGGTGGCATATCGGATACGGGGACCACGCTCTGCGGGAAACCGTTCTACTTTACTACAGGACGGTAAGGTTACGCCACCCGTTCGTACCATAATCATATCACCATTCACCTGACATTTACCCATACTGGCCTGTTCATCCAACTACCTGGGGCCCTCTTATGTGTCATTTGCGGCAATCTCAGTTAAAGGAATGAGTAGTTTGCCGAGTAATGAATCTGGTGGGCTTTTCTTTATTACGAACATCTTTTGCACGCACAACCGCGATCACAGTAGACTCCAGAGGTAACGAGGCACCTTTGGTCTAGTATTAGCAAATCGGCCCCGTTTGTGCCTCAAACAGGTTTCGGATCATACGGCTGATTGCATTGACCGCGCGCGACGTAATCAACCGCTATGAGGCGAAATGTCAGGCAGCTCGATTACGCTAACTATGTACAGTAAGACCCTCGCTGTGCCGATCCAGGCGGATCGGTCAGGGTTAATCATCGTTTTCAGAACA',\n",
        "   'sequence_4': 'ACTCCAACGGGAAAAAGATACGGATTAACAGCGACATTCGTATTTATGCGTCACGATGCTCAGGGCTACACAGCACGGGCCGCCTAGTGTTCAGACATGACTGGCCGCATCACGGGGAACACCCCGTGAGTTACGATGAACTGGTGTTGGTTACCACAGTAACCGACCACAACAGGGCAGAGGGGGAGGAAACGAACCTACCCACTGTTTGTGCTCTGGGTTTGGAAAATCTCATCATACCTACAGGCCGAACGGTTCCAAGCGATCTTGCGTAAAATTGAGCCCGTGGTCCGGCCTCGCAAGTAAAATCCCCCGAGATTGAAAGTCCGGCATTGCTAAAGAATCCTAACCGAACTGTTCTCCAAACACAATAGGTTCTTTTAAATGGAACCGTTTGGCGGATGCTCTTGGTGCCAGGATTTTCGGAACGAGTCGCTCGTAGGAACGGTATTTATGGTTATGACCGTGCACTGGTCTATGGGTCTCATTATATCGCTAAGGTCGCACGTTGTATTAAATTCGTGACCTGGTGATCTTGGTGAAAACATAAAGAGAGTAGAGATGAAAGCCTCTCCGCGTGGGAATAGAAGACACGGCTCACGGCTAGGCGTTTACGTCAATCTGCATGCTTGGGCCTATTACCCTCGTGGGCTTTATCGGTGACAACCCCCCATTTTCAATTTTACACTACCCATCGGACTTGGGCTCTTAAGCTAGCTACTCCGTGCGGGATGGCGGGAGTTAATATTCAGACAATCCGGCCCGGAGTAACGTGGGTCGGCTCATTTCTAAATCCCTGTCAGAAGACGGGATGGTGTGATGGTTAAAACTTCCCTGGTCAAGCAGACCTTGCTGTCTAAGATTCGCCGCCTAGTTCGCCGATCGCGGAGAGGGCCCTTACACATTTTAAAACTCAGCCATAACCAGACGCATCTGTACATCTAAATCTTTTATATCTGCATTCAGAAGTCCTCAGTCAAGGTTAGAATCACAACTCTGT'}),\n",
        " ('c7f16',\n",
        "  {'creation_time': '8',\n",
        "   'id': 'c7f16344d70d0deb9a434461a6de13e1bd642ac9d7aeb1ad88cf35d18876c58cc23c684d8f20b1954066b422ffe2f1b45511d464663fe7d11ba968c85b85d474',\n",
        "   'segment_number': '4',\n",
        "   'sequence_1': 'GAGCGGCCCTTTCCAAAAGCCCGCCAAGTATCAGTCATCCCGAGTAGTGTTAGATTATCCTAGCCACGTACAAGCGGACCCGAGGCACCTTAGATCGCAGGCCGTAGAATTTAAAACGCGCCTCGTTCATTAGGCGAACCCTAGTGGGCTCGGCACCCCCAGTTCCTATTGTCCCTAGGTTCTACCCATTCAGCGAGACATTAATAGAATCATCCCTATATGGTTCGGCAGCGCCGAGAGAGGAAGCGTCATGCCAGAGCGGGGTGTCAAATATATCCCCAAGTCGATCATACACGCTTCCCATAAGCCGTATCAATAGCCTCTCGCGCCTGCCTGACAATAGAGAGGGAGATGCGGTACAATCTTGATCCATCAGCTGTTTCCGTTACCCATAGGAACTGAGGAAATCTGTGCTTGTACGAGAGGCTCTGCAGACCAATAAGACACATACGTACGGAGGCCTCAATTTGGTAGAGCAAAGTTGCTGCTCGGGGAACTGTCGGTGGCATATCGGATACGGGGACCACGCTCTGCGGGAAACCGTTCTACTTTACTACAGGACGGTAAGGTTACGCCACCCGTTCGTACCATAATCATATCACCATTCACCTGACATTTACCCATACTGGCCTGTTCATCCAACTACCTGGGGCCCTCTTATGTGTCATTTGCGGCAATCTCAGTTAAAGGAATGAGTAGTTTGCCGAGTAATGAATCTGGTGGGCTTTTCTTTATTACGAACATCTTTTGCACGCACAACCGCGATCACAGTAGACTCCAGAGGTAACGAGGCACCTTTGGTCTAGTATTAGCAAATCGGCCCCGTTTGTGCCTCAAACAGGTTTCGGATCATACGGCTGATTGCATTGACCGCGCGCGACGTAATCAACCGCTATGAGGCGAAATGTCAGGCAGCTCGATTACGCTAACTATGTACAGTAAGACCCTCGCTGTGCCGATCCAGGCGGATCGGTCAGGGTTAATCATCGTTTTCAGAACA',\n",
        "   'sequence_4': 'ATGAATCAAGCATAGGCGGATCTTCCGCCGCCGCATACCCCTATACGCTACATTTCGAAGTCTGGTCCTGGCTACGGGCTGGATAAGGCAGTTTCCACAGCAACGGGTATATTCTAAAAAGGCGTTTTAGGCAAGGGTTGAGATATCCTGGGACCTGAATCATATGCTAAGTGTGATGAGCTTCGTTTAAGGAGCGGCAATTAGCCCGCATGCCTAACCCCCGCTCCCTATGTGTTTGCCATACTCATGCCTTCACGGAGTTTAATCCGCAACCACCATGTGTGGAGGTAGGTTTATCTCACCAGTAGCAACCAAGTCAAAACGACGAAGAGTACGAACCAACTTAGTTCATTCTACCCCATCATCATTATATGGGTTTACGTACCCTCGACGTATTCTTCCCCCAGTGAATTAAGTCTCTATAGGAAACGGACGCAGCAGATCCTTATCTGTGGCCTCTTTGCATTCATAGTACATCTATACCCATTAGAGTCGGGACCCGTGGGTAGCCGACACATCCTACCACCAGTACTGTCCCGAATGATCTACTCGAAGGTGTTTCCTAGCGGGGGTTCTCCACGATGACGGCACATGAAGGGTAGAGAGGCGACGATCCTTCCTCCCGTGCCGTGACTGGCGTTTTATGGCAAGGTCCGTACCGAGTCGATATGAGAAATAGCCGTGTATAGTAAGTGTAGCTAAAATCTCCGGATAGGTAGCGCATCCCGCCGAACATGTATATTTTGTGGGGATTGCAACGGACGGCAAACCCGCAAGTAAAGGATGGACGACTACGGGACACACTCAATGGTATTAAAGCTCTAAAACTCGGTCCGGGTTTCCTTACGGGATATCGGGCCAGTTGAGCCTCAGTATTTAACGCACGCAGAGCTGACAGCTCCGAATTGCATTTAAAGGAGGTTCACCTATACCAGCATACTAGAACTGCCTAACGGAACAAGTCACCAATCACGATTACAGTGTGAAGGAGCTAGCCAAC'})]"
       ]
      }
     ],
     "prompt_number": 306
    },
    {
     "cell_type": "code",
     "collapsed": false,
     "input": [
      "# This code is used for drawing.\n",
      "from random import randint\n",
      "\n",
      "randints = []\n",
      "for node in r.condensed_graph.nodes(data=True):\n",
      "    randints.append(randint(1, 20))\n",
      "print randints\n",
      "\n",
      "reconstruction_positions = dict()\n",
      "for i, node in enumerate(sorted(r.condensed_graph.nodes(data=True))):\n",
      "    reconstruction_positions[node[0]] = (int(node[1]['creation_time']), randints[i])\n",
      "    \n",
      "print len(reconstruction_positions)\n",
      "nx.draw(r.condensed_graph, pos=reconstruction_positions)"
     ],
     "language": "python",
     "metadata": {},
     "outputs": [
      {
       "output_type": "stream",
       "stream": "stdout",
       "text": [
        "[5, 15, 19, 14, 7, 15, 10, 17, 19, 9, 8]\n",
        "11\n"
       ]
      },
      {
       "metadata": {},
       "output_type": "display_data",
       "png": "[encoded data removed]",
       "text": [
        "<matplotlib.figure.Figure at 0x107100e10>"
       ]
      }
     ],
     "prompt_number": 307
    },
    {
     "cell_type": "code",
     "collapsed": false,
     "input": [
      "simulation_positions = dict()\n",
      "\n",
      "print randints\n",
      "for i, pathogen in enumerate(s.pathogens):\n",
      "    simulation_positions[pathogen] = reconstruction_positions[str(pathogen)]\n",
      "    \n",
      "print len(simulation_positions)\n",
      "nx.draw(s.transmission_graph, pos=simulation_positions)"
     ],
     "language": "python",
     "metadata": {},
     "outputs": [
      {
       "output_type": "stream",
       "stream": "stdout",
       "text": [
        "[5, 15, 19, 14, 7, 15, 10, 17, 19, 9, 8]\n",
        "11\n"
       ]
      },
      {
       "metadata": {},
       "output_type": "display_data",
       "png": "[encoded data removed]",
       "text": [
        "<matplotlib.figure.Figure at 0x10639cad0>"
       ]
      }
     ],
     "prompt_number": 308
    },
    {
     "cell_type": "code",
     "collapsed": false,
     "input": [
      "s.pathogens[0].parent"
     ],
     "language": "python",
     "metadata": {},
     "outputs": [
      {
       "metadata": {},
       "output_type": "pyout",
       "prompt_number": 309,
       "text": [
        "{}"
       ]
      }
     ],
     "prompt_number": 309
    },
    {
     "cell_type": "code",
     "collapsed": false,
     "input": [
      "r.condensed_graph.edges(data=True)"
     ],
     "language": "python",
     "metadata": {},
     "outputs": [
      {
       "metadata": {},
       "output_type": "pyout",
       "prompt_number": 310,
       "text": [
        "[('c7ea0', 'c7f16', {'segments': [1, 4], 'weight': 13}),\n",
        " ('b1ba0', 'a3eeb', {'segments': [1, 4], 'weight': 8}),\n",
        " ('b1ba0', '06b00', {'segments': [1, 4], 'weight': 10}),\n",
        " ('fdaa2', '70dc1', {'segments': [1], 'weight': 0}),\n",
        " ('87478', '70dc1', {'segments': [4], 'weight': 8}),\n",
        " ('87478', 'fdaa2', {'segments': [1, 4], 'weight': 9}),\n",
        " ('87478', 'b1ba0', {'segments': [1, 4], 'weight': 12}),\n",
        " ('87478', '90f8f', {'segments': [1, 4], 'weight': 19}),\n",
        " ('87478', 'efcae', {'segments': [1, 4], 'weight': 7}),\n",
        " ('c7f16', 'a4d3a', {'segments': [1, 4], 'weight': 8})]"
       ]
      }
     ],
     "prompt_number": 310
    },
    {
     "cell_type": "code",
     "collapsed": false,
     "input": [
      "for virus in s.identify_reassortants():\n",
      "    print virus"
     ],
     "language": "python",
     "metadata": {},
     "outputs": [
      {
       "output_type": "stream",
       "stream": "stdout",
       "text": [
        "70dc1\n"
       ]
      }
     ],
     "prompt_number": 311
    },
    {
     "cell_type": "code",
     "collapsed": false,
     "input": [
      "for virus in r.identify_reassortants():\n",
      "    print virus[0]"
     ],
     "language": "python",
     "metadata": {},
     "outputs": [
      {
       "output_type": "stream",
       "stream": "stdout",
       "text": [
        "70dc1\n"
       ]
      }
     ],
     "prompt_number": 312
    },
    {
     "cell_type": "code",
     "collapsed": false,
     "input": [
      "s.transmission_graph.edges(data=True)"
     ],
     "language": "python",
     "metadata": {},
     "outputs": [
      {
       "metadata": {},
       "output_type": "pyout",
       "prompt_number": 313,
       "text": [
        "[(c7f16, a4d3a, {'segments': [4], 'weight': 6}),\n",
        " (b1ba0, a3eeb, {'segments': [1, 4], 'weight': 8}),\n",
        " (b1ba0, 06b00, {'segments': [1, 4], 'weight': 10}),\n",
        " (fdaa2, 70dc1, {'segments': [1], 'weight': 0}),\n",
        " (c7ea0, c7f16, {'segments': [1, 4], 'weight': 13}),\n",
        " (87478, fdaa2, {'segments': [1, 4], 'weight': 9}),\n",
        " (87478, efcae, {'segments': [1, 4], 'weight': 7}),\n",
        " (87478, 90f8f, {'segments': [1, 4], 'weight': 19}),\n",
        " (87478, 70dc1, {'segments': [4], 'weight': 8}),\n",
        " (87478, b1ba0, {'segments': [4], 'weight': 12})]"
       ]
      }
     ],
     "prompt_number": 313
    },
    {
     "cell_type": "markdown",
     "metadata": {},
     "source": [
      "# Test Relabeled Graph"
     ]
    },
    {
     "cell_type": "code",
     "collapsed": false,
     "input": [
      "s.relabel_transmission_graph()\n",
      "s.relabeled_transmission_graph.edges(data=True)"
     ],
     "language": "python",
     "metadata": {},
     "outputs": [
      {
       "metadata": {},
       "output_type": "pyout",
       "prompt_number": 314,
       "text": [
        "[('c7ea0', 'c7f16', {'segments': [1, 4], 'weight': 13}),\n",
        " ('fdaa2', '70dc1', {'segments': [1], 'weight': 0}),\n",
        " ('b1ba0', 'a3eeb', {'segments': [1, 4], 'weight': 8}),\n",
        " ('b1ba0', '06b00', {'segments': [1, 4], 'weight': 10}),\n",
        " ('87478', 'b1ba0', {'segments': [4], 'weight': 12}),\n",
        " ('87478', '70dc1', {'segments': [4], 'weight': 8}),\n",
        " ('87478', 'efcae', {'segments': [1, 4], 'weight': 7}),\n",
        " ('87478', '90f8f', {'segments': [1, 4], 'weight': 19}),\n",
        " ('87478', 'fdaa2', {'segments': [1, 4], 'weight': 9}),\n",
        " ('c7f16', 'a4d3a', {'segments': [4], 'weight': 6})]"
       ]
      }
     ],
     "prompt_number": 314
    },
    {
     "cell_type": "code",
     "collapsed": false,
     "input": [
      "r.condensed_graph.edges(data=True)"
     ],
     "language": "python",
     "metadata": {},
     "outputs": [
      {
       "metadata": {},
       "output_type": "pyout",
       "prompt_number": 315,
       "text": [
        "[('c7ea0', 'c7f16', {'segments': [1, 4], 'weight': 13}),\n",
        " ('b1ba0', 'a3eeb', {'segments': [1, 4], 'weight': 8}),\n",
        " ('b1ba0', '06b00', {'segments': [1, 4], 'weight': 10}),\n",
        " ('fdaa2', '70dc1', {'segments': [1], 'weight': 0}),\n",
        " ('87478', '70dc1', {'segments': [4], 'weight': 8}),\n",
        " ('87478', 'fdaa2', {'segments': [1, 4], 'weight': 9}),\n",
        " ('87478', 'b1ba0', {'segments': [1, 4], 'weight': 12}),\n",
        " ('87478', '90f8f', {'segments': [1, 4], 'weight': 19}),\n",
        " ('87478', 'efcae', {'segments': [1, 4], 'weight': 7}),\n",
        " ('c7f16', 'a4d3a', {'segments': [1, 4], 'weight': 8})]"
       ]
      }
     ],
     "prompt_number": 315
    },
    {
     "cell_type": "markdown",
     "metadata": {},
     "source": [
      "# Experiment with Accuracy Metrics"
     ]
    },
    {
     "cell_type": "code",
     "collapsed": false,
     "input": [
      "matching_edges = 0\n",
      "total_edges = len(s.relabeled_transmission_graph.edges())\n",
      "for edge in r.condensed_graph.edges(data=True):\n",
      "    if edge in s.relabeled_transmission_graph.edges(data=True):\n",
      "        matching_edges += 1\n",
      "        \n",
      "\n",
      "int(float(matching_edges) / total_edges * 100)"
     ],
     "language": "python",
     "metadata": {},
     "outputs": [
      {
       "metadata": {},
       "output_type": "pyout",
       "prompt_number": 316,
       "text": [
        "80"
       ]
      }
     ],
     "prompt_number": 316
    },
    {
     "cell_type": "code",
     "collapsed": false,
     "input": [
      "float(len(r.identify_reassortants()))/float(len(s.identify_reassortants()))"
     ],
     "language": "python",
     "metadata": {},
     "outputs": [
      {
       "metadata": {},
       "output_type": "pyout",
       "prompt_number": 317,
       "text": [
        "1.0"
       ]
      }
     ],
     "prompt_number": 317
    },
    {
     "cell_type": "code",
     "collapsed": false,
     "input": [
      " "
     ],
     "language": "python",
     "metadata": {},
     "outputs": [],
     "prompt_number": 317
    }
   ],
   "metadata": {}
  }
 ]
}