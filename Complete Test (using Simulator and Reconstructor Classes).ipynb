{
 "metadata": {
  "name": "",
  "signature": "sha256:275369ac65eb479ebfbe1c1b8d58b0c64b22aaca7784dfb95b427a8f342497bd"
 },
 "nbformat": 3,
 "nbformat_minor": 0,
 "worksheets": [
  {
   "cells": [
    {
     "cell_type": "code",
     "collapsed": false,
     "input": [
      "from pathogen import Pathogen\n",
      "from segment import Segment\n",
      "from sequence import Sequence\n",
      "from simulator import Simulator"
     ],
     "language": "python",
     "metadata": {},
     "outputs": [],
     "prompt_number": 1
    },
    {
     "cell_type": "code",
     "collapsed": false,
     "input": [
      "# Initialize sequences\n",
      "sequence_PB2 = Sequence(length=1000) #this is representative of segment 1, PB2\n",
      "sequence_H1 = Sequence(length=1000) #this is representative of segment 4, H1\n",
      "sequence_H2 = Sequence(length=1000) #this is representative of segment 4, H2"
     ],
     "language": "python",
     "metadata": {},
     "outputs": [],
     "prompt_number": 2
    },
    {
     "cell_type": "code",
     "collapsed": false,
     "input": [
      "# Initialize segments\n",
      "segment_PB2 = Segment(segment_number=1, substitution_rate=1E-3, sequence=sequence_PB2)\n",
      "segment_H1 = Segment(segment_number=4, substitution_rate=1E-2, sequence=sequence_H1)\n",
      "segment_H2 = Segment(segment_number=4, substitution_rate=1E-2, sequence=sequence_H2)"
     ],
     "language": "python",
     "metadata": {},
     "outputs": [],
     "prompt_number": 3
    },
    {
     "cell_type": "code",
     "collapsed": false,
     "input": [
      "# Add segments to seed viruses\n",
      "virus_H1 = Pathogen(segments=[segment_PB2, segment_H1], creation_time=0, progeny_size=(1.2, 0.5))\n",
      "virus_H2 = Pathogen(segments=[segment_PB2, segment_H2], creation_time=0, progeny_size=(1.2, 0.5))"
     ],
     "language": "python",
     "metadata": {},
     "outputs": [],
     "prompt_number": 4
    },
    {
     "cell_type": "code",
     "collapsed": false,
     "input": [
      "# Subclass the Simulator class for a specific implementation of the increment_timestep() function.\n",
      "from random import random, choice, sample\n",
      "class ViralSimulator(Simulator):\n",
      "    \n",
      "    def increment_timestep(self):\n",
      "        cointoss = random()\n",
      "        threshold = 0.8\n",
      "        \n",
      "        if cointoss <= threshold:\n",
      "            chosen_virus = choice(self.pathogens)\n",
      "            new_virus = chosen_virus.replicate(current_time=self.current_time)\n",
      "            \n",
      "        if cointoss > threshold:\n",
      "            [virus1, virus2] = sample(self.pathogens, 2)\n",
      "            new_virus = virus1.reassort_with(virus2, current_time=self.current_time)\n",
      "        \n",
      "        self.pathogens.append(new_virus)"
     ],
     "language": "python",
     "metadata": {},
     "outputs": [],
     "prompt_number": 5
    },
    {
     "cell_type": "code",
     "collapsed": false,
     "input": [
      "s = ViralSimulator()"
     ],
     "language": "python",
     "metadata": {},
     "outputs": [],
     "prompt_number": 6
    },
    {
     "cell_type": "code",
     "collapsed": false,
     "input": [
      "s.add_pathogens([virus_H1, virus_H2])"
     ],
     "language": "python",
     "metadata": {},
     "outputs": [],
     "prompt_number": 7
    },
    {
     "cell_type": "code",
     "collapsed": false,
     "input": [
      "s.run(timesteps=10)"
     ],
     "language": "python",
     "metadata": {},
     "outputs": [
      {
       "output_type": "stream",
       "stream": "stdout",
       "text": [
        "{4dbd3: [1, 4]}\n",
        "{4dbd3: [1, 4]}\n",
        "{e42a0: [1, 4]}\n",
        "{bd861: [1, 4]}\n",
        "{e42a0: [1, 4]}\n",
        "{4dbd3: [1, 4]}\n"
       ]
      }
     ],
     "prompt_number": 8
    },
    {
     "cell_type": "code",
     "collapsed": false,
     "input": [
      "s.write_transmission_graph(outfile_name=\"outfile_test\", folder_name='Network Pickles')"
     ],
     "language": "python",
     "metadata": {},
     "outputs": [],
     "prompt_number": 9
    },
    {
     "cell_type": "code",
     "collapsed": false,
     "input": [
      "s.write_sequences(outfile_name=\"outfile_test\", folder_name='FASTA Files')"
     ],
     "language": "python",
     "metadata": {},
     "outputs": [],
     "prompt_number": 10
    },
    {
     "cell_type": "code",
     "collapsed": false,
     "input": [
      "s.transmission_graph.nodes(data=True)"
     ],
     "language": "python",
     "metadata": {},
     "outputs": [
      {
       "metadata": {},
       "output_type": "pyout",
       "prompt_number": 11,
       "text": [
        "[(7bf0c, {'creation_time': 5}),\n",
        " (efa9a, {'creation_time': 9}),\n",
        " (66769, {'creation_time': 7}),\n",
        " (4dbd3, {'creation_time': 0}),\n",
        " (6dddd, {'creation_time': 6}),\n",
        " (e42a0, {'creation_time': 0}),\n",
        " (bd861, {'creation_time': 2}),\n",
        " (f6bd5, {'creation_time': 3}),\n",
        " (b829b, {'creation_time': 8}),\n",
        " (7fde1, {'creation_time': 1}),\n",
        " (31451, {'creation_time': 4})]"
       ]
      }
     ],
     "prompt_number": 11
    },
    {
     "cell_type": "markdown",
     "metadata": {},
     "source": [
      "# Prototype code for Reconstructor class"
     ]
    },
    {
     "cell_type": "code",
     "collapsed": false,
     "input": [
      "from Bio import SeqIO"
     ],
     "language": "python",
     "metadata": {},
     "outputs": [],
     "prompt_number": 12
    },
    {
     "cell_type": "code",
     "collapsed": false,
     "input": [
      "# Initialize a dictionary that contains all of the sequences, split by segment.\n",
      "sequences_dictionary = dict()\n",
      "sequences_dictionary[1] = []\n",
      "sequences_dictionary[4] = []\n",
      "sequences_dictionary"
     ],
     "language": "python",
     "metadata": {},
     "outputs": [
      {
       "metadata": {},
       "output_type": "pyout",
       "prompt_number": 13,
       "text": [
        "{1: [], 4: []}"
       ]
      }
     ],
     "prompt_number": 13
    },
    {
     "cell_type": "code",
     "collapsed": false,
     "input": [
      "# Read in the sequences\n",
      "sequences = [record for record in SeqIO.parse('FASTA Files/outfile_test.fasta', 'fasta')]\n",
      "sequences"
     ],
     "language": "python",
     "metadata": {},
     "outputs": [
      {
       "metadata": {},
       "output_type": "pyout",
       "prompt_number": 14,
       "text": [
        "[SeqRecord(seq=Seq('AACCCGATTCGTTTTCCTGGTAACAGTAATGACTACGATCGAAAAGAGAACGGC...GGC', SingleLetterAlphabet()), id='4dbd3766a35fbb9592058a24ab3f07ab7378186ea7f4d55a97909a0bf0c7437c2e08e1fc1cb9ff0311559426256f071e8bad61fb578ce6dab7c8d4a313341761|1|0', name='4dbd3766a35fbb9592058a24ab3f07ab7378186ea7f4d55a97909a0bf0c7437c2e08e1fc1cb9ff0311559426256f071e8bad61fb578ce6dab7c8d4a313341761|1|0', description='4dbd3766a35fbb9592058a24ab3f07ab7378186ea7f4d55a97909a0bf0c7437c2e08e1fc1cb9ff0311559426256f071e8bad61fb578ce6dab7c8d4a313341761|1|0 <unknown description>', dbxrefs=[]),\n",
        " SeqRecord(seq=Seq('CTTAGATACATTACGGACCAGGGGTTGTATGCGGTCTACAATGGTGGGTTTGAC...GTC', SingleLetterAlphabet()), id='4dbd3766a35fbb9592058a24ab3f07ab7378186ea7f4d55a97909a0bf0c7437c2e08e1fc1cb9ff0311559426256f071e8bad61fb578ce6dab7c8d4a313341761|4|0', name='4dbd3766a35fbb9592058a24ab3f07ab7378186ea7f4d55a97909a0bf0c7437c2e08e1fc1cb9ff0311559426256f071e8bad61fb578ce6dab7c8d4a313341761|4|0', description='4dbd3766a35fbb9592058a24ab3f07ab7378186ea7f4d55a97909a0bf0c7437c2e08e1fc1cb9ff0311559426256f071e8bad61fb578ce6dab7c8d4a313341761|4|0 <unknown description>', dbxrefs=[]),\n",
        " SeqRecord(seq=Seq('AACCCGATTCGTTTTCCTGGTAACAGTAATGACTACGATCGAAAAGAGAACGGC...GGC', SingleLetterAlphabet()), id='e42a0de8098187004b5271f038fbd8f0dbab5084140832bd5bf29e50b7aaff53f14f3591efc9f96a3ddeddb02595e5ee2922a4960a8eab515deaa36c11d4a143|1|0', name='e42a0de8098187004b5271f038fbd8f0dbab5084140832bd5bf29e50b7aaff53f14f3591efc9f96a3ddeddb02595e5ee2922a4960a8eab515deaa36c11d4a143|1|0', description='e42a0de8098187004b5271f038fbd8f0dbab5084140832bd5bf29e50b7aaff53f14f3591efc9f96a3ddeddb02595e5ee2922a4960a8eab515deaa36c11d4a143|1|0 <unknown description>', dbxrefs=[]),\n",
        " SeqRecord(seq=Seq('CCCCAATTGCTTTGGGGGTGGCGCACAATTCGTGGTGTGCCCCGATTACAACCT...GCA', SingleLetterAlphabet()), id='e42a0de8098187004b5271f038fbd8f0dbab5084140832bd5bf29e50b7aaff53f14f3591efc9f96a3ddeddb02595e5ee2922a4960a8eab515deaa36c11d4a143|4|0', name='e42a0de8098187004b5271f038fbd8f0dbab5084140832bd5bf29e50b7aaff53f14f3591efc9f96a3ddeddb02595e5ee2922a4960a8eab515deaa36c11d4a143|4|0', description='e42a0de8098187004b5271f038fbd8f0dbab5084140832bd5bf29e50b7aaff53f14f3591efc9f96a3ddeddb02595e5ee2922a4960a8eab515deaa36c11d4a143|4|0 <unknown description>', dbxrefs=[]),\n",
        " SeqRecord(seq=Seq('AACCCGATTCGTTTTCCTGGTAACAGTAATGACTACGATCGAAAAGAGAACGGC...GGC', SingleLetterAlphabet()), id='7fde1e545ae35371702969da345dffd906e5ae2084d90c1e0b503f265a9dcd2807fa5807f9964a20de0de34aec37e3404a9a437b93aa6a48b1e8f250e96ce84b|1|1', name='7fde1e545ae35371702969da345dffd906e5ae2084d90c1e0b503f265a9dcd2807fa5807f9964a20de0de34aec37e3404a9a437b93aa6a48b1e8f250e96ce84b|1|1', description='7fde1e545ae35371702969da345dffd906e5ae2084d90c1e0b503f265a9dcd2807fa5807f9964a20de0de34aec37e3404a9a437b93aa6a48b1e8f250e96ce84b|1|1 <unknown description>', dbxrefs=[]),\n",
        " SeqRecord(seq=Seq('CTTAGATACATTACGGACCAGGGGTTGTATGCGGTCTACAATGGTGGGTTTGAC...GTC', SingleLetterAlphabet()), id='7fde1e545ae35371702969da345dffd906e5ae2084d90c1e0b503f265a9dcd2807fa5807f9964a20de0de34aec37e3404a9a437b93aa6a48b1e8f250e96ce84b|4|1', name='7fde1e545ae35371702969da345dffd906e5ae2084d90c1e0b503f265a9dcd2807fa5807f9964a20de0de34aec37e3404a9a437b93aa6a48b1e8f250e96ce84b|4|1', description='7fde1e545ae35371702969da345dffd906e5ae2084d90c1e0b503f265a9dcd2807fa5807f9964a20de0de34aec37e3404a9a437b93aa6a48b1e8f250e96ce84b|4|1 <unknown description>', dbxrefs=[]),\n",
        " SeqRecord(seq=Seq('AACCCGATTCGTTTTCCTGGTAACAGTAATGACTACGATCGAAAAGAGAACGGC...GGC', SingleLetterAlphabet()), id='bd861e3fdf471b4912eb3d2681be46b3bbab515c34d3a1971a9358b13a84471514a75f466ad0929dc418c1ced4d9366e41158c02140fc329ffe0bae11333f525|1|2', name='bd861e3fdf471b4912eb3d2681be46b3bbab515c34d3a1971a9358b13a84471514a75f466ad0929dc418c1ced4d9366e41158c02140fc329ffe0bae11333f525|1|2', description='bd861e3fdf471b4912eb3d2681be46b3bbab515c34d3a1971a9358b13a84471514a75f466ad0929dc418c1ced4d9366e41158c02140fc329ffe0bae11333f525|1|2 <unknown description>', dbxrefs=[]),\n",
        " SeqRecord(seq=Seq('CTTAGATACATTACGGACCAAGGGTTGTATGCGGTCTACAATGGTGGGTTTGAC...GTC', SingleLetterAlphabet()), id='bd861e3fdf471b4912eb3d2681be46b3bbab515c34d3a1971a9358b13a84471514a75f466ad0929dc418c1ced4d9366e41158c02140fc329ffe0bae11333f525|4|2', name='bd861e3fdf471b4912eb3d2681be46b3bbab515c34d3a1971a9358b13a84471514a75f466ad0929dc418c1ced4d9366e41158c02140fc329ffe0bae11333f525|4|2', description='bd861e3fdf471b4912eb3d2681be46b3bbab515c34d3a1971a9358b13a84471514a75f466ad0929dc418c1ced4d9366e41158c02140fc329ffe0bae11333f525|4|2 <unknown description>', dbxrefs=[]),\n",
        " SeqRecord(seq=Seq('AACCCGATTCGTTTTCCTGGTAACAGTAATGACTACGATCGAAAAGAGAACGGC...GGC', SingleLetterAlphabet()), id='f6bd5eedd62f722d78d59fa6629f299ead1227bc16bdd56613bfeb3eb8e957f98725c4790d27f616831b97d4de6d7535a35be1d338c4aaa727fb3d569b971b37|1|3', name='f6bd5eedd62f722d78d59fa6629f299ead1227bc16bdd56613bfeb3eb8e957f98725c4790d27f616831b97d4de6d7535a35be1d338c4aaa727fb3d569b971b37|1|3', description='f6bd5eedd62f722d78d59fa6629f299ead1227bc16bdd56613bfeb3eb8e957f98725c4790d27f616831b97d4de6d7535a35be1d338c4aaa727fb3d569b971b37|1|3 <unknown description>', dbxrefs=[]),\n",
        " SeqRecord(seq=Seq('CTTAGATACATTACGGACCAAGGGTTGTATGCGGTCTACAATGGTGGGCTTGAC...GTC', SingleLetterAlphabet()), id='f6bd5eedd62f722d78d59fa6629f299ead1227bc16bdd56613bfeb3eb8e957f98725c4790d27f616831b97d4de6d7535a35be1d338c4aaa727fb3d569b971b37|4|3', name='f6bd5eedd62f722d78d59fa6629f299ead1227bc16bdd56613bfeb3eb8e957f98725c4790d27f616831b97d4de6d7535a35be1d338c4aaa727fb3d569b971b37|4|3', description='f6bd5eedd62f722d78d59fa6629f299ead1227bc16bdd56613bfeb3eb8e957f98725c4790d27f616831b97d4de6d7535a35be1d338c4aaa727fb3d569b971b37|4|3 <unknown description>', dbxrefs=[]),\n",
        " SeqRecord(seq=Seq('AACCCGATTCGTTTTCCTGGTAACAGTAATGACTACGATCGAAAAGAGAACGGC...GGC', SingleLetterAlphabet()), id='31451cac7f3e202ee150dbd30ecf9831da4df28ed33c353360a3d62314ffc962ca7fede0087fd63dc3bccd056c58fc317b859849c3ca1a655023aee2903ed800|1|4', name='31451cac7f3e202ee150dbd30ecf9831da4df28ed33c353360a3d62314ffc962ca7fede0087fd63dc3bccd056c58fc317b859849c3ca1a655023aee2903ed800|1|4', description='31451cac7f3e202ee150dbd30ecf9831da4df28ed33c353360a3d62314ffc962ca7fede0087fd63dc3bccd056c58fc317b859849c3ca1a655023aee2903ed800|1|4 <unknown description>', dbxrefs=[]),\n",
        " SeqRecord(seq=Seq('CCCCAATTGCTTTGGGGGTGGCGCACAATTCGTGGTGTGCCCCGATTACAACCT...GCA', SingleLetterAlphabet()), id='31451cac7f3e202ee150dbd30ecf9831da4df28ed33c353360a3d62314ffc962ca7fede0087fd63dc3bccd056c58fc317b859849c3ca1a655023aee2903ed800|4|4', name='31451cac7f3e202ee150dbd30ecf9831da4df28ed33c353360a3d62314ffc962ca7fede0087fd63dc3bccd056c58fc317b859849c3ca1a655023aee2903ed800|4|4', description='31451cac7f3e202ee150dbd30ecf9831da4df28ed33c353360a3d62314ffc962ca7fede0087fd63dc3bccd056c58fc317b859849c3ca1a655023aee2903ed800|4|4 <unknown description>', dbxrefs=[]),\n",
        " SeqRecord(seq=Seq('AACCCGATTCGTTTTCCTGGTAACAGTAATGACTACGATCGAAAAGAGAACGGC...GGC', SingleLetterAlphabet()), id='7bf0cfe673eda6b57409457f82b24ba2e137925010998f539ac076a9deb4090d554d726b77941fb531879d6db27dfe86aa2945b546f00aaf8bddd65d84ccccdd|1|5', name='7bf0cfe673eda6b57409457f82b24ba2e137925010998f539ac076a9deb4090d554d726b77941fb531879d6db27dfe86aa2945b546f00aaf8bddd65d84ccccdd|1|5', description='7bf0cfe673eda6b57409457f82b24ba2e137925010998f539ac076a9deb4090d554d726b77941fb531879d6db27dfe86aa2945b546f00aaf8bddd65d84ccccdd|1|5 <unknown description>', dbxrefs=[]),\n",
        " SeqRecord(seq=Seq('CTTAGATACATTACGGACCAAGGGTTGTATGCGGTCTACAATGGTGGGTTTGAC...GTC', SingleLetterAlphabet()), id='7bf0cfe673eda6b57409457f82b24ba2e137925010998f539ac076a9deb4090d554d726b77941fb531879d6db27dfe86aa2945b546f00aaf8bddd65d84ccccdd|4|5', name='7bf0cfe673eda6b57409457f82b24ba2e137925010998f539ac076a9deb4090d554d726b77941fb531879d6db27dfe86aa2945b546f00aaf8bddd65d84ccccdd|4|5', description='7bf0cfe673eda6b57409457f82b24ba2e137925010998f539ac076a9deb4090d554d726b77941fb531879d6db27dfe86aa2945b546f00aaf8bddd65d84ccccdd|4|5 <unknown description>', dbxrefs=[]),\n",
        " SeqRecord(seq=Seq('AACCCGATTCGTTTTCCTGGTAACAGTAATGACTACGATCGAAAAGAGAACGGC...GGC', SingleLetterAlphabet()), id='6dddd3d4cbdf8ee2de1b4d27fe38358a1435e0a257c8f084cbe9cdef53da6d5a6d79b615bd2f1e2ff0bb7fcecd5ebf748a110956c7668db94211f48ea9150543|1|6', name='6dddd3d4cbdf8ee2de1b4d27fe38358a1435e0a257c8f084cbe9cdef53da6d5a6d79b615bd2f1e2ff0bb7fcecd5ebf748a110956c7668db94211f48ea9150543|1|6', description='6dddd3d4cbdf8ee2de1b4d27fe38358a1435e0a257c8f084cbe9cdef53da6d5a6d79b615bd2f1e2ff0bb7fcecd5ebf748a110956c7668db94211f48ea9150543|1|6 <unknown description>', dbxrefs=[]),\n",
        " SeqRecord(seq=Seq('CCCCAATTGCTTTGGGGGTGGCGCACAATTCGTGGTGTGCCCCGATTACACCCT...GCA', SingleLetterAlphabet()), id='6dddd3d4cbdf8ee2de1b4d27fe38358a1435e0a257c8f084cbe9cdef53da6d5a6d79b615bd2f1e2ff0bb7fcecd5ebf748a110956c7668db94211f48ea9150543|4|6', name='6dddd3d4cbdf8ee2de1b4d27fe38358a1435e0a257c8f084cbe9cdef53da6d5a6d79b615bd2f1e2ff0bb7fcecd5ebf748a110956c7668db94211f48ea9150543|4|6', description='6dddd3d4cbdf8ee2de1b4d27fe38358a1435e0a257c8f084cbe9cdef53da6d5a6d79b615bd2f1e2ff0bb7fcecd5ebf748a110956c7668db94211f48ea9150543|4|6 <unknown description>', dbxrefs=[]),\n",
        " SeqRecord(seq=Seq('AACCCGATTCGTTTTCCTGGTAACAGTAATGACTACGATCGAAAAGAGAACGGC...GGC', SingleLetterAlphabet()), id='66769113afad14da3f28a18663030c4b156b727769761a8de2f64001888e5e5e97c0897d9625bc7da806ccb7e2b564cf3dea60e631a103dc8f94ab2aaba185eb|1|7', name='66769113afad14da3f28a18663030c4b156b727769761a8de2f64001888e5e5e97c0897d9625bc7da806ccb7e2b564cf3dea60e631a103dc8f94ab2aaba185eb|1|7', description='66769113afad14da3f28a18663030c4b156b727769761a8de2f64001888e5e5e97c0897d9625bc7da806ccb7e2b564cf3dea60e631a103dc8f94ab2aaba185eb|1|7 <unknown description>', dbxrefs=[]),\n",
        " SeqRecord(seq=Seq('CTTAGATACATTACGGACCAGGGGTTGTATGCGGTCTACAATGGTGGGTTTGAC...GTC', SingleLetterAlphabet()), id='66769113afad14da3f28a18663030c4b156b727769761a8de2f64001888e5e5e97c0897d9625bc7da806ccb7e2b564cf3dea60e631a103dc8f94ab2aaba185eb|4|7', name='66769113afad14da3f28a18663030c4b156b727769761a8de2f64001888e5e5e97c0897d9625bc7da806ccb7e2b564cf3dea60e631a103dc8f94ab2aaba185eb|4|7', description='66769113afad14da3f28a18663030c4b156b727769761a8de2f64001888e5e5e97c0897d9625bc7da806ccb7e2b564cf3dea60e631a103dc8f94ab2aaba185eb|4|7 <unknown description>', dbxrefs=[]),\n",
        " SeqRecord(seq=Seq('AACCCGATTCGTTTTCCTGGTAACAGTAATGACTACGATCGAAAAGAGAACGGC...GGC', SingleLetterAlphabet()), id='b829bacf884c8aa47a51b285d0a4cc555e441b80431e2fca6672c86f99740581495b509b88de9de172fa0c49f7d0ba9b8bfe2b5ac558c488b39c252ae9d60cbb|1|8', name='b829bacf884c8aa47a51b285d0a4cc555e441b80431e2fca6672c86f99740581495b509b88de9de172fa0c49f7d0ba9b8bfe2b5ac558c488b39c252ae9d60cbb|1|8', description='b829bacf884c8aa47a51b285d0a4cc555e441b80431e2fca6672c86f99740581495b509b88de9de172fa0c49f7d0ba9b8bfe2b5ac558c488b39c252ae9d60cbb|1|8 <unknown description>', dbxrefs=[]),\n",
        " SeqRecord(seq=Seq('CTTAGATACATTACGGACCAGGGGTTGTATGCGGTCTACAATGGTGGGTTTGAC...GTC', SingleLetterAlphabet()), id='b829bacf884c8aa47a51b285d0a4cc555e441b80431e2fca6672c86f99740581495b509b88de9de172fa0c49f7d0ba9b8bfe2b5ac558c488b39c252ae9d60cbb|4|8', name='b829bacf884c8aa47a51b285d0a4cc555e441b80431e2fca6672c86f99740581495b509b88de9de172fa0c49f7d0ba9b8bfe2b5ac558c488b39c252ae9d60cbb|4|8', description='b829bacf884c8aa47a51b285d0a4cc555e441b80431e2fca6672c86f99740581495b509b88de9de172fa0c49f7d0ba9b8bfe2b5ac558c488b39c252ae9d60cbb|4|8 <unknown description>', dbxrefs=[]),\n",
        " SeqRecord(seq=Seq('AACCCGATTCGTTTTCCTGGTAACAGTAATGACTACGATCGAAAAGAGAACGGC...GGC', SingleLetterAlphabet()), id='efa9a1a10f6f0ca437e56154cdc0c8b4b151a386a3bd8cd02f39c3c87011a7863bb2f10edde0281259df775a7ec913e5ad96a0064f1aff5bd3a2beeb2d59eaa4|1|9', name='efa9a1a10f6f0ca437e56154cdc0c8b4b151a386a3bd8cd02f39c3c87011a7863bb2f10edde0281259df775a7ec913e5ad96a0064f1aff5bd3a2beeb2d59eaa4|1|9', description='efa9a1a10f6f0ca437e56154cdc0c8b4b151a386a3bd8cd02f39c3c87011a7863bb2f10edde0281259df775a7ec913e5ad96a0064f1aff5bd3a2beeb2d59eaa4|1|9 <unknown description>', dbxrefs=[]),\n",
        " SeqRecord(seq=Seq('CCCCAATTGCTTTGGGGGTGGAGCACAATTCGTGGTGTGCCCCGATTACACCCT...GCA', SingleLetterAlphabet()), id='efa9a1a10f6f0ca437e56154cdc0c8b4b151a386a3bd8cd02f39c3c87011a7863bb2f10edde0281259df775a7ec913e5ad96a0064f1aff5bd3a2beeb2d59eaa4|4|9', name='efa9a1a10f6f0ca437e56154cdc0c8b4b151a386a3bd8cd02f39c3c87011a7863bb2f10edde0281259df775a7ec913e5ad96a0064f1aff5bd3a2beeb2d59eaa4|4|9', description='efa9a1a10f6f0ca437e56154cdc0c8b4b151a386a3bd8cd02f39c3c87011a7863bb2f10edde0281259df775a7ec913e5ad96a0064f1aff5bd3a2beeb2d59eaa4|4|9 <unknown description>', dbxrefs=[])]"
       ]
      }
     ],
     "prompt_number": 14
    },
    {
     "cell_type": "code",
     "collapsed": false,
     "input": [
      "# Append the sequences to the dictionary.\n",
      "# This can be written into a function.\n",
      "split_char = '|' # The character that will be used to split the SeqRecord.id string\n",
      "pos_segment_num = 1 # The position of the segment number after splitting by the split_char\n",
      "\n",
      "for sequence in sequences:\n",
      "    segment_number = int(sequence.id.split(split_char)[pos_segment_num])\n",
      "    sequences_dictionary[segment_number].append(sequence)\n",
      "\n",
      "# sequences_dictionary"
     ],
     "language": "python",
     "metadata": {},
     "outputs": [],
     "prompt_number": 15
    },
    {
     "cell_type": "code",
     "collapsed": false,
     "input": [
      "# Create a NetworkX graph using one segment's sequences, and add nodes.\n",
      "import networkx as nx\n",
      "\n",
      "G = nx.DiGraph()\n",
      "\n",
      "splitchar = '|'\n",
      "pos_id = 0\n",
      "pos_segment_num = 1\n",
      "pos_creation_time = 2\n",
      "\n",
      "segment_number = 4\n",
      "\n",
      "for sequence in sequences_dictionary[segment_number]:\n",
      "    [isolate_id, segment_num, creation_time] = sequence.id.split(splitchar)\n",
      "    G.add_node(isolate_id[0:5], sequence=sequence.seq, id=isolate_id, segment_num=int(segment_num), creation_time=int(creation_time))\n",
      "\n",
      "# at this point, we would return G, and append it to the dictionary of Graphs available.\n",
      "# G.nodes(data=True)"
     ],
     "language": "python",
     "metadata": {},
     "outputs": [],
     "prompt_number": 16
    },
    {
     "cell_type": "code",
     "collapsed": false,
     "input": [
      "# Add edges to the graph, based on the Levenshtein distance between two sequences.\n",
      "import Levenshtein\n",
      "for node1 in G.nodes(data=True):\n",
      "    for node2 in G.nodes(data=True):\n",
      "        if node1[1]['creation_time'] < node2[1]['creation_time']:\n",
      "            weight = Levenshtein.distance(str(node1[1]['sequence']), str(node2[1]['sequence']))\n",
      "            G.add_edge(node1[0], node2[0], weight=weight)"
     ],
     "language": "python",
     "metadata": {},
     "outputs": [],
     "prompt_number": 17
    },
    {
     "cell_type": "code",
     "collapsed": false,
     "input": [
      "# Prune graph by distance.\n",
      "for node in G.nodes(data=True):\n",
      "    in_edges = G.in_edges(node[0], data=True)\n",
      "#     print in_edges\n",
      "    if len(in_edges) != 0:\n",
      "        min_weight = min([edge[2]['weight'] for edge in in_edges])\n",
      "        print min_weight\n",
      "        print node\n",
      "        for edge in in_edges:\n",
      "            if edge[2]['weight'] != min_weight:\n",
      "                G.remove_edge(edge[0], edge[1])"
     ],
     "language": "python",
     "metadata": {},
     "outputs": [
      {
       "output_type": "stream",
       "stream": "stdout",
       "text": [
        "10\n",
        "('efa9a', {'segment_num': 4, 'creation_time': 9, 'id': 'efa9a1a10f6f0ca437e56154cdc0c8b4b151a386a3bd8cd02f39c3c87011a7863bb2f10edde0281259df775a7ec913e5ad96a0064f1aff5bd3a2beeb2d59eaa4', 'sequence': Seq('CCCCAATTGCTTTGGGGGTGGAGCACAATTCGTGGTGTGCCCCGATTACACCCT...GCA', SingleLetterAlphabet())})\n",
        "13\n",
        "('b829b', {'segment_num': 4, 'creation_time': 8, 'id': 'b829bacf884c8aa47a51b285d0a4cc555e441b80431e2fca6672c86f99740581495b509b88de9de172fa0c49f7d0ba9b8bfe2b5ac558c488b39c252ae9d60cbb', 'sequence': Seq('CTTAGATACATTACGGACCAGGGGTTGTATGCGGTCTACAATGGTGGGTTTGAC...GTC', SingleLetterAlphabet())})\n",
        "11\n",
        "('31451', {'segment_num': 4, 'creation_time': 4, 'id': '31451cac7f3e202ee150dbd30ecf9831da4df28ed33c353360a3d62314ffc962ca7fede0087fd63dc3bccd056c58fc317b859849c3ca1a655023aee2903ed800', 'sequence': Seq('CCCCAATTGCTTTGGGGGTGGCGCACAATTCGTGGTGTGCCCCGATTACAACCT...GCA', SingleLetterAlphabet())})\n",
        "10\n",
        "('bd861', {'segment_num': 4, 'creation_time': 2, 'id': 'bd861e3fdf471b4912eb3d2681be46b3bbab515c34d3a1971a9358b13a84471514a75f466ad0929dc418c1ced4d9366e41158c02140fc329ffe0bae11333f525', 'sequence': Seq('CTTAGATACATTACGGACCAAGGGTTGTATGCGGTCTACAATGGTGGGTTTGAC...GTC', SingleLetterAlphabet())})\n",
        "9\n",
        "('7fde1', {'segment_num': 4, 'creation_time': 1, 'id': '7fde1e545ae35371702969da345dffd906e5ae2084d90c1e0b503f265a9dcd2807fa5807f9964a20de0de34aec37e3404a9a437b93aa6a48b1e8f250e96ce84b', 'sequence': Seq('CTTAGATACATTACGGACCAGGGGTTGTATGCGGTCTACAATGGTGGGTTTGAC...GTC', SingleLetterAlphabet())})\n",
        "12\n",
        "('6dddd', {'segment_num': 4, 'creation_time': 6, 'id': '6dddd3d4cbdf8ee2de1b4d27fe38358a1435e0a257c8f084cbe9cdef53da6d5a6d79b615bd2f1e2ff0bb7fcecd5ebf748a110956c7668db94211f48ea9150543', 'sequence': Seq('CCCCAATTGCTTTGGGGGTGGCGCACAATTCGTGGTGTGCCCCGATTACACCCT...GCA', SingleLetterAlphabet())})\n",
        "9\n",
        "('66769', {'segment_num': 4, 'creation_time': 7, 'id': '66769113afad14da3f28a18663030c4b156b727769761a8de2f64001888e5e5e97c0897d9625bc7da806ccb7e2b564cf3dea60e631a103dc8f94ab2aaba185eb', 'sequence': Seq('CTTAGATACATTACGGACCAGGGGTTGTATGCGGTCTACAATGGTGGGTTTGAC...GTC', SingleLetterAlphabet())})\n",
        "11\n",
        "('f6bd5', {'segment_num': 4, 'creation_time': 3, 'id': 'f6bd5eedd62f722d78d59fa6629f299ead1227bc16bdd56613bfeb3eb8e957f98725c4790d27f616831b97d4de6d7535a35be1d338c4aaa727fb3d569b971b37', 'sequence': Seq('CTTAGATACATTACGGACCAAGGGTTGTATGCGGTCTACAATGGTGGGCTTGAC...GTC', SingleLetterAlphabet())})\n",
        "7\n",
        "('7bf0c', {'segment_num': 4, 'creation_time': 5, 'id': '7bf0cfe673eda6b57409457f82b24ba2e137925010998f539ac076a9deb4090d554d726b77941fb531879d6db27dfe86aa2945b546f00aaf8bddd65d84ccccdd', 'sequence': Seq('CTTAGATACATTACGGACCAAGGGTTGTATGCGGTCTACAATGGTGGGTTTGAC...GTC', SingleLetterAlphabet())})\n"
       ]
      }
     ],
     "prompt_number": 18
    },
    {
     "cell_type": "code",
     "collapsed": false,
     "input": [
      "nx.draw_circular(G)"
     ],
     "language": "python",
     "metadata": {},
     "outputs": [
      {
       "metadata": {},
       "output_type": "display_data",
       "png": "[encoded data removed]",
       "text": [
        "<matplotlib.figure.Figure at 0x10631d950>"
       ]
      }
     ],
     "prompt_number": 19
    },
    {
     "cell_type": "markdown",
     "metadata": {},
     "source": [
      "# Test Reconstructor Class"
     ]
    },
    {
     "cell_type": "code",
     "collapsed": false,
     "input": [
      "from reconstructor import Reconstructor\n",
      "import networkx as nx"
     ],
     "language": "python",
     "metadata": {},
     "outputs": [],
     "prompt_number": 20
    },
    {
     "cell_type": "code",
     "collapsed": false,
     "input": [
      "r = Reconstructor(segments=[1, 4])\n",
      "print r.sequences\n",
      "print r.graphs"
     ],
     "language": "python",
     "metadata": {},
     "outputs": [
      {
       "output_type": "stream",
       "stream": "stdout",
       "text": [
        "{1: [], 4: []}\n",
        "{1: <networkx.classes.digraph.DiGraph object at 0x10638c290>, 4: <networkx.classes.digraph.DiGraph object at 0x10638c1d0>}\n"
       ]
      }
     ],
     "prompt_number": 21
    },
    {
     "cell_type": "code",
     "collapsed": false,
     "input": [
      "fasta_file = 'FASTA Files/outfile_test.fasta'\n",
      "r.read_fasta_file(fasta_file)"
     ],
     "language": "python",
     "metadata": {},
     "outputs": [],
     "prompt_number": 22
    },
    {
     "cell_type": "code",
     "collapsed": false,
     "input": [
      "r.add_nodes_with_data()\n",
      "r.add_edges_with_weight()\n",
      "r.prune_graphs_by_weight()\n",
      "r.compose_segment_graphs()\n",
      "r.condense_composed_segment_graphs()\n",
      "r.prune_condensed_graph()"
     ],
     "language": "python",
     "metadata": {},
     "outputs": [],
     "prompt_number": 23
    },
    {
     "cell_type": "code",
     "collapsed": false,
     "input": [
      "r.condensed_graph.edges(data=True)"
     ],
     "language": "python",
     "metadata": {},
     "outputs": [
      {
       "metadata": {},
       "output_type": "pyout",
       "prompt_number": 24,
       "text": [
        "[('e42a0', '31451', {'segments': [1, 4], 'weight': 12}),\n",
        " ('e42a0', '6dddd', {'segments': [1, 4], 'weight': 12}),\n",
        " ('bd861', 'f6bd5', {'segments': [4], 'weight': 11}),\n",
        " ('bd861', '7bf0c', {'segments': [1, 4], 'weight': 7}),\n",
        " ('7fde1', 'f6bd5', {'segments': [1], 'weight': 0}),\n",
        " ('6dddd', 'efa9a', {'segments': [1, 4], 'weight': 10}),\n",
        " ('4dbd3', 'bd861', {'segments': [1, 4], 'weight': 10}),\n",
        " ('4dbd3', '7fde1', {'segments': [1, 4], 'weight': 10}),\n",
        " ('4dbd3', '66769', {'segments': [1, 4], 'weight': 10}),\n",
        " ('66769', 'b829b', {'segments': [1, 4], 'weight': 15})]"
       ]
      }
     ],
     "prompt_number": 24
    },
    {
     "cell_type": "code",
     "collapsed": false,
     "input": [
      "r.condensed_graph.nodes(data=True)"
     ],
     "language": "python",
     "metadata": {},
     "outputs": [
      {
       "metadata": {},
       "output_type": "pyout",
       "prompt_number": 25,
       "text": [
        "[('efa9a',\n",
        "  {'creation_time': '9',\n",
        "   'id': 'efa9a1a10f6f0ca437e56154cdc0c8b4b151a386a3bd8cd02f39c3c87011a7863bb2f10edde0281259df775a7ec913e5ad96a0064f1aff5bd3a2beeb2d59eaa4',\n",
        "   'segment_number': '4',\n",
        "   'sequence_1': 'AACCCGATTCGTTTTCCTGGTAACAGTAATGACTACGATCGAAAAGAGAACGGCTACCGATTGGACAATTTTGAACATTAAGGTCTACTAGGCGTCTGAATCAGATATTTCCAGCCAAAGGGTATTGATATAGCACCCCTCGCAGCTACCCAGATCCACCAGCAGCTTAGTTAACAACGCGACGTCGGGTTAGGGCACTTTATCGTGACCTTTTCGAAGTGAGCAGCAGCCATACCTCTCATGAAAGGTGAAGACATCTTGAAAAATGCACGCTTTACCAAATGACTACTTTGCTAGTCACGGGGCTGAATAGGGCTACGGCAAACCGGAGGGTCGCCTATTTTCGGCCTTCGGAAATTTGACAAGATACGCGTCTGTCAGATGTTCAGTATTAGGAACCTGCAGCCTACATTTGCCACCCGTCGCGATTGCGGAGGTTGTCGGTACTTTTTTATCTACAAGCCTCCTGGTGAGGGGACCTCGACCAGTGGGCGGAGTCTACAAATTTAGTGGAATTATTTTCGGCAATCAGTGTAGTCTCGACATGATGCAAGTATGAGATGGCATCCGTATAGGACCGTGGACGCCTCCTAAGAGGTGCGCGAGTTATCCGATCGCCAGGATCTATGGGCGTGCCTCTTCCGACGCTCGAGTTACAATCTATTGAGCTGGTACTCGGTCGGTCAGGGATGGGCTCCGGAGTAAACGGCGGCGCTTTCGTCTCCGCCGTGCATATCCCTCAGTAGCAGCCAGACATCCCGGGCGGGCTAGTATTCCTCGGGCAGTTCAGAGGTGATCCTTGCTGGACATTTGGGGCATGATACCTCTGTTTTGGGACGCTAATGCAAGGACTTACGAACGTACTGCTGGTTCCCAGCCACCATTGGGCGTTGTGCTCTATCTTGGGTATACTCGGTAAAGGCGGTTGCTGGAGCCTTCCTTGGGTCCGAGTCCAAAGGTTGTCCTCACCCCAGCCATAAGAGTTCCTGCATCGACAGGC',\n",
        "   'sequence_4': 'CCCCAATTGCTTTGGGGGTGGAGCACAATTCGTGGTGTGCCCCGATTACACCCTGCGTAATGCTAATCCGTCGAAGTAGATTCTCTATGGATTGCTAGTCGATTTCCGCCTATCAGCCTAAAAGTGTGTTTCCATTATCACAAAACGACCGAACCGCTGATGCTTCGGCCCCGCTCGCCCCCATACAAGGAGACACTCCTTGAGGTGAACTGGTTCCTCGGTCCGAAATGGCGTCTTCATAAATTACGCCTGATGGTTCGGGTACTGGTGGTTGAATAACCGGACCGTTATCAGGCAGCCACGTTGCTCACCTCCGGGGTCAATGGTAGGCACATTATTAGTAGCATCAGAACGAGCCCTATATAAACCCGCGAAGTAAGTCTACTTGCGGAGGGTGTGGGAAGGCGTGATCTAGATGAGATCGATAGTGAATGTAAGCACTTATAGAGCCTGTCACTACAGATCTCGCATTGCTTAAGGTACTACTTGCTCTAGTGATGGCTGCTTGGTACACAGTTCCTACGTAAGCAGGAGTGGGCGATTCCACGATATCACGAGCAGGGGGTGTCGGAACAAGTTCTCAGGGCGAACAGAATGACGCCATAACCAGGATAAAGCCGACACGTAAAGAACCACCTCGGCTCTTTGCGCCACACCTTTTGTACACGCTTCATCCGCGAATTATACGAAGGCTCAATAATCGTCCACGGGGGTCAGTAGGTAAACACATGACTCCGCCTTCTGCATACCCTTTGTGGGGCAAGGGCTTTCAGAGACATATTGGAAAGAAATTTGCGGACATCTACGCGCGCCCATATTGGCAACCGGCGGCAATTCCGTCTAGAATACGTAGAAATCATTTACCACATGAAATGGTATCATAAGAGCTCGCTATCGGGCTTAATAAGTGCAGTCATACGCCTGTCACTCTCGCTGACCGGCTGTAACTATGGACAGCGCATGTGGGACAGGCGTCATGTTCCCATTCGAGTCCTACGCA'}),\n",
        " ('b829b',\n",
        "  {'creation_time': '8',\n",
        "   'id': 'b829bacf884c8aa47a51b285d0a4cc555e441b80431e2fca6672c86f99740581495b509b88de9de172fa0c49f7d0ba9b8bfe2b5ac558c488b39c252ae9d60cbb',\n",
        "   'segment_number': '4',\n",
        "   'sequence_1': 'AACCCGATTCGTTTTCCTGGTAACAGTAATGACTACGATCGAAAAGAGAACGGCTACCGATTGGACAATTTTGAACATTAAGGTCTACTAGGCGTCTGAATCAGATATTTCCAGCCAAAGGGTATTGATATAGCACCCCTCGCAGCTACCCAGATCCACCAGCAGCTTAGTTAACAACGCGACGTCGGGTTAGGGCACTTTATCGTGACCTTTTCGAAGTGAGCAGCAGCCATACCTCTCATGAAAGGTGAAGACATCTTGAAAAATGCACGCTTTACCAAATGACTACTTTGCTAGTCACGGGGCTGACTAGGGCTACGGCAAACCGGAGGGTCGCCTATTTTCGGCCTTCGGAAATTTGACAAGATACGCGTCTGTCAGATGTTCAGTATTAGGAACCTGCAGCCTACATTTGCCACCCGTCGCGATTGCGGAGGTTGTCGGTACTTTTTTATCTACAAGCCTCCTGGTGAGGGGACCTCGACCAGTGGGCGGAGTCTACAAATTTAGTGGAATTATTTTCGGCAATCAGTGTAGTCTCGACATGATGCAAGTATGAGATGGCATCCGTATAGGACCGTGGACGCCTCCTAAGAGGTGCGCGAGTTATCCGATCGCCAGGATCTATGGGCGTGCCTCTTCCGACGCTCGAGTTACAATCTATTGAGCTGGTACTCGGTCGGTCAGGGATGGGCTCCGGAGTAAACGGCGGCGCTTTCGTCTCCGCCGTGCATATCCCTCAGTAGCAGCCAGACATCCCGGGCGGGCTAGTATTCCTCGGGCAGTTCAGAGGTGATCCTTGCTGGACATTTGGGGCATGATACCTCTGTTTTGGGACGCTAATGCAAGGACTTACGAACGTACTGCTGGTTCCCAGCCACCATTGGGCGTCGTGCTCTATCTTGGGTATACTCGGTAAAGGCGGTTGCTGGAGCCTTCCTTGGGTCCGAGTCCAAAGGTTGTCCTCACCCCAGCCATAAGAGTTCCTGCGTCGACAGGC',\n",
        "   'sequence_4': 'CTTAGATACATTACGGACCAGGGGTTGTATGCGGTCTACAATGGTGGGTTTGACTCTCGTCTTGGGTGGTTCTTCTGGATGGCGGTGCCACACCGAGCCTCTCCGTTGGGAGCCTGGAGGGGGTGGGTATCCGCCTCTAAGAAAGTTTCAAATTCGTGGTTCCCCGACTATAGGTAGTGGGACCGCGAAGAGGCCCCTTTCAAGCTAGTCCTAAAGTGCCAGGACCCATATTACCATCGCCTGCGTTGAGACTAGGATCTCCGGATCCGATGGGCTGTTAACTCCAAAAATGGGCGCACATTATGAGAGCGTTGAGTCCCTGTCAACACATTCTGGTGTGAGTCCCGAAGATTGGGTACCGAGGAGCCGGCGCTTGCGGGAATGCCGGCTCGTAGGACCAAGATCCTTACGTCCTCCGCCATCTCATCGACAGCTTGACGTTATCTCCTCTATCAGTCGCTAAGGTAGCCTAAATGGCCCGTTGCGCGCTTAGGGTTCCTCATTTAGTTAAGCAACGCCAAACGAATCCATCCCATCGGATGTTACAGACGGGGGTTCGACTTCCCTGGCCTGAAACACTCCACGCTCATTGTTTACTACGTGCCTTGCCGTAGCCAGGCGGCCCCACAGCTCCAGGCTTTGTAGTGCTTGGGTTTTCTGGCAGCCCTGTGGCATCAAACCTGTTGTAGCTAACGCACGGCTCAGGCCATAGCTCTAACATGTCTTCGGAACTGCCTCGCCCCACATTGTGCATTGTAGCGCACTCGACAGAGTCCAATAGGCTCCCCGGACAACCATGCGACTGTCGGTCTTGTAGATAGGTAGCCTGCGGTGAGCGAGAGATGGGTGAGTCCGAGTAGTTCAGGAGAGGTTTCAGTTGGGCGAATTGGTATTGGTGTATCGGGGGGCGGGACACTAGCGCATTCAATTTGCCAGGAAGGGATCGAGTGGTATTTCGTGTCGTATTTTCGTAAAAATTGGATGAGATTCTAGCAGAGTC'}),\n",
        " ('31451',\n",
        "  {'creation_time': '4',\n",
        "   'id': '31451cac7f3e202ee150dbd30ecf9831da4df28ed33c353360a3d62314ffc962ca7fede0087fd63dc3bccd056c58fc317b859849c3ca1a655023aee2903ed800',\n",
        "   'segment_number': '4',\n",
        "   'sequence_1': 'AACCCGATTCGTTTTCCTGGTAACAGTAATGACTACGATCGAAAAGAGAACGGCTACCGATTGGACAATTTTGAACATTAAGGTCTACTAGGCGTCTGAATCAGATATTTCCAGCCAAAGGGTATTGATATAGCACCCCTCGCAGCTACCCAGATCCACCAGCAGCTTAGTTAACAACGCGACGTCGGGTTAGGGCACTTTATCGTGACCTTTTCGAAGTGAGCAGCAGCCATACCTCTCATGAAAGGTGAAGACATCTTGAAAAATGCACGCTTTACCAAATGACTACTTTGCTAGTCACGGGGCTGAATAGGGCTACGGCAAACCGGAGGGTCGCCTATTTTCGGCCTTCGGAAATTTGACAAGATACGCGTCTGTCAGATGTTCAGTATTAGGAACCTGCAGCCTACATTTGCCACCCGTCGCGATTGCGGAGGTTGTCGGTACTTTTTTATCTACAAGCCTCCTGGTGAGGGGACCTCGACCAGTGGGCGGAGTCTACAAATTTAGTGGAATTATTTTCGGCAATCAGTGTAGTCTCGACATGATGCAAGTATGAGATGGCATCCGTATAGGACCGTGGACGCCTCCTAAGAGGCGCGCGAGTTATCCGATCGCCAGGATCTATGGGCGTGCCTCTTCCGACGCTCGAGTTACAATCTATTGAGCTGGTACTCGGTCGGTCAGGGATGGGCTCCGGAGTAAACGGCGGCGCTTTCGTCTCCGCCGTGCATATCCCTCAGTAGCAGCCAGACATCCCGGGCGGGCTAGTATTCCTCGGGCAGTTCAGAGGTGATCCTTGCTGGACATTTGGGGCATGATACCTCTGTTTTGGGACGCTAATGCAAGGACTTACGAACGTACTGCTGGTTCCCAGCCACCATTGGGCGTTGTGCTCTATCTTGGGTATACTCGGTAAAGGCGGTTGCTGGAGCCTTCCTTGGGTCCGAGTCCAAAGGTTGTCCTCACCCCAGCCATAAGAGTTCCTGCATCGACAGGC',\n",
        "   'sequence_4': 'CCCCAATTGCTTTGGGGGTGGCGCACAATTCGTGGTGTGCCCCGATTACAACCTGCGTAATGCTAATCCGTCGAAGTAGATTCTCTATGGATTGATAGTCGATTTCCGCCTATCAGCCTAAAAGTGTGTTTCCATTTTCACAAAGCGACCGAACCGCTGATGCTTCGGCCCCGCTCGCCCCCATACAAGGAGACACTCCTTGGGGTGAACTGGTTCCTCGGTCCGAAATGTCGCCTTCATAAATTACGCCTGATGGTTCGGGTACTGGTGGTTGAATAACCGGACCGTTATCAGGCAGCCACGTAGCTCACCTCCGGGGTCAATGGTAGACACATTATTAGTAGCATCACAACGAGCCCTATATAAACCCGCGAAGAAAGTCTACTTGCGGAGGGTGTGGGAAGGCGTGCTCTAGATGAGATCGATAGTGAATGTAAGCACTTATAGAGCCTGTCACTACAGATCTCGTATTTCTTAAGGTACTACTTGCTATAGTGATGGCTGCTTGGTACACAGTTCCTACGTAAGCAGGAGTGGGCGATTCCTCGATAACACGAGCAGGGGGTGTGGGAACAAGTTCTCAGGGCGAACAGAATGACGCCATGACCAGGATGAAGCCGACACGTAAAGAACCACCCCGGCTCTTTGCGCCACACCCTTTGTACACGCTTAATCCGCGAATTATACGAAGGCTCAATAATCGTCCACGGGGGTCAGTAGGTACACACATGACTCCGCATTCTGCATACCCTTTGTGGGGCAAGGCCTTTCAGAGACATATTGGATAGAAATTTGCGGACATCTACGCCCGCCCATATTGGCAACCGGCGGCAATTCCGTCTAGAATACGTAGAAATCATTTACCACACGAAATGGTATCATAAGAGCTCGCTATCGGGCTTAATAAGTGCAGTCATACGCCTGTCACTCTCGCTGAGCGGCTGTAACGATAGACAGCGCATGTGGGACAGGCGTCATGTTCCCATTCGAGTCCTACGCA'}),\n",
        " ('e42a0',\n",
        "  {'creation_time': '0',\n",
        "   'id': 'e42a0de8098187004b5271f038fbd8f0dbab5084140832bd5bf29e50b7aaff53f14f3591efc9f96a3ddeddb02595e5ee2922a4960a8eab515deaa36c11d4a143',\n",
        "   'segment_number': '4',\n",
        "   'sequence_1': 'AACCCGATTCGTTTTCCTGGTAACAGTAATGACTACGATCGAAAAGAGAACGGCTACCGATTGGACAATTTTGAACATTAAGGTCTACTAGGCGTCTGAATCAGATATTTCCAGCCAAAGGGTATTGATATAGCACCCCTCGCAGCTACCCAGATCCACCAGCAGCTTAGTTAACAACGCGACGTCGGGTTAGGGCACTTTATCGTGACCTTTTCGAAGTGAGCAGCAGCCATACCTCTCATGAAAGGTGAAGACATCTTGAAAAATGCACGCTTTACCAAATGACTACTTTGCTAGTCACGGGGCTGAATAGGGCTACGGCAAACCGGAGGGTCGCCTATTTTCGGCCTTCGGAAATTTGACAAGATACGCGTCTGTCAGATGTTCAGTATTAGGAACCTGCAGCCTACATTTGCCACCCGTCGCGATTGCGGAGGTTGTCGGTACTTTTTTATCTACAAGCCTCCTGGTGAGGGGACCTCGACCAGTGGGCGGAGTCTACAAATTTAGTGGAATTATTTTCGGCAATCAGTGTAGTCTCGACATGATGCAAGTATGAGATGGCATCCGTATAGGACCGTGGACGCCTCCTAAGAGGTGCGCGAGTTATCCGATCGCCAGGATCTATGGGCGTGCCTCTTCCGACGCTCGAGTTACAATCTATTGAGCTGGTACTCGGTCGGTCAGGGATGGGCTCCGGAGTAAACGGCGGCGCTTTCGTCTCCGCCGTGCATATCCCTCAGTAGCAGCCAGACATCCCGGGCGGGCTAGTATTCCTCGGGCAGTTCAGAGGTGATCCTTGCTGGACATTTGGGGCATGATACCTCTGTTTTGGGACGCTAATGCAAGGACTTACGAACGTACTGCTGGTTCCCAGCCACCATTGGGCGTTGTGCTCTATCTTGGGTATACTCGGTAAAGGCGGTTGCTGGAGCCTTCCTTGGGTCCGAGTCCAAAGGTTGTCCTCACCCCAGCCATAAGAGTTCCTGCATCGACAGGC',\n",
        "   'sequence_4': 'CCCCAATTGCTTTGGGGGTGGCGCACAATTCGTGGTGTGCCCCGATTACAACCTGCGTAATGCTAATCCGTCGAAGTAGATTCTCTATGGATTGCTAGTCGATTTCCGCCTATCAGCCTAAAAGTGTGTTTCCATTTTCACAAAACGACCGAACCGCTGATGCTTCGGCCCCGCTCGCCCCCATACAAGGAGACACTCCTTGAGGTGAACTGGTTCCTCGGTCCGAAATGGCGCCTTCATAAATTACGCCTGATGGTTCGGGTACTGGTGGTTGAATAACCGGACCGTTATCAGGCAGCCACGTAGCTCACCTCCGGGGTCAATGGTAGGCACATTATTAGTAGCATCACAACGAGCCCTATATAAACCCGCGAAGTAAGTCTACTTGCGGAGGGTGTGGGAAGGCGTGCTCTAGATGAGATCGATAGTGAATGTAAGCACTTATAGAGCCTGTCACTACAGATCTCGCATTTCTTAAGGTACTACTTGCTCTAGTGATGGCTGCTTGGTACACAGTTCCTACGTAAGCAGGAGTGGGCGATTCCTCGATAACACGAGCAGGGGGTGTCGGAACAAGTTCTCAGGGCGAACAGAATGACGCCATGACCAGGATGAAGCCGACACGTAAAGAACCACCCCGGCTCTTTGCGCCACACCCTTTGTACACGCTTAATCCGCGAATTATACGAAGGCTCAATAATCGTCCACGGGGGTCAGTAGGTACACACATGACTCCGCATTCTGCATACCCTTTGTGGGGCAAGGCCTTTCAGAGACATATTGGAAAGAAATTTGCGGACATCTACGCCCGCCCATATTGGCAACCGGCGGCAATTCCGTCTAGAATACGTAGAAATCATTTACCACACGAAATGGTATCATAAGAGCTCGCTATCGGGCTTAATAAGTGCAGTCATACGCCTGTCACTCTCGCTGAGCGGCTGTAACGATGGACAGCGCATGTGGGACAGGCGTCATGTTCCCATTCGAGTCCTACGCA'}),\n",
        " ('bd861',\n",
        "  {'creation_time': '2',\n",
        "   'id': 'bd861e3fdf471b4912eb3d2681be46b3bbab515c34d3a1971a9358b13a84471514a75f466ad0929dc418c1ced4d9366e41158c02140fc329ffe0bae11333f525',\n",
        "   'segment_number': '4',\n",
        "   'sequence_1': 'AACCCGATTCGTTTTCCTGGTAACAGTAATGACTACGATCGAAAAGAGAACGGCTACCGATTGGACAATTTTGAACATTAAGGTCTACTAGGCGTCTGAATCAGATATTTCCAGCCAAAGGGTATTGATATAGCACCCCTCGCAGCTACCCAGATCCACCAGCAGCTTAGTTAACAACGCGACGTCGGGTTAGGGCACTTTATCGTGACCTTTTCGAAGTGAGCAGCAGCCATACCTCTCATGAAAGGTGAAGACATCTTGAAAAATGCACGCTTTACCAAATGACTACTTTGCTAGTCACGGGGCTGAATAGGGCTACGGCAAACCGGAGGGTCGCCTATTTTCGGCCTTCGGAAATTTGACAAGATACGCGTCTGTCAGATGTTCAGTATTAGGAACCTGCAGCCTACATTTGCCACCCGTCGCGATTGCGGAGGTTGTCGGTACTTTTTTATCTACAAGCCTCCTGGTGAGGGGACCTCGACCAGTGGGCGGAGTCTACAAATTTAGTGGAATTATTTTCGGCAATCAGTGTAGTCTCGACATGATGCAAGTATGAGATGGCATCCGTATAGGACCGTGGACGCCTCCTAAGAGGTGCGCGAGTTATCCGATCGCCAGGATCTATGGGCGTGCCTCTTCCGACGCTCGAGTTACAATCTATTGAGCTGGTACTCGGTCGGTCAGGGATGGGCTCCGGAGTAAACGGCGGCGCTTTCGTCTCCGCCGTGCATATCCCTCAGTAGCAGCCAGACATCCCGGGCGGGCTAGTATTCCTCGGGCAGTTCAGAGGTGATCCTTGCTGGACATTTGGGGCATGATACCTCTGTTTTGGGACGCTAATGCAAGGACTTACGAACGTACTGCTGGTTCCCAGCCACCATTGGGCGTTGTGCTCTATCTTGGGTATACTCGGTAAAGGCGGTTGCTGGAGCCTTCCTTGGGTCCGAGTCCAAAGGTTGTCCTCACCCCAGCCATAAGAGTTCCTGCATCGACAGGC',\n",
        "   'sequence_4': 'CTTAGATACATTACGGACCAAGGGTTGTATGCGGTCTACAATGGTGGGTTTGACTCTCGTCTTGGGTGGTTCTTCTGCATGGCGGTCCCACACCGAGCCTCTCCGTTGGGAGCCTGGAGGGGGTGGGTATCCGCCTGTAAGCAAGTTTCGAATTCGTGGTTCCCCGACTATAGGTAGTGGGACCGCGAAGAGGCCCCTTTCAAGCTAGTCCGAAAGTGCCAGGACCCATATTACCATCGCCTGCGTTGAGACTAGGATCTACGGATCCGATGGGCTGTTAACTCCAAAAATGGGCGCACATTATGAGAGCGTTGAGTCCATGTCAACCCATTCTGGTGTGAGTCCCGAAGATTGTGTACCGAGGAGCCGGCGCGTGCGGGAATGCCGGCTCGTTGGACCAAGATCCTTACGTCCTCCGCCATCTCATCGAAAGCTTGACGTTATCTCCTCTATCAGTCGCTAAGGTAGCCTAAATGGCCCGTTGCGCGCTTAGGGTTCCTCATTTAGTTAAGCAACGCCAAACGAATCCATCCCATCCGATGTTACAGACGGGGGTTCGACTTCCCTGGCCTGAAACACTCCACGCTCATTGTTTACTACGTGCCTTGCCGTAGCCAGGCGGCCCCACCGCTCCAGGCTTTGTAGTGGTTGGGTTTTCTGGCAGCCCTGTGGCATCAAACCTGTTTCAGCTAACGCACGGCTCAGGCCATAGCTCTACCATGTCTTCGGAACTGCCTCGCCCCACATTGCGCATTGTAGCGCAATCGACAGAGTCCAATAGGCTCCCCGGACAACTATGCGACTGTCGGTCTTGTAGAGAGGTAGTCTGCGGTGATCGAGAGATGGGTGTGTCCGAGTAGTTCAGGAGAGTTTTCAGTTGGGCGAATTGGTATTGGTGTATCGGGGGGCGGGACACTAGCGCATTCAAATTGCCAGGAAGGGATCGAGTGGTATTTCGTGTCGTATTTTCATAAAAATTGGACGAGATTCTAGCAGAGTC'}),\n",
        " ('7fde1',\n",
        "  {'creation_time': '1',\n",
        "   'id': '7fde1e545ae35371702969da345dffd906e5ae2084d90c1e0b503f265a9dcd2807fa5807f9964a20de0de34aec37e3404a9a437b93aa6a48b1e8f250e96ce84b',\n",
        "   'segment_number': '4',\n",
        "   'sequence_1': 'AACCCGATTCGTTTTCCTGGTAACAGTAATGACTACGATCGAAAAGAGAACGGCTACCGATTGGACAATTTTGAACATTAAGGTCTACTAGGCGTCTGAATCAGATATTTCCAGCCAAAGGGTATTGATATAGCACCCCTCGCAGCTACCCAGATCCACCAGCAGCTTAGTTAACAACGCGACGTCGGGTTAGGGCACTTTATCGTGACCTTTTCGAAGTGAGCAGCAGCCATACCTCTCATGAAAGGTGAAGACATCTTGAAAAATGCACGCTTTACCAAATGACTACTTTGCTAGTCACGGGGCTGAATAGGGCTACGGCAAACCGGAGGGTCGCCTATTTTCGGCCTTCGGAAATTTGACAAGATACGCGTCTGTCAGATGTTCCGTATTAGGAACCTGCAGCCTACATTTGCCACCCGTCGCGATTGCGGAGGTTGTCGGTACTTTTTTATCTACAAGCCTCCTGGTGAGGGGACCTCGACCAGTGGGCGGAGTCTACAAATTTAGTGGAATTATTTTCGGCAATCAGTGTAGTCTCGACATGATGCAAGTATGAGATGGCATCCGTATAGGACCGTGGACGCCTCCTAAGAGGTGCGCGAGTTATCCGATCGCCAGGATCTATGGGCGTGCCTCTTCCGACGCTCGAGTTACAATCTATTGAGCTGGTACTCGGTCGGTCAGGGATGGGCTCCGGAGTAAACGGCGGCGCTTTCGTCTCCGCCGTGCATATCCCTCAGTAGCAGCCAGACATCCCGGGCGGGCTAGTATTCCTCGGGCAGTTCAGAGGTGATCCTTGCTGGACATTTGGGGCATGATACCTCTGTTTTGGGACGCTAATGCAAGGACTTACGAACGTACTGCTGGTTCCCAGCCACCATTGGGCGTTGTGCTCTATCTTGGGTATACTCGGTAAAGGCGGTTGCTGGAGCCTTCCTTGGGTCCGAGTCCAAAGGTTGTCCTCACCCCAGCCATAAGAGTTCCTGCATCGACAGGC',\n",
        "   'sequence_4': 'CTTAGATACATTACGGACCAGGGGTTGTATGCGGTCTACAATGGTGGGTTTGACTCTCGTCTTGGGTGGTTATTCTGTATGGCGGTCCCACACCGAGCCTCTCCGTTGGGAGCCTGGAGGGGGTGGGTATCCGCCTGTAAGCAAGTTTCGAATTCGTGGTTCCCCGACTATAGGTAGTGGGACCGCGAAGAGGCCCCTTTCAAGCTAGTCCGAAAGTGCCAGGACCCATATTACCATCGCCTGCGTTGATACTAGGATCTCCGGATCCGATGGGCTGTTAACTCCAAAAATGGGCGCACATTATGAGAGCGTTGAGTCCCTATCAACCCATTCTGGTGTGAGTCCCGAAGATTGGGTACCGAGGAGCCGGCGCTTGCGGGAATTCGGGCTCGTAGGACCAAGATCCTTACGTCCTCCGCCATCTCATCGACAGCTTGACGTTATCTCCTCTATCAGTCGCTAAGGTAGCCTAAATGGCCCGTTGCGCGCTTAGGGTTCCTCATTTAGTTAAGCAACGCCAAACGAATCCATCCCATCCGATGTTACAGACGGGGGTTCGACTTCCCTGGCCTGAAACACTCCACGCTCATTGTTTACTACGTGCCTTGCCGTAGCCAGGCGGCCCCACCGCTCCAGGCTTTGTAGTGGTTGGGTTTTCTGGCAGCCCTGTGGCATCAAACCTGTTGCAGCTAACGCACGGCTCAGGCCATAGCTCTACCATGTCTTCGGAGCTGCCTCGCCCCACATTGCGCATTGTAGCGCAATCCACAGAGTCCAATAGGCTCCCCGGACAACTATGCGACTGTCGGTCTTGTAGAGCGGTAGTCTGCGGTGAGCGAGAGATGGGTGTGTCCGAGTAGTTCAGGAGAGTTTTCAGTTGGGCGAATTGGTATTGGTGTATCGGGGGGCGGGTCACTAGCGCATTCAAATTGCCAGGAAGGGATCGAGTGGTATTTCGTGTCGTATTTTCATAAAAATTGGACGAGATTCTAGCAGAGTC'}),\n",
        " ('6dddd',\n",
        "  {'creation_time': '6',\n",
        "   'id': '6dddd3d4cbdf8ee2de1b4d27fe38358a1435e0a257c8f084cbe9cdef53da6d5a6d79b615bd2f1e2ff0bb7fcecd5ebf748a110956c7668db94211f48ea9150543',\n",
        "   'segment_number': '4',\n",
        "   'sequence_1': 'AACCCGATTCGTTTTCCTGGTAACAGTAATGACTACGATCGAAAAGAGAACGGCTACCGATTGGACAATTTTGAACATTAAGGTCTACTAGGCGTCTGAATCAGATATTTCCAGCCAAAGGGTATTGATATAGCACCCCTCGCAGCTACCCAGATCCACCAGCAGCTTAGTTAACAACGCGACGTCGGGTTAGGGCACTTTATCGTGACCTTTTCGAAGTGAGCAGCAGCCATACCTCTCATGAAAGGTGAAGACATCTTGAAAAATGCACGCTTTACCAAATGACTACTTTGCTAGTCACGGGGCTGAATAGGGCTACGGCAAACCGGAGGGTCGCCTATTTTCGGCCTTCGGAAATTTGACAAGATACGCGTCTGTCAGATGTTCAGTATTAGGAACCTGCAGCCTACATTTGCCACCCGTCGCGATTGCGGAGGTTGTCGGTACTTTTTTATCTACAAGCCTCCTGGTGAGGGGACCTCGACCAGTGGGCGGAGTCTACAAATTTAGTGGAATTATTTTCGGCAATCAGTGTAGTCTCGACATGATGCAAGTATGAGATGGCATCCGTATAGGACCGTGGACGCCTCCTAAGAGGTGCGCGAGTTATCCGATCGCCAGGATCTATGGGCGTGCCTCTTCCGACGCTCGAGTTACAATCTATTGAGCTGGTACTCGGTCGGTCAGGGATGGGCTCCGGAGTAAACGGCGGCGCTTTCGTCTCCGCCGTGCATATCCCTCAGTAGCAGCCAGACATCCCGGGCGGGCTAGTATTCCTCGGGCAGTTCAGAGGTGATCCTTGCTGGACATTTGGGGCATGATACCTCTGTTTTGGGACGCTAATGCAAGGACTTACGAACGTACTGCTGGTTCCCAGCCACCATTGGGCGTTGTGCTCTATCTTGGGTATACTCGGTAAAGGCGGTTGCTGGAGCCTTCCTTGGGTCCGAGTCCAAAGGTTGTCCTCACCCCAGCCATAAGAGTTCCTGCATCGACAGGC',\n",
        "   'sequence_4': 'CCCCAATTGCTTTGGGGGTGGCGCACAATTCGTGGTGTGCCCCGATTACACCCTGCGTAATGCTAATCCGTCGAAGTAGATTCTCTATGGATTGCTAGTCGATTTCCGCCTATCAGCCTAAAAGTGTGTTTCCATTTTCACAAAACGACCGAACCGCTGATGCTTCGGCCCCGCTCGCCCCCATACAAGGAGACACTCCTTGAGGTGAACTGGTTCCTCGGTCCGAAATGGCGCCTTCATAAATTACGCCTGATGGTTCGGGTACTGGTGGTTGAATAACCGGACCGTTATCAGGCAGCCACGTTGCTCACCTCCGGGGTCAATGGTAGGCACATTATTAGTAGCATCAGAACGAGCCCTATATAAACCCGCGAAGTAAGTCTACTTGCGGAGGGTGTGGGAAGGCGTGATCTAGATGAGATCGATAGTGAATGTAAGCACTTATAGAGCCTGTCACTACAGATCTCGCATTTCTTAAGGTACTACTTGCTCTAGTGATGGCTGCTTGGTACACAGTTCCTACGTAAGCAGGAGTGGGCGATTCCACGATATCACGAGCAGGGGGTGTCGGAACAAGTTCTCAGGGCGAACAGAATGACGCCATGACCAGGATGAAGCCGACACGTAAAGAACCACCCCGGCTCTTTGCGCCACACCTTTTGTACACGCTTCATCCGCGAATTATACGAAGGCTCAATAATCGTCCACGGGGGTCAGTAGGTACACACATGACTCCGCATTCTGCATACCCTTTGTGGGGCAAGGGCTTTCAGAGACATATTGGAAAGAAATTTGCGGACATCTACGCGCGCCCATATTGGCAACCGGCGGCAATTCCGTCTAGAATACGTAGAAATCATTTACCACATGAAATGGTATCATAAGAGCTCGCTATCGGGCTTAATAAGTGCAGTCATACGCCTGTCACTCTCGCTGACCGGCTGTAACGATGGACAGCGCATGTGGGACAGGCGTCATGTTCCCATTCGAGTCCTACGCA'}),\n",
        " ('4dbd3',\n",
        "  {'creation_time': '0',\n",
        "   'id': '4dbd3766a35fbb9592058a24ab3f07ab7378186ea7f4d55a97909a0bf0c7437c2e08e1fc1cb9ff0311559426256f071e8bad61fb578ce6dab7c8d4a313341761',\n",
        "   'segment_number': '4',\n",
        "   'sequence_1': 'AACCCGATTCGTTTTCCTGGTAACAGTAATGACTACGATCGAAAAGAGAACGGCTACCGATTGGACAATTTTGAACATTAAGGTCTACTAGGCGTCTGAATCAGATATTTCCAGCCAAAGGGTATTGATATAGCACCCCTCGCAGCTACCCAGATCCACCAGCAGCTTAGTTAACAACGCGACGTCGGGTTAGGGCACTTTATCGTGACCTTTTCGAAGTGAGCAGCAGCCATACCTCTCATGAAAGGTGAAGACATCTTGAAAAATGCACGCTTTACCAAATGACTACTTTGCTAGTCACGGGGCTGAATAGGGCTACGGCAAACCGGAGGGTCGCCTATTTTCGGCCTTCGGAAATTTGACAAGATACGCGTCTGTCAGATGTTCAGTATTAGGAACCTGCAGCCTACATTTGCCACCCGTCGCGATTGCGGAGGTTGTCGGTACTTTTTTATCTACAAGCCTCCTGGTGAGGGGACCTCGACCAGTGGGCGGAGTCTACAAATTTAGTGGAATTATTTTCGGCAATCAGTGTAGTCTCGACATGATGCAAGTATGAGATGGCATCCGTATAGGACCGTGGACGCCTCCTAAGAGGTGCGCGAGTTATCCGATCGCCAGGATCTATGGGCGTGCCTCTTCCGACGCTCGAGTTACAATCTATTGAGCTGGTACTCGGTCGGTCAGGGATGGGCTCCGGAGTAAACGGCGGCGCTTTCGTCTCCGCCGTGCATATCCCTCAGTAGCAGCCAGACATCCCGGGCGGGCTAGTATTCCTCGGGCAGTTCAGAGGTGATCCTTGCTGGACATTTGGGGCATGATACCTCTGTTTTGGGACGCTAATGCAAGGACTTACGAACGTACTGCTGGTTCCCAGCCACCATTGGGCGTTGTGCTCTATCTTGGGTATACTCGGTAAAGGCGGTTGCTGGAGCCTTCCTTGGGTCCGAGTCCAAAGGTTGTCCTCACCCCAGCCATAAGAGTTCCTGCATCGACAGGC',\n",
        "   'sequence_4': 'CTTAGATACATTACGGACCAGGGGTTGTATGCGGTCTACAATGGTGGGTTTGACTCTCGTCTTGGGTGGTTCTTCTGTATGGCGGTCCCACACCGAGCCTCTCCGTTGGGAGCCTGGAGGGGGTGGGTATCCGCCTGTAAGCAAGTTTCGAATTCGTGGTTCCCCGACTATAGGTAGTGGGACCGCGAAGAGGCCCCTTTCAAGCTAGTCCGAAAGTGCCAGGACCCATATTACCATCGCCTGCGTTGAGACTAGGATCTCCGGATCCGATGGGCTGTTAACTCCAAAAATGGGCGCACATTATGAGAGCGTTGAGTCCCTGTCAACCCATTCTGGTGTGAGTCCCGAAGATTGGGTACCGAGGAGCCGGCGCTTGCGGGAATGCCGGCTCGTAGGACCAAGATCCTTACGTCCTCCGCCATCTCATCGACAGCTTGACGTTATCTCCTCTATCAGTCGCTAAGGTAGCCTAAATGGCCCGTTGCGCGCTTAGGGTTCCTCATTTAGTTAAGCAACGCCAAACGAATCCATCCCATCCGATGTTACAGACGGGGGTTCGACTTCCCTGGCCTGAAACACTCCACGCTCATTGTTTACTACGTGCCTTGCCGTAGCCAGGCGGCCCCACCGCTCCAGGCTTTGTAGTGGTTGGGTTTTCTGGCAGCCCTGTGGCATCAAACCTGTTGCAGCTAACGCACGGCTCAGGCCATAGCTCTACCATGTCTTCGGAACTGCCTCGCCCCACATTGCGCATTGTAGCGCAATCGACAGAGTCCAATAGGCTCCCCGGACAACTATGCGACTGTCGGTCTTGTAGAGAGGTAGTCTGCGGTGAGCGAGAGATGGGTGTGTCCGAGTAGTTCAGGAGAGTTTTCAGTTGGGCGAATTGGTATTGGTGTATCGGGGGGCGGGACACTAGCGCATTCAAATTGCCAGGAAGGGATCGAGTGGTATTTCGTGTCGTATTTTCATAAAAATTGGACGAGATTCTAGCAGAGTC'}),\n",
        " ('66769',\n",
        "  {'creation_time': '7',\n",
        "   'id': '66769113afad14da3f28a18663030c4b156b727769761a8de2f64001888e5e5e97c0897d9625bc7da806ccb7e2b564cf3dea60e631a103dc8f94ab2aaba185eb',\n",
        "   'segment_number': '4',\n",
        "   'sequence_1': 'AACCCGATTCGTTTTCCTGGTAACAGTAATGACTACGATCGAAAAGAGAACGGCTACCGATTGGACAATTTTGAACATTAAGGTCTACTAGGCGTCTGAATCAGATATTTCCAGCCAAAGGGTATTGATATAGCACCCCTCGCAGCTACCCAGATCCACCAGCAGCTTAGTTAACAACGCGACGTCGGGTTAGGGCACTTTATCGTGACCTTTTCGAAGTGAGCAGCAGCCATACCTCTCATGAAAGGTGAAGACATCTTGAAAAATGCACGCTTTACCAAATGACTACTTTGCTAGTCACGGGGCTGAATAGGGCTACGGCAAACCGGAGGGTCGCCTATTTTCGGCCTTCGGAAATTTGACAAGATACGCGTCTGTCAGATGTTCAGTATTAGGAACCTGCAGCCTACATTTGCCACCCGTCGCGATTGCGGAGGTTGTCGGTACTTTTTTATCTACAAGCCTCCTGGTGAGGGGACCTCGACCAGTGGGCGGAGTCTACAAATTTAGTGGAATTATTTTCGGCAATCAGTGTAGTCTCGACATGATGCAAGTATGAGATGGCATCCGTATAGGACCGTGGACGCCTCCTAAGAGGTGCGCGAGTTATCCGATCGCCAGGATCTATGGGCGTGCCTCTTCCGACGCTCGAGTTACAATCTATTGAGCTGGTACTCGGTCGGTCAGGGATGGGCTCCGGAGTAAACGGCGGCGCTTTCGTCTCCGCCGTGCATATCCCTCAGTAGCAGCCAGACATCCCGGGCGGGCTAGTATTCCTCGGGCAGTTCAGAGGTGATCCTTGCTGGACATTTGGGGCATGATACCTCTGTTTTGGGACGCTAATGCAAGGACTTACGAACGTACTGCTGGTTCCCAGCCACCATTGGGCGTTGTGCTCTATCTTGGGTATACTCGGTAAAGGCGGTTGCTGGAGCCTTCCTTGGGTCCGAGTCCAAAGGTTGTCCTCACCCCAGCCATAAGAGTTCCTGCGTCGACAGGC',\n",
        "   'sequence_4': 'CTTAGATACATTACGGACCAGGGGTTGTATGCGGTCTACAATGGTGGGTTTGACTCTCGTCTTGGGTGGTTCTTCTGGATGGCGGTCCCACACCGAGCCTCTCCGTTGGGAGCCTGGAGGGGGTGGGTATCCGCCTGTAAGCAAGTTTCGAATTCGTGGTTCCCCGACTATAGGTAGTGGGACCGCGAAGAGGCCCCTTTCAAGCTAGTCCGAAAGTGCCAGGACCCATATTACCATCGCCTGCGTTGAGACTAGGATCTCCGGATCCGATGGGCTGTTAACTCCAAAAATGGGCGCACATTATGAGAGCGTTGAGTCCCTGTCAACACATTCTGGTGTGAGTCCCGAAGATTGGGTACCGAGGAGCCGGCGCTTGCGGGAATGCCGGCTCGTAGGACCAAGATCCTTACGTCCTCCGCCATCTCATCGACAGCTTGACGTTATCTCCTCTATCAGTCGCTAAGGTAGCCTAAATGGCCCGTTGCGCGCTTAGGGTTCCTCATTTAGTTAAGCAACGCCAAACGAATCCATCCCATCCGATGTTACAGACGGGGGTTCGACTTCCCTGGCCTGAAACACTCCACGCTCATTGTTTACTACGTGCCTTGCCGTAGCCAGGCGGCCCCACAGCTCCAGGCTTTGTAGTGCTTGGGTTTTCTGGCAGCCCTGTGGCATCAAACCTGTTGTAGCTAACGCACGGCTCAGGCCATAGCTCTACCATGTCTTCGGAACTGCCTCGCCCCACATTGCGCATTGTAGCGCACTCGACAGAGTCCAATAGGCTCCCCGGACAACTATGCGACTGTCGGTCTTGTAGAGAGGTAGCCTGCGGTGAGCGAGAGATGGGTGTGTCCGAGTAGTTCAGGAGAGGTTTCAGTTGGGCGAATTGGTATTGGTGTATCGGGGGGCGGGACACTAGCGCATTCAATTTGCCAGGAAGGGATCGAGTGGTATTTCGTGTCGTATTTTCATAAAAATTGGACGAGATTCTAGCAGAGTC'}),\n",
        " ('f6bd5',\n",
        "  {'creation_time': '3',\n",
        "   'id': 'f6bd5eedd62f722d78d59fa6629f299ead1227bc16bdd56613bfeb3eb8e957f98725c4790d27f616831b97d4de6d7535a35be1d338c4aaa727fb3d569b971b37',\n",
        "   'segment_number': '4',\n",
        "   'sequence_1': 'AACCCGATTCGTTTTCCTGGTAACAGTAATGACTACGATCGAAAAGAGAACGGCTACCGATTGGACAATTTTGAACATTAAGGTCTACTAGGCGTCTGAATCAGATATTTCCAGCCAAAGGGTATTGATATAGCACCCCTCGCAGCTACCCAGATCCACCAGCAGCTTAGTTAACAACGCGACGTCGGGTTAGGGCACTTTATCGTGACCTTTTCGAAGTGAGCAGCAGCCATACCTCTCATGAAAGGTGAAGACATCTTGAAAAATGCACGCTTTACCAAATGACTACTTTGCTAGTCACGGGGCTGAATAGGGCTACGGCAAACCGGAGGGTCGCCTATTTTCGGCCTTCGGAAATTTGACAAGATACGCGTCTGTCAGATGTTCCGTATTAGGAACCTGCAGCCTACATTTGCCACCCGTCGCGATTGCGGAGGTTGTCGGTACTTTTTTATCTACAAGCCTCCTGGTGAGGGGACCTCGACCAGTGGGCGGAGTCTACAAATTTAGTGGAATTATTTTCGGCAATCAGTGTAGTCTCGACATGATGCAAGTATGAGATGGCATCCGTATAGGACCGTGGACGCCTCCTAAGAGGTGCGCGAGTTATCCGATCGCCAGGATCTATGGGCGTGCCTCTTCCGACGCTCGAGTTACAATCTATTGAGCTGGTACTCGGTCGGTCAGGGATGGGCTCCGGAGTAAACGGCGGCGCTTTCGTCTCCGCCGTGCATATCCCTCAGTAGCAGCCAGACATCCCGGGCGGGCTAGTATTCCTCGGGCAGTTCAGAGGTGATCCTTGCTGGACATTTGGGGCATGATACCTCTGTTTTGGGACGCTAATGCAAGGACTTACGAACGTACTGCTGGTTCCCAGCCACCATTGGGCGTTGTGCTCTATCTTGGGTATACTCGGTAAAGGCGGTTGCTGGAGCCTTCCTTGGGTCCGAGTCCAAAGGTTGTCCTCACCCCAGCCATAAGAGTTCCTGCATCGACAGGC',\n",
        "   'sequence_4': 'CTTAGATACATTACGGACCAAGGGTTGTATGCGGTCTACAATGGTGGGCTTGACTCTCGTCTTGAGTGGTTCTTCGGCATGGCGGTCCCACACCGAGCCTCTCCGTTGGGAGCCTGGAGGGGGTGGGTATCCGCCTGTAAGCAAGTTTCGAATTCGTGGTTCCCCGACTATAGGTAGTGGGACCGCGAAGAGGCCCCTTTCAAGCTAGTCCGAGAGTGCCAGGACCCATATTAGCATCGCCTGCGTTGAGACTAGGATCTACGGATCCGATGGGCTGTTAACTCCAAAAATGGGCGCACATTATGAGAGCGTTGAGTCCATGTCAACCCATTCTGGTGTGAGTCCCGAAGGTTGTGTACCGAGGAGCCGGCGCGTGCGGGAATGCCGGCTCGTTGGACCAAGATCCTTACGTCCTCCGCCATCTCATCGAAAGCTTGACGTTATCTCCTCTATCAGTCGCTAAGGTAGCCTAAATGGCCCGTTGCGCGCTTAGGGTTCCTCATTGAGTTAAGCAACGCCCAACGAATCCATCCCATCCGATGTTACAGACGGGGGTTCGACTTCCCTGGCCTGAAACACTCCACGCTCATTGTTTACTACGTGCCTTGCCGTAGCCAGGCGGCCCCACCGCTCCAGCCTTTGTAGTGGTTGGGTTTTCTGGCAGCCCTGTGGCATCAAACCTGTTTCAGCTAACGCACGGCTCAGGCCATAGCTCTAACATGTCTTCGGAACTGCCTCGCCCCACATTGCGCATTGTAGCGCAATCGACAGAGTCCAATAGGCTCCCCGGACAACTATGCGACTGTCGGTCTTGTAGAGAGGTAGTCTGCGGTGATCGAGAGATGGGTGTGTCCGAGTAGTTCAGGAGAGTTTTCAGTTGGGCGAATTGGTATTGGTGTATCGGGGGGCGGGACACTAGCGCATTCAAATTGCCAGGAAGGGATCAAGTGGTATTTCGTGTCGTATTTTCATAAAAATTGGACGAGATTCTAGCAGAGTC'}),\n",
        " ('7bf0c',\n",
        "  {'creation_time': '5',\n",
        "   'id': '7bf0cfe673eda6b57409457f82b24ba2e137925010998f539ac076a9deb4090d554d726b77941fb531879d6db27dfe86aa2945b546f00aaf8bddd65d84ccccdd',\n",
        "   'segment_number': '4',\n",
        "   'sequence_1': 'AACCCGATTCGTTTTCCTGGTAACAGTAATGACTACGATCGAAAAGAGAACGGCTACCGATTGGACAATTTTGAACATTAAGGTCTACTAGGCGTCTGAATCAGATATTTCCAGCCAAAGGGTATTGATATAGCACCCCTCGCAGCTACCCAGATCCACCAGCAGCTTAGTTAACAACGCGACGTCGGGTTAGGGCACTTTATCGTGACCTTTTCGAAGTGAGCAGCAGCCATACCTCTCATGAAAGGTGAAGACATCTTGAAAAATGCACGCTTTACCAAATGACTACTTTGCTAGTCACGGGGCTGAATAGGGCTACGGCAAACCGGAGGGTCGCCTATTTTCGGCCTTCGGAAATTTGACAAGATACGCGTCTGTCAGATGTTCAGTATTAGGAACCTGCAGCCTACATTTGCCACCCGTCGCGATTGCGGAGGTTGTCGGTACTTTTTTATCTACAAGCCTCCTGGTGAGGGGACCTCGACCAGTGGGCGGAGTCTACAAATTTAGTGGAATTATTTTCGGCAATCAGTGTAGTCTCGACATGATGCAAGTATGAGATGGCATCCGTATAGGACCGTGGACGCCTCCTAAGAGGTGCGCGAGTTATCCGATCGCCAGGATCTATGGGCGTGCCTCTTCCGACGCTCGAGTTACAATCTATTGAGCTGGTACTCGGTCGGTCAGGGATGGGCTCCGGAGTAAACGGCGGCGCTTTCGTCTCCGCCGTGCATATCCCTCAGTAGCAGCCAGACATCCCGGGCGGGCTAGTATTCCTCGGGCAGTTCAGAGGTGATCCTTGCTGGACATTTGGGGCATGATACCTCTGTTTTGGGACGCTAATGCAAGGACTTACGAACGTACTGCTGGTTCCCAGCCACCATTGGGCGTTGTGCTCTATCTTGGGTATACTCGGTAAAGGCGGTTGCTGGAGCCTTCCTTGGGTCCGAGTCCAAAGGTTGTCCTCACCCCAGCCATAAGAGTTCCTGCATCGACAGGC',\n",
        "   'sequence_4': 'CTTAGATACATTACGGACCAAGGGTTGTATGCGGTCTACAATGGTGGGTTTGACTCTCGTCTTGGGTGGTTCTTCTGCATGGCGGTCCCACACCGAGCCTCTCCGTTGGGAGCCTGGAGGGGGTGGGTATCCGCCTGTAAGCAAGTTTCGAATTCGTGGTTCCGCGACTATAGGTAGTGGGACCGCGAAGAGGCCCCTTTCAAGCTAGTCCGAAAGTGCCAGGACCCATATTACCATCGCGTGCGTTGAGACTAGGATCTACGGATCCGATGGGCTGTTAACTCCAAAAATGGGCGCACATTATGAGAGCGTTGAGTCCATGTCAACCCATTCTGGTGTGAGTCCCGAAGATTGTGTACCGAGGAGCCGGCGCGTGCGGGAATGCCGGCTCGTTGGACCAAGATCCTTACGTCCTGCGCCATCTCATCGAAAGCTTGACGTTATCTCCTCTATCAGTCGCTAAGGTAGCCTAAATGGCCCGTTGCGCGCTTAGGGTTCCTCATTTAGTTAAGCAACGCCAAACGAATCCATCCCATCCGATGTTACAGACGGGGGTTCGACTTCCCTGGCCTGAAACACTCCACGCTCATTGTTTACTACGTGCCTTGCCGTAGCCAGGCGGCCCCACCGCTCCAGGCTTTGTAGTGGCTGGGTTTTCTGGCAGCCCTGGGGCATCAAACCTGTTTCAACTAACGCACGGCTCAGGCCATAGCTCTACCATGTCTTCGGAACTGCCTCGCCCCACATTGCGCATTGTAGCGCAATCGACAGAGTCCAATAGGCTCCCCGGACAACTATGCGACTGTCGGTCTTGTATAGAGGTAGTCTGCGGTGATCGAGAGATGGGTGTGTCCGAGTAGTTCAGGAGAGTTTTCAGTTGGGCGAATTGGTATTGGTGTATCGGGGGGCGGGACACTAGCGCATTCAAATTGCCAGGAAGGGATCGAGTGGTATTTCGTGTCGTATTTTCATAAAAATTGGACGAGATTCTAGCAGAGTC'})]"
       ]
      }
     ],
     "prompt_number": 25
    },
    {
     "cell_type": "code",
     "collapsed": false,
     "input": [
      "# This code is used for drawing.\n",
      "from random import randint\n",
      "\n",
      "randints = []\n",
      "for node in r.condensed_graph.nodes(data=True):\n",
      "    randints.append(randint(1, 20))\n",
      "print randints\n",
      "\n",
      "reconstruction_positions = dict()\n",
      "for i, node in enumerate(sorted(r.condensed_graph.nodes(data=True))):\n",
      "    reconstruction_positions[node[0]] = (int(node[1]['creation_time']), randints[i])\n",
      "    \n",
      "print len(reconstruction_positions)\n",
      "nx.draw(r.condensed_graph, pos=reconstruction_positions)"
     ],
     "language": "python",
     "metadata": {},
     "outputs": [
      {
       "output_type": "stream",
       "stream": "stdout",
       "text": [
        "[8, 9, 4, 7, 5, 13, 6, 19, 8, 20, 17]\n",
        "11\n"
       ]
      },
      {
       "metadata": {},
       "output_type": "display_data",
       "png": "[encoded data removed]",
       "text": [
        "<matplotlib.figure.Figure at 0x106384150>"
       ]
      }
     ],
     "prompt_number": 26
    },
    {
     "cell_type": "code",
     "collapsed": false,
     "input": [
      "simulation_positions = dict()\n",
      "\n",
      "print randints\n",
      "for i, pathogen in enumerate(s.pathogens):\n",
      "    simulation_positions[pathogen] = reconstruction_positions[str(pathogen)]\n",
      "    \n",
      "print len(simulation_positions)\n",
      "nx.draw(s.transmission_graph, pos=simulation_positions)"
     ],
     "language": "python",
     "metadata": {},
     "outputs": [
      {
       "output_type": "stream",
       "stream": "stdout",
       "text": [
        "[8, 9, 4, 7, 5, 13, 6, 19, 8, 20, 17]\n",
        "11\n"
       ]
      },
      {
       "metadata": {},
       "output_type": "display_data",
       "png": "[encoded data removed]",
       "text": [
        "<matplotlib.figure.Figure at 0x1063a9190>"
       ]
      }
     ],
     "prompt_number": 27
    },
    {
     "cell_type": "code",
     "collapsed": false,
     "input": [
      "s.pathogens[0].parent"
     ],
     "language": "python",
     "metadata": {},
     "outputs": [
      {
       "metadata": {},
       "output_type": "pyout",
       "prompt_number": 28,
       "text": [
        "{}"
       ]
      }
     ],
     "prompt_number": 28
    },
    {
     "cell_type": "code",
     "collapsed": false,
     "input": [
      "r.condensed_graph.edges(data=True)"
     ],
     "language": "python",
     "metadata": {},
     "outputs": [
      {
       "metadata": {},
       "output_type": "pyout",
       "prompt_number": 29,
       "text": [
        "[('e42a0', '31451', {'segments': [1, 4], 'weight': 12}),\n",
        " ('e42a0', '6dddd', {'segments': [1, 4], 'weight': 12}),\n",
        " ('bd861', 'f6bd5', {'segments': [4], 'weight': 11}),\n",
        " ('bd861', '7bf0c', {'segments': [1, 4], 'weight': 7}),\n",
        " ('7fde1', 'f6bd5', {'segments': [1], 'weight': 0}),\n",
        " ('6dddd', 'efa9a', {'segments': [1, 4], 'weight': 10}),\n",
        " ('4dbd3', 'bd861', {'segments': [1, 4], 'weight': 10}),\n",
        " ('4dbd3', '7fde1', {'segments': [1, 4], 'weight': 10}),\n",
        " ('4dbd3', '66769', {'segments': [1, 4], 'weight': 10}),\n",
        " ('66769', 'b829b', {'segments': [1, 4], 'weight': 15})]"
       ]
      }
     ],
     "prompt_number": 29
    },
    {
     "cell_type": "code",
     "collapsed": false,
     "input": [
      "for virus in s.identify_reassortants():\n",
      "    print virus"
     ],
     "language": "python",
     "metadata": {},
     "outputs": [
      {
       "output_type": "stream",
       "stream": "stdout",
       "text": [
        "f6bd5\n"
       ]
      }
     ],
     "prompt_number": 30
    },
    {
     "cell_type": "code",
     "collapsed": false,
     "input": [
      "for virus in r.identify_reassortants():\n",
      "    print virus[0]"
     ],
     "language": "python",
     "metadata": {},
     "outputs": [
      {
       "output_type": "stream",
       "stream": "stdout",
       "text": [
        "f6bd5\n"
       ]
      }
     ],
     "prompt_number": 31
    },
    {
     "cell_type": "code",
     "collapsed": false,
     "input": [
      "s.transmission_graph.edges(data=True)"
     ],
     "language": "python",
     "metadata": {},
     "outputs": [
      {
       "metadata": {},
       "output_type": "pyout",
       "prompt_number": 32,
       "text": [
        "[(66769, b829b, {'segments': [1, 4], 'weight': 15}),\n",
        " (4dbd3, 7fde1, {'segments': [1, 4], 'weight': 10}),\n",
        " (4dbd3, 66769, {'segments': [1, 4], 'weight': 10}),\n",
        " (4dbd3, bd861, {'segments': [1, 4], 'weight': 10}),\n",
        " (6dddd, efa9a, {'segments': [1, 4], 'weight': 10}),\n",
        " (e42a0, 31451, {'segments': [1, 4], 'weight': 12}),\n",
        " (e42a0, 6dddd, {'segments': [1, 4], 'weight': 12}),\n",
        " (bd861, f6bd5, {'segments': [4], 'weight': 11}),\n",
        " (bd861, 7bf0c, {'segments': [1, 4], 'weight': 7}),\n",
        " (7fde1, f6bd5, {'segments': [1], 'weight': 0})]"
       ]
      }
     ],
     "prompt_number": 32
    },
    {
     "cell_type": "markdown",
     "metadata": {},
     "source": [
      "# Test Relabeled Graph"
     ]
    },
    {
     "cell_type": "code",
     "collapsed": false,
     "input": [
      "for pathogen in s.pathogens:\n",
      "    print (str(pathogen), str(pathogen.parent))"
     ],
     "language": "python",
     "metadata": {},
     "outputs": [
      {
       "output_type": "stream",
       "stream": "stdout",
       "text": [
        "('4dbd3', '{}')\n",
        "('e42a0', '{}')\n",
        "('7fde1', '{4dbd3: [1, 4]}')\n",
        "('bd861', '{4dbd3: [1, 4]}')\n",
        "('f6bd5', '{bd861: [4], 7fde1: [1]}')\n",
        "('31451', '{e42a0: [1, 4]}')\n",
        "('7bf0c', '{bd861: [1, 4]}')\n",
        "('6dddd', '{e42a0: [1, 4]}')\n",
        "('66769', '{4dbd3: [1, 4]}')\n",
        "('b829b', '{66769: [1, 4]}')\n",
        "('efa9a', '{6dddd: [1, 4]}')\n"
       ]
      }
     ],
     "prompt_number": 33
    },
    {
     "cell_type": "code",
     "collapsed": false,
     "input": [
      "s.relabel_transmission_graph()\n",
      "s.relabeled_transmission_graph.edges(data=True)"
     ],
     "language": "python",
     "metadata": {},
     "outputs": [
      {
       "metadata": {},
       "output_type": "pyout",
       "prompt_number": 34,
       "text": [
        "[('e42a0', '6dddd', {'segments': [1, 4], 'weight': 12}),\n",
        " ('e42a0', '31451', {'segments': [1, 4], 'weight': 12}),\n",
        " ('bd861', 'f6bd5', {'segments': [4], 'weight': 11}),\n",
        " ('bd861', '7bf0c', {'segments': [1, 4], 'weight': 7}),\n",
        " ('7fde1', 'f6bd5', {'segments': [1], 'weight': 0}),\n",
        " ('6dddd', 'efa9a', {'segments': [1, 4], 'weight': 10}),\n",
        " ('4dbd3', 'bd861', {'segments': [1, 4], 'weight': 10}),\n",
        " ('4dbd3', '66769', {'segments': [1, 4], 'weight': 10}),\n",
        " ('4dbd3', '7fde1', {'segments': [1, 4], 'weight': 10}),\n",
        " ('66769', 'b829b', {'segments': [1, 4], 'weight': 15})]"
       ]
      }
     ],
     "prompt_number": 34
    },
    {
     "cell_type": "code",
     "collapsed": false,
     "input": [
      "r.condensed_graph.edges(data=True)"
     ],
     "language": "python",
     "metadata": {},
     "outputs": [
      {
       "metadata": {},
       "output_type": "pyout",
       "prompt_number": 35,
       "text": [
        "[('e42a0', '31451', {'segments': [1, 4], 'weight': 12}),\n",
        " ('e42a0', '6dddd', {'segments': [1, 4], 'weight': 12}),\n",
        " ('bd861', 'f6bd5', {'segments': [4], 'weight': 11}),\n",
        " ('bd861', '7bf0c', {'segments': [1, 4], 'weight': 7}),\n",
        " ('7fde1', 'f6bd5', {'segments': [1], 'weight': 0}),\n",
        " ('6dddd', 'efa9a', {'segments': [1, 4], 'weight': 10}),\n",
        " ('4dbd3', 'bd861', {'segments': [1, 4], 'weight': 10}),\n",
        " ('4dbd3', '7fde1', {'segments': [1, 4], 'weight': 10}),\n",
        " ('4dbd3', '66769', {'segments': [1, 4], 'weight': 10}),\n",
        " ('66769', 'b829b', {'segments': [1, 4], 'weight': 15})]"
       ]
      }
     ],
     "prompt_number": 35
    },
    {
     "cell_type": "markdown",
     "metadata": {},
     "source": [
      "# Experiment with Accuracy Metrics"
     ]
    },
    {
     "cell_type": "code",
     "collapsed": false,
     "input": [
      "matching_edges = 0\n",
      "total_edges = len(s.relabeled_transmission_graph.edges())\n",
      "for edge in r.condensed_graph.edges(data=True):\n",
      "    if edge in s.relabeled_transmission_graph.edges(data=True):\n",
      "        matching_edges += 1\n",
      "        \n",
      "\n",
      "int(float(matching_edges) / total_edges * 100)"
     ],
     "language": "python",
     "metadata": {},
     "outputs": [
      {
       "metadata": {},
       "output_type": "pyout",
       "prompt_number": 36,
       "text": [
        "100"
       ]
      }
     ],
     "prompt_number": 36
    },
    {
     "cell_type": "code",
     "collapsed": false,
     "input": [
      "# This has been implemented in the prototype functions below.\n",
      "# float(len(r.identify_reassortants()))/float(len(s.identify_reassortants()))"
     ],
     "language": "python",
     "metadata": {},
     "outputs": [],
     "prompt_number": 37
    },
    {
     "cell_type": "code",
     "collapsed": false,
     "input": [
      "# Prototype for the functions.\n",
      "def reassortant_accuracy(simulation, reconstruction):\n",
      "    num_simulation_reassortants = float(len(simulation.identify_reassortants()))\n",
      "    num_reconstruction_reassortants = float(len(reconstruction.identify_reassortants()))\n",
      "    \n",
      "    if num_simulation_reassortants == 0:\n",
      "        return 'No reassortants present in simulation.'\n",
      "    else:\n",
      "        return num_reconstruction_reassortants / num_simulation_reassortants\n",
      "    \n",
      "def transmission_edge_accuracy(simulation, reconstruction):\n",
      "    matching_edges = 0\n",
      "    total_edges = len(simulation.relabeled_transmission_graph.edges())\n",
      "    \n",
      "    for edge in reconstruction.condensed_graph.edges(data=True):\n",
      "        if edge in simulation.relabeled_transmission_graph.edges(data=True):\n",
      "            matching_edges += 1\n",
      "            \n",
      "    return float(matching_edges) / total_edges\n",
      "\n",
      "def transmission_path_accuracy(simulation, reconstruction):\n",
      "    \"\"\"\n",
      "    The accuracy of transmission paths is the number of accurate paths found \n",
      "    divided by the number of paths being considered.\n",
      "    \"\"\"\n",
      "    num_paths = 0\n",
      "    accurate_paths = 0\n",
      "    \n",
      "    for edge in reconstruction.condensed_graph.edges():\n",
      "        if simulation.transmission_path_exists(edge[0], edge[1]):\n",
      "            num_paths += 1\n",
      "            accurate_paths += 1\n",
      "        else:\n",
      "            num_paths += 1\n",
      "    \n",
      "    return float(accurate_paths)/num_paths"
     ],
     "language": "python",
     "metadata": {},
     "outputs": [],
     "prompt_number": 38
    },
    {
     "cell_type": "code",
     "collapsed": false,
     "input": [
      "print s.identify_full_transmission_paths()\n",
      "print reassortant_accuracy(s, r)\n",
      "print transmission_edge_accuracy(s, r)\n",
      "print transmission_path_accuracy(s, r)"
     ],
     "language": "python",
     "metadata": {},
     "outputs": [
      {
       "output_type": "stream",
       "stream": "stdout",
       "text": [
        "[set(['efa9a', '6dddd', 'e42a0', '31451']), set(['bd861', '7fde1', 'b829b', '4dbd3', '66769', 'f6bd5', '7bf0c'])]\n",
        "1.0\n",
        "1.0\n",
        "1.0\n"
       ]
      }
     ],
     "prompt_number": 39
    },
    {
     "cell_type": "markdown",
     "metadata": {},
     "source": [
      "# Test path_exists(node1, node2) function"
     ]
    },
    {
     "cell_type": "code",
     "collapsed": false,
     "input": [
      "# 1 July 2014 - API Change so the following path_exist(node1, node2) code does not stand. \n",
      "# Segment number has to be specified in order for it to stand.\n",
      "# s.path_exists('b90bb', '3d39c')"
     ],
     "language": "python",
     "metadata": {},
     "outputs": [],
     "prompt_number": 40
    },
    {
     "cell_type": "code",
     "collapsed": false,
     "input": [
      "s.relabeled_transmission_graph.nodes()"
     ],
     "language": "python",
     "metadata": {},
     "outputs": [
      {
       "metadata": {},
       "output_type": "pyout",
       "prompt_number": 41,
       "text": [
        "['31451',\n",
        " 'bd861',\n",
        " '7fde1',\n",
        " '4dbd3',\n",
        " '7bf0c',\n",
        " 'efa9a',\n",
        " 'b829b',\n",
        " 'e42a0',\n",
        " '6dddd',\n",
        " '66769',\n",
        " 'f6bd5']"
       ]
      }
     ],
     "prompt_number": 41
    },
    {
     "cell_type": "code",
     "collapsed": false,
     "input": [
      "# s.path_exists('2851c', '09001')"
     ],
     "language": "python",
     "metadata": {},
     "outputs": [],
     "prompt_number": 42
    },
    {
     "cell_type": "code",
     "collapsed": false,
     "input": [],
     "language": "python",
     "metadata": {},
     "outputs": [],
     "prompt_number": 42
    }
   ],
   "metadata": {}
  }
 ]
}