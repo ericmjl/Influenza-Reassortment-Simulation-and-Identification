{
 "metadata": {
  "name": "",
  "signature": "sha256:4637873546871af8750f36fa2c44d5cecf2ac7f4b9911f6b7145eaad34966615"
 },
 "nbformat": 3,
 "nbformat_minor": 0,
 "worksheets": [
  {
   "cells": [
    {
     "cell_type": "code",
     "collapsed": false,
     "input": [
      "from pathogen import Pathogen\n",
      "from segment import Segment\n",
      "from sequence import Sequence\n",
      "from simulator import Simulator"
     ],
     "language": "python",
     "metadata": {},
     "outputs": [],
     "prompt_number": 1
    },
    {
     "cell_type": "code",
     "collapsed": false,
     "input": [
      "# Initialize sequences\n",
      "sequence_PB2 = Sequence(length=1000) #this is representative of segment 1, PB2\n",
      "sequence_H1 = Sequence(length=1000) #this is representative of segment 4, H1\n",
      "sequence_H2 = Sequence(length=1000) #this is representative of segment 4, H2"
     ],
     "language": "python",
     "metadata": {},
     "outputs": [],
     "prompt_number": 2
    },
    {
     "cell_type": "code",
     "collapsed": false,
     "input": [
      "# Initialize segments\n",
      "segment_PB2 = Segment(segment_number=1, substitution_rate=1E-3, sequence=sequence_PB2)\n",
      "segment_H1 = Segment(segment_number=4, substitution_rate=1E-2, sequence=sequence_H1)\n",
      "segment_H2 = Segment(segment_number=4, substitution_rate=1E-2, sequence=sequence_H2)"
     ],
     "language": "python",
     "metadata": {},
     "outputs": [],
     "prompt_number": 3
    },
    {
     "cell_type": "code",
     "collapsed": false,
     "input": [
      "# Add segments to seed viruses\n",
      "virus_H1 = Pathogen(segments=[segment_PB2, segment_H1], creation_time=0, progeny_size=(1.2, 0.5))\n",
      "virus_H2 = Pathogen(segments=[segment_PB2, segment_H2], creation_time=0, progeny_size=(1.2, 0.5))"
     ],
     "language": "python",
     "metadata": {},
     "outputs": [],
     "prompt_number": 4
    },
    {
     "cell_type": "code",
     "collapsed": false,
     "input": [
      "# Subclass the Simulator class for a specific implementation of the increment_timestep() function.\n",
      "from random import random, choice, sample\n",
      "class ViralSimulator(Simulator):\n",
      "    \n",
      "    def increment_timestep(self):\n",
      "        cointoss = random()\n",
      "        threshold = 0.8\n",
      "        \n",
      "        if cointoss <= threshold:\n",
      "            chosen_virus = choice(self.pathogens)\n",
      "            new_virus = chosen_virus.replicate(current_time=self.current_time)\n",
      "            \n",
      "        if cointoss > threshold:\n",
      "            [virus1, virus2] = sample(self.pathogens, 2)\n",
      "            new_virus = virus1.reassort_with(virus2, current_time=self.current_time)\n",
      "        \n",
      "        self.pathogens.append(new_virus)"
     ],
     "language": "python",
     "metadata": {},
     "outputs": [],
     "prompt_number": 5
    },
    {
     "cell_type": "code",
     "collapsed": false,
     "input": [
      "s = ViralSimulator()"
     ],
     "language": "python",
     "metadata": {},
     "outputs": [],
     "prompt_number": 6
    },
    {
     "cell_type": "code",
     "collapsed": false,
     "input": [
      "s.add_pathogens([virus_H1, virus_H2])"
     ],
     "language": "python",
     "metadata": {},
     "outputs": [],
     "prompt_number": 7
    },
    {
     "cell_type": "code",
     "collapsed": false,
     "input": [
      "s.run(timesteps=10)"
     ],
     "language": "python",
     "metadata": {},
     "outputs": [
      {
       "output_type": "stream",
       "stream": "stdout",
       "text": [
        "{f8600: [1, 4]}\n",
        "{2bd60: [1, 4]}\n",
        "{06ffe: [1, 4]}\n",
        "{f8600: [1, 4]}\n",
        "{2bd60: [1, 4]}\n",
        "{e139d: [1, 4]}\n"
       ]
      }
     ],
     "prompt_number": 8
    },
    {
     "cell_type": "code",
     "collapsed": false,
     "input": [
      "s.write_transmission_graph(outfile_name=\"outfile_test\", folder_name='Network Pickles')"
     ],
     "language": "python",
     "metadata": {},
     "outputs": [],
     "prompt_number": 9
    },
    {
     "cell_type": "code",
     "collapsed": false,
     "input": [
      "s.write_sequences(outfile_name=\"outfile_test\", folder_name='FASTA Files')"
     ],
     "language": "python",
     "metadata": {},
     "outputs": [],
     "prompt_number": 10
    },
    {
     "cell_type": "markdown",
     "metadata": {},
     "source": [
      "# Prototype code for Reconstructor class"
     ]
    },
    {
     "cell_type": "code",
     "collapsed": false,
     "input": [
      "from Bio import SeqIO"
     ],
     "language": "python",
     "metadata": {},
     "outputs": [],
     "prompt_number": 11
    },
    {
     "cell_type": "code",
     "collapsed": false,
     "input": [
      "# Initialize a dictionary that contains all of the sequences, split by segment.\n",
      "sequences_dictionary = dict()\n",
      "sequences_dictionary[1] = []\n",
      "sequences_dictionary[4] = []\n",
      "sequences_dictionary"
     ],
     "language": "python",
     "metadata": {},
     "outputs": [
      {
       "metadata": {},
       "output_type": "pyout",
       "prompt_number": 12,
       "text": [
        "{1: [], 4: []}"
       ]
      }
     ],
     "prompt_number": 12
    },
    {
     "cell_type": "code",
     "collapsed": false,
     "input": [
      "# Read in the sequences\n",
      "sequences = [record for record in SeqIO.parse('FASTA Files/outfile_test.fasta', 'fasta')]\n",
      "sequences"
     ],
     "language": "python",
     "metadata": {},
     "outputs": [
      {
       "metadata": {},
       "output_type": "pyout",
       "prompt_number": 13,
       "text": [
        "[SeqRecord(seq=Seq('ATAAAGTTCCCTATAAGTCGTACGCCTGAGGAGCATCATCCATTGACCTGACGT...CAG', SingleLetterAlphabet()), id='f860071ff6b4bdcf6ebc7c5896a80dbb55fb3e4f50b699491c8a6ff28df707bd3b937b8ade9c4401a5d84d261237bbe6e4edca8128bc3466c69f12fd68b09d78|1|0', name='f860071ff6b4bdcf6ebc7c5896a80dbb55fb3e4f50b699491c8a6ff28df707bd3b937b8ade9c4401a5d84d261237bbe6e4edca8128bc3466c69f12fd68b09d78|1|0', description='f860071ff6b4bdcf6ebc7c5896a80dbb55fb3e4f50b699491c8a6ff28df707bd3b937b8ade9c4401a5d84d261237bbe6e4edca8128bc3466c69f12fd68b09d78|1|0 <unknown description>', dbxrefs=[]),\n",
        " SeqRecord(seq=Seq('ACCAGGGAGCCTTTGAGCAGTAGTTTCTTAGTATACACGACTTAGCTTCCTTTG...GCG', SingleLetterAlphabet()), id='f860071ff6b4bdcf6ebc7c5896a80dbb55fb3e4f50b699491c8a6ff28df707bd3b937b8ade9c4401a5d84d261237bbe6e4edca8128bc3466c69f12fd68b09d78|4|0', name='f860071ff6b4bdcf6ebc7c5896a80dbb55fb3e4f50b699491c8a6ff28df707bd3b937b8ade9c4401a5d84d261237bbe6e4edca8128bc3466c69f12fd68b09d78|4|0', description='f860071ff6b4bdcf6ebc7c5896a80dbb55fb3e4f50b699491c8a6ff28df707bd3b937b8ade9c4401a5d84d261237bbe6e4edca8128bc3466c69f12fd68b09d78|4|0 <unknown description>', dbxrefs=[]),\n",
        " SeqRecord(seq=Seq('ATAAAGTTCCCTATAAGTCGTACGCCTGAGGAGCATCATCCATTGACCTGACGT...CAG', SingleLetterAlphabet()), id='2bd60a93d5c7423d2517494f56a983693268c3a3a2e4e5986da9aeb11d7d59c0cf828322a93c2dc0f7aee1980b62bfd3d7ab91d692b5e8cb5f6b83ee2afb456d|1|0', name='2bd60a93d5c7423d2517494f56a983693268c3a3a2e4e5986da9aeb11d7d59c0cf828322a93c2dc0f7aee1980b62bfd3d7ab91d692b5e8cb5f6b83ee2afb456d|1|0', description='2bd60a93d5c7423d2517494f56a983693268c3a3a2e4e5986da9aeb11d7d59c0cf828322a93c2dc0f7aee1980b62bfd3d7ab91d692b5e8cb5f6b83ee2afb456d|1|0 <unknown description>', dbxrefs=[]),\n",
        " SeqRecord(seq=Seq('ATCCAAAGTTAGATGTAGTCTTGGATTTAATGGGCGCTTTACACCTGAATGATC...CTG', SingleLetterAlphabet()), id='2bd60a93d5c7423d2517494f56a983693268c3a3a2e4e5986da9aeb11d7d59c0cf828322a93c2dc0f7aee1980b62bfd3d7ab91d692b5e8cb5f6b83ee2afb456d|4|0', name='2bd60a93d5c7423d2517494f56a983693268c3a3a2e4e5986da9aeb11d7d59c0cf828322a93c2dc0f7aee1980b62bfd3d7ab91d692b5e8cb5f6b83ee2afb456d|4|0', description='2bd60a93d5c7423d2517494f56a983693268c3a3a2e4e5986da9aeb11d7d59c0cf828322a93c2dc0f7aee1980b62bfd3d7ab91d692b5e8cb5f6b83ee2afb456d|4|0 <unknown description>', dbxrefs=[]),\n",
        " SeqRecord(seq=Seq('ATAAAGTTCCCTATAAGTCGTACGCCTGAGGAGCATCATCCATTGACCTGACGT...CAG', SingleLetterAlphabet()), id='06ffee85a82c3912c1e2ba58cf2fbf75c5466540179115ae2d4c7549bf6c044984fc0c53a3ba77c42cc9484016c5f9ed738dacacaeda89d7dfdd2f04021382d9|1|1', name='06ffee85a82c3912c1e2ba58cf2fbf75c5466540179115ae2d4c7549bf6c044984fc0c53a3ba77c42cc9484016c5f9ed738dacacaeda89d7dfdd2f04021382d9|1|1', description='06ffee85a82c3912c1e2ba58cf2fbf75c5466540179115ae2d4c7549bf6c044984fc0c53a3ba77c42cc9484016c5f9ed738dacacaeda89d7dfdd2f04021382d9|1|1 <unknown description>', dbxrefs=[]),\n",
        " SeqRecord(seq=Seq('ACCAGGGAGCCTTTGAGCAGTAGTTTCTTAGTATACACGACTTAGCTTCCTTTG...GCG', SingleLetterAlphabet()), id='06ffee85a82c3912c1e2ba58cf2fbf75c5466540179115ae2d4c7549bf6c044984fc0c53a3ba77c42cc9484016c5f9ed738dacacaeda89d7dfdd2f04021382d9|4|1', name='06ffee85a82c3912c1e2ba58cf2fbf75c5466540179115ae2d4c7549bf6c044984fc0c53a3ba77c42cc9484016c5f9ed738dacacaeda89d7dfdd2f04021382d9|4|1', description='06ffee85a82c3912c1e2ba58cf2fbf75c5466540179115ae2d4c7549bf6c044984fc0c53a3ba77c42cc9484016c5f9ed738dacacaeda89d7dfdd2f04021382d9|4|1 <unknown description>', dbxrefs=[]),\n",
        " SeqRecord(seq=Seq('ATAAAGTTCCCTATAAGTCGTACGCCTGAGGAGCATCATCCATTGACCTGACGT...CAG', SingleLetterAlphabet()), id='d17266c35cfcba54136affb11be5e7d6a2132b32c7aa5d2258cc5ff31bcee0eea2435a59a100ab26d386b50fc6b6b302f92af3ad0ccdd31938a530e7fd3c8755|1|2', name='d17266c35cfcba54136affb11be5e7d6a2132b32c7aa5d2258cc5ff31bcee0eea2435a59a100ab26d386b50fc6b6b302f92af3ad0ccdd31938a530e7fd3c8755|1|2', description='d17266c35cfcba54136affb11be5e7d6a2132b32c7aa5d2258cc5ff31bcee0eea2435a59a100ab26d386b50fc6b6b302f92af3ad0ccdd31938a530e7fd3c8755|1|2 <unknown description>', dbxrefs=[]),\n",
        " SeqRecord(seq=Seq('AGCCAAAGTTAGATGTAGTCTTGGATTTAATGGGCGCTTTACACCTGAATGAAC...CTG', SingleLetterAlphabet()), id='d17266c35cfcba54136affb11be5e7d6a2132b32c7aa5d2258cc5ff31bcee0eea2435a59a100ab26d386b50fc6b6b302f92af3ad0ccdd31938a530e7fd3c8755|4|2', name='d17266c35cfcba54136affb11be5e7d6a2132b32c7aa5d2258cc5ff31bcee0eea2435a59a100ab26d386b50fc6b6b302f92af3ad0ccdd31938a530e7fd3c8755|4|2', description='d17266c35cfcba54136affb11be5e7d6a2132b32c7aa5d2258cc5ff31bcee0eea2435a59a100ab26d386b50fc6b6b302f92af3ad0ccdd31938a530e7fd3c8755|4|2 <unknown description>', dbxrefs=[]),\n",
        " SeqRecord(seq=Seq('ATAAAGTTCCCTATAAGTCGTACGCCTGAGGAGCATCATCCATTGACCTGACGT...CAG', SingleLetterAlphabet()), id='01fdb0f7a0e522abf1d3cc6cb7cd109b741b35fa6cdc8dbc563fb3cbf23416264be8754327d50a000f4233d3c37c8af488bdf050190aaa4ab3e42363a2a10574|1|3', name='01fdb0f7a0e522abf1d3cc6cb7cd109b741b35fa6cdc8dbc563fb3cbf23416264be8754327d50a000f4233d3c37c8af488bdf050190aaa4ab3e42363a2a10574|1|3', description='01fdb0f7a0e522abf1d3cc6cb7cd109b741b35fa6cdc8dbc563fb3cbf23416264be8754327d50a000f4233d3c37c8af488bdf050190aaa4ab3e42363a2a10574|1|3 <unknown description>', dbxrefs=[]),\n",
        " SeqRecord(seq=Seq('ACCAGGGAGCCTTTGAGCAGTAGTTTCTTAGTATACACGACTTAGCTTCCTTTG...GCG', SingleLetterAlphabet()), id='01fdb0f7a0e522abf1d3cc6cb7cd109b741b35fa6cdc8dbc563fb3cbf23416264be8754327d50a000f4233d3c37c8af488bdf050190aaa4ab3e42363a2a10574|4|3', name='01fdb0f7a0e522abf1d3cc6cb7cd109b741b35fa6cdc8dbc563fb3cbf23416264be8754327d50a000f4233d3c37c8af488bdf050190aaa4ab3e42363a2a10574|4|3', description='01fdb0f7a0e522abf1d3cc6cb7cd109b741b35fa6cdc8dbc563fb3cbf23416264be8754327d50a000f4233d3c37c8af488bdf050190aaa4ab3e42363a2a10574|4|3 <unknown description>', dbxrefs=[]),\n",
        " SeqRecord(seq=Seq('ATAAAGTTCCCTATAAGTCGTACGCCTGAGGAGCATCATCCATTGACCTGACGT...CAG', SingleLetterAlphabet()), id='e139d755b21fd3e441414d320247d98c1950dd4f2ef8a717400fd63f307c470c930c337513a147c5eb1587c608499d477dd279913f809fed6bc504fc64a55029|1|4', name='e139d755b21fd3e441414d320247d98c1950dd4f2ef8a717400fd63f307c470c930c337513a147c5eb1587c608499d477dd279913f809fed6bc504fc64a55029|1|4', description='e139d755b21fd3e441414d320247d98c1950dd4f2ef8a717400fd63f307c470c930c337513a147c5eb1587c608499d477dd279913f809fed6bc504fc64a55029|1|4 <unknown description>', dbxrefs=[]),\n",
        " SeqRecord(seq=Seq('ACCAGGGAGCCTTTGAGCAGTAGTTTCTTAGTATACACGACTTAGCTTCCTTTG...GCG', SingleLetterAlphabet()), id='e139d755b21fd3e441414d320247d98c1950dd4f2ef8a717400fd63f307c470c930c337513a147c5eb1587c608499d477dd279913f809fed6bc504fc64a55029|4|4', name='e139d755b21fd3e441414d320247d98c1950dd4f2ef8a717400fd63f307c470c930c337513a147c5eb1587c608499d477dd279913f809fed6bc504fc64a55029|4|4', description='e139d755b21fd3e441414d320247d98c1950dd4f2ef8a717400fd63f307c470c930c337513a147c5eb1587c608499d477dd279913f809fed6bc504fc64a55029|4|4 <unknown description>', dbxrefs=[]),\n",
        " SeqRecord(seq=Seq('ATAAAGTTCCCTATAAGTCGTACGCCTGAGGAGCATCATCCATTGACCTGACGT...CAG', SingleLetterAlphabet()), id='64f44af56599890d496de1f7c8e50dd2ddb33e836270ce832158bb188086acce9fb1e380d8e2d9bee6934f934478a19df1f4fd66e2dc6601789d97f5b28e9719|1|5', name='64f44af56599890d496de1f7c8e50dd2ddb33e836270ce832158bb188086acce9fb1e380d8e2d9bee6934f934478a19df1f4fd66e2dc6601789d97f5b28e9719|1|5', description='64f44af56599890d496de1f7c8e50dd2ddb33e836270ce832158bb188086acce9fb1e380d8e2d9bee6934f934478a19df1f4fd66e2dc6601789d97f5b28e9719|1|5 <unknown description>', dbxrefs=[]),\n",
        " SeqRecord(seq=Seq('ACCAGGGAGCCTTTGAGCAGTAGTTTCTTAGTATACACGACTTAGCTTCCTTTG...GCG', SingleLetterAlphabet()), id='64f44af56599890d496de1f7c8e50dd2ddb33e836270ce832158bb188086acce9fb1e380d8e2d9bee6934f934478a19df1f4fd66e2dc6601789d97f5b28e9719|4|5', name='64f44af56599890d496de1f7c8e50dd2ddb33e836270ce832158bb188086acce9fb1e380d8e2d9bee6934f934478a19df1f4fd66e2dc6601789d97f5b28e9719|4|5', description='64f44af56599890d496de1f7c8e50dd2ddb33e836270ce832158bb188086acce9fb1e380d8e2d9bee6934f934478a19df1f4fd66e2dc6601789d97f5b28e9719|4|5 <unknown description>', dbxrefs=[]),\n",
        " SeqRecord(seq=Seq('ATAAAGTTCCCTATAAGTCGTACGCCTGAGGAGCATCATCCATTGACCTGACGT...CAG', SingleLetterAlphabet()), id='76b07fc4e6345386f5d0fcedd8ca243c56364f15d00e294976913a7279c86184495f62573275de9b98241fc7f682028cc6cc1f72a54da90425390477953bdab9|1|6', name='76b07fc4e6345386f5d0fcedd8ca243c56364f15d00e294976913a7279c86184495f62573275de9b98241fc7f682028cc6cc1f72a54da90425390477953bdab9|1|6', description='76b07fc4e6345386f5d0fcedd8ca243c56364f15d00e294976913a7279c86184495f62573275de9b98241fc7f682028cc6cc1f72a54da90425390477953bdab9|1|6 <unknown description>', dbxrefs=[]),\n",
        " SeqRecord(seq=Seq('ACCAGGGAGCCTTTGAGCAGTAGTTTCTTAGTATACACGACTTAGCTTCCTTTG...GCG', SingleLetterAlphabet()), id='76b07fc4e6345386f5d0fcedd8ca243c56364f15d00e294976913a7279c86184495f62573275de9b98241fc7f682028cc6cc1f72a54da90425390477953bdab9|4|6', name='76b07fc4e6345386f5d0fcedd8ca243c56364f15d00e294976913a7279c86184495f62573275de9b98241fc7f682028cc6cc1f72a54da90425390477953bdab9|4|6', description='76b07fc4e6345386f5d0fcedd8ca243c56364f15d00e294976913a7279c86184495f62573275de9b98241fc7f682028cc6cc1f72a54da90425390477953bdab9|4|6 <unknown description>', dbxrefs=[]),\n",
        " SeqRecord(seq=Seq('ATAAAGTTCCCTATAAGTCGTACGCCTGAGGAGCATCATCCATTGACCTGACGT...CAG', SingleLetterAlphabet()), id='1ed14e23620fccd5ce6539f53bb0463e6886691c6f4d8dc86e5c1cf93c9a41e474f8e7ddd516e618863424bc56f132ff1feeb9de50e7dc1d637d1030e35bf494|1|7', name='1ed14e23620fccd5ce6539f53bb0463e6886691c6f4d8dc86e5c1cf93c9a41e474f8e7ddd516e618863424bc56f132ff1feeb9de50e7dc1d637d1030e35bf494|1|7', description='1ed14e23620fccd5ce6539f53bb0463e6886691c6f4d8dc86e5c1cf93c9a41e474f8e7ddd516e618863424bc56f132ff1feeb9de50e7dc1d637d1030e35bf494|1|7 <unknown description>', dbxrefs=[]),\n",
        " SeqRecord(seq=Seq('ATCCAAAGTTAGATGTAGTCTTGGATTTAATGGGCGCTTTACACCTAAATGATC...CTG', SingleLetterAlphabet()), id='1ed14e23620fccd5ce6539f53bb0463e6886691c6f4d8dc86e5c1cf93c9a41e474f8e7ddd516e618863424bc56f132ff1feeb9de50e7dc1d637d1030e35bf494|4|7', name='1ed14e23620fccd5ce6539f53bb0463e6886691c6f4d8dc86e5c1cf93c9a41e474f8e7ddd516e618863424bc56f132ff1feeb9de50e7dc1d637d1030e35bf494|4|7', description='1ed14e23620fccd5ce6539f53bb0463e6886691c6f4d8dc86e5c1cf93c9a41e474f8e7ddd516e618863424bc56f132ff1feeb9de50e7dc1d637d1030e35bf494|4|7 <unknown description>', dbxrefs=[]),\n",
        " SeqRecord(seq=Seq('ATAAAGTTCCCTATAAGTCGTACGCCTGAGGAGCATCATCCATTGACCTGACGT...CAG', SingleLetterAlphabet()), id='5a71f5a174c83d4856fd07f041f8a6fee6235abdd1483e040bd015fdb13f329758c1f944dbbf5e987f06fcc442bb3747b5ec78d0e7e02b341e49f772656bf484|1|8', name='5a71f5a174c83d4856fd07f041f8a6fee6235abdd1483e040bd015fdb13f329758c1f944dbbf5e987f06fcc442bb3747b5ec78d0e7e02b341e49f772656bf484|1|8', description='5a71f5a174c83d4856fd07f041f8a6fee6235abdd1483e040bd015fdb13f329758c1f944dbbf5e987f06fcc442bb3747b5ec78d0e7e02b341e49f772656bf484|1|8 <unknown description>', dbxrefs=[]),\n",
        " SeqRecord(seq=Seq('ACCAGGGAGCCTTTGAGCAGTAGTTTCTTAGTATACACGACTTAGCTTCCTTTG...GCG', SingleLetterAlphabet()), id='5a71f5a174c83d4856fd07f041f8a6fee6235abdd1483e040bd015fdb13f329758c1f944dbbf5e987f06fcc442bb3747b5ec78d0e7e02b341e49f772656bf484|4|8', name='5a71f5a174c83d4856fd07f041f8a6fee6235abdd1483e040bd015fdb13f329758c1f944dbbf5e987f06fcc442bb3747b5ec78d0e7e02b341e49f772656bf484|4|8', description='5a71f5a174c83d4856fd07f041f8a6fee6235abdd1483e040bd015fdb13f329758c1f944dbbf5e987f06fcc442bb3747b5ec78d0e7e02b341e49f772656bf484|4|8 <unknown description>', dbxrefs=[]),\n",
        " SeqRecord(seq=Seq('ATAAAGTTCCCTATAAGTCGTACGCCTGAGGAGCATCATCCATTGACCTGACGT...CAG', SingleLetterAlphabet()), id='7446adea7c74e2e7dc86d7394279cb8d66b31532d3c74fcfa5ebf1a04e94b6b81998e8c3a2847434c7cff85f80d5d1ca912a396961dc125d62b86ede143917b7|1|9', name='7446adea7c74e2e7dc86d7394279cb8d66b31532d3c74fcfa5ebf1a04e94b6b81998e8c3a2847434c7cff85f80d5d1ca912a396961dc125d62b86ede143917b7|1|9', description='7446adea7c74e2e7dc86d7394279cb8d66b31532d3c74fcfa5ebf1a04e94b6b81998e8c3a2847434c7cff85f80d5d1ca912a396961dc125d62b86ede143917b7|1|9 <unknown description>', dbxrefs=[]),\n",
        " SeqRecord(seq=Seq('ACCAGGGAGCCTTTGAGCAGTAGTTTCTTAGTATACACGTCTTAGCTTCCTTTG...GCG', SingleLetterAlphabet()), id='7446adea7c74e2e7dc86d7394279cb8d66b31532d3c74fcfa5ebf1a04e94b6b81998e8c3a2847434c7cff85f80d5d1ca912a396961dc125d62b86ede143917b7|4|9', name='7446adea7c74e2e7dc86d7394279cb8d66b31532d3c74fcfa5ebf1a04e94b6b81998e8c3a2847434c7cff85f80d5d1ca912a396961dc125d62b86ede143917b7|4|9', description='7446adea7c74e2e7dc86d7394279cb8d66b31532d3c74fcfa5ebf1a04e94b6b81998e8c3a2847434c7cff85f80d5d1ca912a396961dc125d62b86ede143917b7|4|9 <unknown description>', dbxrefs=[])]"
       ]
      }
     ],
     "prompt_number": 13
    },
    {
     "cell_type": "code",
     "collapsed": false,
     "input": [
      "# Append the sequences to the dictionary.\n",
      "# This can be written into a function.\n",
      "split_char = '|' # The character that will be used to split the SeqRecord.id string\n",
      "pos_segment_num = 1 # The position of the segment number after splitting by the split_char\n",
      "\n",
      "for sequence in sequences:\n",
      "    segment_number = int(sequence.id.split(split_char)[pos_segment_num])\n",
      "    sequences_dictionary[segment_number].append(sequence)\n",
      "\n",
      "# sequences_dictionary"
     ],
     "language": "python",
     "metadata": {},
     "outputs": [],
     "prompt_number": 14
    },
    {
     "cell_type": "code",
     "collapsed": false,
     "input": [
      "# Create a NetworkX graph using one segment's sequences, and add nodes.\n",
      "import networkx as nx\n",
      "\n",
      "G = nx.DiGraph()\n",
      "\n",
      "splitchar = '|'\n",
      "pos_id = 0\n",
      "pos_segment_num = 1\n",
      "pos_creation_time = 2\n",
      "\n",
      "segment_number = 4\n",
      "\n",
      "for sequence in sequences_dictionary[segment_number]:\n",
      "    [isolate_id, segment_num, creation_time] = sequence.id.split(splitchar)\n",
      "    G.add_node(isolate_id[0:5], sequence=sequence.seq, id=isolate_id, segment_num=int(segment_num), creation_time=int(creation_time))\n",
      "\n",
      "# at this point, we would return G, and append it to the dictionary of Graphs available.\n",
      "# G.nodes(data=True)"
     ],
     "language": "python",
     "metadata": {},
     "outputs": [],
     "prompt_number": 15
    },
    {
     "cell_type": "code",
     "collapsed": false,
     "input": [
      "# Add edges to the graph, based on the Levenshtein distance between two sequences.\n",
      "import Levenshtein\n",
      "for node1 in G.nodes(data=True):\n",
      "    for node2 in G.nodes(data=True):\n",
      "        if node1[1]['creation_time'] < node2[1]['creation_time']:\n",
      "            weight = Levenshtein.distance(str(node1[1]['sequence']), str(node2[1]['sequence']))\n",
      "            G.add_edge(node1[0], node2[0], weight=weight)"
     ],
     "language": "python",
     "metadata": {},
     "outputs": [],
     "prompt_number": 16
    },
    {
     "cell_type": "code",
     "collapsed": false,
     "input": [
      "# Prune graph by distance.\n",
      "for node in G.nodes(data=True):\n",
      "    in_edges = G.in_edges(node[0], data=True)\n",
      "#     print in_edges\n",
      "    if len(in_edges) != 0:\n",
      "        min_weight = min([edge[2]['weight'] for edge in in_edges])\n",
      "        print min_weight\n",
      "        print node\n",
      "        for edge in in_edges:\n",
      "            if edge[2]['weight'] != min_weight:\n",
      "                G.remove_edge(edge[0], edge[1])"
     ],
     "language": "python",
     "metadata": {},
     "outputs": [
      {
       "output_type": "stream",
       "stream": "stdout",
       "text": [
        "11\n",
        "('5a71f', {'segment_num': 4, 'creation_time': 8, 'id': '5a71f5a174c83d4856fd07f041f8a6fee6235abdd1483e040bd015fdb13f329758c1f944dbbf5e987f06fcc442bb3747b5ec78d0e7e02b341e49f772656bf484', 'sequence': Seq('ACCAGGGAGCCTTTGAGCAGTAGTTTCTTAGTATACACGACTTAGCTTCCTTTG...GCG', SingleLetterAlphabet())})\n",
        "12\n",
        "('d1726', {'segment_num': 4, 'creation_time': 2, 'id': 'd17266c35cfcba54136affb11be5e7d6a2132b32c7aa5d2258cc5ff31bcee0eea2435a59a100ab26d386b50fc6b6b302f92af3ad0ccdd31938a530e7fd3c8755', 'sequence': Seq('AGCCAAAGTTAGATGTAGTCTTGGATTTAATGGGCGCTTTACACCTGAATGAAC...CTG', SingleLetterAlphabet())})\n",
        "6\n",
        "('01fdb', {'segment_num': 4, 'creation_time': 3, 'id': '01fdb0f7a0e522abf1d3cc6cb7cd109b741b35fa6cdc8dbc563fb3cbf23416264be8754327d50a000f4233d3c37c8af488bdf050190aaa4ab3e42363a2a10574', 'sequence': Seq('ACCAGGGAGCCTTTGAGCAGTAGTTTCTTAGTATACACGACTTAGCTTCCTTTG...GCG', SingleLetterAlphabet())})\n",
        "5\n",
        "('e139d', {'segment_num': 4, 'creation_time': 4, 'id': 'e139d755b21fd3e441414d320247d98c1950dd4f2ef8a717400fd63f307c470c930c337513a147c5eb1587c608499d477dd279913f809fed6bc504fc64a55029', 'sequence': Seq('ACCAGGGAGCCTTTGAGCAGTAGTTTCTTAGTATACACGACTTAGCTTCCTTTG...GCG', SingleLetterAlphabet())})\n",
        "11\n",
        "('7446a', {'segment_num': 4, 'creation_time': 9, 'id': '7446adea7c74e2e7dc86d7394279cb8d66b31532d3c74fcfa5ebf1a04e94b6b81998e8c3a2847434c7cff85f80d5d1ca912a396961dc125d62b86ede143917b7', 'sequence': Seq('ACCAGGGAGCCTTTGAGCAGTAGTTTCTTAGTATACACGTCTTAGCTTCCTTTG...GCG', SingleLetterAlphabet())})\n",
        "8\n",
        "('06ffe', {'segment_num': 4, 'creation_time': 1, 'id': '06ffee85a82c3912c1e2ba58cf2fbf75c5466540179115ae2d4c7549bf6c044984fc0c53a3ba77c42cc9484016c5f9ed738dacacaeda89d7dfdd2f04021382d9', 'sequence': Seq('ACCAGGGAGCCTTTGAGCAGTAGTTTCTTAGTATACACGACTTAGCTTCCTTTG...GCG', SingleLetterAlphabet())})\n",
        "6\n",
        "('76b07', {'segment_num': 4, 'creation_time': 6, 'id': '76b07fc4e6345386f5d0fcedd8ca243c56364f15d00e294976913a7279c86184495f62573275de9b98241fc7f682028cc6cc1f72a54da90425390477953bdab9', 'sequence': Seq('ACCAGGGAGCCTTTGAGCAGTAGTTTCTTAGTATACACGACTTAGCTTCCTTTG...GCG', SingleLetterAlphabet())})\n",
        "8\n",
        "('1ed14', {'segment_num': 4, 'creation_time': 7, 'id': '1ed14e23620fccd5ce6539f53bb0463e6886691c6f4d8dc86e5c1cf93c9a41e474f8e7ddd516e618863424bc56f132ff1feeb9de50e7dc1d637d1030e35bf494', 'sequence': Seq('ATCCAAAGTTAGATGTAGTCTTGGATTTAATGGGCGCTTTACACCTAAATGATC...CTG', SingleLetterAlphabet())})\n",
        "10\n",
        "('64f44', {'segment_num': 4, 'creation_time': 5, 'id': '64f44af56599890d496de1f7c8e50dd2ddb33e836270ce832158bb188086acce9fb1e380d8e2d9bee6934f934478a19df1f4fd66e2dc6601789d97f5b28e9719', 'sequence': Seq('ACCAGGGAGCCTTTGAGCAGTAGTTTCTTAGTATACACGACTTAGCTTCCTTTG...GCG', SingleLetterAlphabet())})\n"
       ]
      }
     ],
     "prompt_number": 17
    },
    {
     "cell_type": "code",
     "collapsed": false,
     "input": [
      "nx.draw_circular(G)"
     ],
     "language": "python",
     "metadata": {},
     "outputs": [
      {
       "metadata": {},
       "output_type": "display_data",
       "png": "[encoded data removed]",
       "text": [
        "<matplotlib.figure.Figure at 0x106327150>"
       ]
      }
     ],
     "prompt_number": 18
    },
    {
     "cell_type": "markdown",
     "metadata": {},
     "source": [
      "# Test Reconstructor Class"
     ]
    },
    {
     "cell_type": "code",
     "collapsed": false,
     "input": [
      "from reconstructor import Reconstructor\n",
      "import networkx as nx"
     ],
     "language": "python",
     "metadata": {},
     "outputs": [],
     "prompt_number": 19
    },
    {
     "cell_type": "code",
     "collapsed": false,
     "input": [
      "r = Reconstructor(segments=[1, 4])\n",
      "print r.sequences\n",
      "print r.graphs"
     ],
     "language": "python",
     "metadata": {},
     "outputs": [
      {
       "output_type": "stream",
       "stream": "stdout",
       "text": [
        "{1: [], 4: []}\n",
        "{1: <networkx.classes.digraph.DiGraph object at 0x1063921d0>, 4: <networkx.classes.digraph.DiGraph object at 0x106392150>}\n"
       ]
      }
     ],
     "prompt_number": 20
    },
    {
     "cell_type": "code",
     "collapsed": false,
     "input": [
      "fasta_file = 'FASTA Files/outfile_test.fasta'\n",
      "r.read_fasta_file(fasta_file)"
     ],
     "language": "python",
     "metadata": {},
     "outputs": [],
     "prompt_number": 21
    },
    {
     "cell_type": "code",
     "collapsed": false,
     "input": [
      "r.add_nodes_with_data()\n",
      "r.add_edges_with_weight()\n",
      "r.prune_graphs_by_weight()\n",
      "r.compose_segment_graphs()\n",
      "r.condense_composed_segment_graphs()\n",
      "r.prune_condensed_graph()"
     ],
     "language": "python",
     "metadata": {},
     "outputs": [],
     "prompt_number": 22
    },
    {
     "cell_type": "code",
     "collapsed": false,
     "input": [
      "r.condensed_graph.edges(data=True)"
     ],
     "language": "python",
     "metadata": {},
     "outputs": [
      {
       "metadata": {},
       "output_type": "pyout",
       "prompt_number": 23,
       "text": [
        "[('e139d', '5a71f', {'segments': [1, 4], 'weight': 11}),\n",
        " ('06ffe', '01fdb', {'segments': [1, 4], 'weight': 8}),\n",
        " ('06ffe', 'e139d', {'segments': [1, 4], 'weight': 6}),\n",
        " ('f8600', '06ffe', {'segments': [1, 4], 'weight': 8}),\n",
        " ('f8600', '76b07', {'segments': [1, 4], 'weight': 7}),\n",
        " ('f8600', '64f44', {'segments': [1, 4], 'weight': 10}),\n",
        " ('76b07', '7446a', {'segments': [1, 4], 'weight': 14}),\n",
        " ('2bd60', 'd1726', {'segments': [1, 4], 'weight': 13}),\n",
        " ('2bd60', '1ed14', {'segments': [1, 4], 'weight': 8})]"
       ]
      }
     ],
     "prompt_number": 23
    },
    {
     "cell_type": "code",
     "collapsed": false,
     "input": [
      "r.condensed_graph.nodes(data=True)"
     ],
     "language": "python",
     "metadata": {},
     "outputs": [
      {
       "metadata": {},
       "output_type": "pyout",
       "prompt_number": 24,
       "text": [
        "[('5a71f',\n",
        "  {'creation_time': '8',\n",
        "   'id': '5a71f5a174c83d4856fd07f041f8a6fee6235abdd1483e040bd015fdb13f329758c1f944dbbf5e987f06fcc442bb3747b5ec78d0e7e02b341e49f772656bf484',\n",
        "   'segment_number': '4',\n",
        "   'sequence_1': 'ATAAAGTTCCCTATAAGTCGTACGCCTGAGGAGCATCATCCATTGACCTGACGTTGCGGACTCAAAAGCTAATAGTTACCCTTATAAGGCGAAAGAGCCCTTGGATCCCCGTTCCAAATCATTGGAAATGGGTTGATTTTGGAAGTTCTGAAGAGTCGCAGGTAGTTAGCCGAAAAAGCCATCCTCCCGATCCAACCAAGATGCGCCGCCGCGCCTAAGAGAAACCGCGGACCGGTGACCCTATCCTACAGGCCTCACTAAGTTTACCCACACAAAGGTGATCGCAAACATCGCTGTGAACTACTACTAGCCACCCGGATTGCGTTTCGGAAAAACCAGCCACATTAGAAGACATATGCAATGTCGCAAGGATTTACCTTGGGGGTCGACCTTTTACTCTTATTTAATGAAAGTAACTCAGGCCGTTTCTAGCCCCTTGCAGGGTAGTACGGAATAGAAACTTGAGGGGTCGAAGTGCTTAGTCCCATGCCATAATCACCAGAAAGCTGTCCAGAAGAAGCTATTTGAGTCGGCGAAATATCGTACGCCGCAGCAAGTATCAGCTCTAGCTTCGGATAAGCTGCAGCGCTGGTTTGGGGTATTGTATCGCCGACCATCTAGTTGTTGTAATAAGCGGTTCCCATGTCAGAGTGGGCCCTAACGTGGGGGGCATGCGCCCCATATGAACGACGTAGGAAATTCCCGGCCGATCCGTAACTACGGACCGTCACACGTTTGGTGGAGCCAAGCGTGAGAGCAGAGGCTGGTTGGTCGAGCAGCTAGAGATCGCGAGCTTCGTTTCACGCTAGGTAGGCCAATCAATGGGGAACCCGATCACTCATGATTGTTTAGCTTCTTTCCGTAGATCAGGTTCCCCTCTTTGCAGTCTTCCACCGTCTTTGCTTCGTTGTCGTGAGTCAATTCCTCGACTGTTCTCTGAGCTATCGGATAGTAACTGCGAGTCGCTTTCAGTGTACCGGGCGTGCTTTCATTAAGACAG',\n",
        "   'sequence_4': 'ACCAGGGAGCCTTTGAGCAGTAGTTTCTTAGTATACACGACTTAGCTTCCTTTGAGCTGTCGAGGTGACTGTATGCTGTAACACCTCACGGTAACTGGCCGATGAGAAGAGGGACCTTGTCTTTAGTGGTGATTCACTCGCTTATCACCCGGTACAGACCTCTCACTAAGTGCGCGTACACTCGCTTAACGGACAGCTTTTACACCTGCTAGGGGAGCGACCCCAAACGGTTACACGATAGCTCAGATCGCAACAACTCCCCGAGTGAGTGATATGCTCAATTCGAGACATACGCTCGGTCGCTGCTTACCCTAGTTTACCTTGCATAAGACTAAAAGACAAAAGAGGCCCAGTTGCTTAGGAATCTAAAAAGAGTAGCTGTAACCGGCCTGATGACACAAATACTTCATCAACGAACCGCGGCATCATATGACGGGGGTTAGTGCAAGTACACCTAAGACGGGGCCAACTGCCGATTGATATGCTGGGTCTTCCTCCAGACACCGTCCAGAGCCGGCGAGCAGAATTCAGCCTTTACCGTCCCTTACGCAAATGCGGATACGTGAACTGTGTCGCAATGCAAGCCAACAAGTATAACGACCCTAAGCGGTACGCTTGTGACAGCCCGCCCTGTCAAGATAAGGTGACATCAACCCACCTTGCTAGAGAATAGGGGTGCAGTTCAGCGGTTTCGGGATCGCTAGTGGGTGATAAAAGTGGCCATTCAGAACGGTGATATGCCGGCGATTGGGCTTCGTGAAATTCAGCCTTAGCAGGTCTAAGCGCTGGATATTGGGATGGTCTATCACGTGTAGTTGTAGGGGAATTCGAGCGCGTCGGGACGCACGTTTCGGAGCACAAAACCCGTCCTCAGTGACTTCCCAGCTGATTCGGAGTGCTATATGCGGGGACAAACTGAATCTTCATGGGCCCTGTTGCCACGTCAGAGGGGACGAAGTTGGTGTACCCGACCCCCCACATATCGTGGGATACTTCCGCG'}),\n",
        " ('d1726',\n",
        "  {'creation_time': '2',\n",
        "   'id': 'd17266c35cfcba54136affb11be5e7d6a2132b32c7aa5d2258cc5ff31bcee0eea2435a59a100ab26d386b50fc6b6b302f92af3ad0ccdd31938a530e7fd3c8755',\n",
        "   'segment_number': '4',\n",
        "   'sequence_1': 'ATAAAGTTCCCTATAAGTCGTACGCCTGAGGAGCATCATCCATTGACCTGACGTTGCGGACTCAAAAGCTAATAGTTACCCTTATAAGGCGAAAGAGCCCTTGGATCCCCGTTCCAAATCATTGGAAATGGGTTGATTTTGGAAGTTCTGAAGAGTCGCAGGTAGTTAGCCGAAAAAGCCATCCTCCCGATCCAACCAAGATGCGCCGCCGCGCCTAAGAGAAACCGCGGACCGGTGACCCTATCCTACAGGCCTCACTAAGTTTACCCACACAAAGGTGATCGCAAACATCGCTGTGAACTACTACTAGCCACCCGGATTGCGTTTCGGAAAAACCAGCCACATTAGAAGACATATGCAATGTCGCAAGGATTTACCTTGGGGGTCGACCTTTTACTCTTATTTAATGAAAGTAACTCAGGCCGTTTCTAGCCCCTTGCAGGGTAGTACGGAATAGAAACTTGAGGGGTCGAAGTGCTTAGTCCCATGCCATAATCACCAGAAAGCTGTCCAGAAGAAGCTATTTGAGTCGGCGAAATATCGTACGCCGCAGCAAGTATCAGCTCTAGCTTCGGATAAGCTGCAGCGCTGGTTTGGGGTATTGTATCGCCGACCATCTAGTTGTTGTAATAAGCGGTTCCCATGTCAGAGTGGGCCCTAACGTGGGGGGCATGCGCCCCATATGAACGACGTAGGAAATTCCCGGCCGATCCGTAACTACGGACCGTCACACGTTTGGTGGAGCCAAGCGTGAGAGCAGAGGCTGGTTGGTCGAGCAGCTAGAGATCGCGAGCTTCGTTTCACGCTAGGTAGGCCAATCAATGGGGAACCCGATCACTCATGATTGTTTAGCTTCTTTCCGTAGATCAGGTTCCCCTCTTTGCAATCTTCCACCGTCTTTGCTTCGTTGTCGTGAGTCAATTCCTCGACTGTTCTCTGAGCTATCGGATAGTAACTGCGAGTCGCTTTCAGTGTACCGGGCGTGCTTTTATTAAGACAG',\n",
        "   'sequence_4': 'AGCCAAAGTTAGATGTAGTCTTGGATTTAATGGGCGCTTTACACCTGAATGAACGGACGCGAGACTCCCGGGTGCACACGGAGAGTATCTATGTCTCTCGGGTAGTGCAGAACTCGCTAATATCTATTATCAAGACAATCCCTTGTATAATAGATCCTTCATCGATAGTCGATCGAAAGCACCCAGATGCCCGCGTTAATAGAGCAGCATAAGAATCATTCAGCGCGACAGAGTACATTAGTGTATGCAGCGTCATCTTTAACGGTTGTTCTATTATAACTACTACGAAACTGATCTCGGGACAGGGATTAGTTAACCCTTATCCGAAGCCTCAGATTTCGGTCGTGTGGTGCGGGGACGCGGTCTATATAATGACGTCTTCTGCGCGAAAATGACTAGTCCTATGGCTGGCTTTGTCTCGGGCCCTAATAATCACTCGAACAATCGGGTCTAGATATAGTACGCAGCGACAGCGGGATCGACATTGCCGAGCACTTCCCCGCGGATTTGGGCAGTTTGCAAGTCTCCGGCCATCGAGATTGGACGACTAAGATCGGCCTCGATGAGCGAGCGCTCTCTCACCCACACTGCAGGAAACCCAGTCACTGGGAGGAGCAAAGGGTAACCGAATCCTAGGGCTTCTATGAGTTCGCGTCACCGGGAATTATTGTCCGCTAAGTAAATCTTGCTCGACGTAGCTTGAACGGTATCAGGTATCACTGGTCGATCAAAAATGAGTTGACGTAACACGTTTAACACTGAGAATAATGTCTTTGTGAGCAGCGACGTCGGTTTTAAAACCACCAATTTTCGGGAAGTGCATCACCATCTAACCGGTGCCAAGGAAACCAGTTGTCATAATGATAAAAGACATCTCAGTGTATCGATTCCAATAACTCTTTCAAGGAACATCGAATTACATAAGGGGCTCAAGCGCTCCCCTTACGTGTGGGGCTTTTTGCTCCCTCTTTATTAGGCGCAGTTATCTTTGGTTGTTCTG'}),\n",
        " ('01fdb',\n",
        "  {'creation_time': '3',\n",
        "   'id': '01fdb0f7a0e522abf1d3cc6cb7cd109b741b35fa6cdc8dbc563fb3cbf23416264be8754327d50a000f4233d3c37c8af488bdf050190aaa4ab3e42363a2a10574',\n",
        "   'segment_number': '4',\n",
        "   'sequence_1': 'ATAAAGTTCCCTATAAGTCGTACGCCTGAGGAGCATCATCCATTGACCTGACGTTGCGGACTCAAAAGCTAATAGTTACCCTTATAAGGCGAAAGAGCCCTTGGATCCCCGTTCCAAATCATTGGAAATGGGTTGATTTTGGAAGTTCTGAAGAGTCGCAGGTAGTTAGCCGAAAAAGCCATCCTCCCGATCCAACCAAGATGCGCCGCCGCGCCTAAGAGAAACCGCGGACCGGTGACCCTATCCTACAGGCCTCACTAAGTTTACCCACACAAAGGTGATCGCAAACATCGCTGTGAACTACTACTAGCCACCCGGATTGCGTTTCGGAAAAACCAGCCACATTAGAAGACATATGCAATGTCGCAAGGATTTACCTTGGGGGTCGACCTTTTACTCTTATTTAATGAAAGTAACTCAGGCCGTTTCTAGCCCCTTGCAGGGTAGTACGGAATAGAAACTTGAGGGGTCGAAGTGCTTAGTCCCATGCCATAATCACCAGAAAGCTGTCCAGAAGAAGCTATTTGAGTCGGCGAAATATCGTACGCCGCAGCAAGTATCAGCTCTAGCTTCGGATAAGCTGCAGCGCTGGTTTGGGGTATTGTATCGCCGACCATCTAGTTGTTGTAATAAGCGGTTCCCATGTCAGAGTGGGCCCTAACGTGGGGGGCATGCGCCCCATATGAACGACGTAGGAAATTCCCGGCCGATCCGTAACTACGGACCGTCACACGTTTGGTGGAGCCAAGCGTGAGAGCAGAGGCTGGTTGGTCGAGCAGCTAGAGATCGCGAGCTTCGTTTCACGCTAGGTAGGCCAATCAATGGGGAACCCGATCACTCATGATTGTTTAGCTTCTTTCCGTAGATCAGGTTCCCCTCTTTGCAGTCTTCCACCGTCTTTGCTTCGTTGTCGTGAGTCAATTCCTCGACTGTTCTCTGAGCTATCGGATAGTAACTGCGAGTCGCTTTCAGAGTACCGGGCGTGCTTTTATTAAGGCAG',\n",
        "   'sequence_4': 'ACCAGGGAGCCTTTGAGCAGTAGTTTCTTAGTATACACGACTTAGCTTCCTTTGAGCTGTCGAGGTGACTGTATGCTGTAACACCTCACGGTAACTGGCCGATGAGAAGAGGAAACTTGTCTTTAGTGGTGATTCACTCGCTTATCACCCGGTACAGACCTCTCACTAAGTGCGCGTACACTCGCTTAACGGACAGCTTTTACACCTGCTAGGGGAGCGACCCCAAACGGTTACACGATAGCTCAGACCGCAACGACTCCCCGAGTGAGAGATATGCTCAATTCGAGACATACGCTCGGTCGTTGCTTACCCTAGTTTACCTTGCATAAGACTAAAAGACAAAAGAGGCCCAGTTGCTTAGGAATCTAAAAAGAGTAGCTGTAACCGGCCTGATGACACAAATACTTCATCAACGCACTGCGGCATCATATGACGGGGGTTAGTGCTAGTACACCTAAGACGGGGCCAACTGCCGATTGATATGCTGGGTCTTCCTCCAGACACCGTCCAGAGCCGGCTAGCAGAATTCAGCCTTTGCCGTCCCATACGCAAATGCGGATACGTGAAATGTGTCGCAATGCAAGCCAACAAGTATAACGACCCTAAGCGGTACGCTTGGGACAGCCCGCCCTGTCAAGATAAGGTGATATCAACCCACCTTGCTAGAGAATAGGGGTGCAGTTCAGCAGTTTCGGGATCGCTAGTGGGTGATAAAAATGGCCATTCAGAACGGTGATAAGCCGGCGATTGGGCTTCGTGAAATTCAGCCTTAGCGGGTCTAAGCGCTGGATACTGGGATGGTCTATCAGGTGTAGTTGTAGGGGAATTCGAGCGCGTCGGGACGCACGTTACGGAGCACAAAACCCGTCCTCAGTGACTTCCCAGCTGATTCGGAGTGCTATATGCGGGGACAAACTGAATCTTCATGGGCCCTGTTGCCACGTCAGAGGGGACGAAGTTGGTGTACCCGACCCCCCACATATCGTGGGATACTTCCGCG'}),\n",
        " ('e139d',\n",
        "  {'creation_time': '4',\n",
        "   'id': 'e139d755b21fd3e441414d320247d98c1950dd4f2ef8a717400fd63f307c470c930c337513a147c5eb1587c608499d477dd279913f809fed6bc504fc64a55029',\n",
        "   'segment_number': '4',\n",
        "   'sequence_1': 'ATAAAGTTCCCTATAAGTCGTACGCCTGAGGAGCATCATCCATTGACCTGACGTTGCGGACTCAAAAGCTAATAGTTACCCTTATAAGGCGAAAGAGCCCTTGGATCCCCGTTCCAAATCATTGGAAATGGGTTGATTTTGGAAGTTCTGAAGAGTCGCAGGTAGTTAGCCGAAAAAGCCATCCTCCCGATCCAACCAAGATGCGCCGCCGCGCCTAAGAGAAACCGCGGACCGGTGACCCTATCCTACAGGCCTCACTAAGTTTACCCACACAAAGGTGATCGCAAACATCGCTGTGAACTACTACTAGCCACCCGGATTGCGTTTCGGAAAAACCAGCCACATTAGAAGACATATGCAATGTCGCAAGGATTTACCTTGGGGGTCGACCTTTTACTCTTATTTAATGAAAGTAACTCAGGCCGTTTCTAGCCCCTTGCAGGGTAGTACGGAATAGAAACTTGAGGGGTCGAAGTGCTTAGTCCCATGCCATAATCACCAGAAAGCTGTCCAGAAGAAGCTATTTGAGTCGGCGAAATATCGTACGCCGCAGCAAGTATCAGCTCTAGCTTCGGATAAGCTGCAGCGCTGGTTTGGGGTATTGTATCGCCGACCATCTAGTTGTTGTAATAAGCGGTTCCCATGTCAGAGTGGGCCCTAACGTGGGGGGCATGCGCCCCATATGAACGACGTAGGAAATTCCCGGCCGATCCGTAACTACGGACCGTCACACGTTTGGTGGAGCCAAGCGTGAGAGCAGAGGCTGGTTGGTCGAGCAGCTAGAGATCGCGAGCTTCGTTTCACGCTAGGTAGGCCAATCAATGGGGAACCCGATCACTCATGATTGTTTAGCTTCTTTCCGTAGATCAGGTTCCCCTCTTTGCAGTCTTCCACCGTCTTTGCTTCGTTGTCGTGAGTCAATTCCTCGACTGTTCTCTGAGCTATCGGATAGTAACTGCGAGTCGCTTTCAGTGTACCGGGCGTGCTTTCATTAAGACAG',\n",
        "   'sequence_4': 'ACCAGGGAGCCTTTGAGCAGTAGTTTCTTAGTATACACGACTTAGCTTCCTTTGAGCTGTCGAGGTGACTGTATGCTGTAACACCTCACGGTAACTGGCCGATGAGAAGAGGGACCTTGTCTTTAGTGGTGATTCACTCGCTTATCACCCGGTACAGACCTCTCACTAAGTGCGCGTACACTCGCTTAACGGACAGCTTTTACACCTGCTAGGGGAGCGACCCCAAACGGTTACACGATAGCTCAGATCGCAACGACTCCCCGAGTGAGAGATATGCTCAATTCGAGACATACGCTCGGTCGTTGCTTACCCTAGTTTACCTTGCATAAGACTAAAAGACAAAAGAGGCCCAGTTGCTTAGGAATCTAAAAAGAGTAGCTGTAACCGGCCTGATGACACAAATACTTCATCAACGAACTGCGGCATCATATGACGGGGGTTAGTGCAAGTACACCTAAGACGGGGCCAACTGCCGATTGATATGCTGGGTCTTCCTCCAGACACCGTCCAGAGCCGGCGAGCAGAATTCAGCCTTTACCGTCCCATACGCAAATGCGGATACGTGAAATGTGTCGCAATGCAAGCCAACAAGTATAACGACCCTAAGCGGTACGCTTGGGACAGCCCGCCCTGTCAAGATAAGGTGATATCAACCCACCTTGCTAGAGAATAGGGGTGCAGTTCAGCGGTTTCGGGATCGCTAGTGGGTGATAAAAATGGCCATTCAGAACGGTGATATGCCGGCGATTGGGCTTCGTGAAATTCAGCCTTAGCAGGTCTAAGCGCTGGATACTGGGATGGTCTATCAGGTGTAGTTGTAGGGGAATTCGAGCGCGTCGGGACGCACGTTTCGGAGCACAAAACCCGTCCTCAGTGACTTCCCAGCTGATTCGGAGTGCTATATGCGGGGACAAACTGAATCTTCATGGGCCCTGTTGCCACGTCAGAGGGGACGAAGTTGGTGTACCCGACCCCCCACATATCGTGGGATACTTCCGCG'}),\n",
        " ('7446a',\n",
        "  {'creation_time': '9',\n",
        "   'id': '7446adea7c74e2e7dc86d7394279cb8d66b31532d3c74fcfa5ebf1a04e94b6b81998e8c3a2847434c7cff85f80d5d1ca912a396961dc125d62b86ede143917b7',\n",
        "   'segment_number': '4',\n",
        "   'sequence_1': 'ATAAAGTTCCCTATAAGTCGTACGCCTGAGGAGCATCATCCATTGACCTGACGTTGCGGACTCAAAAGCTAATAGTTACCCTTATAAGGCGAAAGAGCCCTTGGATCCCCGTTCCAAATCATTGGAAATGGGTTGATTTTGGAAGTTCTGAAGAGTCGCAGGTAGTTAGCCGAAAAAGCCATCCTTCCGATCCAACCAAGATGCGCCGCCGCGCCTAAGAGAAACCGCGGACCGGTGACCCTATCCTACAGGCCTCACTAAGTTTACCCACACAAAGGTGATCGCAAACATCGCTGTGAACTACTACTAGCCACCCGGATTGCGTTTCGGAAAAACCAGCCACATTAGAAGACATATGCAATGTCGCAATGATTTACCTTGGGGGTCGACCTTTTACTCTTATTTAATGAAAGTAACTCAGGCCGTTTCTAGCCCCTTGCAGGGTAGTACGGAATAGAAACTTGAGGGGTCGAAGTGCTTAGTCCCATGCCATAATCACCAGAAAGCTGTCCAGAAGAAGCTATTTGAGTCGGCGAAATATCGTACGCCGCAGCAAGTATCAGCTCTAGCTTCGGATAAGCTGCAGCGCTGGTTTGGGGTATTGTATCGCCGACCATCTAGTTGTTGTAATAAGCGGTTCCCATGTCAGAGTGGGCCCTAACGTGGGGGGCATGCGCCCCATATGAACGACGTAGGAAATTCCCGGCCGATCCGTAACTACGGACCGTCACACGTTTGGTGGAGCCAAGCGTGAGAGCAGAGGCTGGTTGGTCGAGCAGCTAGCTATCGCGAGCTTCGTTTCACGCTAGGTAGGCCAATCAATGGGGAACCCGATCACTCATGATTGTTTAGCTTCTTTCCGTAGATCAGGTTCCCCTCTTTGCAGTCTTCCACCGTCTTTGCTTCGTTGTCGTGAGTCAATTCCTCGACTGTTCTCTGAGCTATCGGATAGTAACTGCGAGTCGCTTTCAGTGTACCGGGCGTGCTTTTATTAAGACAG',\n",
        "   'sequence_4': 'ACCAGGGAGCCTTTGAGCAGTAGTTTCTTAGTATACACGTCTTAGCTTCCTTTGAGCTGTCGAGGTGACTGTATGCTGTAACACCTCACGATAACTGGCCGATGATAAGAGGAACCTTGTCTTTAGTGGTGATTCACTCGCTTATCACCCGGTACAGACCTCTCACTAAGTGCTCGTACACTCGCTTAACGGACAGCTTTTACACCTGCTAGGGGAGCGACCCCAAACGGTTACACGATAGCTCAGACCGCAACGACTCCCCGAGTGAGAGATATGCTCAATTCGGGGCATACGCTCGGTCGTTGCTTACCCTAGTTTACCTTGCATAAGACTAAAAGACAAAAGAGGCCCAGTTGCTTAGGCATCTAAAAAGAGTAGCTGTAACCGGCCTGATGACACAAATACTTCATCAACGCACTGCGGCATCATATGACGGGGGTTAGTGCTAGTACCCTTAAGACGGGGCCAACTGCCGATTGATATGGTGGGTCTTCCTCCAGACACCGTCCAGAGCCGCCGAGCAGAATTCAGCCTTTGCGGTCCCATACCCAAATGCGGATACGTGAAATGTGTCGCAACGCAGGCCAACAAGTATAACGACCCTAAGCGGTACGCTTGGGACAGCCCGCCCTGTCAAGATAAGGTGACATCAACCCACCTTGCTAGAGAATAGGGGTGCAGTTCAGCGGTTTCGGGTTCGCTTGTGGGTGATAAAAATGGCCATTCAGAACGGTGATATGCCGGCGATTGGGCTTCGTGAAATTCAGCCTTAGCAGGTCTAAGCGCTGGATACTGGGATGGTCTATCAGGTGTAATTGTAGGGGAATTCGAGCGCGTCGGGACGCACGTTTCGCAGCACAAAACCCGTCCTCAGTGACTTCCCAGCTGATTCGGAGTGCTATATGCGGGGACAAACCGAAGCTTCATGGGCCCTGTTGCCACGTAAGAGGGGACGAAGTTGGTGTACCCTACCACCCACATATCGTGGGATACTTCCGCG'}),\n",
        " ('06ffe',\n",
        "  {'creation_time': '1',\n",
        "   'id': '06ffee85a82c3912c1e2ba58cf2fbf75c5466540179115ae2d4c7549bf6c044984fc0c53a3ba77c42cc9484016c5f9ed738dacacaeda89d7dfdd2f04021382d9',\n",
        "   'segment_number': '4',\n",
        "   'sequence_1': 'ATAAAGTTCCCTATAAGTCGTACGCCTGAGGAGCATCATCCATTGACCTGACGTTGCGGACTCAAAAGCTAATAGTTACCCTTATAAGGCGAAAGAGCCCTTGGATCCCCGTTCCAAATCATTGGAAATGGGTTGATTTTGGAAGTTCTGAAGAGTCGCAGGTAGTTAGCCGAAAAAGCCATCCTCCCGATCCAACCAAGATGCGCCGCCGCGCCTAAGAGAAACCGCGGACCGGTGACCCTATCCTACAGGCCTCACTAAGTTTACCCACACAAAGGTGATCGCAAACATCGCTGTGAACTACTACTAGCCACCCGGATTGCGTTTCGGAAAAACCAGCCACATTAGAAGACATATGCAATGTCGCAAGGATTTACCTTGGGGGTCGACCTTTTACTCTTATTTAATGAAAGTAACTCAGGCCGTTTCTAGCCCCTTGCAGGGTAGTACGGAATAGAAACTTGAGGGGTCGAAGTGCTTAGTCCCATGCCATAATCACCAGAAAGCTGTCCAGAAGAAGCTATTTGAGTCGGCGAAATATCGTACGCCGCAGCAAGTATCAGCTCTAGCTTCGGATAAGCTGCAGCGCTGGTTTGGGGTATTGTATCGCCGACCATCTAGTTGTTGTAATAAGCGGTTCCCATGTCAGAGTGGGCCCTAACGTGGGGGGCATGCGCCCCATATGAACGACGTAGGAAATTCCCGGCCGATCCGTAACTACGGACCGTCACACGTTTGGTGGAGCCAAGCGTGAGAGCAGAGGCTGGTTGGTCGAGCAGCTAGAGATCGCGAGCTTCGTTTCACGCTAGGTAGGCCAATCAATGGGGAACCCGATCACTCATGATTGTTTAGCTTCTTTCCGTAGATCAGGTTCCCCTCTTTGCAGTCTTCCACCGTCTTTGCTTCGTTGTCGTGAGTCAATTCCTCGACTGTTCTCTGAGCTATCGGATAGTAACTGCGAGTCGCTTTCAGTGTACCGGGCGTGCTTTTATTAAGACAG',\n",
        "   'sequence_4': 'ACCAGGGAGCCTTTGAGCAGTAGTTTCTTAGTATACACGACTTAGCTTCCTTTGAGCTGTCGAGGTGACTGTATGCTGTAACACCTCACGGTAACTGGCCGATGAGAAGAGGAACCTTGTCTTTAGTGGTGATTCACTCGCTTATCACCCGGTACAGACCTCTCACTAAGTGCGCGTACACTCGCTTAACGGACAGCTTTTACACCTGCTAGGGGAGCGACCCCAAACGGTTACACGATAGCTCAGACCGCAACGACTCCCCGAGTGAGAGATATGCTCAATTCGAGACATACGCTCGGTCGTTGCTTACCCTAGTTTACCTTGCATAAGACTAAAAGACAAAAGAGGCCCAGTTGCTTAGGAATCTAAAAAGAGTAGCTGTAACCGGCCTGATGACACAAATACTTCATCAACGCACTGCGGCATCATATGACGGGGGTTAGTGCTAGTACACCTAAGACGGGGCCAACTGCCGATTGATATGCTGGGTCTTCCTCCAGACACCGTCCAGAGCCGGCGAGCAGAATTCAGCCTTTGCCGTCCCATACGCAAATGCGGATACGTGAAATGTGTCGCAATGCAAGCCAACAAGTATAACGACCCTAAGCGGTACGCTTGGGACAGCCCGCCCTGTCAAGATAAGGTGATATCAACCCACCTTGCTAGAGAATAGGGGTGCAGTTCAGCGGTTTCGGGATCGCTAGTGGGTGATAAAAATGGCCATTCAGAACGGTGATATGCCGGCGATTGGGCTTCGTGAAATTCAGCCTTAGCAGGTCTAAGCGCTGGATACTGGGATGGTCTATCAGGTGTAGTTGTAGGGGAATTCGAGCGCGTCGGGACGCACGTTTCGGAGCACAAAACCCGTCCTCAGTGACTTCCCAGCTGATTCGGAGTGCTATATGCGGGGACAAACTGAATCTTCATGGGCCCTGTTGCCACGTCAGAGGGGACGAAGTTGGTGTACCCGACCCCCCACATATCGTGGGATACTTCCGCG'}),\n",
        " ('f8600',\n",
        "  {'creation_time': '0',\n",
        "   'id': 'f860071ff6b4bdcf6ebc7c5896a80dbb55fb3e4f50b699491c8a6ff28df707bd3b937b8ade9c4401a5d84d261237bbe6e4edca8128bc3466c69f12fd68b09d78',\n",
        "   'segment_number': '4',\n",
        "   'sequence_1': 'ATAAAGTTCCCTATAAGTCGTACGCCTGAGGAGCATCATCCATTGACCTGACGTTGCGGACTCAAAAGCTAATAGTTACCCTTATAAGGCGAAAGAGCCCTTGGATCCCCGTTCCAAATCATTGGAAATGGGTTGATTTTGGAAGTTCTGAAGAGTCGCAGGTAGTTAGCCGAAAAAGCCATCCTCCCGATCCAACCAAGATGCGCCGCCGCGCCTAAGAGAAACCGCGGACCGGTGACCCTATCCTACAGGCCTCACTAAGTTTACCCACACAAAGGTGATCGCAAACATCGCTGTGAACTACTACTAGCCACCCGGATTGCGTTTCGGAAAAACCAGCCACATTAGAAGACATATGCAATGTCGCAAGGATTTACCTTGGGGGTCGACCTTTTACTCTTATTTAATGAAAGTAACTCAGGCCGTTTCTAGCCCCTTGCAGGGTAGTACGGAATAGAAACTTGAGGGGTCGAAGTGCTTAGTCCCATGCCATAATCACCAGAAAGCTGTCCAGAAGAAGCTATTTGAGTCGGCGAAATATCGTACGCCGCAGCAAGTATCAGCTCTAGCTTCGGATAAGCTGCAGCGCTGGTTTGGGGTATTGTATCGCCGACCATCTAGTTGTTGTAATAAGCGGTTCCCATGTCAGAGTGGGCCCTAACGTGGGGGGCATGCGCCCCATATGAACGACGTAGGAAATTCCCGGCCGATCCGTAACTACGGACCGTCACACGTTTGGTGGAGCCAAGCGTGAGAGCAGAGGCTGGTTGGTCGAGCAGCTAGAGATCGCGAGCTTCGTTTCACGCTAGGTAGGCCAATCAATGGGGAACCCGATCACTCATGATTGTTTAGCTTCTTTCCGTAGATCAGGTTCCCCTCTTTGCAGTCTTCCACCGTCTTTGCTTCGTTGTCGTGAGTCAATTCCTCGACTGTTCTCTGAGCTATCGGATAGTAACTGCGAGTCGCTTTCAGTGTACCGGGCGTGCTTTTATTAAGACAG',\n",
        "   'sequence_4': 'ACCAGGGAGCCTTTGAGCAGTAGTTTCTTAGTATACACGACTTAGCTTCCTTTGAGCTGTCGAGGTGACTGTATGCTGTAACACCTCACGATAACTGGCCGATGATAAGAGGAACCTTGTCTTTAGTGGTGATTCACTCGCTTATCACCCGGTACAGACCTCTCACTAAGTGCGCGTACACTCGCTTAACGGACAGCTTTTACACCTGCTAGGGGAGCGACCCCAAACGGTTACACGATAGCTCAGACCGCAACGACTCCCCGAGTGAGAGATATGCTCAATTCGAGACATACGCTCGGTCGTTGCTTACCCTAGTTTACCTTGCATAAGACTAAAAGACAAAAGAGGCCCAGTTGCTTAGGCATCTAAAAAGAGTAGCTGTAACCGGCCTGATGACACAAATACTTCATCAACGCACTGCGGCATCATATGACGGGGGTTAGTGCTAGTACCCCTAAGACGGGGCCAACTGCCGATTGATATGGTGGGTCTTCCTCCAGACACCGTCCAGAGCCGCCGAGCAGAATTCAGCCTTTGCCGTCCCATACGCAAATGCGGATACGTGAAATGTGTCGCAATGCAGGCCAACAAGTATAACGACCCTAAGCGGTACGCTTGGGACAGCCCGCCCTGTCAAGATAAGGTGATATCAACCCACCTTGCTAGAGAATAGGGGTGCAGTTCAGCGGTTTCGGGATCGCTAGTGGGTGATAAAAATGGCCATTCAGAACGGTGATATGCCGGCGATTGGGCTTCGTGAAATTCAGCCTTAGCAGGTCTAAGCGCTGGATACTGGGATGGTCTATCAGGTGTAGTTGTAGGGGAATTCGAGCGCGTCGGGACGCACGTTTCGCAGCACAAAACCCGTCCTCAGTGACTTCCCAGCTGATTCGGAGTGCTATATGCGGGGACAAACTGAATCTTCATGGGCCCTGTTGCCACGTCAGAGGGGACGAAGTTGGTGTACCCGACCCCCCACATATCGTGGGATACTTCCGCG'}),\n",
        " ('76b07',\n",
        "  {'creation_time': '6',\n",
        "   'id': '76b07fc4e6345386f5d0fcedd8ca243c56364f15d00e294976913a7279c86184495f62573275de9b98241fc7f682028cc6cc1f72a54da90425390477953bdab9',\n",
        "   'segment_number': '4',\n",
        "   'sequence_1': 'ATAAAGTTCCCTATAAGTCGTACGCCTGAGGAGCATCATCCATTGACCTGACGTTGCGGACTCAAAAGCTAATAGTTACCCTTATAAGGCGAAAGAGCCCTTGGATCCCCGTTCCAAATCATTGGAAATGGGTTGATTTTGGAAGTTCTGAAGAGTCGCAGGTAGTTAGCCGAAAAAGCCATCCTTCCGATCCAACCAAGATGCGCCGCCGCGCCTAAGAGAAACCGCGGACCGGTGACCCTATCCTACAGGCCTCACTAAGTTTACCCACACAAAGGTGATCGCAAACATCGCTGTGAACTACTACTAGCCACCCGGATTGCGTTTCGGAAAAACCAGCCACATTAGAAGACATATGCAATGTCGCAAGGATTTACCTTGGGGGTCGACCTTTTACTCTTATTTAATGAAAGTAACTCAGGCCGTTTCTAGCCCCTTGCAGGGTAGTACGGAATAGAAACTTGAGGGGTCGAAGTGCTTAGTCCCATGCCATAATCACCAGAAAGCTGTCCAGAAGAAGCTATTTGAGTCGGCGAAATATCGTACGCCGCAGCAAGTATCAGCTCTAGCTTCGGATAAGCTGCAGCGCTGGTTTGGGGTATTGTATCGCCGACCATCTAGTTGTTGTAATAAGCGGTTCCCATGTCAGAGTGGGCCCTAACGTGGGGGGCATGCGCCCCATATGAACGACGTAGGAAATTCCCGGCCGATCCGTAACTACGGACCGTCACACGTTTGGTGGAGCCAAGCGTGAGAGCAGAGGCTGGTTGGTCGAGCAGCTAGAGATCGCGAGCTTCGTTTCACGCTAGGTAGGCCAATCAATGGGGAACCCGATCACTCATGATTGTTTAGCTTCTTTCCGTAGATCAGGTTCCCCTCTTTGCAGTCTTCCACCGTCTTTGCTTCGTTGTCGTGAGTCAATTCCTCGACTGTTCTCTGAGCTATCGGATAGTAACTGCGAGTCGCTTTCAGTGTACCGGGCGTGCTTTTATTAAGACAG',\n",
        "   'sequence_4': 'ACCAGGGAGCCTTTGAGCAGTAGTTTCTTAGTATACACGACTTAGCTTCCTTTGAGCTGTCGAGGTGACTGTATGCTGTAACACCTCACGATAACTGGCCGATGATAAGAGGAACCTTGTCTTTAGTGGTGATTCACTCGCTTATCACCCGGTACAGACCTCTCACTAAGTGCTCGTACACTCGCTTAACGGACAGCTTTTACACCTGCTAGGGGAGCGACCCCAAACGGTTACACGATAGCTCAGACCGCAACGACTCCCCGAGTGAGAGATATGCTCAATTCGAGACATACGCTCGGTCGTTGCTTACCCTAGTTTACCTTGCATAAGACTAAAAGACAAAAGAGGCCCAGTTGCTTAGGCATCTAAAAAGAGTAGCTGTAACCGGCCTGATGACACAAATACTTCATCAACGCACTGCGGCATCATATGACGGGGGTTAGTGCTAGTACCCTTAAGACGGGGCCAACTGCCGATTGATATGGTGGGTCTTCCTCCAGACACCGTCCAGAGCCGCCGAGCAGAATTCAGCCTTTGCCGTCCCATACCCAAATGCGGATACGTGAAATGTGTCGCAATGCAGGCCAACAAGTATAACGACCCTAAGCGGTACGCTTGGGACAGCCCGCCCTGTCAAGATAAGGTGATATCAACCCACCTTGCTAGAGAATAGGGGTGCAGTTCAGCGGTTTCGGGTTCGCTTGTGGGTGATAAAAATGGCCATTCAGAACGGTGATATGCCGGCGATTGGGCTTCGTGAAATTCAGCCTTAGCAGGTCTAAGCGCTGGATACTGGGATGGTCTATCAGGTGTAGTTGTAGGGGAATTCGAGCGCGTCGGGACGCACGTTTCGCAGCACAAAACCCGTCCTCAGTGACTTCCCAGCTGATTCGGAGTGCTATATGCGGGGACAAACTGAAGCTTCATGGGCCCTGTTGCCACGTCAGAGGGGACGAAGTTGGTGTACCCGACCCCCCACATATCGTGGGATACTTCCGCG'}),\n",
        " ('1ed14',\n",
        "  {'creation_time': '7',\n",
        "   'id': '1ed14e23620fccd5ce6539f53bb0463e6886691c6f4d8dc86e5c1cf93c9a41e474f8e7ddd516e618863424bc56f132ff1feeb9de50e7dc1d637d1030e35bf494',\n",
        "   'segment_number': '4',\n",
        "   'sequence_1': 'ATAAAGTTCCCTATAAGTCGTACGCCTGAGGAGCATCATCCATTGACCTGACGTTGCGGACTCAAAAGCTAATAGTTACCCTTATAAGGCGAAAGAGCCCTTGGATCCCCGTTCCAAATCATTGGAAATGGGTTGATTTTGGAAGTTCTGAAGAGTCGCAGGTAGTTAGCCGAAAAAGCCATCCTCCCGATCCAACCAAGATGCGCCGCCGCGCCTAAGAGAAACCGCGGACCGGTGACCCTATCCTACAGGCCTCACTAAGTTTACCCACACAAAGGTGATCGCAAACATCGCTGTGAACTACTACTAGCCACCCGGATTGCGTTTCGGAAAAACCAGCCACATTAGAAGACATATGCAATGTCGCAAGGATTTACCTTGGGGGTCGACCTTTTACTCTTATTTAATGAAAGTAACTCAGGCCGTTTCTAGCCCCTTGCAGGGTAGTACGGAATAGAAACTTGAGGGGTCGAAGTGCTTAGTCCCATGCCATAATCACCAGAAAGCTGTCCAGAAGAAGCTATTTGAGTCGGCGAAATATCGTACGCCGCAGCAAGTATCAGCTCTAGCTTCGGATAAGCTGCAGCGCTGGTTTGGGGTATTGTATCGCCGACCATCTAGTTGTTGTAATAAGCGGTTCCCATGTCAGAGTGGGCCCTAACGTGGGGGGCATGCGCCCCATATGAACGACGTAGGAAATTCCCGGCCGATCCGTAACTACGGACCGTCACACGTTTGGTGGAGCCAAGCGTGAGAGCAGAGGCTGGTTGGTCGAGCAGCTAGAGATCGCGAGCTTCGTTTCACGCTAGGTAGGCCAATCAATGGGGAACCCGATCACTCATGATTGTTTAGCTTCTTTCCGTAGATCAGGTTCCCCTCTTTGCAGTCTTCCACCGTCTTTGCTTCGTTGTCGTGAGTCAATTCCTCGACTGTTCTCTGAGCTATCGGATAGTAACTGCGAGTCGCTTTCAGTGTACCGGGCGTGCTTTTATTAAGACAG',\n",
        "   'sequence_4': 'ATCCAAAGTTAGATGTAGTCTTGGATTTAATGGGCGCTTTACACCTAAATGATCGGACGCGAGACTCCCGGGTGCACACGGAGAGTATCTATGTCTCTCGGGTAGTGCAGAACTCGCTAATATCTATGATCAAGACAATCCCTTGTATAATAGATCCTTCATCGAAAGTCGATCGAAAGCACCCAGATGCCCGCGTTAATAGAGCAGCATAAGAATCATTCAGGGCGACAGAGTACATTAGTGTATGCAGCGTCATCTGTAACGGTTGTTCTATTATAACTACTACGAAACTGATCTCGGGACAGGGATTACTTAACCCTTATCCGAAGCCTCAGATATCGGTCGTGTGGTGCGGGGACGCGGTCTATATAATGACGTCTTCTGCGCGAAAATGACTAGTCCTATGGCTGGCTTTGTCTCGGGCCCTTATAATCACTCGAACAATTGGGTCTAGATATAGTACGCAGCGACAGCGGGATCGACATTGCCGAGCACTTCCCCGCGGATTTGGGCAGTTTGCAAGTCTCCGGCCATCTAGATTGGACGACTAAGATCGGCCTCGATGAGCGAGCGCTCTCTCACCCACACTGGAGGAAACCCAGTCACTGGGAGGAGCAAAGGGTAACCGAATCCTAGGGCTTCTATGAGTTCGCGTCACCGGGAATTATAGTCCGCTAAGTAAATCTTGCTCGACGTAGCTTGAACGGTATCAGGTATCACTGGTCGATCAAATATGAGTTGACGTAACACGTTGAACACTGAGAATCATGTCTTTGTGAGCAGCGACGTCGGTTTTAAACCCACCAATTTTCGGGAAGTGCATCACAATCTAACCGGTGCCAAGGAAACCAGTTGTCATATTGATAAAAGACATCTCAGTGTATCGATTCCAATAACTCTTTCAAGGAACATCGAATTACATAAGGGGCTCAAGCGCTCCCCTTACGTGTGGGGCTTTTTGCTCCCTCTTTATTAGGCGCAGTTATCTTTGGTTGTTCTG'}),\n",
        " ('64f44',\n",
        "  {'creation_time': '5',\n",
        "   'id': '64f44af56599890d496de1f7c8e50dd2ddb33e836270ce832158bb188086acce9fb1e380d8e2d9bee6934f934478a19df1f4fd66e2dc6601789d97f5b28e9719',\n",
        "   'segment_number': '4',\n",
        "   'sequence_1': 'ATAAAGTTCCCTATAAGTCGTACGCCTGAGGAGCATCATCCATTGACCTGACGTTGCGGACTCAAAAGCTAATAGTTACCCTTATAAGGCGAAAGAGCCCTTGGATCCCCGTTCCAAATCATTGGAAATGGGTTGATTTTGGAAGTTCTGAAGAGTCGCAGGTAGTTAGCCGAAAAAGCCATCCTCCCGATCCAACCAAGATGCGCCGCCGCGCCTAAGAGAAACCGCGGACCGGTGACCCTATCCTACAGGCCTCACTAAGTTTACCCACACAAAGGTGATCGCAAACATCGCTGTGAACTACTACTAGCCACCCGGATTGCGTTTCGGAAAAACCAGCCACATTAGAAGACATATGCAATGTCGCAAGGATTTACCTTGGGGGTCGACCTTTTACTCTTATTTAATGAAAGTAACTCAGGCCGTTTCTAGCCCCTTGCAGGGTAGTACGGAATAGAAACTTGAGGGGTCGAAGTGCTTAGTCCCATGCCATAATCACCAGAAAGCTGTCCAGAAGAAGCTATTTGAGTCGGCGAAATATCGTACGCCGCAGCAAGTATCAGCTCTAGCTTCGGATAAGCTGCAGCGCTGGTTTGGGGTATTGTATCGCCGACCATCTAGTTGTTGTAATAAGCGGTTCCCATGTCAGAGTGGGCCCTAACGTGGGGGGCATGCGCCCCATATGAACGACGTAGGAAATTCCCGGCCGATCCGTAACTACGGACCGTCACACGTTTGGTGGAGCCAAGCGTGAGAGCAGAGGCTGGTTGGTCGAGCAGCTAGAGATCGCGAGCTTCGTTTCACGCTAGGTAGGCCAATCAATGGGGAACCCGATCACTCATGATTGTTTAGCTTCTTTCCGTAGATCAGGTTCCCCTCTTTGCAGTCTTCCACCGTCTTTGCTTCGTTGTCGTGAGTCAATTCCTCGACTGTTCTCTGAGCTATCGGATAGTAACTGCGAGTCGCTTTCAGTGTACCGGGCGTGCTTTTATTAAGACAG',\n",
        "   'sequence_4': 'ACCAGGGAGCCTTTGAGCAGTAGTTTCTTAGTATACACGACTTAGCTTCCTTTGAGCTGTCGAGGTGACTGTATGCTGTAACACCTCACGATAACTGGCCGATGATAAGAGGAACCTTGTCTTTAGTGGTGATTCACTCGCTTATCACCCGGTACAGACCTCTCACTAAGTGCGCGTACACTCGCTTAACGGACAGCTTTTACACCTGCTAGGGGAGCGACCCCAAAGGGTTACACGACAGCTCAGACCGCAACGACTCCCCGAGTGAGAGATATGCTCAATTCGAGACATACGCTCGGTCGTTGCTTACCCTAGTTTACCTTGCATAAGACTAAAAGACAAAAGAGGCCCAGTTGCTTAGGCATCTAAAAAGAGTAGCTGTAACCGGCCTGATGACACAAATACTTCATTAACGCACTGCGGCATCATATGACGGGGCTTAGTGCTAGTACCCCTAAGACGGGGCCAACTGCCGATTGATATGGTGCGTCTTCCTCCAGACACCGTCCAGAGCCGCCGAGCAGAATTTAGCCTTTGCCGTCCCATACGCAAATGCGGATACGTGAAATGTGTCGCACTGCAGGCCAACAAGGATAACGACCCTAAGCGGTACGCTTGGGACAGCCCGCCCTGTCAAGATAAGGTGATATCAACCCACCTTGCTAGAGAATAGGGGTGCAGTTCAGCGGTTTCGGGATCGCTAGTGGGTGATAAAAATGGCCATTCAGAACGGTGATATGCCGGAGATTGGGCTTCGTGAAATTCAGCCTTAGCAGGTCTAAGCGCTGGATACTGTGATGGTCTATCAGGTGTAGTTGTAGGGGAATTCGAGCGCGTCGGGACGCACGTTTCGCAGCACAAAACCCGTCCTCAGTGACTTCCCAGCTGATTCGGAGTGCTATATGCGGGGACAAACTGAATCTTCATGGGCCCTGTTGCCACGTCAGAGGGGACGAAGTTGGTGTACCCGACCCCCCACATATCGTGGGATACTTCCGCG'}),\n",
        " ('2bd60',\n",
        "  {'creation_time': '0',\n",
        "   'id': '2bd60a93d5c7423d2517494f56a983693268c3a3a2e4e5986da9aeb11d7d59c0cf828322a93c2dc0f7aee1980b62bfd3d7ab91d692b5e8cb5f6b83ee2afb456d',\n",
        "   'segment_number': '4',\n",
        "   'sequence_1': 'ATAAAGTTCCCTATAAGTCGTACGCCTGAGGAGCATCATCCATTGACCTGACGTTGCGGACTCAAAAGCTAATAGTTACCCTTATAAGGCGAAAGAGCCCTTGGATCCCCGTTCCAAATCATTGGAAATGGGTTGATTTTGGAAGTTCTGAAGAGTCGCAGGTAGTTAGCCGAAAAAGCCATCCTCCCGATCCAACCAAGATGCGCCGCCGCGCCTAAGAGAAACCGCGGACCGGTGACCCTATCCTACAGGCCTCACTAAGTTTACCCACACAAAGGTGATCGCAAACATCGCTGTGAACTACTACTAGCCACCCGGATTGCGTTTCGGAAAAACCAGCCACATTAGAAGACATATGCAATGTCGCAAGGATTTACCTTGGGGGTCGACCTTTTACTCTTATTTAATGAAAGTAACTCAGGCCGTTTCTAGCCCCTTGCAGGGTAGTACGGAATAGAAACTTGAGGGGTCGAAGTGCTTAGTCCCATGCCATAATCACCAGAAAGCTGTCCAGAAGAAGCTATTTGAGTCGGCGAAATATCGTACGCCGCAGCAAGTATCAGCTCTAGCTTCGGATAAGCTGCAGCGCTGGTTTGGGGTATTGTATCGCCGACCATCTAGTTGTTGTAATAAGCGGTTCCCATGTCAGAGTGGGCCCTAACGTGGGGGGCATGCGCCCCATATGAACGACGTAGGAAATTCCCGGCCGATCCGTAACTACGGACCGTCACACGTTTGGTGGAGCCAAGCGTGAGAGCAGAGGCTGGTTGGTCGAGCAGCTAGAGATCGCGAGCTTCGTTTCACGCTAGGTAGGCCAATCAATGGGGAACCCGATCACTCATGATTGTTTAGCTTCTTTCCGTAGATCAGGTTCCCCTCTTTGCAGTCTTCCACCGTCTTTGCTTCGTTGTCGTGAGTCAATTCCTCGACTGTTCTCTGAGCTATCGGATAGTAACTGCGAGTCGCTTTCAGTGTACCGGGCGTGCTTTTATTAAGACAG',\n",
        "   'sequence_4': 'ATCCAAAGTTAGATGTAGTCTTGGATTTAATGGGCGCTTTACACCTGAATGATCGGACGCGAGACTCCCGGGTGCACACGGAGAGTATCTATGTCTCTCGGGTAGTGCAGAACTCGCTAATATCTATGATCAAGACAATCCCTTGTATAATAGATCCTTCATCGAAAGTCGATCGAAAGCACCCAGATGCCCGCGTTAATAGAGCAGCATAAGAATCATTCAGGGCGACAGAGTACATTAGTGTATGCAGCGTCATCTTTAACGGTTGTTCTATTATAACTACTACGAAACTGATCTCGGGACAGGGATTACTTAACCCTTATCCGAAGCCTCAGATATCGGTCGTGTGGTGCGGGGACGCGGTCTATATAATGACGTCTTCTGCGCGAAAATGACTAGTCCTATGGCTGGCTTTGTCTCGGGCCCTAATAATCACTCGAACAATCGGGTCTAGATATAGTACGCAGCGACAGCGGGATCGACATTGCCGAGCACTTCCCCGCGGATTTGGGCAGTTTGCAAGTCTCCGGCCATCTAGATTGGACGACTAAGATCGGCCTCGATGAGCGAGCGCTCTCTCACCCACACTGCAGGAAACCCAGTCACTGGGAGGAGCAAAGGGTAACCGAATCCTAGGGCTTCTATGAGTTCGCGTCACCGGGAATTATAGTCCGCTAAGTAAATCTTGCTCGACGTAGCTTGAACGGTATCAGGTATCACTGGTCGATCAAAAATGAGTTGACGTAACACGTTGAACACTGAGAATAATGTCTTTGTGAGCAGCGACGTCGGTTTTAAACCCACCAATTTTCGGGAAGTGCATCACAATCTAACCGGTGCCAAGGAAACCAGTTGTCATAATGATAAAAGACATCTCAGTGTATCGATTCCAATAACTCTTTCAAGGAACATCGAATTACATAAGGGGCTCAAGCGCTCCCCTTACGTGTGGGGCTTTTTGCTCCCTCTTTATTAGGCGCAGTTATCTTTGGTTGTTCTG'})]"
       ]
      }
     ],
     "prompt_number": 24
    },
    {
     "cell_type": "code",
     "collapsed": false,
     "input": [
      "# This code is used for drawing.\n",
      "from random import randint\n",
      "\n",
      "randints = []\n",
      "for node in r.condensed_graph.nodes(data=True):\n",
      "    randints.append(randint(1, 20))\n",
      "print randints\n",
      "\n",
      "reconstruction_positions = dict()\n",
      "for i, node in enumerate(sorted(r.condensed_graph.nodes(data=True))):\n",
      "    reconstruction_positions[node[0]] = (int(node[1]['creation_time']), randints[i])\n",
      "    \n",
      "print len(reconstruction_positions)\n",
      "nx.draw(r.condensed_graph, pos=reconstruction_positions)"
     ],
     "language": "python",
     "metadata": {},
     "outputs": [
      {
       "output_type": "stream",
       "stream": "stdout",
       "text": [
        "[9, 13, 13, 19, 3, 9, 5, 19, 4, 17, 19]\n",
        "11\n"
       ]
      },
      {
       "metadata": {},
       "output_type": "display_data",
       "png": "[encoded data removed]",
       "text": [
        "<matplotlib.figure.Figure at 0x10638a190>"
       ]
      }
     ],
     "prompt_number": 25
    },
    {
     "cell_type": "code",
     "collapsed": false,
     "input": [
      "simulation_positions = dict()\n",
      "\n",
      "print randints\n",
      "for i, pathogen in enumerate(s.pathogens):\n",
      "    simulation_positions[pathogen] = reconstruction_positions[str(pathogen)]\n",
      "    \n",
      "print len(simulation_positions)\n",
      "nx.draw(s.transmission_graph, pos=simulation_positions)"
     ],
     "language": "python",
     "metadata": {},
     "outputs": [
      {
       "output_type": "stream",
       "stream": "stdout",
       "text": [
        "[9, 13, 13, 19, 3, 9, 5, 19, 4, 17, 19]\n",
        "11\n"
       ]
      },
      {
       "metadata": {},
       "output_type": "display_data",
       "png": "[encoded data removed]",
       "text": [
        "<matplotlib.figure.Figure at 0x10639bd90>"
       ]
      }
     ],
     "prompt_number": 26
    },
    {
     "cell_type": "code",
     "collapsed": false,
     "input": [
      "s.pathogens[0].parent"
     ],
     "language": "python",
     "metadata": {},
     "outputs": [
      {
       "metadata": {},
       "output_type": "pyout",
       "prompt_number": 27,
       "text": [
        "{}"
       ]
      }
     ],
     "prompt_number": 27
    },
    {
     "cell_type": "code",
     "collapsed": false,
     "input": [
      "r.condensed_graph.edges(data=True)"
     ],
     "language": "python",
     "metadata": {},
     "outputs": [
      {
       "metadata": {},
       "output_type": "pyout",
       "prompt_number": 28,
       "text": [
        "[('e139d', '5a71f', {'segments': [1, 4], 'weight': 11}),\n",
        " ('06ffe', '01fdb', {'segments': [1, 4], 'weight': 8}),\n",
        " ('06ffe', 'e139d', {'segments': [1, 4], 'weight': 6}),\n",
        " ('f8600', '06ffe', {'segments': [1, 4], 'weight': 8}),\n",
        " ('f8600', '76b07', {'segments': [1, 4], 'weight': 7}),\n",
        " ('f8600', '64f44', {'segments': [1, 4], 'weight': 10}),\n",
        " ('76b07', '7446a', {'segments': [1, 4], 'weight': 14}),\n",
        " ('2bd60', 'd1726', {'segments': [1, 4], 'weight': 13}),\n",
        " ('2bd60', '1ed14', {'segments': [1, 4], 'weight': 8})]"
       ]
      }
     ],
     "prompt_number": 28
    },
    {
     "cell_type": "code",
     "collapsed": false,
     "input": [
      "for virus in s.identify_reassortants():\n",
      "    print virus"
     ],
     "language": "python",
     "metadata": {},
     "outputs": [],
     "prompt_number": 29
    },
    {
     "cell_type": "code",
     "collapsed": false,
     "input": [
      "for virus in r.identify_reassortants():\n",
      "    print virus[0]"
     ],
     "language": "python",
     "metadata": {},
     "outputs": [],
     "prompt_number": 30
    },
    {
     "cell_type": "code",
     "collapsed": false,
     "input": [
      "s.transmission_graph.edges(data=True)"
     ],
     "language": "python",
     "metadata": {},
     "outputs": [
      {
       "metadata": {},
       "output_type": "pyout",
       "prompt_number": 31,
       "text": [
        "[(76b07, 7446a, {'segments': [1, 4], 'weight': 14}),\n",
        " (06ffe, e139d, {'segments': [1, 4], 'weight': 6}),\n",
        " (06ffe, 01fdb, {'segments': [1, 4], 'weight': 8}),\n",
        " (f8600, 76b07, {'segments': [1, 4], 'weight': 7}),\n",
        " (f8600, 06ffe, {'segments': [1, 4], 'weight': 8}),\n",
        " (f8600, 64f44, {'segments': [1, 4], 'weight': 10}),\n",
        " (2bd60, 1ed14, {'segments': [1, 4], 'weight': 8}),\n",
        " (2bd60, d1726, {'segments': [1, 4], 'weight': 13}),\n",
        " (e139d, 5a71f, {'segments': [1, 4], 'weight': 11})]"
       ]
      }
     ],
     "prompt_number": 31
    },
    {
     "cell_type": "markdown",
     "metadata": {},
     "source": [
      "# Test Relabeled Graph"
     ]
    },
    {
     "cell_type": "code",
     "collapsed": false,
     "input": [
      "for pathogen in s.pathogens:\n",
      "    print (str(pathogen), str(pathogen.parent))"
     ],
     "language": "python",
     "metadata": {},
     "outputs": [
      {
       "output_type": "stream",
       "stream": "stdout",
       "text": [
        "('f8600', '{}')\n",
        "('2bd60', '{}')\n",
        "('06ffe', '{f8600: [1, 4]}')\n",
        "('d1726', '{2bd60: [1, 4]}')\n",
        "('01fdb', '{06ffe: [1, 4]}')\n",
        "('e139d', '{06ffe: [1, 4]}')\n",
        "('64f44', '{f8600: [1, 4]}')\n",
        "('76b07', '{f8600: [1, 4]}')\n",
        "('1ed14', '{2bd60: [1, 4]}')\n",
        "('5a71f', '{e139d: [1, 4]}')\n",
        "('7446a', '{76b07: [1, 4]}')\n"
       ]
      }
     ],
     "prompt_number": 32
    },
    {
     "cell_type": "code",
     "collapsed": false,
     "input": [
      "s.relabel_transmission_graph()\n",
      "s.relabeled_transmission_graph.edges(data=True)"
     ],
     "language": "python",
     "metadata": {},
     "outputs": [
      {
       "metadata": {},
       "output_type": "pyout",
       "prompt_number": 33,
       "text": [
        "[('e139d', '5a71f', {'segments': [1, 4], 'weight': 11}),\n",
        " ('f8600', '76b07', {'segments': [1, 4], 'weight': 7}),\n",
        " ('f8600', '06ffe', {'segments': [1, 4], 'weight': 8}),\n",
        " ('f8600', '64f44', {'segments': [1, 4], 'weight': 10}),\n",
        " ('06ffe', '01fdb', {'segments': [1, 4], 'weight': 8}),\n",
        " ('06ffe', 'e139d', {'segments': [1, 4], 'weight': 6}),\n",
        " ('76b07', '7446a', {'segments': [1, 4], 'weight': 14}),\n",
        " ('2bd60', '1ed14', {'segments': [1, 4], 'weight': 8}),\n",
        " ('2bd60', 'd1726', {'segments': [1, 4], 'weight': 13})]"
       ]
      }
     ],
     "prompt_number": 33
    },
    {
     "cell_type": "code",
     "collapsed": false,
     "input": [
      "r.condensed_graph.edges(data=True)"
     ],
     "language": "python",
     "metadata": {},
     "outputs": [
      {
       "metadata": {},
       "output_type": "pyout",
       "prompt_number": 34,
       "text": [
        "[('e139d', '5a71f', {'segments': [1, 4], 'weight': 11}),\n",
        " ('06ffe', '01fdb', {'segments': [1, 4], 'weight': 8}),\n",
        " ('06ffe', 'e139d', {'segments': [1, 4], 'weight': 6}),\n",
        " ('f8600', '06ffe', {'segments': [1, 4], 'weight': 8}),\n",
        " ('f8600', '76b07', {'segments': [1, 4], 'weight': 7}),\n",
        " ('f8600', '64f44', {'segments': [1, 4], 'weight': 10}),\n",
        " ('76b07', '7446a', {'segments': [1, 4], 'weight': 14}),\n",
        " ('2bd60', 'd1726', {'segments': [1, 4], 'weight': 13}),\n",
        " ('2bd60', '1ed14', {'segments': [1, 4], 'weight': 8})]"
       ]
      }
     ],
     "prompt_number": 34
    },
    {
     "cell_type": "markdown",
     "metadata": {},
     "source": [
      "# Experiment with Accuracy Metrics"
     ]
    },
    {
     "cell_type": "code",
     "collapsed": false,
     "input": [
      "matching_edges = 0\n",
      "total_edges = len(s.relabeled_transmission_graph.edges())\n",
      "for edge in r.condensed_graph.edges(data=True):\n",
      "    if edge in s.relabeled_transmission_graph.edges(data=True):\n",
      "        matching_edges += 1\n",
      "        \n",
      "\n",
      "int(float(matching_edges) / total_edges * 100)"
     ],
     "language": "python",
     "metadata": {},
     "outputs": [
      {
       "metadata": {},
       "output_type": "pyout",
       "prompt_number": 35,
       "text": [
        "100"
       ]
      }
     ],
     "prompt_number": 35
    },
    {
     "cell_type": "code",
     "collapsed": false,
     "input": [
      "# This has been implemented in the prototype functions below.\n",
      "# float(len(r.identify_reassortants()))/float(len(s.identify_reassortants()))"
     ],
     "language": "python",
     "metadata": {},
     "outputs": [],
     "prompt_number": 36
    },
    {
     "cell_type": "code",
     "collapsed": false,
     "input": [
      "# Prototype for the functions.\n",
      "def reassortant_accuracy(simulation, reconstruction):\n",
      "    num_simulation_reassortants = float(len(simulation.identify_reassortants()))\n",
      "    num_reconstruction_reassortants = float(len(reconstruction.identify_reassortants()))\n",
      "    \n",
      "    if num_simulation_reassortants == 0:\n",
      "        return 'No reassortants present in simulation.'\n",
      "    else:\n",
      "        return num_reconstruction_reassortants / num_simulation_reassortants\n",
      "    \n",
      "def transmission_edge_accuracy(simulation, reconstruction):\n",
      "    matching_edges = 0\n",
      "    total_edges = len(simulation.relabeled_transmission_graph.edges())\n",
      "    \n",
      "    for edge in reconstruction.condensed_graph.edges(data=True):\n",
      "        if edge in simulation.relabeled_transmission_graph.edges(data=True):\n",
      "            matching_edges += 1\n",
      "            \n",
      "    return float(matching_edges) / total_edges\n",
      "\n",
      "def transmission_path_accuracy(simulation, reconstruction):\n",
      "    \"\"\"\n",
      "    The accuracy of transmission paths is the number of accurate paths found \n",
      "    divided by the number of paths being considered.\n",
      "    \"\"\"\n",
      "    num_paths = 0\n",
      "    accurate_paths = 0\n",
      "    \n",
      "    for edge in reconstruction.condensed_graph.edges():\n",
      "        if simulation.transmission_path_exists(edge[0], edge[1]):\n",
      "            num_paths += 1\n",
      "            accurate_paths += 1\n",
      "        else:\n",
      "            num_paths += 1\n",
      "    \n",
      "    return float(accurate_paths)/num_paths"
     ],
     "language": "python",
     "metadata": {},
     "outputs": [],
     "prompt_number": 37
    },
    {
     "cell_type": "code",
     "collapsed": false,
     "input": [
      "print s.identify_full_transmission_paths()\n",
      "print reassortant_accuracy(s, r)\n",
      "print transmission_edge_accuracy(s, r)\n",
      "print transmission_path_accuracy(s, r)"
     ],
     "language": "python",
     "metadata": {},
     "outputs": [
      {
       "output_type": "stream",
       "stream": "stdout",
       "text": [
        "[set(['76b07', '01fdb', '5a71f', '64f44', 'e139d', 'f8600', '06ffe', '7446a']), set(['1ed14', 'd1726', '2bd60'])]\n",
        "No reassortants present in simulation.\n",
        "1.0\n",
        "1.0\n"
       ]
      }
     ],
     "prompt_number": 38
    },
    {
     "cell_type": "markdown",
     "metadata": {},
     "source": [
      "# Test path_exists(node1, node2) function"
     ]
    },
    {
     "cell_type": "code",
     "collapsed": false,
     "input": [
      "# 1 July 2014 - API Change so the following path_exist(node1, node2) code does not stand. \n",
      "# Segment number has to be specified in order for it to stand.\n",
      "# s.path_exists('b90bb', '3d39c')"
     ],
     "language": "python",
     "metadata": {},
     "outputs": [],
     "prompt_number": 39
    },
    {
     "cell_type": "code",
     "collapsed": false,
     "input": [
      "s.relabeled_transmission_graph.nodes()"
     ],
     "language": "python",
     "metadata": {},
     "outputs": [
      {
       "metadata": {},
       "output_type": "pyout",
       "prompt_number": 40,
       "text": [
        "['d1726',\n",
        " '7446a',\n",
        " '76b07',\n",
        " '1ed14',\n",
        " '5a71f',\n",
        " '01fdb',\n",
        " 'e139d',\n",
        " 'f8600',\n",
        " '06ffe',\n",
        " '2bd60',\n",
        " '64f44']"
       ]
      }
     ],
     "prompt_number": 40
    },
    {
     "cell_type": "code",
     "collapsed": false,
     "input": [
      "# s.path_exists('2851c', '09001')"
     ],
     "language": "python",
     "metadata": {},
     "outputs": [],
     "prompt_number": 41
    },
    {
     "cell_type": "code",
     "collapsed": false,
     "input": [],
     "language": "python",
     "metadata": {},
     "outputs": [],
     "prompt_number": 41
    }
   ],
   "metadata": {}
  }
 ]
}