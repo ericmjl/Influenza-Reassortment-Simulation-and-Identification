{
 "metadata": {
  "name": "",
  "signature": "sha256:1b3eae889142742b0988d56b17b093e9949c9bea90b16fe5bedbd37b503413fd"
 },
 "nbformat": 3,
 "nbformat_minor": 0,
 "worksheets": [
  {
   "cells": [
    {
     "cell_type": "code",
     "collapsed": false,
     "input": [
      "from pathogen import Pathogen\n",
      "from segment import Segment\n",
      "from sequence import Sequence\n",
      "from simulator import Simulator"
     ],
     "language": "python",
     "metadata": {},
     "outputs": [],
     "prompt_number": 388
    },
    {
     "cell_type": "code",
     "collapsed": false,
     "input": [
      "# Initialize sequences\n",
      "sequence_PB2 = Sequence(length=1000) #this is representative of segment 1, PB2\n",
      "sequence_H1 = Sequence(length=1000) #this is representative of segment 4, H1\n",
      "sequence_H2 = Sequence(length=1000) #this is representative of segment 4, H2"
     ],
     "language": "python",
     "metadata": {},
     "outputs": [],
     "prompt_number": 389
    },
    {
     "cell_type": "code",
     "collapsed": false,
     "input": [
      "# Initialize segments\n",
      "segment_PB2 = Segment(segment_number=1, substitution_rate=1E-3, sequence=sequence_PB2)\n",
      "segment_H1 = Segment(segment_number=4, substitution_rate=1E-2, sequence=sequence_H1)\n",
      "segment_H2 = Segment(segment_number=4, substitution_rate=1E-2, sequence=sequence_H2)"
     ],
     "language": "python",
     "metadata": {},
     "outputs": [],
     "prompt_number": 390
    },
    {
     "cell_type": "code",
     "collapsed": false,
     "input": [
      "# Add segments to seed viruses\n",
      "virus_H1 = Pathogen(segments=[segment_PB2, segment_H1], creation_time=0, progeny_size=(1.2, 0.5))\n",
      "virus_H2 = Pathogen(segments=[segment_PB2, segment_H2], creation_time=0, progeny_size=(1.2, 0.5))"
     ],
     "language": "python",
     "metadata": {},
     "outputs": [],
     "prompt_number": 391
    },
    {
     "cell_type": "code",
     "collapsed": false,
     "input": [
      "# Subclass the Simulator class for a specific implementation of the increment_timestep() function.\n",
      "from random import random, choice, sample\n",
      "class ViralSimulator(Simulator):\n",
      "    \n",
      "    def increment_timestep(self):\n",
      "        cointoss = random()\n",
      "        threshold = 0.8\n",
      "        \n",
      "        if cointoss <= threshold:\n",
      "            chosen_virus = choice(self.pathogens)\n",
      "            new_virus = chosen_virus.replicate(current_time=self.current_time)\n",
      "            \n",
      "        if cointoss > threshold:\n",
      "            [virus1, virus2] = sample(self.pathogens, 2)\n",
      "            new_virus = virus1.reassort_with(virus2, current_time=self.current_time)\n",
      "        \n",
      "        self.pathogens.append(new_virus)"
     ],
     "language": "python",
     "metadata": {},
     "outputs": [],
     "prompt_number": 392
    },
    {
     "cell_type": "code",
     "collapsed": false,
     "input": [
      "s = ViralSimulator()"
     ],
     "language": "python",
     "metadata": {},
     "outputs": [],
     "prompt_number": 393
    },
    {
     "cell_type": "code",
     "collapsed": false,
     "input": [
      "s.add_pathogens([virus_H1, virus_H2])"
     ],
     "language": "python",
     "metadata": {},
     "outputs": [],
     "prompt_number": 394
    },
    {
     "cell_type": "code",
     "collapsed": false,
     "input": [
      "s.run(timesteps=10)"
     ],
     "language": "python",
     "metadata": {},
     "outputs": [
      {
       "output_type": "stream",
       "stream": "stdout",
       "text": [
        "{bf3c1: [1, 4]}\n",
        "{ce4da: [1, 4]}\n",
        "{1caf9: [1, 4]}\n",
        "{46cce: [1, 4]}\n",
        "{d1578: [1, 4]}\n",
        "{ce4da: [1, 4]}\n"
       ]
      }
     ],
     "prompt_number": 395
    },
    {
     "cell_type": "code",
     "collapsed": false,
     "input": [
      "s.write_transmission_graph(outfile_name=\"outfile_test\", folder_name='Network Pickles')"
     ],
     "language": "python",
     "metadata": {},
     "outputs": [],
     "prompt_number": 396
    },
    {
     "cell_type": "code",
     "collapsed": false,
     "input": [
      "s.write_sequences(outfile_name=\"outfile_test\", folder_name='FASTA Files')"
     ],
     "language": "python",
     "metadata": {},
     "outputs": [],
     "prompt_number": 397
    },
    {
     "cell_type": "code",
     "collapsed": false,
     "input": [
      "s.transmission_graph().nodes(data=True)"
     ],
     "language": "python",
     "metadata": {},
     "outputs": [
      {
       "metadata": {},
       "output_type": "pyout",
       "prompt_number": 398,
       "text": [
        "[(bf3c1, {'creation_time': 0}),\n",
        " (1caf9, {'creation_time': 3}),\n",
        " (debca, {'creation_time': 4}),\n",
        " (9afef, {'creation_time': 7}),\n",
        " (46cce, {'creation_time': 6}),\n",
        " (d1578, {'creation_time': 5}),\n",
        " (ce4da, {'creation_time': 2}),\n",
        " (7173b, {'creation_time': 0}),\n",
        " (85ce3, {'creation_time': 9}),\n",
        " (1a0cd, {'creation_time': 8}),\n",
        " (f8ff3, {'creation_time': 1})]"
       ]
      }
     ],
     "prompt_number": 398
    },
    {
     "cell_type": "markdown",
     "metadata": {},
     "source": [
      "# Prototype code for Reconstructor class"
     ]
    },
    {
     "cell_type": "code",
     "collapsed": false,
     "input": [
      "from Bio import SeqIO"
     ],
     "language": "python",
     "metadata": {},
     "outputs": [],
     "prompt_number": 399
    },
    {
     "cell_type": "code",
     "collapsed": false,
     "input": [
      "# Initialize a dictionary that contains all of the sequences, split by segment.\n",
      "sequences_dictionary = dict()\n",
      "sequences_dictionary[1] = []\n",
      "sequences_dictionary[4] = []\n",
      "sequences_dictionary"
     ],
     "language": "python",
     "metadata": {},
     "outputs": [
      {
       "metadata": {},
       "output_type": "pyout",
       "prompt_number": 400,
       "text": [
        "{1: [], 4: []}"
       ]
      }
     ],
     "prompt_number": 400
    },
    {
     "cell_type": "code",
     "collapsed": false,
     "input": [
      "# Read in the sequences\n",
      "sequences = [record for record in SeqIO.parse('FASTA Files/outfile_test.fasta', 'fasta')]\n",
      "sequences"
     ],
     "language": "python",
     "metadata": {},
     "outputs": [
      {
       "metadata": {},
       "output_type": "pyout",
       "prompt_number": 401,
       "text": [
        "[SeqRecord(seq=Seq('GACATCAACCTAGTCGCAGCGCTATTTTTCCGGCATCTAACATTTAGCACTCGT...AAG', SingleLetterAlphabet()), id='bf3c140ddd9ce6f3e6ae461e802b4f0e39eb7ad806e337a04fbd2914aaf52d5f8cc79db937044c120077e37816a7d1cbbf5de1c573b20f0f80b41a5bb971549e|1|0', name='bf3c140ddd9ce6f3e6ae461e802b4f0e39eb7ad806e337a04fbd2914aaf52d5f8cc79db937044c120077e37816a7d1cbbf5de1c573b20f0f80b41a5bb971549e|1|0', description='bf3c140ddd9ce6f3e6ae461e802b4f0e39eb7ad806e337a04fbd2914aaf52d5f8cc79db937044c120077e37816a7d1cbbf5de1c573b20f0f80b41a5bb971549e|1|0 <unknown description>', dbxrefs=[]),\n",
        " SeqRecord(seq=Seq('GGGTTCCGTCTAAAATTGCTACCTCGCCTCGGGATGAATAGAGGGACAGAACGT...ACG', SingleLetterAlphabet()), id='bf3c140ddd9ce6f3e6ae461e802b4f0e39eb7ad806e337a04fbd2914aaf52d5f8cc79db937044c120077e37816a7d1cbbf5de1c573b20f0f80b41a5bb971549e|4|0', name='bf3c140ddd9ce6f3e6ae461e802b4f0e39eb7ad806e337a04fbd2914aaf52d5f8cc79db937044c120077e37816a7d1cbbf5de1c573b20f0f80b41a5bb971549e|4|0', description='bf3c140ddd9ce6f3e6ae461e802b4f0e39eb7ad806e337a04fbd2914aaf52d5f8cc79db937044c120077e37816a7d1cbbf5de1c573b20f0f80b41a5bb971549e|4|0 <unknown description>', dbxrefs=[]),\n",
        " SeqRecord(seq=Seq('GACATCAACCTAGTCGCAGCGCTATTTTTCCGGCATCTAACATTTAGCACTCGT...AAG', SingleLetterAlphabet()), id='7173bb22a982427d72e965bcfeb949c1362d9cb9c6532886afed795d6b2b6128a9f06c78c7f215175a0547fe2f2d37a6cf32dd9f77229e8159b42fafb64799f4|1|0', name='7173bb22a982427d72e965bcfeb949c1362d9cb9c6532886afed795d6b2b6128a9f06c78c7f215175a0547fe2f2d37a6cf32dd9f77229e8159b42fafb64799f4|1|0', description='7173bb22a982427d72e965bcfeb949c1362d9cb9c6532886afed795d6b2b6128a9f06c78c7f215175a0547fe2f2d37a6cf32dd9f77229e8159b42fafb64799f4|1|0 <unknown description>', dbxrefs=[]),\n",
        " SeqRecord(seq=Seq('CTGAGTCACTATCTGTTTCGTGTCTACTAGCTGGCAAGGGGCGGAGAGCCTGTT...AGA', SingleLetterAlphabet()), id='7173bb22a982427d72e965bcfeb949c1362d9cb9c6532886afed795d6b2b6128a9f06c78c7f215175a0547fe2f2d37a6cf32dd9f77229e8159b42fafb64799f4|4|0', name='7173bb22a982427d72e965bcfeb949c1362d9cb9c6532886afed795d6b2b6128a9f06c78c7f215175a0547fe2f2d37a6cf32dd9f77229e8159b42fafb64799f4|4|0', description='7173bb22a982427d72e965bcfeb949c1362d9cb9c6532886afed795d6b2b6128a9f06c78c7f215175a0547fe2f2d37a6cf32dd9f77229e8159b42fafb64799f4|4|0 <unknown description>', dbxrefs=[]),\n",
        " SeqRecord(seq=Seq('GACATCAACCTAGTCGCAGCGCTATTTTTCCGGCATCTAACATTTAGCACTCGT...AAG', SingleLetterAlphabet()), id='f8ff3e60754580d27692d6bc7da3b4da4052fa4cb3b334aa6ffab99042fdc67cb13f521b5100a83697ad42b2d64d6aeaef82391a5c4b82a618acda578db684e0|1|1', name='f8ff3e60754580d27692d6bc7da3b4da4052fa4cb3b334aa6ffab99042fdc67cb13f521b5100a83697ad42b2d64d6aeaef82391a5c4b82a618acda578db684e0|1|1', description='f8ff3e60754580d27692d6bc7da3b4da4052fa4cb3b334aa6ffab99042fdc67cb13f521b5100a83697ad42b2d64d6aeaef82391a5c4b82a618acda578db684e0|1|1 <unknown description>', dbxrefs=[]),\n",
        " SeqRecord(seq=Seq('GGGTTCCGTCTAAAATTGCTACCTCGCCTCGGGATGAATAGAGGGACAGAACGT...ACC', SingleLetterAlphabet()), id='f8ff3e60754580d27692d6bc7da3b4da4052fa4cb3b334aa6ffab99042fdc67cb13f521b5100a83697ad42b2d64d6aeaef82391a5c4b82a618acda578db684e0|4|1', name='f8ff3e60754580d27692d6bc7da3b4da4052fa4cb3b334aa6ffab99042fdc67cb13f521b5100a83697ad42b2d64d6aeaef82391a5c4b82a618acda578db684e0|4|1', description='f8ff3e60754580d27692d6bc7da3b4da4052fa4cb3b334aa6ffab99042fdc67cb13f521b5100a83697ad42b2d64d6aeaef82391a5c4b82a618acda578db684e0|4|1 <unknown description>', dbxrefs=[]),\n",
        " SeqRecord(seq=Seq('GACATCAACCTAGTCGCAGCGCTATTTTTCCGGCATCTAACATTTAGCACTCGT...AAG', SingleLetterAlphabet()), id='ce4da28a79d46bdc45e4b30abc45df97a5a0586a921e5b04e61ce9b3aae037ae69ec03f18366a398bcb3f51cb4ed32f3003e89bb0abed85ca99387380a098d90|1|2', name='ce4da28a79d46bdc45e4b30abc45df97a5a0586a921e5b04e61ce9b3aae037ae69ec03f18366a398bcb3f51cb4ed32f3003e89bb0abed85ca99387380a098d90|1|2', description='ce4da28a79d46bdc45e4b30abc45df97a5a0586a921e5b04e61ce9b3aae037ae69ec03f18366a398bcb3f51cb4ed32f3003e89bb0abed85ca99387380a098d90|1|2 <unknown description>', dbxrefs=[]),\n",
        " SeqRecord(seq=Seq('GGGTTCTGTCTAAAATTGCTACCTCGCCTCGGGATGAATAGAGGGACAGAACGT...ACC', SingleLetterAlphabet()), id='ce4da28a79d46bdc45e4b30abc45df97a5a0586a921e5b04e61ce9b3aae037ae69ec03f18366a398bcb3f51cb4ed32f3003e89bb0abed85ca99387380a098d90|4|2', name='ce4da28a79d46bdc45e4b30abc45df97a5a0586a921e5b04e61ce9b3aae037ae69ec03f18366a398bcb3f51cb4ed32f3003e89bb0abed85ca99387380a098d90|4|2', description='ce4da28a79d46bdc45e4b30abc45df97a5a0586a921e5b04e61ce9b3aae037ae69ec03f18366a398bcb3f51cb4ed32f3003e89bb0abed85ca99387380a098d90|4|2 <unknown description>', dbxrefs=[]),\n",
        " SeqRecord(seq=Seq('GACATCAACCTAGTCGCAGCGCTATTTTTCCGGCATCTAACATTTAGCACTCGT...AAG', SingleLetterAlphabet()), id='1caf98d2ad6f943699138866cb25effaf6a3a48deb2cb12665eeb5a72202600d93ad05c012a7b752c3336b48314fc0da137c059b87d996b5141cb35cc6db8393|1|3', name='1caf98d2ad6f943699138866cb25effaf6a3a48deb2cb12665eeb5a72202600d93ad05c012a7b752c3336b48314fc0da137c059b87d996b5141cb35cc6db8393|1|3', description='1caf98d2ad6f943699138866cb25effaf6a3a48deb2cb12665eeb5a72202600d93ad05c012a7b752c3336b48314fc0da137c059b87d996b5141cb35cc6db8393|1|3 <unknown description>', dbxrefs=[]),\n",
        " SeqRecord(seq=Seq('GGGTTCTGTCTAAAATTGCTACCTCGCCTCGGGATGAATAGAGGGACAGAACGT...ACC', SingleLetterAlphabet()), id='1caf98d2ad6f943699138866cb25effaf6a3a48deb2cb12665eeb5a72202600d93ad05c012a7b752c3336b48314fc0da137c059b87d996b5141cb35cc6db8393|4|3', name='1caf98d2ad6f943699138866cb25effaf6a3a48deb2cb12665eeb5a72202600d93ad05c012a7b752c3336b48314fc0da137c059b87d996b5141cb35cc6db8393|4|3', description='1caf98d2ad6f943699138866cb25effaf6a3a48deb2cb12665eeb5a72202600d93ad05c012a7b752c3336b48314fc0da137c059b87d996b5141cb35cc6db8393|4|3 <unknown description>', dbxrefs=[]),\n",
        " SeqRecord(seq=Seq('GACATCAACCTAGTCGCAGCGCTATTTTTCCGGCATCTAACATTTAGCACTCGT...AAG', SingleLetterAlphabet()), id='debcacc0df11bcf94a55533a890c589bf0c740c5eb3cda67460d2f3e12f760e5f3131bcf9945497fb589c9f69bf1e99ea9c65a9be8fe9922814f10d57c12f3a8|1|4', name='debcacc0df11bcf94a55533a890c589bf0c740c5eb3cda67460d2f3e12f760e5f3131bcf9945497fb589c9f69bf1e99ea9c65a9be8fe9922814f10d57c12f3a8|1|4', description='debcacc0df11bcf94a55533a890c589bf0c740c5eb3cda67460d2f3e12f760e5f3131bcf9945497fb589c9f69bf1e99ea9c65a9be8fe9922814f10d57c12f3a8|1|4 <unknown description>', dbxrefs=[]),\n",
        " SeqRecord(seq=Seq('GGGTTCTGTCTAAAATTGCTACCTCTCCTCGGGATGAAAAGAGGGACAGAACGT...ACC', SingleLetterAlphabet()), id='debcacc0df11bcf94a55533a890c589bf0c740c5eb3cda67460d2f3e12f760e5f3131bcf9945497fb589c9f69bf1e99ea9c65a9be8fe9922814f10d57c12f3a8|4|4', name='debcacc0df11bcf94a55533a890c589bf0c740c5eb3cda67460d2f3e12f760e5f3131bcf9945497fb589c9f69bf1e99ea9c65a9be8fe9922814f10d57c12f3a8|4|4', description='debcacc0df11bcf94a55533a890c589bf0c740c5eb3cda67460d2f3e12f760e5f3131bcf9945497fb589c9f69bf1e99ea9c65a9be8fe9922814f10d57c12f3a8|4|4 <unknown description>', dbxrefs=[]),\n",
        " SeqRecord(seq=Seq('GACATCAACCTAGTCGCAGCGCTATTTTTCCGGCATCTAACATTTAGCACTCGT...AAG', SingleLetterAlphabet()), id='d1578e1901e4c9e47437c2eefb2a5eb1c23423e02a1008a59d113f192cda7d70b3c713011e055a4ff52588d4e74a0f99bd36baf5341486b91461a98600839eb2|1|5', name='d1578e1901e4c9e47437c2eefb2a5eb1c23423e02a1008a59d113f192cda7d70b3c713011e055a4ff52588d4e74a0f99bd36baf5341486b91461a98600839eb2|1|5', description='d1578e1901e4c9e47437c2eefb2a5eb1c23423e02a1008a59d113f192cda7d70b3c713011e055a4ff52588d4e74a0f99bd36baf5341486b91461a98600839eb2|1|5 <unknown description>', dbxrefs=[]),\n",
        " SeqRecord(seq=Seq('GGGTTCCGTCTAAAATTGCTACCTCGCCTCGGGATGAATAGAGGGACAGAACGT...ACC', SingleLetterAlphabet()), id='d1578e1901e4c9e47437c2eefb2a5eb1c23423e02a1008a59d113f192cda7d70b3c713011e055a4ff52588d4e74a0f99bd36baf5341486b91461a98600839eb2|4|5', name='d1578e1901e4c9e47437c2eefb2a5eb1c23423e02a1008a59d113f192cda7d70b3c713011e055a4ff52588d4e74a0f99bd36baf5341486b91461a98600839eb2|4|5', description='d1578e1901e4c9e47437c2eefb2a5eb1c23423e02a1008a59d113f192cda7d70b3c713011e055a4ff52588d4e74a0f99bd36baf5341486b91461a98600839eb2|4|5 <unknown description>', dbxrefs=[]),\n",
        " SeqRecord(seq=Seq('GACATCAACCTAGTCGCAGCGCTATTTTTCCGGCATCTAACATTTAGCACTCGT...AAG', SingleLetterAlphabet()), id='46cced3e12507961144ffbb676cafd5213b489096c88b5d0549ca3a300fd3600fe3e210b8654ebfb551ea6efcf67ab4ef5570edf5e547b552ff2d1994145921d|1|6', name='46cced3e12507961144ffbb676cafd5213b489096c88b5d0549ca3a300fd3600fe3e210b8654ebfb551ea6efcf67ab4ef5570edf5e547b552ff2d1994145921d|1|6', description='46cced3e12507961144ffbb676cafd5213b489096c88b5d0549ca3a300fd3600fe3e210b8654ebfb551ea6efcf67ab4ef5570edf5e547b552ff2d1994145921d|1|6 <unknown description>', dbxrefs=[]),\n",
        " SeqRecord(seq=Seq('GGGTTCCGTCTAAAATTGCTACCTCGCCTCGAGATGAATAGAGGGACAGAACGT...ACG', SingleLetterAlphabet()), id='46cced3e12507961144ffbb676cafd5213b489096c88b5d0549ca3a300fd3600fe3e210b8654ebfb551ea6efcf67ab4ef5570edf5e547b552ff2d1994145921d|4|6', name='46cced3e12507961144ffbb676cafd5213b489096c88b5d0549ca3a300fd3600fe3e210b8654ebfb551ea6efcf67ab4ef5570edf5e547b552ff2d1994145921d|4|6', description='46cced3e12507961144ffbb676cafd5213b489096c88b5d0549ca3a300fd3600fe3e210b8654ebfb551ea6efcf67ab4ef5570edf5e547b552ff2d1994145921d|4|6 <unknown description>', dbxrefs=[]),\n",
        " SeqRecord(seq=Seq('GACATCAACCTAGTCGCAGCGCTATTTTTCCGGCATCTAACATTTAGCACTCGT...AAG', SingleLetterAlphabet()), id='9afef6a6629ce8a46271823f4f03cbb18fa2c5fbaa0b4a35f071fa0c37f0c3e3dcb96d788781610057b2c402b57c0e759b956734a1133c6837d9e970db18ee97|1|7', name='9afef6a6629ce8a46271823f4f03cbb18fa2c5fbaa0b4a35f071fa0c37f0c3e3dcb96d788781610057b2c402b57c0e759b956734a1133c6837d9e970db18ee97|1|7', description='9afef6a6629ce8a46271823f4f03cbb18fa2c5fbaa0b4a35f071fa0c37f0c3e3dcb96d788781610057b2c402b57c0e759b956734a1133c6837d9e970db18ee97|1|7 <unknown description>', dbxrefs=[]),\n",
        " SeqRecord(seq=Seq('GGGTTCCGTCTAAAATTGCTACCTCGCCTCGAGATGAATAGAGGGACAGAACGT...ACG', SingleLetterAlphabet()), id='9afef6a6629ce8a46271823f4f03cbb18fa2c5fbaa0b4a35f071fa0c37f0c3e3dcb96d788781610057b2c402b57c0e759b956734a1133c6837d9e970db18ee97|4|7', name='9afef6a6629ce8a46271823f4f03cbb18fa2c5fbaa0b4a35f071fa0c37f0c3e3dcb96d788781610057b2c402b57c0e759b956734a1133c6837d9e970db18ee97|4|7', description='9afef6a6629ce8a46271823f4f03cbb18fa2c5fbaa0b4a35f071fa0c37f0c3e3dcb96d788781610057b2c402b57c0e759b956734a1133c6837d9e970db18ee97|4|7 <unknown description>', dbxrefs=[]),\n",
        " SeqRecord(seq=Seq('GACATCAACCTAGTCGCAGCGCTATTTTTCCGGCATCTAACATTTAGCACTCGT...AAG', SingleLetterAlphabet()), id='1a0cd16d2d5e02a8fea70997d98a5f6f15a7504b4a4fe2a9274e044f039dcc8d00ed0c9deb925cb2524731e174395aa1a994494259364f8082050c5492e04803|1|8', name='1a0cd16d2d5e02a8fea70997d98a5f6f15a7504b4a4fe2a9274e044f039dcc8d00ed0c9deb925cb2524731e174395aa1a994494259364f8082050c5492e04803|1|8', description='1a0cd16d2d5e02a8fea70997d98a5f6f15a7504b4a4fe2a9274e044f039dcc8d00ed0c9deb925cb2524731e174395aa1a994494259364f8082050c5492e04803|1|8 <unknown description>', dbxrefs=[]),\n",
        " SeqRecord(seq=Seq('GGGTTCCGTCTAAAATTGCTACCTCGCCTCGGGATGAATAGAGGGACAGAACGT...ACC', SingleLetterAlphabet()), id='1a0cd16d2d5e02a8fea70997d98a5f6f15a7504b4a4fe2a9274e044f039dcc8d00ed0c9deb925cb2524731e174395aa1a994494259364f8082050c5492e04803|4|8', name='1a0cd16d2d5e02a8fea70997d98a5f6f15a7504b4a4fe2a9274e044f039dcc8d00ed0c9deb925cb2524731e174395aa1a994494259364f8082050c5492e04803|4|8', description='1a0cd16d2d5e02a8fea70997d98a5f6f15a7504b4a4fe2a9274e044f039dcc8d00ed0c9deb925cb2524731e174395aa1a994494259364f8082050c5492e04803|4|8 <unknown description>', dbxrefs=[]),\n",
        " SeqRecord(seq=Seq('GACATCAACCTAGTCGCAGCGCTATTTTTCCGGCATCTAACATTTAGCACTCGT...AAG', SingleLetterAlphabet()), id='85ce39bd200b564455502fbbccf233c4a703e16ae2c6a440de0d1c6df78a068bb7541065a89c9d9806b9d0082972314522f9c054f2d147c4aa3b52fcae3c1d2a|1|9', name='85ce39bd200b564455502fbbccf233c4a703e16ae2c6a440de0d1c6df78a068bb7541065a89c9d9806b9d0082972314522f9c054f2d147c4aa3b52fcae3c1d2a|1|9', description='85ce39bd200b564455502fbbccf233c4a703e16ae2c6a440de0d1c6df78a068bb7541065a89c9d9806b9d0082972314522f9c054f2d147c4aa3b52fcae3c1d2a|1|9 <unknown description>', dbxrefs=[]),\n",
        " SeqRecord(seq=Seq('GGGTTCTGTCTAAAATTGCTACCTCGCCTCGGGATGAATAGAGGGACAGAACGT...ACC', SingleLetterAlphabet()), id='85ce39bd200b564455502fbbccf233c4a703e16ae2c6a440de0d1c6df78a068bb7541065a89c9d9806b9d0082972314522f9c054f2d147c4aa3b52fcae3c1d2a|4|9', name='85ce39bd200b564455502fbbccf233c4a703e16ae2c6a440de0d1c6df78a068bb7541065a89c9d9806b9d0082972314522f9c054f2d147c4aa3b52fcae3c1d2a|4|9', description='85ce39bd200b564455502fbbccf233c4a703e16ae2c6a440de0d1c6df78a068bb7541065a89c9d9806b9d0082972314522f9c054f2d147c4aa3b52fcae3c1d2a|4|9 <unknown description>', dbxrefs=[])]"
       ]
      }
     ],
     "prompt_number": 401
    },
    {
     "cell_type": "code",
     "collapsed": false,
     "input": [
      "# Append the sequences to the dictionary.\n",
      "# This can be written into a function.\n",
      "split_char = '|' # The character that will be used to split the SeqRecord.id string\n",
      "pos_segment_num = 1 # The position of the segment number after splitting by the split_char\n",
      "\n",
      "for sequence in sequences:\n",
      "    segment_number = int(sequence.id.split(split_char)[pos_segment_num])\n",
      "    sequences_dictionary[segment_number].append(sequence)\n",
      "\n",
      "# sequences_dictionary"
     ],
     "language": "python",
     "metadata": {},
     "outputs": [],
     "prompt_number": 402
    },
    {
     "cell_type": "code",
     "collapsed": false,
     "input": [
      "# Create a NetworkX graph using one segment's sequences, and add nodes.\n",
      "import networkx as nx\n",
      "\n",
      "G = nx.DiGraph()\n",
      "\n",
      "splitchar = '|'\n",
      "pos_id = 0\n",
      "pos_segment_num = 1\n",
      "pos_creation_time = 2\n",
      "\n",
      "segment_number = 4\n",
      "\n",
      "for sequence in sequences_dictionary[segment_number]:\n",
      "    [isolate_id, segment_num, creation_time] = sequence.id.split(splitchar)\n",
      "    G.add_node(isolate_id[0:5], sequence=sequence.seq, id=isolate_id, segment_num=int(segment_num), creation_time=int(creation_time))\n",
      "\n",
      "# at this point, we would return G, and append it to the dictionary of Graphs available.\n",
      "# G.nodes(data=True)"
     ],
     "language": "python",
     "metadata": {},
     "outputs": [],
     "prompt_number": 403
    },
    {
     "cell_type": "code",
     "collapsed": false,
     "input": [
      "# Add edges to the graph, based on the Levenshtein distance between two sequences.\n",
      "import Levenshtein\n",
      "for node1 in G.nodes(data=True):\n",
      "    for node2 in G.nodes(data=True):\n",
      "        if node1[1]['creation_time'] < node2[1]['creation_time']:\n",
      "            weight = Levenshtein.distance(str(node1[1]['sequence']), str(node2[1]['sequence']))\n",
      "            G.add_edge(node1[0], node2[0], weight=weight)"
     ],
     "language": "python",
     "metadata": {},
     "outputs": [],
     "prompt_number": 404
    },
    {
     "cell_type": "code",
     "collapsed": false,
     "input": [
      "# Prune graph by distance.\n",
      "for node in G.nodes(data=True):\n",
      "    in_edges = G.in_edges(node[0], data=True)\n",
      "#     print in_edges\n",
      "    if len(in_edges) != 0:\n",
      "        min_weight = min([edge[2]['weight'] for edge in in_edges])\n",
      "        print min_weight\n",
      "        print node\n",
      "        for edge in in_edges:\n",
      "            if edge[2]['weight'] != min_weight:\n",
      "                G.remove_edge(edge[0], edge[1])"
     ],
     "language": "python",
     "metadata": {},
     "outputs": [
      {
       "output_type": "stream",
       "stream": "stdout",
       "text": [
        "10\n",
        "('1caf9', {'segment_num': 4, 'creation_time': 3, 'id': '1caf98d2ad6f943699138866cb25effaf6a3a48deb2cb12665eeb5a72202600d93ad05c012a7b752c3336b48314fc0da137c059b87d996b5141cb35cc6db8393', 'sequence': Seq('GGGTTCTGTCTAAAATTGCTACCTCGCCTCGGGATGAATAGAGGGACAGAACGT...ACC', SingleLetterAlphabet())})\n",
        "9\n",
        "('9afef', {'segment_num': 4, 'creation_time': 7, 'id': '9afef6a6629ce8a46271823f4f03cbb18fa2c5fbaa0b4a35f071fa0c37f0c3e3dcb96d788781610057b2c402b57c0e759b956734a1133c6837d9e970db18ee97', 'sequence': Seq('GGGTTCCGTCTAAAATTGCTACCTCGCCTCGAGATGAATAGAGGGACAGAACGT...ACG', SingleLetterAlphabet())})\n",
        "5\n",
        "('debca', {'segment_num': 4, 'creation_time': 4, 'id': 'debcacc0df11bcf94a55533a890c589bf0c740c5eb3cda67460d2f3e12f760e5f3131bcf9945497fb589c9f69bf1e99ea9c65a9be8fe9922814f10d57c12f3a8', 'sequence': Seq('GGGTTCTGTCTAAAATTGCTACCTCTCCTCGGGATGAAAAGAGGGACAGAACGT...ACC', SingleLetterAlphabet())})\n",
        "15\n",
        "('46cce', {'segment_num': 4, 'creation_time': 6, 'id': '46cced3e12507961144ffbb676cafd5213b489096c88b5d0549ca3a300fd3600fe3e210b8654ebfb551ea6efcf67ab4ef5570edf5e547b552ff2d1994145921d', 'sequence': Seq('GGGTTCCGTCTAAAATTGCTACCTCGCCTCGAGATGAATAGAGGGACAGAACGT...ACG', SingleLetterAlphabet())})\n",
        "8\n",
        "('d1578', {'segment_num': 4, 'creation_time': 5, 'id': 'd1578e1901e4c9e47437c2eefb2a5eb1c23423e02a1008a59d113f192cda7d70b3c713011e055a4ff52588d4e74a0f99bd36baf5341486b91461a98600839eb2', 'sequence': Seq('GGGTTCCGTCTAAAATTGCTACCTCGCCTCGGGATGAATAGAGGGACAGAACGT...ACC', SingleLetterAlphabet())})\n",
        "5\n",
        "('1a0cd', {'segment_num': 4, 'creation_time': 8, 'id': '1a0cd16d2d5e02a8fea70997d98a5f6f15a7504b4a4fe2a9274e044f039dcc8d00ed0c9deb925cb2524731e174395aa1a994494259364f8082050c5492e04803', 'sequence': Seq('GGGTTCCGTCTAAAATTGCTACCTCGCCTCGGGATGAATAGAGGGACAGAACGT...ACC', SingleLetterAlphabet())})\n",
        "12\n",
        "('ce4da', {'segment_num': 4, 'creation_time': 2, 'id': 'ce4da28a79d46bdc45e4b30abc45df97a5a0586a921e5b04e61ce9b3aae037ae69ec03f18366a398bcb3f51cb4ed32f3003e89bb0abed85ca99387380a098d90', 'sequence': Seq('GGGTTCTGTCTAAAATTGCTACCTCGCCTCGGGATGAATAGAGGGACAGAACGT...ACC', SingleLetterAlphabet())})\n",
        "18\n",
        "('f8ff3', {'segment_num': 4, 'creation_time': 1, 'id': 'f8ff3e60754580d27692d6bc7da3b4da4052fa4cb3b334aa6ffab99042fdc67cb13f521b5100a83697ad42b2d64d6aeaef82391a5c4b82a618acda578db684e0', 'sequence': Seq('GGGTTCCGTCTAAAATTGCTACCTCGCCTCGGGATGAATAGAGGGACAGAACGT...ACC', SingleLetterAlphabet())})\n",
        "11\n",
        "('85ce3', {'segment_num': 4, 'creation_time': 9, 'id': '85ce39bd200b564455502fbbccf233c4a703e16ae2c6a440de0d1c6df78a068bb7541065a89c9d9806b9d0082972314522f9c054f2d147c4aa3b52fcae3c1d2a', 'sequence': Seq('GGGTTCTGTCTAAAATTGCTACCTCGCCTCGGGATGAATAGAGGGACAGAACGT...ACC', SingleLetterAlphabet())})\n"
       ]
      }
     ],
     "prompt_number": 405
    },
    {
     "cell_type": "code",
     "collapsed": false,
     "input": [
      "nx.draw_circular(G)"
     ],
     "language": "python",
     "metadata": {},
     "outputs": [
      {
       "metadata": {},
       "output_type": "display_data",
       "png": "[encoded data removed]",
       "text": [
        "<matplotlib.figure.Figure at 0x10645bf10>"
       ]
      }
     ],
     "prompt_number": 406
    },
    {
     "cell_type": "markdown",
     "metadata": {},
     "source": [
      "# Test Reconstructor Class"
     ]
    },
    {
     "cell_type": "code",
     "collapsed": false,
     "input": [
      "from reconstructor import Reconstructor\n",
      "import networkx as nx"
     ],
     "language": "python",
     "metadata": {},
     "outputs": [],
     "prompt_number": 407
    },
    {
     "cell_type": "code",
     "collapsed": false,
     "input": [
      "r = Reconstructor(segments=[1, 4])\n",
      "print r.sequences\n",
      "print r.graphs"
     ],
     "language": "python",
     "metadata": {},
     "outputs": [
      {
       "output_type": "stream",
       "stream": "stdout",
       "text": [
        "{1: [], 4: []}\n",
        "{1: <networkx.classes.digraph.DiGraph object at 0x1068d9610>, 4: <networkx.classes.digraph.DiGraph object at 0x1068d99d0>}\n"
       ]
      }
     ],
     "prompt_number": 408
    },
    {
     "cell_type": "code",
     "collapsed": false,
     "input": [
      "fasta_file = 'FASTA Files/outfile_test.fasta'\n",
      "r.read_fasta_file(fasta_file)"
     ],
     "language": "python",
     "metadata": {},
     "outputs": [],
     "prompt_number": 409
    },
    {
     "cell_type": "code",
     "collapsed": false,
     "input": [
      "r.add_nodes_with_data()\n",
      "r.add_edges_with_weight()\n",
      "r.prune_graphs_by_weight()\n",
      "r.pruned_condensed_graph()"
     ],
     "language": "python",
     "metadata": {},
     "outputs": [
      {
       "metadata": {},
       "output_type": "pyout",
       "prompt_number": 410,
       "text": [
        "<networkx.classes.digraph.DiGraph at 0x106479c90>"
       ]
      }
     ],
     "prompt_number": 410
    },
    {
     "cell_type": "code",
     "collapsed": false,
     "input": [
      "r.condensed_graph().edges(data=True)"
     ],
     "language": "python",
     "metadata": {},
     "outputs": [
      {
       "metadata": {},
       "output_type": "pyout",
       "prompt_number": 411,
       "text": [
        "[('1caf9', '1a0cd', {'segments': [1], 'weight': 4}),\n",
        " ('1caf9', 'debca', {'segments': [1, 4], 'weight': 7}),\n",
        " ('1caf9', 'd1578', {'segments': [1], 'weight': 0}),\n",
        " ('f8ff3', 'ce4da', {'segments': [4], 'weight': 12}),\n",
        " ('f8ff3', 'd1578', {'segments': [4], 'weight': 8}),\n",
        " ('d1578', '1a0cd', {'segments': [1, 4], 'weight': 9}),\n",
        " ('7173b', 'ce4da', {'segments': [1], 'weight': 2}),\n",
        " ('7173b', 'f8ff3', {'segments': [1], 'weight': 2}),\n",
        " ('7173b', '46cce', {'segments': [1], 'weight': 1}),\n",
        " ('ce4da', '1caf9', {'segments': [1, 4], 'weight': 12}),\n",
        " ('ce4da', '85ce3', {'segments': [1, 4], 'weight': 12}),\n",
        " ('bf3c1', 'ce4da', {'segments': [1], 'weight': 2}),\n",
        " ('bf3c1', '46cce', {'segments': [1, 4], 'weight': 16}),\n",
        " ('bf3c1', 'f8ff3', {'segments': [1, 4], 'weight': 20}),\n",
        " ('46cce', '9afef', {'segments': [1, 4], 'weight': 9})]"
       ]
      }
     ],
     "prompt_number": 411
    },
    {
     "cell_type": "code",
     "collapsed": false,
     "input": [
      "r.condensed_graph().nodes(data=True)"
     ],
     "language": "python",
     "metadata": {},
     "outputs": [
      {
       "metadata": {},
       "output_type": "pyout",
       "prompt_number": 412,
       "text": [
        "[('1caf9',\n",
        "  {'creation_time': '3',\n",
        "   'id': '1caf98d2ad6f943699138866cb25effaf6a3a48deb2cb12665eeb5a72202600d93ad05c012a7b752c3336b48314fc0da137c059b87d996b5141cb35cc6db8393',\n",
        "   'segment_number': '4',\n",
        "   'sequence_1': 'GACATCAACCTAGTCGCAGCGCTATTTTTCCGGCATCTAACATTTAGCACTCGTCCTTATTCATTACTCTTATTGAAATTGGCCTCTTTGGACGGGAAGAACAACCCTGACGCATATCTGGGCATCCATGGCGCCCGTTTGACTCCGGAAAAGTACCCTTTCAGTTCATGCTTCTCGGGTTAGGTCAGGTCGCTGGAAAACATAGATCGATGTCGACGACTCAAGTATTTCAAATCGTTCAGATGCTTATGGATACACTGCAAGCAGTTGGCTAAACGCCAGAAGGCGCCAGCTAAAAAGCCGGGTCTCGGACACAAAGTAGAGTAACCCACACCGGCCGTGAAATGTTCTATCTACTACATGGGTTACCACGCTGTATTTGAACTAATACCTTTTAGGGTCTGGACCTTTTTGTTCAATGATGAGGGGTGAAGCTTCTGCGCAACGCATTGGCGGCTGAGCACCCTGTTCCCTGTGGAAAAGGGAGTTATTGACTGGGCACAAGCATTCTGCTTGCGCATCTCCCTATGCGCGGCACACCAAACAAACGAAGCCACATCGGACCCGCATTACTTCCTAGGTTTTTGATTTGCACTCACTGTAGGGAATGCGCAGAATGGACTTCCCCCAAATGTTGTACGCTGACGTCGCAGTGTCTGTATTCGTCAAGTCCGACGCATTTAATCACCGGTTATCTTGAGCGGGACTTTTAGGATGTAATTGTCCACGATTAGTCGATTAAATCGGGGTAACAGGCTACAGACTCGTCTAATAGGTATTCGTCGCGATGCTGGTAAACCACTCTCTGATCGACGCTCAATCGCTTTAGAGCTGATGTCGCGGCGTCCCGCTATCCTTAGTCCAAACACGTGAAGTTGCTTTTTTTATTCCCATCATATGAAGTGTACCTGGTGAAGGTCAACGGGGGGTGCATGGAATCCTATTGCTTGCCGACACTATCTCTAGAAGCGAGGATTGAGAGTAAACTTAACGTTATAAG',\n",
        "   'sequence_4': 'GGGTTCTGTCTAAAATTGCTACCTCGCCTCGGGATGAATAGAGGGACAGAACGTGAATATTTGCAGTATAGCCCTATGGGGATCGAGACCTAATGCCGAGTACAAGATACGGTTCGCTGGTAAGGACCCGAACCACTAGAGGGGTAGCTTAGGAACAAGATAGTGAGAGTTCATCGGAGTTCATTATCTACGATCGGTGGTCACAAACGCGCTAAAACATGTGTAAGAGAATCCCTGTCCTATTAGGGCTAGACTATAACACGAAGCCCGGCGGGTAGCCCGCTGAGACCATAGGGGTTAATACAAGGGCGGCGCGTAAAATGGGTGAACATGCCACGGTTTCTATGGCTGCCATTACTCATGAGAGTAAGTGTATTGTGATATTAGCCCCGAGTAGTAGGTTTATTGTTTAGCCGCCACATAGGCCACGCGTAGCAAGATTCTAAATTACTCGAGTCCGTGCCCATGTTCGGTGTCTGCGGGATAACCGGCCGTACGTCGCGTTCTTTCATCGTGGGGTGATTACGTAACTTGAAAGTACTATGGAATACGAAGACGATCTTCCGTTTATCTGTTTCCGAAGAGTTTCACCGGTCACAGACCCGTGATATCAGGCTTACGTAGCCGTCCATGATAGCGGAGCTGTTCACGTTGGTCGTGTTGATAGCGAATCTGCGGAGAGACAGAGGCGCTCGCTAGCGGAAGGCAATACACCCTATCGCGGGAACCCAGGTGGGCCGTTATAGAATAAGGGGACTGAACGGAACATGATTCTTGGAGGAGGCAATCCTGACCTAAGATCCGTATTTTGTTGAATAAGCGTAGGGGCTCCCGGAGGAGCCTAGGATGCCTGCTTCATTGCCCCGCGAACTTGTAGCAGGTAGCCTTGACTCGTTACTAGGTAGTGACTGATGTGCACACTTAAGACTAATGAGAAGAATGATAGAGTTCTATGCAACGATCCTCGGTCTCACGGAGATATGCTTTAGGACAAGGCACC'}),\n",
        " ('9afef',\n",
        "  {'creation_time': '7',\n",
        "   'id': '9afef6a6629ce8a46271823f4f03cbb18fa2c5fbaa0b4a35f071fa0c37f0c3e3dcb96d788781610057b2c402b57c0e759b956734a1133c6837d9e970db18ee97',\n",
        "   'segment_number': '4',\n",
        "   'sequence_1': 'GACATCAACCTAGTCGCAGCGCTATTTTTCCGGCATCTAACATTTAGCACTCGTCCTTATTCATTACTCTTATTGAAATTGGCCTCTTAGGGCGGGAAGAACAACCCTGACGCATATCTGGGCATCCATGGCGCCCTTTTGACTCCGGAAAAGTACCCTTTCAGTTCATGCTTGTCGGGTTAGGTCAGGTCGCTGGAAAACATAGATCGATGTCGACGACTCAAGTATTTCAAATCGTTCAGATGCTTATGGATACACTGCAAGCAGTTGGCTAAACGCCAGAAGGCGCCAGCTAAAAAGCCAGGTCTCGGACACAAAGTAGAGTAACCCACACCGGCCGTGAAATGTTCTATCTACTACATGGGTTACCACGCTGTATTTGAACTAATACCTTTTAGGGTCTGGACCTTTTTGTTCAATGATGAGGGGTGAAGCTTCTGCGCAACGCATTGGCGGCTGAGCACCCTGTTCCCTGTGGAAAAGGGAGTTATTGACTGGGCACAAGCATTCTGCTTGCGCATCTCCCTATGCGCGGCACACCAAACAAACGAAGCCACATCGGACCCGCATTACTTCCTAGGTTTTTGATTTGCACTCACTGTAGGGAATGCGCAGAATGGACTTCCCCCAAATGTTGTACGCTGACGTCGCAGTGTCTGTATTCGTCAAGTCCGACGCATTTAATCACCGGTTATCTTGAGCGGGACTTTTAGGATGTAATTGTCCACGATTAGTCGATTAAATCGGGGTAACAGGCTACAGACTCGTCTAATAGGTATTCGTCGCGATGCTGGTAAACCACTCTCTGATCGACGCTCAATCGCTTTAGAGCTGATGTCGCGGCGTCCCGCTATCCTTAGTCCAAACACGTGAAGTTGCTTTTTTTATTCCCATCATATGAAGTGTACCTGGTGAAGGTCAACGGGGGGTGCATGGAATCCTATTGCTTGCCGACACTATCTCTAGAAGCGAGGATTGAGAGTAAACTTAACGTTATAAG',\n",
        "   'sequence_4': 'GGGTTCCGTCTAAAATTGCTACCTCGCCTCGAGATGAATAGAGGGACAGAACGTGAATATTTGCAGTATGGCCCTGTGTGGATCGAGACCTAATGCCGAGTACAAGATACGGTTCGCTGGTAAGGAACCGAACCACTAGAGGGGTAGCTTAGGAACCAGATAGTGAGAATTCATCGGGGTTCATTATCTACGATAGGTGGTCACACGCGCGCTAAAACATGTGTAAGAGAATCCCTGACCTATTAGAGCTAGACTATAACACGAAACCCGGAGGGTGCTCCGCTGAGACCATAGGGGTTAATACAAGGGCGGCGCGTAAAATGGGTGAACATGCCACGGTTTCTACGGCTGCCATTCCTCATGAGAGTAAGTGTATTGTGTTATTTGCCCCGAGTAGTAGGTTTATTGTTTAGCCGTCCCATAGGTTCCGCGTAGCAAGATTCTCAATTACTCGAGGCCGTGCCGAAGTTCGGTGTCTGCGAGATAGCCTGCCGTACGTCGCGTTCTTTCATCGTGGGGTGATTACGTAACCTGAAAGTACTATGGAATACGAAGACGATCTTCCGTTTCTCTGTTTCCGAAGAGTTTCACCGGTCACAGACCCGAGATATCAGTTTTCCGTAGCCCTCCATGATAGCGGAGCTGTTCACGTTTGTCGTGTTGATAGCGAATCTGCGGAGAGACAGAGGCGCTCGCGAGGGGAAGGCAATACAACCTATCGCGGGAACCCAGGTGGGCCGTTCTAGAATAAGGGGACTGAACGGAACATGATCCTTGAAGGAGGGACTCGTGACCAAAGATCCGTATTTTGTTGAATAAGCGTAGGGGCTGCCGGAGGAGCCTAGGATGCCTGCTTCATTGCCCCGCGAACCTGTAGCAGGTAGCCTTGACTCCTTACTAGGTGGAGACTGATGTGCACCTTTTAGACTAATGAGAAGAATGATAGAGTTCTATGCTACGATCCTCGGTCTCACGGAGATATGCTTTAGGACAAGGCACG'}),\n",
        " ('f8ff3',\n",
        "  {'creation_time': '1',\n",
        "   'id': 'f8ff3e60754580d27692d6bc7da3b4da4052fa4cb3b334aa6ffab99042fdc67cb13f521b5100a83697ad42b2d64d6aeaef82391a5c4b82a618acda578db684e0',\n",
        "   'segment_number': '4',\n",
        "   'sequence_1': 'GACATCAACCTAGTCGCAGCGCTATTTTTCCGGCATCTAACATTTAGCACTCGTCCTTATTCATTACTCTTATTGAAATTGGCCTCTTAGGGCGGGAAGAACAACCCTGACGCATATCTGGGCATCCATGGCGCCCTTTTGACTCCGGAAAAGTACCCTTTCAGTTCATGCTTCTCGGGTTAGGTCCGGTCGCTGGAAAACATAGATCGATGTCGACGACTCAAGTATTTCAAATCGTTCAGATGCTTATGGATACACTGCAAGCAGTTGGCTAAACGCCAGAAGGCGCCAGCTAAAAAGCCAGGTCTCGGACACAAAGTAGAGTAACCCACACCGGCCGTGAAATGTTCTATCTACTACATGGGTTACCACGCTGTATTTGAACTAATACCTTTTAGGGTCTGGACCTTTTTGTTCAATGATGAGGGGTGAAGCTTCTGCGCAACGCATTGGCGGCTGAGCACCCTGTTCCCTGTGGAAAAGGGAGTTATTGACTGGGCACAAGCATTCTGCTTGCGCATCTCCCTATGCGCGGCACACCAAACAAACGAAGCCACATCGGACCCGCATTACTTCCTAGGTTTTTGATTTGCACTCACTGTAGGGAATGCGCAGAATGGAATTCCCCCAAATGTTGTACGCTGACGTCGCAGTGTCTGTATTCGTCAAGTCCGACGCATTTAATCACCGGTTATCTTGAGCGGGACTTTTAGGATGTAATTGTCCACGATTAGTCGATTAAATCGGGGTAACAGGCTACAGACTCGTCTAATAGGTATTCGTCGCGATGCTGGTAAACCACTCTCTGATCGACGCTCAATCGCTTTAGAGCTGATGTCGCGGCGTCCCGCTATCCTTAGTCCAAACACGTGAAGTTGCTTTTTTTATTCCCATCATATGAAGTGTACCTGGTGAAGGTCAACGGGGGGTGCATGGAATCCTATTGCTTGCCGACACTATCTCTAGAAGCGAGGATTGAGAGTAAACTTAACGTTATAAG',\n",
        "   'sequence_4': 'GGGTTCCGTCTAAAATTGCTACCTCGCCTCGGGATGAATAGAGGGACAGAACGTGAATATTTGCAGTATAGCCCTATGGGGATCGAGACCTAATGCCGAGTACAAGATACGGTTCGCTGGTAAGGACCCGAACCACTAGAGGGGTAGCTTAGGAACCAGATAGTGAGAGTTCATCGGGGTTCATTATCTACGATCGGTGGTCACACACGCGCTAAAACATGTGTAAGAGAATCCCTGACCTATTAGGGCTAGACTATAACACGAAGCCCGGCGGGTACTCCGCTGAGACCATAGGGGTTAATACAAGGGCGGCGCGTAAAATGGGTGAACATGCCACGGTTTCTATGGCTGCCATTACTCATGAGAGTAAGTGTATTGTGTTATTAGCCCCGAGTAGTAGGTTTATTGTTTAGCCGCCACATAGGTCCCGCGTAGCAAGATTCTAAATTACTCGAGTCCGTGCCCAAGTTCGGTGTCTGCGAGATATCCGGCCGTACGTCGCGTTCTTTCATCGTGGGGTGATTACGTAACCTGAAAGTACTATGGAATACGAAGACGATCTTCCGTTTATCTGTTTCCGAAGAGTTTCACCGGTCACAGACCCGTGATATCAGGCTTCCGTAGCCCTCCATGATAGCGGAGCTGTTCACGTTGGTCGTGTTGATAGCGAATCTGCGGAGAGACAGAGGCGCTCGCGAGCGGAAGGCAATACACCCTATCGCGGGAACCCAGGTGGGCCGTTCTAGAATAAGGGGACTGAACGGAACATGATCCTTGAAGGAGGCAATCCTGACCAAAGATCCGTATTTTGTTGAATAAGCGTAGGGGCTCCCGGAGGAGCCTAGGATGCCTGCTTCATTGCCCCGCGAACTTGTAGCAGGTAGCCTTGACTCGTTACTAGGTAGTGACTGATGTGCACCCTTAAGACTAATGAGAAGAATGATAGAGTTCTATGCAACGATCCTCGGTCTCACGGAGATATGCTTTAGGACAAGGCACC'}),\n",
        " ('d1578',\n",
        "  {'creation_time': '5',\n",
        "   'id': 'd1578e1901e4c9e47437c2eefb2a5eb1c23423e02a1008a59d113f192cda7d70b3c713011e055a4ff52588d4e74a0f99bd36baf5341486b91461a98600839eb2',\n",
        "   'segment_number': '4',\n",
        "   'sequence_1': 'GACATCAACCTAGTCGCAGCGCTATTTTTCCGGCATCTAACATTTAGCACTCGTCCTTATTCATTACTCTTATTGAAATTGGCCTCTTTGGACGGGAAGAACAACCCTGACGCATATCTGGGCATCCATGGCGCCCGTTTGACTCCGGAAAAGTACCCTTTCAGTTCATGCTTCTCGGGTTAGGTCAGGTCGCTGGAAAACATAGATCGATGTCGACGACTCAAGTATTTCAAATCGTTCAGATGCTTATGGATACACTGCAAGCAGTTGGCTAAACGCCAGAAGGCGCCAGCTAAAAAGCCGGGTCTCGGACACAAAGTAGAGTAACCCACACCGGCCGTGAAATGTTCTATCTACTACATGGGTTACCACGCTGTATTTGAACTAATACCTTTTAGGGTCTGGACCTTTTTGTTCAATGATGAGGGGTGAAGCTTCTGCGCAACGCATTGGCGGCTGAGCACCCTGTTCCCTGTGGAAAAGGGAGTTATTGACTGGGCACAAGCATTCTGCTTGCGCATCTCCCTATGCGCGGCACACCAAACAAACGAAGCCACATCGGACCCGCATTACTTCCTAGGTTTTTGATTTGCACTCACTGTAGGGAATGCGCAGAATGGACTTCCCCCAAATGTTGTACGCTGACGTCGCAGTGTCTGTATTCGTCAAGTCCGACGCATTTAATCACCGGTTATCTTGAGCGGGACTTTTAGGATGTAATTGTCCACGATTAGTCGATTAAATCGGGGTAACAGGCTACAGACTCGTCTAATAGGTATTCGTCGCGATGCTGGTAAACCACTCTCTGATCGACGCTCAATCGCTTTAGAGCTGATGTCGCGGCGTCCCGCTATCCTTAGTCCAAACACGTGAAGTTGCTTTTTTTATTCCCATCATATGAAGTGTACCTGGTGAAGGTCAACGGGGGGTGCATGGAATCCTATTGCTTGCCGACACTATCTCTAGAAGCGAGGATTGAGAGTAAACTTAACGTTATAAG',\n",
        "   'sequence_4': 'GGGTTCCGTCTAAAATTGCTACCTCGCCTCGGGATGAATAGAGGGACAGAACGTGAATATTTGCAGTATAGCCCTATGGGGATCGAGACCTAATGCCGAGTACAAGATACGGTTCGCTGGTAAGGACCCGAACCACTAGAGGGGTAGCTTAGGAACCAGATAGTGAGAGTTCATCGGGGTTCATTATCTACGATCGGTGGCCACACACGCGCTAAAACATGTGTAAGAGAATCCCTGACCTATTAGGGCTATACTATAACACGAAGCCCGGCGGGTACTCCGCTGAGACCATAGGGGTTAATACAAGGGCGGCGCGTAAAATGGGTGAACATGCCACGGTTTCTAGGGCTGCCATTACTCATGAGAGTAAGTGTATTGTGTTATTAGCCCCGAGTAGTAGGTTTATTGTTTAGCCGCCACATAGGTCCCGCGTAGCAAGATTCTAAATTACTCGAGTCCGTGCCCAAGTTCGGTGTCTGCGAGATATCCGGTCGTACGTCGCGTTCTTTCATCGTGGGGTGATTACGTAACCTGAAAGTACTATGGAATACGAAGACGATCTTCCGTTTATCTGTTTCCGAAGAGTTTCACCGGTCACAGACCCGTGATATCAGGCTTCCGTAGCCCTCCATGATAGCGGAGCTGTTCACGTTGGTCGTGTTGATAGCGAATCTGCGGCGAGACAGAGGCGCTCGCGAGCGGAAGGCAATACACCCTATCGCGGGAACCCAGGTGGGCCGTTCTAGAATAAGGGGACTGAACGGAACATGATCCTTGAAGGAGGCAATCCTGACCAAAGATCCGTATTTTGTTGAATAAGCGTAGGGGCTCCCGGAGGAGCCTAGGATGCCTGCTTCATTGCCCCGCGAACTTGTAGCAGGTAGCCTTGACTCGTTACTAGGTAGTGACTGATTTGCACCCTTAAGACTAATGAGAAGAATGATAGAGTTCTATGCAACGATCCTCGGTCTCACGGAGATATGCTTTAGCACAAGGGACC'}),\n",
        " ('debca',\n",
        "  {'creation_time': '4',\n",
        "   'id': 'debcacc0df11bcf94a55533a890c589bf0c740c5eb3cda67460d2f3e12f760e5f3131bcf9945497fb589c9f69bf1e99ea9c65a9be8fe9922814f10d57c12f3a8',\n",
        "   'segment_number': '4',\n",
        "   'sequence_1': 'GACATCAACCTAGTCGCAGCGCTATTTTTCCGGCATCTAACATTTAGCACTCGTCCTTATTCATTACTCTTATTGAAATTGGCCTCTTTGGACGGGAAGAACAACCCTGACGCATATCTGGGCATCCATGGCGCCCGTTTGACTCCGGAAAAGTACCCTTTCAGTTCATGCTTCTCGGGTTAGGTCAGGTCGCTGGAAAACATAGATCGATGTCGACGACTCAAGTATTTCAAATCGTTCAGATGCTTATGGATACACTGCAAGCAGTTGGCTAAACGCCAGAAGGCGCCAGCTAAAAAGCCGGGTCTCGGACACAAAGTAGAGTAACCCACACCGGCCGTGAAATGTTCTATCTACTACATGGGTTACCACGCTGTATTTGAACTAATACCTTTTAGGGTCTGGACCTTTTTGTTCAATGATGAGGGGTGAAGCTTCTGCGCAACGCATTGGCGTCTGAGCACCCTGTTCCCTGTGGAAAAGGGAGTTATTGACTGGGCACAAGCATTCTGCTTGCGCATCTCCCTATGCGCGGCACACCAAACAAACGAAGCCACATCGGACCCGCATTACTTCCTAGGTTTTTGATTTGCACTCACTGTAGGGAATGCGCAGAATGGACTTCCCCCAAATGTTGTACGCTGACGTCGCAGTGTCTGTATTCGTCAAGTCCGACGCATTTAATCACCGGTTATCTTGAGCGGCACTTTTAGGATGTAATTGTCCACGATTAGTCGATTAAATCGGGGTAACAGGCTACAGACTCGTCTAATAGGTATTCGTCGCGATGCTGGTAAACCACTCTCTGATCGACGCTCAATCGCTTTAGAGCTGATGTCGCGGCGTCCCGCTATCCTTAGTCCAAACACGTGAAGTTGCTTTTTTTATTCCCATCATATGAAGTGTACCTGGTGAAGGTCAACGGGGGGTGCATGGAATCCTATTGCTTGCCGACACTATCTCTAGAAGCGAGGATTGAGAGTAAACTTAACGTTATAAG',\n",
        "   'sequence_4': 'GGGTTCTGTCTAAAATTGCTACCTCTCCTCGGGATGAAAAGAGGGACAGAACGTGAATATTTGCAGTATAGCCCTATGGTGATCGAGACCTAATGCCGAGTACAAGATACGGTTCGCTGGTAAGGACCCGAACCACTAGAGGGGTAGCTTAGGAACAAGATAGTGAGAGTTCATCGGAGTTCATTATCTACGATCGGTGGTCACAAACGCGCTAAAACATGTGTAAGAGAATCCCTGTCCTATTAGGGCTAGACTATAACACGAAGCCCGGCGGGTAGCCCGCTGAGACCATAGGGGTTAATACAAGGGCGGCGCGTAAAATGGGTGAACATGCCACGGTTTCTATGGCTGCCATTACTCATGAGAGTAAGTGTATTGTGATATTAGCCCCGAGTAGTAGGTTTATTGTTTAGACGCCACATAGGCCACGCGTAGCAAGATTCTAAATTACTCGAATCCGTGCCCATGTTCGGTGTCTGCGGGATAACCGGCCGTACGTCGCGTTCTTTCATCGTGGGGTGATTACGTAACTTGAAAGTACTATGGAATACGAAGACGATCTTCCGTTTATCTGTTTCCGAAGAGTTTCACCGGTCACAGACCCGTGATATCAGGCTTACGTAGCCGTCCATGATAGCGGAGCTGTTCACGTTGGTCGTGTTGATAGCGAATCTGCGGAGAGACAGAGGCGCTCGCTAGCGGAAGGCAATACACCCTATCGCGGGAACCCAGGTGGGCCGTTATAGAATAAGGGGACTGAACGGAACATGATTCTTGGAGGAGGCAATCCTGACCTAAGATCCGTATTTTGTTGAATAAGCGTAGGGGCTCCCGGAGGAGCCTAGGATGCCTGCTTCATTGCCCCGCGAACTTGTAGCAGGTAGCCTTGACTCGTTACTAGGTAGTGACTGATGTGCACACTTAAGACTAATGAGAAGAATGATAGAGTTCTATGCAACGATCCTCGGTCTCACGGAGATATGCTTTAGGACAAGGCACC'}),\n",
        " ('7173b',\n",
        "  {'creation_time': '0',\n",
        "   'id': '7173bb22a982427d72e965bcfeb949c1362d9cb9c6532886afed795d6b2b6128a9f06c78c7f215175a0547fe2f2d37a6cf32dd9f77229e8159b42fafb64799f4',\n",
        "   'segment_number': '4',\n",
        "   'sequence_1': 'GACATCAACCTAGTCGCAGCGCTATTTTTCCGGCATCTAACATTTAGCACTCGTCCTTATTCATTACTCTTATTGAAATTGGCCTCTTAGGGCGGGAAGAACAACCCTGACGCATATCTGGGCATCCATGGCGCCCTTTTGACTCCGGAAAAGTACCCTTTCAGTTCATGCTTCTCGGGTTAGGTCAGGTCGCTGGAAAACATAGATCGATGTCGACGACTCAAGTATTTCAAATCGTTCAGATGCTTATGGATACACTGCAAGCAGTTGGCTAAACGCCAGAAGGCGCCAGCTAAAAAGCCAGGTCTCGGACACAAAGTAGAGTAACCCACACCGGCCGTGAAATGTTCTATCTACTACATGGGTTACCACGCTGTATTTGAACTAATACCTTTTAGGGTCTGGACCTTTTTGTTCAATGATGAGGGGTGAAGCTTCTGCGCAACGCATTGGCGGCTGAGCACCCTGTTCCCTGTGGAAAAGGGAGTTATTGACTGGGCACAAGCATTCTGCTTGCGCATCTCCCTATGCGCGGCACACCAAACAAACGAAGCCACATCGGACCCGCATTACTTCCTAGGTTTTTGATTTGCACTCACTGTAGGGAATGCGCAGAATGGACTTCCCCCAAATGTTGTACGCTGACGTCGCAGTGTCTGTATTCGTCAAGTCCGACGCATTTAATCACCGGTTATCTTGAGCGGGACTTTTAGGATGTAATTGTCCACGATTAGTCGATTAAATCGGGGTAACAGGCTACAGACTCGTCTAATAGGTATTCGTCGCGATGCTGGTAAACCACTCTCTGATCGACGCTCAATCGCTTTAGAGCTGATGTCGCGGCGTCCCGCTATCCTTAGTCCAAACACGTGAAGTTGCTTTTTTTATTCCCATCATATGAAGTGTACCTGGTGAAGGTCAACGGGGGGTGCATGGAATCCTATTGCTTGCCGACACTATCTCTAGAAGCGAGGATTGAGAGTAAACTTAACGTTATAAG',\n",
        "   'sequence_4': 'CTGAGTCACTATCTGTTTCGTGTCTACTAGCTGGCAAGGGGCGGAGAGCCTGTTTTCCACGATACGAAACGTGCCTAAAACTTCACTAGGCCTCCTCCCAGGGGGGCTACCAGAGCGTTATCAAATTAGAGGCATCCAAAAATTTCTCTCATATTTACACTGGGGGGAAAGCTTTCGATTCCGGGAGCAGATCGGACAGGTTTAAGCTAGACAAATTCTCTATTGGAAACAGCTGCCGATTAAGGGACGAGATGAAGCGGTCGGTGGGCTCGTCTATTAGTTACGTCAACGTGTTACTGGAGACCCGAGTGTTGATGATAAGGTCCTGCCGCTCGCTTCACCGGAAAAAACATATATAGATGCCCCCTAACGAAAATCGAGTCTTTTTACGAACCGAGGAAGAGATCGAACATGCGCTCCCGGCAGGGCTTACAGCGGATTTGTTCCCCGGGAGATACACATCGATCGAGGCCCTGACTGTTGAGTACGAATGCACGGCCCCTTTGAGGTCACCCCTACTACGAAACCTCGGAGCTCATGATGCGACTTAGGACTAGCGTGCCATGTCTGCCTTTCAGACGCCGCCGCTTCTATTCATACCCGCTCAATCGGATTGGCAGACATTGTGTAGTTATAGAAGCCATTACAATGTCAGCAGGATGATACACGGGCGAATAAACGAAATACTTGAAGATGACGCCTGGGTTAGTTTAGTCTCGTTTAGAAGCTTATAAGGTTGTTAATTGAGATGAGGTAGTTTGAACTTAACTTCGCCTTACTATCCAGTCGCTGGTCCTTCCATATGCCCACTCTGCCGACAGCCGTTAGACGGTGATGCCTTGTGGAAGAGCATACTCTGGCCGCCACCGGCGTAGTAAAGAGTTCAAGTGGCGACTCCCGACCGCCTTGCGGCTAACTACCTGGTTACTGTAAGCGGGTACACTTCACGTTTACGCGCGGAGGCCTAGAAAACCAACGAGGGCGATATGTAGCCTGGAGA'}),\n",
        " ('1a0cd',\n",
        "  {'creation_time': '8',\n",
        "   'id': '1a0cd16d2d5e02a8fea70997d98a5f6f15a7504b4a4fe2a9274e044f039dcc8d00ed0c9deb925cb2524731e174395aa1a994494259364f8082050c5492e04803',\n",
        "   'segment_number': '4',\n",
        "   'sequence_1': 'GACATCAACCTAGTCGCAGCGCTATTTTTCCGGCATCTAACATTTAGCACTCGTCCTTATTCATTACTCTTATTGAAATTGGCCTCTTTGGACGGGAAGAACAACCCTGACGCATATCTGGGGATCCATGGCGCCCGTTTGACTCCGGAAAAGTACCCTTTCAGTTCATGCTTCTCGGGTTAGGTCAGGTCGCTGGAAAACATAGATCGATGTCGACGACTCAAGTATTTCAAATCGTTCAGATGCTTATGGATACACTGCAAGCAGTTGGCTAAACGCCAGAAGGCGCCAGCTAAAAAGCCGGGTCTCGGACACAAAGTAGAGTAACCCACACCGGCCGTGAAATGTTCTATCTACTACATGGGTTACCACGCTGTATTTGAACTAATACCTTTTAGGGTCTGGACCTTTTTGTTCAATGATGAGGGGTGAAGCTTCTGCGCAACGCATTGGCGGCTGAGCACCCTGTTCCCTGTGGAAAAGGGAGTTATTGACTGGGCACAAGCATTCTGCTTGCGCATCTCCCTATGCGCGGCACACCAAACAAACGAAGCCACATCGGACCCGCATTACTTCCTAGGTTTTTGATTTGCACTCACTGTAGGGAATGCGCGGAATGGACTTCCCCCAAATGTTGTACGCTGACGTCGCAGTGTCTGTATTCGTCAAGTCCGACGCATTTAATCACCGGTTATCTTGAGCGGGACTTTTAGGATGTAATTGTCCACGATTAGTCGATTAAATGGGGGTAACAGGCTACAGACTCGTCTAATAGGTATTCGTCGCGATGCTGGTAAACCACTCTCTGATCGACGCTCAATCGCTTTAGAGCTGATATCGCGGCGTCCCGCTATCCTTAGTCCAAACACGTGAAGTTGCTTTTTTTATTCCCATCATATGAAGTGTACCTGGTGAAGGTCAACGGGGGGTGCATGGAATCCTATTGCTTGCCGACACTATCTCTAGAAGCGAGGATTGAGAGTAAACTTAACGTTATAAG',\n",
        "   'sequence_4': 'GGGTTCCGTCTAAAATTGCTACCTCGCCTCGGGATGAATAGAGGGACAGAACGTGAATATTTGCAGTATAGCCCTATGGAGATCGAGACCTAATGCCGAGTACAAGGTACGGTTCGCTGGTAAGGACCCGAACCACTAGAGGGGTAGCTTAGGAACCAGATAGTGAGAGTTCATCGGGGTTCATTATCTACGATCGGTGGCCACACACGCGCTAAAACATGTGTAAGAGAATCCCTGACCTATTAGGGCTATACTATAACACGAAGCCCGGCGGGTACTCCGCTGAGACCATAGGGGTTAATACAAGGGCGGCGCGTAAAATGGTTGAACATGCCACGGTTTCTAGGGCTGCCATGACTCATGAGAGTAAGTGTATTGTGTTATTAGCCCCGAGTAGTAGGTTTATTGTTTAGCCGCCACATAGGTCCCGCGTAGCAAGATTCTAAATTACTCGAGTCCGTGCCCAAGTTCGGTGTCTGCGAGATATCCGGTCGTACGTCGCGTTCTTTCATCGTGGGGTGATTACGTAACCTGAAAGTACTATGGAATACGAAGACGATCTTCCGTTTATCTGTTTCCGAAGAGTTTCACCGGTCACAGACCCGTGATATCAGGCTTCCGTAGCCCTCCATGATAGCGGAGCTGTTCACGTTGGTCGTGTTGATAGCGAATCTGCGGCGAGACAGAGGCGCTCGCGAGCGGAAGGCAATACACCCTATCGCGGGAACCCAGGTGGGCCGTTCTAGAATAAGGGGACTGAACGGAACATGATCCTTGAAGGAGGCAATCCTGACCAAAGATCCGTATTTTGTTGAATAAGCGTAGGGGCTCCCGGAGGAGCCTAGGATGCCTGCTTCATTGCCCCGCGAACTTGTAGCAGGTAGCCTTGACTCGTTACTAGGTCGTGACTGATTTGCACCCTTAAGACTAATGAGAAGAATGATAGAGTTCTATGCAACGATCCTCGGTCTCACGGAGATATGCTTTAGCACAAGGGACC'}),\n",
        " ('ce4da',\n",
        "  {'creation_time': '2',\n",
        "   'id': 'ce4da28a79d46bdc45e4b30abc45df97a5a0586a921e5b04e61ce9b3aae037ae69ec03f18366a398bcb3f51cb4ed32f3003e89bb0abed85ca99387380a098d90',\n",
        "   'segment_number': '4',\n",
        "   'sequence_1': 'GACATCAACCTAGTCGCAGCGCTATTTTTCCGGCATCTAACATTTAGCACTCGTCCTTATTCATTACTCTTATTGAAATTGGCCTCTTAGGGCGGGAAGAACAACCCTGACGCATATCTGGGCATCCATGGCGCCCGTTTGACTCCGGAAAAGTACCCTTTCAGTTCATGCTTCTCGGGTTAGGTCAGGTCGCTGGAAAACATAGATCGATGTCGACGACTCAAGTATTTCAAATCGTTCAGATGCTTATGGATACACTGCAAGCAGTTGGCTAAACGCCAGAAGGCGCCAGCTAAAAAGCCGGGTCTCGGACACAAAGTAGAGTAACCCACACCGGCCGTGAAATGTTCTATCTACTACATGGGTTACCACGCTGTATTTGAACTAATACCTTTTAGGGTCTGGACCTTTTTGTTCAATGATGAGGGGTGAAGCTTCTGCGCAACGCATTGGCGGCTGAGCACCCTGTTCCCTGTGGAAAAGGGAGTTATTGACTGGGCACAAGCATTCTGCTTGCGCATCTCCCTATGCGCGGCACACCAAACAAACGAAGCCACATCGGACCCGCATTACTTCCTAGGTTTTTGATTTGCACTCACTGTAGGGAATGCGCAGAATGGACTTCCCCCAAATGTTGTACGCTGACGTCGCAGTGTCTGTATTCGTCAAGTCCGACGCATTTAATCACCGGTTATCTTGAGCGGGACTTTTAGGATGTAATTGTCCACGATTAGTCGATTAAATCGGGGTAACAGGCTACAGACTCGTCTAATAGGTATTCGTCGCGATGCTGGTAAACCACTCTCTGATCGACGCTCAATCGCTTTAGAGCTGATGTCGCGGCGTCCCGCTATCCTTAGTCCAAACACGTGAAGTTGCTTTTTTTATTCCCATCATATGAAGTGTACCTGGTGAAGGTCAACGGGGGGTGCATGGAATCCTATTGCTTGCCGACACTATCTCTAGAAGCGAGGATTGAGAGTAAACTTAACGTTATAAG',\n",
        "   'sequence_4': 'GGGTTCTGTCTAAAATTGCTACCTCGCCTCGGGATGAATAGAGGGACAGAACGTGAATATTTGCAGTATAGCCCTATGGGGATCGAGACCTAATGCCGAGTACAAGATACGGTTCGCTGGTAAGGACCCGAACCACTAGAGGGGTAGCTTAGGAACCAGATAGTGAGAGTTCATCGGAGTTCATTATCTACGATCGGTGGTCACACACGCGCTAAAACATGTGTAAGAGAATCCCTGTCCTATTAGGGCTAGACTATAACACGAAGCCCGGCGGGTACCCCGCTGAGACCATAGGGGTTAATACAAGGGCGGCGCGTAAAATGGGTGAACATGCCACGGTTTCTATGGCTGCCATTACTCATGAGAGTAAGTGTATTGTGTTATTAGCCCCGAGTAGTAGGTTTATTGTTTAGCCGCCACATAGGTCACGCGTAGCAAGATTCTAAATTACTCGAGTCCGTGCCCAAGTTCGGTGTCTGCGAGATAACCGGCCGTACGTCGCGTTCTTTCATCGTGGGGTGATTACGTAACCTGAAAGTACTATGGAATACGAAGACGATCTTCCGTTTATCTGTTTCCGAAGAGTTTCACCGGTCACAGACCCGTGATATCAGGCTTCCGTAGCCGTCCATGATAGCGGAGCTGTTCACGTTGGTCGTGTTGATAGCGAATCTGCGGAGAGACAGAGGCGCTCGCTAGCGGAAGGCAATACACCCTATCGCGGGAACCCAGGTGGGCCGTTATAGAATAAGGGGACTGAACGGAACATGATCCTTGGAGGAGGCAATCCTGACCTAAGATCCGTATTTTGTTGAATAAGCGTAGGGGCTCCCGGAGGAGCCTAGGATGCCTGCTTCATTGCCCCGCGAACTTGTAGCAGGTAGCCTTGACTCGTTACTAGGTAGTGACTGATGTGCACACTTAAGACTAATGAGAAGAATGATAGAGTTCTATGCAACGATCCTCGGTCTCACGGAGATATGCTTTAGGACAAGGCACC'}),\n",
        " ('bf3c1',\n",
        "  {'creation_time': '0',\n",
        "   'id': 'bf3c140ddd9ce6f3e6ae461e802b4f0e39eb7ad806e337a04fbd2914aaf52d5f8cc79db937044c120077e37816a7d1cbbf5de1c573b20f0f80b41a5bb971549e',\n",
        "   'segment_number': '4',\n",
        "   'sequence_1': 'GACATCAACCTAGTCGCAGCGCTATTTTTCCGGCATCTAACATTTAGCACTCGTCCTTATTCATTACTCTTATTGAAATTGGCCTCTTAGGGCGGGAAGAACAACCCTGACGCATATCTGGGCATCCATGGCGCCCTTTTGACTCCGGAAAAGTACCCTTTCAGTTCATGCTTCTCGGGTTAGGTCAGGTCGCTGGAAAACATAGATCGATGTCGACGACTCAAGTATTTCAAATCGTTCAGATGCTTATGGATACACTGCAAGCAGTTGGCTAAACGCCAGAAGGCGCCAGCTAAAAAGCCAGGTCTCGGACACAAAGTAGAGTAACCCACACCGGCCGTGAAATGTTCTATCTACTACATGGGTTACCACGCTGTATTTGAACTAATACCTTTTAGGGTCTGGACCTTTTTGTTCAATGATGAGGGGTGAAGCTTCTGCGCAACGCATTGGCGGCTGAGCACCCTGTTCCCTGTGGAAAAGGGAGTTATTGACTGGGCACAAGCATTCTGCTTGCGCATCTCCCTATGCGCGGCACACCAAACAAACGAAGCCACATCGGACCCGCATTACTTCCTAGGTTTTTGATTTGCACTCACTGTAGGGAATGCGCAGAATGGACTTCCCCCAAATGTTGTACGCTGACGTCGCAGTGTCTGTATTCGTCAAGTCCGACGCATTTAATCACCGGTTATCTTGAGCGGGACTTTTAGGATGTAATTGTCCACGATTAGTCGATTAAATCGGGGTAACAGGCTACAGACTCGTCTAATAGGTATTCGTCGCGATGCTGGTAAACCACTCTCTGATCGACGCTCAATCGCTTTAGAGCTGATGTCGCGGCGTCCCGCTATCCTTAGTCCAAACACGTGAAGTTGCTTTTTTTATTCCCATCATATGAAGTGTACCTGGTGAAGGTCAACGGGGGGTGCATGGAATCCTATTGCTTGCCGACACTATCTCTAGAAGCGAGGATTGAGAGTAAACTTAACGTTATAAG',\n",
        "   'sequence_4': 'GGGTTCCGTCTAAAATTGCTACCTCGCCTCGGGATGAATAGAGGGACAGAACGTGAATATTTGCAGTATGGCCCTATGGGGATCGAGACCTAATGCCGAGTACAAGATACGGTTCGCTGGTAAGGACCCGAACCACTAGAGGGGTAGCTTAGGAACCAGATAGTGAGAGTTCATCGGGGTTCATTATCTACGATAGGTGGTCACACACGCGCTAAAACATGTGTAAGAGAATCCCTGACCTATTAGAGCTAGACTATAACACGAAGCCCGGAGGGTACTCCGCTGAGACCATAGGGGTTAATACAAGGGCGGCGCGTAAAATGGGTGAACATGCCACGGTTTCTATGGCTGCCATTCCTCATGAGAGTAAGTGTATTGTGTTATTTGCCCCGAGTAGTAGGTTTATTGTTTAGCCGCCCCATAGGTCCCGCGTAGCAAGATTCTCAATTACTCGAGGCCGTGCCCAAGTTCGGTGTCTGCGAGATAGCCGGCCGTACGTCGCGTTCTTTCATCGTGGGGTGATTACGTAACCTGAAAGTACTATGGAATACGAAGACGATCTTCCGTTTATCTGTTTCCGAAGAGTTTCACCGGTCACAGACCCGTGATATCAGGTTTCCGTAGCCCTCCATGATAGCGGAGCTGTTCACGTTGGTCGTGTTGATAGCGAATCTGCGGAGAGACAGAGGCGCTCGCGAGCGGAAGGCAATACACCCTATCGCGGGAACCCAGGTGGGCCGTTCTAGAATAAGGGGACTGAACGGAACATGATCCTTGAAGGAGGGAATCGTGACCAAAGATCCGTATTTTGTTGAATAAGCGTAGGGGCTCCCGGAGGAGCCTAGGATGCCTGCTTCATTGCCCCGCGAACTTGTAGCAGGTAGCCTTGACTCCTTACTAGGTAGAGACTGATGTGCACCCTTTAGACTAATGAGAAGAATGATAGAGTTCTATGCTACGATCCTCGGTCTCACGGAGATATGCTTTAGGACAAGGCACG'}),\n",
        " ('46cce',\n",
        "  {'creation_time': '6',\n",
        "   'id': '46cced3e12507961144ffbb676cafd5213b489096c88b5d0549ca3a300fd3600fe3e210b8654ebfb551ea6efcf67ab4ef5570edf5e547b552ff2d1994145921d',\n",
        "   'segment_number': '4',\n",
        "   'sequence_1': 'GACATCAACCTAGTCGCAGCGCTATTTTTCCGGCATCTAACATTTAGCACTCGTCCTTATTCATTACTCTTATTGAAATTGGCCTCTTAGGGCGGGAAGAACAACCCTGACGCATATCTGGGCATCCATGGCGCCCTTTTGACTCCGGAAAAGTACCCTTTCAGTTCATGCTTGTCGGGTTAGGTCAGGTCGCTGGAAAACATAGATCGATGTCGACGACTCAAGTATTTCAAATCGTTCAGATGCTTATGGATACACTGCAAGCAGTTGGCTAAACGCCAGAAGGCGCCAGCTAAAAAGCCAGGTCTCGGACACAAAGTAGAGTAACCCACACCGGCCGTGAAATGTTCTATCTACTACATGGGTTACCACGCTGTATTTGAACTAATACCTTTTAGGGTCTGGACCTTTTTGTTCAATGATGAGGGGTGAAGCTTCTGCGCAACGCATTGGCGGCTGAGCACCCTGTTCCCTGTGGAAAAGGGAGTTATTGACTGGGCACAAGCATTCTGCTTGCGCATCTCCCTATGCGCGGCACACCAAACAAACGAAGCCACATCGGACCCGCATTACTTCCTAGGTTTTTGATTTGCACTCACTGTAGGGAATGCGCAGAATGGACTTCCCCCAAATGTTGTACGCTGACGTCGCAGTGTCTGTATTCGTCAAGTCCGACGCATTTAATCACCGGTTATCTTGAGCGGGACTTTTAGGATGTAATTGTCCACGATTAGTCGATTAAATCGGGGTAACAGGCTACAGACTCGTCTAATAGGTATTCGTCGCGATGCTGGTAAACCACTCTCTGATCGACGCTCAATCGCTTTAGAGCTGATGTCGCGGCGTCCCGCTATCCTTAGTCCAAACACGTGAAGTTGCTTTTTTTATTCCCATCATATGAAGTGTACCTGGTGAAGGTCAACGGGGGGTGCATGGAATCCTATTGCTTGCCGACACTATCTCTAGAAGCGAGGATTGAGAGTAAACTTAACGTTATAAG',\n",
        "   'sequence_4': 'GGGTTCCGTCTAAAATTGCTACCTCGCCTCGAGATGAATAGAGGGACAGAACGTGAATATTTGCAGTATGGCCCTATGGGGATCGAGACCTAATGCCGAGTACAAGATACGGTTCGCTGGTAAGGAACCGAACCACTAGAGGGGTAGCTTAGGAACCAGATAGTGAGAATTCATCGGGGTTCATTATCTACGATAGGTGGTCACACACGCGCTAAAACATGTGTAAGAGAATCCCTGACCTATTAGAGCTAGACTATAACACGAAACCCGGAGGGTGCTCCGCTGAGACCATAGGGGTTAATACAAGGGCGGCGCGTAAAATGGGTGAACATGCCACGGTTTCTACGGCTGCCATTCCTCATGAGAGTAAGTGTATTGTGTTATTTGCCCCGAGTAGTAGGTTTATTGTTTAGCCGTCCCATAGGTTCCGCGTAGCAAGATTCTCAATTACTCGAGGCCGTGCCCAAGTTCGGTGTCTGCGAGATAGCCTGCCGTACGTCGCGTTCTTTCATCGTGGGGTGATTACGTAACCTGAAAGTACTATGGAATACGAAGACGATCTTCCGTTTATCTGTTTCCGAAGAGTTTCACCGGTCACAGACCCGTGATATCAGGTTTCCGTAGCCCTCCATGATAGCGGAGCTGTTCACGTTTGTCGTGTTGATAGCGAATCTGCGGAGAGACAGAGGCGCTCGCGAGGGGAAGGCAATACAACCTATCGCGGGAACCCAGGTGGGCCGTTCTAGAATAAGGGGACTGAACGGAACATGATCCTTGAAGGAGGGACTCGTGACCAAAGATCCGTATTTTGTTGAATAAGCGTAGGGGCTCCCGGAGGAGCCTAGGATGCCTGCTTCATTGCCCCGCGAACTTGTAGCAGGTAGCCTTGACTCCTTACTAGGTGGAGACTGATGTGCACCTTTTAGACTAATGAGAAGAATGATAGAGTTCTATGCTACGATCCTCGGTCTCACGGAGATATGCTTTAGGACAAGGCACG'}),\n",
        " ('85ce3',\n",
        "  {'creation_time': '9',\n",
        "   'id': '85ce39bd200b564455502fbbccf233c4a703e16ae2c6a440de0d1c6df78a068bb7541065a89c9d9806b9d0082972314522f9c054f2d147c4aa3b52fcae3c1d2a',\n",
        "   'segment_number': '4',\n",
        "   'sequence_1': 'GACATCAACCTAGTCGCAGCGCTATTTTTCCGGCATCTAACATTTAGCACTCGTCCTTATTCATTACTCTTATTGAAATTGGCCTCTTAGGGCGGGAAGAACAACCCTGACGCATATCTGGGCATCCATGGCGCCCGTTTGACTCCGGAAAAGTACCCTTTCAGTTCATGCTTCTCGGGTTAGGTCAGGTCGCTGGAAAACATAGATCGATGTCGACGACTCAAGTATTTCAAATCGTTCAGATGCTTATGGATACACTGCAAGCAGTTGGCTAAACGCCAGAAGGCGCCAGCTAAAAAGCCGGGTCTCGGACACAAAGTAGAGTAACCCACACCGGCCGTGAAATGTTCTATCTACTACATGGGTTACCACGCTGTATTTGAACTAATACCTTTTAGGGTCTGGACCTTTTTGTTCAATGATGAGGGGTGAAGCTTCTGCGCAACGCATTGGCGGCTGAGCACCCTGTTCCCTGTGGAAAAGGGAGTTATTGACTGGGCACAAGCATTCTGCTTGCGCATCTCCCTATGCGCGGCACACCAAACAAACGAAGCCACATCGGACCCGCATTACTTCCTAGGTTTTTGATTTGCACTCACTGTAGGGAATGCGCAGAATGGACTTCCCCCAAATGTTGTACGCTGACGTCGCAGTGTCTGTATTCGTCAAGTCCGACGCATTTAATCACCGGTTATCTTGAGCGGGACTTTTAGGATGTAATTGTCCACGATTAGTCGATTAAATCGGGGTAACAGGCTACAGACTCGTCTAATAGATATTCGTCGCGATGCTGGTAAACCACTCTCTGATCGACGCTCAATCGCTTTAGAGCTGATGTCGCGGCGTCCCGCTATCCTTAGTCCAAACACGTGAAGTTGCTTTTTTTATTCCCATCATATGAAGTGTACCTGGTGAAGGTCAACGGGGGGTGCATGGAATCCTATTGCTTGCCGACACTATCTCTAGAAGCGAGGATTGAGAGTAAACTTAACGTTATAAG',\n",
        "   'sequence_4': 'GGGTTCTGTCTAAAATTGCTACCTCGCCTCGGGATGAATAGAGGGACAGAACGTGAAGATTTGCAGTATAGCCCTATGGGGATCGAGACCTAATGCCGAGTACAAGATACGGTTCGCTGGTAAGGACCCGAACCACTAGAGGGGTACCCTAGGAACCAGATAGTGAGAGTTCATCGGAGTTCGTTATCTACGATCGGTGGTCACACACGCGCTAAAACATGTGTAAGAGAATCCCTGTCCTATTAGGGCTAGACTATAACACGAAGCCCGGCGGGTACCCCGCTGGGACCATAGGGGTTAATACAAGGGCGGCGCGTAAAATGGGTGAACATGCCACGGTTTCTATGGCTGCCATTACTCATGAGAGTAAGTGTATTGTGTTATTAGCCCCGAGTAGTAGGTTTATTGTTTAGCCGCCACATAGGTCAAGCGTAGCAAGATTCTAAATTACTCGAGTCCGTGCCCAAGTTCGGTGTCTGCGAGATAACCGGCCGTACGTCGCGTTCTTTCATCGTGGAGTGATTACGTAACCTGAAAGTACTATGGAATACGAAGACGATCTTCCGTTTATCTGTTTCCGAACAGTTTCACCGGTCACAGACCCGTGATATCAGGCGTCCGTAGCCGTCCATGATAGCGGAGCTGTTCACGTTGGTCGTGTTGATAGCGAATCTGCGGAGAGACAGAGGCGCTCGCTTGCGGAAGGCAATACACCCTATCGCGGGAACCCAGGTGGGCCGTTATAGAATAAGGGGACTGAACGGAACATGATCCTTGGAGGAGGCAATCCTGACCTAAGATCCGTATTTTGTTGAATAAGCGTAGGGGCTCCCGGAGTAGCCTAGGATGCCTGCTTCATTGCCCCGCGAACTTGTAGCAGGTAGCCTTGACTCGTTACTAGGTAGTGACTGATGTGCACACTTAAGACTAATGAGAAGAATGATAGAGTTCTATGCAACGATCCTCGGTCTCACGGAGATATGCTTTAGGACAAGGCACC'})]"
       ]
      }
     ],
     "prompt_number": 412
    },
    {
     "cell_type": "code",
     "collapsed": false,
     "input": [
      "s.pathogens[0].parent"
     ],
     "language": "python",
     "metadata": {},
     "outputs": [
      {
       "metadata": {},
       "output_type": "pyout",
       "prompt_number": 413,
       "text": [
        "{}"
       ]
      }
     ],
     "prompt_number": 413
    },
    {
     "cell_type": "code",
     "collapsed": false,
     "input": [
      "r.pruned_condensed_graph().edges(data=True)"
     ],
     "language": "python",
     "metadata": {},
     "outputs": [
      {
       "metadata": {},
       "output_type": "pyout",
       "prompt_number": 414,
       "text": [
        "[('1caf9', 'debca', {'segments': [1, 4], 'weight': 7}),\n",
        " ('1caf9', 'd1578', {'segments': [1], 'weight': 0}),\n",
        " ('f8ff3', 'ce4da', {'segments': [4], 'weight': 12}),\n",
        " ('f8ff3', 'd1578', {'segments': [4], 'weight': 8}),\n",
        " ('d1578', '1a0cd', {'segments': [1, 4], 'weight': 9}),\n",
        " ('7173b', 'ce4da', {'segments': [1], 'weight': 2}),\n",
        " ('ce4da', '1caf9', {'segments': [1, 4], 'weight': 12}),\n",
        " ('ce4da', '85ce3', {'segments': [1, 4], 'weight': 12}),\n",
        " ('bf3c1', 'ce4da', {'segments': [1], 'weight': 2}),\n",
        " ('bf3c1', '46cce', {'segments': [1, 4], 'weight': 16}),\n",
        " ('bf3c1', 'f8ff3', {'segments': [1, 4], 'weight': 20}),\n",
        " ('46cce', '9afef', {'segments': [1, 4], 'weight': 9})]"
       ]
      }
     ],
     "prompt_number": 414
    },
    {
     "cell_type": "code",
     "collapsed": false,
     "input": [
      "for virus in s.reassortants():\n",
      "    print virus"
     ],
     "language": "python",
     "metadata": {},
     "outputs": [
      {
       "output_type": "stream",
       "stream": "stdout",
       "text": [
        "ce4da\n",
        "d1578\n"
       ]
      }
     ],
     "prompt_number": 415
    },
    {
     "cell_type": "code",
     "collapsed": false,
     "input": [
      "for virus in r.reassortants():\n",
      "    print virus[0]"
     ],
     "language": "python",
     "metadata": {},
     "outputs": [
      {
       "output_type": "stream",
       "stream": "stdout",
       "text": [
        "d\n",
        "c\n"
       ]
      }
     ],
     "prompt_number": 416
    },
    {
     "cell_type": "code",
     "collapsed": false,
     "input": [
      "s.transmission_graph().edges(data=True)"
     ],
     "language": "python",
     "metadata": {},
     "outputs": [
      {
       "metadata": {},
       "output_type": "pyout",
       "prompt_number": 417,
       "text": [
        "[(bf3c1, 46cce, {'segments': [1, 4], 'weight': 16}),\n",
        " (bf3c1, f8ff3, {'segments': [1, 4], 'weight': 20}),\n",
        " (1caf9, debca, {'segments': [1, 4], 'weight': 7}),\n",
        " (1caf9, d1578, {'segments': [1], 'weight': 0}),\n",
        " (46cce, 9afef, {'segments': [1, 4], 'weight': 9}),\n",
        " (d1578, 1a0cd, {'segments': [1, 4], 'weight': 9}),\n",
        " (ce4da, 1caf9, {'segments': [1, 4], 'weight': 12}),\n",
        " (ce4da, 85ce3, {'segments': [1, 4], 'weight': 12}),\n",
        " (7173b, ce4da, {'segments': [1], 'weight': 2}),\n",
        " (f8ff3, ce4da, {'segments': [4], 'weight': 12}),\n",
        " (f8ff3, d1578, {'segments': [4], 'weight': 8})]"
       ]
      }
     ],
     "prompt_number": 417
    },
    {
     "cell_type": "markdown",
     "metadata": {},
     "source": [
      "# Test Relabeled Graph"
     ]
    },
    {
     "cell_type": "code",
     "collapsed": false,
     "input": [
      "for pathogen in s.pathogens:\n",
      "    print (str(pathogen), str(pathogen.parent))"
     ],
     "language": "python",
     "metadata": {},
     "outputs": [
      {
       "output_type": "stream",
       "stream": "stdout",
       "text": [
        "('bf3c1', '{}')\n",
        "('7173b', '{}')\n",
        "('f8ff3', '{bf3c1: [1, 4]}')\n",
        "('ce4da', '{7173b: [1], f8ff3: [4]}')\n",
        "('1caf9', '{ce4da: [1, 4]}')\n",
        "('debca', '{1caf9: [1, 4]}')\n",
        "('d1578', '{1caf9: [1], f8ff3: [4]}')\n",
        "('46cce', '{bf3c1: [1, 4]}')\n",
        "('9afef', '{46cce: [1, 4]}')\n",
        "('1a0cd', '{d1578: [1, 4]}')\n",
        "('85ce3', '{ce4da: [1, 4]}')\n"
       ]
      }
     ],
     "prompt_number": 418
    },
    {
     "cell_type": "code",
     "collapsed": false,
     "input": [
      "s.relabeled_transmission_graph().edges(data=True)"
     ],
     "language": "python",
     "metadata": {},
     "outputs": [
      {
       "metadata": {},
       "output_type": "pyout",
       "prompt_number": 419,
       "text": [
        "[('1caf9', 'debca', {'segments': [1, 4], 'weight': 7}),\n",
        " ('1caf9', 'd1578', {'segments': [1], 'weight': 0}),\n",
        " ('46cce', '9afef', {'segments': [1, 4], 'weight': 9}),\n",
        " ('d1578', '1a0cd', {'segments': [1, 4], 'weight': 9}),\n",
        " ('7173b', 'ce4da', {'segments': [1], 'weight': 2}),\n",
        " ('ce4da', '1caf9', {'segments': [1, 4], 'weight': 12}),\n",
        " ('ce4da', '85ce3', {'segments': [1, 4], 'weight': 12}),\n",
        " ('bf3c1', 'f8ff3', {'segments': [1, 4], 'weight': 20}),\n",
        " ('bf3c1', '46cce', {'segments': [1, 4], 'weight': 16}),\n",
        " ('f8ff3', 'ce4da', {'segments': [4], 'weight': 12}),\n",
        " ('f8ff3', 'd1578', {'segments': [4], 'weight': 8})]"
       ]
      }
     ],
     "prompt_number": 419
    },
    {
     "cell_type": "code",
     "collapsed": false,
     "input": [
      "r.pruned_condensed_graph().edges(data=True)"
     ],
     "language": "python",
     "metadata": {},
     "outputs": [
      {
       "metadata": {},
       "output_type": "pyout",
       "prompt_number": 420,
       "text": [
        "[('1caf9', 'debca', {'segments': [1, 4], 'weight': 7}),\n",
        " ('1caf9', 'd1578', {'segments': [1], 'weight': 0}),\n",
        " ('f8ff3', 'ce4da', {'segments': [4], 'weight': 12}),\n",
        " ('f8ff3', 'd1578', {'segments': [4], 'weight': 8}),\n",
        " ('d1578', '1a0cd', {'segments': [1, 4], 'weight': 9}),\n",
        " ('7173b', 'ce4da', {'segments': [1], 'weight': 2}),\n",
        " ('ce4da', '1caf9', {'segments': [1, 4], 'weight': 12}),\n",
        " ('ce4da', '85ce3', {'segments': [1, 4], 'weight': 12}),\n",
        " ('bf3c1', 'ce4da', {'segments': [1], 'weight': 2}),\n",
        " ('bf3c1', '46cce', {'segments': [1, 4], 'weight': 16}),\n",
        " ('bf3c1', 'f8ff3', {'segments': [1, 4], 'weight': 20}),\n",
        " ('46cce', '9afef', {'segments': [1, 4], 'weight': 9})]"
       ]
      }
     ],
     "prompt_number": 420
    },
    {
     "cell_type": "markdown",
     "metadata": {},
     "source": [
      "# Experiment with Accuracy Metrics"
     ]
    },
    {
     "cell_type": "code",
     "collapsed": false,
     "input": [
      "matching_edges = 0\n",
      "total_edges = len(s.relabeled_transmission_graph().edges())\n",
      "for edge in r.pruned_condensed_graph().edges(data=True):\n",
      "    if edge in s.relabeled_transmission_graph().edges(data=True):\n",
      "        matching_edges += 1\n",
      "        \n",
      "\n",
      "int(float(matching_edges) / total_edges * 100)"
     ],
     "language": "python",
     "metadata": {},
     "outputs": [
      {
       "metadata": {},
       "output_type": "pyout",
       "prompt_number": 421,
       "text": [
        "100"
       ]
      }
     ],
     "prompt_number": 421
    },
    {
     "cell_type": "code",
     "collapsed": false,
     "input": [
      "# This has been implemented in the prototype functions below.\n",
      "# float(len(r.identify_reassortants()))/float(len(s.identify_reassortants()))"
     ],
     "language": "python",
     "metadata": {},
     "outputs": [],
     "prompt_number": 422
    },
    {
     "cell_type": "code",
     "collapsed": false,
     "input": [
      "# Prototype #2 for Accuracy Functions (created on 2 July 2014)\n",
      "def fraction_accurate_reassortants(simulation, reconstruction):\n",
      "    \n",
      "    simulated = [str(item) for item in simulation.reassortants()]\n",
      "    simulated = set(simulated)\n",
      "    reconstructed = set(reconstruction.reassortants())\n",
      "    \n",
      "    overlaps = simulated.intersection(reconstructed)\n",
      "    \n",
      "    if len(simulated) == 0:\n",
      "        return \"No reassortants present in simulation.\"\n",
      "    else:\n",
      "        return float(len(overlaps)) / len(simulated)\n",
      "\n",
      "def fraction_inaccurate_reassortants(simulation, reconstruction):\n",
      "    \n",
      "    simulated = [str(item) for item in simulation.reassortants()]\n",
      "    reconstructed = reconstruction.reassortants()\n",
      "    \n",
      "    incorrect = 0\n",
      "    for isolate in reconstructed:\n",
      "        if isolate not in simulated:\n",
      "            incorrect += 1\n",
      "    \n",
      "    if len(reconstructed) == 0:\n",
      "        return \"No reassortants detected in reconstruction.\"\n",
      "    else:\n",
      "        return float(incorrect) / len(reconstructed)\n",
      "\n",
      "\n",
      "def fraction_accurate_edges(simulation, reconstruction):\n",
      "    \n",
      "    simulated = simulation.relabeled_transmission_graph().edges(data=True)\n",
      "    reconstructed = reconstruction.pruned_condensed_graph().edges(data=True)\n",
      "    \n",
      "    overlaps = 0\n",
      "    for edge in reconstructed:\n",
      "        if edge in simulated:\n",
      "            overlaps += 1\n",
      "    \n",
      "    return float(overlaps) / len(simulated)\n",
      "\n",
      "def fraction_inaccurate_edges(simulation, reconstruction):\n",
      "    \n",
      "    simulated = simulation.relabeled_transmission_graph().edges(data=True)\n",
      "    reconstructed = reconstruction.pruned_condensed_graph().edges(data=True)\n",
      "    \n",
      "    incorrect = 0\n",
      "    \n",
      "    for edge in reconstructed:\n",
      "        if edge not in simulated:\n",
      "            incorrect += 1\n",
      "    \n",
      "    return float(incorrect) / len(reconstructed)\n",
      "\n",
      "def path_accuracy(simulation, reconstruction):\n",
      "    \n",
      "    simulated = simulation.relabeled_transmission_graph().edges(data=True)\n",
      "    reconstructed = reconstruction.pruned_condensed_graph().edges(data=True)\n",
      "    \n",
      "    num_considered = 0\n",
      "    num_correct = 0\n",
      "    \n",
      "    for edge in reconstructed:\n",
      "        num_considered += 1\n",
      "        if reconstruction.is_full_transmission_edge(edge):\n",
      "            if simulation.full_transmission_path_exists(edge[0], edge[1]):\n",
      "                num_correct += 1\n",
      "            else:\n",
      "                pass\n",
      "        else:\n",
      "            num_correct_segments = 0\n",
      "            for segment in edge[2]['segments']:\n",
      "                if simulation.segment_transmission_path_exists(edge[0], edge[1], segment):\n",
      "                    num_correct_segments += 1\n",
      "                    \n",
      "            if len(edge[2]['segments']) == num_correct_segments:\n",
      "                num_correct += 1\n",
      "                \n",
      "            else:\n",
      "                pass\n",
      "            \n",
      "    return float(num_correct) / float(num_considered)"
     ],
     "language": "python",
     "metadata": {},
     "outputs": [],
     "prompt_number": 423
    },
    {
     "cell_type": "code",
     "collapsed": false,
     "input": [
      "print fraction_accurate_reassortants(s, r)\n",
      "print fraction_inaccurate_reassortants(s, r)\n",
      "print fraction_accurate_edges(s, r)\n",
      "print fraction_inaccurate_edges(s, r)\n",
      "print path_accuracy(s, r)"
     ],
     "language": "python",
     "metadata": {},
     "outputs": [
      {
       "output_type": "stream",
       "stream": "stdout",
       "text": [
        "1.0\n",
        "0.0\n",
        "1.0"
       ]
      },
      {
       "output_type": "stream",
       "stream": "stdout",
       "text": [
        "\n",
        "0.0833333333333"
       ]
      },
      {
       "output_type": "stream",
       "stream": "stdout",
       "text": [
        "\n",
        "0.916666666667"
       ]
      },
      {
       "output_type": "stream",
       "stream": "stdout",
       "text": [
        "\n"
       ]
      }
     ],
     "prompt_number": 424
    },
    {
     "cell_type": "code",
     "collapsed": false,
     "input": [
      "# This code is used for drawing.\n",
      "from random import randint\n",
      "\n",
      "randints = []\n",
      "for node in r.condensed_graph().nodes(data=True):\n",
      "    randints.append(randint(1, 20))\n",
      "print randints\n",
      "\n",
      "reconstruction_positions = dict()\n",
      "for i, node in enumerate(sorted(r.condensed_graph().nodes(data=True))):\n",
      "    reconstruction_positions[node[0]] = (int(node[1]['creation_time']), randints[i])\n",
      "    \n",
      "print len(reconstruction_positions)\n",
      "nx.draw(r.pruned_condensed_graph(), pos=reconstruction_positions)"
     ],
     "language": "python",
     "metadata": {},
     "outputs": [
      {
       "output_type": "stream",
       "stream": "stdout",
       "text": [
        "[16, 19, 14, 1, 11, 9, 11, 19, 17, 11, 3]\n",
        "11\n"
       ]
      },
      {
       "metadata": {},
       "output_type": "display_data",
       "png": "[encoded data removed]",
       "text": [
        "<matplotlib.figure.Figure at 0x1063f81d0>"
       ]
      }
     ],
     "prompt_number": 425
    },
    {
     "cell_type": "code",
     "collapsed": false,
     "input": [
      "simulation_positions = dict()\n",
      "\n",
      "print randints\n",
      "for i, pathogen in enumerate(s.pathogens):\n",
      "    simulation_positions[pathogen] = reconstruction_positions[str(pathogen)]\n",
      "    \n",
      "print len(simulation_positions)\n",
      "nx.draw(s.transmission_graph(), pos=simulation_positions)"
     ],
     "language": "python",
     "metadata": {},
     "outputs": [
      {
       "output_type": "stream",
       "stream": "stdout",
       "text": [
        "[16, 19, 14, 1, 11, 9, 11, 19, 17, 11, 3]\n",
        "11\n"
       ]
      },
      {
       "metadata": {},
       "output_type": "display_data",
       "png": "[encoded data removed]",
       "text": [
        "<matplotlib.figure.Figure at 0x1068ed190>"
       ]
      }
     ],
     "prompt_number": 426
    },
    {
     "cell_type": "code",
     "collapsed": false,
     "input": [
      "print s.reassortants(), r.reassortants()"
     ],
     "language": "python",
     "metadata": {},
     "outputs": [
      {
       "output_type": "stream",
       "stream": "stdout",
       "text": [
        "[ce4da, d1578] ['d1578', 'ce4da']\n"
       ]
      }
     ],
     "prompt_number": 427
    },
    {
     "cell_type": "code",
     "collapsed": false,
     "input": [
      "for item in s.relabeled_transmission_graph().edges(data=True):\n",
      "    print item"
     ],
     "language": "python",
     "metadata": {},
     "outputs": [
      {
       "output_type": "stream",
       "stream": "stdout",
       "text": [
        "('1caf9', 'debca', {'segments': [1, 4], 'weight': 7})\n",
        "('1caf9', 'd1578', {'segments': [1], 'weight': 0})\n",
        "('46cce', '9afef', {'segments': [1, 4], 'weight': 9})\n",
        "('d1578', '1a0cd', {'segments': [1, 4], 'weight': 9})\n",
        "('7173b', 'ce4da', {'segments': [1], 'weight': 2})\n",
        "('ce4da', '1caf9', {'segments': [1, 4], 'weight': 12})\n",
        "('ce4da', '85ce3', {'segments': [1, 4], 'weight': 12})\n",
        "('bf3c1', 'f8ff3', {'segments': [1, 4], 'weight': 20})\n",
        "('bf3c1', '46cce', {'segments': [1, 4], 'weight': 16})\n",
        "('f8ff3', 'ce4da', {'segments': [4], 'weight': 12})\n",
        "('f8ff3', 'd1578', {'segments': [4], 'weight': 8})\n"
       ]
      }
     ],
     "prompt_number": 428
    },
    {
     "cell_type": "code",
     "collapsed": false,
     "input": [
      "for item in r.pruned_condensed_graph().edges(data=True):\n",
      "    print item"
     ],
     "language": "python",
     "metadata": {},
     "outputs": [
      {
       "output_type": "stream",
       "stream": "stdout",
       "text": [
        "('1caf9', 'debca', {'segments': [1, 4], 'weight': 7})\n",
        "('1caf9', 'd1578', {'segments': [1], 'weight': 0})\n",
        "('f8ff3', 'ce4da', {'segments': [4], 'weight': 12})\n",
        "('f8ff3', 'd1578', {'segments': [4], 'weight': 8})\n",
        "('d1578', '1a0cd', {'segments': [1, 4], 'weight': 9})\n",
        "('7173b', 'ce4da', {'segments': [1], 'weight': 2})\n",
        "('ce4da', '1caf9', {'segments': [1, 4], 'weight': 12})\n",
        "('ce4da', '85ce3', {'segments': [1, 4], 'weight': 12})\n",
        "('bf3c1', 'ce4da', {'segments': [1], 'weight': 2})\n",
        "('bf3c1', '46cce', {'segments': [1, 4], 'weight': 16})\n",
        "('bf3c1', 'f8ff3', {'segments': [1, 4], 'weight': 20})\n",
        "('46cce', '9afef', {'segments': [1, 4], 'weight': 9})\n"
       ]
      }
     ],
     "prompt_number": 429
    },
    {
     "cell_type": "code",
     "collapsed": false,
     "input": [
      "# print s.full_transmission_paths()\n",
      "# print s.segment_transmission_paths(1)\n",
      "# print s.segment_transmission_paths(4)\n",
      "# print s.reassortants()\n",
      "# print r.reassortants()\n",
      "# print reassortant_accuracy(s, r)\n",
      "# print transmission_edge_accuracy(s, r)\n",
      "# print transmission_path_accuracy(s, r)\n",
      "# print segment_transmission_path_accuracy(s, r, 1)\n",
      "# print segment_transmission_path_accuracy(s, r, 4)"
     ],
     "language": "python",
     "metadata": {},
     "outputs": [],
     "prompt_number": 430
    },
    {
     "cell_type": "markdown",
     "metadata": {},
     "source": [
      "# Test path_exists(node1, node2) function"
     ]
    },
    {
     "cell_type": "code",
     "collapsed": false,
     "input": [
      "# 1 July 2014 - API Change so the following path_exist(node1, node2) code does not stand. \n",
      "# Segment number has to be specified in order for it to stand.\n",
      "# s.path_exists('b90bb', '3d39c')"
     ],
     "language": "python",
     "metadata": {},
     "outputs": [],
     "prompt_number": 431
    },
    {
     "cell_type": "code",
     "collapsed": false,
     "input": [
      "s.relabeled_transmission_graph().nodes()"
     ],
     "language": "python",
     "metadata": {},
     "outputs": [
      {
       "metadata": {},
       "output_type": "pyout",
       "prompt_number": 432,
       "text": [
        "['9afef',\n",
        " 'd1578',\n",
        " '7173b',\n",
        " '1a0cd',\n",
        " 'ce4da',\n",
        " 'bf3c1',\n",
        " 'f8ff3',\n",
        " '85ce3',\n",
        " '1caf9',\n",
        " 'debca',\n",
        " '46cce']"
       ]
      }
     ],
     "prompt_number": 432
    },
    {
     "cell_type": "code",
     "collapsed": false,
     "input": [
      "# s.path_exists('2851c', '09001')"
     ],
     "language": "python",
     "metadata": {},
     "outputs": [],
     "prompt_number": 433
    },
    {
     "cell_type": "code",
     "collapsed": false,
     "input": [],
     "language": "python",
     "metadata": {},
     "outputs": [],
     "prompt_number": 433
    },
    {
     "cell_type": "code",
     "collapsed": false,
     "input": [],
     "language": "python",
     "metadata": {},
     "outputs": [],
     "prompt_number": 433
    },
    {
     "cell_type": "code",
     "collapsed": false,
     "input": [
      "# # Prototype for the accuracy functions. (commented out on 2 July 2014)\n",
      "# def reassortant_accuracy(simulation, reconstruction):\n",
      "#     num_simulation_reassortants = float(len(simulation.reassortants()))\n",
      "#     num_reconstruction_reassortants = float(len(reconstruction.reassortants()))\n",
      "    \n",
      "#     if num_simulation_reassortants == 0:\n",
      "#         return 'No reassortants present in simulation.'\n",
      "#     else:\n",
      "#         return num_reconstruction_reassortants / num_simulation_reassortants\n",
      "    \n",
      "# def transmission_edge_accuracy(simulation, reconstruction):\n",
      "#     matching_edges = 0\n",
      "#     total_edges = len(simulation.relabeled_transmission_graph().edges())\n",
      "    \n",
      "#     reconstructed = reconstruction.pruned_condensed_graph()\n",
      "#     simulated = simulation.relabeled_transmission_graph()\n",
      "    \n",
      "#     for edge in reconstructed.edges(data=True):\n",
      "#         if edge in simulated.edges(data=True):\n",
      "#             matching_edges += 1\n",
      "            \n",
      "#     return float(matching_edges) / total_edges\n",
      "\n",
      "# def transmission_path_accuracy(simulation, reconstruction):\n",
      "#     \"\"\"\n",
      "#     The accuracy of transmission paths is the number of accurate paths found \n",
      "#     divided by the number of paths being considered.\n",
      "#     \"\"\"\n",
      "#     reconstructed = reconstruction.full_transmission_graph()\n",
      "#     simulated = simulation.full_transmission_graph()\n",
      "\n",
      "#     num_paths = len(simulated.edges())\n",
      "#     accurate_paths = 0\n",
      "    \n",
      "#     for edge in reconstructed.edges():\n",
      "#         if simulation.full_transmission_path_exists(edge[0], edge[1]):\n",
      "#             accurate_paths += 1\n",
      "    \n",
      "#     return float(accurate_paths)/num_paths\n",
      "\n",
      "# def segment_transmission_path_accuracy(simulation, reconstruction, segment):\n",
      "#     \"\"\"\n",
      "#     This method will return the transmission accuracy score for a given segment.\n",
      "#     \"\"\"\n",
      "    \n",
      "#     reconstructed = reconstruction.segment_transmission_graph(segment=segment)\n",
      "#     simulated = simulation.segment_transmission_graph(segment=segment)\n",
      "    \n",
      "#     accurate_paths = 0\n",
      "#     num_paths = len(simulated.edges())\n",
      "    \n",
      "#     for edge in reconstructed.edges():\n",
      "#         if simulation.segment_transmission_path_exists(edge[0], edge[1], segment=segment):\n",
      "#             accurate_paths += 1\n",
      "            \n",
      "#     return float(accurate_paths)/num_paths\n",
      "    "
     ],
     "language": "python",
     "metadata": {},
     "outputs": [],
     "prompt_number": 434
    },
    {
     "cell_type": "code",
     "collapsed": false,
     "input": [],
     "language": "python",
     "metadata": {},
     "outputs": [],
     "prompt_number": 434
    },
    {
     "cell_type": "code",
     "collapsed": false,
     "input": [],
     "language": "python",
     "metadata": {},
     "outputs": [],
     "prompt_number": 434
    },
    {
     "cell_type": "code",
     "collapsed": false,
     "input": [],
     "language": "python",
     "metadata": {},
     "outputs": [],
     "prompt_number": 434
    }
   ],
   "metadata": {}
  }
 ]
}