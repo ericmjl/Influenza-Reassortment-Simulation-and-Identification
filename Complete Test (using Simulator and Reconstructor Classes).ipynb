{
 "metadata": {
  "name": "",
  "signature": "sha256:4571cc033e3f9324ecaff6568e462a4d5a4367a2591a93112f582f54c278c2a5"
 },
 "nbformat": 3,
 "nbformat_minor": 0,
 "worksheets": [
  {
   "cells": [
    {
     "cell_type": "code",
     "collapsed": false,
     "input": [
      "from pathogen import Pathogen\n",
      "from segment import Segment\n",
      "from sequence import Sequence\n",
      "from simulator import Simulator"
     ],
     "language": "python",
     "metadata": {},
     "outputs": [],
     "prompt_number": 862
    },
    {
     "cell_type": "code",
     "collapsed": false,
     "input": [
      "# Initialize sequences\n",
      "sequence_PB2 = Sequence(length=1000) #this is representative of segment 1, PB2\n",
      "sequence_H1 = Sequence(length=1000) #this is representative of segment 4, H1\n",
      "sequence_H2 = Sequence(length=1000) #this is representative of segment 4, H2"
     ],
     "language": "python",
     "metadata": {},
     "outputs": [],
     "prompt_number": 863
    },
    {
     "cell_type": "code",
     "collapsed": false,
     "input": [
      "# Initialize segments\n",
      "segment_PB2 = Segment(segment_number=1, substitution_rate=1E-3, sequence=sequence_PB2)\n",
      "segment_H1 = Segment(segment_number=4, substitution_rate=1E-2, sequence=sequence_H1)\n",
      "segment_H2 = Segment(segment_number=4, substitution_rate=1E-2, sequence=sequence_H2)"
     ],
     "language": "python",
     "metadata": {},
     "outputs": [],
     "prompt_number": 864
    },
    {
     "cell_type": "code",
     "collapsed": false,
     "input": [
      "# Add segments to seed viruses\n",
      "virus_H1 = Pathogen(segments=[segment_PB2, segment_H1], creation_time=0, progeny_size=(1.2, 0.5))\n",
      "virus_H2 = Pathogen(segments=[segment_PB2, segment_H2], creation_time=0, progeny_size=(1.2, 0.5))"
     ],
     "language": "python",
     "metadata": {},
     "outputs": [],
     "prompt_number": 865
    },
    {
     "cell_type": "code",
     "collapsed": false,
     "input": [
      "# Subclass the Simulator class for a specific implementation of the increment_timestep() function.\n",
      "from random import random, choice, sample\n",
      "class ViralSimulator(Simulator):\n",
      "    \n",
      "    def increment_timestep(self):\n",
      "        cointoss = random()\n",
      "        threshold = 0.8\n",
      "        \n",
      "        if cointoss <= threshold:\n",
      "            chosen_virus = choice(self.pathogens)\n",
      "            new_virus = chosen_virus.replicate(current_time=self.current_time)\n",
      "            \n",
      "        if cointoss > threshold:\n",
      "            [virus1, virus2] = sample(self.pathogens, 2)\n",
      "            new_virus = virus1.reassort_with(virus2, current_time=self.current_time)\n",
      "        \n",
      "        self.pathogens.append(new_virus)"
     ],
     "language": "python",
     "metadata": {},
     "outputs": [],
     "prompt_number": 866
    },
    {
     "cell_type": "code",
     "collapsed": false,
     "input": [
      "s = ViralSimulator()"
     ],
     "language": "python",
     "metadata": {},
     "outputs": [],
     "prompt_number": 867
    },
    {
     "cell_type": "code",
     "collapsed": false,
     "input": [
      "s.add_pathogens([virus_H1, virus_H2])"
     ],
     "language": "python",
     "metadata": {},
     "outputs": [],
     "prompt_number": 868
    },
    {
     "cell_type": "code",
     "collapsed": false,
     "input": [
      "s.run(timesteps=10)"
     ],
     "language": "python",
     "metadata": {},
     "outputs": [
      {
       "output_type": "stream",
       "stream": "stdout",
       "text": [
        "{3cd55: [1, 4]}\n",
        "{80fb9: [1, 4]}\n",
        "{a3ccf: [1, 4]}\n",
        "{84345: [1, 4]}\n",
        "{3cd55: [1, 4]}\n",
        "{fc207: [1, 4]}\n",
        "{cfe57: [1, 4]}\n"
       ]
      }
     ],
     "prompt_number": 869
    },
    {
     "cell_type": "code",
     "collapsed": false,
     "input": [
      "s.write_transmission_graph(outfile_name=\"outfile_test\", folder_name='Network Pickles')"
     ],
     "language": "python",
     "metadata": {},
     "outputs": [],
     "prompt_number": 870
    },
    {
     "cell_type": "code",
     "collapsed": false,
     "input": [
      "s.write_sequences(outfile_name=\"outfile_test\", folder_name='FASTA Files')"
     ],
     "language": "python",
     "metadata": {},
     "outputs": [],
     "prompt_number": 871
    },
    {
     "cell_type": "code",
     "collapsed": false,
     "input": [
      "s.transmission_graph().nodes(data=True)"
     ],
     "language": "python",
     "metadata": {},
     "outputs": [
      {
       "metadata": {},
       "output_type": "pyout",
       "prompt_number": 872,
       "text": [
        "[(80fb9, {'creation_time': 2}),\n",
        " (e7e5a, {'creation_time': 6}),\n",
        " (f3a71, {'creation_time': 4}),\n",
        " (102ba, {'creation_time': 7}),\n",
        " (cfe57, {'creation_time': 5}),\n",
        " (bb0ae, {'creation_time': 9}),\n",
        " (fc207, {'creation_time': 0}),\n",
        " (fee68, {'creation_time': 8}),\n",
        " (3cd55, {'creation_time': 0}),\n",
        " (a3ccf, {'creation_time': 3}),\n",
        " (84345, {'creation_time': 1})]"
       ]
      }
     ],
     "prompt_number": 872
    },
    {
     "cell_type": "markdown",
     "metadata": {},
     "source": [
      "# Prototype code for Reconstructor class"
     ]
    },
    {
     "cell_type": "code",
     "collapsed": false,
     "input": [
      "from Bio import SeqIO"
     ],
     "language": "python",
     "metadata": {},
     "outputs": [],
     "prompt_number": 873
    },
    {
     "cell_type": "code",
     "collapsed": false,
     "input": [
      "# Initialize a dictionary that contains all of the sequences, split by segment.\n",
      "sequences_dictionary = dict()\n",
      "sequences_dictionary[1] = []\n",
      "sequences_dictionary[4] = []\n",
      "sequences_dictionary"
     ],
     "language": "python",
     "metadata": {},
     "outputs": [
      {
       "metadata": {},
       "output_type": "pyout",
       "prompt_number": 874,
       "text": [
        "{1: [], 4: []}"
       ]
      }
     ],
     "prompt_number": 874
    },
    {
     "cell_type": "code",
     "collapsed": false,
     "input": [
      "# Read in the sequences\n",
      "sequences = [record for record in SeqIO.parse('FASTA Files/outfile_test.fasta', 'fasta')]\n",
      "sequences"
     ],
     "language": "python",
     "metadata": {},
     "outputs": [
      {
       "metadata": {},
       "output_type": "pyout",
       "prompt_number": 875,
       "text": [
        "[SeqRecord(seq=Seq('TTAGACGAATTGAAGCTGCCGTGTCGCGTCTCCTAGAGGACTTGGTCATACGGA...ATC', SingleLetterAlphabet()), id='fc20785f3e3c7ef60dd1f3e5ac36c94522811097fd6a9c86d436dca9f41c7cc6d7a28917c7fd828123a8baf665c470d1caf41dc275a3ae6fb6feeef8dc7727d7|1|0', name='fc20785f3e3c7ef60dd1f3e5ac36c94522811097fd6a9c86d436dca9f41c7cc6d7a28917c7fd828123a8baf665c470d1caf41dc275a3ae6fb6feeef8dc7727d7|1|0', description='fc20785f3e3c7ef60dd1f3e5ac36c94522811097fd6a9c86d436dca9f41c7cc6d7a28917c7fd828123a8baf665c470d1caf41dc275a3ae6fb6feeef8dc7727d7|1|0 <unknown description>', dbxrefs=[]),\n",
        " SeqRecord(seq=Seq('ATGTATCCCTGAGGTTTCTGACGCCGTTCGCCCCCGAGCTCCCCGAGGCGGGAC...CTA', SingleLetterAlphabet()), id='fc20785f3e3c7ef60dd1f3e5ac36c94522811097fd6a9c86d436dca9f41c7cc6d7a28917c7fd828123a8baf665c470d1caf41dc275a3ae6fb6feeef8dc7727d7|4|0', name='fc20785f3e3c7ef60dd1f3e5ac36c94522811097fd6a9c86d436dca9f41c7cc6d7a28917c7fd828123a8baf665c470d1caf41dc275a3ae6fb6feeef8dc7727d7|4|0', description='fc20785f3e3c7ef60dd1f3e5ac36c94522811097fd6a9c86d436dca9f41c7cc6d7a28917c7fd828123a8baf665c470d1caf41dc275a3ae6fb6feeef8dc7727d7|4|0 <unknown description>', dbxrefs=[]),\n",
        " SeqRecord(seq=Seq('TTAGACGAATTGAAGCTGCCGTGTCGCGTCTCCTAGAGGACTTGGTCATACGGA...ATC', SingleLetterAlphabet()), id='3cd5537b1cf8f63e268c030755349f37eee0ce554e9356d03cf9ec77d521f736ac649ed182949e028fc1d17fdfcb4ae55f2c1c9aa99fdc4f45077c0f05c4700a|1|0', name='3cd5537b1cf8f63e268c030755349f37eee0ce554e9356d03cf9ec77d521f736ac649ed182949e028fc1d17fdfcb4ae55f2c1c9aa99fdc4f45077c0f05c4700a|1|0', description='3cd5537b1cf8f63e268c030755349f37eee0ce554e9356d03cf9ec77d521f736ac649ed182949e028fc1d17fdfcb4ae55f2c1c9aa99fdc4f45077c0f05c4700a|1|0 <unknown description>', dbxrefs=[]),\n",
        " SeqRecord(seq=Seq('CCTTCCCACGATATCCAGCGTTCCCCCAGGGATCGGCCGTATACTAGGCTCCAT...TGC', SingleLetterAlphabet()), id='3cd5537b1cf8f63e268c030755349f37eee0ce554e9356d03cf9ec77d521f736ac649ed182949e028fc1d17fdfcb4ae55f2c1c9aa99fdc4f45077c0f05c4700a|4|0', name='3cd5537b1cf8f63e268c030755349f37eee0ce554e9356d03cf9ec77d521f736ac649ed182949e028fc1d17fdfcb4ae55f2c1c9aa99fdc4f45077c0f05c4700a|4|0', description='3cd5537b1cf8f63e268c030755349f37eee0ce554e9356d03cf9ec77d521f736ac649ed182949e028fc1d17fdfcb4ae55f2c1c9aa99fdc4f45077c0f05c4700a|4|0 <unknown description>', dbxrefs=[]),\n",
        " SeqRecord(seq=Seq('TTAGACGAATTGAAGCTGCCGTGTCGCGTCTCCTAGAGGACTTGGTCATACGGA...ATC', SingleLetterAlphabet()), id='843451150f06d60d8b69dbd4883928eaca2bd99706e97dfff4a82b5a329fa3b0375873458e9ca3637e1513a56753dce495aa625c00640f8e49953a2b63debdcc|1|1', name='843451150f06d60d8b69dbd4883928eaca2bd99706e97dfff4a82b5a329fa3b0375873458e9ca3637e1513a56753dce495aa625c00640f8e49953a2b63debdcc|1|1', description='843451150f06d60d8b69dbd4883928eaca2bd99706e97dfff4a82b5a329fa3b0375873458e9ca3637e1513a56753dce495aa625c00640f8e49953a2b63debdcc|1|1 <unknown description>', dbxrefs=[]),\n",
        " SeqRecord(seq=Seq('CCTTCACACGATATCCAGCGTTCCCCCAGGGATCGGCCGTATACTAGGCTCCAT...TGC', SingleLetterAlphabet()), id='843451150f06d60d8b69dbd4883928eaca2bd99706e97dfff4a82b5a329fa3b0375873458e9ca3637e1513a56753dce495aa625c00640f8e49953a2b63debdcc|4|1', name='843451150f06d60d8b69dbd4883928eaca2bd99706e97dfff4a82b5a329fa3b0375873458e9ca3637e1513a56753dce495aa625c00640f8e49953a2b63debdcc|4|1', description='843451150f06d60d8b69dbd4883928eaca2bd99706e97dfff4a82b5a329fa3b0375873458e9ca3637e1513a56753dce495aa625c00640f8e49953a2b63debdcc|4|1 <unknown description>', dbxrefs=[]),\n",
        " SeqRecord(seq=Seq('TTAGACGAATTGAAGCTGCCGTGTCGCGTCTCCTAGAGGACTTGGTCATACGGA...ATC', SingleLetterAlphabet()), id='80fb95a10a3a3b8517bc8f7f399560e8dccc4974f9c78fd6dfa3e76be8ccbf8e3cbaff09a677b3a9d3984a31ed246e880b1e62d5941322c55ed11c0433e78041|1|2', name='80fb95a10a3a3b8517bc8f7f399560e8dccc4974f9c78fd6dfa3e76be8ccbf8e3cbaff09a677b3a9d3984a31ed246e880b1e62d5941322c55ed11c0433e78041|1|2', description='80fb95a10a3a3b8517bc8f7f399560e8dccc4974f9c78fd6dfa3e76be8ccbf8e3cbaff09a677b3a9d3984a31ed246e880b1e62d5941322c55ed11c0433e78041|1|2 <unknown description>', dbxrefs=[]),\n",
        " SeqRecord(seq=Seq('CCTTCCCACGATATCCAGCGTTCCCCCAGGGATCGGCCGTATACTAGGCTCCAG...TGC', SingleLetterAlphabet()), id='80fb95a10a3a3b8517bc8f7f399560e8dccc4974f9c78fd6dfa3e76be8ccbf8e3cbaff09a677b3a9d3984a31ed246e880b1e62d5941322c55ed11c0433e78041|4|2', name='80fb95a10a3a3b8517bc8f7f399560e8dccc4974f9c78fd6dfa3e76be8ccbf8e3cbaff09a677b3a9d3984a31ed246e880b1e62d5941322c55ed11c0433e78041|4|2', description='80fb95a10a3a3b8517bc8f7f399560e8dccc4974f9c78fd6dfa3e76be8ccbf8e3cbaff09a677b3a9d3984a31ed246e880b1e62d5941322c55ed11c0433e78041|4|2 <unknown description>', dbxrefs=[]),\n",
        " SeqRecord(seq=Seq('TTAGACGAATTGAAGCTGCCGTGTCGCGTCTCCTAGAGGACTTGGTCATACGGA...ATC', SingleLetterAlphabet()), id='a3ccfa8a46d55581d6ab02157027db6b8f4b83780021b71f33ab622e39dd11c605924659279c855e4a1d984ec317d91809ef7330cde1ca29c2e87e5a2c3ae543|1|3', name='a3ccfa8a46d55581d6ab02157027db6b8f4b83780021b71f33ab622e39dd11c605924659279c855e4a1d984ec317d91809ef7330cde1ca29c2e87e5a2c3ae543|1|3', description='a3ccfa8a46d55581d6ab02157027db6b8f4b83780021b71f33ab622e39dd11c605924659279c855e4a1d984ec317d91809ef7330cde1ca29c2e87e5a2c3ae543|1|3 <unknown description>', dbxrefs=[]),\n",
        " SeqRecord(seq=Seq('CCTTCCCACGATATCCAGCGTTCCCCCAGGGATCGGCCGTATACAAGGCTCCAG...TGC', SingleLetterAlphabet()), id='a3ccfa8a46d55581d6ab02157027db6b8f4b83780021b71f33ab622e39dd11c605924659279c855e4a1d984ec317d91809ef7330cde1ca29c2e87e5a2c3ae543|4|3', name='a3ccfa8a46d55581d6ab02157027db6b8f4b83780021b71f33ab622e39dd11c605924659279c855e4a1d984ec317d91809ef7330cde1ca29c2e87e5a2c3ae543|4|3', description='a3ccfa8a46d55581d6ab02157027db6b8f4b83780021b71f33ab622e39dd11c605924659279c855e4a1d984ec317d91809ef7330cde1ca29c2e87e5a2c3ae543|4|3 <unknown description>', dbxrefs=[]),\n",
        " SeqRecord(seq=Seq('TTAGACGAATTGAAGCTGCCGTGTCGCGTCTCCTAGAGGACTTGGTCATACGGA...ATC', SingleLetterAlphabet()), id='f3a71a2eb30f5874b619aceedbcbc38da89450d4595a22ab18a72bb6ef91436697fa90fe7c1b0f0fb576914985f5096b00d9652600da078b91a32a88a33c0a36|1|4', name='f3a71a2eb30f5874b619aceedbcbc38da89450d4595a22ab18a72bb6ef91436697fa90fe7c1b0f0fb576914985f5096b00d9652600da078b91a32a88a33c0a36|1|4', description='f3a71a2eb30f5874b619aceedbcbc38da89450d4595a22ab18a72bb6ef91436697fa90fe7c1b0f0fb576914985f5096b00d9652600da078b91a32a88a33c0a36|1|4 <unknown description>', dbxrefs=[]),\n",
        " SeqRecord(seq=Seq('CCTTCCCACGATATCCAGCGTTCCCCCAGGGATCGGCCGTATACTAGGCTCCAT...TGC', SingleLetterAlphabet()), id='f3a71a2eb30f5874b619aceedbcbc38da89450d4595a22ab18a72bb6ef91436697fa90fe7c1b0f0fb576914985f5096b00d9652600da078b91a32a88a33c0a36|4|4', name='f3a71a2eb30f5874b619aceedbcbc38da89450d4595a22ab18a72bb6ef91436697fa90fe7c1b0f0fb576914985f5096b00d9652600da078b91a32a88a33c0a36|4|4', description='f3a71a2eb30f5874b619aceedbcbc38da89450d4595a22ab18a72bb6ef91436697fa90fe7c1b0f0fb576914985f5096b00d9652600da078b91a32a88a33c0a36|4|4 <unknown description>', dbxrefs=[]),\n",
        " SeqRecord(seq=Seq('TTAGACGAATTGAAGCTGCCGTGTCGTGTCTCCTAGAGGACTTGGTCATACGGA...ATC', SingleLetterAlphabet()), id='cfe57be6ef5426e14c53369af5adc701482d3a87388b45c28a9d5439fde4ad99c623d0fdeef6a36d88b46a3e55d51618fefe601dbc4260bf377311aab1e0403a|1|5', name='cfe57be6ef5426e14c53369af5adc701482d3a87388b45c28a9d5439fde4ad99c623d0fdeef6a36d88b46a3e55d51618fefe601dbc4260bf377311aab1e0403a|1|5', description='cfe57be6ef5426e14c53369af5adc701482d3a87388b45c28a9d5439fde4ad99c623d0fdeef6a36d88b46a3e55d51618fefe601dbc4260bf377311aab1e0403a|1|5 <unknown description>', dbxrefs=[]),\n",
        " SeqRecord(seq=Seq('CCTTCCCACGATATCCAGCGTTCCCCCAGGGATCGGCCGTATACAAGGCTCCAG...TGC', SingleLetterAlphabet()), id='cfe57be6ef5426e14c53369af5adc701482d3a87388b45c28a9d5439fde4ad99c623d0fdeef6a36d88b46a3e55d51618fefe601dbc4260bf377311aab1e0403a|4|5', name='cfe57be6ef5426e14c53369af5adc701482d3a87388b45c28a9d5439fde4ad99c623d0fdeef6a36d88b46a3e55d51618fefe601dbc4260bf377311aab1e0403a|4|5', description='cfe57be6ef5426e14c53369af5adc701482d3a87388b45c28a9d5439fde4ad99c623d0fdeef6a36d88b46a3e55d51618fefe601dbc4260bf377311aab1e0403a|4|5 <unknown description>', dbxrefs=[]),\n",
        " SeqRecord(seq=Seq('TTAGACGAATTGAAGCTGCCGTGTCGCGTCTCCTAGAGGACTTGGTCATACGGA...ATC', SingleLetterAlphabet()), id='e7e5a3f1574ec95fa9b7a103578eee0ba446fe03ff7d152c4d32f88c3dfbc3887eaebbee2733cf33d124a78e8fafe6e89ba88876b2d7dd38566b092fabe497ef|1|6', name='e7e5a3f1574ec95fa9b7a103578eee0ba446fe03ff7d152c4d32f88c3dfbc3887eaebbee2733cf33d124a78e8fafe6e89ba88876b2d7dd38566b092fabe497ef|1|6', description='e7e5a3f1574ec95fa9b7a103578eee0ba446fe03ff7d152c4d32f88c3dfbc3887eaebbee2733cf33d124a78e8fafe6e89ba88876b2d7dd38566b092fabe497ef|1|6 <unknown description>', dbxrefs=[]),\n",
        " SeqRecord(seq=Seq('CCTTCACACGATATCCAGCGTTCCCCCAGGGATCGGCCGTATACTAGGCTCCAT...TGC', SingleLetterAlphabet()), id='e7e5a3f1574ec95fa9b7a103578eee0ba446fe03ff7d152c4d32f88c3dfbc3887eaebbee2733cf33d124a78e8fafe6e89ba88876b2d7dd38566b092fabe497ef|4|6', name='e7e5a3f1574ec95fa9b7a103578eee0ba446fe03ff7d152c4d32f88c3dfbc3887eaebbee2733cf33d124a78e8fafe6e89ba88876b2d7dd38566b092fabe497ef|4|6', description='e7e5a3f1574ec95fa9b7a103578eee0ba446fe03ff7d152c4d32f88c3dfbc3887eaebbee2733cf33d124a78e8fafe6e89ba88876b2d7dd38566b092fabe497ef|4|6 <unknown description>', dbxrefs=[]),\n",
        " SeqRecord(seq=Seq('TTAGACGAATTGAAGCTGCCGTGTCGCGTCTCCTAGAGGACTTGGTCATACGGA...ATC', SingleLetterAlphabet()), id='102ba75ed7909ea7ecab426d3601e771be9ae410d886978316f43709603958e1574dfee9f44fc7edd32f64ea7a20cb003bacbd385ead7935289f80832097c42b|1|7', name='102ba75ed7909ea7ecab426d3601e771be9ae410d886978316f43709603958e1574dfee9f44fc7edd32f64ea7a20cb003bacbd385ead7935289f80832097c42b|1|7', description='102ba75ed7909ea7ecab426d3601e771be9ae410d886978316f43709603958e1574dfee9f44fc7edd32f64ea7a20cb003bacbd385ead7935289f80832097c42b|1|7 <unknown description>', dbxrefs=[]),\n",
        " SeqRecord(seq=Seq('CCTTCCCACGATATCCAGCGTTCCCCCAGGGATCGGCCGTATACTAGGCTCCAT...TGC', SingleLetterAlphabet()), id='102ba75ed7909ea7ecab426d3601e771be9ae410d886978316f43709603958e1574dfee9f44fc7edd32f64ea7a20cb003bacbd385ead7935289f80832097c42b|4|7', name='102ba75ed7909ea7ecab426d3601e771be9ae410d886978316f43709603958e1574dfee9f44fc7edd32f64ea7a20cb003bacbd385ead7935289f80832097c42b|4|7', description='102ba75ed7909ea7ecab426d3601e771be9ae410d886978316f43709603958e1574dfee9f44fc7edd32f64ea7a20cb003bacbd385ead7935289f80832097c42b|4|7 <unknown description>', dbxrefs=[]),\n",
        " SeqRecord(seq=Seq('TTAGACGAATTGAAGCTGCCGTGTCGCGTCTCCTAGAGGACTTGGTCATACGGA...ATC', SingleLetterAlphabet()), id='fee68b85dcbca5d92e097b154a4bf9900e7d5f4c6dec25052939294014398c3a1d1573d36bf518c5873967589a5191baa96baacd088bedd40107942ba7dba068|1|8', name='fee68b85dcbca5d92e097b154a4bf9900e7d5f4c6dec25052939294014398c3a1d1573d36bf518c5873967589a5191baa96baacd088bedd40107942ba7dba068|1|8', description='fee68b85dcbca5d92e097b154a4bf9900e7d5f4c6dec25052939294014398c3a1d1573d36bf518c5873967589a5191baa96baacd088bedd40107942ba7dba068|1|8 <unknown description>', dbxrefs=[]),\n",
        " SeqRecord(seq=Seq('ATGTATCCCTGAGGTTTCTGACGCCGTTCGCCCCCGAGCTCCCCGAGGCGGGAC...CTA', SingleLetterAlphabet()), id='fee68b85dcbca5d92e097b154a4bf9900e7d5f4c6dec25052939294014398c3a1d1573d36bf518c5873967589a5191baa96baacd088bedd40107942ba7dba068|4|8', name='fee68b85dcbca5d92e097b154a4bf9900e7d5f4c6dec25052939294014398c3a1d1573d36bf518c5873967589a5191baa96baacd088bedd40107942ba7dba068|4|8', description='fee68b85dcbca5d92e097b154a4bf9900e7d5f4c6dec25052939294014398c3a1d1573d36bf518c5873967589a5191baa96baacd088bedd40107942ba7dba068|4|8 <unknown description>', dbxrefs=[]),\n",
        " SeqRecord(seq=Seq('TTAGACGAATTGAAGCTGCCGTGTCGTGTCTCCTAGAGGACTTGGTCATACGGA...ATC', SingleLetterAlphabet()), id='bb0ae8b9a9d7dd7643d4f218414c5320894c987936a8bfacbb4f4e72eaa67d4a41f56085297244f6e3a8f0b30e041b64ef70421497c59a448af6367b97e30806|1|9', name='bb0ae8b9a9d7dd7643d4f218414c5320894c987936a8bfacbb4f4e72eaa67d4a41f56085297244f6e3a8f0b30e041b64ef70421497c59a448af6367b97e30806|1|9', description='bb0ae8b9a9d7dd7643d4f218414c5320894c987936a8bfacbb4f4e72eaa67d4a41f56085297244f6e3a8f0b30e041b64ef70421497c59a448af6367b97e30806|1|9 <unknown description>', dbxrefs=[]),\n",
        " SeqRecord(seq=Seq('CCTTCCCACGATATCCAGCGTTCCCCCAGGGATCGGCCGTATACAAGGCTCCCG...GGC', SingleLetterAlphabet()), id='bb0ae8b9a9d7dd7643d4f218414c5320894c987936a8bfacbb4f4e72eaa67d4a41f56085297244f6e3a8f0b30e041b64ef70421497c59a448af6367b97e30806|4|9', name='bb0ae8b9a9d7dd7643d4f218414c5320894c987936a8bfacbb4f4e72eaa67d4a41f56085297244f6e3a8f0b30e041b64ef70421497c59a448af6367b97e30806|4|9', description='bb0ae8b9a9d7dd7643d4f218414c5320894c987936a8bfacbb4f4e72eaa67d4a41f56085297244f6e3a8f0b30e041b64ef70421497c59a448af6367b97e30806|4|9 <unknown description>', dbxrefs=[])]"
       ]
      }
     ],
     "prompt_number": 875
    },
    {
     "cell_type": "code",
     "collapsed": false,
     "input": [
      "# Append the sequences to the dictionary.\n",
      "# This can be written into a function.\n",
      "split_char = '|' # The character that will be used to split the SeqRecord.id string\n",
      "pos_segment_num = 1 # The position of the segment number after splitting by the split_char\n",
      "\n",
      "for sequence in sequences:\n",
      "    segment_number = int(sequence.id.split(split_char)[pos_segment_num])\n",
      "    sequences_dictionary[segment_number].append(sequence)\n",
      "\n",
      "# sequences_dictionary"
     ],
     "language": "python",
     "metadata": {},
     "outputs": [],
     "prompt_number": 876
    },
    {
     "cell_type": "code",
     "collapsed": false,
     "input": [
      "# Create a NetworkX graph using one segment's sequences, and add nodes.\n",
      "import networkx as nx\n",
      "\n",
      "G = nx.DiGraph()\n",
      "\n",
      "splitchar = '|'\n",
      "pos_id = 0\n",
      "pos_segment_num = 1\n",
      "pos_creation_time = 2\n",
      "\n",
      "segment_number = 4\n",
      "\n",
      "for sequence in sequences_dictionary[segment_number]:\n",
      "    [isolate_id, segment_num, creation_time] = sequence.id.split(splitchar)\n",
      "    G.add_node(isolate_id[0:5], sequence=sequence.seq, id=isolate_id, segment_num=int(segment_num), creation_time=int(creation_time))\n",
      "\n",
      "# at this point, we would return G, and append it to the dictionary of Graphs available.\n",
      "# G.nodes(data=True)"
     ],
     "language": "python",
     "metadata": {},
     "outputs": [],
     "prompt_number": 877
    },
    {
     "cell_type": "code",
     "collapsed": false,
     "input": [
      "# Add edges to the graph, based on the Levenshtein distance between two sequences.\n",
      "import Levenshtein\n",
      "for node1 in G.nodes(data=True):\n",
      "    for node2 in G.nodes(data=True):\n",
      "        if node1[1]['creation_time'] < node2[1]['creation_time']:\n",
      "            weight = Levenshtein.distance(str(node1[1]['sequence']), str(node2[1]['sequence']))\n",
      "            G.add_edge(node1[0], node2[0], weight=weight)"
     ],
     "language": "python",
     "metadata": {},
     "outputs": [],
     "prompt_number": 878
    },
    {
     "cell_type": "code",
     "collapsed": false,
     "input": [
      "# Prune graph by distance.\n",
      "for node in G.nodes(data=True):\n",
      "    in_edges = G.in_edges(node[0], data=True)\n",
      "#     print in_edges\n",
      "    if len(in_edges) != 0:\n",
      "        min_weight = min([edge[2]['weight'] for edge in in_edges])\n",
      "        print min_weight\n",
      "        print node\n",
      "        for edge in in_edges:\n",
      "            if edge[2]['weight'] != min_weight:\n",
      "                G.remove_edge(edge[0], edge[1])"
     ],
     "language": "python",
     "metadata": {},
     "outputs": [
      {
       "output_type": "stream",
       "stream": "stdout",
       "text": [
        "16\n",
        "('80fb9', {'segment_num': 4, 'creation_time': 2, 'id': '80fb95a10a3a3b8517bc8f7f399560e8dccc4974f9c78fd6dfa3e76be8ccbf8e3cbaff09a677b3a9d3984a31ed246e880b1e62d5941322c55ed11c0433e78041', 'sequence': Seq('CCTTCCCACGATATCCAGCGTTCCCCCAGGGATCGGCCGTATACTAGGCTCCAG...TGC', SingleLetterAlphabet())})\n",
        "12\n",
        "('f3a71', {'segment_num': 4, 'creation_time': 4, 'id': 'f3a71a2eb30f5874b619aceedbcbc38da89450d4595a22ab18a72bb6ef91436697fa90fe7c1b0f0fb576914985f5096b00d9652600da078b91a32a88a33c0a36', 'sequence': Seq('CCTTCCCACGATATCCAGCGTTCCCCCAGGGATCGGCCGTATACTAGGCTCCAT...TGC', SingleLetterAlphabet())})\n",
        "9\n",
        "('a3ccf', {'segment_num': 4, 'creation_time': 3, 'id': 'a3ccfa8a46d55581d6ab02157027db6b8f4b83780021b71f33ab622e39dd11c605924659279c855e4a1d984ec317d91809ef7330cde1ca29c2e87e5a2c3ae543', 'sequence': Seq('CCTTCCCACGATATCCAGCGTTCCCCCAGGGATCGGCCGTATACAAGGCTCCAG...TGC', SingleLetterAlphabet())})\n",
        "6\n",
        "('e7e5a', {'segment_num': 4, 'creation_time': 6, 'id': 'e7e5a3f1574ec95fa9b7a103578eee0ba446fe03ff7d152c4d32f88c3dfbc3887eaebbee2733cf33d124a78e8fafe6e89ba88876b2d7dd38566b092fabe497ef', 'sequence': Seq('CCTTCACACGATATCCAGCGTTCCCCCAGGGATCGGCCGTATACTAGGCTCCAT...TGC', SingleLetterAlphabet())})\n",
        "9\n",
        "('84345', {'segment_num': 4, 'creation_time': 1, 'id': '843451150f06d60d8b69dbd4883928eaca2bd99706e97dfff4a82b5a329fa3b0375873458e9ca3637e1513a56753dce495aa625c00640f8e49953a2b63debdcc', 'sequence': Seq('CCTTCACACGATATCCAGCGTTCCCCCAGGGATCGGCCGTATACTAGGCTCCAT...TGC', SingleLetterAlphabet())})\n",
        "12\n",
        "('cfe57', {'segment_num': 4, 'creation_time': 5, 'id': 'cfe57be6ef5426e14c53369af5adc701482d3a87388b45c28a9d5439fde4ad99c623d0fdeef6a36d88b46a3e55d51618fefe601dbc4260bf377311aab1e0403a', 'sequence': Seq('CCTTCCCACGATATCCAGCGTTCCCCCAGGGATCGGCCGTATACAAGGCTCCAG...TGC', SingleLetterAlphabet())})\n",
        "10\n",
        "('bb0ae', {'segment_num': 4, 'creation_time': 9, 'id': 'bb0ae8b9a9d7dd7643d4f218414c5320894c987936a8bfacbb4f4e72eaa67d4a41f56085297244f6e3a8f0b30e041b64ef70421497c59a448af6367b97e30806', 'sequence': Seq('CCTTCCCACGATATCCAGCGTTCCCCCAGGGATCGGCCGTATACAAGGCTCCCG...GGC', SingleLetterAlphabet())})\n",
        "3\n",
        "('102ba', {'segment_num': 4, 'creation_time': 7, 'id': '102ba75ed7909ea7ecab426d3601e771be9ae410d886978316f43709603958e1574dfee9f44fc7edd32f64ea7a20cb003bacbd385ead7935289f80832097c42b', 'sequence': Seq('CCTTCCCACGATATCCAGCGTTCCCCCAGGGATCGGCCGTATACTAGGCTCCAT...TGC', SingleLetterAlphabet())})\n",
        "6\n",
        "('fee68', {'segment_num': 4, 'creation_time': 8, 'id': 'fee68b85dcbca5d92e097b154a4bf9900e7d5f4c6dec25052939294014398c3a1d1573d36bf518c5873967589a5191baa96baacd088bedd40107942ba7dba068', 'sequence': Seq('ATGTATCCCTGAGGTTTCTGACGCCGTTCGCCCCCGAGCTCCCCGAGGCGGGAC...CTA', SingleLetterAlphabet())})\n"
       ]
      }
     ],
     "prompt_number": 879
    },
    {
     "cell_type": "code",
     "collapsed": false,
     "input": [
      "nx.draw_circular(G)"
     ],
     "language": "python",
     "metadata": {},
     "outputs": [
      {
       "metadata": {},
       "output_type": "display_data",
       "png": "[encoded data removed]",
       "text": [
        "<matplotlib.figure.Figure at 0x1063aad90>"
       ]
      }
     ],
     "prompt_number": 880
    },
    {
     "cell_type": "markdown",
     "metadata": {},
     "source": [
      "# Test Reconstructor Class"
     ]
    },
    {
     "cell_type": "code",
     "collapsed": false,
     "input": [
      "from reconstructor import Reconstructor\n",
      "import networkx as nx"
     ],
     "language": "python",
     "metadata": {},
     "outputs": [],
     "prompt_number": 881
    },
    {
     "cell_type": "code",
     "collapsed": false,
     "input": [
      "r = Reconstructor(segments=[1, 4])\n",
      "print r.sequences\n",
      "print r.graphs"
     ],
     "language": "python",
     "metadata": {},
     "outputs": [
      {
       "output_type": "stream",
       "stream": "stdout",
       "text": [
        "{1: [], 4: []}\n",
        "{1: <networkx.classes.digraph.DiGraph object at 0x106c1e6d0>, 4: <networkx.classes.digraph.DiGraph object at 0x106c1ee90>}\n"
       ]
      }
     ],
     "prompt_number": 882
    },
    {
     "cell_type": "code",
     "collapsed": false,
     "input": [
      "fasta_file = 'FASTA Files/outfile_test.fasta'\n",
      "r.read_fasta_file(fasta_file)"
     ],
     "language": "python",
     "metadata": {},
     "outputs": [],
     "prompt_number": 883
    },
    {
     "cell_type": "code",
     "collapsed": false,
     "input": [
      "r.add_nodes_with_data()\n",
      "r.add_edges_with_weight()\n",
      "r.prune_graphs_by_weight()\n",
      "r.pruned_condensed_graph()"
     ],
     "language": "python",
     "metadata": {},
     "outputs": [
      {
       "metadata": {},
       "output_type": "pyout",
       "prompt_number": 884,
       "text": [
        "<networkx.classes.digraph.DiGraph at 0x106c1ebd0>"
       ]
      }
     ],
     "prompt_number": 884
    },
    {
     "cell_type": "code",
     "collapsed": false,
     "input": [
      "r.condensed_graph().edges(data=True)"
     ],
     "language": "python",
     "metadata": {},
     "outputs": [
      {
       "metadata": {},
       "output_type": "pyout",
       "prompt_number": 885,
       "text": [
        "[('80fb9', 'e7e5a', {'segments': [1], 'weight': 0}),\n",
        " ('80fb9', 'fee68', {'segments': [1], 'weight': 1}),\n",
        " ('80fb9', 'a3ccf', {'segments': [1, 4], 'weight': 11}),\n",
        " ('80fb9', '102ba', {'segments': [1], 'weight': 1}),\n",
        " ('fc207', '80fb9', {'segments': [1], 'weight': 0}),\n",
        " ('fc207', 'a3ccf', {'segments': [1], 'weight': 2}),\n",
        " ('fc207', 'e7e5a', {'segments': [1], 'weight': 0}),\n",
        " ('fc207', '84345', {'segments': [1], 'weight': 0}),\n",
        " ('fc207', '102ba', {'segments': [1], 'weight': 1}),\n",
        " ('fc207', 'fee68', {'segments': [1, 4], 'weight': 7}),\n",
        " ('a3ccf', 'cfe57', {'segments': [1, 4], 'weight': 15}),\n",
        " ('a3ccf', 'f3a71', {'segments': [1], 'weight': 3}),\n",
        " ('3cd55', '80fb9', {'segments': [1, 4], 'weight': 16}),\n",
        " ('3cd55', 'f3a71', {'segments': [4], 'weight': 12}),\n",
        " ('3cd55', 'a3ccf', {'segments': [1], 'weight': 2}),\n",
        " ('3cd55', 'e7e5a', {'segments': [1], 'weight': 0}),\n",
        " ('3cd55', '84345', {'segments': [1, 4], 'weight': 9}),\n",
        " ('3cd55', '102ba', {'segments': [1, 4], 'weight': 4}),\n",
        " ('3cd55', 'fee68', {'segments': [1], 'weight': 1}),\n",
        " ('e7e5a', '102ba', {'segments': [1], 'weight': 1}),\n",
        " ('e7e5a', 'fee68', {'segments': [1], 'weight': 1}),\n",
        " ('84345', 'e7e5a', {'segments': [1, 4], 'weight': 6}),\n",
        " ('84345', '102ba', {'segments': [1], 'weight': 1}),\n",
        " ('84345', '80fb9', {'segments': [1], 'weight': 0}),\n",
        " ('84345', 'a3ccf', {'segments': [1], 'weight': 2}),\n",
        " ('84345', 'fee68', {'segments': [1], 'weight': 1}),\n",
        " ('cfe57', 'bb0ae', {'segments': [1, 4], 'weight': 11})]"
       ]
      }
     ],
     "prompt_number": 885
    },
    {
     "cell_type": "code",
     "collapsed": false,
     "input": [
      "r.condensed_graph().nodes(data=True)"
     ],
     "language": "python",
     "metadata": {},
     "outputs": [
      {
       "metadata": {},
       "output_type": "pyout",
       "prompt_number": 886,
       "text": [
        "[('80fb9',\n",
        "  {'creation_time': '2',\n",
        "   'id': '80fb95a10a3a3b8517bc8f7f399560e8dccc4974f9c78fd6dfa3e76be8ccbf8e3cbaff09a677b3a9d3984a31ed246e880b1e62d5941322c55ed11c0433e78041',\n",
        "   'segment_number': '4',\n",
        "   'sequence_1': 'TTAGACGAATTGAAGCTGCCGTGTCGCGTCTCCTAGAGGACTTGGTCATACGGAGATGTTTAACGCATCTCTGATCGGTTCAGAATAGTACTTGACACAGATCGATCGGACGTTTAGTTGATATCATGGATAAGCTAAACCATTCACTGTTGGCGTGATGAGACCGTGTGACATGGTATTAGTCCGGCTTGAGTCTGAAGGGTAGTACGGATTAATATAAAGATTTCTCATATGGTACCCACCAACAAGATATCACCCTCAAATCGTATTGATTACCACAGTTAGTTGCTCAGGACCACTACACGACTTTCCGACCCTAGCTCCGATCAGGAGGCAGAACCCACTACAATATTTGCAGCTGTCCACGAAAGCAGCCCCTAATACAAATCGAGCAAGGGAGAAAACTTACTTTAGCCGGTGTGGCCGGATGGTTGGCTCTCCCTGGATAGACCATAGTATACCTCGTGGGTCCAGGCGCATGGGTCAACGTCGACGGGGTATGCTCAGTTGGTTAGAGATACTCCCGCCCGTGACAAGCGTTCTCCCTCCTCGTATATGTTGGTGGCCCTGGTTCCGGTGCTGCTCCGAGAAAGATAGCGTTGGCGGATTAGTAGTTTTTGTTGGGATCCATGCTTGACTTTATTCACTGTCGAAAAGTCGTCGCAATACGTTCAAGCGATGACCCGGCTTATCTAACCGAAGGCCCCCGGTTCGGGCTGCCTAATCAGGACTTTAGTCTTCGGAGCGCGGGTAGCAGAGTCTGCAGTAATTGGGGTTGACTTTTCCTTAATATCCGACTATTGATTTTGCTTTAGAGACGATCCAAGCAAGAGGCGCGGACCACCCCTAATTATATCGAATGTTGATAGGAACTAGAAGGGACATAGAAGCTGAAATAAGTTATACTTCCGTGGTAGCGAAGATGCTTGTAGCAGGCGGTATTCGTCACGAACGTCCTCATGAGCGGCGCTCACATCACCCTGGCAGGGGATGGCGTATC',\n",
        "   'sequence_4': 'CCTTCCCACGATATCCAGCGTTCCCCCAGGGATCGGCCGTATACTAGGCTCCAGACGATATGCAATCTGGCGCTTGCGATGCTTACTAGTCCGCCTTCTAGATGCTTGCCTATTTTACAATGCGTTGGAGGACTCCACGAATTAGAGGACCTTTCGATTGTGACTTCGGGTGTTGAAGCACGCCCGTCTCTCACAGATGAGGGGTTTTACGGTTGTCCGCGACCGCCAAGCGAGATTCCGATTCGTTCTACCTCGCGGGCGTAAAAGCCGCATGGGCCTTACTTTATGCCCTTCCCACCGTGTAGAAGATAAGAGTGCCGTGTGGAGGTACCCCCTATTTAGCCTGGGTAGAACGAGCTCAATCCACCTTTGTCAGGTGCTCACTCGTGCCTTTAAACACTAACGGGCTGGGATAGGGTGATGATAGCCCGATTCTCCTTCCACGTATCCGTTTCAGTAGCAGCACATATCTGCATAATGCCAAGAGCATGGGATAGTTGCGAAACCCATATACAACCGCGAGAGACTCCTGAGGAGTCACGATTATAGGCTGAGGCTACATCTAGGTCACCGGATCGTCTCGTTCCAAGAGGGATTTCCGCGGATGTGTGTCCGACCCGTAGGGGCTAGCCTGGCCGCGATAAAGGTACTTAACAGATACGGATGTGCGTGGCGGTCAGAATCGTTGGTGATGAGAAAAGATCCGACTTGTTCCTTTGACGAATGAGTGTGATCTAAGACCATCCGCCCTGAGTCACCGTCGCGTTAGATCGTCCCCACTCTAAGCTGCATCGAGGCTTGTTTCACCGATGGTGAACTGAGGCCATTTGAGCAGACCGCTGATGTAGAGAGCAAACTGGGTAGGAAAAACCACTAAGACTATCAATCCACAGCGAGTAATTGCAGCGTAACTAATTAAGTCTTAAGAGATGCTACGTCCAAAGACTCAAAGCGGGAGAGGGGAAGTCTCCGCGAGTACGCAGGCAACAGTCCAGCGTGC'}),\n",
        " ('f3a71',\n",
        "  {'creation_time': '4',\n",
        "   'id': 'f3a71a2eb30f5874b619aceedbcbc38da89450d4595a22ab18a72bb6ef91436697fa90fe7c1b0f0fb576914985f5096b00d9652600da078b91a32a88a33c0a36',\n",
        "   'segment_number': '4',\n",
        "   'sequence_1': 'TTAGACGAATTGAAGCTGCCGTGTCGCGTCTCCTAGAGGACTTGGTCATACGGAGATGTTTAACGCATCTCTGATCGGTTCAGAATAGTACTTGACACAGATCGATCGGACGTTTAGTAGATATCATGGATAAGCTAAACCATTCACTGTTGGCGTGATGAGACCGTGTGACATGGTATTAGTCCGGCTTGAGTCTGAAGGGTAGTACGGATTAATATAAAGATTTCTCATATGGTACCCACCAACAAGATATCACCCTCAAATCGTAGTGATTACCACAGTTAGTTGCTCAGGACCACTACACGACTTTCCGACCCTAGCTCCGATCAGGAGGCAGAACCCACTACAATATTTGCAGCTGTCCACGAAAGCAGCCCCTAATACAAATCGAGCAAGGGAGAAAACTTACTTTAGCCGGTGTGGCCGGATGGTTTGCTCTCCCTGGATAGACCATAGTATACCTCGTGGGTCCAGGCGCATGGGTCAACGTCGACGGGGTATGCTCAGTTGGTTATAGATACTCCCGCCCGTGACAAGCGTTCTCCCTCCTCGTATATGTTGGTGGCCCTGGTTCCGGTGCTGCTCCGAGAAAGATAGCGTTGGCGGATTAGTAGTTTTTGTTGGGATCCATGCTTGACTTTATTCACTGTCGAAAAGTCGTCGCAATACGTTCAAGCGATGACCCGGCTTATCTAACCGAAGGCCCCCGGTTCGGGCTGCCTAATCAGGACTTTAGTCTTCGGAGCGCGGGTAGCAGAGTCTGCAGTAATTGGGGTTGACTTTTCCTTAGTATCCGACTATTGATTTTGCTTTAGAGACGATCCAAGCAAGAGGCGCGGACCACCCCTAATTATATCGAATGTTGATAGGAACTAGAAGGGACATAGAAGCTGAAATAAGTTATACTTCCGTGGTAGCGAAGATGCTTGTAGCAGGCGGTATTCGTCACGAACGTCCTCATGAGCGGCGCTCACATCACCCTGGCAGGGGATGGCGTATC',\n",
        "   'sequence_4': 'CCTTCCCACGATATCCAGCGTTCCCCCAGGGATCGGCCGTATACTAGGCTCCATACGATATGCAATCTGGCGCTTGCGATGCTTACTAGTCCGCCTTCTAGATGCTTGCCTATTTTACAATGCGTTGGAGGAGTCCACGAATTAGAGGACCTTTCGATTGTGACTTAGGGTGTTGAAGCACGCCCGTCTCTCACATAGGAGGGGCTTTACGGTTGTCCGCGATCGCCAAACGAGATTCCGTCTCGTACTACCTCGCGGGCGTAAAAGCCGCATGGGCCTTACTTTATGCCCTTCCCACCGTGTAGAAGATAAGAGTGCCGTGTGGAGGAACCCCCTATTTAGCCTGGGTAGAACGAGCTCAATCCACCGTTGTCAGGTGCTCAATCGTGCCTTTAAACACTAACGGGCTGGGATAGGGTGATGATAGCCCGATTCTCCTTCCACGTATCCGTTTCAGTAGCAGCACATATCTGCATAATGCCAAGAGCATGGGATAGTTGCGAACCCCATATACAACCGCGAGAGACTCCTGAGGAGTCACGATTATAGGCTGAGGCTACATCTAGGTCACCGGATCGTCTCGTTCCAAGAGGGATTTCCGCGGATGTGTGTCCGACCCGTAGGGGCTAGCCTGGCCGCGATAAAGGTCCTTAACAGATACGGATGTGCGTGGCCGTCAGAATCGTTGGTGTTGAGAAAAGATCCGACTTGTTCCTTGGACGAATGAGTGTGATCTAAGACCATCCGCCCTGAGTCACCGTCGCGTTAGATCGTCCCCACTCTAAGCTGCATCGAGGCTTGTTTCACCGATGATGAACTGAGGCCTTTTGAGCAGACCGTTGATGTAGAGCGCAAACTGGGTAGGAAAAACCACTACGTCTATCAATCCACAGCGGGTAATTGCAGCGTAACTTATTAAGTCTTAAGAGATACTACGTCCAAAGACTCAAAGCGGGAGAGGGGAAGTCTCCGCGAGTACGCAGGCAACAGTCCAGCGTGC'}),\n",
        " ('fc207',\n",
        "  {'creation_time': '0',\n",
        "   'id': 'fc20785f3e3c7ef60dd1f3e5ac36c94522811097fd6a9c86d436dca9f41c7cc6d7a28917c7fd828123a8baf665c470d1caf41dc275a3ae6fb6feeef8dc7727d7',\n",
        "   'segment_number': '4',\n",
        "   'sequence_1': 'TTAGACGAATTGAAGCTGCCGTGTCGCGTCTCCTAGAGGACTTGGTCATACGGAGATGTTTAACGCATCTCTGATCGGTTCAGAATAGTACTTGACACAGATCGATCGGACGTTTAGTTGATATCATGGATAAGCTAAACCATTCACTGTTGGCGTGATGAGACCGTGTGACATGGTATTAGTCCGGCTTGAGTCTGAAGGGTAGTACGGATTAATATAAAGATTTCTCATATGGTACCCACCAACAAGATATCACCCTCAAATCGTATTGATTACCACAGTTAGTTGCTCAGGACCACTACACGACTTTCCGACCCTAGCTCCGATCAGGAGGCAGAACCCACTACAATATTTGCAGCTGTCCACGAAAGCAGCCCCTAATACAAATCGAGCAAGGGAGAAAACTTACTTTAGCCGGTGTGGCCGGATGGTTGGCTCTCCCTGGATAGACCATAGTATACCTCGTGGGTCCAGGCGCATGGGTCAACGTCGACGGGGTATGCTCAGTTGGTTAGAGATACTCCCGCCCGTGACAAGCGTTCTCCCTCCTCGTATATGTTGGTGGCCCTGGTTCCGGTGCTGCTCCGAGAAAGATAGCGTTGGCGGATTAGTAGTTTTTGTTGGGATCCATGCTTGACTTTATTCACTGTCGAAAAGTCGTCGCAATACGTTCAAGCGATGACCCGGCTTATCTAACCGAAGGCCCCCGGTTCGGGCTGCCTAATCAGGACTTTAGTCTTCGGAGCGCGGGTAGCAGAGTCTGCAGTAATTGGGGTTGACTTTTCCTTAATATCCGACTATTGATTTTGCTTTAGAGACGATCCAAGCAAGAGGCGCGGACCACCCCTAATTATATCGAATGTTGATAGGAACTAGAAGGGACATAGAAGCTGAAATAAGTTATACTTCCGTGGTAGCGAAGATGCTTGTAGCAGGCGGTATTCGTCACGAACGTCCTCATGAGCGGCGCTCACATCACCCTGGCAGGGGATGGCGTATC',\n",
        "   'sequence_4': 'ATGTATCCCTGAGGTTTCTGACGCCGTTCGCCCCCGAGCTCCCCGAGGCGGGACAGCCCGGGGATTATCGCTAGCTCAATAAACATGACCAGCCCTGAATAGCTTGGTACCGTGCCGCGCGCTAATTGCCCTAATGGTTTACAGCTCGGTAGGACTTCTTTAAAACCGAGGGAGTTGGTAGTACGTAGGCATGACATCGCACTACGTGCGCGAGCTTGGTCGTGTAGATTACCCTTATATCAAACCACCGATCCTCTAAGCAAGTTGAAAGAGAAGTCGCTCAATTGTCTTCAGCTTAGCGAGCGACGCTCCTGCCTCCGGCAAATAAATTGCCCCAAATAACCACTGTGGTGTTTTTGGGGTGGGAGTAGCATCCAGAGGAGAGGTGATGAGCCAGTCTGTGTGCGCCCTGCTTATGCCAGACCAGTTTGAGCCAGAGAGTCTTTGGAACCACACCCACCAGAAGATCGCCTTAGGTACAGAGTTTCGGTGCAAATGGGCCACGCGAATTTAATGACGATTTTGTCCCCGCGAGATAGACACCGATACGCTTTCGCGGTCCTAGTCTCACTCCGTAACAGCTAAGTCACGAACCTTCACCCTACCTTCCCATGTCCAAGATCGTACTCAACATCTACTCTGTGAGGCCGGCCTGGGCCCACCTCAGGACTTTGCCATACTGAGGCTAAGCACCCACGGGGTCACTTCTTTCCTACTTACTATGTCCTCCACCCGAGTCTTCACAGTTAAGCTAGTTCATATCACTGCGCAAACACCTTCAGTCGAAGTCAGACGTGTCGCACCCATAGCAATACTAATTAGCATTGTCCAAGCAGGAACCTTAGACGAATAACAGGGCATTCACAGGGGCAGTTGTTTCGAGCTCGTCTACCCGTCAAACGCATAAAGAGTGCAGAAACAGTCTGCGAACTTAATCTTAGGTAACGTTCCTTCATTACCGCAGCCTTGGCAGATATACGCGTCAATGATGACCTTTCTA'}),\n",
        " ('a3ccf',\n",
        "  {'creation_time': '3',\n",
        "   'id': 'a3ccfa8a46d55581d6ab02157027db6b8f4b83780021b71f33ab622e39dd11c605924659279c855e4a1d984ec317d91809ef7330cde1ca29c2e87e5a2c3ae543',\n",
        "   'segment_number': '4',\n",
        "   'sequence_1': 'TTAGACGAATTGAAGCTGCCGTGTCGCGTCTCCTAGAGGACTTGGTCATACGGAGATGTTTAACGCATCTCTGATCGGTTCAGAATAGTACTTGACACAGATCGATCGGACGTTTAGTTGATATCATGGATAAGCTAAACCATTCACTGTTGGCGTGATGAGACCGTGTGACATGGTATTAGTCCGGCTTGAGTCTGAAGGGTAGTACGGATTAATATAAAGATTTCTCATATGGTACCCACCAACAAGATATCACCCTCAAATCGTAGTGATTACCACAGTTAGTTGCTCAGGACCACTACACGACTTTCCGACCCTAGCTCCGATCAGGAGGCAGAACCCACTACAATATTTGCAGCTGTCCACGAAAGCAGCCCCTAATACAAATCGAGCAAGGGAGAAAACTTACTTTAGCCGGTGTGGCCGGATGGTTGGCTCTCCCTGGATAGACCATAGTATACCTCGTGGGTCCAGGCGCATGGGTCAACGTCGACGGGGTATGCTCAGTTGGTTATAGATACTCCCGCCCGTGACAAGCGTTCTCCCTCCTCGTATATGTTGGTGGCCCTGGTTCCGGTGCTGCTCCGAGAAAGATAGCGTTGGCGGATTAGTAGTTTTTGTTGGGATCCATGCTTGACTTTATTCACTGTCGAAAAGTCGTCGCAATACGTTCAAGCGATGACCCGGCTTATCTAACCGAAGGCCCCCGGTTCGGGCTGCCTAATCAGGACTTTAGTCTTCGGAGCGCGGGTAGCAGAGTCTGCAGTAATTGGGGTTGACTTTTCCTTAATATCCGACTATTGATTTTGCTTTAGAGACGATCCAAGCAAGAGGCGCGGACCACCCCTAATTATATCGAATGTTGATAGGAACTAGAAGGGACATAGAAGCTGAAATAAGTTATACTTCCGTGGTAGCGAAGATGCTTGTAGCAGGCGGTATTCGTCACGAACGTCCTCATGAGCGGCGCTCACATCACCCTGGCAGGGGATGGCGTATC',\n",
        "   'sequence_4': 'CCTTCCCACGATATCCAGCGTTCCCCCAGGGATCGGCCGTATACAAGGCTCCAGACGATATGCAATCCGGCGCTTGCGATGCTTACTAGTCCGCCTTCTAGATGCTTGCCTATTTTACAATGCGTTGGAGGACTCCACGAATTAGAGGACCTTTCGATTGTGACTTCGGGTGTTGAAGCACGCCCGTCTCTCACAGATGAGGGGTTTTACGGTTGTCCGCGACCGCCAAGGGAGATTCCGATTCGTTCTACCTCGCGGGCGTAAAAGCCGCATGGGCCTTACTTTATGCCCTTCCCACCGTGTAGAAGATAAGAGTGCCGTGTGGAGGTACCCCCTATTTAGCCTGGGTAGAACGAGCTCAATCCACCTTTGTCAGGTGCTCACTCGTGCCTTTAAACACTAACGGGCTGGGATAGGGTGATGATGGCCCGATTCTCCTTCCACGTATCCGTTTCAGTAGCAGCACATATCTGCATAATGCCAAGAGCATGGGATAGTTGCGAAACCCATATACAACCGCGAGAGACTCCTGAGGAGTCACGATTATAGGCTGAGGCTACATCTAGGTCACCGGATCGTCTCGTTCCAAGAGGGATTTCCGCGGATGTGTGTCCGACCCGTAGGGGCTAGCCTGGCCGCGATAAAGGTACTTAACAGATACGGATGTGCGTGGCGGTCAGAATCGTTGGTGATGAGAAAAGATCCGACTTGCTCCTTTGACGAATGAGTGTGATCTAAGACCATCCGCCCTGAGTCACCGTCGCGTTAGATCGTCCCCACTCTAAGCTGCATCGAGGCTTGTTTCACCGATGGTGAACTGAGGCCATTTGAGCAGACTGCTGATGTAGATAGCAAACTGGGTAGGAAAAACCACTAAGACTATCAATCAACAGCGAGTAATTGCAGCGTAACTAATTAAGTCTTAAGAGATGCTACGTCCAAAGACTCAAAGCGGGAGAGGGGAAGTCTACGCGAGTACGCAGGCAACAGTCCAGCGTGC'}),\n",
        " ('3cd55',\n",
        "  {'creation_time': '0',\n",
        "   'id': '3cd5537b1cf8f63e268c030755349f37eee0ce554e9356d03cf9ec77d521f736ac649ed182949e028fc1d17fdfcb4ae55f2c1c9aa99fdc4f45077c0f05c4700a',\n",
        "   'segment_number': '4',\n",
        "   'sequence_1': 'TTAGACGAATTGAAGCTGCCGTGTCGCGTCTCCTAGAGGACTTGGTCATACGGAGATGTTTAACGCATCTCTGATCGGTTCAGAATAGTACTTGACACAGATCGATCGGACGTTTAGTTGATATCATGGATAAGCTAAACCATTCACTGTTGGCGTGATGAGACCGTGTGACATGGTATTAGTCCGGCTTGAGTCTGAAGGGTAGTACGGATTAATATAAAGATTTCTCATATGGTACCCACCAACAAGATATCACCCTCAAATCGTATTGATTACCACAGTTAGTTGCTCAGGACCACTACACGACTTTCCGACCCTAGCTCCGATCAGGAGGCAGAACCCACTACAATATTTGCAGCTGTCCACGAAAGCAGCCCCTAATACAAATCGAGCAAGGGAGAAAACTTACTTTAGCCGGTGTGGCCGGATGGTTGGCTCTCCCTGGATAGACCATAGTATACCTCGTGGGTCCAGGCGCATGGGTCAACGTCGACGGGGTATGCTCAGTTGGTTAGAGATACTCCCGCCCGTGACAAGCGTTCTCCCTCCTCGTATATGTTGGTGGCCCTGGTTCCGGTGCTGCTCCGAGAAAGATAGCGTTGGCGGATTAGTAGTTTTTGTTGGGATCCATGCTTGACTTTATTCACTGTCGAAAAGTCGTCGCAATACGTTCAAGCGATGACCCGGCTTATCTAACCGAAGGCCCCCGGTTCGGGCTGCCTAATCAGGACTTTAGTCTTCGGAGCGCGGGTAGCAGAGTCTGCAGTAATTGGGGTTGACTTTTCCTTAATATCCGACTATTGATTTTGCTTTAGAGACGATCCAAGCAAGAGGCGCGGACCACCCCTAATTATATCGAATGTTGATAGGAACTAGAAGGGACATAGAAGCTGAAATAAGTTATACTTCCGTGGTAGCGAAGATGCTTGTAGCAGGCGGTATTCGTCACGAACGTCCTCATGAGCGGCGCTCACATCACCCTGGCAGGGGATGGCGTATC',\n",
        "   'sequence_4': 'CCTTCCCACGATATCCAGCGTTCCCCCAGGGATCGGCCGTATACTAGGCTCCATACGATATGCAATCTGGCGCTTGCGATGCTTACTAGTCCGCCTTCTAGATGCTTGCCTATTTTACAATGCGTTGGAGGACTCCACGAATTAGAGGACCTTTCGATTGTGACTTAGGGTGTTGAAGCACGCCCGTCTCTCACATAGGAGGGGCTTTACGGTTGTCCGCGACCGCCAAACGAGATTCCGTTTCGTTCTACCTCGCGGGCGTAAAAGCCGCATGGGCCTTACTTTATGCCCTTCCCACCGTGTAGAAGATAAGAGTGCCGTGTGGAGGTACCCCCTATTTAGCCTGGGTAGAACGAGCTCAATCCACCTTTGTCAGGTGCTCAATCGTGCCTTTAAACACTAACGGGCTGGGATAGGGTGATGATAGCCCGATTCTCCTTCCACGTATCCGTTTCAGTAGCAGCACATATCTGCATAATGCCAAGAGCATGGGATAGTTGCGAAACCCATATACAACCGCGAGAGACTCCTGAGGAGTCACGATTATAGGCTGAGGCTACATCTAGGTCACCGGATCGTCTCGTTCCAAGAGGGATTTCCGCGGATGTGTGTCCGACCCGTAGGGGCTAGCCTGGCCGCGATAAAGGTCCTTAACAGATACGGATGTGCGTGGCCGTCAGAATCGTTGGTGTTGAGAAAAGATCCGACTTGTTCCTTGGACGAATGAGTGTGATCTAAGACCATCCGCCCTGAGTCACCGTCGCGTTAGATCGTCCCCACTCTAAGCTGCATCGAGGCTTGTTTCACCGATGGTGAACTGAGGCCATTTGAGCAGACCGTTGATGTAGAGCGCAAACTGGGTAGGAAAAACCACTACGACTATCAATCCACAGCGAGTAATTGCAGCGTAACTTATTAAGTCTTAAGAGATGCTACGTCCAAAGACTCAAAGCGGGAGAGGGGAAGTCTCCGCGAGTACGCAGGCAACAGTCCAGCGTGC'}),\n",
        " ('e7e5a',\n",
        "  {'creation_time': '6',\n",
        "   'id': 'e7e5a3f1574ec95fa9b7a103578eee0ba446fe03ff7d152c4d32f88c3dfbc3887eaebbee2733cf33d124a78e8fafe6e89ba88876b2d7dd38566b092fabe497ef',\n",
        "   'segment_number': '4',\n",
        "   'sequence_1': 'TTAGACGAATTGAAGCTGCCGTGTCGCGTCTCCTAGAGGACTTGGTCATACGGAGATGTTTAACGCATCTCTGATCGGTTCAGAATAGTACTTGACACAGATCGATCGGACGTTTAGTTGATATCATGGATAAGCTAAACCATTCACTGTTGGCGTGATGAGACCGTGTGACATGGTATTAGTCCGGCTTGAGTCTGAAGGGTAGTACGGATTAATATAAAGATTTCTCATATGGTACCCACCAACAAGATATCACCCTCAAATCGTATTGATTACCACAGTTAGTTGCTCAGGACCACTACACGACTTTCCGACCCTAGCTCCGATCAGGAGGCAGAACCCACTACAATATTTGCAGCTGTCCACGAAAGCAGCCCCTAATACAAATCGAGCAAGGGAGAAAACTTACTTTAGCCGGTGTGGCCGGATGGTTGGCTCTCCCTGGATAGACCATAGTATACCTCGTGGGTCCAGGCGCATGGGTCAACGTCGACGGGGTATGCTCAGTTGGTTAGAGATACTCCCGCCCGTGACAAGCGTTCTCCCTCCTCGTATATGTTGGTGGCCCTGGTTCCGGTGCTGCTCCGAGAAAGATAGCGTTGGCGGATTAGTAGTTTTTGTTGGGATCCATGCTTGACTTTATTCACTGTCGAAAAGTCGTCGCAATACGTTCAAGCGATGACCCGGCTTATCTAACCGAAGGCCCCCGGTTCGGGCTGCCTAATCAGGACTTTAGTCTTCGGAGCGCGGGTAGCAGAGTCTGCAGTAATTGGGGTTGACTTTTCCTTAATATCCGACTATTGATTTTGCTTTAGAGACGATCCAAGCAAGAGGCGCGGACCACCCCTAATTATATCGAATGTTGATAGGAACTAGAAGGGACATAGAAGCTGAAATAAGTTATACTTCCGTGGTAGCGAAGATGCTTGTAGCAGGCGGTATTCGTCACGAACGTCCTCATGAGCGGCGCTCACATCACCCTGGCAGGGGATGGCGTATC',\n",
        "   'sequence_4': 'CCTTCACACGATATCCAGCGTTCCCCCAGGGATCGGCCGTATACTAGGCTCCATACGGTATGCAATCTGGCGCTTGCGATGCTTACTAGTCCGCCTTCTAGATGCTTGCCTATTTTACAATGCGTTGGAGGACTCCACGAATTAGAGGACCTTTCGATTGTGACTTAGGGTGTTGAAGCACGCCCGTCGCTCACATAGGAGGGGCTTTACGGTTGTCCGCGACCGCCAAACGAGATTCCGTTTCGTTCTACCTCGCGGGCGTAAAAGCCGCATGGGCCTTACTTTATGCCCTTCCCACCGTGTAGAAGATAAGAATGGCGTATGGAGGTACCCCCTATTTAGCCTGGGTAGAACGAGCTCAATCCACCTTTGTCAGGTGCTCAATCGTGCCTTTAAACACTAACGGGCTGGGATAGGGTGATGATAGCCCGATTCTCCTTCCTCGTATCCGTTTCAGTAGCAGCACATATCTGCATAATGCCAAGAGCATGGGATAGTTGCGAAACCCATATACAACCGCGAGAGACTCCTGAGGAGTCACGATTATAGGCTGAGGCTACATCTAGGTCACCGGATCGTCTCGTTCCAAGAGGGATTTCCGCGGATGTGTGTCCGACCCGTAGGGGCTCGCCTGGGCGCGATAAAGGTCCTTAACAGATACGGATGTGCGTGGCCGTCAGAATCGTTGGTGTCGAGAAAAGATCCTACTTGTTCCTTGGACGAATGAGTGTGATCTAAGACCATCCGCCCTGAGTCACCGGCGCGTTAGATCGTCCCCACTCTAAGCTGCATCGAGGCTTGTTTCACCGATGGTGAACTGAGGCCATTTGAGCAGACCGTTGATGTAGAGCGCGAACTGGGTAGGGAAAACCACTACGACTATCAATCCACAGCGAGTAATTGCAGCGTAACTTATTAAGTCTTAAGAGATGCTACGTCCAAAGACTCAAAGCGGGAGAGGGGAAGTCTCCGCGAGTACGCAGGCAATAGTCCAGCGTGC'}),\n",
        " ('84345',\n",
        "  {'creation_time': '1',\n",
        "   'id': '843451150f06d60d8b69dbd4883928eaca2bd99706e97dfff4a82b5a329fa3b0375873458e9ca3637e1513a56753dce495aa625c00640f8e49953a2b63debdcc',\n",
        "   'segment_number': '4',\n",
        "   'sequence_1': 'TTAGACGAATTGAAGCTGCCGTGTCGCGTCTCCTAGAGGACTTGGTCATACGGAGATGTTTAACGCATCTCTGATCGGTTCAGAATAGTACTTGACACAGATCGATCGGACGTTTAGTTGATATCATGGATAAGCTAAACCATTCACTGTTGGCGTGATGAGACCGTGTGACATGGTATTAGTCCGGCTTGAGTCTGAAGGGTAGTACGGATTAATATAAAGATTTCTCATATGGTACCCACCAACAAGATATCACCCTCAAATCGTATTGATTACCACAGTTAGTTGCTCAGGACCACTACACGACTTTCCGACCCTAGCTCCGATCAGGAGGCAGAACCCACTACAATATTTGCAGCTGTCCACGAAAGCAGCCCCTAATACAAATCGAGCAAGGGAGAAAACTTACTTTAGCCGGTGTGGCCGGATGGTTGGCTCTCCCTGGATAGACCATAGTATACCTCGTGGGTCCAGGCGCATGGGTCAACGTCGACGGGGTATGCTCAGTTGGTTAGAGATACTCCCGCCCGTGACAAGCGTTCTCCCTCCTCGTATATGTTGGTGGCCCTGGTTCCGGTGCTGCTCCGAGAAAGATAGCGTTGGCGGATTAGTAGTTTTTGTTGGGATCCATGCTTGACTTTATTCACTGTCGAAAAGTCGTCGCAATACGTTCAAGCGATGACCCGGCTTATCTAACCGAAGGCCCCCGGTTCGGGCTGCCTAATCAGGACTTTAGTCTTCGGAGCGCGGGTAGCAGAGTCTGCAGTAATTGGGGTTGACTTTTCCTTAATATCCGACTATTGATTTTGCTTTAGAGACGATCCAAGCAAGAGGCGCGGACCACCCCTAATTATATCGAATGTTGATAGGAACTAGAAGGGACATAGAAGCTGAAATAAGTTATACTTCCGTGGTAGCGAAGATGCTTGTAGCAGGCGGTATTCGTCACGAACGTCCTCATGAGCGGCGCTCACATCACCCTGGCAGGGGATGGCGTATC',\n",
        "   'sequence_4': 'CCTTCACACGATATCCAGCGTTCCCCCAGGGATCGGCCGTATACTAGGCTCCATACGGTATGCAATCTGGCGCTTGCGATGCTTACTAGTCCGCCTTCTAGATGCTTGCCTATTTTACAATGCGTTGGAGGACTCCACGAATTAGAGGACCTTTCGATTGTGACTTAGGGTGTTGAAGCACGCCCGTCTCTCACATAGGAGGGGCTTTACGGTTGTCCGCGACCGCCAAACGAGATTCCGTTTCGTTCTACCTCGCGGGCGTAAAAGCCGCATGGGCCTTACTTTATGCCCTTCCCACCGTGTAGAAGATAAGAATGCCGTATGGAGGTACCCCCTATTTAGCCTGGGTAGAACGAGCTCAATCCACCTTTGTCAGGTGCTCAATCGTGCCTTTAAACACTAACGGGCTGGGATAGGGTGATGATAGCCCGATTCTCCTTCCACGTATCCGTTTCAGTAGCAGCACATATCTGCATAATGCCAAGAGCATGGGATAGTTGCGAAACCCATATACAACCGCGAGAGACTCCTGAGGAGTCACGATTATAGGCTGAGGCTACATCTAGGTCACCGGATCGTCTCGTTCCAAGAGGGATTTCCGCGGATGTGTGTCCGACCCGTAGGGGCTCGCCTGGCCGCGATAAAGGTCCTTAACAGATACGGATGTGCGTGGCCGTCAGAATCGTTGGTGTTGAGAAAAGATCCTACTTGTTCCTTGGACGAATGAGTGTGATCTAAGACCATCCGCCCTGAGTCACCGTCGCGTTAGATCGTCCCCACTCTAAGCTGCATCGAGGCTTGTTTCACCGATGGTGAACTGAGGCCATTTGAGCAGACCGTTGATGTAGAGCGCGAACTGGGTAGGGAAAACCACTACGACTATCAATCCACAGCGAGTAATTGCAGCGTAACTTATTAAGTCTTAAGAGATGCTACGTCCAAAGACTCAAAGCGGGAGAGGGGAAGTCTCCGCGAGTACGCAGGCAATAGTCCAGCGTGC'}),\n",
        " ('cfe57',\n",
        "  {'creation_time': '5',\n",
        "   'id': 'cfe57be6ef5426e14c53369af5adc701482d3a87388b45c28a9d5439fde4ad99c623d0fdeef6a36d88b46a3e55d51618fefe601dbc4260bf377311aab1e0403a',\n",
        "   'segment_number': '4',\n",
        "   'sequence_1': 'TTAGACGAATTGAAGCTGCCGTGTCGTGTCTCCTAGAGGACTTGGTCATACGGAGATGTTTAACGCATCTCTGATCGGTTCAGAATAGTACTTGACACAGATCGATCGGACGTTTAGTTGATATCATGGATAAGCTAAACCATTCACTGTTGGCGTGATGAGACCGTGTGACATGGTATTAGTCCGGCTTGAGTCTGAAGGGTAGTACGGATTAATATAAAGATTTCTCATATGGTACCCACCAACAAGATATCACCCTCAAATCGTAGTGATTACCACAGTTAGTTGCTCAGGACCACTACACGACTTTCCGACCCTAGCTCCGATCAGGAGGCAGAACCCACTACAATATTTGCAGCTGTCCACGAAAGCAGCCCCTAATACAAATCGAGCAAGGGAGAAAACTTACTTTAGCCGGTGTGGCCGGATGGTTGGCTCTCCCTGGATAGACCATAGTATACCTCGTGGGTCCAGGCGCATGGGTCAACGTCGACGGGGTATGCTCAGTTGGTTATAGATACTCCCGCCCGTGACAAGCGTTCTCCCTCCTCGTATATGTTGGTGGCCCTGGTTCCGGTGCTGCTCCGAGAAAGATAGCGTTGGCGGATTAGTAGTTTTTGTTGGGATCCATGCTTGACTTTATTCACTGTCGAAAAGTCGTCGCAATACGTTCAAGCGATGACCCGGCTTATCTAACCGAAGGCCCCCGGTTCGGGCTGCCTAATCAGGACTTTAGTCTTCGGAGCGCGGGTAGCAGAGTCTGCAGTAATGGGGGTTGACTTTTCCTTAATATCCGACTATTGATTTTGCTTTAGAGACGATCCAAGCAAGAGGCGCGGACCACCCCTAATTATATCGAATGTTGATAGGAACTAGAAGGGACATAGAAGCTGAAATAAGTTATACTACCGTGGTAGCGAAGATGCTTGTAGCAGGCGGTATTCGTCACGAACGTCCTCATGAGCGGCGCTCACATCACCCTGGCAGGGGATGGCGTATC',\n",
        "   'sequence_4': 'CCTTCCCACGATATCCAGCGTTCCCCCAGGGATCGGCCGTATACAAGGCTCCAGACGATATGCAATCCGGCGCTTGCGATGCTTACTAGTCCGCCTTCTAGATGCTTGCCTATTTTACAATGCGTTGGAGGACTCCACGAATTAGAGGACCTTTCGATTGTTACTTCGGGTGTTGAAGCACGCCCGTCTCTCACAGATGAGGGGTTTTACGGTTGTCCGCGACCGCCAAGGGAGATTCCGATTCGTTCTACCTCGCGGGCGTAAAAGCCGCATGGGCCTTACTTTATGCCCTTCCCACCGTGTAGAAGATAAGAGTGCCGTGTGGAGGTACCCCCTATTTTGCCTGGGTAGAACGAGCTCAATCCACCTTTGTCAGGTGCTCACTCGTGCCTTTAAACACTAACGGGCTGGGATAGGGTGATGATGGCCCGATTCTCCTTCCACGTATCCGTTTCAGTAGCAGCACCTATCTGCATAATGCCAAGAGCATGGGATAGTTGCGAAACCCATATACACCCGCGAGAGACTCCTGAGGAGTCACGATTATAGGCTGAGGCTACTTCTAGGTCACCGGATCGTCTCGTTCCAAGAGGGATTTCCGCGGATGTGTGTCCGACCCGTAGGGGCTAGCCTGGCCGCGATAAAGGTACTTAACAGATACGGATGTGCGTGGCGGTCAGAATCGTTGGTGATGAGAAAAGATCCGACTTGCTCCTTTGACGAATGAGTGTGATCTAAGACAAGCCGCCCTGAGTCACCGTCGAGTTAGATCGTCCCCACTCTAAGCTGCATCGAGGCTTGTTTCACCGATGGTGAACTGAGGACATTTGTGCAGACTGCTGATGTAGATAGCAAACTGGGTAGGAAAAACCACTAAGACTATCAATCAACAGCGAGTAATTGCAGCGTAGCTAATTACGTCTTAAGAGATGCTACGTCCAAAGACTCAAAGCGGGAGAGGGGAAGTCTACGCGAGTACGCAGGCAACAGTCCAGCGTGC'}),\n",
        " ('bb0ae',\n",
        "  {'creation_time': '9',\n",
        "   'id': 'bb0ae8b9a9d7dd7643d4f218414c5320894c987936a8bfacbb4f4e72eaa67d4a41f56085297244f6e3a8f0b30e041b64ef70421497c59a448af6367b97e30806',\n",
        "   'segment_number': '4',\n",
        "   'sequence_1': 'TTAGACGAATTGAAGCTGCCGTGTCGTGTCTCCTAGAGGACTTGGTCATACGGAGATGTTTAACGCATCTCTGATCGGTTCAGAATAGTACTTGACACAGATCGATCGGACGTTTAGTTGATATCATGGATAAGCTAAACCATTCACTGTTGGCGTGATGAGACCGTGTGACATGGTATTAGTCCGGCTTGAGTCTGAAGGGTAGTACGGATTAATATAAAGATTTCTCATATGGTACCCACCAACAAGATATCACCCTCAAATCGTAGTGATTACCACAGTTAGTTGCTCAGGACCACTACACGACTTTCCGACCCTAGCTCCGATCAGGAGGCAGAACCCACTACAATATTTGCAGCTGTCCACGAAAGCAGCCCCTAATACAAATCGAGCAAGGGAGAAAACTTACTTTAGCCGGTGTGGCCGGATGGTTGGCTCTCCCTGGATAGACCATAGTATACCTCGTGGGTCCAGGCGCAGGGGTCAACGTCGACGGGGTATGCTCAGTTGGTTATAGATACTCCCGCCCGTGACAAGCGTTCTCCCTCCTCGTATATGTTGGTGGCCCTGGTTCCGGTGCTGCTCCGAGAAAGATAGCGTTGGCGGATTAGTAGTTTTTGTTGGGATCCATGCTTGACTTTATTCACTGTCGAAAAGTCGTCGCAATACGTTCAAGCGATGACCCGGCTTATCTAACCGAAGGCCCCCGGTTCGGGCTGCCTAATCAGGACTTTAGTCTTCGGAGCGCGGGTAGCAGAGTCTGCAGTAATGGGGGTTGACTTTTCCTTAATATCCGACTATTGATTTTGCTTTAGAGACGATCCAAGCAAGAGGCGCGGACCACCCCTAATTATATCGAATGTTGATAGGAACTAGAAGGGACATAGAAGCTGAAATAAGTTATACTACCGTGGTAGCGAAGATGCTTGTAGCAGGCGGTATTCGTCACGAACGTCCTCATGAGCGGCGCTCACATCACCCTGGCAGGGGATGGCGTATC',\n",
        "   'sequence_4': 'CCTTCCCACGATATCCAGCGTTCCCCCAGGGATCGGCCGTATACAAGGCTCCCGACGATATGCAATCCGGCGCTTGCGATGCTTACTGGTCCGCCTTCTAGATGCTTCCCTATTTTACAATGCGTTGGAGGACTCCACGAATTAGAGGACCTTTCGATTGTTACTTCGGGTGTTGAAGCACGCCCGTCTCTCACAGATGAGGGGTTTTACGGTTGTCCGCGACCGCCAAGGGAGATTCCGATTCGTTCTACCTCGCGGGCGTAAAAGCCGCATGGGCCTTACTTTATGCCCTTCCCACCGTGTAGAATATAAGAGTGCCGTGTGGAGGTACCCCCTATATTGCCTGGGTAGAACGAGCTCAATCCACCTTTGTCAGGTGCTCACTCGTGCCTTTAAACACTAACGGGCTGGGATAGGGTGATGATGGCCCGATTCTCCTTCCACGTATCCGTTTCAGTAGCAGCACCTATCTGCATAATGCCAAGAGCATGGGATAGTTGCGAAACCCATATACACCCGCGAGAGACTCCTGAGGAGTCACGATTATAGGCTGAGGCTACTTCTAGGTCACCGGATCGTCTCGTTCCAAGAGGGATTTCCGCGGATGTGTGTCCGACCCGTAGGGGCTAGCCTGGCCGCGATAAAGGTACTTAACAGATACGGATGTGCGTGGCGGTCAGAATCGTTGGTGATGAGAAAAGATCCGACTTGCTCCTTTGACGAATGAGTGTGATCTAAGACAAGCCGCCCTGAGTCACCGTCGAGTTAGATCGTCCCCACTCTAAGCTGCATCGAGGCTTGTTTCACCGATAGTGAACTGAGGACATTTGTGCAGACTGCTGATGTAGATAGCAAACTGGGTAGGAAAAACCGCTAAGACTATCAATCAACAGCGAGTAATTGCAGCGTAGCTAATTACGTCTTAAGAGATGCTACATCCAAAGACTCAAAGCGGGAGAGGGGAAGTCTACGCGAGTACGCAGGCAACCGTCCAGCGGGC'}),\n",
        " ('102ba',\n",
        "  {'creation_time': '7',\n",
        "   'id': '102ba75ed7909ea7ecab426d3601e771be9ae410d886978316f43709603958e1574dfee9f44fc7edd32f64ea7a20cb003bacbd385ead7935289f80832097c42b',\n",
        "   'segment_number': '4',\n",
        "   'sequence_1': 'TTAGACGAATTGAAGCTGCCGTGTCGCGTCTCCTAGAGGACTTGGTCATACGGAGATGTTTAACGCATCTCTGATCGGTTCAGAATAGTACTTGACACAGATCGATCGGACGTTTAGTTGATATCATGGATAAGCTAAACCATTCACTGTTGGCGTGATGAGACCGTGTGACATGGTATTAGTCCGGCTTGAGTCTGAAGGGTAGTACGGATTAATATAAAGATTTCTCATATGGTACCCACCAACAAGATATCACCCTCAAATCTTATTGATTACCACAGTTAGTTGCTCAGGACCACTACACGACTTTCCGACCCTAGCTCCGATCAGGAGGCAGAACCCACTACAATATTTGCAGCTGTCCACGAAAGCAGCCCCTAATACAAATCGAGCAAGGGAGAAAACTTACTTTAGCCGGTGTGGCCGGATGGTTGGCTCTCCCTGGATAGACCATAGTATACCTCGTGGGTCCAGGCGCATGGGTCAACGTCGACGGGGTATGCTCAGTTGGTTAGAGATACTCCCGCCCGTGACAAGCGTTCTCCCTCCTCGTATATGTTGGTGGCCCTGGTTCCGGTGCTGCTCCGAGAAAGATAGCGTTGGCGGATTAGTAGTTTTTGTTGGGATCCATGCTTGACTTTATTCACTGTCGAAAAGTCGTCGCAATACGTTCAAGCGATGACCCGGCTTATCTAACCGAAGGCCCCCGGTTCGGGCTGCCTAATCAGGACTTTAGTCTTCGGAGCGCGGGTAGCAGAGTCTGCAGTAATTGGGGTTGACTTTTCCTTAATATCCGACTATTGATTTTGCTTTAGAGACGATCCAAGCAAGAGGCGCGGACCACCCCTAATTATATCGAATGTTGATAGGAACTAGAAGGGACATAGAAGCTGAAATAAGTTATACTTCCGTGGTAGCGAAGATGCTTGTAGCAGGCGGTATTCGTCACGAACGTCCTCATGAGCGGCGCTCACATCACCCTGGCAGGGGATGGCGTATC',\n",
        "   'sequence_4': 'CCTTCCCACGATATCCAGCGTTCCCCCAGGGATCGGCCGTATACTAGGCTCCATACGATATGCAATCTGGCGCTTGCGAAGCTTACTAGTCCGCCTTCTAGATGCTTGCCTATTTTACAATGCGTTGGAGGACTCCACGAATTAGAGGACCTTTCGATTGTGACTTAGGGTGTTGAAGCACGCCCGTCTCTCACATAGGAGGGGCTTTACGGTTGTCCGCGACCGCCAAACGAGATTCCGTATCGTTCTACCTCGCGGGCGTAAAAGCCGCATGGGCCTTACTTTATGCCCTTCCCACCGTGTAGAAGATAAGAGTGCCGTGTGGAGGTACCCCCTATTTAGCCTGGGTAGAACGAGCTCAATCCACCTTTGTCAGGTGCTCAATCGTGCCTTTAAACACTAACGGGCTGGGATAGGGTGATGATAGCCCGATTCTCCTTCCACGTATCCGTTTCAGTAGCAGCACATATCTGCATAATGCCAGGAGCATGGGATAGTTGCGAAACCCATATACAACCGCGAGAGACTCCTGAGGAGTCACGATTATAGGCTGAGGCTACATCTAGGTCACCGGATCGTCTCGTTCCAAGAGGGATTTCCGCGGATGTGTGTCCGACCCGTAGGGGCTAGCCTGGCCGCGATAAAGGTCCTTAACAGATACGGATGTGCGTGGCCGTCAGAATCGTTGGTGTTGAGAAAAGATCCGACTTGTTCCTTGGACGAATGAGTGTGATCTAAGACCATCCGCCCTGAGTCACCGTCGCGTTAGATCGTCCCCACTCTAAGCTGCATCGAGGCTTGTTTCACCGATGGTGAACTGAGGCCATTTGAGCAGACCGTTGATGTAGAGCGCAAACTGGGTAGGAAAAACCACTACGACTATCAATCCACAGCGAGTAATTGCAGCGTAACTTATTAAGTCTTAAGAGATGCTACGTCCAAAGACTCAAAGCGGGAGAGGGGAAGTCTCCGCGAGTACGCAGGCAACAGTCCAGCGTGC'}),\n",
        " ('fee68',\n",
        "  {'creation_time': '8',\n",
        "   'id': 'fee68b85dcbca5d92e097b154a4bf9900e7d5f4c6dec25052939294014398c3a1d1573d36bf518c5873967589a5191baa96baacd088bedd40107942ba7dba068',\n",
        "   'segment_number': '4',\n",
        "   'sequence_1': 'TTAGACGAATTGAAGCTGCCGTGTCGCGTCTCCTAGAGGACTTGGTCATACGGAGATGTTTAACGCATCTCTGATCGGTTCAGAATAGTACTTGACACAGATCGATCGGACGTTTAGTTGATATCATGGATAAGCTAAACCATTCACTGTTGGCGTGATGAGACCGTGTGACATGGTATTAGTCCGGCTTGAGTCTGAAGGGTAGTACGGATTAATATAAAGATTTCTCATATGGTACCCACCAACAAGATATCACCCTCAAATCGTATTGATTACCACAGTTAGTTGCTCAGGACCACAACACGACTTTCCGACCCTAGCTCCGATCAGGAGGCAGAACCCACTACAATATTTGCAGCTGTCCACGAAAGCAGCCCCTAATACAAATCGAGCAAGGGAGAAAACTTACTTTAGCCGGTGTGGCCGGATGGTTGGCTCTCCCTGGATAGACCATAGTATACCTCGTGGGTCCAGGCGCATGGGTCAACGTCGACGGGGTATGCTCAGTTGGTTAGAGATACTCCCGCCCGTGACAAGCGTTCTCCCTCCTCGTATATGTTGGTGGCCCTGGTTCCGGTGCTGCTCCGAGAAAGATAGCGTTGGCGGATTAGTAGTTTTTGTTGGGATCCATGCTTGACTTTATTCACTGTCGAAAAGTCGTCGCAATACGTTCAAGCGATGACCCGGCTTATCTAACCGAAGGCCCCCGGTTCGGGCTGCCTAATCAGGACTTTAGTCTTCGGAGCGCGGGTAGCAGAGTCTGCAGTAATTGGGGTTGACTTTTCCTTAATATCCGACTATTGATTTTGCTTTAGAGACGATCCAAGCAAGAGGCGCGGACCACCCCTAATTATATCGAATGTTGATAGGAACTAGAAGGGACATAGAAGCTGAAATAAGTTATACTTCCGTGGTAGCGAAGATGCTTGTAGCAGGCGGTATTCGTCACGAACGTCCTCATGAGCGGCGCTCACATCACCCTGGCAGGGGATGGCGTATC',\n",
        "   'sequence_4': 'ATGTATCCCTGAGGTTTCTGACGCCGTTCGCCCCCGAGCTCCCCGAGGCGGGACAGCCCGGGGATTATCGCTAGCTCAATAAACATGACCAGCCCTGAATAGCTTGGTACCGTGCCGCGCGCTAATTGCCCTAATGGTTTACAGCTCGGTAGGACTTCTTTAAAACCGAGGGAGTTGGTAGTACGTAGGCATGACATCGCACTACGTGCGCGAGCTTGGTCGTGTAGATTACCCTTATATCAAACCACCGATCTTCTAAGCAAGTTGAAAGAGAAGTCGCTCAATTGTCTTCAGCTTAGCGAGCGACGCTCCTGCCTCCGGCAAATAAATTGCCCCAAATAACCACTGTGGTGTTTTTGGGGTGGGAGTAGCATCCAGAGGAGAGGTGATGAGCCAGTCTGTGTGCGCCCTGCTTATGCCAGACCAGTTTGAGCCAGAGAGTCTTTGGAACCACACCCACCAGAAGATCGCCTTAGGTACAGAGTTTCGGTGCAAATGGGCCACGCGAATATAATGACGATTTTGGCCCCGCGAGATAGACACCGATACGCTTTCGCGGTCCTAGTCTCACTCCGTAACAGCTAAGTCACGAACCTTCACCCTACCTTCCCATGTCCAAGATCGTACTCAACATCTACTCTGTGAGGCCGGCCTGGGCCCACCTCAGGACTTTGCCATACTGAGGCTAAGCACCCACGGGGTCACTTCTTTCCTACTTACCATGTCCTCCACCCGAGTCTTCACAGTTAAGCTAATTCATATCACTGCGCAAACACCTTCAGTCGAAGTCAGACGTGTCGCACCCATAGCAATACTAATTAGCATGGTCCAAGCAGGAACCTTAGACGAATAACAGGGCATTCACAGGGGCAGTTGTTTCGAGCTCGTCTACCCGTCAAACGCATAAAGAGTGCAGAAACAGTCTGCGAACTTAATCTTAGGTAACGTTCCTTCATTACCGCAGCCTTGGCAGATATACGCGTCAATGATGACCTTTCTA'})]"
       ]
      }
     ],
     "prompt_number": 886
    },
    {
     "cell_type": "code",
     "collapsed": false,
     "input": [
      "s.pathogens[0].parent"
     ],
     "language": "python",
     "metadata": {},
     "outputs": [
      {
       "metadata": {},
       "output_type": "pyout",
       "prompt_number": 887,
       "text": [
        "{}"
       ]
      }
     ],
     "prompt_number": 887
    },
    {
     "cell_type": "code",
     "collapsed": false,
     "input": [
      "r.pruned_condensed_graph().edges(data=True)"
     ],
     "language": "python",
     "metadata": {},
     "outputs": [
      {
       "metadata": {},
       "output_type": "pyout",
       "prompt_number": 888,
       "text": [
        "[('80fb9', 'a3ccf', {'segments': [1, 4], 'weight': 11}),\n",
        " ('fc207', 'fee68', {'segments': [1, 4], 'weight': 7}),\n",
        " ('a3ccf', 'cfe57', {'segments': [1, 4], 'weight': 15}),\n",
        " ('a3ccf', 'f3a71', {'segments': [1], 'weight': 3}),\n",
        " ('3cd55', '80fb9', {'segments': [1, 4], 'weight': 16}),\n",
        " ('3cd55', 'f3a71', {'segments': [4], 'weight': 12}),\n",
        " ('3cd55', '84345', {'segments': [1, 4], 'weight': 9}),\n",
        " ('3cd55', '102ba', {'segments': [1, 4], 'weight': 4}),\n",
        " ('84345', 'e7e5a', {'segments': [1, 4], 'weight': 6}),\n",
        " ('cfe57', 'bb0ae', {'segments': [1, 4], 'weight': 11})]"
       ]
      }
     ],
     "prompt_number": 888
    },
    {
     "cell_type": "code",
     "collapsed": false,
     "input": [
      "for virus in s.reassortants():\n",
      "    print virus"
     ],
     "language": "python",
     "metadata": {},
     "outputs": [
      {
       "output_type": "stream",
       "stream": "stdout",
       "text": [
        "80fb9\n",
        "f3a71\n"
       ]
      }
     ],
     "prompt_number": 889
    },
    {
     "cell_type": "code",
     "collapsed": false,
     "input": [
      "for virus in r.reassortants():\n",
      "    print virus[0]"
     ],
     "language": "python",
     "metadata": {},
     "outputs": [
      {
       "output_type": "stream",
       "stream": "stdout",
       "text": [
        "f\n"
       ]
      }
     ],
     "prompt_number": 890
    },
    {
     "cell_type": "code",
     "collapsed": false,
     "input": [
      "s.transmission_graph().edges(data=True)"
     ],
     "language": "python",
     "metadata": {},
     "outputs": [
      {
       "metadata": {},
       "output_type": "pyout",
       "prompt_number": 891,
       "text": [
        "[(80fb9, a3ccf, {'segments': [1, 4], 'weight': 11}),\n",
        " (cfe57, bb0ae, {'segments': [1, 4], 'weight': 11}),\n",
        " (fc207, fee68, {'segments': [1, 4], 'weight': 7}),\n",
        " (3cd55, f3a71, {'segments': [4], 'weight': 12}),\n",
        " (3cd55, 102ba, {'segments': [1, 4], 'weight': 4}),\n",
        " (3cd55, 84345, {'segments': [1, 4], 'weight': 9}),\n",
        " (3cd55, 80fb9, {'segments': [4], 'weight': 16}),\n",
        " (a3ccf, f3a71, {'segments': [1], 'weight': 3}),\n",
        " (a3ccf, cfe57, {'segments': [1, 4], 'weight': 15}),\n",
        " (84345, e7e5a, {'segments': [1, 4], 'weight': 6}),\n",
        " (84345, 80fb9, {'segments': [1], 'weight': 0})]"
       ]
      }
     ],
     "prompt_number": 891
    },
    {
     "cell_type": "markdown",
     "metadata": {},
     "source": [
      "# Test Relabeled Graph"
     ]
    },
    {
     "cell_type": "code",
     "collapsed": false,
     "input": [
      "for pathogen in s.pathogens:\n",
      "    print (str(pathogen), str(pathogen.parent))"
     ],
     "language": "python",
     "metadata": {},
     "outputs": [
      {
       "output_type": "stream",
       "stream": "stdout",
       "text": [
        "('fc207', '{}')\n",
        "('3cd55', '{}')\n",
        "('84345', '{3cd55: [1, 4]}')\n",
        "('80fb9', '{3cd55: [4], 84345: [1]}')\n",
        "('a3ccf', '{80fb9: [1, 4]}')\n",
        "('f3a71', '{3cd55: [4], a3ccf: [1]}')\n",
        "('cfe57', '{a3ccf: [1, 4]}')\n",
        "('e7e5a', '{84345: [1, 4]}')\n",
        "('102ba', '{3cd55: [1, 4]}')\n",
        "('fee68', '{fc207: [1, 4]}')\n",
        "('bb0ae', '{cfe57: [1, 4]}')\n"
       ]
      }
     ],
     "prompt_number": 892
    },
    {
     "cell_type": "code",
     "collapsed": false,
     "input": [
      "s.relabeled_transmission_graph().edges(data=True)"
     ],
     "language": "python",
     "metadata": {},
     "outputs": [
      {
       "metadata": {},
       "output_type": "pyout",
       "prompt_number": 893,
       "text": [
        "[('80fb9', 'a3ccf', {'segments': [1, 4], 'weight': 11}),\n",
        " ('fc207', 'fee68', {'segments': [1, 4], 'weight': 7}),\n",
        " ('a3ccf', 'cfe57', {'segments': [1, 4], 'weight': 15}),\n",
        " ('a3ccf', 'f3a71', {'segments': [1], 'weight': 3}),\n",
        " ('3cd55', '84345', {'segments': [1, 4], 'weight': 9}),\n",
        " ('3cd55', '80fb9', {'segments': [4], 'weight': 16}),\n",
        " ('3cd55', '102ba', {'segments': [1, 4], 'weight': 4}),\n",
        " ('3cd55', 'f3a71', {'segments': [4], 'weight': 12}),\n",
        " ('84345', 'e7e5a', {'segments': [1, 4], 'weight': 6}),\n",
        " ('84345', '80fb9', {'segments': [1], 'weight': 0}),\n",
        " ('cfe57', 'bb0ae', {'segments': [1, 4], 'weight': 11})]"
       ]
      }
     ],
     "prompt_number": 893
    },
    {
     "cell_type": "code",
     "collapsed": false,
     "input": [
      "r.pruned_condensed_graph().edges(data=True)"
     ],
     "language": "python",
     "metadata": {},
     "outputs": [
      {
       "metadata": {},
       "output_type": "pyout",
       "prompt_number": 894,
       "text": [
        "[('80fb9', 'a3ccf', {'segments': [1, 4], 'weight': 11}),\n",
        " ('fc207', 'fee68', {'segments': [1, 4], 'weight': 7}),\n",
        " ('a3ccf', 'cfe57', {'segments': [1, 4], 'weight': 15}),\n",
        " ('a3ccf', 'f3a71', {'segments': [1], 'weight': 3}),\n",
        " ('3cd55', '80fb9', {'segments': [1, 4], 'weight': 16}),\n",
        " ('3cd55', 'f3a71', {'segments': [4], 'weight': 12}),\n",
        " ('3cd55', '84345', {'segments': [1, 4], 'weight': 9}),\n",
        " ('3cd55', '102ba', {'segments': [1, 4], 'weight': 4}),\n",
        " ('84345', 'e7e5a', {'segments': [1, 4], 'weight': 6}),\n",
        " ('cfe57', 'bb0ae', {'segments': [1, 4], 'weight': 11})]"
       ]
      }
     ],
     "prompt_number": 894
    },
    {
     "cell_type": "markdown",
     "metadata": {},
     "source": [
      "# Experiment with Accuracy Metrics"
     ]
    },
    {
     "cell_type": "code",
     "collapsed": false,
     "input": [
      "matching_edges = 0\n",
      "total_edges = len(s.relabeled_transmission_graph().edges())\n",
      "for edge in r.pruned_condensed_graph().edges(data=True):\n",
      "    if edge in s.relabeled_transmission_graph().edges(data=True):\n",
      "        matching_edges += 1\n",
      "        \n",
      "\n",
      "int(float(matching_edges) / total_edges * 100)"
     ],
     "language": "python",
     "metadata": {},
     "outputs": [
      {
       "metadata": {},
       "output_type": "pyout",
       "prompt_number": 895,
       "text": [
        "81"
       ]
      }
     ],
     "prompt_number": 895
    },
    {
     "cell_type": "code",
     "collapsed": false,
     "input": [
      "# This has been implemented in the prototype functions below.\n",
      "# float(len(r.identify_reassortants()))/float(len(s.identify_reassortants()))"
     ],
     "language": "python",
     "metadata": {},
     "outputs": [],
     "prompt_number": 896
    },
    {
     "cell_type": "code",
     "collapsed": false,
     "input": [
      "# Prototype #2 for Accuracy Functions (created on 2 July 2014)\n",
      "def fraction_accurate_reassortants(simulation, reconstruction):\n",
      "    \n",
      "    simulated = [str(item) for item in simulation.reassortants()]\n",
      "    reconstructed = reconstruction.reassortants()\n",
      "    \n",
      "    overlaps = 0\n",
      "    \n",
      "    for isolate in reconstructed:\n",
      "        if isolate in simulated:\n",
      "            overlaps += 1\n",
      "    \n",
      "    if len(simulated) == 0:\n",
      "        return \"No reassortants present in simulation.\"\n",
      "    else:\n",
      "        return float(overlaps) / len(simulated)\n",
      "\n",
      "def fraction_inaccurate_reassortants(simulation, reconstruction):\n",
      "    \n",
      "    simulated = [str(item) for item in simulation.reassortants()]\n",
      "    reconstructed = reconstruction.reassortants()\n",
      "    \n",
      "    incorrect = 0\n",
      "    for isolate in reconstructed:\n",
      "        if isolate not in simulated:\n",
      "            incorrect += 1\n",
      "    \n",
      "    if len(reconstructed) == 0:\n",
      "        return \"No reassortants detected in reconstruction.\"\n",
      "    else:\n",
      "        return float(incorrect) / len(reconstructed)\n",
      "\n",
      "\n",
      "def fraction_accurate_edges(simulation, reconstruction):\n",
      "    \n",
      "    simulated = simulation.relabeled_transmission_graph().edges(data=True)\n",
      "    reconstructed = reconstruction.pruned_condensed_graph().edges(data=True)\n",
      "    \n",
      "    overlaps = 0\n",
      "    for edge in reconstructed:\n",
      "        if edge in simulated:\n",
      "            overlaps += 1\n",
      "    \n",
      "    return float(overlaps) / len(simulated)\n",
      "\n",
      "def fraction_inaccurate_edges(simulation, reconstruction):\n",
      "    \n",
      "    simulated = simulation.relabeled_transmission_graph().edges(data=True)\n",
      "    reconstructed = reconstruction.pruned_condensed_graph().edges(data=True)\n",
      "    \n",
      "    incorrect = 0\n",
      "    \n",
      "    for edge in reconstructed:\n",
      "        if edge not in simulated:\n",
      "            incorrect += 1\n",
      "    \n",
      "    return float(incorrect) / len(reconstructed)\n",
      "\n",
      "def path_accuracy(simulation, reconstruction):\n",
      "    \n",
      "    simulated = simulation.relabeled_transmission_graph().edges(data=True)\n",
      "    reconstructed = reconstruction.pruned_condensed_graph().edges(data=True)\n",
      "    \n",
      "    num_considered = 0\n",
      "    num_correct = 0\n",
      "    \n",
      "    for edge in reconstructed:\n",
      "        num_considered += 1\n",
      "        if reconstruction.is_full_transmission_edge(edge):\n",
      "            if simulation.full_transmission_path_exists(edge[0], edge[1]):\n",
      "                num_correct += 1\n",
      "            else:\n",
      "                pass\n",
      "        else:\n",
      "            num_correct_segments = 0\n",
      "            for segment in edge[2]['segments']:\n",
      "                if simulation.segment_transmission_path_exists(edge[0], edge[1], segment):\n",
      "                    num_correct_segments += 1\n",
      "                    \n",
      "            if len(edge[2]['segments']) == num_correct_segments:\n",
      "                num_correct += 1\n",
      "                \n",
      "            else:\n",
      "                pass\n",
      "            \n",
      "    return float(num_correct) / float(num_considered)"
     ],
     "language": "python",
     "metadata": {},
     "outputs": [],
     "prompt_number": 897
    },
    {
     "cell_type": "code",
     "collapsed": false,
     "input": [
      "print fraction_accurate_reassortants(s, r)\n",
      "print fraction_inaccurate_reassortants(s, r)\n",
      "print fraction_accurate_edges(s, r)\n",
      "print fraction_inaccurate_edges(s, r)\n",
      "print path_accuracy(s, r)"
     ],
     "language": "python",
     "metadata": {},
     "outputs": [
      {
       "output_type": "stream",
       "stream": "stdout",
       "text": [
        "0.5\n",
        "0.0\n",
        "0.818181818182"
       ]
      },
      {
       "output_type": "stream",
       "stream": "stdout",
       "text": [
        "\n",
        "0.1"
       ]
      },
      {
       "output_type": "stream",
       "stream": "stdout",
       "text": [
        "\n",
        "0.9"
       ]
      },
      {
       "output_type": "stream",
       "stream": "stdout",
       "text": [
        "\n"
       ]
      }
     ],
     "prompt_number": 898
    },
    {
     "cell_type": "code",
     "collapsed": false,
     "input": [
      "# This code is used for drawing.\n",
      "from random import randint\n",
      "\n",
      "randints = []\n",
      "for node in r.condensed_graph().nodes(data=True):\n",
      "    randints.append(randint(1, 20))\n",
      "print randints\n",
      "\n",
      "reconstruction_positions = dict()\n",
      "for i, node in enumerate(sorted(r.condensed_graph().nodes(data=True))):\n",
      "    reconstruction_positions[node[0]] = (int(node[1]['creation_time']), randints[i])\n",
      "    \n",
      "print len(reconstruction_positions)\n",
      "nx.draw(r.pruned_condensed_graph(), pos=reconstruction_positions)"
     ],
     "language": "python",
     "metadata": {},
     "outputs": [
      {
       "output_type": "stream",
       "stream": "stdout",
       "text": [
        "[16, 12, 8, 1, 16, 12, 5, 14, 9, 16, 16]\n",
        "11\n"
       ]
      },
      {
       "metadata": {},
       "output_type": "display_data",
       "png": "[encoded data removed]",
       "text": [
        "<matplotlib.figure.Figure at 0x106acbed0>"
       ]
      }
     ],
     "prompt_number": 899
    },
    {
     "cell_type": "code",
     "collapsed": false,
     "input": [
      "simulation_positions = dict()\n",
      "\n",
      "print randints\n",
      "for i, pathogen in enumerate(s.pathogens):\n",
      "    simulation_positions[pathogen] = reconstruction_positions[str(pathogen)]\n",
      "    \n",
      "print len(simulation_positions)\n",
      "nx.draw(s.transmission_graph(), pos=simulation_positions)"
     ],
     "language": "python",
     "metadata": {},
     "outputs": [
      {
       "output_type": "stream",
       "stream": "stdout",
       "text": [
        "[16, 12, 8, 1, 16, 12, 5, 14, 9, 16, 16]\n",
        "11\n"
       ]
      },
      {
       "metadata": {},
       "output_type": "display_data",
       "png": "[encoded data removed]",
       "text": [
        "<matplotlib.figure.Figure at 0x106ab2150>"
       ]
      }
     ],
     "prompt_number": 900
    },
    {
     "cell_type": "code",
     "collapsed": false,
     "input": [
      "print s.reassortants(), r.reassortants()"
     ],
     "language": "python",
     "metadata": {},
     "outputs": [
      {
       "output_type": "stream",
       "stream": "stdout",
       "text": [
        "[80fb9, f3a71] ['f3a71']\n"
       ]
      }
     ],
     "prompt_number": 901
    },
    {
     "cell_type": "code",
     "collapsed": false,
     "input": [
      "for item in s.relabeled_transmission_graph().edges(data=True):\n",
      "    print item"
     ],
     "language": "python",
     "metadata": {},
     "outputs": [
      {
       "output_type": "stream",
       "stream": "stdout",
       "text": [
        "('80fb9', 'a3ccf', {'segments': [1, 4], 'weight': 11})\n",
        "('fc207', 'fee68', {'segments': [1, 4], 'weight': 7})\n",
        "('a3ccf', 'cfe57', {'segments': [1, 4], 'weight': 15})\n",
        "('a3ccf', 'f3a71', {'segments': [1], 'weight': 3})\n",
        "('3cd55', '84345', {'segments': [1, 4], 'weight': 9})\n",
        "('3cd55', '80fb9', {'segments': [4], 'weight': 16})\n",
        "('3cd55', '102ba', {'segments': [1, 4], 'weight': 4})\n",
        "('3cd55', 'f3a71', {'segments': [4], 'weight': 12})\n",
        "('84345', 'e7e5a', {'segments': [1, 4], 'weight': 6})\n",
        "('84345', '80fb9', {'segments': [1], 'weight': 0})\n",
        "('cfe57', 'bb0ae', {'segments': [1, 4], 'weight': 11})\n"
       ]
      }
     ],
     "prompt_number": 902
    },
    {
     "cell_type": "code",
     "collapsed": false,
     "input": [
      "for item in r.pruned_condensed_graph().edges(data=True):\n",
      "    print item"
     ],
     "language": "python",
     "metadata": {},
     "outputs": [
      {
       "output_type": "stream",
       "stream": "stdout",
       "text": [
        "('80fb9', 'a3ccf', {'segments': [1, 4], 'weight': 11})\n",
        "('fc207', 'fee68', {'segments': [1, 4], 'weight': 7})\n",
        "('a3ccf', 'cfe57', {'segments': [1, 4], 'weight': 15})\n",
        "('a3ccf', 'f3a71', {'segments': [1], 'weight': 3})\n",
        "('3cd55', '80fb9', {'segments': [1, 4], 'weight': 16})\n",
        "('3cd55', 'f3a71', {'segments': [4], 'weight': 12})\n",
        "('3cd55', '84345', {'segments': [1, 4], 'weight': 9})\n",
        "('3cd55', '102ba', {'segments': [1, 4], 'weight': 4})\n",
        "('84345', 'e7e5a', {'segments': [1, 4], 'weight': 6})\n",
        "('cfe57', 'bb0ae', {'segments': [1, 4], 'weight': 11})\n"
       ]
      }
     ],
     "prompt_number": 903
    },
    {
     "cell_type": "code",
     "collapsed": false,
     "input": [
      "# print s.full_transmission_paths()\n",
      "# print s.segment_transmission_paths(1)\n",
      "# print s.segment_transmission_paths(4)\n",
      "# print s.reassortants()\n",
      "# print r.reassortants()\n",
      "# print reassortant_accuracy(s, r)\n",
      "# print transmission_edge_accuracy(s, r)\n",
      "# print transmission_path_accuracy(s, r)\n",
      "# print segment_transmission_path_accuracy(s, r, 1)\n",
      "# print segment_transmission_path_accuracy(s, r, 4)"
     ],
     "language": "python",
     "metadata": {},
     "outputs": [],
     "prompt_number": 904
    },
    {
     "cell_type": "markdown",
     "metadata": {},
     "source": [
      "# Test path_exists(node1, node2) function"
     ]
    },
    {
     "cell_type": "code",
     "collapsed": false,
     "input": [
      "# 1 July 2014 - API Change so the following path_exist(node1, node2) code does not stand. \n",
      "# Segment number has to be specified in order for it to stand.\n",
      "# s.path_exists('b90bb', '3d39c')"
     ],
     "language": "python",
     "metadata": {},
     "outputs": [],
     "prompt_number": 905
    },
    {
     "cell_type": "code",
     "collapsed": false,
     "input": [
      "s.relabeled_transmission_graph().nodes()"
     ],
     "language": "python",
     "metadata": {},
     "outputs": [
      {
       "metadata": {},
       "output_type": "pyout",
       "prompt_number": 906,
       "text": [
        "['80fb9',\n",
        " 'f3a71',\n",
        " 'bb0ae',\n",
        " 'fc207',\n",
        " 'a3ccf',\n",
        " '3cd55',\n",
        " 'e7e5a',\n",
        " '84345',\n",
        " 'cfe57',\n",
        " '102ba',\n",
        " 'fee68']"
       ]
      }
     ],
     "prompt_number": 906
    },
    {
     "cell_type": "code",
     "collapsed": false,
     "input": [
      "# s.path_exists('2851c', '09001')"
     ],
     "language": "python",
     "metadata": {},
     "outputs": [],
     "prompt_number": 907
    },
    {
     "cell_type": "code",
     "collapsed": false,
     "input": [
      "# # Prototype for the accuracy functions. (commented out on 2 July 2014)\n",
      "# def reassortant_accuracy(simulation, reconstruction):\n",
      "#     num_simulation_reassortants = float(len(simulation.reassortants()))\n",
      "#     num_reconstruction_reassortants = float(len(reconstruction.reassortants()))\n",
      "    \n",
      "#     if num_simulation_reassortants == 0:\n",
      "#         return 'No reassortants present in simulation.'\n",
      "#     else:\n",
      "#         return num_reconstruction_reassortants / num_simulation_reassortants\n",
      "    \n",
      "# def transmission_edge_accuracy(simulation, reconstruction):\n",
      "#     matching_edges = 0\n",
      "#     total_edges = len(simulation.relabeled_transmission_graph().edges())\n",
      "    \n",
      "#     reconstructed = reconstruction.pruned_condensed_graph()\n",
      "#     simulated = simulation.relabeled_transmission_graph()\n",
      "    \n",
      "#     for edge in reconstructed.edges(data=True):\n",
      "#         if edge in simulated.edges(data=True):\n",
      "#             matching_edges += 1\n",
      "            \n",
      "#     return float(matching_edges) / total_edges\n",
      "\n",
      "# def transmission_path_accuracy(simulation, reconstruction):\n",
      "#     \"\"\"\n",
      "#     The accuracy of transmission paths is the number of accurate paths found \n",
      "#     divided by the number of paths being considered.\n",
      "#     \"\"\"\n",
      "#     reconstructed = reconstruction.full_transmission_graph()\n",
      "#     simulated = simulation.full_transmission_graph()\n",
      "\n",
      "#     num_paths = len(simulated.edges())\n",
      "#     accurate_paths = 0\n",
      "    \n",
      "#     for edge in reconstructed.edges():\n",
      "#         if simulation.full_transmission_path_exists(edge[0], edge[1]):\n",
      "#             accurate_paths += 1\n",
      "    \n",
      "#     return float(accurate_paths)/num_paths\n",
      "\n",
      "# def segment_transmission_path_accuracy(simulation, reconstruction, segment):\n",
      "#     \"\"\"\n",
      "#     This method will return the transmission accuracy score for a given segment.\n",
      "#     \"\"\"\n",
      "    \n",
      "#     reconstructed = reconstruction.segment_transmission_graph(segment=segment)\n",
      "#     simulated = simulation.segment_transmission_graph(segment=segment)\n",
      "    \n",
      "#     accurate_paths = 0\n",
      "#     num_paths = len(simulated.edges())\n",
      "    \n",
      "#     for edge in reconstructed.edges():\n",
      "#         if simulation.segment_transmission_path_exists(edge[0], edge[1], segment=segment):\n",
      "#             accurate_paths += 1\n",
      "            \n",
      "#     return float(accurate_paths)/num_paths\n",
      "    "
     ],
     "language": "python",
     "metadata": {},
     "outputs": [],
     "prompt_number": 908
    },
    {
     "cell_type": "code",
     "collapsed": false,
     "input": [],
     "language": "python",
     "metadata": {},
     "outputs": [],
     "prompt_number": 908
    }
   ],
   "metadata": {}
  }
 ]
}