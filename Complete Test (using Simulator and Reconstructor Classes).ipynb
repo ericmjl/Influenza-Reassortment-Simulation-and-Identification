{
 "metadata": {
  "name": "",
  "signature": "sha256:dac3db38f3a7e3f9cabd8b4d0c5dbe4c9ec9a8f0730b6775ca580dc293d852dd"
 },
 "nbformat": 3,
 "nbformat_minor": 0,
 "worksheets": [
  {
   "cells": [
    {
     "cell_type": "code",
     "collapsed": false,
     "input": [
      "from pathogen import Pathogen\n",
      "from segment import Segment\n",
      "from sequence import Sequence\n",
      "from simulator import Simulator"
     ],
     "language": "python",
     "metadata": {},
     "outputs": [],
     "prompt_number": 77
    },
    {
     "cell_type": "code",
     "collapsed": false,
     "input": [
      "# Initialize sequences\n",
      "sequence_PB2 = Sequence(length=1000) #this is representative of segment 1, PB2\n",
      "sequence_H1 = Sequence(length=1000) #this is representative of segment 4, H1\n",
      "sequence_H2 = Sequence(length=1000) #this is representative of segment 4, H2"
     ],
     "language": "python",
     "metadata": {},
     "outputs": [],
     "prompt_number": 78
    },
    {
     "cell_type": "code",
     "collapsed": false,
     "input": [
      "# Initialize segments\n",
      "segment_PB2 = Segment(segment_number=1, substitution_rate=1E-3, sequence=sequence_PB2)\n",
      "segment_H1 = Segment(segment_number=4, substitution_rate=1E-2, sequence=sequence_H1)\n",
      "segment_H2 = Segment(segment_number=4, substitution_rate=1E-2, sequence=sequence_H2)"
     ],
     "language": "python",
     "metadata": {},
     "outputs": [],
     "prompt_number": 79
    },
    {
     "cell_type": "code",
     "collapsed": false,
     "input": [
      "# Add segments to seed viruses\n",
      "virus_H1 = Pathogen(segments=[segment_PB2, segment_H1], creation_time=0, progeny_size=(1.2, 0.5))\n",
      "virus_H2 = Pathogen(segments=[segment_PB2, segment_H2], creation_time=0, progeny_size=(1.2, 0.5))"
     ],
     "language": "python",
     "metadata": {},
     "outputs": [],
     "prompt_number": 80
    },
    {
     "cell_type": "code",
     "collapsed": false,
     "input": [
      "# Subclass the Simulator class for a specific implementation of the increment_timestep() function.\n",
      "from random import random, choice, sample\n",
      "class ViralSimulator(Simulator):\n",
      "    \n",
      "    def increment_timestep(self):\n",
      "        cointoss = random()\n",
      "        threshold = 0.8\n",
      "        \n",
      "        if cointoss <= threshold:\n",
      "            chosen_virus = choice(self.pathogens)\n",
      "            new_virus = chosen_virus.replicate(current_time=self.current_time)\n",
      "            \n",
      "        if cointoss > threshold:\n",
      "            [virus1, virus2] = sample(self.pathogens, 2)\n",
      "            new_virus = virus1.reassort_with(virus2, current_time=self.current_time)\n",
      "        \n",
      "        self.pathogens.append(new_virus)"
     ],
     "language": "python",
     "metadata": {},
     "outputs": [],
     "prompt_number": 81
    },
    {
     "cell_type": "code",
     "collapsed": false,
     "input": [
      "s = ViralSimulator()"
     ],
     "language": "python",
     "metadata": {},
     "outputs": [],
     "prompt_number": 82
    },
    {
     "cell_type": "code",
     "collapsed": false,
     "input": [
      "s.add_pathogens([virus_H1, virus_H2])"
     ],
     "language": "python",
     "metadata": {},
     "outputs": [],
     "prompt_number": 83
    },
    {
     "cell_type": "code",
     "collapsed": false,
     "input": [
      "s.run(timesteps=10)"
     ],
     "language": "python",
     "metadata": {},
     "outputs": [
      {
       "output_type": "stream",
       "stream": "stdout",
       "text": [
        "{b90bb: [1, 4]}\n",
        "{f7dd4: [4]}\n",
        "{4fc5a: [1, 4]}\n",
        "{f7dd4: [1, 4]}\n",
        "{b90bb: [1, 4]}\n",
        "{4fc5a: [1, 4]}\n",
        "{c62bd: [1, 4]}\n",
        "{c62bd: [1, 4]}\n",
        "{4fc5a: [1, 4]}\n"
       ]
      }
     ],
     "prompt_number": 84
    },
    {
     "cell_type": "code",
     "collapsed": false,
     "input": [
      "s.write_transmission_graph(outfile_name=\"outfile_test\", folder_name='Network Pickles')"
     ],
     "language": "python",
     "metadata": {},
     "outputs": [],
     "prompt_number": 85
    },
    {
     "cell_type": "code",
     "collapsed": false,
     "input": [
      "s.write_sequences(outfile_name=\"outfile_test\", folder_name='FASTA Files')"
     ],
     "language": "python",
     "metadata": {},
     "outputs": [],
     "prompt_number": 86
    },
    {
     "cell_type": "markdown",
     "metadata": {},
     "source": [
      "# Prototype code for Reconstructor class"
     ]
    },
    {
     "cell_type": "code",
     "collapsed": false,
     "input": [
      "from Bio import SeqIO"
     ],
     "language": "python",
     "metadata": {},
     "outputs": [],
     "prompt_number": 87
    },
    {
     "cell_type": "code",
     "collapsed": false,
     "input": [
      "# Initialize a dictionary that contains all of the sequences, split by segment.\n",
      "sequences_dictionary = dict()\n",
      "sequences_dictionary[1] = []\n",
      "sequences_dictionary[4] = []\n",
      "sequences_dictionary"
     ],
     "language": "python",
     "metadata": {},
     "outputs": [
      {
       "metadata": {},
       "output_type": "pyout",
       "prompt_number": 88,
       "text": [
        "{1: [], 4: []}"
       ]
      }
     ],
     "prompt_number": 88
    },
    {
     "cell_type": "code",
     "collapsed": false,
     "input": [
      "# Read in the sequences\n",
      "sequences = [record for record in SeqIO.parse('FASTA Files/outfile_test.fasta', 'fasta')]\n",
      "sequences"
     ],
     "language": "python",
     "metadata": {},
     "outputs": [
      {
       "metadata": {},
       "output_type": "pyout",
       "prompt_number": 89,
       "text": [
        "[SeqRecord(seq=Seq('ATCCCCTAAACCGTTTATGCGAACCAAGATTAGGTAAAGCAGGAACCGTTACAT...CCC', SingleLetterAlphabet()), id='f7dd46c641bed672532b5b8425e017beded7199b55ef665a9fb2e20eca779f5491d0dd714d0d7df1bf602fa93b8669bea03ca57337257c09661a40e3d5938726|1|0', name='f7dd46c641bed672532b5b8425e017beded7199b55ef665a9fb2e20eca779f5491d0dd714d0d7df1bf602fa93b8669bea03ca57337257c09661a40e3d5938726|1|0', description='f7dd46c641bed672532b5b8425e017beded7199b55ef665a9fb2e20eca779f5491d0dd714d0d7df1bf602fa93b8669bea03ca57337257c09661a40e3d5938726|1|0 <unknown description>', dbxrefs=[]),\n",
        " SeqRecord(seq=Seq('GATTTCTTCCTTCTTTTTCTTACCGTGACGAGGAGGAGACATTAATATACCAGC...CGA', SingleLetterAlphabet()), id='f7dd46c641bed672532b5b8425e017beded7199b55ef665a9fb2e20eca779f5491d0dd714d0d7df1bf602fa93b8669bea03ca57337257c09661a40e3d5938726|4|0', name='f7dd46c641bed672532b5b8425e017beded7199b55ef665a9fb2e20eca779f5491d0dd714d0d7df1bf602fa93b8669bea03ca57337257c09661a40e3d5938726|4|0', description='f7dd46c641bed672532b5b8425e017beded7199b55ef665a9fb2e20eca779f5491d0dd714d0d7df1bf602fa93b8669bea03ca57337257c09661a40e3d5938726|4|0 <unknown description>', dbxrefs=[]),\n",
        " SeqRecord(seq=Seq('ATCCCCTAAACCGTTTATGCGAACCAAGATTAGGTAAAGCAGGAACCGTTACAT...CCC', SingleLetterAlphabet()), id='b90bb3b9f0626d69d0a13337a273942e5d90ad9c86d3721580dc9ebef0808ec9798b9cbd8556404a71fe2f7eb2595b5cd242735a965f251f30c561a4d4b25a3e|1|0', name='b90bb3b9f0626d69d0a13337a273942e5d90ad9c86d3721580dc9ebef0808ec9798b9cbd8556404a71fe2f7eb2595b5cd242735a965f251f30c561a4d4b25a3e|1|0', description='b90bb3b9f0626d69d0a13337a273942e5d90ad9c86d3721580dc9ebef0808ec9798b9cbd8556404a71fe2f7eb2595b5cd242735a965f251f30c561a4d4b25a3e|1|0 <unknown description>', dbxrefs=[]),\n",
        " SeqRecord(seq=Seq('GAATGGACCGCGGTTACGCGAACTATCTGATAGTTCTTACCTAACTCAACCGTA...TCA', SingleLetterAlphabet()), id='b90bb3b9f0626d69d0a13337a273942e5d90ad9c86d3721580dc9ebef0808ec9798b9cbd8556404a71fe2f7eb2595b5cd242735a965f251f30c561a4d4b25a3e|4|0', name='b90bb3b9f0626d69d0a13337a273942e5d90ad9c86d3721580dc9ebef0808ec9798b9cbd8556404a71fe2f7eb2595b5cd242735a965f251f30c561a4d4b25a3e|4|0', description='b90bb3b9f0626d69d0a13337a273942e5d90ad9c86d3721580dc9ebef0808ec9798b9cbd8556404a71fe2f7eb2595b5cd242735a965f251f30c561a4d4b25a3e|4|0 <unknown description>', dbxrefs=[]),\n",
        " SeqRecord(seq=Seq('ATCCCCTAAACCGTTTATGCGAACCAAGATTAGGTAAAGCAGGAACCGTTACAT...CCC', SingleLetterAlphabet()), id='4fc5a90282d59c6676e2e0c7a2c0d1343e2fd53fa4711ddcae4ff6bd74cd725e26fa41c789ea5904fe1321b94b4ce7016e4813e5503bba26fd29f58005a41699|1|1', name='4fc5a90282d59c6676e2e0c7a2c0d1343e2fd53fa4711ddcae4ff6bd74cd725e26fa41c789ea5904fe1321b94b4ce7016e4813e5503bba26fd29f58005a41699|1|1', description='4fc5a90282d59c6676e2e0c7a2c0d1343e2fd53fa4711ddcae4ff6bd74cd725e26fa41c789ea5904fe1321b94b4ce7016e4813e5503bba26fd29f58005a41699|1|1 <unknown description>', dbxrefs=[]),\n",
        " SeqRecord(seq=Seq('TAATGGACCGCGGTTACGCGAACTATCTGATAGTTCTTACCTAACTCAACCGTC...TCA', SingleLetterAlphabet()), id='4fc5a90282d59c6676e2e0c7a2c0d1343e2fd53fa4711ddcae4ff6bd74cd725e26fa41c789ea5904fe1321b94b4ce7016e4813e5503bba26fd29f58005a41699|4|1', name='4fc5a90282d59c6676e2e0c7a2c0d1343e2fd53fa4711ddcae4ff6bd74cd725e26fa41c789ea5904fe1321b94b4ce7016e4813e5503bba26fd29f58005a41699|4|1', description='4fc5a90282d59c6676e2e0c7a2c0d1343e2fd53fa4711ddcae4ff6bd74cd725e26fa41c789ea5904fe1321b94b4ce7016e4813e5503bba26fd29f58005a41699|4|1 <unknown description>', dbxrefs=[]),\n",
        " SeqRecord(seq=Seq('ATCCCCTAAACCGTTTATGCGAACCAAGATTAGGTAAAGCAGGAACCGTTACAT...CCC', SingleLetterAlphabet()), id='3d39c2b9e569daab0f3a03c78ef8f02090e2a91986176cc9eb15d14c2a875eb07cce4046c97647426fedb42998119b84f2dc41ce48a0c8b2e520b02198a25af8|1|2', name='3d39c2b9e569daab0f3a03c78ef8f02090e2a91986176cc9eb15d14c2a875eb07cce4046c97647426fedb42998119b84f2dc41ce48a0c8b2e520b02198a25af8|1|2', description='3d39c2b9e569daab0f3a03c78ef8f02090e2a91986176cc9eb15d14c2a875eb07cce4046c97647426fedb42998119b84f2dc41ce48a0c8b2e520b02198a25af8|1|2 <unknown description>', dbxrefs=[]),\n",
        " SeqRecord(seq=Seq('GATTTCTTCCTTCTTTTTCATACCGTGACGAGGAGGAGACATTAATATACCAGC...CGA', SingleLetterAlphabet()), id='3d39c2b9e569daab0f3a03c78ef8f02090e2a91986176cc9eb15d14c2a875eb07cce4046c97647426fedb42998119b84f2dc41ce48a0c8b2e520b02198a25af8|4|2', name='3d39c2b9e569daab0f3a03c78ef8f02090e2a91986176cc9eb15d14c2a875eb07cce4046c97647426fedb42998119b84f2dc41ce48a0c8b2e520b02198a25af8|4|2', description='3d39c2b9e569daab0f3a03c78ef8f02090e2a91986176cc9eb15d14c2a875eb07cce4046c97647426fedb42998119b84f2dc41ce48a0c8b2e520b02198a25af8|4|2 <unknown description>', dbxrefs=[]),\n",
        " SeqRecord(seq=Seq('ATCCCCTAAACCGTTTATGCGAACCAAGATTAGGTAAAGCAGGAACCGTTACAT...CCC', SingleLetterAlphabet()), id='25d4aba8ae2ea9b6f6b7433dd93e582f39bf787b6a58d0e3aa2378796db5ff62e1022bb9ec8160627505c1a2cab5c7cefb552b050d62b4f10a8551f8b8e825ed|1|3', name='25d4aba8ae2ea9b6f6b7433dd93e582f39bf787b6a58d0e3aa2378796db5ff62e1022bb9ec8160627505c1a2cab5c7cefb552b050d62b4f10a8551f8b8e825ed|1|3', description='25d4aba8ae2ea9b6f6b7433dd93e582f39bf787b6a58d0e3aa2378796db5ff62e1022bb9ec8160627505c1a2cab5c7cefb552b050d62b4f10a8551f8b8e825ed|1|3 <unknown description>', dbxrefs=[]),\n",
        " SeqRecord(seq=Seq('TAATGGACCGCGGTTACGCGAACTATCTGACAGTTCTTACCTAACTCAACCGTC...TCA', SingleLetterAlphabet()), id='25d4aba8ae2ea9b6f6b7433dd93e582f39bf787b6a58d0e3aa2378796db5ff62e1022bb9ec8160627505c1a2cab5c7cefb552b050d62b4f10a8551f8b8e825ed|4|3', name='25d4aba8ae2ea9b6f6b7433dd93e582f39bf787b6a58d0e3aa2378796db5ff62e1022bb9ec8160627505c1a2cab5c7cefb552b050d62b4f10a8551f8b8e825ed|4|3', description='25d4aba8ae2ea9b6f6b7433dd93e582f39bf787b6a58d0e3aa2378796db5ff62e1022bb9ec8160627505c1a2cab5c7cefb552b050d62b4f10a8551f8b8e825ed|4|3 <unknown description>', dbxrefs=[]),\n",
        " SeqRecord(seq=Seq('ATCCCCTAAACCGTTTATGCGAACCAAGATTAGGTAAAGCAGGAACCGTTACAT...CCC', SingleLetterAlphabet()), id='c23b913997cff602556c44114e22062a52edbb7a01e9defd15b52857e3e949d45585550f1ba4a229ecb6c2798553898c6cb352dc2d34934ab67bfdbb4af0b90a|1|4', name='c23b913997cff602556c44114e22062a52edbb7a01e9defd15b52857e3e949d45585550f1ba4a229ecb6c2798553898c6cb352dc2d34934ab67bfdbb4af0b90a|1|4', description='c23b913997cff602556c44114e22062a52edbb7a01e9defd15b52857e3e949d45585550f1ba4a229ecb6c2798553898c6cb352dc2d34934ab67bfdbb4af0b90a|1|4 <unknown description>', dbxrefs=[]),\n",
        " SeqRecord(seq=Seq('GATTTCTTCCTTCTTTTTCTTACCGTGACGAGGAGGAGACATTAATATACCAGC...CGA', SingleLetterAlphabet()), id='c23b913997cff602556c44114e22062a52edbb7a01e9defd15b52857e3e949d45585550f1ba4a229ecb6c2798553898c6cb352dc2d34934ab67bfdbb4af0b90a|4|4', name='c23b913997cff602556c44114e22062a52edbb7a01e9defd15b52857e3e949d45585550f1ba4a229ecb6c2798553898c6cb352dc2d34934ab67bfdbb4af0b90a|4|4', description='c23b913997cff602556c44114e22062a52edbb7a01e9defd15b52857e3e949d45585550f1ba4a229ecb6c2798553898c6cb352dc2d34934ab67bfdbb4af0b90a|4|4 <unknown description>', dbxrefs=[]),\n",
        " SeqRecord(seq=Seq('ATCCCCTAAACCGTTTATGCGAACCAAGATTAGGTAAAGCAGGAACCGTTACAT...CCC', SingleLetterAlphabet()), id='c62bdfe771870c4f46e250917740356bb12d64d99847a5c47907cf5c1894476c685fe628d1c2057381657cd69367a2b9e13e23c5448b3c058f495a625e464cf2|1|5', name='c62bdfe771870c4f46e250917740356bb12d64d99847a5c47907cf5c1894476c685fe628d1c2057381657cd69367a2b9e13e23c5448b3c058f495a625e464cf2|1|5', description='c62bdfe771870c4f46e250917740356bb12d64d99847a5c47907cf5c1894476c685fe628d1c2057381657cd69367a2b9e13e23c5448b3c058f495a625e464cf2|1|5 <unknown description>', dbxrefs=[]),\n",
        " SeqRecord(seq=Seq('GAATGGACCGCGGTTACGCGAACTATCTGATAGTTCTTACCTAACTCAACCGTA...TCA', SingleLetterAlphabet()), id='c62bdfe771870c4f46e250917740356bb12d64d99847a5c47907cf5c1894476c685fe628d1c2057381657cd69367a2b9e13e23c5448b3c058f495a625e464cf2|4|5', name='c62bdfe771870c4f46e250917740356bb12d64d99847a5c47907cf5c1894476c685fe628d1c2057381657cd69367a2b9e13e23c5448b3c058f495a625e464cf2|4|5', description='c62bdfe771870c4f46e250917740356bb12d64d99847a5c47907cf5c1894476c685fe628d1c2057381657cd69367a2b9e13e23c5448b3c058f495a625e464cf2|4|5 <unknown description>', dbxrefs=[]),\n",
        " SeqRecord(seq=Seq('ATCCCCTAAACCGTTTATGCGAACCAAGATTAGGTAAAGCAGGAACCGTTACAT...CCC', SingleLetterAlphabet()), id='803d01fff2b88a06a8b08e9c54fb7bbd5328aecc51191be046f7ea51361dc250a0b5a1dbb5fbd803e970a695677c71a6442077cc5e3cc4b30640ea94eca48e80|1|6', name='803d01fff2b88a06a8b08e9c54fb7bbd5328aecc51191be046f7ea51361dc250a0b5a1dbb5fbd803e970a695677c71a6442077cc5e3cc4b30640ea94eca48e80|1|6', description='803d01fff2b88a06a8b08e9c54fb7bbd5328aecc51191be046f7ea51361dc250a0b5a1dbb5fbd803e970a695677c71a6442077cc5e3cc4b30640ea94eca48e80|1|6 <unknown description>', dbxrefs=[]),\n",
        " SeqRecord(seq=Seq('TAATGGACCGCGGTTACGCGAACTATCTGATAGTTCTTACCTAACTCAACCGTC...TCA', SingleLetterAlphabet()), id='803d01fff2b88a06a8b08e9c54fb7bbd5328aecc51191be046f7ea51361dc250a0b5a1dbb5fbd803e970a695677c71a6442077cc5e3cc4b30640ea94eca48e80|4|6', name='803d01fff2b88a06a8b08e9c54fb7bbd5328aecc51191be046f7ea51361dc250a0b5a1dbb5fbd803e970a695677c71a6442077cc5e3cc4b30640ea94eca48e80|4|6', description='803d01fff2b88a06a8b08e9c54fb7bbd5328aecc51191be046f7ea51361dc250a0b5a1dbb5fbd803e970a695677c71a6442077cc5e3cc4b30640ea94eca48e80|4|6 <unknown description>', dbxrefs=[]),\n",
        " SeqRecord(seq=Seq('ATCCCCTAAACCGTTTATGCGAACCAAGATTAGGTAAAGCAGGAACCGTTACAT...CCC', SingleLetterAlphabet()), id='12a18cdc8d5316fa482f0b82e84925f0927d7f14db1933f6102bf1d0844dbcd7ddcad470c6252ed1b67060373bd2b807945ddb0b92f1eccc6d12843989326e16|1|7', name='12a18cdc8d5316fa482f0b82e84925f0927d7f14db1933f6102bf1d0844dbcd7ddcad470c6252ed1b67060373bd2b807945ddb0b92f1eccc6d12843989326e16|1|7', description='12a18cdc8d5316fa482f0b82e84925f0927d7f14db1933f6102bf1d0844dbcd7ddcad470c6252ed1b67060373bd2b807945ddb0b92f1eccc6d12843989326e16|1|7 <unknown description>', dbxrefs=[]),\n",
        " SeqRecord(seq=Seq('GAATGGACCGCGGTTACGCGATCTATCTGATAGTTCTTACCTAACTCAACCGTA...TCA', SingleLetterAlphabet()), id='12a18cdc8d5316fa482f0b82e84925f0927d7f14db1933f6102bf1d0844dbcd7ddcad470c6252ed1b67060373bd2b807945ddb0b92f1eccc6d12843989326e16|4|7', name='12a18cdc8d5316fa482f0b82e84925f0927d7f14db1933f6102bf1d0844dbcd7ddcad470c6252ed1b67060373bd2b807945ddb0b92f1eccc6d12843989326e16|4|7', description='12a18cdc8d5316fa482f0b82e84925f0927d7f14db1933f6102bf1d0844dbcd7ddcad470c6252ed1b67060373bd2b807945ddb0b92f1eccc6d12843989326e16|4|7 <unknown description>', dbxrefs=[]),\n",
        " SeqRecord(seq=Seq('ATCCCCTAAACCGTTTATGCGAACCAAGATTAGGTAAAGCAGGAACCGTTACAT...CCC', SingleLetterAlphabet()), id='5af5191a37a64bf299b98489132df5a486d8f0abded1137384a0b789f6ea11c6b94e8d616a0bb473ecaaf643fa690a51ff58a3582d1980433834fcd8e6a54469|1|8', name='5af5191a37a64bf299b98489132df5a486d8f0abded1137384a0b789f6ea11c6b94e8d616a0bb473ecaaf643fa690a51ff58a3582d1980433834fcd8e6a54469|1|8', description='5af5191a37a64bf299b98489132df5a486d8f0abded1137384a0b789f6ea11c6b94e8d616a0bb473ecaaf643fa690a51ff58a3582d1980433834fcd8e6a54469|1|8 <unknown description>', dbxrefs=[]),\n",
        " SeqRecord(seq=Seq('GAATGGACCGCGGTTACGCGAACTATCTGATAGTTCTTACCTAACTCAACCGTA...TCA', SingleLetterAlphabet()), id='5af5191a37a64bf299b98489132df5a486d8f0abded1137384a0b789f6ea11c6b94e8d616a0bb473ecaaf643fa690a51ff58a3582d1980433834fcd8e6a54469|4|8', name='5af5191a37a64bf299b98489132df5a486d8f0abded1137384a0b789f6ea11c6b94e8d616a0bb473ecaaf643fa690a51ff58a3582d1980433834fcd8e6a54469|4|8', description='5af5191a37a64bf299b98489132df5a486d8f0abded1137384a0b789f6ea11c6b94e8d616a0bb473ecaaf643fa690a51ff58a3582d1980433834fcd8e6a54469|4|8 <unknown description>', dbxrefs=[]),\n",
        " SeqRecord(seq=Seq('ATCCCCTAAACCGTTTATGCGAACCAAGATTAGGTAAAGCAGGAACCGTTACAT...CCC', SingleLetterAlphabet()), id='f0a2628ef7025d28d1b3ebf22f230d6c7cb2d90051026d471fe08167d26be598e6add4e0e93ee72e23972cc8e7ff05b13987d7aa6217f0406a029ab4b2370698|1|9', name='f0a2628ef7025d28d1b3ebf22f230d6c7cb2d90051026d471fe08167d26be598e6add4e0e93ee72e23972cc8e7ff05b13987d7aa6217f0406a029ab4b2370698|1|9', description='f0a2628ef7025d28d1b3ebf22f230d6c7cb2d90051026d471fe08167d26be598e6add4e0e93ee72e23972cc8e7ff05b13987d7aa6217f0406a029ab4b2370698|1|9 <unknown description>', dbxrefs=[]),\n",
        " SeqRecord(seq=Seq('TAATGGACCGCGGTTACGCGAACTATCTGATAGTTCTTACCTAACTCAACCCTC...TCA', SingleLetterAlphabet()), id='f0a2628ef7025d28d1b3ebf22f230d6c7cb2d90051026d471fe08167d26be598e6add4e0e93ee72e23972cc8e7ff05b13987d7aa6217f0406a029ab4b2370698|4|9', name='f0a2628ef7025d28d1b3ebf22f230d6c7cb2d90051026d471fe08167d26be598e6add4e0e93ee72e23972cc8e7ff05b13987d7aa6217f0406a029ab4b2370698|4|9', description='f0a2628ef7025d28d1b3ebf22f230d6c7cb2d90051026d471fe08167d26be598e6add4e0e93ee72e23972cc8e7ff05b13987d7aa6217f0406a029ab4b2370698|4|9 <unknown description>', dbxrefs=[])]"
       ]
      }
     ],
     "prompt_number": 89
    },
    {
     "cell_type": "code",
     "collapsed": false,
     "input": [
      "# Append the sequences to the dictionary.\n",
      "# This can be written into a function.\n",
      "split_char = '|' # The character that will be used to split the SeqRecord.id string\n",
      "pos_segment_num = 1 # The position of the segment number after splitting by the split_char\n",
      "\n",
      "for sequence in sequences:\n",
      "    segment_number = int(sequence.id.split(split_char)[pos_segment_num])\n",
      "    sequences_dictionary[segment_number].append(sequence)\n",
      "\n",
      "# sequences_dictionary"
     ],
     "language": "python",
     "metadata": {},
     "outputs": [],
     "prompt_number": 90
    },
    {
     "cell_type": "code",
     "collapsed": false,
     "input": [
      "# Create a NetworkX graph using one segment's sequences, and add nodes.\n",
      "import networkx as nx\n",
      "\n",
      "G = nx.DiGraph()\n",
      "\n",
      "splitchar = '|'\n",
      "pos_id = 0\n",
      "pos_segment_num = 1\n",
      "pos_creation_time = 2\n",
      "\n",
      "segment_number = 4\n",
      "\n",
      "for sequence in sequences_dictionary[segment_number]:\n",
      "    [isolate_id, segment_num, creation_time] = sequence.id.split(splitchar)\n",
      "    G.add_node(isolate_id[0:5], sequence=sequence.seq, id=isolate_id, segment_num=int(segment_num), creation_time=int(creation_time))\n",
      "\n",
      "# at this point, we would return G, and append it to the dictionary of Graphs available.\n",
      "# G.nodes(data=True)"
     ],
     "language": "python",
     "metadata": {},
     "outputs": [],
     "prompt_number": 91
    },
    {
     "cell_type": "code",
     "collapsed": false,
     "input": [
      "# Add edges to the graph, based on the Levenshtein distance between two sequences.\n",
      "import Levenshtein\n",
      "for node1 in G.nodes(data=True):\n",
      "    for node2 in G.nodes(data=True):\n",
      "        if node1[1]['creation_time'] < node2[1]['creation_time']:\n",
      "            weight = Levenshtein.distance(str(node1[1]['sequence']), str(node2[1]['sequence']))\n",
      "            G.add_edge(node1[0], node2[0], weight=weight)"
     ],
     "language": "python",
     "metadata": {},
     "outputs": [],
     "prompt_number": 92
    },
    {
     "cell_type": "code",
     "collapsed": false,
     "input": [
      "# Prune graph by distance.\n",
      "for node in G.nodes(data=True):\n",
      "    in_edges = G.in_edges(node[0], data=True)\n",
      "#     print in_edges\n",
      "    if len(in_edges) != 0:\n",
      "        min_weight = min([edge[2]['weight'] for edge in in_edges])\n",
      "        print min_weight\n",
      "        print node\n",
      "        for edge in in_edges:\n",
      "            if edge[2]['weight'] != min_weight:\n",
      "                G.remove_edge(edge[0], edge[1])"
     ],
     "language": "python",
     "metadata": {},
     "outputs": [
      {
       "output_type": "stream",
       "stream": "stdout",
       "text": [
        "12\n",
        "('f0a26', {'segment_num': 4, 'creation_time': 9, 'id': 'f0a2628ef7025d28d1b3ebf22f230d6c7cb2d90051026d471fe08167d26be598e6add4e0e93ee72e23972cc8e7ff05b13987d7aa6217f0406a029ab4b2370698', 'sequence': Seq('TAATGGACCGCGGTTACGCGAACTATCTGATAGTTCTTACCTAACTCAACCCTC...TCA', SingleLetterAlphabet())})\n",
        "8\n",
        "('803d0', {'segment_num': 4, 'creation_time': 6, 'id': '803d01fff2b88a06a8b08e9c54fb7bbd5328aecc51191be046f7ea51361dc250a0b5a1dbb5fbd803e970a695677c71a6442077cc5e3cc4b30640ea94eca48e80', 'sequence': Seq('TAATGGACCGCGGTTACGCGAACTATCTGATAGTTCTTACCTAACTCAACCGTC...TCA', SingleLetterAlphabet())})\n",
        "9\n",
        "('c62bd', {'segment_num': 4, 'creation_time': 5, 'id': 'c62bdfe771870c4f46e250917740356bb12d64d99847a5c47907cf5c1894476c685fe628d1c2057381657cd69367a2b9e13e23c5448b3c058f495a625e464cf2', 'sequence': Seq('GAATGGACCGCGGTTACGCGAACTATCTGATAGTTCTTACCTAACTCAACCGTA...TCA', SingleLetterAlphabet())})\n",
        "5\n",
        "('c23b9', {'segment_num': 4, 'creation_time': 4, 'id': 'c23b913997cff602556c44114e22062a52edbb7a01e9defd15b52857e3e949d45585550f1ba4a229ecb6c2798553898c6cb352dc2d34934ab67bfdbb4af0b90a', 'sequence': Seq('GATTTCTTCCTTCTTTTTCTTACCGTGACGAGGAGGAGACATTAATATACCAGC...CGA', SingleLetterAlphabet())})\n",
        "12\n",
        "('4fc5a', {'segment_num': 4, 'creation_time': 1, 'id': '4fc5a90282d59c6676e2e0c7a2c0d1343e2fd53fa4711ddcae4ff6bd74cd725e26fa41c789ea5904fe1321b94b4ce7016e4813e5503bba26fd29f58005a41699', 'sequence': Seq('TAATGGACCGCGGTTACGCGAACTATCTGATAGTTCTTACCTAACTCAACCGTC...TCA', SingleLetterAlphabet())})\n",
        "5\n",
        "('5af51', {'segment_num': 4, 'creation_time': 8, 'id': '5af5191a37a64bf299b98489132df5a486d8f0abded1137384a0b789f6ea11c6b94e8d616a0bb473ecaaf643fa690a51ff58a3582d1980433834fcd8e6a54469', 'sequence': Seq('GAATGGACCGCGGTTACGCGAACTATCTGATAGTTCTTACCTAACTCAACCGTA...TCA', SingleLetterAlphabet())})\n",
        "12\n",
        "('12a18', {'segment_num': 4, 'creation_time': 7, 'id': '12a18cdc8d5316fa482f0b82e84925f0927d7f14db1933f6102bf1d0844dbcd7ddcad470c6252ed1b67060373bd2b807945ddb0b92f1eccc6d12843989326e16', 'sequence': Seq('GAATGGACCGCGGTTACGCGATCTATCTGATAGTTCTTACCTAACTCAACCGTA...TCA', SingleLetterAlphabet())})\n",
        "11\n",
        "('3d39c', {'segment_num': 4, 'creation_time': 2, 'id': '3d39c2b9e569daab0f3a03c78ef8f02090e2a91986176cc9eb15d14c2a875eb07cce4046c97647426fedb42998119b84f2dc41ce48a0c8b2e520b02198a25af8', 'sequence': Seq('GATTTCTTCCTTCTTTTTCATACCGTGACGAGGAGGAGACATTAATATACCAGC...CGA', SingleLetterAlphabet())})\n",
        "3\n",
        "('25d4a', {'segment_num': 4, 'creation_time': 3, 'id': '25d4aba8ae2ea9b6f6b7433dd93e582f39bf787b6a58d0e3aa2378796db5ff62e1022bb9ec8160627505c1a2cab5c7cefb552b050d62b4f10a8551f8b8e825ed', 'sequence': Seq('TAATGGACCGCGGTTACGCGAACTATCTGACAGTTCTTACCTAACTCAACCGTC...TCA', SingleLetterAlphabet())})\n"
       ]
      }
     ],
     "prompt_number": 93
    },
    {
     "cell_type": "code",
     "collapsed": false,
     "input": [
      "nx.draw_circular(G)"
     ],
     "language": "python",
     "metadata": {},
     "outputs": [
      {
       "metadata": {},
       "output_type": "display_data",
       "png": "[encoded data removed]",
       "text": [
        "<matplotlib.figure.Figure at 0x1065c67d0>"
       ]
      }
     ],
     "prompt_number": 94
    },
    {
     "cell_type": "markdown",
     "metadata": {},
     "source": [
      "# Test Reconstructor Class"
     ]
    },
    {
     "cell_type": "code",
     "collapsed": false,
     "input": [
      "from reconstructor import Reconstructor\n",
      "import networkx as nx"
     ],
     "language": "python",
     "metadata": {},
     "outputs": [],
     "prompt_number": 95
    },
    {
     "cell_type": "code",
     "collapsed": false,
     "input": [
      "r = Reconstructor(segments=[1, 4])\n",
      "print r.sequences\n",
      "print r.graphs"
     ],
     "language": "python",
     "metadata": {},
     "outputs": [
      {
       "output_type": "stream",
       "stream": "stdout",
       "text": [
        "{1: [], 4: []}\n",
        "{1: <networkx.classes.digraph.DiGraph object at 0x10651ae10>, 4: <networkx.classes.digraph.DiGraph object at 0x10651a950>}\n"
       ]
      }
     ],
     "prompt_number": 96
    },
    {
     "cell_type": "code",
     "collapsed": false,
     "input": [
      "fasta_file = 'FASTA Files/outfile_test.fasta'\n",
      "r.read_fasta_file(fasta_file)"
     ],
     "language": "python",
     "metadata": {},
     "outputs": [],
     "prompt_number": 97
    },
    {
     "cell_type": "code",
     "collapsed": false,
     "input": [
      "r.add_nodes_with_data()\n",
      "r.add_edges_with_weight()\n",
      "r.prune_graphs_by_weight()\n",
      "r.compose_segment_graphs()\n",
      "r.condense_composed_segment_graphs()\n",
      "r.prune_condensed_graph()"
     ],
     "language": "python",
     "metadata": {},
     "outputs": [],
     "prompt_number": 98
    },
    {
     "cell_type": "code",
     "collapsed": false,
     "input": [
      "r.condensed_graph.edges(data=True)"
     ],
     "language": "python",
     "metadata": {},
     "outputs": [
      {
       "metadata": {},
       "output_type": "pyout",
       "prompt_number": 99,
       "text": [
        "[('b90bb', '4fc5a', {'segments': [1, 4], 'weight': 13}),\n",
        " ('b90bb', 'c62bd', {'segments': [1, 4], 'weight': 11}),\n",
        " ('c62bd', '12a18', {'segments': [1, 4], 'weight': 14}),\n",
        " ('c62bd', '5af51', {'segments': [1, 4], 'weight': 7}),\n",
        " ('4fc5a', '803d0', {'segments': [1, 4], 'weight': 8}),\n",
        " ('4fc5a', '25d4a', {'segments': [1, 4], 'weight': 4}),\n",
        " ('4fc5a', 'f0a26', {'segments': [1, 4], 'weight': 12}),\n",
        " ('f7dd4', 'c23b9', {'segments': [1, 4], 'weight': 5}),\n",
        " ('f7dd4', '3d39c', {'segments': [1, 4], 'weight': 12})]"
       ]
      }
     ],
     "prompt_number": 99
    },
    {
     "cell_type": "code",
     "collapsed": false,
     "input": [
      "r.condensed_graph.nodes(data=True)"
     ],
     "language": "python",
     "metadata": {},
     "outputs": [
      {
       "metadata": {},
       "output_type": "pyout",
       "prompt_number": 100,
       "text": [
        "[('f0a26',\n",
        "  {'creation_time': '9',\n",
        "   'id': 'f0a2628ef7025d28d1b3ebf22f230d6c7cb2d90051026d471fe08167d26be598e6add4e0e93ee72e23972cc8e7ff05b13987d7aa6217f0406a029ab4b2370698',\n",
        "   'segment_number': '4',\n",
        "   'sequence_1': 'ATCCCCTAAACCGTTTATGCGAACCAAGATTAGGTAAAGCAGGAACCGTTACATTCGCTGGGGCCTCTTTACTTACATTTTGGAGCCCGGTCACTGTCTACCCCCAGCAAAGCACCTCTAGTCAATGGTCGAGTAACCTAGTCTAGTACCTCGTAGACCATCACATTCGCTGGAGACTGCAAAGTCTTGCACGAACAGTCCAGTGACATGGAGAAGGGAGGTGTGTTCATTGGTGGGCGGCACCTTTACGCTACGTAGTGCACTGCTTAGCACGATCCTGGAAAAGTGACGAACACAGCAGCGAAGAGCCTCAATCCAAGAAAAAAGAACCGAGGATTTTTGATTCCATCGTAGTTGGGCTTTGGCGGACCTCTGTGGTGACGCAGTAGCTTTCCAAATGTGACCAAAGCAAGCAGCGCCCGGGTGTGGGACCTCTTAAGTCATTACGTCTGGAGAAGCTTAAACACCGTAAGTTGGACACATTAAGGCCTGAACGAGAACACACTGCTTCTGAAGTCAACTCTCCGAGTTGGTTACCGTGGGGCGGAAACGGCCAGCTGAGTTTCACGAATTTATATGGACGGTTCTTGATTCCTATATCACCATTGCTTGCTCATAAGCTGCCATCCTCGAGGCGCCGCAAAGCCAGCACTAGTTTAACGGAGAATTGGCGCAGGCTATCGTTCATCTCGGAGGAGACGAGGAGCCCATTTAGCCTGCCCTCTCACTCCAGTTGTTGACTTGGTGACGTCTTCAAAGTCATTGAAGTTTCTTTAACGTGTCTGTTCCAGTCGCTAAACTCGATGGGTTATTGTGCTTGATTAAGAGTATGAACCAGCATACACCCGTCTGAGATCTCAAAAAGAGAACGCTAAAACCCGTATGTGTCATTTTCTTAGCAAGATACTTGCCACGTCCTGATCGAGGGCCGGGGTAATGCCACGTACACCCACGCCGGGGGCCCTGCGAGAAGTGCGATTAGAAAGGATTGCGAAAACCC',\n",
        "   'sequence_4': 'TAATGGACCGCGGTTACGCGAACTATCTGATAGTTCTTACCTAACTCAACCCTCCGACGAAGGGGTCTGCGAGTTGCGTACCCTTAATCTAACTAGAAAGAATCGCATTTGATAGACCCGGCGACGGAGCTTCCGTTGCTAAGCAGACTGTCGTAAATTTCTCTCATGATCGGTAGGCCGCGCCTGGAGCAACGATTTTAAGTTGATCAAAGGAATACGAGGAAACGAGTGCCTTGCGGCCTTAATATAGGATATATAAAGACACATTGTCAATATTGCTCTCTCTAAGCACGGCCTGGGCGCCGAGTCTTGTCGAAGGCCTAACGACGCAAAAAGTGTGCAGGACAAGGTTTCTCAGTGTATCGGCTTCGTTTACCGGTTATTATGCTTGCCAGCAAGCCCAGAATAACGGTTAAATTCACGGAAAACGACGATGCCGTTAAGTAGGCAGGTCACAAGAGCCTAACTGTGTGACAGTTACACTGAGCGACGGAGTCTAAGCAACTATCCCACAGGAGTGTTGGTCTAATTGAGGTAGGGCCTTTCGGCTGACAGTTGTTGCGAGCCCTTGCTGAAGAGACAGAGAACCCACCTAACCTTCAAAACTGACCTCGCTGTAATGACCTGTTTGCGGCTGCATACCCGCCTCACTATTGAATAGGCACCCAGTGGACCTTAGGGACTGTACTCTACAAGGATAACGAATGGCGGTCAAAGGGAATTCTCTAACCGACTGCAATTCAACTCATCCAGGGTAGGCTTTACGTTTCTTCATACTGACTCCCCGCTATGCCAAACTGGCTGGCGAACCTCTGTTTGGAGTCAAACGTGAGCGGATAACGATCGGCTCGGTCGCGCAGACGAAGGCAGCGCTCAACAGATTCTCAAGTACAATAAGAGAAGATGCGTAGCGGAGGATGACTGGGGCCTATGCGCGAATGATGCGTACTCCGACTCTGGAACATGAGTTTAGTGCAAGGCCCGTGTACCCTCTCAATCA'}),\n",
        " ('b90bb',\n",
        "  {'creation_time': '0',\n",
        "   'id': 'b90bb3b9f0626d69d0a13337a273942e5d90ad9c86d3721580dc9ebef0808ec9798b9cbd8556404a71fe2f7eb2595b5cd242735a965f251f30c561a4d4b25a3e',\n",
        "   'segment_number': '4',\n",
        "   'sequence_1': 'ATCCCCTAAACCGTTTATGCGAACCAAGATTAGGTAAAGCAGGAACCGTTACATTCGCTGGGGCCTCTTTACTTACATTTTGGAGCCCGGTCACTGTCTACCCCCAGCAAAGCACCTCTAGTCAATGGTCGAGTAACCTAGTCTAGTACCTCGTAGACCATCACATTCGCTGGAGACTGCAAAGTCTTGCACGAACAGTCCAGTGACATGGAGAAGGGAGGTGTGTTCATTGGTGGGCGGCACCTTTACGCTACGTAGTGCACTGCTTAGCACGATCCTGGAAAAGTGACGAACACAGCAGCGAAGAGCCTCAATCCAAGAAAAAAGAACCGAGGATTTTTGATTCCATCGTAGTTGGGCTTTGGCGGACCTCTGTGGTGACGCAGTAGCTTTCCAAATGTGACCAAAGCAAGCAGCGCCCGGGTGTGGGACCTCTTAAGTCATTACGTCTGGAGAAGCTTAAACACCGTAAGTTGGACACATTAAGGCCTGAACGAGAACACACAGCTTCTGAAGTCAACTCTCCGAGTTGGTTACCGTGGGGCGGAAACGGCCAGCTGAGTTTCACGAATTTATATGGACGGTTCTTGATTCCTATATCACCATTGCTTGCTCATAAGCTGCCATCCTCGAGGCGCCGCAAAGCCAGCACTAGTTTAACGGAGAATTGGCGCAGGCTATCGTTCATCTCGGAGGAGACGAGGAGCCCATTTAGCCTGCCCTCTCACTCCAGTTGTTGACTTGGTGACGTCTTCAAAGTCATTGAAGTTTCTTTAACGTGTCTGTTCCAGTCGCTAAACTCGATGGGTTATTGTGCTTGATTAAGAGTATGAACCAGCATACACCCGTCTGAGATCTCAAAAAGAGAACGCTAAAACCCGTATGTGTCATTTTCTTAGCAAGATACTTGCCACGTCCTGATCGAGGGCCGGGGTAATGCCACGTACACCCACGCCGGGGGCCCTGCGAGAAGTGCGATTAGAAAGGATTGCGAAAACCC',\n",
        "   'sequence_4': 'GAATGGACCGCGGTTACGCGAACTATCTGATAGTTCTTACCTAACTCAACCGTACGACGAAGGGGTCTGCGAGTTGCGTACCTTTAATCTAACTAGAAAGAATCGCATTTGATAGACCCTGCGACGGAGCTTCCGTAGCTAAGCAGACTGTCGTAAATTTATCTCATGATCGGTAGGCCGCGCCTGGAGCAACGATTTTAAGTTGATCAAAGGAATACGAGGAGACGAGTGCCTTGCGGCCTTAATATAGGATATATAAAGACACATTGTCAATATTGCTCTCTTTAAGCAGGGCCTGGGCGCCGAGTCTTGTCGAAGGCCTAACGACGCATAAAGTGTGCAGGACCAGGTTTCTCACTGTATCGGCTACGTTTACCGGTTATTATGCTTGCCAGCAAGCCCAGAATAACGGTTAAATTCACGGAAAACGACGATGCCGTTAAGTAGGCAGGTCACAAGAGCCTAACTGTGTGACAGTTACACTGAGCGACGGAGTCTAAGCAACTATCCCACAGGAGTGTTGGTCTAATTGAGGTAGGGCCTTTCTGCTGACAGTTGATGTGCGCCCTTGCTGAAGAGACAGGGAACCCACCTAACCTTCAAAACTGACCTCGCTGTAATGACCTGTTTGCGGCTGCATACCCGCCTCACTATTGAATAGGCACCCAGTGGACCTTAGGGACCGTACTCTACAAGGATAACGAATGGCGGTCAAAGGGAATTCTCTAACCGACTGCAATTCAACTCATCCAGGGTAGGCTTTACGTTTCTTCATACTGACTCCCCGCTATGCCAAACTGGCTGGCGAACCTCTGTTTGGAGTCAAACGTGAGCGGATAACGATCGGCTCGGTCGCGCAGACGAAGGCAGCGCTCAACAGATTCTCAAGTACAATAAGAGAAGATGCATAGCGGAGGATGACTGGGGCCTATGCGCGAATGATACGTACTCCGACTCTAAAACATGAGTTTAGTGCAAGGCCCGTGTACCCTCTCAATCA'}),\n",
        " ('803d0',\n",
        "  {'creation_time': '6',\n",
        "   'id': '803d01fff2b88a06a8b08e9c54fb7bbd5328aecc51191be046f7ea51361dc250a0b5a1dbb5fbd803e970a695677c71a6442077cc5e3cc4b30640ea94eca48e80',\n",
        "   'segment_number': '4',\n",
        "   'sequence_1': 'ATCCCCTAAACCGTTTATGCGAACCAAGATTAGGTAAAGCAGGAACCGTTACATTCGCTGGGGCCTCTTTACTTACATTTTGGAGCCCGGTCACTGTCTACCCCCAGCAAAGCACCTCTAGTCAATGGTCGAGTAACCTAGTCTAGTACCTCGTAGACCATCACATTCGCTGGAGACTGCAAAGTCTTGCACGAACAGTCCAGTGACATGGAGAAGGGAGGTGTGTTCATTGGTGGGCGGCACCTTTACGCTACGTAGTGCACTGCTTAGCACGATCCTGGAAAAGTGACGAACACAGCAGCGAAGAGCCTCAATCCAAGAAAAAAGAACCGAGGATTTTTGATTCCATCGTAGTTGGGCTTTGGCGGACCTCTGTGGTGACGCAGTAGCTTTCCAAATGTGACCAAAGCAAGCAGCGCCCGGGTGTGGGACCTCTTAAGTCATTACGTCTGGAGAAGCTTAAACACCGTAAGTTGGACACATTAAGGCCTGAACGAGAACACACTGCTTCTGAAGTCAACTCTCCGAGTTGGTTACCGTGGGGCGGAAACGGCCAGCTGAGTTTCACGAATTTATATGGACGGTTCTTGATTCCTATATCACCATTGCTTGCTCATAAGCTGCCATCCTCGAGGCGCCGCAAAGCCAGCACTAGTTTAACGGAGAATTGGCGCAGGCTATCGTTCATCTCGGAGGAGACGAGGAGCCCATTTAGCCTGCCCTCTCACTCCAGTTGTTGACTTGGTGACGTCTTCAAAGTCATTGAAGTTTCTTTAACGTGTCTGTTCCAGTCGCTAAACTCGATGGGTTATTGTGCTTGATTAAGAGTATGAACCAGCATACACCCGTCTGAGATCTCAAAAAGAGAACGCTAAAACCCGTATGTGTCATTTTCTTAGCAAGATACTTGCCACGTCCTGATCGAGGGCCGGGGTAATGCCACGTACACCCACGCCGGGGGCCCTGCGAGAAGTGCGATTAGAAAGGATTGCGAAAACCC',\n",
        "   'sequence_4': 'TAATGGACCGCGGTTACGCGAACTATCTGATAGTTCTTACCTAACTCAACCGTCCGACGAAGGGGTCTGCGAGTTGCGTACCCTTAATCTAACAAGAAAGAATCGCATTTGATAGACCCTGCGACGGAGCCTCCGTAGCTAAGCAGACTGTCGTAAATTTATCTCATGATCGGTAGGCCGCGCCTGGAGCAACGATTTTAAGTTGATCAAAGGAATACGAGGAAACGAGTGCCTTGCGGCCTTAATATAGGATATATAAAGACACATTGTCAATATTGCTCTCTCTAAGTAGGGCCTGGGCGCCGAGTCTTGTCGAAGGCCTAGCGACGCAAAAAGTGTGCAGGACCAGGTTTCTCAGTGTATCGCCTTCGTTTACCGGTTATTATGCTTGCCAGCAAGCCCAGAATAACGGTTAAATTCACGGAAAACGACGATGCCGTTAAGTAGGCAGGTCACAAGAGCCTAACTGTGTGACAGTTACACTGAGCGACGGAGTCTAAGCAACTATCCCACAGGAGTGTTGGTCTAATTGAGGTAGGGCCTTTCTGCTGACAGTTGTTGCGCGCCCTTGCTGAAGAGACAGGGAACCCACCTAACCTTCAAAACTGACCTCGCTGTAATGACCTGTTTGCGGCTGCATACCCGCCTCACTATTGAATAGGCACCCAGTGGACCTTAGGGACCGTACTCTACAAGGATAACGAATGGCGGTCAAAGTGAATTCTCTAACCGACTGCAATTCAACTCATCCAGGGTAGGCTTTACGTTTCTTCATACTGAATCCCCGCTATGCCAAACTGGCTGGCGAACCTCTGTTTGGAGTCAAACGTGAGCGGATAACGATCGGCTCGGTCGCGCAGACGAAGGCAGCGCTCAACAGATTCTCAAGTACAATAAGAGAAGATGCATAGCGGAGGATGACTGGGGCCTATGCGCGAATGATGCGTACTCCGACTCTAGAACATGAGTTTAGTGCAAGGCCCATGTACCCTCTCAATCA'}),\n",
        " ('c62bd',\n",
        "  {'creation_time': '5',\n",
        "   'id': 'c62bdfe771870c4f46e250917740356bb12d64d99847a5c47907cf5c1894476c685fe628d1c2057381657cd69367a2b9e13e23c5448b3c058f495a625e464cf2',\n",
        "   'segment_number': '4',\n",
        "   'sequence_1': 'ATCCCCTAAACCGTTTATGCGAACCAAGATTAGGTAAAGCAGGAACCGTTACATTCGCTGGGGCCTCTTTACTTACATTTTGGAGCCCGGTCACTGTCTACCCCCAGCAAAGCACCTCTAGTCAATGGTCGAGTAACCTAGTCTAGTACCTCGTAGACCATCACATTCGCTGGAGACTGCAAAGTCTTGCACGAACAGTCCAGTGACATGGAGAAGGGAGGTGTGTTCATTGGTGGGCGGCACCTTTACGCTACGTAGTGCACTGCTTAGCACGATCCTGGAAAAGTGACGAACACAGCAGCGAAGAGCCTCAATCCAAGAAAAAAGAACCGAGGATTTTTGATTCCATCGTAGTTGGGCTTTGGCGGACCTCTGTGGTGACGCAGTAGCTTTCCAAATGTGACCAAAGCAAGCAGCGCCCGGGTGTGGGACCTCTTAAGTCATTACGTCTGGAGAAGCTTAAACACCGTAAGTTGGACACATTAAGGCCTGAACGAGAACACACAGCTTCTGAAGTCAACTCTCCGAGTTGGTTACCGTGGGGCGGAAACGGCCAGCTGAGTTTCACGAATTTATATGGACGGTTCTTGATTCCTATATCACCATTGCTTGCTCATAAGCTGCCATCCTCGAGGCGCCGCAAAGCCAGCACTAGTTTAACGGAGTATTGGCGCAGGCTATCGTTCATCTCGGAGGAGACGAGGAGCCCATTTAGCCTGCCCTCTCACTCCAGTTGTTGACTTGGTGACGTCTTCAAAGTCATTGAAGTTTCTTTAACGTGTCTGTTCCAGTCGGTAAACTCGATGGGTTATTGTGCTTGATTAAGAGTATGAACCAGCATACACCCGTCTGAGATCTCAAAAAGAGAACGCTAAAACCCGTATGTGTCATTTTCTTAGCAAGATACTTGCCACGTCCTGATCGAGGGCCGGGGTAATGCCACGTACACCCACGCCGGGGGCCCTGCGAGAAGTGCGATTAGAAAGGATTGCGAAAACCC',\n",
        "   'sequence_4': 'GAATGGACCGCGGTTACGCGAACTATCTGATAGTTCTTACCTAACTCAACCGTACGACGAAGGGGTCTGCGAGTTGCGTACCTTTAATCTAACTAGAAAGAATCGCATTTGATAGACCCTGCGACGGAGCTTCCGTAGCTAAGCAGACTGTCGTAAATTTATCTCATGATCGGTAGGCCGCGCCTGGAGCAACGATTTGAAGTTGATCAAAGGAATACGAAGAGACGAGTGCCTTGCGGCCTTAATATAGGATATATAAAGACAAATTGTCAATATTGCTCTCTTTAAGCAGGGCCTGGGCGCCGAGTCTTGTCGAAGGCCTAACGACGCATAAAGTGTGCAGGACCATGTTTCTCACTGTATCGGCTACGTTTACCGGTTATTATGCTTCCCAGCAAGCCCAGAATAACGGTTAAATTCACGGAAAACGACGATGCCGTTAAGTAGGCAGGTCACAAGAGCCTACCTGTGTGACAGTTACACTGAGCGACGGAGTCTAAGCAACTATCCCACAGGAGTGTTGGTCTAATTGAGGTAGGGCCTTTCTGCTGACAGTTGATGTGCGCCCTTGCTGAAGAGACCGGGAACCCACCTAACCTTCAAAACTGACCTCGCTGTAATGACCTGTTTGCGGCTGCATACCCGCCTCACTATTGAATAGGCACCCAGTGGACCTTAGGGACCGTACTCTACAAGGATAACGAATGGCGGTCAAAGGGAATTCTCTAACCGACTGCAATTCAACTCATCCAGGGGAGGCTTTACGTTTCTTCATACTGACTCCCCGCTATGCCAAACTGGCTGGCGAACCTCTGTTTGGAGTCAAACGTGAGCGGATAACGATCGGCTCGGTCGCCCAGACGAAGGCAGCGCTCAACAGATTCTCAAGTACAATAAGAGAAGATGCATAGCGGAGGATGACTGGGGCCTATGCGCGAATGATACGTACTCCGACTCTAAAACATGAGTTTAGTGCAAGGCCCGTGTACCCTCTCAATCA'}),\n",
        " ('c23b9',\n",
        "  {'creation_time': '4',\n",
        "   'id': 'c23b913997cff602556c44114e22062a52edbb7a01e9defd15b52857e3e949d45585550f1ba4a229ecb6c2798553898c6cb352dc2d34934ab67bfdbb4af0b90a',\n",
        "   'segment_number': '4',\n",
        "   'sequence_1': 'ATCCCCTAAACCGTTTATGCGAACCAAGATTAGGTAAAGCAGGAACCGTTACATTCGCTGGGGCCTCTTTACTTACATTTTGGAGCCCGGTCACTGTCTACCCCCAGCAAAGCACCTCTAGTCAATGGTCGAGTAACCTAGTCTAGTACCTCGTAGACCATCACATTCGCTGGAGACTGCAAAGTCTTGCACGAACAGTCCAGTGACATGGAGAAGGGAGGTGTGTTCATTGGTGGGCGGCACCTTTACGCTACGTAGTGCACTGCTTAGCACGATCCTGGAAAAGTGACGAACACAGCAGCGAAGAGCCTCAATCCAAGAAAAAAGAACCGAGGATTTTTGATTCCATCGTAGTTGGGCTTTGGCGGACCTCTGTGGTGACGCAGTAGCTTTCCAAATGTGACCAAAGCAAGCAGCGCCCGGGTGTGGGACCTCTTAAGTCATTACGTCTGGAGAAGCTTAAACACCGTAAGTTGGACACATTAAGGCCTGAACGAGAACACACAGCTTCTGAAGTCAACTCTCCGAGTTGGTTACCGTGGGGCGGAAACGGCCAGCTGAGTTTCACGAATTTATATGGACGGTTCTTGATTCCTATATCACCATTGCTTGCTCATAAGCTGCCATCCTCGAGGCGCCGCAAAGCCAGCACTAGTTTAACGGAGAATTGGCGCAGGCTATCGTTCATCTCGGAGGAGACGAGGAGCCCATTTAGCCTGCCCTCTCACTCCAGTTGTTGACTTGGTGACGTCTTCAAAGTCATTGAAGTTTCTTTAACGTGTCTGTTCCAGTCGCTAAACTCGATGGGTTATTGTGCTTGATTAAGAGTATGAACCAGCATACACCCGTCTGAGATCTCAAAAAGAGAACGCTAAAACCCGTATGTGTCATTTTCTTAGCAAGATACTTGCCACGTCCTGATCGAGGGCCGGGGTAATGCCACGTACACCCACGCCGGGGGCCCTGCGAGAAGTGCGATTAGAAAGGATTGCGAAAACCC',\n",
        "   'sequence_4': 'GATTTCTTCCTTCTTTTTCTTACCGTGACGAGGAGGAGACATTAATATACCAGCATTTTAACCGTTAAGAGGGATTAGCCCCCCCATTGCCTAACCGGTAAAGCTGGTACCGTATAACGTCCCAAGCGACGCATAGACTATCAAGTCGGGAAGCGGAAGCCGACAACGTCTATTTAGTCGATTGCTGTAGCCCGATGCAGACATACCGAAAAAGGAGCGTCTTAGACGCCCTTATCACAGTTACCCTTCACTATGGACGCTCTGGTTGTTCTTGTAGACATCCTATCACATTTGGCATCTTCGCAAATAGGGCAGCGTCACGTTAACCTCCCTGGTGGTGGAAACGAGGTGGATTACCTGCATACGCGTCGGGACGAAGCCACGCTATGCATGGAATTGGTTTCACTTATTGAATCAATCGCATGCGCAGGGTTTGATTGCCCGAGCTTTTTGTAGAACAATCGTCACAAGTCCACGCGCTCTGCTTCTCTAGCCGTGTGGTAGAGTGCAGTGTCCCGGGTAATAGACACTTCTGACTGGTTCGCCAGCAACATAACTATCTTACCCTTTTAATCTCTGACGTTGGTTACATCACATAAGGCGCTTACTACGCCTGGCATAACTATCAACTTCAGCGAGAATTCGAAATGAGTCTTACACGCCACATAGGAGGTACCCACAGGCCCCGACAGGATCCGGAGGCGTTGTAGTGACCCTTTCGCACTAGCATAGCCTCTATAGTTGCGCTGTAAAGGGATGTACAGATCCCTTAGGCCACGGATCGTAAAGAACTATCTCGGAAAGCGGGTAGATGTTACTGCCTCCGAAAAAGTAACCCCAGATTGGTCTCGTCCACGCCCCGGTCCCCCTGCGCGCGGCCGGACTCTGTGAAGTACCCCTTTGGATTCTTGTGCCACTATTAGATACCTATACCTTCATCCTATTACTCGCTTCTCACTCTCAGGGCCTCATAGAAGTTTCTCCTCGCCCGCGTTCTCGA'}),\n",
        " ('4fc5a',\n",
        "  {'creation_time': '1',\n",
        "   'id': '4fc5a90282d59c6676e2e0c7a2c0d1343e2fd53fa4711ddcae4ff6bd74cd725e26fa41c789ea5904fe1321b94b4ce7016e4813e5503bba26fd29f58005a41699',\n",
        "   'segment_number': '4',\n",
        "   'sequence_1': 'ATCCCCTAAACCGTTTATGCGAACCAAGATTAGGTAAAGCAGGAACCGTTACATTCGCTGGGGCCTCTTTACTTACATTTTGGAGCCCGGTCACTGTCTACCCCCAGCAAAGCACCTCTAGTCAATGGTCGAGTAACCTAGTCTAGTACCTCGTAGACCATCACATTCGCTGGAGACTGCAAAGTCTTGCACGAACAGTCCAGTGACATGGAGAAGGGAGGTGTGTTCATTGGTGGGCGGCACCTTTACGCTACGTAGTGCACTGCTTAGCACGATCCTGGAAAAGTGACGAACACAGCAGCGAAGAGCCTCAATCCAAGAAAAAAGAACCGAGGATTTTTGATTCCATCGTAGTTGGGCTTTGGCGGACCTCTGTGGTGACGCAGTAGCTTTCCAAATGTGACCAAAGCAAGCAGCGCCCGGGTGTGGGACCTCTTAAGTCATTACGTCTGGAGAAGCTTAAACACCGTAAGTTGGACACATTAAGGCCTGAACGAGAACACACTGCTTCTGAAGTCAACTCTCCGAGTTGGTTACCGTGGGGCGGAAACGGCCAGCTGAGTTTCACGAATTTATATGGACGGTTCTTGATTCCTATATCACCATTGCTTGCTCATAAGCTGCCATCCTCGAGGCGCCGCAAAGCCAGCACTAGTTTAACGGAGAATTGGCGCAGGCTATCGTTCATCTCGGAGGAGACGAGGAGCCCATTTAGCCTGCCCTCTCACTCCAGTTGTTGACTTGGTGACGTCTTCAAAGTCATTGAAGTTTCTTTAACGTGTCTGTTCCAGTCGCTAAACTCGATGGGTTATTGTGCTTGATTAAGAGTATGAACCAGCATACACCCGTCTGAGATCTCAAAAAGAGAACGCTAAAACCCGTATGTGTCATTTTCTTAGCAAGATACTTGCCACGTCCTGATCGAGGGCCGGGGTAATGCCACGTACACCCACGCCGGGGGCCCTGCGAGAAGTGCGATTAGAAAGGATTGCGAAAACCC',\n",
        "   'sequence_4': 'TAATGGACCGCGGTTACGCGAACTATCTGATAGTTCTTACCTAACTCAACCGTCCGACGAAGGGGTCTGCGAGTTGCGTACCCTTAATCTAACTAGAAAGAATCGCATTTGATAGACCCTGCGACGGAGCTTCCGTAGCTAAGCAGACTGTCGTAAATTTATCTCATGATCGGTAGGCCGCGCCTGGAGCAACGATTTTAAGTTGATCAAAGGAATACGAGGAAACGAGTGCCTTGCGGCCTTAATATAGGATATATAAAGACACATTGTCAATATTGCTCTCTCTAAGCAGGGCCTGGGCGCCGAGTCTTGTCGAAGGCCTAACGACGCAAAAAGTGTGCAGGACCAGGTTTCTCAGTGTATCGGCTTCGTTTACCGGTTATTATGCTTGCCAGCAAGCCCAGAATAACGGTTAAATTCACGGAAAACGACGATGCCGTTAAGTAGGCAGGTCACAAGAGCCTAACTGTGTGACAGTTACACTGAGCGACGGAGTCTAAGCAACTATCCCACAGGAGTGTTGGTCTAATTGAGGTAGGGCCTTTCTGCTGACAGTTGTTGCGCGCCCTTGCTGAAGAGACAGGGAACCCACCTAACCTTCAAAACTGACCTCGCTGTAATGACCTGTTTGCGGCTGCATACCCGCCTCACTATTGAATAGGCACCCAGTGGACCTTAGGGACCGTACTCTACAAGGATAACGAATGGCGGTCAAAGGGAATTCTCTAACCGACTGCAATTCAACTCATCCAGGGTAGGCTTTACGTTTCTTCATACTGACTCCCCGCTATGCCAAACTGGCTGGCGAACCTCTGTTTGGAGTCAAACGTGAGCGGATAACGATCGGCTCGGTCGCGCAGACGAAGGCAGCGCTCAACAGATTCTCAAGTACAATAAGAGAAGATGCATAGCGGAGGATGACTGGGGCCTATGCGCGAATGATGCGTACTCCGACTCTAGAACATGAGTTTAGTGCAAGGCCCGTGTACCCTCTCAATCA'}),\n",
        " ('5af51',\n",
        "  {'creation_time': '8',\n",
        "   'id': '5af5191a37a64bf299b98489132df5a486d8f0abded1137384a0b789f6ea11c6b94e8d616a0bb473ecaaf643fa690a51ff58a3582d1980433834fcd8e6a54469',\n",
        "   'segment_number': '4',\n",
        "   'sequence_1': 'ATCCCCTAAACCGTTTATGCGAACCAAGATTAGGTAAAGCAGGAACCGTTACATTCGCTGGGGCCTCTTTACTTACATTTTGGAGCCCGGTCACTGTCTACCCCCAGCAAAGCACCTCTAGTCAATGGTCGAGTAACCTAGTCTAGTACCTCGTAGACCATCACATTCGCTGGAGACTGCAAAGTCTTGCACGAACAGTCCAGTGACATGGAGAAGGGAGGTGTGTTCATTGGTGGGCGGCACCTTTACGCTACGTAGTGCACTGCTTAGCACGATCCTGGAAAAGTGACGAACACAGCAGCGAAGAGCCTCAATCCAAGAAAAAAGAACCGAGGATTTTTGATTCCATCGTAGTTGGGCTTTGGCGGACCTCTGTGGTGACGCAGTAGCTTTCCAAATGTGACCAAAGCAAGCAGCGCCCGGGTGTGGGACCTCTTAAGTCATTACGTCTGGAGAAGCTTAAACACCGTAAGTTGGACACATTAAGGCCTGAACGAGAACACACAGCTTCTGAAGTCAACTCTCCGAGTTGGTTACCGTGGGGCGGAAACGGCCAGCTGAGTTTCACGAATTTATATGGACGGTTCTTGATTCCTATATCACCATTGCTTGCTCATAAGCTGCCATCCTCGAGGCGCCGCAAAGCCAGCACTAGTTTAACGGAGTATTGGCGCAGGCTATCGTTCATCTCGGAGGAGACGAGGAGCCCATTTAGCCTGCCCTCTCACTCCAGTTGTTGACTTGGTGACGTCTTCAAAGTCATTGAAGTTTCTTTAACGTGTCTGTTCCAGTCGGTAAACTCGATGGGTTATTGTGCTTGATTAAGAGTAAGAACCAGCATACACCCGTCTGAGATCTCAAAAAGAGAGCGCTAAAACCCGTATGTGTCATTTTCTTAGCAAGATACTTGCCACGTCCTGATCGAGGGCCGGGGTAATGCCACGTACACCCACGCCGGGGGCCCTGCGAGAAGTGCGATTAGAAAGGATTGCGAAAACCC',\n",
        "   'sequence_4': 'GAATGGACCGCGGTTACGCGAACTATCTGATAGTTCTTACCTAACTCAACCGTACGACGAAGGGGTCTGCGAGTTGCGTACCTTTAATCTAACTAGAAAGAATCGCATTTGATAGACCCTGCGACGGAGCTTCCGTAGCTAAGCAGACTGTCGTAAATTTATCTCATGATCGGTAGGCCGCGCCTGGAGCAACGATTTGAAGTTGATCAAAGGAATACGAAGAGACGAGTGCCTTGCGGCCTTAATATAGGAGATATAAAGACAAATTGTCAATATTGCTCTCTTTAAGCAGGGCCTGGGCGCCGAGTCTTGTCGAAGGCCTAACGACGCATAAAGTGTGCAGGACCATGTTTCTCACTGTATCGGCTACGTTTAACGGTTATTATGCTTCCCAGCAAGCCCAGAAGAACGGTTAAATTCACGGAAAACGACGATGCCGTTAAGTAGGCAGGTCACAAGAGCCTACCTGTGTGACAGTTACACTGAGCGACGGAGTCTAAGCAACTATCCCACAGGAGTGTTGGTCTAATTGAGGTAGGGCCTTTCTGCTGACAGTTGATGTGCCCCCTTGCTGAAGAGACCGGGAACCCACCTAACCTTCAAAACTGACCTCGCTGTAATGACCTGTTTGCGGCTGCATACCCGCCTCACTATTGAATAGGCACCCAGTGGACCTTAGGGACCGTACTCTACAAGGATAACGAATGGCGGTCAAAGGTAATTCTCTAACCGACTGCAATTCAACTCATCCAGGGGAGGCTTTACGTTTCTTCATACTGACTCCCCGCTATGCCAAACTGGCTGGCGAACCTCTGTTTGGAGTCAAACGTGAGCGGATAACGATCGGCTCGGTCGCCCAGACGAAGGCAGCGCTCAACAGATTCTCAAGTACAATAAGAGAAGATGCATAGCGGAGGATGACTGGGGCCTATGCGCGAATGATACGTACTCCGACTCTAAAACATGAGTTTAGTGCAAGGCCCGTGTACCCTCTCAATCA'}),\n",
        " ('12a18',\n",
        "  {'creation_time': '7',\n",
        "   'id': '12a18cdc8d5316fa482f0b82e84925f0927d7f14db1933f6102bf1d0844dbcd7ddcad470c6252ed1b67060373bd2b807945ddb0b92f1eccc6d12843989326e16',\n",
        "   'segment_number': '4',\n",
        "   'sequence_1': 'ATCCCCTAAACCGTTTATGCGAACCAAGATTAGGTAAAGCAGGAACCGTTACATTCGCTGGGGCCTCTTTACTTACATTTTGGAGCCCGGTCACTGTCTACCCCCAGCAAAGCACCTCTAGTCAATGGTCGAGTAACCTAGTCTAGTACCTCGTAGACCATCACATTCGCTGGAGACTGCAAAGTCTTGCACGAACAGTCCAGTGACATGGAGAAGGGAGGTGTGTTCATTGGTGGGCGGCACCTTTACGCTACGTAGTGCACTGCTTAGCACGATCCTGGAAAAGTGACGAACACAGCAGCGAAGAGCCTCAATCCAAGAAAAAAGAACCGAGGATTTTTGATTCCATCGTAGTTGGGCTTTGGCGGACCTCTGTGGTGACGCAGTAGCTTTCCAAATGTGACCAAAGCAAGCAGCGCCCGGGTGTGGGACCTCTTAAGTCATTACGTCTGGAGAAGCTTAAACACCGTAAGTTGGACACATTAAGGCCTGAACGAGAACTCACAGCTTCTGAAGTCAACTCTCCGAGTTGGTTACCGTGGGGCGGAAACGGCCAGCTGAGTTTCACGAATTTATATGGACGGTTCTTGATTCCTATATCACCATTGCTTGCTCATAAGCTGCCATCCTCGAGGCGCCGCAAAGCCAGCACTAGTTTAACGGAGTCTTGGCGCAGGCTATCGTTCATCTCGGAGGAGACGAGGAGCCCATTTAGCCTGCCCTCTCACTCCAGTTGTTGACTTGGTGACGTCTTCAAAGTCATTGAAGTTTCTTTAACGTGTCTGTTCCAGTCGGTAAACTCGATGGGTTATTGTGCTTGATTAAGAGTATGAACCAGCATACACCCGTCTGAGATCTCAAAAAGAGAACGCTAAAACCCGTATGTGTCATTTTCTTAGCAAGATACTTGCCACGTCCTGATCGAGGGCCGGGGTAATGCCACGTACACCCACGCCGGGGGCCCTGCGAGAAGTGCGATTAGAAAGGATTGCGAAAACCC',\n",
        "   'sequence_4': 'GAATGGACCGCGGTTACGCGATCTATCTGATAGTTCTTACCTAACTCAACCGTACGACGAACGGGTCTGCGCGTTGCGTACCTTTAATCTAACTAGAAAGAATCGCATTTGATAGACCCTGCGACGGAGCTTCCGTAGCTAAGCAGACTGTCGTAAATTTATCTCATGATCGGTAGGCCGCGCCTGGAGCAACGATTTGAAGTTGATCAAAGGAATACGAAGAGACGAGTGCCTTGCGGCCTTAATATAGGATATATAAAGACAAAGTGTCAATATTGCTCTCTTTAAGCAGGGCCTGGCCGCCGAGTCTTGTCGAAGGACTAATGACGCATAAAGTGTGCAGGACCATGTTTCTCACTGTATCGGCTACGTTTACCGGTTATTATGCTTCCCAGCAAGCCCAGAATAACGGTTAAATTCACGGAAAACGACGATGCCGTTAAGTAGGCAGGTCACAAGAGCCTACCTGTGTGACAGTTACACTGAGCGACGGAGTCTAAGCAACTATCCCACCGGAGTGTTGGTCTAATTGAGGTAGGGCCTTTCTGCTGACAGTTGATGTGCGCCCTTGCTGAAGAGACCGGGAACCCACCTAACCTTCAAAACTGACCTCGCTGTAATGACCTGTTTGCGGCTGCATACCCGCCTCACTATTGAATAGGCACCCAGTGGACCTTAGGGACCGTACTCTACAAGGATAACGAATGGCGGTCAAAGGGAATTCTCTAACCGACTGCAATTCAACTCATCCAGGGGAGGCTTTACGTTTCTTCTTACTGACTCCCCGCTATGCCAAACTGGCTGGCGAACCTCTGTTTGGAGTCAAACGTGAGCGGATAACGATCGGCTCGGTCGCCCAGACGAAGGCAGCGCTCAACAGATTCTCAAGTACAATAAGAGAAGATGCATAGCGGAGGATGTCTGGGGCCTATGCGCGAATGATACGTACTCCGACTCTAAAACACGAGTCTAGTGCAAGGCCCGTGTACCCTCTCAATCA'}),\n",
        " ('3d39c',\n",
        "  {'creation_time': '2',\n",
        "   'id': '3d39c2b9e569daab0f3a03c78ef8f02090e2a91986176cc9eb15d14c2a875eb07cce4046c97647426fedb42998119b84f2dc41ce48a0c8b2e520b02198a25af8',\n",
        "   'segment_number': '4',\n",
        "   'sequence_1': 'ATCCCCTAAACCGTTTATGCGAACCAAGATTAGGTAAAGCAGGAACCGTTACATTCGCTGGGGCCTCTTTACTTACATTTTGGAGCCCGGTCACTGTCTACCCCCAGCAAAGCACCTCTAGTCAATGGTCGAGTAACCTAGTCTAGTACCTCGTAGACCATCACATTCGCTGGAGACTGCAAAGTCTTGCACGAACAGTCCAGTGACATGGAGAAGGGAGGTGTGTTCATTGGTGGGCGGCACCTTTACGCTACGTAGTGCACTGCTTAGCACGATCCTGGAAAAGTGACGAACACAGCAGCGAAGAGCCTCAATCCAAGAAAAAAGAACCGAGGATTTTTGATTCCATCGTAGTTGGGCTTTGGCGGACCTCTGTGGTGACGCAGTAGCTTTCCAAATGTGACCAAAGCAAGCAGCGCCCGGGTGTGGGACCTCTTAAGTCATTACGTCTGGAGAAGCTTAAACACCGTAAGTTGGACACATTAAGGCCTGAACGAGAAAACACAGCTTCTGAAGTCAACTCTCCGAGTTGGTTACCGTGGGGCGGAAACGGCCAGCTGAGTTTCACGAATTTATATGGACGGTTCTTGATTCCTATATCACCATTGCTTGCTCATAAGCTGCCATCCTCGAGGCGCCGCAAAGCCAGCACTAGTTTAACGGAGAATTGGCGCAGGCTATCGTTCATCTCGGAGGAGACGAGGAGCCCATTTAGCCTGCCCTCTCACTCCAGTTGTTGACTTGGTGACGTCTTCAAAGTCATTGAAGTTTCTTTAACGTGTCTGTTCCAGTCGCTAAACTCGATGGGTTATTGTGCTTGATTAAGAGTATGAACCAGCATACACCCGTCTGAGATCTCAAAAAGAGAACGCTAAAACCCGTATGTGTCATTTTCTTAGCAAGATACTTGCCACGTCCTGATCGAGGGCCGGGGTAATGCCACGTACACCCACGCCGGGGGCCCTGCGAGAAGTGCGATTAGAAAGGATTGCGAAAACCC',\n",
        "   'sequence_4': 'GATTTCTTCCTTCTTTTTCATACCGTGACGAGGAGGAGACATTAATATACCAGCATTGTAACTGTTAAGAGGGATTAGCCCCCCCATTGCCTAACCGGTAAAGCTGGTACCGTATAACGTCCCAAGCGACGCATAGACTATCGAGTCGGGAAGCGGAAGCCGACAACGTCTATTTAGTCGATTGCTGTAGCCCGATGCAGACACACCGAAAAAGGAGCGTCTTAGACGCCCTTATCACAGTTACCCTTCACTATGGACGCTCTGGTTGTTCTTGTAGACATCCTATCACATTTGGCATCTTCGCAAATAGGGCAGCGTCAGCTTGACCTCCCTGGTGGTGGAAACGAGGTGGATTACCTGCATACGCGTCGGGACGAAGCCACGCTATGCATGGAATTGGTTTCAGTTATTGAATCAATCGCATGCGCAGGGTTTGATTGCCCGAGCTTTTTGTAGAACAATCGTCACAAGTCCACGCGCTCTGCTTCTCTTGCCGTGTGGTAGAGTGCAGTGTCCCGGGTAATAGACACTTCTGACTGGTTCGCCAGCAACATAACTATCTTACCCTTTTAATCTCTGAAGTTGGTTACATCACATAAGGCGCTTACTACGCCTGGCATTACTATCAACTTCAGCGAGAACTCGAAATGAGTCTTACACGGCACATAGGAGGTACCCACAGGCCCCGACAGGATCCGGAGGCGTTGTAGTGACCCTTTCGCACTACCATAGCCTCTATAGTTGCGCTGTAAAGGGATGTACAGATCCCTTAGGCCACGGATCGTAAAGAACTATCTCGGAAAGCGGGTAGATGTTACTGCCTCCGAAAAAGTAACCCCAGATTGGTCCCGTCCACGCCCCGGTCCCCCTGCGCGCGGCCGGACTCTGTGAAGTACCCCTTTGGATTCTTGTGCCACTATTAGATACCTATACCTTCATCCTATTACTCGCTTCTCACTCTCAGGGCCTCATAGAAGTTTCTCCTCGCCCGCGTTCTCGA'}),\n",
        " ('25d4a',\n",
        "  {'creation_time': '3',\n",
        "   'id': '25d4aba8ae2ea9b6f6b7433dd93e582f39bf787b6a58d0e3aa2378796db5ff62e1022bb9ec8160627505c1a2cab5c7cefb552b050d62b4f10a8551f8b8e825ed',\n",
        "   'segment_number': '4',\n",
        "   'sequence_1': 'ATCCCCTAAACCGTTTATGCGAACCAAGATTAGGTAAAGCAGGAACCGTTACATTCGCTGGGGCCTCTTTACTTACATTTTGGAGCCCGGTCACTGTCTACCCCCAGCAAAGCACCTCTAGTCAATGGTCGAGTAACCTAGTCTAGTACCTCGTAGACCATCACATTCGCTGGAGACTGCAAAGTCTTGCACGAACAGTCCAGTGACATGGAGAAGGGAGGTGTGTTCATTGGTGGGCGGCACCTTTACGCTACGTAGTGCACTGCTTAGCACGATCCTGGAAAAGTGACGAACACAGCAGCGAAGAGCCTCAATCCAAGAAAAAAGAACCGAGGATTTTCGATTCCATCGTAGTTGGGCTTTGGCGGACCTCTGTGGTGACGCAGTAGCTTTCCAAATGTGACCAAAGCAAGCAGCGCCCGGGTGTGGGACCTCTTAAGTCATTACGTCTGGAGAAGCTTAAACACCGTAAGTTGGACACATTAAGGCCTGAACGAGAACACACTGCTTCTGAAGTCAACTCTCCGAGTTGGTTACCGTGGGGCGGAAACGGCCAGCTGAGTTTCACGAATTTATATGGACGGTTCTTGATTCCTATATCACCATTGCTTGCTCATAAGCTGCCATCCTCGAGGCGCCGCAAAGCCAGCACTAGTTTAACGGAGAATTGGCGCAGGCTATCGTTCATCTCGGAGGAGACGAGGAGCCCATTTAGCCTGCCCTCTCACTCCAGTTGTTGACTTGGTGACGTCTTCAAAGTCATTGAAGTTTCTTTAACGTGTCTGTTCCAGTCGCTAAACTCGATGGGTTATTGTGCTTGATTAAGAGTATGAACCAGCATACACCCGTCTGAGATCTCAAAAAGAGAACGCTAAAACCCGTATGTGTCATTTTCTTAGCAAGATACTTGCCACGTCCTGATCGAGGGCCGGGGTAATGCCACGTACACCCACGCCGGGGGCCCTGCGAGAAGTGCGATTAGAAAGGATTGCGAAAACCC',\n",
        "   'sequence_4': 'TAATGGACCGCGGTTACGCGAACTATCTGACAGTTCTTACCTAACTCAACCGTCCGACGAAGGGGTCTGCGAGTTGCGTACCCTTAATCTAACTAGAAAGAATCGCATTTGATAGACCCTGCGACGGAGCTTCCGTAGCTAAGCAGACTGTCGTAAATTTATCTCATGATCGGTAGGCCGCGCCTGGAGCAACGATTTTAAGTTGATCAAAGGAATACGAGGAAACGAGTGCCTTGCGGCCTTAATATAGGATATATAAAGACACATTGTCAATATTGCTCTCTCTAAGCAGGGCCTGGGCGCCGAGTCTTGTCGAAGGCCTAACGACGCAAAAAGTGTGCAGGACCAGGTTTCTCAGTGTATCGGCTTCGTTTACCGGTTATTATGCTTGCCAGCAAGCCCAGAATAACGGTTAAATTCACGGAAAACGACGATGCCGTTAAGTAGGCAGGTCACAAGAGCCTAACTGTGTGACAGTTACACTGAGCGACGGAGTCTAAGCAACTATCCCACAGGAGTGTTGGTCTAATTGAGGTAGGGCCTTTCTGCTGACAGTTGTTGCGCGCCCTTGCTGAAGAGACAGGGAACCCACCTAACCTTCAAAACTGACCTCGCTGTAATGACCTGTTTGCGGCTGCATACCCGCCTCACTATTGAATAGGCACCCAGTGGACCTTAGGGACCGTACTCTACAAGGATAACGAATGGCGGTCAAAGGGAATTCTCTAACCGACTGCAATTCAACTCATCCAGGGTAGGCTTTACGTTTCTTCATAGTGACTCCCCGCTATTCCAAACTGGCTGGCGAACCTCTGTTTGGAGTCAAACGTGAGCGGATAACGATCGGCTCGGTCGCGCAGACGAAGGCAGCGCTCAACAGATTCTCAAGTACAATAAGAGAAGATGCATAGCGGAGGATGACTGGGGCCTATGCGCGAATGATGCGTACTCCGACTCTAGAACATGAGTTTAGTGCAAGGCCCGTGTACCCTCTCAATCA'}),\n",
        " ('f7dd4',\n",
        "  {'creation_time': '0',\n",
        "   'id': 'f7dd46c641bed672532b5b8425e017beded7199b55ef665a9fb2e20eca779f5491d0dd714d0d7df1bf602fa93b8669bea03ca57337257c09661a40e3d5938726',\n",
        "   'segment_number': '4',\n",
        "   'sequence_1': 'ATCCCCTAAACCGTTTATGCGAACCAAGATTAGGTAAAGCAGGAACCGTTACATTCGCTGGGGCCTCTTTACTTACATTTTGGAGCCCGGTCACTGTCTACCCCCAGCAAAGCACCTCTAGTCAATGGTCGAGTAACCTAGTCTAGTACCTCGTAGACCATCACATTCGCTGGAGACTGCAAAGTCTTGCACGAACAGTCCAGTGACATGGAGAAGGGAGGTGTGTTCATTGGTGGGCGGCACCTTTACGCTACGTAGTGCACTGCTTAGCACGATCCTGGAAAAGTGACGAACACAGCAGCGAAGAGCCTCAATCCAAGAAAAAAGAACCGAGGATTTTTGATTCCATCGTAGTTGGGCTTTGGCGGACCTCTGTGGTGACGCAGTAGCTTTCCAAATGTGACCAAAGCAAGCAGCGCCCGGGTGTGGGACCTCTTAAGTCATTACGTCTGGAGAAGCTTAAACACCGTAAGTTGGACACATTAAGGCCTGAACGAGAACACACAGCTTCTGAAGTCAACTCTCCGAGTTGGTTACCGTGGGGCGGAAACGGCCAGCTGAGTTTCACGAATTTATATGGACGGTTCTTGATTCCTATATCACCATTGCTTGCTCATAAGCTGCCATCCTCGAGGCGCCGCAAAGCCAGCACTAGTTTAACGGAGAATTGGCGCAGGCTATCGTTCATCTCGGAGGAGACGAGGAGCCCATTTAGCCTGCCCTCTCACTCCAGTTGTTGACTTGGTGACGTCTTCAAAGTCATTGAAGTTTCTTTAACGTGTCTGTTCCAGTCGCTAAACTCGATGGGTTATTGTGCTTGATTAAGAGTATGAACCAGCATACACCCGTCTGAGATCTCAAAAAGAGAACGCTAAAACCCGTATGTGTCATTTTCTTAGCAAGATACTTGCCACGTCCTGATCGAGGGCCGGGGTAATGCCACGTACACCCACGCCGGGGGCCCTGCGAGAAGTGCGATTAGAAAGGATTGCGAAAACCC',\n",
        "   'sequence_4': 'GATTTCTTCCTTCTTTTTCTTACCGTGACGAGGAGGAGACATTAATATACCAGCATTGTAACTGTTAAGAGGGATTAGCCCCCCCATTGCCTAACCGGTAAAGCTGGTACCGTATAACGTCCCAAGCGACGCATAGACTATCAAGTCGGGAAGCGGAAGCCGACAACGTCTATTTAGTCGATTGCTGTAGCCCGATGCAGACACACCGAAAAAGGAGCGTCTTAGACGCCCTTATCACAGTTACCCTTCACTATGGACGCTCTGGTTGTTCTTGTAGACATCCTATCACATTTGGCATCTTCGCAAATAGGGCAGCGTCACGTTAACCTCCCTGGTGGTGGAAACGAGGTGGATTACCTGCATACGCGTCGGGACGAAGCCACGCTATGCATGGAATTGGTTTCACTTATTGAATCAATCGCATGCGCAGGGTTTGATTGCCCGAGCTTTTTGTAGAACAATCGTCACAAGTCCACGCGCTCTGCTTCTCTAGCCGTGTGGTAGAGTGCAGTGTCCCGGGTAATAGACACTTCTGACTGGTTCGCCAGCAACATAACTATCTTACCCTTTTAATCTCTGAAGTTGGTTACATCACATAAGGCGCTTACTACGCCTGGCATAACTATCAACTTCAGCGAGAATTCGAAATGAGTCTTACACGCCACATAGGAGGTACCCACAGGCCCCGACAGGATCCGGAGGCGTTGTAGTGACCCTTTCGCACTACCATAGCCTCTATAGTTGCGCTGTAAAGGGATGTACAGATCCCTTAGGCCACGGATCGTAAAGAACTATCTCGGAAAGCGGGTAGATGTTACTGCCTCCGAAAAAGTAACCCCAGATTGGTCTCGTCCACGCCCCGGTCCCCCTGCGCGCGGCCGGACTCTGTGAAGTACCCCTTTGGATTCTTGTGCCACTATTAGATACCTATACCTTCATCCTATTACTCGCTTCTCACTCTCAGGGCCTCATAGAAGTTTCTCCTCGCCCGCGTTCTCGA'})]"
       ]
      }
     ],
     "prompt_number": 100
    },
    {
     "cell_type": "code",
     "collapsed": false,
     "input": [
      "# This code is used for drawing.\n",
      "from random import randint\n",
      "\n",
      "randints = []\n",
      "for node in r.condensed_graph.nodes(data=True):\n",
      "    randints.append(randint(1, 20))\n",
      "print randints\n",
      "\n",
      "reconstruction_positions = dict()\n",
      "for i, node in enumerate(sorted(r.condensed_graph.nodes(data=True))):\n",
      "    reconstruction_positions[node[0]] = (int(node[1]['creation_time']), randints[i])\n",
      "    \n",
      "print len(reconstruction_positions)\n",
      "nx.draw(r.condensed_graph, pos=reconstruction_positions)"
     ],
     "language": "python",
     "metadata": {},
     "outputs": [
      {
       "output_type": "stream",
       "stream": "stdout",
       "text": [
        "[3, 12, 14, 9, 13, 5, 2, 12, 6, 19, 14]\n",
        "11\n"
       ]
      },
      {
       "metadata": {},
       "output_type": "display_data",
       "png": "[encoded data removed]",
       "text": [
        "<matplotlib.figure.Figure at 0x10639bf10>"
       ]
      }
     ],
     "prompt_number": 101
    },
    {
     "cell_type": "code",
     "collapsed": false,
     "input": [
      "simulation_positions = dict()\n",
      "\n",
      "print randints\n",
      "for i, pathogen in enumerate(s.pathogens):\n",
      "    simulation_positions[pathogen] = reconstruction_positions[str(pathogen)]\n",
      "    \n",
      "print len(simulation_positions)\n",
      "nx.draw(s.transmission_graph, pos=simulation_positions)"
     ],
     "language": "python",
     "metadata": {},
     "outputs": [
      {
       "output_type": "stream",
       "stream": "stdout",
       "text": [
        "[3, 12, 14, 9, 13, 5, 2, 12, 6, 19, 14]\n",
        "11\n"
       ]
      },
      {
       "metadata": {},
       "output_type": "display_data",
       "png": "[encoded data removed]",
       "text": [
        "<matplotlib.figure.Figure at 0x10636fa10>"
       ]
      }
     ],
     "prompt_number": 102
    },
    {
     "cell_type": "code",
     "collapsed": false,
     "input": [
      "s.pathogens[0].parent"
     ],
     "language": "python",
     "metadata": {},
     "outputs": [
      {
       "metadata": {},
       "output_type": "pyout",
       "prompt_number": 103,
       "text": [
        "{}"
       ]
      }
     ],
     "prompt_number": 103
    },
    {
     "cell_type": "code",
     "collapsed": false,
     "input": [
      "r.condensed_graph.edges(data=True)"
     ],
     "language": "python",
     "metadata": {},
     "outputs": [
      {
       "metadata": {},
       "output_type": "pyout",
       "prompt_number": 104,
       "text": [
        "[('b90bb', '4fc5a', {'segments': [1, 4], 'weight': 13}),\n",
        " ('b90bb', 'c62bd', {'segments': [1, 4], 'weight': 11}),\n",
        " ('c62bd', '12a18', {'segments': [1, 4], 'weight': 14}),\n",
        " ('c62bd', '5af51', {'segments': [1, 4], 'weight': 7}),\n",
        " ('4fc5a', '803d0', {'segments': [1, 4], 'weight': 8}),\n",
        " ('4fc5a', '25d4a', {'segments': [1, 4], 'weight': 4}),\n",
        " ('4fc5a', 'f0a26', {'segments': [1, 4], 'weight': 12}),\n",
        " ('f7dd4', 'c23b9', {'segments': [1, 4], 'weight': 5}),\n",
        " ('f7dd4', '3d39c', {'segments': [1, 4], 'weight': 12})]"
       ]
      }
     ],
     "prompt_number": 104
    },
    {
     "cell_type": "code",
     "collapsed": false,
     "input": [
      "for virus in s.identify_reassortants():\n",
      "    print virus"
     ],
     "language": "python",
     "metadata": {},
     "outputs": [],
     "prompt_number": 105
    },
    {
     "cell_type": "code",
     "collapsed": false,
     "input": [
      "for virus in r.identify_reassortants():\n",
      "    print virus[0]"
     ],
     "language": "python",
     "metadata": {},
     "outputs": [],
     "prompt_number": 106
    },
    {
     "cell_type": "code",
     "collapsed": false,
     "input": [
      "s.transmission_graph.edges(data=True)"
     ],
     "language": "python",
     "metadata": {},
     "outputs": [
      {
       "metadata": {},
       "output_type": "pyout",
       "prompt_number": 107,
       "text": [
        "[(f7dd4, c23b9, {'segments': [1, 4], 'weight': 5}),\n",
        " (f7dd4, 3d39c, {'segments': [4], 'weight': 11}),\n",
        " (4fc5a, 25d4a, {'segments': [1, 4], 'weight': 4}),\n",
        " (4fc5a, 803d0, {'segments': [1, 4], 'weight': 8}),\n",
        " (4fc5a, f0a26, {'segments': [1, 4], 'weight': 12}),\n",
        " (b90bb, c62bd, {'segments': [1, 4], 'weight': 11}),\n",
        " (b90bb, 4fc5a, {'segments': [1, 4], 'weight': 13}),\n",
        " (c62bd, 12a18, {'segments': [1, 4], 'weight': 14}),\n",
        " (c62bd, 5af51, {'segments': [1, 4], 'weight': 7})]"
       ]
      }
     ],
     "prompt_number": 107
    },
    {
     "cell_type": "markdown",
     "metadata": {},
     "source": [
      "# Test Relabeled Graph"
     ]
    },
    {
     "cell_type": "code",
     "collapsed": false,
     "input": [
      "s.relabel_transmission_graph()\n",
      "s.relabeled_transmission_graph.edges(data=True)"
     ],
     "language": "python",
     "metadata": {},
     "outputs": [
      {
       "metadata": {},
       "output_type": "pyout",
       "prompt_number": 108,
       "text": [
        "[('b90bb', '4fc5a', {'segments': [1, 4], 'weight': 13}),\n",
        " ('b90bb', 'c62bd', {'segments': [1, 4], 'weight': 11}),\n",
        " ('c62bd', '12a18', {'segments': [1, 4], 'weight': 14}),\n",
        " ('c62bd', '5af51', {'segments': [1, 4], 'weight': 7}),\n",
        " ('4fc5a', '803d0', {'segments': [1, 4], 'weight': 8}),\n",
        " ('4fc5a', '25d4a', {'segments': [1, 4], 'weight': 4}),\n",
        " ('4fc5a', 'f0a26', {'segments': [1, 4], 'weight': 12}),\n",
        " ('f7dd4', 'c23b9', {'segments': [1, 4], 'weight': 5}),\n",
        " ('f7dd4', '3d39c', {'segments': [4], 'weight': 11})]"
       ]
      }
     ],
     "prompt_number": 108
    },
    {
     "cell_type": "code",
     "collapsed": false,
     "input": [
      "r.condensed_graph.edges(data=True)"
     ],
     "language": "python",
     "metadata": {},
     "outputs": [
      {
       "metadata": {},
       "output_type": "pyout",
       "prompt_number": 109,
       "text": [
        "[('b90bb', '4fc5a', {'segments': [1, 4], 'weight': 13}),\n",
        " ('b90bb', 'c62bd', {'segments': [1, 4], 'weight': 11}),\n",
        " ('c62bd', '12a18', {'segments': [1, 4], 'weight': 14}),\n",
        " ('c62bd', '5af51', {'segments': [1, 4], 'weight': 7}),\n",
        " ('4fc5a', '803d0', {'segments': [1, 4], 'weight': 8}),\n",
        " ('4fc5a', '25d4a', {'segments': [1, 4], 'weight': 4}),\n",
        " ('4fc5a', 'f0a26', {'segments': [1, 4], 'weight': 12}),\n",
        " ('f7dd4', 'c23b9', {'segments': [1, 4], 'weight': 5}),\n",
        " ('f7dd4', '3d39c', {'segments': [1, 4], 'weight': 12})]"
       ]
      }
     ],
     "prompt_number": 109
    },
    {
     "cell_type": "markdown",
     "metadata": {},
     "source": [
      "# Experiment with Accuracy Metrics"
     ]
    },
    {
     "cell_type": "code",
     "collapsed": false,
     "input": [
      "matching_edges = 0\n",
      "total_edges = len(s.relabeled_transmission_graph.edges())\n",
      "for edge in r.condensed_graph.edges(data=True):\n",
      "    if edge in s.relabeled_transmission_graph.edges(data=True):\n",
      "        matching_edges += 1\n",
      "        \n",
      "\n",
      "int(float(matching_edges) / total_edges * 100)"
     ],
     "language": "python",
     "metadata": {},
     "outputs": [
      {
       "metadata": {},
       "output_type": "pyout",
       "prompt_number": 110,
       "text": [
        "88"
       ]
      }
     ],
     "prompt_number": 110
    },
    {
     "cell_type": "code",
     "collapsed": false,
     "input": [
      "float(len(r.identify_reassortants()))/float(len(s.identify_reassortants()))"
     ],
     "language": "python",
     "metadata": {},
     "outputs": [
      {
       "ename": "ZeroDivisionError",
       "evalue": "float division by zero",
       "output_type": "pyerr",
       "traceback": [
        "\u001b[0;31m---------------------------------------------------------------------------\u001b[0m\n\u001b[0;31mZeroDivisionError\u001b[0m                         Traceback (most recent call last)",
        "\u001b[0;32m<ipython-input-111-4e57c43b88ac>\u001b[0m in \u001b[0;36m<module>\u001b[0;34m()\u001b[0m\n\u001b[0;32m----> 1\u001b[0;31m \u001b[0mfloat\u001b[0m\u001b[0;34m(\u001b[0m\u001b[0mlen\u001b[0m\u001b[0;34m(\u001b[0m\u001b[0mr\u001b[0m\u001b[0;34m.\u001b[0m\u001b[0midentify_reassortants\u001b[0m\u001b[0;34m(\u001b[0m\u001b[0;34m)\u001b[0m\u001b[0;34m)\u001b[0m\u001b[0;34m)\u001b[0m\u001b[0;34m/\u001b[0m\u001b[0mfloat\u001b[0m\u001b[0;34m(\u001b[0m\u001b[0mlen\u001b[0m\u001b[0;34m(\u001b[0m\u001b[0ms\u001b[0m\u001b[0;34m.\u001b[0m\u001b[0midentify_reassortants\u001b[0m\u001b[0;34m(\u001b[0m\u001b[0;34m)\u001b[0m\u001b[0;34m)\u001b[0m\u001b[0;34m)\u001b[0m\u001b[0;34m\u001b[0m\u001b[0m\n\u001b[0m",
        "\u001b[0;31mZeroDivisionError\u001b[0m: float division by zero"
       ]
      }
     ],
     "prompt_number": 111
    },
    {
     "cell_type": "markdown",
     "metadata": {},
     "source": [
      "# Test path_exists(node1, node2) function"
     ]
    },
    {
     "cell_type": "code",
     "collapsed": false,
     "input": [
      "s.path_exists('b90bb', '3d39c')"
     ],
     "language": "python",
     "metadata": {},
     "outputs": [
      {
       "metadata": {},
       "output_type": "pyout",
       "prompt_number": 117,
       "text": [
        "False"
       ]
      }
     ],
     "prompt_number": 117
    },
    {
     "cell_type": "code",
     "collapsed": false,
     "input": [
      "s.relabeled_transmission_graph.nodes()"
     ],
     "language": "python",
     "metadata": {},
     "outputs": [
      {
       "metadata": {},
       "output_type": "pyout",
       "prompt_number": 113,
       "text": [
        "['b90bb',\n",
        " '803d0',\n",
        " '4fc5a',\n",
        " '5af51',\n",
        " '12a18',\n",
        " '25d4a',\n",
        " 'f7dd4',\n",
        " 'f0a26',\n",
        " 'c62bd',\n",
        " 'c23b9',\n",
        " '3d39c']"
       ]
      }
     ],
     "prompt_number": 113
    },
    {
     "cell_type": "code",
     "collapsed": false,
     "input": [
      "s.path_exists('2851c', '09001')"
     ],
     "language": "python",
     "metadata": {},
     "outputs": [
      {
       "metadata": {},
       "output_type": "pyout",
       "prompt_number": 114,
       "text": [
        "False"
       ]
      }
     ],
     "prompt_number": 114
    },
    {
     "cell_type": "code",
     "collapsed": false,
     "input": [],
     "language": "python",
     "metadata": {},
     "outputs": []
    }
   ],
   "metadata": {}
  }
 ]
}