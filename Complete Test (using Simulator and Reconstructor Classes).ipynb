{
 "metadata": {
  "name": "",
  "signature": "sha256:df8d06b550ab7877775c615a3ee1bdda7c82cabf7172ff4f2561e0ae5aa5b930"
 },
 "nbformat": 3,
 "nbformat_minor": 0,
 "worksheets": [
  {
   "cells": [
    {
     "cell_type": "code",
     "collapsed": false,
     "input": [
      "from pathogen import Pathogen\n",
      "from segment import Segment\n",
      "from sequence import Sequence\n",
      "from simulator import Simulator"
     ],
     "language": "python",
     "metadata": {},
     "outputs": [],
     "prompt_number": 85
    },
    {
     "cell_type": "code",
     "collapsed": false,
     "input": [
      "# Initialize sequences\n",
      "sequence_PB2 = Sequence(length=1000) #this is representative of segment 1, PB2\n",
      "sequence_H1 = Sequence(length=1000) #this is representative of segment 4, H1\n",
      "sequence_H2 = Sequence(length=1000) #this is representative of segment 4, H2"
     ],
     "language": "python",
     "metadata": {},
     "outputs": [],
     "prompt_number": 86
    },
    {
     "cell_type": "code",
     "collapsed": false,
     "input": [
      "# Initialize segments\n",
      "segment_PB2 = Segment(segment_number=1, substitution_rate=1E-3, sequence=sequence_PB2)\n",
      "segment_H1 = Segment(segment_number=4, substitution_rate=1E-2, sequence=sequence_H1)\n",
      "segment_H2 = Segment(segment_number=4, substitution_rate=1E-2, sequence=sequence_H2)"
     ],
     "language": "python",
     "metadata": {},
     "outputs": [],
     "prompt_number": 87
    },
    {
     "cell_type": "code",
     "collapsed": false,
     "input": [
      "# Add segments to seed viruses\n",
      "virus_H1 = Pathogen(segments=[segment_PB2, segment_H1], creation_time=0, progeny_size=(1.2, 0.5))\n",
      "virus_H2 = Pathogen(segments=[segment_PB2, segment_H2], creation_time=0, progeny_size=(1.2, 0.5))"
     ],
     "language": "python",
     "metadata": {},
     "outputs": [],
     "prompt_number": 88
    },
    {
     "cell_type": "code",
     "collapsed": false,
     "input": [
      "# Subclass the Simulator class for a specific implementation of the increment_timestep() function.\n",
      "from random import random, choice, sample\n",
      "class ViralSimulator(Simulator):\n",
      "    \n",
      "    def increment_timestep(self):\n",
      "        cointoss = random()\n",
      "        threshold = 0.8\n",
      "        \n",
      "        if cointoss <= threshold:\n",
      "            chosen_virus = choice(self.pathogens)\n",
      "            new_virus = chosen_virus.replicate(current_time=self.current_time)\n",
      "            \n",
      "        if cointoss > threshold:\n",
      "            [virus1, virus2] = sample(self.pathogens, 2)\n",
      "            new_virus = virus1.reassort_with(virus2, current_time=self.current_time)\n",
      "        \n",
      "        self.pathogens.append(new_virus)"
     ],
     "language": "python",
     "metadata": {},
     "outputs": [],
     "prompt_number": 89
    },
    {
     "cell_type": "code",
     "collapsed": false,
     "input": [
      "s = ViralSimulator()"
     ],
     "language": "python",
     "metadata": {},
     "outputs": [],
     "prompt_number": 90
    },
    {
     "cell_type": "code",
     "collapsed": false,
     "input": [
      "s.add_pathogens([virus_H1, virus_H2])"
     ],
     "language": "python",
     "metadata": {},
     "outputs": [],
     "prompt_number": 91
    },
    {
     "cell_type": "code",
     "collapsed": false,
     "input": [
      "s.run(timesteps=10)"
     ],
     "language": "python",
     "metadata": {},
     "outputs": [
      {
       "output_type": "stream",
       "stream": "stdout",
       "text": [
        "{502ab: [1, 4]}\n",
        "{f74d4: [1, 4]}\n",
        "{f74d4: [1, 4]}\n",
        "{67960: [1, 4]}\n",
        "{d9ec3: [1, 4]}\n",
        "{d9ec3: [1, 4]}\n",
        "{f74d4: [1, 4]}\n"
       ]
      }
     ],
     "prompt_number": 92
    },
    {
     "cell_type": "code",
     "collapsed": false,
     "input": [
      "s.write_transmission_graph(outfile_name=\"outfile_test\", folder_name='Network Pickles')"
     ],
     "language": "python",
     "metadata": {},
     "outputs": [],
     "prompt_number": 93
    },
    {
     "cell_type": "code",
     "collapsed": false,
     "input": [
      "s.write_sequences(outfile_name=\"outfile_test\", folder_name='FASTA Files')"
     ],
     "language": "python",
     "metadata": {},
     "outputs": [],
     "prompt_number": 94
    },
    {
     "cell_type": "code",
     "collapsed": false,
     "input": [
      "s.transmission_graph().nodes(data=True)"
     ],
     "language": "python",
     "metadata": {},
     "outputs": [
      {
       "metadata": {},
       "output_type": "pyout",
       "prompt_number": 95,
       "text": [
        "[(67960, {'creation_time': 4}),\n",
        " (635ad, {'creation_time': 9}),\n",
        " (78651, {'creation_time': 2}),\n",
        " (d9ec3, {'creation_time': 3}),\n",
        " (502ab, {'creation_time': 0}),\n",
        " (63d50, {'creation_time': 1}),\n",
        " (b5a90, {'creation_time': 5}),\n",
        " (f74d4, {'creation_time': 0}),\n",
        " (47259, {'creation_time': 6}),\n",
        " (a4982, {'creation_time': 8}),\n",
        " (5604d, {'creation_time': 7})]"
       ]
      }
     ],
     "prompt_number": 95
    },
    {
     "cell_type": "markdown",
     "metadata": {},
     "source": [
      "# Prototype code for Reconstructor class"
     ]
    },
    {
     "cell_type": "code",
     "collapsed": false,
     "input": [
      "from Bio import SeqIO"
     ],
     "language": "python",
     "metadata": {},
     "outputs": [],
     "prompt_number": 96
    },
    {
     "cell_type": "code",
     "collapsed": false,
     "input": [
      "# Initialize a dictionary that contains all of the sequences, split by segment.\n",
      "sequences_dictionary = dict()\n",
      "sequences_dictionary[1] = []\n",
      "sequences_dictionary[4] = []\n",
      "sequences_dictionary"
     ],
     "language": "python",
     "metadata": {},
     "outputs": [
      {
       "metadata": {},
       "output_type": "pyout",
       "prompt_number": 97,
       "text": [
        "{1: [], 4: []}"
       ]
      }
     ],
     "prompt_number": 97
    },
    {
     "cell_type": "code",
     "collapsed": false,
     "input": [
      "# Read in the sequences\n",
      "sequences = [record for record in SeqIO.parse('FASTA Files/outfile_test.fasta', 'fasta')]\n",
      "sequences"
     ],
     "language": "python",
     "metadata": {},
     "outputs": [
      {
       "metadata": {},
       "output_type": "pyout",
       "prompt_number": 98,
       "text": [
        "[SeqRecord(seq=Seq('GTGACTGACACCACAAGTAAGGGTAGGCCGCGTAATAGGTAAATCGGACTTTTC...TAG', SingleLetterAlphabet()), id='f74d4a26b2de6c3b522751567646a3f51d790bdc01dc303c2e23a7de718ebb65edfe27358e1ac4e0194a1ddb29d535baa1f6f30c3a9b8baa5c6cbd03e391c831|1|0', name='f74d4a26b2de6c3b522751567646a3f51d790bdc01dc303c2e23a7de718ebb65edfe27358e1ac4e0194a1ddb29d535baa1f6f30c3a9b8baa5c6cbd03e391c831|1|0', description='f74d4a26b2de6c3b522751567646a3f51d790bdc01dc303c2e23a7de718ebb65edfe27358e1ac4e0194a1ddb29d535baa1f6f30c3a9b8baa5c6cbd03e391c831|1|0 <unknown description>', dbxrefs=[]),\n",
        " SeqRecord(seq=Seq('TGACCGTCATCGCTGGTCTAAACGTGGGCTGGCCGAAAATGGCTGTCTTCCGAT...AAC', SingleLetterAlphabet()), id='f74d4a26b2de6c3b522751567646a3f51d790bdc01dc303c2e23a7de718ebb65edfe27358e1ac4e0194a1ddb29d535baa1f6f30c3a9b8baa5c6cbd03e391c831|4|0', name='f74d4a26b2de6c3b522751567646a3f51d790bdc01dc303c2e23a7de718ebb65edfe27358e1ac4e0194a1ddb29d535baa1f6f30c3a9b8baa5c6cbd03e391c831|4|0', description='f74d4a26b2de6c3b522751567646a3f51d790bdc01dc303c2e23a7de718ebb65edfe27358e1ac4e0194a1ddb29d535baa1f6f30c3a9b8baa5c6cbd03e391c831|4|0 <unknown description>', dbxrefs=[]),\n",
        " SeqRecord(seq=Seq('GTGACTGACACCACAAGTAAGGGTAGGCCGCGTAATAGGTAAATCGGACTTTTC...TAG', SingleLetterAlphabet()), id='502ab7bbb33db583e3a89e8ec529bc69517bb8506d2847cfda84ceebe665967e443c8b74301e0e3087dda03e42d75fa7350f6deef5ee94d08168ba25bd459677|1|0', name='502ab7bbb33db583e3a89e8ec529bc69517bb8506d2847cfda84ceebe665967e443c8b74301e0e3087dda03e42d75fa7350f6deef5ee94d08168ba25bd459677|1|0', description='502ab7bbb33db583e3a89e8ec529bc69517bb8506d2847cfda84ceebe665967e443c8b74301e0e3087dda03e42d75fa7350f6deef5ee94d08168ba25bd459677|1|0 <unknown description>', dbxrefs=[]),\n",
        " SeqRecord(seq=Seq('CCCCCAGGTACCCGAGCGGGTTTCACGCTCCAGGCAAAAAATAAGTAAAAGATT...TGG', SingleLetterAlphabet()), id='502ab7bbb33db583e3a89e8ec529bc69517bb8506d2847cfda84ceebe665967e443c8b74301e0e3087dda03e42d75fa7350f6deef5ee94d08168ba25bd459677|4|0', name='502ab7bbb33db583e3a89e8ec529bc69517bb8506d2847cfda84ceebe665967e443c8b74301e0e3087dda03e42d75fa7350f6deef5ee94d08168ba25bd459677|4|0', description='502ab7bbb33db583e3a89e8ec529bc69517bb8506d2847cfda84ceebe665967e443c8b74301e0e3087dda03e42d75fa7350f6deef5ee94d08168ba25bd459677|4|0 <unknown description>', dbxrefs=[]),\n",
        " SeqRecord(seq=Seq('GTGACTGACACCACAAGTAAGGGTAGGCCGCGTAATAGGTAAATCGGACTTTTC...TAG', SingleLetterAlphabet()), id='63d50f948399ec5f7a0c400b0f323c6d560b608928b6ca52c095c6841d5099c50af1bfd3d07337cc5750ea1e877dd44aa264eb0377a44978aacca64596bd31fc|1|1', name='63d50f948399ec5f7a0c400b0f323c6d560b608928b6ca52c095c6841d5099c50af1bfd3d07337cc5750ea1e877dd44aa264eb0377a44978aacca64596bd31fc|1|1', description='63d50f948399ec5f7a0c400b0f323c6d560b608928b6ca52c095c6841d5099c50af1bfd3d07337cc5750ea1e877dd44aa264eb0377a44978aacca64596bd31fc|1|1 <unknown description>', dbxrefs=[]),\n",
        " SeqRecord(seq=Seq('CCCCCAGGTACCCGAGCGGGTTTCACGCTCCAGGCAAAAAATAAGTAAAAGATT...TGG', SingleLetterAlphabet()), id='63d50f948399ec5f7a0c400b0f323c6d560b608928b6ca52c095c6841d5099c50af1bfd3d07337cc5750ea1e877dd44aa264eb0377a44978aacca64596bd31fc|4|1', name='63d50f948399ec5f7a0c400b0f323c6d560b608928b6ca52c095c6841d5099c50af1bfd3d07337cc5750ea1e877dd44aa264eb0377a44978aacca64596bd31fc|4|1', description='63d50f948399ec5f7a0c400b0f323c6d560b608928b6ca52c095c6841d5099c50af1bfd3d07337cc5750ea1e877dd44aa264eb0377a44978aacca64596bd31fc|4|1 <unknown description>', dbxrefs=[]),\n",
        " SeqRecord(seq=Seq('GTGACTGACACCACAAGTAAGGGTAGGCCGCGTAATAGGTAAATCGGACTTTTC...TAG', SingleLetterAlphabet()), id='7865158e13c8d0758186f3f717efc46eeff19994664ee747fbbb99ebefcd3027105efc2c8f687d6d0efae9111cfac7c4b64a283be3c00ca3fdb43d11c97431e2|1|2', name='7865158e13c8d0758186f3f717efc46eeff19994664ee747fbbb99ebefcd3027105efc2c8f687d6d0efae9111cfac7c4b64a283be3c00ca3fdb43d11c97431e2|1|2', description='7865158e13c8d0758186f3f717efc46eeff19994664ee747fbbb99ebefcd3027105efc2c8f687d6d0efae9111cfac7c4b64a283be3c00ca3fdb43d11c97431e2|1|2 <unknown description>', dbxrefs=[]),\n",
        " SeqRecord(seq=Seq('CCCCCAGGTACCCGAGCGGGTTTCACGCTCCAGGCAAAAAATAGGTAAAAGATT...TGG', SingleLetterAlphabet()), id='7865158e13c8d0758186f3f717efc46eeff19994664ee747fbbb99ebefcd3027105efc2c8f687d6d0efae9111cfac7c4b64a283be3c00ca3fdb43d11c97431e2|4|2', name='7865158e13c8d0758186f3f717efc46eeff19994664ee747fbbb99ebefcd3027105efc2c8f687d6d0efae9111cfac7c4b64a283be3c00ca3fdb43d11c97431e2|4|2', description='7865158e13c8d0758186f3f717efc46eeff19994664ee747fbbb99ebefcd3027105efc2c8f687d6d0efae9111cfac7c4b64a283be3c00ca3fdb43d11c97431e2|4|2 <unknown description>', dbxrefs=[]),\n",
        " SeqRecord(seq=Seq('GTGACTGACACCACAAGTAAGGGTAGGCCGCGTAATAGGTAAATCGGACTTTTC...TAG', SingleLetterAlphabet()), id='d9ec375af60f133068b90ac545af632ca280a45c8d1401819e7ac7059f57ca1396b2e36914cb25c51f7212638a3cec33d455b240d9c046b0061ed298ebd2fb07|1|3', name='d9ec375af60f133068b90ac545af632ca280a45c8d1401819e7ac7059f57ca1396b2e36914cb25c51f7212638a3cec33d455b240d9c046b0061ed298ebd2fb07|1|3', description='d9ec375af60f133068b90ac545af632ca280a45c8d1401819e7ac7059f57ca1396b2e36914cb25c51f7212638a3cec33d455b240d9c046b0061ed298ebd2fb07|1|3 <unknown description>', dbxrefs=[]),\n",
        " SeqRecord(seq=Seq('TGACCGTCATCGCTGGTCTAAACGTGGGCTGGCCGAAAATGGCTGTCTTCCGAT...AAC', SingleLetterAlphabet()), id='d9ec375af60f133068b90ac545af632ca280a45c8d1401819e7ac7059f57ca1396b2e36914cb25c51f7212638a3cec33d455b240d9c046b0061ed298ebd2fb07|4|3', name='d9ec375af60f133068b90ac545af632ca280a45c8d1401819e7ac7059f57ca1396b2e36914cb25c51f7212638a3cec33d455b240d9c046b0061ed298ebd2fb07|4|3', description='d9ec375af60f133068b90ac545af632ca280a45c8d1401819e7ac7059f57ca1396b2e36914cb25c51f7212638a3cec33d455b240d9c046b0061ed298ebd2fb07|4|3 <unknown description>', dbxrefs=[]),\n",
        " SeqRecord(seq=Seq('GTGACTGACACCACAAGTAAGGGTAGGCCGCGTAATAGGTAAATCGGACTTTTC...TAG', SingleLetterAlphabet()), id='67960fea65f6e5b6419c3070f4e604cbed9f96a93aa56de0c191c0ebc55942efcea2827a0c2ebfeb4aed73d084ad2306654af95b40d710b3bf7dd5ec824954e6|1|4', name='67960fea65f6e5b6419c3070f4e604cbed9f96a93aa56de0c191c0ebc55942efcea2827a0c2ebfeb4aed73d084ad2306654af95b40d710b3bf7dd5ec824954e6|1|4', description='67960fea65f6e5b6419c3070f4e604cbed9f96a93aa56de0c191c0ebc55942efcea2827a0c2ebfeb4aed73d084ad2306654af95b40d710b3bf7dd5ec824954e6|1|4 <unknown description>', dbxrefs=[]),\n",
        " SeqRecord(seq=Seq('TGACCGTCGTCGCTGGTCTAAACGTGGGCTGGCCGAAAATGGCTGTCTTCCGAT...AAC', SingleLetterAlphabet()), id='67960fea65f6e5b6419c3070f4e604cbed9f96a93aa56de0c191c0ebc55942efcea2827a0c2ebfeb4aed73d084ad2306654af95b40d710b3bf7dd5ec824954e6|4|4', name='67960fea65f6e5b6419c3070f4e604cbed9f96a93aa56de0c191c0ebc55942efcea2827a0c2ebfeb4aed73d084ad2306654af95b40d710b3bf7dd5ec824954e6|4|4', description='67960fea65f6e5b6419c3070f4e604cbed9f96a93aa56de0c191c0ebc55942efcea2827a0c2ebfeb4aed73d084ad2306654af95b40d710b3bf7dd5ec824954e6|4|4 <unknown description>', dbxrefs=[]),\n",
        " SeqRecord(seq=Seq('GTGACTGACACCACAAGTAAGGGTAGGCCGCGTAATAGGTAAATCGGACTTTTC...TAG', SingleLetterAlphabet()), id='b5a903f5e72414e31a565554f24411a436710d98627a08534da7c8c5e7355bd75527d94beb46cb1e13a85cffd1404ddafa736cfe55003314a1573129edc6f989|1|5', name='b5a903f5e72414e31a565554f24411a436710d98627a08534da7c8c5e7355bd75527d94beb46cb1e13a85cffd1404ddafa736cfe55003314a1573129edc6f989|1|5', description='b5a903f5e72414e31a565554f24411a436710d98627a08534da7c8c5e7355bd75527d94beb46cb1e13a85cffd1404ddafa736cfe55003314a1573129edc6f989|1|5 <unknown description>', dbxrefs=[]),\n",
        " SeqRecord(seq=Seq('TGACCGTCGTCGCTGGTCTAAACGTGGGCTGGCCGAAAATGGCTGTCTTCCGAT...AAC', SingleLetterAlphabet()), id='b5a903f5e72414e31a565554f24411a436710d98627a08534da7c8c5e7355bd75527d94beb46cb1e13a85cffd1404ddafa736cfe55003314a1573129edc6f989|4|5', name='b5a903f5e72414e31a565554f24411a436710d98627a08534da7c8c5e7355bd75527d94beb46cb1e13a85cffd1404ddafa736cfe55003314a1573129edc6f989|4|5', description='b5a903f5e72414e31a565554f24411a436710d98627a08534da7c8c5e7355bd75527d94beb46cb1e13a85cffd1404ddafa736cfe55003314a1573129edc6f989|4|5 <unknown description>', dbxrefs=[]),\n",
        " SeqRecord(seq=Seq('GTGACTGACACCACAAGTAAGGGTAGGCCGCGTAATAGGTAAATCGGACTTTTC...TAG', SingleLetterAlphabet()), id='47259e5840b3325c2f88689cdfd430df88cc41d6afac86be46d2d0a6efc45da4667c1a005f2ebd3d06f17de05cb613f203f90c716c8038560f81312197e6842d|1|6', name='47259e5840b3325c2f88689cdfd430df88cc41d6afac86be46d2d0a6efc45da4667c1a005f2ebd3d06f17de05cb613f203f90c716c8038560f81312197e6842d|1|6', description='47259e5840b3325c2f88689cdfd430df88cc41d6afac86be46d2d0a6efc45da4667c1a005f2ebd3d06f17de05cb613f203f90c716c8038560f81312197e6842d|1|6 <unknown description>', dbxrefs=[]),\n",
        " SeqRecord(seq=Seq('TGACCGTCATCGTTGGTCTAAACGTGGGCTGGCCGAAAATGGCTGTCTTCCGAT...AAC', SingleLetterAlphabet()), id='47259e5840b3325c2f88689cdfd430df88cc41d6afac86be46d2d0a6efc45da4667c1a005f2ebd3d06f17de05cb613f203f90c716c8038560f81312197e6842d|4|6', name='47259e5840b3325c2f88689cdfd430df88cc41d6afac86be46d2d0a6efc45da4667c1a005f2ebd3d06f17de05cb613f203f90c716c8038560f81312197e6842d|4|6', description='47259e5840b3325c2f88689cdfd430df88cc41d6afac86be46d2d0a6efc45da4667c1a005f2ebd3d06f17de05cb613f203f90c716c8038560f81312197e6842d|4|6 <unknown description>', dbxrefs=[]),\n",
        " SeqRecord(seq=Seq('GTGACTGACACCACAAGTAAGGGTAGGCCGCGTAATAGGTAAATCGGACTTTTC...TAG', SingleLetterAlphabet()), id='5604d057e09029ea80408f2d9e5b47610d4c6e402ad53281a8d3c43e5b285466c39baf0b55a4a9769e6fbf06a4287212c9bbb8effc7a4efb05177f197dd47707|1|7', name='5604d057e09029ea80408f2d9e5b47610d4c6e402ad53281a8d3c43e5b285466c39baf0b55a4a9769e6fbf06a4287212c9bbb8effc7a4efb05177f197dd47707|1|7', description='5604d057e09029ea80408f2d9e5b47610d4c6e402ad53281a8d3c43e5b285466c39baf0b55a4a9769e6fbf06a4287212c9bbb8effc7a4efb05177f197dd47707|1|7 <unknown description>', dbxrefs=[]),\n",
        " SeqRecord(seq=Seq('TGACCGTCGTCGCTGGTCTAAACGTGGGCTGGCCGAAAATGGCTGTCTTCCGAT...AAC', SingleLetterAlphabet()), id='5604d057e09029ea80408f2d9e5b47610d4c6e402ad53281a8d3c43e5b285466c39baf0b55a4a9769e6fbf06a4287212c9bbb8effc7a4efb05177f197dd47707|4|7', name='5604d057e09029ea80408f2d9e5b47610d4c6e402ad53281a8d3c43e5b285466c39baf0b55a4a9769e6fbf06a4287212c9bbb8effc7a4efb05177f197dd47707|4|7', description='5604d057e09029ea80408f2d9e5b47610d4c6e402ad53281a8d3c43e5b285466c39baf0b55a4a9769e6fbf06a4287212c9bbb8effc7a4efb05177f197dd47707|4|7 <unknown description>', dbxrefs=[]),\n",
        " SeqRecord(seq=Seq('GTGACTGACACCACAAGTAAGGGTAGGCCGCGTAATAGGTAAATCGGACTTTTC...TAG', SingleLetterAlphabet()), id='a4982dee7f8a7e3fd2c9163b6ce7fe9e02d42996fb103ab5825613d3323f7ad1d7499f4a59b5f46ea0c13ab343db5a080d52431309e6aca108526a02d2db24ac|1|8', name='a4982dee7f8a7e3fd2c9163b6ce7fe9e02d42996fb103ab5825613d3323f7ad1d7499f4a59b5f46ea0c13ab343db5a080d52431309e6aca108526a02d2db24ac|1|8', description='a4982dee7f8a7e3fd2c9163b6ce7fe9e02d42996fb103ab5825613d3323f7ad1d7499f4a59b5f46ea0c13ab343db5a080d52431309e6aca108526a02d2db24ac|1|8 <unknown description>', dbxrefs=[]),\n",
        " SeqRecord(seq=Seq('TGACCGTCATCGCTGGTCTAAACGTGGGCTGGCCCAAAATGGCTGTCTTCCGAT...AAC', SingleLetterAlphabet()), id='a4982dee7f8a7e3fd2c9163b6ce7fe9e02d42996fb103ab5825613d3323f7ad1d7499f4a59b5f46ea0c13ab343db5a080d52431309e6aca108526a02d2db24ac|4|8', name='a4982dee7f8a7e3fd2c9163b6ce7fe9e02d42996fb103ab5825613d3323f7ad1d7499f4a59b5f46ea0c13ab343db5a080d52431309e6aca108526a02d2db24ac|4|8', description='a4982dee7f8a7e3fd2c9163b6ce7fe9e02d42996fb103ab5825613d3323f7ad1d7499f4a59b5f46ea0c13ab343db5a080d52431309e6aca108526a02d2db24ac|4|8 <unknown description>', dbxrefs=[]),\n",
        " SeqRecord(seq=Seq('GTGACTGACACCACAAGTAAGGGTAGGCCGCGTAATAGGTAAATCGGACTTTTC...TAG', SingleLetterAlphabet()), id='635ad111e59289ae4b3975452d6c31d517a10b2886ce6148bd24c58304798612d779c31b7d6d78fb15fc9ae5069771481046f8736ff5c3daddb4c7924fb7932d|1|9', name='635ad111e59289ae4b3975452d6c31d517a10b2886ce6148bd24c58304798612d779c31b7d6d78fb15fc9ae5069771481046f8736ff5c3daddb4c7924fb7932d|1|9', description='635ad111e59289ae4b3975452d6c31d517a10b2886ce6148bd24c58304798612d779c31b7d6d78fb15fc9ae5069771481046f8736ff5c3daddb4c7924fb7932d|1|9 <unknown description>', dbxrefs=[]),\n",
        " SeqRecord(seq=Seq('TGACCGTCATCGCTGGTCTAAACGTGGGCTGGCCGAAAATGGCTGTCTTCCGAT...AAC', SingleLetterAlphabet()), id='635ad111e59289ae4b3975452d6c31d517a10b2886ce6148bd24c58304798612d779c31b7d6d78fb15fc9ae5069771481046f8736ff5c3daddb4c7924fb7932d|4|9', name='635ad111e59289ae4b3975452d6c31d517a10b2886ce6148bd24c58304798612d779c31b7d6d78fb15fc9ae5069771481046f8736ff5c3daddb4c7924fb7932d|4|9', description='635ad111e59289ae4b3975452d6c31d517a10b2886ce6148bd24c58304798612d779c31b7d6d78fb15fc9ae5069771481046f8736ff5c3daddb4c7924fb7932d|4|9 <unknown description>', dbxrefs=[])]"
       ]
      }
     ],
     "prompt_number": 98
    },
    {
     "cell_type": "code",
     "collapsed": false,
     "input": [
      "# Append the sequences to the dictionary.\n",
      "# This can be written into a function.\n",
      "split_char = '|' # The character that will be used to split the SeqRecord.id string\n",
      "pos_segment_num = 1 # The position of the segment number after splitting by the split_char\n",
      "\n",
      "for sequence in sequences:\n",
      "    segment_number = int(sequence.id.split(split_char)[pos_segment_num])\n",
      "    sequences_dictionary[segment_number].append(sequence)\n",
      "\n",
      "# sequences_dictionary"
     ],
     "language": "python",
     "metadata": {},
     "outputs": [],
     "prompt_number": 99
    },
    {
     "cell_type": "code",
     "collapsed": false,
     "input": [
      "# Create a NetworkX graph using one segment's sequences, and add nodes.\n",
      "import networkx as nx\n",
      "\n",
      "G = nx.DiGraph()\n",
      "\n",
      "splitchar = '|'\n",
      "pos_id = 0\n",
      "pos_segment_num = 1\n",
      "pos_creation_time = 2\n",
      "\n",
      "segment_number = 4\n",
      "\n",
      "for sequence in sequences_dictionary[segment_number]:\n",
      "    [isolate_id, segment_num, creation_time] = sequence.id.split(splitchar)\n",
      "    G.add_node(isolate_id[0:5], sequence=sequence.seq, id=isolate_id, segment_num=int(segment_num), creation_time=int(creation_time))\n",
      "\n",
      "# at this point, we would return G, and append it to the dictionary of Graphs available.\n",
      "# G.nodes(data=True)"
     ],
     "language": "python",
     "metadata": {},
     "outputs": [],
     "prompt_number": 100
    },
    {
     "cell_type": "code",
     "collapsed": false,
     "input": [
      "# Add edges to the graph, based on the Levenshtein distance between two sequences.\n",
      "import Levenshtein\n",
      "for node1 in G.nodes(data=True):\n",
      "    for node2 in G.nodes(data=True):\n",
      "        if node1[1]['creation_time'] < node2[1]['creation_time']:\n",
      "            weight = Levenshtein.distance(str(node1[1]['sequence']), str(node2[1]['sequence']))\n",
      "            G.add_edge(node1[0], node2[0], weight=weight)"
     ],
     "language": "python",
     "metadata": {},
     "outputs": [],
     "prompt_number": 101
    },
    {
     "cell_type": "code",
     "collapsed": false,
     "input": [
      "# Prune graph by distance.\n",
      "for node in G.nodes(data=True):\n",
      "    in_edges = G.in_edges(node[0], data=True)\n",
      "#     print in_edges\n",
      "    if len(in_edges) != 0:\n",
      "        min_weight = min([edge[2]['weight'] for edge in in_edges])\n",
      "        print min_weight\n",
      "        print node\n",
      "        for edge in in_edges:\n",
      "            if edge[2]['weight'] != min_weight:\n",
      "                G.remove_edge(edge[0], edge[1])"
     ],
     "language": "python",
     "metadata": {},
     "outputs": [
      {
       "output_type": "stream",
       "stream": "stdout",
       "text": [
        "10\n",
        "('63d50', {'segment_num': 4, 'creation_time': 1, 'id': '63d50f948399ec5f7a0c400b0f323c6d560b608928b6ca52c095c6841d5099c50af1bfd3d07337cc5750ea1e877dd44aa264eb0377a44978aacca64596bd31fc', 'sequence': Seq('CCCCCAGGTACCCGAGCGGGTTTCACGCTCCAGGCAAAAAATAAGTAAAAGATT...TGG', SingleLetterAlphabet())})\n",
        "9\n",
        "('b5a90', {'segment_num': 4, 'creation_time': 5, 'id': 'b5a903f5e72414e31a565554f24411a436710d98627a08534da7c8c5e7355bd75527d94beb46cb1e13a85cffd1404ddafa736cfe55003314a1573129edc6f989', 'sequence': Seq('TGACCGTCGTCGCTGGTCTAAACGTGGGCTGGCCGAAAATGGCTGTCTTCCGAT...AAC', SingleLetterAlphabet())})\n",
        "10\n",
        "('635ad', {'segment_num': 4, 'creation_time': 9, 'id': '635ad111e59289ae4b3975452d6c31d517a10b2886ce6148bd24c58304798612d779c31b7d6d78fb15fc9ae5069771481046f8736ff5c3daddb4c7924fb7932d', 'sequence': Seq('TGACCGTCATCGCTGGTCTAAACGTGGGCTGGCCGAAAATGGCTGTCTTCCGAT...AAC', SingleLetterAlphabet())})\n",
        "9\n",
        "('a4982', {'segment_num': 4, 'creation_time': 8, 'id': 'a4982dee7f8a7e3fd2c9163b6ce7fe9e02d42996fb103ab5825613d3323f7ad1d7499f4a59b5f46ea0c13ab343db5a080d52431309e6aca108526a02d2db24ac', 'sequence': Seq('TGACCGTCATCGCTGGTCTAAACGTGGGCTGGCCCAAAATGGCTGTCTTCCGAT...AAC', SingleLetterAlphabet())})\n",
        "7\n",
        "('d9ec3', {'segment_num': 4, 'creation_time': 3, 'id': 'd9ec375af60f133068b90ac545af632ca280a45c8d1401819e7ac7059f57ca1396b2e36914cb25c51f7212638a3cec33d455b240d9c046b0061ed298ebd2fb07', 'sequence': Seq('TGACCGTCATCGCTGGTCTAAACGTGGGCTGGCCGAAAATGGCTGTCTTCCGAT...AAC', SingleLetterAlphabet())})\n",
        "11\n",
        "('78651', {'segment_num': 4, 'creation_time': 2, 'id': '7865158e13c8d0758186f3f717efc46eeff19994664ee747fbbb99ebefcd3027105efc2c8f687d6d0efae9111cfac7c4b64a283be3c00ca3fdb43d11c97431e2', 'sequence': Seq('CCCCCAGGTACCCGAGCGGGTTTCACGCTCCAGGCAAAAAATAGGTAAAAGATT...TGG', SingleLetterAlphabet())})\n",
        "11\n",
        "('47259', {'segment_num': 4, 'creation_time': 6, 'id': '47259e5840b3325c2f88689cdfd430df88cc41d6afac86be46d2d0a6efc45da4667c1a005f2ebd3d06f17de05cb613f203f90c716c8038560f81312197e6842d', 'sequence': Seq('TGACCGTCATCGTTGGTCTAAACGTGGGCTGGCCGAAAATGGCTGTCTTCCGAT...AAC', SingleLetterAlphabet())})\n",
        "10\n",
        "('67960', {'segment_num': 4, 'creation_time': 4, 'id': '67960fea65f6e5b6419c3070f4e604cbed9f96a93aa56de0c191c0ebc55942efcea2827a0c2ebfeb4aed73d084ad2306654af95b40d710b3bf7dd5ec824954e6', 'sequence': Seq('TGACCGTCGTCGCTGGTCTAAACGTGGGCTGGCCGAAAATGGCTGTCTTCCGAT...AAC', SingleLetterAlphabet())})\n",
        "7\n",
        "('5604d', {'segment_num': 4, 'creation_time': 7, 'id': '5604d057e09029ea80408f2d9e5b47610d4c6e402ad53281a8d3c43e5b285466c39baf0b55a4a9769e6fbf06a4287212c9bbb8effc7a4efb05177f197dd47707', 'sequence': Seq('TGACCGTCGTCGCTGGTCTAAACGTGGGCTGGCCGAAAATGGCTGTCTTCCGAT...AAC', SingleLetterAlphabet())})\n"
       ]
      }
     ],
     "prompt_number": 102
    },
    {
     "cell_type": "code",
     "collapsed": false,
     "input": [
      "nx.draw_circular(G)"
     ],
     "language": "python",
     "metadata": {},
     "outputs": [
      {
       "metadata": {},
       "output_type": "display_data",
       "png": "[encoded data removed]",
       "text": [
        "<matplotlib.figure.Figure at 0x106651d10>"
       ]
      }
     ],
     "prompt_number": 103
    },
    {
     "cell_type": "markdown",
     "metadata": {},
     "source": [
      "# Test Reconstructor Class"
     ]
    },
    {
     "cell_type": "code",
     "collapsed": false,
     "input": [
      "from reconstructor import Reconstructor\n",
      "import networkx as nx"
     ],
     "language": "python",
     "metadata": {},
     "outputs": [],
     "prompt_number": 104
    },
    {
     "cell_type": "code",
     "collapsed": false,
     "input": [
      "r = Reconstructor(segments=[1, 4])\n",
      "print r.sequences\n",
      "print r.graphs"
     ],
     "language": "python",
     "metadata": {},
     "outputs": [
      {
       "output_type": "stream",
       "stream": "stdout",
       "text": [
        "{1: [], 4: []}\n",
        "{1: <networkx.classes.digraph.DiGraph object at 0x1063aa910>, 4: <networkx.classes.digraph.DiGraph object at 0x1063aa110>}\n"
       ]
      }
     ],
     "prompt_number": 105
    },
    {
     "cell_type": "code",
     "collapsed": false,
     "input": [
      "fasta_file = 'FASTA Files/outfile_test.fasta'\n",
      "r.read_fasta_file(fasta_file)"
     ],
     "language": "python",
     "metadata": {},
     "outputs": [],
     "prompt_number": 106
    },
    {
     "cell_type": "code",
     "collapsed": false,
     "input": [
      "r.add_nodes_with_data()\n",
      "r.add_edges_with_weight()\n",
      "r.prune_graphs_by_weight()\n",
      "r.pruned_condensed_graph()"
     ],
     "language": "python",
     "metadata": {},
     "outputs": [
      {
       "metadata": {},
       "output_type": "pyout",
       "prompt_number": 107,
       "text": [
        "<networkx.classes.digraph.DiGraph at 0x1063aa950>"
       ]
      }
     ],
     "prompt_number": 107
    },
    {
     "cell_type": "code",
     "collapsed": false,
     "input": [
      "r.condensed_graph().edges(data=True)"
     ],
     "language": "python",
     "metadata": {},
     "outputs": [
      {
       "metadata": {},
       "output_type": "pyout",
       "prompt_number": 108,
       "text": [
        "[('f74d4', '63d50', {'segments': [1], 'weight': 1}),\n",
        " ('f74d4', '47259', {'segments': [1], 'weight': 0}),\n",
        " ('f74d4', 'd9ec3', {'segments': [1, 4], 'weight': 7}),\n",
        " ('f74d4', 'a4982', {'segments': [1], 'weight': 0}),\n",
        " ('f74d4', '78651', {'segments': [1], 'weight': 2}),\n",
        " ('f74d4', '635ad', {'segments': [1, 4], 'weight': 11}),\n",
        " ('f74d4', '67960', {'segments': [1, 4], 'weight': 11}),\n",
        " ('d9ec3', '47259', {'segments': [1, 4], 'weight': 11}),\n",
        " ('d9ec3', '635ad', {'segments': [1], 'weight': 1}),\n",
        " ('d9ec3', 'a4982', {'segments': [1, 4], 'weight': 9}),\n",
        " ('d9ec3', '67960', {'segments': [1], 'weight': 1}),\n",
        " ('a4982', '635ad', {'segments': [1], 'weight': 1}),\n",
        " ('502ab', '63d50', {'segments': [1, 4], 'weight': 11}),\n",
        " ('502ab', '47259', {'segments': [1], 'weight': 0}),\n",
        " ('502ab', 'd9ec3', {'segments': [1], 'weight': 0}),\n",
        " ('502ab', 'a4982', {'segments': [1], 'weight': 0}),\n",
        " ('502ab', '78651', {'segments': [1, 4], 'weight': 13}),\n",
        " ('502ab', '635ad', {'segments': [1], 'weight': 1}),\n",
        " ('502ab', '67960', {'segments': [1], 'weight': 1}),\n",
        " ('78651', '5604d', {'segments': [1], 'weight': 2}),\n",
        " ('47259', '635ad', {'segments': [1], 'weight': 1}),\n",
        " ('47259', 'a4982', {'segments': [1], 'weight': 0}),\n",
        " ('67960', 'b5a90', {'segments': [1, 4], 'weight': 10}),\n",
        " ('67960', '5604d', {'segments': [4], 'weight': 7})]"
       ]
      }
     ],
     "prompt_number": 108
    },
    {
     "cell_type": "code",
     "collapsed": false,
     "input": [
      "r.condensed_graph().nodes(data=True)"
     ],
     "language": "python",
     "metadata": {},
     "outputs": [
      {
       "metadata": {},
       "output_type": "pyout",
       "prompt_number": 109,
       "text": [
        "[('63d50',\n",
        "  {'creation_time': '1',\n",
        "   'id': '63d50f948399ec5f7a0c400b0f323c6d560b608928b6ca52c095c6841d5099c50af1bfd3d07337cc5750ea1e877dd44aa264eb0377a44978aacca64596bd31fc',\n",
        "   'segment_number': '4',\n",
        "   'sequence_1': 'GTGACTGACACCACAAGTAAGGGTAGGCCGCGTAATAGGTAAATCGGACTTTTCCGTCCTAGCTGATAGTGCTGGGCACGAGCAAAGCAGACATCACATAAGGGGAGCAATGATGTCGGACAGTTGCATACTCTGGGTCACTTTGATGAATGCATGCTGGCCTGTTCCCAGGGATAACAAAGGATAGGAAATGCCGAACCCCATATCTTATGCTATACAAGACTGTGCGCGAACGGTCACCACACTGGTTCAATATTATCTGGGGGCCTGGTACAGGAAGTTGGTGCTCCAGTGAGTGCGTCAGTGTTTCGCTACCTGCCCCCCAAACATGAGTGTGGGAATCGGGTACGTGCACTTCTACTGCGTGTTCACCCAACAGTTTGCCCCCCGTTGCGCAGGCGTGATACTGTCACAGACGCGAGTACCACTTTGTAGACTCCTCGTAATGCTGTCGCGCCGTCACTAACGAGGTTTTGAGAATTAAAGGCGTTTAAAAACGCTGTGTCGACGCCGATTTCGTGTGTAACCATTCCAATCCAGCTGGACCAGCACAAGGTCAAACGACAAAAGAGCTATCCCGCGCAGACCTTTCTAATCAGAAGAGGCGCTAGCACGAAAGCGCGGTCGTTAATCAGGGACCCTGAGTCACTCCAAGCGGGACATGATATCCAAAGGTTTGATCCAAATGGGTAGATTGGGAAGGCGTCCTATCGCCTAGTGAAACCGAGGCCCGTTCCAGCACCGGGACCTTCCGAGAACGTGTTCACATCTGCCAGGCATTCTCGCTGTCTCGTTCGCTTAGATCCTCGTTTGCACCGAATGGACCATTGCACATCGACGGGCTAAGTTATCGATAATAATAGAGGCTTGCAACAGATGCGGGCACCTCCTCGCACCGAAAGGGAAGGTTCTGATAGGCGTCATTCGGAGGCTAGTCCGAGTGGCGGTCCCTGGATTACCGTCTGAACTGATCGTATCGGCTGAGTTACTTGGTTACTAG',\n",
        "   'sequence_4': 'CCCCCAGGTACCCGAGCGGGTTTCACGCTCCAGGCAAAAAATAAGTAAAAGATTAACGACCATCCTTAGTGCACGCCTCACCGGCCTCATGGCACTGGAGTCTAGGGCTACCCCTAAGAAGGGAGAACTGGTTCGATGGTACCGGTATCATATGTCACTCCCTATAAGTCGCATGCATTTTGTCGGGGTCGTCCAAATAGGCGGGACCTCCAACTCTCTGTCCCCCAGCTTGATCCGTACTGGGTCAACGGCAGTCGGGAGACCTGAGTCCTAGTTGTTTCCCGTTGGCAACTGGGATGGTTGTGACCATGATGGCATACGATCTTAATAAGTAGGTACAACAAAGCATGAGTCCGAACGGTAGCCCCTAGATACCCTTAGCTACCACAGCCAGGGCCATCATTAAGTCGGTTATGATTTCCGTTTAGCTATTACACGTGCACGGGGGATACCTGGGAAATAACTGCTCTCTGCTGGCCCAACGCATTTGGCTAGTATTTCGACGGCTTTTGGGTGATCTTCGTTCCTAAATCTATGTCGATGAAGAGAGGGGAGATCAGTGTTTGCACATTCAACTATACGCGGGTCAGGGGTCTCAAATGGATCGTAGACACAGTATCCGAAAAACTCTATGACCTTCTCCCGATAACGTGCTTGAGATAACTGAAAAGTGCTATCTTAGAACTAGCCTAGCCTAACGGTTTATATGCTTCAATGTGTATTTCATGACTGCTGTCGTACCTGGCAATTCATTTTGTGGCTTTAACAAATTTCTTTCCCGGGTAGAAAAAGATTGATTGAGGTGTATCAACTACGAACCGACTGAAGGCCGGACAAGAGCAGAGTTAAGGAGTGAATGCTAAACGTTCATGGGAGATCTAGGCCACTAGAGCTTGAAGCAGGATAAACTTAATCAGGGCCTGGCCTAGATTCTGTGTAGCCTGGACACTTACAATATCATATGCCACGCATTACACTGAAGGGCGGGTTCCTCTGTTGG'}),\n",
        " ('b5a90',\n",
        "  {'creation_time': '5',\n",
        "   'id': 'b5a903f5e72414e31a565554f24411a436710d98627a08534da7c8c5e7355bd75527d94beb46cb1e13a85cffd1404ddafa736cfe55003314a1573129edc6f989',\n",
        "   'segment_number': '4',\n",
        "   'sequence_1': 'GTGACTGACACCACAAGTAAGGGTAGGCCGCGTAATAGGTAAATCGGACTTTTCCGTCCTAGCTGATAGTGCTGGGCACGAGCAAAGCAGACATCACATAAGGGGAGCAATGATGTCGGACAGTTGCATACTCTGGGTCACTTTGATGAATGCATGCTGGCCTGTTCCCAGGGATAACAAAGGATAGGAAATGCCGAACCCCATATCTTATGCTATACAAGACTGTGCGCGAACGGTCACCACACTGGTTCAATTTTATCTGGGGGTCTGGTACAGGAAGTTGGTGCTCCAGTGAGTGCGTCAGTGTTTCGCTACCTGCCCCCCAAACATGAGTGTGGGAATCGGGTACGTGCACTTCTACTGCGTGTTCACCCAACAGTTTGCCCCCCGTTGCGCAGGCGTGATACTGTCACAGACGCGAGTACCACTTTGTAGACTCCTCGTAATGCTGTCGCGCCGTCACTAACGAGGTTTTGAGAATTAAAGGCGTTTAAAAACGCTGTGTCGACGCCGATTTCGTGTGTAACCATTCCAATCCAGCTGGACCAGCACAAGGTCAAACGACAAAAGAGCTATCCCGCGCAGACCTTTCTAATCAGAAGAGGCGCTAGCACGAAAGCGCGGTCGTTAATCAGGGACCCTGAGTCACTCCAAGCGGGACATGATATCCAAAGGTTTGATCCAAATGGGTAGATTGGGAAGGCGTCCTATCGCCTAGTGAAACCGAGGCCCGTTCCAGCACCGGGACCTTCCGAGAACGTGTTCACATCTGCCAGGCATTCTCGCTGTCTCGTTCGCTTAGATCCTCGTTTGCACCGAATGGACCATGGCACATCGACGGGCTAAGTTATCGATAATAATAGAGGCTTGCAACAGATGCGGGCACCTCCTCGCACCGAAAGGGAAGGTTCTGATAGGCGTCATTCGGAGGCTAGTCCGAGTGGCGGTCCCTGGATTACCGTCTGAACTGATCGTATCGGCTGAGTTACTTGGTTACTAG',\n",
        "   'sequence_4': 'TGACCGTCGTCGCTGGTCTAAACGTGGGCTGGCCGAAAATGGCTGTCTTCCGATCTGGTTTTAAAGGTAAACCGGAATGAGTGCACCACTCGGGCCTAATCCGAATCTGGCGATGCCGGCGGGGTCGATATGAAGCATGTGCCGGACCCATTAGTTACGCATATTAGAAGTAGGCTAGGGCACTTTTGCAGAGCGTTAATAAGCTCTGGGGCTACCCACGACCCCGTGGGTTAGCTCGCTCTCTAAGCGAAGAGCATTACCGATCTCGAATGTTGGATATCGGCCAAGTCGTTGGGAGGGCTCCGCCCCGCTGAGGTGGGGGACTAGTATATTTGCAGGTGACCAAGTTTCCGACATTTAAGCCTCAGCTATTCTCTCACTGAAGCGACGTGACTGTAAGGTCTGATCTGACGGCCATCAAAACACCGCTTTAGCCGGATTTCGTCTTTCCTTAAGGAAAGAGATGACTATGAGGGCATGGAGCTTGCCATGATTGGAAACATGCCTTAATGATCCCATCTTCGGAAATCGGTATCTAGAGTAGCCACCTCTTGAACTTGAAACGAAACAACCCGCAAGACCGCCAGATCATACTGACGATATGGTAACTTTCCGCTCAGAATGCGAGTAAGCATAGCTGTGGTGAAACAGCTGTTCCCCACGATCAGTAGATTCGCGAGCAAGACACCCCCCAATTGCACTGCGATCACACTAGGCACGGGTGGATTGGCTCTAACTATGGATAAGCTGAGGCATCTCGGTCGTTTGCGGGGATGGAAGCTTATTAACTTTGCTGCGTACTTGAAGTATAACTCTACGACCCTCCCAGAAGCCCCCGCCCGTGGGGGTTTATTGGGGCACGCCTAGCTAGTGACTGACCGAAGAGTTTCTTATCCCGTCTGGGGTGGGGAGCCCTATGATATCCGCATTTACCCCTTGAATTCACGAGGAGCGTTTGCACCGACGTATCTATTGGATTGGAAGCAAGCCTCGAGTCAAC'}),\n",
        " ('635ad',\n",
        "  {'creation_time': '9',\n",
        "   'id': '635ad111e59289ae4b3975452d6c31d517a10b2886ce6148bd24c58304798612d779c31b7d6d78fb15fc9ae5069771481046f8736ff5c3daddb4c7924fb7932d',\n",
        "   'segment_number': '4',\n",
        "   'sequence_1': 'GTGACTGACACCACAAGTAAGGGTAGGCCGCGTAATAGGTAAATCGGACTTTTCCGTCCTAGCTGATAGTGCTGGGCACGAGCAAAGCAGACATCACATAAGGGGAGCAATGATGTCGGACAGTTGCATACTCTGGGTCACTTTGATGAATGCATGCTGGCCTGTTCCCAGGGATAACAAAGGATAGGAAATGCCGAACCCCATATCTTATGCTATACAAGACTGTGCGCGAACGGTCACCACACTGGTTCAATATTATCTGGGGGCCTGGTACAGGAAGTTGGTGCTCCAGTGAGTGCGTCAGTGTTTCGCTACCTGCCCCCCAAACATGAGTGTGGGAATCGGGTACGTGCACTTCTACTGCGTGTTCACCCAACAGTTTGCCCCCCGTTGCGCAGGCGTGATACTGTCACAGACGCGAGTACCACTTTGTAGACTCCTCGTAATGCTGTCGCGCCGTCACTAACGAGGTTTTGAGAATTAAAGGCGTTTAAAAACGCTGTGTCGACGCCGATTTCGTGTGTAACCATTCCAATCCAGCTGGACCAGCACAAGGTCAAACGACGAAAGAGCTATCCCGCGCAGACCTTTCTAATCAGAAGAGGCGCTAGCACGAAAGCGCGGTCGTTAATCAGGGACCCTGAGTCACTCCAAGCGGGACATGATATCCAAAGGTTTGATCCAAATGGGTAGATTGGGAAGGCGTCCTATCGCCTAGTGAAACCGAGGCCCGTTCCAGCACCGGGACCTTCCGAGAACGTGTTCACATCTGCCAGGCATTCTCGCTGTCTCGTTCGCTTAGATCCTCGTTTGCACCGAATGGACCATGGCACATCGACGGGCTAAGTTATCGATAATAATAGAGGCTTGCAACAGATGCGGGCACCTCCTCGCACCGAAAGGGAAGGTTCTGATAGGCGTCATTCGGAGGCTAGTCCGAGTGGCGGTCCCTGGATTACCGTCTGAACTGATCGTATCGGCTGAGTTACTTGGTTACTAG',\n",
        "   'sequence_4': 'TGACCGTCATCGCTGGTCTAAACGTGGGCTGGCCGAAAATGGCTGTCTTCCGATCTAGTTTTAAAGGTAAACCGGAATGAGTGCACCACTCGGGCCTAATCCGAATCTGGCGAGGCCGGCGGGGTCGATATGAAGCATGTGACGGACCCATTAGTTACGCATATTAGAAGTAGGCTAGGCCACTTTTGCAGAGCGTTAATAAGCTCTGGGGCAACCCACGACCCCGTGGGTTAGCTCGCTCTCTAAGCGAAGAGCATTACCGATCTCGAATGTTGGATATCGGCCAAGTCGTTGGGAGGGCTTCGCCCCGCTGAGATGGGGGACTAGTATATTTGCAGGCGACCCAGTTTCCGACATTTAAGCCTCAGCTATTCTCTCACTGAAGCGACGTGACTGTAAGGTCTGATCCGACGGCCATCAAAACACCGCTTTAGCCGGATTTCGTCTTTCCTTAAGGGAAGAGATGACTATGAGGGCATGGAGCTTGCCATGATTGGAAACATGCCTTAATTCTCCCAACTTCTGAAATCGGTATCTAGTGTAGCCACCTCTTGAACTCGAAACGAAACAACCCGCAAGACCGCCAGATCATTCTGACGATATGGTAACTTTCCGCTCAGAATGCGAGTAAGCATAGCTGTGCTGAGACAGCTGTTCCCCACGATCAGTAGATGCGCGAGCAAGACACCCCCTAATTGCACTGCGATCACACTAGGCACGGGTGGATTGGCTCTAACTTTGGATAAGCTGAGGTATCTCGGTCGTTTGCGGGGATGGAAGCTTATTAACTTTGCTGCGTACTTGAAGTATAACTCTATGACCCTCCCAGAAGCCCCCGCCCGTGGGGGTTTATTGGGGCACGCCTAGCTAGTGACTGACCGAAGAGTTTCTTATCCCGTCTGGGGGGGGGGGCCCTATGATATCCGCATTTACCCCTTGAATTCACGAGGAGCGTTTGCACCGACGTATCTATTGGATTGGAAGCAATCCTCGAGTCAAC'}),\n",
        " ('f74d4',\n",
        "  {'creation_time': '0',\n",
        "   'id': 'f74d4a26b2de6c3b522751567646a3f51d790bdc01dc303c2e23a7de718ebb65edfe27358e1ac4e0194a1ddb29d535baa1f6f30c3a9b8baa5c6cbd03e391c831',\n",
        "   'segment_number': '4',\n",
        "   'sequence_1': 'GTGACTGACACCACAAGTAAGGGTAGGCCGCGTAATAGGTAAATCGGACTTTTCCGTCCTAGCTGATAGTGCTGGGCACGAGCAAAGCAGACATCACATAAGGGGAGCAATGATGTCGGACAGTTGCATACTCTGGGTCACTTTGATGAATGCATGCTGGCCTGTTCCCAGGGATAACAAAGGATAGGAAATGCCGAACCCCATATCTTATGCTATACAAGACTGTGCGCGAACGGTCACCACACTGGTTCAATATTATCTGGGGGCCTGGTACAGGAAGTTGGTGCTCCAGTGAGTGCGTCAGTGTTTCGCTACCTGCCCCCCAAACATGAGTGTGGGAATCGGGTACGTGCACTTCTACTGCGTGTTCACCCAACAGTTTGCCCCCCGTTGCGCAGGCGTGATACTGTCACAGACGCGAGTACCACTTTGTAGACTCCTCGTAATGCTGTCGCGCCGTCACTAACGAGGTTTTGAGAATTAAAGGCGTTTAAAAACGCTGTGTCGACGCCGATTTCGTGTGTAACCATTCCAATCCAGCTGGACCAGCACAAGGTCAAACGACAAAAGAGCTATCCCGCGCAGACCTTTCTAATCAGAAGAGGCGCTAGCACGAAAGCGCGGTCGTTAATCAGGGACCCTGAGTCACTCCAAGCGGGACATGATATCCAAAGGTTTGATCCAAATGGGTAGATTGGGAAGGCGTCCTATCGCCTAGTGAAACCGAGGCCCGTTCCAGCACCGGGACCTTCCGAGAACGTGTTCACATCTGCCAGGCATTCTCGCTGTCTCGTTCGCTTAGATCCTCGTTTGCACCGAATGGACCATGGCACATCGACGGGCTAAGTTATCGATAATAATAGAGGCTTGCAACAGATGCGGGCACCTCCTCGCACCGAAAGGGAAGGTTCTGATAGGCGTCATTCGGAGGCTAGTCCGAGTGGCGGTCCCTGGATTACCGTCTGAACTGATCGTATCGGCTGAGTTACTTGGTTACTAG',\n",
        "   'sequence_4': 'TGACCGTCATCGCTGGTCTAAACGTGGGCTGGCCGAAAATGGCTGTCTTCCGATCTAGTTTTAAAGGTAAACCGGAATGAGTGCACCACTCGGGCCTAATCCGAATCTGGCGAGGCCGGCGGGGTCGATATGAAGCATGTGACGGACCCATTAGTTACGCATATTAGAAGTAGGCTAGGCCACTTTTGCAGAGCGTTAATAAGCTCTGGGGCTACCCACGACCCCGTGGGTTAGCTCGCTCTCTAAGCGAAGAGCATTACCGATCTCGAATGTTGGATATCGGCCAAGTCGTTGGGAGGGCTTCGCCCCGCTGAGGTGGGGGACTAGTATATTTGCAGGCGACCCAGTTTCCGACATTTAAGCCTCAGCTATTCTCTCACTGAAGCGACGTGACTGTAAGGTCTGATCTGACGGCCATCAAAACACCGCTTTAGCCGGATTTCGTCTTTCCTTAAGGGAAGAGATGACTATGAGGGCATGGAGCTTGCCATGATTGGAAACATGCCTTAATGATCCCAACTTCTGAAATCGGTATCTAGTGTAGCCACCTCTTGAACTCGAAACGAAACAACCCGCAAGACCGCCAGATCATTCTGACGATATGGTAACTTTCCGCTCAGAATGCGAGTAAGCATAGCTGTGGTGAGACAGCTGTTCCCCACGATCAGTAGATTCGCGAGCAAGACACCCCCTAATTGCACTGCGATCACACTAGGCACGGGTGGATTGGCTCTAACTTTGGATAAGCTGAGGCATCTCGGTCGTTTGCGGGGATGGAAGCTTATTAACTTTGCTGCGTACTTGAAGTATAACTCTATGACCCTCCCAGAAGCCCCCGCCCGTGGGGGTTTATTGGGGCACGCCTAGCTAGTGACTGACCGAAGAGTTTCTTATCCCGTCTGGGGTGGGGAGCCCTATGATATCCGCATTTACCCCTTGAATTCACGAGGAGCGTTTGCACCGACGTATCTATTGGATTGGAAGCAATCCTCGAGTCAAC'}),\n",
        " ('d9ec3',\n",
        "  {'creation_time': '3',\n",
        "   'id': 'd9ec375af60f133068b90ac545af632ca280a45c8d1401819e7ac7059f57ca1396b2e36914cb25c51f7212638a3cec33d455b240d9c046b0061ed298ebd2fb07',\n",
        "   'segment_number': '4',\n",
        "   'sequence_1': 'GTGACTGACACCACAAGTAAGGGTAGGCCGCGTAATAGGTAAATCGGACTTTTCCGTCCTAGCTGATAGTGCTGGGCACGAGCAAAGCAGACATCACATAAGGGGAGCAATGATGTCGGACAGTTGCATACTCTGGGTCACTTTGATGAATGCATGCTGGCCTGTTCCCAGGGATAACAAAGGATAGGAAATGCCGAACCCCATATCTTATGCTATACAAGACTGTGCGCGAACGGTCACCACACTGGTTCAATATTATCTGGGGGCCTGGTACAGGAAGTTGGTGCTCCAGTGAGTGCGTCAGTGTTTCGCTACCTGCCCCCCAAACATGAGTGTGGGAATCGGGTACGTGCACTTCTACTGCGTGTTCACCCAACAGTTTGCCCCCCGTTGCGCAGGCGTGATACTGTCACAGACGCGAGTACCACTTTGTAGACTCCTCGTAATGCTGTCGCGCCGTCACTAACGAGGTTTTGAGAATTAAAGGCGTTTAAAAACGCTGTGTCGACGCCGATTTCGTGTGTAACCATTCCAATCCAGCTGGACCAGCACAAGGTCAAACGACAAAAGAGCTATCCCGCGCAGACCTTTCTAATCAGAAGAGGCGCTAGCACGAAAGCGCGGTCGTTAATCAGGGACCCTGAGTCACTCCAAGCGGGACATGATATCCAAAGGTTTGATCCAAATGGGTAGATTGGGAAGGCGTCCTATCGCCTAGTGAAACCGAGGCCCGTTCCAGCACCGGGACCTTCCGAGAACGTGTTCACATCTGCCAGGCATTCTCGCTGTCTCGTTCGCTTAGATCCTCGTTTGCACCGAATGGACCATGGCACATCGACGGGCTAAGTTATCGATAATAATAGAGGCTTGCAACAGATGCGGGCACCTCCTCGCACCGAAAGGGAAGGTTCTGATAGGCGTCATTCGGAGGCTAGTCCGAGTGGCGGTCCCTGGATTACCGTCTGAACTGATCGTATCGGCTGAGTTACTTGGTTACTAG',\n",
        "   'sequence_4': 'TGACCGTCATCGCTGGTCTAAACGTGGGCTGGCCGAAAATGGCTGTCTTCCGATCTAGTTTTAAAGGTAAACCGGAATGAGTGCACCACTCGGGCCTAATCCGAATCTGGCGAGGCCGGCGGGGTCGATATGAAGCATGTGACGGACCCATTAGTTACGCATATTAGAAGTAGGCTAAGCCACTTTTGCAGTGCGTTAATAAGCTCTGGGGCTACCCACGACCCCGTGGGTTAGCTCGCTCTCTAAGCGAAGAGCATTACCGATCTCGAATGTTGGATATCGGCCAAGTCGTTGGGAGGGCATCGCCCCGCTGAGGTGGGGGACTAGTATATTTGCAGGCGACCCAGTTTCCGACATTTAAGCCTCAGCTATTCTCTCACTGAAGCGACGTGACTGTAAGGTCTGATCTGTCGGCCATCAAAACACCGCTTTAGCCGGATTTCGTCTTTCCTTAAGGGAAGAGATGACTATGAGGGCATGGAGCTTGCCATGATTGGAAACATGCCTTAATGATCCCAACTTCTGAAATCGGTATCTAGTGTAGCCACCTCTTGAACTCGAAACGAAACAACCCGCAAGACCGCCAGATCATTCTGACGATATGGTAACATTCCGCTCAGAATGCGAGTAAGCATAGCTGTGGTGAGACAGCTGTTCCCCACGATCAGTAGATTCGCGAGCAAGACACCCCCTAATTGCACTGCGATCACACTAGGCACGGGTGGATTGGCTCTAACTTTGGATAAGCTGAGGCATCTCGGTCGTTTGCGGCGATGGAAGCTTATTAACTTTGCTGCGTACTTGAAGTATAACTCTGTGACCCTCCCAGAAGCCCCCGCCCGTGGGGGTTTATTGGGGCACGCCTAGCTAGTGACTGACCGAAGAGTTTCTTATCCCGTCTGGGGTGGGGAGCCCTATGATATCCGCATTTACCCCTTGAATTCACGAGGAGCGTTTGCACCGACGTATCTATTGGATTGGAAGCAATCCTCGAGTCAAC'}),\n",
        " ('a4982',\n",
        "  {'creation_time': '8',\n",
        "   'id': 'a4982dee7f8a7e3fd2c9163b6ce7fe9e02d42996fb103ab5825613d3323f7ad1d7499f4a59b5f46ea0c13ab343db5a080d52431309e6aca108526a02d2db24ac',\n",
        "   'segment_number': '4',\n",
        "   'sequence_1': 'GTGACTGACACCACAAGTAAGGGTAGGCCGCGTAATAGGTAAATCGGACTTTTCCGTCCTAGCTGATAGTGCTGGGCACGAGCAAAGCAGACATCACATAAGGGGAGCAATGATGTCGGACAGTTGCATACTCTGGGTCACTTTGATGAATGCATGCTGGCCTGTTCCCAGGGATAACAAAGGATAGGAAATGCCGAACCCCATATCTTATGCTATACAAGACTGTGCGCGAACGGTCACCACACTGGTTCAATATTATCTGGGGGCCTGGTACAGGAAGTTGGTGCTCCAGTGAGTGCGTCAGTGTTTCGCTACCTGCCCCCCAAACATGAGTGTGGGAATCGGGTACGTGCACTTCTACTGCGTGTTCACCCAACAGTTTGCCCCCCGTTGCGCAGGCGTGATACTGTCACAGACGCGAGTACCACTTTGTAGACTCCTCGTAATGCTGTCGCGCCGTCACTAACGAGGTTTTGAGAATTAAAGGCGTTTAAAAACGCTGTGTCGACGCCGATTTCGTGTGTAACCATTCCAATCCAGCTGGACCAGCACAAGGTCAAACGACAAAAGAGCTATCCCGCGCAGACCTTTCTAATCAGAAGAGGCGCTAGCACGAAAGCGCGGTCGTTAATCAGGGACCCTGAGTCACTCCAAGCGGGACATGATATCCAAAGGTTTGATCCAAATGGGTAGATTGGGAAGGCGTCCTATCGCCTAGTGAAACCGAGGCCCGTTCCAGCACCGGGACCTTCCGAGAACGTGTTCACATCTGCCAGGCATTCTCGCTGTCTCGTTCGCTTAGATCCTCGTTTGCACCGAATGGACCATGGCACATCGACGGGCTAAGTTATCGATAATAATAGAGGCTTGCAACAGATGCGGGCACCTCCTCGCACCGAAAGGGAAGGTTCTGATAGGCGTCATTCGGAGGCTAGTCCGAGTGGCGGTCCCTGGATTACCGTCTGAACTGATCGTATCGGCTGAGTTACTTGGTTACTAG',\n",
        "   'sequence_4': 'TGACCGTCATCGCTGGTCTAAACGTGGGCTGGCCCAAAATGGCTGTCTTCCGATCTAGTTTTAGAGGTAAACCGGAATGAGTGCACCACTCGGGCCTAATCCGAATCTGGCGAGGCCGGCGGGGTCGATATGAAGCATGTGACGGACCCATTAGTTACGCATATTAGAAGTAGGCTAAGCCACTTTTGCAGTGCGTTAATAAGCTCTGGGGCTACCCACGACCCCGTGGGTTAGCTCGCTCTCTAAGCGAAGAGCATTACCGATCTCGAATGTTGGATATCGGCCAAGTCGTTGGGAGCGCATCGCCCCGCTGAGTTGGGGGACTAGTATATTTGCAGGCGACCCAGTTTCCGACATTTATGCCTCAGCTATTCTCTCACTGAAGCGACGTGACTGTAAGGTCTGATCTGTCGGCCATCAAAACACCGCTTTAGCCGGATTTCGTCTTTCCTTAAGGGAAGAGATGACTATGAGGGCATGGAGCTTGCCATGATTGGAAACATGCCTTAATGATCCCAACTTCTGAAATCGGTATCTAGTGTAGCCACCTCTTGAACTCGAAACGAAACAACCCGCAAGACCGCCAGATCATTCTGACGATATGGTAACATTCCGCTCAGAATTCGAGGAAGCATAGCTGTGGTGAGACAGCTGTTCCCCACGATCAGTAGATTCGCGAGCAAGACACCCCCTAATTGCACTGCGATCACACTAGGCACGGGTGGATTGGCTCTAACTTTGGATAAGCTGAGGCATCTCGGTCGTTTGCGGCGATGGAAGCTTATTAACTTTGCTGCGTACTTGAAGTATAACTCTGTGACCCTCCCAGAAGCCCCCGCCCGTGGGGGTTTATTGGGGCACGCCTAGCTAGTGACTGACCGAAGAGTTTCTTATCCCGTCTGGGGTGGGGAGCCCTATGATATCCGCATTTACCCCTTGAATTCACCAGGAGCGTTTGCACCGACGTATCTATTGGATTGGAAGCAATCCTCGACTCAAC'}),\n",
        " ('502ab',\n",
        "  {'creation_time': '0',\n",
        "   'id': '502ab7bbb33db583e3a89e8ec529bc69517bb8506d2847cfda84ceebe665967e443c8b74301e0e3087dda03e42d75fa7350f6deef5ee94d08168ba25bd459677',\n",
        "   'segment_number': '4',\n",
        "   'sequence_1': 'GTGACTGACACCACAAGTAAGGGTAGGCCGCGTAATAGGTAAATCGGACTTTTCCGTCCTAGCTGATAGTGCTGGGCACGAGCAAAGCAGACATCACATAAGGGGAGCAATGATGTCGGACAGTTGCATACTCTGGGTCACTTTGATGAATGCATGCTGGCCTGTTCCCAGGGATAACAAAGGATAGGAAATGCCGAACCCCATATCTTATGCTATACAAGACTGTGCGCGAACGGTCACCACACTGGTTCAATATTATCTGGGGGCCTGGTACAGGAAGTTGGTGCTCCAGTGAGTGCGTCAGTGTTTCGCTACCTGCCCCCCAAACATGAGTGTGGGAATCGGGTACGTGCACTTCTACTGCGTGTTCACCCAACAGTTTGCCCCCCGTTGCGCAGGCGTGATACTGTCACAGACGCGAGTACCACTTTGTAGACTCCTCGTAATGCTGTCGCGCCGTCACTAACGAGGTTTTGAGAATTAAAGGCGTTTAAAAACGCTGTGTCGACGCCGATTTCGTGTGTAACCATTCCAATCCAGCTGGACCAGCACAAGGTCAAACGACAAAAGAGCTATCCCGCGCAGACCTTTCTAATCAGAAGAGGCGCTAGCACGAAAGCGCGGTCGTTAATCAGGGACCCTGAGTCACTCCAAGCGGGACATGATATCCAAAGGTTTGATCCAAATGGGTAGATTGGGAAGGCGTCCTATCGCCTAGTGAAACCGAGGCCCGTTCCAGCACCGGGACCTTCCGAGAACGTGTTCACATCTGCCAGGCATTCTCGCTGTCTCGTTCGCTTAGATCCTCGTTTGCACCGAATGGACCATGGCACATCGACGGGCTAAGTTATCGATAATAATAGAGGCTTGCAACAGATGCGGGCACCTCCTCGCACCGAAAGGGAAGGTTCTGATAGGCGTCATTCGGAGGCTAGTCCGAGTGGCGGTCCCTGGATTACCGTCTGAACTGATCGTATCGGCTGAGTTACTTGGTTACTAG',\n",
        "   'sequence_4': 'CCCCCAGGTACCCGAGCGGGTTTCACGCTCCAGGCAAAAAATAAGTAAAAGATTAACGATCATCTTTAGTGCACGCCTCACCGGCCTCATGGCACTGGAGTCTACGGCTACCCCTAAGAAGGGAGAACTGGTTCGATGGTACCGGTATCATATGTCACTCCCTATAAGTCGCATGCATTTTGTCGGGGTCGTCCAAATAGGCGGGACCTCCAACTCTCTGTCCCCCAGCTTGAGCCGTACTGGGTCAACGGCAGTCGGGAGACCTGAGTCCTAGTTGTTTCCCGTTGGCAACTGGGATGGTTGTGACCATGATGGCACACGATCTTAATAAGTAGGTACAACAAAGCATGAGTCCGAACGGTAGCCCCTAGATACCCTTAGCTACCACAGCCAGGGCCATCATTAAGTCGGTTATGATTTCCGTTTAGCTATTACACGTGCACGGGGGATACCTGGGAAATAACTGCTCTCTGCTGGCCCAACGCATTTTGCTAGTATTTCGACGGCTTTTGGGTGATCTTCGTTCCTAAATCTATGTCGATGAAGAGAGGGGAGATCAGTGTTTGCACATTCAACTATACGCGGGTCAGGGGTCTCAAATGGATCGAAGACACAGTATCCGAAAAACTCTATGACCTTCTCCCTATAACGTGCTTGAGATAACTGAAAAGTGCTATCCTAGAACTAGCCTAGCCTAACGGTTTATATGCTTCAATGTGTATTTCATGACTGCTGTCGTACCTGGCAATTCATTTTGTGGCTTTAACAAATTTCTTTCCCGGGTAGAAAAAGATTGATTGAGGTGTATCAACTACGAACCGACTGAAGGCCGGACAACAGCAGAGTTAAGGAGTGAATGCTAAACGTTCATGGGAGATCTAGGCCACTAGAGCTTGAAGCAGGATAAACTTAATCAGGGCCTGGCCTAGATTCTGTGTAGCCTGGACACTTACAATATCATATGCCACGCATTACACTGAAGGGCGGGTTCCTCTGTTGG'}),\n",
        " ('78651',\n",
        "  {'creation_time': '2',\n",
        "   'id': '7865158e13c8d0758186f3f717efc46eeff19994664ee747fbbb99ebefcd3027105efc2c8f687d6d0efae9111cfac7c4b64a283be3c00ca3fdb43d11c97431e2',\n",
        "   'segment_number': '4',\n",
        "   'sequence_1': 'GTGACTGACACCACAAGTAAGGGTAGGCCGCGTAATAGGTAAATCGGACTTTTCCGTCCTAGCTGATAGTGCTGGGCACGAGCAAAGCAGACATCACATAAGGGGAGCAATGATGTCGGACAGTTGCATACTCTGGGTCACTTTGATGAATGCATGCTGGCCTGTTCCCAGGGATAACAAAGGATAGGAAATGCCGAACCCCATATCTTATGCTATACAAGACTGTGCGCGAACGGTCACCACACTGGTTCAATATTATCTGGGGGCCTGGTACAGGAAGTTGGTGCTCCAGTGAGTGCGTCAGTGTTTCGCTACCTGCCCCCCAAACATGAGTGTGGGAATCGGGTACGTGCACTTCTACTGCGTGTTCACCCAACAGTTTGCCCCCCGTTGCGCAGGCGTGATACTGTCACAGACGCGAGTACCACTTTGTAGCCTCCTCGTAATGCTGTCGCGCCGTCACTAACGAGGTTTTGAGAATTAAAGCCGTTTAAAAACGCTGTGTCGACGCCGATTTCGTGTGTAACCATTCCAATCCAGCTGGACCAGCACAAGGTCAAACGACAAAAGAGCTATCCCGCGCAGACCTTTCTAATCAGAAGAGGCGCTAGCACGAAAGCGCGGTCGTTAATCAGGGACCCTGAGTCACTCCAAGCGGGACATGATATCCAAAGGTTTGATCCAAATGGGTAGATTGGGAAGGCGTCCTATCGCCTAGTGAAACCGAGGCCCGTTCCAGCACCGGGACCTTCCGAGAACGTGTTCACATCTGCCAGGCATTCTCGCTGTCTCGTTCGCTTAGATCCTCGTTTGCACCGAATGGACCATGGCACATCGACGGGCTAAGTTATCGATAATAATAGAGGCTTGCAACAGATGCGGGCACCTCCTCGCACCGAAAGGGAAGGTTCTGATAGGCGTCATTCGGAGGCTAGTCCGAGTGGCGGTCCCTGGATTACCGTCTGAACTGATCGTATCGGCTGAGTTACTTGGTTACTAG',\n",
        "   'sequence_4': 'CCCCCAGGTACCCGAGCGGGTTTCACGCTCCAGGCAAAAAATAGGTAAAAGATTAACGATCATCTTTAGTGCACGCCTCACCGGCCTCATGGCACTGGAGTCTACGGCTACCCCTAAGAAGGGAGAACTGGTTCGATGGTACCCGTATCATATGCCACTCCCTATAAGTCGCATGCATTTTGTCGGGGTCGTCCAAATAGGCGTGACCTCCAACTCTCTGTCCCCCAGCTTGAGCCGTACTGGGTCAACGGCAGTCGGGAGACCTGAGACCTAGTTGTTTCCCGTTGGCACCTGGGATGGTTGTGACCATGATGGCACACGATCTTAATAAGTAGGTACAACAAAGCATGAGTCCGAACGGTAGCCCCTAGATACCCTTAGCTACCACAGCCAGGGCCATCATTAAGTCGGTTATGATTTCCGTTTAGCTATTACACGTGCACGGGGGATACCTGCGAAATAACTGCTCTCTGCTGGCCCAACGCATTCTGCTAGTATTTCGACGGCTTTTGGGTGATCTTCGTTCCTAAATCTATGTCGATGAAGAGGGGGGAGATCAGTGTTTGCACATTCAACTATACGCGGGTCAGGGGTCTCAAATGGATCGAAGACACAGTATCCGAAAAACTCTATGACCTTCTCCCTATAACGTGCTTGAGATAACTGAAAAGTGCTATCCTAGAACTAGTCTAGCCTAACGGTTTATATGCTTCAATGTGTATTTCATGACTGCTGTCGTACCTGGCAATTCATTTTGTGGCTTTAACAAATTTCTTTCCCGGGTAGAAAAAGATTGATTGAGGTGTATCAACTACGAACCGACTGAAGGCCGGACAACAGCAGAGTTAAGGAGTGAATGCTAAACGTTCATGGGCGATCTAGGCCACTAGAGCTTGAAGCAGGATAAACTTAATCAGGGCCTGGCCTAGATTCTGTGTAGCCTGGACACTTACAATATCATATGCCACGCATTACACTGAAGGGCGGGTTCCTCTGTTGG'}),\n",
        " ('47259',\n",
        "  {'creation_time': '6',\n",
        "   'id': '47259e5840b3325c2f88689cdfd430df88cc41d6afac86be46d2d0a6efc45da4667c1a005f2ebd3d06f17de05cb613f203f90c716c8038560f81312197e6842d',\n",
        "   'segment_number': '4',\n",
        "   'sequence_1': 'GTGACTGACACCACAAGTAAGGGTAGGCCGCGTAATAGGTAAATCGGACTTTTCCGTCCTAGCTGATAGTGCTGGGCACGAGCAAAGCAGACATCACATAAGGGGAGCAATGATGTCGGACAGTTGCATACTCTGGGTCACTTTGATGAATGCATGCTGGCCTGTTCCCAGGGATAACAAAGGATAGGAAATGCCGAACCCCATATCTTATGCTATACAAGACTGTGCGCGAACGGTCACCACACTGGTTCAATATTATCTGGGGGCCTGGTACAGGAAGTTGGTGCTCCAGTGAGTGCGTCAGTGTTTCGCTACCTGCCCCCCAAACATGAGTGTGGGAATCGGGTACGTGCACTTCTACTGCGTGTTCACCCAACAGTTTGCCCCCCGTTGCGCAGGCGTGATACTGTCACAGACGCGAGTACCACTTTGTAGACTCCTCGTAATGCTGTCGCGCCGTCACTAACGAGGTTTTGAGAATTAAAGGCGTTTAAAAACGCTGTGTCGACGCCGATTTCGTGTGTAACCATTCCAATCCAGCTGGACCAGCACAAGGTCAAACGACAAAAGAGCTATCCCGCGCAGACCTTTCTAATCAGAAGAGGCGCTAGCACGAAAGCGCGGTCGTTAATCAGGGACCCTGAGTCACTCCAAGCGGGACATGATATCCAAAGGTTTGATCCAAATGGGTAGATTGGGAAGGCGTCCTATCGCCTAGTGAAACCGAGGCCCGTTCCAGCACCGGGACCTTCCGAGAACGTGTTCACATCTGCCAGGCATTCTCGCTGTCTCGTTCGCTTAGATCCTCGTTTGCACCGAATGGACCATGGCACATCGACGGGCTAAGTTATCGATAATAATAGAGGCTTGCAACAGATGCGGGCACCTCCTCGCACCGAAAGGGAAGGTTCTGATAGGCGTCATTCGGAGGCTAGTCCGAGTGGCGGTCCCTGGATTACCGTCTGAACTGATCGTATCGGCTGAGTTACTTGGTTACTAG',\n",
        "   'sequence_4': 'TGACCGTCATCGTTGGTCTAAACGTGGGCTGGCCGAAAATGGCTGTCTTCCGATCTAGTTTTAAGGGTAAACCGGAATGAGTGCACCACTCGGGCCTAATCCGAATCTGGCGAGGCCGGCGGGGTCGATATGAGGCATGTGACGGACCCATTAGTTACGCATATTAGAAGTAGGCTAAGCCACTTTTGCAGTGCGTTAATAAGCTCTGGGGCTACCCACGACCCCGTGGGTTAGCTCGCTCTCTAAGCGAAGAGCATTACCGATCTCGAATGTTGGATATCGGCCAAGTCGTTGGGAGGGCATCGCCCCGCTGAGGTGGGGGACTAGTATATTTGCAGGCGACCCAGTTTCCGACATTTAAGCCTAAGCTATTCTCTCACTGAAGCGACGTGACTGTAAGGTCTGATCTGTCGGCCATCAAAACACCGGTTTAGCCGGATTTCGTCTTTCCTTAAGGGAAGAGATGACTATGAGGGCATGGAGCTTGCCATGATTGGAAACATACCTTAATGATCCCAACTTCTGAAATCGGTATCTAGTGTAGCCACCTCTTGAACTCGAAACGAAACAACCCGCAAGACCGCCAGATCATTCTGACGATATGGTAACATTCCGCTCAGAATGCGAGTAAGCATAGCTGTGGTGAGACAGCTGTTCCCCACGATCAGTAGATGCGCGAGCAAGACACCCCCTAATTGCACTGCGATCACACTAGGCACGGGTGGATTGGCTCTAACTTTGGATAAGCTGAGGCATCTCGGTCGTTTGCGGGGATGGAAGCTTATTAACATTGCTGCGTACTTGAAGTATAACTCTGTGACCCTCCCAGAAGCCCCCGCTCGTGGGGGTTTATTGGGGCACGCCTAGCTAGTGACTGACCGAAGAGTTTCTTATCCCGTCTGGGGTGGGGAGCCCTATGATATCCGCATTTACCCCTTGAACTCACGAGGAGCGTTTGCACCGACGTATCTATTGGATTGGAAGCAATCCTCGAGTCAAC'}),\n",
        " ('67960',\n",
        "  {'creation_time': '4',\n",
        "   'id': '67960fea65f6e5b6419c3070f4e604cbed9f96a93aa56de0c191c0ebc55942efcea2827a0c2ebfeb4aed73d084ad2306654af95b40d710b3bf7dd5ec824954e6',\n",
        "   'segment_number': '4',\n",
        "   'sequence_1': 'GTGACTGACACCACAAGTAAGGGTAGGCCGCGTAATAGGTAAATCGGACTTTTCCGTCCTAGCTGATAGTGCTGGGCACGAGCAAAGCAGACATCACATAAGGGGAGCAATGATGTCGGACAGTTGCATACTCTGGGTCACTTTGATGAATGCATGCTGGCCTGTTCCCAGGGATAACAAAGGATAGGAAATGCCGAACCCCATATCTTATGCTATACAAGACTGTGCGCGAACGGTCACCACACTGGTTCAATTTTATCTGGGGGCCTGGTACAGGAAGTTGGTGCTCCAGTGAGTGCGTCAGTGTTTCGCTACCTGCCCCCCAAACATGAGTGTGGGAATCGGGTACGTGCACTTCTACTGCGTGTTCACCCAACAGTTTGCCCCCCGTTGCGCAGGCGTGATACTGTCACAGACGCGAGTACCACTTTGTAGACTCCTCGTAATGCTGTCGCGCCGTCACTAACGAGGTTTTGAGAATTAAAGGCGTTTAAAAACGCTGTGTCGACGCCGATTTCGTGTGTAACCATTCCAATCCAGCTGGACCAGCACAAGGTCAAACGACAAAAGAGCTATCCCGCGCAGACCTTTCTAATCAGAAGAGGCGCTAGCACGAAAGCGCGGTCGTTAATCAGGGACCCTGAGTCACTCCAAGCGGGACATGATATCCAAAGGTTTGATCCAAATGGGTAGATTGGGAAGGCGTCCTATCGCCTAGTGAAACCGAGGCCCGTTCCAGCACCGGGACCTTCCGAGAACGTGTTCACATCTGCCAGGCATTCTCGCTGTCTCGTTCGCTTAGATCCTCGTTTGCACCGAATGGACCATGGCACATCGACGGGCTAAGTTATCGATAATAATAGAGGCTTGCAACAGATGCGGGCACCTCCTCGCACCGAAAGGGAAGGTTCTGATAGGCGTCATTCGGAGGCTAGTCCGAGTGGCGGTCCCTGGATTACCGTCTGAACTGATCGTATCGGCTGAGTTACTTGGTTACTAG',\n",
        "   'sequence_4': 'TGACCGTCGTCGCTGGTCTAAACGTGGGCTGGCCGAAAATGGCTGTCTTCCGATCTAGTTTTAAAGGTAAACCGGAATGAGTGCACCACTCGGGCCTAATCCGAATCTGGCGATGCCGGCGGGGTCGATATGAAGCATGTGCCGGACCCATTAGTTACGCATATTAGAAGTAGGCTAGGGCACTTTTGCAGAGCGTTAATAAGCTCTGGGGCTACCCACGACCCCGTGGGTTAGCTCGCTCTCTAAGCGAAGAGCATTACCGATCTCGAATGTTGGATATCGGCCAAGTCGTTGGGAGGGCTTCGCCCCGCTGAGGTGGGGGACTAGTATATTTGCAGGTGACCCAGTTTCCGACATTTAAGCCTCAGCTATTCTCTCACTGAAGCGACGTGACTGTAAGGTCTGATCTGACGGCCATCAAAACACCGCTTTAGCCGGATTTCGTCTTTCCTTAAGGAAAGAGATGACTATGAGGGCATGGAGCTTGCCATGATTGGAAACATGCCTTAATGATCCCATCTTCTGAAATCGGTATCTAGTGTAGCCACCTCTTGAACTTGAAACGAAACAACCCGCAAGACCGCCAGATCATACTGACGATATGGTAACTTTCCGCTCAGAATGCGAGTAAGCATAGCTGTGGTGAGACAGCTGTTCCCCACGATCAGTAGATTCGCGAGCAAGACACCCCCTAATTGCACTGCGATCACACTAGGCACGGGTGGATTGGCTCTAACTTTGGATAAGCTGAGGCATCTCGGTCGTTTGCGGGGATGGAAGCTTATTAACTTTGCTGCGTACTTGAAGTATAACTCTATGACCCTCCCAGAAGCCCCCGCCCGTGGGGGTTTATTGGGGCACGCCTAGCTAGTGACTGACCGAAGAGTTTCTTATCCCGTCTGGGGTGGGGAGCCCTATGATATCCGCATTTACCCCTTGAATTCACGAGGAGCGTTTGCACCGACGTATCTATTGGATTGGAAGCAAGCCTCGAGTCAAC'}),\n",
        " ('5604d',\n",
        "  {'creation_time': '7',\n",
        "   'id': '5604d057e09029ea80408f2d9e5b47610d4c6e402ad53281a8d3c43e5b285466c39baf0b55a4a9769e6fbf06a4287212c9bbb8effc7a4efb05177f197dd47707',\n",
        "   'segment_number': '4',\n",
        "   'sequence_1': 'GTGACTGACACCACAAGTAAGGGTAGGCCGCGTAATAGGTAAATCGGACTTTTCCGTCCTAGCTGATAGTGCTGGGCACGAGCAAAGCAGACATCACATAAGGGGAGCGATGATGTCGGACAGTTGCATACTCTGGGTCACTTTGATGAATGCATGCTGGCCTGTTCCCAGGGATAACAAAGGATAGGAAATGCCGAACCCCATATCTTATGCTATACAAGACTGTGCGCGAACGGTCACCACACTGGTTCAATATTATCTGGGGGCCTGGTACAGGAAGTTGGTGCTCCAGTGAGTGCGTCAGTGTTTCGCTACCTGCCCCCCAAACATGAGTGTGGGAATCGGGTACGTGCACTTCTACTGCGTGTTCACCCAACAGTTTGCCCCCCGTTGCGCAGGCGTGATACTGTCACAGACGCGAGTACCACTTTGTAGCCTCCTCGTAATGCTGTCGCGCCGTCACTAACGAGGTTTTGAGAATTAAAGCCGTTTAAAAACGCTGTGTCGACGCCGATTTCGTGTGTAACCATTCCAATCCAGATGGACCAGCACAAGGTCAAACGACAAAAGAGCTATCCCGCGCAGACCTTTCTAATCAGAAGAGGCGCTAGCACGAAAGCGCGGTCGTTAATCAGGGACCCTGAGTCACTCCAAGCGGGACATGATATCCAAAGGTTTGATCCAAATGGGTAGATTGGGAAGGCGTCCTATCGCCTAGTGAAACCGAGGCCCGTTCCAGCACCGGGACCTTCCGAGAACGTGTTCACATCTGCCAGGCATTCTCGCTGTCTCGTTCGCTTAGATCCTCGTTTGCACCGAATGGACCATGGCACATCGACGGGCTAAGTTATCGATAATAATAGAGGCTTGCAACAGATGCGGGCACCTCCTCGCACCGAAAGGGAAGGTTCTGATAGGCGTCATTCGGAGGCTAGTCCGAGTGGCGGTCCCTGGATTACCGTCTGAACTGATCGTATCGGCTGAGTTACTTGGTTACTAG',\n",
        "   'sequence_4': 'TGACCGTCGTCGCTGGTCTAAACGTGGGCTGGCCGAAAATGGCTGTCTTCCGATCTAATTTTAAAGGTAAACCGGAATGAGTGCACCACTCGGGCCTAATCCGAATCTGGCGATGCCGGCGGGGTCGATATGAAGCATGTGCCGGACCCATTAGTTACGCACATTAGAAGTAGGCTAGGGCACTTTTGCAGAGCGTTAATAAGCTCTGGGGCTACCCACGACCCCGTGGGTTAGCTCGCTCTCTAAGCGAAGAGCATTACCGATCTCGAATGTTGGATATCGGCCAAGTCGTTGGGAGGGCTTCGCCCCGCTGAGGTGGGGGACTAGTATATTTGCAGGTGACCCAGTTTCCGACATTTAAGCCTCATCTATTCTCTCACTGAAGCGACGTGACTGTAAGGTCTGATCTGACGGCCATCAAAACACCGCTTTAGCCGGATTTCGTCTTTCCTTAAGGAAAGAGATGACTATGAGGGCATGGAGCTTGCCATGATTGGAAACATGCCTTAATGATCCCATCTTCTGAAATCGGTATCTAGTGTAGCCACCTCTTGAACTTGAAACGAAACAACCCGCAAGACCGCCAGATCATACTGACGATATGGTAACTTTCCGCTCAGAATGCGTGTAAGCATAGCTGTGGTGAGACAGCTGTTCACCACGATCAGTAGATTCGCGAGCAAGACAGCCCCTAATTGCACTGCGATCACACTAGGCACGGGTGGATTGGCTCTAACTTTGGATAAGCTGAGGCATCTCGGTCGTTTGCGGGGATGGAAGCTTATTAACTTTGCTGCGTACTTGAAGTATAATTCTATGACCCTCCCAGAAGCCCCCGCCCGTGGGGGTTTATTGGGGCACGCCTAGCTAGTGACTGACCGAAGAGTTTCTTATCCCGTCTGGGGTGGGGAGCCCTATGATATCCGCATTTACCCCTTGAATTCACGAGGAGCGTTTGCACCGACGTATCTATTGGATTGGAAGCAAGCCTCGAGTCAAC'})]"
       ]
      }
     ],
     "prompt_number": 109
    },
    {
     "cell_type": "code",
     "collapsed": false,
     "input": [
      "# This code is used for drawing.\n",
      "from random import randint\n",
      "\n",
      "randints = []\n",
      "for node in r.condensed_graph().nodes(data=True):\n",
      "    randints.append(randint(1, 20))\n",
      "print randints\n",
      "\n",
      "reconstruction_positions = dict()\n",
      "for i, node in enumerate(sorted(r.condensed_graph().nodes(data=True))):\n",
      "    reconstruction_positions[node[0]] = (int(node[1]['creation_time']), randints[i])\n",
      "    \n",
      "print len(reconstruction_positions)\n",
      "nx.draw(r.pruned_condensed_graph(), pos=reconstruction_positions)"
     ],
     "language": "python",
     "metadata": {},
     "outputs": [
      {
       "output_type": "stream",
       "stream": "stdout",
       "text": [
        "[10, 19, 16, 17, 12, 3, 13, 5, 18, 12, 8]\n",
        "11\n"
       ]
      },
      {
       "metadata": {},
       "output_type": "display_data",
       "png": "[encoded data removed]",
       "text": [
        "<matplotlib.figure.Figure at 0x10639c5d0>"
       ]
      }
     ],
     "prompt_number": 110
    },
    {
     "cell_type": "code",
     "collapsed": false,
     "input": [
      "simulation_positions = dict()\n",
      "\n",
      "print randints\n",
      "for i, pathogen in enumerate(s.pathogens):\n",
      "    simulation_positions[pathogen] = reconstruction_positions[str(pathogen)]\n",
      "    \n",
      "print len(simulation_positions)\n",
      "nx.draw(s.transmission_graph(), pos=simulation_positions)"
     ],
     "language": "python",
     "metadata": {},
     "outputs": [
      {
       "output_type": "stream",
       "stream": "stdout",
       "text": [
        "[10, 19, 16, 17, 12, 3, 13, 5, 18, 12, 8]\n",
        "11\n"
       ]
      },
      {
       "metadata": {},
       "output_type": "display_data",
       "png": "[encoded data removed]",
       "text": [
        "<matplotlib.figure.Figure at 0x1063aadd0>"
       ]
      }
     ],
     "prompt_number": 111
    },
    {
     "cell_type": "code",
     "collapsed": false,
     "input": [
      "s.pathogens[0].parent"
     ],
     "language": "python",
     "metadata": {},
     "outputs": [
      {
       "metadata": {},
       "output_type": "pyout",
       "prompt_number": 112,
       "text": [
        "{}"
       ]
      }
     ],
     "prompt_number": 112
    },
    {
     "cell_type": "code",
     "collapsed": false,
     "input": [
      "r.pruned_condensed_graph().edges(data=True)"
     ],
     "language": "python",
     "metadata": {},
     "outputs": [
      {
       "metadata": {},
       "output_type": "pyout",
       "prompt_number": 113,
       "text": [
        "[('f74d4', 'd9ec3', {'segments': [1, 4], 'weight': 7}),\n",
        " ('f74d4', '635ad', {'segments': [1, 4], 'weight': 11}),\n",
        " ('f74d4', '67960', {'segments': [1, 4], 'weight': 11}),\n",
        " ('d9ec3', '47259', {'segments': [1, 4], 'weight': 11}),\n",
        " ('d9ec3', 'a4982', {'segments': [1, 4], 'weight': 9}),\n",
        " ('502ab', '63d50', {'segments': [1, 4], 'weight': 11}),\n",
        " ('502ab', '78651', {'segments': [1, 4], 'weight': 13}),\n",
        " ('78651', '5604d', {'segments': [1], 'weight': 2}),\n",
        " ('67960', 'b5a90', {'segments': [1, 4], 'weight': 10}),\n",
        " ('67960', '5604d', {'segments': [4], 'weight': 7})]"
       ]
      }
     ],
     "prompt_number": 113
    },
    {
     "cell_type": "code",
     "collapsed": false,
     "input": [
      "for virus in s.reassortants():\n",
      "    print virus"
     ],
     "language": "python",
     "metadata": {},
     "outputs": [
      {
       "output_type": "stream",
       "stream": "stdout",
       "text": [
        "78651\n",
        "5604d\n"
       ]
      }
     ],
     "prompt_number": 114
    },
    {
     "cell_type": "code",
     "collapsed": false,
     "input": [
      "for virus in r.reassortants():\n",
      "    print virus[0]"
     ],
     "language": "python",
     "metadata": {},
     "outputs": [
      {
       "output_type": "stream",
       "stream": "stdout",
       "text": [
        "5\n"
       ]
      }
     ],
     "prompt_number": 115
    },
    {
     "cell_type": "code",
     "collapsed": false,
     "input": [
      "s.transmission_graph().edges(data=True)"
     ],
     "language": "python",
     "metadata": {},
     "outputs": [
      {
       "metadata": {},
       "output_type": "pyout",
       "prompt_number": 116,
       "text": [
        "[(67960, 5604d, {'segments': [4], 'weight': 7}),\n",
        " (67960, b5a90, {'segments': [1, 4], 'weight': 10}),\n",
        " (78651, 5604d, {'segments': [1], 'weight': 2}),\n",
        " (d9ec3, 47259, {'segments': [1, 4], 'weight': 11}),\n",
        " (d9ec3, a4982, {'segments': [1, 4], 'weight': 9}),\n",
        " (502ab, 63d50, {'segments': [1, 4], 'weight': 11}),\n",
        " (502ab, 78651, {'segments': [4], 'weight': 11}),\n",
        " (f74d4, d9ec3, {'segments': [1, 4], 'weight': 7}),\n",
        " (f74d4, 635ad, {'segments': [1, 4], 'weight': 11}),\n",
        " (f74d4, 78651, {'segments': [1], 'weight': 2}),\n",
        " (f74d4, 67960, {'segments': [1, 4], 'weight': 11})]"
       ]
      }
     ],
     "prompt_number": 116
    },
    {
     "cell_type": "markdown",
     "metadata": {},
     "source": [
      "# Test Relabeled Graph"
     ]
    },
    {
     "cell_type": "code",
     "collapsed": false,
     "input": [
      "for pathogen in s.pathogens:\n",
      "    print (str(pathogen), str(pathogen.parent))"
     ],
     "language": "python",
     "metadata": {},
     "outputs": [
      {
       "output_type": "stream",
       "stream": "stdout",
       "text": [
        "('f74d4', '{}')\n",
        "('502ab', '{}')\n",
        "('63d50', '{502ab: [1, 4]}')\n",
        "('78651', '{502ab: [4], f74d4: [1]}')\n",
        "('d9ec3', '{f74d4: [1, 4]}')\n",
        "('67960', '{f74d4: [1, 4]}')\n",
        "('b5a90', '{67960: [1, 4]}')\n",
        "('47259', '{d9ec3: [1, 4]}')\n",
        "('5604d', '{67960: [4], 78651: [1]}')\n",
        "('a4982', '{d9ec3: [1, 4]}')\n",
        "('635ad', '{f74d4: [1, 4]}')\n"
       ]
      }
     ],
     "prompt_number": 117
    },
    {
     "cell_type": "code",
     "collapsed": false,
     "input": [
      "s.relabeled_transmission_graph().edges(data=True)"
     ],
     "language": "python",
     "metadata": {},
     "outputs": [
      {
       "metadata": {},
       "output_type": "pyout",
       "prompt_number": 118,
       "text": [
        "[('f74d4', '635ad', {'segments': [1, 4], 'weight': 11}),\n",
        " ('f74d4', 'd9ec3', {'segments': [1, 4], 'weight': 7}),\n",
        " ('f74d4', '78651', {'segments': [1], 'weight': 2}),\n",
        " ('f74d4', '67960', {'segments': [1, 4], 'weight': 11}),\n",
        " ('d9ec3', '47259', {'segments': [1, 4], 'weight': 11}),\n",
        " ('d9ec3', 'a4982', {'segments': [1, 4], 'weight': 9}),\n",
        " ('502ab', '63d50', {'segments': [1, 4], 'weight': 11}),\n",
        " ('502ab', '78651', {'segments': [4], 'weight': 11}),\n",
        " ('78651', '5604d', {'segments': [1], 'weight': 2}),\n",
        " ('67960', 'b5a90', {'segments': [1, 4], 'weight': 10}),\n",
        " ('67960', '5604d', {'segments': [4], 'weight': 7})]"
       ]
      }
     ],
     "prompt_number": 118
    },
    {
     "cell_type": "code",
     "collapsed": false,
     "input": [
      "r.pruned_condensed_graph().edges(data=True)"
     ],
     "language": "python",
     "metadata": {},
     "outputs": [
      {
       "metadata": {},
       "output_type": "pyout",
       "prompt_number": 119,
       "text": [
        "[('f74d4', 'd9ec3', {'segments': [1, 4], 'weight': 7}),\n",
        " ('f74d4', '635ad', {'segments': [1, 4], 'weight': 11}),\n",
        " ('f74d4', '67960', {'segments': [1, 4], 'weight': 11}),\n",
        " ('d9ec3', '47259', {'segments': [1, 4], 'weight': 11}),\n",
        " ('d9ec3', 'a4982', {'segments': [1, 4], 'weight': 9}),\n",
        " ('502ab', '63d50', {'segments': [1, 4], 'weight': 11}),\n",
        " ('502ab', '78651', {'segments': [1, 4], 'weight': 13}),\n",
        " ('78651', '5604d', {'segments': [1], 'weight': 2}),\n",
        " ('67960', 'b5a90', {'segments': [1, 4], 'weight': 10}),\n",
        " ('67960', '5604d', {'segments': [4], 'weight': 7})]"
       ]
      }
     ],
     "prompt_number": 119
    },
    {
     "cell_type": "markdown",
     "metadata": {},
     "source": [
      "# Experiment with Accuracy Metrics"
     ]
    },
    {
     "cell_type": "code",
     "collapsed": false,
     "input": [
      "matching_edges = 0\n",
      "total_edges = len(s.relabeled_transmission_graph().edges())\n",
      "for edge in r.pruned_condensed_graph().edges(data=True):\n",
      "    if edge in s.relabeled_transmission_graph().edges(data=True):\n",
      "        matching_edges += 1\n",
      "        \n",
      "\n",
      "int(float(matching_edges) / total_edges * 100)"
     ],
     "language": "python",
     "metadata": {},
     "outputs": [
      {
       "metadata": {},
       "output_type": "pyout",
       "prompt_number": 120,
       "text": [
        "81"
       ]
      }
     ],
     "prompt_number": 120
    },
    {
     "cell_type": "code",
     "collapsed": false,
     "input": [
      "# This has been implemented in the prototype functions below.\n",
      "# float(len(r.identify_reassortants()))/float(len(s.identify_reassortants()))"
     ],
     "language": "python",
     "metadata": {},
     "outputs": [],
     "prompt_number": 121
    },
    {
     "cell_type": "code",
     "collapsed": false,
     "input": [
      "# Prototype for the accuracy functions.\n",
      "def reassortant_accuracy(simulation, reconstruction):\n",
      "    num_simulation_reassortants = float(len(simulation.reassortants()))\n",
      "    num_reconstruction_reassortants = float(len(reconstruction.reassortants()))\n",
      "    \n",
      "    if num_simulation_reassortants == 0:\n",
      "        return 'No reassortants present in simulation.'\n",
      "    else:\n",
      "        return num_reconstruction_reassortants / num_simulation_reassortants\n",
      "    \n",
      "def transmission_edge_accuracy(simulation, reconstruction):\n",
      "    matching_edges = 0\n",
      "    total_edges = len(simulation.relabeled_transmission_graph().edges())\n",
      "    \n",
      "    reconstructed = reconstruction.pruned_condensed_graph()\n",
      "    simulated = simulation.relabeled_transmission_graph()\n",
      "    \n",
      "    for edge in reconstructed.edges(data=True):\n",
      "        if edge in simulated.edges(data=True):\n",
      "            matching_edges += 1\n",
      "            \n",
      "    return float(matching_edges) / total_edges\n",
      "\n",
      "def transmission_path_accuracy(simulation, reconstruction):\n",
      "    \"\"\"\n",
      "    The accuracy of transmission paths is the number of accurate paths found \n",
      "    divided by the number of paths being considered.\n",
      "    \"\"\"\n",
      "    reconstructed = reconstruction.full_transmission_graph()\n",
      "    simulated = simulation.full_transmission_graph()\n",
      "\n",
      "    num_paths = len(simulated.edges())\n",
      "    accurate_paths = 0\n",
      "    \n",
      "    for edge in reconstructed.edges():\n",
      "        if simulation.full_transmission_path_exists(edge[0], edge[1]):\n",
      "            accurate_paths += 1\n",
      "    \n",
      "    return float(accurate_paths)/num_paths\n",
      "\n",
      "def segment_transmission_path_accuracy(simulation, reconstruction, segment):\n",
      "    \"\"\"\n",
      "    This method will return the transmission accuracy score for a given segment.\n",
      "    \"\"\"\n",
      "    \n",
      "    reconstructed = reconstruction.segment_transmission_graph(segment=segment)\n",
      "    simulated = simulation.segment_transmission_graph(segment=segment)\n",
      "    \n",
      "    accurate_paths = 0\n",
      "    num_paths = len(simulated.edges())\n",
      "    \n",
      "    for edge in reconstructed.edges():\n",
      "        if simulation.segment_transmission_path_exists(edge[0], edge[1], segment=segment):\n",
      "            accurate_paths += 1\n",
      "            \n",
      "    return float(accurate_paths)/num_paths\n",
      "    "
     ],
     "language": "python",
     "metadata": {},
     "outputs": [],
     "prompt_number": 122
    },
    {
     "cell_type": "code",
     "collapsed": false,
     "input": [
      "print s.full_transmission_paths()\n",
      "print s.segment_transmission_paths(1)\n",
      "print s.segment_transmission_paths(4)\n",
      "print s.reassortants()\n",
      "print r.reassortants()\n",
      "print reassortant_accuracy(s, r)\n",
      "print transmission_edge_accuracy(s, r)\n",
      "print transmission_path_accuracy(s, r)\n",
      "print segment_transmission_path_accuracy(s, r, 1)\n",
      "print segment_transmission_path_accuracy(s, r, 4)"
     ],
     "language": "python",
     "metadata": {},
     "outputs": [
      {
       "output_type": "stream",
       "stream": "stdout",
       "text": [
        "[set(['5604d']), set(['78651']), set(['502ab', '63d50']), set(['d9ec3', 'a4982', 'b5a90', '635ad', '67960', 'f74d4', '47259'])]\n",
        "[set(['502ab', '63d50']), set(['b5a90', 'f74d4', '47259', 'd9ec3', 'a4982', '78651', '635ad', '67960', '5604d'])]\n",
        "[set(['502ab', '63d50', '78651']), set(['d9ec3', 'a4982', '5604d', 'b5a90', '635ad', '67960', 'f74d4', '47259'])]"
       ]
      },
      {
       "output_type": "stream",
       "stream": "stdout",
       "text": [
        "\n",
        "[78651, 5604d]\n",
        "['5604d']\n",
        "0.5\n",
        "0.818181818182"
       ]
      },
      {
       "output_type": "stream",
       "stream": "stdout",
       "text": [
        "\n",
        "1.0"
       ]
      },
      {
       "output_type": "stream",
       "stream": "stdout",
       "text": [
        "\n",
        "0.888888888889"
       ]
      },
      {
       "output_type": "stream",
       "stream": "stdout",
       "text": [
        "\n",
        "1.0"
       ]
      },
      {
       "output_type": "stream",
       "stream": "stdout",
       "text": [
        "\n"
       ]
      }
     ],
     "prompt_number": 123
    },
    {
     "cell_type": "markdown",
     "metadata": {},
     "source": [
      "# Test path_exists(node1, node2) function"
     ]
    },
    {
     "cell_type": "code",
     "collapsed": false,
     "input": [
      "# 1 July 2014 - API Change so the following path_exist(node1, node2) code does not stand. \n",
      "# Segment number has to be specified in order for it to stand.\n",
      "# s.path_exists('b90bb', '3d39c')"
     ],
     "language": "python",
     "metadata": {},
     "outputs": [],
     "prompt_number": 124
    },
    {
     "cell_type": "code",
     "collapsed": false,
     "input": [
      "s.relabeled_transmission_graph().nodes()"
     ],
     "language": "python",
     "metadata": {},
     "outputs": [
      {
       "metadata": {},
       "output_type": "pyout",
       "prompt_number": 125,
       "text": [
        "['f74d4',\n",
        " '47259',\n",
        " 'a4982',\n",
        " '67960',\n",
        " '5604d',\n",
        " '63d50',\n",
        " 'b5a90',\n",
        " 'd9ec3',\n",
        " '502ab',\n",
        " '78651',\n",
        " '635ad']"
       ]
      }
     ],
     "prompt_number": 125
    },
    {
     "cell_type": "code",
     "collapsed": false,
     "input": [
      "# s.path_exists('2851c', '09001')"
     ],
     "language": "python",
     "metadata": {},
     "outputs": [],
     "prompt_number": 126
    },
    {
     "cell_type": "code",
     "collapsed": false,
     "input": [],
     "language": "python",
     "metadata": {},
     "outputs": [],
     "prompt_number": 126
    },
    {
     "cell_type": "code",
     "collapsed": false,
     "input": [],
     "language": "python",
     "metadata": {},
     "outputs": [],
     "prompt_number": 126
    }
   ],
   "metadata": {}
  }
 ]
}