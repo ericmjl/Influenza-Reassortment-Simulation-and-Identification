{
 "metadata": {
  "name": "",
  "signature": "sha256:11ce3c8cd05016eef7afc08663c6b3b6e2586d11afebe9e96ad6b16ed39d4755"
 },
 "nbformat": 3,
 "nbformat_minor": 0,
 "worksheets": [
  {
   "cells": [
    {
     "cell_type": "code",
     "collapsed": false,
     "input": [
      "from pathogen import Pathogen\n",
      "from segment import Segment\n",
      "from sequence import Sequence\n",
      "from simulator import Simulator"
     ],
     "language": "python",
     "metadata": {},
     "outputs": [],
     "prompt_number": 1
    },
    {
     "cell_type": "code",
     "collapsed": false,
     "input": [
      "# Initialize sequences\n",
      "sequence_PB2 = Sequence(length=1000) #this is representative of segment 1, PB2\n",
      "sequence_H1 = Sequence(length=1000) #this is representative of segment 4, H1\n",
      "sequence_H2 = Sequence(length=1000) #this is representative of segment 4, H2"
     ],
     "language": "python",
     "metadata": {},
     "outputs": [],
     "prompt_number": 2
    },
    {
     "cell_type": "code",
     "collapsed": false,
     "input": [
      "# Initialize segments\n",
      "segment_PB2 = Segment(segment_number=1, substitution_rate=1E-3, sequence=sequence_PB2)\n",
      "segment_H1 = Segment(segment_number=4, substitution_rate=1E-2, sequence=sequence_H1)\n",
      "segment_H2 = Segment(segment_number=4, substitution_rate=1E-2, sequence=sequence_H2)"
     ],
     "language": "python",
     "metadata": {},
     "outputs": [],
     "prompt_number": 3
    },
    {
     "cell_type": "code",
     "collapsed": false,
     "input": [
      "# Add segments to seed viruses\n",
      "virus_H1 = Pathogen(segments=[segment_PB2, segment_H1], creation_time=0, progeny_size=(1.2, 0.5))\n",
      "virus_H2 = Pathogen(segments=[segment_PB2, segment_H2], creation_time=0, progeny_size=(1.2, 0.5))"
     ],
     "language": "python",
     "metadata": {},
     "outputs": [],
     "prompt_number": 4
    },
    {
     "cell_type": "code",
     "collapsed": false,
     "input": [
      "# Subclass the Simulator class for a specific implementation of the increment_timestep() function.\n",
      "from random import random, choice, sample\n",
      "class ViralSimulator(Simulator):\n",
      "    \n",
      "    def increment_timestep(self):\n",
      "        cointoss = random()\n",
      "        threshold = 0.8\n",
      "        \n",
      "        if cointoss <= threshold:\n",
      "            chosen_virus = choice(self.pathogens)\n",
      "            new_virus = chosen_virus.replicate(current_time=self.current_time)\n",
      "            \n",
      "        if cointoss > threshold:\n",
      "            [virus1, virus2] = sample(self.pathogens, 2)\n",
      "            new_virus = virus1.reassort_with(virus2, current_time=self.current_time)\n",
      "        \n",
      "        self.pathogens.append(new_virus)"
     ],
     "language": "python",
     "metadata": {},
     "outputs": [],
     "prompt_number": 5
    },
    {
     "cell_type": "code",
     "collapsed": false,
     "input": [
      "s = ViralSimulator()"
     ],
     "language": "python",
     "metadata": {},
     "outputs": [],
     "prompt_number": 6
    },
    {
     "cell_type": "code",
     "collapsed": false,
     "input": [
      "s.add_pathogens([virus_H1, virus_H2])"
     ],
     "language": "python",
     "metadata": {},
     "outputs": [],
     "prompt_number": 7
    },
    {
     "cell_type": "code",
     "collapsed": false,
     "input": [
      "s.run(timesteps=10)"
     ],
     "language": "python",
     "metadata": {},
     "outputs": [
      {
       "output_type": "stream",
       "stream": "stdout",
       "text": [
        "{5afa5: [1, 4]}\n",
        "{2e163: [1, 4]}\n",
        "{4c52e: [1, 4]}\n",
        "{b5d7a: [1, 4]}\n",
        "{4c52e: [1, 4]}\n",
        "{2e163: [1, 4]}\n"
       ]
      }
     ],
     "prompt_number": 8
    },
    {
     "cell_type": "code",
     "collapsed": false,
     "input": [
      "s.write_transmission_graph(outfile_name=\"outfile_test\", folder_name='Network Pickles')"
     ],
     "language": "python",
     "metadata": {},
     "outputs": [],
     "prompt_number": 9
    },
    {
     "cell_type": "code",
     "collapsed": false,
     "input": [
      "s.write_sequences(outfile_name=\"outfile_test\", folder_name='FASTA Files')"
     ],
     "language": "python",
     "metadata": {},
     "outputs": [],
     "prompt_number": 10
    },
    {
     "cell_type": "markdown",
     "metadata": {},
     "source": [
      "# Prototype code for Reconstructor class"
     ]
    },
    {
     "cell_type": "code",
     "collapsed": false,
     "input": [
      "from Bio import SeqIO"
     ],
     "language": "python",
     "metadata": {},
     "outputs": [],
     "prompt_number": 11
    },
    {
     "cell_type": "code",
     "collapsed": false,
     "input": [
      "# Initialize a dictionary that contains all of the sequences, split by segment.\n",
      "sequences_dictionary = dict()\n",
      "sequences_dictionary[1] = []\n",
      "sequences_dictionary[4] = []\n",
      "sequences_dictionary"
     ],
     "language": "python",
     "metadata": {},
     "outputs": [
      {
       "metadata": {},
       "output_type": "pyout",
       "prompt_number": 12,
       "text": [
        "{1: [], 4: []}"
       ]
      }
     ],
     "prompt_number": 12
    },
    {
     "cell_type": "code",
     "collapsed": false,
     "input": [
      "# Read in the sequences\n",
      "sequences = [record for record in SeqIO.parse('FASTA Files/outfile_test.fasta', 'fasta')]\n",
      "sequences"
     ],
     "language": "python",
     "metadata": {},
     "outputs": [
      {
       "metadata": {},
       "output_type": "pyout",
       "prompt_number": 13,
       "text": [
        "[SeqRecord(seq=Seq('GGATATAAAGTCATGCCTACGACCAAGCTGGAATTACGCTCCGGCAAGTTTGTT...CTA', SingleLetterAlphabet()), id='5afa5daf700d4a94714e149f49a6f223fe53514160af14ca79b802eb198a3ef833eda4c0942086932e3ae4183a17978209a8c382c75bcaa3eaf4335efdfc5668|1|0', name='5afa5daf700d4a94714e149f49a6f223fe53514160af14ca79b802eb198a3ef833eda4c0942086932e3ae4183a17978209a8c382c75bcaa3eaf4335efdfc5668|1|0', description='5afa5daf700d4a94714e149f49a6f223fe53514160af14ca79b802eb198a3ef833eda4c0942086932e3ae4183a17978209a8c382c75bcaa3eaf4335efdfc5668|1|0 <unknown description>', dbxrefs=[]),\n",
        " SeqRecord(seq=Seq('GTTATAGGACCAGATTGTCAGCGTTTTTCGCTTATGGTCGTCCTGGATCATGTG...TCA', SingleLetterAlphabet()), id='5afa5daf700d4a94714e149f49a6f223fe53514160af14ca79b802eb198a3ef833eda4c0942086932e3ae4183a17978209a8c382c75bcaa3eaf4335efdfc5668|4|0', name='5afa5daf700d4a94714e149f49a6f223fe53514160af14ca79b802eb198a3ef833eda4c0942086932e3ae4183a17978209a8c382c75bcaa3eaf4335efdfc5668|4|0', description='5afa5daf700d4a94714e149f49a6f223fe53514160af14ca79b802eb198a3ef833eda4c0942086932e3ae4183a17978209a8c382c75bcaa3eaf4335efdfc5668|4|0 <unknown description>', dbxrefs=[]),\n",
        " SeqRecord(seq=Seq('GGATATAAAGTCATGCCTACGACCAAGCTGGAATTACGCTCCGGCAAGTTTGTT...CTA', SingleLetterAlphabet()), id='d6589e0a0971b77f1832fa3d180257dd5c95033e56f1de104e70791133b045cbfd441d992a64b168e3549e92a4b08eab39a48bfd0fb90a4f3f3e41099a00d78e|1|0', name='d6589e0a0971b77f1832fa3d180257dd5c95033e56f1de104e70791133b045cbfd441d992a64b168e3549e92a4b08eab39a48bfd0fb90a4f3f3e41099a00d78e|1|0', description='d6589e0a0971b77f1832fa3d180257dd5c95033e56f1de104e70791133b045cbfd441d992a64b168e3549e92a4b08eab39a48bfd0fb90a4f3f3e41099a00d78e|1|0 <unknown description>', dbxrefs=[]),\n",
        " SeqRecord(seq=Seq('ATTCTCCCAAATTATTTCGCTCTATATAGCAATGCAGGATGGGTCCAGGTAAAT...TTG', SingleLetterAlphabet()), id='d6589e0a0971b77f1832fa3d180257dd5c95033e56f1de104e70791133b045cbfd441d992a64b168e3549e92a4b08eab39a48bfd0fb90a4f3f3e41099a00d78e|4|0', name='d6589e0a0971b77f1832fa3d180257dd5c95033e56f1de104e70791133b045cbfd441d992a64b168e3549e92a4b08eab39a48bfd0fb90a4f3f3e41099a00d78e|4|0', description='d6589e0a0971b77f1832fa3d180257dd5c95033e56f1de104e70791133b045cbfd441d992a64b168e3549e92a4b08eab39a48bfd0fb90a4f3f3e41099a00d78e|4|0 <unknown description>', dbxrefs=[]),\n",
        " SeqRecord(seq=Seq('GGATATAAAGTCATGCCTACGACCAAGCTGGAATTACGCTCCGGCAAGTTTGTT...CTA', SingleLetterAlphabet()), id='b5d7aa41cf925759a13bf20099f1d3d0b313daef1649b54e46398847a8e1a629874b2c770f3c24feca4f9ecfd30ba5864e0accc663662e0d2334fb7a8df2e69d|1|1', name='b5d7aa41cf925759a13bf20099f1d3d0b313daef1649b54e46398847a8e1a629874b2c770f3c24feca4f9ecfd30ba5864e0accc663662e0d2334fb7a8df2e69d|1|1', description='b5d7aa41cf925759a13bf20099f1d3d0b313daef1649b54e46398847a8e1a629874b2c770f3c24feca4f9ecfd30ba5864e0accc663662e0d2334fb7a8df2e69d|1|1 <unknown description>', dbxrefs=[]),\n",
        " SeqRecord(seq=Seq('GTTATAGGACCAGATTTTCAGCGTTTTTCGCTTATGGTCGTCCTGGATCATGTG...TCA', SingleLetterAlphabet()), id='b5d7aa41cf925759a13bf20099f1d3d0b313daef1649b54e46398847a8e1a629874b2c770f3c24feca4f9ecfd30ba5864e0accc663662e0d2334fb7a8df2e69d|4|1', name='b5d7aa41cf925759a13bf20099f1d3d0b313daef1649b54e46398847a8e1a629874b2c770f3c24feca4f9ecfd30ba5864e0accc663662e0d2334fb7a8df2e69d|4|1', description='b5d7aa41cf925759a13bf20099f1d3d0b313daef1649b54e46398847a8e1a629874b2c770f3c24feca4f9ecfd30ba5864e0accc663662e0d2334fb7a8df2e69d|4|1 <unknown description>', dbxrefs=[]),\n",
        " SeqRecord(seq=Seq('GGATATAAAGTCATGCCTACGACCAAGCTGGAATTACGCTCCGGCAAGTTTGTT...CTA', SingleLetterAlphabet()), id='2e1633780c1f4a3492eb95255cff4c23b7004810ff497442659fdf396bee73b037c81985c31e5e0e59b3857899e0758faf160c81d0603fb3fa6190a36625adab|1|2', name='2e1633780c1f4a3492eb95255cff4c23b7004810ff497442659fdf396bee73b037c81985c31e5e0e59b3857899e0758faf160c81d0603fb3fa6190a36625adab|1|2', description='2e1633780c1f4a3492eb95255cff4c23b7004810ff497442659fdf396bee73b037c81985c31e5e0e59b3857899e0758faf160c81d0603fb3fa6190a36625adab|1|2 <unknown description>', dbxrefs=[]),\n",
        " SeqRecord(seq=Seq('ATTCTCCCAAATTATTTCGCTCTATATAGCAATGCAGGATGGGTCCAGGTAAAT...TTG', SingleLetterAlphabet()), id='2e1633780c1f4a3492eb95255cff4c23b7004810ff497442659fdf396bee73b037c81985c31e5e0e59b3857899e0758faf160c81d0603fb3fa6190a36625adab|4|2', name='2e1633780c1f4a3492eb95255cff4c23b7004810ff497442659fdf396bee73b037c81985c31e5e0e59b3857899e0758faf160c81d0603fb3fa6190a36625adab|4|2', description='2e1633780c1f4a3492eb95255cff4c23b7004810ff497442659fdf396bee73b037c81985c31e5e0e59b3857899e0758faf160c81d0603fb3fa6190a36625adab|4|2 <unknown description>', dbxrefs=[]),\n",
        " SeqRecord(seq=Seq('GGATATAAAGTCATGCCTACGACCAAGCTGGAATTACGCTCCGGCAAGTTTGTT...CTA', SingleLetterAlphabet()), id='4c52ecda3bc6548ac80fef072ced355d7c4af8a0f9372b5cf6e6860d944f4f8cfbadb553756b3c237b383ff90d4e838e6f7b7a03702d35f6009132bcf1e03897|1|3', name='4c52ecda3bc6548ac80fef072ced355d7c4af8a0f9372b5cf6e6860d944f4f8cfbadb553756b3c237b383ff90d4e838e6f7b7a03702d35f6009132bcf1e03897|1|3', description='4c52ecda3bc6548ac80fef072ced355d7c4af8a0f9372b5cf6e6860d944f4f8cfbadb553756b3c237b383ff90d4e838e6f7b7a03702d35f6009132bcf1e03897|1|3 <unknown description>', dbxrefs=[]),\n",
        " SeqRecord(seq=Seq('ATTCTCCCAAATTATTTCGCTCTATATAGCAATGCAGGATGGGTCCAGGTAAAT...TTG', SingleLetterAlphabet()), id='4c52ecda3bc6548ac80fef072ced355d7c4af8a0f9372b5cf6e6860d944f4f8cfbadb553756b3c237b383ff90d4e838e6f7b7a03702d35f6009132bcf1e03897|4|3', name='4c52ecda3bc6548ac80fef072ced355d7c4af8a0f9372b5cf6e6860d944f4f8cfbadb553756b3c237b383ff90d4e838e6f7b7a03702d35f6009132bcf1e03897|4|3', description='4c52ecda3bc6548ac80fef072ced355d7c4af8a0f9372b5cf6e6860d944f4f8cfbadb553756b3c237b383ff90d4e838e6f7b7a03702d35f6009132bcf1e03897|4|3 <unknown description>', dbxrefs=[]),\n",
        " SeqRecord(seq=Seq('GGATATAAAGTCATGCCTACGACCAAGCTGGAATTACGCTCCGGCAAGTTTGTT...CTA', SingleLetterAlphabet()), id='79a4444d657026d2980785ada8b4891959413cf6c472378a8be588cb570f9d80b40f9d59caafba78288bcadaf4bd6decfe3467d64a065edf900f383194692a0d|1|4', name='79a4444d657026d2980785ada8b4891959413cf6c472378a8be588cb570f9d80b40f9d59caafba78288bcadaf4bd6decfe3467d64a065edf900f383194692a0d|1|4', description='79a4444d657026d2980785ada8b4891959413cf6c472378a8be588cb570f9d80b40f9d59caafba78288bcadaf4bd6decfe3467d64a065edf900f383194692a0d|1|4 <unknown description>', dbxrefs=[]),\n",
        " SeqRecord(seq=Seq('ATTCTCCCAAATTATTTCGCTCTATATAGCAATCCAGGATGGGTCCAGGTAAAT...TTG', SingleLetterAlphabet()), id='79a4444d657026d2980785ada8b4891959413cf6c472378a8be588cb570f9d80b40f9d59caafba78288bcadaf4bd6decfe3467d64a065edf900f383194692a0d|4|4', name='79a4444d657026d2980785ada8b4891959413cf6c472378a8be588cb570f9d80b40f9d59caafba78288bcadaf4bd6decfe3467d64a065edf900f383194692a0d|4|4', description='79a4444d657026d2980785ada8b4891959413cf6c472378a8be588cb570f9d80b40f9d59caafba78288bcadaf4bd6decfe3467d64a065edf900f383194692a0d|4|4 <unknown description>', dbxrefs=[]),\n",
        " SeqRecord(seq=Seq('GGATATAAAGTCATGCCTACGACCAAGCTGGAATTACGCTCCGGCAAGTTTGTT...CTA', SingleLetterAlphabet()), id='0296c631efd9007f039df97a05607c2c08c91cada274360ca888a2360c2b93bdaa736cc440b1bcb86f708d50f604ac4f8ae9b820efbc60888476f265f1d66323|1|5', name='0296c631efd9007f039df97a05607c2c08c91cada274360ca888a2360c2b93bdaa736cc440b1bcb86f708d50f604ac4f8ae9b820efbc60888476f265f1d66323|1|5', description='0296c631efd9007f039df97a05607c2c08c91cada274360ca888a2360c2b93bdaa736cc440b1bcb86f708d50f604ac4f8ae9b820efbc60888476f265f1d66323|1|5 <unknown description>', dbxrefs=[]),\n",
        " SeqRecord(seq=Seq('GTTATAGGACCAGATTTTCAGCGTTTTTCGCTTATGGTCGTCCTGGATCATGTG...TCA', SingleLetterAlphabet()), id='0296c631efd9007f039df97a05607c2c08c91cada274360ca888a2360c2b93bdaa736cc440b1bcb86f708d50f604ac4f8ae9b820efbc60888476f265f1d66323|4|5', name='0296c631efd9007f039df97a05607c2c08c91cada274360ca888a2360c2b93bdaa736cc440b1bcb86f708d50f604ac4f8ae9b820efbc60888476f265f1d66323|4|5', description='0296c631efd9007f039df97a05607c2c08c91cada274360ca888a2360c2b93bdaa736cc440b1bcb86f708d50f604ac4f8ae9b820efbc60888476f265f1d66323|4|5 <unknown description>', dbxrefs=[]),\n",
        " SeqRecord(seq=Seq('GGATATAAAGTCATGCCTACGACCAAGCTGGAATTACGCTCCGGCAAGTTTGTT...CTA', SingleLetterAlphabet()), id='86ad2ff1625353de4f850770c5aa225f885a3cb807b3b9072ac402bde169a5c900d9365445436e3eb686d43e5b64cb6dd6f2aa4bd4637fb77aea4c2a25ae2985|1|6', name='86ad2ff1625353de4f850770c5aa225f885a3cb807b3b9072ac402bde169a5c900d9365445436e3eb686d43e5b64cb6dd6f2aa4bd4637fb77aea4c2a25ae2985|1|6', description='86ad2ff1625353de4f850770c5aa225f885a3cb807b3b9072ac402bde169a5c900d9365445436e3eb686d43e5b64cb6dd6f2aa4bd4637fb77aea4c2a25ae2985|1|6 <unknown description>', dbxrefs=[]),\n",
        " SeqRecord(seq=Seq('ATTCTCCCAAATTATTTCGCTCTATATAGCAATGCAGGATGGGTCCAGGTAAAT...TTG', SingleLetterAlphabet()), id='86ad2ff1625353de4f850770c5aa225f885a3cb807b3b9072ac402bde169a5c900d9365445436e3eb686d43e5b64cb6dd6f2aa4bd4637fb77aea4c2a25ae2985|4|6', name='86ad2ff1625353de4f850770c5aa225f885a3cb807b3b9072ac402bde169a5c900d9365445436e3eb686d43e5b64cb6dd6f2aa4bd4637fb77aea4c2a25ae2985|4|6', description='86ad2ff1625353de4f850770c5aa225f885a3cb807b3b9072ac402bde169a5c900d9365445436e3eb686d43e5b64cb6dd6f2aa4bd4637fb77aea4c2a25ae2985|4|6 <unknown description>', dbxrefs=[]),\n",
        " SeqRecord(seq=Seq('GGATATAAAGTCATGCCTACGACCAAGCTGGAATTACGCTCCGGCAAGTTTGTT...CTA', SingleLetterAlphabet()), id='edf166bf2d4ee19527eef2836924ccc1cac7711a97e00bd455c1542e6976477d7964ff397bbb41c3c416882376f004b0185ae8a891513b808c7d35751c7facd1|1|7', name='edf166bf2d4ee19527eef2836924ccc1cac7711a97e00bd455c1542e6976477d7964ff397bbb41c3c416882376f004b0185ae8a891513b808c7d35751c7facd1|1|7', description='edf166bf2d4ee19527eef2836924ccc1cac7711a97e00bd455c1542e6976477d7964ff397bbb41c3c416882376f004b0185ae8a891513b808c7d35751c7facd1|1|7 <unknown description>', dbxrefs=[]),\n",
        " SeqRecord(seq=Seq('ATTCTCCCAAATTATTTCGCTCTATATAGCAATGCAGGATGGGTCCAGGTAAAT...TTG', SingleLetterAlphabet()), id='edf166bf2d4ee19527eef2836924ccc1cac7711a97e00bd455c1542e6976477d7964ff397bbb41c3c416882376f004b0185ae8a891513b808c7d35751c7facd1|4|7', name='edf166bf2d4ee19527eef2836924ccc1cac7711a97e00bd455c1542e6976477d7964ff397bbb41c3c416882376f004b0185ae8a891513b808c7d35751c7facd1|4|7', description='edf166bf2d4ee19527eef2836924ccc1cac7711a97e00bd455c1542e6976477d7964ff397bbb41c3c416882376f004b0185ae8a891513b808c7d35751c7facd1|4|7 <unknown description>', dbxrefs=[]),\n",
        " SeqRecord(seq=Seq('GGATATAAAGTCATGCCTACGACCAAGCTGGAATTACGCTCCGGCAAGTTTGTT...CTA', SingleLetterAlphabet()), id='29f3100b2e4a9f3cc771d5ab1c33c00b77abe0756d75410aa6f4b5b25ac3ce243a0d37dd89468e337453b6103b744567a274ecc186a28d3fb0d22c406d69e3c6|1|8', name='29f3100b2e4a9f3cc771d5ab1c33c00b77abe0756d75410aa6f4b5b25ac3ce243a0d37dd89468e337453b6103b744567a274ecc186a28d3fb0d22c406d69e3c6|1|8', description='29f3100b2e4a9f3cc771d5ab1c33c00b77abe0756d75410aa6f4b5b25ac3ce243a0d37dd89468e337453b6103b744567a274ecc186a28d3fb0d22c406d69e3c6|1|8 <unknown description>', dbxrefs=[]),\n",
        " SeqRecord(seq=Seq('ATTCTCCCAAATTATTTCGCTCTATATAGCAATGCAGGATGGGTCCAGGTAAAT...TTG', SingleLetterAlphabet()), id='29f3100b2e4a9f3cc771d5ab1c33c00b77abe0756d75410aa6f4b5b25ac3ce243a0d37dd89468e337453b6103b744567a274ecc186a28d3fb0d22c406d69e3c6|4|8', name='29f3100b2e4a9f3cc771d5ab1c33c00b77abe0756d75410aa6f4b5b25ac3ce243a0d37dd89468e337453b6103b744567a274ecc186a28d3fb0d22c406d69e3c6|4|8', description='29f3100b2e4a9f3cc771d5ab1c33c00b77abe0756d75410aa6f4b5b25ac3ce243a0d37dd89468e337453b6103b744567a274ecc186a28d3fb0d22c406d69e3c6|4|8 <unknown description>', dbxrefs=[]),\n",
        " SeqRecord(seq=Seq('GGATATAAAGTCATGCCTACGACCAAGCTGGAATTACGCTCCGGCAAGTTTGTT...CTA', SingleLetterAlphabet()), id='70e44dfff6cdbcbf08aed4b59b9877169829f4cd0df3722e709511f2bf99dfca46720c750354d0acd9f739ebcc231e7487923d07fcada937176d9005ab15d288|1|9', name='70e44dfff6cdbcbf08aed4b59b9877169829f4cd0df3722e709511f2bf99dfca46720c750354d0acd9f739ebcc231e7487923d07fcada937176d9005ab15d288|1|9', description='70e44dfff6cdbcbf08aed4b59b9877169829f4cd0df3722e709511f2bf99dfca46720c750354d0acd9f739ebcc231e7487923d07fcada937176d9005ab15d288|1|9 <unknown description>', dbxrefs=[]),\n",
        " SeqRecord(seq=Seq('ATTCTCCCAAATTATTTCGCTCTATATAGCAATGCAGGATGGGTCCAGGTAAAT...TTG', SingleLetterAlphabet()), id='70e44dfff6cdbcbf08aed4b59b9877169829f4cd0df3722e709511f2bf99dfca46720c750354d0acd9f739ebcc231e7487923d07fcada937176d9005ab15d288|4|9', name='70e44dfff6cdbcbf08aed4b59b9877169829f4cd0df3722e709511f2bf99dfca46720c750354d0acd9f739ebcc231e7487923d07fcada937176d9005ab15d288|4|9', description='70e44dfff6cdbcbf08aed4b59b9877169829f4cd0df3722e709511f2bf99dfca46720c750354d0acd9f739ebcc231e7487923d07fcada937176d9005ab15d288|4|9 <unknown description>', dbxrefs=[])]"
       ]
      }
     ],
     "prompt_number": 13
    },
    {
     "cell_type": "code",
     "collapsed": false,
     "input": [
      "# Append the sequences to the dictionary.\n",
      "# This can be written into a function.\n",
      "split_char = '|' # The character that will be used to split the SeqRecord.id string\n",
      "pos_segment_num = 1 # The position of the segment number after splitting by the split_char\n",
      "\n",
      "for sequence in sequences:\n",
      "    segment_number = int(sequence.id.split(split_char)[pos_segment_num])\n",
      "    sequences_dictionary[segment_number].append(sequence)\n",
      "\n",
      "# sequences_dictionary"
     ],
     "language": "python",
     "metadata": {},
     "outputs": [],
     "prompt_number": 14
    },
    {
     "cell_type": "code",
     "collapsed": false,
     "input": [
      "# Create a NetworkX graph using one segment's sequences, and add nodes.\n",
      "import networkx as nx\n",
      "\n",
      "G = nx.DiGraph()\n",
      "\n",
      "splitchar = '|'\n",
      "pos_id = 0\n",
      "pos_segment_num = 1\n",
      "pos_creation_time = 2\n",
      "\n",
      "segment_number = 4\n",
      "\n",
      "for sequence in sequences_dictionary[segment_number]:\n",
      "    [isolate_id, segment_num, creation_time] = sequence.id.split(splitchar)\n",
      "    G.add_node(isolate_id[0:5], sequence=sequence.seq, id=isolate_id, segment_num=int(segment_num), creation_time=int(creation_time))\n",
      "\n",
      "# at this point, we would return G, and append it to the dictionary of Graphs available.\n",
      "# G.nodes(data=True)"
     ],
     "language": "python",
     "metadata": {},
     "outputs": [],
     "prompt_number": 15
    },
    {
     "cell_type": "code",
     "collapsed": false,
     "input": [
      "# Add edges to the graph, based on the Levenshtein distance between two sequences.\n",
      "import Levenshtein\n",
      "for node1 in G.nodes(data=True):\n",
      "    for node2 in G.nodes(data=True):\n",
      "        if node1[1]['creation_time'] < node2[1]['creation_time']:\n",
      "            weight = Levenshtein.distance(str(node1[1]['sequence']), str(node2[1]['sequence']))\n",
      "            G.add_edge(node1[0], node2[0], weight=weight)"
     ],
     "language": "python",
     "metadata": {},
     "outputs": [],
     "prompt_number": 16
    },
    {
     "cell_type": "code",
     "collapsed": false,
     "input": [
      "# Prune graph by distance.\n",
      "for node in G.nodes(data=True):\n",
      "    in_edges = G.in_edges(node[0], data=True)\n",
      "#     print in_edges\n",
      "    if len(in_edges) != 0:\n",
      "        min_weight = min([edge[2]['weight'] for edge in in_edges])\n",
      "        print min_weight\n",
      "        print node\n",
      "        for edge in in_edges:\n",
      "            if edge[2]['weight'] != min_weight:\n",
      "                G.remove_edge(edge[0], edge[1])"
     ],
     "language": "python",
     "metadata": {},
     "outputs": [
      {
       "output_type": "stream",
       "stream": "stdout",
       "text": [
        "5\n",
        "('29f31', {'segment_num': 4, 'creation_time': 8, 'id': '29f3100b2e4a9f3cc771d5ab1c33c00b77abe0756d75410aa6f4b5b25ac3ce243a0d37dd89468e337453b6103b744567a274ecc186a28d3fb0d22c406d69e3c6', 'sequence': Seq('ATTCTCCCAAATTATTTCGCTCTATATAGCAATGCAGGATGGGTCCAGGTAAAT...TTG', SingleLetterAlphabet())})\n",
        "8\n",
        "('b5d7a', {'segment_num': 4, 'creation_time': 1, 'id': 'b5d7aa41cf925759a13bf20099f1d3d0b313daef1649b54e46398847a8e1a629874b2c770f3c24feca4f9ecfd30ba5864e0accc663662e0d2334fb7a8df2e69d', 'sequence': Seq('GTTATAGGACCAGATTTTCAGCGTTTTTCGCTTATGGTCGTCCTGGATCATGTG...TCA', SingleLetterAlphabet())})\n",
        "9\n",
        "('86ad2', {'segment_num': 4, 'creation_time': 6, 'id': '86ad2ff1625353de4f850770c5aa225f885a3cb807b3b9072ac402bde169a5c900d9365445436e3eb686d43e5b64cb6dd6f2aa4bd4637fb77aea4c2a25ae2985', 'sequence': Seq('ATTCTCCCAAATTATTTCGCTCTATATAGCAATGCAGGATGGGTCCAGGTAAAT...TTG', SingleLetterAlphabet())})\n",
        "12\n",
        "('0296c', {'segment_num': 4, 'creation_time': 5, 'id': '0296c631efd9007f039df97a05607c2c08c91cada274360ca888a2360c2b93bdaa736cc440b1bcb86f708d50f604ac4f8ae9b820efbc60888476f265f1d66323', 'sequence': Seq('GTTATAGGACCAGATTTTCAGCGTTTTTCGCTTATGGTCGTCCTGGATCATGTG...TCA', SingleLetterAlphabet())})\n",
        "9\n",
        "('79a44', {'segment_num': 4, 'creation_time': 4, 'id': '79a4444d657026d2980785ada8b4891959413cf6c472378a8be588cb570f9d80b40f9d59caafba78288bcadaf4bd6decfe3467d64a065edf900f383194692a0d', 'sequence': Seq('ATTCTCCCAAATTATTTCGCTCTATATAGCAATCCAGGATGGGTCCAGGTAAAT...TTG', SingleLetterAlphabet())})\n",
        "6\n",
        "('70e44', {'segment_num': 4, 'creation_time': 9, 'id': '70e44dfff6cdbcbf08aed4b59b9877169829f4cd0df3722e709511f2bf99dfca46720c750354d0acd9f739ebcc231e7487923d07fcada937176d9005ab15d288', 'sequence': Seq('ATTCTCCCAAATTATTTCGCTCTATATAGCAATGCAGGATGGGTCCAGGTAAAT...TTG', SingleLetterAlphabet())})\n",
        "10\n",
        "('2e163', {'segment_num': 4, 'creation_time': 2, 'id': '2e1633780c1f4a3492eb95255cff4c23b7004810ff497442659fdf396bee73b037c81985c31e5e0e59b3857899e0758faf160c81d0603fb3fa6190a36625adab', 'sequence': Seq('ATTCTCCCAAATTATTTCGCTCTATATAGCAATGCAGGATGGGTCCAGGTAAAT...TTG', SingleLetterAlphabet())})\n",
        "14\n",
        "('4c52e', {'segment_num': 4, 'creation_time': 3, 'id': '4c52ecda3bc6548ac80fef072ced355d7c4af8a0f9372b5cf6e6860d944f4f8cfbadb553756b3c237b383ff90d4e838e6f7b7a03702d35f6009132bcf1e03897', 'sequence': Seq('ATTCTCCCAAATTATTTCGCTCTATATAGCAATGCAGGATGGGTCCAGGTAAAT...TTG', SingleLetterAlphabet())})\n",
        "9\n",
        "('edf16', {'segment_num': 4, 'creation_time': 7, 'id': 'edf166bf2d4ee19527eef2836924ccc1cac7711a97e00bd455c1542e6976477d7964ff397bbb41c3c416882376f004b0185ae8a891513b808c7d35751c7facd1', 'sequence': Seq('ATTCTCCCAAATTATTTCGCTCTATATAGCAATGCAGGATGGGTCCAGGTAAAT...TTG', SingleLetterAlphabet())})\n"
       ]
      }
     ],
     "prompt_number": 17
    },
    {
     "cell_type": "code",
     "collapsed": false,
     "input": [
      "nx.draw_circular(G)"
     ],
     "language": "python",
     "metadata": {},
     "outputs": [
      {
       "metadata": {},
       "output_type": "display_data",
       "png": "[encoded data removed]",
       "text": [
        "<matplotlib.figure.Figure at 0x106225b90>"
       ]
      }
     ],
     "prompt_number": 18
    },
    {
     "cell_type": "markdown",
     "metadata": {},
     "source": [
      "# Test Reconstructor Class"
     ]
    },
    {
     "cell_type": "code",
     "collapsed": false,
     "input": [
      "from reconstructor import Reconstructor\n",
      "import networkx as nx"
     ],
     "language": "python",
     "metadata": {},
     "outputs": [],
     "prompt_number": 19
    },
    {
     "cell_type": "code",
     "collapsed": false,
     "input": [
      "r = Reconstructor(segments=[1, 4])\n",
      "print r.sequences\n",
      "print r.graphs"
     ],
     "language": "python",
     "metadata": {},
     "outputs": [
      {
       "output_type": "stream",
       "stream": "stdout",
       "text": [
        "{1: [], 4: []}\n",
        "{1: <networkx.classes.digraph.DiGraph object at 0x1062922d0>, 4: <networkx.classes.digraph.DiGraph object at 0x106292210>}\n"
       ]
      }
     ],
     "prompt_number": 20
    },
    {
     "cell_type": "code",
     "collapsed": false,
     "input": [
      "fasta_file = 'FASTA Files/outfile_test.fasta'\n",
      "r.read_fasta_file(fasta_file)"
     ],
     "language": "python",
     "metadata": {},
     "outputs": [],
     "prompt_number": 21
    },
    {
     "cell_type": "code",
     "collapsed": false,
     "input": [
      "r.add_nodes_with_data()\n",
      "r.add_edges_with_weight()\n",
      "r.prune_graphs_by_weight()\n",
      "r.compose_segment_graphs()\n",
      "r.condense_composed_segment_graphs()\n",
      "r.prune_condensed_graph()"
     ],
     "language": "python",
     "metadata": {},
     "outputs": [],
     "prompt_number": 22
    },
    {
     "cell_type": "code",
     "collapsed": false,
     "input": [
      "r.condensed_graph.edges(data=True)"
     ],
     "language": "python",
     "metadata": {},
     "outputs": [
      {
       "metadata": {},
       "output_type": "pyout",
       "prompt_number": 23,
       "text": [
        "[('b5d7a', '0296c', {'segments': [1, 4], 'weight': 14}),\n",
        " ('d6589', '2e163', {'segments': [1, 4], 'weight': 13}),\n",
        " ('86ad2', '29f31', {'segments': [4], 'weight': 5}),\n",
        " ('5afa5', 'b5d7a', {'segments': [1, 4], 'weight': 8}),\n",
        " ('2e163', '4c52e', {'segments': [1, 4], 'weight': 16}),\n",
        " ('2e163', '70e44', {'segments': [1, 4], 'weight': 8}),\n",
        " ('4c52e', '86ad2', {'segments': [1, 4], 'weight': 11}),\n",
        " ('4c52e', '79a44', {'segments': [1, 4], 'weight': 9}),\n",
        " ('4c52e', 'edf16', {'segments': [1, 4], 'weight': 10}),\n",
        " ('edf16', '29f31', {'segments': [1], 'weight': 1})]"
       ]
      }
     ],
     "prompt_number": 23
    },
    {
     "cell_type": "code",
     "collapsed": false,
     "input": [
      "r.condensed_graph.nodes(data=True)"
     ],
     "language": "python",
     "metadata": {},
     "outputs": [
      {
       "metadata": {},
       "output_type": "pyout",
       "prompt_number": 24,
       "text": [
        "[('29f31',\n",
        "  {'creation_time': '8',\n",
        "   'id': '29f3100b2e4a9f3cc771d5ab1c33c00b77abe0756d75410aa6f4b5b25ac3ce243a0d37dd89468e337453b6103b744567a274ecc186a28d3fb0d22c406d69e3c6',\n",
        "   'segment_number': '4',\n",
        "   'sequence_1': 'GGATATAAAGTCATGCCTACGACCAAGCTGGAATTACGCTCCGGCAAGTTTGTTGACTTGAGGGTTGTCGATCGTTAAAACGTTAGAATTGCCTTCCGGAAGCCCGTCGGACGACTCCGCCCTAGGGCGGGGGAACAATTCGCTGACACAGTTTTATTTATGGTCTTAACAATCGCATAACGACTCCCCCGGAGTCCACTGCGAAGGTCTTCAAATTCGCCACTCGGCGCGCGCGCAGTACCACCAGCAAATCCCGTAATGAGGAGCCCATTATTATGGAAAACTCTACCGCGATTTGAAAGGTTCAAACCAGGACCGGGATTGGAACACGCGAAGGGAAGTGAAGGATTGCTCCGTAATTTTACTGGCTCGTACCGCTTAGAATTAAAGCCCTTAAGTTTCGCTGGTGTGGACATGCCCCACCTACGGTCTCTCGTTTAGATCTCGTCGGAAGCTGATTCTGGAGGTAGAAGTGCAAGCTCCGTTGATCGGCTGGTTAGTGACGTGTATATGATAGATATTAGTCTCAGAAGGCGACCTTACACGTGACCCTAATATGTTTATCCCACATAGCCACGACGGCGGAAGAACCGATAGATGCCTACCCCGACTTGTCCATCCGGGGGTCAGTCATCACCAAGCGTAGCGTAGGCGAGCTTACCTCTTGGCGGTCTGTTCCCTCAGAGGTTCATCACCCTTACTCCAGATCACGAATCTATTCGTCTCACATACTATGCCGATAGGGTTTCCCTTCGAACCATCTGCTACTCGGAAGGGTCGGAAAAGACTGGGAGACGAAGTTGAGCTTGTGATTCCCTTAGCCTCTGGGTTTGCCTAGGGTCGTTACCACAAATAAGACAGCAGACATCACTGCATTAACTTGGTCCTTGCGCGTGTGCCTATAAGATACATAGGTAGCATAAAAGAGGCGGACTAACATAGGTGAGGGTGGGACCTGACGAGGACTGTAAAGAATTCGGCCTGAGGCGTTAATCCTCTA',\n",
        "   'sequence_4': 'ATTCTCCCAAATTATTTCGCTCTATATAGCAATGCAGGATGGGTCCAGGTAAATACCACAAGCGTCTGGGTACAGGGACTGTCATACGACCTCCGTGCTTACAGGCAATTTAACCAATCGGCACGTTTGTCAAAATGCAATCCCCATCTAATGACGATCCGCTGTTAGTGGCACGATACGGCGAGTTAATTCTCGAAGAGCGGGATGAGTCCAAGCTTAGGCGAGTAAATGACAGCTAAACTATAACGACGGGGAAGTCACCTGACTTGGAATGCAAATCCGATAACGCGGAGGTTATCAAATTCTAGCCGACAGCGATGCAAATCTAGGTGTTTCTGCCTATTAAACATCTATAAATGACGCTAAAAAGGTGCATCCAAGATTGGTTTGAGGAATTTACAGTGCAACACTGGTATGCTAGCATTCCCACCGTGGATGCACTTTTACCGGCTTGGAGACTACTCTCATCCTCTAGATGTCTCCAGGAATCTTTAGGGGTTTCATTGTGGCCCTAGTTGTCAACTCACACTGGGCAGACATCAATTGGCGAGTGAATAGCAAGTAGTGGTGGTCTCGAGTAGCCCAAATACGCGCATGCTAGAAATCACCCCACCGGGGGGCAAGACACCACTCCAATTTCTCTGACATCCGTTCGCTACACGGGAGTTAGACGTGCTACTGTGTACCGCGATTGCTACGTCGAATAGTTGTCAAGTCCACGTCGCTGTGTCTCCTACATGAGCCATATAGTGATACTCGATGAGTAGGTCCGCAATGCGCTCGTGTCAAAGAAGGAAATCAATAATGGGCGTTTAGGGGGTGACACCGAAAAGTCGTCATTTCCAGGCTCCGAGAACACTTGACAAGTGTGAGTCGCGCCTGTTACTAATCTGTCTCTTCCGCGCCCCTTTTGGGAATCGGACGACGAAGAGGCTCATCTACTCGGTAATAGTTGGTAGAAGAGAGGCATGCACGACCGGCCAAGTCGGAAACACGGTTG'}),\n",
        " ('b5d7a',\n",
        "  {'creation_time': '1',\n",
        "   'id': 'b5d7aa41cf925759a13bf20099f1d3d0b313daef1649b54e46398847a8e1a629874b2c770f3c24feca4f9ecfd30ba5864e0accc663662e0d2334fb7a8df2e69d',\n",
        "   'segment_number': '4',\n",
        "   'sequence_1': 'GGATATAAAGTCATGCCTACGACCAAGCTGGAATTACGCTCCGGCAAGTTTGTTGACTTGAGTGTTGTCGATCGTTAAAACGTTAGAATTGCCTTCCGGAAGCCCGTCGGACGACTCCGCCCTAGGGCGGGGGAACAATTCGCTGACACAGTTTTATTTATGGTCTTAACAATCGCATAACGACTCCCCCGGAGTCCACTGCGAAGGTCTTCAAATTCTCCACTCGGCGCGCGCGCAGTACCACCAGCAAATCACGTAATGAGGAGCCCATTATTATGGAAAACTCTACCGCGATTTGAAAGGTTCAAACCAGGACCGGGATTGGAACACGCGAAGGGAAGTGAAGGATTGCTCCGTAATTTTACTGGCTCGTACCGCTTAGAATTAAAGCCCTTAAGTTTCGCTGGTGTGGACATGCCCCACCTACGGTCTCTCGTTTAGATCTCGTCGGAAACTGATTCTGGAGGTAGAAGTGCAAGCTCCGTTGATCGGCTGGTTAGTGACGTGTATATGATAGATATTAGTCTCAGAAGGCGACCTTACACGTGACCCTCATTTGTTTATCCCACATAGCCACGACGGCGGAAGAACCGATAGATGCCTACCCCGACTTGTCCATCCGGGGGTCAGTCATCACCAAGCGTAGCGTAGGCGAGCTTACCTCTTGGCGGTCTGTTCCCTCAGAGGTTCATCATCCTTACTCCAGATCACGAATCTATTCGTCTCACATACTATGCCGATAGGGTTTCCCTTCGAACCATCTGCTACTCGGAAGGGTCGGAAAAGACTGGGAGACGAAGTTGAGCTTGTGATTCCCTTAGCCTCTGGGTTTGCCTAGGGTCGTTACCACAAATAAGACAGCAGACATCACTGCATTAACTTGGTCCTTGCGCGTGTGCCTATAAGATACATAGGTAGCATAAAAGAGGCGGACTAACATAGGTGAGGGTGGGACCTGACGAGGACTGTAAAGAATTCGGCCTGAGGCGTTAATCCTCTA',\n",
        "   'sequence_4': 'GTTATAGGACCAGATTTTCAGCGTTTTTCGCTTATGGTCGTCCTGGATCATGTGATCACAAGTAAGCCATAAATTTTGCACCAGGCGAAGGTACCCATTCCCCACGCCTAATCCACGCCGGCACGGGATGATAAGCAAGGCGATAGGTAGTGCTGCCAACAGCGGAGCAGTCGAGTGTATAGGAGAGCCATTCTGTACTATCATCTAAGCTATAAGTGTCTATTCAGGGAGTTCCCTACGACTGGTTACGAATACGTAATCAGTGTCTGAGTGAGCACTTGCGGTCGGTTACGGGCAAAGGACCCACGAAATCGTCCTCACAGATTTTTTGTGGGGTGGTAAGGGGCCACAGTCCTGTGGGATGTGGCGACGGGCCGGAGCTGCTGAGATACTATGATTCGTTGCTCCCAGGGTTTCCGCTGCCCCCCGATGACCCAAGAGTGAGGGGCAATATAGTAACCAAGGACAATCACCAAAATGATACCGTGCGCGAATACAATGGGGTATCTTGTGGAGACAAGCATTACGTTTAACGACCATGGTACTAGAGCATTGCTAGGCCACGCGTAACTGCGAGACCCAATATCCTATCTGCCCACCGCCCCTTTCTGTGATATTCCAACCGCGTCGATTCGAGGTGGTTACCCGCCGATAAATACCGCAGGCGTAGTAGTTTAGTATGGCGGGCTGTATCCGGTTCTCTTGAGGGATGCGCTGCGTCAGCTTCCTACTAAGCCGCGCAGGTCCTACTGACAACAGCCTCACTATAGTGCTCGTTAATCCCAGTTCGTCGTGTTCCTCTATGGTTAAGAATGACGAGCTACATGAGTCTATAGGGGAGGCACAGGGGACTTTACTGAGTGTCTAGCTGCAGTTCACAAGCCTATTCTAGAGATTTCGACTCGTCGGATCACGATAGACCTTAAAGCCGCTTTTTTGACTATAACAGCGAACGGATCGTGCCCTCGGTGTTCAATGGATGGATTCGAGATCCTATTCA'}),\n",
        " ('d6589',\n",
        "  {'creation_time': '0',\n",
        "   'id': 'd6589e0a0971b77f1832fa3d180257dd5c95033e56f1de104e70791133b045cbfd441d992a64b168e3549e92a4b08eab39a48bfd0fb90a4f3f3e41099a00d78e',\n",
        "   'segment_number': '4',\n",
        "   'sequence_1': 'GGATATAAAGTCATGCCTACGACCAAGCTGGAATTACGCTCCGGCAAGTTTGTTGACTTGAGTGTTGTCGATCGTTAAAACGTTAGAATTGCCTTCCGGAAGCCCGTCGGACGACTCCGCCCTAGGGCGGGGGAACAATTCGCTGACACAGTTTTATTTATGGTCTTAACAATCGCATAACGACTCCCCCGGAGTCCACTGCGAAGGTCTTCAAATTCTCCACTCGGCGCGCGCGCAGTACCACCAGCAAATCACGTAATGAGGAGCCCATTATTATGGAAAACTCTACCGCGATTTGAAAGGTTCAAACCAGGACCGGGATTGGAACACGCGAAGGGAAGTGAAGGATTGCTCCGTAATTTTACTGGCTCGTACCGCTTAGAATTAAAGCCCTTAAGTTTCGCTGGTGTGGACATGCCCCACCTACGGTCTCTCGTTTAGATCTCGTCGGAAACTGATTCTGGAGGTAGAAGTGCAAGCTCCGTTGATCGGCTGGTTAGTGACGTGTATATGATAGATATTAGTCTCAGAAGGCGACCTTACACGTGACCCTCATTTGTTTATCCCACATAGCCACGACGGCGGAAGAACCGATAGATGCCTACCCCGACTTGTCCATCCGGGGGTCAGTCATCACCAAGCGTAGCGTAGGCGAGCTTACCTCTTGGCGGTCTGTTCCCTCAGAGGTTCATCATCCTTACTCCAGATCACGAATCTATTCGTCTCACATACTATGCCGATAGGGTTTCCCTTCGAACCATCTGCTACTCGGAAGGGTCGGAAAAGACTGGGAGACGAAGTTGAGCTTGTGATTCCCTTAGCCTCTGGGTTTGCCTAGGGTCGTTACCACAAATAAGACAGCAGACATCACTGCATTAACTTGGTCCTTGCGCGTGTGCCTATAAGATACATAGGTAGCATAAAAGAGGCGGACTAACATAGGTGAGGGTGGGACCTGACGAGGACTGTAAAGAATTCGGCCTGAGGCGTTAATCCTCTA',\n",
        "   'sequence_4': 'ATTCTCCCAAATTATTTCGCTCTATATAGCAATGCAGGATGGGTCCAGGTAAATACCACAACCGTCTGGGTACAGGGACTGTCATACGGCCTCCGTGCATTCAGGCAATTTAACCAATCGGCACGTTTGTGAAAATGCACTCCCCATCTAATGACGATCCGCTGTTAGTGGCACGATACGGCGAGTTAATTCTCGAAGAGCGGGATGAATCCAAGCTTAGGCAAGTAAATGACAGCTAAACTGAAACGACGGTGAAGTCACCTGACTTGGAATACAAATCCGATAACGCGGAGGTTATCAAATTCTAGCCGACAGCGATGCAAATCTAGGTGTTTCGGCCTATTAAAAATCTATAAATGACGCTAAATAGGTGCATCCAAGATTGGTTTGAGGAATTTACAGTGCAACACTGGTATGCTAGCATTCCCACCGTGGATGCACTTTCACCGGCTTGGAGACTACTCTCATCCTCTAGATGTCTCCAGGAATCTTTCGGGGTTTCATTGTGGCCCTAGTTGTCCACTCACACTGGGCAGACAACAATTGGCGAGTGGATAGCAAGTAGTGGTGGTCTCGAGTAGCCCAAATACGCGTATGCTAGAAATCACCCCACCGTGGGGCAAGGCACCACTCCAATTTCTCTGACCTCCGTTCGCTACACGGGTGTTAGACGTGCTACTGTGTACCGCGATTGCTACGTCGAATAGTTGTCAAGTCCACGTCGCTGTGTCTCCTACAAGGGCCATATAGTGATACTCGATGAGAAGGTCCGCAATGCACTCGTGTCAAAGAAGGAAATCAATAATGGCCGTTTAGGGTGTGACACCGAAAAGTCGTCATTTCCAGGCTCCGAGAACACTTGACAAGTGTGAGTCGCGCCTGTTACTTATCGGTCTCTTCCGCGCCCCATTCGGGAATCGGACGACGAAGAGGCTCATCTACTCGGTAATAGTTGGTAGAAGAGAGGCATGCACGACCGGCCAAGTCGGAAACACGGTTG'}),\n",
        " ('86ad2',\n",
        "  {'creation_time': '6',\n",
        "   'id': '86ad2ff1625353de4f850770c5aa225f885a3cb807b3b9072ac402bde169a5c900d9365445436e3eb686d43e5b64cb6dd6f2aa4bd4637fb77aea4c2a25ae2985',\n",
        "   'segment_number': '4',\n",
        "   'sequence_1': 'GGATATAAAGTCATGCCTACGACCAAGCTGGAATTACGCTCCGGCAAGTTTGTTGACTTGAGGGTTGTCGATCGATAAAACGTTAGAATTGCCTTCCGGAAGCCCGTCGGACGACTCCGCCCTAGGGCGGGGGAACAATTCGCTGACACAGTTTTATTTATGGTCTTAACAATCGCATAACGACTCCCCCGGAGTCCAGTGCGAAGGTCTTCAAATTCGCCACTCGGCGCGCGCGCAGTACCACCAGCAAATCCCGTAATGAGGAGCCCATTATTATGGAAAACTCTACCGCGATTTGAAAGGTTCAAACCAGGACCGGGATTGGAACACGCGAAGGGAAGTGAAGGATTGCTCCGTAATTTTACTGGCTCGTACCGCTTAGAATTAAAGCCCTTAAGTTTCGCTGGTGTGGACATGCCCCACCTACGGTCTCTCGTTTAGATCTCGTCGGAAGCTGATTCTGGAGGTAGAAGTGCAAGCTCCGTTGATCGGCTGGTTAGTGACGTGTATATGATAGATATTAGTCTCAGAAGGCGACCTTACACGTGACCCTAATTTGTTTATCCCACATAGCCACGACGGCGGAAGAACCGATAGATGCCTACCCCGACTTGTCCATCCGGGGGTCAGTCATCACCAAGCGTAGCGTAGGCGAGCTTACCTCTTGGCGGTCTGTTCCCTCAGAGGTTCATCATCCTTACTCCAGATCACGAATCTATTCGTCTCACATACTATGCCGATAGGGTTTCCCTTCGAACCATCTGCTACTCGGAAGGGTCGGAAAAGACTGGGAGACGAAGTTGAGCTTGTGATTCCCTTAGCCTCTGGGTTTGCCTAGGGTCGTTACCACAAATAAGACAGCAGACATCACTGCATTAACTTGGTCCTTGCGCGTGTGCCTATAAGATACATAGGTAGCATAAAAGAGGCGGACTAACATAGGTGAGGGTGGGACCTGACGAGGACTGTAAAGAATTCGGCCTGAGGCGTTAATCCTCTA',\n",
        "   'sequence_4': 'ATTCTCCCAAATTATTTCGCTCTATATAGCAATGCAGGATGGGTCCAGGTAAATACCACAAGCGTCTGGGTACAGGGACTGTCATACGACCTCCGTGCATACAGGCAATTTAACCAATCGGCACGTTTGTCAAAATGCAATCCCCATCTAATGACGATCCGCTGTTAGTGGCACGATACGGCGAGTTAATTCTCGAAGAGCGGGATGAGTCCAAGCTTAGGCGAGTAAATGACAGCTAAACTATAACGACGGGGAAGTCACCTGACTTGGAATGCAAATCCGATAACGCGGAGGTTATCAAATTCTAGCCGACAGCGATGCAAATCTAGGTGTTTCGGCCTATTAAACATCTATAAATGACGCTAAAAAGGTGCATCCAAGATTGGTTTGAGGAATTTACAGTGCAACACTGGTATGCTAGCATTCCCACCGTGGATGCACTTTTACCGGCTTGGAGACTACTCTCATCCTCTAGATGTCTCCAGGAATCTTTAGGGGTTTCATTGTGGCCCTAGTTGTCAACTCACACTGGGCAGACATCAATTGGCGAGTGGATAGCAAGTAGTGGTGGTCTCGAGTAGCCCAAATACGCGCATGCTAGAAATCACCCCACCGGGGGGCAAGACACCACTCCAATTTCTCTGACATCCGTTCGCTACACGGGAGTTAGACGTGCTACTGTGTACCGCGATTGCTACGTCGAATAGTTGTCAAGTCCACGTCGCTGTGTCTCCTACAAGAGCCATATAGTGATACTCGATGAGTAGGTCCGCAATGCGCTCGTGTCAAAGAAGGAAATCAATAATGGGCGTTTAGGGGGTGACACCGAAAAGTCGTCATTTCCAGGCTCCGAGAACACTTGACAAGTGTGAGTCGCGCCTGTTACTTATCTGTCTCTTCCGCGCCCCTTTTGGGAATCGGACGACGAAGAGGCTCATCTACTCGGTAATAGTTGGTAGAAGAGAGGCATGCACGACCGGCCAAGTCGGAAACACGGTTG'}),\n",
        " ('0296c',\n",
        "  {'creation_time': '5',\n",
        "   'id': '0296c631efd9007f039df97a05607c2c08c91cada274360ca888a2360c2b93bdaa736cc440b1bcb86f708d50f604ac4f8ae9b820efbc60888476f265f1d66323',\n",
        "   'segment_number': '4',\n",
        "   'sequence_1': 'GGATATAAAGTCATGCCTACGACCAAGCTGGAATTACGCTCCGGCAAGTTTGTTGACTTGAGTGTTGTCGACCGTTAAAACGTTAGAATTGCCTTCCGGAAGCCCGTCGGACGACTCCGCCCTAGGGCGGGGGAACAATTCGCTGACACAGTTTTATTTATGGTCTTAACAATCGCATAACGACTCCCCCGGAGTCCACTGCGAAGGTCTTCAAATTCTCCACTCGGCGCGCGCGCAGTACCACCAGCAAATCACGTAATGAGGAGCCCATTATTATGGAAAACTCTACCGCGATTTGAAAGGTTCAAACCAGGACCGGGATTGGAACACGCGAAGGGAAGTGAAGGATTGCTCCGTAATTTTACTGGCTCGTACCGCTTAGAATTAAAGCCCTTAAGTTTCGCTGGTGTGGACATGCCCCACCTACGGTCTCTCGTTTAGATCTCGTCGGAAACTGATTCTGGAGGTAGAAGTGCAAGCTCCGTTGATCGGCTGGTTAGTGACGTGTATATGATAGATATTAGTCTCAGAAGGCGACCTTACACGTGACCCTCATTTGTTTATCCCACATAGCCACGACGGCGGAAGAACCGATAGATGCCTACCCCGACTTGTCCATCCGGGGGTCAGTCATCACCAAGCGTAGCGTAGGCGAGCTTACCTCTGGGCGGTCTGTTCCCTCAGAGGTTCATCATCCTTACTCCAGATCACGAATCTATTCGTCTCACATACTATGCCGATAGGGTTTCCCTTCGAACCATCTGCTACTCGGAAGGGTCGGAAAAGACTGGGAGACGAAGTTGAGCTTGTGATTCCCTTAGCCTCTGGGTTTGCCTAGGGTCGTTACCACAAATAAGACAGCAGACATCACTGCATTAACTTGGTCCTTGCGCGTGTGCCTATAAGATACATAGGTAGCATAAAAGAGGCGGACTAACATAGGTGAGGGTGGGACCTGACGAGGACTGTAAAGAATTCGGCCTGAGGCGTTAATCCTCTA',\n",
        "   'sequence_4': 'GTTATAGGACCAGATTTTCAGCGTTTTTCGCTTATGGTCGTCCTGGATCATGTGATCACAAGTAAGCCATAAATTTTGCACCAGGCGAAGGTACCCATTCCCCACGCCTAATCCACGCCGGCACGGGATGATAAGCAAGGCGATAGGTAGTGCTGCCAACAGCGAAGCTGTCGAGTGTATAGGAGAGCCATTCTGTACTATCATCTAAGCTATAAGTGTCTATTCAGGGAGTTCCCTACGACTGGTTACGAATACGTAATCAGTGTCTGAGTGAGCACTTGCGGTCGGTTACGGGCAAAGGACCCACGAAATCGTCCTCACAGATTTTTTGTGGGGTGCTAAGGGGCCACAGTCCTGTAGGATGTGGCGACGGGCCGGAGCTGCTGAGATACTATGATTCGTTGCTCCCAGTGTTTCCGCTGCCCCCCGATGACCCAAGAGTGAGGGGCAATATAGTAACCAAGGACAATCACCAAGATGATACCGTGCGCGAATACAATGGGGTATCTTGTGGAGACAAGCATTACGTTTAACGACCATGGTACGAGAGCATTGCTAGGCCACGCGTAACTGCGAGACCCAATATCCTATCTGCCCACCGCCCCTCTCTGTGATATTCCAACCGCGTCGATTCGAGGTGGTTACCCGCCGATAAATACCGCAGGCGTAGTAGTTTAGTATGGCGGGCTGTATCCGGTTCTCTTGAGGGATGCGCTGCGTCAGCTTCCTACTAAGCCGCGCAGGTCCTACTGACAACAGCCTCACTATAGTGCTCGTTAATCCCAGTTCGTCGTGTTCCTCTGTGGTTAAGAATGACGAGCAACATGAGTCTATAGGGGAGGCACAGGGGACTTTACTGTGTGTCTAGCTGCAGTTCACAAGCCTATTCTAGAGATTTCGACTCGTCGGATCACGATAGACCTTAAATCCGCTTTTTTGACTATAACAGCGAACGGATCGTGCCCTCGGTGTTCAATGGATGGATTCGAGATCCTATTCA'}),\n",
        " ('5afa5',\n",
        "  {'creation_time': '0',\n",
        "   'id': '5afa5daf700d4a94714e149f49a6f223fe53514160af14ca79b802eb198a3ef833eda4c0942086932e3ae4183a17978209a8c382c75bcaa3eaf4335efdfc5668',\n",
        "   'segment_number': '4',\n",
        "   'sequence_1': 'GGATATAAAGTCATGCCTACGACCAAGCTGGAATTACGCTCCGGCAAGTTTGTTGACTTGAGTGTTGTCGATCGTTAAAACGTTAGAATTGCCTTCCGGAAGCCCGTCGGACGACTCCGCCCTAGGGCGGGGGAACAATTCGCTGACACAGTTTTATTTATGGTCTTAACAATCGCATAACGACTCCCCCGGAGTCCACTGCGAAGGTCTTCAAATTCTCCACTCGGCGCGCGCGCAGTACCACCAGCAAATCACGTAATGAGGAGCCCATTATTATGGAAAACTCTACCGCGATTTGAAAGGTTCAAACCAGGACCGGGATTGGAACACGCGAAGGGAAGTGAAGGATTGCTCCGTAATTTTACTGGCTCGTACCGCTTAGAATTAAAGCCCTTAAGTTTCGCTGGTGTGGACATGCCCCACCTACGGTCTCTCGTTTAGATCTCGTCGGAAACTGATTCTGGAGGTAGAAGTGCAAGCTCCGTTGATCGGCTGGTTAGTGACGTGTATATGATAGATATTAGTCTCAGAAGGCGACCTTACACGTGACCCTCATTTGTTTATCCCACATAGCCACGACGGCGGAAGAACCGATAGATGCCTACCCCGACTTGTCCATCCGGGGGTCAGTCATCACCAAGCGTAGCGTAGGCGAGCTTACCTCTTGGCGGTCTGTTCCCTCAGAGGTTCATCATCCTTACTCCAGATCACGAATCTATTCGTCTCACATACTATGCCGATAGGGTTTCCCTTCGAACCATCTGCTACTCGGAAGGGTCGGAAAAGACTGGGAGACGAAGTTGAGCTTGTGATTCCCTTAGCCTCTGGGTTTGCCTAGGGTCGTTACCACAAATAAGACAGCAGACATCACTGCATTAACTTGGTCCTTGCGCGTGTGCCTATAAGATACATAGGTAGCATAAAAGAGGCGGACTAACATAGGTGAGGGTGGGACCTGACGAGGACTGTAAAGAATTCGGCCTGAGGCGTTAATCCTCTA',\n",
        "   'sequence_4': 'GTTATAGGACCAGATTGTCAGCGTTTTTCGCTTATGGTCGTCCTGGATCATGTGATCACAAGTAAGCCATTAATTTTGCACCAGGCGAAGGTACCCATTCCCCACGCCTAATCCACGCCGGCACGGGATGATAAGCAAGGCGATAGGTAGTGCTGCCAACAGCGGAGCAGTCGAGTGTATAGGAGAGCCATTCTGTACTATCATCTAAGCTATAAGTGTCTATTCAGGGAGTTCCCTACGACTGGTTACGAATACGTAATCAGTGTCTGAGTGAGCACTTGCGGTCGGTTACGGGCAAAGGACCCACGAAATCGTCCTCACAGATTTTTTGTGGGGTGGTAAGGGGCCACAGTCCTGTGGGATGTGGCGACGGGCCGGAGCTGCTGAGATACTATGATTCGTTGCTCCCAGGGTTTCCGCTGCCCCCCGATGACCCAAGAGTGAGGGGCAATATAGTAACCAAGGACAATCACCAAAATGATACCGTGCGCGAATACAATGGGGTATCTGGTGGAGACAAGCATTACGTTTAACGACCATGGTACTATAGCATTGCTAGGCCACGCGTAACTGCGAGACCCAATATCCTATCTGCCCACCGCCCCTTTCTGTGATATTCCAACCGCGTCGATTCGAGGTGGTTACCCGCCGATAAATACCGCAGGCGTAGTAGTTCAGTATGGCGGGCTGTATCCGGTTCTCTTGAGGGATGCGCAGCGTCAGCTTCCTACTAAGCCGCGCAGGTCCTACTGACAACAGCCTCACTATAGTGCTCGTTAATCCCAGTTCCTCGTGTTCCTCTATGGTTAAGAATGACGAGCTACAGGAGTCTATAGGGGAGGCACAGGGGACTTTACTGAGTGTCTAGCTGCAGTTCACAAGCCTATTCTAGAGATTTCGACTCGTCGGATCACGATAGACCTTAAAGCCGCTTTTTTGACTATAACAGCGAACGGATCGTGCCCTCGGTGTTCAATGGATGGATTCGAGATCCTATTCA'}),\n",
        " ('79a44',\n",
        "  {'creation_time': '4',\n",
        "   'id': '79a4444d657026d2980785ada8b4891959413cf6c472378a8be588cb570f9d80b40f9d59caafba78288bcadaf4bd6decfe3467d64a065edf900f383194692a0d',\n",
        "   'segment_number': '4',\n",
        "   'sequence_1': 'GGATATAAAGTCATGCCTACGACCAAGCTGGAATTACGCTCCGGCAAGTTTGTTGACTTGAGGGTTGTCGATCGTTAAAACGTTAGAATTGCCTTCCGGAAGCCCGTCGGACGACTCCGCCCTAGGGCGGGGGAACAATTCGCTGACACAGTTTTATTTATGGTCTTAACAATCGCATAACGACTCCCCCGGAGTCCACTGCGAAGGTCTTCAAATTCGCCACTCGGCGCGCGCGCAGTACCACCAGCAAATCCCGTAATGAGGAGCCCATTATTATGGAAAACTCTACCGCGATTTGAAAGGTTCAAACCAGGACCGGGATTGGAACACGCGAAGGGAAGTGAAGGATTGCTCCGTAATTTTACTGGCTCGTACCGCTTAGAATTAAAGCCCTTAAGTTTCGCTGGTGTGGACATGCCCCACCTACGGTCTCTCGTTTAGATCTCGTCGGAAGCTGATTCTGGAGGTAGAAGTGCAAGCTCCGTTGATCGGCTGGTTAGTGACGTGTATATGATAGATATTAGTCTCAGAAGGCGACCTTACACGTGACCCTAATTTGTTTATCCCACATAGCCACGACGGCGGAAGAACCGATAGATGCCTACCCCGACTTGTCCATCCGGGGGTCAGTCATCACCAAGCGTAGCGTAGGCGAGCTTACCTCTTGGCGGTCTGTTCCCTCAGAGGTTCATCATCCTTACTCCAGATCACGAATCTATTCGTCTCACATACTATGCCGATAGGGTTTCCCTTCGAACCATCTGCTACTCGGAAGGGTCGGAAAAGACTGGGAGACGAAGTTGAGCTTGTGATTCCCTTAGCCTCTGGGTTTGCCTAGGGTCGTTACCACAAATAAGACAGCAGACATCACTGCATTAACTTGGTCCTTGCGCGTGTGCCTATAAGATACATAGGTAGCATAAAAGAGGCGGACTAACATAGGTGAGGGTGGGACCTGACGAGGACTGTAAAGAATTCGGCCTGAGGCGTTAATCCTCTA',\n",
        "   'sequence_4': 'ATTCTCCCAAATTATTTCGCTCTATATAGCAATCCAGGATGGGTCCAGGTAAATACCACAAGCGTCTGGGTACAGGGACTGTCATACGACCTCCGTGCATACAGGCAATTTAACCAATCGGCACGTTTGTGAAAATGCAATCCCCATCTAATGACGATCCGCTGTTAGTGGCATGATACGGCGAGTTAATTCTCGAAGAGCGGGATGAGTCCAAGCTTAGGCAAGTAAATGACAGCTAAACTATAACGACGGTGAAGTCACCTGACTTGGAATGCAAATCCGATAACGCGGAGGTTATCAAATTCTAGCCGACAGCGATGCAAATCTAGGTGTTTCGGCCTATTAAACGTCTATTAATGACGCTAAATAGGTGCATCCAAGATTGGTTTGAGGAATTTACAGTGCAACACTGGTATGCTAGCATTCCCACCGTGGATGCACTTTTACCGGCTTGGAGACTACTCTCATCCTCTAGATGTCTCCAGGAATCTTTAGGGGGTTCATTGTGGCCCTCGTTGTCAACTCACACTGGGCAGACATCAATTGGCGAGTGGATAGCAAGTAGTGGTGGTCTCGAGTAGCCCAAATACGCGCATGCTAGAAATCACCCCACCGGGGGGCAAGGCACCACTCCAATTTCTCTGACATCCGTTCGCTACAGGGGTGTTAGACGTGCTACTGTGTACCGCGATTGCTACGTCGAATAGTTGTCAAGTCCACGTCGCTGTGTCTCCTACAAGCGCCATATAGTGATACTCGATGAGTAGGTCCGCAATGCGCTCGTGTCAAAGAAGGAAATCAATAATGGCCGTTTAGGGGGTGACACCGAAAAGTCGTCATTTCCAGGCTCCGAGAACACTTGACAAGTGTGAGTCGCGCCTGTTACTTATCTGTCTCTTCCGCGCCCCTTTTGGGAATCGGACGACGAAGAGGCTCACCTACTCGGTAATAGTTGGTAGAAGAGAGGCATGCACGACCGGCCAAGTCGGAAACACGGTTG'}),\n",
        " ('70e44',\n",
        "  {'creation_time': '9',\n",
        "   'id': '70e44dfff6cdbcbf08aed4b59b9877169829f4cd0df3722e709511f2bf99dfca46720c750354d0acd9f739ebcc231e7487923d07fcada937176d9005ab15d288',\n",
        "   'segment_number': '4',\n",
        "   'sequence_1': 'GGATATAAAGTCATGCCTACGACCAAGCTGGAATTACGCTCCGGCAAGTTTGTTGACTTGAGGGTTGTGGATCGTTAAAACGTTAGAATTGCCTTCCGGAAGCCCGTCGGACGACTCCGCCCTAGGGCGGGGGAACAATTCGCTGACACAGTTTTATTTATGGTCTTAACAATCGCATAACGACTCCCCCGGAGTCCACTGCGAAGGTCTTCAAATTCTCCACTCGGCGCGCGCGCAGTACCACCAGCAAATCCCGTAATGAGGAGCCCATTATTATGGAAAACTCTACCGCGATTTGAAAGGTTCAAACCAGGACCGGGATTGGAACACGCGAAGGGAAGTGAAGGATTGCTCCGTAATTTTACTGGCTCGTACCGCTTAGAATTAAAGCCCTTAAGTTTCGCTGGTGTGGACATGCCCCACCTACGGTCTCTCGTTTAGATCTCGTCGGAAACTGATTCTGGAGGTAGAAGTGCAAGCTCCGTTGATCGGCTGGTTAGTGACGTGTATATGATAGATATTAGTCTCAGAAGGCGACCTTACACGTGACCCTAATTTGTTTATCCCACATAGCCACGACGGCGGAAGAACCGATAGATGCCTACCCCGACTTGTCCATCCGGGGGTCAGTCATCACCAAGCGTAGCGTAGGCGAGCTTACCTCTTGGCGGTCTGTTCCCTCAGAGGTTCATCATCCTTACTCCAGATCACGAATCTATTCGTCTCACATACTATGCCGATAGGGTTTCCCTTCGAACCATCTGCTACTCGGAAGGGTCGGAAAAGACTGGGAGACGAAGTTGAGCTTGTGATTCCCTTAGCCTCTGGGTTTGCCTAGGGTCGTTACCACAAATAAGACAGCAGACATCACTGCATTAACTTGGTCCTTGCGCGTGTGCCTATAAGATACATAGGTAGCATAAAAGAGGCGGACTAACATAGGTGAGGGTGGGACCTGACGAGGACTGTAAAGAGTTCGGCCTGAGGCGTTAATCCTCTA',\n",
        "   'sequence_4': 'ATTCTCCCAAATTATTTCGCTCTATATAGCAATGCAGGATGGGTCCAGGTAAATACCACAACCGTCTGGGTACAGGGACTGTCATACGGCCTCCGTGCATTCAGGCAATTTAACCAATCGGCACGTTTGTGAAAATGCAATCCCCATCTAATGACGATCCGCTGTTAGTGGCACGATACGGCGAGTTAATTCTCGAAAAGCGGGATGAGTCCAAGCTTAGGCAAGTAAATGACAGCTAAACTGTAACGACGGTGAAGTCACCTGACTTGGAATACAAATCCGATAACGCGGAGGTTATCAAATTCTAGCCAACAGCGATGCAAATCTAGGTGTTTCGGCCTATTAAACATCTATAAATGACGCTAAATAGGTGCATCCAAGATTGGTTTGAGGAATTTACAGTGCAACACTGGTATGCTAGTATTCCCACCGTGGATGCACTTTAACCGGCTTGGAGACTACTCTCATCCTCTAGATGGCTCCAGGAATCTTTAGGGGTTTCATTGTGGCCCTAGTTGTCCACTCACACTGGGCAGACAACAATTGGCGAGTGGATAGCAAGTAGTGGTGGTCTCGAGTAGCCCAAATACGCGTATGCTAGAAATCACCCCACCGGGGGGCAAGGCACCACTCCAATTTCTCTGACCTCCGTTCGCTACACGGGTGTTAGACGTGCTACTGTGTACCGCGATTGCTACGTCGAATAGTTGTCAAGTCCACGTCGCTGTGTCTCCTACAAGGGCCATATAGTGATACTCGATGAGTAGGTCCGCAATGCGCTCGTGTCAAAGAAGGAAATCAATAATGGCCGTTTAGGGTGTGTCACCGAAAAGTCGTCATTTCGAGGCTCCGAGAACACTTGACAAGTGTGAGTCGCGCCTGTTACTTATCTGTCTCTTCCGCGCCCCATTCGGGAATCGGACGACGAAGAGGCTCATCTACTCGGTAATAGTTGGTAGAAGAGAGGCATGCACGACCGGCCAAGTCGGAAACACGGTTG'}),\n",
        " ('2e163',\n",
        "  {'creation_time': '2',\n",
        "   'id': '2e1633780c1f4a3492eb95255cff4c23b7004810ff497442659fdf396bee73b037c81985c31e5e0e59b3857899e0758faf160c81d0603fb3fa6190a36625adab',\n",
        "   'segment_number': '4',\n",
        "   'sequence_1': 'GGATATAAAGTCATGCCTACGACCAAGCTGGAATTACGCTCCGGCAAGTTTGTTGACTTGAGGGTTGTCGATCGTTAAAACGTTAGAATTGCCTTCCGGAAGCCCGTCGGACGACTCCGCCCTAGGGCGGGGGAACAATTCGCTGACACAGTTTTATTTATGGTCTTAACAATCGCATAACGACTCCCCCGGAGTCCACTGCGAAGGTCTTCAAATTCTCCACTCGGCGCGCGCGCAGTACCACCAGCAAATCCCGTAATGAGGAGCCCATTATTATGGAAAACTCTACCGCGATTTGAAAGGTTCAAACCAGGACCGGGATTGGAACACGCGAAGGGAAGTGAAGGATTGCTCCGTAATTTTACTGGCTCGTACCGCTTAGAATTAAAGCCCTTAAGTTTCGCTGGTGTGGACATGCCCCACCTACGGTCTCTCGTTTAGATCTCGTCGGAAACTGATTCTGGAGGTAGAAGTGCAAGCTCCGTTGATCGGCTGGTTAGTGACGTGTATATGATAGATATTAGTCTCAGAAGGCGACCTTACACGTGACCCTAATTTGTTTATCCCACATAGCCACGACGGCGGAAGAACCGATAGATGCCTACCCCGACTTGTCCATCCGGGGGTCAGTCATCACCAAGCGTAGCGTAGGCGAGCTTACCTCTTGGCGGTCTGTTCCCTCAGAGGTTCATCATCCTTACTCCAGATCACGAATCTATTCGTCTCACATACTATGCCGATAGGGTTTCCCTTCGAACCATCTGCTACTCGGAAGGGTCGGAAAAGACTGGGAGACGAAGTTGAGCTTGTGATTCCCTTAGCCTCTGGGTTTGCCTAGGGTCGTTACCACAAATAAGACAGCAGACATCACTGCATTAACTTGGTCCTTGCGCGTGTGCCTATAAGATACATAGGTAGCATAAAAGAGGCGGACTAACATAGGTGAGGGTGGGACCTGACGAGGACTGTAAAGAATTCGGCCTGAGGCGTTAATCCTCTA',\n",
        "   'sequence_4': 'ATTCTCCCAAATTATTTCGCTCTATATAGCAATGCAGGATGGGTCCAGGTAAATACCACAACCGTCTGGGTACAGGGACTGTCATACGGCCTCCGTGCATTCAGGCAATTTAACCAATCGGCACGTTTGTGAAAATGCAATCCCCATCTAATGACGATCCGCTGTTAGTGGCACGATACGGCGAGTTAATTCTCGAAGAGCGGGATGAGTCCAAGCTTAGGCAAGTAAATGACAGCTAAACTGTAACGACGGTGAAGTCACCTGACTTGGAATACAAATCCGATAACGCGGAGGTTATCAAATTCTAGCCGACAGCGATGCAAATCTAGGTGTTTCGGCCTATTAAACATCTATAAATGACGCTAAATAGGTGCATCCAAGATTGGTTTGAGGAATTTACAGTGCAACACTGGTATGCTAGCATTCCCACCGTGGATGCACTTTAACCGGCTTGGAGACTACTCTCATCCTCTAGATGTCTCCAGGAATCTTTAGGGGTTTCATTGTGGCCCTAGTTGTCCACTCACACTGGGCAGACAACAATTGGCGAGTGGATAGCAAGTAGTGGTGGTCTCGAGTAGCCCAAATACGCGTATGCTAGAAATCACCCCACCGGGGGGCAAGGCACCACTCCAATTTCTCTGACCTCCGTTCGCTACACGGGTGTTAGACGTGCTACTGTGTACCGCGATTGCTACGTCGAATAGTTGTCAAGTCCACGTCGCTGTGTCTCCTACAAGGGCCATATAGTGATACTCGATGAGTAGGTCCGCAATGCGCTCGTGTCAAAGAAGGAAATCAATAATGGCCGTTTAGGGTGTGACACCGAAAAGTCGTCATTTCCAGGCTCCGAGAACACTTGACAAGTGTGAGTCGCGCCTGTTACTTATCTGTCTCTTCCGCGCCCCATTCGGGAATCGGACGACGAAGAGGCTCATCTACTCGGTAATAGTTGGTAGAAGAGAGGCATGCACGACCGGCCAAGTCGGAAACACGGTTG'}),\n",
        " ('4c52e',\n",
        "  {'creation_time': '3',\n",
        "   'id': '4c52ecda3bc6548ac80fef072ced355d7c4af8a0f9372b5cf6e6860d944f4f8cfbadb553756b3c237b383ff90d4e838e6f7b7a03702d35f6009132bcf1e03897',\n",
        "   'segment_number': '4',\n",
        "   'sequence_1': 'GGATATAAAGTCATGCCTACGACCAAGCTGGAATTACGCTCCGGCAAGTTTGTTGACTTGAGGGTTGTCGATCGTTAAAACGTTAGAATTGCCTTCCGGAAGCCCGTCGGACGACTCCGCCCTAGGGCGGGGGAACAATTCGCTGACACAGTTTTATTTATGGTCTTAACAATCGCATAACGACTCCCCCGGAGTCCACTGCGAAGGTCTTCAAATTCGCCACTCGGCGCGCGCGCAGTACCACCAGCAAATCCCGTAATGAGGAGCCCATTATTATGGAAAACTCTACCGCGATTTGAAAGGTTCAAACCAGGACCGGGATTGGAACACGCGAAGGGAAGTGAAGGATTGCTCCGTAATTTTACTGGCTCGTACCGCTTAGAATTAAAGCCCTTAAGTTTCGCTGGTGTGGACATGCCCCACCTACGGTCTCTCGTTTAGATCTCGTCGGAAGCTGATTCTGGAGGTAGAAGTGCAAGCTCCGTTGATCGGCTGGTTAGTGACGTGTATATGATAGATATTAGTCTCAGAAGGCGACCTTACACGTGACCCTAATTTGTTTATCCCACATAGCCACGACGGCGGAAGAACCGATAGATGCCTACCCCGACTTGTCCATCCGGGGGTCAGTCATCACCAAGCGTAGCGTAGGCGAGCTTACCTCTTGGCGGTCTGTTCCCTCAGAGGTTCATCATCCTTACTCCAGATCACGAATCTATTCGTCTCACATACTATGCCGATAGGGTTTCCCTTCGAACCATCTGCTACTCGGAAGGGTCGGAAAAGACTGGGAGACGAAGTTGAGCTTGTGATTCCCTTAGCCTCTGGGTTTGCCTAGGGTCGTTACCACAAATAAGACAGCAGACATCACTGCATTAACTTGGTCCTTGCGCGTGTGCCTATAAGATACATAGGTAGCATAAAAGAGGCGGACTAACATAGGTGAGGGTGGGACCTGACGAGGACTGTAAAGAATTCGGCCTGAGGCGTTAATCCTCTA',\n",
        "   'sequence_4': 'ATTCTCCCAAATTATTTCGCTCTATATAGCAATGCAGGATGGGTCCAGGTAAATACCACAAGCGTCTGGGTACAGGGACTGTCATACGACCTCCGTGCATACAGGCAATTTAACCAATCGGCACGTTTGTGAAAATGCAATCCCCATCTAATGACGATCCGCTGTTAGTGGCATGATACGGCGAGTTAATTCTCGAAGAGCGGGATGAGTCCAAGCTTAGGCAAGTAAATGACAGCTAAACTATAACGACGGTGAAGTCACCTGACTTGGAATACAAATCCGATAACGCGGAGGTTATCAAATTCTAGCCGACAGCGATGCAAATCTAGGTGTTTCGGCCTATTAAACATCTATAAATGACGCTAAATAGGTGCATCCAAGATTGGTTTGAGGAATTTACAGTGCAACACTGGTATGCTAGCATTCCCACCGTGGATGCACTTTTACCGGCTTGGAGACTACTCTCATCCTCTAGATGTCTCCAGGAATCTTTAGGGGTTTCATTGTGGCCCTAGTTGTCAACTCACACTGGGCAGACATCAATTGGCGAGTGGATAGCAAGTAGTGGTGGTCTCGAGTAGCCCAAATACGCGCATGCTAGAAATCACCCCACCGGGGGGCAAGGCACCACTCCAATTTCTCTGACATCCGTTCGCTACACGGGTGTTAGACGTGCTACTGTGTACCGCGATTGCTACGTCGAATAGTTGTCAAGTCCACGTCGCTGTGTCTCCTACAAGAGCCATATAGTGATACTCGATGAGTAGGTCCGCAATGCGCTCGTGTCAAAGAAGGAAATCAATAATGGCCGTTTAGGGGGTGACACCGAAAAGTCGTCATTTCCAGGCTCCGAGAACACTTGACAAGTGTGAGTCGCGCCTGTTACTTATCTGTCTCTTCCGCGCCCCTTTTGGGAATCGGACGACGAAGAGGCTCATCTACTCGGTAATAGTTGGTAGAAGAGAGGCATGCACGACCGGCCAAGTCGGAAACACGGTTG'}),\n",
        " ('edf16',\n",
        "  {'creation_time': '7',\n",
        "   'id': 'edf166bf2d4ee19527eef2836924ccc1cac7711a97e00bd455c1542e6976477d7964ff397bbb41c3c416882376f004b0185ae8a891513b808c7d35751c7facd1',\n",
        "   'segment_number': '4',\n",
        "   'sequence_1': 'GGATATAAAGTCATGCCTACGACCAAGCTGGAATTACGCTCCGGCAAGTTTGTTGACTTGAGGGTTGTCGATCGTTAAAACGTTAGAATTGCCTTCCGGAAGCCCGTCGGACGACTCCGCCCTAGGGCGGGGGAACAATTCGCTGACACAGTTTTATTTATGGTCTTAACAATCGCATAACGACTCCCCCGGAGTCCACTGCGAAGGTCTTCAAATTCGCCACTCGGCGCGCGCGCAGTACCACCAGCAAATCCCGTAATGAGGAGCCCATTATTATGGAAAACTCTACCGCGATTTGAAAGGTTCAAACCAGGACCGGGATTGGAACACGCGAAGGGAAGTGAAGGATTGCTCCGTAATTTTACTGGCTCGTACCGCTTAGAATTAAAGCCCTTAAGTTTCGCTGGTGTGGACATGCCCCACCTACGGTCTCTCGTTTAGATCTCGTCGGAAGCTGATTCTGGAGGTAGAAGTGCAAGCTCCGTTGATCGGCTGGTTAGTGACGTGTATATGATAGATATTAGTCTCAGAAGGCGACCTTACACGTGACCCTAATTTGTTTATCCCACATAGCCACGACGGCGGAAGAACCGATAGATGCCTACCCCGACTTGTCCATCCGGGGGTCAGTCATCACCAAGCGTAGCGTAGGCGAGCTTACCTCTTGGCGGTCTGTTCCCTCAGAGGTTCATCACCCTTACTCCAGATCACGAATCTATTCGTCTCACATACTATGCCGATAGGGTTTCCCTTCGAACCATCTGCTACTCGGAAGGGTCGGAAAAGACTGGGAGACGAAGTTGAGCTTGTGATTCCCTTAGCCTCTGGGTTTGCCTAGGGTCGTTACCACAAATAAGACAGCAGACATCACTGCATTAACTTGGTCCTTGCGCGTGTGCCTATAAGATACATAGGTAGCATAAAAGAGGCGGACTAACATAGGTGAGGGTGGGACCTGACGAGGACTGTAAAGAATTCGGCCTGAGGCGTTAATCCTCTA',\n",
        "   'sequence_4': 'ATTCTCCCAAATTATTTCGCTCTATATAGCAATGCAGGATGGGTCCAGGTAAATACCACAAGCGTCTGGGTACAGGGACTGTCATACGACCTCCGTGCATACAGGCAAATTAACCAATCGGCACGTTTGTGAAAATGCAATCCCCATCTAATGACGATCCGCTGTTAGTGGCATGATACGGCGAGTTAATTCTCGAAGCGCGGGATGAGTCCAAGCTTAGGCAAGTAAATGACAGCTAAACTATGACGACGGTGAAGTCACCTGACTTGGAATACAAATCCGATAACGCGGAGGTTATCAAATTCTAGCCGACAGCGATGCAAATCTAGGTATTTCGGCCTATTAAACATCTATAAATGACGCTAAATAGGTGCATCCAAGATTGGTTTGAGGAATTTACAGTGCAACACTGGTATGCTAGCATTCCCACCGTGGATGCACTTTTACCGGCTTGGAGACTACTCTCATCCTCTAGATGTCTCCAGGAATCTTTAGGGGTTTCATTGTGGCCCTAGTTGTCAACTCACACTGGGCAGACATCAATTGGCTAGTGGATAGCAAGTAGTGGTGGTCTCGAGTAGCCCAAATACGCGCATGCTAGAAATCACCCCACCGGGGGGCAAGGCACCACACCAATTTCTCTGACATCCGTTCGCTACACGGGTGTTAGACGTGCTACTGTGTACCGCGATTGCTACGTCGAATAGTTGTCAAGTCCACGTCGCTGTGTCTCCTACAAGAGCCATATAGTGATACTCGATGAGTAGGTCCGCAATGCGCTCGTGTCAAAGAAGGAAATCAATAATGGCCGTTTAGGGGGTGACACCGAAAAGTCGTCATTTTCAGGCTCCGAGAACACTTGACAAGTGTGAGTCGCGCCTGTTACTTATCTGTCTCTTCCGCGCCCCTTTTGGGAATCGGACGACGAAGAGGCTCATCCACTCGGTACTAGTTGGTAGAAGAGAGGCATGCACGACCGGCCAAGTCGGAAACACGGTTG'})]"
       ]
      }
     ],
     "prompt_number": 24
    },
    {
     "cell_type": "code",
     "collapsed": false,
     "input": [
      "# This code is used for drawing.\n",
      "from random import randint\n",
      "\n",
      "randints = []\n",
      "for node in r.condensed_graph.nodes(data=True):\n",
      "    randints.append(randint(1, 20))\n",
      "print randints\n",
      "\n",
      "reconstruction_positions = dict()\n",
      "for i, node in enumerate(sorted(r.condensed_graph.nodes(data=True))):\n",
      "    reconstruction_positions[node[0]] = (int(node[1]['creation_time']), randints[i])\n",
      "    \n",
      "print len(reconstruction_positions)\n",
      "nx.draw(r.condensed_graph, pos=reconstruction_positions)"
     ],
     "language": "python",
     "metadata": {},
     "outputs": [
      {
       "output_type": "stream",
       "stream": "stdout",
       "text": [
        "[9, 19, 3, 10, 20, 7, 4, 19, 3, 10, 1]\n",
        "11\n"
       ]
      },
      {
       "metadata": {},
       "output_type": "display_data",
       "png": "[encoded data removed]",
       "text": [
        "<matplotlib.figure.Figure at 0x10629e690>"
       ]
      }
     ],
     "prompt_number": 25
    },
    {
     "cell_type": "code",
     "collapsed": false,
     "input": [
      "simulation_positions = dict()\n",
      "\n",
      "print randints\n",
      "for i, pathogen in enumerate(s.pathogens):\n",
      "    simulation_positions[pathogen] = reconstruction_positions[str(pathogen)]\n",
      "    \n",
      "print len(simulation_positions)\n",
      "nx.draw(s.transmission_graph, pos=simulation_positions)"
     ],
     "language": "python",
     "metadata": {},
     "outputs": [
      {
       "output_type": "stream",
       "stream": "stdout",
       "text": [
        "[9, 19, 3, 10, 20, 7, 4, 19, 3, 10, 1]\n",
        "11\n"
       ]
      },
      {
       "metadata": {},
       "output_type": "display_data",
       "png": "[encoded data removed]",
       "text": [
        "<matplotlib.figure.Figure at 0x10629bd90>"
       ]
      }
     ],
     "prompt_number": 26
    },
    {
     "cell_type": "code",
     "collapsed": false,
     "input": [
      "s.pathogens[0].parent"
     ],
     "language": "python",
     "metadata": {},
     "outputs": [
      {
       "metadata": {},
       "output_type": "pyout",
       "prompt_number": 27,
       "text": [
        "{}"
       ]
      }
     ],
     "prompt_number": 27
    },
    {
     "cell_type": "code",
     "collapsed": false,
     "input": [
      "r.condensed_graph.edges(data=True)"
     ],
     "language": "python",
     "metadata": {},
     "outputs": [
      {
       "metadata": {},
       "output_type": "pyout",
       "prompt_number": 28,
       "text": [
        "[('b5d7a', '0296c', {'segments': [1, 4], 'weight': 14}),\n",
        " ('d6589', '2e163', {'segments': [1, 4], 'weight': 13}),\n",
        " ('86ad2', '29f31', {'segments': [4], 'weight': 5}),\n",
        " ('5afa5', 'b5d7a', {'segments': [1, 4], 'weight': 8}),\n",
        " ('2e163', '4c52e', {'segments': [1, 4], 'weight': 16}),\n",
        " ('2e163', '70e44', {'segments': [1, 4], 'weight': 8}),\n",
        " ('4c52e', '86ad2', {'segments': [1, 4], 'weight': 11}),\n",
        " ('4c52e', '79a44', {'segments': [1, 4], 'weight': 9}),\n",
        " ('4c52e', 'edf16', {'segments': [1, 4], 'weight': 10}),\n",
        " ('edf16', '29f31', {'segments': [1], 'weight': 1})]"
       ]
      }
     ],
     "prompt_number": 28
    },
    {
     "cell_type": "code",
     "collapsed": false,
     "input": [
      "for virus in s.identify_reassortants():\n",
      "    print virus"
     ],
     "language": "python",
     "metadata": {},
     "outputs": [
      {
       "output_type": "stream",
       "stream": "stdout",
       "text": [
        "edf16\n",
        "29f31\n"
       ]
      }
     ],
     "prompt_number": 29
    },
    {
     "cell_type": "code",
     "collapsed": false,
     "input": [
      "for virus in r.identify_reassortants():\n",
      "    print virus[0]"
     ],
     "language": "python",
     "metadata": {},
     "outputs": [
      {
       "output_type": "stream",
       "stream": "stdout",
       "text": [
        "29f31\n"
       ]
      }
     ],
     "prompt_number": 30
    },
    {
     "cell_type": "code",
     "collapsed": false,
     "input": [
      "s.transmission_graph.edges(data=True)"
     ],
     "language": "python",
     "metadata": {},
     "outputs": [
      {
       "metadata": {},
       "output_type": "pyout",
       "prompt_number": 31,
       "text": [
        "[(b5d7a, 0296c, {'segments': [1, 4], 'weight': 14}),\n",
        " (86ad2, 29f31, {'segments': [4], 'weight': 5}),\n",
        " (4c52e, 79a44, {'segments': [1, 4], 'weight': 9}),\n",
        " (4c52e, edf16, {'segments': [4], 'weight': 9}),\n",
        " (4c52e, 86ad2, {'segments': [1, 4], 'weight': 11}),\n",
        " (5afa5, b5d7a, {'segments': [1, 4], 'weight': 8}),\n",
        " (2e163, 4c52e, {'segments': [1, 4], 'weight': 16}),\n",
        " (2e163, 70e44, {'segments': [1, 4], 'weight': 8}),\n",
        " (edf16, 29f31, {'segments': [1], 'weight': 1}),\n",
        " (79a44, edf16, {'segments': [1], 'weight': 1}),\n",
        " (d6589, 2e163, {'segments': [1, 4], 'weight': 13})]"
       ]
      }
     ],
     "prompt_number": 31
    },
    {
     "cell_type": "markdown",
     "metadata": {},
     "source": [
      "# Test Relabeled Graph"
     ]
    },
    {
     "cell_type": "code",
     "collapsed": false,
     "input": [
      "for pathogen in s.pathogens:\n",
      "    print (str(pathogen), str(pathogen.parent))"
     ],
     "language": "python",
     "metadata": {},
     "outputs": [
      {
       "output_type": "stream",
       "stream": "stdout",
       "text": [
        "('5afa5', '{}')\n",
        "('d6589', '{}')\n",
        "('b5d7a', '{5afa5: [1, 4]}')\n",
        "('2e163', '{d6589: [1, 4]}')\n",
        "('4c52e', '{2e163: [1, 4]}')\n",
        "('79a44', '{4c52e: [1, 4]}')\n",
        "('0296c', '{b5d7a: [1, 4]}')\n",
        "('86ad2', '{4c52e: [1, 4]}')\n",
        "('edf16', '{79a44: [1], 4c52e: [4]}')\n",
        "('29f31', '{86ad2: [4], edf16: [1]}')\n",
        "('70e44', '{2e163: [1, 4]}')\n"
       ]
      }
     ],
     "prompt_number": 32
    },
    {
     "cell_type": "code",
     "collapsed": false,
     "input": [
      "s.relabel_transmission_graph()\n",
      "s.relabeled_transmission_graph.edges(data=True)"
     ],
     "language": "python",
     "metadata": {},
     "outputs": [
      {
       "metadata": {},
       "output_type": "pyout",
       "prompt_number": 33,
       "text": [
        "[('b5d7a', '0296c', {'segments': [1, 4], 'weight': 14}),\n",
        " ('86ad2', '29f31', {'segments': [4], 'weight': 5}),\n",
        " ('d6589', '2e163', {'segments': [1, 4], 'weight': 13}),\n",
        " ('5afa5', 'b5d7a', {'segments': [1, 4], 'weight': 8}),\n",
        " ('79a44', 'edf16', {'segments': [1], 'weight': 1}),\n",
        " ('2e163', '4c52e', {'segments': [1, 4], 'weight': 16}),\n",
        " ('2e163', '70e44', {'segments': [1, 4], 'weight': 8}),\n",
        " ('4c52e', '79a44', {'segments': [1, 4], 'weight': 9}),\n",
        " ('4c52e', '86ad2', {'segments': [1, 4], 'weight': 11}),\n",
        " ('4c52e', 'edf16', {'segments': [4], 'weight': 9}),\n",
        " ('edf16', '29f31', {'segments': [1], 'weight': 1})]"
       ]
      }
     ],
     "prompt_number": 33
    },
    {
     "cell_type": "code",
     "collapsed": false,
     "input": [
      "r.condensed_graph.edges(data=True)"
     ],
     "language": "python",
     "metadata": {},
     "outputs": [
      {
       "metadata": {},
       "output_type": "pyout",
       "prompt_number": 34,
       "text": [
        "[('b5d7a', '0296c', {'segments': [1, 4], 'weight': 14}),\n",
        " ('d6589', '2e163', {'segments': [1, 4], 'weight': 13}),\n",
        " ('86ad2', '29f31', {'segments': [4], 'weight': 5}),\n",
        " ('5afa5', 'b5d7a', {'segments': [1, 4], 'weight': 8}),\n",
        " ('2e163', '4c52e', {'segments': [1, 4], 'weight': 16}),\n",
        " ('2e163', '70e44', {'segments': [1, 4], 'weight': 8}),\n",
        " ('4c52e', '86ad2', {'segments': [1, 4], 'weight': 11}),\n",
        " ('4c52e', '79a44', {'segments': [1, 4], 'weight': 9}),\n",
        " ('4c52e', 'edf16', {'segments': [1, 4], 'weight': 10}),\n",
        " ('edf16', '29f31', {'segments': [1], 'weight': 1})]"
       ]
      }
     ],
     "prompt_number": 34
    },
    {
     "cell_type": "markdown",
     "metadata": {},
     "source": [
      "# Experiment with Accuracy Metrics"
     ]
    },
    {
     "cell_type": "code",
     "collapsed": false,
     "input": [
      "matching_edges = 0\n",
      "total_edges = len(s.relabeled_transmission_graph.edges())\n",
      "for edge in r.condensed_graph.edges(data=True):\n",
      "    if edge in s.relabeled_transmission_graph.edges(data=True):\n",
      "        matching_edges += 1\n",
      "        \n",
      "\n",
      "int(float(matching_edges) / total_edges * 100)"
     ],
     "language": "python",
     "metadata": {},
     "outputs": [
      {
       "metadata": {},
       "output_type": "pyout",
       "prompt_number": 35,
       "text": [
        "81"
       ]
      }
     ],
     "prompt_number": 35
    },
    {
     "cell_type": "code",
     "collapsed": false,
     "input": [
      "# This has been implemented in the prototype functions below.\n",
      "# float(len(r.identify_reassortants()))/float(len(s.identify_reassortants()))"
     ],
     "language": "python",
     "metadata": {},
     "outputs": [],
     "prompt_number": 36
    },
    {
     "cell_type": "code",
     "collapsed": false,
     "input": [
      "# Prototype for the functions.\n",
      "def reassortant_accuracy(simulation, reconstruction):\n",
      "    num_simulation_reassortants = float(len(simulation.identify_reassortants()))\n",
      "    num_reconstruction_reassortants = float(len(reconstruction.identify_reassortants()))\n",
      "    \n",
      "    if num_simulation_reassortants == 0:\n",
      "        return 'No reassortants present in simulation.'\n",
      "    else:\n",
      "        return num_reconstruction_reassortants / num_simulation_reassortants\n",
      "    \n",
      "def transmission_edge_accuracy(simulation, reconstruction):\n",
      "    matching_edges = 0\n",
      "    total_edges = len(simulation.relabeled_transmission_graph.edges())\n",
      "    \n",
      "    for edge in reconstruction.condensed_graph.edges(data=True):\n",
      "        if edge in simulation.relabeled_transmission_graph.edges(data=True):\n",
      "            matching_edges += 1\n",
      "            \n",
      "    return float(matching_edges) / total_edges\n",
      "\n",
      "def transmission_path_accuracy(simulation, reconstruction):\n",
      "    \"\"\"\n",
      "    The accuracy of transmission paths is the number of accurate paths found \n",
      "    divided by the number of paths being considered.\n",
      "    \"\"\"\n",
      "    num_paths = 0\n",
      "    accurate_paths = 0\n",
      "    \n",
      "    for edge in reconstruction.condensed_graph.edges():\n",
      "        if simulation.transmission_path_exists(edge[0], edge[1]):\n",
      "            num_paths += 1\n",
      "            accurate_paths += 1\n",
      "        else:\n",
      "            num_paths += 1\n",
      "    \n",
      "    return float(accurate_paths)/num_paths"
     ],
     "language": "python",
     "metadata": {},
     "outputs": [],
     "prompt_number": 37
    },
    {
     "cell_type": "code",
     "collapsed": false,
     "input": [
      "print s.identify_full_transmission_paths()\n",
      "print reassortant_accuracy(s, r)\n",
      "print transmission_edge_accuracy(s, r)\n",
      "print transmission_path_accuracy(s, r)"
     ],
     "language": "python",
     "metadata": {},
     "outputs": [
      {
       "output_type": "stream",
       "stream": "stdout",
       "text": [
        "[set(['29f31']), set(['edf16']), set(['0296c', 'b5d7a', '5afa5']), set(['79a44', 'd6589', '86ad2', '2e163', '4c52e', '70e44'])]\n",
        "0.5\n",
        "0.818181818182\n",
        "0.7\n"
       ]
      }
     ],
     "prompt_number": 38
    },
    {
     "cell_type": "markdown",
     "metadata": {},
     "source": [
      "# Test path_exists(node1, node2) function"
     ]
    },
    {
     "cell_type": "code",
     "collapsed": false,
     "input": [
      "# 1 July 2014 - API Change so the following path_exist(node1, node2) code does not stand. \n",
      "# Segment number has to be specified in order for it to stand.\n",
      "# s.path_exists('b90bb', '3d39c')"
     ],
     "language": "python",
     "metadata": {},
     "outputs": [],
     "prompt_number": 39
    },
    {
     "cell_type": "code",
     "collapsed": false,
     "input": [
      "s.relabeled_transmission_graph.nodes()"
     ],
     "language": "python",
     "metadata": {},
     "outputs": [
      {
       "metadata": {},
       "output_type": "pyout",
       "prompt_number": 40,
       "text": [
        "['b5d7a',\n",
        " '86ad2',\n",
        " '2e163',\n",
        " '4c52e',\n",
        " '70e44',\n",
        " '29f31',\n",
        " '0296c',\n",
        " 'd6589',\n",
        " '5afa5',\n",
        " '79a44',\n",
        " 'edf16']"
       ]
      }
     ],
     "prompt_number": 40
    },
    {
     "cell_type": "code",
     "collapsed": false,
     "input": [
      "# s.path_exists('2851c', '09001')"
     ],
     "language": "python",
     "metadata": {},
     "outputs": [],
     "prompt_number": 41
    },
    {
     "cell_type": "code",
     "collapsed": false,
     "input": [],
     "language": "python",
     "metadata": {},
     "outputs": [],
     "prompt_number": 41
    }
   ],
   "metadata": {}
  }
 ]
}