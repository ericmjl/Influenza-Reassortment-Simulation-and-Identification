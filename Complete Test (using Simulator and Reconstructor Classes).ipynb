{
 "metadata": {
  "name": "",
  "signature": "sha256:d291bbb3631a799767d8a45b906e5c121a6ebe63a76849df74f4da3e76865a8a"
 },
 "nbformat": 3,
 "nbformat_minor": 0,
 "worksheets": [
  {
   "cells": [
    {
     "cell_type": "code",
     "collapsed": false,
     "input": [
      "from pathogen import Pathogen\n",
      "from segment import Segment\n",
      "from sequence import Sequence\n",
      "from simulator import Simulator"
     ],
     "language": "python",
     "metadata": {},
     "outputs": [],
     "prompt_number": 1
    },
    {
     "cell_type": "code",
     "collapsed": false,
     "input": [
      "# Initialize sequences\n",
      "sequence_PB2 = Sequence(length=1000) #this is representative of segment 1, PB2\n",
      "sequence_H1 = Sequence(length=1000) #this is representative of segment 4, H1\n",
      "sequence_H2 = Sequence(length=1000) #this is representative of segment 4, H2"
     ],
     "language": "python",
     "metadata": {},
     "outputs": [],
     "prompt_number": 2
    },
    {
     "cell_type": "code",
     "collapsed": false,
     "input": [
      "# Initialize segments\n",
      "segment_PB2 = Segment(segment_number=1, substitution_rate=1E-3, sequence=sequence_PB2)\n",
      "segment_H1 = Segment(segment_number=4, substitution_rate=1E-2, sequence=sequence_H1)\n",
      "segment_H2 = Segment(segment_number=4, substitution_rate=1E-2, sequence=sequence_H2)"
     ],
     "language": "python",
     "metadata": {},
     "outputs": [],
     "prompt_number": 3
    },
    {
     "cell_type": "code",
     "collapsed": false,
     "input": [
      "# Add segments to seed viruses\n",
      "virus_H1 = Pathogen(segments=[segment_PB2, segment_H1], creation_time=0, progeny_size=(1.2, 0.5))\n",
      "virus_H2 = Pathogen(segments=[segment_PB2, segment_H2], creation_time=0, progeny_size=(1.2, 0.5))"
     ],
     "language": "python",
     "metadata": {},
     "outputs": [],
     "prompt_number": 4
    },
    {
     "cell_type": "code",
     "collapsed": false,
     "input": [
      "# Subclass the Simulator class for a specific implementation of the increment_timestep() function.\n",
      "from random import random, choice, sample\n",
      "class ViralSimulator(Simulator):\n",
      "    \n",
      "    def increment_timestep(self):\n",
      "        cointoss = random()\n",
      "        threshold = 0.8\n",
      "        \n",
      "        if cointoss <= threshold:\n",
      "            chosen_virus = choice(self.pathogens)\n",
      "            new_virus = chosen_virus.replicate(current_time=self.current_time)\n",
      "            \n",
      "        if cointoss > threshold:\n",
      "            [virus1, virus2] = sample(self.pathogens, 2)\n",
      "            new_virus = virus1.reassort_with(virus2, current_time=self.current_time)\n",
      "        \n",
      "        self.pathogens.append(new_virus)"
     ],
     "language": "python",
     "metadata": {},
     "outputs": [],
     "prompt_number": 5
    },
    {
     "cell_type": "code",
     "collapsed": false,
     "input": [
      "s = ViralSimulator()"
     ],
     "language": "python",
     "metadata": {},
     "outputs": [],
     "prompt_number": 6
    },
    {
     "cell_type": "code",
     "collapsed": false,
     "input": [
      "s.add_pathogens([virus_H1, virus_H2])"
     ],
     "language": "python",
     "metadata": {},
     "outputs": [],
     "prompt_number": 7
    },
    {
     "cell_type": "code",
     "collapsed": false,
     "input": [
      "s.run(timesteps=10)"
     ],
     "language": "python",
     "metadata": {},
     "outputs": [
      {
       "output_type": "stream",
       "stream": "stdout",
       "text": [
        "{37744: [1, 4]}\n",
        "{5e194: [1, 4]}\n",
        "{5e020: [4]}\n",
        "{5e020: [1, 4]}\n",
        "{5e020: [1, 4]}\n",
        "{5e020: [1, 4]}\n",
        "{ec824: [1, 4]}\n",
        "{92782: [1, 4]}\n",
        "{f5611: [4]}\n"
       ]
      }
     ],
     "prompt_number": 8
    },
    {
     "cell_type": "code",
     "collapsed": false,
     "input": [
      "s.write_transmission_graph(outfile_name=\"outfile_test\", folder_name='Network Pickles')"
     ],
     "language": "python",
     "metadata": {},
     "outputs": [],
     "prompt_number": 9
    },
    {
     "cell_type": "code",
     "collapsed": false,
     "input": [
      "s.write_sequences(outfile_name=\"outfile_test\", folder_name='FASTA Files')"
     ],
     "language": "python",
     "metadata": {},
     "outputs": [],
     "prompt_number": 10
    },
    {
     "cell_type": "markdown",
     "metadata": {},
     "source": [
      "# Prototype code for Reconstructor class"
     ]
    },
    {
     "cell_type": "code",
     "collapsed": false,
     "input": [
      "from Bio import SeqIO"
     ],
     "language": "python",
     "metadata": {},
     "outputs": [],
     "prompt_number": 11
    },
    {
     "cell_type": "code",
     "collapsed": false,
     "input": [
      "# Initialize a dictionary that contains all of the sequences, split by segment.\n",
      "sequences_dictionary = dict()\n",
      "sequences_dictionary[1] = []\n",
      "sequences_dictionary[4] = []\n",
      "sequences_dictionary"
     ],
     "language": "python",
     "metadata": {},
     "outputs": [
      {
       "metadata": {},
       "output_type": "pyout",
       "prompt_number": 12,
       "text": [
        "{1: [], 4: []}"
       ]
      }
     ],
     "prompt_number": 12
    },
    {
     "cell_type": "code",
     "collapsed": false,
     "input": [
      "# Read in the sequences\n",
      "sequences = [record for record in SeqIO.parse('FASTA Files/outfile_test.fasta', 'fasta')]\n",
      "sequences"
     ],
     "language": "python",
     "metadata": {},
     "outputs": [
      {
       "metadata": {},
       "output_type": "pyout",
       "prompt_number": 13,
       "text": [
        "[SeqRecord(seq=Seq('CGATATAACTCACCTGGGTGCTGAGACGCCTTTCCCAATCATACTCGCGAACGT...AGT', SingleLetterAlphabet()), id='377441b1b2cb85af499801988bf63082c9ca98a7f1d833882a6fe1065d281c57dd3e8691c5fa324f14e4c5a21c8ad0c7409406123ffc7984a6a67ca8cc4cf28d|1|0', name='377441b1b2cb85af499801988bf63082c9ca98a7f1d833882a6fe1065d281c57dd3e8691c5fa324f14e4c5a21c8ad0c7409406123ffc7984a6a67ca8cc4cf28d|1|0', description='377441b1b2cb85af499801988bf63082c9ca98a7f1d833882a6fe1065d281c57dd3e8691c5fa324f14e4c5a21c8ad0c7409406123ffc7984a6a67ca8cc4cf28d|1|0 <unknown description>', dbxrefs=[]),\n",
        " SeqRecord(seq=Seq('GTCAGCTTAATATAGTTCGGCCACCGGGTTTCGGTCACTAAATCGTTTTGTCGG...TGC', SingleLetterAlphabet()), id='377441b1b2cb85af499801988bf63082c9ca98a7f1d833882a6fe1065d281c57dd3e8691c5fa324f14e4c5a21c8ad0c7409406123ffc7984a6a67ca8cc4cf28d|4|0', name='377441b1b2cb85af499801988bf63082c9ca98a7f1d833882a6fe1065d281c57dd3e8691c5fa324f14e4c5a21c8ad0c7409406123ffc7984a6a67ca8cc4cf28d|4|0', description='377441b1b2cb85af499801988bf63082c9ca98a7f1d833882a6fe1065d281c57dd3e8691c5fa324f14e4c5a21c8ad0c7409406123ffc7984a6a67ca8cc4cf28d|4|0 <unknown description>', dbxrefs=[]),\n",
        " SeqRecord(seq=Seq('CGATATAACTCACCTGGGTGCTGAGACGCCTTTCCCAATCATACTCGCGAACGT...AGT', SingleLetterAlphabet()), id='5e020c8efa17a4ba4dc86a3d62f542013580231f523ce098d19c46f6dc9fc8b01a638872ca481eeab6fb5d731846c02d421dcd1d7ecc0939b363745fb6b637b9|1|0', name='5e020c8efa17a4ba4dc86a3d62f542013580231f523ce098d19c46f6dc9fc8b01a638872ca481eeab6fb5d731846c02d421dcd1d7ecc0939b363745fb6b637b9|1|0', description='5e020c8efa17a4ba4dc86a3d62f542013580231f523ce098d19c46f6dc9fc8b01a638872ca481eeab6fb5d731846c02d421dcd1d7ecc0939b363745fb6b637b9|1|0 <unknown description>', dbxrefs=[]),\n",
        " SeqRecord(seq=Seq('GTGACAATATGTGTTTGTGGTTGCGCGCCGGCCTAATCGCTTTCCGCTGGCCCA...CCT', SingleLetterAlphabet()), id='5e020c8efa17a4ba4dc86a3d62f542013580231f523ce098d19c46f6dc9fc8b01a638872ca481eeab6fb5d731846c02d421dcd1d7ecc0939b363745fb6b637b9|4|0', name='5e020c8efa17a4ba4dc86a3d62f542013580231f523ce098d19c46f6dc9fc8b01a638872ca481eeab6fb5d731846c02d421dcd1d7ecc0939b363745fb6b637b9|4|0', description='5e020c8efa17a4ba4dc86a3d62f542013580231f523ce098d19c46f6dc9fc8b01a638872ca481eeab6fb5d731846c02d421dcd1d7ecc0939b363745fb6b637b9|4|0 <unknown description>', dbxrefs=[]),\n",
        " SeqRecord(seq=Seq('CGATATAACTCACCTGGGTGCTGAGACGCCTTTCCCAATCATACTCGCGAACGT...AGT', SingleLetterAlphabet()), id='5e19472cb173d84ac4d9670fa5a75e97811b0d25b6b67a31ab240368cc762a3f579cd236f774823b349b7110317ae723269862be6312a16b98a6e56729aa00bf|1|1', name='5e19472cb173d84ac4d9670fa5a75e97811b0d25b6b67a31ab240368cc762a3f579cd236f774823b349b7110317ae723269862be6312a16b98a6e56729aa00bf|1|1', description='5e19472cb173d84ac4d9670fa5a75e97811b0d25b6b67a31ab240368cc762a3f579cd236f774823b349b7110317ae723269862be6312a16b98a6e56729aa00bf|1|1 <unknown description>', dbxrefs=[]),\n",
        " SeqRecord(seq=Seq('GTCAGCTTAATATAGTTCGGCCACCGGGTTTGGGTCACTAAATCGTTTCGTCGG...TGC', SingleLetterAlphabet()), id='5e19472cb173d84ac4d9670fa5a75e97811b0d25b6b67a31ab240368cc762a3f579cd236f774823b349b7110317ae723269862be6312a16b98a6e56729aa00bf|4|1', name='5e19472cb173d84ac4d9670fa5a75e97811b0d25b6b67a31ab240368cc762a3f579cd236f774823b349b7110317ae723269862be6312a16b98a6e56729aa00bf|4|1', description='5e19472cb173d84ac4d9670fa5a75e97811b0d25b6b67a31ab240368cc762a3f579cd236f774823b349b7110317ae723269862be6312a16b98a6e56729aa00bf|4|1 <unknown description>', dbxrefs=[]),\n",
        " SeqRecord(seq=Seq('CGATATAACTCACCTGGGTGCTGAGATGCCTTTCCCAATCATACTCGCGAACGT...AGT', SingleLetterAlphabet()), id='a951eee4c572dd4e209c06e451738eae950af9a241a2e9555c5b40f62e87cad7b7368adb9351818837d9f11a66cd3be139844c5ddb10ebd3758aa69405501e39|1|2', name='a951eee4c572dd4e209c06e451738eae950af9a241a2e9555c5b40f62e87cad7b7368adb9351818837d9f11a66cd3be139844c5ddb10ebd3758aa69405501e39|1|2', description='a951eee4c572dd4e209c06e451738eae950af9a241a2e9555c5b40f62e87cad7b7368adb9351818837d9f11a66cd3be139844c5ddb10ebd3758aa69405501e39|1|2 <unknown description>', dbxrefs=[]),\n",
        " SeqRecord(seq=Seq('GTCAGCTTAATATAGTTCGGCCACCGGGTTTGGGTCACTAAATCGTTTCGTCGG...TGC', SingleLetterAlphabet()), id='a951eee4c572dd4e209c06e451738eae950af9a241a2e9555c5b40f62e87cad7b7368adb9351818837d9f11a66cd3be139844c5ddb10ebd3758aa69405501e39|4|2', name='a951eee4c572dd4e209c06e451738eae950af9a241a2e9555c5b40f62e87cad7b7368adb9351818837d9f11a66cd3be139844c5ddb10ebd3758aa69405501e39|4|2', description='a951eee4c572dd4e209c06e451738eae950af9a241a2e9555c5b40f62e87cad7b7368adb9351818837d9f11a66cd3be139844c5ddb10ebd3758aa69405501e39|4|2 <unknown description>', dbxrefs=[]),\n",
        " SeqRecord(seq=Seq('CGATATAACTCACCTGGGTGCTGAGACGCCTTTCCCAATCATACTCGCGAACGT...AGT', SingleLetterAlphabet()), id='f5611410a16e564027d8ac77c6eba05de55581eaeb6581cc71f7abc9bf2d352403430c1573c76a15f2e17a583940ddb06fd1ca07276ae4476d58101e9b26cdcf|1|3', name='f5611410a16e564027d8ac77c6eba05de55581eaeb6581cc71f7abc9bf2d352403430c1573c76a15f2e17a583940ddb06fd1ca07276ae4476d58101e9b26cdcf|1|3', description='f5611410a16e564027d8ac77c6eba05de55581eaeb6581cc71f7abc9bf2d352403430c1573c76a15f2e17a583940ddb06fd1ca07276ae4476d58101e9b26cdcf|1|3 <unknown description>', dbxrefs=[]),\n",
        " SeqRecord(seq=Seq('GTGACAATATGTGTTTGTGGTTGCGCGCCGGCCTAATCGCTTTCCGCTGGCCCA...CCT', SingleLetterAlphabet()), id='f5611410a16e564027d8ac77c6eba05de55581eaeb6581cc71f7abc9bf2d352403430c1573c76a15f2e17a583940ddb06fd1ca07276ae4476d58101e9b26cdcf|4|3', name='f5611410a16e564027d8ac77c6eba05de55581eaeb6581cc71f7abc9bf2d352403430c1573c76a15f2e17a583940ddb06fd1ca07276ae4476d58101e9b26cdcf|4|3', description='f5611410a16e564027d8ac77c6eba05de55581eaeb6581cc71f7abc9bf2d352403430c1573c76a15f2e17a583940ddb06fd1ca07276ae4476d58101e9b26cdcf|4|3 <unknown description>', dbxrefs=[]),\n",
        " SeqRecord(seq=Seq('CGATATAACTCACCTGGGTGCTGAGACGCCTTTCCCAATCATACTCGCGAACGT...AGT', SingleLetterAlphabet()), id='5cdf4957cfe33c4816bdd25ab4e46d99dd9801fd7f26f3c5f247e9a083822779f09a5e4e70f12298a1166b7fb4f64ffd25208340d7cd674e98fdf260a6d35e4b|1|4', name='5cdf4957cfe33c4816bdd25ab4e46d99dd9801fd7f26f3c5f247e9a083822779f09a5e4e70f12298a1166b7fb4f64ffd25208340d7cd674e98fdf260a6d35e4b|1|4', description='5cdf4957cfe33c4816bdd25ab4e46d99dd9801fd7f26f3c5f247e9a083822779f09a5e4e70f12298a1166b7fb4f64ffd25208340d7cd674e98fdf260a6d35e4b|1|4 <unknown description>', dbxrefs=[]),\n",
        " SeqRecord(seq=Seq('GTGACAATATGTTTTTGTGGTTGCGCGCCGGCCTAATCGCTTTCCGCTGGCCCA...CCT', SingleLetterAlphabet()), id='5cdf4957cfe33c4816bdd25ab4e46d99dd9801fd7f26f3c5f247e9a083822779f09a5e4e70f12298a1166b7fb4f64ffd25208340d7cd674e98fdf260a6d35e4b|4|4', name='5cdf4957cfe33c4816bdd25ab4e46d99dd9801fd7f26f3c5f247e9a083822779f09a5e4e70f12298a1166b7fb4f64ffd25208340d7cd674e98fdf260a6d35e4b|4|4', description='5cdf4957cfe33c4816bdd25ab4e46d99dd9801fd7f26f3c5f247e9a083822779f09a5e4e70f12298a1166b7fb4f64ffd25208340d7cd674e98fdf260a6d35e4b|4|4 <unknown description>', dbxrefs=[]),\n",
        " SeqRecord(seq=Seq('CGATATAACTCACCTGGGTGCTGAGACGCCTTTCCCAATCATACTCGCGAACGT...AGT', SingleLetterAlphabet()), id='927826db2251c7468e2033349a995d23ec8bc7deacbfdce91a6e15f1e9696033206ad0dccd17c736e9152f129025c8c5a3ded37671fa427af0f05a0fba6e6d86|1|5', name='927826db2251c7468e2033349a995d23ec8bc7deacbfdce91a6e15f1e9696033206ad0dccd17c736e9152f129025c8c5a3ded37671fa427af0f05a0fba6e6d86|1|5', description='927826db2251c7468e2033349a995d23ec8bc7deacbfdce91a6e15f1e9696033206ad0dccd17c736e9152f129025c8c5a3ded37671fa427af0f05a0fba6e6d86|1|5 <unknown description>', dbxrefs=[]),\n",
        " SeqRecord(seq=Seq('GTGACAATATGTGTTTGTGGTTGCGCGCCGGCCTAATCGCTTTCCGCTGGCCCA...CCT', SingleLetterAlphabet()), id='927826db2251c7468e2033349a995d23ec8bc7deacbfdce91a6e15f1e9696033206ad0dccd17c736e9152f129025c8c5a3ded37671fa427af0f05a0fba6e6d86|4|5', name='927826db2251c7468e2033349a995d23ec8bc7deacbfdce91a6e15f1e9696033206ad0dccd17c736e9152f129025c8c5a3ded37671fa427af0f05a0fba6e6d86|4|5', description='927826db2251c7468e2033349a995d23ec8bc7deacbfdce91a6e15f1e9696033206ad0dccd17c736e9152f129025c8c5a3ded37671fa427af0f05a0fba6e6d86|4|5 <unknown description>', dbxrefs=[]),\n",
        " SeqRecord(seq=Seq('CGATATAACTCACCTGGGTGCTGAGACGCCTTTCCCAATCATACTCGCGAACGT...AGT', SingleLetterAlphabet()), id='ec824e3a3d9e102e6f23185ef0c809f238d32db39ff0d3012ec449bdfed977c5b8a7aeb478c7918cfb9ed8f1139e80f942185dd468a483700c2049914f2b4761|1|6', name='ec824e3a3d9e102e6f23185ef0c809f238d32db39ff0d3012ec449bdfed977c5b8a7aeb478c7918cfb9ed8f1139e80f942185dd468a483700c2049914f2b4761|1|6', description='ec824e3a3d9e102e6f23185ef0c809f238d32db39ff0d3012ec449bdfed977c5b8a7aeb478c7918cfb9ed8f1139e80f942185dd468a483700c2049914f2b4761|1|6 <unknown description>', dbxrefs=[]),\n",
        " SeqRecord(seq=Seq('GTGACAATATGTGTTTGTGGTTGCGCGCCGGCCTAATCGCTTTCCGCTGGCCCA...CCT', SingleLetterAlphabet()), id='ec824e3a3d9e102e6f23185ef0c809f238d32db39ff0d3012ec449bdfed977c5b8a7aeb478c7918cfb9ed8f1139e80f942185dd468a483700c2049914f2b4761|4|6', name='ec824e3a3d9e102e6f23185ef0c809f238d32db39ff0d3012ec449bdfed977c5b8a7aeb478c7918cfb9ed8f1139e80f942185dd468a483700c2049914f2b4761|4|6', description='ec824e3a3d9e102e6f23185ef0c809f238d32db39ff0d3012ec449bdfed977c5b8a7aeb478c7918cfb9ed8f1139e80f942185dd468a483700c2049914f2b4761|4|6 <unknown description>', dbxrefs=[]),\n",
        " SeqRecord(seq=Seq('CGATATAACTCACCTGGGTGCTGAGACGCCTTTCCCAATCATACTCGCGAACGT...AGT', SingleLetterAlphabet()), id='5273ca29f9e2e2d7a8d06c0e6f102b0922e7f9a7e7122ee5ff74c29253889a76b932f5f10877a4b64a2e02603ae441b841cc761b6b01cde9c928a5ed9c9c697c|1|7', name='5273ca29f9e2e2d7a8d06c0e6f102b0922e7f9a7e7122ee5ff74c29253889a76b932f5f10877a4b64a2e02603ae441b841cc761b6b01cde9c928a5ed9c9c697c|1|7', description='5273ca29f9e2e2d7a8d06c0e6f102b0922e7f9a7e7122ee5ff74c29253889a76b932f5f10877a4b64a2e02603ae441b841cc761b6b01cde9c928a5ed9c9c697c|1|7 <unknown description>', dbxrefs=[]),\n",
        " SeqRecord(seq=Seq('GTGACAATATGTGTTTGTGGTTGCGCGCCGGCCTAATCGCTTTCCGCTGGCCCT...CCT', SingleLetterAlphabet()), id='5273ca29f9e2e2d7a8d06c0e6f102b0922e7f9a7e7122ee5ff74c29253889a76b932f5f10877a4b64a2e02603ae441b841cc761b6b01cde9c928a5ed9c9c697c|4|7', name='5273ca29f9e2e2d7a8d06c0e6f102b0922e7f9a7e7122ee5ff74c29253889a76b932f5f10877a4b64a2e02603ae441b841cc761b6b01cde9c928a5ed9c9c697c|4|7', description='5273ca29f9e2e2d7a8d06c0e6f102b0922e7f9a7e7122ee5ff74c29253889a76b932f5f10877a4b64a2e02603ae441b841cc761b6b01cde9c928a5ed9c9c697c|4|7 <unknown description>', dbxrefs=[]),\n",
        " SeqRecord(seq=Seq('CGATATAACTCACCTGGGTGCTGAGACGCCTTTCCCAATCATACTCGCGAACGT...AGT', SingleLetterAlphabet()), id='513fea69c228adf5078580e69c6fcc06c919a0488d87385b300c74966e806623c77cc67ca63c51d0c6ee55069277dba72b28c226c350218872de1cd778acb887|1|8', name='513fea69c228adf5078580e69c6fcc06c919a0488d87385b300c74966e806623c77cc67ca63c51d0c6ee55069277dba72b28c226c350218872de1cd778acb887|1|8', description='513fea69c228adf5078580e69c6fcc06c919a0488d87385b300c74966e806623c77cc67ca63c51d0c6ee55069277dba72b28c226c350218872de1cd778acb887|1|8 <unknown description>', dbxrefs=[]),\n",
        " SeqRecord(seq=Seq('GTGACAATATGTGTTTGTGGTTGCGCGCCGGCCTAATCGCTTTCCGCTGGCCCA...CCT', SingleLetterAlphabet()), id='513fea69c228adf5078580e69c6fcc06c919a0488d87385b300c74966e806623c77cc67ca63c51d0c6ee55069277dba72b28c226c350218872de1cd778acb887|4|8', name='513fea69c228adf5078580e69c6fcc06c919a0488d87385b300c74966e806623c77cc67ca63c51d0c6ee55069277dba72b28c226c350218872de1cd778acb887|4|8', description='513fea69c228adf5078580e69c6fcc06c919a0488d87385b300c74966e806623c77cc67ca63c51d0c6ee55069277dba72b28c226c350218872de1cd778acb887|4|8 <unknown description>', dbxrefs=[]),\n",
        " SeqRecord(seq=Seq('CGATATAACTCACCTGGGTGCTGAGACGCCTTTCCCAATCATACTCGCGAACGT...AGT', SingleLetterAlphabet()), id='68e8cc496db49ea210be57ce3713456b1e9250e7c44aab154d9cd2439745b028291f8ad164d01895bdff776865b8578449880ed5e2b30b521aae8cef8ab27e34|1|9', name='68e8cc496db49ea210be57ce3713456b1e9250e7c44aab154d9cd2439745b028291f8ad164d01895bdff776865b8578449880ed5e2b30b521aae8cef8ab27e34|1|9', description='68e8cc496db49ea210be57ce3713456b1e9250e7c44aab154d9cd2439745b028291f8ad164d01895bdff776865b8578449880ed5e2b30b521aae8cef8ab27e34|1|9 <unknown description>', dbxrefs=[]),\n",
        " SeqRecord(seq=Seq('GTGACAATATGTGTTTGTGGTTGCGCGCCGGCCTAATCGCTTTCCGCTGGCCCA...CCT', SingleLetterAlphabet()), id='68e8cc496db49ea210be57ce3713456b1e9250e7c44aab154d9cd2439745b028291f8ad164d01895bdff776865b8578449880ed5e2b30b521aae8cef8ab27e34|4|9', name='68e8cc496db49ea210be57ce3713456b1e9250e7c44aab154d9cd2439745b028291f8ad164d01895bdff776865b8578449880ed5e2b30b521aae8cef8ab27e34|4|9', description='68e8cc496db49ea210be57ce3713456b1e9250e7c44aab154d9cd2439745b028291f8ad164d01895bdff776865b8578449880ed5e2b30b521aae8cef8ab27e34|4|9 <unknown description>', dbxrefs=[])]"
       ]
      }
     ],
     "prompt_number": 13
    },
    {
     "cell_type": "code",
     "collapsed": false,
     "input": [
      "# Append the sequences to the dictionary.\n",
      "# This can be written into a function.\n",
      "split_char = '|' # The character that will be used to split the SeqRecord.id string\n",
      "pos_segment_num = 1 # The position of the segment number after splitting by the split_char\n",
      "\n",
      "for sequence in sequences:\n",
      "    segment_number = int(sequence.id.split(split_char)[pos_segment_num])\n",
      "    sequences_dictionary[segment_number].append(sequence)\n",
      "\n",
      "# sequences_dictionary"
     ],
     "language": "python",
     "metadata": {},
     "outputs": [],
     "prompt_number": 14
    },
    {
     "cell_type": "code",
     "collapsed": false,
     "input": [
      "# Create a NetworkX graph using one segment's sequences, and add nodes.\n",
      "import networkx as nx\n",
      "\n",
      "G = nx.DiGraph()\n",
      "\n",
      "splitchar = '|'\n",
      "pos_id = 0\n",
      "pos_segment_num = 1\n",
      "pos_creation_time = 2\n",
      "\n",
      "segment_number = 4\n",
      "\n",
      "for sequence in sequences_dictionary[segment_number]:\n",
      "    [isolate_id, segment_num, creation_time] = sequence.id.split(splitchar)\n",
      "    G.add_node(isolate_id[0:5], sequence=sequence.seq, id=isolate_id, segment_num=int(segment_num), creation_time=int(creation_time))\n",
      "\n",
      "# at this point, we would return G, and append it to the dictionary of Graphs available.\n",
      "# G.nodes(data=True)"
     ],
     "language": "python",
     "metadata": {},
     "outputs": [],
     "prompt_number": 15
    },
    {
     "cell_type": "code",
     "collapsed": false,
     "input": [
      "# Add edges to the graph, based on the Levenshtein distance between two sequences.\n",
      "import Levenshtein\n",
      "for node1 in G.nodes(data=True):\n",
      "    for node2 in G.nodes(data=True):\n",
      "        if node1[1]['creation_time'] < node2[1]['creation_time']:\n",
      "            weight = Levenshtein.distance(str(node1[1]['sequence']), str(node2[1]['sequence']))\n",
      "            G.add_edge(node1[0], node2[0], weight=weight)"
     ],
     "language": "python",
     "metadata": {},
     "outputs": [],
     "prompt_number": 16
    },
    {
     "cell_type": "code",
     "collapsed": false,
     "input": [
      "# Prune graph by distance.\n",
      "for node in G.nodes(data=True):\n",
      "    in_edges = G.in_edges(node[0], data=True)\n",
      "#     print in_edges\n",
      "    if len(in_edges) != 0:\n",
      "        min_weight = min([edge[2]['weight'] for edge in in_edges])\n",
      "        print min_weight\n",
      "        print node\n",
      "        for edge in in_edges:\n",
      "            if edge[2]['weight'] != min_weight:\n",
      "                G.remove_edge(edge[0], edge[1])"
     ],
     "language": "python",
     "metadata": {},
     "outputs": [
      {
       "output_type": "stream",
       "stream": "stdout",
       "text": [
        "11\n",
        "('a951e', {'segment_num': 4, 'creation_time': 2, 'id': 'a951eee4c572dd4e209c06e451738eae950af9a241a2e9555c5b40f62e87cad7b7368adb9351818837d9f11a66cd3be139844c5ddb10ebd3758aa69405501e39', 'sequence': Seq('GTCAGCTTAATATAGTTCGGCCACCGGGTTTGGGTCACTAAATCGTTTCGTCGG...TGC', SingleLetterAlphabet())})\n",
        "10\n",
        "('ec824', {'segment_num': 4, 'creation_time': 6, 'id': 'ec824e3a3d9e102e6f23185ef0c809f238d32db39ff0d3012ec449bdfed977c5b8a7aeb478c7918cfb9ed8f1139e80f942185dd468a483700c2049914f2b4761', 'sequence': Seq('GTGACAATATGTGTTTGTGGTTGCGCGCCGGCCTAATCGCTTTCCGCTGGCCCA...CCT', SingleLetterAlphabet())})\n",
        "8\n",
        "('513fe', {'segment_num': 4, 'creation_time': 8, 'id': '513fea69c228adf5078580e69c6fcc06c919a0488d87385b300c74966e806623c77cc67ca63c51d0c6ee55069277dba72b28c226c350218872de1cd778acb887', 'sequence': Seq('GTGACAATATGTGTTTGTGGTTGCGCGCCGGCCTAATCGCTTTCCGCTGGCCCA...CCT', SingleLetterAlphabet())})\n",
        "14\n",
        "('5273c', {'segment_num': 4, 'creation_time': 7, 'id': '5273ca29f9e2e2d7a8d06c0e6f102b0922e7f9a7e7122ee5ff74c29253889a76b932f5f10877a4b64a2e02603ae441b841cc761b6b01cde9c928a5ed9c9c697c', 'sequence': Seq('GTGACAATATGTGTTTGTGGTTGCGCGCCGGCCTAATCGCTTTCCGCTGGCCCT...CCT', SingleLetterAlphabet())})\n",
        "13\n",
        "('5cdf4', {'segment_num': 4, 'creation_time': 4, 'id': '5cdf4957cfe33c4816bdd25ab4e46d99dd9801fd7f26f3c5f247e9a083822779f09a5e4e70f12298a1166b7fb4f64ffd25208340d7cd674e98fdf260a6d35e4b', 'sequence': Seq('GTGACAATATGTTTTTGTGGTTGCGCGCCGGCCTAATCGCTTTCCGCTGGCCCA...CCT', SingleLetterAlphabet())})\n",
        "8\n",
        "('68e8c', {'segment_num': 4, 'creation_time': 9, 'id': '68e8cc496db49ea210be57ce3713456b1e9250e7c44aab154d9cd2439745b028291f8ad164d01895bdff776865b8578449880ed5e2b30b521aae8cef8ab27e34', 'sequence': Seq('GTGACAATATGTGTTTGTGGTTGCGCGCCGGCCTAATCGCTTTCCGCTGGCCCA...CCT', SingleLetterAlphabet())})\n",
        "10\n",
        "('f5611', {'segment_num': 4, 'creation_time': 3, 'id': 'f5611410a16e564027d8ac77c6eba05de55581eaeb6581cc71f7abc9bf2d352403430c1573c76a15f2e17a583940ddb06fd1ca07276ae4476d58101e9b26cdcf', 'sequence': Seq('GTGACAATATGTGTTTGTGGTTGCGCGCCGGCCTAATCGCTTTCCGCTGGCCCA...CCT', SingleLetterAlphabet())})\n",
        "9\n",
        "('5e194', {'segment_num': 4, 'creation_time': 1, 'id': '5e19472cb173d84ac4d9670fa5a75e97811b0d25b6b67a31ab240368cc762a3f579cd236f774823b349b7110317ae723269862be6312a16b98a6e56729aa00bf', 'sequence': Seq('GTCAGCTTAATATAGTTCGGCCACCGGGTTTGGGTCACTAAATCGTTTCGTCGG...TGC', SingleLetterAlphabet())})\n",
        "10\n",
        "('92782', {'segment_num': 4, 'creation_time': 5, 'id': '927826db2251c7468e2033349a995d23ec8bc7deacbfdce91a6e15f1e9696033206ad0dccd17c736e9152f129025c8c5a3ded37671fa427af0f05a0fba6e6d86', 'sequence': Seq('GTGACAATATGTGTTTGTGGTTGCGCGCCGGCCTAATCGCTTTCCGCTGGCCCA...CCT', SingleLetterAlphabet())})\n"
       ]
      }
     ],
     "prompt_number": 17
    },
    {
     "cell_type": "code",
     "collapsed": false,
     "input": [
      "nx.draw_circular(G)"
     ],
     "language": "python",
     "metadata": {},
     "outputs": [
      {
       "metadata": {},
       "output_type": "display_data",
       "png": "[encoded data removed]",
       "text": [
        "<matplotlib.figure.Figure at 0x10620c3d0>"
       ]
      }
     ],
     "prompt_number": 18
    },
    {
     "cell_type": "markdown",
     "metadata": {},
     "source": [
      "# Test Reconstructor Class"
     ]
    },
    {
     "cell_type": "code",
     "collapsed": false,
     "input": [
      "from reconstructor import Reconstructor\n",
      "import networkx as nx"
     ],
     "language": "python",
     "metadata": {},
     "outputs": [],
     "prompt_number": 19
    },
    {
     "cell_type": "code",
     "collapsed": false,
     "input": [
      "r = Reconstructor(segments=[1, 4])\n",
      "print r.sequences\n",
      "print r.graphs"
     ],
     "language": "python",
     "metadata": {},
     "outputs": [
      {
       "output_type": "stream",
       "stream": "stdout",
       "text": [
        "{1: [], 4: []}\n",
        "{1: <networkx.classes.digraph.DiGraph object at 0x10627a410>, 4: <networkx.classes.digraph.DiGraph object at 0x10627a390>}\n"
       ]
      }
     ],
     "prompt_number": 20
    },
    {
     "cell_type": "code",
     "collapsed": false,
     "input": [
      "fasta_file = 'FASTA Files/outfile_test.fasta'\n",
      "r.read_fasta_file(fasta_file)"
     ],
     "language": "python",
     "metadata": {},
     "outputs": [],
     "prompt_number": 21
    },
    {
     "cell_type": "code",
     "collapsed": false,
     "input": [
      "r.add_nodes_with_data()\n",
      "r.add_edges_with_weight()\n",
      "r.prune_graphs_by_weight()\n",
      "r.compose_segment_graphs()\n",
      "r.condense_composed_segment_graphs()\n",
      "r.prune_condensed_graph()"
     ],
     "language": "python",
     "metadata": {},
     "outputs": [],
     "prompt_number": 22
    },
    {
     "cell_type": "code",
     "collapsed": false,
     "input": [
      "r.condensed_graph.edges(data=True)"
     ],
     "language": "python",
     "metadata": {},
     "outputs": [
      {
       "metadata": {},
       "output_type": "pyout",
       "prompt_number": 23,
       "text": [
        "[('ec824', '5273c', {'segments': [1, 4], 'weight': 15}),\n",
        " ('5e020', 'ec824', {'segments': [1, 4], 'weight': 10}),\n",
        " ('5e020', '5cdf4', {'segments': [1, 4], 'weight': 15}),\n",
        " ('5e020', 'f5611', {'segments': [1, 4], 'weight': 11}),\n",
        " ('5e020', '92782', {'segments': [1, 4], 'weight': 12}),\n",
        " ('37744', '5e194', {'segments': [1, 4], 'weight': 9}),\n",
        " ('f5611', '68e8c', {'segments': [1, 4], 'weight': 9}),\n",
        " ('5e194', 'a951e', {'segments': [1, 4], 'weight': 14}),\n",
        " ('92782', '513fe', {'segments': [1, 4], 'weight': 9})]"
       ]
      }
     ],
     "prompt_number": 23
    },
    {
     "cell_type": "code",
     "collapsed": false,
     "input": [
      "r.condensed_graph.nodes(data=True)"
     ],
     "language": "python",
     "metadata": {},
     "outputs": [
      {
       "metadata": {},
       "output_type": "pyout",
       "prompt_number": 24,
       "text": [
        "[('a951e',\n",
        "  {'creation_time': '2',\n",
        "   'id': 'a951eee4c572dd4e209c06e451738eae950af9a241a2e9555c5b40f62e87cad7b7368adb9351818837d9f11a66cd3be139844c5ddb10ebd3758aa69405501e39',\n",
        "   'segment_number': '4',\n",
        "   'sequence_1': 'CGATATAACTCACCTGGGTGCTGAGATGCCTTTCCCAATCATACTCGCGAACGTGGGACTTGTTCCTGATTTCGAGCGGCACTCCTCTGACCTTGCCCGGCGAGAGAGCCAGGGCAATTGCCACGCCTAGGGTGGGCCGGGGCTTTTGGACTACCAGTGTCGTATAGGTTGCATATCTAGGGGAATCAGTTACTAAGCCTTTAATCTAAGTTCGCTTGTGATTCTGGCTACGAGCTTGGTCTTTGGAACTCTAGGCTAAATTATCTGTATGCTAGACGCTGGACGTAAACCCCTGTCCTGGGCACTAACACTTTTGCGGGCGGATAGGAGACCGGGAGAAAGTACCTCAGGGACATCATAGTTTCCTGGCACGGATAAATAAAGCGAATTGGCAGTTGTTCGGGTACCACTTAGATCATTCTATGGTGATATCTCGCTCCCCACGTAAGGGGTCGCTACCGCGTGTGAGTCCCGCGCAGAGCGAGAGGCTAAGAAAAAGTACTAGAACAAATAAGCTCTTGGCTCACTGGCAGCTGTAAGTAAAGATTAGCGTGCACCGGCCCTAACCCCACCAGATGATAAGCGCACTTGCTCTTCTGCCCGGCTGCCCTGTTCCAATAGGCGTGAACGCTCCGTTCTATTTGGGTAAGGGTACTCTGGATTGCCTCCTGAGTCAGCCTTTCCTCGCAGCACCTCCTCATTGACCGCCTCAATCTGTACTTGATGGCTTAGTGGAGATTCACAGCAGATACTCGTTATGGTAGGCGCCAAATAGGGCCTTAGGTTTCGAGTTATGCCGTGGTCGCTAGGGGGGGCGGTCATGTCAAACAAGGGGCTCCAGGATACTCGCAGGGGACCTTTGGGGAGGAGAGATCACCCACATTCCAATCTCTATTAGCGGTACTGCGCTCGCTTTAAGTCCCACGTTCTATCGCGGACAAGGGTGACTCGAGCTCCTTATTCCTCTGACTGTCCCAGTGCTCTATTTACCTTCGACAGT',\n",
        "   'sequence_4': 'GTCAGCTTAATATAGTTCGGCCACCGGGTTTGGGTCACTAAATCGTTTCGTCGGCGTCGGCATCAATCTAGTACTAATACTTGTGGAGAGGAGATGGCAGTAGGCCGCCTGCAAGGAGGGGCCCAGCGGCGATAAACAATCCGCCATGCCCACCGAAAATTGCAAATTTCTCCGCTCGAGGAAGCTCGTCGCGCACAGCGGATTCATATTAGCTACAAATAACGCTCATGATGACCAGATTTTTCCGCATCTCAGTAACCCGAATCACCTGATTCTGGCGATTCCACACACAAGCCCATACTTTTAATTGTGGAAGCCCGGCCTATTTATTGCACACGGGCGGGGCGACGCAGGGACAACGAATTGTAGGCGAGTTCCCAGTAACTTAAGGAGGCGTTATTAGATCCAGGCGCTACTTTTTCTCGAATTATTCATTGCCGTTATCACTACAACGTCATTAGACGCAGGGTACTATCATTCCACCCGCAAAAGCATGAAAGGGCGTCCTCTCTACTCTAGCGTAACCACGAATAGAGGGAGTTCGGTCCGTAACGACTTCTGAACCGAGCTGAATCCAACCCACAATACGAAACCGGCGCATGCATACTGATCTGTCTAGCCTCTACGCATCTCCTGTTGCTTTAGGCCTACTCGCGGGCCTGTGGTATTAGTCAAGTGAGTTTTGACGAGAACCGTCTATCGCACACGCGGAAAGGCCAAGCAGCGTGTTATCTCCACTCTGGCTAATAGATTTTCTCCTCGTCCTAAGATCGACTTGGGCGTCGAGTAGGGGAGTCATCTGTGGAAGGCGATCACCGACTCATCGGGGTGCTGATTTTGAAGTACCCCTCCCAGCAGTAGCCAGACCTCTAGAAAAGTGTCACGCCAGGAGCTACATCCCGACACGTCTACCAACCACATTCGTCTGAAGCGATTACCCATCTCGAGCCGTGCGCTACAGAGTACCGTATGAATTATAGGGTTCGCGCATCTAGGCTGC'}),\n",
        " ('ec824',\n",
        "  {'creation_time': '6',\n",
        "   'id': 'ec824e3a3d9e102e6f23185ef0c809f238d32db39ff0d3012ec449bdfed977c5b8a7aeb478c7918cfb9ed8f1139e80f942185dd468a483700c2049914f2b4761',\n",
        "   'segment_number': '4',\n",
        "   'sequence_1': 'CGATATAACTCACCTGGGTGCTGAGACGCCTTTCCCAATCATACTCGCGAACGTGGGACTTGTTCCTGATTTCGAGCGGCACTCCTCTGACCTTGCCCGGCGAGAGAGCCAGGGCAATTGCCACGCCTAGGGTGGGCCGGGGCTTTTGGACTACCAGTGTCGTATAGGTTGCATATCTAGGGGAATCAGTTACTAAGCCTTTAATCTAAGTTCGCTTGTGATTCTGGCTACGAGCTTGGTCTTTGGAACTCTAGGCTAAATTATCTGTATGCTAGACGCTGGACGTAAACCCCTGTCCTGGGCACTAACACTTTTGCGGGCGGATAGGAGACCGGGAGAAAGTACCTCAGGGACATCATAGTTTCCTGGCACGGATAAATAAAGCGAATTGGCAGTTGTTCGGGTACCACTTAGATCATTCTATGGTGATATCTCGCTCCCCACGTAAGGGATCGCTACCGCGTGTGAGTCCCGCGCAGAGCGAGAGGCTAAGAAAAAGTACTAGAACAAATAAGCTCTTGGCTCACTGGCAGCTGTAAGTAAAGATTAGCGTGCACCGGCCCTAACCCCACCAGATGATAAGCGCACTTGCTCTTCTGCCCGGCTGCCCTGTTCCAATAGGCGTGAACGCTCCGTTCTATTTGGGTAAGGGTACTCTGGATTGCCTCCTGAGTCAGCCTTTCCTCGCAGCACCTCCTCATTGACCGCCTCAATCTGTACTTGATGGCTTAGTGGAGATTCACAGCAGATACTCGTTATGGTAGGCGCCAAATAGGGCCTTAGGTTTCGAGTTATGCCGTGGTCGCTAGGGGGGGCGGTCATGTCAAACAAGGGGCTCCAGGATACTCGCAGGGGCCCTTTGGGGAGGAGAGATCACCCACATTCCAATCTCTATTAGCGGTACTGCGCTCGCTTTAAGTCCCACGTTCTATCGCGGACAAGGGTGACTCGAGCTCCTTATTCCTCTGACTGTCCCAGTGCTCTATTTACCTTCGACAGT',\n",
        "   'sequence_4': 'GTGACAATATGTGTTTGTGGTTGCGCGCCGGCCTAATCGCTTTCCGCTGGCCCAACTCGGGCGCGCCACCTTTTGCAAAGCACCCGTAACACCGGTGTGTCTGCGTCGTTGTTTTACTTGTTCAACGACAGGTCAATCTCCGAGGGATGCAAAGGGCCATGTGGAAATTCACTCGCCCTAAACCGAGGGAACCCGAGACCACCGAAGTGTCGCTAGGCGGACAGCTTACAAAGACCTGGTTGGGCGCCAATTGGTAACTAGAGGTGTACGTGTCGGCACCGGCGTAGGGATATATGAATTGTCAGGAGCCGTCACATCGCTCTGGAGGAACACGCGGTAGAGAGCGCCTCTGGATAAGCCCCAGATCAACCAGTACGAGAGGGGTTTCAATCTAGTGATTCCCGGACTGACCGATTGAGTATCTGGCGGGCAGAACACATGGGACGCACCATTGGGGCCTATTGTGATCCAAAGTATGAAGTGTAATTGTAACTTCAGCCCTTGCACTCACATGCTTCATCGGGGGTTCCATTTTGAGTATTACATTGGGCGCCTAGTGCAATGCCGCGCGAACACGCCGGTGGTATCGGATCAGAGGGTTAGGATGTCGGGCACGTTTAGCACCAAGAAGACGTTGTTTCATTGTTACCGTTCGTGTTGTGTGATATAAACCGTGCATGTGGTTTTTACGCCCTGGGACCAGCCTACTCGCGGACATAACTAAAAGGAAAGGTTTACTACGAGGATCTCAAGCGTCTCTTCGCGCATATGACCGGAAATAGTATCATAACGGGTAAGAAACATTGGTAGATCCGCTAAACTTACTACCGCTGACAGGTGTAGTGCCATAGAAGGGCTCCATCTTAAAACTCCCAAATGTGGAGGATCCGTGAATTGCTGGAATACCACGATCGCCAGGTGAGTTTAAAATGTTCGACAAAGTAGGACTAAGCTACCAATTACCCCGGCTGATTAGAGAGAACCGGAGCCAACAGTACCT'}),\n",
        " ('513fe',\n",
        "  {'creation_time': '8',\n",
        "   'id': '513fea69c228adf5078580e69c6fcc06c919a0488d87385b300c74966e806623c77cc67ca63c51d0c6ee55069277dba72b28c226c350218872de1cd778acb887',\n",
        "   'segment_number': '4',\n",
        "   'sequence_1': 'CGATATAACTCACCTGGGTGCTGAGACGCCTTTCCCAATCATACTCGCGAACGTGGGACTTGTTCCTGATTTCGAGCGGCACTCCTCTGACCTTGCCCGGCGAGAGAGCCAGGGCAATTGCCACGCCTAGGGTGGGCCGGGGCTTTTGGACTACCAGTGTCGTATAGGTTGCATATCTAGGGGAATCAGTTACTAAGCCTTTAATCTAAGTTCGCTTGTGATTCTGGCTACGAGCTTGGTCTTTGGAACTCTAGGCTAAATTATCTGTATGCTAGACGCTGGACGTAAACCCCTGTCCTGGGCACTAACACTATTGCGGGCGGATAGGAGACCGGGAGAAAGTACCTCAGGGACATCATAGTTTCCTGGCACGGATAAATAAAGCGAATTGGCAGTGGTTCGGGTACCACTTAGATCATTCTATGGTGATATCTCGCTCCCCACGTAAGGGATCGCTACCGCGTGTGAGTCCCGCGCAGAGCGAGAGGCTAAGAAAAAGTACTAGAACAAATAAGCTCTTGGCTCACTGGCAGCTGTAAGTAAAGATTAGCGTGCACCGGCCCTAACCCCACCAGATGATAAGCGCACTTGCTCTTCTGCCCGGCTGCCCTGTTCCAATAGGCGTGAACGCTCCGTTCTATTTGGGTAAGGGTACTCTGGATTGCCTCCTGAGTCAGCCTTTCCTCGCAGCACCTCCTCATTGACCGCCTCAATCTGTACTTGATGGCTTAGTGGAGATTCACAGCAGATACTCGTTATGGTAGGCGCCAAATAGGGCCTTAGGTTTCGAGTTATGCCGTGGTCGCTAGGGGGGGCGGTCATGTCAAACAAGGGGCTCCAGGATACTCGCAGGGGCCCTTTGGGGAGGAGAGATCAACCACATTCCAATCTCTATTAGCGGTACTGCGCTCGCTTTAAGTCCCACGTTCTATCGCGGACAAGGGTGACTCGAGCTCCTTATTCCTCTGACTGTCCCAGTGCTCTATTTACCTTCGACAGT',\n",
        "   'sequence_4': 'GTGACAATATGTGTTTGTGGTTGCGCGCCGGCCTAATCGCTTTCCGCTGGCCCAACTCGGGCGCGCCACCTTTTGCAAAACACCCGTAACACCGGTGTGTCTGCGTCGTTGTTTTACTTGTTCAACGACAGGTCAATATCCGAGGGATGCAAAGGGCCATGTGGAGATTCACTCGCCCTAAACCGAGGGAGCCCGAGAGCAACGACGTGTCGCTAGGCGGACAGCTTACAAAGACCTTGTTGGGAGCCAATTGGTAACTAGAGGTGTACGTGTCGGCACCGGCGTAGGGATATATGAATTGTCAGGAGGCGTCACATCGCTCTGGAGGAACACGCGGTAGAGAGCGCCTCTGCATAAGCCGCAGATCAACCAGTACCAGAGGGGTTTCGATCTAGTGATTCCCGGACTGACCGATAGAGTATCTGGCGGGCAGAACACATGGGACGAACCATTGAGGCCTATTGTGATCCAAAGTATGAAGTGTAATTGTAACTTCAGCCCTTGCACTCACATGCTTCATCGGGGGTTCCATTTTGAGTATTACATTGGGCGCCTAGTGCAATGCCGCGCGAACACGCCGGTGGTATCGGATCAGAGGGTTAGGATGTCGGGCACGTTTAGCACCAAGAAGACGTTGTTTCATTGTTACCGTTCGTGTTGTGTGATATAAACCGTGCATGTGGTTTTTACGCCCTGGGACCAGCCTACGCGCGGACATAACTAAAAGGAAAGGCTTACTACGAGGATCTCAAGCGTCTCTTCGCGGATATGACCGGAAATAGTATCATAACGAGTAAGAAACATTGGTAGATCCGCTAAACTTACTACCGCTGACAGGTGTAGTGCCATAGAAGGGCTCCATCTTACAACTCCCAAATGTGGAGGATCCGTGAATTGCTGGAATACCACGATCGCCAGGTGAGTTTAAACTGTTCGACAAAGTAGGACTAAGCTACCAATTACCCCGGCTGATGAGAGAGAAACGGAGCCAGCAGTACCT'}),\n",
        " ('5e020',\n",
        "  {'creation_time': '0',\n",
        "   'id': '5e020c8efa17a4ba4dc86a3d62f542013580231f523ce098d19c46f6dc9fc8b01a638872ca481eeab6fb5d731846c02d421dcd1d7ecc0939b363745fb6b637b9',\n",
        "   'segment_number': '4',\n",
        "   'sequence_1': 'CGATATAACTCACCTGGGTGCTGAGACGCCTTTCCCAATCATACTCGCGAACGTGGGACTTGTTCCTGATTTCGAGCGGCACTCCTCTGACCTTGCCCGGCGAGAGAGCCAGGGCAATTGCCACGCCTAGGGTGGGCCGGGGCTTTTGGACTACCAGTGTCGTATAGGTTGCATATCTAGGGGAATCAGTTACTAAGCCTTTAATCTAAGTTCGCTTGTGATTCTGGCTACGAGCTTGGTCTTTGGAACTCTAGGCTAAATTATCTGTATGCTAGACGCTGGACGTAAACCCCTGTCCTGGGCACTAACACTTTTGCGGGCGGATAGGAGACCGGGAGAAAGTACCTCAGGGACATCATAGTTTCCTGGCACGGATAAATAAAGCGAATTGGCAGTTGTTCGGGTACCACTTAGATCATTCTATGGTGATATCTCGCTCCCCACGTAAGGGATCGCTACCGCGTGTGAGTCCCGCGCAGAGCGAGAGGCTAAGAAAAAGTACTAGAACAAATAAGCTCTTGGCTCACTGGCAGCTGTAAGTAAAGATTAGCGTGCACCGGCCCTAACCCCACCAGATGATAAGCGCACTTGCTCTTCTGCCCGGCTGCCCTGTTCCAATAGGCGTGAACGCTCCGTTCTATTTGGGTAAGGGTACTCTGGATTGCCTCCTGAGTCAGCCTTTCCTCGCAGCACCTCCTCATTGACCGCCTCAATCTGTACTTGATGGCTTAGTGGAGATTCACAGCAGATACTCGTTATGGTAGGCGCCAAATAGGGCCTTAGGTTTCGAGTTATGCCGTGGTCGCTAGGGGGGGCGGTCATGTCAAACAAGGGGCTCCAGGATACTCGCAGGGGCCCTTTGGGGAGGAGAGATCACCCACATTCCAATCTCTATTAGCGGTACTGCGCTCGCTTTAAGTCCCACGTTCTATCGCGGACAAGGGTGACTCGAGCTCCTTATTCCTCTGACTGTCCCAGTGCTCTATTTACCTTCGACAGT',\n",
        "   'sequence_4': 'GTGACAATATGTGTTTGTGGTTGCGCGCCGGCCTAATCGCTTTCCGCTGGCCCAACTCGGGCGCGCCACCTTTTGCAAAGCACCCGTAACACCGGTGTGTCTGCGTCGTTGTTTTACTTGTTCAACGACAGGTCAATCTCCGAGGGATGCAAAGGGCCATGTGGAGATTCACTCGCCCTAAACCGAGGGAACCCGAGAGCAACGACGTGTCGCTAGGCGGACAGCTTACAAAGACCTGGTTGGGAGCCAATTGGTAACTAGAGGTGTACGTGTCGGCACCGGCGTAGGGATATATGAATTGTCAGGAGCCGTCACATCGCTCTGGAGGAACACGCGGTAGAGAGCGCCTCTGGATAAGCCCCAGATCAACCAGTACGAGAGGGGTTTCAATCTAGTGATTCCCGGACTGACCGATAGAGTATCTGGCGGGCAGAACACATGGGACGAACCATTGGGGCCTATTGTGATCCAAAGTATGAAGTGTAATTGTAACTTCAGCCCTTGCACTCACATGCTTCATCGGGGGTTCCATTTTGAGTATTACATTGGGCGCCTAGTGCAATGCCGCGCGAACACGCCGGTGGTATCGGATCAGAGGGTTAGGATGTCGGGCACGTTTAGCACCAAGAAGACGTTGTTTCATTGTTACCGTTCGTGTTGTGTGATATAAACCGTGCATGTGGTTTTTACGCCCTGGGACCAGCCTACTCGCGGACATAACTAAAAGGAAAGGTTTACTACGAGGATCTCAAGCGTCTCTTCGCGCATATGACCGGAAATAGTATCATAACGGGTAAGAAACATTGGTAGATCCGCTAAACTTACTACCGCTGACAGGTGTAGTGCCATAGAAGGGCTCCATCTTAAAACTCCCAAATGTGGAGGATCCGTGAATTGCTGGAATACCACGATCGCCAGGTGAGTTTAAACTGTTCGACAAAGTAGGACTAAGCTACCAATTACCCCGGCTGATTAGAGGGAACCGGAGCCAGCAGTACCT'}),\n",
        " ('5273c',\n",
        "  {'creation_time': '7',\n",
        "   'id': '5273ca29f9e2e2d7a8d06c0e6f102b0922e7f9a7e7122ee5ff74c29253889a76b932f5f10877a4b64a2e02603ae441b841cc761b6b01cde9c928a5ed9c9c697c',\n",
        "   'segment_number': '4',\n",
        "   'sequence_1': 'CGATATAACTCACCTGGGTGCTGAGACGCCTTTCCCAATCATACTCGCGAACGTGGGACTTGTTCCTGATTTCGAGCGGCACTCCTCTGACCTTGCCCGGCGAGAGAGCCAGGGCAATTGCCACGCCTAGGGTGGGCCGGGGCTTTTGGACTACCAGTGTCGTAAAGGTTGCATATCTAGGGGAATCAGTTACTAAGCCTTTAATCTAAGTTCGCTTGTGATTCTGGCTACGAGCTTGGTCTTTGGAACTCTAGGCTAAATTATCTGTATGCTAGACGCTGGACGTAAACCCCTGTCCTGGGCACTAACACTTTTGCGGGCGGATAGGAGACCGGGAGAAAGTACCTCAGGGACATCATAGTTTCCTGGCACGGATAAATAAAGCGAATTGGCAGTTGTTCGGGTACCACTTAGATCATTCTATGGTGATATCTCGCTCCCCACGTAAGGGATCGCTACCGCGTGTGAGTCCCGCGCAGAGCGAGAGGCTAAGAAAAAGTACTAGAACAAATAAGCTCTTGGCTCACTGGCAGCTGTAAGTAAAGATTAGCGTGCACCGGCCCTAACCCCACCAGATGATAAGCGCACTTGCTCTTCTGCCCGGCTGCCCTGTTCCAATAGGCGTGAACGCTCCGTTCTATTTGGGTAAGGGTACTCTGGATTGCCTCCTGAGTCAGCCTTTCCTCGCAGCACCTCCTCATTGACCGCCTCAATCTGTACTTGATGGCTTAGTGGAGATTCACAGCAGATACTCGTTATGGTAGGCGCCAAATAGGGCCTTAGGTTTCGAGTTATGCCGTGGTCGCTAGGGGGGGCGGTCATGTCAAACAAGGGGCTCCAGGATACTCGCAGGGGCCCTTTGGGGAGGAGAGATCACCCACATTCCAATCTCTATTAGCGGTACTGCGCTCGCTTTAAGTCCCACGTTCTATCGCGGACAAGGGTGACTCGAGCTCCTTATTCCTCTGACTGTCCCAGTGCTCTATTTACCTTCGACAGT',\n",
        "   'sequence_4': 'GTGACAATATGTGTTTGTGGTTGCGCGCCGGCCTAATCGCTTTCCGCTGGCCCTACTCGGGCGCGCCACCTTTTGCAAAGCACCCGTAACCCCGGTGTGTCTGCGTCGTTGTTTTACTTGTTCAACGACAGGTCAATCTCCGAGGGATGCAAAGGGCCATGTGGACATTCACTCGCCCTAAACCGAGGGAACCCGAGACCACCGAAGTGTCGCTAGGCGGACAGCTTACAAAGACCTGGTTGGGCGCCAATTGGTAACTAGAGGTGTACGTGTCGGGACCGGCGTAGGGATATATGAATTGTCAGGAGCCGTCACATCGCTCTGGAGGTACACGCGGTAGAGAGCGCCTCTGGATAAGCCCCAGATCTACCAGTACGAGAGGGGTTTCAATCTAGTGATTCCCGGACTGACCGATTGAGTATCTGGCGGGCAGAACACATGGGACGCACCATTGGGGCCTATTGTGATCCAAAGTATGAAGTGTAATTGTAACTTCAGCCCTTGCACTCACATGCTTCATCGGGGGTTCCATTTTGAGAATTACATTGGGCGCCTAGTGCAATGCCGCGCGAACACGCCGGTGGTATCGGATCAGAGGGTTAGGGTGTCGGGCACGTTTAGCACCAACAAGACGTTGTTTCATTGTTACCGTTCGTGTTGTGTGATATTAACCGTGCATATGGTTTTTACGCCCTGGGACCAGCCTACTCGCGGACATAACTAAAAGGAAAGGTTTACTACGAGGATCTCAAGCGTCTCTTCGCGCATATGACCTGAAATAGTATCATAACGGGTAAGAAACATTGGTAGATCCGCTAAACTTACTACCGCTGACAGGTGTAGAGCCATAGAAGGGCTCCATCTTAAAACTCCCAAATGTGGAGGATCCGTGAATTGCTGGAATACCACGATCGCCAGGTGAGTTTAAAATGTTCGACAAAGTAGGACTAAGCTACCAATTACCCAGGCTGATTAGAGAGAACCGGAGCCAACAGTACCT'}),\n",
        " ('5cdf4',\n",
        "  {'creation_time': '4',\n",
        "   'id': '5cdf4957cfe33c4816bdd25ab4e46d99dd9801fd7f26f3c5f247e9a083822779f09a5e4e70f12298a1166b7fb4f64ffd25208340d7cd674e98fdf260a6d35e4b',\n",
        "   'segment_number': '4',\n",
        "   'sequence_1': 'CGATATAACTCACCTGGGTGCTGAGACGCCTTTCCCAATCATACTCGCGAACGTGGGACTTGTTCCTGATTTCGAGCGGCACTCCTCTGACCTTGCCCGGCGAGAGAGCCAGGGCAATTGCCACGCCTAGGGTGGGCCGGGGCTTTTGGACTACAAGTGTCGTATAGGTTGCATATCTAGGGGAATCAGTTACTAAGCCTTTAATCTAAGTTCGCTTGTGATTCTGGCTACGAGCTTGGTCTTTGGAACTCTAGGCTAAATTATCTGTATGCTAGACGCTGGACGTAAACCCCTGTCCTGGGCACTAACACTTTTGCGGGCGGATAGGAGACCGGGAGAAAGTACCTCAGGGACATCATAGTTTCCTGGCACGGATAAATAAAGCGAATTGGCAGTTGTTCGGGTACCACTTAGATCATTCTGTGGTGATATCTCGCTCCCCACGTAAGGGATCGCTACCGCGTGTGAGTCCCGCGCAGAGCGAGAGGCTAAGAAAAAGTACTAGAACAAATAAGCTCTTGGCTCACTGGCAGCTGTAAGTAAAGATTAGCGTGCACCGGCCCTAACCCCACCAGATGATAAGCGCACTTGCTCTTCTGCCCGGCTGCCCTGTTCCAATAGGCGTGAACGCTCCGTTCTATTTGGGTAAGGGTACTCTGGATTGCCTCCTGAGTCAGCCTTTCCTCGCAGCACCTCCTCATTGACCGCCTCAATCTGTACTTGATGGCTTAGTGGAGATTCACAGCAGATACTCGTTATGGTAGGCGCCAAATAGGGCCTTAGGTTTCGAGTTATGCCGTGGTCGCTAGGGGGGGCGGTCATGTCAAACAAGGGGCTCCAGGATACTCGCAGGGGCCCTTTGGGGAGGAGAGATCACCCACATTCCAATCTCTATTAGCGGTACTGCGCTCGCTTTAAGTCCCACGTTCTATCGCGGACAAGGGTGACTCGAGCTCCTTATTCCTCTGACTGTCCCAGTGCTCTATTTACCTTCGACAGT',\n",
        "   'sequence_4': 'GTGACAATATGTTTTTGTGGTTGCGCGCCGGCCTAATCGCTTTCCGCTGGCCCAACTCGGGCGCGCCACCTTTTGCAAAGCACCCGTAACACCGGTGTGTCTGCGTCGTTGTTTTACTTGTTCAACGACAGGTCAATCTCCGAGGGATGCAAAGGGCCATGTGGAGATTCACTCGCCCTAAACCGAGGGAACCCGAGAGCAACGACGTGTCGCTAGGCGGACACCTTACAAAGACCTGGTTGGGAGCCAATTGCTAACTAGAGGTATACGTGTCGGCACCGGCGTCGGGATATATGAATTGTCAGGAGCCGTCACATCGCTCTGGAGGAACACGCGGTAGAGAGCGCCTCTGGATAAGCCCCAGATCAACCAGTACGAGAGGGGTTTCAATCTAGTGATTCCCGGACTGACCGATAGAGTATCTGGCGGGCAGAACACATGGGACGAACCATTGGGGCCTATTGTGATCCAAAGTATGAAGTGTAATTGTAACTTCAGCCCTTGCACTCACATGTTTCATCGGGGGTTCCAATTTGAGTATTACATTGGGCGCCTAGTGCAATGCCGCGCGCACACGCCGGTGGTATCGGATCAGAGGGTTAGGATGTCGGGCACGTTTAGCACCAAGAAGACGTTGTTTCATTGTTACCGTTCGTGTTGTGTGATATAAACCGTGCATGTGGTTTTTACGCCCTGGGACCAGCCTACTCGCGGACATAACTAAAAGGAAACGTTTACTACGAGGATCTCAAGCGTCTCTTCGCGCATATGACCGGAAATAGTATCATAACGGGTGAGAAACATTGGTAGATCCGCTAAACTTACTACCGCTGCCAGGTGTAGTGCCATAGAAGGGCTCCATCTTAAAACTCCCAAATGTGGAGAATCCGTGAATCGCTGGAATACCACGATCGCCAGGTGAGTTTAAACTGTTCGACAAAGTAGGACTAAGCTACCAATTACCCCGGCTGATTAGAGGGAACCGGAGCCAGCAGTACCT'}),\n",
        " ('68e8c',\n",
        "  {'creation_time': '9',\n",
        "   'id': '68e8cc496db49ea210be57ce3713456b1e9250e7c44aab154d9cd2439745b028291f8ad164d01895bdff776865b8578449880ed5e2b30b521aae8cef8ab27e34',\n",
        "   'segment_number': '4',\n",
        "   'sequence_1': 'CGATATAACTCACCTGGGTGCTGAGACGCCTTTCCCAATCATACTCGCGAACGTGGGACTTGTTCCTGATTTCGAGCGGCACTCCTCTGACCTTGCCCGGCGAGAGAGCCAGGGCAATTGCCACGCCTAGGGTGGGCCGGGGCTTTTGGACTACCAGTGTCGTATAGGTTGCATATCTAGGGGAATCAGTTACTAAGCCTTTAATCTAAGTTCGCTTGTGATTCTGGCTACGAGCTTGGTCTTTGGAACTCTAGGCTAAATTATCTGTATGCTAGACGCTGGACGTAAACCCCTGTCCTGGGCACTAACACTTTTGCGGGCGGATAGGAGACCGGGAGAAAGTACCTCAGGGACATCATAGTTTCCTGGCACGGATAAATAAAGCGAATTGGCAGTTGTTCGGGTACCACTTGGATCACTCTATGGTGATATCTCGCTCCCCACGTAAGGGATCGCTACCGCGTGTGAGTCCCGCGCAGAGCGAGAGGCTAAGAAAAAGTACTAGAACAAATAAGCTCTTGGCTCACTGGCAGCTGTAAGTAAAGATTAGCGTGCACCGGCCCTAACCCCACCAGATGATAAGCGCACTTGCTCTTCTGCCCGGCTGCCCTGTTCCAATAGGCGTGAACGCTCCGTTCTATTTGGGTAAGGGTACTCTGGATTGCCTCCTGAGTCAGCCTTTCCTCGCAGCACCTCCTCATTGACCGCCTCAATCTGTACTTGATGGCTTAGTGGAGATTCACAGCAGATACTCGTTATGGTAGGCGCCAAATAGGGCCTTAGGTTTCGAGTTATGCCGTGGTCGCTAGGGGGGGCGGTCATGTCAAACAAGGGGCTCCAGGATACTCGCAGGGGCCCTTTGGGGAGGAGAGATCACCCACATTCCAATCTCTATTAGCGGTACTGCGCTCGCTTTAAGTCCCACGTTCTATCGCGGACAAGGGTGACTCGAGCTCCTTATTCCTCTGACTGTCCCAGTGCTCTATTTACCTTCGACAGT',\n",
        "   'sequence_4': 'GTGACAATATGTGTTTGTGGTTGCGCGCCGGCCTAATCGCTTTCCGCTGGCCCAACTCGGGCGCGTCACCTTTTGCAGAGCACCCGTACCACCGGTGTGTCTGCGTCGTTGTTTTACTTGTTCAACGACGGGTCAATATCCGAGGGAGGCAAACGGCCATGTGGAGATTCACTCGCCCTAAACCGAGGTAACCCGAGAGCAACGACGTGTCGCTAGGCGGACAGCTTACAAAGACCTGGTTGGGAGCCAATTGGTAACTAGAGGTGTACGTGTCGGCACCGGCGTAGGGATATATGAATTGTCAGGAGCCGTCACATCGCTCTGGAGGAACACGCGGTAGAGAGTGCCTCTGGATAAGCCCCAGATCAACCAGTACGAGAGGGGTTTCAATCTAGTGATTCCCGGACTGACCGATAGAGTATCTGGCGGGCAGAACACATGGGACGTACCATTGGGGCCTATTGTGATCCAAAGTATGAAGTGTAATTGTAACTTCAGCCCTTGCACTCACATGCTTCATCGGGGGTTCCATTCTGAGTATTACATTGGGCGCCTAGTGCAATGCCGCGCGAACACGCCGGTGGTATCGGATCAGAGGGTTAGGATGTCGGGCACGTTTAGCACCAAGAAGACGTTGTTTCATTGTTACCGTTCGTGTTGTGTGATATAAACCGTGCATGTGGTTTTTACGCCCTGGGACCAGCCTACTCGCGGACATAACTAACAGGAAAGGTTTACTACGAGGATCTCAAGCGTCACTTCGCGCATATGACCGGAAATAGTATCATAACGGGTAAGAAACATTGGTAGATCCGCTAAACTTACTACCGCTGGCAGGTGTAGTGCCATAGAAGGGCTCCAACTTAAAACTCCCAAATGTGGAGGATCCGTGAATTGCTGGAATACCACGATCGCCAGGTGAGTTGAAACTGTTCGACAAAGTATGACTAAACTACCAATTACCCCGGCTGATTAGAGGGAACCGGAGCCAGCAGTACCT'}),\n",
        " ('37744',\n",
        "  {'creation_time': '0',\n",
        "   'id': '377441b1b2cb85af499801988bf63082c9ca98a7f1d833882a6fe1065d281c57dd3e8691c5fa324f14e4c5a21c8ad0c7409406123ffc7984a6a67ca8cc4cf28d',\n",
        "   'segment_number': '4',\n",
        "   'sequence_1': 'CGATATAACTCACCTGGGTGCTGAGACGCCTTTCCCAATCATACTCGCGAACGTGGGACTTGTTCCTGATTTCGAGCGGCACTCCTCTGACCTTGCCCGGCGAGAGAGCCAGGGCAATTGCCACGCCTAGGGTGGGCCGGGGCTTTTGGACTACCAGTGTCGTATAGGTTGCATATCTAGGGGAATCAGTTACTAAGCCTTTAATCTAAGTTCGCTTGTGATTCTGGCTACGAGCTTGGTCTTTGGAACTCTAGGCTAAATTATCTGTATGCTAGACGCTGGACGTAAACCCCTGTCCTGGGCACTAACACTTTTGCGGGCGGATAGGAGACCGGGAGAAAGTACCTCAGGGACATCATAGTTTCCTGGCACGGATAAATAAAGCGAATTGGCAGTTGTTCGGGTACCACTTAGATCATTCTATGGTGATATCTCGCTCCCCACGTAAGGGATCGCTACCGCGTGTGAGTCCCGCGCAGAGCGAGAGGCTAAGAAAAAGTACTAGAACAAATAAGCTCTTGGCTCACTGGCAGCTGTAAGTAAAGATTAGCGTGCACCGGCCCTAACCCCACCAGATGATAAGCGCACTTGCTCTTCTGCCCGGCTGCCCTGTTCCAATAGGCGTGAACGCTCCGTTCTATTTGGGTAAGGGTACTCTGGATTGCCTCCTGAGTCAGCCTTTCCTCGCAGCACCTCCTCATTGACCGCCTCAATCTGTACTTGATGGCTTAGTGGAGATTCACAGCAGATACTCGTTATGGTAGGCGCCAAATAGGGCCTTAGGTTTCGAGTTATGCCGTGGTCGCTAGGGGGGGCGGTCATGTCAAACAAGGGGCTCCAGGATACTCGCAGGGGCCCTTTGGGGAGGAGAGATCACCCACATTCCAATCTCTATTAGCGGTACTGCGCTCGCTTTAAGTCCCACGTTCTATCGCGGACAAGGGTGACTCGAGCTCCTTATTCCTCTGACTGTCCCAGTGCTCTATTTACCTTCGACAGT',\n",
        "   'sequence_4': 'GTCAGCTTAATATAGTTCGGCCACCGGGTTTCGGTCACTAAATCGTTTTGTCGGCGTCGGCATCAATCTAGGACTAATACTTGTGGAGAGGAGATGGCAGTAGGCCGCTTGCAAGGAGGGGCCCAGCGGCCATAAACAATCCGCCATGCCCACCGAAAATTGCAAATATCTCCGCTCGAGGAAGCTCGTCGCGCACAGCGGACTCATCTTACCTACAAATAACGCTCATGATGACCAGATTTTTCCGCATCTCAGTAACCCGAATCACCTGATTCTGGCGATTCCACACACAAGCCCATACTTTTAATTGTGGAAGCCCGGCCTATGTATTGCACACGGGCGGGGCGACGCAGGGACAACGAATTGTAGGCGAGTTCCCAGTAACTTAAGGAGGCGTTATTAGATCCAGGCGCTACTTTTTCTCGAATTATTCATTGCCGTTATCACTACAACGTCATTAGACTCAGGGTACTATCATTCCACCCGCAAAAGCATGAAAGGGCGTCCTCTCTACTCTAGCGTAACCACGAATAGAGGGAGTTCGGTCCGTGACGACTTCTGAACCGAGCTGAATCCAACCCACAATACGAAACCGGCGCATGCATACTGATCTGTCTAGCCTCTACGCATCTCCTGTTGCTTTAGGCCTACTCGCGGGCCTGTCGTATTAGTCAAGTGAGTTTTGACGAGAACTGTCTATCGCACACGCGGAAAGGCCAAGCAGCGTGTTATCTCCACTCTGGCTAATAGATTTTCTCCTCGTCCTAAGATCGACTTGGGCGTCCAGTAGGGGAGTCATCTGTGGAAGGCGATCACCGACTCATCGGAGTGCTGATTTTGAAGTACCCCTCCCAGCAGTAGCCAGACCTCTAGAAAAGTGTCACGCCAGGAGCTACATCCCGACACGTCTACCAAGCACATTCGTCTGAAGCGATGACCCATCGCGAGCCGTGCGCTACAGAGTACCGTTTGAATTATAGGGTTCGCGCATCTAGGCTGC'}),\n",
        " ('f5611',\n",
        "  {'creation_time': '3',\n",
        "   'id': 'f5611410a16e564027d8ac77c6eba05de55581eaeb6581cc71f7abc9bf2d352403430c1573c76a15f2e17a583940ddb06fd1ca07276ae4476d58101e9b26cdcf',\n",
        "   'segment_number': '4',\n",
        "   'sequence_1': 'CGATATAACTCACCTGGGTGCTGAGACGCCTTTCCCAATCATACTCGCGAACGTGGGACTTGTTCCTGATTTCGAGCGGCACTCCTCTGACCTTGCCCGGCGAGAGAGCCAGGGCAATTGCCACGCCTAGGGTGGGCCGGGGCTTTTGGACTACCAGTGTCGTATAGGTTGCATATCTAGGGGAATCAGTTACTAAGCCTTTAATCTAAGTTCGCTTGTGATTCTGGCTACGAGCTTGGTCTTTGGAACTCTAGGCTAAATTATCTGTATGCTAGACGCTGGACGTAAACCCCTGTCCTGGGCACTAACACTTTTGCGGGCGGATAGGAGACCGGGAGAAAGTACCTCAGGGACATCATAGTTTCCTGGCACGGATAAATAAAGCGAATTGGCAGTTGTTCGGGTACCACTTAGATCACTCTATGGTGATATCTCGCTCCCCACGTAAGGGATCGCTACCGCGTGTGAGTCCCGCGCAGAGCGAGAGGCTAAGAAAAAGTACTAGAACAAATAAGCTCTTGGCTCACTGGCAGCTGTAAGTAAAGATTAGCGTGCACCGGCCCTAACCCCACCAGATGATAAGCGCACTTGCTCTTCTGCCCGGCTGCCCTGTTCCAATAGGCGTGAACGCTCCGTTCTATTTGGGTAAGGGTACTCTGGATTGCCTCCTGAGTCAGCCTTTCCTCGCAGCACCTCCTCATTGACCGCCTCAATCTGTACTTGATGGCTTAGTGGAGATTCACAGCAGATACTCGTTATGGTAGGCGCCAAATAGGGCCTTAGGTTTCGAGTTATGCCGTGGTCGCTAGGGGGGGCGGTCATGTCAAACAAGGGGCTCCAGGATACTCGCAGGGGCCCTTTGGGGAGGAGAGATCACCCACATTCCAATCTCTATTAGCGGTACTGCGCTCGCTTTAAGTCCCACGTTCTATCGCGGACAAGGGTGACTCGAGCTCCTTATTCCTCTGACTGTCCCAGTGCTCTATTTACCTTCGACAGT',\n",
        "   'sequence_4': 'GTGACAATATGTGTTTGTGGTTGCGCGCCGGCCTAATCGCTTTCCGCTGGCCCAACTCGGGCGCGCCACCTTTTGCAGAGCACCCGTAACACCGGTGTGTCTGCGTCGTTGTTTTACTTGTTCAACGACAGGTCAATATCCGAGGGAGGCAAAGGGCCATGTGGAGATTCACTCGCCCTAAACCGAGGTAACCCGAGAGCAACGACGTGTCGCTAGGCGGACAGCTTACAAAGACCTGGTTGGGAGCCAATTGGTAACTAGAGGTGTACGTGTCGGCACCGGCGTAGGGATATATGAATTGTCAGGAGCCGTCACATCGCTCTGGAGGAACACGCGGTAGAGAGTGCCTCTGGATAAGCCCCAGATCAACCAGTACGAGAGGGGTTTCAATCTAGTGATTCCCGGACTGACCGATAGAGTATCTGGCGGGCAGAACACATGGGACGTACCATTGGGGCCTATTGTGATCCAAAGTATGAAGTGTAATTGTAACTTCAGCCCTTGCACTCACATGCTTCATCGGGGGTTCCATTTTGAGTATTACATTGGGCGCCTAGTGCAATGCCGCGCGAACACGCCGGTGGTATCGGATCAGAGGGTTAGGATGTCGGGCACGTTTAGCACCAAGAAGACGTTGTTTCATTGTTACCGTTCGTGTTGTGTGATATAAACCGTGCATGTGGTTTTTACGCCCTGGGACCAGCCTACTCGCGGACATAACTAACAGGAAAGGTTTACTACGAGGATCTCAAGCGTCACTTCGCGCATATGACCGGAAATAGTATCATAACGGGTAAGAAACATTGGTAGATCCGCTAAACTTACTACCGCTGACAGGTGTAGTGCCATAGAAGGGCTCCATCTTAAAACTCCCAAATGTGGAGGATCCGTGAATTGCTGGAATACCACGATCGCCAGGTGAGTTGAAACTGTTCGACAAAGTAGGACTAAACTACCAATTACCCCGGCTGATTAGAGGGAACCGGAGCCAGCAGTACCT'}),\n",
        " ('5e194',\n",
        "  {'creation_time': '1',\n",
        "   'id': '5e19472cb173d84ac4d9670fa5a75e97811b0d25b6b67a31ab240368cc762a3f579cd236f774823b349b7110317ae723269862be6312a16b98a6e56729aa00bf',\n",
        "   'segment_number': '4',\n",
        "   'sequence_1': 'CGATATAACTCACCTGGGTGCTGAGACGCCTTTCCCAATCATACTCGCGAACGTGGGACTTGTTCCTGATTTCGAGCGGCACTCCTCTGACCTTGCCCGGCGAGAGAGCCAGGGCAATTGCCACGCCTAGGGTGGGCCGGGGCTTTTGGACTACCAGTGTCGTATAGGTTGCATATCTAGGGGAATCAGTTACTAAGCCTTTAATCTAAGTTCGCTTGTGATTCTGGCTACGAGCTTGGTCTTTGGAACTCTAGGCTAAATTATCTGTATGCTAGACGCTGGACGTAAACCCCTGTCCTGGGCACTAACACTTTTGCGGGCGGATAGGAGACCGGGAGAAAGTACCTCAGGGACATCATAGTTTCCTGGCACGGATAAATAAAGCGAATTGGCAGTTGTTCGGGTACCACTTAGATCATTCTATGGTGATATCTCGCTCCCCACGTAAGGGATCGCTACCGCGTGTGAGTCCCGCGCAGAGCGAGAGGCTAAGAAAAAGTACTAGAACAAATAAGCTCTTGGCTCACTGGCAGCTGTAAGTAAAGATTAGCGTGCACCGGCCCTAACCCCACCAGATGATAAGCGCACTTGCTCTTCTGCCCGGCTGCCCTGTTCCAATAGGCGTGAACGCTCCGTTCTATTTGGGTAAGGGTACTCTGGATTGCCTCCTGAGTCAGCCTTTCCTCGCAGCACCTCCTCATTGACCGCCTCAATCTGTACTTGATGGCTTAGTGGAGATTCACAGCAGATACTCGTTATGGTAGGCGCCAAATAGGGCCTTAGGTTTCGAGTTATGCCGTGGTCGCTAGGGGGGGCGGTCATGTCAAACAAGGGGCTCCAGGATACTCGCAGGGGCCCTTTGGGGAGGAGAGATCACCCACATTCCAATCTCTATTAGCGGTACTGCGCTCGCTTTAAGTCCCACGTTCTATCGCGGACAAGGGTGACTCGAGCTCCTTATTCCTCTGACTGTCCCAGTGCTCTATTTACCTTCGACAGT',\n",
        "   'sequence_4': 'GTCAGCTTAATATAGTTCGGCCACCGGGTTTGGGTCACTAAATCGTTTCGTCGGCGTCGGCATCAATCTAGGACTAATACTTGTGGAGAGGAGATGGCAGTAGGCCGCTTGCAAGGAGGGGCCCAGCGGCCATAAACAATCCGCCATGCCCACCGAAAATTGCAAATTTCTCCGCTCGAGGAAGCTCGTCGCGCACAGCGGATTCATCTTACCTACAAATAACGCTCATGATGACCAGATTTTTCCGCATCTCAGTAACCCGAATCACCTGATTCTGGCGATTCCACACACAAGCCCATACTTTTAATTGTGGAAGCCCGGCCTATGTATTGCACACGGGCGGGGCGACGCAGGGACAACGAATTGTAGGCGAGTTCCCAGTAACTTAAGGAGGCGTTATTAGATCCAGGCGCTACTTTTTCTCGAATTATTCATTGCCGTTATCACTACAACGTCATTAGACTCAGGGTACTATCATTCCACCCGCAAAAGCATGAAAGGGCGTCCTCTCTACTCTAGCGTAACCACGAATAGAGGGAGTTCGGTCCGTAACGACTTCTGAACCGAGCTGAATCCAACCCACAATACGAAACCGGCGCATGCATACTGATCTGTCTAGCCTCTACGCATCTCCTGTTGCTTTAGGCCTACTCGCGGGCCTGTGGTATTAGTCAAGTGAGTTTTGACGAGAACTGTCTATCGCACACGCGGAAAGGCCAAGCAGCGTGTTATCTCCACTCTGGCTAATAGATTTTCTCCTCGTCCTAAGATCGACTTGGGCGTCCAGTAGGGGAGTCATCTGTGGAAGGCGATCACCGACTCATCGGGGTGCTGATTTTGAAGTACCCCTCCCAGCAGTAGCCAGACCTCTAGAAAAGTGTCACGCCAGGAGCTACATCCCGACACGTCTACCAACCACATTCGTCTGAAGCGATGACCCATCGCGAGCCGTGCGCTACAGAGTACCGTATGAATTATAGGGTTCGCGCATCTAGGCTGC'}),\n",
        " ('92782',\n",
        "  {'creation_time': '5',\n",
        "   'id': '927826db2251c7468e2033349a995d23ec8bc7deacbfdce91a6e15f1e9696033206ad0dccd17c736e9152f129025c8c5a3ded37671fa427af0f05a0fba6e6d86',\n",
        "   'segment_number': '4',\n",
        "   'sequence_1': 'CGATATAACTCACCTGGGTGCTGAGACGCCTTTCCCAATCATACTCGCGAACGTGGGACTTGTTCCTGATTTCGAGCGGCACTCCTCTGACCTTGCCCGGCGAGAGAGCCAGGGCAATTGCCACGCCTAGGGTGGGCCGGGGCTTTTGGACTACCAGTGTCGTATAGGTTGCATATCTAGGGGAATCAGTTACTAAGCCTTTAATCTAAGTTCGCTTGTGATTCTGGCTACGAGCTTGGTCTTTGGAACTCTAGGCTAAATTATCTGTATGCTAGACGCTGGACGTAAACCCCTGTCCTGGGCACTAACACTTTTGCGGGCGGATAGGAGACCGGGAGAAAGTACCTCAGGGACATCATAGTTTCCTGGCACGGATAAATAAAGCGAATTGGCAGTGGTTCGGGTACCACTTAGATCATTCTATGGTGATATCTCGCTCCCCACGTAAGGGATCGCTACCGCGTGTGAGTCCCGCGCAGAGCGAGAGGCTAAGAAAAAGTACTAGAACAAATAAGCTCTTGGCTCACTGGCAGCTGTAAGTAAAGATTAGCGTGCACCGGCCCTAACCCCACCAGATGATAAGCGCACTTGCTCTTCTGCCCGGCTGCCCTGTTCCAATAGGCGTGAACGCTCCGTTCTATTTGGGTAAGGGTACTCTGGATTGCCTCCTGAGTCAGCCTTTCCTCGCAGCACCTCCTCATTGACCGCCTCAATCTGTACTTGATGGCTTAGTGGAGATTCACAGCAGATACTCGTTATGGTAGGCGCCAAATAGGGCCTTAGGTTTCGAGTTATGCCGTGGTCGCTAGGGGGGGCGGTCATGTCAAACAAGGGGCTCCAGGATACTCGCAGGGGCCCTTTGGGGAGGAGAGATCAACCACATTCCAATCTCTATTAGCGGTACTGCGCTCGCTTTAAGTCCCACGTTCTATCGCGGACAAGGGTGACTCGAGCTCCTTATTCCTCTGACTGTCCCAGTGCTCTATTTACCTTCGACAGT',\n",
        "   'sequence_4': 'GTGACAATATGTGTTTGTGGTTGCGCGCCGGCCTAATCGCTTTCCGCTGGCCCAACTCGGGCGCGCCACCTTTTGCAAAGCACCCGTAACACCGGTGTGTCTGCGTCGTTGTTTTACTTGTTCAACGACAGGTCAATATCCGAGGGATGCAAAGGGCCATGTGGAGATTCACTCGCCCTAAACCGAGGGAGCCCGAGAGCAACGACGTGTCGCTAGGCGGACAGCTTACAAAGACCTTGTTGGGAGCCAATTGGTAACTAGAGGTGTACGTGTCGGCACCGGCGTAGGGATATATGAATTGTCAGGAGGCGTCACATCGCTCTGGAGGAACACGCGGTAGAGAGCGCCTCTGCATAAGCCGCAGATCAACCAGTACCAGAGGGGTTTCAATCTAGTGATTCCCGGACTGACCGATAGAGTATCTGGCGGGCAGAACACATGGGACGAACCATTGGGGCCTATTGTGATCCAAAGTATGAAGTGTAATTGTAACTTCAGCCCTTGCACTCACATGCTTCATCGGGGGTTCCATTTTGAGTATTACATTGGGCGCCTAGTGCAATGCCGCGCGAACACGCCGGTGGTATCGGATCAGAGGGTTAGGATGTCGGGCACGTTTAGCACCAAGAAGACGTTGTTTCATTGTTACCGTTCGTGTTGTGTGATATAAACCGTGCATGTGGTTTTTACGCCCTGGGACCAGCCTACGCGCGGACATAACTAAAAGGAAAGGTTTACTACGAGGATCTCAAGCGTCTCTTCGCGCATATGACCGGAAATAGTATCATAACGAGTAAGAAACATTGGTAGATCCGCTAAACTTACTACCGCTGACAGGTGTAGTGCCATAGAAGGGCTCCATCTTAAAACTCCCAAATGTGGAGGATCCGTGAATTGCTGGAATACCACGATCGCCAGGTGAGTTTAAACTGTTCGACAAAGTAGGACTAAGCTACCAATTACCCCGGCTGATTAGAGGGAAACGGAGCCAGCAGTACCT'})]"
       ]
      }
     ],
     "prompt_number": 24
    },
    {
     "cell_type": "code",
     "collapsed": false,
     "input": [
      "# This code is used for drawing.\n",
      "from random import randint\n",
      "\n",
      "randints = []\n",
      "for node in r.condensed_graph.nodes(data=True):\n",
      "    randints.append(randint(1, 20))\n",
      "print randints\n",
      "\n",
      "reconstruction_positions = dict()\n",
      "for i, node in enumerate(sorted(r.condensed_graph.nodes(data=True))):\n",
      "    reconstruction_positions[node[0]] = (int(node[1]['creation_time']), randints[i])\n",
      "    \n",
      "print len(reconstruction_positions)\n",
      "nx.draw(r.condensed_graph, pos=reconstruction_positions)"
     ],
     "language": "python",
     "metadata": {},
     "outputs": [
      {
       "output_type": "stream",
       "stream": "stdout",
       "text": [
        "[15, 9, 8, 15, 11, 6, 20, 17, 17, 15, 13]\n",
        "11\n"
       ]
      },
      {
       "metadata": {},
       "output_type": "display_data",
       "png": "[encoded data removed]",
       "text": [
        "<matplotlib.figure.Figure at 0x106286810>"
       ]
      }
     ],
     "prompt_number": 25
    },
    {
     "cell_type": "code",
     "collapsed": false,
     "input": [
      "simulation_positions = dict()\n",
      "\n",
      "print randints\n",
      "for i, pathogen in enumerate(s.pathogens):\n",
      "    simulation_positions[pathogen] = reconstruction_positions[str(pathogen)]\n",
      "    \n",
      "print len(simulation_positions)\n",
      "nx.draw(s.transmission_graph, pos=simulation_positions)"
     ],
     "language": "python",
     "metadata": {},
     "outputs": [
      {
       "output_type": "stream",
       "stream": "stdout",
       "text": [
        "[15, 9, 8, 15, 11, 6, 20, 17, 17, 15, 13]\n",
        "11\n"
       ]
      },
      {
       "metadata": {},
       "output_type": "display_data",
       "png": "[encoded data removed]",
       "text": [
        "<matplotlib.figure.Figure at 0x10629a4d0>"
       ]
      }
     ],
     "prompt_number": 26
    },
    {
     "cell_type": "code",
     "collapsed": false,
     "input": [
      "s.pathogens[0].parent"
     ],
     "language": "python",
     "metadata": {},
     "outputs": [
      {
       "metadata": {},
       "output_type": "pyout",
       "prompt_number": 27,
       "text": [
        "{}"
       ]
      }
     ],
     "prompt_number": 27
    },
    {
     "cell_type": "code",
     "collapsed": false,
     "input": [
      "r.condensed_graph.edges(data=True)"
     ],
     "language": "python",
     "metadata": {},
     "outputs": [
      {
       "metadata": {},
       "output_type": "pyout",
       "prompt_number": 28,
       "text": [
        "[('ec824', '5273c', {'segments': [1, 4], 'weight': 15}),\n",
        " ('5e020', 'ec824', {'segments': [1, 4], 'weight': 10}),\n",
        " ('5e020', '5cdf4', {'segments': [1, 4], 'weight': 15}),\n",
        " ('5e020', 'f5611', {'segments': [1, 4], 'weight': 11}),\n",
        " ('5e020', '92782', {'segments': [1, 4], 'weight': 12}),\n",
        " ('37744', '5e194', {'segments': [1, 4], 'weight': 9}),\n",
        " ('f5611', '68e8c', {'segments': [1, 4], 'weight': 9}),\n",
        " ('5e194', 'a951e', {'segments': [1, 4], 'weight': 14}),\n",
        " ('92782', '513fe', {'segments': [1, 4], 'weight': 9})]"
       ]
      }
     ],
     "prompt_number": 28
    },
    {
     "cell_type": "code",
     "collapsed": false,
     "input": [
      "for virus in s.identify_reassortants():\n",
      "    print virus"
     ],
     "language": "python",
     "metadata": {},
     "outputs": [],
     "prompt_number": 29
    },
    {
     "cell_type": "code",
     "collapsed": false,
     "input": [
      "for virus in r.identify_reassortants():\n",
      "    print virus[0]"
     ],
     "language": "python",
     "metadata": {},
     "outputs": [],
     "prompt_number": 30
    },
    {
     "cell_type": "code",
     "collapsed": false,
     "input": [
      "s.transmission_graph.edges(data=True)"
     ],
     "language": "python",
     "metadata": {},
     "outputs": [
      {
       "metadata": {},
       "output_type": "pyout",
       "prompt_number": 31,
       "text": [
        "[(92782, 513fe, {'segments': [1, 4], 'weight': 9}),\n",
        " (37744, 5e194, {'segments': [1, 4], 'weight': 9}),\n",
        " (f5611, 68e8c, {'segments': [4], 'weight': 8}),\n",
        " (ec824, 5273c, {'segments': [1, 4], 'weight': 15}),\n",
        " (5e020, 92782, {'segments': [1, 4], 'weight': 12}),\n",
        " (5e020, ec824, {'segments': [1, 4], 'weight': 10}),\n",
        " (5e020, f5611, {'segments': [4], 'weight': 10}),\n",
        " (5e020, 5cdf4, {'segments': [1, 4], 'weight': 15}),\n",
        " (5e194, a951e, {'segments': [1, 4], 'weight': 14})]"
       ]
      }
     ],
     "prompt_number": 31
    },
    {
     "cell_type": "markdown",
     "metadata": {},
     "source": [
      "# Test Relabeled Graph"
     ]
    },
    {
     "cell_type": "code",
     "collapsed": false,
     "input": [
      "s.relabel_transmission_graph()\n",
      "s.relabeled_transmission_graph.edges(data=True)"
     ],
     "language": "python",
     "metadata": {},
     "outputs": [
      {
       "metadata": {},
       "output_type": "pyout",
       "prompt_number": 32,
       "text": [
        "[('5e020', 'ec824', {'segments': [1, 4], 'weight': 10}),\n",
        " ('5e020', '92782', {'segments': [1, 4], 'weight': 12}),\n",
        " ('5e020', 'f5611', {'segments': [4], 'weight': 10}),\n",
        " ('5e020', '5cdf4', {'segments': [1, 4], 'weight': 15}),\n",
        " ('ec824', '5273c', {'segments': [1, 4], 'weight': 15}),\n",
        " ('92782', '513fe', {'segments': [1, 4], 'weight': 9}),\n",
        " ('37744', '5e194', {'segments': [1, 4], 'weight': 9}),\n",
        " ('f5611', '68e8c', {'segments': [4], 'weight': 8}),\n",
        " ('5e194', 'a951e', {'segments': [1, 4], 'weight': 14})]"
       ]
      }
     ],
     "prompt_number": 32
    },
    {
     "cell_type": "code",
     "collapsed": false,
     "input": [
      "r.condensed_graph.edges(data=True)"
     ],
     "language": "python",
     "metadata": {},
     "outputs": [
      {
       "metadata": {},
       "output_type": "pyout",
       "prompt_number": 33,
       "text": [
        "[('ec824', '5273c', {'segments': [1, 4], 'weight': 15}),\n",
        " ('5e020', 'ec824', {'segments': [1, 4], 'weight': 10}),\n",
        " ('5e020', '5cdf4', {'segments': [1, 4], 'weight': 15}),\n",
        " ('5e020', 'f5611', {'segments': [1, 4], 'weight': 11}),\n",
        " ('5e020', '92782', {'segments': [1, 4], 'weight': 12}),\n",
        " ('37744', '5e194', {'segments': [1, 4], 'weight': 9}),\n",
        " ('f5611', '68e8c', {'segments': [1, 4], 'weight': 9}),\n",
        " ('5e194', 'a951e', {'segments': [1, 4], 'weight': 14}),\n",
        " ('92782', '513fe', {'segments': [1, 4], 'weight': 9})]"
       ]
      }
     ],
     "prompt_number": 33
    },
    {
     "cell_type": "markdown",
     "metadata": {},
     "source": [
      "# Experiment with Accuracy Metrics"
     ]
    },
    {
     "cell_type": "code",
     "collapsed": false,
     "input": [
      "matching_edges = 0\n",
      "total_edges = len(s.relabeled_transmission_graph.edges())\n",
      "for edge in r.condensed_graph.edges(data=True):\n",
      "    if edge in s.relabeled_transmission_graph.edges(data=True):\n",
      "        matching_edges += 1\n",
      "        \n",
      "\n",
      "int(float(matching_edges) / total_edges * 100)"
     ],
     "language": "python",
     "metadata": {},
     "outputs": [
      {
       "metadata": {},
       "output_type": "pyout",
       "prompt_number": 34,
       "text": [
        "77"
       ]
      }
     ],
     "prompt_number": 34
    },
    {
     "cell_type": "code",
     "collapsed": false,
     "input": [
      "# This has been implemented in the prototype functions below.\n",
      "# float(len(r.identify_reassortants()))/float(len(s.identify_reassortants()))"
     ],
     "language": "python",
     "metadata": {},
     "outputs": [],
     "prompt_number": 35
    },
    {
     "cell_type": "code",
     "collapsed": false,
     "input": [
      "# Prototype for the functions.\n",
      "def reassortant_accuracy(simulation, reconstruction):\n",
      "    num_simulation_reassortants = float(len(simulation.identify_reassortants()))\n",
      "    num_reconstruction_reassortants = float(len(reconstruction.identify_reassortants()))\n",
      "    \n",
      "    if num_simulation_reassortants == 0:\n",
      "        return 'No reassortants present in simulation.'\n",
      "    else:\n",
      "        return num_reconstruction_reassortants / num_simulation_reassortants\n",
      "    \n",
      "def transmission_edge_accuracy(simulation, reconstruction):\n",
      "    matching_edges = 0\n",
      "    total_edges = len(simulation.relabeled_transmission_graph.edges())\n",
      "    \n",
      "    for edge in reconstruction.condensed_graph.edges(data=True):\n",
      "        if edge in simulation.relabeled_transmission_graph.edges(data=True):\n",
      "            matching_edges += 1\n",
      "            \n",
      "    return float(matching_edges) / total_edges\n",
      "\n",
      "def transmission_path_accuracy(simulation, reconstruction):\n",
      "    \"\"\"\n",
      "    The accuracy of transmission paths is the number of accurate paths found \n",
      "    divided by the number of paths being considered.\n",
      "    \"\"\"\n",
      "    num_paths = 0\n",
      "    accurate_paths = 0\n",
      "    \n",
      "    for edge in reconstruction.condensed_graph.edges():\n",
      "        if simulation.path_exists(edge[0], edge[1]):\n",
      "            num_paths += 1\n",
      "            accurate_paths += 1\n",
      "        else:\n",
      "            num_paths += 1\n",
      "    \n",
      "    return float(accurate_paths)/num_paths"
     ],
     "language": "python",
     "metadata": {},
     "outputs": [],
     "prompt_number": 36
    },
    {
     "cell_type": "code",
     "collapsed": false,
     "input": [
      "s.paths()\n",
      "print reassortant_accuracy(s, r)\n",
      "print transmission_edge_accuracy(s, r)\n",
      "print transmission_path_accuracy(s, r)"
     ],
     "language": "python",
     "metadata": {},
     "outputs": [
      {
       "output_type": "stream",
       "stream": "stdout",
       "text": [
        "No reassortants present in simulation.\n",
        "0.777777777778\n",
        "1.0\n"
       ]
      }
     ],
     "prompt_number": 37
    },
    {
     "cell_type": "markdown",
     "metadata": {},
     "source": [
      "# Test path_exists(node1, node2) function"
     ]
    },
    {
     "cell_type": "code",
     "collapsed": false,
     "input": [
      "s.path_exists('b90bb', '3d39c')"
     ],
     "language": "python",
     "metadata": {},
     "outputs": [
      {
       "metadata": {},
       "output_type": "pyout",
       "prompt_number": 38,
       "text": [
        "False"
       ]
      }
     ],
     "prompt_number": 38
    },
    {
     "cell_type": "code",
     "collapsed": false,
     "input": [
      "s.relabeled_transmission_graph.nodes()"
     ],
     "language": "python",
     "metadata": {},
     "outputs": [
      {
       "metadata": {},
       "output_type": "pyout",
       "prompt_number": 39,
       "text": [
        "['ec824',\n",
        " '513fe',\n",
        " '5e020',\n",
        " '68e8c',\n",
        " '92782',\n",
        " '5273c',\n",
        " '5e194',\n",
        " 'a951e',\n",
        " '5cdf4',\n",
        " '37744',\n",
        " 'f5611']"
       ]
      }
     ],
     "prompt_number": 39
    },
    {
     "cell_type": "code",
     "collapsed": false,
     "input": [
      "s.path_exists('2851c', '09001')"
     ],
     "language": "python",
     "metadata": {},
     "outputs": [
      {
       "metadata": {},
       "output_type": "pyout",
       "prompt_number": 40,
       "text": [
        "False"
       ]
      }
     ],
     "prompt_number": 40
    },
    {
     "cell_type": "code",
     "collapsed": false,
     "input": [],
     "language": "python",
     "metadata": {},
     "outputs": [],
     "prompt_number": 40
    }
   ],
   "metadata": {}
  }
 ]
}