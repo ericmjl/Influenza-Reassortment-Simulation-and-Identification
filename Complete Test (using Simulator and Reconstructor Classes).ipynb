{
 "metadata": {
  "name": "",
  "signature": "sha256:bb927bd2dd0ba16a0b94010ad07f83308edef63d506548b90f1a995af2d8d914"
 },
 "nbformat": 3,
 "nbformat_minor": 0,
 "worksheets": [
  {
   "cells": [
    {
     "cell_type": "code",
     "collapsed": false,
     "input": [
      "from pathogen import Pathogen\n",
      "from segment import Segment\n",
      "from sequence import Sequence\n",
      "from simulator import Simulator"
     ],
     "language": "python",
     "metadata": {},
     "outputs": [],
     "prompt_number": 1
    },
    {
     "cell_type": "code",
     "collapsed": false,
     "input": [
      "# Initialize sequences\n",
      "sequence_PB2 = Sequence(length=1000) #this is representative of segment 1, PB2\n",
      "sequence_H1 = Sequence(length=1000) #this is representative of segment 4, H1\n",
      "sequence_H2 = Sequence(length=1000) #this is representative of segment 4, H2"
     ],
     "language": "python",
     "metadata": {},
     "outputs": [],
     "prompt_number": 2
    },
    {
     "cell_type": "code",
     "collapsed": false,
     "input": [
      "# Initialize segments\n",
      "segment_PB2 = Segment(segment_number=1, substitution_rate=1E-3, sequence=sequence_PB2)\n",
      "segment_H1 = Segment(segment_number=4, substitution_rate=1E-2, sequence=sequence_H1)\n",
      "segment_H2 = Segment(segment_number=4, substitution_rate=1E-2, sequence=sequence_H2)"
     ],
     "language": "python",
     "metadata": {},
     "outputs": [],
     "prompt_number": 3
    },
    {
     "cell_type": "code",
     "collapsed": false,
     "input": [
      "# Add segments to seed viruses\n",
      "virus_H1 = Pathogen(segments=[segment_PB2, segment_H1], creation_time=0, progeny_size=(1.2, 0.5))\n",
      "virus_H2 = Pathogen(segments=[segment_PB2, segment_H2], creation_time=0, progeny_size=(1.2, 0.5))"
     ],
     "language": "python",
     "metadata": {},
     "outputs": [],
     "prompt_number": 4
    },
    {
     "cell_type": "code",
     "collapsed": false,
     "input": [
      "# Subclass the Simulator class for a specific implementation of the increment_timestep() function.\n",
      "from random import random, choice, sample\n",
      "class ViralSimulator(Simulator):\n",
      "    \n",
      "    def increment_timestep(self):\n",
      "        cointoss = random()\n",
      "        threshold = 0.8\n",
      "        \n",
      "        if cointoss <= threshold:\n",
      "            chosen_virus = choice(self.pathogens)\n",
      "            new_virus = chosen_virus.replicate(current_time=self.current_time)\n",
      "            \n",
      "        if cointoss > threshold:\n",
      "            [virus1, virus2] = sample(self.pathogens, 2)\n",
      "            new_virus = virus1.reassort_with(virus2, current_time=self.current_time)\n",
      "        \n",
      "        self.pathogens.append(new_virus)"
     ],
     "language": "python",
     "metadata": {},
     "outputs": [],
     "prompt_number": 5
    },
    {
     "cell_type": "code",
     "collapsed": false,
     "input": [
      "s = ViralSimulator()"
     ],
     "language": "python",
     "metadata": {},
     "outputs": [],
     "prompt_number": 6
    },
    {
     "cell_type": "code",
     "collapsed": false,
     "input": [
      "s.add_pathogens([virus_H1, virus_H2])"
     ],
     "language": "python",
     "metadata": {},
     "outputs": [],
     "prompt_number": 7
    },
    {
     "cell_type": "code",
     "collapsed": false,
     "input": [
      "s.run(timesteps=10)"
     ],
     "language": "python",
     "metadata": {},
     "outputs": [
      {
       "output_type": "stream",
       "stream": "stdout",
       "text": [
        "{7e9f8: [1, 4]}\n",
        "{5e517: [1, 4]}\n",
        "{80ba9: [1, 4]}\n",
        "{5e517: [1, 4]}\n",
        "{f1d38: [1, 4]}\n",
        "{f1d38: [1, 4]}\n",
        "{68ee9: [1, 4]}\n"
       ]
      }
     ],
     "prompt_number": 8
    },
    {
     "cell_type": "code",
     "collapsed": false,
     "input": [
      "s.write_transmission_graph(outfile_name=\"outfile_test\", folder_name='Network Pickles')"
     ],
     "language": "python",
     "metadata": {},
     "outputs": [],
     "prompt_number": 9
    },
    {
     "cell_type": "code",
     "collapsed": false,
     "input": [
      "s.write_sequences(outfile_name=\"outfile_test\", folder_name='FASTA Files')"
     ],
     "language": "python",
     "metadata": {},
     "outputs": [],
     "prompt_number": 10
    },
    {
     "cell_type": "code",
     "collapsed": false,
     "input": [
      "s.transmission_graph.nodes(data=True)"
     ],
     "language": "python",
     "metadata": {},
     "outputs": [
      {
       "metadata": {},
       "output_type": "pyout",
       "prompt_number": 11,
       "text": [
        "[(00f33, {'creation_time': 8}),\n",
        " (7e9f8, {'creation_time': 0}),\n",
        " (80ba9, {'creation_time': 1}),\n",
        " (f1d38, {'creation_time': 5}),\n",
        " (68ee9, {'creation_time': 7}),\n",
        " (c8820, {'creation_time': 6}),\n",
        " (4b93b, {'creation_time': 3}),\n",
        " (5e517, {'creation_time': 0}),\n",
        " (0fff1, {'creation_time': 2}),\n",
        " (441aa, {'creation_time': 9}),\n",
        " (6a9cc, {'creation_time': 4})]"
       ]
      }
     ],
     "prompt_number": 11
    },
    {
     "cell_type": "markdown",
     "metadata": {},
     "source": [
      "# Prototype code for Reconstructor class"
     ]
    },
    {
     "cell_type": "code",
     "collapsed": false,
     "input": [
      "from Bio import SeqIO"
     ],
     "language": "python",
     "metadata": {},
     "outputs": [],
     "prompt_number": 12
    },
    {
     "cell_type": "code",
     "collapsed": false,
     "input": [
      "# Initialize a dictionary that contains all of the sequences, split by segment.\n",
      "sequences_dictionary = dict()\n",
      "sequences_dictionary[1] = []\n",
      "sequences_dictionary[4] = []\n",
      "sequences_dictionary"
     ],
     "language": "python",
     "metadata": {},
     "outputs": [
      {
       "metadata": {},
       "output_type": "pyout",
       "prompt_number": 13,
       "text": [
        "{1: [], 4: []}"
       ]
      }
     ],
     "prompt_number": 13
    },
    {
     "cell_type": "code",
     "collapsed": false,
     "input": [
      "# Read in the sequences\n",
      "sequences = [record for record in SeqIO.parse('FASTA Files/outfile_test.fasta', 'fasta')]\n",
      "sequences"
     ],
     "language": "python",
     "metadata": {},
     "outputs": [
      {
       "metadata": {},
       "output_type": "pyout",
       "prompt_number": 14,
       "text": [
        "[SeqRecord(seq=Seq('CAATAGTCTCGACGCGTAGGGCATGCAGTGCCGCGTGATGCGCTTGGAAACCGC...GAA', SingleLetterAlphabet()), id='7e9f8c89919d30a185cdc3f67751430e515c1860fd0e3a77e3e1f484e2e436cc825b3da7820c7f1dd018d76193e687ef45432649617eb2e75291ca17466444a7|1|0', name='7e9f8c89919d30a185cdc3f67751430e515c1860fd0e3a77e3e1f484e2e436cc825b3da7820c7f1dd018d76193e687ef45432649617eb2e75291ca17466444a7|1|0', description='7e9f8c89919d30a185cdc3f67751430e515c1860fd0e3a77e3e1f484e2e436cc825b3da7820c7f1dd018d76193e687ef45432649617eb2e75291ca17466444a7|1|0 <unknown description>', dbxrefs=[]),\n",
        " SeqRecord(seq=Seq('GAGCGCGTGAATGCATGTACTAGGTACAGTCAAAGAGATGAGCCAATCTTGATT...GTT', SingleLetterAlphabet()), id='7e9f8c89919d30a185cdc3f67751430e515c1860fd0e3a77e3e1f484e2e436cc825b3da7820c7f1dd018d76193e687ef45432649617eb2e75291ca17466444a7|4|0', name='7e9f8c89919d30a185cdc3f67751430e515c1860fd0e3a77e3e1f484e2e436cc825b3da7820c7f1dd018d76193e687ef45432649617eb2e75291ca17466444a7|4|0', description='7e9f8c89919d30a185cdc3f67751430e515c1860fd0e3a77e3e1f484e2e436cc825b3da7820c7f1dd018d76193e687ef45432649617eb2e75291ca17466444a7|4|0 <unknown description>', dbxrefs=[]),\n",
        " SeqRecord(seq=Seq('CAATAGTCTCGACGCGTAGGGCATGCAGTGCCGCGTGATGCGCTTGGAAACCGC...GAA', SingleLetterAlphabet()), id='5e5171eb4f0e7046ae683f069a4ec6915fab0945d3f5148081ed76096fb06dd746b4c455624912a7bc12873eb42be0fe686aaed4ed38a92b1392f9b0210314f5|1|0', name='5e5171eb4f0e7046ae683f069a4ec6915fab0945d3f5148081ed76096fb06dd746b4c455624912a7bc12873eb42be0fe686aaed4ed38a92b1392f9b0210314f5|1|0', description='5e5171eb4f0e7046ae683f069a4ec6915fab0945d3f5148081ed76096fb06dd746b4c455624912a7bc12873eb42be0fe686aaed4ed38a92b1392f9b0210314f5|1|0 <unknown description>', dbxrefs=[]),\n",
        " SeqRecord(seq=Seq('TTGGAGCGTCTGCAACGTTCACCGTCCCCCACGTCATCCATGTTGGATTTATAG...CAC', SingleLetterAlphabet()), id='5e5171eb4f0e7046ae683f069a4ec6915fab0945d3f5148081ed76096fb06dd746b4c455624912a7bc12873eb42be0fe686aaed4ed38a92b1392f9b0210314f5|4|0', name='5e5171eb4f0e7046ae683f069a4ec6915fab0945d3f5148081ed76096fb06dd746b4c455624912a7bc12873eb42be0fe686aaed4ed38a92b1392f9b0210314f5|4|0', description='5e5171eb4f0e7046ae683f069a4ec6915fab0945d3f5148081ed76096fb06dd746b4c455624912a7bc12873eb42be0fe686aaed4ed38a92b1392f9b0210314f5|4|0 <unknown description>', dbxrefs=[]),\n",
        " SeqRecord(seq=Seq('CAATAGTCTCGACGCGTAGGGCATGCAGTGCCGCGTGATGCGCTTGGAAACCGC...GAA', SingleLetterAlphabet()), id='80ba97d9be3c7f3e6ffe19d8c14bbc22a22e1bacdf65a29570ba1120a48e38b7359a8f4e256f91b9b79153a53f447294616a167cc44fa066062ca92be122a4f0|1|1', name='80ba97d9be3c7f3e6ffe19d8c14bbc22a22e1bacdf65a29570ba1120a48e38b7359a8f4e256f91b9b79153a53f447294616a167cc44fa066062ca92be122a4f0|1|1', description='80ba97d9be3c7f3e6ffe19d8c14bbc22a22e1bacdf65a29570ba1120a48e38b7359a8f4e256f91b9b79153a53f447294616a167cc44fa066062ca92be122a4f0|1|1 <unknown description>', dbxrefs=[]),\n",
        " SeqRecord(seq=Seq('TTGTAGCGTCTGCAACGTTCACCGTCCCCCACGTCATCCATGTTGGATTTATAG...CAC', SingleLetterAlphabet()), id='80ba97d9be3c7f3e6ffe19d8c14bbc22a22e1bacdf65a29570ba1120a48e38b7359a8f4e256f91b9b79153a53f447294616a167cc44fa066062ca92be122a4f0|4|1', name='80ba97d9be3c7f3e6ffe19d8c14bbc22a22e1bacdf65a29570ba1120a48e38b7359a8f4e256f91b9b79153a53f447294616a167cc44fa066062ca92be122a4f0|4|1', description='80ba97d9be3c7f3e6ffe19d8c14bbc22a22e1bacdf65a29570ba1120a48e38b7359a8f4e256f91b9b79153a53f447294616a167cc44fa066062ca92be122a4f0|4|1 <unknown description>', dbxrefs=[]),\n",
        " SeqRecord(seq=Seq('CAATAGTCTCGACGCGTAGGGCATGCAGTGCCGCGTGATGCGCTTGGAAACCGC...GAA', SingleLetterAlphabet()), id='0fff1b119e70ecb5997b1d42d16455da932c702c3e55ed6e4e5f341924636cabe98fb2181ba0548c698ec819b0a88e3bc1ddcc6c12d7e7457ef9fd0ed1e0d6c7|1|2', name='0fff1b119e70ecb5997b1d42d16455da932c702c3e55ed6e4e5f341924636cabe98fb2181ba0548c698ec819b0a88e3bc1ddcc6c12d7e7457ef9fd0ed1e0d6c7|1|2', description='0fff1b119e70ecb5997b1d42d16455da932c702c3e55ed6e4e5f341924636cabe98fb2181ba0548c698ec819b0a88e3bc1ddcc6c12d7e7457ef9fd0ed1e0d6c7|1|2 <unknown description>', dbxrefs=[]),\n",
        " SeqRecord(seq=Seq('GAGCGCGTGAATGCATGTACTAAGTACAGTCAAAGAGATGAGCCAATCTTGATT...GTT', SingleLetterAlphabet()), id='0fff1b119e70ecb5997b1d42d16455da932c702c3e55ed6e4e5f341924636cabe98fb2181ba0548c698ec819b0a88e3bc1ddcc6c12d7e7457ef9fd0ed1e0d6c7|4|2', name='0fff1b119e70ecb5997b1d42d16455da932c702c3e55ed6e4e5f341924636cabe98fb2181ba0548c698ec819b0a88e3bc1ddcc6c12d7e7457ef9fd0ed1e0d6c7|4|2', description='0fff1b119e70ecb5997b1d42d16455da932c702c3e55ed6e4e5f341924636cabe98fb2181ba0548c698ec819b0a88e3bc1ddcc6c12d7e7457ef9fd0ed1e0d6c7|4|2 <unknown description>', dbxrefs=[]),\n",
        " SeqRecord(seq=Seq('CAATAGTCTCGACGCGTAGGGCATGCAGTGCCGCGTGATGCGCTTGGAAACCGC...GAA', SingleLetterAlphabet()), id='4b93bad251e8ff07a53ee097618a06054aea98dc0f11f0aae7ca84e1a96278fb955c9a60bba3ab46c7a7dfd2632ddf2dfdc835e0c3d9cfb5c6072a7bd6071e1b|1|3', name='4b93bad251e8ff07a53ee097618a06054aea98dc0f11f0aae7ca84e1a96278fb955c9a60bba3ab46c7a7dfd2632ddf2dfdc835e0c3d9cfb5c6072a7bd6071e1b|1|3', description='4b93bad251e8ff07a53ee097618a06054aea98dc0f11f0aae7ca84e1a96278fb955c9a60bba3ab46c7a7dfd2632ddf2dfdc835e0c3d9cfb5c6072a7bd6071e1b|1|3 <unknown description>', dbxrefs=[]),\n",
        " SeqRecord(seq=Seq('TTGGAGCGTCTGCAACGTTCACCGTCCCCCAAGTCATCCATGTTGGATTTATAG...CAC', SingleLetterAlphabet()), id='4b93bad251e8ff07a53ee097618a06054aea98dc0f11f0aae7ca84e1a96278fb955c9a60bba3ab46c7a7dfd2632ddf2dfdc835e0c3d9cfb5c6072a7bd6071e1b|4|3', name='4b93bad251e8ff07a53ee097618a06054aea98dc0f11f0aae7ca84e1a96278fb955c9a60bba3ab46c7a7dfd2632ddf2dfdc835e0c3d9cfb5c6072a7bd6071e1b|4|3', description='4b93bad251e8ff07a53ee097618a06054aea98dc0f11f0aae7ca84e1a96278fb955c9a60bba3ab46c7a7dfd2632ddf2dfdc835e0c3d9cfb5c6072a7bd6071e1b|4|3 <unknown description>', dbxrefs=[]),\n",
        " SeqRecord(seq=Seq('CAATAGTCTCGACGCGTAGGGCATGCAGTGCCGCGTGATGCGCTTGGAAACCGC...GAA', SingleLetterAlphabet()), id='6a9ccd5b64354deb1bd3653b2d98016c2e7abff6e773509083427e5a9b18afc16db70449fc9874c31528ecd0681e395ed13024b4ed7d369223055cb0e0a4b2de|1|4', name='6a9ccd5b64354deb1bd3653b2d98016c2e7abff6e773509083427e5a9b18afc16db70449fc9874c31528ecd0681e395ed13024b4ed7d369223055cb0e0a4b2de|1|4', description='6a9ccd5b64354deb1bd3653b2d98016c2e7abff6e773509083427e5a9b18afc16db70449fc9874c31528ecd0681e395ed13024b4ed7d369223055cb0e0a4b2de|1|4 <unknown description>', dbxrefs=[]),\n",
        " SeqRecord(seq=Seq('TTGTAGCGTCTGCAACGTTCACCGTCCCCCACGTCATCCATGTTGGATTTATAG...CAC', SingleLetterAlphabet()), id='6a9ccd5b64354deb1bd3653b2d98016c2e7abff6e773509083427e5a9b18afc16db70449fc9874c31528ecd0681e395ed13024b4ed7d369223055cb0e0a4b2de|4|4', name='6a9ccd5b64354deb1bd3653b2d98016c2e7abff6e773509083427e5a9b18afc16db70449fc9874c31528ecd0681e395ed13024b4ed7d369223055cb0e0a4b2de|4|4', description='6a9ccd5b64354deb1bd3653b2d98016c2e7abff6e773509083427e5a9b18afc16db70449fc9874c31528ecd0681e395ed13024b4ed7d369223055cb0e0a4b2de|4|4 <unknown description>', dbxrefs=[]),\n",
        " SeqRecord(seq=Seq('CAATAGTCTCGACGCGTAGGGCATGCAGTGCCGCGTGATGCGCTTGGAAACCGC...GAA', SingleLetterAlphabet()), id='f1d3870c59b2dd9750e0404ad7fb1a24ca4e925836a51c9e397c1e61a88be61aed05ba04c4f88a8754037a415704f3366e1bb1e8d4784f4b6aca47204410345f|1|5', name='f1d3870c59b2dd9750e0404ad7fb1a24ca4e925836a51c9e397c1e61a88be61aed05ba04c4f88a8754037a415704f3366e1bb1e8d4784f4b6aca47204410345f|1|5', description='f1d3870c59b2dd9750e0404ad7fb1a24ca4e925836a51c9e397c1e61a88be61aed05ba04c4f88a8754037a415704f3366e1bb1e8d4784f4b6aca47204410345f|1|5 <unknown description>', dbxrefs=[]),\n",
        " SeqRecord(seq=Seq('TTCGAGCGTCTGCAACGTTCACCGTCCCCCACGTCATCCATGTTGGATTTATAG...CAC', SingleLetterAlphabet()), id='f1d3870c59b2dd9750e0404ad7fb1a24ca4e925836a51c9e397c1e61a88be61aed05ba04c4f88a8754037a415704f3366e1bb1e8d4784f4b6aca47204410345f|4|5', name='f1d3870c59b2dd9750e0404ad7fb1a24ca4e925836a51c9e397c1e61a88be61aed05ba04c4f88a8754037a415704f3366e1bb1e8d4784f4b6aca47204410345f|4|5', description='f1d3870c59b2dd9750e0404ad7fb1a24ca4e925836a51c9e397c1e61a88be61aed05ba04c4f88a8754037a415704f3366e1bb1e8d4784f4b6aca47204410345f|4|5 <unknown description>', dbxrefs=[]),\n",
        " SeqRecord(seq=Seq('CAATAGTCTCGACGCGTAGGGCATGCAGTGCCGCGTGATGCGCTTGGAAACCGC...GAA', SingleLetterAlphabet()), id='c8820cabc8269c0c7949c132556af66c0d031e41fa2a04efceac5d671d43a1e77773119d5e19494182b98e73d50bba0329ed3044646a4aec74675198bd31b78c|1|6', name='c8820cabc8269c0c7949c132556af66c0d031e41fa2a04efceac5d671d43a1e77773119d5e19494182b98e73d50bba0329ed3044646a4aec74675198bd31b78c|1|6', description='c8820cabc8269c0c7949c132556af66c0d031e41fa2a04efceac5d671d43a1e77773119d5e19494182b98e73d50bba0329ed3044646a4aec74675198bd31b78c|1|6 <unknown description>', dbxrefs=[]),\n",
        " SeqRecord(seq=Seq('TTCGAGCGTCTGGAACGTTCACCGTTCCCCACGTCATCCATGTTGGATTTATAG...CAC', SingleLetterAlphabet()), id='c8820cabc8269c0c7949c132556af66c0d031e41fa2a04efceac5d671d43a1e77773119d5e19494182b98e73d50bba0329ed3044646a4aec74675198bd31b78c|4|6', name='c8820cabc8269c0c7949c132556af66c0d031e41fa2a04efceac5d671d43a1e77773119d5e19494182b98e73d50bba0329ed3044646a4aec74675198bd31b78c|4|6', description='c8820cabc8269c0c7949c132556af66c0d031e41fa2a04efceac5d671d43a1e77773119d5e19494182b98e73d50bba0329ed3044646a4aec74675198bd31b78c|4|6 <unknown description>', dbxrefs=[]),\n",
        " SeqRecord(seq=Seq('CAATAGTCTCGACGCGTAGGGCATGCAGTGCCGCGTGATGCGCTTGGAAACCGC...GAA', SingleLetterAlphabet()), id='68ee9f8d8c598728e5594ed9c5f7dfa5564ec0f734d3df41d614d10986771cd6d6de838893a8da2cf6d1f66b6c9c45832717b9828aa1f562b62ee93948d7ab6c|1|7', name='68ee9f8d8c598728e5594ed9c5f7dfa5564ec0f734d3df41d614d10986771cd6d6de838893a8da2cf6d1f66b6c9c45832717b9828aa1f562b62ee93948d7ab6c|1|7', description='68ee9f8d8c598728e5594ed9c5f7dfa5564ec0f734d3df41d614d10986771cd6d6de838893a8da2cf6d1f66b6c9c45832717b9828aa1f562b62ee93948d7ab6c|1|7 <unknown description>', dbxrefs=[]),\n",
        " SeqRecord(seq=Seq('TTCGAGCGTCTGGAACGTGCACCGTCCCCCACGTCATCCATGTTGGATTTATAG...CAC', SingleLetterAlphabet()), id='68ee9f8d8c598728e5594ed9c5f7dfa5564ec0f734d3df41d614d10986771cd6d6de838893a8da2cf6d1f66b6c9c45832717b9828aa1f562b62ee93948d7ab6c|4|7', name='68ee9f8d8c598728e5594ed9c5f7dfa5564ec0f734d3df41d614d10986771cd6d6de838893a8da2cf6d1f66b6c9c45832717b9828aa1f562b62ee93948d7ab6c|4|7', description='68ee9f8d8c598728e5594ed9c5f7dfa5564ec0f734d3df41d614d10986771cd6d6de838893a8da2cf6d1f66b6c9c45832717b9828aa1f562b62ee93948d7ab6c|4|7 <unknown description>', dbxrefs=[]),\n",
        " SeqRecord(seq=Seq('CAATAGTCTCGACGCGTAGGGCATGCAGTGCCGCGTGATGCGCTTGGAAACCGC...GAA', SingleLetterAlphabet()), id='00f335519b787b6a30adbfaa02136e393da4e477e786b126f00b609c03a4f57f12ca47972ca9e13d949ebccdac286849516f3056b0f4e28560ee4b145c053479|1|8', name='00f335519b787b6a30adbfaa02136e393da4e477e786b126f00b609c03a4f57f12ca47972ca9e13d949ebccdac286849516f3056b0f4e28560ee4b145c053479|1|8', description='00f335519b787b6a30adbfaa02136e393da4e477e786b126f00b609c03a4f57f12ca47972ca9e13d949ebccdac286849516f3056b0f4e28560ee4b145c053479|1|8 <unknown description>', dbxrefs=[]),\n",
        " SeqRecord(seq=Seq('TTCGAGCGTCTGCAACGTTCACCGTCCCCCACGTCATCCATGTTGGATTTATAG...CAG', SingleLetterAlphabet()), id='00f335519b787b6a30adbfaa02136e393da4e477e786b126f00b609c03a4f57f12ca47972ca9e13d949ebccdac286849516f3056b0f4e28560ee4b145c053479|4|8', name='00f335519b787b6a30adbfaa02136e393da4e477e786b126f00b609c03a4f57f12ca47972ca9e13d949ebccdac286849516f3056b0f4e28560ee4b145c053479|4|8', description='00f335519b787b6a30adbfaa02136e393da4e477e786b126f00b609c03a4f57f12ca47972ca9e13d949ebccdac286849516f3056b0f4e28560ee4b145c053479|4|8 <unknown description>', dbxrefs=[]),\n",
        " SeqRecord(seq=Seq('CAATAGTCTCGACGCGTAGGGCATGCAGTGCCGCGTGATGCGCTTGGAAACCGC...GAA', SingleLetterAlphabet()), id='441aac65097ccc3b75c6d575e3c5d1d9c9400a88e34b92b0fa32acee0dbef39cc92003de9be860784d776c6e8e1e3d4856e4947d6b94913ec774d317328f3e1a|1|9', name='441aac65097ccc3b75c6d575e3c5d1d9c9400a88e34b92b0fa32acee0dbef39cc92003de9be860784d776c6e8e1e3d4856e4947d6b94913ec774d317328f3e1a|1|9', description='441aac65097ccc3b75c6d575e3c5d1d9c9400a88e34b92b0fa32acee0dbef39cc92003de9be860784d776c6e8e1e3d4856e4947d6b94913ec774d317328f3e1a|1|9 <unknown description>', dbxrefs=[]),\n",
        " SeqRecord(seq=Seq('TTCGAGCGTCTGGAACGTGCACCGTCCCCCACGTCATCCATGTTGGATTTATAG...CAC', SingleLetterAlphabet()), id='441aac65097ccc3b75c6d575e3c5d1d9c9400a88e34b92b0fa32acee0dbef39cc92003de9be860784d776c6e8e1e3d4856e4947d6b94913ec774d317328f3e1a|4|9', name='441aac65097ccc3b75c6d575e3c5d1d9c9400a88e34b92b0fa32acee0dbef39cc92003de9be860784d776c6e8e1e3d4856e4947d6b94913ec774d317328f3e1a|4|9', description='441aac65097ccc3b75c6d575e3c5d1d9c9400a88e34b92b0fa32acee0dbef39cc92003de9be860784d776c6e8e1e3d4856e4947d6b94913ec774d317328f3e1a|4|9 <unknown description>', dbxrefs=[])]"
       ]
      }
     ],
     "prompt_number": 14
    },
    {
     "cell_type": "code",
     "collapsed": false,
     "input": [
      "# Append the sequences to the dictionary.\n",
      "# This can be written into a function.\n",
      "split_char = '|' # The character that will be used to split the SeqRecord.id string\n",
      "pos_segment_num = 1 # The position of the segment number after splitting by the split_char\n",
      "\n",
      "for sequence in sequences:\n",
      "    segment_number = int(sequence.id.split(split_char)[pos_segment_num])\n",
      "    sequences_dictionary[segment_number].append(sequence)\n",
      "\n",
      "# sequences_dictionary"
     ],
     "language": "python",
     "metadata": {},
     "outputs": [],
     "prompt_number": 15
    },
    {
     "cell_type": "code",
     "collapsed": false,
     "input": [
      "# Create a NetworkX graph using one segment's sequences, and add nodes.\n",
      "import networkx as nx\n",
      "\n",
      "G = nx.DiGraph()\n",
      "\n",
      "splitchar = '|'\n",
      "pos_id = 0\n",
      "pos_segment_num = 1\n",
      "pos_creation_time = 2\n",
      "\n",
      "segment_number = 4\n",
      "\n",
      "for sequence in sequences_dictionary[segment_number]:\n",
      "    [isolate_id, segment_num, creation_time] = sequence.id.split(splitchar)\n",
      "    G.add_node(isolate_id[0:5], sequence=sequence.seq, id=isolate_id, segment_num=int(segment_num), creation_time=int(creation_time))\n",
      "\n",
      "# at this point, we would return G, and append it to the dictionary of Graphs available.\n",
      "# G.nodes(data=True)"
     ],
     "language": "python",
     "metadata": {},
     "outputs": [],
     "prompt_number": 16
    },
    {
     "cell_type": "code",
     "collapsed": false,
     "input": [
      "# Add edges to the graph, based on the Levenshtein distance between two sequences.\n",
      "import Levenshtein\n",
      "for node1 in G.nodes(data=True):\n",
      "    for node2 in G.nodes(data=True):\n",
      "        if node1[1]['creation_time'] < node2[1]['creation_time']:\n",
      "            weight = Levenshtein.distance(str(node1[1]['sequence']), str(node2[1]['sequence']))\n",
      "            G.add_edge(node1[0], node2[0], weight=weight)"
     ],
     "language": "python",
     "metadata": {},
     "outputs": [],
     "prompt_number": 17
    },
    {
     "cell_type": "code",
     "collapsed": false,
     "input": [
      "# Prune graph by distance.\n",
      "for node in G.nodes(data=True):\n",
      "    in_edges = G.in_edges(node[0], data=True)\n",
      "#     print in_edges\n",
      "    if len(in_edges) != 0:\n",
      "        min_weight = min([edge[2]['weight'] for edge in in_edges])\n",
      "        print min_weight\n",
      "        print node\n",
      "        for edge in in_edges:\n",
      "            if edge[2]['weight'] != min_weight:\n",
      "                G.remove_edge(edge[0], edge[1])"
     ],
     "language": "python",
     "metadata": {},
     "outputs": [
      {
       "output_type": "stream",
       "stream": "stdout",
       "text": [
        "10\n",
        "('80ba9', {'segment_num': 4, 'creation_time': 1, 'id': '80ba97d9be3c7f3e6ffe19d8c14bbc22a22e1bacdf65a29570ba1120a48e38b7359a8f4e256f91b9b79153a53f447294616a167cc44fa066062ca92be122a4f0', 'sequence': Seq('TTGTAGCGTCTGCAACGTTCACCGTCCCCCACGTCATCCATGTTGGATTTATAG...CAC', SingleLetterAlphabet())})\n",
        "10\n",
        "('f1d38', {'segment_num': 4, 'creation_time': 5, 'id': 'f1d3870c59b2dd9750e0404ad7fb1a24ca4e925836a51c9e397c1e61a88be61aed05ba04c4f88a8754037a415704f3366e1bb1e8d4784f4b6aca47204410345f', 'sequence': Seq('TTCGAGCGTCTGCAACGTTCACCGTCCCCCACGTCATCCATGTTGGATTTATAG...CAC', SingleLetterAlphabet())})\n",
        "12\n",
        "('4b93b', {'segment_num': 4, 'creation_time': 3, 'id': '4b93bad251e8ff07a53ee097618a06054aea98dc0f11f0aae7ca84e1a96278fb955c9a60bba3ab46c7a7dfd2632ddf2dfdc835e0c3d9cfb5c6072a7bd6071e1b', 'sequence': Seq('TTGGAGCGTCTGCAACGTTCACCGTCCCCCAAGTCATCCATGTTGGATTTATAG...CAC', SingleLetterAlphabet())})\n",
        "9\n",
        "('0fff1', {'segment_num': 4, 'creation_time': 2, 'id': '0fff1b119e70ecb5997b1d42d16455da932c702c3e55ed6e4e5f341924636cabe98fb2181ba0548c698ec819b0a88e3bc1ddcc6c12d7e7457ef9fd0ed1e0d6c7', 'sequence': Seq('GAGCGCGTGAATGCATGTACTAAGTACAGTCAAAGAGATGAGCCAATCTTGATT...GTT', SingleLetterAlphabet())})\n",
        "11\n",
        "('c8820', {'segment_num': 4, 'creation_time': 6, 'id': 'c8820cabc8269c0c7949c132556af66c0d031e41fa2a04efceac5d671d43a1e77773119d5e19494182b98e73d50bba0329ed3044646a4aec74675198bd31b78c', 'sequence': Seq('TTCGAGCGTCTGGAACGTTCACCGTTCCCCACGTCATCCATGTTGGATTTATAG...CAC', SingleLetterAlphabet())})\n",
        "6\n",
        "('68ee9', {'segment_num': 4, 'creation_time': 7, 'id': '68ee9f8d8c598728e5594ed9c5f7dfa5564ec0f734d3df41d614d10986771cd6d6de838893a8da2cf6d1f66b6c9c45832717b9828aa1f562b62ee93948d7ab6c', 'sequence': Seq('TTCGAGCGTCTGGAACGTGCACCGTCCCCCACGTCATCCATGTTGGATTTATAG...CAC', SingleLetterAlphabet())})\n",
        "15\n",
        "('00f33', {'segment_num': 4, 'creation_time': 8, 'id': '00f335519b787b6a30adbfaa02136e393da4e477e786b126f00b609c03a4f57f12ca47972ca9e13d949ebccdac286849516f3056b0f4e28560ee4b145c053479', 'sequence': Seq('TTCGAGCGTCTGCAACGTTCACCGTCCCCCACGTCATCCATGTTGGATTTATAG...CAG', SingleLetterAlphabet())})\n",
        "12\n",
        "('441aa', {'segment_num': 4, 'creation_time': 9, 'id': '441aac65097ccc3b75c6d575e3c5d1d9c9400a88e34b92b0fa32acee0dbef39cc92003de9be860784d776c6e8e1e3d4856e4947d6b94913ec774d317328f3e1a', 'sequence': Seq('TTCGAGCGTCTGGAACGTGCACCGTCCCCCACGTCATCCATGTTGGATTTATAG...CAC', SingleLetterAlphabet())})\n",
        "8\n",
        "('6a9cc', {'segment_num': 4, 'creation_time': 4, 'id': '6a9ccd5b64354deb1bd3653b2d98016c2e7abff6e773509083427e5a9b18afc16db70449fc9874c31528ecd0681e395ed13024b4ed7d369223055cb0e0a4b2de', 'sequence': Seq('TTGTAGCGTCTGCAACGTTCACCGTCCCCCACGTCATCCATGTTGGATTTATAG...CAC', SingleLetterAlphabet())})\n"
       ]
      }
     ],
     "prompt_number": 18
    },
    {
     "cell_type": "code",
     "collapsed": false,
     "input": [
      "nx.draw_circular(G)"
     ],
     "language": "python",
     "metadata": {},
     "outputs": [
      {
       "metadata": {},
       "output_type": "display_data",
       "png": "[encoded data removed]",
       "text": [
        "<matplotlib.figure.Figure at 0x10622a3d0>"
       ]
      }
     ],
     "prompt_number": 19
    },
    {
     "cell_type": "markdown",
     "metadata": {},
     "source": [
      "# Test Reconstructor Class"
     ]
    },
    {
     "cell_type": "code",
     "collapsed": false,
     "input": [
      "from reconstructor import Reconstructor\n",
      "import networkx as nx"
     ],
     "language": "python",
     "metadata": {},
     "outputs": [],
     "prompt_number": 20
    },
    {
     "cell_type": "code",
     "collapsed": false,
     "input": [
      "r = Reconstructor(segments=[1, 4])\n",
      "print r.sequences\n",
      "print r.graphs"
     ],
     "language": "python",
     "metadata": {},
     "outputs": [
      {
       "output_type": "stream",
       "stream": "stdout",
       "text": [
        "{1: [], 4: []}\n",
        "{1: <networkx.classes.digraph.DiGraph object at 0x106295090>, 4: <networkx.classes.digraph.DiGraph object at 0x106295fd0>}\n"
       ]
      }
     ],
     "prompt_number": 21
    },
    {
     "cell_type": "code",
     "collapsed": false,
     "input": [
      "fasta_file = 'FASTA Files/outfile_test.fasta'\n",
      "r.read_fasta_file(fasta_file)"
     ],
     "language": "python",
     "metadata": {},
     "outputs": [],
     "prompt_number": 22
    },
    {
     "cell_type": "code",
     "collapsed": false,
     "input": [
      "r.add_nodes_with_data()\n",
      "r.add_edges_with_weight()\n",
      "r.prune_graphs_by_weight()\n",
      "r.compose_segment_graphs()\n",
      "r.condense_composed_segment_graphs()\n",
      "r.prune_condensed_graph()"
     ],
     "language": "python",
     "metadata": {},
     "outputs": [],
     "prompt_number": 23
    },
    {
     "cell_type": "code",
     "collapsed": false,
     "input": [
      "r.condensed_graph.edges(data=True)"
     ],
     "language": "python",
     "metadata": {},
     "outputs": [
      {
       "metadata": {},
       "output_type": "pyout",
       "prompt_number": 24,
       "text": [
        "[('80ba9', '6a9cc', {'segments': [1, 4], 'weight': 9}),\n",
        " ('f1d38', 'c8820', {'segments': [1, 4], 'weight': 11}),\n",
        " ('f1d38', '00f33', {'segments': [1, 4], 'weight': 16}),\n",
        " ('c8820', '68ee9', {'segments': [4], 'weight': 6}),\n",
        " ('68ee9', '441aa', {'segments': [1, 4], 'weight': 14}),\n",
        " ('5e517', 'f1d38', {'segments': [1, 4], 'weight': 10}),\n",
        " ('5e517', '80ba9', {'segments': [1, 4], 'weight': 14}),\n",
        " ('5e517', '4b93b', {'segments': [1, 4], 'weight': 13}),\n",
        " ('7e9f8', '0fff1', {'segments': [1, 4], 'weight': 11}),\n",
        " ('6a9cc', '68ee9', {'segments': [1], 'weight': 1})]"
       ]
      }
     ],
     "prompt_number": 24
    },
    {
     "cell_type": "code",
     "collapsed": false,
     "input": [
      "r.condensed_graph.nodes(data=True)"
     ],
     "language": "python",
     "metadata": {},
     "outputs": [
      {
       "metadata": {},
       "output_type": "pyout",
       "prompt_number": 25,
       "text": [
        "[('80ba9',\n",
        "  {'creation_time': '1',\n",
        "   'id': '80ba97d9be3c7f3e6ffe19d8c14bbc22a22e1bacdf65a29570ba1120a48e38b7359a8f4e256f91b9b79153a53f447294616a167cc44fa066062ca92be122a4f0',\n",
        "   'segment_number': '4',\n",
        "   'sequence_1': 'CAATAGTCTCGACGCGTAGGGCATGCAGTGCCGCGTGATGCGCTTGGAAACCGCCACAATTCTAAACTAGACCAAATCGTCATCCCCCCAAAGACGTCCCCTTGCGGCCTACAGATCAGTAGCATATTGTTGGGCCAAAATTTGCGCAATACCACCCACGATTATCGACATAATCATGCACGGTCCCGTCTTCGTATATCAGGATCATCTTTGCCTATATTTAACCGGGTTGCCCGTCGCAGGTACGGAACCTTCGAGCACGCCGCACTACTGGCAATAAAGTCCGTTTCCCAGTATACCTGTTGAGTCAAGTTGTGGGGATTCCCTGCTATAGTCACAACGTAGGAGGTGTGCAGCTAAGTTTATAGCAATGCTACTCGCGGGAAACTAGACGCGCCAAAATTGCCTACTCTCTCCACAGCCGTTTCTGGTAGAGACAGAAGACCGCTATACGAAGGAAGGAGAATCGCAGGGGTGTGTGGACTCGCAACCCGGCTTTGTTAAAGGGTTTGTGGAGTTAGACTACTGGCCATATGGAGTGGCGCAACATTCCTAGGGGAGGCTCCCGGACCGCAACACAGGCAAGCGACCTTTAGCGGTCCTTTCAACCCGGAGTGCTTCCCACCTTGGATGAGGCGCCTCCCCCCGATAAGGTTTGTGTAGAAACGCACCATAGAAGCCTTAAATCATTGCAGGGTATGCACGTTTTCGATTCTAGGCGCAATTGGATGGCCGATTAGAAATAAGGTCAAGCGGATGGGTTGGCGGGGGCAGCTAGAGCAGGACTACAAACGCCGTACAGATATGGATGGATCTTAGTTTGCCCCATCTACTTTAATAGTCTAAGCGAGGACCACCCGTCTCACAGTGTCTGAAATTCTCATCTGCGAGCCCTCTCGAATCCAAGTCGGGTGTTCCGTAACTGTTCAGTAGTCTGACCACAAATGAGAAGAACAGAATCTGAGTCTCGGGTTATCGCAGGGTGGATTTACAGGCGGAA',\n",
        "   'sequence_4': 'TTGTAGCGTCTGCAACGTTCACCGTCCCCCACGTCATCCATGTTGGATTTATAGGGTCATCGCCAGTCACTCTATAGGGAGATAACGTCTAGTAGTGTGATTTGATTGTGATTAAGGAGATCGCAGAGCTCTAAAATCCAAGATTAGACAGAGCGATTGATCCGTAGCGAGAAATGGAATCGACAGCCCAGTGCGCGAATAATATCGGTTGTCGCCGCGCCACAGAGAAGAGAGCATGCCATGTCCAAACAGCGCCGTTGTTTCTTCATGCTTGAAGATGGGCTACGGAATCCCAGGCACTTGAATCCCATAACTCCACTTCGTAAAGTCGCGCTCAAGTTATATACGCTACCCTAATACTACGATATTCTCAAAGTAATACATAATGTCACCCATTAATGTTCGCATTCTACACATATTGAAACCACATGCCGAAACAACCAGCTTAAAGGCATCACCGTTGCATTAACTGCTTACATTTGATAAAACCCCTACAGCTGCTGATTTTGAAGATAGGATACGATTATTGGTTTGTTTCTAATGCTCTGATGGCCTAAGGGGATAGATTGATCAACAGCTGGTTAAACGTTTACCCTGTACGAGCCTACAGTTACTTGGGCGGCCGTGTATGTAGAGGAGCCTATACTAGGCGGGTACAAACGTCTGATAACCGGGTGGACAAGCCTTTCACGCCGCCAAGTGCGTTGTCTGCCCTCCCCGGATCGGTGGCACTACATGGTCTGTTACCACAGCGAATGACGTCAGGGACTCGGTCGATGCGCCCGAGTAGTTTGAGCCCCGGGAAATTAGTTCCGCAACATATGTTTTCGCTATGGAACATGCGCGGCTTTAGTTCGCCTGGGACGTAGAGATTTTCCACAAATCTTGGTCACTGCACCCCAAGCCGTCTTACTTGTTAATGGCGCTTGATTCGTTGAAGGTCTCAGGGTCTGGTTGGTACAAAAAAGGTTTGAATGAGCGAGCAATTGGTCGGGTACAC'}),\n",
        " ('f1d38',\n",
        "  {'creation_time': '5',\n",
        "   'id': 'f1d3870c59b2dd9750e0404ad7fb1a24ca4e925836a51c9e397c1e61a88be61aed05ba04c4f88a8754037a415704f3366e1bb1e8d4784f4b6aca47204410345f',\n",
        "   'segment_number': '4',\n",
        "   'sequence_1': 'CAATAGTCTCGACGCGTAGGGCATGCAGTGCCGCGTGATGCGCTTGGAAACCGCCACAATTCTAAACTAGACCAAATCGTCATCCCCCCAAAGACGTCCCCTTGCGGCCTACAGATCAGTAGCATATTGTTGGGCCAAAATTTGCGCAATACCACCCACGATTATCGACATAATCATGCACGGTCCCGTCTTCGTATATCAGGATCATCTTTGCCTATATTTAACCGGGTTGCCCGTCGCAGGAACGGAACCTTCGAGCACGCCGCACTACTGGCAATAAAGTCCGTTTCCCAGTATACCTGTTGAGTCAAGTTGTGGGGATTCCCTGCTATAGTCACAACGTAGGAGGTGTGCAGCTAAGTTTATAGCAATGCTACTCGCGGGAAACTAGACGCGCCAAAATTGCCTACTCTCTCCACAGCCGTTTCTGGTAGAGACAGAAGACCGCTATACGAAGGAAGGAGAATCGCAGGGGTGTGTGGACTCGCAACCCGGCTTTGTTAAAGGGTTTGTGGAGTTAGACTACTGGCCATATGGAGTGGCGCAACATTCCTGGGGGAGGCTCCCGGACCGCAACACAGGCAAGCGACCTTTAGCGGTCCTTTCAACCCGGAGTGCTTCCCACCTTGGATGAGGCGCCTCCCCCCGATAAGGTTTGTGTAGAAACGCACCATAGAAGCCTTAAATCATTGCAGGGTATGCACGTTTTCGATTCTAGGCGCAATTGGATGGCCGATAAGAAATAAGGTCAAGCGGATGGGTTGGCGGGGGCAGCTAGAGCAGGACTACAAACGCCGTACTGATATGGATGGATCTTAGTTTGCCCCATCTACTTTAATAGTCTAAGCGAGGACCACCCGTCTCACAGTGTCTGAAATTCTCATCTGCGAGCCCTCTCGAATCCAAGTCGGGTGTTCCGTAACTGTTCAGTAGTCTGACCACAAATGAGAAGAACAGAATCTGAGTCTCGGGTTATCGCAGGGTGGATTTACAGGCGGAA',\n",
        "   'sequence_4': 'TTCGAGCGTCTGCAACGTTCACCGTCCCCCACGTCATCCATGTTGGATTTATAGGGTCATCGCCAGTCACTCAATAGGGAGATAACGTCTAGTAGTGTGATTTGATTGTGATTAAGGAGATCGCAGAGCTCTAAAATGCAAGATTAGACAGAGCGATTGATGCGTAACGAGAAATGGAATCGACAGCCCAGTGCGCGAATAATATCGGTTGTCGCCGCGCCACAGAGAAGAGAGCATGCCATGTCCAAACAGCACCGTTGTTTCTTCATGCTTGAAGATGGGCTACGGAATCCCAGGCACTTGAATCCCATAACTCCACTTCGTAAAGTCGCGCGCCAGTTATATACGCTACCCTAATACTACGATATTCTCAAAGTAATACATAATGTCACCCATTAATGTTCGCATTCTACACATATTGAAACCACATGCCGAAACAACCAGCTTAAAGGCATCACCGTTGCATAAACTGCTTACATTTGATAAAACGCCCAGAGCTGCTGATATTGAAGATAGGATACGATTATTGGTTTGTTTCTAATGCTCTGATCGCCTAAGGGGATAGATTGATCAACAGCTGGTTAAACGTTTACCCTGTACGAGCCTACAGTTACTTGGGCGGCCGTGTATGTAGAGGAGCCTATACTAGGCGGGTACAAACGTCTGATAACCGGGTGGACAAGCCTTTCACGCCGCCAAGTGCGTTGTCTGCCCTCCCCGGATCGGTGGCACTACATGGTCTGTTACCACAGCGAATGACGTCAGGGACTCGGTCGATGCGCCCGAGTAGTTTGAGCCCCGGGAAATTAGTTCCTCAACATATGTTTTCGCTATGGAACATGCGCTGCTTTAGTTCCCCTGGGACGTAGAGATTTTCCACAAATCTTGGTCACTGCACCCCAAGCCGTCTTACTCGTTAATGGCGCTTGATTCGTTGAAGGTCTCAGGCTCTGGTTGGTACAAAAAAGGTTTGAATGAGCGAGCAATTGGTCGGGTACAC'}),\n",
        " ('4b93b',\n",
        "  {'creation_time': '3',\n",
        "   'id': '4b93bad251e8ff07a53ee097618a06054aea98dc0f11f0aae7ca84e1a96278fb955c9a60bba3ab46c7a7dfd2632ddf2dfdc835e0c3d9cfb5c6072a7bd6071e1b',\n",
        "   'segment_number': '4',\n",
        "   'sequence_1': 'CAATAGTCTCGACGCGTAGGGCATGCAGTGCCGCGTGATGCGCTTGGAAACCGCCACAATTCTAAACTAGACCAAATCGTCATCCCCCCAAAGACGTCCCCTTGCGGCCTACAGATCAGTAGCATATTGTTGGGCCAAAATTTGCGCAATACCACCCACGATTATCGACATAATCATGCACGGTCCCGTCTTCGTATATCAGGATCATCTTTGCCAATATTTAACCGGGTTGCCCGTCGCAGGAACGGAACCTTCGAGCACGCCGCACTACTGGCAATAAAGTCCGTTTCCCAGTATACCTGTTGAGTCAAGTTGTGGGGATTCCCTGCTATAGTCACAACGTAGGAGGTGTGCAGCTAAGTTTATAGCAATGCTACTCGCGGGAAACTAGACGCGCCAAAATTGCCTACTCTCTCCACAGCCGTTTCTGGTAGAGACAGAAGACCGCTATACGAAGGAAGGAGAATCGCAGGGGTGTGTGGACTCGCAACCCGGCTTTGTTAAAGGGTTTGTGGAGTTAGACTACTGGCCATATGGAGTGGCGCAACATTCCTGGGGGAGGCTCCCGGACCGCAACACAGGCAAGCGACCTTTAGCGGTCCTTTCAACCCGGAGTGCTTCCCACCTTGGATGAGGCGCCTCCCCCCGATAAGGTTTGTGTAGAAACGCACCATAGAAGCCTTAAATCATTGCAGGGTATGCACGTTTTCGATTCTAGGCGCAATTGGATGGCCGATAAGAAATAAGGTCAAGCGGATGGGTTGGCGGGGGCAGCTAGAGCAGGACTACAAACGCCGTACTGATATGGATGGATCTTAGTTTGCCCCATCTACTTTAATAGTCTAAGCGAGGACCACCCGTCTCACAGTGTCTGAAATTCTCATCTGCGAGCCCTCTCGAATCCAAGTCGGGTGTTCCGTAACTGTTCAGTAGTCTGACCACAAATGAGAAGAACAGAATCTGAGTCTCGGGTTATCGCAGGGTGGATTTACAGGCGGAA',\n",
        "   'sequence_4': 'TTGGAGCGTCTGCAACGTTCACCGTCCCCCAAGTCATCCATGTTGGATTTATAGGGTCATCGCCAGTCACTCTATAGGGAGATTACCTCTAGTAGTGTGATTTGATTGTGATTAAGGAGATCGCAGAGCTCTAAAATGCAAGATTAGACAGAGCGATTGATCCGTAACGAGAAATGGAATCGACAGCCCAGTGCGCGAATAATATCGGTTGTCGCCGCGCCACAGAGAAGAGAGCATGGCATGTCCAAACAGCACCGTTGTTTCTTCTTGCTTGAAGATGGGCTACGGAATCCCAGGCACTTGAATCCCATAACTCCACTTCGTAAAGTCGCGCGCAAGTTATATACGCTACCCTAATACTACGATATTCTCAAAGTAATACATAATGTCACCCATTAATGTTCGCATTCTACACATCTTGAAACCACATGCCGAAACAACCAGCTTAAAGGCATCACCGTTGCATTAACTGCTTACATTTGATAAAACGCCCAGAGCTGCTGATTTTGAAGATAGGATACGATTATTGGTTTGTTTCTAATGCTCTGATCGCCTAAGGGGATAGATTGATCAACAGCTGGTTAAACGTTTACCCTGTACGAGCCTACAGTTACTTGGGCGGCCGTGTATGTAGAGGAGCCTATACTAGGCGAGTACAAACGTCTGATAACCGGGTGGACAAGCCTTTCACGCCGCCAAGTGCGTTGTCTGCCCTCCCCGGATCGGTGGCACTACATGGTCTGTTACCACAGCGAATGACGTCAGGGACTCGGTCGATGCGCGAGAGTAGTTTGAGCCCCGGGAAATTAGTACCGCAACATATGTTTGCGCTATGGAACATGCGCGGCTTTAGTTCCCCTGGGACGTAGAGATTTGCCACAAATCTTGGTCACTGCACCCCAAGCCGTCTTACTTGTTAATGGCGCTTGATTCGTTGAAGGTCTCAGGGTCTGGTTGGTACAAAAAAGGTTTGAATGAGCGAGCAATTGGTCGGGTACAC'}),\n",
        " ('0fff1',\n",
        "  {'creation_time': '2',\n",
        "   'id': '0fff1b119e70ecb5997b1d42d16455da932c702c3e55ed6e4e5f341924636cabe98fb2181ba0548c698ec819b0a88e3bc1ddcc6c12d7e7457ef9fd0ed1e0d6c7',\n",
        "   'segment_number': '4',\n",
        "   'sequence_1': 'CAATAGTCTCGACGCGTAGGGCATGCAGTGCCGCGTGATGCGCTTGGAAACCGCCACAATTCTAAACTAGACCAAATCGTCATCCCCCCAAAGACGTCCCCTTGCGGCCTACAGATCAGTAGCATATTGTTGGGCCAAAATTTGCGCAATACCACCCACGATTATCGACATAATCATGCACGGTCCCGTCTTCGTATATCAGGATCATCTTTGCCTATATTTAACCGGGTTGCCCGTCGCAGGAACGGAACCTTCGAGCACGCCGCACTACTGGCAATAAAGTCCGTTTCCCAGTATACCTGTTGAGTCAAGTTGTGGGGATTCCCTGCTATAGTCACAACGTAGGAGGTGTGCAGCTAAGTTTATAGCAATGCTACTCGCGGGAAACTAGACGCGCCAAAATTGCCTACTCTCTCCACAGCCGTTTCTGGTAGAGACAGAAGACCGCTATACGAAGGAAGGAGAATCGCAGGGGTGTGTGGACTCGCAACCCGGCTTTGTTAAAGGGTTTGTGGAGTTAGACTACTGGCCATATGGAGTGGCGCAACATTCCTGGGGGAGGCTCCCGGACCGCAACACAGGCAAGCGACCTTTAGCGGTCCTTTCAACCCGGAGTGCTTCCCACCTTGGATGAGGCGCCTCCCCCCGATAAGGTTTGTGTAGAAACGCACCATAGAAGCCTTAAATCATTGCAGGGTATGCACGTTTTCGATTCTAGGCGCGATTGGATGGCCGATAAGAAATAAGGTCAAGCGGATGGGTTGGCGGGGGCAGCTAGAGCAGGACTACAAACGCCGTACTGATATGGATGGATCTTAGTTTGCCCCATCTACTTTAATAGTCTAAGCGAGGACCACCCGTCTCACAGTGTCTGAAATTCTCATCTGCGAGCCCTCTCGAATCCAAGTCGGGTGTTCCGTAACTGTTCAGTAGTCTGACCACAAATGAGAAGAACAGAATCTGAGTCTCGGGTTATCGCAGGGTGGATTTACAGGCAGAA',\n",
        "   'sequence_4': 'GAGCGCGTGAATGCATGTACTAAGTACAGTCAAAGAGATGAGCCAATCTTGATTAGTGCCATCGCAAGTGGGCCTGTTACCTACGGGAGATGCCTTCGAAAATTTTTGACATTCAAAGCGGAAAGATGTAGTTCATATGATTGTGCACGACACTTCCCCCGCAGGCTCGTGCATCTTGCGGAGCGGTGACCCAGATACCGGGAGACCGGTACTCCGGATTCCTTTTCTCGCGCGGGGATAATAACAGGCCGTAGAGGCTTGCACACGCATCTATATACGAATACGCTCTCGATTTGCTATACCCAGTCATCTAAAAAGGTCCTAGGCTAGACTGAACGGCAAGATCAAGCGCCTAAAACTAAGATTGCTAACGTAAAGAGCGACTCTCGTGGATTTCTTTTAATACCGCGGCGTGACGGGCTGTAAATTCCTAGTTCCAAGTATAGTCACCCGTTGTTAGTAAGGGGAAACCCTGACGTTCGGGGGCATCTGTCGACTGCGCAGACGGCTTATGAATGGCGGGAGCGACGACCTTGTAGGCTTACGAAAGAGCAAATACGGAATCCATCGTGGAATCTCCCAGGGGCTGACCTCCAGGAAGTGAAACCCTGCTATATGATTGCTCTTTGTTCGGCCCTTTACTCTACATGTATAGACCGGAAGAAAAACTTCCACCACGCACGTCCCCCATGCATCCGGTGGACAAAACGGGAGATGCTTTACTCGCTATCCTCGTAGCATTGGTCTAAGATTCGGGAGAGGCCTAAGCACTGCCCCGAGAGAAGTAGATACATTATGTCCAATACTTCTGGGACTTCGGCCATAAGGTCTGTATCATTCAGTCGGTGCGATCGCGACCAAGTGTCTGAGAGTCTGTAAGGCATCGCTTTTAGTTTGGTTGAACTCTCCCTCTTTTGTTGCGAGGCCCCCCGCGCTTTGCCGACCCGGGACAAATCCGAGCGGTATTTAGTCAACGACCCGCTTAGGAAGCTTACATGTT'}),\n",
        " ('c8820',\n",
        "  {'creation_time': '6',\n",
        "   'id': 'c8820cabc8269c0c7949c132556af66c0d031e41fa2a04efceac5d671d43a1e77773119d5e19494182b98e73d50bba0329ed3044646a4aec74675198bd31b78c',\n",
        "   'segment_number': '4',\n",
        "   'sequence_1': 'CAATAGTCTCGACGCGTAGGGCATGCAGTGCCGCGTGATGCGCTTGGAAACCGCCACAATTCTAAACTAGACCAAATCGTCATCCCCCCAAAGACGTCCCCTTGCGGCCTACAGATCAGTAGCATATTGTTGGGCCAAAATTTGCGCAATACCACCCACGATTATCGACATAATCATGCACGGTCCCGTCTTCGTATATCAGGATCATCTTTGCCTATATTTAACCGGGTTGCCCGTCGCAGGAACGGAACCTTCGAGCACGCCGCACTACTGGCAATAAAGTCCGTTTCCCAGTATACCTGTTGAGTCAAGTTGTGGGGATTCCCTGCTATAGTCACAACGTAGGAGGTGTGCAGCTAAGTTTATAGCAATGCTACTCGCGGGAAACTAGACGCGCCAAAATTGCCTACTCTCTCCACAGCCGTTTCTGGTAGAGACAGAAGACCGCTATACGAAGGAAGGAGAATCGCAGGGGTGTGTGGACTCGCAACCCGGCTTTGTTAAAGGGTTTGTGGAGTTAGACTACTGGCCATATGGAGTGGCGCAACATTCCTGGGGGAGGCTCCCGGACCGCAACACAGGCAAGCGACCTTTAGCGGTCCTTTCAACCCGGAGTGCTTCCCACCTTGGATGAGGCGCCTCCCCCCGATAAGGTTTGTGTAGAAACGCACCATAGAAGCCTTAAATCATTGCAGGGTATGCACGTTTTCGATTCTAGGCGCAATTGGATGGCCGATAAGAAATAAGGTCAAGCGGATGGGTTGGCGGGGGCAGCTAGAGCAGGACTACAAACGCCGTACTGATATGGATGGATCTTAGTTTGCCCCATCTACTTTAATAGTCTAAGCGAGGACCACCCGTCTCACAGTGTCTGAAATTCTCATCTGCGAGCCCTCTCGAATCCAAGTCGGGTGTTCCGTAACTGTTCAGTAGTCTGACCACAAATGAGAAGAACAGAATCTGAGTCTCGGGTTATCGCAGGGTGGATTTACAGGCGGAA',\n",
        "   'sequence_4': 'TTCGAGCGTCTGGAACGTTCACCGTTCCCCACGTCATCCATGTTGGATTTATAGGGTCATCGCCAGTCACTCAATAGGGAGATAACGTCTAGTAGTGTGATTTGAGTGTGATTAAGGAGATCGCAGAGCTCTAAAATGCAAGATTAGACAGAGCGATTGATGCGTAACGAGAAATGGAATCGACAGCCCAGTGCGCGAATAATATCGGTTGTCGCCGCGCCACAGAGAAGAGAGCATGCCATGTCCAAACAGCACCGTTGTTTCTTCATGCTTGAAGATGTGCTACGGAATCCCAGGCACTTGAATCCCATAACTCCACTTCGTAAAGTCGAGCGCCAGTTATATACGCTACCCTAATACTACGATAGTCTAAAAGTAATACATAATGTCACCCATTAATGTTCGCATTCTACACATATTGAAACCACATGCCGAAACAACCAGCTTAAAGGCATCACCGTTGCATAAACTGCTTACATTTGATAAAACGCCCAGAGCTGCTGGTATTGAAGATAGGATACGATTATTGGTTTGTTTCTAATGCTCTGATCGCCTAAGGGGATAGATTGATCAACAGCTGGTTAAACGTTTACCCTGTACGAGCCTACAGTTACTTGGGCGGCCGTGTATGTAGAGGAGCCTATACTAGGCGGGTACAAACGTCTGATAACCGGTTGGACAAGCCTTTCACGCCGCCAAGTGCGTTGTCTGCCCTCCCCGGATCGGTGGCACTACATGGTCTGTTACCACAGCGAATGACGTCAGGGACTCGGTCGATGCGCCCGAGTAGTTTGAGCCCCGGGAAATTAGTTCCTCAACATATGTTTTCGCTATGGAACATGCGCTGCTTTAGTTCCCCTGGGACGTAGAGATTTTCCACAAATCTTGGTCACTGCACCCCAAGCCGGCTTACTCGTTAATGGCGCTTGATTCGTTGAAGGTCTCAGGCTCTGGTTGGTACAAAAAAGGTTTGAATGAGAGAGCAATTGGTCGGGTACAC'}),\n",
        " ('68ee9',\n",
        "  {'creation_time': '7',\n",
        "   'id': '68ee9f8d8c598728e5594ed9c5f7dfa5564ec0f734d3df41d614d10986771cd6d6de838893a8da2cf6d1f66b6c9c45832717b9828aa1f562b62ee93948d7ab6c',\n",
        "   'segment_number': '4',\n",
        "   'sequence_1': 'CAATAGTCTCGACGCGTAGGGCATGCAGTGCCGCGTGATGCGCTTGGAAACCGCCACAATTCTAAACTAGACCAAATCGTCATCCCCCCAAAGACGTCCCCTTGCGGCCTACAGATCAGTAGCATATTGTTGGGCCAAAATTTGCGCAATACCACCCACGATTATCGACATAATCATGCACGGTCCCGTCTTCGTATATCAGGATCATCTTTGCCTATATTTAACCGGGTTGCCCGTCGCAGGTACGGAACCTTCGAGCACGCCGCACTACTGGCAATAAAGTCCGTTTCCCAGTATACCTGTTGAGTCAAGTTGTGGGGATTCCCTGCTATAGTCACAACGTAGGAGGTGTGCAGCTAAGTTTATAGCAATGCTACTCGCGGGAAACTAGACGCGCCAAAATTGCCTACTCTCTCCACAGCCGTTTCTGGTAGAGACAGAAGACCGCTATACGAAGGAAGGAGAATCGCAGGGGGGTGTGGACTCGCAACCCGGCTTTGTTAAAGGGTTGGTGGAGTTAGACTACTGGCCATATGGAGTGGCGCAACATTCCTAGGGGAGGCTCCCGGACCGCAACACAGGCAAGCGACCTTTAGCGGTCCTTTCAACCCGGAGTGCTTCCCACCTTGGATGAGGCGCCTCCCCCCGATAAGGTTTGTGTAGAAACGCACCATAGAAGCCTTAAATCATTGCAGGGTATGCACGTTTTCGATTCTAGGCGCAATTGGATGGCCGATTAGAAATAAGGTCAAGCGGATGGGTTGGCGGGGGCAGCTAGAGCAGGACTACAAACGCCGTACAGATATGGATGGATCTTAGTTTGCCCCATCTACTTTAATAGTCTAAGCGAGGACCACCCGTCTCACAGTGTCTGAAATTCTCATCTGCGAGCCCTCTCGAATCCAAGTCGGGTGTTCCGTAACTGTTCAGTAGTCTGACCACAAATGAGAAGAACAGAATCTGAGTCTCGGGTTATCGCAGGGTGGATTTACAGGCGGAA',\n",
        "   'sequence_4': 'TTCGAGCGTCTGGAACGTGCACCGTCCCCCACGTCATCCATGTTGGATTTATAGGGTCATCGCCAGTCACTCAATAGGGAGATAACGTCTAGTAGTGTGATTTGAGTGTGATTAAGGAGATCGCAGAGCTCTAAAATGCAAGATTAGACAGAGCGATTGATGCGTAACGAGAAATGGAATCGACAGCCCAGTGCGCGAATAATATCGGTTGTCGCCGCGCCACAGAGAAGAGAGCATGCCATGTCCAAACAGCACCGTTGTTTCTTCATGCTTGAAGATGTGCTACGGAATCCCAGGCACTTGAATCCCATAACTCCACTTCGTAAAGTCGAGCGCCAGTTATATACGCTACCCTAATACTACGATAGTCTAAAAGTAATACATAATGTCACCCATTAATGTTCGCATTCTACACATATTGAAGCCACATGCCGAAACAACCAGCTTATAGGCATCACCGTTGCATAAACTGCTTACATTTGATAAAACGCCCAGAGCTGCTGGTATTGGAGATAGGATTCGATTATTGGTTTGTTTCTAATGCTCTGATCGCCTAAGGGGATAGATTGATCAACAGCTGGTTAAACGTTTACCCTGTACGAGCCTACAGTTACTTGGGCGGCCGTGTATGTAGAGGAGCCTATACTAGGCGGGTACAAACGTCTGATAACCGGTTGGACAAGCCTTTCACGCCGCCAAGTGCGTTGTCTGCCCTCCCCGGATCGGTGGCACTACATGGTCTGTTACCACAGCGAATGACGTCAGGGACTCGGTCGATGCGCCCGAGTAGTTTGAGCCCCGGGAAATTAGTTCCTCAACATATGTTTTCGCTATGGAACATGCGCTGCTTTAGTTCCCCTGGGACGTAGAGATTTTCCACAAATCTTGGTCACTGCACCCCAAGCCGGCTTACTCGTTAATGGCGCTTGATTCGTTGAAGGTCTCAGGCTCTGGTTGGTACAAAAAAGGTTTGAATGAGAGAGCAATTGGTCGGGTACAC'}),\n",
        " ('5e517',\n",
        "  {'creation_time': '0',\n",
        "   'id': '5e5171eb4f0e7046ae683f069a4ec6915fab0945d3f5148081ed76096fb06dd746b4c455624912a7bc12873eb42be0fe686aaed4ed38a92b1392f9b0210314f5',\n",
        "   'segment_number': '4',\n",
        "   'sequence_1': 'CAATAGTCTCGACGCGTAGGGCATGCAGTGCCGCGTGATGCGCTTGGAAACCGCCACAATTCTAAACTAGACCAAATCGTCATCCCCCCAAAGACGTCCCCTTGCGGCCTACAGATCAGTAGCATATTGTTGGGCCAAAATTTGCGCAATACCACCCACGATTATCGACATAATCATGCACGGTCCCGTCTTCGTATATCAGGATCATCTTTGCCTATATTTAACCGGGTTGCCCGTCGCAGGAACGGAACCTTCGAGCACGCCGCACTACTGGCAATAAAGTCCGTTTCCCAGTATACCTGTTGAGTCAAGTTGTGGGGATTCCCTGCTATAGTCACAACGTAGGAGGTGTGCAGCTAAGTTTATAGCAATGCTACTCGCGGGAAACTAGACGCGCCAAAATTGCCTACTCTCTCCACAGCCGTTTCTGGTAGAGACAGAAGACCGCTATACGAAGGAAGGAGAATCGCAGGGGTGTGTGGACTCGCAACCCGGCTTTGTTAAAGGGTTTGTGGAGTTAGACTACTGGCCATATGGAGTGGCGCAACATTCCTGGGGGAGGCTCCCGGACCGCAACACAGGCAAGCGACCTTTAGCGGTCCTTTCAACCCGGAGTGCTTCCCACCTTGGATGAGGCGCCTCCCCCCGATAAGGTTTGTGTAGAAACGCACCATAGAAGCCTTAAATCATTGCAGGGTATGCACGTTTTCGATTCTAGGCGCAATTGGATGGCCGATAAGAAATAAGGTCAAGCGGATGGGTTGGCGGGGGCAGCTAGAGCAGGACTACAAACGCCGTACTGATATGGATGGATCTTAGTTTGCCCCATCTACTTTAATAGTCTAAGCGAGGACCACCCGTCTCACAGTGTCTGAAATTCTCATCTGCGAGCCCTCTCGAATCCAAGTCGGGTGTTCCGTAACTGTTCAGTAGTCTGACCACAAATGAGAAGAACAGAATCTGAGTCTCGGGTTATCGCAGGGTGGATTTACAGGCGGAA',\n",
        "   'sequence_4': 'TTGGAGCGTCTGCAACGTTCACCGTCCCCCACGTCATCCATGTTGGATTTATAGGGTCATCGCCAGTCACTCTATAGGGAGATAACGTCTAGTAGTGTGATTTGATTGTGATTAAGGAGATCGCAGAGCTCTAAAATGCAAGATTAGACAGAGCGATTGATCCGTAACGAGAAATGGAATCGACAGCCCAGTGCGCGAATAATATCGGTTGTCGCCGCGCCACAGAGAAGAGAGCATGCCATGTCCAAACAGCACCGTTGTTTCTTCATGCTTGAAGATGGGCTACGGAATCCCAGGCACTTGAATCCCATAACTCCACTTCGTAAAGTCGCGCGCAAGTTATATACGCTACCCTAATACTACGATATTCTCAAAGTAATACATAATGTCACCCATTAATGTTCGCATTCTACACATATTGAAACCACATGCCGAAACAACCAGCTTAAAGGCATCACCGTTGCATTAACTGCTTACATTTGATAAAACGCCCAGAGCTGCTGATTTTGAAGATAGGATACGATTATTGGTTTGTTTCTAATGCTCTGATCGCCTAAGGGGATAGATTGATCAACAGCTGGTTAAACGTTTACCCTGTACGAGCCTACAGTTACTTGGGCGGCCGTGTATGTAGAGGAGCCTATACTAGGCGGGTACAAACGTCTGATAACCGGGTGGACAAGCCTTTCACGCCGCCAAGTGCGTTGTCTGCCCTCCCCGGATCGGTGGCACTACATGGTCTGTTACCACAGCGAATGACGTCAGGGACTCGGTCGATGCGCCCGAGTAGTTTGAGCCCCGGGAAATTAGTTCCGCAACATATGTTTTCGCTATGGAACATGCGCGGCTTTAGTTCCCCTGGGACGTAGAGATTTTCCACAAATCTTGGTCACTGCACCCCAAGCCGTCTTACTTGTTAATGGCGCTTGATTCGTTGAAGGTCTCAGGGTCTGGTTGGTACAAAAAAGGTTTGAATGAGCGAGCAATTGGTCGGGTACAC'}),\n",
        " ('00f33',\n",
        "  {'creation_time': '8',\n",
        "   'id': '00f335519b787b6a30adbfaa02136e393da4e477e786b126f00b609c03a4f57f12ca47972ca9e13d949ebccdac286849516f3056b0f4e28560ee4b145c053479',\n",
        "   'segment_number': '4',\n",
        "   'sequence_1': 'CAATAGTCTCGACGCGTAGGGCATGCAGTGCCGCGTGATGCGCTTGGAAACCGCCACAATTCTAAACTAGACCAAATCGTCATCCCCCCAAAGACGTCCCCTTGCGGCCTACAGATCAGTAGCATATTGTTGGGCCAAAATTTGCGCAATACCACCCACGATTATCGACATAATCATGCACGGTCCCGTCTTCGTATATCAGGATCATCTTTGCCTATATTTAACCGGGTTGCCCGTCGCAGGAACGGAACCTTCGAGCACGCCGCACTACTGGCAATAAAGTCCGTTTCCCAGTATACCTGTTGAGTCAAGTTGTGGGGATTCCCTGCTATAGTCACAACGTAGGAGGTGTGCAGCTAAGTTTATAGCAATGCTACTCGCGGGAAACTAGACGCGCCAAGATTGCCTACTCTCTCCACAGCCGTTTCTGGTAGAGACAGAAGACCGCTATACGAAGGAAGGAGAATCGCAGGGGTGTGTGGACTCGCAACCCGGCTTTGTTAAAGGGTTTGTGGAGTTAGACTACTGGCCATATGGAGTGGCGCAACATTCCTGGGGGAGGCTCCCGGACCGCAACACAGGCAAGCGACCTTTAGCGGTCCTTTCAACCCGGAGTGCTTCCCACCTTGGATGAGGCGCCTCCCCCCGATAAGGTTTGTGTAGAAACGCACCATAGAAGCCTTAAATCATTGCAGGGTATGCACGTTTTCGATTCTAGGCGCAATTGGATGGCCGATAAGAAATAAGGTCAAGCGGATGGGTTGGCGGGGGCAGCTAGAGCAGGACTACAAACGCCGTACTGATATGGATGGATCTTAGTTTGCCCCATCTACTTTAATAGTCTAAGCGAGGACCACCCGTCTCACAGTGTCTGAAATTCTCATCTGCGAGCCCTCTCGAATCCAAGTCGGGTGTTCCGTAACTGTTCAGTAGTCTGACCACAAATGAGAAGAACAGAATCTGAGTCTCGGGTTATCGCAGGGTGGATTTACAGGCGGAA',\n",
        "   'sequence_4': 'TTCGAGCGTCTGCAACGTTCACCGTCCCCCACGTCATCCATGTTGGATTTATAGGGTCATCGCCAGTCACTCAATAGGGAGATAACATCTAGTAGTGTGATTTGATTGTGATTAATGAGATCGCAGAGCTCTAAAATGCAAGATTAGACAGAGCGATTGATGCGTAACGAGAAATGGAATCGACAGCCCAGTGCGCGAATAATATCGGTTGTCGCCGCGCCACAGAGAAGAGAGCATGCCATGTCCAAACAGCACCGTTGTTTCTTCATGCTTGAAGATGGGCTACGGAATCCCAGGCACTTGAATCCCATAACTCCACTTCGTAAAGTCGCGCGCCAGTGATATACGCTACCCTAATACTACGATATTCTCTAAGTAATACATAATGTCACCCAGTAATGTTCGCTTTCTACACATATTGAAACCACATGCCGAAACAACCAGGTTAAAGGCATCACCGTTGCATAAACAGCTTACATTTGATAAAACGCCCAGAGCTGCTGATATTGAATATAGGATACGATTATTGGTTTGTTTCTAATGCTCTGATCGCCTAAGGGGATAGATTGATCAACAGCTGGTTAAACGTATACCCTTTACGAGCCTACAGTTACTTGGGCGGCCGTGTATGTAGAGGAGCCTATACTAGGCGGGTACAAACGTCTGATAACCGGGTGGACAAGCCATTCACGCCGCCAAGTGCGTTGTCTGCCCTCCCCGGATCGGTGGCACTACATGGTCTGTTACCATAGCGAATGACGTCAGGGACTCGGTCGATGCGCCCGAGTAGTTTGAGCCCCGGGAAATTAGTTCCTCAACATATGTTTTCGCTATGGAACATGCGCTGCTTTAGTTCCCCTGGGACGTAGAGATTTTCCACAAATCTTGGTCACTGCACCCCAAGCCGTCTTACTCGTTAATGGCGCTTGATTCGTTGAAGGTCTCAGGCTCTGGTTGGTACAAGAAAGGTTTGAATGAGCGAGCAATTGGTCGGGTACAG'}),\n",
        " ('7e9f8',\n",
        "  {'creation_time': '0',\n",
        "   'id': '7e9f8c89919d30a185cdc3f67751430e515c1860fd0e3a77e3e1f484e2e436cc825b3da7820c7f1dd018d76193e687ef45432649617eb2e75291ca17466444a7',\n",
        "   'segment_number': '4',\n",
        "   'sequence_1': 'CAATAGTCTCGACGCGTAGGGCATGCAGTGCCGCGTGATGCGCTTGGAAACCGCCACAATTCTAAACTAGACCAAATCGTCATCCCCCCAAAGACGTCCCCTTGCGGCCTACAGATCAGTAGCATATTGTTGGGCCAAAATTTGCGCAATACCACCCACGATTATCGACATAATCATGCACGGTCCCGTCTTCGTATATCAGGATCATCTTTGCCTATATTTAACCGGGTTGCCCGTCGCAGGAACGGAACCTTCGAGCACGCCGCACTACTGGCAATAAAGTCCGTTTCCCAGTATACCTGTTGAGTCAAGTTGTGGGGATTCCCTGCTATAGTCACAACGTAGGAGGTGTGCAGCTAAGTTTATAGCAATGCTACTCGCGGGAAACTAGACGCGCCAAAATTGCCTACTCTCTCCACAGCCGTTTCTGGTAGAGACAGAAGACCGCTATACGAAGGAAGGAGAATCGCAGGGGTGTGTGGACTCGCAACCCGGCTTTGTTAAAGGGTTTGTGGAGTTAGACTACTGGCCATATGGAGTGGCGCAACATTCCTGGGGGAGGCTCCCGGACCGCAACACAGGCAAGCGACCTTTAGCGGTCCTTTCAACCCGGAGTGCTTCCCACCTTGGATGAGGCGCCTCCCCCCGATAAGGTTTGTGTAGAAACGCACCATAGAAGCCTTAAATCATTGCAGGGTATGCACGTTTTCGATTCTAGGCGCAATTGGATGGCCGATAAGAAATAAGGTCAAGCGGATGGGTTGGCGGGGGCAGCTAGAGCAGGACTACAAACGCCGTACTGATATGGATGGATCTTAGTTTGCCCCATCTACTTTAATAGTCTAAGCGAGGACCACCCGTCTCACAGTGTCTGAAATTCTCATCTGCGAGCCCTCTCGAATCCAAGTCGGGTGTTCCGTAACTGTTCAGTAGTCTGACCACAAATGAGAAGAACAGAATCTGAGTCTCGGGTTATCGCAGGGTGGATTTACAGGCGGAA',\n",
        "   'sequence_4': 'GAGCGCGTGAATGCATGTACTAGGTACAGTCAAAGAGATGAGCCAATCTTGATTAGTGCCATCGCAAGTGGGCCTGTTACCTACGGGAGATGCCTTCGAAAATTTTTGACATTCAAAGCGGAAAGATGTAGTTCATATGATTGTGCACGACACTTCCCCCGCAGGCTCGTGCATCTTGCGGAGCGGTGACCCAGATACCGGGAGACCGGTACTCCGGATTCCTTTTCTCGCGCGGGGATAATAACAGGCCGTAGAGGCTTGCACACGCATCTATATACGAATACGCTCTCGATTTGCTATACCCAGTCATCTAACAAGGTCCTAGGCTAGACTGAACGGCAAGATCAAGCGCCTAAAACTAAGATTGCTAACGTAAAGAGCGACTCTCGTGGATTTCTTTTAATACCGCGGCGTGACGGGCTGTAAATTCCTAGTTCCAAGTATAGTCACCCGTTGTTAGTAAGGGGTAACCCTGACGTTCGGGGGCATCTGTCGACTGCGCAGACGGCTTATGAATGGCGGGAGCGACGACCTTGTAGGCTTACGAAAGAGCAAATACGGAATCCACCGTGGAATCTCCCAGGGGCTGACCTCCAGGAAGTGAAACCCTGCTATATGATTGCTCTTTGTTCAGCCCTTTACTCTACATGTATAGACCGGAAGAAAAACTTCCACCACGCACGTCCCCCATGCATCCGGTAGACAAAACGGGAGATGCTTTACTCGCTATCCTCGTAGCATTGGTCTAAGATTCGGGAGAGGCCTAAGCACTGCCCCGAGAGAAGTAGATACATTATGTCCAATACTTCTGGCACTTCGGCCATAAGGTCTGTATCATTCAGTCGGTGCGATCGCGACCAAGTGTCTGAGAGTCTGTGAGGCATCGCTTTTAGTTTGGTTGAACTCTCCCTCTTTTGTTGCGAGGCCCCCCGCGCTTTGCCGACCCGGGACAAATCCGAGCGGTATTTAGTCAACAACCCGCTTAGGAAGCTTACATGTT'}),\n",
        " ('441aa',\n",
        "  {'creation_time': '9',\n",
        "   'id': '441aac65097ccc3b75c6d575e3c5d1d9c9400a88e34b92b0fa32acee0dbef39cc92003de9be860784d776c6e8e1e3d4856e4947d6b94913ec774d317328f3e1a',\n",
        "   'segment_number': '4',\n",
        "   'sequence_1': 'CAATAGTCTCGACGCGTAGGGCATGCAGTGCCGCGTGATGCGCTTGGAAACCGCCACAATTCTAAACTAGACCAGATCGTCATCCCCCCAAAGACGTCCCCTTGCGGCCTACAGATCAGTAGCATATTGTTGGGCCAAAATTTGCGCAATACCACCCACGATTATCGACATAATCATGCACGGTCCCGTCTTCGTATATCAGGATCATCTTTGCCTATATTTAACCGGGTTGCCCGTCGCAGGTACGGAACCTTCGAGCACGCCGCACTACTGGCAATAAAGTCCGTTTCCCAGTATACCTGTTGAGTCAAGTTGTGGGGATTCCCTGCTATAGTCACAACGTAGGAGGTGTGCAGCTAAGTTTATAGCAATGCTACTCGCGGGAAACTAGACGCGCCAAAATTGCCTACTCTCTCCACAGCCGTTTCTGGTAGAGACAGAAGACCGCTATACGAAGGAAGGAGAATCGCAGGGGGGTGTGGACTCGCAACCCGGCTTTGTTAAAGGGTTGGTGGAGTTAGACTACTGGCCATATGGAGTGGCGCAACATTCCTAGGGGAGGCTCCCGGACCGCAACACAGGCAAGCGACCTTTAGCGGTCCTTTCAACCCGGAGTGCTTCCCACCTTGGATGAGGCGCCTCCCCCCGATAAGGTTTGTGTAGAAACGCACCATAGAAGCCTTAAATCATTGCAGGGTATGCACGTTTTCGATTCTAGGCGCAATTGGATGGCCGATTAGAAATAAGGTCAAGCGGATGGGTTGGCGGGGGCAGCTAGAGCAGGACGACAAACGCCGTACAGATATGGATGGATCTTAGTTTGCCCCATCTACTTTAATAGTCTAAGCGAGGACCACCCGTCTCACAGTGTCTGAAATTCTCATCTGCGAGCCCTCTCGAATCCAAGTCGGGTGTTCCGTAACTGTTCAGTAGTCTGACCACAAATGAGAAGAACAGAATCTGAGTCTCGGGTTATCGCAGGGTGGATTTACAGGCGGAA',\n",
        "   'sequence_4': 'TTCGAGCGTCTGGAACGTGCACCGTCCCCCACGTCATCCATGTTGGATTTATAGGGTCATCGCCAGTCACTCAATGGGGAGATAACGTCTAGTAGTGTGATTTGAGTGTGATTAAGGAGATCGCAGAGCTCTAAAATGCAAGATTAGACAGAGCGATTGATGCGTAACGAGAAATGGAATCGACAGCCCAGTGCGCGAATAATATCGGTTGTCGCCGCGCCACAGAGAAGAGAGCATGCCATGTCCAAACAGCACCGTTGTTTCTTCATGCTTGAAGATGTGCTACGGAATCCCAGGCACTTGAATCCCATAACTCCACTTCGTAAAGTCGAGCGCCAGTTATATACGCTACCCTAATACTACGATAGTCTACAAGTAATACATAATGTCACCCATTAATGTTCGCATTCTACACATATTGAAGCCCCAAGCCGAAACAACCAGCTTATAGGCATCACCGTTGCATAAACTGCTTACATCTTATAAAACGCCTAGAGCTGCTGGTATTGGAGATAGGATTCGATTATTGGTTTGTTTCTAATGCTCTGATCGCCTAAGGGGATAGATTGATCAACAGCTGGTTGAACGTTTACCCTGTACGAGCCTACAGTTACTTGGGCGGCCGTGCATGTAGAGGAGCCTATACTAGGCGGGTACAAACGTCTGATAACCGGTTGGACAAGCCTTTCACGCCGCCAACTGCGTTGTCTGCCCTCCCCGGATCGGTGGCACTACATGGTCTGTTACCACAGCGAATGACGTCAGGGACTCGGTCGATGCGCCCGAGTAGTTTGAGCCCCGGGAAATTAATTCCTCAACATATGTTTTCGCTATGGAACATGCGCTGCTTTAGTTCCCCTGGGACGTAGAGATTTTCCACAAATCTTGGTCACTGCACCCCAAGCCGGCTTACTCGTGAATGGCGCTTGATTCGTTGAAGGTCTCAGGCTCTGGTTGGTACAAAAAAGGTTTGAATGAGAGAGCAATTGGTCGGGTACAC'}),\n",
        " ('6a9cc',\n",
        "  {'creation_time': '4',\n",
        "   'id': '6a9ccd5b64354deb1bd3653b2d98016c2e7abff6e773509083427e5a9b18afc16db70449fc9874c31528ecd0681e395ed13024b4ed7d369223055cb0e0a4b2de',\n",
        "   'segment_number': '4',\n",
        "   'sequence_1': 'CAATAGTCTCGACGCGTAGGGCATGCAGTGCCGCGTGATGCGCTTGGAAACCGCCACAATTCTAAACTAGACCAAATCGTCATCCCCCCAAAGACGTCCCCTTGCGGCCTACAGATCAGTAGCATATTGTTGGGCCAAAATTTGCGCAATACCACCCACGATTATCGACATAATCATGCACGGTCCCGTCTTCGTATATCAGGATCATCTTTGCCTATATTTAACCGGGTTGCCCGTCGCAGGTACGGAACCTTCGAGCACGCCGCACTACTGGCAATAAAGTCCGTTTCCCAGTATACCTGTTGAGTCAAGTTGTGGGGATTCCCTGCTATAGTCACAACGTAGGAGGTGTGCAGCTAAGTTTATAGCAATGCTACTCGCGGGAAACTAGACGCGCCAAAATTGCCTACTCTCTCCACAGCCGTTTCTGGTAGAGACAGAAGACCGCTATACGAAGGAAGGAGAATCGCAGGGGTGTGTGGACTCGCAACCCGGCTTTGTTAAAGGGTTGGTGGAGTTAGACTACTGGCCATATGGAGTGGCGCAACATTCCTAGGGGAGGCTCCCGGACCGCAACACAGGCAAGCGACCTTTAGCGGTCCTTTCAACCCGGAGTGCTTCCCACCTTGGATGAGGCGCCTCCCCCCGATAAGGTTTGTGTAGAAACGCACCATAGAAGCCTTAAATCATTGCAGGGTATGCACGTTTTCGATTCTAGGCGCAATTGGATGGCCGATTAGAAATAAGGTCAAGCGGATGGGTTGGCGGGGGCAGCTAGAGCAGGACTACAAACGCCGTACAGATATGGATGGATCTTAGTTTGCCCCATCTACTTTAATAGTCTAAGCGAGGACCACCCGTCTCACAGTGTCTGAAATTCTCATCTGCGAGCCCTCTCGAATCCAAGTCGGGTGTTCCGTAACTGTTCAGTAGTCTGACCACAAATGAGAAGAACAGAATCTGAGTCTCGGGTTATCGCAGGGTGGATTTACAGGCGGAA',\n",
        "   'sequence_4': 'TTGTAGCGTCTGCAACGTTCACCGTCCCCCACGTCATCCATGTTGGATTTATAGGGTCATCGCCAGTCACTCTATAGGGAGATAACGTCTAGTAGTGTGATTTGATTGTGATTAAGGAGATCGCAGAGCTCTAAAATCCAAGATTAGACAGAGCGATTGATCCGCAGCGAGAAATGGAATCGACAGCCCAGTGCGCGAATACTATCGGTTGTCGCCGCGCCACAGAGAAGAGACCATGCCATGTCCAAACCGCGCCGTTGTTTCTTCATGCTTGAAGATGGGCTACGGAATCCCAGGCACTTGAATCCCATAACTCCACTTCGTAAAGTCGCGCTCAAGTTATATACGCTACCCTAATACTACGACATTCTCAAAGTAATACATAATGTCACCCATTAATGTTCGCATTCTACACATATTGAAACCACATGCCGAAACAACCAGCTTAAAGGCATCACCGTTGCATTAACTGCTTACATTTGATAAAACCCCTACAGCTGCTGATTATGAAGATAGGATACGATTATTGGTTTGTTTCTAATGCTCTGATGGCCTAAGGGGATAGATTGATCAACAGCTGGTTAAACGTTTACCCTGTACGAGCCTACAGTTACTTGGGCGGCCGTGTATGTAGAGGAGCCTATACTAGGCGGGTACAAACGTCTGATAACCGGGTAGACAAGCCTTTCACGCCGCCAAGTGCGTTGTCTGCCCTCCCCGGATCGGTGGCACTACATGGTCTGTTACCACAGCGAATGACGTCAGGGACTCGGTCGATGCGCCCGAGTAGTTTGAGCCCCGGGAAATTAGTTCCGCAACATATGTTTTCGCTATGGAACATGCGCGGCTTTAGTTCGCCTGGGACGTAGAGATTTTCCACAAATCTTGGTCACTGCACCCCAAGCCGTCTTACTTGTAAATGGCGCTTGATTCGTTGAAGGTCTCAGGGTCTGGTTGGTACAAAAAAGGTTTGAATGAGCGAGCAATTGGTCGGGTACAC'})]"
       ]
      }
     ],
     "prompt_number": 25
    },
    {
     "cell_type": "code",
     "collapsed": false,
     "input": [
      "# This code is used for drawing.\n",
      "from random import randint\n",
      "\n",
      "randints = []\n",
      "for node in r.condensed_graph.nodes(data=True):\n",
      "    randints.append(randint(1, 20))\n",
      "print randints\n",
      "\n",
      "reconstruction_positions = dict()\n",
      "for i, node in enumerate(sorted(r.condensed_graph.nodes(data=True))):\n",
      "    reconstruction_positions[node[0]] = (int(node[1]['creation_time']), randints[i])\n",
      "    \n",
      "print len(reconstruction_positions)\n",
      "nx.draw(r.condensed_graph, pos=reconstruction_positions)"
     ],
     "language": "python",
     "metadata": {},
     "outputs": [
      {
       "output_type": "stream",
       "stream": "stdout",
       "text": [
        "[10, 13, 5, 4, 17, 12, 3, 14, 1, 3, 9]\n",
        "11\n"
       ]
      },
      {
       "metadata": {},
       "output_type": "display_data",
       "png": "[encoded data removed]",
       "text": [
        "<matplotlib.figure.Figure at 0x1062a1f10>"
       ]
      }
     ],
     "prompt_number": 26
    },
    {
     "cell_type": "code",
     "collapsed": false,
     "input": [
      "simulation_positions = dict()\n",
      "\n",
      "print randints\n",
      "for i, pathogen in enumerate(s.pathogens):\n",
      "    simulation_positions[pathogen] = reconstruction_positions[str(pathogen)]\n",
      "    \n",
      "print len(simulation_positions)\n",
      "nx.draw(s.transmission_graph, pos=simulation_positions)"
     ],
     "language": "python",
     "metadata": {},
     "outputs": [
      {
       "output_type": "stream",
       "stream": "stdout",
       "text": [
        "[10, 13, 5, 4, 17, 12, 3, 14, 1, 3, 9]\n",
        "11\n"
       ]
      },
      {
       "metadata": {},
       "output_type": "display_data",
       "png": "[encoded data removed]",
       "text": [
        "<matplotlib.figure.Figure at 0x1062b0710>"
       ]
      }
     ],
     "prompt_number": 27
    },
    {
     "cell_type": "code",
     "collapsed": false,
     "input": [
      "s.pathogens[0].parent"
     ],
     "language": "python",
     "metadata": {},
     "outputs": [
      {
       "metadata": {},
       "output_type": "pyout",
       "prompt_number": 28,
       "text": [
        "{}"
       ]
      }
     ],
     "prompt_number": 28
    },
    {
     "cell_type": "code",
     "collapsed": false,
     "input": [
      "r.condensed_graph.edges(data=True)"
     ],
     "language": "python",
     "metadata": {},
     "outputs": [
      {
       "metadata": {},
       "output_type": "pyout",
       "prompt_number": 29,
       "text": [
        "[('80ba9', '6a9cc', {'segments': [1, 4], 'weight': 9}),\n",
        " ('f1d38', 'c8820', {'segments': [1, 4], 'weight': 11}),\n",
        " ('f1d38', '00f33', {'segments': [1, 4], 'weight': 16}),\n",
        " ('c8820', '68ee9', {'segments': [4], 'weight': 6}),\n",
        " ('68ee9', '441aa', {'segments': [1, 4], 'weight': 14}),\n",
        " ('5e517', 'f1d38', {'segments': [1, 4], 'weight': 10}),\n",
        " ('5e517', '80ba9', {'segments': [1, 4], 'weight': 14}),\n",
        " ('5e517', '4b93b', {'segments': [1, 4], 'weight': 13}),\n",
        " ('7e9f8', '0fff1', {'segments': [1, 4], 'weight': 11}),\n",
        " ('6a9cc', '68ee9', {'segments': [1], 'weight': 1})]"
       ]
      }
     ],
     "prompt_number": 29
    },
    {
     "cell_type": "code",
     "collapsed": false,
     "input": [
      "for virus in s.identify_reassortants():\n",
      "    print virus"
     ],
     "language": "python",
     "metadata": {},
     "outputs": [
      {
       "output_type": "stream",
       "stream": "stdout",
       "text": [
        "80ba9\n",
        "68ee9\n"
       ]
      }
     ],
     "prompt_number": 30
    },
    {
     "cell_type": "code",
     "collapsed": false,
     "input": [
      "for virus in r.identify_reassortants():\n",
      "    print virus[0]"
     ],
     "language": "python",
     "metadata": {},
     "outputs": [
      {
       "output_type": "stream",
       "stream": "stdout",
       "text": [
        "68ee9\n"
       ]
      }
     ],
     "prompt_number": 31
    },
    {
     "cell_type": "code",
     "collapsed": false,
     "input": [
      "s.transmission_graph.edges(data=True)"
     ],
     "language": "python",
     "metadata": {},
     "outputs": [
      {
       "metadata": {},
       "output_type": "pyout",
       "prompt_number": 32,
       "text": [
        "[(7e9f8, 80ba9, {'segments': [1], 'weight': 4}),\n",
        " (7e9f8, 0fff1, {'segments': [1, 4], 'weight': 11}),\n",
        " (80ba9, 6a9cc, {'segments': [1, 4], 'weight': 9}),\n",
        " (f1d38, 00f33, {'segments': [1, 4], 'weight': 16}),\n",
        " (f1d38, c8820, {'segments': [1, 4], 'weight': 11}),\n",
        " (68ee9, 441aa, {'segments': [1, 4], 'weight': 14}),\n",
        " (c8820, 68ee9, {'segments': [4], 'weight': 6}),\n",
        " (5e517, 80ba9, {'segments': [4], 'weight': 10}),\n",
        " (5e517, f1d38, {'segments': [1, 4], 'weight': 10}),\n",
        " (5e517, 4b93b, {'segments': [1, 4], 'weight': 13}),\n",
        " (6a9cc, 68ee9, {'segments': [1], 'weight': 1})]"
       ]
      }
     ],
     "prompt_number": 32
    },
    {
     "cell_type": "markdown",
     "metadata": {},
     "source": [
      "# Test Relabeled Graph"
     ]
    },
    {
     "cell_type": "code",
     "collapsed": false,
     "input": [
      "for pathogen in s.pathogens:\n",
      "    print (str(pathogen), str(pathogen.parent))"
     ],
     "language": "python",
     "metadata": {},
     "outputs": [
      {
       "output_type": "stream",
       "stream": "stdout",
       "text": [
        "('7e9f8', '{}')\n",
        "('5e517', '{}')\n",
        "('80ba9', '{7e9f8: [1], 5e517: [4]}')\n",
        "('0fff1', '{7e9f8: [1, 4]}')\n",
        "('4b93b', '{5e517: [1, 4]}')\n",
        "('6a9cc', '{80ba9: [1, 4]}')\n",
        "('f1d38', '{5e517: [1, 4]}')\n",
        "('c8820', '{f1d38: [1, 4]}')\n",
        "('68ee9', '{c8820: [4], 6a9cc: [1]}')\n",
        "('00f33', '{f1d38: [1, 4]}')\n",
        "('441aa', '{68ee9: [1, 4]}')\n"
       ]
      }
     ],
     "prompt_number": 33
    },
    {
     "cell_type": "code",
     "collapsed": false,
     "input": [
      "s.relabel_transmission_graph()\n",
      "s.relabeled_transmission_graph.edges(data=True)"
     ],
     "language": "python",
     "metadata": {},
     "outputs": [
      {
       "metadata": {},
       "output_type": "pyout",
       "prompt_number": 34,
       "text": [
        "[('80ba9', '6a9cc', {'segments': [1, 4], 'weight': 9}),\n",
        " ('f1d38', 'c8820', {'segments': [1, 4], 'weight': 11}),\n",
        " ('f1d38', '00f33', {'segments': [1, 4], 'weight': 16}),\n",
        " ('c8820', '68ee9', {'segments': [4], 'weight': 6}),\n",
        " ('68ee9', '441aa', {'segments': [1, 4], 'weight': 14}),\n",
        " ('5e517', '80ba9', {'segments': [4], 'weight': 10}),\n",
        " ('5e517', '4b93b', {'segments': [1, 4], 'weight': 13}),\n",
        " ('5e517', 'f1d38', {'segments': [1, 4], 'weight': 10}),\n",
        " ('7e9f8', '80ba9', {'segments': [1], 'weight': 4}),\n",
        " ('7e9f8', '0fff1', {'segments': [1, 4], 'weight': 11}),\n",
        " ('6a9cc', '68ee9', {'segments': [1], 'weight': 1})]"
       ]
      }
     ],
     "prompt_number": 34
    },
    {
     "cell_type": "code",
     "collapsed": false,
     "input": [
      "r.condensed_graph.edges(data=True)"
     ],
     "language": "python",
     "metadata": {},
     "outputs": [
      {
       "metadata": {},
       "output_type": "pyout",
       "prompt_number": 35,
       "text": [
        "[('80ba9', '6a9cc', {'segments': [1, 4], 'weight': 9}),\n",
        " ('f1d38', 'c8820', {'segments': [1, 4], 'weight': 11}),\n",
        " ('f1d38', '00f33', {'segments': [1, 4], 'weight': 16}),\n",
        " ('c8820', '68ee9', {'segments': [4], 'weight': 6}),\n",
        " ('68ee9', '441aa', {'segments': [1, 4], 'weight': 14}),\n",
        " ('5e517', 'f1d38', {'segments': [1, 4], 'weight': 10}),\n",
        " ('5e517', '80ba9', {'segments': [1, 4], 'weight': 14}),\n",
        " ('5e517', '4b93b', {'segments': [1, 4], 'weight': 13}),\n",
        " ('7e9f8', '0fff1', {'segments': [1, 4], 'weight': 11}),\n",
        " ('6a9cc', '68ee9', {'segments': [1], 'weight': 1})]"
       ]
      }
     ],
     "prompt_number": 35
    },
    {
     "cell_type": "markdown",
     "metadata": {},
     "source": [
      "# Experiment with Accuracy Metrics"
     ]
    },
    {
     "cell_type": "code",
     "collapsed": false,
     "input": [
      "matching_edges = 0\n",
      "total_edges = len(s.relabeled_transmission_graph.edges())\n",
      "for edge in r.condensed_graph.edges(data=True):\n",
      "    if edge in s.relabeled_transmission_graph.edges(data=True):\n",
      "        matching_edges += 1\n",
      "        \n",
      "\n",
      "int(float(matching_edges) / total_edges * 100)"
     ],
     "language": "python",
     "metadata": {},
     "outputs": [
      {
       "metadata": {},
       "output_type": "pyout",
       "prompt_number": 36,
       "text": [
        "81"
       ]
      }
     ],
     "prompt_number": 36
    },
    {
     "cell_type": "code",
     "collapsed": false,
     "input": [
      "# This has been implemented in the prototype functions below.\n",
      "# float(len(r.identify_reassortants()))/float(len(s.identify_reassortants()))"
     ],
     "language": "python",
     "metadata": {},
     "outputs": [],
     "prompt_number": 37
    },
    {
     "cell_type": "code",
     "collapsed": false,
     "input": [
      "# Prototype for the functions.\n",
      "def reassortant_accuracy(simulation, reconstruction):\n",
      "    num_simulation_reassortants = float(len(simulation.identify_reassortants()))\n",
      "    num_reconstruction_reassortants = float(len(reconstruction.identify_reassortants()))\n",
      "    \n",
      "    if num_simulation_reassortants == 0:\n",
      "        return 'No reassortants present in simulation.'\n",
      "    else:\n",
      "        return num_reconstruction_reassortants / num_simulation_reassortants\n",
      "    \n",
      "def transmission_edge_accuracy(simulation, reconstruction):\n",
      "    matching_edges = 0\n",
      "    total_edges = len(simulation.relabeled_transmission_graph.edges())\n",
      "    \n",
      "    for edge in reconstruction.condensed_graph.edges(data=True):\n",
      "        if edge in simulation.relabeled_transmission_graph.edges(data=True):\n",
      "            matching_edges += 1\n",
      "            \n",
      "    return float(matching_edges) / total_edges\n",
      "\n",
      "def transmission_path_accuracy(simulation, reconstruction):\n",
      "    \"\"\"\n",
      "    The accuracy of transmission paths is the number of accurate paths found \n",
      "    divided by the number of paths being considered.\n",
      "    \"\"\"\n",
      "    num_paths = 0\n",
      "    accurate_paths = 0\n",
      "    \n",
      "    for edge in reconstruction.condensed_graph.edges():\n",
      "        if simulation.transmission_path_exists(edge[0], edge[1]):\n",
      "            num_paths += 1\n",
      "            accurate_paths += 1\n",
      "        else:\n",
      "            num_paths += 1\n",
      "    \n",
      "    return float(accurate_paths)/num_paths"
     ],
     "language": "python",
     "metadata": {},
     "outputs": [],
     "prompt_number": 38
    },
    {
     "cell_type": "code",
     "collapsed": false,
     "input": [
      "print s.identify_full_transmission_paths()\n",
      "print reassortant_accuracy(s, r)\n",
      "print transmission_edge_accuracy(s, r)\n",
      "print transmission_path_accuracy(s, r)"
     ],
     "language": "python",
     "metadata": {},
     "outputs": [
      {
       "output_type": "stream",
       "stream": "stdout",
       "text": [
        "[set(['80ba9', '6a9cc']), set(['68ee9', '441aa']), set(['4b93b', '5e517', 'c8820', '00f33', 'f1d38']), set(['7e9f8', '0fff1'])]\n",
        "0.5\n",
        "0.818181818182\n",
        "0.7\n"
       ]
      }
     ],
     "prompt_number": 39
    },
    {
     "cell_type": "markdown",
     "metadata": {},
     "source": [
      "# Test path_exists(node1, node2) function"
     ]
    },
    {
     "cell_type": "code",
     "collapsed": false,
     "input": [
      "# 1 July 2014 - API Change so the following path_exist(node1, node2) code does not stand. \n",
      "# Segment number has to be specified in order for it to stand.\n",
      "# s.path_exists('b90bb', '3d39c')"
     ],
     "language": "python",
     "metadata": {},
     "outputs": [],
     "prompt_number": 40
    },
    {
     "cell_type": "code",
     "collapsed": false,
     "input": [
      "s.relabeled_transmission_graph.nodes()"
     ],
     "language": "python",
     "metadata": {},
     "outputs": [
      {
       "metadata": {},
       "output_type": "pyout",
       "prompt_number": 41,
       "text": [
        "['f1d38',\n",
        " '4b93b',\n",
        " '0fff1',\n",
        " 'c8820',\n",
        " '68ee9',\n",
        " '5e517',\n",
        " '00f33',\n",
        " '7e9f8',\n",
        " '80ba9',\n",
        " '441aa',\n",
        " '6a9cc']"
       ]
      }
     ],
     "prompt_number": 41
    },
    {
     "cell_type": "code",
     "collapsed": false,
     "input": [
      "# s.path_exists('2851c', '09001')"
     ],
     "language": "python",
     "metadata": {},
     "outputs": [],
     "prompt_number": 42
    },
    {
     "cell_type": "code",
     "collapsed": false,
     "input": [],
     "language": "python",
     "metadata": {},
     "outputs": [],
     "prompt_number": 42
    }
   ],
   "metadata": {}
  }
 ]
}