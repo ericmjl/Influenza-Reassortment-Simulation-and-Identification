{
 "metadata": {
  "name": "",
  "signature": "sha256:0d398c6a68dae66bd4dd45f33bfaa187fc29fc3cec5275d1cc2d0cc0116b31c4"
 },
 "nbformat": 3,
 "nbformat_minor": 0,
 "worksheets": [
  {
   "cells": [
    {
     "cell_type": "code",
     "collapsed": false,
     "input": [
      "import networkx as nx"
     ],
     "language": "python",
     "metadata": {},
     "outputs": [],
     "prompt_number": 1
    },
    {
     "cell_type": "code",
     "collapsed": false,
     "input": [
      "G1 = nx.DiGraph()\n",
      "G2 = nx.DiGraph()"
     ],
     "language": "python",
     "metadata": {},
     "outputs": [],
     "prompt_number": 2
    },
    {
     "cell_type": "code",
     "collapsed": false,
     "input": [
      "nodes = [1, 2, 3, 4, 5, 6, 7]\n",
      "\n",
      "for node in nodes:\n",
      "    G1.add_node(node)\n",
      "    G2.add_node(node)"
     ],
     "language": "python",
     "metadata": {},
     "outputs": [],
     "prompt_number": 3
    },
    {
     "cell_type": "code",
     "collapsed": false,
     "input": [
      "print G1.nodes()\n",
      "print G2.nodes()"
     ],
     "language": "python",
     "metadata": {},
     "outputs": [
      {
       "output_type": "stream",
       "stream": "stdout",
       "text": [
        "[1, 2, 3, 4, 5, 6, 7]\n",
        "[1, 2, 3, 4, 5, 6, 7]\n"
       ]
      }
     ],
     "prompt_number": 4
    },
    {
     "cell_type": "code",
     "collapsed": false,
     "input": [
      "G1.add_edge(1, 2, weight=1, segment=1)\n",
      "G1.add_edge(2, 3, weight=1, segment=1)\n",
      "G1.add_edge(3, 4, weight=1, segment=1)\n",
      "G1.add_edge(3, 5, weight=1, segment=1)\n",
      "G1.add_edge(4, 5, weight=1, segment=1)\n",
      "G1.add_edge(6, 7, weight=1, segment=1)\n",
      "\n",
      "print G1.edges(data=True)\n",
      "\n",
      "nx.draw(G1)"
     ],
     "language": "python",
     "metadata": {},
     "outputs": [
      {
       "output_type": "stream",
       "stream": "stdout",
       "text": [
        "[(1, 2, {'segment': 1, 'weight': 1}), (2, 3, {'segment': 1, 'weight': 1}), (3, 4, {'segment': 1, 'weight': 1}), (3, 5, {'segment': 1, 'weight': 1}), (4, 5, {'segment': 1, 'weight': 1}), (6, 7, {'segment': 1, 'weight': 1})]\n"
       ]
      },
      {
       "metadata": {},
       "output_type": "display_data",
       "png": "[encoded data removed]",
       "text": [
        "<matplotlib.figure.Figure at 0x10627c910>"
       ]
      }
     ],
     "prompt_number": 5
    },
    {
     "cell_type": "code",
     "collapsed": false,
     "input": [
      "G2.add_edge(1, 2, weight=1, segment=4)\n",
      "G2.add_edge(2, 3, weight=1, segment=4)\n",
      "G2.add_edge(2, 4, weight=1, segment=4)\n",
      "G2.add_edge(3, 5, weight=1, segment=4)\n",
      "G2.add_edge(4, 5, weight=1, segment=4)\n",
      "print G2.edges(data=True)\n",
      "nx.draw(G2)"
     ],
     "language": "python",
     "metadata": {},
     "outputs": [
      {
       "output_type": "stream",
       "stream": "stdout",
       "text": [
        "[(1, 2, {'segment': 4, 'weight': 1}), (2, 3, {'segment': 4, 'weight': 1}), (2, 4, {'segment': 4, 'weight': 1}), (3, 5, {'segment': 4, 'weight': 1}), (4, 5, {'segment': 4, 'weight': 1})]\n"
       ]
      },
      {
       "metadata": {},
       "output_type": "display_data",
       "png": "[encoded data removed]",
       "text": [
        "<matplotlib.figure.Figure at 0x10628a490>"
       ]
      }
     ],
     "prompt_number": 6
    },
    {
     "cell_type": "code",
     "collapsed": false,
     "input": [
      "combined_graph = nx.compose(G1, G2)"
     ],
     "language": "python",
     "metadata": {},
     "outputs": [],
     "prompt_number": 7
    },
    {
     "cell_type": "code",
     "collapsed": false,
     "input": [
      "combined_graph.nodes()"
     ],
     "language": "python",
     "metadata": {},
     "outputs": [
      {
       "metadata": {},
       "output_type": "pyout",
       "prompt_number": 8,
       "text": [
        "[1, 2, 3, 4, 5, 6, 7]"
       ]
      }
     ],
     "prompt_number": 8
    },
    {
     "cell_type": "code",
     "collapsed": false,
     "input": [
      "nx.draw(combined_graph)"
     ],
     "language": "python",
     "metadata": {},
     "outputs": [
      {
       "metadata": {},
       "output_type": "display_data",
       "png": "[encoded data removed]",
       "text": [
        "<matplotlib.figure.Figure at 0x1062d7d50>"
       ]
      }
     ],
     "prompt_number": 9
    },
    {
     "cell_type": "code",
     "collapsed": false,
     "input": [
      "combined_graph.edges(data=True)"
     ],
     "language": "python",
     "metadata": {},
     "outputs": [
      {
       "metadata": {},
       "output_type": "pyout",
       "prompt_number": 10,
       "text": [
        "[(1, 2, {'segment': 1, 'weight': 1}),\n",
        " (2, 3, {'segment': 1, 'weight': 1}),\n",
        " (2, 4, {'segment': 4, 'weight': 1}),\n",
        " (3, 4, {'segment': 1, 'weight': 1}),\n",
        " (3, 5, {'segment': 1, 'weight': 1}),\n",
        " (4, 5, {'segment': 1, 'weight': 1}),\n",
        " (6, 7, {'segment': 1, 'weight': 1})]"
       ]
      }
     ],
     "prompt_number": 10
    },
    {
     "cell_type": "markdown",
     "metadata": {},
     "source": [
      "Note: The networkx.compose() function doesn't work the way I need it to."
     ]
    },
    {
     "cell_type": "markdown",
     "metadata": {},
     "source": [
      "Our goal in this custom compose function is to compose the two graphs and make sure that each segment's edge is added in properly. Basically, we want to preserve as much information as possible."
     ]
    },
    {
     "cell_type": "code",
     "collapsed": false,
     "input": [
      "H = nx.MultiDiGraph()\n",
      "H.add_edges_from(G1.edges(data=True))\n",
      "H.edges(data=True)"
     ],
     "language": "python",
     "metadata": {},
     "outputs": [
      {
       "metadata": {},
       "output_type": "pyout",
       "prompt_number": 11,
       "text": [
        "[(1, 2, {'segment': 1, 'weight': 1}),\n",
        " (2, 3, {'segment': 1, 'weight': 1}),\n",
        " (3, 4, {'segment': 1, 'weight': 1}),\n",
        " (3, 5, {'segment': 1, 'weight': 1}),\n",
        " (4, 5, {'segment': 1, 'weight': 1}),\n",
        " (6, 7, {'segment': 1, 'weight': 1})]"
       ]
      }
     ],
     "prompt_number": 11
    },
    {
     "cell_type": "code",
     "collapsed": false,
     "input": [
      "H.add_edges_from(G2.edges(data=True))\n",
      "H.edges(data=True)"
     ],
     "language": "python",
     "metadata": {},
     "outputs": [
      {
       "metadata": {},
       "output_type": "pyout",
       "prompt_number": 12,
       "text": [
        "[(1, 2, {'segment': 1, 'weight': 1}),\n",
        " (1, 2, {'segment': 4, 'weight': 1}),\n",
        " (2, 3, {'segment': 1, 'weight': 1}),\n",
        " (2, 3, {'segment': 4, 'weight': 1}),\n",
        " (2, 4, {'segment': 4, 'weight': 1}),\n",
        " (3, 4, {'segment': 1, 'weight': 1}),\n",
        " (3, 5, {'segment': 1, 'weight': 1}),\n",
        " (3, 5, {'segment': 4, 'weight': 1}),\n",
        " (4, 5, {'segment': 1, 'weight': 1}),\n",
        " (4, 5, {'segment': 4, 'weight': 1}),\n",
        " (6, 7, {'segment': 1, 'weight': 1})]"
       ]
      }
     ],
     "prompt_number": 12
    },
    {
     "cell_type": "code",
     "collapsed": false,
     "input": [
      "nx.draw(H)"
     ],
     "language": "python",
     "metadata": {},
     "outputs": [
      {
       "metadata": {},
       "output_type": "display_data",
       "png": "[encoded data removed]",
       "text": [
        "<matplotlib.figure.Figure at 0x1062baa90>"
       ]
      }
     ],
     "prompt_number": 13
    },
    {
     "cell_type": "code",
     "collapsed": false,
     "input": [
      "# Firstly, add in nodes from H.\n",
      "I = nx.DiGraph()\n",
      "I.add_nodes_from(H.nodes(data=True))\n",
      "I.nodes()"
     ],
     "language": "python",
     "metadata": {},
     "outputs": [
      {
       "metadata": {},
       "output_type": "pyout",
       "prompt_number": 14,
       "text": [
        "[1, 2, 3, 4, 5, 6, 7]"
       ]
      }
     ],
     "prompt_number": 14
    },
    {
     "cell_type": "code",
     "collapsed": false,
     "input": [
      "# Next, parse all of the edges in H to create a condensed version of the edges.\n",
      "edge_list = []\n",
      "\n",
      "edges = dict()\n",
      "for edge in H.edges(data=True):\n",
      "    nodes = (edge[0], edge[1])\n",
      "    edges[nodes] = dict()\n",
      "    edges[nodes]['segments'] = []\n",
      "    edges[nodes]['weight'] = 0\n",
      "\n",
      "print edges"
     ],
     "language": "python",
     "metadata": {},
     "outputs": [
      {
       "output_type": "stream",
       "stream": "stdout",
       "text": [
        "{(1, 2): {'segments': [], 'weight': 0}, (6, 7): {'segments': [], 'weight': 0}, (4, 5): {'segments': [], 'weight': 0}, (2, 3): {'segments': [], 'weight': 0}, (3, 4): {'segments': [], 'weight': 0}, (2, 4): {'segments': [], 'weight': 0}, (3, 5): {'segments': [], 'weight': 0}}\n"
       ]
      }
     ],
     "prompt_number": 15
    },
    {
     "cell_type": "code",
     "collapsed": false,
     "input": [
      "for edge in H.edges(data=True):\n",
      "    nodes = (edge[0], edge[1])\n",
      "    edges[nodes]['segments'].append(edge[2]['segment'])\n",
      "    edges[nodes]['weight'] += edge[2]['weight']\n",
      "    \n",
      "edges"
     ],
     "language": "python",
     "metadata": {},
     "outputs": [
      {
       "metadata": {},
       "output_type": "pyout",
       "prompt_number": 16,
       "text": [
        "{(1, 2): {'segments': [1, 4], 'weight': 2},\n",
        " (2, 3): {'segments': [1, 4], 'weight': 2},\n",
        " (2, 4): {'segments': [4], 'weight': 1},\n",
        " (3, 4): {'segments': [1], 'weight': 1},\n",
        " (3, 5): {'segments': [1, 4], 'weight': 2},\n",
        " (4, 5): {'segments': [1, 4], 'weight': 2},\n",
        " (6, 7): {'segments': [1], 'weight': 1}}"
       ]
      }
     ],
     "prompt_number": 16
    },
    {
     "cell_type": "code",
     "collapsed": false,
     "input": [
      "for k, v in edges.items():\n",
      "    I.add_edge(k[0], k[1], attr_dict=v)"
     ],
     "language": "python",
     "metadata": {},
     "outputs": [],
     "prompt_number": 17
    },
    {
     "cell_type": "code",
     "collapsed": false,
     "input": [
      "I.edges(data=True)"
     ],
     "language": "python",
     "metadata": {},
     "outputs": [
      {
       "metadata": {},
       "output_type": "pyout",
       "prompt_number": 18,
       "text": [
        "[(1, 2, {'segments': [1, 4], 'weight': 2}),\n",
        " (2, 3, {'segments': [1, 4], 'weight': 2}),\n",
        " (2, 4, {'segments': [4], 'weight': 1}),\n",
        " (3, 4, {'segments': [1], 'weight': 1}),\n",
        " (3, 5, {'segments': [1, 4], 'weight': 2}),\n",
        " (4, 5, {'segments': [1, 4], 'weight': 2}),\n",
        " (6, 7, {'segments': [1], 'weight': 1})]"
       ]
      }
     ],
     "prompt_number": 18
    },
    {
     "cell_type": "code",
     "collapsed": false,
     "input": [
      "nx.draw(I)"
     ],
     "language": "python",
     "metadata": {},
     "outputs": [
      {
       "metadata": {},
       "output_type": "display_data",
       "png": "[encoded data removed]",
       "text": [
        "<matplotlib.figure.Figure at 0x1062b2f50>"
       ]
      }
     ],
     "prompt_number": 19
    },
    {
     "cell_type": "code",
     "collapsed": false,
     "input": [
      "d = dict()\n",
      "d[1] = 'a'\n",
      "d[2] = 'b'"
     ],
     "language": "python",
     "metadata": {},
     "outputs": [],
     "prompt_number": 20
    },
    {
     "cell_type": "code",
     "collapsed": false,
     "input": [
      "len(d)"
     ],
     "language": "python",
     "metadata": {},
     "outputs": [
      {
       "metadata": {},
       "output_type": "pyout",
       "prompt_number": 21,
       "text": [
        "2"
       ]
      }
     ],
     "prompt_number": 21
    },
    {
     "cell_type": "markdown",
     "metadata": {},
     "source": [
      "Try paths as disjoint sets."
     ]
    },
    {
     "cell_type": "code",
     "collapsed": false,
     "input": [
      "G = nx.DiGraph()\n",
      "G.add_nodes_from([1, 2, 3, 4, 5, 6])\n",
      "G.nodes()"
     ],
     "language": "python",
     "metadata": {},
     "outputs": [
      {
       "metadata": {},
       "output_type": "pyout",
       "prompt_number": 22,
       "text": [
        "[1, 2, 3, 4, 5, 6]"
       ]
      }
     ],
     "prompt_number": 22
    },
    {
     "cell_type": "code",
     "collapsed": false,
     "input": [
      "edges = [(1,2), (2,3), (2,4), (5,6)]\n",
      "G.add_edges_from(edges)"
     ],
     "language": "python",
     "metadata": {},
     "outputs": [],
     "prompt_number": 23
    },
    {
     "cell_type": "code",
     "collapsed": false,
     "input": [
      "nx.draw(G)"
     ],
     "language": "python",
     "metadata": {},
     "outputs": [
      {
       "metadata": {},
       "output_type": "display_data",
       "png": "[encoded data removed]",
       "text": [
        "<matplotlib.figure.Figure at 0x1062bf510>"
       ]
      }
     ],
     "prompt_number": 24
    },
    {
     "cell_type": "code",
     "collapsed": false,
     "input": [
      "sets = []\n",
      "for node in G.nodes():\n",
      "    sets.append(set([node]))"
     ],
     "language": "python",
     "metadata": {},
     "outputs": [],
     "prompt_number": 25
    },
    {
     "cell_type": "code",
     "collapsed": false,
     "input": [
      "def find_set_with_element(sets, element):\n",
      "    for set in sets:\n",
      "        if element in set:\n",
      "            return set\n",
      "        \n",
      "for edge in G.edges():\n",
      "    set1 = find_set_with_element(sets, edge[0])\n",
      "    set2 = find_set_with_element(sets, edge[1])\n",
      "    \n",
      "    new_set = set1.union(set2)\n",
      "    \n",
      "    sets.pop(sets.index(set1))\n",
      "    sets.pop(sets.index(set2))\n",
      "    sets.append(new_set)"
     ],
     "language": "python",
     "metadata": {},
     "outputs": [],
     "prompt_number": 26
    },
    {
     "cell_type": "code",
     "collapsed": false,
     "input": [
      "sets"
     ],
     "language": "python",
     "metadata": {},
     "outputs": [
      {
       "metadata": {},
       "output_type": "pyout",
       "prompt_number": 27,
       "text": [
        "[{1, 2, 3, 4}, {5, 6}]"
       ]
      }
     ],
     "prompt_number": 27
    },
    {
     "cell_type": "code",
     "collapsed": false,
     "input": [
      "def path_exists(node1, node2, paths):\n",
      "    boolean = False\n",
      "    for path in paths:\n",
      "        if node1 in path and node2 in path:\n",
      "            boolean = True\n",
      "            break\n",
      "            \n",
      "    return boolean"
     ],
     "language": "python",
     "metadata": {},
     "outputs": [],
     "prompt_number": 28
    },
    {
     "cell_type": "code",
     "collapsed": false,
     "input": [
      "path_exists(1, 4, sets)"
     ],
     "language": "python",
     "metadata": {},
     "outputs": [
      {
       "metadata": {},
       "output_type": "pyout",
       "prompt_number": 29,
       "text": [
        "True"
       ]
      }
     ],
     "prompt_number": 29
    },
    {
     "cell_type": "code",
     "collapsed": false,
     "input": [
      "d = {}\n",
      "d[1] = []\n",
      "d[2] = []"
     ],
     "language": "python",
     "metadata": {},
     "outputs": [],
     "prompt_number": 30
    },
    {
     "cell_type": "code",
     "collapsed": false,
     "input": [],
     "language": "python",
     "metadata": {},
     "outputs": [],
     "prompt_number": 30
    },
    {
     "cell_type": "code",
     "collapsed": false,
     "input": [
      "from random import random\n",
      "class Object(object):\n",
      "    \n",
      "    def __init__(self):\n",
      "        self._x = None\n",
      "        \n",
      "    @property\n",
      "    def x(self, x_type='Random'):\n",
      "#         if self._x == None:\n",
      "#             if x_type == 'Random':\n",
      "#                 self._x = random()\n",
      "#             if x_type == 'One':\n",
      "#                 self._x = 1\n",
      "        return self._x\n",
      "    \n",
      "    @x.setter\n",
      "    def x(self, x_type='Random'):\n",
      "        if self._x == None:\n",
      "            if x_type == 'Random':\n",
      "                self._x = random()\n",
      "            if x_type == 'One':\n",
      "                self._x = 1\n",
      "            else: self._x = None"
     ],
     "language": "python",
     "metadata": {},
     "outputs": [],
     "prompt_number": 31
    },
    {
     "cell_type": "code",
     "collapsed": false,
     "input": [
      "O = Object()\n",
      "O.x = 'Hello'\n",
      "print O.x"
     ],
     "language": "python",
     "metadata": {},
     "outputs": [
      {
       "output_type": "stream",
       "stream": "stdout",
       "text": [
        "None\n"
       ]
      }
     ],
     "prompt_number": 32
    },
    {
     "cell_type": "code",
     "collapsed": false,
     "input": [
      "import pandas as pd"
     ],
     "language": "python",
     "metadata": {},
     "outputs": [],
     "prompt_number": 33
    },
    {
     "cell_type": "code",
     "collapsed": false,
     "input": [
      "list = [1, 2, 3]\n",
      "pd.DataFrame(list).to_csv('bye.csv')"
     ],
     "language": "python",
     "metadata": {},
     "outputs": [],
     "prompt_number": 34
    },
    {
     "cell_type": "code",
     "collapsed": false,
     "input": [
      "import networkx as nx"
     ],
     "language": "python",
     "metadata": {},
     "outputs": [],
     "prompt_number": 74
    },
    {
     "cell_type": "code",
     "collapsed": false,
     "input": [
      "G = nx.DiGraph()"
     ],
     "language": "python",
     "metadata": {},
     "outputs": [],
     "prompt_number": 75
    },
    {
     "cell_type": "code",
     "collapsed": false,
     "input": [
      "G.add_edge(1, 2)\n",
      "G.add_edge(2, 3)\n",
      "G.add_edge(3, 4)\n",
      "G.add_edge(3, 5)\n",
      "G.add_edge(4, 5)\n",
      "G.edges()"
     ],
     "language": "python",
     "metadata": {},
     "outputs": [
      {
       "metadata": {},
       "output_type": "pyout",
       "prompt_number": 76,
       "text": [
        "[(1, 2), (2, 3), (3, 4), (3, 5), (4, 5)]"
       ]
      }
     ],
     "prompt_number": 76
    },
    {
     "cell_type": "code",
     "collapsed": false,
     "input": [
      "def get_new_source(graph, node):\n",
      "    from random import choice\n",
      "    \n",
      "    node_list = graph.nodes()\n",
      "    candidate_sources = []\n",
      "    \n",
      "    for candidate in node_list:\n",
      "        if candidate < node:\n",
      "            candidate_sources.append(candidate)\n",
      "                        \n",
      "    new_source = choice(candidate_sources)\n",
      "    return new_source"
     ],
     "language": "python",
     "metadata": {},
     "outputs": [],
     "prompt_number": 77
    },
    {
     "cell_type": "code",
     "collapsed": false,
     "input": [
      "new_graph = nx.DiGraph()\n",
      "for edge in G.edges():\n",
      "    \n",
      "    sink_node = edge[1]\n",
      "    \n",
      "    while True:\n",
      "        new_source = get_new_source(G, sink_node)\n",
      "        new_edge = (new_source, sink_node)\n",
      "        \n",
      "        if new_edge not in new_graph.edges():\n",
      "            break\n",
      "\n",
      "    new_graph.add_edge(new_source, sink_node)"
     ],
     "language": "python",
     "metadata": {},
     "outputs": [],
     "prompt_number": 78
    },
    {
     "cell_type": "code",
     "collapsed": false,
     "input": [
      "new_graph.edges()"
     ],
     "language": "python",
     "metadata": {},
     "outputs": [
      {
       "metadata": {},
       "output_type": "pyout",
       "prompt_number": 79,
       "text": [
        "[(1, 2), (1, 4), (1, 5), (2, 3), (2, 5)]"
       ]
      }
     ],
     "prompt_number": 79
    },
    {
     "cell_type": "code",
     "collapsed": false,
     "input": [],
     "language": "python",
     "metadata": {},
     "outputs": []
    }
   ],
   "metadata": {}
  }
 ]
}