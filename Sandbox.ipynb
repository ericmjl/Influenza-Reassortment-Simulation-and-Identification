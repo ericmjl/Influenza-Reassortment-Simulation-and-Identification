{
 "metadata": {
  "name": "",
  "signature": "sha256:96245e6fad89d1321cebad89f8fbfe5b10d290eb146f33d40959a68672e32ecb"
 },
 "nbformat": 3,
 "nbformat_minor": 0,
 "worksheets": [
  {
   "cells": [
    {
     "cell_type": "code",
     "collapsed": false,
     "input": [
      "import networkx as nx"
     ],
     "language": "python",
     "metadata": {},
     "outputs": [],
     "prompt_number": 1
    },
    {
     "cell_type": "code",
     "collapsed": false,
     "input": [
      "G1 = nx.DiGraph()\n",
      "G2 = nx.DiGraph()"
     ],
     "language": "python",
     "metadata": {},
     "outputs": [],
     "prompt_number": 2
    },
    {
     "cell_type": "code",
     "collapsed": false,
     "input": [
      "nodes = [1, 2, 3, 4, 5]\n",
      "\n",
      "for node in nodes:\n",
      "    G1.add_node(node)\n",
      "    G2.add_node(node)"
     ],
     "language": "python",
     "metadata": {},
     "outputs": [],
     "prompt_number": 32
    },
    {
     "cell_type": "code",
     "collapsed": false,
     "input": [
      "print G1.nodes()\n",
      "print G2.nodes()"
     ],
     "language": "python",
     "metadata": {},
     "outputs": [
      {
       "output_type": "stream",
       "stream": "stdout",
       "text": [
        "[1, 2, 3, 4, 5]\n",
        "[1, 2, 3, 4, 5]\n"
       ]
      }
     ],
     "prompt_number": 33
    },
    {
     "cell_type": "code",
     "collapsed": false,
     "input": [
      "G1.add_edge(1, 2, weight=1, segment=1)\n",
      "G1.add_edge(2, 3, weight=1, segment=1)\n",
      "G1.add_edge(3, 4, weight=1, segment=1)\n",
      "G1.add_edge(3, 5, weight=1, segment=1)\n",
      "G1.add_edge(4, 5, weight=1, segment=1)\n",
      "\n",
      "print G1.edges(data=True)\n",
      "\n",
      "nx.draw(G1)"
     ],
     "language": "python",
     "metadata": {},
     "outputs": [
      {
       "output_type": "stream",
       "stream": "stdout",
       "text": [
        "[(1, 2, {'num_segments': 1, 'segment': 1, 'weight': 1}), (2, 3, {'num_segments': 1, 'segment': 1, 'weight': 1}), (3, 4, {'num_segments': 1, 'segment': 1, 'weight': 1}), (3, 5, {'num_segments': 1, 'segment': 1, 'weight': 1}), (4, 5, {'num_segments': 1, 'segment': 1, 'weight': 1})]\n"
       ]
      },
      {
       "metadata": {},
       "output_type": "display_data",
       "png": "[encoded data removed]",
       "text": [
        "<matplotlib.figure.Figure at 0x1060b4610>"
       ]
      }
     ],
     "prompt_number": 66
    },
    {
     "cell_type": "code",
     "collapsed": false,
     "input": [
      "G2.add_edge(1, 2, weight=1, segment=4)\n",
      "G2.add_edge(2, 3, weight=1, segment=4)\n",
      "G2.add_edge(2, 4, weight=1, segment=4)\n",
      "G2.add_edge(3, 5, weight=1, segment=4)\n",
      "G2.add_edge(4, 5, weight=1, segment=4)\n",
      "print G2.edges(data=True)\n",
      "nx.draw(G2)"
     ],
     "language": "python",
     "metadata": {},
     "outputs": [
      {
       "output_type": "stream",
       "stream": "stdout",
       "text": [
        "[(1, 2, {'num_segments': 1, 'segment': 4, 'weight': 1}), (2, 3, {'num_segments': 1, 'segment': 4, 'weight': 1}), (2, 4, {'num_segments': 1, 'segment': 4, 'weight': 1}), (3, 5, {'num_segments': 1, 'segment': 4, 'weight': 1}), (4, 5, {'num_segments': 1, 'segment': 4, 'weight': 1})]\n"
       ]
      },
      {
       "metadata": {},
       "output_type": "display_data",
       "png": "[encoded data removed]",
       "text": [
        "<matplotlib.figure.Figure at 0x106272350>"
       ]
      }
     ],
     "prompt_number": 67
    },
    {
     "cell_type": "code",
     "collapsed": false,
     "input": [
      "combined_graph = nx.compose(G1, G2)"
     ],
     "language": "python",
     "metadata": {},
     "outputs": [],
     "prompt_number": 57
    },
    {
     "cell_type": "code",
     "collapsed": false,
     "input": [
      "combined_graph.nodes()"
     ],
     "language": "python",
     "metadata": {},
     "outputs": [
      {
       "metadata": {},
       "output_type": "pyout",
       "prompt_number": 58,
       "text": [
        "[1, 2, 3, 4, 5]"
       ]
      }
     ],
     "prompt_number": 58
    },
    {
     "cell_type": "code",
     "collapsed": false,
     "input": [
      "nx.draw(combined_graph)"
     ],
     "language": "python",
     "metadata": {},
     "outputs": [
      {
       "metadata": {},
       "output_type": "display_data",
       "png": "[encoded data removed]",
       "text": [
        "<matplotlib.figure.Figure at 0x106264550>"
       ]
      }
     ],
     "prompt_number": 59
    },
    {
     "cell_type": "code",
     "collapsed": false,
     "input": [
      "combined_graph.edges(data=True)"
     ],
     "language": "python",
     "metadata": {},
     "outputs": [
      {
       "metadata": {},
       "output_type": "pyout",
       "prompt_number": 60,
       "text": [
        "[(1, 2, {'num_segments': 1, 'segment': 1, 'weight': 1}),\n",
        " (2, 3, {'num_segments': 1, 'segment': 1, 'weight': 1}),\n",
        " (2, 4, {'num_segments': 1, 'segment': 4, 'weight': 1}),\n",
        " (3, 4, {'num_segments': 1, 'segment': 1, 'weight': 1}),\n",
        " (3, 5, {'num_segments': 1, 'segment': 1, 'weight': 1}),\n",
        " (4, 5, {'num_segments': 1, 'segment': 1, 'weight': 1})]"
       ]
      }
     ],
     "prompt_number": 60
    },
    {
     "cell_type": "markdown",
     "metadata": {},
     "source": [
      "Note: The networkx.compose() function doesn't work the way I need it to."
     ]
    },
    {
     "cell_type": "markdown",
     "metadata": {},
     "source": [
      "Our goal in this custom compose function is to compose the two graphs and make sure that each segment's edge is added in properly. Basically, we want to preserve as much information as possible."
     ]
    },
    {
     "cell_type": "code",
     "collapsed": false,
     "input": [
      "H = nx.MultiDiGraph()\n",
      "H.add_edges_from(G1.edges(data=True))\n",
      "H.edges(data=True)"
     ],
     "language": "python",
     "metadata": {},
     "outputs": [
      {
       "metadata": {},
       "output_type": "pyout",
       "prompt_number": 61,
       "text": [
        "[(1, 2, {'num_segments': 1, 'segment': 1, 'weight': 1}),\n",
        " (2, 3, {'num_segments': 1, 'segment': 1, 'weight': 1}),\n",
        " (3, 4, {'num_segments': 1, 'segment': 1, 'weight': 1}),\n",
        " (3, 5, {'num_segments': 1, 'segment': 1, 'weight': 1}),\n",
        " (4, 5, {'num_segments': 1, 'segment': 1, 'weight': 1})]"
       ]
      }
     ],
     "prompt_number": 61
    },
    {
     "cell_type": "code",
     "collapsed": false,
     "input": [
      "H.add_edges_from(G2.edges(data=True))\n",
      "H.edges(data=True)"
     ],
     "language": "python",
     "metadata": {},
     "outputs": [
      {
       "metadata": {},
       "output_type": "pyout",
       "prompt_number": 62,
       "text": [
        "[(1, 2, {'num_segments': 1, 'segment': 1, 'weight': 1}),\n",
        " (1, 2, {'num_segments': 1, 'segment': 4, 'weight': 1}),\n",
        " (2, 3, {'num_segments': 1, 'segment': 1, 'weight': 1}),\n",
        " (2, 3, {'num_segments': 1, 'segment': 4, 'weight': 1}),\n",
        " (2, 4, {'num_segments': 1, 'segment': 4, 'weight': 1}),\n",
        " (3, 4, {'num_segments': 1, 'segment': 1, 'weight': 1}),\n",
        " (3, 5, {'num_segments': 1, 'segment': 1, 'weight': 1}),\n",
        " (3, 5, {'num_segments': 1, 'segment': 4, 'weight': 1}),\n",
        " (4, 5, {'num_segments': 1, 'segment': 1, 'weight': 1}),\n",
        " (4, 5, {'num_segments': 1, 'segment': 4, 'weight': 1})]"
       ]
      }
     ],
     "prompt_number": 62
    },
    {
     "cell_type": "code",
     "collapsed": false,
     "input": [
      "nx.draw(H)"
     ],
     "language": "python",
     "metadata": {},
     "outputs": [
      {
       "metadata": {},
       "output_type": "display_data",
       "png": "[encoded data removed]",
       "text": [
        "<matplotlib.figure.Figure at 0x1062d0e10>"
       ]
      }
     ],
     "prompt_number": 63
    },
    {
     "cell_type": "code",
     "collapsed": false,
     "input": [
      "# Firstly, add in nodes from H.\n",
      "I = nx.DiGraph()\n",
      "I.add_nodes_from(H.nodes(data=True))\n",
      "I.nodes()"
     ],
     "language": "python",
     "metadata": {},
     "outputs": [
      {
       "metadata": {},
       "output_type": "pyout",
       "prompt_number": 80,
       "text": [
        "[1, 2, 3, 4, 5]"
       ]
      }
     ],
     "prompt_number": 80
    },
    {
     "cell_type": "code",
     "collapsed": false,
     "input": [
      "# Next, parse all of the edges in H to create a condensed version of the edges.\n",
      "edge_list = []\n",
      "\n",
      "edges = dict()\n",
      "for edge in H.edges(data=True):\n",
      "    nodes = (edge[0], edge[1])\n",
      "    edges[nodes] = dict()\n",
      "    edges[nodes]['segments'] = []\n",
      "    edges[nodes]['weight'] = 0\n",
      "\n",
      "print edges"
     ],
     "language": "python",
     "metadata": {},
     "outputs": [
      {
       "output_type": "stream",
       "stream": "stdout",
       "text": [
        "{(1, 2): {'segments': [], 'weight': 0}, (4, 5): {'segments': [], 'weight': 0}, (2, 3): {'segments': [], 'weight': 0}, (3, 4): {'segments': [], 'weight': 0}, (2, 4): {'segments': [], 'weight': 0}, (3, 5): {'segments': [], 'weight': 0}}\n"
       ]
      }
     ],
     "prompt_number": 81
    },
    {
     "cell_type": "code",
     "collapsed": false,
     "input": [
      "for edge in H.edges(data=True):\n",
      "    nodes = (edge[0], edge[1])\n",
      "    edges[nodes]['segments'].append(edge[2]['segment'])\n",
      "    edges[nodes]['weight'] += edge[2]['weight']\n",
      "    \n",
      "edges"
     ],
     "language": "python",
     "metadata": {},
     "outputs": [
      {
       "metadata": {},
       "output_type": "pyout",
       "prompt_number": 82,
       "text": [
        "{(1, 2): {'segments': [1, 4], 'weight': 2},\n",
        " (2, 3): {'segments': [1, 4], 'weight': 2},\n",
        " (2, 4): {'segments': [4], 'weight': 1},\n",
        " (3, 4): {'segments': [1], 'weight': 1},\n",
        " (3, 5): {'segments': [1, 4], 'weight': 2},\n",
        " (4, 5): {'segments': [1, 4], 'weight': 2}}"
       ]
      }
     ],
     "prompt_number": 82
    },
    {
     "cell_type": "code",
     "collapsed": false,
     "input": [
      "for k, v in edges.items():\n",
      "    I.add_edge(k[0], k[1], attr_dict=v)"
     ],
     "language": "python",
     "metadata": {},
     "outputs": [],
     "prompt_number": 85
    },
    {
     "cell_type": "code",
     "collapsed": false,
     "input": [
      "I.edges(data=True)"
     ],
     "language": "python",
     "metadata": {},
     "outputs": [
      {
       "metadata": {},
       "output_type": "pyout",
       "prompt_number": 86,
       "text": [
        "[(1, 2, {'segments': [1, 4], 'weight': 2}),\n",
        " (2, 3, {'segments': [1, 4], 'weight': 2}),\n",
        " (2, 4, {'segments': [4], 'weight': 1}),\n",
        " (3, 4, {'segments': [1], 'weight': 1}),\n",
        " (3, 5, {'segments': [1, 4], 'weight': 2}),\n",
        " (4, 5, {'segments': [1, 4], 'weight': 2})]"
       ]
      }
     ],
     "prompt_number": 86
    },
    {
     "cell_type": "code",
     "collapsed": false,
     "input": [
      "nx.draw(I)"
     ],
     "language": "python",
     "metadata": {},
     "outputs": [
      {
       "metadata": {},
       "output_type": "display_data",
       "png": "[encoded data removed]",
       "text": [
        "<matplotlib.figure.Figure at 0x1062590d0>"
       ]
      }
     ],
     "prompt_number": 87
    },
    {
     "cell_type": "code",
     "collapsed": false,
     "input": [
      "d = dict()\n",
      "d[1] = 'a'\n",
      "d[2] = 'b'"
     ],
     "language": "python",
     "metadata": {},
     "outputs": [],
     "prompt_number": 1
    },
    {
     "cell_type": "code",
     "collapsed": false,
     "input": [
      "len(d)"
     ],
     "language": "python",
     "metadata": {},
     "outputs": [
      {
       "metadata": {},
       "output_type": "pyout",
       "prompt_number": 2,
       "text": [
        "2"
       ]
      }
     ],
     "prompt_number": 2
    },
    {
     "cell_type": "code",
     "collapsed": false,
     "input": [],
     "language": "python",
     "metadata": {},
     "outputs": []
    }
   ],
   "metadata": {}
  }
 ]
}