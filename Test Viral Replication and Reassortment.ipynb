{
 "metadata": {
  "name": "",
  "signature": "sha256:b56034a9059f4916a21f27d02385d89d8a5ce85748b4f2ac3ea9a1aad6689ec3"
 },
 "nbformat": 3,
 "nbformat_minor": 0,
 "worksheets": [
  {
   "cells": [
    {
     "cell_type": "code",
     "collapsed": false,
     "input": [
      "from pathogen import Pathogen\n",
      "from segment import Segment\n",
      "from sequence import Sequence"
     ],
     "language": "python",
     "metadata": {},
     "outputs": [],
     "prompt_number": 1
    },
    {
     "cell_type": "code",
     "collapsed": false,
     "input": [
      "sequence_PB2 = Sequence(length=1000) #this is representative of segment 1, PB2\n",
      "sequence_H1 = Sequence(length=1000) #this is representative of segment 4, H1\n",
      "sequence_H2 = Sequence(length=1000) #this is representative of segment 4, H2\n",
      "\n",
      "print '%s \\n%s \\n%s' % (sequence_PB2, sequence_H1, sequence_H2)"
     ],
     "language": "python",
     "metadata": {},
     "outputs": [
      {
       "output_type": "stream",
       "stream": "stdout",
       "text": [
        "4dbc027d3d7c6fd357d7489941c191db7ba6bd61562457db85893ddc2d6b8d53d831fa4173d40c1105cb1bb6de96a7da667e970eca40f045bbbfa291e38705d0 \n",
        "24d1862c8f9616c190b98fb4571250a88aa23d1eed6e386a56bb4fd8542e88b24c178d82d6ca2d27f48f2a108f0dd86505eea066508ba183cc849ce39fbcbe69 \n",
        "c5de0c233793f163033845d84a81cc1d12fee2c71c97ad840bdf50e826acfae0ac8ed6b6d495590f2a1e6ea0d0f52ddbc31bcc98a182b82fb5b4e794874904c6\n"
       ]
      }
     ],
     "prompt_number": 2
    },
    {
     "cell_type": "code",
     "collapsed": false,
     "input": [
      "segment_PB2 = Segment(segment_number=1, substitution_rate=1E-2, sequence=sequence_PB2)\n",
      "segment_H1 = Segment(segment_number=4, substitution_rate=1E-1, sequence=sequence_H1)\n",
      "segment_H2 = Segment(segment_number=4, substitution_rate=1E-1, sequence=sequence_H2)\n",
      "\n",
      "print '%s \\n%s \\n%s' % (segment_PB2, segment_H1, segment_H2)"
     ],
     "language": "python",
     "metadata": {},
     "outputs": [
      {
       "output_type": "stream",
       "stream": "stdout",
       "text": [
        "Segment 1, sequence 4dbc027d3d7c6fd357d7489941c191db7ba6bd61562457db85893ddc2d6b8d53d831fa4173d40c1105cb1bb6de96a7da667e970eca40f045bbbfa291e38705d0 \n",
        "Segment 4, sequence 24d1862c8f9616c190b98fb4571250a88aa23d1eed6e386a56bb4fd8542e88b24c178d82d6ca2d27f48f2a108f0dd86505eea066508ba183cc849ce39fbcbe69 \n",
        "Segment 4, sequence c5de0c233793f163033845d84a81cc1d12fee2c71c97ad840bdf50e826acfae0ac8ed6b6d495590f2a1e6ea0d0f52ddbc31bcc98a182b82fb5b4e794874904c6\n"
       ]
      }
     ],
     "prompt_number": 3
    },
    {
     "cell_type": "code",
     "collapsed": false,
     "input": [
      "virus_H1 = Pathogen(segments=[segment_PB2, segment_H1], creation_time=1)\n",
      "virus_H2 = Pathogen(segments=[segment_PB2, segment_H2], creation_time=1)\n",
      "\n",
      "print virus_H1.segments\n",
      "print virus_H2.segments"
     ],
     "language": "python",
     "metadata": {},
     "outputs": [
      {
       "output_type": "stream",
       "stream": "stdout",
       "text": [
        "[Segment 1, sequence 4dbc027d3d7c6fd357d7489941c191db7ba6bd61562457db85893ddc2d6b8d53d831fa4173d40c1105cb1bb6de96a7da667e970eca40f045bbbfa291e38705d0, Segment 4, sequence 24d1862c8f9616c190b98fb4571250a88aa23d1eed6e386a56bb4fd8542e88b24c178d82d6ca2d27f48f2a108f0dd86505eea066508ba183cc849ce39fbcbe69]\n",
        "[Segment 1, sequence 4dbc027d3d7c6fd357d7489941c191db7ba6bd61562457db85893ddc2d6b8d53d831fa4173d40c1105cb1bb6de96a7da667e970eca40f045bbbfa291e38705d0, Segment 4, sequence c5de0c233793f163033845d84a81cc1d12fee2c71c97ad840bdf50e826acfae0ac8ed6b6d495590f2a1e6ea0d0f52ddbc31bcc98a182b82fb5b4e794874904c6]\n"
       ]
      }
     ],
     "prompt_number": 5
    },
    {
     "cell_type": "code",
     "collapsed": false,
     "input": [],
     "language": "python",
     "metadata": {},
     "outputs": [],
     "prompt_number": 5
    },
    {
     "cell_type": "code",
     "collapsed": false,
     "input": [
      "virus_progeny = virus_H1.reassort_with(virus_H2, current_time=2)\n",
      "virus_progeny"
     ],
     "language": "python",
     "metadata": {},
     "outputs": [
      {
       "metadata": {},
       "output_type": "pyout",
       "prompt_number": 38,
       "text": [
        "d1828816e2d2c961415511cf250388782c1415d357de7b3880d6813f5a1fbb5248f2e9c00c366e7ce8857088e442466b3afc148f345f08f124b1ee497734e8c5"
       ]
      }
     ],
     "prompt_number": 38
    },
    {
     "cell_type": "code",
     "collapsed": false,
     "input": [
      "virus_progeny.segments"
     ],
     "language": "python",
     "metadata": {},
     "outputs": [
      {
       "metadata": {},
       "output_type": "pyout",
       "prompt_number": 39,
       "text": [
        "[Segment 1, sequence 4dbc027d3d7c6fd357d7489941c191db7ba6bd61562457db85893ddc2d6b8d53d831fa4173d40c1105cb1bb6de96a7da667e970eca40f045bbbfa291e38705d0,\n",
        " Segment 4, sequence c5de0c233793f163033845d84a81cc1d12fee2c71c97ad840bdf50e826acfae0ac8ed6b6d495590f2a1e6ea0d0f52ddbc31bcc98a182b82fb5b4e794874904c6]"
       ]
      }
     ],
     "prompt_number": 39
    },
    {
     "cell_type": "code",
     "collapsed": false,
     "input": [
      "virus_progeny2 = virus_progeny.replicate(current_time=3)\n",
      "virus_progeny2"
     ],
     "language": "python",
     "metadata": {},
     "outputs": [
      {
       "metadata": {},
       "output_type": "pyout",
       "prompt_number": 40,
       "text": [
        "c860d6d2dbfdf31b7055a62aa02cd369b851c496290c600c394047d34d819e1f720ae9c818d1b7632fecbf2e871a7d93cd7f239dadf34489b397b447111d4689"
       ]
      }
     ],
     "prompt_number": 40
    },
    {
     "cell_type": "code",
     "collapsed": false,
     "input": [],
     "language": "python",
     "metadata": {},
     "outputs": []
    }
   ],
   "metadata": {}
  }
 ]
}