{
 "metadata": {
  "name": "",
  "signature": "sha256:ee6dd44dbe5eccd53795657bccbacc539a8a18d64cc2107314b1ddbe22dba1d1"
 },
 "nbformat": 3,
 "nbformat_minor": 0,
 "worksheets": [
  {
   "cells": [
    {
     "cell_type": "code",
     "collapsed": false,
     "input": [
      "from pathogen import Pathogen\n",
      "from segment import Segment\n",
      "from sequence import Sequence"
     ],
     "language": "python",
     "metadata": {},
     "outputs": [],
     "prompt_number": 121
    },
    {
     "cell_type": "code",
     "collapsed": false,
     "input": [
      "sequence_PB2 = Sequence(length=1000) #this is representative of segment 1, PB2\n",
      "sequence_H1 = Sequence(length=1000) #this is representative of segment 4, H1\n",
      "sequence_H2 = Sequence(length=1000) #this is representative of segment 4, H2\n",
      "\n",
      "print '%s \\n%s \\n%s' % (sequence_PB2, sequence_H1, sequence_H2)"
     ],
     "language": "python",
     "metadata": {},
     "outputs": [
      {
       "output_type": "stream",
       "stream": "stdout",
       "text": [
        "7bbc33c549e3eb726e293be4c45ccd5bdf7e1928f9a58becc2cd0f6ec9817260d7129d7eed4e8d873fce25b5ef8618b8e363d2954ef2bc881b354b07803255f2 \n",
        "1c348de1d632a15af54f5effa91bf9095141e16ffc06fbd81b9d3883c6063b73277d64f5c7008722f198eff098b484b1cbb12825986577ed257762a244bb21fb \n",
        "2100032d64f7e41e7dd4b4f3917ca4b5d49e9e7880f91152c301a9ba76a0838a65936d35dc7f84044decc268008da9acff3dffc0f869839e9ce1c1d05cb91e22\n"
       ]
      }
     ],
     "prompt_number": 122
    },
    {
     "cell_type": "code",
     "collapsed": false,
     "input": [
      "segment_PB2 = Segment(segment_number=1, substitution_rate=1E-2, sequence=sequence_PB2)\n",
      "segment_H1 = Segment(segment_number=4, substitution_rate=1E-1, sequence=sequence_H1)\n",
      "segment_H2 = Segment(segment_number=4, substitution_rate=1E-1, sequence=sequence_H2)\n",
      "\n",
      "print '%s \\n%s \\n%s' % (segment_PB2, segment_H1, segment_H2)"
     ],
     "language": "python",
     "metadata": {},
     "outputs": [
      {
       "output_type": "stream",
       "stream": "stdout",
       "text": [
        "Segment 1, sequence 7bbc33c549e3eb726e293be4c45ccd5bdf7e1928f9a58becc2cd0f6ec9817260d7129d7eed4e8d873fce25b5ef8618b8e363d2954ef2bc881b354b07803255f2 \n",
        "Segment 4, sequence 1c348de1d632a15af54f5effa91bf9095141e16ffc06fbd81b9d3883c6063b73277d64f5c7008722f198eff098b484b1cbb12825986577ed257762a244bb21fb \n",
        "Segment 4, sequence 2100032d64f7e41e7dd4b4f3917ca4b5d49e9e7880f91152c301a9ba76a0838a65936d35dc7f84044decc268008da9acff3dffc0f869839e9ce1c1d05cb91e22\n"
       ]
      }
     ],
     "prompt_number": 123
    },
    {
     "cell_type": "code",
     "collapsed": false,
     "input": [
      "virus_H1 = Pathogen(segments=[segment_PB2, segment_H1], creation_time=1)\n",
      "virus_H2 = Pathogen(segments=[segment_PB2, segment_H2], creation_time=1)\n",
      "\n",
      "print virus_H1.segments\n",
      "print virus_H2.segments"
     ],
     "language": "python",
     "metadata": {},
     "outputs": [
      {
       "output_type": "stream",
       "stream": "stdout",
       "text": [
        "[Segment 1, sequence 7bbc33c549e3eb726e293be4c45ccd5bdf7e1928f9a58becc2cd0f6ec9817260d7129d7eed4e8d873fce25b5ef8618b8e363d2954ef2bc881b354b07803255f2, Segment 4, sequence 1c348de1d632a15af54f5effa91bf9095141e16ffc06fbd81b9d3883c6063b73277d64f5c7008722f198eff098b484b1cbb12825986577ed257762a244bb21fb]\n",
        "[Segment 1, sequence 7bbc33c549e3eb726e293be4c45ccd5bdf7e1928f9a58becc2cd0f6ec9817260d7129d7eed4e8d873fce25b5ef8618b8e363d2954ef2bc881b354b07803255f2, Segment 4, sequence 2100032d64f7e41e7dd4b4f3917ca4b5d49e9e7880f91152c301a9ba76a0838a65936d35dc7f84044decc268008da9acff3dffc0f869839e9ce1c1d05cb91e22]\n"
       ]
      }
     ],
     "prompt_number": 124
    },
    {
     "cell_type": "code",
     "collapsed": false,
     "input": [
      "virus_progeny = virus_H1.reassort_with(virus_H2, current_time=2)\n",
      "virus_progeny"
     ],
     "language": "python",
     "metadata": {},
     "outputs": [
      {
       "metadata": {},
       "output_type": "pyout",
       "prompt_number": 125,
       "text": [
        "f1f4db226aaa649842125956d42ea590a37cb78cf7b86ff0edc4734c6090ba39523e9ac3d7c079a5debcf84b6d041eaf8520aebf51df911cc8ed0e2a7c673a64"
       ]
      }
     ],
     "prompt_number": 125
    },
    {
     "cell_type": "code",
     "collapsed": false,
     "input": [
      "virus_progeny.mutations()"
     ],
     "language": "python",
     "metadata": {},
     "outputs": [
      {
       "output_type": "stream",
       "stream": "stdout",
       "text": [
        "{}\n",
        "{4: 'G', 72: 'A', 107: 'T', 77: 'T', 46: 'T', 111: 'A', 115: 'C', 21: 'A', 120: 'G', 58: 'C', 63: 'T'}\n"
       ]
      }
     ],
     "prompt_number": 126
    },
    {
     "cell_type": "code",
     "collapsed": false,
     "input": [
      "virus_progeny.segments"
     ],
     "language": "python",
     "metadata": {},
     "outputs": [
      {
       "metadata": {},
       "output_type": "pyout",
       "prompt_number": 127,
       "text": [
        "[Segment 1, sequence 7bbc33c549e3eb726e293be4c45ccd5bdf7e1928f9a58becc2cd0f6ec9817260d7129d7eed4e8d873fce25b5ef8618b8e363d2954ef2bc881b354b07803255f2,\n",
        " Segment 4, sequence 1c348de1d632a15af54f5effa91bf9095141e16ffc06fbd81b9d3883c6063b73277d64f5c7008722f198eff098b484b1cbb12825986577ed257762a244bb21fb]"
       ]
      }
     ],
     "prompt_number": 127
    },
    {
     "cell_type": "code",
     "collapsed": false,
     "input": [
      "virus_progeny.parent"
     ],
     "language": "python",
     "metadata": {},
     "outputs": [
      {
       "metadata": {},
       "output_type": "pyout",
       "prompt_number": 128,
       "text": [
        "(1366f631ba3195daeb6f788b668e53ab7de3e9506a1083c21f4a681a89bb2e7171e4612c1b02a7985a1336371d10f24d8039f5ddd8fc34a2bac46ad4a5714f44,)"
       ]
      }
     ],
     "prompt_number": 128
    },
    {
     "cell_type": "code",
     "collapsed": false,
     "input": [
      "virus_progeny.is_reassorted()"
     ],
     "language": "python",
     "metadata": {},
     "outputs": [
      {
       "metadata": {},
       "output_type": "pyout",
       "prompt_number": 134,
       "text": [
        "False"
       ]
      }
     ],
     "prompt_number": 134
    },
    {
     "cell_type": "code",
     "collapsed": false,
     "input": [
      "virus_progeny2 = virus_progeny.replicate(current_time=3)\n",
      "virus_progeny2"
     ],
     "language": "python",
     "metadata": {},
     "outputs": [
      {
       "metadata": {},
       "output_type": "pyout",
       "prompt_number": 130,
       "text": [
        "1aacc84e4a43aa6d280fef513bf8bc4c60363ebf2d6fafc9da9a2567b237838519c7380939e7c2f1f6f97794b0224d93c7108400befbf2c747ee1ae22c1d9773"
       ]
      }
     ],
     "prompt_number": 130
    },
    {
     "cell_type": "code",
     "collapsed": false,
     "input": [
      "virus_progeny2.mutations()"
     ],
     "language": "python",
     "metadata": {},
     "outputs": [
      {
       "output_type": "stream",
       "stream": "stdout",
       "text": [
        "{67: 'G'}\n",
        "{3: 'T', 51: 'G', 75: 'G', 4: 'G', 72: 'A', 105: 'C', 107: 'T', 43: 'A', 77: 'T', 46: 'T', 111: 'A', 81: 'A', 82: 'A', 115: 'C', 21: 'A', 54: 'A', 120: 'G', 58: 'C', 79: 'C', 62: 'A', 63: 'T'}\n"
       ]
      }
     ],
     "prompt_number": 131
    },
    {
     "cell_type": "code",
     "collapsed": false,
     "input": [],
     "language": "python",
     "metadata": {},
     "outputs": [],
     "prompt_number": 131
    }
   ],
   "metadata": {}
  }
 ]
}